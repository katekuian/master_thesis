{
  "cells": [
    {
      "cell_type": "code",
      "execution_count": null,
      "metadata": {
        "id": "VOA_0bnoEMtO",
        "outputId": "2086f0a2-7f2a-4d38-9a86-b32062c4f819"
      },
      "outputs": [
        {
          "name": "stderr",
          "output_type": "stream",
          "text": [
            "c:\\Users\\kuian\\.conda\\envs\\master\\lib\\site-packages\\tqdm\\auto.py:21: TqdmWarning: IProgress not found. Please update jupyter and ipywidgets. See https://ipywidgets.readthedocs.io/en/stable/user_install.html\n",
            "  from .autonotebook import tqdm as notebook_tqdm\n",
            "No config specified, defaulting to: scene_parse_150/scene_parsing\n",
            "Found cached dataset scene_parse_150 (C:/Users/kuian/.cache/huggingface/datasets/scene_parse_150/scene_parsing/1.0.0/d998c54e1b5c5bad12b4d2ec7e1a5f74eee4c153bc1b089a0001677ae9b3fd75)\n"
          ]
        }
      ],
      "source": [
        "from datasets import load_dataset\n",
        "\n",
        "ds = load_dataset(\"scene_parse_150\", split=\"train[:50]\")"
      ]
    },
    {
      "cell_type": "code",
      "execution_count": null,
      "metadata": {
        "id": "4esxCJnzEMtV",
        "outputId": "81700214-fbd0-40ca-ba77-2b3a10d2d84c"
      },
      "outputs": [
        {
          "data": {
            "text/plain": [
              "Dataset({\n",
              "    features: ['image', 'annotation', 'scene_category'],\n",
              "    num_rows: 50\n",
              "})"
            ]
          },
          "execution_count": 2,
          "metadata": {},
          "output_type": "execute_result"
        }
      ],
      "source": [
        "ds"
      ]
    },
    {
      "cell_type": "code",
      "execution_count": null,
      "metadata": {
        "id": "JIoiYMo-EMtV"
      },
      "outputs": [],
      "source": [
        "ds = ds.train_test_split(test_size=0.2)\n",
        "train_ds = ds[\"train\"]\n",
        "test_ds = ds[\"test\"]"
      ]
    },
    {
      "cell_type": "code",
      "execution_count": null,
      "metadata": {
        "id": "_-S0SOxSEMtW",
        "outputId": "adff7939-6b99-4b49-e141-72b39ec3b998"
      },
      "outputs": [
        {
          "data": {
            "text/plain": [
              "DatasetDict({\n",
              "    train: Dataset({\n",
              "        features: ['image', 'annotation', 'scene_category'],\n",
              "        num_rows: 40\n",
              "    })\n",
              "    test: Dataset({\n",
              "        features: ['image', 'annotation', 'scene_category'],\n",
              "        num_rows: 10\n",
              "    })\n",
              "})"
            ]
          },
          "execution_count": 4,
          "metadata": {},
          "output_type": "execute_result"
        }
      ],
      "source": [
        "ds"
      ]
    },
    {
      "cell_type": "code",
      "execution_count": null,
      "metadata": {
        "id": "gF8apzKEEMtX",
        "outputId": "6869b9b3-8ece-4a79-aac1-7e7c02525c28"
      },
      "outputs": [
        {
          "data": {
            "text/plain": [
              "{'image': <PIL.JpegImagePlugin.JpegImageFile image mode=RGB size=711x512>,\n",
              " 'annotation': <PIL.PngImagePlugin.PngImageFile image mode=L size=711x512>,\n",
              " 'scene_category': 0}"
            ]
          },
          "execution_count": 5,
          "metadata": {},
          "output_type": "execute_result"
        }
      ],
      "source": [
        "train_ds[0]"
      ]
    },
    {
      "cell_type": "code",
      "execution_count": null,
      "metadata": {
        "id": "BG7cO_woEMtX"
      },
      "outputs": [],
      "source": [
        "import json\n",
        "from huggingface_hub import cached_download, hf_hub_download\n",
        "\n",
        "repo_id = \"huggingface/label-files\"\n",
        "filename = \"ade20k-id2label.json\"\n",
        "id2label = json.load(open(hf_hub_download(repo_id, filename, repo_type=\"dataset\"), \"r\"))\n",
        "id2label = {int(k): v for k, v in id2label.items()}\n",
        "label2id = {v: k for k, v in id2label.items()}\n",
        "num_labels = len(id2label)"
      ]
    },
    {
      "cell_type": "code",
      "execution_count": null,
      "metadata": {
        "id": "Gybdr-OAEMtY",
        "outputId": "544d0aed-cac6-4d5c-eb7c-724b4c21d3f0"
      },
      "outputs": [
        {
          "name": "stderr",
          "output_type": "stream",
          "text": [
            "Could not find image processor class in the image processor config or the model config. Loading based on pattern matching with the model's feature extractor configuration.\n",
            "c:\\Users\\kuian\\.conda\\envs\\master\\lib\\site-packages\\transformers\\models\\segformer\\image_processing_segformer.py:99: FutureWarning: The `reduce_labels` parameter is deprecated and will be removed in a future version. Please use `do_reduce_labels` instead.\n",
            "  warnings.warn(\n"
          ]
        }
      ],
      "source": [
        "from transformers import AutoImageProcessor\n",
        "\n",
        "checkpoint = \"nvidia/mit-b0\"\n",
        "image_processor = AutoImageProcessor.from_pretrained(checkpoint, reduce_labels=True)"
      ]
    },
    {
      "cell_type": "code",
      "execution_count": null,
      "metadata": {
        "id": "13jCXcRhEMtY",
        "outputId": "929b65ee-1028-4d9b-969a-0af61ba84258"
      },
      "outputs": [
        {
          "name": "stderr",
          "output_type": "stream",
          "text": [
            "c:\\Users\\kuian\\.conda\\envs\\master\\lib\\site-packages\\torchvision\\io\\image.py:13: UserWarning: Failed to load image Python extension: [WinError 127] The specified procedure could not be found\n",
            "  warn(f\"Failed to load image Python extension: {e}\")\n"
          ]
        }
      ],
      "source": [
        "import torchvision.transforms as transforms\n",
        "\n",
        "jitter = transforms.ColorJitter(brightness=0.25, contrast=0.25, saturation=0.25, hue=0.1)"
      ]
    },
    {
      "cell_type": "code",
      "execution_count": null,
      "metadata": {
        "id": "zooKSJs9EMtZ"
      },
      "outputs": [],
      "source": [
        "def train_transforms(example_batch):\n",
        "    images = [jitter(x) for x in example_batch[\"image\"]]\n",
        "    labels = [x for x in example_batch[\"annotation\"]]\n",
        "    inputs = image_processor(images, labels)\n",
        "    return inputs\n",
        "\n",
        "\n",
        "def val_transforms(example_batch):\n",
        "    images = [x for x in example_batch[\"image\"]]\n",
        "    labels = [x for x in example_batch[\"annotation\"]]\n",
        "    inputs = image_processor(images, labels)\n",
        "    return inputs"
      ]
    },
    {
      "cell_type": "code",
      "execution_count": null,
      "metadata": {
        "id": "FHB_jETIEMta"
      },
      "outputs": [],
      "source": [
        "train_ds.set_transform(train_transforms)\n",
        "test_ds.set_transform(val_transforms)"
      ]
    },
    {
      "cell_type": "code",
      "execution_count": null,
      "metadata": {
        "id": "z6EZqaqPEMtb"
      },
      "outputs": [],
      "source": [
        "import evaluate\n",
        "\n",
        "metric = evaluate.load(\"mean_iou\")"
      ]
    },
    {
      "cell_type": "code",
      "execution_count": null,
      "metadata": {
        "id": "TzisUEHsEMtb"
      },
      "outputs": [],
      "source": [
        "import torch\n",
        "import numpy as np\n",
        "\n",
        "def compute_metrics(eval_pred):\n",
        "    with torch.no_grad():\n",
        "        logits, labels = eval_pred\n",
        "        logits_tensor = torch.from_numpy(logits)\n",
        "        logits_tensor = torch.nn.functional.interpolate(\n",
        "            logits_tensor,\n",
        "            size=labels.shape[-2:],\n",
        "            mode=\"bilinear\",\n",
        "            align_corners=False,\n",
        "        ).argmax(dim=1)\n",
        "\n",
        "        pred_labels = logits_tensor.detach().cpu().numpy()\n",
        "        metrics = metric.compute(\n",
        "            predictions=pred_labels,\n",
        "            references=labels,\n",
        "            num_labels=num_labels,\n",
        "            ignore_index=255,\n",
        "            reduce_labels=False,\n",
        "        )\n",
        "        for key, value in metrics.items():\n",
        "            if type(value) is np.ndarray:\n",
        "                metrics[key] = value.tolist()\n",
        "        return metrics"
      ]
    },
    {
      "cell_type": "code",
      "execution_count": null,
      "metadata": {
        "id": "440mdDepEMtc",
        "outputId": "de6b8d54-e6f2-40dc-8d99-9cffc2458d47"
      },
      "outputs": [
        {
          "name": "stderr",
          "output_type": "stream",
          "text": [
            "Some weights of the model checkpoint at nvidia/mit-b0 were not used when initializing SegformerForSemanticSegmentation: ['classifier.weight', 'classifier.bias']\n",
            "- This IS expected if you are initializing SegformerForSemanticSegmentation from the checkpoint of a model trained on another task or with another architecture (e.g. initializing a BertForSequenceClassification model from a BertForPreTraining model).\n",
            "- This IS NOT expected if you are initializing SegformerForSemanticSegmentation from the checkpoint of a model that you expect to be exactly identical (initializing a BertForSequenceClassification model from a BertForSequenceClassification model).\n",
            "Some weights of SegformerForSemanticSegmentation were not initialized from the model checkpoint at nvidia/mit-b0 and are newly initialized: ['decode_head.linear_c.0.proj.bias', 'decode_head.linear_c.1.proj.bias', 'decode_head.linear_c.2.proj.weight', 'decode_head.batch_norm.running_mean', 'decode_head.batch_norm.num_batches_tracked', 'decode_head.batch_norm.running_var', 'decode_head.classifier.weight', 'decode_head.linear_c.1.proj.weight', 'decode_head.classifier.bias', 'decode_head.linear_fuse.weight', 'decode_head.linear_c.3.proj.bias', 'decode_head.batch_norm.weight', 'decode_head.linear_c.2.proj.bias', 'decode_head.linear_c.3.proj.weight', 'decode_head.linear_c.0.proj.weight', 'decode_head.batch_norm.bias']\n",
            "You should probably TRAIN this model on a down-stream task to be able to use it for predictions and inference.\n"
          ]
        }
      ],
      "source": [
        "from transformers import AutoModelForSemanticSegmentation, TrainingArguments, Trainer\n",
        "\n",
        "model = AutoModelForSemanticSegmentation.from_pretrained(checkpoint, id2label=id2label, label2id=label2id)"
      ]
    },
    {
      "cell_type": "code",
      "execution_count": null,
      "metadata": {
        "id": "86B8ggRGEMtc",
        "outputId": "60922346-d5d3-4283-c3f4-9ac11987b821"
      },
      "outputs": [
        {
          "name": "stderr",
          "output_type": "stream",
          "text": [
            "c:\\Users\\kuian\\.conda\\envs\\master\\lib\\site-packages\\transformers\\optimization.py:411: FutureWarning: This implementation of AdamW is deprecated and will be removed in a future version. Use the PyTorch implementation torch.optim.AdamW instead, or set `no_deprecation_warning=True` to disable this warning\n",
            "  warnings.warn(\n",
            "  0%|          | 1/1000 [00:05<1:27:30,  5.26s/it]"
          ]
        },
        {
          "name": "stdout",
          "output_type": "stream",
          "text": [
            "{'loss': 4.9914, 'learning_rate': 5.994e-05, 'epoch': 0.05}\n"
          ]
        },
        {
          "name": "stderr",
          "output_type": "stream",
          "text": [
            "  0%|          | 2/1000 [00:10<1:25:39,  5.15s/it]"
          ]
        },
        {
          "name": "stdout",
          "output_type": "stream",
          "text": [
            "{'loss': 5.078, 'learning_rate': 5.988e-05, 'epoch': 0.1}\n"
          ]
        },
        {
          "name": "stderr",
          "output_type": "stream",
          "text": [
            "  0%|          | 3/1000 [00:15<1:26:33,  5.21s/it]"
          ]
        },
        {
          "name": "stdout",
          "output_type": "stream",
          "text": [
            "{'loss': 4.9981, 'learning_rate': 5.982e-05, 'epoch': 0.15}\n"
          ]
        },
        {
          "name": "stderr",
          "output_type": "stream",
          "text": [
            "  0%|          | 4/1000 [00:20<1:25:39,  5.16s/it]"
          ]
        },
        {
          "name": "stdout",
          "output_type": "stream",
          "text": [
            "{'loss': 5.0667, 'learning_rate': 5.9760000000000004e-05, 'epoch': 0.2}\n"
          ]
        },
        {
          "name": "stderr",
          "output_type": "stream",
          "text": [
            "  0%|          | 5/1000 [00:25<1:24:38,  5.10s/it]"
          ]
        },
        {
          "name": "stdout",
          "output_type": "stream",
          "text": [
            "{'loss': 5.0084, 'learning_rate': 5.97e-05, 'epoch': 0.25}\n"
          ]
        },
        {
          "name": "stderr",
          "output_type": "stream",
          "text": [
            "  1%|          | 6/1000 [00:30<1:24:23,  5.09s/it]"
          ]
        },
        {
          "name": "stdout",
          "output_type": "stream",
          "text": [
            "{'loss': 4.9712, 'learning_rate': 5.964e-05, 'epoch': 0.3}\n"
          ]
        },
        {
          "name": "stderr",
          "output_type": "stream",
          "text": [
            "  1%|          | 7/1000 [00:35<1:24:40,  5.12s/it]"
          ]
        },
        {
          "name": "stdout",
          "output_type": "stream",
          "text": [
            "{'loss': 4.9662, 'learning_rate': 5.958e-05, 'epoch': 0.35}\n"
          ]
        },
        {
          "name": "stderr",
          "output_type": "stream",
          "text": [
            "  1%|          | 8/1000 [00:41<1:24:52,  5.13s/it]"
          ]
        },
        {
          "name": "stdout",
          "output_type": "stream",
          "text": [
            "{'loss': 4.8998, 'learning_rate': 5.952e-05, 'epoch': 0.4}\n"
          ]
        },
        {
          "name": "stderr",
          "output_type": "stream",
          "text": [
            "  1%|          | 9/1000 [00:46<1:24:37,  5.12s/it]"
          ]
        },
        {
          "name": "stdout",
          "output_type": "stream",
          "text": [
            "{'loss': 4.9836, 'learning_rate': 5.946e-05, 'epoch': 0.45}\n"
          ]
        },
        {
          "name": "stderr",
          "output_type": "stream",
          "text": [
            "  1%|          | 10/1000 [00:51<1:24:40,  5.13s/it]"
          ]
        },
        {
          "name": "stdout",
          "output_type": "stream",
          "text": [
            "{'loss': 4.887, 'learning_rate': 5.94e-05, 'epoch': 0.5}\n"
          ]
        },
        {
          "name": "stderr",
          "output_type": "stream",
          "text": [
            "  1%|          | 11/1000 [00:56<1:24:10,  5.11s/it]"
          ]
        },
        {
          "name": "stdout",
          "output_type": "stream",
          "text": [
            "{'loss': 5.0227, 'learning_rate': 5.934e-05, 'epoch': 0.55}\n"
          ]
        },
        {
          "name": "stderr",
          "output_type": "stream",
          "text": [
            "  1%|          | 12/1000 [01:01<1:24:06,  5.11s/it]"
          ]
        },
        {
          "name": "stdout",
          "output_type": "stream",
          "text": [
            "{'loss': 4.8864, 'learning_rate': 5.928e-05, 'epoch': 0.6}\n"
          ]
        },
        {
          "name": "stderr",
          "output_type": "stream",
          "text": [
            "  1%|▏         | 13/1000 [01:06<1:24:16,  5.12s/it]"
          ]
        },
        {
          "name": "stdout",
          "output_type": "stream",
          "text": [
            "{'loss': 4.8123, 'learning_rate': 5.922e-05, 'epoch': 0.65}\n"
          ]
        },
        {
          "name": "stderr",
          "output_type": "stream",
          "text": [
            "  1%|▏         | 14/1000 [01:11<1:24:23,  5.14s/it]"
          ]
        },
        {
          "name": "stdout",
          "output_type": "stream",
          "text": [
            "{'loss': 4.9038, 'learning_rate': 5.916e-05, 'epoch': 0.7}\n"
          ]
        },
        {
          "name": "stderr",
          "output_type": "stream",
          "text": [
            "  2%|▏         | 15/1000 [01:16<1:23:56,  5.11s/it]"
          ]
        },
        {
          "name": "stdout",
          "output_type": "stream",
          "text": [
            "{'loss': 4.8473, 'learning_rate': 5.91e-05, 'epoch': 0.75}\n"
          ]
        },
        {
          "name": "stderr",
          "output_type": "stream",
          "text": [
            "  2%|▏         | 16/1000 [01:21<1:23:33,  5.10s/it]"
          ]
        },
        {
          "name": "stdout",
          "output_type": "stream",
          "text": [
            "{'loss': 4.8834, 'learning_rate': 5.9040000000000004e-05, 'epoch': 0.8}\n"
          ]
        },
        {
          "name": "stderr",
          "output_type": "stream",
          "text": [
            "  2%|▏         | 17/1000 [01:27<1:23:36,  5.10s/it]"
          ]
        },
        {
          "name": "stdout",
          "output_type": "stream",
          "text": [
            "{'loss': 4.9038, 'learning_rate': 5.898e-05, 'epoch': 0.85}\n"
          ]
        },
        {
          "name": "stderr",
          "output_type": "stream",
          "text": [
            "  2%|▏         | 18/1000 [01:32<1:22:54,  5.07s/it]"
          ]
        },
        {
          "name": "stdout",
          "output_type": "stream",
          "text": [
            "{'loss': 4.7997, 'learning_rate': 5.892e-05, 'epoch': 0.9}\n"
          ]
        },
        {
          "name": "stderr",
          "output_type": "stream",
          "text": [
            "  2%|▏         | 19/1000 [01:37<1:22:42,  5.06s/it]"
          ]
        },
        {
          "name": "stdout",
          "output_type": "stream",
          "text": [
            "{'loss': 4.7692, 'learning_rate': 5.886e-05, 'epoch': 0.95}\n"
          ]
        },
        {
          "name": "stderr",
          "output_type": "stream",
          "text": [
            "  2%|▏         | 20/1000 [01:42<1:22:00,  5.02s/it]"
          ]
        },
        {
          "name": "stdout",
          "output_type": "stream",
          "text": [
            "{'loss': 4.7753, 'learning_rate': 5.88e-05, 'epoch': 1.0}\n"
          ]
        },
        {
          "name": "stderr",
          "output_type": "stream",
          "text": [
            "C:\\Users\\kuian\\.cache\\huggingface\\modules\\evaluate_modules\\metrics\\evaluate-metric--mean_iou\\08bc20f4f895f3caf75fb9e3fada1404bded3c3265243d05327cbb3b9326ffe9\\mean_iou.py:259: RuntimeWarning: invalid value encountered in divide\n",
            "  iou = total_area_intersect / total_area_union\n",
            "C:\\Users\\kuian\\.cache\\huggingface\\modules\\evaluate_modules\\metrics\\evaluate-metric--mean_iou\\08bc20f4f895f3caf75fb9e3fada1404bded3c3265243d05327cbb3b9326ffe9\\mean_iou.py:260: RuntimeWarning: invalid value encountered in divide\n",
            "  acc = total_area_intersect / total_area_label\n",
            "                                                   \n",
            "  2%|▏         | 20/1000 [02:11<1:22:00,  5.02s/it]"
          ]
        },
        {
          "name": "stdout",
          "output_type": "stream",
          "text": [
            "{'eval_loss': 4.867205619812012, 'eval_mean_iou': 0.009604468516374504, 'eval_mean_accuracy': 0.06039443048129839, 'eval_overall_accuracy': 0.20877651049707946, 'eval_per_category_iou': [0.25844682675056785, nan, nan, 0.23581189873511, 0.0, 0.10911815180368141, nan, 0.0, 0.03066408053939226, 0.0, 0.0072467321062592545, nan, 0.0, nan, 0.030550617190553644, 0.0, nan, 0.0036693608370109584, 0.04069029850746269, 0.0, 0.0, 0.0, 0.019088344207370832, 0.0, 0.0, 0.0, 0.0, 0.08621474924233344, 0.0, 0.0, 0.0, 0.0, 0.0, 0.0, 0.0, 0.0, nan, 0.05801694628470279, 0.0, nan, 0.0, 0.0, 0.0, 0.00047558000082709563, nan, 0.0, 0.0, 0.11976214348823126, 0.0, 0.0, 0.0, nan, nan, 0.0, nan, nan, nan, nan, 0.0, 0.0, 0.0, 0.0, nan, 0.0, nan, 0.06580499744668862, 0.0, 0.0, 0.0, 0.0, 0.0, nan, 0.0, 0.0, nan, 0.0, 0.0, nan, nan, nan, 0.0, 0.0, 0.0, 0.0, nan, nan, 0.0, 0.0, 0.0, 0.0, 0.0, nan, 0.0, nan, 0.0, nan, 0.0, nan, 0.0, 0.0, nan, 0.0, 0.0, 0.0, 0.0, 0.0, 0.0, 0.0, nan, nan, 0.0, 0.0, nan, nan, 0.0, 0.0, 0.0, nan, 0.0, 0.0, 0.0, 0.0, 0.0, 0.0, 0.0, 0.0, nan, 0.0, 0.0, 0.0, 0.0, 0.0, nan, 0.0, 0.0, 0.0, 0.0, 0.0, 0.0, 0.0, 0.0, 0.0, 0.0, 0.0, nan, 0.000535278177377806, nan, nan, 0.0, 0.0], 'eval_per_category_accuracy': [0.3295397453390893, nan, nan, 0.23945300808141276, 0.0, 0.11246537644835311, nan, nan, 0.09878600333253987, nan, 0.007291491943838739, nan, 0.0, nan, 0.03379515551629551, 0.0, nan, 0.043478260869565216, 0.04667037575965077, 0.0, nan, nan, 0.08123827392120075, nan, 0.0, nan, nan, 0.24831585903518202, nan, nan, nan, 0.0, 0.0, nan, nan, nan, nan, 0.23567198900285502, nan, nan, nan, 0.0, 0.0, 0.011454183266932271, nan, nan, nan, 0.33044812095978965, nan, nan, nan, nan, nan, nan, nan, nan, nan, nan, 0.0, nan, nan, nan, nan, 0.0, nan, 0.09492722330886276, nan, nan, nan, nan, 0.0, nan, nan, nan, nan, nan, nan, nan, nan, nan, nan, 0.0, 0.0, nan, nan, nan, nan, 0.0, nan, 0.0, nan, nan, nan, nan, nan, nan, 0.0, nan, 0.0, nan, nan, nan, nan, nan, 0.0, nan, nan, nan, nan, nan, nan, nan, nan, nan, nan, nan, nan, nan, nan, nan, nan, nan, nan, nan, nan, 0.0, nan, nan, nan, nan, nan, nan, nan, nan, 0.0, nan, nan, 0.0, 0.0, nan, nan, nan, nan, nan, nan, 0.5022421524663677, nan, nan, 0.0, 0.0], 'eval_runtime': 29.6055, 'eval_samples_per_second': 0.338, 'eval_steps_per_second': 0.169, 'epoch': 1.0}\n"
          ]
        },
        {
          "name": "stderr",
          "output_type": "stream",
          "text": [
            "  2%|▏         | 21/1000 [02:16<3:48:18, 13.99s/it]"
          ]
        },
        {
          "name": "stdout",
          "output_type": "stream",
          "text": [
            "{'loss': 4.6336, 'learning_rate': 5.8740000000000003e-05, 'epoch': 1.05}\n"
          ]
        },
        {
          "name": "stderr",
          "output_type": "stream",
          "text": [
            "  2%|▏         | 22/1000 [02:22<3:04:54, 11.34s/it]"
          ]
        },
        {
          "name": "stdout",
          "output_type": "stream",
          "text": [
            "{'loss': 4.6999, 'learning_rate': 5.868e-05, 'epoch': 1.1}\n"
          ]
        },
        {
          "name": "stderr",
          "output_type": "stream",
          "text": [
            "  2%|▏         | 23/1000 [02:27<2:34:51,  9.51s/it]"
          ]
        },
        {
          "name": "stdout",
          "output_type": "stream",
          "text": [
            "{'loss': 4.6546, 'learning_rate': 5.862e-05, 'epoch': 1.15}\n"
          ]
        },
        {
          "name": "stderr",
          "output_type": "stream",
          "text": [
            "  2%|▏         | 24/1000 [02:32<2:13:46,  8.22s/it]"
          ]
        },
        {
          "name": "stdout",
          "output_type": "stream",
          "text": [
            "{'loss': 4.7804, 'learning_rate': 5.856e-05, 'epoch': 1.2}\n"
          ]
        },
        {
          "name": "stderr",
          "output_type": "stream",
          "text": [
            "  2%|▎         | 25/1000 [02:37<1:58:26,  7.29s/it]"
          ]
        },
        {
          "name": "stdout",
          "output_type": "stream",
          "text": [
            "{'loss': 4.6731, 'learning_rate': 5.85e-05, 'epoch': 1.25}\n"
          ]
        },
        {
          "name": "stderr",
          "output_type": "stream",
          "text": [
            "  3%|▎         | 26/1000 [02:42<1:47:45,  6.64s/it]"
          ]
        },
        {
          "name": "stdout",
          "output_type": "stream",
          "text": [
            "{'loss': 4.6171, 'learning_rate': 5.844e-05, 'epoch': 1.3}\n"
          ]
        },
        {
          "name": "stderr",
          "output_type": "stream",
          "text": [
            "  3%|▎         | 27/1000 [02:47<1:40:17,  6.18s/it]"
          ]
        },
        {
          "name": "stdout",
          "output_type": "stream",
          "text": [
            "{'loss': 4.5819, 'learning_rate': 5.838e-05, 'epoch': 1.35}\n"
          ]
        },
        {
          "name": "stderr",
          "output_type": "stream",
          "text": [
            "  3%|▎         | 28/1000 [02:53<1:34:47,  5.85s/it]"
          ]
        },
        {
          "name": "stdout",
          "output_type": "stream",
          "text": [
            "{'loss': 4.5914, 'learning_rate': 5.832e-05, 'epoch': 1.4}\n"
          ]
        },
        {
          "name": "stderr",
          "output_type": "stream",
          "text": [
            "  3%|▎         | 29/1000 [02:58<1:31:21,  5.65s/it]"
          ]
        },
        {
          "name": "stdout",
          "output_type": "stream",
          "text": [
            "{'loss': 4.5686, 'learning_rate': 5.826e-05, 'epoch': 1.45}\n"
          ]
        },
        {
          "name": "stderr",
          "output_type": "stream",
          "text": [
            "  3%|▎         | 30/1000 [03:03<1:28:48,  5.49s/it]"
          ]
        },
        {
          "name": "stdout",
          "output_type": "stream",
          "text": [
            "{'loss': 4.5287, 'learning_rate': 5.82e-05, 'epoch': 1.5}\n"
          ]
        },
        {
          "name": "stderr",
          "output_type": "stream",
          "text": [
            "  3%|▎         | 31/1000 [03:08<1:26:25,  5.35s/it]"
          ]
        },
        {
          "name": "stdout",
          "output_type": "stream",
          "text": [
            "{'loss': 4.521, 'learning_rate': 5.814e-05, 'epoch': 1.55}\n"
          ]
        },
        {
          "name": "stderr",
          "output_type": "stream",
          "text": [
            "  3%|▎         | 32/1000 [03:13<1:24:39,  5.25s/it]"
          ]
        },
        {
          "name": "stdout",
          "output_type": "stream",
          "text": [
            "{'loss': 4.5876, 'learning_rate': 5.808e-05, 'epoch': 1.6}\n"
          ]
        },
        {
          "name": "stderr",
          "output_type": "stream",
          "text": [
            "  3%|▎         | 33/1000 [03:18<1:23:17,  5.17s/it]"
          ]
        },
        {
          "name": "stdout",
          "output_type": "stream",
          "text": [
            "{'loss': 4.7769, 'learning_rate': 5.802e-05, 'epoch': 1.65}\n"
          ]
        },
        {
          "name": "stderr",
          "output_type": "stream",
          "text": [
            "  3%|▎         | 34/1000 [03:23<1:22:37,  5.13s/it]"
          ]
        },
        {
          "name": "stdout",
          "output_type": "stream",
          "text": [
            "{'loss': 4.4719, 'learning_rate': 5.796e-05, 'epoch': 1.7}\n"
          ]
        },
        {
          "name": "stderr",
          "output_type": "stream",
          "text": [
            "  4%|▎         | 35/1000 [03:28<1:22:20,  5.12s/it]"
          ]
        },
        {
          "name": "stdout",
          "output_type": "stream",
          "text": [
            "{'loss': 4.5165, 'learning_rate': 5.79e-05, 'epoch': 1.75}\n"
          ]
        },
        {
          "name": "stderr",
          "output_type": "stream",
          "text": [
            "  4%|▎         | 36/1000 [03:33<1:22:38,  5.14s/it]"
          ]
        },
        {
          "name": "stdout",
          "output_type": "stream",
          "text": [
            "{'loss': 4.3529, 'learning_rate': 5.784e-05, 'epoch': 1.8}\n"
          ]
        },
        {
          "name": "stderr",
          "output_type": "stream",
          "text": [
            "  4%|▎         | 37/1000 [03:39<1:27:34,  5.46s/it]"
          ]
        },
        {
          "name": "stdout",
          "output_type": "stream",
          "text": [
            "{'loss': 4.4025, 'learning_rate': 5.778e-05, 'epoch': 1.85}\n"
          ]
        },
        {
          "name": "stderr",
          "output_type": "stream",
          "text": [
            "  4%|▍         | 38/1000 [03:45<1:29:26,  5.58s/it]"
          ]
        },
        {
          "name": "stdout",
          "output_type": "stream",
          "text": [
            "{'loss': 4.4048, 'learning_rate': 5.7719999999999996e-05, 'epoch': 1.9}\n"
          ]
        },
        {
          "name": "stderr",
          "output_type": "stream",
          "text": [
            "  4%|▍         | 39/1000 [03:51<1:32:24,  5.77s/it]"
          ]
        },
        {
          "name": "stdout",
          "output_type": "stream",
          "text": [
            "{'loss': 4.2575, 'learning_rate': 5.766e-05, 'epoch': 1.95}\n"
          ]
        },
        {
          "name": "stderr",
          "output_type": "stream",
          "text": [
            "  4%|▍         | 40/1000 [03:58<1:35:53,  5.99s/it]"
          ]
        },
        {
          "name": "stdout",
          "output_type": "stream",
          "text": [
            "{'loss': 4.3924, 'learning_rate': 5.76e-05, 'epoch': 2.0}\n"
          ]
        },
        {
          "name": "stderr",
          "output_type": "stream",
          "text": [
            "C:\\Users\\kuian\\.cache\\huggingface\\modules\\evaluate_modules\\metrics\\evaluate-metric--mean_iou\\08bc20f4f895f3caf75fb9e3fada1404bded3c3265243d05327cbb3b9326ffe9\\mean_iou.py:259: RuntimeWarning: invalid value encountered in divide\n",
            "  iou = total_area_intersect / total_area_union\n",
            "C:\\Users\\kuian\\.cache\\huggingface\\modules\\evaluate_modules\\metrics\\evaluate-metric--mean_iou\\08bc20f4f895f3caf75fb9e3fada1404bded3c3265243d05327cbb3b9326ffe9\\mean_iou.py:260: RuntimeWarning: invalid value encountered in divide\n",
            "  acc = total_area_intersect / total_area_label\n",
            "                                                   \n",
            "  4%|▍         | 40/1000 [04:39<1:35:53,  5.99s/it]"
          ]
        },
        {
          "name": "stdout",
          "output_type": "stream",
          "text": [
            "{'eval_loss': 4.4579315185546875, 'eval_mean_iou': 0.030398238361954228, 'eval_mean_accuracy': 0.10177294490156516, 'eval_overall_accuracy': 0.41541104686245667, 'eval_per_category_iou': [0.4286126928021834, nan, nan, 0.5226212146284958, 0.0, 0.2094628763218322, nan, nan, 0.061358739520901, nan, 0.15181852510200133, nan, 0.0, nan, 0.044431462986132604, 0.0, nan, 0.00026268552164966506, 0.00883301161227728, 0.0, nan, 0.0, 0.0, nan, 0.0, nan, 0.0, 0.12170051635111877, 0.0, nan, nan, 0.0, 0.0, nan, nan, nan, nan, 0.08726314363990541, nan, nan, nan, 0.0, 0.0, 0.0, nan, 0.0, 0.0, 0.12744322599672897, nan, 0.0, nan, nan, nan, nan, 0.0, nan, nan, nan, 0.0, nan, nan, 0.0, nan, 0.0, nan, 0.1814149666441071, 0.0, nan, 0.0, nan, 0.0, nan, 0.0, 0.0, nan, nan, nan, nan, nan, nan, nan, 0.0, 0.0, nan, nan, nan, nan, 0.0, 0.0, 0.0, nan, nan, nan, nan, 0.0, nan, 0.0, nan, 0.0, nan, nan, 0.0, nan, 0.0, 0.0, nan, 0.0, nan, nan, nan, nan, nan, nan, nan, 0.0, 0.0, nan, nan, nan, nan, nan, 0.0, 0.0, nan, nan, 0.0, nan, nan, nan, nan, 0.0, nan, nan, nan, 0.0, nan, nan, 0.0, 0.0, 0.0, nan, 0.0, nan, nan, nan, 0.00026419403773713545, nan, nan, 0.0, 0.0], 'eval_per_category_accuracy': [0.6117336719045665, nan, nan, 0.6498840167614487, 0.0, 0.25103141147369507, nan, nan, 0.5745060699833373, nan, 0.16264269716135016, nan, 0.0, nan, 0.047384815658561535, 0.0, nan, 0.0011750881316098707, 0.009351194042626038, 0.0, nan, nan, 0.0, nan, 0.0, nan, nan, 0.34870348269502005, nan, nan, nan, 0.0, 0.0, nan, nan, nan, nan, 0.4428994395685735, nan, nan, nan, 0.0, 0.0, 0.0, nan, nan, nan, 0.5207899638435411, nan, nan, nan, nan, nan, nan, nan, nan, nan, nan, 0.0, nan, nan, nan, nan, 0.0, nan, 0.3813092183808774, nan, nan, nan, nan, 0.0, nan, nan, nan, nan, nan, nan, nan, nan, nan, nan, 0.0, 0.0, nan, nan, nan, nan, 0.0, nan, 0.0, nan, nan, nan, nan, nan, nan, 0.0, nan, 0.0, nan, nan, nan, nan, nan, 0.0, nan, nan, nan, nan, nan, nan, nan, nan, nan, nan, nan, nan, nan, nan, nan, nan, nan, nan, nan, nan, 0.0, nan, nan, nan, nan, nan, nan, nan, nan, 0.0, nan, nan, 0.0, 0.0, nan, nan, nan, nan, nan, nan, 0.06950672645739911, nan, nan, 0.0, 0.0], 'eval_runtime': 41.1565, 'eval_samples_per_second': 0.243, 'eval_steps_per_second': 0.121, 'epoch': 2.0}\n"
          ]
        },
        {
          "name": "stderr",
          "output_type": "stream",
          "text": [
            "  4%|▍         | 41/1000 [04:45<4:55:02, 18.46s/it]"
          ]
        },
        {
          "name": "stdout",
          "output_type": "stream",
          "text": [
            "{'loss': 4.381, 'learning_rate': 5.754e-05, 'epoch': 2.05}\n"
          ]
        },
        {
          "name": "stderr",
          "output_type": "stream",
          "text": [
            "  4%|▍         | 42/1000 [04:52<3:56:00, 14.78s/it]"
          ]
        },
        {
          "name": "stdout",
          "output_type": "stream",
          "text": [
            "{'loss': 4.2445, 'learning_rate': 5.748e-05, 'epoch': 2.1}\n"
          ]
        },
        {
          "name": "stderr",
          "output_type": "stream",
          "text": [
            "  4%|▍         | 43/1000 [04:58<3:15:09, 12.24s/it]"
          ]
        },
        {
          "name": "stdout",
          "output_type": "stream",
          "text": [
            "{'loss': 4.2336, 'learning_rate': 5.742e-05, 'epoch': 2.15}\n"
          ]
        },
        {
          "name": "stderr",
          "output_type": "stream",
          "text": [
            "  4%|▍         | 44/1000 [05:04<2:46:35, 10.46s/it]"
          ]
        },
        {
          "name": "stdout",
          "output_type": "stream",
          "text": [
            "{'loss': 4.2862, 'learning_rate': 5.736e-05, 'epoch': 2.2}\n"
          ]
        },
        {
          "name": "stderr",
          "output_type": "stream",
          "text": [
            "  4%|▍         | 45/1000 [05:11<2:26:34,  9.21s/it]"
          ]
        },
        {
          "name": "stdout",
          "output_type": "stream",
          "text": [
            "{'loss': 4.246, 'learning_rate': 5.73e-05, 'epoch': 2.25}\n"
          ]
        },
        {
          "name": "stderr",
          "output_type": "stream",
          "text": [
            "  5%|▍         | 46/1000 [05:17<2:13:28,  8.39s/it]"
          ]
        },
        {
          "name": "stdout",
          "output_type": "stream",
          "text": [
            "{'loss': 4.2877, 'learning_rate': 5.724e-05, 'epoch': 2.3}\n"
          ]
        },
        {
          "name": "stderr",
          "output_type": "stream",
          "text": [
            "  5%|▍         | 47/1000 [05:23<2:03:53,  7.80s/it]"
          ]
        },
        {
          "name": "stdout",
          "output_type": "stream",
          "text": [
            "{'loss': 4.0221, 'learning_rate': 5.718e-05, 'epoch': 2.35}\n"
          ]
        },
        {
          "name": "stderr",
          "output_type": "stream",
          "text": [
            "  5%|▍         | 48/1000 [05:30<1:56:40,  7.35s/it]"
          ]
        },
        {
          "name": "stdout",
          "output_type": "stream",
          "text": [
            "{'loss': 4.2412, 'learning_rate': 5.712e-05, 'epoch': 2.4}\n"
          ]
        },
        {
          "name": "stderr",
          "output_type": "stream",
          "text": [
            "  5%|▍         | 49/1000 [05:36<1:51:43,  7.05s/it]"
          ]
        },
        {
          "name": "stdout",
          "output_type": "stream",
          "text": [
            "{'loss': 4.2326, 'learning_rate': 5.706e-05, 'epoch': 2.45}\n"
          ]
        },
        {
          "name": "stderr",
          "output_type": "stream",
          "text": [
            "  5%|▌         | 50/1000 [05:43<1:48:35,  6.86s/it]"
          ]
        },
        {
          "name": "stdout",
          "output_type": "stream",
          "text": [
            "{'loss': 4.0798, 'learning_rate': 5.6999999999999996e-05, 'epoch': 2.5}\n"
          ]
        },
        {
          "name": "stderr",
          "output_type": "stream",
          "text": [
            "  5%|▌         | 51/1000 [05:49<1:45:28,  6.67s/it]"
          ]
        },
        {
          "name": "stdout",
          "output_type": "stream",
          "text": [
            "{'loss': 4.2719, 'learning_rate': 5.694e-05, 'epoch': 2.55}\n"
          ]
        },
        {
          "name": "stderr",
          "output_type": "stream",
          "text": [
            "  5%|▌         | 52/1000 [05:55<1:42:27,  6.48s/it]"
          ]
        },
        {
          "name": "stdout",
          "output_type": "stream",
          "text": [
            "{'loss': 4.351, 'learning_rate': 5.688e-05, 'epoch': 2.6}\n"
          ]
        },
        {
          "name": "stderr",
          "output_type": "stream",
          "text": [
            "  5%|▌         | 53/1000 [06:01<1:40:47,  6.39s/it]"
          ]
        },
        {
          "name": "stdout",
          "output_type": "stream",
          "text": [
            "{'loss': 4.0393, 'learning_rate': 5.682e-05, 'epoch': 2.65}\n"
          ]
        },
        {
          "name": "stderr",
          "output_type": "stream",
          "text": [
            "  5%|▌         | 54/1000 [06:07<1:38:48,  6.27s/it]"
          ]
        },
        {
          "name": "stdout",
          "output_type": "stream",
          "text": [
            "{'loss': 4.0669, 'learning_rate': 5.676e-05, 'epoch': 2.7}\n"
          ]
        },
        {
          "name": "stderr",
          "output_type": "stream",
          "text": [
            "  6%|▌         | 55/1000 [06:13<1:37:25,  6.19s/it]"
          ]
        },
        {
          "name": "stdout",
          "output_type": "stream",
          "text": [
            "{'loss': 4.0997, 'learning_rate': 5.6699999999999996e-05, 'epoch': 2.75}\n"
          ]
        },
        {
          "name": "stderr",
          "output_type": "stream",
          "text": [
            "  6%|▌         | 56/1000 [06:19<1:36:55,  6.16s/it]"
          ]
        },
        {
          "name": "stdout",
          "output_type": "stream",
          "text": [
            "{'loss': 4.0419, 'learning_rate': 5.664e-05, 'epoch': 2.8}\n"
          ]
        },
        {
          "name": "stderr",
          "output_type": "stream",
          "text": [
            "  6%|▌         | 57/1000 [06:25<1:37:02,  6.17s/it]"
          ]
        },
        {
          "name": "stdout",
          "output_type": "stream",
          "text": [
            "{'loss': 4.0113, 'learning_rate': 5.658e-05, 'epoch': 2.85}\n"
          ]
        },
        {
          "name": "stderr",
          "output_type": "stream",
          "text": [
            "  6%|▌         | 58/1000 [06:31<1:36:15,  6.13s/it]"
          ]
        },
        {
          "name": "stdout",
          "output_type": "stream",
          "text": [
            "{'loss': 4.4045, 'learning_rate': 5.652e-05, 'epoch': 2.9}\n"
          ]
        },
        {
          "name": "stderr",
          "output_type": "stream",
          "text": [
            "  6%|▌         | 59/1000 [06:37<1:36:18,  6.14s/it]"
          ]
        },
        {
          "name": "stdout",
          "output_type": "stream",
          "text": [
            "{'loss': 3.9361, 'learning_rate': 5.646e-05, 'epoch': 2.95}\n"
          ]
        },
        {
          "name": "stderr",
          "output_type": "stream",
          "text": [
            "  6%|▌         | 60/1000 [06:44<1:35:48,  6.12s/it]"
          ]
        },
        {
          "name": "stdout",
          "output_type": "stream",
          "text": [
            "{'loss': 3.9972, 'learning_rate': 5.6399999999999995e-05, 'epoch': 3.0}\n"
          ]
        },
        {
          "name": "stderr",
          "output_type": "stream",
          "text": [
            "C:\\Users\\kuian\\.cache\\huggingface\\modules\\evaluate_modules\\metrics\\evaluate-metric--mean_iou\\08bc20f4f895f3caf75fb9e3fada1404bded3c3265243d05327cbb3b9326ffe9\\mean_iou.py:259: RuntimeWarning: invalid value encountered in divide\n",
            "  iou = total_area_intersect / total_area_union\n",
            "C:\\Users\\kuian\\.cache\\huggingface\\modules\\evaluate_modules\\metrics\\evaluate-metric--mean_iou\\08bc20f4f895f3caf75fb9e3fada1404bded3c3265243d05327cbb3b9326ffe9\\mean_iou.py:260: RuntimeWarning: invalid value encountered in divide\n",
            "  acc = total_area_intersect / total_area_label\n",
            "                                                   \n",
            "  6%|▌         | 60/1000 [07:25<1:35:48,  6.12s/it]"
          ]
        },
        {
          "name": "stdout",
          "output_type": "stream",
          "text": [
            "{'eval_loss': 3.853498935699463, 'eval_mean_iou': 0.049616923028296574, 'eval_mean_accuracy': 0.11425589486347279, 'eval_overall_accuracy': 0.4645854624517601, 'eval_per_category_iou': [0.4576846721627076, nan, nan, 0.5183211159133984, 0.0, 0.3258617575497859, nan, nan, 0.06399517285440477, nan, 0.1692446813573842, nan, 0.0, nan, 0.10373911038329106, 0.0, nan, 0.0, 0.07371360034605477, 0.0, nan, nan, 0.0, nan, 0.0, nan, nan, 0.12002809283668867, 0.0, nan, nan, 0.0, 0.0, nan, nan, nan, nan, 0.0844196341849932, nan, nan, nan, 0.0, 0.0, 0.0, nan, nan, 0.0, 0.11877317298600856, nan, nan, nan, nan, nan, nan, nan, nan, nan, nan, 0.0, nan, nan, 0.0, nan, 0.0, nan, 0.246597448726925, nan, nan, 0.0, nan, 0.0, nan, nan, nan, nan, nan, nan, nan, nan, nan, nan, 0.0, 0.0, nan, nan, nan, nan, 0.0, nan, 0.0, nan, nan, nan, nan, nan, nan, 0.0, nan, 0.0, nan, nan, nan, nan, 0.0, 0.0, nan, nan, nan, nan, nan, nan, nan, nan, nan, nan, nan, nan, nan, nan, nan, nan, nan, nan, nan, nan, 0.0, nan, nan, nan, nan, nan, nan, nan, nan, 0.0, nan, nan, 0.0, 0.0, nan, nan, nan, 0.0, nan, nan, 0.0, nan, nan, 0.0, 0.0], 'eval_per_category_accuracy': [0.6295828493135762, nan, nan, 0.7735333732415445, 0.0, 0.4130584099877443, nan, nan, 0.5364794096643656, nan, 0.2105159297885566, nan, 0.0, nan, 0.12340415639964666, 0.0, nan, 0.0, 0.08022340152358128, 0.0, nan, nan, 0.0, nan, 0.0, nan, nan, 0.3270143114995019, nan, nan, nan, 0.0, 0.0, nan, nan, nan, nan, 0.4365549328539706, nan, nan, nan, 0.0, 0.0, 0.0, nan, nan, nan, 0.30623425002739124, nan, nan, nan, nan, nan, nan, nan, nan, nan, nan, 0.0, nan, nan, nan, nan, 0.0, nan, 0.7336347702390327, nan, nan, nan, nan, 0.0, nan, nan, nan, nan, nan, nan, nan, nan, nan, nan, 0.0, 0.0, nan, nan, nan, nan, 0.0, nan, 0.0, nan, nan, nan, nan, nan, nan, 0.0, nan, 0.0, nan, nan, nan, nan, nan, 0.0, nan, nan, nan, nan, nan, nan, nan, nan, nan, nan, nan, nan, nan, nan, nan, nan, nan, nan, nan, nan, 0.0, nan, nan, nan, nan, nan, nan, nan, nan, 0.0, nan, nan, 0.0, 0.0, nan, nan, nan, nan, nan, nan, 0.0, nan, nan, 0.0, 0.0], 'eval_runtime': 41.1163, 'eval_samples_per_second': 0.243, 'eval_steps_per_second': 0.122, 'epoch': 3.0}\n"
          ]
        },
        {
          "name": "stderr",
          "output_type": "stream",
          "text": [
            "  6%|▌         | 61/1000 [07:31<4:49:51, 18.52s/it]"
          ]
        },
        {
          "name": "stdout",
          "output_type": "stream",
          "text": [
            "{'loss': 3.7773, 'learning_rate': 5.634e-05, 'epoch': 3.05}\n"
          ]
        },
        {
          "name": "stderr",
          "output_type": "stream",
          "text": [
            "  6%|▌         | 62/1000 [07:37<3:50:54, 14.77s/it]"
          ]
        },
        {
          "name": "stdout",
          "output_type": "stream",
          "text": [
            "{'loss': 3.9284, 'learning_rate': 5.6279999999999996e-05, 'epoch': 3.1}\n"
          ]
        },
        {
          "name": "stderr",
          "output_type": "stream",
          "text": [
            "  6%|▋         | 63/1000 [07:43<3:11:03, 12.23s/it]"
          ]
        },
        {
          "name": "stdout",
          "output_type": "stream",
          "text": [
            "{'loss': 3.894, 'learning_rate': 5.622000000000001e-05, 'epoch': 3.15}\n"
          ]
        },
        {
          "name": "stderr",
          "output_type": "stream",
          "text": [
            "  6%|▋         | 64/1000 [07:50<2:42:39, 10.43s/it]"
          ]
        },
        {
          "name": "stdout",
          "output_type": "stream",
          "text": [
            "{'loss': 4.0931, 'learning_rate': 5.6160000000000004e-05, 'epoch': 3.2}\n"
          ]
        },
        {
          "name": "stderr",
          "output_type": "stream",
          "text": [
            "  6%|▋         | 65/1000 [07:56<2:22:15,  9.13s/it]"
          ]
        },
        {
          "name": "stdout",
          "output_type": "stream",
          "text": [
            "{'loss': 3.8285, 'learning_rate': 5.61e-05, 'epoch': 3.25}\n"
          ]
        },
        {
          "name": "stderr",
          "output_type": "stream",
          "text": [
            "  7%|▋         | 66/1000 [08:02<2:08:22,  8.25s/it]"
          ]
        },
        {
          "name": "stdout",
          "output_type": "stream",
          "text": [
            "{'loss': 3.8706, 'learning_rate': 5.6040000000000006e-05, 'epoch': 3.3}\n"
          ]
        },
        {
          "name": "stderr",
          "output_type": "stream",
          "text": [
            "  7%|▋         | 67/1000 [08:08<1:58:31,  7.62s/it]"
          ]
        },
        {
          "name": "stdout",
          "output_type": "stream",
          "text": [
            "{'loss': 3.893, 'learning_rate': 5.598e-05, 'epoch': 3.35}\n"
          ]
        },
        {
          "name": "stderr",
          "output_type": "stream",
          "text": [
            "  7%|▋         | 68/1000 [08:14<1:51:53,  7.20s/it]"
          ]
        },
        {
          "name": "stdout",
          "output_type": "stream",
          "text": [
            "{'loss': 3.72, 'learning_rate': 5.592000000000001e-05, 'epoch': 3.4}\n"
          ]
        },
        {
          "name": "stderr",
          "output_type": "stream",
          "text": [
            "  7%|▋         | 69/1000 [08:20<1:46:45,  6.88s/it]"
          ]
        },
        {
          "name": "stdout",
          "output_type": "stream",
          "text": [
            "{'loss': 3.9422, 'learning_rate': 5.5860000000000004e-05, 'epoch': 3.45}\n"
          ]
        },
        {
          "name": "stderr",
          "output_type": "stream",
          "text": [
            "  7%|▋         | 70/1000 [08:27<1:43:30,  6.68s/it]"
          ]
        },
        {
          "name": "stdout",
          "output_type": "stream",
          "text": [
            "{'loss': 3.9034, 'learning_rate': 5.58e-05, 'epoch': 3.5}\n"
          ]
        },
        {
          "name": "stderr",
          "output_type": "stream",
          "text": [
            "  7%|▋         | 71/1000 [08:33<1:40:39,  6.50s/it]"
          ]
        },
        {
          "name": "stdout",
          "output_type": "stream",
          "text": [
            "{'loss': 3.8039, 'learning_rate': 5.5740000000000005e-05, 'epoch': 3.55}\n"
          ]
        },
        {
          "name": "stderr",
          "output_type": "stream",
          "text": [
            "  7%|▋         | 72/1000 [08:39<1:39:25,  6.43s/it]"
          ]
        },
        {
          "name": "stdout",
          "output_type": "stream",
          "text": [
            "{'loss': 3.7417, 'learning_rate': 5.568e-05, 'epoch': 3.6}\n"
          ]
        },
        {
          "name": "stderr",
          "output_type": "stream",
          "text": [
            "  7%|▋         | 73/1000 [08:45<1:37:30,  6.31s/it]"
          ]
        },
        {
          "name": "stdout",
          "output_type": "stream",
          "text": [
            "{'loss': 3.8268, 'learning_rate': 5.5620000000000006e-05, 'epoch': 3.65}\n"
          ]
        },
        {
          "name": "stderr",
          "output_type": "stream",
          "text": [
            "  7%|▋         | 74/1000 [08:51<1:36:32,  6.26s/it]"
          ]
        },
        {
          "name": "stdout",
          "output_type": "stream",
          "text": [
            "{'loss': 3.741, 'learning_rate': 5.556e-05, 'epoch': 3.7}\n"
          ]
        },
        {
          "name": "stderr",
          "output_type": "stream",
          "text": [
            "  8%|▊         | 75/1000 [08:57<1:36:01,  6.23s/it]"
          ]
        },
        {
          "name": "stdout",
          "output_type": "stream",
          "text": [
            "{'loss': 3.7428, 'learning_rate': 5.550000000000001e-05, 'epoch': 3.75}\n"
          ]
        },
        {
          "name": "stderr",
          "output_type": "stream",
          "text": [
            "  8%|▊         | 76/1000 [09:03<1:35:18,  6.19s/it]"
          ]
        },
        {
          "name": "stdout",
          "output_type": "stream",
          "text": [
            "{'loss': 4.0124, 'learning_rate': 5.5440000000000005e-05, 'epoch': 3.8}\n"
          ]
        },
        {
          "name": "stderr",
          "output_type": "stream",
          "text": [
            "  8%|▊         | 77/1000 [09:10<1:35:25,  6.20s/it]"
          ]
        },
        {
          "name": "stdout",
          "output_type": "stream",
          "text": [
            "{'loss': 3.7644, 'learning_rate': 5.538e-05, 'epoch': 3.85}\n"
          ]
        },
        {
          "name": "stderr",
          "output_type": "stream",
          "text": [
            "  8%|▊         | 78/1000 [09:16<1:35:17,  6.20s/it]"
          ]
        },
        {
          "name": "stdout",
          "output_type": "stream",
          "text": [
            "{'loss': 3.7382, 'learning_rate': 5.5320000000000006e-05, 'epoch': 3.9}\n"
          ]
        },
        {
          "name": "stderr",
          "output_type": "stream",
          "text": [
            "  8%|▊         | 79/1000 [09:22<1:34:34,  6.16s/it]"
          ]
        },
        {
          "name": "stdout",
          "output_type": "stream",
          "text": [
            "{'loss': 4.1909, 'learning_rate': 5.526e-05, 'epoch': 3.95}\n"
          ]
        },
        {
          "name": "stderr",
          "output_type": "stream",
          "text": [
            "  8%|▊         | 80/1000 [09:28<1:32:53,  6.06s/it]"
          ]
        },
        {
          "name": "stdout",
          "output_type": "stream",
          "text": [
            "{'loss': 3.939, 'learning_rate': 5.520000000000001e-05, 'epoch': 4.0}\n"
          ]
        },
        {
          "name": "stderr",
          "output_type": "stream",
          "text": [
            "C:\\Users\\kuian\\.cache\\huggingface\\modules\\evaluate_modules\\metrics\\evaluate-metric--mean_iou\\08bc20f4f895f3caf75fb9e3fada1404bded3c3265243d05327cbb3b9326ffe9\\mean_iou.py:259: RuntimeWarning: invalid value encountered in divide\n",
            "  iou = total_area_intersect / total_area_union\n",
            "C:\\Users\\kuian\\.cache\\huggingface\\modules\\evaluate_modules\\metrics\\evaluate-metric--mean_iou\\08bc20f4f895f3caf75fb9e3fada1404bded3c3265243d05327cbb3b9326ffe9\\mean_iou.py:260: RuntimeWarning: invalid value encountered in divide\n",
            "  acc = total_area_intersect / total_area_label\n",
            "                                                   \n",
            "  8%|▊         | 80/1000 [10:08<1:32:53,  6.06s/it]"
          ]
        },
        {
          "name": "stdout",
          "output_type": "stream",
          "text": [
            "{'eval_loss': 3.5203258991241455, 'eval_mean_iou': 0.06319240849482936, 'eval_mean_accuracy': 0.12436641966160171, 'eval_overall_accuracy': 0.4994952154030233, 'eval_per_category_iou': [0.4991909663145134, nan, nan, 0.5445795400456701, 0.0, 0.4328295394060926, nan, nan, 0.09756640197152246, nan, 0.15353885975477471, nan, 0.0, nan, 0.2674466673716796, 0.0, nan, 0.0, 0.02309106029959855, 0.0, nan, nan, 0.0, nan, 0.0, nan, nan, 0.12462498010890616, nan, nan, nan, 0.0, 0.0, nan, nan, nan, nan, 0.07838826195230296, nan, nan, nan, 0.0, 0.0, 0.0, nan, nan, nan, 0.08397179573273099, nan, nan, nan, nan, nan, nan, nan, nan, nan, nan, 0.0, nan, nan, nan, nan, 0.0, nan, 0.22246826683538298, nan, nan, nan, nan, 0.0, nan, nan, nan, nan, nan, nan, nan, nan, nan, nan, 0.0, 0.0, nan, nan, nan, nan, 0.0, nan, 0.0, nan, nan, nan, nan, nan, nan, 0.0, nan, 0.0, nan, nan, nan, nan, nan, 0.0, nan, nan, nan, nan, nan, nan, nan, nan, nan, nan, nan, nan, nan, nan, nan, nan, nan, nan, nan, nan, 0.0, nan, nan, nan, nan, nan, nan, nan, nan, 0.0, nan, nan, 0.0, 0.0, nan, nan, nan, nan, nan, nan, 0.0, nan, nan, 0.0, 0.0], 'eval_per_category_accuracy': [0.6411448565877241, nan, nan, 0.6763356779407363, 0.0, 0.6279062459315924, nan, nan, 0.678528921685313, nan, 0.2025041686811181, nan, 0.0, nan, 0.38800967037054257, 0.0, nan, 0.0, 0.02406274073440041, 0.0, nan, nan, 0.0, nan, 0.0, nan, nan, 0.3167072701628414, nan, nan, nan, 0.0, 0.0, nan, nan, nan, nan, 0.5541926615205668, nan, nan, nan, 0.0, 0.0, 0.0, nan, nan, nan, 0.15070669442314014, nan, nan, nan, nan, nan, nan, nan, nan, nan, nan, 0.0, nan, nan, nan, nan, 0.0, nan, 0.714557878426093, nan, nan, nan, nan, 0.0, nan, nan, nan, nan, nan, nan, nan, nan, nan, nan, 0.0, 0.0, nan, nan, nan, nan, 0.0, nan, 0.0, nan, nan, nan, nan, nan, nan, 0.0, nan, 0.0, nan, nan, nan, nan, nan, 0.0, nan, nan, nan, nan, nan, nan, nan, nan, nan, nan, nan, nan, nan, nan, nan, nan, nan, nan, nan, nan, 0.0, nan, nan, nan, nan, nan, nan, nan, nan, 0.0, nan, nan, 0.0, 0.0, nan, nan, nan, nan, nan, nan, 0.0, nan, nan, 0.0, 0.0], 'eval_runtime': 40.2436, 'eval_samples_per_second': 0.248, 'eval_steps_per_second': 0.124, 'epoch': 4.0}\n"
          ]
        },
        {
          "name": "stderr",
          "output_type": "stream",
          "text": [
            "  8%|▊         | 81/1000 [10:14<4:39:49, 18.27s/it]"
          ]
        },
        {
          "name": "stdout",
          "output_type": "stream",
          "text": [
            "{'loss': 3.746, 'learning_rate': 5.5140000000000004e-05, 'epoch': 4.05}\n"
          ]
        },
        {
          "name": "stderr",
          "output_type": "stream",
          "text": [
            "  8%|▊         | 82/1000 [10:21<3:46:36, 14.81s/it]"
          ]
        },
        {
          "name": "stdout",
          "output_type": "stream",
          "text": [
            "{'loss': 3.8666, 'learning_rate': 5.508e-05, 'epoch': 4.1}\n"
          ]
        },
        {
          "name": "stderr",
          "output_type": "stream",
          "text": [
            "  8%|▊         | 83/1000 [10:27<3:06:34, 12.21s/it]"
          ]
        },
        {
          "name": "stdout",
          "output_type": "stream",
          "text": [
            "{'loss': 3.7536, 'learning_rate': 5.5020000000000005e-05, 'epoch': 4.15}\n"
          ]
        },
        {
          "name": "stderr",
          "output_type": "stream",
          "text": [
            "  8%|▊         | 84/1000 [10:34<2:39:05, 10.42s/it]"
          ]
        },
        {
          "name": "stdout",
          "output_type": "stream",
          "text": [
            "{'loss': 3.5085, 'learning_rate': 5.496e-05, 'epoch': 4.2}\n"
          ]
        },
        {
          "name": "stderr",
          "output_type": "stream",
          "text": [
            "  8%|▊         | 85/1000 [10:40<2:19:20,  9.14s/it]"
          ]
        },
        {
          "name": "stdout",
          "output_type": "stream",
          "text": [
            "{'loss': 3.4354, 'learning_rate': 5.4900000000000006e-05, 'epoch': 4.25}\n"
          ]
        },
        {
          "name": "stderr",
          "output_type": "stream",
          "text": [
            "  9%|▊         | 86/1000 [10:46<2:05:44,  8.25s/it]"
          ]
        },
        {
          "name": "stdout",
          "output_type": "stream",
          "text": [
            "{'loss': 3.4338, 'learning_rate': 5.4840000000000003e-05, 'epoch': 4.3}\n"
          ]
        },
        {
          "name": "stderr",
          "output_type": "stream",
          "text": [
            "  9%|▊         | 87/1000 [10:52<1:56:54,  7.68s/it]"
          ]
        },
        {
          "name": "stdout",
          "output_type": "stream",
          "text": [
            "{'loss': 3.6801, 'learning_rate': 5.478e-05, 'epoch': 4.35}\n"
          ]
        },
        {
          "name": "stderr",
          "output_type": "stream",
          "text": [
            "  9%|▉         | 88/1000 [10:58<1:49:57,  7.23s/it]"
          ]
        },
        {
          "name": "stdout",
          "output_type": "stream",
          "text": [
            "{'loss': 3.4778, 'learning_rate': 5.4720000000000005e-05, 'epoch': 4.4}\n"
          ]
        },
        {
          "name": "stderr",
          "output_type": "stream",
          "text": [
            "  9%|▉         | 89/1000 [11:05<1:44:42,  6.90s/it]"
          ]
        },
        {
          "name": "stdout",
          "output_type": "stream",
          "text": [
            "{'loss': 3.8949, 'learning_rate': 5.466e-05, 'epoch': 4.45}\n"
          ]
        },
        {
          "name": "stderr",
          "output_type": "stream",
          "text": [
            "  9%|▉         | 90/1000 [11:11<1:41:10,  6.67s/it]"
          ]
        },
        {
          "name": "stdout",
          "output_type": "stream",
          "text": [
            "{'loss': 3.9886, 'learning_rate': 5.4600000000000006e-05, 'epoch': 4.5}\n"
          ]
        },
        {
          "name": "stderr",
          "output_type": "stream",
          "text": [
            "  9%|▉         | 91/1000 [11:17<1:39:04,  6.54s/it]"
          ]
        },
        {
          "name": "stdout",
          "output_type": "stream",
          "text": [
            "{'loss': 3.4296, 'learning_rate': 5.454e-05, 'epoch': 4.55}\n"
          ]
        },
        {
          "name": "stderr",
          "output_type": "stream",
          "text": [
            "  9%|▉         | 92/1000 [11:23<1:37:20,  6.43s/it]"
          ]
        },
        {
          "name": "stdout",
          "output_type": "stream",
          "text": [
            "{'loss': 3.7496, 'learning_rate': 5.448e-05, 'epoch': 4.6}\n"
          ]
        },
        {
          "name": "stderr",
          "output_type": "stream",
          "text": [
            "  9%|▉         | 93/1000 [11:29<1:35:21,  6.31s/it]"
          ]
        },
        {
          "name": "stdout",
          "output_type": "stream",
          "text": [
            "{'loss': 3.4899, 'learning_rate': 5.4420000000000004e-05, 'epoch': 4.65}\n"
          ]
        },
        {
          "name": "stderr",
          "output_type": "stream",
          "text": [
            "  9%|▉         | 94/1000 [11:35<1:34:12,  6.24s/it]"
          ]
        },
        {
          "name": "stdout",
          "output_type": "stream",
          "text": [
            "{'loss': 3.4173, 'learning_rate': 5.436e-05, 'epoch': 4.7}\n"
          ]
        },
        {
          "name": "stderr",
          "output_type": "stream",
          "text": [
            " 10%|▉         | 95/1000 [11:41<1:33:58,  6.23s/it]"
          ]
        },
        {
          "name": "stdout",
          "output_type": "stream",
          "text": [
            "{'loss': 3.4617, 'learning_rate': 5.4300000000000005e-05, 'epoch': 4.75}\n"
          ]
        },
        {
          "name": "stderr",
          "output_type": "stream",
          "text": [
            " 10%|▉         | 96/1000 [11:47<1:33:21,  6.20s/it]"
          ]
        },
        {
          "name": "stdout",
          "output_type": "stream",
          "text": [
            "{'loss': 3.5749, 'learning_rate': 5.424e-05, 'epoch': 4.8}\n"
          ]
        },
        {
          "name": "stderr",
          "output_type": "stream",
          "text": [
            " 10%|▉         | 97/1000 [11:54<1:32:36,  6.15s/it]"
          ]
        },
        {
          "name": "stdout",
          "output_type": "stream",
          "text": [
            "{'loss': 3.6246, 'learning_rate': 5.418e-05, 'epoch': 4.85}\n"
          ]
        },
        {
          "name": "stderr",
          "output_type": "stream",
          "text": [
            " 10%|▉         | 98/1000 [12:00<1:31:54,  6.11s/it]"
          ]
        },
        {
          "name": "stdout",
          "output_type": "stream",
          "text": [
            "{'loss': 3.5912, 'learning_rate': 5.4120000000000004e-05, 'epoch': 4.9}\n"
          ]
        },
        {
          "name": "stderr",
          "output_type": "stream",
          "text": [
            " 10%|▉         | 99/1000 [12:06<1:32:10,  6.14s/it]"
          ]
        },
        {
          "name": "stdout",
          "output_type": "stream",
          "text": [
            "{'loss': 3.4444, 'learning_rate': 5.406e-05, 'epoch': 4.95}\n"
          ]
        },
        {
          "name": "stderr",
          "output_type": "stream",
          "text": [
            " 10%|█         | 100/1000 [12:12<1:33:07,  6.21s/it]"
          ]
        },
        {
          "name": "stdout",
          "output_type": "stream",
          "text": [
            "{'loss': 3.7608, 'learning_rate': 5.4000000000000005e-05, 'epoch': 5.0}\n"
          ]
        },
        {
          "name": "stderr",
          "output_type": "stream",
          "text": [
            "C:\\Users\\kuian\\.cache\\huggingface\\modules\\evaluate_modules\\metrics\\evaluate-metric--mean_iou\\08bc20f4f895f3caf75fb9e3fada1404bded3c3265243d05327cbb3b9326ffe9\\mean_iou.py:259: RuntimeWarning: invalid value encountered in divide\n",
            "  iou = total_area_intersect / total_area_union\n",
            "C:\\Users\\kuian\\.cache\\huggingface\\modules\\evaluate_modules\\metrics\\evaluate-metric--mean_iou\\08bc20f4f895f3caf75fb9e3fada1404bded3c3265243d05327cbb3b9326ffe9\\mean_iou.py:260: RuntimeWarning: invalid value encountered in divide\n",
            "  acc = total_area_intersect / total_area_label\n",
            "                                                    \n",
            " 10%|█         | 100/1000 [12:54<1:33:07,  6.21s/it]"
          ]
        },
        {
          "name": "stdout",
          "output_type": "stream",
          "text": [
            "{'eval_loss': 3.3126368522644043, 'eval_mean_iou': 0.07165762881550528, 'eval_mean_accuracy': 0.13216175129357927, 'eval_overall_accuracy': 0.543560573944843, 'eval_per_category_iou': [0.5358802558832725, nan, nan, 0.5696505518814665, 0.0, 0.4388397055969425, nan, nan, 0.10289663989771865, nan, 0.22054754623561962, nan, 0.0, nan, 0.35577034879387504, 0.0, nan, 0.0, 0.01213691531433247, 0.0, nan, nan, 0.0, nan, 0.0, nan, nan, 0.1118608921808964, nan, nan, nan, 0.0, 0.0, nan, nan, nan, nan, 0.10795911561022502, nan, nan, nan, 0.0, 0.0, 0.0, nan, nan, nan, 0.11552069915703315, nan, nan, nan, nan, nan, nan, nan, nan, nan, nan, 0.0, nan, nan, nan, nan, 0.0, nan, 0.29524248206882936, nan, nan, nan, nan, 0.0, nan, nan, nan, nan, nan, nan, nan, nan, nan, nan, 0.0, 0.0, nan, nan, nan, nan, 0.0, nan, 0.0, nan, nan, nan, nan, nan, nan, 0.0, nan, 0.0, nan, nan, nan, nan, nan, 0.0, nan, nan, nan, nan, nan, nan, nan, nan, nan, nan, nan, nan, nan, nan, nan, nan, nan, nan, nan, nan, 0.0, nan, nan, nan, nan, nan, nan, nan, nan, 0.0, nan, nan, 0.0, 0.0, nan, nan, nan, nan, nan, nan, 0.0, nan, nan, 0.0, 0.0], 'eval_per_category_accuracy': [0.6873102462561053, nan, nan, 0.739931906614786, 0.0, 0.6598070508590232, nan, nan, 0.7663056415139252, nan, 0.2689761324505925, nan, 0.0, nan, 0.5547910177135152, 0.0, nan, 0.0, 0.012379097834460328, 0.0, nan, nan, 0.0, nan, 0.0, nan, nan, 0.2511367335062681, nan, nan, nan, 0.0, 0.0, nan, nan, nan, nan, 0.5818970075076663, nan, nan, nan, 0.0, 0.0, 0.0, nan, nan, nan, 0.1940670537964282, nan, nan, nan, nan, nan, nan, nan, nan, nan, nan, 0.0, nan, nan, nan, nan, 0.0, nan, 0.5698681636904006, nan, nan, nan, nan, 0.0, nan, nan, nan, nan, nan, nan, nan, nan, nan, nan, 0.0, 0.0, nan, nan, nan, nan, 0.0, nan, 0.0, nan, nan, nan, nan, nan, nan, 0.0, nan, 0.0, nan, nan, nan, nan, nan, 0.0, nan, nan, nan, nan, nan, nan, nan, nan, nan, nan, nan, nan, nan, nan, nan, nan, nan, nan, nan, nan, 0.0, nan, nan, nan, nan, nan, nan, nan, nan, 0.0, nan, nan, 0.0, 0.0, nan, nan, nan, nan, nan, nan, 0.0, nan, nan, 0.0, 0.0], 'eval_runtime': 41.903, 'eval_samples_per_second': 0.239, 'eval_steps_per_second': 0.119, 'epoch': 5.0}\n"
          ]
        },
        {
          "name": "stderr",
          "output_type": "stream",
          "text": [
            " 10%|█         | 101/1000 [13:01<4:42:40, 18.87s/it]"
          ]
        },
        {
          "name": "stdout",
          "output_type": "stream",
          "text": [
            "{'loss': 3.4109, 'learning_rate': 5.394e-05, 'epoch': 5.05}\n"
          ]
        },
        {
          "name": "stderr",
          "output_type": "stream",
          "text": [
            " 10%|█         | 102/1000 [13:07<3:44:52, 15.02s/it]"
          ]
        },
        {
          "name": "stdout",
          "output_type": "stream",
          "text": [
            "{'loss': 3.2427, 'learning_rate': 5.3880000000000006e-05, 'epoch': 5.1}\n"
          ]
        },
        {
          "name": "stderr",
          "output_type": "stream",
          "text": [
            " 10%|█         | 103/1000 [13:13<3:04:40, 12.35s/it]"
          ]
        },
        {
          "name": "stdout",
          "output_type": "stream",
          "text": [
            "{'loss': 3.4462, 'learning_rate': 5.382e-05, 'epoch': 5.15}\n"
          ]
        },
        {
          "name": "stderr",
          "output_type": "stream",
          "text": [
            " 10%|█         | 104/1000 [13:19<2:36:12, 10.46s/it]"
          ]
        },
        {
          "name": "stdout",
          "output_type": "stream",
          "text": [
            "{'loss': 3.7086, 'learning_rate': 5.376e-05, 'epoch': 5.2}\n"
          ]
        },
        {
          "name": "stderr",
          "output_type": "stream",
          "text": [
            " 10%|█         | 105/1000 [13:25<2:17:04,  9.19s/it]"
          ]
        },
        {
          "name": "stdout",
          "output_type": "stream",
          "text": [
            "{'loss': 3.2863, 'learning_rate': 5.3700000000000004e-05, 'epoch': 5.25}\n"
          ]
        },
        {
          "name": "stderr",
          "output_type": "stream",
          "text": [
            " 11%|█         | 106/1000 [13:31<2:03:10,  8.27s/it]"
          ]
        },
        {
          "name": "stdout",
          "output_type": "stream",
          "text": [
            "{'loss': 3.4133, 'learning_rate': 5.364e-05, 'epoch': 5.3}\n"
          ]
        },
        {
          "name": "stderr",
          "output_type": "stream",
          "text": [
            " 11%|█         | 107/1000 [13:37<1:53:33,  7.63s/it]"
          ]
        },
        {
          "name": "stdout",
          "output_type": "stream",
          "text": [
            "{'loss': 3.4659, 'learning_rate': 5.3580000000000005e-05, 'epoch': 5.35}\n"
          ]
        },
        {
          "name": "stderr",
          "output_type": "stream",
          "text": [
            " 11%|█         | 108/1000 [13:43<1:46:38,  7.17s/it]"
          ]
        },
        {
          "name": "stdout",
          "output_type": "stream",
          "text": [
            "{'loss': 3.3603, 'learning_rate': 5.352e-05, 'epoch': 5.4}\n"
          ]
        },
        {
          "name": "stderr",
          "output_type": "stream",
          "text": [
            " 11%|█         | 109/1000 [13:50<1:42:17,  6.89s/it]"
          ]
        },
        {
          "name": "stdout",
          "output_type": "stream",
          "text": [
            "{'loss': 3.2353, 'learning_rate': 5.346e-05, 'epoch': 5.45}\n"
          ]
        },
        {
          "name": "stderr",
          "output_type": "stream",
          "text": [
            " 11%|█         | 110/1000 [13:56<1:39:19,  6.70s/it]"
          ]
        },
        {
          "name": "stdout",
          "output_type": "stream",
          "text": [
            "{'loss': 3.3584, 'learning_rate': 5.3400000000000004e-05, 'epoch': 5.5}\n"
          ]
        },
        {
          "name": "stderr",
          "output_type": "stream",
          "text": [
            " 11%|█         | 111/1000 [14:02<1:36:22,  6.50s/it]"
          ]
        },
        {
          "name": "stdout",
          "output_type": "stream",
          "text": [
            "{'loss': 3.2584, 'learning_rate': 5.334e-05, 'epoch': 5.55}\n"
          ]
        },
        {
          "name": "stderr",
          "output_type": "stream",
          "text": [
            " 11%|█         | 112/1000 [14:08<1:34:33,  6.39s/it]"
          ]
        },
        {
          "name": "stdout",
          "output_type": "stream",
          "text": [
            "{'loss': 3.133, 'learning_rate': 5.3280000000000005e-05, 'epoch': 5.6}\n"
          ]
        },
        {
          "name": "stderr",
          "output_type": "stream",
          "text": [
            " 11%|█▏        | 113/1000 [14:14<1:33:10,  6.30s/it]"
          ]
        },
        {
          "name": "stdout",
          "output_type": "stream",
          "text": [
            "{'loss': 3.2911, 'learning_rate': 5.322e-05, 'epoch': 5.65}\n"
          ]
        },
        {
          "name": "stderr",
          "output_type": "stream",
          "text": [
            " 11%|█▏        | 114/1000 [14:20<1:32:46,  6.28s/it]"
          ]
        },
        {
          "name": "stdout",
          "output_type": "stream",
          "text": [
            "{'loss': 3.5291, 'learning_rate': 5.316e-05, 'epoch': 5.7}\n"
          ]
        },
        {
          "name": "stderr",
          "output_type": "stream",
          "text": [
            " 12%|█▏        | 115/1000 [14:27<1:33:07,  6.31s/it]"
          ]
        },
        {
          "name": "stdout",
          "output_type": "stream",
          "text": [
            "{'loss': 3.493, 'learning_rate': 5.31e-05, 'epoch': 5.75}\n"
          ]
        },
        {
          "name": "stderr",
          "output_type": "stream",
          "text": [
            " 12%|█▏        | 116/1000 [14:33<1:31:21,  6.20s/it]"
          ]
        },
        {
          "name": "stdout",
          "output_type": "stream",
          "text": [
            "{'loss': 3.2555, 'learning_rate': 5.304e-05, 'epoch': 5.8}\n"
          ]
        },
        {
          "name": "stderr",
          "output_type": "stream",
          "text": [
            " 12%|█▏        | 117/1000 [14:38<1:29:34,  6.09s/it]"
          ]
        },
        {
          "name": "stdout",
          "output_type": "stream",
          "text": [
            "{'loss': 3.8339, 'learning_rate': 5.2980000000000004e-05, 'epoch': 5.85}\n"
          ]
        },
        {
          "name": "stderr",
          "output_type": "stream",
          "text": [
            " 12%|█▏        | 118/1000 [14:44<1:29:08,  6.06s/it]"
          ]
        },
        {
          "name": "stdout",
          "output_type": "stream",
          "text": [
            "{'loss': 3.3032, 'learning_rate': 5.292e-05, 'epoch': 5.9}\n"
          ]
        },
        {
          "name": "stderr",
          "output_type": "stream",
          "text": [
            " 12%|█▏        | 119/1000 [14:50<1:27:52,  5.99s/it]"
          ]
        },
        {
          "name": "stdout",
          "output_type": "stream",
          "text": [
            "{'loss': 3.2814, 'learning_rate': 5.286e-05, 'epoch': 5.95}\n"
          ]
        },
        {
          "name": "stderr",
          "output_type": "stream",
          "text": [
            " 12%|█▏        | 120/1000 [14:56<1:28:01,  6.00s/it]"
          ]
        },
        {
          "name": "stdout",
          "output_type": "stream",
          "text": [
            "{'loss': 3.2956, 'learning_rate': 5.28e-05, 'epoch': 6.0}\n"
          ]
        },
        {
          "name": "stderr",
          "output_type": "stream",
          "text": [
            "C:\\Users\\kuian\\.cache\\huggingface\\modules\\evaluate_modules\\metrics\\evaluate-metric--mean_iou\\08bc20f4f895f3caf75fb9e3fada1404bded3c3265243d05327cbb3b9326ffe9\\mean_iou.py:259: RuntimeWarning: invalid value encountered in divide\n",
            "  iou = total_area_intersect / total_area_union\n",
            "C:\\Users\\kuian\\.cache\\huggingface\\modules\\evaluate_modules\\metrics\\evaluate-metric--mean_iou\\08bc20f4f895f3caf75fb9e3fada1404bded3c3265243d05327cbb3b9326ffe9\\mean_iou.py:260: RuntimeWarning: invalid value encountered in divide\n",
            "  acc = total_area_intersect / total_area_label\n",
            "                                                    \n",
            " 12%|█▏        | 120/1000 [15:36<1:28:01,  6.00s/it]"
          ]
        },
        {
          "name": "stdout",
          "output_type": "stream",
          "text": [
            "{'eval_loss': 3.0306811332702637, 'eval_mean_iou': 0.07359070721490371, 'eval_mean_accuracy': 0.12920876117714766, 'eval_overall_accuracy': 0.5574331548148096, 'eval_per_category_iou': [0.5569855748538742, nan, nan, 0.5672673121560907, 0.0, 0.3508937340404636, nan, nan, 0.12338899148207949, nan, 0.19910899528764656, nan, 0.0, nan, 0.3738389380162957, 0.0, nan, 0.0, 0.009125674472209126, 0.0, nan, nan, 0.0, nan, 0.0, nan, nan, 0.10357895570089944, nan, nan, nan, 0.0, 0.0, nan, nan, nan, nan, 0.11647249225624591, nan, nan, nan, 0.0, 0.0, 0.0, nan, nan, nan, 0.21828101574937017, nan, nan, nan, nan, nan, nan, nan, nan, nan, nan, 0.0, nan, nan, nan, nan, 0.0, nan, 0.3121076941297225, nan, nan, nan, nan, 0.0, nan, nan, nan, nan, nan, nan, nan, nan, nan, nan, 0.012578910451250877, 0.0, nan, nan, nan, nan, 0.0, nan, 0.0, nan, nan, nan, nan, nan, nan, 0.0, nan, 0.0, nan, nan, nan, nan, nan, 0.0, nan, nan, nan, nan, nan, nan, nan, nan, nan, nan, nan, nan, nan, nan, nan, nan, nan, nan, nan, nan, 0.0, nan, nan, nan, nan, nan, nan, nan, nan, 0.0, nan, nan, 0.0, 0.0, nan, nan, nan, nan, nan, nan, 0.0, nan, nan, 0.0, 0.0], 'eval_per_category_accuracy': [0.7534837683954898, nan, nan, 0.7525142173002095, 0.0, 0.4811787046639103, nan, nan, 0.7594620328493216, nan, 0.24429951357164706, nan, 0.0, nan, 0.5851225068575945, 0.0, nan, 0.0, 0.009319096122571258, 0.0, nan, nan, 0.0, nan, 0.0, nan, nan, 0.20649590184145897, nan, nan, nan, 0.0, 0.0, nan, nan, nan, nan, 0.5745479538965845, nan, nan, nan, 0.0, 0.0, 0.0, nan, nan, nan, 0.38684671852744607, nan, nan, nan, nan, nan, nan, nan, nan, nan, nan, 0.0, nan, nan, nan, nan, 0.0, nan, 0.4016562095155841, nan, nan, nan, nan, 0.0, nan, nan, nan, nan, nan, nan, nan, nan, nan, nan, 0.013423823544089027, 0.0, nan, nan, nan, nan, 0.0, nan, 0.0, nan, nan, nan, nan, nan, nan, 0.0, nan, 0.0, nan, nan, nan, nan, nan, 0.0, nan, nan, nan, nan, nan, nan, nan, nan, nan, nan, nan, nan, nan, nan, nan, nan, nan, nan, nan, nan, 0.0, nan, nan, nan, nan, nan, nan, nan, nan, 0.0, nan, nan, 0.0, 0.0, nan, nan, nan, nan, nan, nan, 0.0, nan, nan, 0.0, 0.0], 'eval_runtime': 40.1221, 'eval_samples_per_second': 0.249, 'eval_steps_per_second': 0.125, 'epoch': 6.0}\n"
          ]
        },
        {
          "name": "stderr",
          "output_type": "stream",
          "text": [
            " 12%|█▏        | 121/1000 [15:43<4:26:40, 18.20s/it]"
          ]
        },
        {
          "name": "stdout",
          "output_type": "stream",
          "text": [
            "{'loss': 3.0545, 'learning_rate': 5.274e-05, 'epoch': 6.05}\n"
          ]
        },
        {
          "name": "stderr",
          "output_type": "stream",
          "text": [
            " 12%|█▏        | 122/1000 [15:49<3:34:36, 14.67s/it]"
          ]
        },
        {
          "name": "stdout",
          "output_type": "stream",
          "text": [
            "{'loss': 3.4338, 'learning_rate': 5.2680000000000004e-05, 'epoch': 6.1}\n"
          ]
        },
        {
          "name": "stderr",
          "output_type": "stream",
          "text": [
            " 12%|█▏        | 123/1000 [15:56<2:57:05, 12.12s/it]"
          ]
        },
        {
          "name": "stdout",
          "output_type": "stream",
          "text": [
            "{'loss': 3.164, 'learning_rate': 5.262e-05, 'epoch': 6.15}\n"
          ]
        },
        {
          "name": "stderr",
          "output_type": "stream",
          "text": [
            " 12%|█▏        | 124/1000 [16:02<2:30:45, 10.33s/it]"
          ]
        },
        {
          "name": "stdout",
          "output_type": "stream",
          "text": [
            "{'loss': 3.3519, 'learning_rate': 5.256e-05, 'epoch': 6.2}\n"
          ]
        },
        {
          "name": "stderr",
          "output_type": "stream",
          "text": [
            " 12%|█▎        | 125/1000 [16:08<2:12:50,  9.11s/it]"
          ]
        },
        {
          "name": "stdout",
          "output_type": "stream",
          "text": [
            "{'loss': 3.1588, 'learning_rate': 5.25e-05, 'epoch': 6.25}\n"
          ]
        },
        {
          "name": "stderr",
          "output_type": "stream",
          "text": [
            " 13%|█▎        | 126/1000 [16:14<1:59:57,  8.24s/it]"
          ]
        },
        {
          "name": "stdout",
          "output_type": "stream",
          "text": [
            "{'loss': 3.3166, 'learning_rate': 5.244e-05, 'epoch': 6.3}\n"
          ]
        },
        {
          "name": "stderr",
          "output_type": "stream",
          "text": [
            " 13%|█▎        | 127/1000 [16:20<1:51:01,  7.63s/it]"
          ]
        },
        {
          "name": "stdout",
          "output_type": "stream",
          "text": [
            "{'loss': 3.1432, 'learning_rate': 5.238e-05, 'epoch': 6.35}\n"
          ]
        },
        {
          "name": "stderr",
          "output_type": "stream",
          "text": [
            " 13%|█▎        | 128/1000 [16:27<1:44:56,  7.22s/it]"
          ]
        },
        {
          "name": "stdout",
          "output_type": "stream",
          "text": [
            "{'loss': 3.2506, 'learning_rate': 5.232e-05, 'epoch': 6.4}\n"
          ]
        },
        {
          "name": "stderr",
          "output_type": "stream",
          "text": [
            " 13%|█▎        | 129/1000 [16:33<1:40:35,  6.93s/it]"
          ]
        },
        {
          "name": "stdout",
          "output_type": "stream",
          "text": [
            "{'loss': 3.3594, 'learning_rate': 5.2260000000000004e-05, 'epoch': 6.45}\n"
          ]
        },
        {
          "name": "stderr",
          "output_type": "stream",
          "text": [
            " 13%|█▎        | 130/1000 [16:39<1:37:21,  6.71s/it]"
          ]
        },
        {
          "name": "stdout",
          "output_type": "stream",
          "text": [
            "{'loss': 3.3339, 'learning_rate': 5.22e-05, 'epoch': 6.5}\n"
          ]
        },
        {
          "name": "stderr",
          "output_type": "stream",
          "text": [
            " 13%|█▎        | 131/1000 [16:46<1:35:51,  6.62s/it]"
          ]
        },
        {
          "name": "stdout",
          "output_type": "stream",
          "text": [
            "{'loss': 2.9288, 'learning_rate': 5.214e-05, 'epoch': 6.55}\n"
          ]
        },
        {
          "name": "stderr",
          "output_type": "stream",
          "text": [
            " 13%|█▎        | 132/1000 [16:52<1:34:30,  6.53s/it]"
          ]
        },
        {
          "name": "stdout",
          "output_type": "stream",
          "text": [
            "{'loss': 2.9345, 'learning_rate': 5.208e-05, 'epoch': 6.6}\n"
          ]
        },
        {
          "name": "stderr",
          "output_type": "stream",
          "text": [
            " 13%|█▎        | 133/1000 [16:58<1:32:54,  6.43s/it]"
          ]
        },
        {
          "name": "stdout",
          "output_type": "stream",
          "text": [
            "{'loss': 3.153, 'learning_rate': 5.202e-05, 'epoch': 6.65}\n"
          ]
        },
        {
          "name": "stderr",
          "output_type": "stream",
          "text": [
            " 13%|█▎        | 134/1000 [17:04<1:31:10,  6.32s/it]"
          ]
        },
        {
          "name": "stdout",
          "output_type": "stream",
          "text": [
            "{'loss': 3.4176, 'learning_rate': 5.1960000000000004e-05, 'epoch': 6.7}\n"
          ]
        },
        {
          "name": "stderr",
          "output_type": "stream",
          "text": [
            " 14%|█▎        | 135/1000 [17:10<1:30:38,  6.29s/it]"
          ]
        },
        {
          "name": "stdout",
          "output_type": "stream",
          "text": [
            "{'loss': 3.1294, 'learning_rate': 5.19e-05, 'epoch': 6.75}\n"
          ]
        },
        {
          "name": "stderr",
          "output_type": "stream",
          "text": [
            " 14%|█▎        | 136/1000 [17:17<1:30:27,  6.28s/it]"
          ]
        },
        {
          "name": "stdout",
          "output_type": "stream",
          "text": [
            "{'loss': 3.1427, 'learning_rate': 5.184e-05, 'epoch': 6.8}\n"
          ]
        },
        {
          "name": "stderr",
          "output_type": "stream",
          "text": [
            " 14%|█▎        | 137/1000 [17:23<1:29:45,  6.24s/it]"
          ]
        },
        {
          "name": "stdout",
          "output_type": "stream",
          "text": [
            "{'loss': 3.2311, 'learning_rate': 5.178e-05, 'epoch': 6.85}\n"
          ]
        },
        {
          "name": "stderr",
          "output_type": "stream",
          "text": [
            " 14%|█▍        | 138/1000 [17:29<1:29:11,  6.21s/it]"
          ]
        },
        {
          "name": "stdout",
          "output_type": "stream",
          "text": [
            "{'loss': 3.5601, 'learning_rate': 5.172e-05, 'epoch': 6.9}\n"
          ]
        },
        {
          "name": "stderr",
          "output_type": "stream",
          "text": [
            " 14%|█▍        | 139/1000 [17:35<1:29:14,  6.22s/it]"
          ]
        },
        {
          "name": "stdout",
          "output_type": "stream",
          "text": [
            "{'loss': 3.5905, 'learning_rate': 5.1660000000000003e-05, 'epoch': 6.95}\n"
          ]
        },
        {
          "name": "stderr",
          "output_type": "stream",
          "text": [
            " 14%|█▍        | 140/1000 [17:41<1:28:48,  6.20s/it]"
          ]
        },
        {
          "name": "stdout",
          "output_type": "stream",
          "text": [
            "{'loss': 2.9186, 'learning_rate': 5.16e-05, 'epoch': 7.0}\n"
          ]
        },
        {
          "name": "stderr",
          "output_type": "stream",
          "text": [
            "C:\\Users\\kuian\\.cache\\huggingface\\modules\\evaluate_modules\\metrics\\evaluate-metric--mean_iou\\08bc20f4f895f3caf75fb9e3fada1404bded3c3265243d05327cbb3b9326ffe9\\mean_iou.py:259: RuntimeWarning: invalid value encountered in divide\n",
            "  iou = total_area_intersect / total_area_union\n",
            "C:\\Users\\kuian\\.cache\\huggingface\\modules\\evaluate_modules\\metrics\\evaluate-metric--mean_iou\\08bc20f4f895f3caf75fb9e3fada1404bded3c3265243d05327cbb3b9326ffe9\\mean_iou.py:260: RuntimeWarning: invalid value encountered in divide\n",
            "  acc = total_area_intersect / total_area_label\n",
            "                                                    \n",
            " 14%|█▍        | 140/1000 [18:22<1:28:48,  6.20s/it]"
          ]
        },
        {
          "name": "stdout",
          "output_type": "stream",
          "text": [
            "{'eval_loss': 3.066666841506958, 'eval_mean_iou': 0.07325130127323094, 'eval_mean_accuracy': 0.13606414891571533, 'eval_overall_accuracy': 0.5217433742110285, 'eval_per_category_iou': [0.5153566736343843, nan, nan, 0.5453050637130908, 0.0, 0.49111964171465133, nan, nan, 0.10561907041014042, nan, 0.14644968307100634, nan, 0.0, nan, 0.3558845459127951, 0.0, nan, 0.0, 0.023642945758506374, 0.0, nan, nan, 0.0, nan, 0.0, nan, nan, 0.10666818253181963, nan, nan, nan, 0.0, 0.0, nan, nan, nan, nan, 0.07037560520855261, nan, nan, nan, 0.0, 0.0, 0.0, nan, nan, nan, 0.2360066492260737, nan, nan, nan, nan, nan, nan, nan, nan, nan, nan, 0.0, nan, nan, nan, nan, 0.0, nan, 0.3169759763178868, nan, nan, nan, nan, 0.0, nan, nan, nan, nan, nan, nan, nan, nan, nan, nan, 0.016648013430330164, 0.0, nan, nan, nan, nan, 0.0, nan, 0.0, nan, nan, nan, nan, nan, nan, 0.0, nan, 0.0, nan, nan, nan, nan, nan, 0.0, nan, nan, nan, nan, nan, nan, nan, nan, nan, nan, nan, nan, nan, nan, nan, nan, nan, nan, nan, nan, 0.0, nan, nan, nan, nan, nan, nan, nan, nan, 0.0, nan, nan, 0.0, 0.0, nan, nan, nan, nan, nan, nan, 0.0, nan, nan, 0.0, 0.0], 'eval_per_category_accuracy': [0.6232693848151929, nan, nan, 0.7283335827596528, 0.0, 0.6892118175737252, nan, nan, 0.8142109021661509, nan, 0.20288897001509607, nan, 0.0, nan, 0.6302245571621182, 0.0, nan, 0.0, 0.024875888042454847, 0.0, nan, nan, 0.0, nan, 0.0, nan, nan, 0.1943345793839447, nan, nan, nan, 0.0, 0.0, nan, nan, nan, nan, 0.6186422755630749, nan, nan, nan, 0.0, 0.0, 0.0, nan, nan, nan, 0.4744439574887696, nan, nan, nan, nan, nan, nan, nan, nan, nan, nan, 0.0, nan, nan, nan, nan, 0.0, nan, 0.4243147814159067, nan, nan, nan, nan, 0.0, nan, nan, nan, nan, nan, nan, nan, nan, nan, nan, 0.01781526024252707, 0.0, nan, nan, nan, nan, 0.0, nan, 0.0, nan, nan, nan, nan, nan, nan, 0.0, nan, 0.0, nan, nan, nan, nan, nan, 0.0, nan, nan, nan, nan, nan, nan, nan, nan, nan, nan, nan, nan, nan, nan, nan, nan, nan, nan, nan, nan, 0.0, nan, nan, nan, nan, nan, nan, nan, nan, 0.0, nan, nan, 0.0, 0.0, nan, nan, nan, nan, nan, nan, 0.0, nan, nan, 0.0, 0.0], 'eval_runtime': 41.0752, 'eval_samples_per_second': 0.243, 'eval_steps_per_second': 0.122, 'epoch': 7.0}\n"
          ]
        },
        {
          "name": "stderr",
          "output_type": "stream",
          "text": [
            " 14%|█▍        | 141/1000 [18:29<4:26:13, 18.60s/it]"
          ]
        },
        {
          "name": "stdout",
          "output_type": "stream",
          "text": [
            "{'loss': 2.9407, 'learning_rate': 5.154e-05, 'epoch': 7.05}\n"
          ]
        },
        {
          "name": "stderr",
          "output_type": "stream",
          "text": [
            " 14%|█▍        | 142/1000 [18:35<3:32:47, 14.88s/it]"
          ]
        },
        {
          "name": "stdout",
          "output_type": "stream",
          "text": [
            "{'loss': 3.044, 'learning_rate': 5.148e-05, 'epoch': 7.1}\n"
          ]
        },
        {
          "name": "stderr",
          "output_type": "stream",
          "text": [
            " 14%|█▍        | 143/1000 [18:41<2:55:58, 12.32s/it]"
          ]
        },
        {
          "name": "stdout",
          "output_type": "stream",
          "text": [
            "{'loss': 2.5261, 'learning_rate': 5.142e-05, 'epoch': 7.15}\n"
          ]
        },
        {
          "name": "stderr",
          "output_type": "stream",
          "text": [
            " 14%|█▍        | 144/1000 [18:48<2:30:31, 10.55s/it]"
          ]
        },
        {
          "name": "stdout",
          "output_type": "stream",
          "text": [
            "{'loss': 3.3673, 'learning_rate': 5.136e-05, 'epoch': 7.2}\n"
          ]
        },
        {
          "name": "stderr",
          "output_type": "stream",
          "text": [
            " 14%|█▍        | 145/1000 [18:54<2:10:29,  9.16s/it]"
          ]
        },
        {
          "name": "stdout",
          "output_type": "stream",
          "text": [
            "{'loss': 3.1498, 'learning_rate': 5.13e-05, 'epoch': 7.25}\n"
          ]
        },
        {
          "name": "stderr",
          "output_type": "stream",
          "text": [
            " 15%|█▍        | 146/1000 [19:00<1:57:06,  8.23s/it]"
          ]
        },
        {
          "name": "stdout",
          "output_type": "stream",
          "text": [
            "{'loss': 3.0135, 'learning_rate': 5.124e-05, 'epoch': 7.3}\n"
          ]
        },
        {
          "name": "stderr",
          "output_type": "stream",
          "text": [
            " 15%|█▍        | 147/1000 [19:06<1:47:11,  7.54s/it]"
          ]
        },
        {
          "name": "stdout",
          "output_type": "stream",
          "text": [
            "{'loss': 2.8577, 'learning_rate': 5.118e-05, 'epoch': 7.35}\n"
          ]
        },
        {
          "name": "stderr",
          "output_type": "stream",
          "text": [
            " 15%|█▍        | 148/1000 [19:12<1:41:52,  7.17s/it]"
          ]
        },
        {
          "name": "stdout",
          "output_type": "stream",
          "text": [
            "{'loss': 2.9871, 'learning_rate': 5.112e-05, 'epoch': 7.4}\n"
          ]
        },
        {
          "name": "stderr",
          "output_type": "stream",
          "text": [
            " 15%|█▍        | 149/1000 [19:18<1:37:26,  6.87s/it]"
          ]
        },
        {
          "name": "stdout",
          "output_type": "stream",
          "text": [
            "{'loss': 3.247, 'learning_rate': 5.106e-05, 'epoch': 7.45}\n"
          ]
        },
        {
          "name": "stderr",
          "output_type": "stream",
          "text": [
            " 15%|█▌        | 150/1000 [19:24<1:34:38,  6.68s/it]"
          ]
        },
        {
          "name": "stdout",
          "output_type": "stream",
          "text": [
            "{'loss': 3.033, 'learning_rate': 5.1e-05, 'epoch': 7.5}\n"
          ]
        },
        {
          "name": "stderr",
          "output_type": "stream",
          "text": [
            " 15%|█▌        | 151/1000 [19:31<1:32:26,  6.53s/it]"
          ]
        },
        {
          "name": "stdout",
          "output_type": "stream",
          "text": [
            "{'loss': 3.1358, 'learning_rate': 5.094e-05, 'epoch': 7.55}\n"
          ]
        },
        {
          "name": "stderr",
          "output_type": "stream",
          "text": [
            " 15%|█▌        | 152/1000 [19:37<1:30:52,  6.43s/it]"
          ]
        },
        {
          "name": "stdout",
          "output_type": "stream",
          "text": [
            "{'loss': 3.3865, 'learning_rate': 5.088e-05, 'epoch': 7.6}\n"
          ]
        },
        {
          "name": "stderr",
          "output_type": "stream",
          "text": [
            " 15%|█▌        | 153/1000 [19:43<1:30:00,  6.38s/it]"
          ]
        },
        {
          "name": "stdout",
          "output_type": "stream",
          "text": [
            "{'loss': 2.9099, 'learning_rate': 5.082e-05, 'epoch': 7.65}\n"
          ]
        },
        {
          "name": "stderr",
          "output_type": "stream",
          "text": [
            " 15%|█▌        | 154/1000 [19:49<1:29:16,  6.33s/it]"
          ]
        },
        {
          "name": "stdout",
          "output_type": "stream",
          "text": [
            "{'loss': 3.1893, 'learning_rate': 5.076e-05, 'epoch': 7.7}\n"
          ]
        },
        {
          "name": "stderr",
          "output_type": "stream",
          "text": [
            " 16%|█▌        | 155/1000 [19:55<1:28:18,  6.27s/it]"
          ]
        },
        {
          "name": "stdout",
          "output_type": "stream",
          "text": [
            "{'loss': 3.1006, 'learning_rate': 5.07e-05, 'epoch': 7.75}\n"
          ]
        },
        {
          "name": "stderr",
          "output_type": "stream",
          "text": [
            " 16%|█▌        | 156/1000 [20:01<1:27:20,  6.21s/it]"
          ]
        },
        {
          "name": "stdout",
          "output_type": "stream",
          "text": [
            "{'loss': 3.0674, 'learning_rate': 5.0639999999999996e-05, 'epoch': 7.8}\n"
          ]
        },
        {
          "name": "stderr",
          "output_type": "stream",
          "text": [
            " 16%|█▌        | 157/1000 [20:08<1:26:44,  6.17s/it]"
          ]
        },
        {
          "name": "stdout",
          "output_type": "stream",
          "text": [
            "{'loss': 2.7781, 'learning_rate': 5.058e-05, 'epoch': 7.85}\n"
          ]
        },
        {
          "name": "stderr",
          "output_type": "stream",
          "text": [
            " 16%|█▌        | 158/1000 [20:14<1:27:04,  6.20s/it]"
          ]
        },
        {
          "name": "stdout",
          "output_type": "stream",
          "text": [
            "{'loss': 3.072, 'learning_rate': 5.052e-05, 'epoch': 7.9}\n"
          ]
        },
        {
          "name": "stderr",
          "output_type": "stream",
          "text": [
            " 16%|█▌        | 159/1000 [20:20<1:26:26,  6.17s/it]"
          ]
        },
        {
          "name": "stdout",
          "output_type": "stream",
          "text": [
            "{'loss': 2.7767, 'learning_rate': 5.046e-05, 'epoch': 7.95}\n"
          ]
        },
        {
          "name": "stderr",
          "output_type": "stream",
          "text": [
            " 16%|█▌        | 160/1000 [20:26<1:26:05,  6.15s/it]"
          ]
        },
        {
          "name": "stdout",
          "output_type": "stream",
          "text": [
            "{'loss': 2.9462, 'learning_rate': 5.04e-05, 'epoch': 8.0}\n"
          ]
        },
        {
          "name": "stderr",
          "output_type": "stream",
          "text": [
            "C:\\Users\\kuian\\.cache\\huggingface\\modules\\evaluate_modules\\metrics\\evaluate-metric--mean_iou\\08bc20f4f895f3caf75fb9e3fada1404bded3c3265243d05327cbb3b9326ffe9\\mean_iou.py:259: RuntimeWarning: invalid value encountered in divide\n",
            "  iou = total_area_intersect / total_area_union\n",
            "C:\\Users\\kuian\\.cache\\huggingface\\modules\\evaluate_modules\\metrics\\evaluate-metric--mean_iou\\08bc20f4f895f3caf75fb9e3fada1404bded3c3265243d05327cbb3b9326ffe9\\mean_iou.py:260: RuntimeWarning: invalid value encountered in divide\n",
            "  acc = total_area_intersect / total_area_label\n",
            "                                                    \n",
            " 16%|█▌        | 160/1000 [21:07<1:26:05,  6.15s/it]"
          ]
        },
        {
          "name": "stdout",
          "output_type": "stream",
          "text": [
            "{'eval_loss': 2.963402509689331, 'eval_mean_iou': 0.0778716818964936, 'eval_mean_accuracy': 0.13427995420636163, 'eval_overall_accuracy': 0.5424500891903304, 'eval_per_category_iou': [0.5179911697338166, nan, nan, 0.5979858983131526, 0.0, 0.40952299554618576, nan, nan, 0.13217874356670206, nan, 0.37869202381411615, nan, 0.0, nan, 0.34355549177516764, 0.0, nan, 0.0, 0.01700762050113419, 0.0, nan, nan, 0.0, nan, 0.0, nan, nan, 0.0987043443145383, nan, nan, nan, 0.0, 0.0, nan, nan, nan, nan, 0.07094141597729875, nan, nan, nan, 0.0, 0.0, 0.0, nan, nan, nan, 0.23107607560072183, nan, nan, nan, nan, nan, nan, nan, nan, nan, nan, 0.0010458992419544431, nan, nan, nan, nan, 0.0, nan, 0.30064810369659145, nan, nan, nan, nan, 0.0, nan, nan, nan, nan, nan, nan, nan, nan, nan, nan, 0.015517493778363343, 0.0, nan, nan, nan, nan, 0.0, nan, 0.0, nan, nan, nan, nan, nan, nan, 0.0, nan, 0.0, nan, nan, nan, nan, nan, 0.0, nan, nan, nan, nan, nan, nan, nan, nan, nan, nan, nan, nan, nan, nan, nan, nan, nan, nan, nan, nan, 0.0, nan, nan, nan, nan, nan, nan, nan, nan, 0.0, nan, nan, 0.0, 0.0, nan, nan, nan, nan, nan, nan, 0.0, nan, nan, 0.0, 0.0], 'eval_per_category_accuracy': [0.6598382708826548, nan, nan, 0.7520240945824603, 0.0, 0.5807867907502929, nan, nan, 0.7702927874315639, nan, 0.5811585480162997, nan, 0.0, nan, 0.6566878980891719, 0.0, nan, 0.0, 0.01740777197637593, 0.0, nan, nan, 0.0, nan, 0.0, nan, nan, 0.20009468669553296, nan, nan, nan, 0.0, 0.0, nan, nan, nan, nan, 0.4209844559585492, nan, nan, nan, 0.0, 0.0, 0.0, nan, nan, nan, 0.33321463788758626, nan, nan, nan, nan, nan, nan, nan, nan, nan, nan, 0.0010473145187450763, nan, nan, nan, nan, 0.0, nan, 0.3817918561231488, nan, nan, nan, nan, 0.0, nan, nan, nan, nan, nan, nan, nan, nan, nan, nan, 0.01586905534208294, 0.0, nan, nan, nan, nan, 0.0, nan, 0.0, nan, nan, nan, nan, nan, nan, 0.0, nan, 0.0, nan, nan, nan, nan, nan, 0.0, nan, nan, nan, nan, nan, nan, nan, nan, nan, nan, nan, nan, nan, nan, nan, nan, nan, nan, nan, nan, 0.0, nan, nan, nan, nan, nan, nan, nan, nan, 0.0, nan, nan, 0.0, 0.0, nan, nan, nan, nan, nan, nan, 0.0, nan, nan, 0.0, 0.0], 'eval_runtime': 41.1869, 'eval_samples_per_second': 0.243, 'eval_steps_per_second': 0.121, 'epoch': 8.0}\n"
          ]
        },
        {
          "name": "stderr",
          "output_type": "stream",
          "text": [
            " 16%|█▌        | 161/1000 [21:14<4:19:44, 18.58s/it]"
          ]
        },
        {
          "name": "stdout",
          "output_type": "stream",
          "text": [
            "{'loss': 3.428, 'learning_rate': 5.034e-05, 'epoch': 8.05}\n"
          ]
        },
        {
          "name": "stderr",
          "output_type": "stream",
          "text": [
            " 16%|█▌        | 162/1000 [21:20<3:28:04, 14.90s/it]"
          ]
        },
        {
          "name": "stdout",
          "output_type": "stream",
          "text": [
            "{'loss': 3.0079, 'learning_rate': 5.028e-05, 'epoch': 8.1}\n"
          ]
        },
        {
          "name": "stderr",
          "output_type": "stream",
          "text": [
            " 16%|█▋        | 163/1000 [21:26<2:51:22, 12.29s/it]"
          ]
        },
        {
          "name": "stdout",
          "output_type": "stream",
          "text": [
            "{'loss': 3.129, 'learning_rate': 5.022e-05, 'epoch': 8.15}\n"
          ]
        },
        {
          "name": "stderr",
          "output_type": "stream",
          "text": [
            " 16%|█▋        | 164/1000 [21:32<2:26:08, 10.49s/it]"
          ]
        },
        {
          "name": "stdout",
          "output_type": "stream",
          "text": [
            "{'loss': 2.7904, 'learning_rate': 5.016e-05, 'epoch': 8.2}\n"
          ]
        },
        {
          "name": "stderr",
          "output_type": "stream",
          "text": [
            " 16%|█▋        | 165/1000 [21:39<2:08:21,  9.22s/it]"
          ]
        },
        {
          "name": "stdout",
          "output_type": "stream",
          "text": [
            "{'loss': 2.8287, 'learning_rate': 5.01e-05, 'epoch': 8.25}\n"
          ]
        },
        {
          "name": "stderr",
          "output_type": "stream",
          "text": [
            " 17%|█▋        | 166/1000 [21:45<1:55:11,  8.29s/it]"
          ]
        },
        {
          "name": "stdout",
          "output_type": "stream",
          "text": [
            "{'loss': 3.585, 'learning_rate': 5.004e-05, 'epoch': 8.3}\n"
          ]
        },
        {
          "name": "stderr",
          "output_type": "stream",
          "text": [
            " 17%|█▋        | 167/1000 [21:51<1:46:05,  7.64s/it]"
          ]
        },
        {
          "name": "stdout",
          "output_type": "stream",
          "text": [
            "{'loss': 3.0369, 'learning_rate': 4.998e-05, 'epoch': 8.35}\n"
          ]
        },
        {
          "name": "stderr",
          "output_type": "stream",
          "text": [
            " 17%|█▋        | 168/1000 [21:57<1:39:52,  7.20s/it]"
          ]
        },
        {
          "name": "stdout",
          "output_type": "stream",
          "text": [
            "{'loss': 2.879, 'learning_rate': 4.9919999999999996e-05, 'epoch': 8.4}\n"
          ]
        },
        {
          "name": "stderr",
          "output_type": "stream",
          "text": [
            " 17%|█▋        | 169/1000 [22:03<1:36:06,  6.94s/it]"
          ]
        },
        {
          "name": "stdout",
          "output_type": "stream",
          "text": [
            "{'loss': 2.7775, 'learning_rate': 4.986e-05, 'epoch': 8.45}\n"
          ]
        },
        {
          "name": "stderr",
          "output_type": "stream",
          "text": [
            " 17%|█▋        | 170/1000 [22:09<1:32:33,  6.69s/it]"
          ]
        },
        {
          "name": "stdout",
          "output_type": "stream",
          "text": [
            "{'loss': 2.7158, 'learning_rate': 4.98e-05, 'epoch': 8.5}\n"
          ]
        },
        {
          "name": "stderr",
          "output_type": "stream",
          "text": [
            " 17%|█▋        | 171/1000 [22:16<1:30:06,  6.52s/it]"
          ]
        },
        {
          "name": "stdout",
          "output_type": "stream",
          "text": [
            "{'loss': 2.9631, 'learning_rate': 4.974e-05, 'epoch': 8.55}\n"
          ]
        },
        {
          "name": "stderr",
          "output_type": "stream",
          "text": [
            " 17%|█▋        | 172/1000 [22:22<1:28:28,  6.41s/it]"
          ]
        },
        {
          "name": "stdout",
          "output_type": "stream",
          "text": [
            "{'loss': 2.6582, 'learning_rate': 4.968e-05, 'epoch': 8.6}\n"
          ]
        },
        {
          "name": "stderr",
          "output_type": "stream",
          "text": [
            " 17%|█▋        | 173/1000 [22:28<1:27:18,  6.33s/it]"
          ]
        },
        {
          "name": "stdout",
          "output_type": "stream",
          "text": [
            "{'loss': 2.8458, 'learning_rate': 4.9619999999999996e-05, 'epoch': 8.65}\n"
          ]
        },
        {
          "name": "stderr",
          "output_type": "stream",
          "text": [
            " 17%|█▋        | 174/1000 [22:34<1:26:46,  6.30s/it]"
          ]
        },
        {
          "name": "stdout",
          "output_type": "stream",
          "text": [
            "{'loss': 3.0246, 'learning_rate': 4.956e-05, 'epoch': 8.7}\n"
          ]
        },
        {
          "name": "stderr",
          "output_type": "stream",
          "text": [
            " 18%|█▊        | 175/1000 [22:40<1:25:59,  6.25s/it]"
          ]
        },
        {
          "name": "stdout",
          "output_type": "stream",
          "text": [
            "{'loss': 3.0204, 'learning_rate': 4.95e-05, 'epoch': 8.75}\n"
          ]
        },
        {
          "name": "stderr",
          "output_type": "stream",
          "text": [
            " 18%|█▊        | 176/1000 [22:46<1:25:30,  6.23s/it]"
          ]
        },
        {
          "name": "stdout",
          "output_type": "stream",
          "text": [
            "{'loss': 2.6301, 'learning_rate': 4.944e-05, 'epoch': 8.8}\n"
          ]
        },
        {
          "name": "stderr",
          "output_type": "stream",
          "text": [
            " 18%|█▊        | 177/1000 [22:53<1:25:01,  6.20s/it]"
          ]
        },
        {
          "name": "stdout",
          "output_type": "stream",
          "text": [
            "{'loss': 2.8732, 'learning_rate': 4.938e-05, 'epoch': 8.85}\n"
          ]
        },
        {
          "name": "stderr",
          "output_type": "stream",
          "text": [
            " 18%|█▊        | 178/1000 [22:59<1:24:50,  6.19s/it]"
          ]
        },
        {
          "name": "stdout",
          "output_type": "stream",
          "text": [
            "{'loss': 2.838, 'learning_rate': 4.9319999999999995e-05, 'epoch': 8.9}\n"
          ]
        },
        {
          "name": "stderr",
          "output_type": "stream",
          "text": [
            " 18%|█▊        | 179/1000 [23:05<1:24:18,  6.16s/it]"
          ]
        },
        {
          "name": "stdout",
          "output_type": "stream",
          "text": [
            "{'loss': 2.7579, 'learning_rate': 4.926e-05, 'epoch': 8.95}\n"
          ]
        },
        {
          "name": "stderr",
          "output_type": "stream",
          "text": [
            " 18%|█▊        | 180/1000 [23:11<1:23:55,  6.14s/it]"
          ]
        },
        {
          "name": "stdout",
          "output_type": "stream",
          "text": [
            "{'loss': 2.6628, 'learning_rate': 4.9199999999999997e-05, 'epoch': 9.0}\n"
          ]
        },
        {
          "name": "stderr",
          "output_type": "stream",
          "text": [
            "C:\\Users\\kuian\\.cache\\huggingface\\modules\\evaluate_modules\\metrics\\evaluate-metric--mean_iou\\08bc20f4f895f3caf75fb9e3fada1404bded3c3265243d05327cbb3b9326ffe9\\mean_iou.py:259: RuntimeWarning: invalid value encountered in divide\n",
            "  iou = total_area_intersect / total_area_union\n",
            "C:\\Users\\kuian\\.cache\\huggingface\\modules\\evaluate_modules\\metrics\\evaluate-metric--mean_iou\\08bc20f4f895f3caf75fb9e3fada1404bded3c3265243d05327cbb3b9326ffe9\\mean_iou.py:260: RuntimeWarning: invalid value encountered in divide\n",
            "  acc = total_area_intersect / total_area_label\n",
            "                                                    \n",
            " 18%|█▊        | 180/1000 [23:52<1:23:55,  6.14s/it]"
          ]
        },
        {
          "name": "stdout",
          "output_type": "stream",
          "text": [
            "{'eval_loss': 2.7392945289611816, 'eval_mean_iou': 0.08588447188803815, 'eval_mean_accuracy': 0.14938470871550347, 'eval_overall_accuracy': 0.5722466492104805, 'eval_per_category_iou': [0.5503193532340511, nan, nan, 0.5959627638240962, 0.0, 0.4579710878187128, nan, nan, 0.08999746274853532, nan, 0.44266609515645094, nan, 0.0, nan, 0.38370486246903923, 0.0, nan, 0.0, 0.0033234859675036928, 0.0, nan, nan, 0.0, nan, 0.0, nan, nan, 0.10774625438316864, nan, nan, nan, 0.0, 0.0, nan, nan, nan, nan, 0.12473643913069085, nan, nan, nan, 0.0, 0.0, 0.0, nan, nan, nan, 0.27558587956096114, nan, nan, nan, nan, nan, nan, nan, nan, nan, nan, 0.0, nan, nan, nan, nan, 0.0, nan, 0.37786103938964494, nan, nan, nan, nan, 0.0, nan, nan, nan, nan, nan, nan, nan, nan, nan, nan, 0.025504151838671413, 0.0, nan, nan, nan, nan, 0.0, nan, 0.0, nan, nan, nan, nan, nan, nan, 0.0, nan, 0.0, nan, nan, nan, nan, nan, 0.0, nan, nan, nan, nan, nan, nan, nan, nan, nan, nan, nan, nan, nan, nan, nan, nan, nan, nan, nan, nan, 0.0, nan, nan, nan, nan, nan, nan, nan, nan, 0.0, nan, nan, 0.0, 0.0, nan, nan, nan, nan, nan, nan, 0.0, nan, nan, 0.0, 0.0], 'eval_per_category_accuracy': [0.7002207787451391, nan, nan, 0.739408111343909, 0.0, 0.7314424497088704, nan, nan, 0.9287669602475601, nan, 0.5094868328876874, nan, 0.0, nan, 0.6158026872471989, 0.0, nan, 0.0, 0.0033702816057519474, 0.0, nan, nan, 0.0, nan, 0.0, nan, nan, 0.18335684062059238, nan, nan, nan, 0.0, 0.0, nan, nan, nan, nan, 0.5598762821190653, nan, nan, nan, 0.0, 0.0, 0.0, nan, nan, nan, 0.4834830722033527, nan, nan, nan, nan, nan, nan, nan, nan, nan, nan, 0.0, nan, nan, nan, nan, 0.0, nan, 0.49442426397744305, nan, nan, nan, nan, 0.0, nan, nan, nan, nan, nan, nan, nan, nan, nan, nan, 0.02574978791356854, 0.0, nan, nan, nan, nan, 0.0, nan, 0.0, nan, nan, nan, nan, nan, nan, 0.0, nan, 0.0, nan, nan, nan, nan, nan, 0.0, nan, nan, nan, nan, nan, nan, nan, nan, nan, nan, nan, nan, nan, nan, nan, nan, nan, nan, nan, nan, 0.0, nan, nan, nan, nan, nan, nan, nan, nan, 0.0, nan, nan, 0.0, 0.0, nan, nan, nan, nan, nan, nan, 0.0, nan, nan, 0.0, 0.0], 'eval_runtime': 41.0466, 'eval_samples_per_second': 0.244, 'eval_steps_per_second': 0.122, 'epoch': 9.0}\n"
          ]
        },
        {
          "name": "stderr",
          "output_type": "stream",
          "text": [
            " 18%|█▊        | 181/1000 [23:58<4:13:12, 18.55s/it]"
          ]
        },
        {
          "name": "stdout",
          "output_type": "stream",
          "text": [
            "{'loss': 2.6708, 'learning_rate': 4.914e-05, 'epoch': 9.05}\n"
          ]
        },
        {
          "name": "stderr",
          "output_type": "stream",
          "text": [
            " 18%|█▊        | 182/1000 [24:05<3:22:12, 14.83s/it]"
          ]
        },
        {
          "name": "stdout",
          "output_type": "stream",
          "text": [
            "{'loss': 2.8396, 'learning_rate': 4.908e-05, 'epoch': 9.1}\n"
          ]
        },
        {
          "name": "stderr",
          "output_type": "stream",
          "text": [
            " 18%|█▊        | 183/1000 [24:11<2:46:30, 12.23s/it]"
          ]
        },
        {
          "name": "stdout",
          "output_type": "stream",
          "text": [
            "{'loss': 2.5782, 'learning_rate': 4.9019999999999995e-05, 'epoch': 9.15}\n"
          ]
        },
        {
          "name": "stderr",
          "output_type": "stream",
          "text": [
            " 18%|█▊        | 184/1000 [24:17<2:21:35, 10.41s/it]"
          ]
        },
        {
          "name": "stdout",
          "output_type": "stream",
          "text": [
            "{'loss': 2.8651, 'learning_rate': 4.896e-05, 'epoch': 9.2}\n"
          ]
        },
        {
          "name": "stderr",
          "output_type": "stream",
          "text": [
            " 18%|█▊        | 185/1000 [24:23<2:04:02,  9.13s/it]"
          ]
        },
        {
          "name": "stdout",
          "output_type": "stream",
          "text": [
            "{'loss': 2.6633, 'learning_rate': 4.8899999999999996e-05, 'epoch': 9.25}\n"
          ]
        },
        {
          "name": "stderr",
          "output_type": "stream",
          "text": [
            " 19%|█▊        | 186/1000 [24:29<1:51:20,  8.21s/it]"
          ]
        },
        {
          "name": "stdout",
          "output_type": "stream",
          "text": [
            "{'loss': 2.737, 'learning_rate': 4.884e-05, 'epoch': 9.3}\n"
          ]
        },
        {
          "name": "stderr",
          "output_type": "stream",
          "text": [
            " 19%|█▊        | 187/1000 [24:35<1:42:36,  7.57s/it]"
          ]
        },
        {
          "name": "stdout",
          "output_type": "stream",
          "text": [
            "{'loss': 3.6272, 'learning_rate': 4.878e-05, 'epoch': 9.35}\n"
          ]
        },
        {
          "name": "stderr",
          "output_type": "stream",
          "text": [
            " 19%|█▉        | 188/1000 [24:41<1:36:21,  7.12s/it]"
          ]
        },
        {
          "name": "stdout",
          "output_type": "stream",
          "text": [
            "{'loss': 2.939, 'learning_rate': 4.872000000000001e-05, 'epoch': 9.4}\n"
          ]
        },
        {
          "name": "stderr",
          "output_type": "stream",
          "text": [
            " 19%|█▉        | 189/1000 [24:47<1:32:16,  6.83s/it]"
          ]
        },
        {
          "name": "stdout",
          "output_type": "stream",
          "text": [
            "{'loss': 2.7222, 'learning_rate': 4.8660000000000005e-05, 'epoch': 9.45}\n"
          ]
        },
        {
          "name": "stderr",
          "output_type": "stream",
          "text": [
            " 19%|█▉        | 190/1000 [24:54<1:29:56,  6.66s/it]"
          ]
        },
        {
          "name": "stdout",
          "output_type": "stream",
          "text": [
            "{'loss': 2.7741, 'learning_rate': 4.86e-05, 'epoch': 9.5}\n"
          ]
        },
        {
          "name": "stderr",
          "output_type": "stream",
          "text": [
            " 19%|█▉        | 191/1000 [25:00<1:27:52,  6.52s/it]"
          ]
        },
        {
          "name": "stdout",
          "output_type": "stream",
          "text": [
            "{'loss': 2.9017, 'learning_rate': 4.8540000000000006e-05, 'epoch': 9.55}\n"
          ]
        },
        {
          "name": "stderr",
          "output_type": "stream",
          "text": [
            " 19%|█▉        | 192/1000 [25:06<1:26:07,  6.40s/it]"
          ]
        },
        {
          "name": "stdout",
          "output_type": "stream",
          "text": [
            "{'loss': 2.6802, 'learning_rate': 4.8480000000000003e-05, 'epoch': 9.6}\n"
          ]
        },
        {
          "name": "stderr",
          "output_type": "stream",
          "text": [
            " 19%|█▉        | 193/1000 [25:12<1:24:33,  6.29s/it]"
          ]
        },
        {
          "name": "stdout",
          "output_type": "stream",
          "text": [
            "{'loss': 2.5739, 'learning_rate': 4.842000000000001e-05, 'epoch': 9.65}\n"
          ]
        },
        {
          "name": "stderr",
          "output_type": "stream",
          "text": [
            " 19%|█▉        | 194/1000 [25:18<1:23:37,  6.23s/it]"
          ]
        },
        {
          "name": "stdout",
          "output_type": "stream",
          "text": [
            "{'loss': 2.9913, 'learning_rate': 4.8360000000000005e-05, 'epoch': 9.7}\n"
          ]
        },
        {
          "name": "stderr",
          "output_type": "stream",
          "text": [
            " 20%|█▉        | 195/1000 [25:24<1:23:41,  6.24s/it]"
          ]
        },
        {
          "name": "stdout",
          "output_type": "stream",
          "text": [
            "{'loss': 2.9325, 'learning_rate': 4.83e-05, 'epoch': 9.75}\n"
          ]
        },
        {
          "name": "stderr",
          "output_type": "stream",
          "text": [
            " 20%|█▉        | 196/1000 [25:31<1:24:02,  6.27s/it]"
          ]
        },
        {
          "name": "stdout",
          "output_type": "stream",
          "text": [
            "{'loss': 2.6146, 'learning_rate': 4.8240000000000006e-05, 'epoch': 9.8}\n"
          ]
        },
        {
          "name": "stderr",
          "output_type": "stream",
          "text": [
            " 20%|█▉        | 197/1000 [25:37<1:24:04,  6.28s/it]"
          ]
        },
        {
          "name": "stdout",
          "output_type": "stream",
          "text": [
            "{'loss': 2.3813, 'learning_rate': 4.818e-05, 'epoch': 9.85}\n"
          ]
        },
        {
          "name": "stderr",
          "output_type": "stream",
          "text": [
            " 20%|█▉        | 198/1000 [25:43<1:23:03,  6.21s/it]"
          ]
        },
        {
          "name": "stdout",
          "output_type": "stream",
          "text": [
            "{'loss': 2.7496, 'learning_rate': 4.812000000000001e-05, 'epoch': 9.9}\n"
          ]
        },
        {
          "name": "stderr",
          "output_type": "stream",
          "text": [
            " 20%|█▉        | 199/1000 [25:49<1:23:22,  6.25s/it]"
          ]
        },
        {
          "name": "stdout",
          "output_type": "stream",
          "text": [
            "{'loss': 2.6866, 'learning_rate': 4.8060000000000004e-05, 'epoch': 9.95}\n"
          ]
        },
        {
          "name": "stderr",
          "output_type": "stream",
          "text": [
            " 20%|██        | 200/1000 [25:56<1:23:01,  6.23s/it]"
          ]
        },
        {
          "name": "stdout",
          "output_type": "stream",
          "text": [
            "{'loss': 2.5953, 'learning_rate': 4.8e-05, 'epoch': 10.0}\n"
          ]
        },
        {
          "name": "stderr",
          "output_type": "stream",
          "text": [
            "C:\\Users\\kuian\\.cache\\huggingface\\modules\\evaluate_modules\\metrics\\evaluate-metric--mean_iou\\08bc20f4f895f3caf75fb9e3fada1404bded3c3265243d05327cbb3b9326ffe9\\mean_iou.py:259: RuntimeWarning: invalid value encountered in divide\n",
            "  iou = total_area_intersect / total_area_union\n",
            "C:\\Users\\kuian\\.cache\\huggingface\\modules\\evaluate_modules\\metrics\\evaluate-metric--mean_iou\\08bc20f4f895f3caf75fb9e3fada1404bded3c3265243d05327cbb3b9326ffe9\\mean_iou.py:260: RuntimeWarning: invalid value encountered in divide\n",
            "  acc = total_area_intersect / total_area_label\n",
            "                                                    \n",
            " 20%|██        | 200/1000 [26:37<1:23:01,  6.23s/it]"
          ]
        },
        {
          "name": "stdout",
          "output_type": "stream",
          "text": [
            "{'eval_loss': 2.824267625808716, 'eval_mean_iou': 0.07477588520780362, 'eval_mean_accuracy': 0.13625580836457435, 'eval_overall_accuracy': 0.5276332860877561, 'eval_per_category_iou': [0.4890528130716837, nan, nan, 0.5857943914095367, 0.0, 0.46350281251706626, nan, nan, 0.1464487743557511, nan, 0.2960289030482148, nan, 0.0, nan, 0.32865672363363874, 0.0, nan, 0.0, 0.024388992633026206, 0.0, nan, nan, 0.0, nan, 0.0, nan, nan, 0.12764399259035886, nan, nan, nan, 0.0, 0.0, nan, nan, nan, nan, 0.06465031956108395, nan, nan, nan, 0.0, 0.0, 0.0, nan, nan, nan, 0.14038573680914018, nan, nan, nan, nan, nan, nan, nan, nan, nan, nan, 0.0, nan, nan, nan, nan, 0.0, nan, 0.296117520232981, nan, nan, nan, nan, 0.0, nan, nan, nan, nan, nan, nan, nan, nan, nan, nan, 0.028364428449663793, 0.0, nan, nan, nan, nan, 0.0, nan, 0.0, nan, nan, nan, nan, nan, nan, 0.0, nan, 0.0, nan, nan, nan, nan, nan, 0.0, nan, nan, nan, nan, nan, nan, nan, nan, nan, nan, nan, nan, nan, nan, nan, nan, nan, nan, nan, nan, 0.0, nan, nan, nan, nan, nan, nan, nan, nan, 0.0, nan, nan, 0.0, 0.0, nan, nan, nan, nan, nan, nan, 0.0, nan, nan, 0.0, 0.0], 'eval_per_category_accuracy': [0.6067800016340069, nan, nan, 0.735591888656091, 0.0, 0.7620278963695214, nan, nan, 0.859676267555344, nan, 0.4753677812749751, nan, 0.0, nan, 0.6321167883211679, 0.0, nan, 0.0, 0.025432251990071042, 0.0, nan, nan, 0.0, nan, 0.0, nan, nan, 0.17534792429009635, nan, nan, nan, 0.0, 0.0, nan, nan, nan, nan, 0.5024584963519086, nan, nan, nan, 0.0, 0.0, 0.0, nan, nan, nan, 0.17804316862057631, nan, nan, nan, nan, nan, nan, nan, nan, nan, nan, 0.0, nan, nan, nan, nan, 0.0, nan, 0.46749815835598346, nan, nan, nan, nan, 0.0, nan, nan, nan, nan, nan, nan, nan, nan, nan, nan, 0.029891711163231697, 0.0, nan, nan, nan, nan, 0.0, nan, 0.0, nan, nan, nan, nan, nan, nan, 0.0, nan, 0.0, nan, nan, nan, nan, nan, 0.0, nan, nan, nan, nan, nan, nan, nan, nan, nan, nan, nan, nan, nan, nan, nan, nan, nan, nan, nan, nan, 0.0, nan, nan, nan, nan, nan, nan, nan, nan, 0.0, nan, nan, 0.0, 0.0, nan, nan, nan, nan, nan, nan, 0.0, nan, nan, 0.0, 0.0], 'eval_runtime': 41.0945, 'eval_samples_per_second': 0.243, 'eval_steps_per_second': 0.122, 'epoch': 10.0}\n"
          ]
        },
        {
          "name": "stderr",
          "output_type": "stream",
          "text": [
            " 20%|██        | 201/1000 [26:43<4:07:21, 18.58s/it]"
          ]
        },
        {
          "name": "stdout",
          "output_type": "stream",
          "text": [
            "{'loss': 2.9799, 'learning_rate': 4.7940000000000005e-05, 'epoch': 10.05}\n"
          ]
        },
        {
          "name": "stderr",
          "output_type": "stream",
          "text": [
            " 20%|██        | 202/1000 [26:49<3:17:02, 14.82s/it]"
          ]
        },
        {
          "name": "stdout",
          "output_type": "stream",
          "text": [
            "{'loss': 2.6002, 'learning_rate': 4.788e-05, 'epoch': 10.1}\n"
          ]
        },
        {
          "name": "stderr",
          "output_type": "stream",
          "text": [
            " 20%|██        | 203/1000 [26:55<2:42:16, 12.22s/it]"
          ]
        },
        {
          "name": "stdout",
          "output_type": "stream",
          "text": [
            "{'loss': 2.9107, 'learning_rate': 4.7820000000000006e-05, 'epoch': 10.15}\n"
          ]
        },
        {
          "name": "stderr",
          "output_type": "stream",
          "text": [
            " 20%|██        | 204/1000 [27:01<2:17:29, 10.36s/it]"
          ]
        },
        {
          "name": "stdout",
          "output_type": "stream",
          "text": [
            "{'loss': 2.9451, 'learning_rate': 4.7760000000000004e-05, 'epoch': 10.2}\n"
          ]
        },
        {
          "name": "stderr",
          "output_type": "stream",
          "text": [
            " 20%|██        | 205/1000 [27:07<2:00:17,  9.08s/it]"
          ]
        },
        {
          "name": "stdout",
          "output_type": "stream",
          "text": [
            "{'loss': 3.1401, 'learning_rate': 4.77e-05, 'epoch': 10.25}\n"
          ]
        },
        {
          "name": "stderr",
          "output_type": "stream",
          "text": [
            " 21%|██        | 206/1000 [27:13<1:47:15,  8.10s/it]"
          ]
        },
        {
          "name": "stdout",
          "output_type": "stream",
          "text": [
            "{'loss': 2.724, 'learning_rate': 4.7640000000000005e-05, 'epoch': 10.3}\n"
          ]
        },
        {
          "name": "stderr",
          "output_type": "stream",
          "text": [
            " 21%|██        | 207/1000 [27:19<1:38:36,  7.46s/it]"
          ]
        },
        {
          "name": "stdout",
          "output_type": "stream",
          "text": [
            "{'loss': 2.6815, 'learning_rate': 4.758e-05, 'epoch': 10.35}\n"
          ]
        },
        {
          "name": "stderr",
          "output_type": "stream",
          "text": [
            " 21%|██        | 208/1000 [27:25<1:32:13,  6.99s/it]"
          ]
        },
        {
          "name": "stdout",
          "output_type": "stream",
          "text": [
            "{'loss': 2.6564, 'learning_rate': 4.7520000000000006e-05, 'epoch': 10.4}\n"
          ]
        },
        {
          "name": "stderr",
          "output_type": "stream",
          "text": [
            " 21%|██        | 209/1000 [27:31<1:28:08,  6.69s/it]"
          ]
        },
        {
          "name": "stdout",
          "output_type": "stream",
          "text": [
            "{'loss': 2.409, 'learning_rate': 4.746e-05, 'epoch': 10.45}\n"
          ]
        },
        {
          "name": "stderr",
          "output_type": "stream",
          "text": [
            " 21%|██        | 210/1000 [27:37<1:25:28,  6.49s/it]"
          ]
        },
        {
          "name": "stdout",
          "output_type": "stream",
          "text": [
            "{'loss': 2.6881, 'learning_rate': 4.74e-05, 'epoch': 10.5}\n"
          ]
        },
        {
          "name": "stderr",
          "output_type": "stream",
          "text": [
            " 21%|██        | 211/1000 [27:43<1:23:27,  6.35s/it]"
          ]
        },
        {
          "name": "stdout",
          "output_type": "stream",
          "text": [
            "{'loss': 2.5351, 'learning_rate': 4.7340000000000004e-05, 'epoch': 10.55}\n"
          ]
        },
        {
          "name": "stderr",
          "output_type": "stream",
          "text": [
            " 21%|██        | 212/1000 [27:49<1:21:38,  6.22s/it]"
          ]
        },
        {
          "name": "stdout",
          "output_type": "stream",
          "text": [
            "{'loss': 2.6331, 'learning_rate': 4.728e-05, 'epoch': 10.6}\n"
          ]
        },
        {
          "name": "stderr",
          "output_type": "stream",
          "text": [
            " 21%|██▏       | 213/1000 [27:55<1:20:46,  6.16s/it]"
          ]
        },
        {
          "name": "stdout",
          "output_type": "stream",
          "text": [
            "{'loss': 2.7006, 'learning_rate': 4.7220000000000005e-05, 'epoch': 10.65}\n"
          ]
        },
        {
          "name": "stderr",
          "output_type": "stream",
          "text": [
            " 21%|██▏       | 214/1000 [28:01<1:19:58,  6.10s/it]"
          ]
        },
        {
          "name": "stdout",
          "output_type": "stream",
          "text": [
            "{'loss': 2.8007, 'learning_rate': 4.716e-05, 'epoch': 10.7}\n"
          ]
        },
        {
          "name": "stderr",
          "output_type": "stream",
          "text": [
            " 22%|██▏       | 215/1000 [28:07<1:19:37,  6.09s/it]"
          ]
        },
        {
          "name": "stdout",
          "output_type": "stream",
          "text": [
            "{'loss': 2.574, 'learning_rate': 4.7100000000000006e-05, 'epoch': 10.75}\n"
          ]
        },
        {
          "name": "stderr",
          "output_type": "stream",
          "text": [
            " 22%|██▏       | 216/1000 [28:13<1:19:11,  6.06s/it]"
          ]
        },
        {
          "name": "stdout",
          "output_type": "stream",
          "text": [
            "{'loss': 2.5386, 'learning_rate': 4.7040000000000004e-05, 'epoch': 10.8}\n"
          ]
        },
        {
          "name": "stderr",
          "output_type": "stream",
          "text": [
            " 22%|██▏       | 217/1000 [28:19<1:18:51,  6.04s/it]"
          ]
        },
        {
          "name": "stdout",
          "output_type": "stream",
          "text": [
            "{'loss': 2.3689, 'learning_rate': 4.698e-05, 'epoch': 10.85}\n"
          ]
        },
        {
          "name": "stderr",
          "output_type": "stream",
          "text": [
            " 22%|██▏       | 218/1000 [28:25<1:18:40,  6.04s/it]"
          ]
        },
        {
          "name": "stdout",
          "output_type": "stream",
          "text": [
            "{'loss': 2.5003, 'learning_rate': 4.6920000000000005e-05, 'epoch': 10.9}\n"
          ]
        },
        {
          "name": "stderr",
          "output_type": "stream",
          "text": [
            " 22%|██▏       | 219/1000 [28:31<1:18:33,  6.04s/it]"
          ]
        },
        {
          "name": "stdout",
          "output_type": "stream",
          "text": [
            "{'loss': 3.0896, 'learning_rate': 4.686e-05, 'epoch': 10.95}\n"
          ]
        },
        {
          "name": "stderr",
          "output_type": "stream",
          "text": [
            " 22%|██▏       | 220/1000 [28:37<1:18:31,  6.04s/it]"
          ]
        },
        {
          "name": "stdout",
          "output_type": "stream",
          "text": [
            "{'loss': 2.3189, 'learning_rate': 4.6800000000000006e-05, 'epoch': 11.0}\n"
          ]
        },
        {
          "name": "stderr",
          "output_type": "stream",
          "text": [
            "C:\\Users\\kuian\\.cache\\huggingface\\modules\\evaluate_modules\\metrics\\evaluate-metric--mean_iou\\08bc20f4f895f3caf75fb9e3fada1404bded3c3265243d05327cbb3b9326ffe9\\mean_iou.py:259: RuntimeWarning: invalid value encountered in divide\n",
            "  iou = total_area_intersect / total_area_union\n",
            "C:\\Users\\kuian\\.cache\\huggingface\\modules\\evaluate_modules\\metrics\\evaluate-metric--mean_iou\\08bc20f4f895f3caf75fb9e3fada1404bded3c3265243d05327cbb3b9326ffe9\\mean_iou.py:260: RuntimeWarning: invalid value encountered in divide\n",
            "  acc = total_area_intersect / total_area_label\n",
            "                                                    \n",
            " 22%|██▏       | 220/1000 [29:18<1:18:31,  6.04s/it]"
          ]
        },
        {
          "name": "stdout",
          "output_type": "stream",
          "text": [
            "{'eval_loss': 2.658076763153076, 'eval_mean_iou': 0.0802652652887255, 'eval_mean_accuracy': 0.1392554247371596, 'eval_overall_accuracy': 0.5631547362278178, 'eval_per_category_iou': [0.5415439882171211, nan, nan, 0.5718997640412378, 0.0, 0.4751652713972436, nan, nan, 0.12944875509718784, nan, 0.32542527738848326, nan, 0.0, nan, 0.3668826688520343, 0.0, nan, 0.0, 0.008350135650117704, 0.0, nan, nan, 0.0, nan, 0.0, nan, nan, 0.1079992221965655, nan, nan, nan, 0.0, 0.0, nan, nan, nan, nan, 0.08731205370335249, nan, nan, nan, 0.0, 0.0, 0.0, nan, nan, nan, 0.2222348034497726, nan, nan, nan, nan, nan, nan, nan, nan, nan, nan, 3.7012704610857674e-05, nan, nan, nan, nan, 0.0, nan, 0.33920992491021873, nan, nan, nan, nan, 0.0, nan, nan, nan, nan, nan, nan, nan, nan, nan, nan, 0.0351017339410742, 0.0, nan, nan, nan, nan, 0.0, nan, 0.0, nan, nan, nan, nan, nan, nan, 0.0, nan, 0.0, nan, nan, nan, nan, nan, 0.0, nan, nan, nan, nan, nan, nan, nan, nan, nan, nan, nan, nan, nan, nan, nan, nan, nan, nan, nan, nan, 0.0, nan, nan, nan, nan, nan, nan, nan, nan, 0.0, nan, nan, 0.0, 0.0, nan, nan, nan, nan, nan, nan, 0.0, nan, nan, 0.0, 0.0], 'eval_per_category_accuracy': [0.7078329969846, nan, nan, 0.7590017958695001, 0.0, 0.6663209923098679, nan, nan, 0.8746726969769103, nan, 0.4146875709169125, nan, 0.0, nan, 0.6056813426937561, 0.0, nan, 0.0, 0.008463151587777112, 0.0, nan, nan, 0.0, nan, 0.0, nan, nan, 0.1752986083028396, nan, nan, nan, 0.0, 0.0, nan, nan, nan, nan, 0.5233160621761658, nan, nan, nan, 0.0, 0.0, 0.0, nan, nan, nan, 0.3225594390270626, nan, nan, nan, nan, nan, nan, nan, nan, nan, nan, 3.707308030956022e-05, nan, nan, nan, nan, 0.0, nan, 0.4750679503137145, nan, nan, nan, nan, 0.0, nan, nan, nan, nan, nan, nan, nan, nan, nan, nan, 0.03727730924696841, 0.0, nan, nan, nan, nan, 0.0, nan, 0.0, nan, nan, nan, nan, nan, nan, 0.0, nan, 0.0, nan, nan, nan, nan, nan, 0.0, nan, nan, nan, nan, nan, nan, nan, nan, nan, nan, nan, nan, nan, nan, nan, nan, nan, nan, nan, nan, 0.0, nan, nan, nan, nan, nan, nan, nan, nan, 0.0, nan, nan, 0.0, 0.0, nan, nan, nan, nan, nan, nan, 0.0, nan, nan, 0.0, 0.0], 'eval_runtime': 40.9955, 'eval_samples_per_second': 0.244, 'eval_steps_per_second': 0.122, 'epoch': 11.0}\n"
          ]
        },
        {
          "name": "stderr",
          "output_type": "stream",
          "text": [
            " 22%|██▏       | 221/1000 [29:24<3:58:57, 18.41s/it]"
          ]
        },
        {
          "name": "stdout",
          "output_type": "stream",
          "text": [
            "{'loss': 2.7521, 'learning_rate': 4.674e-05, 'epoch': 11.05}\n"
          ]
        },
        {
          "name": "stderr",
          "output_type": "stream",
          "text": [
            " 22%|██▏       | 222/1000 [29:31<3:11:14, 14.75s/it]"
          ]
        },
        {
          "name": "stdout",
          "output_type": "stream",
          "text": [
            "{'loss': 2.5411, 'learning_rate': 4.668e-05, 'epoch': 11.1}\n"
          ]
        },
        {
          "name": "stderr",
          "output_type": "stream",
          "text": [
            " 22%|██▏       | 223/1000 [29:36<2:36:47, 12.11s/it]"
          ]
        },
        {
          "name": "stdout",
          "output_type": "stream",
          "text": [
            "{'loss': 2.794, 'learning_rate': 4.6620000000000004e-05, 'epoch': 11.15}\n"
          ]
        },
        {
          "name": "stderr",
          "output_type": "stream",
          "text": [
            " 22%|██▏       | 224/1000 [29:43<2:13:06, 10.29s/it]"
          ]
        },
        {
          "name": "stdout",
          "output_type": "stream",
          "text": [
            "{'loss': 2.5382, 'learning_rate': 4.656e-05, 'epoch': 11.2}\n"
          ]
        },
        {
          "name": "stderr",
          "output_type": "stream",
          "text": [
            " 22%|██▎       | 225/1000 [29:49<1:56:11,  9.00s/it]"
          ]
        },
        {
          "name": "stdout",
          "output_type": "stream",
          "text": [
            "{'loss': 2.1645, 'learning_rate': 4.6500000000000005e-05, 'epoch': 11.25}\n"
          ]
        },
        {
          "name": "stderr",
          "output_type": "stream",
          "text": [
            " 23%|██▎       | 226/1000 [29:55<1:44:44,  8.12s/it]"
          ]
        },
        {
          "name": "stdout",
          "output_type": "stream",
          "text": [
            "{'loss': 2.8291, 'learning_rate': 4.644e-05, 'epoch': 11.3}\n"
          ]
        },
        {
          "name": "stderr",
          "output_type": "stream",
          "text": [
            " 23%|██▎       | 227/1000 [30:01<1:36:18,  7.48s/it]"
          ]
        },
        {
          "name": "stdout",
          "output_type": "stream",
          "text": [
            "{'loss': 3.1159, 'learning_rate': 4.638e-05, 'epoch': 11.35}\n"
          ]
        },
        {
          "name": "stderr",
          "output_type": "stream",
          "text": [
            " 23%|██▎       | 228/1000 [30:07<1:30:24,  7.03s/it]"
          ]
        },
        {
          "name": "stdout",
          "output_type": "stream",
          "text": [
            "{'loss': 2.3261, 'learning_rate': 4.6320000000000004e-05, 'epoch': 11.4}\n"
          ]
        },
        {
          "name": "stderr",
          "output_type": "stream",
          "text": [
            " 23%|██▎       | 229/1000 [30:12<1:25:54,  6.69s/it]"
          ]
        },
        {
          "name": "stdout",
          "output_type": "stream",
          "text": [
            "{'loss': 2.6192, 'learning_rate': 4.626e-05, 'epoch': 11.45}\n"
          ]
        },
        {
          "name": "stderr",
          "output_type": "stream",
          "text": [
            " 23%|██▎       | 230/1000 [30:18<1:23:13,  6.48s/it]"
          ]
        },
        {
          "name": "stdout",
          "output_type": "stream",
          "text": [
            "{'loss': 2.3294, 'learning_rate': 4.6200000000000005e-05, 'epoch': 11.5}\n"
          ]
        },
        {
          "name": "stderr",
          "output_type": "stream",
          "text": [
            " 23%|██▎       | 231/1000 [30:24<1:21:15,  6.34s/it]"
          ]
        },
        {
          "name": "stdout",
          "output_type": "stream",
          "text": [
            "{'loss': 2.7962, 'learning_rate': 4.614e-05, 'epoch': 11.55}\n"
          ]
        },
        {
          "name": "stderr",
          "output_type": "stream",
          "text": [
            " 23%|██▎       | 232/1000 [30:30<1:19:48,  6.24s/it]"
          ]
        },
        {
          "name": "stdout",
          "output_type": "stream",
          "text": [
            "{'loss': 2.7588, 'learning_rate': 4.608e-05, 'epoch': 11.6}\n"
          ]
        },
        {
          "name": "stderr",
          "output_type": "stream",
          "text": [
            " 23%|██▎       | 233/1000 [30:36<1:18:44,  6.16s/it]"
          ]
        },
        {
          "name": "stdout",
          "output_type": "stream",
          "text": [
            "{'loss': 2.4808, 'learning_rate': 4.602e-05, 'epoch': 11.65}\n"
          ]
        },
        {
          "name": "stderr",
          "output_type": "stream",
          "text": [
            " 23%|██▎       | 234/1000 [30:43<1:18:23,  6.14s/it]"
          ]
        },
        {
          "name": "stdout",
          "output_type": "stream",
          "text": [
            "{'loss': 2.5444, 'learning_rate': 4.596e-05, 'epoch': 11.7}\n"
          ]
        },
        {
          "name": "stderr",
          "output_type": "stream",
          "text": [
            " 24%|██▎       | 235/1000 [30:48<1:17:29,  6.08s/it]"
          ]
        },
        {
          "name": "stdout",
          "output_type": "stream",
          "text": [
            "{'loss': 2.4678, 'learning_rate': 4.5900000000000004e-05, 'epoch': 11.75}\n"
          ]
        },
        {
          "name": "stderr",
          "output_type": "stream",
          "text": [
            " 24%|██▎       | 236/1000 [30:54<1:17:03,  6.05s/it]"
          ]
        },
        {
          "name": "stdout",
          "output_type": "stream",
          "text": [
            "{'loss': 2.645, 'learning_rate': 4.584e-05, 'epoch': 11.8}\n"
          ]
        },
        {
          "name": "stderr",
          "output_type": "stream",
          "text": [
            " 24%|██▎       | 237/1000 [31:01<1:17:13,  6.07s/it]"
          ]
        },
        {
          "name": "stdout",
          "output_type": "stream",
          "text": [
            "{'loss': 2.5563, 'learning_rate': 4.578e-05, 'epoch': 11.85}\n"
          ]
        },
        {
          "name": "stderr",
          "output_type": "stream",
          "text": [
            " 24%|██▍       | 238/1000 [31:07<1:16:54,  6.06s/it]"
          ]
        },
        {
          "name": "stdout",
          "output_type": "stream",
          "text": [
            "{'loss': 2.3075, 'learning_rate': 4.572e-05, 'epoch': 11.9}\n"
          ]
        },
        {
          "name": "stderr",
          "output_type": "stream",
          "text": [
            " 24%|██▍       | 239/1000 [31:13<1:16:47,  6.05s/it]"
          ]
        },
        {
          "name": "stdout",
          "output_type": "stream",
          "text": [
            "{'loss': 2.5255, 'learning_rate': 4.566e-05, 'epoch': 11.95}\n"
          ]
        },
        {
          "name": "stderr",
          "output_type": "stream",
          "text": [
            " 24%|██▍       | 240/1000 [31:19<1:16:13,  6.02s/it]"
          ]
        },
        {
          "name": "stdout",
          "output_type": "stream",
          "text": [
            "{'loss': 2.6188, 'learning_rate': 4.5600000000000004e-05, 'epoch': 12.0}\n"
          ]
        },
        {
          "name": "stderr",
          "output_type": "stream",
          "text": [
            "C:\\Users\\kuian\\.cache\\huggingface\\modules\\evaluate_modules\\metrics\\evaluate-metric--mean_iou\\08bc20f4f895f3caf75fb9e3fada1404bded3c3265243d05327cbb3b9326ffe9\\mean_iou.py:259: RuntimeWarning: invalid value encountered in divide\n",
            "  iou = total_area_intersect / total_area_union\n",
            "C:\\Users\\kuian\\.cache\\huggingface\\modules\\evaluate_modules\\metrics\\evaluate-metric--mean_iou\\08bc20f4f895f3caf75fb9e3fada1404bded3c3265243d05327cbb3b9326ffe9\\mean_iou.py:260: RuntimeWarning: invalid value encountered in divide\n",
            "  acc = total_area_intersect / total_area_label\n",
            "                                                    \n",
            " 24%|██▍       | 240/1000 [31:58<1:16:13,  6.02s/it]"
          ]
        },
        {
          "name": "stdout",
          "output_type": "stream",
          "text": [
            "{'eval_loss': 2.475861072540283, 'eval_mean_iou': 0.07958525073844604, 'eval_mean_accuracy': 0.13897633355912334, 'eval_overall_accuracy': 0.5724732956333755, 'eval_per_category_iou': [0.5613066601379871, nan, nan, 0.5897908571659, 0.0, 0.5016454591768019, nan, nan, 0.10548302872062663, nan, 0.3937834516116243, nan, 0.0, nan, 0.3624059613370155, 0.0, nan, 0.0, 0.0025220285062475148, 0.0, nan, nan, 0.0, nan, 0.0, nan, nan, 0.10437009011672838, nan, nan, nan, 0.0, 0.0, nan, nan, nan, nan, 0.09113772402341427, nan, nan, nan, 0.0, 0.0, 0.0, nan, nan, nan, 0.12502117926126738, nan, nan, nan, nan, nan, nan, nan, nan, nan, nan, 0.0025675949273895196, nan, nan, nan, nan, 0.0, nan, 0.3159989234081821, nan, nan, nan, nan, 0.0, nan, nan, nan, nan, nan, nan, nan, nan, nan, nan, 0.027377071144656335, 0.0, nan, nan, nan, nan, 0.0, nan, 0.0, nan, nan, nan, nan, nan, nan, 0.0, nan, 0.0, nan, nan, nan, nan, nan, 0.0, nan, nan, nan, nan, nan, nan, nan, nan, nan, nan, nan, nan, nan, nan, nan, nan, nan, nan, nan, nan, 0.0, nan, nan, nan, nan, nan, nan, nan, nan, 0.0, nan, nan, 0.0, 0.0, nan, nan, nan, nan, nan, nan, 0.0, nan, nan, 0.0, 0.0], 'eval_per_category_accuracy': [0.7148028814866082, nan, nan, 0.7660992217898833, 0.0, 0.7691703366509093, nan, nan, 0.937633896691264, nan, 0.4900000986670087, nan, 0.0, nan, 0.5661815984006695, 0.0, nan, 0.0, 0.0025785329110673627, 0.0, nan, nan, 0.0, nan, 0.0, nan, nan, 0.15318531961691342, nan, nan, nan, 0.0, 0.0, nan, nan, nan, nan, 0.5470022205773502, nan, nan, nan, 0.0, 0.0, 0.0, nan, nan, nan, 0.16169058836419414, nan, nan, nan, nan, nan, nan, nan, nan, nan, nan, 0.0025858473515918256, nan, nan, nan, nan, 0.0, nan, 0.41753245103767117, nan, nan, nan, nan, 0.0, nan, nan, nan, nan, nan, nan, nan, nan, nan, nan, 0.030590348819801386, 0.0, nan, nan, nan, nan, 0.0, nan, 0.0, nan, nan, nan, nan, nan, nan, 0.0, nan, 0.0, nan, nan, nan, nan, nan, 0.0, nan, nan, nan, nan, nan, nan, nan, nan, nan, nan, nan, nan, nan, nan, nan, nan, nan, nan, nan, nan, 0.0, nan, nan, nan, nan, nan, nan, nan, nan, 0.0, nan, nan, 0.0, 0.0, nan, nan, nan, nan, nan, nan, 0.0, nan, nan, 0.0, 0.0], 'eval_runtime': 39.5546, 'eval_samples_per_second': 0.253, 'eval_steps_per_second': 0.126, 'epoch': 12.0}\n"
          ]
        },
        {
          "name": "stderr",
          "output_type": "stream",
          "text": [
            " 24%|██▍       | 241/1000 [32:05<3:48:04, 18.03s/it]"
          ]
        },
        {
          "name": "stdout",
          "output_type": "stream",
          "text": [
            "{'loss': 2.6003, 'learning_rate': 4.554e-05, 'epoch': 12.05}\n"
          ]
        },
        {
          "name": "stderr",
          "output_type": "stream",
          "text": [
            " 24%|██▍       | 242/1000 [32:11<3:03:01, 14.49s/it]"
          ]
        },
        {
          "name": "stdout",
          "output_type": "stream",
          "text": [
            "{'loss': 2.5302, 'learning_rate': 4.548e-05, 'epoch': 12.1}\n"
          ]
        },
        {
          "name": "stderr",
          "output_type": "stream",
          "text": [
            " 24%|██▍       | 243/1000 [32:17<2:31:29, 12.01s/it]"
          ]
        },
        {
          "name": "stdout",
          "output_type": "stream",
          "text": [
            "{'loss': 2.9593, 'learning_rate': 4.542e-05, 'epoch': 12.15}\n"
          ]
        },
        {
          "name": "stderr",
          "output_type": "stream",
          "text": [
            " 24%|██▍       | 244/1000 [32:23<2:09:26, 10.27s/it]"
          ]
        },
        {
          "name": "stdout",
          "output_type": "stream",
          "text": [
            "{'loss': 2.7457, 'learning_rate': 4.536e-05, 'epoch': 12.2}\n"
          ]
        },
        {
          "name": "stderr",
          "output_type": "stream",
          "text": [
            " 24%|██▍       | 245/1000 [32:30<1:53:59,  9.06s/it]"
          ]
        },
        {
          "name": "stdout",
          "output_type": "stream",
          "text": [
            "{'loss': 2.5241, 'learning_rate': 4.53e-05, 'epoch': 12.25}\n"
          ]
        },
        {
          "name": "stderr",
          "output_type": "stream",
          "text": [
            " 25%|██▍       | 246/1000 [32:36<1:42:31,  8.16s/it]"
          ]
        },
        {
          "name": "stdout",
          "output_type": "stream",
          "text": [
            "{'loss': 2.5852, 'learning_rate': 4.524e-05, 'epoch': 12.3}\n"
          ]
        },
        {
          "name": "stderr",
          "output_type": "stream",
          "text": [
            " 25%|██▍       | 247/1000 [32:42<1:34:20,  7.52s/it]"
          ]
        },
        {
          "name": "stdout",
          "output_type": "stream",
          "text": [
            "{'loss': 2.2682, 'learning_rate': 4.5180000000000004e-05, 'epoch': 12.35}\n"
          ]
        },
        {
          "name": "stderr",
          "output_type": "stream",
          "text": [
            " 25%|██▍       | 248/1000 [32:48<1:29:06,  7.11s/it]"
          ]
        },
        {
          "name": "stdout",
          "output_type": "stream",
          "text": [
            "{'loss': 1.9885, 'learning_rate': 4.512e-05, 'epoch': 12.4}\n"
          ]
        },
        {
          "name": "stderr",
          "output_type": "stream",
          "text": [
            " 25%|██▍       | 249/1000 [32:54<1:25:43,  6.85s/it]"
          ]
        },
        {
          "name": "stdout",
          "output_type": "stream",
          "text": [
            "{'loss': 2.5339, 'learning_rate': 4.506e-05, 'epoch': 12.45}\n"
          ]
        },
        {
          "name": "stderr",
          "output_type": "stream",
          "text": [
            " 25%|██▌       | 250/1000 [33:01<1:24:49,  6.79s/it]"
          ]
        },
        {
          "name": "stdout",
          "output_type": "stream",
          "text": [
            "{'loss': 2.2895, 'learning_rate': 4.5e-05, 'epoch': 12.5}\n"
          ]
        },
        {
          "name": "stderr",
          "output_type": "stream",
          "text": [
            " 25%|██▌       | 251/1000 [33:07<1:23:45,  6.71s/it]"
          ]
        },
        {
          "name": "stdout",
          "output_type": "stream",
          "text": [
            "{'loss': 2.3609, 'learning_rate': 4.494e-05, 'epoch': 12.55}\n"
          ]
        },
        {
          "name": "stderr",
          "output_type": "stream",
          "text": [
            " 25%|██▌       | 252/1000 [33:14<1:23:29,  6.70s/it]"
          ]
        },
        {
          "name": "stdout",
          "output_type": "stream",
          "text": [
            "{'loss': 2.5648, 'learning_rate': 4.4880000000000004e-05, 'epoch': 12.6}\n"
          ]
        },
        {
          "name": "stderr",
          "output_type": "stream",
          "text": [
            " 25%|██▌       | 253/1000 [33:20<1:21:42,  6.56s/it]"
          ]
        },
        {
          "name": "stdout",
          "output_type": "stream",
          "text": [
            "{'loss': 2.1283, 'learning_rate': 4.482e-05, 'epoch': 12.65}\n"
          ]
        },
        {
          "name": "stderr",
          "output_type": "stream",
          "text": [
            " 25%|██▌       | 254/1000 [33:26<1:19:42,  6.41s/it]"
          ]
        },
        {
          "name": "stdout",
          "output_type": "stream",
          "text": [
            "{'loss': 2.2738, 'learning_rate': 4.476e-05, 'epoch': 12.7}\n"
          ]
        },
        {
          "name": "stderr",
          "output_type": "stream",
          "text": [
            " 26%|██▌       | 255/1000 [33:32<1:18:29,  6.32s/it]"
          ]
        },
        {
          "name": "stdout",
          "output_type": "stream",
          "text": [
            "{'loss': 2.2805, 'learning_rate': 4.47e-05, 'epoch': 12.75}\n"
          ]
        },
        {
          "name": "stderr",
          "output_type": "stream",
          "text": [
            " 26%|██▌       | 256/1000 [33:38<1:17:40,  6.26s/it]"
          ]
        },
        {
          "name": "stdout",
          "output_type": "stream",
          "text": [
            "{'loss': 2.4377, 'learning_rate': 4.464e-05, 'epoch': 12.8}\n"
          ]
        },
        {
          "name": "stderr",
          "output_type": "stream",
          "text": [
            " 26%|██▌       | 257/1000 [33:44<1:16:49,  6.20s/it]"
          ]
        },
        {
          "name": "stdout",
          "output_type": "stream",
          "text": [
            "{'loss': 2.7958, 'learning_rate': 4.4580000000000003e-05, 'epoch': 12.85}\n"
          ]
        },
        {
          "name": "stderr",
          "output_type": "stream",
          "text": [
            " 26%|██▌       | 258/1000 [33:51<1:16:36,  6.19s/it]"
          ]
        },
        {
          "name": "stdout",
          "output_type": "stream",
          "text": [
            "{'loss': 2.4905, 'learning_rate': 4.452e-05, 'epoch': 12.9}\n"
          ]
        },
        {
          "name": "stderr",
          "output_type": "stream",
          "text": [
            " 26%|██▌       | 259/1000 [33:57<1:17:02,  6.24s/it]"
          ]
        },
        {
          "name": "stdout",
          "output_type": "stream",
          "text": [
            "{'loss': 2.4414, 'learning_rate': 4.446e-05, 'epoch': 12.95}\n"
          ]
        },
        {
          "name": "stderr",
          "output_type": "stream",
          "text": [
            " 26%|██▌       | 260/1000 [34:03<1:16:21,  6.19s/it]"
          ]
        },
        {
          "name": "stdout",
          "output_type": "stream",
          "text": [
            "{'loss': 2.7003, 'learning_rate': 4.44e-05, 'epoch': 13.0}\n"
          ]
        },
        {
          "name": "stderr",
          "output_type": "stream",
          "text": [
            "C:\\Users\\kuian\\.cache\\huggingface\\modules\\evaluate_modules\\metrics\\evaluate-metric--mean_iou\\08bc20f4f895f3caf75fb9e3fada1404bded3c3265243d05327cbb3b9326ffe9\\mean_iou.py:259: RuntimeWarning: invalid value encountered in divide\n",
            "  iou = total_area_intersect / total_area_union\n",
            "C:\\Users\\kuian\\.cache\\huggingface\\modules\\evaluate_modules\\metrics\\evaluate-metric--mean_iou\\08bc20f4f895f3caf75fb9e3fada1404bded3c3265243d05327cbb3b9326ffe9\\mean_iou.py:260: RuntimeWarning: invalid value encountered in divide\n",
            "  acc = total_area_intersect / total_area_label\n",
            "                                                    \n",
            " 26%|██▌       | 260/1000 [34:43<1:16:21,  6.19s/it]"
          ]
        },
        {
          "name": "stdout",
          "output_type": "stream",
          "text": [
            "{'eval_loss': 2.3779125213623047, 'eval_mean_iou': 0.08001819335580201, 'eval_mean_accuracy': 0.1407651585621687, 'eval_overall_accuracy': 0.5655245975475037, 'eval_per_category_iou': [0.538724024915245, nan, nan, 0.5791494078525173, 0.0, 0.4522157031820018, nan, nan, 0.14764093785462867, nan, 0.42189377897327307, nan, 0.0, nan, 0.3800155907609396, 0.0, nan, 0.0, 0.00021073039153706748, 0.0, nan, nan, 0.0, nan, 0.0, nan, nan, 0.11153006428228254, nan, nan, nan, 0.0, 0.0, nan, nan, nan, nan, 0.09454088305883249, nan, nan, nan, 0.0, 0.0, 0.0, nan, nan, nan, 0.15246823578421162, nan, nan, nan, nan, nan, nan, nan, nan, nan, nan, 0.0, nan, nan, nan, nan, 0.0, nan, 0.2968453944088023, nan, nan, nan, nan, 0.0, nan, nan, nan, nan, nan, nan, nan, nan, nan, nan, 0.025492982767809556, 0.0, nan, nan, nan, nan, 0.0, nan, 0.0, nan, nan, nan, nan, nan, nan, 0.0, nan, 0.0, nan, nan, nan, nan, nan, 0.0, nan, nan, nan, nan, nan, nan, nan, nan, nan, nan, nan, nan, nan, nan, nan, nan, nan, nan, nan, nan, 0.0, nan, nan, nan, nan, nan, nan, nan, nan, 0.0, nan, nan, 0.0, 0.0, nan, nan, nan, nan, nan, nan, 0.0, nan, nan, 0.0, 0.0], 'eval_per_category_accuracy': [0.7089739845445487, nan, nan, 0.7428314875785693, 0.0, 0.6733467113798692, nan, nan, 0.9135920019043084, nan, 0.5818788171798995, nan, 0.0, nan, 0.575675298712167, 0.0, nan, 0.0, 0.00021398613369853634, 0.0, nan, nan, 0.0, nan, 0.0, nan, nan, 0.1808811780603036, nan, nan, nan, 0.0, 0.0, nan, nan, nan, nan, 0.5904356561277361, nan, nan, nan, 0.0, 0.0, 0.0, nan, nan, nan, 0.1804535992111318, nan, nan, nan, nan, nan, nan, nan, nan, nan, nan, 0.0, nan, nan, nan, nan, 0.0, nan, 0.4536794777351589, nan, nan, nan, nan, 0.0, nan, nan, nan, nan, nan, nan, nan, nan, nan, nan, 0.028644143919357254, 0.0, nan, nan, nan, nan, 0.0, nan, 0.0, nan, nan, nan, nan, nan, nan, 0.0, nan, 0.0, nan, nan, nan, nan, nan, 0.0, nan, nan, nan, nan, nan, nan, nan, nan, nan, nan, nan, nan, nan, nan, nan, nan, nan, nan, nan, nan, 0.0, nan, nan, nan, nan, nan, nan, nan, nan, 0.0, nan, nan, 0.0, 0.0, nan, nan, nan, nan, nan, nan, 0.0, nan, nan, 0.0, 0.0], 'eval_runtime': 40.3154, 'eval_samples_per_second': 0.248, 'eval_steps_per_second': 0.124, 'epoch': 13.0}\n"
          ]
        },
        {
          "name": "stderr",
          "output_type": "stream",
          "text": [
            " 26%|██▌       | 261/1000 [34:50<3:45:48, 18.33s/it]"
          ]
        },
        {
          "name": "stdout",
          "output_type": "stream",
          "text": [
            "{'loss': 2.2879, 'learning_rate': 4.434e-05, 'epoch': 13.05}\n"
          ]
        },
        {
          "name": "stderr",
          "output_type": "stream",
          "text": [
            " 26%|██▌       | 262/1000 [34:56<3:01:11, 14.73s/it]"
          ]
        },
        {
          "name": "stdout",
          "output_type": "stream",
          "text": [
            "{'loss': 2.4303, 'learning_rate': 4.428e-05, 'epoch': 13.1}\n"
          ]
        },
        {
          "name": "stderr",
          "output_type": "stream",
          "text": [
            " 26%|██▋       | 263/1000 [35:02<2:29:18, 12.16s/it]"
          ]
        },
        {
          "name": "stdout",
          "output_type": "stream",
          "text": [
            "{'loss': 2.7201, 'learning_rate': 4.422e-05, 'epoch': 13.15}\n"
          ]
        },
        {
          "name": "stderr",
          "output_type": "stream",
          "text": [
            " 26%|██▋       | 264/1000 [35:08<2:07:14, 10.37s/it]"
          ]
        },
        {
          "name": "stdout",
          "output_type": "stream",
          "text": [
            "{'loss': 2.4382, 'learning_rate': 4.416e-05, 'epoch': 13.2}\n"
          ]
        },
        {
          "name": "stderr",
          "output_type": "stream",
          "text": [
            " 26%|██▋       | 265/1000 [35:15<1:51:42,  9.12s/it]"
          ]
        },
        {
          "name": "stdout",
          "output_type": "stream",
          "text": [
            "{'loss': 2.168, 'learning_rate': 4.41e-05, 'epoch': 13.25}\n"
          ]
        },
        {
          "name": "stderr",
          "output_type": "stream",
          "text": [
            " 27%|██▋       | 266/1000 [35:21<1:41:03,  8.26s/it]"
          ]
        },
        {
          "name": "stdout",
          "output_type": "stream",
          "text": [
            "{'loss': 2.1451, 'learning_rate': 4.404e-05, 'epoch': 13.3}\n"
          ]
        },
        {
          "name": "stderr",
          "output_type": "stream",
          "text": [
            " 27%|██▋       | 267/1000 [35:27<1:33:36,  7.66s/it]"
          ]
        },
        {
          "name": "stdout",
          "output_type": "stream",
          "text": [
            "{'loss': 2.1393, 'learning_rate': 4.398e-05, 'epoch': 13.35}\n"
          ]
        },
        {
          "name": "stderr",
          "output_type": "stream",
          "text": [
            " 27%|██▋       | 268/1000 [35:33<1:28:30,  7.25s/it]"
          ]
        },
        {
          "name": "stdout",
          "output_type": "stream",
          "text": [
            "{'loss': 2.081, 'learning_rate': 4.392e-05, 'epoch': 13.4}\n"
          ]
        },
        {
          "name": "stderr",
          "output_type": "stream",
          "text": [
            " 27%|██▋       | 269/1000 [35:40<1:24:23,  6.93s/it]"
          ]
        },
        {
          "name": "stdout",
          "output_type": "stream",
          "text": [
            "{'loss': 2.0337, 'learning_rate': 4.386e-05, 'epoch': 13.45}\n"
          ]
        },
        {
          "name": "stderr",
          "output_type": "stream",
          "text": [
            " 27%|██▋       | 270/1000 [35:46<1:21:46,  6.72s/it]"
          ]
        },
        {
          "name": "stdout",
          "output_type": "stream",
          "text": [
            "{'loss': 2.367, 'learning_rate': 4.38e-05, 'epoch': 13.5}\n"
          ]
        },
        {
          "name": "stderr",
          "output_type": "stream",
          "text": [
            " 27%|██▋       | 271/1000 [35:52<1:20:07,  6.59s/it]"
          ]
        },
        {
          "name": "stdout",
          "output_type": "stream",
          "text": [
            "{'loss': 2.466, 'learning_rate': 4.374e-05, 'epoch': 13.55}\n"
          ]
        },
        {
          "name": "stderr",
          "output_type": "stream",
          "text": [
            " 27%|██▋       | 272/1000 [35:58<1:18:53,  6.50s/it]"
          ]
        },
        {
          "name": "stdout",
          "output_type": "stream",
          "text": [
            "{'loss': 2.4013, 'learning_rate': 4.368e-05, 'epoch': 13.6}\n"
          ]
        },
        {
          "name": "stderr",
          "output_type": "stream",
          "text": [
            " 27%|██▋       | 273/1000 [36:07<1:27:07,  7.19s/it]"
          ]
        },
        {
          "name": "stdout",
          "output_type": "stream",
          "text": [
            "{'loss': 2.3022, 'learning_rate': 4.362e-05, 'epoch': 13.65}\n"
          ]
        },
        {
          "name": "stderr",
          "output_type": "stream",
          "text": [
            " 27%|██▋       | 274/1000 [36:14<1:24:06,  6.95s/it]"
          ]
        },
        {
          "name": "stdout",
          "output_type": "stream",
          "text": [
            "{'loss': 2.4952, 'learning_rate': 4.356e-05, 'epoch': 13.7}\n"
          ]
        },
        {
          "name": "stderr",
          "output_type": "stream",
          "text": [
            " 28%|██▊       | 275/1000 [36:21<1:24:03,  6.96s/it]"
          ]
        },
        {
          "name": "stdout",
          "output_type": "stream",
          "text": [
            "{'loss': 3.2481, 'learning_rate': 4.35e-05, 'epoch': 13.75}\n"
          ]
        },
        {
          "name": "stderr",
          "output_type": "stream",
          "text": [
            " 28%|██▊       | 276/1000 [36:27<1:21:18,  6.74s/it]"
          ]
        },
        {
          "name": "stdout",
          "output_type": "stream",
          "text": [
            "{'loss': 2.35, 'learning_rate': 4.344e-05, 'epoch': 13.8}\n"
          ]
        },
        {
          "name": "stderr",
          "output_type": "stream",
          "text": [
            " 28%|██▊       | 277/1000 [36:33<1:18:46,  6.54s/it]"
          ]
        },
        {
          "name": "stdout",
          "output_type": "stream",
          "text": [
            "{'loss': 2.2595, 'learning_rate': 4.338e-05, 'epoch': 13.85}\n"
          ]
        },
        {
          "name": "stderr",
          "output_type": "stream",
          "text": [
            " 28%|██▊       | 278/1000 [36:39<1:17:22,  6.43s/it]"
          ]
        },
        {
          "name": "stdout",
          "output_type": "stream",
          "text": [
            "{'loss': 2.2597, 'learning_rate': 4.332e-05, 'epoch': 13.9}\n"
          ]
        },
        {
          "name": "stderr",
          "output_type": "stream",
          "text": [
            " 28%|██▊       | 279/1000 [36:45<1:16:34,  6.37s/it]"
          ]
        },
        {
          "name": "stdout",
          "output_type": "stream",
          "text": [
            "{'loss': 2.4379, 'learning_rate': 4.326e-05, 'epoch': 13.95}\n"
          ]
        },
        {
          "name": "stderr",
          "output_type": "stream",
          "text": [
            " 28%|██▊       | 280/1000 [36:51<1:15:51,  6.32s/it]"
          ]
        },
        {
          "name": "stdout",
          "output_type": "stream",
          "text": [
            "{'loss': 2.3676, 'learning_rate': 4.32e-05, 'epoch': 14.0}\n"
          ]
        },
        {
          "name": "stderr",
          "output_type": "stream",
          "text": [
            "C:\\Users\\kuian\\.cache\\huggingface\\modules\\evaluate_modules\\metrics\\evaluate-metric--mean_iou\\08bc20f4f895f3caf75fb9e3fada1404bded3c3265243d05327cbb3b9326ffe9\\mean_iou.py:259: RuntimeWarning: invalid value encountered in divide\n",
            "  iou = total_area_intersect / total_area_union\n",
            "C:\\Users\\kuian\\.cache\\huggingface\\modules\\evaluate_modules\\metrics\\evaluate-metric--mean_iou\\08bc20f4f895f3caf75fb9e3fada1404bded3c3265243d05327cbb3b9326ffe9\\mean_iou.py:260: RuntimeWarning: invalid value encountered in divide\n",
            "  acc = total_area_intersect / total_area_label\n",
            "                                                    \n",
            " 28%|██▊       | 280/1000 [37:33<1:15:51,  6.32s/it]"
          ]
        },
        {
          "name": "stdout",
          "output_type": "stream",
          "text": [
            "{'eval_loss': 2.346904754638672, 'eval_mean_iou': 0.08261609591744032, 'eval_mean_accuracy': 0.13673211902842602, 'eval_overall_accuracy': 0.5778069311619393, 'eval_per_category_iou': [0.5534985701329793, nan, nan, 0.5666205763901049, 0.0, 0.46238689650617526, nan, nan, 0.14205258425634085, nan, 0.5391376478868519, nan, 0.0, nan, 0.35819843885941155, 0.0, nan, 0.0, 0.025367406159318543, 0.0, nan, nan, 0.0, nan, 0.0, nan, nan, 0.1063371610795996, nan, nan, nan, 0.0, 0.0, nan, nan, nan, nan, 0.09852640574655565, nan, nan, nan, 0.0, 0.0, 0.0, nan, nan, nan, 0.10320357312898179, nan, nan, nan, nan, nan, nan, nan, nan, nan, nan, 4.585809670555433e-05, nan, nan, nan, nan, 0.0, nan, 0.3178541551714932, nan, nan, nan, nan, 0.0, nan, nan, nan, nan, nan, nan, nan, nan, nan, nan, 0.03141456328309424, 0.0, nan, nan, nan, nan, 0.0, nan, 0.0, nan, nan, nan, nan, nan, nan, 0.0, nan, 0.0, nan, nan, nan, nan, nan, 0.0, nan, nan, nan, nan, nan, nan, nan, nan, nan, nan, nan, nan, nan, nan, nan, nan, nan, nan, nan, nan, 0.0, nan, nan, nan, nan, nan, nan, nan, nan, 0.0, nan, nan, 0.0, 0.0, nan, nan, nan, nan, nan, nan, 0.0, nan, nan, 0.0, 0.0], 'eval_per_category_accuracy': [0.747937535861286, nan, nan, 0.7021999401376833, 0.0, 0.6914474776995148, nan, nan, 0.8555701023565818, nan, 0.6348728675592742, nan, 0.0, nan, 0.5436143009902832, 0.0, nan, 0.0, 0.026095609004536505, 0.0, nan, nan, 0.0, nan, 0.0, nan, nan, 0.20358625859331078, nan, nan, nan, 0.0, 0.0, nan, nan, nan, nan, 0.45106799196362485, nan, nan, nan, 0.0, 0.0, 0.0, nan, nan, nan, 0.12468500054782514, nan, nan, nan, nan, nan, nan, nan, nan, nan, nan, 4.634135038695028e-05, nan, nan, nan, nan, 0.0, nan, 0.4536286737622882, nan, nan, nan, nan, 0.0, nan, nan, nan, nan, nan, nan, nan, nan, nan, nan, 0.034532661310444634, 0.0, nan, nan, nan, nan, 0.0, nan, 0.0, nan, nan, nan, nan, nan, nan, 0.0, nan, 0.0, nan, nan, nan, nan, nan, 0.0, nan, nan, nan, nan, nan, nan, nan, nan, nan, nan, nan, nan, nan, nan, nan, nan, nan, nan, nan, nan, 0.0, nan, nan, nan, nan, nan, nan, nan, nan, 0.0, nan, nan, 0.0, 0.0, nan, nan, nan, nan, nan, nan, 0.0, nan, nan, 0.0, 0.0], 'eval_runtime': 41.2236, 'eval_samples_per_second': 0.243, 'eval_steps_per_second': 0.121, 'epoch': 14.0}\n"
          ]
        },
        {
          "name": "stderr",
          "output_type": "stream",
          "text": [
            " 28%|██▊       | 281/1000 [37:39<3:44:28, 18.73s/it]"
          ]
        },
        {
          "name": "stdout",
          "output_type": "stream",
          "text": [
            "{'loss': 2.3425, 'learning_rate': 4.314e-05, 'epoch': 14.05}\n"
          ]
        },
        {
          "name": "stderr",
          "output_type": "stream",
          "text": [
            " 28%|██▊       | 282/1000 [37:45<2:58:37, 14.93s/it]"
          ]
        },
        {
          "name": "stdout",
          "output_type": "stream",
          "text": [
            "{'loss': 2.2818, 'learning_rate': 4.308e-05, 'epoch': 14.1}\n"
          ]
        },
        {
          "name": "stderr",
          "output_type": "stream",
          "text": [
            " 28%|██▊       | 283/1000 [37:51<2:27:18, 12.33s/it]"
          ]
        },
        {
          "name": "stdout",
          "output_type": "stream",
          "text": [
            "{'loss': 2.3018, 'learning_rate': 4.302e-05, 'epoch': 14.15}\n"
          ]
        },
        {
          "name": "stderr",
          "output_type": "stream",
          "text": [
            " 28%|██▊       | 284/1000 [37:58<2:05:01, 10.48s/it]"
          ]
        },
        {
          "name": "stdout",
          "output_type": "stream",
          "text": [
            "{'loss': 2.2595, 'learning_rate': 4.296e-05, 'epoch': 14.2}\n"
          ]
        },
        {
          "name": "stderr",
          "output_type": "stream",
          "text": [
            " 28%|██▊       | 285/1000 [38:04<1:49:45,  9.21s/it]"
          ]
        },
        {
          "name": "stdout",
          "output_type": "stream",
          "text": [
            "{'loss': 2.293, 'learning_rate': 4.29e-05, 'epoch': 14.25}\n"
          ]
        },
        {
          "name": "stderr",
          "output_type": "stream",
          "text": [
            " 29%|██▊       | 286/1000 [38:10<1:38:48,  8.30s/it]"
          ]
        },
        {
          "name": "stdout",
          "output_type": "stream",
          "text": [
            "{'loss': 2.1601, 'learning_rate': 4.2839999999999996e-05, 'epoch': 14.3}\n"
          ]
        },
        {
          "name": "stderr",
          "output_type": "stream",
          "text": [
            " 29%|██▊       | 287/1000 [38:16<1:30:35,  7.62s/it]"
          ]
        },
        {
          "name": "stdout",
          "output_type": "stream",
          "text": [
            "{'loss': 2.2891, 'learning_rate': 4.278e-05, 'epoch': 14.35}\n"
          ]
        },
        {
          "name": "stderr",
          "output_type": "stream",
          "text": [
            " 29%|██▉       | 288/1000 [38:22<1:25:26,  7.20s/it]"
          ]
        },
        {
          "name": "stdout",
          "output_type": "stream",
          "text": [
            "{'loss': 2.2556, 'learning_rate': 4.272e-05, 'epoch': 14.4}\n"
          ]
        },
        {
          "name": "stderr",
          "output_type": "stream",
          "text": [
            " 29%|██▉       | 289/1000 [38:29<1:21:57,  6.92s/it]"
          ]
        },
        {
          "name": "stdout",
          "output_type": "stream",
          "text": [
            "{'loss': 2.0904, 'learning_rate': 4.266e-05, 'epoch': 14.45}\n"
          ]
        },
        {
          "name": "stderr",
          "output_type": "stream",
          "text": [
            " 29%|██▉       | 290/1000 [38:35<1:19:19,  6.70s/it]"
          ]
        },
        {
          "name": "stdout",
          "output_type": "stream",
          "text": [
            "{'loss': 2.3126, 'learning_rate': 4.26e-05, 'epoch': 14.5}\n"
          ]
        },
        {
          "name": "stderr",
          "output_type": "stream",
          "text": [
            " 29%|██▉       | 291/1000 [38:41<1:17:49,  6.59s/it]"
          ]
        },
        {
          "name": "stdout",
          "output_type": "stream",
          "text": [
            "{'loss': 2.4047, 'learning_rate': 4.2539999999999996e-05, 'epoch': 14.55}\n"
          ]
        },
        {
          "name": "stderr",
          "output_type": "stream",
          "text": [
            " 29%|██▉       | 292/1000 [38:47<1:16:28,  6.48s/it]"
          ]
        },
        {
          "name": "stdout",
          "output_type": "stream",
          "text": [
            "{'loss': 2.3394, 'learning_rate': 4.248e-05, 'epoch': 14.6}\n"
          ]
        },
        {
          "name": "stderr",
          "output_type": "stream",
          "text": [
            " 29%|██▉       | 293/1000 [38:54<1:15:48,  6.43s/it]"
          ]
        },
        {
          "name": "stdout",
          "output_type": "stream",
          "text": [
            "{'loss': 2.2875, 'learning_rate': 4.242e-05, 'epoch': 14.65}\n"
          ]
        },
        {
          "name": "stderr",
          "output_type": "stream",
          "text": [
            " 29%|██▉       | 294/1000 [39:00<1:15:06,  6.38s/it]"
          ]
        },
        {
          "name": "stdout",
          "output_type": "stream",
          "text": [
            "{'loss': 2.2283, 'learning_rate': 4.236e-05, 'epoch': 14.7}\n"
          ]
        },
        {
          "name": "stderr",
          "output_type": "stream",
          "text": [
            " 30%|██▉       | 295/1000 [39:06<1:13:32,  6.26s/it]"
          ]
        },
        {
          "name": "stdout",
          "output_type": "stream",
          "text": [
            "{'loss': 3.0435, 'learning_rate': 4.23e-05, 'epoch': 14.75}\n"
          ]
        },
        {
          "name": "stderr",
          "output_type": "stream",
          "text": [
            " 30%|██▉       | 296/1000 [39:12<1:13:17,  6.25s/it]"
          ]
        },
        {
          "name": "stdout",
          "output_type": "stream",
          "text": [
            "{'loss': 2.4634, 'learning_rate': 4.2239999999999995e-05, 'epoch': 14.8}\n"
          ]
        },
        {
          "name": "stderr",
          "output_type": "stream",
          "text": [
            " 30%|██▉       | 297/1000 [39:18<1:12:20,  6.17s/it]"
          ]
        },
        {
          "name": "stdout",
          "output_type": "stream",
          "text": [
            "{'loss': 2.4337, 'learning_rate': 4.218e-05, 'epoch': 14.85}\n"
          ]
        },
        {
          "name": "stderr",
          "output_type": "stream",
          "text": [
            " 30%|██▉       | 298/1000 [39:24<1:12:38,  6.21s/it]"
          ]
        },
        {
          "name": "stdout",
          "output_type": "stream",
          "text": [
            "{'loss': 2.0913, 'learning_rate': 4.2119999999999997e-05, 'epoch': 14.9}\n"
          ]
        },
        {
          "name": "stderr",
          "output_type": "stream",
          "text": [
            " 30%|██▉       | 299/1000 [39:31<1:12:18,  6.19s/it]"
          ]
        },
        {
          "name": "stdout",
          "output_type": "stream",
          "text": [
            "{'loss': 2.0275, 'learning_rate': 4.206e-05, 'epoch': 14.95}\n"
          ]
        },
        {
          "name": "stderr",
          "output_type": "stream",
          "text": [
            " 30%|███       | 300/1000 [39:37<1:12:21,  6.20s/it]"
          ]
        },
        {
          "name": "stdout",
          "output_type": "stream",
          "text": [
            "{'loss': 2.2185, 'learning_rate': 4.2e-05, 'epoch': 15.0}\n"
          ]
        },
        {
          "name": "stderr",
          "output_type": "stream",
          "text": [
            "C:\\Users\\kuian\\.cache\\huggingface\\modules\\evaluate_modules\\metrics\\evaluate-metric--mean_iou\\08bc20f4f895f3caf75fb9e3fada1404bded3c3265243d05327cbb3b9326ffe9\\mean_iou.py:259: RuntimeWarning: invalid value encountered in divide\n",
            "  iou = total_area_intersect / total_area_union\n",
            "C:\\Users\\kuian\\.cache\\huggingface\\modules\\evaluate_modules\\metrics\\evaluate-metric--mean_iou\\08bc20f4f895f3caf75fb9e3fada1404bded3c3265243d05327cbb3b9326ffe9\\mean_iou.py:260: RuntimeWarning: invalid value encountered in divide\n",
            "  acc = total_area_intersect / total_area_label\n",
            "                                                    \n",
            " 30%|███       | 300/1000 [40:18<1:12:21,  6.20s/it]"
          ]
        },
        {
          "name": "stdout",
          "output_type": "stream",
          "text": [
            "{'eval_loss': 2.1606569290161133, 'eval_mean_iou': 0.0881177796569026, 'eval_mean_accuracy': 0.1387309716929777, 'eval_overall_accuracy': 0.6024001359878537, 'eval_per_category_iou': [0.5788975710348276, nan, nan, 0.5794240767984203, 0.0, 0.4641746764236028, nan, nan, 0.1724432683075338, nan, 0.5317711301917667, nan, 0.0, nan, 0.3896572377555743, 0.0, nan, 0.0, 0.07317554240631163, 0.0, nan, nan, 0.0, nan, 0.0, nan, nan, 0.10758333808916874, nan, nan, nan, 0.0, 0.0, nan, nan, nan, nan, 0.09820732657833203, nan, nan, nan, 0.0, 0.0, 0.0, nan, nan, nan, 0.15381417584701726, nan, nan, nan, nan, nan, nan, nan, nan, nan, nan, 0.02250706499798143, nan, nan, nan, nan, 0.0, nan, 0.32244576081574267, nan, nan, nan, nan, 0.0, nan, nan, nan, nan, nan, nan, nan, nan, nan, nan, 0.030610017029824025, 0.0, nan, nan, nan, nan, 0.0, nan, 0.0, nan, nan, nan, nan, nan, nan, 0.0, nan, 0.0, nan, nan, nan, nan, nan, 0.0, nan, nan, nan, nan, nan, nan, nan, nan, nan, nan, nan, nan, nan, nan, nan, nan, nan, nan, nan, nan, 0.0, nan, nan, nan, nan, nan, nan, nan, nan, 0.0, nan, nan, 0.0, 0.0, nan, nan, nan, nan, nan, nan, 0.0, nan, nan, 0.0, 0.0], 'eval_per_category_accuracy': [0.8130226591677646, nan, nan, 0.667532175995211, 0.0, 0.7030791953419258, nan, nan, 0.8763984765532016, nan, 0.5707393118962812, nan, 0.0, nan, 0.532335301501697, 0.0, nan, 0.0, 0.07541941282204913, 0.0, nan, nan, 0.0, nan, 0.0, nan, nan, 0.16733900795960036, nan, nan, nan, 0.0, 0.0, nan, nan, nan, nan, 0.4363434492968172, nan, nan, nan, 0.0, 0.0, 0.0, nan, nan, nan, 0.2026952996603484, nan, nan, nan, nan, nan, nan, nan, nan, nan, nan, 0.022735066499837805, nan, nan, nan, nan, 0.0, nan, 0.4466177255061346, nan, nan, nan, nan, 0.0, nan, nan, nan, nan, nan, nan, nan, nan, nan, nan, 0.03498178551823943, 0.0, nan, nan, nan, nan, 0.0, nan, 0.0, nan, nan, nan, nan, nan, nan, 0.0, nan, 0.0, nan, nan, nan, nan, nan, 0.0, nan, nan, nan, nan, nan, nan, nan, nan, nan, nan, nan, nan, nan, nan, nan, nan, nan, nan, nan, nan, 0.0, nan, nan, nan, nan, nan, nan, nan, nan, 0.0, nan, nan, 0.0, 0.0, nan, nan, nan, nan, nan, nan, 0.0, nan, nan, 0.0, 0.0], 'eval_runtime': 41.2619, 'eval_samples_per_second': 0.242, 'eval_steps_per_second': 0.121, 'epoch': 15.0}\n"
          ]
        },
        {
          "name": "stderr",
          "output_type": "stream",
          "text": [
            " 30%|███       | 301/1000 [40:24<3:37:08, 18.64s/it]"
          ]
        },
        {
          "name": "stdout",
          "output_type": "stream",
          "text": [
            "{'loss': 2.0871, 'learning_rate': 4.194e-05, 'epoch': 15.05}\n"
          ]
        },
        {
          "name": "stderr",
          "output_type": "stream",
          "text": [
            " 30%|███       | 302/1000 [40:31<2:53:23, 14.90s/it]"
          ]
        },
        {
          "name": "stdout",
          "output_type": "stream",
          "text": [
            "{'loss': 2.2118, 'learning_rate': 4.188e-05, 'epoch': 15.1}\n"
          ]
        },
        {
          "name": "stderr",
          "output_type": "stream",
          "text": [
            " 30%|███       | 303/1000 [40:37<2:22:52, 12.30s/it]"
          ]
        },
        {
          "name": "stdout",
          "output_type": "stream",
          "text": [
            "{'loss': 2.006, 'learning_rate': 4.1819999999999996e-05, 'epoch': 15.15}\n"
          ]
        },
        {
          "name": "stderr",
          "output_type": "stream",
          "text": [
            " 30%|███       | 304/1000 [40:43<2:00:59, 10.43s/it]"
          ]
        },
        {
          "name": "stdout",
          "output_type": "stream",
          "text": [
            "{'loss': 2.3558, 'learning_rate': 4.176e-05, 'epoch': 15.2}\n"
          ]
        },
        {
          "name": "stderr",
          "output_type": "stream",
          "text": [
            " 30%|███       | 305/1000 [40:49<1:46:29,  9.19s/it]"
          ]
        },
        {
          "name": "stdout",
          "output_type": "stream",
          "text": [
            "{'loss': 2.0075, 'learning_rate': 4.17e-05, 'epoch': 15.25}\n"
          ]
        },
        {
          "name": "stderr",
          "output_type": "stream",
          "text": [
            " 31%|███       | 306/1000 [40:55<1:35:55,  8.29s/it]"
          ]
        },
        {
          "name": "stdout",
          "output_type": "stream",
          "text": [
            "{'loss': 3.1989, 'learning_rate': 4.164e-05, 'epoch': 15.3}\n"
          ]
        },
        {
          "name": "stderr",
          "output_type": "stream",
          "text": [
            " 31%|███       | 307/1000 [41:02<1:28:23,  7.65s/it]"
          ]
        },
        {
          "name": "stdout",
          "output_type": "stream",
          "text": [
            "{'loss': 2.0485, 'learning_rate': 4.158e-05, 'epoch': 15.35}\n"
          ]
        },
        {
          "name": "stderr",
          "output_type": "stream",
          "text": [
            " 31%|███       | 308/1000 [41:08<1:23:12,  7.21s/it]"
          ]
        },
        {
          "name": "stdout",
          "output_type": "stream",
          "text": [
            "{'loss': 2.0942, 'learning_rate': 4.1519999999999995e-05, 'epoch': 15.4}\n"
          ]
        },
        {
          "name": "stderr",
          "output_type": "stream",
          "text": [
            " 31%|███       | 309/1000 [41:14<1:19:44,  6.92s/it]"
          ]
        },
        {
          "name": "stdout",
          "output_type": "stream",
          "text": [
            "{'loss': 2.2596, 'learning_rate': 4.146e-05, 'epoch': 15.45}\n"
          ]
        },
        {
          "name": "stderr",
          "output_type": "stream",
          "text": [
            " 31%|███       | 310/1000 [41:20<1:17:10,  6.71s/it]"
          ]
        },
        {
          "name": "stdout",
          "output_type": "stream",
          "text": [
            "{'loss': 2.3469, 'learning_rate': 4.14e-05, 'epoch': 15.5}\n"
          ]
        },
        {
          "name": "stderr",
          "output_type": "stream",
          "text": [
            " 31%|███       | 311/1000 [41:26<1:15:24,  6.57s/it]"
          ]
        },
        {
          "name": "stdout",
          "output_type": "stream",
          "text": [
            "{'loss': 2.4661, 'learning_rate': 4.134e-05, 'epoch': 15.55}\n"
          ]
        },
        {
          "name": "stderr",
          "output_type": "stream",
          "text": [
            " 31%|███       | 312/1000 [41:32<1:13:18,  6.39s/it]"
          ]
        },
        {
          "name": "stdout",
          "output_type": "stream",
          "text": [
            "{'loss': 1.8661, 'learning_rate': 4.128e-05, 'epoch': 15.6}\n"
          ]
        },
        {
          "name": "stderr",
          "output_type": "stream",
          "text": [
            " 31%|███▏      | 313/1000 [41:39<1:12:26,  6.33s/it]"
          ]
        },
        {
          "name": "stdout",
          "output_type": "stream",
          "text": [
            "{'loss': 2.0279, 'learning_rate': 4.122e-05, 'epoch': 15.65}\n"
          ]
        },
        {
          "name": "stderr",
          "output_type": "stream",
          "text": [
            " 31%|███▏      | 314/1000 [41:45<1:11:46,  6.28s/it]"
          ]
        },
        {
          "name": "stdout",
          "output_type": "stream",
          "text": [
            "{'loss': 2.4894, 'learning_rate': 4.1160000000000006e-05, 'epoch': 15.7}\n"
          ]
        },
        {
          "name": "stderr",
          "output_type": "stream",
          "text": [
            " 32%|███▏      | 315/1000 [41:51<1:12:13,  6.33s/it]"
          ]
        },
        {
          "name": "stdout",
          "output_type": "stream",
          "text": [
            "{'loss': 2.1042, 'learning_rate': 4.11e-05, 'epoch': 15.75}\n"
          ]
        },
        {
          "name": "stderr",
          "output_type": "stream",
          "text": [
            " 32%|███▏      | 316/1000 [41:57<1:11:42,  6.29s/it]"
          ]
        },
        {
          "name": "stdout",
          "output_type": "stream",
          "text": [
            "{'loss': 2.1992, 'learning_rate': 4.104000000000001e-05, 'epoch': 15.8}\n"
          ]
        },
        {
          "name": "stderr",
          "output_type": "stream",
          "text": [
            " 32%|███▏      | 317/1000 [42:03<1:10:26,  6.19s/it]"
          ]
        },
        {
          "name": "stdout",
          "output_type": "stream",
          "text": [
            "{'loss': 2.1853, 'learning_rate': 4.0980000000000004e-05, 'epoch': 15.85}\n"
          ]
        },
        {
          "name": "stderr",
          "output_type": "stream",
          "text": [
            " 32%|███▏      | 318/1000 [42:10<1:10:30,  6.20s/it]"
          ]
        },
        {
          "name": "stdout",
          "output_type": "stream",
          "text": [
            "{'loss': 2.1128, 'learning_rate': 4.092e-05, 'epoch': 15.9}\n"
          ]
        },
        {
          "name": "stderr",
          "output_type": "stream",
          "text": [
            " 32%|███▏      | 319/1000 [42:16<1:09:43,  6.14s/it]"
          ]
        },
        {
          "name": "stdout",
          "output_type": "stream",
          "text": [
            "{'loss': 1.9713, 'learning_rate': 4.0860000000000005e-05, 'epoch': 15.95}\n"
          ]
        },
        {
          "name": "stderr",
          "output_type": "stream",
          "text": [
            " 32%|███▏      | 320/1000 [42:21<1:08:36,  6.05s/it]"
          ]
        },
        {
          "name": "stdout",
          "output_type": "stream",
          "text": [
            "{'loss': 2.1262, 'learning_rate': 4.08e-05, 'epoch': 16.0}\n"
          ]
        },
        {
          "name": "stderr",
          "output_type": "stream",
          "text": [
            "C:\\Users\\kuian\\.cache\\huggingface\\modules\\evaluate_modules\\metrics\\evaluate-metric--mean_iou\\08bc20f4f895f3caf75fb9e3fada1404bded3c3265243d05327cbb3b9326ffe9\\mean_iou.py:259: RuntimeWarning: invalid value encountered in divide\n",
            "  iou = total_area_intersect / total_area_union\n",
            "C:\\Users\\kuian\\.cache\\huggingface\\modules\\evaluate_modules\\metrics\\evaluate-metric--mean_iou\\08bc20f4f895f3caf75fb9e3fada1404bded3c3265243d05327cbb3b9326ffe9\\mean_iou.py:260: RuntimeWarning: invalid value encountered in divide\n",
            "  acc = total_area_intersect / total_area_label\n",
            "                                                    \n",
            " 32%|███▏      | 320/1000 [43:03<1:08:36,  6.05s/it]"
          ]
        },
        {
          "name": "stdout",
          "output_type": "stream",
          "text": [
            "{'eval_loss': 2.3175418376922607, 'eval_mean_iou': 0.08566943407818987, 'eval_mean_accuracy': 0.14259069603745786, 'eval_overall_accuracy': 0.5872243381862413, 'eval_per_category_iou': [0.5548111400295854, nan, nan, 0.5948622243677864, 0.0, 0.46667752923670974, nan, nan, 0.15634227688908717, nan, 0.4820532933092988, nan, 0.0, nan, 0.3911913963800454, 0.0, nan, 0.0, 0.05219431959853747, 0.0, nan, nan, 0.0, nan, 0.0, nan, nan, 0.11653206176430203, nan, nan, nan, 0.0, 0.0, nan, nan, nan, nan, 0.10295663344752413, nan, nan, nan, 0.0, 0.0, 0.0, nan, nan, nan, 0.1767994992697684, nan, nan, nan, nan, nan, nan, nan, nan, nan, nan, 0.007093101504101268, nan, nan, nan, nan, 0.0, nan, 0.2964186153873471, nan, nan, nan, nan, 0.0, nan, nan, nan, nan, nan, nan, nan, nan, nan, nan, 0.02884527194350179, 0.0, nan, nan, nan, nan, 0.0, nan, 0.0, nan, nan, nan, nan, nan, nan, 0.0, nan, 0.0, nan, nan, nan, nan, nan, 0.0, nan, nan, nan, nan, nan, nan, nan, nan, nan, nan, nan, nan, nan, nan, nan, nan, nan, nan, nan, nan, 0.0, nan, nan, nan, nan, nan, nan, nan, nan, 0.0, nan, nan, 0.0, 0.0, nan, nan, nan, nan, nan, nan, 0.0, nan, nan, 0.0, 0.0], 'eval_per_category_accuracy': [0.7569001574844558, nan, nan, 0.7560835079317569, 0.0, 0.6814678141259601, nan, nan, 0.8759223994287074, nan, 0.6306203194837742, nan, 0.0, nan, 0.5110604863080571, 0.0, nan, 0.0, 0.0533039459043054, 0.0, nan, nan, 0.0, nan, 0.0, nan, nan, 0.1841557596141517, nan, nan, nan, 0.0, 0.0, nan, nan, nan, nan, 0.5593211377815375, nan, nan, nan, 0.0, 0.0, 0.0, nan, nan, nan, 0.2321135093678098, nan, nan, nan, nan, nan, nan, nan, nan, nan, nan, 0.007229250660364243, nan, nan, nan, nan, 0.0, nan, 0.4240607615515533, nan, nan, nan, nan, 0.0, nan, nan, nan, nan, nan, nan, nan, nan, nan, nan, 0.03138879185588103, 0.0, nan, nan, nan, nan, 0.0, nan, 0.0, nan, nan, nan, nan, nan, nan, 0.0, nan, 0.0, nan, nan, nan, nan, nan, 0.0, nan, nan, nan, nan, nan, nan, nan, nan, nan, nan, nan, nan, nan, nan, nan, nan, nan, nan, nan, nan, 0.0, nan, nan, nan, nan, nan, nan, nan, nan, 0.0, nan, nan, 0.0, 0.0, nan, nan, nan, nan, nan, nan, 0.0, nan, nan, 0.0, 0.0], 'eval_runtime': 41.0646, 'eval_samples_per_second': 0.244, 'eval_steps_per_second': 0.122, 'epoch': 16.0}\n"
          ]
        },
        {
          "name": "stderr",
          "output_type": "stream",
          "text": [
            " 32%|███▏      | 321/1000 [43:09<3:28:58, 18.47s/it]"
          ]
        },
        {
          "name": "stdout",
          "output_type": "stream",
          "text": [
            "{'loss': 2.3907, 'learning_rate': 4.0740000000000006e-05, 'epoch': 16.05}\n"
          ]
        },
        {
          "name": "stderr",
          "output_type": "stream",
          "text": [
            " 32%|███▏      | 322/1000 [43:15<2:47:11, 14.80s/it]"
          ]
        },
        {
          "name": "stdout",
          "output_type": "stream",
          "text": [
            "{'loss': 1.8666, 'learning_rate': 4.0680000000000004e-05, 'epoch': 16.1}\n"
          ]
        },
        {
          "name": "stderr",
          "output_type": "stream",
          "text": [
            " 32%|███▏      | 323/1000 [43:21<2:17:25, 12.18s/it]"
          ]
        },
        {
          "name": "stdout",
          "output_type": "stream",
          "text": [
            "{'loss': 2.1098, 'learning_rate': 4.062e-05, 'epoch': 16.15}\n"
          ]
        },
        {
          "name": "stderr",
          "output_type": "stream",
          "text": [
            " 32%|███▏      | 324/1000 [43:27<1:56:58, 10.38s/it]"
          ]
        },
        {
          "name": "stdout",
          "output_type": "stream",
          "text": [
            "{'loss': 2.0189, 'learning_rate': 4.0560000000000005e-05, 'epoch': 16.2}\n"
          ]
        },
        {
          "name": "stderr",
          "output_type": "stream",
          "text": [
            " 32%|███▎      | 325/1000 [43:34<1:42:50,  9.14s/it]"
          ]
        },
        {
          "name": "stdout",
          "output_type": "stream",
          "text": [
            "{'loss': 1.9867, 'learning_rate': 4.05e-05, 'epoch': 16.25}\n"
          ]
        },
        {
          "name": "stderr",
          "output_type": "stream",
          "text": [
            " 33%|███▎      | 326/1000 [43:40<1:32:55,  8.27s/it]"
          ]
        },
        {
          "name": "stdout",
          "output_type": "stream",
          "text": [
            "{'loss': 2.3401, 'learning_rate': 4.0440000000000006e-05, 'epoch': 16.3}\n"
          ]
        },
        {
          "name": "stderr",
          "output_type": "stream",
          "text": [
            " 33%|███▎      | 327/1000 [43:46<1:25:46,  7.65s/it]"
          ]
        },
        {
          "name": "stdout",
          "output_type": "stream",
          "text": [
            "{'loss': 1.9335, 'learning_rate': 4.038e-05, 'epoch': 16.35}\n"
          ]
        },
        {
          "name": "stderr",
          "output_type": "stream",
          "text": [
            " 33%|███▎      | 328/1000 [43:52<1:20:39,  7.20s/it]"
          ]
        },
        {
          "name": "stdout",
          "output_type": "stream",
          "text": [
            "{'loss': 2.0798, 'learning_rate': 4.032e-05, 'epoch': 16.4}\n"
          ]
        },
        {
          "name": "stderr",
          "output_type": "stream",
          "text": [
            " 33%|███▎      | 329/1000 [43:58<1:17:10,  6.90s/it]"
          ]
        },
        {
          "name": "stdout",
          "output_type": "stream",
          "text": [
            "{'loss': 3.3399, 'learning_rate': 4.0260000000000004e-05, 'epoch': 16.45}\n"
          ]
        },
        {
          "name": "stderr",
          "output_type": "stream",
          "text": [
            " 33%|███▎      | 330/1000 [44:05<1:15:05,  6.72s/it]"
          ]
        },
        {
          "name": "stdout",
          "output_type": "stream",
          "text": [
            "{'loss': 2.2867, 'learning_rate': 4.02e-05, 'epoch': 16.5}\n"
          ]
        },
        {
          "name": "stderr",
          "output_type": "stream",
          "text": [
            " 33%|███▎      | 331/1000 [44:11<1:13:31,  6.59s/it]"
          ]
        },
        {
          "name": "stdout",
          "output_type": "stream",
          "text": [
            "{'loss': 1.8286, 'learning_rate': 4.0140000000000005e-05, 'epoch': 16.55}\n"
          ]
        },
        {
          "name": "stderr",
          "output_type": "stream",
          "text": [
            " 33%|███▎      | 332/1000 [44:17<1:11:59,  6.47s/it]"
          ]
        },
        {
          "name": "stdout",
          "output_type": "stream",
          "text": [
            "{'loss': 1.8341, 'learning_rate': 4.008e-05, 'epoch': 16.6}\n"
          ]
        },
        {
          "name": "stderr",
          "output_type": "stream",
          "text": [
            " 33%|███▎      | 333/1000 [44:23<1:10:16,  6.32s/it]"
          ]
        },
        {
          "name": "stdout",
          "output_type": "stream",
          "text": [
            "{'loss': 1.9508, 'learning_rate': 4.0020000000000006e-05, 'epoch': 16.65}\n"
          ]
        },
        {
          "name": "stderr",
          "output_type": "stream",
          "text": [
            " 33%|███▎      | 334/1000 [44:29<1:08:25,  6.16s/it]"
          ]
        },
        {
          "name": "stdout",
          "output_type": "stream",
          "text": [
            "{'loss': 2.1444, 'learning_rate': 3.9960000000000004e-05, 'epoch': 16.7}\n"
          ]
        },
        {
          "name": "stderr",
          "output_type": "stream",
          "text": [
            " 34%|███▎      | 335/1000 [44:35<1:08:11,  6.15s/it]"
          ]
        },
        {
          "name": "stdout",
          "output_type": "stream",
          "text": [
            "{'loss': 1.9078, 'learning_rate': 3.99e-05, 'epoch': 16.75}\n"
          ]
        },
        {
          "name": "stderr",
          "output_type": "stream",
          "text": [
            " 34%|███▎      | 336/1000 [44:41<1:07:00,  6.06s/it]"
          ]
        },
        {
          "name": "stdout",
          "output_type": "stream",
          "text": [
            "{'loss': 2.2584, 'learning_rate': 3.9840000000000005e-05, 'epoch': 16.8}\n"
          ]
        },
        {
          "name": "stderr",
          "output_type": "stream",
          "text": [
            " 34%|███▎      | 337/1000 [44:47<1:06:23,  6.01s/it]"
          ]
        },
        {
          "name": "stdout",
          "output_type": "stream",
          "text": [
            "{'loss': 1.9946, 'learning_rate': 3.978e-05, 'epoch': 16.85}\n"
          ]
        },
        {
          "name": "stderr",
          "output_type": "stream",
          "text": [
            " 34%|███▍      | 338/1000 [44:53<1:05:37,  5.95s/it]"
          ]
        },
        {
          "name": "stdout",
          "output_type": "stream",
          "text": [
            "{'loss': 1.8047, 'learning_rate': 3.9720000000000006e-05, 'epoch': 16.9}\n"
          ]
        },
        {
          "name": "stderr",
          "output_type": "stream",
          "text": [
            " 34%|███▍      | 339/1000 [44:59<1:06:39,  6.05s/it]"
          ]
        },
        {
          "name": "stdout",
          "output_type": "stream",
          "text": [
            "{'loss': 2.0533, 'learning_rate': 3.966e-05, 'epoch': 16.95}\n"
          ]
        },
        {
          "name": "stderr",
          "output_type": "stream",
          "text": [
            " 34%|███▍      | 340/1000 [45:05<1:07:36,  6.15s/it]"
          ]
        },
        {
          "name": "stdout",
          "output_type": "stream",
          "text": [
            "{'loss': 2.124, 'learning_rate': 3.96e-05, 'epoch': 17.0}\n"
          ]
        },
        {
          "name": "stderr",
          "output_type": "stream",
          "text": [
            "C:\\Users\\kuian\\.cache\\huggingface\\modules\\evaluate_modules\\metrics\\evaluate-metric--mean_iou\\08bc20f4f895f3caf75fb9e3fada1404bded3c3265243d05327cbb3b9326ffe9\\mean_iou.py:259: RuntimeWarning: invalid value encountered in divide\n",
            "  iou = total_area_intersect / total_area_union\n",
            "C:\\Users\\kuian\\.cache\\huggingface\\modules\\evaluate_modules\\metrics\\evaluate-metric--mean_iou\\08bc20f4f895f3caf75fb9e3fada1404bded3c3265243d05327cbb3b9326ffe9\\mean_iou.py:260: RuntimeWarning: invalid value encountered in divide\n",
            "  acc = total_area_intersect / total_area_label\n",
            "                                                    \n",
            " 34%|███▍      | 340/1000 [45:46<1:07:36,  6.15s/it]"
          ]
        },
        {
          "name": "stdout",
          "output_type": "stream",
          "text": [
            "{'eval_loss': 2.1767754554748535, 'eval_mean_iou': 0.09100495331881378, 'eval_mean_accuracy': 0.142470758653086, 'eval_overall_accuracy': 0.602171835211507, 'eval_per_category_iou': [0.5825374764496039, nan, nan, 0.5923039500619172, 0.0, 0.4833549999155847, nan, nan, 0.13650130259875357, nan, 0.5692219631478379, nan, 0.0, nan, 0.40515234003476436, 0.0, nan, 0.0, 0.2144636882303288, 0.0, nan, nan, 0.0, nan, 0.0, nan, nan, 0.1020526463517323, nan, nan, nan, 0.0, 0.0, nan, nan, nan, nan, 0.08016932014195928, nan, nan, nan, 0.0, 0.0, 0.0, nan, nan, nan, 0.14383041458184417, nan, nan, nan, nan, nan, nan, nan, nan, nan, nan, 0.005114033985896033, nan, nan, nan, nan, 0.0, nan, 0.29580553610261323, nan, nan, nan, nan, 0.0, nan, nan, nan, nan, nan, nan, nan, nan, nan, nan, 0.02969046114971573, 0.0, nan, nan, nan, nan, 0.0, nan, 0.0, nan, nan, nan, nan, nan, nan, 0.0, nan, 0.0, nan, nan, nan, nan, nan, 0.0, nan, nan, nan, nan, nan, nan, nan, nan, nan, nan, nan, nan, nan, nan, nan, nan, nan, nan, nan, nan, 0.0, nan, nan, nan, nan, nan, nan, nan, nan, 0.0, nan, nan, 0.0, 0.0, nan, nan, nan, nan, nan, nan, 0.0, nan, nan, 0.0, 0.0], 'eval_per_category_accuracy': [0.7903663086563862, nan, nan, 0.7014928165219994, 0.0, 0.6426310756757485, nan, nan, 0.8824089502499405, nan, 0.6672159130151651, nan, 0.0, nan, 0.5743409735459575, 0.0, nan, 0.0, 0.2256269793717367, 0.0, nan, nan, 0.0, nan, 0.0, nan, nan, 0.16496197737382504, nan, nan, nan, 0.0, 0.0, nan, nan, nan, nan, 0.4275668816749498, nan, nan, nan, 0.0, 0.0, 0.0, nan, nan, nan, 0.17637230196121398, nan, nan, nan, nan, nan, nan, nan, nan, nan, nan, 0.005282913944112331, nan, nan, nan, nan, 0.0, nan, 0.4077272842736302, nan, nan, nan, nan, 0.0, nan, nan, nan, nan, nan, nan, nan, nan, nan, nan, 0.03283596985877539, 0.0, nan, nan, nan, nan, 0.0, nan, 0.0, nan, nan, nan, nan, nan, nan, 0.0, nan, 0.0, nan, nan, nan, nan, nan, 0.0, nan, nan, nan, nan, nan, nan, nan, nan, nan, nan, nan, nan, nan, nan, nan, nan, nan, nan, nan, nan, 0.0, nan, nan, nan, nan, nan, nan, nan, nan, 0.0, nan, nan, 0.0, 0.0, nan, nan, nan, nan, nan, nan, 0.0, nan, nan, 0.0, 0.0], 'eval_runtime': 41.1078, 'eval_samples_per_second': 0.243, 'eval_steps_per_second': 0.122, 'epoch': 17.0}\n"
          ]
        },
        {
          "name": "stderr",
          "output_type": "stream",
          "text": [
            " 34%|███▍      | 341/1000 [45:53<3:23:51, 18.56s/it]"
          ]
        },
        {
          "name": "stdout",
          "output_type": "stream",
          "text": [
            "{'loss': 1.9103, 'learning_rate': 3.9540000000000004e-05, 'epoch': 17.05}\n"
          ]
        },
        {
          "name": "stderr",
          "output_type": "stream",
          "text": [
            " 34%|███▍      | 342/1000 [45:59<2:43:02, 14.87s/it]"
          ]
        },
        {
          "name": "stdout",
          "output_type": "stream",
          "text": [
            "{'loss': 2.0336, 'learning_rate': 3.948e-05, 'epoch': 17.1}\n"
          ]
        },
        {
          "name": "stderr",
          "output_type": "stream",
          "text": [
            " 34%|███▍      | 343/1000 [46:06<2:15:20, 12.36s/it]"
          ]
        },
        {
          "name": "stdout",
          "output_type": "stream",
          "text": [
            "{'loss': 1.9311, 'learning_rate': 3.9420000000000005e-05, 'epoch': 17.15}\n"
          ]
        },
        {
          "name": "stderr",
          "output_type": "stream",
          "text": [
            " 34%|███▍      | 344/1000 [46:12<1:55:16, 10.54s/it]"
          ]
        },
        {
          "name": "stdout",
          "output_type": "stream",
          "text": [
            "{'loss': 3.8974, 'learning_rate': 3.936e-05, 'epoch': 17.2}\n"
          ]
        },
        {
          "name": "stderr",
          "output_type": "stream",
          "text": [
            " 34%|███▍      | 345/1000 [46:18<1:40:51,  9.24s/it]"
          ]
        },
        {
          "name": "stdout",
          "output_type": "stream",
          "text": [
            "{'loss': 2.0224, 'learning_rate': 3.93e-05, 'epoch': 17.25}\n"
          ]
        },
        {
          "name": "stderr",
          "output_type": "stream",
          "text": [
            " 35%|███▍      | 346/1000 [46:24<1:30:35,  8.31s/it]"
          ]
        },
        {
          "name": "stdout",
          "output_type": "stream",
          "text": [
            "{'loss': 2.2433, 'learning_rate': 3.9240000000000004e-05, 'epoch': 17.3}\n"
          ]
        },
        {
          "name": "stderr",
          "output_type": "stream",
          "text": [
            " 35%|███▍      | 347/1000 [46:30<1:23:37,  7.68s/it]"
          ]
        },
        {
          "name": "stdout",
          "output_type": "stream",
          "text": [
            "{'loss': 2.0211, 'learning_rate': 3.918e-05, 'epoch': 17.35}\n"
          ]
        },
        {
          "name": "stderr",
          "output_type": "stream",
          "text": [
            " 35%|███▍      | 348/1000 [46:37<1:18:43,  7.24s/it]"
          ]
        },
        {
          "name": "stdout",
          "output_type": "stream",
          "text": [
            "{'loss': 2.4576, 'learning_rate': 3.9120000000000005e-05, 'epoch': 17.4}\n"
          ]
        },
        {
          "name": "stderr",
          "output_type": "stream",
          "text": [
            " 35%|███▍      | 349/1000 [46:43<1:14:42,  6.89s/it]"
          ]
        },
        {
          "name": "stdout",
          "output_type": "stream",
          "text": [
            "{'loss': 2.3827, 'learning_rate': 3.906e-05, 'epoch': 17.45}\n"
          ]
        },
        {
          "name": "stderr",
          "output_type": "stream",
          "text": [
            " 35%|███▌      | 350/1000 [46:49<1:11:54,  6.64s/it]"
          ]
        },
        {
          "name": "stdout",
          "output_type": "stream",
          "text": [
            "{'loss': 2.0914, 'learning_rate': 3.9e-05, 'epoch': 17.5}\n"
          ]
        },
        {
          "name": "stderr",
          "output_type": "stream",
          "text": [
            " 35%|███▌      | 351/1000 [46:55<1:10:08,  6.48s/it]"
          ]
        },
        {
          "name": "stdout",
          "output_type": "stream",
          "text": [
            "{'loss': 1.9171, 'learning_rate': 3.894e-05, 'epoch': 17.55}\n"
          ]
        },
        {
          "name": "stderr",
          "output_type": "stream",
          "text": [
            " 35%|███▌      | 352/1000 [47:01<1:09:16,  6.42s/it]"
          ]
        },
        {
          "name": "stdout",
          "output_type": "stream",
          "text": [
            "{'loss': 2.1453, 'learning_rate': 3.888e-05, 'epoch': 17.6}\n"
          ]
        },
        {
          "name": "stderr",
          "output_type": "stream",
          "text": [
            " 35%|███▌      | 353/1000 [47:07<1:08:23,  6.34s/it]"
          ]
        },
        {
          "name": "stdout",
          "output_type": "stream",
          "text": [
            "{'loss': 1.9362, 'learning_rate': 3.8820000000000004e-05, 'epoch': 17.65}\n"
          ]
        },
        {
          "name": "stderr",
          "output_type": "stream",
          "text": [
            " 35%|███▌      | 354/1000 [47:14<1:07:52,  6.30s/it]"
          ]
        },
        {
          "name": "stdout",
          "output_type": "stream",
          "text": [
            "{'loss': 1.6234, 'learning_rate': 3.876e-05, 'epoch': 17.7}\n"
          ]
        },
        {
          "name": "stderr",
          "output_type": "stream",
          "text": [
            " 36%|███▌      | 355/1000 [47:20<1:07:13,  6.25s/it]"
          ]
        },
        {
          "name": "stdout",
          "output_type": "stream",
          "text": [
            "{'loss': 1.8798, 'learning_rate': 3.87e-05, 'epoch': 17.75}\n"
          ]
        },
        {
          "name": "stderr",
          "output_type": "stream",
          "text": [
            " 36%|███▌      | 356/1000 [47:26<1:07:11,  6.26s/it]"
          ]
        },
        {
          "name": "stdout",
          "output_type": "stream",
          "text": [
            "{'loss': 2.2271, 'learning_rate': 3.864e-05, 'epoch': 17.8}\n"
          ]
        },
        {
          "name": "stderr",
          "output_type": "stream",
          "text": [
            " 36%|███▌      | 357/1000 [47:32<1:06:50,  6.24s/it]"
          ]
        },
        {
          "name": "stdout",
          "output_type": "stream",
          "text": [
            "{'loss': 2.2538, 'learning_rate': 3.858e-05, 'epoch': 17.85}\n"
          ]
        },
        {
          "name": "stderr",
          "output_type": "stream",
          "text": [
            " 36%|███▌      | 358/1000 [47:38<1:06:48,  6.24s/it]"
          ]
        },
        {
          "name": "stdout",
          "output_type": "stream",
          "text": [
            "{'loss': 2.3771, 'learning_rate': 3.8520000000000004e-05, 'epoch': 17.9}\n"
          ]
        },
        {
          "name": "stderr",
          "output_type": "stream",
          "text": [
            " 36%|███▌      | 359/1000 [47:45<1:06:46,  6.25s/it]"
          ]
        },
        {
          "name": "stdout",
          "output_type": "stream",
          "text": [
            "{'loss': 1.7994, 'learning_rate': 3.846e-05, 'epoch': 17.95}\n"
          ]
        },
        {
          "name": "stderr",
          "output_type": "stream",
          "text": [
            " 36%|███▌      | 360/1000 [47:51<1:06:24,  6.23s/it]"
          ]
        },
        {
          "name": "stdout",
          "output_type": "stream",
          "text": [
            "{'loss': 1.9077, 'learning_rate': 3.8400000000000005e-05, 'epoch': 18.0}\n"
          ]
        },
        {
          "name": "stderr",
          "output_type": "stream",
          "text": [
            "C:\\Users\\kuian\\.cache\\huggingface\\modules\\evaluate_modules\\metrics\\evaluate-metric--mean_iou\\08bc20f4f895f3caf75fb9e3fada1404bded3c3265243d05327cbb3b9326ffe9\\mean_iou.py:259: RuntimeWarning: invalid value encountered in divide\n",
            "  iou = total_area_intersect / total_area_union\n",
            "C:\\Users\\kuian\\.cache\\huggingface\\modules\\evaluate_modules\\metrics\\evaluate-metric--mean_iou\\08bc20f4f895f3caf75fb9e3fada1404bded3c3265243d05327cbb3b9326ffe9\\mean_iou.py:260: RuntimeWarning: invalid value encountered in divide\n",
            "  acc = total_area_intersect / total_area_label\n",
            "                                                    \n",
            " 36%|███▌      | 360/1000 [48:32<1:06:24,  6.23s/it]"
          ]
        },
        {
          "name": "stdout",
          "output_type": "stream",
          "text": [
            "{'eval_loss': 2.25923752784729, 'eval_mean_iou': 0.09086419242247874, 'eval_mean_accuracy': 0.1487438013121229, 'eval_overall_accuracy': 0.5899234158428331, 'eval_per_category_iou': [0.5688240446558402, nan, nan, 0.5792887581551458, 0.0, 0.4691420578178427, nan, nan, 0.162032849062156, nan, 0.5894305404999091, nan, 0.0, nan, 0.3822186759371042, 0.0, nan, 0.0, 0.12972268942035525, 0.0, nan, nan, 0.0, nan, 0.0, nan, nan, 0.09998024677082881, nan, nan, nan, 0.0, 0.0, nan, nan, nan, nan, 0.10153886125349802, nan, nan, nan, 0.0, 0.0, 0.0, nan, nan, nan, 0.17578039966911924, nan, nan, nan, nan, nan, nan, nan, nan, nan, nan, 0.0014137563865102586, nan, nan, nan, nan, 0.0, nan, 0.34609641992103257, nan, nan, nan, nan, 0.0, nan, nan, nan, nan, nan, nan, nan, nan, nan, nan, 0.029098397349807504, 0.0, nan, nan, nan, nan, 0.0, nan, 0.0, nan, nan, nan, nan, nan, nan, 0.0, nan, 0.0, nan, nan, nan, nan, nan, 0.0, nan, nan, nan, nan, nan, nan, nan, nan, nan, nan, nan, nan, nan, nan, nan, nan, nan, nan, nan, nan, 0.0, nan, nan, nan, nan, nan, nan, nan, nan, 0.0, nan, nan, 0.0, 0.0, nan, nan, nan, nan, nan, nan, 0.0, nan, nan, 0.0, 0.0], 'eval_per_category_accuracy': [0.7427932314551958, nan, nan, 0.6896587847949716, 0.0, 0.6775352071577039, nan, nan, 0.8847298262318496, nan, 0.7350100147013843, nan, 0.0, nan, 0.5990841043284206, 0.0, nan, 0.0, 0.1353355302576393, 0.0, nan, nan, 0.0, nan, 0.0, nan, nan, 0.2046810735104106, nan, nan, nan, 0.0, 0.0, nan, nan, nan, nan, 0.4959025060801523, nan, nan, nan, 0.0, 0.0, 0.0, nan, nan, nan, 0.2211843979401775, nan, nan, nan, nan, nan, nan, nan, nan, nan, nan, 0.0014643866722276286, nan, nan, nan, nan, 0.0, nan, 0.5299362410140473, nan, nan, nan, nan, 0.0, nan, nan, nan, nan, nan, nan, nan, nan, nan, nan, 0.032436748340735566, 0.0, nan, nan, nan, nan, 0.0, nan, 0.0, nan, nan, nan, nan, nan, nan, 0.0, nan, 0.0, nan, nan, nan, nan, nan, 0.0, nan, nan, nan, nan, nan, nan, nan, nan, nan, nan, nan, nan, nan, nan, nan, nan, nan, nan, nan, nan, 0.0, nan, nan, nan, nan, nan, nan, nan, nan, 0.0, nan, nan, 0.0, 0.0, nan, nan, nan, nan, nan, nan, 0.0, nan, nan, 0.0, 0.0], 'eval_runtime': 41.4224, 'eval_samples_per_second': 0.241, 'eval_steps_per_second': 0.121, 'epoch': 18.0}\n"
          ]
        },
        {
          "name": "stderr",
          "output_type": "stream",
          "text": [
            " 36%|███▌      | 361/1000 [48:39<3:19:17, 18.71s/it]"
          ]
        },
        {
          "name": "stdout",
          "output_type": "stream",
          "text": [
            "{'loss': 1.951, 'learning_rate': 3.834e-05, 'epoch': 18.05}\n"
          ]
        },
        {
          "name": "stderr",
          "output_type": "stream",
          "text": [
            " 36%|███▌      | 362/1000 [48:45<2:39:37, 15.01s/it]"
          ]
        },
        {
          "name": "stdout",
          "output_type": "stream",
          "text": [
            "{'loss': 1.788, 'learning_rate': 3.828e-05, 'epoch': 18.1}\n"
          ]
        },
        {
          "name": "stderr",
          "output_type": "stream",
          "text": [
            " 36%|███▋      | 363/1000 [48:51<2:11:20, 12.37s/it]"
          ]
        },
        {
          "name": "stdout",
          "output_type": "stream",
          "text": [
            "{'loss': 2.2342, 'learning_rate': 3.822e-05, 'epoch': 18.15}\n"
          ]
        },
        {
          "name": "stderr",
          "output_type": "stream",
          "text": [
            " 36%|███▋      | 364/1000 [48:57<1:51:27, 10.51s/it]"
          ]
        },
        {
          "name": "stdout",
          "output_type": "stream",
          "text": [
            "{'loss': 1.8532, 'learning_rate': 3.816e-05, 'epoch': 18.2}\n"
          ]
        },
        {
          "name": "stderr",
          "output_type": "stream",
          "text": [
            " 36%|███▋      | 365/1000 [49:04<1:37:54,  9.25s/it]"
          ]
        },
        {
          "name": "stdout",
          "output_type": "stream",
          "text": [
            "{'loss': 2.1655, 'learning_rate': 3.8100000000000005e-05, 'epoch': 18.25}\n"
          ]
        },
        {
          "name": "stderr",
          "output_type": "stream",
          "text": [
            " 37%|███▋      | 366/1000 [49:10<1:28:33,  8.38s/it]"
          ]
        },
        {
          "name": "stdout",
          "output_type": "stream",
          "text": [
            "{'loss': 1.8852, 'learning_rate': 3.804e-05, 'epoch': 18.3}\n"
          ]
        },
        {
          "name": "stderr",
          "output_type": "stream",
          "text": [
            " 37%|███▋      | 367/1000 [49:16<1:21:48,  7.75s/it]"
          ]
        },
        {
          "name": "stdout",
          "output_type": "stream",
          "text": [
            "{'loss': 1.705, 'learning_rate': 3.798e-05, 'epoch': 18.35}\n"
          ]
        },
        {
          "name": "stderr",
          "output_type": "stream",
          "text": [
            " 37%|███▋      | 368/1000 [49:23<1:16:39,  7.28s/it]"
          ]
        },
        {
          "name": "stdout",
          "output_type": "stream",
          "text": [
            "{'loss': 2.0214, 'learning_rate': 3.792e-05, 'epoch': 18.4}\n"
          ]
        },
        {
          "name": "stderr",
          "output_type": "stream",
          "text": [
            " 37%|███▋      | 369/1000 [49:29<1:12:54,  6.93s/it]"
          ]
        },
        {
          "name": "stdout",
          "output_type": "stream",
          "text": [
            "{'loss': 2.1055, 'learning_rate': 3.786e-05, 'epoch': 18.45}\n"
          ]
        },
        {
          "name": "stderr",
          "output_type": "stream",
          "text": [
            " 37%|███▋      | 370/1000 [49:35<1:10:39,  6.73s/it]"
          ]
        },
        {
          "name": "stdout",
          "output_type": "stream",
          "text": [
            "{'loss': 2.2531, 'learning_rate': 3.7800000000000004e-05, 'epoch': 18.5}\n"
          ]
        },
        {
          "name": "stderr",
          "output_type": "stream",
          "text": [
            " 37%|███▋      | 371/1000 [49:41<1:08:56,  6.58s/it]"
          ]
        },
        {
          "name": "stdout",
          "output_type": "stream",
          "text": [
            "{'loss': 1.7835, 'learning_rate': 3.774e-05, 'epoch': 18.55}\n"
          ]
        },
        {
          "name": "stderr",
          "output_type": "stream",
          "text": [
            " 37%|███▋      | 372/1000 [49:47<1:07:58,  6.49s/it]"
          ]
        },
        {
          "name": "stdout",
          "output_type": "stream",
          "text": [
            "{'loss': 1.8043, 'learning_rate': 3.768e-05, 'epoch': 18.6}\n"
          ]
        },
        {
          "name": "stderr",
          "output_type": "stream",
          "text": [
            " 37%|███▋      | 373/1000 [49:54<1:06:57,  6.41s/it]"
          ]
        },
        {
          "name": "stdout",
          "output_type": "stream",
          "text": [
            "{'loss': 2.1947, 'learning_rate': 3.762e-05, 'epoch': 18.65}\n"
          ]
        },
        {
          "name": "stderr",
          "output_type": "stream",
          "text": [
            " 37%|███▋      | 374/1000 [50:00<1:05:58,  6.32s/it]"
          ]
        },
        {
          "name": "stdout",
          "output_type": "stream",
          "text": [
            "{'loss': 1.7834, 'learning_rate': 3.756e-05, 'epoch': 18.7}\n"
          ]
        },
        {
          "name": "stderr",
          "output_type": "stream",
          "text": [
            " 38%|███▊      | 375/1000 [50:06<1:06:10,  6.35s/it]"
          ]
        },
        {
          "name": "stdout",
          "output_type": "stream",
          "text": [
            "{'loss': 1.8159, 'learning_rate': 3.7500000000000003e-05, 'epoch': 18.75}\n"
          ]
        },
        {
          "name": "stderr",
          "output_type": "stream",
          "text": [
            " 38%|███▊      | 376/1000 [50:12<1:05:45,  6.32s/it]"
          ]
        },
        {
          "name": "stdout",
          "output_type": "stream",
          "text": [
            "{'loss': 1.8954, 'learning_rate': 3.744e-05, 'epoch': 18.8}\n"
          ]
        },
        {
          "name": "stderr",
          "output_type": "stream",
          "text": [
            " 38%|███▊      | 377/1000 [50:19<1:05:33,  6.31s/it]"
          ]
        },
        {
          "name": "stdout",
          "output_type": "stream",
          "text": [
            "{'loss': 2.761, 'learning_rate': 3.738e-05, 'epoch': 18.85}\n"
          ]
        },
        {
          "name": "stderr",
          "output_type": "stream",
          "text": [
            " 38%|███▊      | 378/1000 [50:25<1:05:43,  6.34s/it]"
          ]
        },
        {
          "name": "stdout",
          "output_type": "stream",
          "text": [
            "{'loss': 1.9563, 'learning_rate': 3.732e-05, 'epoch': 18.9}\n"
          ]
        },
        {
          "name": "stderr",
          "output_type": "stream",
          "text": [
            " 38%|███▊      | 379/1000 [50:31<1:05:17,  6.31s/it]"
          ]
        },
        {
          "name": "stdout",
          "output_type": "stream",
          "text": [
            "{'loss': 1.6539, 'learning_rate': 3.726e-05, 'epoch': 18.95}\n"
          ]
        },
        {
          "name": "stderr",
          "output_type": "stream",
          "text": [
            " 38%|███▊      | 380/1000 [50:38<1:04:46,  6.27s/it]"
          ]
        },
        {
          "name": "stdout",
          "output_type": "stream",
          "text": [
            "{'loss': 1.6551, 'learning_rate': 3.72e-05, 'epoch': 19.0}\n"
          ]
        },
        {
          "name": "stderr",
          "output_type": "stream",
          "text": [
            "C:\\Users\\kuian\\.cache\\huggingface\\modules\\evaluate_modules\\metrics\\evaluate-metric--mean_iou\\08bc20f4f895f3caf75fb9e3fada1404bded3c3265243d05327cbb3b9326ffe9\\mean_iou.py:259: RuntimeWarning: invalid value encountered in divide\n",
            "  iou = total_area_intersect / total_area_union\n",
            "C:\\Users\\kuian\\.cache\\huggingface\\modules\\evaluate_modules\\metrics\\evaluate-metric--mean_iou\\08bc20f4f895f3caf75fb9e3fada1404bded3c3265243d05327cbb3b9326ffe9\\mean_iou.py:260: RuntimeWarning: invalid value encountered in divide\n",
            "  acc = total_area_intersect / total_area_label\n",
            "                                                    \n",
            " 38%|███▊      | 380/1000 [51:19<1:04:46,  6.27s/it]"
          ]
        },
        {
          "name": "stdout",
          "output_type": "stream",
          "text": [
            "{'eval_loss': 2.0294156074523926, 'eval_mean_iou': 0.09287594489973143, 'eval_mean_accuracy': 0.13994774674659594, 'eval_overall_accuracy': 0.6180693447064619, 'eval_per_category_iou': [0.5941081720434368, nan, nan, 0.5767050701516396, 0.0, 0.5038128807135761, nan, nan, 0.18282941298917568, nan, 0.555679813794483, nan, 0.0, nan, 0.39841707065035004, 0.0, nan, 0.0, 0.20873170232367694, 0.0, nan, nan, 0.0, nan, 0.0, nan, nan, 0.08777811450362401, nan, nan, nan, 0.0, 0.0, nan, nan, nan, nan, 0.0914393298519899, nan, nan, nan, 0.0, 0.0, 0.0, nan, nan, nan, 0.1383385307979085, nan, nan, nan, nan, nan, nan, nan, nan, nan, nan, 0.012014509422277272, nan, nan, nan, nan, 0.0, nan, 0.3342010172452177, nan, nan, nan, nan, 0.0, nan, nan, nan, nan, nan, nan, nan, nan, nan, nan, 0.030982171501902012, 0.0, nan, nan, nan, nan, 0.0, nan, 0.0, nan, nan, nan, nan, nan, nan, 0.0, nan, 0.0, nan, nan, nan, nan, nan, 0.0, nan, nan, nan, nan, nan, nan, nan, nan, nan, nan, nan, nan, nan, nan, nan, nan, nan, nan, nan, nan, 0.0, nan, nan, nan, nan, nan, nan, nan, nan, 0.0, nan, nan, 0.0, 0.0, nan, nan, nan, nan, nan, nan, 0.0, nan, nan, 0.0, 0.0], 'eval_per_category_accuracy': [0.8447984583990301, nan, nan, 0.6775853038012571, 0.0, 0.6397534488873327, nan, nan, 0.836288978814568, nan, 0.6030231571469448, nan, 0.0, nan, 0.5574782649123623, 0.0, nan, 0.0, 0.21816956261234272, 0.0, nan, nan, 0.0, nan, 0.0, nan, nan, 0.13712803416611596, nan, nan, nan, 0.0, 0.0, nan, nan, nan, nan, 0.3800359522047161, nan, nan, nan, 0.0, 0.0, 0.0, nan, nan, nan, 0.16160841459406158, nan, nan, nan, nan, nan, nan, nan, nan, nan, nan, 0.012586310765095695, nan, nan, nan, nan, 0.0, nan, 0.4957197652856453, nan, nan, nan, nan, 0.0, nan, nan, nan, nan, nan, nan, nan, nan, nan, nan, 0.033734218274364985, 0.0, nan, nan, nan, nan, 0.0, nan, 0.0, nan, nan, nan, nan, nan, nan, 0.0, nan, 0.0, nan, nan, nan, nan, nan, 0.0, nan, nan, nan, nan, nan, nan, nan, nan, nan, nan, nan, nan, nan, nan, nan, nan, nan, nan, nan, nan, 0.0, nan, nan, nan, nan, nan, nan, nan, nan, 0.0, nan, nan, 0.0, 0.0, nan, nan, nan, nan, nan, nan, 0.0, nan, nan, 0.0, 0.0], 'eval_runtime': 41.5611, 'eval_samples_per_second': 0.241, 'eval_steps_per_second': 0.12, 'epoch': 19.0}\n"
          ]
        },
        {
          "name": "stderr",
          "output_type": "stream",
          "text": [
            " 38%|███▊      | 381/1000 [51:26<3:14:10, 18.82s/it]"
          ]
        },
        {
          "name": "stdout",
          "output_type": "stream",
          "text": [
            "{'loss': 1.8512, 'learning_rate': 3.714e-05, 'epoch': 19.05}\n"
          ]
        },
        {
          "name": "stderr",
          "output_type": "stream",
          "text": [
            " 38%|███▊      | 382/1000 [51:32<2:35:44, 15.12s/it]"
          ]
        },
        {
          "name": "stdout",
          "output_type": "stream",
          "text": [
            "{'loss': 1.9958, 'learning_rate': 3.708e-05, 'epoch': 19.1}\n"
          ]
        },
        {
          "name": "stderr",
          "output_type": "stream",
          "text": [
            " 38%|███▊      | 383/1000 [51:39<2:08:38, 12.51s/it]"
          ]
        },
        {
          "name": "stdout",
          "output_type": "stream",
          "text": [
            "{'loss': 1.4987, 'learning_rate': 3.702e-05, 'epoch': 19.15}\n"
          ]
        },
        {
          "name": "stderr",
          "output_type": "stream",
          "text": [
            " 38%|███▊      | 384/1000 [51:45<1:48:40, 10.58s/it]"
          ]
        },
        {
          "name": "stdout",
          "output_type": "stream",
          "text": [
            "{'loss': 2.1249, 'learning_rate': 3.696e-05, 'epoch': 19.2}\n"
          ]
        },
        {
          "name": "stderr",
          "output_type": "stream",
          "text": [
            " 38%|███▊      | 385/1000 [51:51<1:35:16,  9.30s/it]"
          ]
        },
        {
          "name": "stdout",
          "output_type": "stream",
          "text": [
            "{'loss': 1.8856, 'learning_rate': 3.69e-05, 'epoch': 19.25}\n"
          ]
        },
        {
          "name": "stderr",
          "output_type": "stream",
          "text": [
            " 39%|███▊      | 386/1000 [51:57<1:26:17,  8.43s/it]"
          ]
        },
        {
          "name": "stdout",
          "output_type": "stream",
          "text": [
            "{'loss': 1.845, 'learning_rate': 3.684e-05, 'epoch': 19.3}\n"
          ]
        },
        {
          "name": "stderr",
          "output_type": "stream",
          "text": [
            " 39%|███▊      | 387/1000 [52:04<1:19:13,  7.75s/it]"
          ]
        },
        {
          "name": "stdout",
          "output_type": "stream",
          "text": [
            "{'loss': 1.7859, 'learning_rate': 3.6780000000000004e-05, 'epoch': 19.35}\n"
          ]
        },
        {
          "name": "stderr",
          "output_type": "stream",
          "text": [
            " 39%|███▉      | 388/1000 [52:10<1:14:08,  7.27s/it]"
          ]
        },
        {
          "name": "stdout",
          "output_type": "stream",
          "text": [
            "{'loss': 2.1784, 'learning_rate': 3.672e-05, 'epoch': 19.4}\n"
          ]
        },
        {
          "name": "stderr",
          "output_type": "stream",
          "text": [
            " 39%|███▉      | 389/1000 [52:16<1:10:05,  6.88s/it]"
          ]
        },
        {
          "name": "stdout",
          "output_type": "stream",
          "text": [
            "{'loss': 2.0309, 'learning_rate': 3.666e-05, 'epoch': 19.45}\n"
          ]
        },
        {
          "name": "stderr",
          "output_type": "stream",
          "text": [
            " 39%|███▉      | 390/1000 [52:22<1:08:05,  6.70s/it]"
          ]
        },
        {
          "name": "stdout",
          "output_type": "stream",
          "text": [
            "{'loss': 1.7545, 'learning_rate': 3.66e-05, 'epoch': 19.5}\n"
          ]
        },
        {
          "name": "stderr",
          "output_type": "stream",
          "text": [
            " 39%|███▉      | 391/1000 [52:28<1:06:34,  6.56s/it]"
          ]
        },
        {
          "name": "stdout",
          "output_type": "stream",
          "text": [
            "{'loss': 1.8475, 'learning_rate': 3.654e-05, 'epoch': 19.55}\n"
          ]
        },
        {
          "name": "stderr",
          "output_type": "stream",
          "text": [
            " 39%|███▉      | 392/1000 [52:34<1:05:31,  6.47s/it]"
          ]
        },
        {
          "name": "stdout",
          "output_type": "stream",
          "text": [
            "{'loss': 2.1448, 'learning_rate': 3.648e-05, 'epoch': 19.6}\n"
          ]
        },
        {
          "name": "stderr",
          "output_type": "stream",
          "text": [
            " 39%|███▉      | 393/1000 [52:41<1:04:31,  6.38s/it]"
          ]
        },
        {
          "name": "stdout",
          "output_type": "stream",
          "text": [
            "{'loss': 1.7776, 'learning_rate': 3.642e-05, 'epoch': 19.65}\n"
          ]
        },
        {
          "name": "stderr",
          "output_type": "stream",
          "text": [
            " 39%|███▉      | 394/1000 [52:47<1:03:27,  6.28s/it]"
          ]
        },
        {
          "name": "stdout",
          "output_type": "stream",
          "text": [
            "{'loss': 1.7862, 'learning_rate': 3.636e-05, 'epoch': 19.7}\n"
          ]
        },
        {
          "name": "stderr",
          "output_type": "stream",
          "text": [
            " 40%|███▉      | 395/1000 [52:53<1:02:38,  6.21s/it]"
          ]
        },
        {
          "name": "stdout",
          "output_type": "stream",
          "text": [
            "{'loss': 1.6495, 'learning_rate': 3.63e-05, 'epoch': 19.75}\n"
          ]
        },
        {
          "name": "stderr",
          "output_type": "stream",
          "text": [
            " 40%|███▉      | 396/1000 [52:59<1:02:45,  6.23s/it]"
          ]
        },
        {
          "name": "stdout",
          "output_type": "stream",
          "text": [
            "{'loss': 1.931, 'learning_rate': 3.624e-05, 'epoch': 19.8}\n"
          ]
        },
        {
          "name": "stderr",
          "output_type": "stream",
          "text": [
            " 40%|███▉      | 397/1000 [53:05<1:02:06,  6.18s/it]"
          ]
        },
        {
          "name": "stdout",
          "output_type": "stream",
          "text": [
            "{'loss': 2.6052, 'learning_rate': 3.618e-05, 'epoch': 19.85}\n"
          ]
        },
        {
          "name": "stderr",
          "output_type": "stream",
          "text": [
            " 40%|███▉      | 398/1000 [53:11<1:01:42,  6.15s/it]"
          ]
        },
        {
          "name": "stdout",
          "output_type": "stream",
          "text": [
            "{'loss': 1.8603, 'learning_rate': 3.612e-05, 'epoch': 19.9}\n"
          ]
        },
        {
          "name": "stderr",
          "output_type": "stream",
          "text": [
            " 40%|███▉      | 399/1000 [53:17<1:01:40,  6.16s/it]"
          ]
        },
        {
          "name": "stdout",
          "output_type": "stream",
          "text": [
            "{'loss': 1.9312, 'learning_rate': 3.606e-05, 'epoch': 19.95}\n"
          ]
        },
        {
          "name": "stderr",
          "output_type": "stream",
          "text": [
            " 40%|████      | 400/1000 [53:24<1:02:25,  6.24s/it]"
          ]
        },
        {
          "name": "stdout",
          "output_type": "stream",
          "text": [
            "{'loss': 1.9171, 'learning_rate': 3.6e-05, 'epoch': 20.0}\n"
          ]
        },
        {
          "name": "stderr",
          "output_type": "stream",
          "text": [
            "C:\\Users\\kuian\\.cache\\huggingface\\modules\\evaluate_modules\\metrics\\evaluate-metric--mean_iou\\08bc20f4f895f3caf75fb9e3fada1404bded3c3265243d05327cbb3b9326ffe9\\mean_iou.py:259: RuntimeWarning: invalid value encountered in divide\n",
            "  iou = total_area_intersect / total_area_union\n",
            "C:\\Users\\kuian\\.cache\\huggingface\\modules\\evaluate_modules\\metrics\\evaluate-metric--mean_iou\\08bc20f4f895f3caf75fb9e3fada1404bded3c3265243d05327cbb3b9326ffe9\\mean_iou.py:260: RuntimeWarning: invalid value encountered in divide\n",
            "  acc = total_area_intersect / total_area_label\n",
            "                                                    \n",
            " 40%|████      | 400/1000 [54:05<1:02:25,  6.24s/it]"
          ]
        },
        {
          "name": "stdout",
          "output_type": "stream",
          "text": [
            "{'eval_loss': 2.0494978427886963, 'eval_mean_iou': 0.09124487945356938, 'eval_mean_accuracy': 0.14770878830097006, 'eval_overall_accuracy': 0.6011147033558146, 'eval_per_category_iou': [0.5772037178202805, nan, nan, 0.6143038536264476, 0.0, 0.5191009532348017, nan, nan, 0.14504884178001154, nan, 0.5105724759857074, nan, 0.0, nan, 0.38086746398311566, 0.0, nan, 0.0, 0.19583298763793247, 0.0, nan, nan, 0.0, nan, 0.0, nan, nan, 0.1089112014293028, nan, nan, nan, 0.0, 0.0, nan, nan, nan, nan, 0.10701658200371472, nan, nan, nan, 0.0, 0.0, 0.0, nan, nan, nan, 0.13137956317906105, nan, nan, nan, nan, nan, nan, nan, nan, nan, nan, 0.009173586397785686, nan, nan, nan, nan, 0.0, nan, 0.33032936952309855, nan, nan, nan, nan, 0.0, nan, nan, nan, nan, nan, nan, nan, nan, nan, nan, 0.02005458154151505, 0.0, nan, nan, nan, nan, 0.0, nan, 0.0, nan, nan, nan, nan, nan, nan, 0.0, nan, 0.0, nan, nan, nan, nan, nan, 0.0, nan, nan, nan, nan, nan, nan, nan, nan, nan, nan, nan, nan, nan, nan, nan, nan, nan, nan, nan, nan, 0.0, nan, nan, nan, nan, nan, nan, nan, nan, 0.0, nan, nan, 0.0, 0.0, nan, nan, nan, nan, nan, nan, 0.0, nan, nan, 0.0, 0.0], 'eval_per_category_accuracy': [0.7558643473785929, nan, nan, 0.7511822807542652, 0.0, 0.7070118023101821, nan, nan, 0.8827660080933111, nan, 0.651360124715099, nan, 0.0, nan, 0.5789065042540332, 0.0, nan, 0.0, 0.20203500813147307, 0.0, nan, nan, 0.0, nan, 0.0, nan, nan, 0.20562794046574018, nan, nan, nan, 0.0, 0.0, nan, nan, nan, nan, 0.5056836205984985, nan, nan, nan, 0.0, 0.0, 0.0, nan, nan, nan, 0.16196450093130274, nan, nan, nan, nan, nan, nan, nan, nan, nan, nan, 0.009676073960795218, nan, nan, nan, nan, 0.0, nan, 0.4720705159143445, nan, nan, nan, nan, 0.0, nan, nan, nan, nan, nan, nan, nan, nan, nan, nan, 0.02420280453116423, 0.0, nan, nan, nan, nan, 0.0, nan, 0.0, nan, nan, nan, nan, nan, nan, 0.0, nan, 0.0, nan, nan, nan, nan, nan, 0.0, nan, nan, nan, nan, nan, nan, nan, nan, nan, nan, nan, nan, nan, nan, nan, nan, nan, nan, nan, nan, 0.0, nan, nan, nan, nan, nan, nan, nan, nan, 0.0, nan, nan, 0.0, 0.0, nan, nan, nan, nan, nan, nan, 0.0, nan, nan, 0.0, 0.0], 'eval_runtime': 40.8875, 'eval_samples_per_second': 0.245, 'eval_steps_per_second': 0.122, 'epoch': 20.0}\n"
          ]
        },
        {
          "name": "stderr",
          "output_type": "stream",
          "text": [
            " 40%|████      | 401/1000 [54:11<3:05:45, 18.61s/it]"
          ]
        },
        {
          "name": "stdout",
          "output_type": "stream",
          "text": [
            "{'loss': 1.7844, 'learning_rate': 3.594e-05, 'epoch': 20.05}\n"
          ]
        },
        {
          "name": "stderr",
          "output_type": "stream",
          "text": [
            " 40%|████      | 402/1000 [54:18<2:28:44, 14.92s/it]"
          ]
        },
        {
          "name": "stdout",
          "output_type": "stream",
          "text": [
            "{'loss': 2.0378, 'learning_rate': 3.588e-05, 'epoch': 20.1}\n"
          ]
        },
        {
          "name": "stderr",
          "output_type": "stream",
          "text": [
            " 40%|████      | 403/1000 [54:24<2:02:33, 12.32s/it]"
          ]
        },
        {
          "name": "stdout",
          "output_type": "stream",
          "text": [
            "{'loss': 1.7185, 'learning_rate': 3.582e-05, 'epoch': 20.15}\n"
          ]
        },
        {
          "name": "stderr",
          "output_type": "stream",
          "text": [
            " 40%|████      | 404/1000 [54:30<1:43:42, 10.44s/it]"
          ]
        },
        {
          "name": "stdout",
          "output_type": "stream",
          "text": [
            "{'loss': 1.9362, 'learning_rate': 3.5759999999999996e-05, 'epoch': 20.2}\n"
          ]
        },
        {
          "name": "stderr",
          "output_type": "stream",
          "text": [
            " 40%|████      | 405/1000 [54:36<1:30:51,  9.16s/it]"
          ]
        },
        {
          "name": "stdout",
          "output_type": "stream",
          "text": [
            "{'loss': 1.8797, 'learning_rate': 3.57e-05, 'epoch': 20.25}\n"
          ]
        },
        {
          "name": "stderr",
          "output_type": "stream",
          "text": [
            " 41%|████      | 406/1000 [54:42<1:22:08,  8.30s/it]"
          ]
        },
        {
          "name": "stdout",
          "output_type": "stream",
          "text": [
            "{'loss': 2.121, 'learning_rate': 3.564e-05, 'epoch': 20.3}\n"
          ]
        },
        {
          "name": "stderr",
          "output_type": "stream",
          "text": [
            " 41%|████      | 407/1000 [54:48<1:15:47,  7.67s/it]"
          ]
        },
        {
          "name": "stdout",
          "output_type": "stream",
          "text": [
            "{'loss': 1.95, 'learning_rate': 3.558e-05, 'epoch': 20.35}\n"
          ]
        },
        {
          "name": "stderr",
          "output_type": "stream",
          "text": [
            " 41%|████      | 408/1000 [54:55<1:11:06,  7.21s/it]"
          ]
        },
        {
          "name": "stdout",
          "output_type": "stream",
          "text": [
            "{'loss': 1.9225, 'learning_rate': 3.552e-05, 'epoch': 20.4}\n"
          ]
        },
        {
          "name": "stderr",
          "output_type": "stream",
          "text": [
            " 41%|████      | 409/1000 [55:01<1:07:57,  6.90s/it]"
          ]
        },
        {
          "name": "stdout",
          "output_type": "stream",
          "text": [
            "{'loss': 1.8801, 'learning_rate': 3.5459999999999996e-05, 'epoch': 20.45}\n"
          ]
        },
        {
          "name": "stderr",
          "output_type": "stream",
          "text": [
            " 41%|████      | 410/1000 [55:07<1:05:48,  6.69s/it]"
          ]
        },
        {
          "name": "stdout",
          "output_type": "stream",
          "text": [
            "{'loss': 1.4961, 'learning_rate': 3.54e-05, 'epoch': 20.5}\n"
          ]
        },
        {
          "name": "stderr",
          "output_type": "stream",
          "text": [
            " 41%|████      | 411/1000 [55:13<1:04:09,  6.54s/it]"
          ]
        },
        {
          "name": "stdout",
          "output_type": "stream",
          "text": [
            "{'loss': 1.4831, 'learning_rate': 3.534e-05, 'epoch': 20.55}\n"
          ]
        },
        {
          "name": "stderr",
          "output_type": "stream",
          "text": [
            " 41%|████      | 412/1000 [55:19<1:02:50,  6.41s/it]"
          ]
        },
        {
          "name": "stdout",
          "output_type": "stream",
          "text": [
            "{'loss': 1.5169, 'learning_rate': 3.528e-05, 'epoch': 20.6}\n"
          ]
        },
        {
          "name": "stderr",
          "output_type": "stream",
          "text": [
            " 41%|████▏     | 413/1000 [55:25<1:01:45,  6.31s/it]"
          ]
        },
        {
          "name": "stdout",
          "output_type": "stream",
          "text": [
            "{'loss': 1.7074, 'learning_rate': 3.522e-05, 'epoch': 20.65}\n"
          ]
        },
        {
          "name": "stderr",
          "output_type": "stream",
          "text": [
            " 41%|████▏     | 414/1000 [55:32<1:02:02,  6.35s/it]"
          ]
        },
        {
          "name": "stdout",
          "output_type": "stream",
          "text": [
            "{'loss': 2.0004, 'learning_rate': 3.516e-05, 'epoch': 20.7}\n"
          ]
        },
        {
          "name": "stderr",
          "output_type": "stream",
          "text": [
            " 42%|████▏     | 415/1000 [55:38<1:01:31,  6.31s/it]"
          ]
        },
        {
          "name": "stdout",
          "output_type": "stream",
          "text": [
            "{'loss': 2.3301, 'learning_rate': 3.51e-05, 'epoch': 20.75}\n"
          ]
        },
        {
          "name": "stderr",
          "output_type": "stream",
          "text": [
            " 42%|████▏     | 416/1000 [55:44<1:00:58,  6.26s/it]"
          ]
        },
        {
          "name": "stdout",
          "output_type": "stream",
          "text": [
            "{'loss': 1.8096, 'learning_rate': 3.5039999999999997e-05, 'epoch': 20.8}\n"
          ]
        },
        {
          "name": "stderr",
          "output_type": "stream",
          "text": [
            " 42%|████▏     | 417/1000 [55:50<1:00:15,  6.20s/it]"
          ]
        },
        {
          "name": "stdout",
          "output_type": "stream",
          "text": [
            "{'loss': 1.7953, 'learning_rate': 3.498e-05, 'epoch': 20.85}\n"
          ]
        },
        {
          "name": "stderr",
          "output_type": "stream",
          "text": [
            " 42%|████▏     | 418/1000 [55:56<59:58,  6.18s/it]  "
          ]
        },
        {
          "name": "stdout",
          "output_type": "stream",
          "text": [
            "{'loss': 2.4495, 'learning_rate': 3.492e-05, 'epoch': 20.9}\n"
          ]
        },
        {
          "name": "stderr",
          "output_type": "stream",
          "text": [
            " 42%|████▏     | 419/1000 [56:03<1:00:30,  6.25s/it]"
          ]
        },
        {
          "name": "stdout",
          "output_type": "stream",
          "text": [
            "{'loss': 1.8572, 'learning_rate': 3.486e-05, 'epoch': 20.95}\n"
          ]
        },
        {
          "name": "stderr",
          "output_type": "stream",
          "text": [
            " 42%|████▏     | 420/1000 [56:09<1:00:51,  6.30s/it]"
          ]
        },
        {
          "name": "stdout",
          "output_type": "stream",
          "text": [
            "{'loss': 1.2937, 'learning_rate': 3.48e-05, 'epoch': 21.0}\n"
          ]
        },
        {
          "name": "stderr",
          "output_type": "stream",
          "text": [
            "C:\\Users\\kuian\\.cache\\huggingface\\modules\\evaluate_modules\\metrics\\evaluate-metric--mean_iou\\08bc20f4f895f3caf75fb9e3fada1404bded3c3265243d05327cbb3b9326ffe9\\mean_iou.py:259: RuntimeWarning: invalid value encountered in divide\n",
            "  iou = total_area_intersect / total_area_union\n",
            "C:\\Users\\kuian\\.cache\\huggingface\\modules\\evaluate_modules\\metrics\\evaluate-metric--mean_iou\\08bc20f4f895f3caf75fb9e3fada1404bded3c3265243d05327cbb3b9326ffe9\\mean_iou.py:260: RuntimeWarning: invalid value encountered in divide\n",
            "  acc = total_area_intersect / total_area_label\n",
            "                                                    \n",
            " 42%|████▏     | 420/1000 [56:51<1:00:51,  6.30s/it]"
          ]
        },
        {
          "name": "stdout",
          "output_type": "stream",
          "text": [
            "{'eval_loss': 2.136167049407959, 'eval_mean_iou': 0.09226527468906034, 'eval_mean_accuracy': 0.15192695898707922, 'eval_overall_accuracy': 0.582915161032697, 'eval_per_category_iou': [0.5487426435924844, nan, nan, 0.5950102355767097, 0.0, 0.5172924855704173, nan, nan, 0.13484005563282336, nan, 0.48820146738052744, nan, 0.0, nan, 0.377720057897061, 0.0, nan, 0.0, 0.22157398966879369, 0.0, nan, nan, 0.0, nan, 0.0, nan, nan, 0.1276351642047899, nan, nan, nan, 0.0, 0.0, nan, nan, nan, nan, 0.09373815366812314, nan, nan, nan, 0.0, 0.0, 0.0, nan, nan, nan, 0.2104429156682384, nan, nan, nan, nan, nan, nan, nan, nan, nan, nan, 0.017855933351395285, nan, nan, nan, nan, 0.0, nan, 0.3364132560868836, nan, nan, nan, nan, 0.0, nan, nan, nan, nan, nan, nan, nan, nan, nan, nan, 0.021144629264166902, 0.0, nan, nan, nan, nan, 0.0, nan, 0.0, nan, nan, nan, nan, nan, nan, 0.0, nan, 0.0, nan, nan, nan, nan, nan, 0.0, nan, nan, nan, nan, nan, nan, nan, nan, nan, nan, nan, nan, nan, nan, nan, nan, nan, nan, nan, nan, 0.0, nan, nan, nan, nan, nan, nan, nan, nan, 0.0, nan, nan, 0.0, 0.0, nan, nan, nan, nan, nan, nan, 0.0, nan, nan, 0.0, 0.0], 'eval_per_category_accuracy': [0.7072413738053672, nan, nan, 0.7025029931158335, 0.0, 0.7568113560760125, nan, nan, 0.9231135443941919, nan, 0.6315872561691547, nan, 0.0, nan, 0.5726579571342229, 0.0, nan, 0.0, 0.23405803303945905, 0.0, nan, nan, 0.0, nan, 0.0, nan, nan, 0.24579088048763648, nan, nan, nan, 0.0, 0.0, nan, nan, nan, nan, 0.4968013111980544, nan, nan, nan, 0.0, 0.0, 0.0, nan, nan, nan, 0.29829078558124245, nan, nan, nan, nan, nan, nan, nan, nan, nan, nan, 0.019546781593215625, nan, nan, nan, nan, 0.0, nan, 0.4587344730357914, nan, nan, nan, nan, 0.0, nan, nan, nan, nan, nan, nan, nan, nan, nan, nan, 0.029941613852986677, 0.0, nan, nan, nan, nan, 0.0, nan, 0.0, nan, nan, nan, nan, nan, nan, 0.0, nan, 0.0, nan, nan, nan, nan, nan, 0.0, nan, nan, nan, nan, nan, nan, nan, nan, nan, nan, nan, nan, nan, nan, nan, nan, nan, nan, nan, nan, 0.0, nan, nan, nan, nan, nan, nan, nan, nan, 0.0, nan, nan, 0.0, 0.0, nan, nan, nan, nan, nan, nan, 0.0, nan, nan, 0.0, 0.0], 'eval_runtime': 41.799, 'eval_samples_per_second': 0.239, 'eval_steps_per_second': 0.12, 'epoch': 21.0}\n"
          ]
        },
        {
          "name": "stderr",
          "output_type": "stream",
          "text": [
            " 42%|████▏     | 421/1000 [56:57<3:02:20, 18.90s/it]"
          ]
        },
        {
          "name": "stdout",
          "output_type": "stream",
          "text": [
            "{'loss': 1.7834, 'learning_rate': 3.4739999999999996e-05, 'epoch': 21.05}\n"
          ]
        },
        {
          "name": "stderr",
          "output_type": "stream",
          "text": [
            " 42%|████▏     | 422/1000 [57:04<2:25:11, 15.07s/it]"
          ]
        },
        {
          "name": "stdout",
          "output_type": "stream",
          "text": [
            "{'loss': 1.7327, 'learning_rate': 3.468e-05, 'epoch': 21.1}\n"
          ]
        },
        {
          "name": "stderr",
          "output_type": "stream",
          "text": [
            " 42%|████▏     | 423/1000 [57:10<1:59:33, 12.43s/it]"
          ]
        },
        {
          "name": "stdout",
          "output_type": "stream",
          "text": [
            "{'loss': 1.7362, 'learning_rate': 3.462e-05, 'epoch': 21.15}\n"
          ]
        },
        {
          "name": "stderr",
          "output_type": "stream",
          "text": [
            " 42%|████▏     | 424/1000 [57:16<1:41:05, 10.53s/it]"
          ]
        },
        {
          "name": "stdout",
          "output_type": "stream",
          "text": [
            "{'loss': 1.6214, 'learning_rate': 3.456e-05, 'epoch': 21.2}\n"
          ]
        },
        {
          "name": "stderr",
          "output_type": "stream",
          "text": [
            " 42%|████▎     | 425/1000 [57:22<1:26:58,  9.08s/it]"
          ]
        },
        {
          "name": "stdout",
          "output_type": "stream",
          "text": [
            "{'loss': 1.7942, 'learning_rate': 3.45e-05, 'epoch': 21.25}\n"
          ]
        },
        {
          "name": "stderr",
          "output_type": "stream",
          "text": [
            " 43%|████▎     | 426/1000 [57:28<1:18:45,  8.23s/it]"
          ]
        },
        {
          "name": "stdout",
          "output_type": "stream",
          "text": [
            "{'loss': 1.829, 'learning_rate': 3.4439999999999996e-05, 'epoch': 21.3}\n"
          ]
        },
        {
          "name": "stderr",
          "output_type": "stream",
          "text": [
            " 43%|████▎     | 427/1000 [57:34<1:12:25,  7.58s/it]"
          ]
        },
        {
          "name": "stdout",
          "output_type": "stream",
          "text": [
            "{'loss': 1.7743, 'learning_rate': 3.438e-05, 'epoch': 21.35}\n"
          ]
        },
        {
          "name": "stderr",
          "output_type": "stream",
          "text": [
            " 43%|████▎     | 428/1000 [57:40<1:08:12,  7.16s/it]"
          ]
        },
        {
          "name": "stdout",
          "output_type": "stream",
          "text": [
            "{'loss': 1.8386, 'learning_rate': 3.432e-05, 'epoch': 21.4}\n"
          ]
        },
        {
          "name": "stderr",
          "output_type": "stream",
          "text": [
            " 43%|████▎     | 429/1000 [57:46<1:05:34,  6.89s/it]"
          ]
        },
        {
          "name": "stdout",
          "output_type": "stream",
          "text": [
            "{'loss': 1.8632, 'learning_rate': 3.426e-05, 'epoch': 21.45}\n"
          ]
        },
        {
          "name": "stderr",
          "output_type": "stream",
          "text": [
            " 43%|████▎     | 430/1000 [57:53<1:03:07,  6.65s/it]"
          ]
        },
        {
          "name": "stdout",
          "output_type": "stream",
          "text": [
            "{'loss': 2.259, 'learning_rate': 3.42e-05, 'epoch': 21.5}\n"
          ]
        },
        {
          "name": "stderr",
          "output_type": "stream",
          "text": [
            " 43%|████▎     | 431/1000 [57:58<1:01:02,  6.44s/it]"
          ]
        },
        {
          "name": "stdout",
          "output_type": "stream",
          "text": [
            "{'loss': 1.8159, 'learning_rate': 3.4139999999999995e-05, 'epoch': 21.55}\n"
          ]
        },
        {
          "name": "stderr",
          "output_type": "stream",
          "text": [
            " 43%|████▎     | 432/1000 [58:05<1:00:08,  6.35s/it]"
          ]
        },
        {
          "name": "stdout",
          "output_type": "stream",
          "text": [
            "{'loss': 1.9341, 'learning_rate': 3.408e-05, 'epoch': 21.6}\n"
          ]
        },
        {
          "name": "stderr",
          "output_type": "stream",
          "text": [
            " 43%|████▎     | 433/1000 [58:11<1:00:03,  6.35s/it]"
          ]
        },
        {
          "name": "stdout",
          "output_type": "stream",
          "text": [
            "{'loss': 1.683, 'learning_rate': 3.4019999999999996e-05, 'epoch': 21.65}\n"
          ]
        },
        {
          "name": "stderr",
          "output_type": "stream",
          "text": [
            " 43%|████▎     | 434/1000 [58:17<59:44,  6.33s/it]  "
          ]
        },
        {
          "name": "stdout",
          "output_type": "stream",
          "text": [
            "{'loss': 1.8709, 'learning_rate': 3.396e-05, 'epoch': 21.7}\n"
          ]
        },
        {
          "name": "stderr",
          "output_type": "stream",
          "text": [
            " 44%|████▎     | 435/1000 [58:23<59:10,  6.28s/it]"
          ]
        },
        {
          "name": "stdout",
          "output_type": "stream",
          "text": [
            "{'loss': 1.6904, 'learning_rate': 3.39e-05, 'epoch': 21.75}\n"
          ]
        },
        {
          "name": "stderr",
          "output_type": "stream",
          "text": [
            " 44%|████▎     | 436/1000 [58:30<58:34,  6.23s/it]"
          ]
        },
        {
          "name": "stdout",
          "output_type": "stream",
          "text": [
            "{'loss': 1.6048, 'learning_rate': 3.3839999999999994e-05, 'epoch': 21.8}\n"
          ]
        },
        {
          "name": "stderr",
          "output_type": "stream",
          "text": [
            " 44%|████▎     | 437/1000 [58:36<58:18,  6.21s/it]"
          ]
        },
        {
          "name": "stdout",
          "output_type": "stream",
          "text": [
            "{'loss': 1.5593, 'learning_rate': 3.378e-05, 'epoch': 21.85}\n"
          ]
        },
        {
          "name": "stderr",
          "output_type": "stream",
          "text": [
            " 44%|████▍     | 438/1000 [58:42<58:18,  6.23s/it]"
          ]
        },
        {
          "name": "stdout",
          "output_type": "stream",
          "text": [
            "{'loss': 1.9917, 'learning_rate': 3.372e-05, 'epoch': 21.9}\n"
          ]
        },
        {
          "name": "stderr",
          "output_type": "stream",
          "text": [
            " 44%|████▍     | 439/1000 [58:48<58:21,  6.24s/it]"
          ]
        },
        {
          "name": "stdout",
          "output_type": "stream",
          "text": [
            "{'loss': 1.887, 'learning_rate': 3.3660000000000006e-05, 'epoch': 21.95}\n"
          ]
        },
        {
          "name": "stderr",
          "output_type": "stream",
          "text": [
            " 44%|████▍     | 440/1000 [58:55<1:00:00,  6.43s/it]"
          ]
        },
        {
          "name": "stdout",
          "output_type": "stream",
          "text": [
            "{'loss': 1.9712, 'learning_rate': 3.3600000000000004e-05, 'epoch': 22.0}\n"
          ]
        },
        {
          "name": "stderr",
          "output_type": "stream",
          "text": [
            "C:\\Users\\kuian\\.cache\\huggingface\\modules\\evaluate_modules\\metrics\\evaluate-metric--mean_iou\\08bc20f4f895f3caf75fb9e3fada1404bded3c3265243d05327cbb3b9326ffe9\\mean_iou.py:259: RuntimeWarning: invalid value encountered in divide\n",
            "  iou = total_area_intersect / total_area_union\n",
            "C:\\Users\\kuian\\.cache\\huggingface\\modules\\evaluate_modules\\metrics\\evaluate-metric--mean_iou\\08bc20f4f895f3caf75fb9e3fada1404bded3c3265243d05327cbb3b9326ffe9\\mean_iou.py:260: RuntimeWarning: invalid value encountered in divide\n",
            "  acc = total_area_intersect / total_area_label\n",
            "                                                    \n",
            " 44%|████▍     | 440/1000 [59:38<1:00:00,  6.43s/it]"
          ]
        },
        {
          "name": "stdout",
          "output_type": "stream",
          "text": [
            "{'eval_loss': 2.2286674976348877, 'eval_mean_iou': 0.08677295740466183, 'eval_mean_accuracy': 0.15008532588429263, 'eval_overall_accuracy': 0.5511813531205035, 'eval_per_category_iou': [0.5099921528187663, nan, nan, 0.5640172622218252, 0.0, 0.48081670819387984, nan, nan, 0.14385945828347657, nan, 0.5248245005014271, nan, 0.0, nan, 0.35819444800743383, 0.0, nan, 0.0, 0.12384803946919314, 0.0, nan, nan, 0.0, nan, 0.0, nan, nan, 0.1484312133248577, nan, nan, nan, 0.0, 0.0, nan, nan, nan, nan, 0.09616644266645964, nan, nan, nan, 0.0, 0.0, 0.0, nan, nan, nan, 0.17444648145536595, nan, nan, nan, nan, nan, nan, nan, nan, nan, nan, 0.025094122405799807, nan, nan, nan, nan, 0.0, nan, 0.321227466837988, nan, nan, nan, nan, 0.0, nan, nan, nan, nan, nan, nan, nan, nan, nan, nan, 0.0, 0.0, nan, nan, nan, nan, 0.0, nan, 0.0, nan, nan, nan, nan, nan, nan, 0.0, nan, 0.0, nan, nan, nan, nan, nan, 0.0, nan, nan, nan, nan, nan, nan, nan, nan, nan, nan, nan, nan, nan, nan, nan, nan, nan, nan, nan, nan, 0.0, nan, nan, nan, nan, nan, nan, nan, nan, 0.0, nan, nan, 0.0, 0.0, nan, nan, nan, nan, nan, nan, 0.0, nan, nan, 0.0, 0.0], 'eval_per_category_accuracy': [0.6353384976715402, nan, nan, 0.6615870996707572, 0.0, 0.7571525411554502, nan, nan, 0.9444179957153058, nan, 0.6712612603723693, nan, 0.0, nan, 0.5842438049188712, 0.0, nan, 0.0, 0.1281134982453137, 0.0, nan, nan, 0.0, nan, 0.0, nan, nan, 0.3984337242447257, nan, nan, nan, 0.0, 0.0, nan, nan, nan, nan, 0.5239505128476261, nan, nan, nan, 0.0, 0.0, 0.0, nan, nan, nan, 0.2371808918593185, nan, nan, nan, nan, nan, nan, nan, nan, nan, nan, 0.029899439269660318, nan, nan, nan, nan, 0.0, nan, 0.4318337694007671, nan, nan, nan, nan, 0.0, nan, nan, nan, nan, nan, nan, nan, nan, nan, nan, 0.0, 0.0, nan, nan, nan, nan, 0.0, nan, 0.0, nan, nan, nan, nan, nan, nan, 0.0, nan, 0.0, nan, nan, nan, nan, nan, 0.0, nan, nan, nan, nan, nan, nan, nan, nan, nan, nan, nan, nan, nan, nan, nan, nan, nan, nan, nan, nan, 0.0, nan, nan, nan, nan, nan, nan, nan, nan, 0.0, nan, nan, 0.0, 0.0, nan, nan, nan, nan, nan, nan, 0.0, nan, nan, 0.0, 0.0], 'eval_runtime': 42.8726, 'eval_samples_per_second': 0.233, 'eval_steps_per_second': 0.117, 'epoch': 22.0}\n"
          ]
        },
        {
          "name": "stderr",
          "output_type": "stream",
          "text": [
            " 44%|████▍     | 441/1000 [59:44<2:59:31, 19.27s/it]"
          ]
        },
        {
          "name": "stdout",
          "output_type": "stream",
          "text": [
            "{'loss': 1.6255, 'learning_rate': 3.354e-05, 'epoch': 22.05}\n"
          ]
        },
        {
          "name": "stderr",
          "output_type": "stream",
          "text": [
            " 44%|████▍     | 442/1000 [59:50<2:22:32, 15.33s/it]"
          ]
        },
        {
          "name": "stdout",
          "output_type": "stream",
          "text": [
            "{'loss': 1.5158, 'learning_rate': 3.3480000000000005e-05, 'epoch': 22.1}\n"
          ]
        },
        {
          "name": "stderr",
          "output_type": "stream",
          "text": [
            " 44%|████▍     | 443/1000 [59:57<1:56:54, 12.59s/it]"
          ]
        },
        {
          "name": "stdout",
          "output_type": "stream",
          "text": [
            "{'loss': 1.8523, 'learning_rate': 3.342e-05, 'epoch': 22.15}\n"
          ]
        },
        {
          "name": "stderr",
          "output_type": "stream",
          "text": [
            " 44%|████▍     | 444/1000 [1:00:03<1:38:36, 10.64s/it]"
          ]
        },
        {
          "name": "stdout",
          "output_type": "stream",
          "text": [
            "{'loss': 1.6169, 'learning_rate': 3.3360000000000006e-05, 'epoch': 22.2}\n"
          ]
        },
        {
          "name": "stderr",
          "output_type": "stream",
          "text": [
            " 44%|████▍     | 445/1000 [1:00:09<1:26:05,  9.31s/it]"
          ]
        },
        {
          "name": "stdout",
          "output_type": "stream",
          "text": [
            "{'loss': 1.9616, 'learning_rate': 3.33e-05, 'epoch': 22.25}\n"
          ]
        },
        {
          "name": "stderr",
          "output_type": "stream",
          "text": [
            " 45%|████▍     | 446/1000 [1:00:15<1:17:18,  8.37s/it]"
          ]
        },
        {
          "name": "stdout",
          "output_type": "stream",
          "text": [
            "{'loss': 2.097, 'learning_rate': 3.324000000000001e-05, 'epoch': 22.3}\n"
          ]
        },
        {
          "name": "stderr",
          "output_type": "stream",
          "text": [
            " 45%|████▍     | 447/1000 [1:00:21<1:10:41,  7.67s/it]"
          ]
        },
        {
          "name": "stdout",
          "output_type": "stream",
          "text": [
            "{'loss': 1.8632, 'learning_rate': 3.3180000000000004e-05, 'epoch': 22.35}\n"
          ]
        },
        {
          "name": "stderr",
          "output_type": "stream",
          "text": [
            " 45%|████▍     | 448/1000 [1:00:27<1:05:38,  7.14s/it]"
          ]
        },
        {
          "name": "stdout",
          "output_type": "stream",
          "text": [
            "{'loss': 1.7452, 'learning_rate': 3.312e-05, 'epoch': 22.4}\n"
          ]
        },
        {
          "name": "stderr",
          "output_type": "stream",
          "text": [
            " 45%|████▍     | 449/1000 [1:00:33<1:03:13,  6.88s/it]"
          ]
        },
        {
          "name": "stdout",
          "output_type": "stream",
          "text": [
            "{'loss': 1.793, 'learning_rate': 3.3060000000000005e-05, 'epoch': 22.45}\n"
          ]
        },
        {
          "name": "stderr",
          "output_type": "stream",
          "text": [
            " 45%|████▌     | 450/1000 [1:00:40<1:01:24,  6.70s/it]"
          ]
        },
        {
          "name": "stdout",
          "output_type": "stream",
          "text": [
            "{'loss': 1.5848, 'learning_rate': 3.3e-05, 'epoch': 22.5}\n"
          ]
        },
        {
          "name": "stderr",
          "output_type": "stream",
          "text": [
            " 45%|████▌     | 451/1000 [1:00:46<59:10,  6.47s/it]  "
          ]
        },
        {
          "name": "stdout",
          "output_type": "stream",
          "text": [
            "{'loss': 1.6197, 'learning_rate': 3.2940000000000006e-05, 'epoch': 22.55}\n"
          ]
        },
        {
          "name": "stderr",
          "output_type": "stream",
          "text": [
            " 45%|████▌     | 452/1000 [1:00:52<58:09,  6.37s/it]"
          ]
        },
        {
          "name": "stdout",
          "output_type": "stream",
          "text": [
            "{'loss': 1.4745, 'learning_rate': 3.2880000000000004e-05, 'epoch': 22.6}\n"
          ]
        },
        {
          "name": "stderr",
          "output_type": "stream",
          "text": [
            " 45%|████▌     | 453/1000 [1:00:58<57:13,  6.28s/it]"
          ]
        },
        {
          "name": "stdout",
          "output_type": "stream",
          "text": [
            "{'loss': 2.6156, 'learning_rate': 3.282e-05, 'epoch': 22.65}\n"
          ]
        },
        {
          "name": "stderr",
          "output_type": "stream",
          "text": [
            " 45%|████▌     | 454/1000 [1:01:04<56:41,  6.23s/it]"
          ]
        },
        {
          "name": "stdout",
          "output_type": "stream",
          "text": [
            "{'loss': 1.8659, 'learning_rate': 3.2760000000000005e-05, 'epoch': 22.7}\n"
          ]
        },
        {
          "name": "stderr",
          "output_type": "stream",
          "text": [
            " 46%|████▌     | 455/1000 [1:01:10<56:34,  6.23s/it]"
          ]
        },
        {
          "name": "stdout",
          "output_type": "stream",
          "text": [
            "{'loss': 1.5684, 'learning_rate': 3.27e-05, 'epoch': 22.75}\n"
          ]
        },
        {
          "name": "stderr",
          "output_type": "stream",
          "text": [
            " 46%|████▌     | 456/1000 [1:01:16<56:13,  6.20s/it]"
          ]
        },
        {
          "name": "stdout",
          "output_type": "stream",
          "text": [
            "{'loss': 1.5052, 'learning_rate': 3.2640000000000006e-05, 'epoch': 22.8}\n"
          ]
        },
        {
          "name": "stderr",
          "output_type": "stream",
          "text": [
            " 46%|████▌     | 457/1000 [1:01:22<55:45,  6.16s/it]"
          ]
        },
        {
          "name": "stdout",
          "output_type": "stream",
          "text": [
            "{'loss': 1.6685, 'learning_rate': 3.258e-05, 'epoch': 22.85}\n"
          ]
        },
        {
          "name": "stderr",
          "output_type": "stream",
          "text": [
            " 46%|████▌     | 458/1000 [1:01:29<55:59,  6.20s/it]"
          ]
        },
        {
          "name": "stdout",
          "output_type": "stream",
          "text": [
            "{'loss': 1.5872, 'learning_rate': 3.252e-05, 'epoch': 22.9}\n"
          ]
        },
        {
          "name": "stderr",
          "output_type": "stream",
          "text": [
            " 46%|████▌     | 459/1000 [1:01:35<55:39,  6.17s/it]"
          ]
        },
        {
          "name": "stdout",
          "output_type": "stream",
          "text": [
            "{'loss': 1.6692, 'learning_rate': 3.2460000000000004e-05, 'epoch': 22.95}\n"
          ]
        },
        {
          "name": "stderr",
          "output_type": "stream",
          "text": [
            " 46%|████▌     | 460/1000 [1:01:41<55:11,  6.13s/it]"
          ]
        },
        {
          "name": "stdout",
          "output_type": "stream",
          "text": [
            "{'loss': 1.843, 'learning_rate': 3.24e-05, 'epoch': 23.0}\n"
          ]
        },
        {
          "name": "stderr",
          "output_type": "stream",
          "text": [
            "C:\\Users\\kuian\\.cache\\huggingface\\modules\\evaluate_modules\\metrics\\evaluate-metric--mean_iou\\08bc20f4f895f3caf75fb9e3fada1404bded3c3265243d05327cbb3b9326ffe9\\mean_iou.py:259: RuntimeWarning: invalid value encountered in divide\n",
            "  iou = total_area_intersect / total_area_union\n",
            "C:\\Users\\kuian\\.cache\\huggingface\\modules\\evaluate_modules\\metrics\\evaluate-metric--mean_iou\\08bc20f4f895f3caf75fb9e3fada1404bded3c3265243d05327cbb3b9326ffe9\\mean_iou.py:260: RuntimeWarning: invalid value encountered in divide\n",
            "  acc = total_area_intersect / total_area_label\n",
            "                                                    \n",
            " 46%|████▌     | 460/1000 [1:02:22<55:11,  6.13s/it]"
          ]
        },
        {
          "name": "stdout",
          "output_type": "stream",
          "text": [
            "{'eval_loss': 2.0651402473449707, 'eval_mean_iou': 0.0939599641247444, 'eval_mean_accuracy': 0.14997172311724533, 'eval_overall_accuracy': 0.5942168766385854, 'eval_per_category_iou': [0.563551752883303, nan, nan, 0.5840753664892553, 0.0, 0.5055841880209995, nan, nan, 0.12708919684051537, nan, 0.5688750779031922, nan, 0.0, nan, 0.3601383559050782, 0.0, nan, 0.0, 0.20813031779506944, 0.0, nan, nan, 0.0, nan, 0.0, nan, nan, 0.16199156912866047, nan, nan, nan, 0.0, 0.0, nan, nan, nan, nan, 0.1110814808851499, nan, nan, nan, 0.0, 0.0, 0.0, nan, nan, nan, 0.09529113924050633, nan, nan, nan, nan, nan, nan, nan, nan, nan, nan, 0.10764459561818468, nan, nan, nan, nan, 0.0, nan, 0.34432204597747956, nan, nan, nan, nan, 0.0, nan, nan, nan, nan, nan, nan, nan, nan, nan, nan, 0.020623478302382203, 0.0, nan, nan, nan, nan, 0.0, nan, 0.0, nan, nan, nan, nan, nan, nan, 0.0, nan, 0.0, nan, nan, nan, nan, nan, 0.0, nan, nan, nan, nan, nan, nan, nan, nan, nan, nan, nan, nan, nan, nan, nan, nan, nan, nan, nan, nan, 0.0, nan, nan, nan, nan, nan, nan, nan, nan, 0.0, nan, nan, 0.0, 0.0, nan, nan, nan, nan, nan, nan, 0.0, nan, nan, 0.0, 0.0], 'eval_per_category_accuracy': [0.7510299408282912, nan, nan, 0.7320674947620472, 0.0, 0.6619080326639821, nan, nan, 0.9163294453701499, nan, 0.6484494479580862, nan, 0.0, nan, 0.48649402575666, 0.0, nan, 0.0, 0.21434991012582386, 0.0, nan, nan, 0.0, nan, 0.0, nan, nan, 0.2850266799491059, nan, nan, nan, 0.0, 0.0, nan, nan, nan, nan, 0.5836153114095379, nan, nan, nan, 0.0, 0.0, 0.0, nan, nan, nan, 0.12887586282458638, nan, nan, nan, nan, nan, nan, nan, nan, nan, nan, 0.1396172204458038, nan, nan, nan, nan, 0.0, nan, 0.4295475906215866, nan, nan, nan, nan, 0.0, nan, nan, nan, nan, nan, nan, nan, nan, nan, nan, 0.021557961974150407, 0.0, nan, nan, nan, nan, 0.0, nan, 0.0, nan, nan, nan, nan, nan, nan, 0.0, nan, 0.0, nan, nan, nan, nan, nan, 0.0, nan, nan, nan, nan, nan, nan, nan, nan, nan, nan, nan, nan, nan, nan, nan, nan, nan, nan, nan, nan, 0.0, nan, nan, nan, nan, nan, nan, nan, nan, 0.0, nan, nan, 0.0, 0.0, nan, nan, nan, nan, nan, nan, 0.0, nan, nan, 0.0, 0.0], 'eval_runtime': 41.5215, 'eval_samples_per_second': 0.241, 'eval_steps_per_second': 0.12, 'epoch': 23.0}\n"
          ]
        },
        {
          "name": "stderr",
          "output_type": "stream",
          "text": [
            " 46%|████▌     | 461/1000 [1:02:29<2:48:06, 18.71s/it]"
          ]
        },
        {
          "name": "stdout",
          "output_type": "stream",
          "text": [
            "{'loss': 1.724, 'learning_rate': 3.2340000000000005e-05, 'epoch': 23.05}\n"
          ]
        },
        {
          "name": "stderr",
          "output_type": "stream",
          "text": [
            " 46%|████▌     | 462/1000 [1:02:35<2:13:58, 14.94s/it]"
          ]
        },
        {
          "name": "stdout",
          "output_type": "stream",
          "text": [
            "{'loss': 1.8404, 'learning_rate': 3.228e-05, 'epoch': 23.1}\n"
          ]
        },
        {
          "name": "stderr",
          "output_type": "stream",
          "text": [
            " 46%|████▋     | 463/1000 [1:02:41<1:50:12, 12.31s/it]"
          ]
        },
        {
          "name": "stdout",
          "output_type": "stream",
          "text": [
            "{'loss': 1.3396, 'learning_rate': 3.222e-05, 'epoch': 23.15}\n"
          ]
        },
        {
          "name": "stderr",
          "output_type": "stream",
          "text": [
            " 46%|████▋     | 464/1000 [1:02:47<1:33:04, 10.42s/it]"
          ]
        },
        {
          "name": "stdout",
          "output_type": "stream",
          "text": [
            "{'loss': 1.4932, 'learning_rate': 3.2160000000000004e-05, 'epoch': 23.2}\n"
          ]
        },
        {
          "name": "stderr",
          "output_type": "stream",
          "text": [
            " 46%|████▋     | 465/1000 [1:02:53<1:21:16,  9.11s/it]"
          ]
        },
        {
          "name": "stdout",
          "output_type": "stream",
          "text": [
            "{'loss': 1.9058, 'learning_rate': 3.21e-05, 'epoch': 23.25}\n"
          ]
        },
        {
          "name": "stderr",
          "output_type": "stream",
          "text": [
            " 47%|████▋     | 466/1000 [1:02:59<1:13:27,  8.25s/it]"
          ]
        },
        {
          "name": "stdout",
          "output_type": "stream",
          "text": [
            "{'loss': 1.4574, 'learning_rate': 3.2040000000000005e-05, 'epoch': 23.3}\n"
          ]
        },
        {
          "name": "stderr",
          "output_type": "stream",
          "text": [
            " 47%|████▋     | 467/1000 [1:03:06<1:08:14,  7.68s/it]"
          ]
        },
        {
          "name": "stdout",
          "output_type": "stream",
          "text": [
            "{'loss': 1.537, 'learning_rate': 3.198e-05, 'epoch': 23.35}\n"
          ]
        },
        {
          "name": "stderr",
          "output_type": "stream",
          "text": [
            " 47%|████▋     | 468/1000 [1:03:12<1:04:02,  7.22s/it]"
          ]
        },
        {
          "name": "stdout",
          "output_type": "stream",
          "text": [
            "{'loss': 1.6744, 'learning_rate': 3.192e-05, 'epoch': 23.4}\n"
          ]
        },
        {
          "name": "stderr",
          "output_type": "stream",
          "text": [
            " 47%|████▋     | 469/1000 [1:03:18<1:01:40,  6.97s/it]"
          ]
        },
        {
          "name": "stdout",
          "output_type": "stream",
          "text": [
            "{'loss': 1.7404, 'learning_rate': 3.186e-05, 'epoch': 23.45}\n"
          ]
        },
        {
          "name": "stderr",
          "output_type": "stream",
          "text": [
            " 47%|████▋     | 470/1000 [1:03:25<59:32,  6.74s/it]  "
          ]
        },
        {
          "name": "stdout",
          "output_type": "stream",
          "text": [
            "{'loss': 1.816, 'learning_rate': 3.18e-05, 'epoch': 23.5}\n"
          ]
        },
        {
          "name": "stderr",
          "output_type": "stream",
          "text": [
            " 47%|████▋     | 471/1000 [1:03:31<57:36,  6.53s/it]"
          ]
        },
        {
          "name": "stdout",
          "output_type": "stream",
          "text": [
            "{'loss': 1.7627, 'learning_rate': 3.1740000000000004e-05, 'epoch': 23.55}\n"
          ]
        },
        {
          "name": "stderr",
          "output_type": "stream",
          "text": [
            " 47%|████▋     | 472/1000 [1:03:37<56:12,  6.39s/it]"
          ]
        },
        {
          "name": "stdout",
          "output_type": "stream",
          "text": [
            "{'loss': 1.5527, 'learning_rate': 3.168e-05, 'epoch': 23.6}\n"
          ]
        },
        {
          "name": "stderr",
          "output_type": "stream",
          "text": [
            " 47%|████▋     | 473/1000 [1:03:43<55:25,  6.31s/it]"
          ]
        },
        {
          "name": "stdout",
          "output_type": "stream",
          "text": [
            "{'loss': 1.7991, 'learning_rate': 3.1620000000000006e-05, 'epoch': 23.65}\n"
          ]
        },
        {
          "name": "stderr",
          "output_type": "stream",
          "text": [
            " 47%|████▋     | 474/1000 [1:03:49<54:53,  6.26s/it]"
          ]
        },
        {
          "name": "stdout",
          "output_type": "stream",
          "text": [
            "{'loss': 1.636, 'learning_rate': 3.156e-05, 'epoch': 23.7}\n"
          ]
        },
        {
          "name": "stderr",
          "output_type": "stream",
          "text": [
            " 48%|████▊     | 475/1000 [1:03:55<54:46,  6.26s/it]"
          ]
        },
        {
          "name": "stdout",
          "output_type": "stream",
          "text": [
            "{'loss': 1.6961, 'learning_rate': 3.15e-05, 'epoch': 23.75}\n"
          ]
        },
        {
          "name": "stderr",
          "output_type": "stream",
          "text": [
            " 48%|████▊     | 476/1000 [1:04:01<54:18,  6.22s/it]"
          ]
        },
        {
          "name": "stdout",
          "output_type": "stream",
          "text": [
            "{'loss': 1.2198, 'learning_rate': 3.1440000000000004e-05, 'epoch': 23.8}\n"
          ]
        },
        {
          "name": "stderr",
          "output_type": "stream",
          "text": [
            " 48%|████▊     | 477/1000 [1:04:08<54:15,  6.23s/it]"
          ]
        },
        {
          "name": "stdout",
          "output_type": "stream",
          "text": [
            "{'loss': 1.4656, 'learning_rate': 3.138e-05, 'epoch': 23.85}\n"
          ]
        },
        {
          "name": "stderr",
          "output_type": "stream",
          "text": [
            " 48%|████▊     | 478/1000 [1:04:14<53:53,  6.20s/it]"
          ]
        },
        {
          "name": "stdout",
          "output_type": "stream",
          "text": [
            "{'loss': 2.5405, 'learning_rate': 3.1320000000000005e-05, 'epoch': 23.9}\n"
          ]
        },
        {
          "name": "stderr",
          "output_type": "stream",
          "text": [
            " 48%|████▊     | 479/1000 [1:04:20<53:21,  6.14s/it]"
          ]
        },
        {
          "name": "stdout",
          "output_type": "stream",
          "text": [
            "{'loss': 2.093, 'learning_rate': 3.126e-05, 'epoch': 23.95}\n"
          ]
        },
        {
          "name": "stderr",
          "output_type": "stream",
          "text": [
            " 48%|████▊     | 480/1000 [1:04:26<53:25,  6.16s/it]"
          ]
        },
        {
          "name": "stdout",
          "output_type": "stream",
          "text": [
            "{'loss': 1.8447, 'learning_rate': 3.12e-05, 'epoch': 24.0}\n"
          ]
        },
        {
          "name": "stderr",
          "output_type": "stream",
          "text": [
            "C:\\Users\\kuian\\.cache\\huggingface\\modules\\evaluate_modules\\metrics\\evaluate-metric--mean_iou\\08bc20f4f895f3caf75fb9e3fada1404bded3c3265243d05327cbb3b9326ffe9\\mean_iou.py:259: RuntimeWarning: invalid value encountered in divide\n",
            "  iou = total_area_intersect / total_area_union\n",
            "C:\\Users\\kuian\\.cache\\huggingface\\modules\\evaluate_modules\\metrics\\evaluate-metric--mean_iou\\08bc20f4f895f3caf75fb9e3fada1404bded3c3265243d05327cbb3b9326ffe9\\mean_iou.py:260: RuntimeWarning: invalid value encountered in divide\n",
            "  acc = total_area_intersect / total_area_label\n",
            "                                                    \n",
            " 48%|████▊     | 480/1000 [1:05:07<53:25,  6.16s/it]"
          ]
        },
        {
          "name": "stdout",
          "output_type": "stream",
          "text": [
            "{'eval_loss': 1.9735256433486938, 'eval_mean_iou': 0.09394249073836052, 'eval_mean_accuracy': 0.15186091111140632, 'eval_overall_accuracy': 0.6012793115242675, 'eval_per_category_iou': [0.5632225246468279, nan, nan, 0.587207104458868, 0.0, 0.5094830629465443, nan, nan, 0.1437930215998101, nan, 0.5508525417235871, nan, 0.0, nan, 0.3818190587970481, 0.0, nan, 0.0, 0.2237876563264711, 0.0, nan, nan, 0.0, nan, 0.0, nan, nan, 0.08988412577521489, nan, nan, nan, 0.0, 0.0, nan, nan, nan, nan, 0.11650474126884276, nan, nan, nan, 0.0, 0.0, 0.0, nan, nan, nan, 0.1437216338880484, nan, nan, nan, nan, nan, nan, nan, nan, nan, nan, 0.08339666808536511, nan, nan, nan, nan, 0.0, nan, 0.3405838089851048, nan, nan, nan, nan, 0.0, nan, nan, nan, nan, nan, nan, nan, nan, nan, nan, 0.023443681032687902, 0.0, nan, nan, nan, nan, 0.0, nan, 0.0, nan, nan, nan, nan, nan, nan, 0.0, nan, 0.0, nan, nan, nan, nan, nan, 0.0, nan, nan, nan, nan, nan, nan, nan, nan, nan, nan, nan, nan, nan, nan, nan, nan, nan, nan, nan, nan, 0.0, nan, nan, nan, nan, nan, nan, nan, nan, 0.0, nan, nan, 0.0, 0.0, nan, nan, nan, nan, nan, nan, 0.0, nan, nan, 0.0, 0.0], 'eval_per_category_accuracy': [0.7559178751900472, nan, nan, 0.685767734211314, 0.0, 0.7321293091451069, nan, nan, 0.9012735063080219, nan, 0.7519511400972857, nan, 0.0, nan, 0.5520479799153842, 0.0, nan, 0.0, 0.22993879996576222, 0.0, nan, nan, 0.0, nan, 0.0, nan, nan, 0.13037174391194137, nan, nan, nan, 0.0, 0.0, nan, nan, nan, nan, 0.5287617637728667, nan, nan, nan, 0.0, 0.0, 0.0, nan, nan, nan, 0.171743179577079, nan, nan, nan, nan, nan, nan, nan, nan, nan, nan, 0.10170072755920108, nan, nan, nan, nan, 0.0, nan, 0.5047374704701908, nan, nan, nan, nan, 0.0, nan, nan, nan, nan, nan, nan, nan, nan, nan, nan, 0.028095214332052497, 0.0, nan, nan, nan, nan, 0.0, nan, 0.0, nan, nan, nan, nan, nan, nan, 0.0, nan, 0.0, nan, nan, nan, nan, nan, 0.0, nan, nan, nan, nan, nan, nan, nan, nan, nan, nan, nan, nan, nan, nan, nan, nan, nan, nan, nan, nan, 0.0, nan, nan, nan, nan, nan, nan, nan, nan, 0.0, nan, nan, 0.0, 0.0, nan, nan, nan, nan, nan, nan, 0.0, nan, nan, 0.0, 0.0], 'eval_runtime': 41.3582, 'eval_samples_per_second': 0.242, 'eval_steps_per_second': 0.121, 'epoch': 24.0}\n"
          ]
        },
        {
          "name": "stderr",
          "output_type": "stream",
          "text": [
            " 48%|████▊     | 481/1000 [1:05:14<2:41:34, 18.68s/it]"
          ]
        },
        {
          "name": "stdout",
          "output_type": "stream",
          "text": [
            "{'loss': 1.3225, 'learning_rate': 3.1140000000000003e-05, 'epoch': 24.05}\n"
          ]
        },
        {
          "name": "stderr",
          "output_type": "stream",
          "text": [
            " 48%|████▊     | 482/1000 [1:05:20<2:08:59, 14.94s/it]"
          ]
        },
        {
          "name": "stdout",
          "output_type": "stream",
          "text": [
            "{'loss': 1.6864, 'learning_rate': 3.108e-05, 'epoch': 24.1}\n"
          ]
        },
        {
          "name": "stderr",
          "output_type": "stream",
          "text": [
            " 48%|████▊     | 483/1000 [1:05:26<1:45:52, 12.29s/it]"
          ]
        },
        {
          "name": "stdout",
          "output_type": "stream",
          "text": [
            "{'loss': 1.5954, 'learning_rate': 3.1020000000000005e-05, 'epoch': 24.15}\n"
          ]
        },
        {
          "name": "stderr",
          "output_type": "stream",
          "text": [
            " 48%|████▊     | 484/1000 [1:05:32<1:29:40, 10.43s/it]"
          ]
        },
        {
          "name": "stdout",
          "output_type": "stream",
          "text": [
            "{'loss': 1.689, 'learning_rate': 3.096e-05, 'epoch': 24.2}\n"
          ]
        },
        {
          "name": "stderr",
          "output_type": "stream",
          "text": [
            " 48%|████▊     | 485/1000 [1:05:38<1:18:48,  9.18s/it]"
          ]
        },
        {
          "name": "stdout",
          "output_type": "stream",
          "text": [
            "{'loss': 1.3786, 'learning_rate': 3.09e-05, 'epoch': 24.25}\n"
          ]
        },
        {
          "name": "stderr",
          "output_type": "stream",
          "text": [
            " 49%|████▊     | 486/1000 [1:05:45<1:10:46,  8.26s/it]"
          ]
        },
        {
          "name": "stdout",
          "output_type": "stream",
          "text": [
            "{'loss': 1.756, 'learning_rate': 3.084e-05, 'epoch': 24.3}\n"
          ]
        },
        {
          "name": "stderr",
          "output_type": "stream",
          "text": [
            " 49%|████▊     | 487/1000 [1:05:51<1:05:31,  7.66s/it]"
          ]
        },
        {
          "name": "stdout",
          "output_type": "stream",
          "text": [
            "{'loss': 1.5342, 'learning_rate': 3.078e-05, 'epoch': 24.35}\n"
          ]
        },
        {
          "name": "stderr",
          "output_type": "stream",
          "text": [
            " 49%|████▉     | 488/1000 [1:05:57<1:01:52,  7.25s/it]"
          ]
        },
        {
          "name": "stdout",
          "output_type": "stream",
          "text": [
            "{'loss': 1.3434, 'learning_rate': 3.0720000000000004e-05, 'epoch': 24.4}\n"
          ]
        },
        {
          "name": "stderr",
          "output_type": "stream",
          "text": [
            " 49%|████▉     | 489/1000 [1:06:04<59:35,  7.00s/it]  "
          ]
        },
        {
          "name": "stdout",
          "output_type": "stream",
          "text": [
            "{'loss': 1.2268, 'learning_rate': 3.066e-05, 'epoch': 24.45}\n"
          ]
        },
        {
          "name": "stderr",
          "output_type": "stream",
          "text": [
            " 49%|████▉     | 490/1000 [1:06:10<57:31,  6.77s/it]"
          ]
        },
        {
          "name": "stdout",
          "output_type": "stream",
          "text": [
            "{'loss': 1.5072, 'learning_rate': 3.06e-05, 'epoch': 24.5}\n"
          ]
        },
        {
          "name": "stderr",
          "output_type": "stream",
          "text": [
            " 49%|████▉     | 491/1000 [1:06:16<55:53,  6.59s/it]"
          ]
        },
        {
          "name": "stdout",
          "output_type": "stream",
          "text": [
            "{'loss': 1.5608, 'learning_rate': 3.054e-05, 'epoch': 24.55}\n"
          ]
        },
        {
          "name": "stderr",
          "output_type": "stream",
          "text": [
            " 49%|████▉     | 492/1000 [1:06:22<54:53,  6.48s/it]"
          ]
        },
        {
          "name": "stdout",
          "output_type": "stream",
          "text": [
            "{'loss': 1.3711, 'learning_rate': 3.048e-05, 'epoch': 24.6}\n"
          ]
        },
        {
          "name": "stderr",
          "output_type": "stream",
          "text": [
            " 49%|████▉     | 493/1000 [1:06:28<54:06,  6.40s/it]"
          ]
        },
        {
          "name": "stdout",
          "output_type": "stream",
          "text": [
            "{'loss': 1.5194, 'learning_rate': 3.042e-05, 'epoch': 24.65}\n"
          ]
        },
        {
          "name": "stderr",
          "output_type": "stream",
          "text": [
            " 49%|████▉     | 494/1000 [1:06:34<53:08,  6.30s/it]"
          ]
        },
        {
          "name": "stdout",
          "output_type": "stream",
          "text": [
            "{'loss': 1.2025, 'learning_rate': 3.036e-05, 'epoch': 24.7}\n"
          ]
        },
        {
          "name": "stderr",
          "output_type": "stream",
          "text": [
            " 50%|████▉     | 495/1000 [1:06:40<52:18,  6.22s/it]"
          ]
        },
        {
          "name": "stdout",
          "output_type": "stream",
          "text": [
            "{'loss': 2.3998, 'learning_rate': 3.03e-05, 'epoch': 24.75}\n"
          ]
        },
        {
          "name": "stderr",
          "output_type": "stream",
          "text": [
            " 50%|████▉     | 496/1000 [1:06:47<52:02,  6.20s/it]"
          ]
        },
        {
          "name": "stdout",
          "output_type": "stream",
          "text": [
            "{'loss': 2.0863, 'learning_rate': 3.0240000000000002e-05, 'epoch': 24.8}\n"
          ]
        },
        {
          "name": "stderr",
          "output_type": "stream",
          "text": [
            " 50%|████▉     | 497/1000 [1:06:53<52:01,  6.21s/it]"
          ]
        },
        {
          "name": "stdout",
          "output_type": "stream",
          "text": [
            "{'loss': 1.4703, 'learning_rate': 3.0180000000000002e-05, 'epoch': 24.85}\n"
          ]
        },
        {
          "name": "stderr",
          "output_type": "stream",
          "text": [
            " 50%|████▉     | 498/1000 [1:06:59<51:46,  6.19s/it]"
          ]
        },
        {
          "name": "stdout",
          "output_type": "stream",
          "text": [
            "{'loss': 1.9939, 'learning_rate': 3.012e-05, 'epoch': 24.9}\n"
          ]
        },
        {
          "name": "stderr",
          "output_type": "stream",
          "text": [
            " 50%|████▉     | 499/1000 [1:07:05<51:32,  6.17s/it]"
          ]
        },
        {
          "name": "stdout",
          "output_type": "stream",
          "text": [
            "{'loss': 1.7593, 'learning_rate': 3.006e-05, 'epoch': 24.95}\n"
          ]
        },
        {
          "name": "stderr",
          "output_type": "stream",
          "text": [
            " 50%|█████     | 500/1000 [1:07:11<51:32,  6.18s/it]"
          ]
        },
        {
          "name": "stdout",
          "output_type": "stream",
          "text": [
            "{'loss': 1.1653, 'learning_rate': 3e-05, 'epoch': 25.0}\n"
          ]
        },
        {
          "name": "stderr",
          "output_type": "stream",
          "text": [
            "C:\\Users\\kuian\\.cache\\huggingface\\modules\\evaluate_modules\\metrics\\evaluate-metric--mean_iou\\08bc20f4f895f3caf75fb9e3fada1404bded3c3265243d05327cbb3b9326ffe9\\mean_iou.py:259: RuntimeWarning: invalid value encountered in divide\n",
            "  iou = total_area_intersect / total_area_union\n",
            "C:\\Users\\kuian\\.cache\\huggingface\\modules\\evaluate_modules\\metrics\\evaluate-metric--mean_iou\\08bc20f4f895f3caf75fb9e3fada1404bded3c3265243d05327cbb3b9326ffe9\\mean_iou.py:260: RuntimeWarning: invalid value encountered in divide\n",
            "  acc = total_area_intersect / total_area_label\n",
            "                                                    \n",
            " 50%|█████     | 500/1000 [1:07:53<51:32,  6.18s/it]"
          ]
        },
        {
          "name": "stdout",
          "output_type": "stream",
          "text": [
            "{'eval_loss': 1.9782218933105469, 'eval_mean_iou': 0.09620368579933633, 'eval_mean_accuracy': 0.1488995378884767, 'eval_overall_accuracy': 0.606404912106269, 'eval_per_category_iou': [0.5685982896903383, nan, nan, 0.5886825481865414, 0.0, 0.497634226005026, nan, nan, 0.13194662206891747, nan, 0.5553962646728025, nan, 0.0, nan, 0.4002497668315971, 0.0, nan, 0.0, 0.3010296540362438, 0.0, nan, nan, 0.0, nan, 0.0, nan, nan, 0.09695578612127093, nan, nan, nan, 0.0, 0.0, nan, nan, nan, nan, 0.09316613187476742, nan, nan, nan, 0.0, 0.0, 0.0, nan, nan, nan, 0.1651202983581207, nan, nan, nan, nan, nan, nan, nan, nan, nan, nan, 0.0760005578022591, nan, nan, nan, nan, 0.0, nan, 0.3553306677046106, nan, nan, nan, nan, 0.0, nan, nan, nan, nan, nan, nan, nan, nan, nan, nan, 0.018036618620958317, 0.0, nan, nan, nan, nan, 0.0, nan, 0.0, nan, nan, nan, nan, nan, nan, 0.0, nan, 0.0, nan, nan, nan, nan, nan, 0.0, nan, nan, nan, nan, nan, nan, nan, nan, nan, nan, nan, nan, nan, nan, nan, nan, nan, nan, nan, nan, 0.0, nan, nan, nan, nan, nan, nan, nan, nan, 0.0, nan, nan, 0.0, 0.0, nan, nan, nan, nan, nan, nan, 0.0, nan, nan, 0.0, 0.0], 'eval_per_category_accuracy': [0.7740731941171997, nan, nan, 0.7070974259203832, 0.0, 0.6525164644247216, nan, nan, 0.9014520352297072, nan, 0.6918629317914968, nan, 0.0, nan, 0.5885768747965968, 0.0, nan, 0.0, 0.3128049302405204, 0.0, nan, nan, 0.0, nan, 0.0, nan, nan, 0.153737658674189, nan, nan, nan, 0.0, 0.0, nan, nan, nan, nan, 0.35077191498361004, nan, nan, nan, 0.0, 0.0, 0.0, nan, nan, nan, 0.19888791497753916, nan, nan, nan, nan, nan, nan, nan, nan, nan, nan, 0.09092172945919644, nan, nan, nan, nan, 0.0, nan, 0.5101734955673534, nan, nan, nan, nan, 0.0, nan, nan, nan, nan, nan, nan, nan, nan, nan, nan, 0.023104945356554718, 0.0, nan, nan, nan, nan, 0.0, nan, 0.0, nan, nan, nan, nan, nan, nan, 0.0, nan, 0.0, nan, nan, nan, nan, nan, 0.0, nan, nan, nan, nan, nan, nan, nan, nan, nan, nan, nan, nan, nan, nan, nan, nan, nan, nan, nan, nan, 0.0, nan, nan, nan, nan, nan, nan, nan, nan, 0.0, nan, nan, 0.0, 0.0, nan, nan, nan, nan, nan, nan, 0.0, nan, nan, 0.0, 0.0], 'eval_runtime': 41.3861, 'eval_samples_per_second': 0.242, 'eval_steps_per_second': 0.121, 'epoch': 25.0}\n"
          ]
        },
        {
          "name": "stderr",
          "output_type": "stream",
          "text": [
            " 50%|█████     | 501/1000 [1:07:59<2:35:33, 18.70s/it]"
          ]
        },
        {
          "name": "stdout",
          "output_type": "stream",
          "text": [
            "{'loss': 1.5717, 'learning_rate': 2.994e-05, 'epoch': 25.05}\n"
          ]
        },
        {
          "name": "stderr",
          "output_type": "stream",
          "text": [
            " 50%|█████     | 502/1000 [1:08:05<2:03:46, 14.91s/it]"
          ]
        },
        {
          "name": "stdout",
          "output_type": "stream",
          "text": [
            "{'loss': 1.4052, 'learning_rate': 2.9880000000000002e-05, 'epoch': 25.1}\n"
          ]
        },
        {
          "name": "stderr",
          "output_type": "stream",
          "text": [
            " 50%|█████     | 503/1000 [1:08:12<1:42:15, 12.35s/it]"
          ]
        },
        {
          "name": "stdout",
          "output_type": "stream",
          "text": [
            "{'loss': 1.2753, 'learning_rate': 2.982e-05, 'epoch': 25.15}\n"
          ]
        },
        {
          "name": "stderr",
          "output_type": "stream",
          "text": [
            " 50%|█████     | 504/1000 [1:08:18<1:26:48, 10.50s/it]"
          ]
        },
        {
          "name": "stdout",
          "output_type": "stream",
          "text": [
            "{'loss': 1.8106, 'learning_rate': 2.976e-05, 'epoch': 25.2}\n"
          ]
        },
        {
          "name": "stderr",
          "output_type": "stream",
          "text": [
            " 50%|█████     | 505/1000 [1:08:24<1:15:34,  9.16s/it]"
          ]
        },
        {
          "name": "stdout",
          "output_type": "stream",
          "text": [
            "{'loss': 1.5605, 'learning_rate': 2.97e-05, 'epoch': 25.25}\n"
          ]
        },
        {
          "name": "stderr",
          "output_type": "stream",
          "text": [
            " 51%|█████     | 506/1000 [1:08:30<1:08:08,  8.28s/it]"
          ]
        },
        {
          "name": "stdout",
          "output_type": "stream",
          "text": [
            "{'loss': 2.1079, 'learning_rate': 2.964e-05, 'epoch': 25.3}\n"
          ]
        },
        {
          "name": "stderr",
          "output_type": "stream",
          "text": [
            " 51%|█████     | 507/1000 [1:08:36<1:02:55,  7.66s/it]"
          ]
        },
        {
          "name": "stdout",
          "output_type": "stream",
          "text": [
            "{'loss': 1.5033, 'learning_rate': 2.958e-05, 'epoch': 25.35}\n"
          ]
        },
        {
          "name": "stderr",
          "output_type": "stream",
          "text": [
            " 51%|█████     | 508/1000 [1:08:42<58:37,  7.15s/it]  "
          ]
        },
        {
          "name": "stdout",
          "output_type": "stream",
          "text": [
            "{'loss': 1.1476, 'learning_rate': 2.9520000000000002e-05, 'epoch': 25.4}\n"
          ]
        },
        {
          "name": "stderr",
          "output_type": "stream",
          "text": [
            " 51%|█████     | 509/1000 [1:08:48<55:59,  6.84s/it]"
          ]
        },
        {
          "name": "stdout",
          "output_type": "stream",
          "text": [
            "{'loss': 1.4646, 'learning_rate': 2.946e-05, 'epoch': 25.45}\n"
          ]
        },
        {
          "name": "stderr",
          "output_type": "stream",
          "text": [
            " 51%|█████     | 510/1000 [1:08:54<53:45,  6.58s/it]"
          ]
        },
        {
          "name": "stdout",
          "output_type": "stream",
          "text": [
            "{'loss': 1.6442, 'learning_rate': 2.94e-05, 'epoch': 25.5}\n"
          ]
        },
        {
          "name": "stderr",
          "output_type": "stream",
          "text": [
            " 51%|█████     | 511/1000 [1:09:01<52:28,  6.44s/it]"
          ]
        },
        {
          "name": "stdout",
          "output_type": "stream",
          "text": [
            "{'loss': 1.6361, 'learning_rate': 2.934e-05, 'epoch': 25.55}\n"
          ]
        },
        {
          "name": "stderr",
          "output_type": "stream",
          "text": [
            " 51%|█████     | 512/1000 [1:09:07<51:25,  6.32s/it]"
          ]
        },
        {
          "name": "stdout",
          "output_type": "stream",
          "text": [
            "{'loss': 1.5541, 'learning_rate': 2.928e-05, 'epoch': 25.6}\n"
          ]
        },
        {
          "name": "stderr",
          "output_type": "stream",
          "text": [
            " 51%|█████▏    | 513/1000 [1:09:12<49:56,  6.15s/it]"
          ]
        },
        {
          "name": "stdout",
          "output_type": "stream",
          "text": [
            "{'loss': 2.3282, 'learning_rate': 2.922e-05, 'epoch': 25.65}\n"
          ]
        },
        {
          "name": "stderr",
          "output_type": "stream",
          "text": [
            " 51%|█████▏    | 514/1000 [1:09:18<49:23,  6.10s/it]"
          ]
        },
        {
          "name": "stdout",
          "output_type": "stream",
          "text": [
            "{'loss': 1.4698, 'learning_rate': 2.916e-05, 'epoch': 25.7}\n"
          ]
        },
        {
          "name": "stderr",
          "output_type": "stream",
          "text": [
            " 52%|█████▏    | 515/1000 [1:09:25<49:36,  6.14s/it]"
          ]
        },
        {
          "name": "stdout",
          "output_type": "stream",
          "text": [
            "{'loss': 1.3067, 'learning_rate': 2.91e-05, 'epoch': 25.75}\n"
          ]
        },
        {
          "name": "stderr",
          "output_type": "stream",
          "text": [
            " 52%|█████▏    | 516/1000 [1:09:31<49:28,  6.13s/it]"
          ]
        },
        {
          "name": "stdout",
          "output_type": "stream",
          "text": [
            "{'loss': 1.4323, 'learning_rate': 2.904e-05, 'epoch': 25.8}\n"
          ]
        },
        {
          "name": "stderr",
          "output_type": "stream",
          "text": [
            " 52%|█████▏    | 517/1000 [1:09:37<48:52,  6.07s/it]"
          ]
        },
        {
          "name": "stdout",
          "output_type": "stream",
          "text": [
            "{'loss': 1.6659, 'learning_rate': 2.898e-05, 'epoch': 25.85}\n"
          ]
        },
        {
          "name": "stderr",
          "output_type": "stream",
          "text": [
            " 52%|█████▏    | 518/1000 [1:09:43<48:58,  6.10s/it]"
          ]
        },
        {
          "name": "stdout",
          "output_type": "stream",
          "text": [
            "{'loss': 1.3708, 'learning_rate': 2.892e-05, 'epoch': 25.9}\n"
          ]
        },
        {
          "name": "stderr",
          "output_type": "stream",
          "text": [
            " 52%|█████▏    | 519/1000 [1:09:49<49:14,  6.14s/it]"
          ]
        },
        {
          "name": "stdout",
          "output_type": "stream",
          "text": [
            "{'loss': 1.534, 'learning_rate': 2.8859999999999998e-05, 'epoch': 25.95}\n"
          ]
        },
        {
          "name": "stderr",
          "output_type": "stream",
          "text": [
            " 52%|█████▏    | 520/1000 [1:09:55<49:03,  6.13s/it]"
          ]
        },
        {
          "name": "stdout",
          "output_type": "stream",
          "text": [
            "{'loss': 1.3417, 'learning_rate': 2.88e-05, 'epoch': 26.0}\n"
          ]
        },
        {
          "name": "stderr",
          "output_type": "stream",
          "text": [
            "C:\\Users\\kuian\\.cache\\huggingface\\modules\\evaluate_modules\\metrics\\evaluate-metric--mean_iou\\08bc20f4f895f3caf75fb9e3fada1404bded3c3265243d05327cbb3b9326ffe9\\mean_iou.py:259: RuntimeWarning: invalid value encountered in divide\n",
            "  iou = total_area_intersect / total_area_union\n",
            "C:\\Users\\kuian\\.cache\\huggingface\\modules\\evaluate_modules\\metrics\\evaluate-metric--mean_iou\\08bc20f4f895f3caf75fb9e3fada1404bded3c3265243d05327cbb3b9326ffe9\\mean_iou.py:260: RuntimeWarning: invalid value encountered in divide\n",
            "  acc = total_area_intersect / total_area_label\n",
            "                                                    \n",
            " 52%|█████▏    | 520/1000 [1:10:37<49:03,  6.13s/it]"
          ]
        },
        {
          "name": "stdout",
          "output_type": "stream",
          "text": [
            "{'eval_loss': 1.980934500694275, 'eval_mean_iou': 0.09642598362882591, 'eval_mean_accuracy': 0.15426424503802066, 'eval_overall_accuracy': 0.5996650761436856, 'eval_per_category_iou': [0.565179670883242, nan, nan, 0.5792200799762854, 0.0, 0.5029578097240028, nan, nan, 0.1396168024393574, nan, 0.544381844151722, nan, 0.0, nan, 0.41328781285632127, 0.0, nan, 0.0, 0.2854383582314773, 0.0, nan, nan, 0.0, nan, 0.0, nan, nan, 0.11851624450455564, nan, nan, nan, 0.0, 0.0, nan, nan, nan, nan, 0.11547872717265133, nan, nan, nan, 0.0, 0.0, 0.0, nan, nan, nan, 0.1558667924373539, nan, nan, nan, nan, nan, nan, nan, nan, nan, nan, 0.08423139805892789, nan, nan, nan, nan, 0.0, nan, 0.346893023434057, nan, nan, nan, nan, 0.0, nan, nan, nan, nan, nan, nan, nan, nan, nan, nan, 0.005970781283082786, 0.0, nan, nan, nan, nan, 0.0, nan, 0.0, nan, nan, nan, nan, nan, nan, 0.0, nan, 0.0, nan, nan, nan, nan, nan, 0.0, nan, nan, nan, nan, nan, nan, nan, nan, nan, nan, nan, nan, nan, nan, nan, nan, nan, nan, nan, nan, 0.0, nan, nan, nan, nan, nan, nan, nan, nan, 0.0, nan, nan, 0.0, 0.0, nan, nan, nan, nan, nan, nan, 0.0, nan, nan, 0.0, 0.0], 'eval_per_category_accuracy': [0.7396275779040951, nan, nan, 0.7164359473211613, 0.0, 0.6939076016933554, nan, nan, 0.9128183765770055, nan, 0.6768852798689702, nan, 0.0, nan, 0.5780092054488819, 0.0, nan, 0.0, 0.3035821278781135, 0.0, nan, nan, 0.0, nan, 0.0, nan, nan, 0.20181088305206782, nan, nan, nan, 0.0, 0.0, nan, nan, nan, nan, 0.5601670720101513, nan, nan, nan, 0.0, 0.0, 0.0, nan, nan, nan, 0.20820094225923086, nan, nan, nan, nan, nan, nan, nan, nan, nan, nan, 0.1122109458269614, nan, nan, nan, nan, 0.0, nan, 0.4598775624253817, nan, nan, nan, nan, 0.0, nan, nan, nan, nan, nan, nan, nan, nan, nan, nan, 0.007036279255451869, 0.0, nan, nan, nan, nan, 0.0, nan, 0.0, nan, nan, nan, nan, nan, nan, 0.0, nan, 0.0, nan, nan, nan, nan, nan, 0.0, nan, nan, nan, nan, nan, nan, nan, nan, nan, nan, nan, nan, nan, nan, nan, nan, nan, nan, nan, nan, 0.0, nan, nan, nan, nan, nan, nan, nan, nan, 0.0, nan, nan, 0.0, 0.0, nan, nan, nan, nan, nan, nan, 0.0, nan, nan, 0.0, 0.0], 'eval_runtime': 42.2286, 'eval_samples_per_second': 0.237, 'eval_steps_per_second': 0.118, 'epoch': 26.0}\n"
          ]
        },
        {
          "name": "stderr",
          "output_type": "stream",
          "text": [
            " 52%|█████▏    | 521/1000 [1:10:44<2:30:46, 18.89s/it]"
          ]
        },
        {
          "name": "stdout",
          "output_type": "stream",
          "text": [
            "{'loss': 1.5593, 'learning_rate': 2.874e-05, 'epoch': 26.05}\n"
          ]
        },
        {
          "name": "stderr",
          "output_type": "stream",
          "text": [
            " 52%|█████▏    | 522/1000 [1:10:50<1:59:45, 15.03s/it]"
          ]
        },
        {
          "name": "stdout",
          "output_type": "stream",
          "text": [
            "{'loss': 1.4353, 'learning_rate': 2.868e-05, 'epoch': 26.1}\n"
          ]
        },
        {
          "name": "stderr",
          "output_type": "stream",
          "text": [
            " 52%|█████▏    | 523/1000 [1:10:56<1:38:24, 12.38s/it]"
          ]
        },
        {
          "name": "stdout",
          "output_type": "stream",
          "text": [
            "{'loss': 2.6068, 'learning_rate': 2.862e-05, 'epoch': 26.15}\n"
          ]
        },
        {
          "name": "stderr",
          "output_type": "stream",
          "text": [
            " 52%|█████▏    | 524/1000 [1:11:02<1:23:31, 10.53s/it]"
          ]
        },
        {
          "name": "stdout",
          "output_type": "stream",
          "text": [
            "{'loss': 1.5583, 'learning_rate': 2.856e-05, 'epoch': 26.2}\n"
          ]
        },
        {
          "name": "stderr",
          "output_type": "stream",
          "text": [
            " 52%|█████▎    | 525/1000 [1:11:08<1:12:33,  9.17s/it]"
          ]
        },
        {
          "name": "stdout",
          "output_type": "stream",
          "text": [
            "{'loss': 1.6843, 'learning_rate': 2.8499999999999998e-05, 'epoch': 26.25}\n"
          ]
        },
        {
          "name": "stderr",
          "output_type": "stream",
          "text": [
            " 53%|█████▎    | 526/1000 [1:11:14<1:05:19,  8.27s/it]"
          ]
        },
        {
          "name": "stdout",
          "output_type": "stream",
          "text": [
            "{'loss': 1.5293, 'learning_rate': 2.844e-05, 'epoch': 26.3}\n"
          ]
        },
        {
          "name": "stderr",
          "output_type": "stream",
          "text": [
            " 53%|█████▎    | 527/1000 [1:11:21<1:00:24,  7.66s/it]"
          ]
        },
        {
          "name": "stdout",
          "output_type": "stream",
          "text": [
            "{'loss': 1.4403, 'learning_rate': 2.838e-05, 'epoch': 26.35}\n"
          ]
        },
        {
          "name": "stderr",
          "output_type": "stream",
          "text": [
            " 53%|█████▎    | 528/1000 [1:11:27<57:15,  7.28s/it]  "
          ]
        },
        {
          "name": "stdout",
          "output_type": "stream",
          "text": [
            "{'loss': 1.5156, 'learning_rate': 2.832e-05, 'epoch': 26.4}\n"
          ]
        },
        {
          "name": "stderr",
          "output_type": "stream",
          "text": [
            " 53%|█████▎    | 529/1000 [1:11:33<54:49,  6.98s/it]"
          ]
        },
        {
          "name": "stdout",
          "output_type": "stream",
          "text": [
            "{'loss': 1.3471, 'learning_rate': 2.826e-05, 'epoch': 26.45}\n"
          ]
        },
        {
          "name": "stderr",
          "output_type": "stream",
          "text": [
            " 53%|█████▎    | 530/1000 [1:11:39<52:28,  6.70s/it]"
          ]
        },
        {
          "name": "stdout",
          "output_type": "stream",
          "text": [
            "{'loss': 1.9346, 'learning_rate': 2.8199999999999998e-05, 'epoch': 26.5}\n"
          ]
        },
        {
          "name": "stderr",
          "output_type": "stream",
          "text": [
            " 53%|█████▎    | 531/1000 [1:11:45<50:58,  6.52s/it]"
          ]
        },
        {
          "name": "stdout",
          "output_type": "stream",
          "text": [
            "{'loss': 1.1406, 'learning_rate': 2.8139999999999998e-05, 'epoch': 26.55}\n"
          ]
        },
        {
          "name": "stderr",
          "output_type": "stream",
          "text": [
            " 53%|█████▎    | 532/1000 [1:11:52<50:01,  6.41s/it]"
          ]
        },
        {
          "name": "stdout",
          "output_type": "stream",
          "text": [
            "{'loss': 1.3022, 'learning_rate': 2.8080000000000002e-05, 'epoch': 26.6}\n"
          ]
        },
        {
          "name": "stderr",
          "output_type": "stream",
          "text": [
            " 53%|█████▎    | 533/1000 [1:11:58<49:11,  6.32s/it]"
          ]
        },
        {
          "name": "stdout",
          "output_type": "stream",
          "text": [
            "{'loss': 1.32, 'learning_rate': 2.8020000000000003e-05, 'epoch': 26.65}\n"
          ]
        },
        {
          "name": "stderr",
          "output_type": "stream",
          "text": [
            " 53%|█████▎    | 534/1000 [1:12:04<48:44,  6.28s/it]"
          ]
        },
        {
          "name": "stdout",
          "output_type": "stream",
          "text": [
            "{'loss': 1.3326, 'learning_rate': 2.7960000000000003e-05, 'epoch': 26.7}\n"
          ]
        },
        {
          "name": "stderr",
          "output_type": "stream",
          "text": [
            " 54%|█████▎    | 535/1000 [1:12:10<48:22,  6.24s/it]"
          ]
        },
        {
          "name": "stdout",
          "output_type": "stream",
          "text": [
            "{'loss': 1.789, 'learning_rate': 2.79e-05, 'epoch': 26.75}\n"
          ]
        },
        {
          "name": "stderr",
          "output_type": "stream",
          "text": [
            " 54%|█████▎    | 536/1000 [1:12:16<48:44,  6.30s/it]"
          ]
        },
        {
          "name": "stdout",
          "output_type": "stream",
          "text": [
            "{'loss': 1.3288, 'learning_rate': 2.784e-05, 'epoch': 26.8}\n"
          ]
        },
        {
          "name": "stderr",
          "output_type": "stream",
          "text": [
            " 54%|█████▎    | 537/1000 [1:12:23<48:05,  6.23s/it]"
          ]
        },
        {
          "name": "stdout",
          "output_type": "stream",
          "text": [
            "{'loss': 1.9528, 'learning_rate': 2.778e-05, 'epoch': 26.85}\n"
          ]
        },
        {
          "name": "stderr",
          "output_type": "stream",
          "text": [
            " 54%|█████▍    | 538/1000 [1:12:29<47:48,  6.21s/it]"
          ]
        },
        {
          "name": "stdout",
          "output_type": "stream",
          "text": [
            "{'loss': 1.4781, 'learning_rate': 2.7720000000000002e-05, 'epoch': 26.9}\n"
          ]
        },
        {
          "name": "stderr",
          "output_type": "stream",
          "text": [
            " 54%|█████▍    | 539/1000 [1:12:35<48:23,  6.30s/it]"
          ]
        },
        {
          "name": "stdout",
          "output_type": "stream",
          "text": [
            "{'loss': 1.1747, 'learning_rate': 2.7660000000000003e-05, 'epoch': 26.95}\n"
          ]
        },
        {
          "name": "stderr",
          "output_type": "stream",
          "text": [
            " 54%|█████▍    | 540/1000 [1:12:41<48:15,  6.29s/it]"
          ]
        },
        {
          "name": "stdout",
          "output_type": "stream",
          "text": [
            "{'loss': 1.5419, 'learning_rate': 2.7600000000000003e-05, 'epoch': 27.0}\n"
          ]
        },
        {
          "name": "stderr",
          "output_type": "stream",
          "text": [
            "C:\\Users\\kuian\\.cache\\huggingface\\modules\\evaluate_modules\\metrics\\evaluate-metric--mean_iou\\08bc20f4f895f3caf75fb9e3fada1404bded3c3265243d05327cbb3b9326ffe9\\mean_iou.py:259: RuntimeWarning: invalid value encountered in divide\n",
            "  iou = total_area_intersect / total_area_union\n",
            "C:\\Users\\kuian\\.cache\\huggingface\\modules\\evaluate_modules\\metrics\\evaluate-metric--mean_iou\\08bc20f4f895f3caf75fb9e3fada1404bded3c3265243d05327cbb3b9326ffe9\\mean_iou.py:260: RuntimeWarning: invalid value encountered in divide\n",
            "  acc = total_area_intersect / total_area_label\n",
            "                                                    \n",
            " 54%|█████▍    | 540/1000 [1:13:25<48:15,  6.29s/it]"
          ]
        },
        {
          "name": "stdout",
          "output_type": "stream",
          "text": [
            "{'eval_loss': 2.0214781761169434, 'eval_mean_iou': 0.09566753223960846, 'eval_mean_accuracy': 0.1594619537321226, 'eval_overall_accuracy': 0.5798947252180955, 'eval_per_category_iou': [0.5407503135693323, nan, nan, 0.5819350003655772, 0.0, 0.5157401072147417, nan, nan, 0.16107639463664955, nan, 0.525832180111007, nan, 0.0, nan, 0.36266312027262904, 0.0, nan, 0.0, 0.2335195305410474, 0.0, nan, nan, 0.0, nan, 0.0, nan, nan, 0.16865079365079366, nan, nan, nan, 0.0, 0.0, nan, nan, nan, nan, 0.11868760352777902, nan, nan, nan, 0.0, 0.0, 0.0, nan, nan, nan, 0.16530205797742864, nan, nan, nan, nan, nan, nan, nan, nan, nan, nan, 0.09478734608433344, nan, nan, nan, nan, 0.0, nan, 0.3577568416330193, nan, nan, nan, nan, 0.0, nan, nan, nan, nan, nan, nan, nan, nan, nan, nan, 0.0, 0.0, nan, nan, nan, nan, 0.0, nan, 0.0, nan, nan, nan, nan, nan, nan, 0.0, nan, 0.0, nan, nan, nan, nan, nan, 0.0, nan, nan, nan, nan, nan, nan, nan, nan, nan, nan, nan, nan, nan, nan, nan, nan, nan, nan, nan, nan, 0.0, nan, nan, nan, nan, nan, nan, nan, nan, 0.0, nan, nan, 0.0, 0.0, nan, nan, nan, nan, nan, nan, 0.0, nan, nan, 0.0, 0.0], 'eval_per_category_accuracy': [0.6672138398504226, nan, nan, 0.7146774917689315, 0.0, 0.6970860100649598, nan, nan, 0.9265055939062128, nan, 0.6973290840741582, nan, 0.0, nan, 0.6085638569900972, 0.0, nan, 0.0, 0.24779594282290507, 0.0, nan, nan, 0.0, nan, 0.0, nan, nan, 0.41247891741544773, nan, nan, nan, 0.0, 0.0, nan, nan, nan, nan, 0.5606693454583906, nan, nan, nan, 0.0, 0.0, 0.0, nan, nan, nan, 0.20461268763010848, nan, nan, nan, nan, nan, nan, nan, nan, nan, nan, 0.135131377728347, nan, nan, nan, nan, 0.0, nan, 0.5064140015749231, nan, nan, nan, nan, 0.0, nan, nan, nan, nan, nan, nan, nan, nan, nan, nan, 0.0, 0.0, nan, nan, nan, nan, 0.0, nan, 0.0, nan, nan, nan, nan, nan, nan, 0.0, nan, 0.0, nan, nan, nan, nan, nan, 0.0, nan, nan, nan, nan, nan, nan, nan, nan, nan, nan, nan, nan, nan, nan, nan, nan, nan, nan, nan, nan, 0.0, nan, nan, nan, nan, nan, nan, nan, nan, 0.0, nan, nan, 0.0, 0.0, nan, nan, nan, nan, nan, nan, 0.0, nan, nan, 0.0, 0.0], 'eval_runtime': 43.3467, 'eval_samples_per_second': 0.231, 'eval_steps_per_second': 0.115, 'epoch': 27.0}\n"
          ]
        },
        {
          "name": "stderr",
          "output_type": "stream",
          "text": [
            " 54%|█████▍    | 541/1000 [1:13:31<2:28:14, 19.38s/it]"
          ]
        },
        {
          "name": "stdout",
          "output_type": "stream",
          "text": [
            "{'loss': 1.6574, 'learning_rate': 2.754e-05, 'epoch': 27.05}\n"
          ]
        },
        {
          "name": "stderr",
          "output_type": "stream",
          "text": [
            " 54%|█████▍    | 542/1000 [1:13:38<1:58:00, 15.46s/it]"
          ]
        },
        {
          "name": "stdout",
          "output_type": "stream",
          "text": [
            "{'loss': 1.8969, 'learning_rate': 2.748e-05, 'epoch': 27.1}\n"
          ]
        },
        {
          "name": "stderr",
          "output_type": "stream",
          "text": [
            " 54%|█████▍    | 543/1000 [1:13:44<1:36:14, 12.64s/it]"
          ]
        },
        {
          "name": "stdout",
          "output_type": "stream",
          "text": [
            "{'loss': 1.634, 'learning_rate': 2.7420000000000002e-05, 'epoch': 27.15}\n"
          ]
        },
        {
          "name": "stderr",
          "output_type": "stream",
          "text": [
            " 54%|█████▍    | 544/1000 [1:13:50<1:21:05, 10.67s/it]"
          ]
        },
        {
          "name": "stdout",
          "output_type": "stream",
          "text": [
            "{'loss': 1.3876, 'learning_rate': 2.7360000000000002e-05, 'epoch': 27.2}\n"
          ]
        },
        {
          "name": "stderr",
          "output_type": "stream",
          "text": [
            " 55%|█████▍    | 545/1000 [1:13:56<1:10:57,  9.36s/it]"
          ]
        },
        {
          "name": "stdout",
          "output_type": "stream",
          "text": [
            "{'loss': 1.2536, 'learning_rate': 2.7300000000000003e-05, 'epoch': 27.25}\n"
          ]
        },
        {
          "name": "stderr",
          "output_type": "stream",
          "text": [
            " 55%|█████▍    | 546/1000 [1:14:02<1:03:46,  8.43s/it]"
          ]
        },
        {
          "name": "stdout",
          "output_type": "stream",
          "text": [
            "{'loss': 1.4014, 'learning_rate': 2.724e-05, 'epoch': 27.3}\n"
          ]
        },
        {
          "name": "stderr",
          "output_type": "stream",
          "text": [
            " 55%|█████▍    | 547/1000 [1:14:08<58:04,  7.69s/it]  "
          ]
        },
        {
          "name": "stdout",
          "output_type": "stream",
          "text": [
            "{'loss': 1.4571, 'learning_rate': 2.718e-05, 'epoch': 27.35}\n"
          ]
        },
        {
          "name": "stderr",
          "output_type": "stream",
          "text": [
            " 55%|█████▍    | 548/1000 [1:14:14<54:14,  7.20s/it]"
          ]
        },
        {
          "name": "stdout",
          "output_type": "stream",
          "text": [
            "{'loss': 2.1789, 'learning_rate': 2.712e-05, 'epoch': 27.4}\n"
          ]
        },
        {
          "name": "stderr",
          "output_type": "stream",
          "text": [
            " 55%|█████▍    | 549/1000 [1:14:21<51:42,  6.88s/it]"
          ]
        },
        {
          "name": "stdout",
          "output_type": "stream",
          "text": [
            "{'loss': 1.0404, 'learning_rate': 2.7060000000000002e-05, 'epoch': 27.45}\n"
          ]
        },
        {
          "name": "stderr",
          "output_type": "stream",
          "text": [
            " 55%|█████▌    | 550/1000 [1:14:27<49:55,  6.66s/it]"
          ]
        },
        {
          "name": "stdout",
          "output_type": "stream",
          "text": [
            "{'loss': 1.5017, 'learning_rate': 2.7000000000000002e-05, 'epoch': 27.5}\n"
          ]
        },
        {
          "name": "stderr",
          "output_type": "stream",
          "text": [
            " 55%|█████▌    | 551/1000 [1:14:33<48:34,  6.49s/it]"
          ]
        },
        {
          "name": "stdout",
          "output_type": "stream",
          "text": [
            "{'loss': 1.192, 'learning_rate': 2.6940000000000003e-05, 'epoch': 27.55}\n"
          ]
        },
        {
          "name": "stderr",
          "output_type": "stream",
          "text": [
            " 55%|█████▌    | 552/1000 [1:14:39<47:36,  6.38s/it]"
          ]
        },
        {
          "name": "stdout",
          "output_type": "stream",
          "text": [
            "{'loss': 1.6448, 'learning_rate': 2.688e-05, 'epoch': 27.6}\n"
          ]
        },
        {
          "name": "stderr",
          "output_type": "stream",
          "text": [
            " 55%|█████▌    | 553/1000 [1:14:45<46:56,  6.30s/it]"
          ]
        },
        {
          "name": "stdout",
          "output_type": "stream",
          "text": [
            "{'loss': 1.4474, 'learning_rate': 2.682e-05, 'epoch': 27.65}\n"
          ]
        },
        {
          "name": "stderr",
          "output_type": "stream",
          "text": [
            " 55%|█████▌    | 554/1000 [1:14:51<46:30,  6.26s/it]"
          ]
        },
        {
          "name": "stdout",
          "output_type": "stream",
          "text": [
            "{'loss': 1.4297, 'learning_rate': 2.676e-05, 'epoch': 27.7}\n"
          ]
        },
        {
          "name": "stderr",
          "output_type": "stream",
          "text": [
            " 56%|█████▌    | 555/1000 [1:14:57<46:22,  6.25s/it]"
          ]
        },
        {
          "name": "stdout",
          "output_type": "stream",
          "text": [
            "{'loss': 1.3227, 'learning_rate': 2.6700000000000002e-05, 'epoch': 27.75}\n"
          ]
        },
        {
          "name": "stderr",
          "output_type": "stream",
          "text": [
            " 56%|█████▌    | 556/1000 [1:15:04<46:02,  6.22s/it]"
          ]
        },
        {
          "name": "stdout",
          "output_type": "stream",
          "text": [
            "{'loss': 1.3283, 'learning_rate': 2.6640000000000002e-05, 'epoch': 27.8}\n"
          ]
        },
        {
          "name": "stderr",
          "output_type": "stream",
          "text": [
            " 56%|█████▌    | 557/1000 [1:15:10<45:43,  6.19s/it]"
          ]
        },
        {
          "name": "stdout",
          "output_type": "stream",
          "text": [
            "{'loss': 1.379, 'learning_rate': 2.658e-05, 'epoch': 27.85}\n"
          ]
        },
        {
          "name": "stderr",
          "output_type": "stream",
          "text": [
            " 56%|█████▌    | 558/1000 [1:15:16<45:01,  6.11s/it]"
          ]
        },
        {
          "name": "stdout",
          "output_type": "stream",
          "text": [
            "{'loss': 1.5726, 'learning_rate': 2.652e-05, 'epoch': 27.9}\n"
          ]
        },
        {
          "name": "stderr",
          "output_type": "stream",
          "text": [
            " 56%|█████▌    | 559/1000 [1:15:22<44:55,  6.11s/it]"
          ]
        },
        {
          "name": "stdout",
          "output_type": "stream",
          "text": [
            "{'loss': 1.6463, 'learning_rate': 2.646e-05, 'epoch': 27.95}\n"
          ]
        },
        {
          "name": "stderr",
          "output_type": "stream",
          "text": [
            " 56%|█████▌    | 560/1000 [1:15:28<45:18,  6.18s/it]"
          ]
        },
        {
          "name": "stdout",
          "output_type": "stream",
          "text": [
            "{'loss': 1.2438, 'learning_rate': 2.64e-05, 'epoch': 28.0}\n"
          ]
        },
        {
          "name": "stderr",
          "output_type": "stream",
          "text": [
            "C:\\Users\\kuian\\.cache\\huggingface\\modules\\evaluate_modules\\metrics\\evaluate-metric--mean_iou\\08bc20f4f895f3caf75fb9e3fada1404bded3c3265243d05327cbb3b9326ffe9\\mean_iou.py:259: RuntimeWarning: invalid value encountered in divide\n",
            "  iou = total_area_intersect / total_area_union\n",
            "C:\\Users\\kuian\\.cache\\huggingface\\modules\\evaluate_modules\\metrics\\evaluate-metric--mean_iou\\08bc20f4f895f3caf75fb9e3fada1404bded3c3265243d05327cbb3b9326ffe9\\mean_iou.py:260: RuntimeWarning: invalid value encountered in divide\n",
            "  acc = total_area_intersect / total_area_label\n",
            "                                                    \n",
            " 56%|█████▌    | 560/1000 [1:16:11<45:18,  6.18s/it]"
          ]
        },
        {
          "name": "stdout",
          "output_type": "stream",
          "text": [
            "{'eval_loss': 1.9836254119873047, 'eval_mean_iou': 0.10123551933806545, 'eval_mean_accuracy': 0.16521443758093698, 'eval_overall_accuracy': 0.5927428477130424, 'eval_per_category_iou': [0.5326903060056857, nan, nan, 0.5926826345255012, 0.0, 0.5303058933552828, nan, nan, 0.16943369207705905, nan, 0.5003526512239771, nan, 0.0, nan, 0.39937169565550534, 0.0, nan, 0.0, 0.3242265684531369, 0.0, nan, nan, 0.0, nan, 0.0, nan, nan, 0.1881120716888618, nan, nan, nan, 0.0, 0.0, nan, nan, nan, nan, 0.1461811767044325, nan, nan, nan, 0.0, 0.0, 0.0, nan, nan, nan, 0.14913549198365295, nan, nan, nan, nan, nan, nan, nan, nan, nan, nan, 0.15038369093034026, nan, nan, nan, nan, 0.0, nan, 0.36607072381403427, nan, nan, nan, nan, 0.0, nan, nan, nan, nan, nan, nan, nan, nan, nan, nan, 0.00047417710514877304, 0.0, nan, nan, nan, nan, 0.0, nan, 0.0, nan, nan, nan, nan, nan, nan, 0.0, nan, 0.0, nan, nan, nan, nan, nan, 0.0, nan, nan, nan, nan, nan, nan, nan, nan, nan, nan, nan, nan, nan, nan, nan, nan, nan, nan, nan, nan, 0.0, nan, nan, nan, nan, nan, nan, nan, nan, 0.0, nan, nan, 0.0, 0.0, nan, nan, nan, nan, nan, nan, 0.0, nan, nan, 0.0, 0.0], 'eval_per_category_accuracy': [0.6579356858649954, nan, nan, 0.7771176294522598, 0.0, 0.7433300561608598, nan, nan, 0.9012735063080219, nan, 0.6229637596077, nan, 0.0, nan, 0.6058161699753591, 0.0, nan, 0.0, 0.34143627492938455, 0.0, nan, nan, 0.0, nan, 0.0, nan, nan, 0.41699626184816596, nan, nan, nan, 0.0, 0.0, nan, nan, nan, nan, 0.6221317542561066, nan, nan, nan, 0.0, 0.0, 0.0, nan, nan, nan, 0.19491618275446476, nan, nan, nan, nan, nan, nan, nan, nan, nan, nan, 0.25282913944112334, nan, nan, nan, nan, 0.0, nan, 0.4712322503619783, nan, nan, nan, nan, 0.0, nan, nan, nan, nan, nan, nan, nan, nan, nan, nan, 0.0005988322770597335, 0.0, nan, nan, nan, nan, 0.0, nan, 0.0, nan, nan, nan, nan, nan, nan, 0.0, nan, 0.0, nan, nan, nan, nan, nan, 0.0, nan, nan, nan, nan, nan, nan, nan, nan, nan, nan, nan, nan, nan, nan, nan, nan, nan, nan, nan, nan, 0.0, nan, nan, nan, nan, nan, nan, nan, nan, 0.0, nan, nan, 0.0, 0.0, nan, nan, nan, nan, nan, nan, 0.0, nan, nan, 0.0, 0.0], 'eval_runtime': 43.3282, 'eval_samples_per_second': 0.231, 'eval_steps_per_second': 0.115, 'epoch': 28.0}\n"
          ]
        },
        {
          "name": "stderr",
          "output_type": "stream",
          "text": [
            " 56%|█████▌    | 561/1000 [1:16:18<2:21:39, 19.36s/it]"
          ]
        },
        {
          "name": "stdout",
          "output_type": "stream",
          "text": [
            "{'loss': 1.5172, 'learning_rate': 2.6340000000000002e-05, 'epoch': 28.05}\n"
          ]
        },
        {
          "name": "stderr",
          "output_type": "stream",
          "text": [
            " 56%|█████▌    | 562/1000 [1:16:24<1:52:24, 15.40s/it]"
          ]
        },
        {
          "name": "stdout",
          "output_type": "stream",
          "text": [
            "{'loss': 1.3536, 'learning_rate': 2.628e-05, 'epoch': 28.1}\n"
          ]
        },
        {
          "name": "stderr",
          "output_type": "stream",
          "text": [
            " 56%|█████▋    | 563/1000 [1:16:31<1:32:22, 12.68s/it]"
          ]
        },
        {
          "name": "stdout",
          "output_type": "stream",
          "text": [
            "{'loss': 1.2924, 'learning_rate': 2.622e-05, 'epoch': 28.15}\n"
          ]
        },
        {
          "name": "stderr",
          "output_type": "stream",
          "text": [
            " 56%|█████▋    | 564/1000 [1:16:37<1:18:12, 10.76s/it]"
          ]
        },
        {
          "name": "stdout",
          "output_type": "stream",
          "text": [
            "{'loss': 1.4144, 'learning_rate': 2.616e-05, 'epoch': 28.2}\n"
          ]
        },
        {
          "name": "stderr",
          "output_type": "stream",
          "text": [
            " 56%|█████▋    | 565/1000 [1:16:43<1:08:09,  9.40s/it]"
          ]
        },
        {
          "name": "stdout",
          "output_type": "stream",
          "text": [
            "{'loss': 1.269, 'learning_rate': 2.61e-05, 'epoch': 28.25}\n"
          ]
        },
        {
          "name": "stderr",
          "output_type": "stream",
          "text": [
            " 57%|█████▋    | 566/1000 [1:16:49<1:00:23,  8.35s/it]"
          ]
        },
        {
          "name": "stdout",
          "output_type": "stream",
          "text": [
            "{'loss': 1.8854, 'learning_rate': 2.604e-05, 'epoch': 28.3}\n"
          ]
        },
        {
          "name": "stderr",
          "output_type": "stream",
          "text": [
            " 57%|█████▋    | 567/1000 [1:16:55<56:03,  7.77s/it]  "
          ]
        },
        {
          "name": "stdout",
          "output_type": "stream",
          "text": [
            "{'loss': 1.3263, 'learning_rate': 2.5980000000000002e-05, 'epoch': 28.35}\n"
          ]
        },
        {
          "name": "stderr",
          "output_type": "stream",
          "text": [
            " 57%|█████▋    | 568/1000 [1:17:02<52:11,  7.25s/it]"
          ]
        },
        {
          "name": "stdout",
          "output_type": "stream",
          "text": [
            "{'loss': 1.157, 'learning_rate': 2.592e-05, 'epoch': 28.4}\n"
          ]
        },
        {
          "name": "stderr",
          "output_type": "stream",
          "text": [
            " 57%|█████▋    | 569/1000 [1:17:08<49:46,  6.93s/it]"
          ]
        },
        {
          "name": "stdout",
          "output_type": "stream",
          "text": [
            "{'loss': 1.3574, 'learning_rate': 2.586e-05, 'epoch': 28.45}\n"
          ]
        },
        {
          "name": "stderr",
          "output_type": "stream",
          "text": [
            " 57%|█████▋    | 570/1000 [1:17:14<47:52,  6.68s/it]"
          ]
        },
        {
          "name": "stdout",
          "output_type": "stream",
          "text": [
            "{'loss': 1.5737, 'learning_rate': 2.58e-05, 'epoch': 28.5}\n"
          ]
        },
        {
          "name": "stderr",
          "output_type": "stream",
          "text": [
            " 57%|█████▋    | 571/1000 [1:17:20<46:16,  6.47s/it]"
          ]
        },
        {
          "name": "stdout",
          "output_type": "stream",
          "text": [
            "{'loss': 1.1764, 'learning_rate': 2.574e-05, 'epoch': 28.55}\n"
          ]
        },
        {
          "name": "stderr",
          "output_type": "stream",
          "text": [
            " 57%|█████▋    | 572/1000 [1:17:26<45:23,  6.36s/it]"
          ]
        },
        {
          "name": "stdout",
          "output_type": "stream",
          "text": [
            "{'loss': 1.6289, 'learning_rate': 2.568e-05, 'epoch': 28.6}\n"
          ]
        },
        {
          "name": "stderr",
          "output_type": "stream",
          "text": [
            " 57%|█████▋    | 573/1000 [1:17:32<44:56,  6.31s/it]"
          ]
        },
        {
          "name": "stdout",
          "output_type": "stream",
          "text": [
            "{'loss': 1.3645, 'learning_rate': 2.562e-05, 'epoch': 28.65}\n"
          ]
        },
        {
          "name": "stderr",
          "output_type": "stream",
          "text": [
            " 57%|█████▋    | 574/1000 [1:17:38<44:31,  6.27s/it]"
          ]
        },
        {
          "name": "stdout",
          "output_type": "stream",
          "text": [
            "{'loss': 1.7657, 'learning_rate': 2.556e-05, 'epoch': 28.7}\n"
          ]
        },
        {
          "name": "stderr",
          "output_type": "stream",
          "text": [
            " 57%|█████▊    | 575/1000 [1:17:44<44:07,  6.23s/it]"
          ]
        },
        {
          "name": "stdout",
          "output_type": "stream",
          "text": [
            "{'loss': 1.243, 'learning_rate': 2.55e-05, 'epoch': 28.75}\n"
          ]
        },
        {
          "name": "stderr",
          "output_type": "stream",
          "text": [
            " 58%|█████▊    | 576/1000 [1:17:50<43:44,  6.19s/it]"
          ]
        },
        {
          "name": "stdout",
          "output_type": "stream",
          "text": [
            "{'loss': 1.3072, 'learning_rate': 2.544e-05, 'epoch': 28.8}\n"
          ]
        },
        {
          "name": "stderr",
          "output_type": "stream",
          "text": [
            " 58%|█████▊    | 577/1000 [1:17:57<43:51,  6.22s/it]"
          ]
        },
        {
          "name": "stdout",
          "output_type": "stream",
          "text": [
            "{'loss': 1.331, 'learning_rate': 2.538e-05, 'epoch': 28.85}\n"
          ]
        },
        {
          "name": "stderr",
          "output_type": "stream",
          "text": [
            " 58%|█████▊    | 578/1000 [1:18:03<43:33,  6.19s/it]"
          ]
        },
        {
          "name": "stdout",
          "output_type": "stream",
          "text": [
            "{'loss': 2.3953, 'learning_rate': 2.5319999999999998e-05, 'epoch': 28.9}\n"
          ]
        },
        {
          "name": "stderr",
          "output_type": "stream",
          "text": [
            " 58%|█████▊    | 579/1000 [1:18:09<43:45,  6.24s/it]"
          ]
        },
        {
          "name": "stdout",
          "output_type": "stream",
          "text": [
            "{'loss': 1.2037, 'learning_rate': 2.526e-05, 'epoch': 28.95}\n"
          ]
        },
        {
          "name": "stderr",
          "output_type": "stream",
          "text": [
            " 58%|█████▊    | 580/1000 [1:18:15<42:52,  6.13s/it]"
          ]
        },
        {
          "name": "stdout",
          "output_type": "stream",
          "text": [
            "{'loss': 1.6088, 'learning_rate': 2.52e-05, 'epoch': 29.0}\n"
          ]
        },
        {
          "name": "stderr",
          "output_type": "stream",
          "text": [
            "C:\\Users\\kuian\\.cache\\huggingface\\modules\\evaluate_modules\\metrics\\evaluate-metric--mean_iou\\08bc20f4f895f3caf75fb9e3fada1404bded3c3265243d05327cbb3b9326ffe9\\mean_iou.py:259: RuntimeWarning: invalid value encountered in divide\n",
            "  iou = total_area_intersect / total_area_union\n",
            "C:\\Users\\kuian\\.cache\\huggingface\\modules\\evaluate_modules\\metrics\\evaluate-metric--mean_iou\\08bc20f4f895f3caf75fb9e3fada1404bded3c3265243d05327cbb3b9326ffe9\\mean_iou.py:260: RuntimeWarning: invalid value encountered in divide\n",
            "  acc = total_area_intersect / total_area_label\n",
            "                                                    \n",
            " 58%|█████▊    | 580/1000 [1:18:57<42:52,  6.13s/it]"
          ]
        },
        {
          "name": "stdout",
          "output_type": "stream",
          "text": [
            "{'eval_loss': 1.8542163372039795, 'eval_mean_iou': 0.09464408885341526, 'eval_mean_accuracy': 0.1418597873061476, 'eval_overall_accuracy': 0.6135343483067486, 'eval_per_category_iou': [0.5734971733698425, nan, nan, 0.6091346637177039, 0.0, 0.4903607408352024, nan, nan, 0.14689467293819955, nan, 0.53757345892552, nan, 0.0, nan, 0.352843822214335, 0.0, nan, 0.0, 0.21401795558355646, 0.0, nan, nan, 0.0, nan, 0.0, nan, nan, 0.09478391370260614, nan, nan, nan, 0.0, 0.0, nan, nan, nan, nan, 0.10137974390364954, nan, nan, nan, 0.0, 0.0, 0.0, nan, nan, nan, 0.1601513504473618, nan, nan, nan, nan, nan, nan, nan, nan, nan, nan, 0.11679518671683095, nan, nan, nan, nan, 0.0, nan, 0.373681439741065, nan, nan, nan, nan, 0.0, nan, nan, nan, nan, nan, nan, nan, nan, nan, nan, 0.014649432040736389, 0.0, nan, nan, nan, nan, 0.0, nan, 0.0, nan, nan, nan, nan, nan, nan, 0.0, nan, 0.0, nan, nan, nan, nan, nan, 0.0, nan, nan, nan, nan, nan, nan, nan, nan, nan, nan, nan, nan, nan, nan, nan, nan, nan, nan, nan, nan, 0.0, nan, nan, nan, nan, nan, nan, nan, nan, 0.0, nan, nan, 0.0, 0.0, nan, nan, nan, nan, nan, nan, 0.0, nan, nan, 0.0, 0.0], 'eval_per_category_accuracy': [0.8433879536129865, nan, nan, 0.7254190362167016, 0.0, 0.5869236329028117, nan, nan, 0.8567602951678172, nan, 0.6363035391856026, nan, 0.0, nan, 0.42522200009298433, 0.0, nan, 0.0, 0.21807326885217837, 0.0, nan, nan, 0.0, nan, 0.0, nan, nan, 0.12271790268969394, nan, nan, nan, 0.0, 0.0, nan, nan, nan, nan, 0.404991011948821, nan, nan, nan, 0.0, 0.0, 0.0, nan, nan, nan, 0.20984441766188233, nan, nan, nan, nan, nan, nan, nan, nan, nan, nan, 0.13925575791278558, nan, nan, nan, nan, 0.0, nan, 0.4868290700332766, nan, nan, nan, nan, 0.0, nan, nan, nan, nan, nan, nan, nan, nan, nan, nan, 0.018663605968361696, 0.0, nan, nan, nan, nan, 0.0, nan, 0.0, nan, nan, nan, nan, nan, nan, 0.0, nan, 0.0, nan, nan, nan, nan, nan, 0.0, nan, nan, nan, nan, nan, nan, nan, nan, nan, nan, nan, nan, nan, nan, nan, nan, nan, nan, nan, nan, 0.0, nan, nan, nan, nan, nan, nan, nan, nan, 0.0, nan, nan, 0.0, 0.0, nan, nan, nan, nan, nan, nan, 0.0, nan, nan, 0.0, 0.0], 'eval_runtime': 41.6727, 'eval_samples_per_second': 0.24, 'eval_steps_per_second': 0.12, 'epoch': 29.0}\n"
          ]
        },
        {
          "name": "stderr",
          "output_type": "stream",
          "text": [
            " 58%|█████▊    | 581/1000 [1:19:03<2:10:44, 18.72s/it]"
          ]
        },
        {
          "name": "stdout",
          "output_type": "stream",
          "text": [
            "{'loss': 1.37, 'learning_rate': 2.514e-05, 'epoch': 29.05}\n"
          ]
        },
        {
          "name": "stderr",
          "output_type": "stream",
          "text": [
            " 58%|█████▊    | 582/1000 [1:19:10<1:44:29, 15.00s/it]"
          ]
        },
        {
          "name": "stdout",
          "output_type": "stream",
          "text": [
            "{'loss': 1.7275, 'learning_rate': 2.508e-05, 'epoch': 29.1}\n"
          ]
        },
        {
          "name": "stderr",
          "output_type": "stream",
          "text": [
            " 58%|█████▊    | 583/1000 [1:19:16<1:26:03, 12.38s/it]"
          ]
        },
        {
          "name": "stdout",
          "output_type": "stream",
          "text": [
            "{'loss': 1.4763, 'learning_rate': 2.502e-05, 'epoch': 29.15}\n"
          ]
        },
        {
          "name": "stderr",
          "output_type": "stream",
          "text": [
            " 58%|█████▊    | 584/1000 [1:19:22<1:13:03, 10.54s/it]"
          ]
        },
        {
          "name": "stdout",
          "output_type": "stream",
          "text": [
            "{'loss': 1.2562, 'learning_rate': 2.4959999999999998e-05, 'epoch': 29.2}\n"
          ]
        },
        {
          "name": "stderr",
          "output_type": "stream",
          "text": [
            " 58%|█████▊    | 585/1000 [1:19:28<1:03:52,  9.23s/it]"
          ]
        },
        {
          "name": "stdout",
          "output_type": "stream",
          "text": [
            "{'loss': 1.1864, 'learning_rate': 2.49e-05, 'epoch': 29.25}\n"
          ]
        },
        {
          "name": "stderr",
          "output_type": "stream",
          "text": [
            " 59%|█████▊    | 586/1000 [1:19:35<57:51,  8.39s/it]  "
          ]
        },
        {
          "name": "stdout",
          "output_type": "stream",
          "text": [
            "{'loss': 1.5082, 'learning_rate': 2.484e-05, 'epoch': 29.3}\n"
          ]
        },
        {
          "name": "stderr",
          "output_type": "stream",
          "text": [
            " 59%|█████▊    | 587/1000 [1:19:41<53:15,  7.74s/it]"
          ]
        },
        {
          "name": "stdout",
          "output_type": "stream",
          "text": [
            "{'loss': 1.5025, 'learning_rate': 2.478e-05, 'epoch': 29.35}\n"
          ]
        },
        {
          "name": "stderr",
          "output_type": "stream",
          "text": [
            " 59%|█████▉    | 588/1000 [1:19:47<49:49,  7.26s/it]"
          ]
        },
        {
          "name": "stdout",
          "output_type": "stream",
          "text": [
            "{'loss': 1.5698, 'learning_rate': 2.472e-05, 'epoch': 29.4}\n"
          ]
        },
        {
          "name": "stderr",
          "output_type": "stream",
          "text": [
            " 59%|█████▉    | 589/1000 [1:19:53<47:07,  6.88s/it]"
          ]
        },
        {
          "name": "stdout",
          "output_type": "stream",
          "text": [
            "{'loss': 2.1134, 'learning_rate': 2.4659999999999998e-05, 'epoch': 29.45}\n"
          ]
        },
        {
          "name": "stderr",
          "output_type": "stream",
          "text": [
            " 59%|█████▉    | 590/1000 [1:19:59<45:23,  6.64s/it]"
          ]
        },
        {
          "name": "stdout",
          "output_type": "stream",
          "text": [
            "{'loss': 1.2661, 'learning_rate': 2.4599999999999998e-05, 'epoch': 29.5}\n"
          ]
        },
        {
          "name": "stderr",
          "output_type": "stream",
          "text": [
            " 59%|█████▉    | 591/1000 [1:20:05<44:28,  6.52s/it]"
          ]
        },
        {
          "name": "stdout",
          "output_type": "stream",
          "text": [
            "{'loss': 1.5144, 'learning_rate': 2.454e-05, 'epoch': 29.55}\n"
          ]
        },
        {
          "name": "stderr",
          "output_type": "stream",
          "text": [
            " 59%|█████▉    | 592/1000 [1:20:12<43:39,  6.42s/it]"
          ]
        },
        {
          "name": "stdout",
          "output_type": "stream",
          "text": [
            "{'loss': 1.2298, 'learning_rate': 2.448e-05, 'epoch': 29.6}\n"
          ]
        },
        {
          "name": "stderr",
          "output_type": "stream",
          "text": [
            " 59%|█████▉    | 593/1000 [1:20:18<43:06,  6.35s/it]"
          ]
        },
        {
          "name": "stdout",
          "output_type": "stream",
          "text": [
            "{'loss': 1.4255, 'learning_rate': 2.442e-05, 'epoch': 29.65}\n"
          ]
        },
        {
          "name": "stderr",
          "output_type": "stream",
          "text": [
            " 59%|█████▉    | 594/1000 [1:20:24<42:43,  6.31s/it]"
          ]
        },
        {
          "name": "stdout",
          "output_type": "stream",
          "text": [
            "{'loss': 1.2951, 'learning_rate': 2.4360000000000004e-05, 'epoch': 29.7}\n"
          ]
        },
        {
          "name": "stderr",
          "output_type": "stream",
          "text": [
            " 60%|█████▉    | 595/1000 [1:20:30<42:22,  6.28s/it]"
          ]
        },
        {
          "name": "stdout",
          "output_type": "stream",
          "text": [
            "{'loss': 1.3, 'learning_rate': 2.43e-05, 'epoch': 29.75}\n"
          ]
        },
        {
          "name": "stderr",
          "output_type": "stream",
          "text": [
            " 60%|█████▉    | 596/1000 [1:20:36<42:22,  6.29s/it]"
          ]
        },
        {
          "name": "stdout",
          "output_type": "stream",
          "text": [
            "{'loss': 1.0694, 'learning_rate': 2.4240000000000002e-05, 'epoch': 29.8}\n"
          ]
        },
        {
          "name": "stderr",
          "output_type": "stream",
          "text": [
            " 60%|█████▉    | 597/1000 [1:20:43<42:11,  6.28s/it]"
          ]
        },
        {
          "name": "stdout",
          "output_type": "stream",
          "text": [
            "{'loss': 1.5803, 'learning_rate': 2.4180000000000002e-05, 'epoch': 29.85}\n"
          ]
        },
        {
          "name": "stderr",
          "output_type": "stream",
          "text": [
            " 60%|█████▉    | 598/1000 [1:20:49<42:13,  6.30s/it]"
          ]
        },
        {
          "name": "stdout",
          "output_type": "stream",
          "text": [
            "{'loss': 1.5194, 'learning_rate': 2.4120000000000003e-05, 'epoch': 29.9}\n"
          ]
        },
        {
          "name": "stderr",
          "output_type": "stream",
          "text": [
            " 60%|█████▉    | 599/1000 [1:20:55<41:54,  6.27s/it]"
          ]
        },
        {
          "name": "stdout",
          "output_type": "stream",
          "text": [
            "{'loss': 1.408, 'learning_rate': 2.4060000000000003e-05, 'epoch': 29.95}\n"
          ]
        },
        {
          "name": "stderr",
          "output_type": "stream",
          "text": [
            " 60%|██████    | 600/1000 [1:21:01<41:11,  6.18s/it]"
          ]
        },
        {
          "name": "stdout",
          "output_type": "stream",
          "text": [
            "{'loss': 1.4773, 'learning_rate': 2.4e-05, 'epoch': 30.0}\n"
          ]
        },
        {
          "name": "stderr",
          "output_type": "stream",
          "text": [
            "C:\\Users\\kuian\\.cache\\huggingface\\modules\\evaluate_modules\\metrics\\evaluate-metric--mean_iou\\08bc20f4f895f3caf75fb9e3fada1404bded3c3265243d05327cbb3b9326ffe9\\mean_iou.py:259: RuntimeWarning: invalid value encountered in divide\n",
            "  iou = total_area_intersect / total_area_union\n",
            "C:\\Users\\kuian\\.cache\\huggingface\\modules\\evaluate_modules\\metrics\\evaluate-metric--mean_iou\\08bc20f4f895f3caf75fb9e3fada1404bded3c3265243d05327cbb3b9326ffe9\\mean_iou.py:260: RuntimeWarning: invalid value encountered in divide\n",
            "  acc = total_area_intersect / total_area_label\n",
            "                                                    \n",
            " 60%|██████    | 600/1000 [1:21:43<41:11,  6.18s/it]"
          ]
        },
        {
          "name": "stdout",
          "output_type": "stream",
          "text": [
            "{'eval_loss': 1.8250017166137695, 'eval_mean_iou': 0.09694332607999143, 'eval_mean_accuracy': 0.14654493981128106, 'eval_overall_accuracy': 0.6182591817650546, 'eval_per_category_iou': [0.5821249410658578, nan, nan, 0.6136676490424147, 0.0, 0.5274172176241649, nan, nan, 0.1533002662544018, nan, 0.5083386945118028, nan, 0.0, nan, 0.388850235675718, 0.0, nan, 0.0, 0.2524495948746938, 0.0, nan, nan, 0.0, nan, 0.0, nan, nan, 0.0996866613926505, nan, nan, nan, 0.0, 0.0, nan, nan, nan, nan, 0.08706255334715278, nan, nan, nan, 0.0, 0.0, 0.0, nan, nan, nan, 0.1580637038902178, nan, nan, nan, nan, nan, nan, nan, nan, nan, nan, 0.13516304936622006, nan, nan, nan, nan, 0.0, nan, 0.36605140935297886, nan, nan, nan, nan, 0.0, nan, nan, nan, nan, nan, nan, nan, nan, nan, nan, 0.005557066801383437, 0.0, nan, nan, nan, nan, 0.0, nan, 0.0, nan, nan, nan, nan, nan, nan, 0.0, nan, 0.0, nan, nan, nan, nan, nan, 0.0, nan, nan, nan, nan, nan, nan, nan, nan, nan, nan, nan, nan, nan, nan, nan, nan, nan, nan, nan, nan, 0.0, nan, nan, nan, nan, nan, nan, nan, nan, 0.0, nan, nan, 0.0, 0.0, nan, nan, nan, nan, nan, nan, 0.0, nan, nan, 0.0, 0.0], 'eval_per_category_accuracy': [0.7988828651841028, nan, nan, 0.7455552229871296, 0.0, 0.6825811549114938, nan, nan, 0.8497381575815282, nan, 0.6081045080956281, nan, 0.0, nan, 0.5534566925473058, 0.0, nan, 0.0, 0.28668792262261406, 0.0, nan, nan, 0.0, nan, 0.0, nan, nan, 0.1267716768421987, nan, nan, nan, 0.0, 0.0, nan, nan, nan, nan, 0.35862324204293117, nan, nan, nan, 0.0, 0.0, 0.0, nan, nan, nan, 0.2063383368028925, nan, nan, nan, nan, nan, nan, nan, nan, nan, nan, 0.1734464062282775, nan, nan, nan, nan, 0.0, nan, 0.46447532197017805, nan, nan, nan, nan, 0.0, nan, nan, nan, nan, nan, nan, nan, nan, nan, nan, 0.0071360846349618244, 0.0, nan, nan, nan, nan, 0.0, nan, 0.0, nan, nan, nan, nan, nan, nan, 0.0, nan, 0.0, nan, nan, nan, nan, nan, 0.0, nan, nan, nan, nan, nan, nan, nan, nan, nan, nan, nan, nan, nan, nan, nan, nan, nan, nan, nan, nan, 0.0, nan, nan, nan, nan, nan, nan, nan, nan, 0.0, nan, nan, 0.0, 0.0, nan, nan, nan, nan, nan, nan, 0.0, nan, nan, 0.0, 0.0], 'eval_runtime': 42.2379, 'eval_samples_per_second': 0.237, 'eval_steps_per_second': 0.118, 'epoch': 30.0}\n"
          ]
        },
        {
          "name": "stderr",
          "output_type": "stream",
          "text": [
            " 60%|██████    | 601/1000 [1:21:50<2:06:05, 18.96s/it]"
          ]
        },
        {
          "name": "stdout",
          "output_type": "stream",
          "text": [
            "{'loss': 1.5007, 'learning_rate': 2.394e-05, 'epoch': 30.05}\n"
          ]
        },
        {
          "name": "stderr",
          "output_type": "stream",
          "text": [
            " 60%|██████    | 602/1000 [1:21:56<1:40:38, 15.17s/it]"
          ]
        },
        {
          "name": "stdout",
          "output_type": "stream",
          "text": [
            "{'loss': 1.3134, 'learning_rate': 2.3880000000000002e-05, 'epoch': 30.1}\n"
          ]
        },
        {
          "name": "stderr",
          "output_type": "stream",
          "text": [
            " 60%|██████    | 603/1000 [1:22:03<1:22:30, 12.47s/it]"
          ]
        },
        {
          "name": "stdout",
          "output_type": "stream",
          "text": [
            "{'loss': 1.4582, 'learning_rate': 2.3820000000000002e-05, 'epoch': 30.15}\n"
          ]
        },
        {
          "name": "stderr",
          "output_type": "stream",
          "text": [
            " 60%|██████    | 604/1000 [1:22:09<1:10:17, 10.65s/it]"
          ]
        },
        {
          "name": "stdout",
          "output_type": "stream",
          "text": [
            "{'loss': 1.4937, 'learning_rate': 2.3760000000000003e-05, 'epoch': 30.2}\n"
          ]
        },
        {
          "name": "stderr",
          "output_type": "stream",
          "text": [
            " 60%|██████    | 605/1000 [1:22:15<1:01:18,  9.31s/it]"
          ]
        },
        {
          "name": "stdout",
          "output_type": "stream",
          "text": [
            "{'loss': 1.333, 'learning_rate': 2.37e-05, 'epoch': 30.25}\n"
          ]
        },
        {
          "name": "stderr",
          "output_type": "stream",
          "text": [
            " 61%|██████    | 606/1000 [1:22:23<58:47,  8.95s/it]  "
          ]
        },
        {
          "name": "stdout",
          "output_type": "stream",
          "text": [
            "{'loss': 1.9207, 'learning_rate': 2.364e-05, 'epoch': 30.3}\n"
          ]
        },
        {
          "name": "stderr",
          "output_type": "stream",
          "text": [
            " 61%|██████    | 607/1000 [1:22:32<59:08,  9.03s/it]"
          ]
        },
        {
          "name": "stdout",
          "output_type": "stream",
          "text": [
            "{'loss': 1.3376, 'learning_rate': 2.358e-05, 'epoch': 30.35}\n"
          ]
        },
        {
          "name": "stderr",
          "output_type": "stream",
          "text": [
            " 61%|██████    | 608/1000 [1:22:41<58:34,  8.97s/it]"
          ]
        },
        {
          "name": "stdout",
          "output_type": "stream",
          "text": [
            "{'loss': 1.7863, 'learning_rate': 2.3520000000000002e-05, 'epoch': 30.4}\n"
          ]
        },
        {
          "name": "stderr",
          "output_type": "stream",
          "text": [
            " 61%|██████    | 609/1000 [1:22:50<58:07,  8.92s/it]"
          ]
        },
        {
          "name": "stdout",
          "output_type": "stream",
          "text": [
            "{'loss': 1.3459, 'learning_rate': 2.3460000000000002e-05, 'epoch': 30.45}\n"
          ]
        },
        {
          "name": "stderr",
          "output_type": "stream",
          "text": [
            " 61%|██████    | 610/1000 [1:22:59<57:57,  8.92s/it]"
          ]
        },
        {
          "name": "stdout",
          "output_type": "stream",
          "text": [
            "{'loss': 1.411, 'learning_rate': 2.3400000000000003e-05, 'epoch': 30.5}\n"
          ]
        },
        {
          "name": "stderr",
          "output_type": "stream",
          "text": [
            " 61%|██████    | 611/1000 [1:23:08<57:41,  8.90s/it]"
          ]
        },
        {
          "name": "stdout",
          "output_type": "stream",
          "text": [
            "{'loss': 1.4849, 'learning_rate': 2.334e-05, 'epoch': 30.55}\n"
          ]
        },
        {
          "name": "stderr",
          "output_type": "stream",
          "text": [
            " 61%|██████    | 612/1000 [1:23:17<57:27,  8.89s/it]"
          ]
        },
        {
          "name": "stdout",
          "output_type": "stream",
          "text": [
            "{'loss': 1.0714, 'learning_rate': 2.328e-05, 'epoch': 30.6}\n"
          ]
        },
        {
          "name": "stderr",
          "output_type": "stream",
          "text": [
            " 61%|██████▏   | 613/1000 [1:23:25<56:49,  8.81s/it]"
          ]
        },
        {
          "name": "stdout",
          "output_type": "stream",
          "text": [
            "{'loss': 1.0958, 'learning_rate': 2.322e-05, 'epoch': 30.65}\n"
          ]
        },
        {
          "name": "stderr",
          "output_type": "stream",
          "text": [
            " 61%|██████▏   | 614/1000 [1:23:34<57:11,  8.89s/it]"
          ]
        },
        {
          "name": "stdout",
          "output_type": "stream",
          "text": [
            "{'loss': 1.7453, 'learning_rate': 2.3160000000000002e-05, 'epoch': 30.7}\n"
          ]
        },
        {
          "name": "stderr",
          "output_type": "stream",
          "text": [
            " 62%|██████▏   | 615/1000 [1:23:43<57:16,  8.93s/it]"
          ]
        },
        {
          "name": "stdout",
          "output_type": "stream",
          "text": [
            "{'loss': 1.2003, 'learning_rate': 2.3100000000000002e-05, 'epoch': 30.75}\n"
          ]
        },
        {
          "name": "stderr",
          "output_type": "stream",
          "text": [
            " 62%|██████▏   | 616/1000 [1:23:55<1:01:46,  9.65s/it]"
          ]
        },
        {
          "name": "stdout",
          "output_type": "stream",
          "text": [
            "{'loss': 0.9405, 'learning_rate': 2.304e-05, 'epoch': 30.8}\n"
          ]
        },
        {
          "name": "stderr",
          "output_type": "stream",
          "text": [
            " 62%|██████▏   | 617/1000 [1:24:16<1:24:30, 13.24s/it]"
          ]
        },
        {
          "name": "stdout",
          "output_type": "stream",
          "text": [
            "{'loss': 2.0301, 'learning_rate': 2.298e-05, 'epoch': 30.85}\n"
          ]
        },
        {
          "name": "stderr",
          "output_type": "stream",
          "text": [
            " 62%|██████▏   | 618/1000 [1:24:36<1:36:47, 15.20s/it]"
          ]
        },
        {
          "name": "stdout",
          "output_type": "stream",
          "text": [
            "{'loss': 1.6381, 'learning_rate': 2.292e-05, 'epoch': 30.9}\n"
          ]
        },
        {
          "name": "stderr",
          "output_type": "stream",
          "text": [
            " 62%|██████▏   | 619/1000 [1:24:58<1:48:52, 17.15s/it]"
          ]
        },
        {
          "name": "stdout",
          "output_type": "stream",
          "text": [
            "{'loss': 1.2462, 'learning_rate': 2.286e-05, 'epoch': 30.95}\n"
          ]
        },
        {
          "name": "stderr",
          "output_type": "stream",
          "text": [
            " 62%|██████▏   | 620/1000 [1:25:17<1:51:48, 17.65s/it]"
          ]
        },
        {
          "name": "stdout",
          "output_type": "stream",
          "text": [
            "{'loss': 1.3221, 'learning_rate': 2.2800000000000002e-05, 'epoch': 31.0}\n"
          ]
        },
        {
          "name": "stderr",
          "output_type": "stream",
          "text": [
            "C:\\Users\\kuian\\.cache\\huggingface\\modules\\evaluate_modules\\metrics\\evaluate-metric--mean_iou\\08bc20f4f895f3caf75fb9e3fada1404bded3c3265243d05327cbb3b9326ffe9\\mean_iou.py:259: RuntimeWarning: invalid value encountered in divide\n",
            "  iou = total_area_intersect / total_area_union\n",
            "C:\\Users\\kuian\\.cache\\huggingface\\modules\\evaluate_modules\\metrics\\evaluate-metric--mean_iou\\08bc20f4f895f3caf75fb9e3fada1404bded3c3265243d05327cbb3b9326ffe9\\mean_iou.py:260: RuntimeWarning: invalid value encountered in divide\n",
            "  acc = total_area_intersect / total_area_label\n",
            "                                                      \n",
            " 62%|██████▏   | 620/1000 [1:26:28<1:51:48, 17.65s/it]"
          ]
        },
        {
          "name": "stdout",
          "output_type": "stream",
          "text": [
            "{'eval_loss': 1.8127164840698242, 'eval_mean_iou': 0.10251135018344655, 'eval_mean_accuracy': 0.15431458667657758, 'eval_overall_accuracy': 0.6293168802368041, 'eval_per_category_iou': [0.59348544844703, nan, nan, 0.5999337882326976, 0.0, 0.556373946407384, nan, nan, 0.17329851161328547, nan, 0.5313845864050072, nan, 0.0, nan, 0.3991295057154011, 0.0, nan, 0.0, 0.22651193469926206, 0.0, nan, nan, 0.0, nan, 0.0, nan, nan, 0.12020246136541764, nan, nan, nan, 0.0, 0.0, nan, nan, nan, nan, 0.14071444678018868, nan, nan, nan, 0.0, 0.0, 0.0, nan, nan, nan, 0.1826028693047454, nan, nan, nan, nan, nan, nan, nan, nan, nan, nan, 0.19728835203210715, nan, nan, nan, nan, 0.0, nan, 0.3794859693626728, nan, nan, nan, nan, 0.0, nan, nan, nan, nan, nan, nan, nan, nan, nan, nan, 4.2186972662841714e-05, 0.0, nan, nan, nan, nan, 0.0, nan, 0.0, nan, nan, nan, nan, nan, nan, 0.0, nan, 0.0, nan, nan, nan, nan, nan, 0.0, nan, nan, nan, nan, nan, nan, nan, nan, nan, nan, nan, nan, nan, nan, nan, nan, nan, nan, nan, nan, 0.0, nan, nan, nan, nan, nan, nan, nan, nan, 0.0, nan, nan, 0.0, 0.0, nan, nan, nan, nan, nan, nan, 0.0, nan, nan, 0.0, 0.0], 'eval_per_category_accuracy': [0.8153619184367625, nan, nan, 0.7322433403172702, 0.0, 0.6483773506978582, nan, nan, 0.8529516781718638, nan, 0.6123471894702568, nan, 0.0, nan, 0.5418801431958715, 0.0, nan, 0.0, 0.23514936232132158, 0.0, nan, nan, 0.0, nan, 0.0, nan, nan, 0.1981614999950684, nan, nan, nan, 0.0, 0.0, nan, nan, nan, nan, 0.5113936766416411, nan, nan, nan, 0.0, 0.0, 0.0, nan, nan, nan, 0.2538073846828092, nan, nan, nan, nan, nan, nan, nan, nan, nan, nan, 0.28065248621344824, nan, nan, nan, nan, 0.0, nan, 0.49020753422917673, nan, nan, nan, nan, 0.0, nan, nan, nan, nan, nan, nan, nan, nan, nan, nan, 4.9902689754977795e-05, 0.0, nan, nan, nan, nan, 0.0, nan, 0.0, nan, nan, nan, nan, nan, nan, 0.0, nan, 0.0, nan, nan, nan, nan, nan, 0.0, nan, nan, nan, nan, nan, nan, nan, nan, nan, nan, nan, nan, nan, nan, nan, nan, nan, nan, nan, nan, 0.0, nan, nan, nan, nan, nan, nan, nan, nan, 0.0, nan, nan, 0.0, 0.0, nan, nan, nan, nan, nan, nan, 0.0, nan, nan, 0.0, 0.0], 'eval_runtime': 71.2819, 'eval_samples_per_second': 0.14, 'eval_steps_per_second': 0.07, 'epoch': 31.0}\n"
          ]
        },
        {
          "name": "stderr",
          "output_type": "stream",
          "text": [
            " 62%|██████▏   | 621/1000 [1:26:50<4:14:23, 40.27s/it]"
          ]
        },
        {
          "name": "stdout",
          "output_type": "stream",
          "text": [
            "{'loss': 1.3025, 'learning_rate': 2.274e-05, 'epoch': 31.05}\n"
          ]
        },
        {
          "name": "stderr",
          "output_type": "stream",
          "text": [
            " 62%|██████▏   | 622/1000 [1:27:13<3:42:02, 35.24s/it]"
          ]
        },
        {
          "name": "stdout",
          "output_type": "stream",
          "text": [
            "{'loss': 1.1855, 'learning_rate': 2.268e-05, 'epoch': 31.1}\n"
          ]
        },
        {
          "name": "stderr",
          "output_type": "stream",
          "text": [
            " 62%|██████▏   | 623/1000 [1:27:45<3:33:59, 34.06s/it]"
          ]
        },
        {
          "name": "stdout",
          "output_type": "stream",
          "text": [
            "{'loss': 1.6078, 'learning_rate': 2.262e-05, 'epoch': 31.15}\n"
          ]
        },
        {
          "name": "stderr",
          "output_type": "stream",
          "text": [
            " 62%|██████▏   | 624/1000 [1:28:16<3:28:52, 33.33s/it]"
          ]
        },
        {
          "name": "stdout",
          "output_type": "stream",
          "text": [
            "{'loss': 0.9044, 'learning_rate': 2.256e-05, 'epoch': 31.2}\n"
          ]
        },
        {
          "name": "stderr",
          "output_type": "stream",
          "text": [
            " 62%|██████▎   | 625/1000 [1:28:40<3:09:51, 30.38s/it]"
          ]
        },
        {
          "name": "stdout",
          "output_type": "stream",
          "text": [
            "{'loss': 1.6197, 'learning_rate': 2.25e-05, 'epoch': 31.25}\n"
          ]
        },
        {
          "name": "stderr",
          "output_type": "stream",
          "text": [
            " 63%|██████▎   | 626/1000 [1:29:01<2:52:41, 27.70s/it]"
          ]
        },
        {
          "name": "stdout",
          "output_type": "stream",
          "text": [
            "{'loss': 1.708, 'learning_rate': 2.2440000000000002e-05, 'epoch': 31.3}\n"
          ]
        },
        {
          "name": "stderr",
          "output_type": "stream",
          "text": [
            " 63%|██████▎   | 627/1000 [1:29:21<2:37:56, 25.41s/it]"
          ]
        },
        {
          "name": "stdout",
          "output_type": "stream",
          "text": [
            "{'loss': 1.3553, 'learning_rate': 2.238e-05, 'epoch': 31.35}\n"
          ]
        },
        {
          "name": "stderr",
          "output_type": "stream",
          "text": [
            " 63%|██████▎   | 628/1000 [1:29:40<2:26:11, 23.58s/it]"
          ]
        },
        {
          "name": "stdout",
          "output_type": "stream",
          "text": [
            "{'loss': 1.2697, 'learning_rate': 2.232e-05, 'epoch': 31.4}\n"
          ]
        },
        {
          "name": "stderr",
          "output_type": "stream",
          "text": [
            " 63%|██████▎   | 629/1000 [1:30:00<2:18:47, 22.45s/it]"
          ]
        },
        {
          "name": "stdout",
          "output_type": "stream",
          "text": [
            "{'loss': 1.333, 'learning_rate': 2.226e-05, 'epoch': 31.45}\n"
          ]
        },
        {
          "name": "stderr",
          "output_type": "stream",
          "text": [
            " 63%|██████▎   | 630/1000 [1:30:19<2:11:04, 21.26s/it]"
          ]
        },
        {
          "name": "stdout",
          "output_type": "stream",
          "text": [
            "{'loss': 1.2349, 'learning_rate': 2.22e-05, 'epoch': 31.5}\n"
          ]
        },
        {
          "name": "stderr",
          "output_type": "stream",
          "text": [
            " 63%|██████▎   | 631/1000 [1:30:38<2:06:49, 20.62s/it]"
          ]
        },
        {
          "name": "stdout",
          "output_type": "stream",
          "text": [
            "{'loss': 0.972, 'learning_rate': 2.214e-05, 'epoch': 31.55}\n"
          ]
        },
        {
          "name": "stderr",
          "output_type": "stream",
          "text": [
            " 63%|██████▎   | 632/1000 [1:30:58<2:05:56, 20.53s/it]"
          ]
        },
        {
          "name": "stdout",
          "output_type": "stream",
          "text": [
            "{'loss': 1.3673, 'learning_rate': 2.208e-05, 'epoch': 31.6}\n"
          ]
        },
        {
          "name": "stderr",
          "output_type": "stream",
          "text": [
            " 63%|██████▎   | 633/1000 [1:31:18<2:04:42, 20.39s/it]"
          ]
        },
        {
          "name": "stdout",
          "output_type": "stream",
          "text": [
            "{'loss': 1.2148, 'learning_rate': 2.202e-05, 'epoch': 31.65}\n"
          ]
        },
        {
          "name": "stderr",
          "output_type": "stream",
          "text": [
            " 63%|██████▎   | 634/1000 [1:31:39<2:05:32, 20.58s/it]"
          ]
        },
        {
          "name": "stdout",
          "output_type": "stream",
          "text": [
            "{'loss': 1.2625, 'learning_rate': 2.196e-05, 'epoch': 31.7}\n"
          ]
        },
        {
          "name": "stderr",
          "output_type": "stream",
          "text": [
            " 64%|██████▎   | 635/1000 [1:31:59<2:03:53, 20.37s/it]"
          ]
        },
        {
          "name": "stdout",
          "output_type": "stream",
          "text": [
            "{'loss': 2.1306, 'learning_rate': 2.19e-05, 'epoch': 31.75}\n"
          ]
        },
        {
          "name": "stderr",
          "output_type": "stream",
          "text": [
            " 64%|██████▎   | 636/1000 [1:32:18<2:01:30, 20.03s/it]"
          ]
        },
        {
          "name": "stdout",
          "output_type": "stream",
          "text": [
            "{'loss': 1.2729, 'learning_rate': 2.184e-05, 'epoch': 31.8}\n"
          ]
        },
        {
          "name": "stderr",
          "output_type": "stream",
          "text": [
            " 64%|██████▎   | 637/1000 [1:32:39<2:01:34, 20.09s/it]"
          ]
        },
        {
          "name": "stdout",
          "output_type": "stream",
          "text": [
            "{'loss': 1.2908, 'learning_rate': 2.178e-05, 'epoch': 31.85}\n"
          ]
        },
        {
          "name": "stderr",
          "output_type": "stream",
          "text": [
            " 64%|██████▍   | 638/1000 [1:32:58<1:59:28, 19.80s/it]"
          ]
        },
        {
          "name": "stdout",
          "output_type": "stream",
          "text": [
            "{'loss': 1.4307, 'learning_rate': 2.172e-05, 'epoch': 31.9}\n"
          ]
        },
        {
          "name": "stderr",
          "output_type": "stream",
          "text": [
            " 64%|██████▍   | 639/1000 [1:33:17<1:58:16, 19.66s/it]"
          ]
        },
        {
          "name": "stdout",
          "output_type": "stream",
          "text": [
            "{'loss': 1.337, 'learning_rate': 2.166e-05, 'epoch': 31.95}\n"
          ]
        },
        {
          "name": "stderr",
          "output_type": "stream",
          "text": [
            " 64%|██████▍   | 640/1000 [1:33:37<1:57:29, 19.58s/it]"
          ]
        },
        {
          "name": "stdout",
          "output_type": "stream",
          "text": [
            "{'loss': 1.5612, 'learning_rate': 2.16e-05, 'epoch': 32.0}\n"
          ]
        },
        {
          "name": "stderr",
          "output_type": "stream",
          "text": [
            "C:\\Users\\kuian\\.cache\\huggingface\\modules\\evaluate_modules\\metrics\\evaluate-metric--mean_iou\\08bc20f4f895f3caf75fb9e3fada1404bded3c3265243d05327cbb3b9326ffe9\\mean_iou.py:259: RuntimeWarning: invalid value encountered in divide\n",
            "  iou = total_area_intersect / total_area_union\n",
            "C:\\Users\\kuian\\.cache\\huggingface\\modules\\evaluate_modules\\metrics\\evaluate-metric--mean_iou\\08bc20f4f895f3caf75fb9e3fada1404bded3c3265243d05327cbb3b9326ffe9\\mean_iou.py:260: RuntimeWarning: invalid value encountered in divide\n",
            "  acc = total_area_intersect / total_area_label\n",
            "                                                      \n",
            " 64%|██████▍   | 640/1000 [1:34:50<1:57:29, 19.58s/it]"
          ]
        },
        {
          "name": "stdout",
          "output_type": "stream",
          "text": [
            "{'eval_loss': 1.8999946117401123, 'eval_mean_iou': 0.09882791650815995, 'eval_mean_accuracy': 0.15834772556732735, 'eval_overall_accuracy': 0.6021089697803391, 'eval_per_category_iou': [0.5580963312502657, nan, nan, 0.6180192210160047, 0.0, 0.5256526569762473, nan, nan, 0.15356260338595382, nan, 0.5093384338433843, nan, 0.0, nan, 0.389963442784821, 0.0, nan, 0.0, 0.25979168292112037, 0.0, nan, nan, 0.0, nan, 0.0, nan, nan, 0.10557386793472387, nan, nan, nan, 0.0, 0.0, nan, nan, nan, nan, 0.12150516749639655, nan, nan, nan, 0.0, 0.0, 0.0, nan, nan, nan, 0.1691357777198645, nan, nan, nan, nan, nan, nan, nan, nan, nan, nan, 0.13112075709429757, nan, nan, nan, nan, 0.0, nan, 0.3738968534723515, nan, nan, nan, nan, 0.0, nan, nan, nan, nan, nan, nan, nan, nan, nan, nan, 0.03745986443096682, 0.0, nan, nan, nan, nan, 0.0, nan, 0.0, nan, nan, nan, nan, nan, nan, 0.0, nan, 0.0, nan, nan, nan, nan, nan, 0.0, nan, nan, nan, nan, nan, nan, nan, nan, nan, nan, nan, nan, nan, nan, nan, nan, nan, nan, nan, nan, 0.0, nan, nan, nan, nan, nan, nan, nan, nan, 0.0, nan, nan, 0.0, 0.0, nan, nan, nan, nan, nan, nan, 0.0, nan, nan, 0.0, 0.0], 'eval_per_category_accuracy': [0.7397036437414249, nan, nan, 0.7203457048787788, 0.0, 0.7178938106333024, nan, nan, 0.8949654844084741, nan, 0.6699983226608519, nan, 0.0, nan, 0.5490073922544051, 0.0, nan, 0.0, 0.2850081314730805, 0.0, nan, nan, 0.0, nan, 0.0, nan, nan, 0.15416177616459703, nan, nan, nan, 0.0, 0.0, nan, nan, nan, nan, 0.6284233900814211, nan, nan, nan, 0.0, 0.0, 0.0, nan, nan, nan, 0.23110003286950806, nan, nan, nan, nan, nan, nan, nan, nan, nan, nan, 0.17554103526576764, nan, nan, nan, nan, 0.0, nan, 0.5101226915944826, nan, nan, nan, nan, 0.0, nan, nan, nan, nan, nan, nan, nan, nan, nan, nan, 0.05763760666699935, 0.0, nan, nan, nan, nan, 0.0, nan, 0.0, nan, nan, nan, nan, nan, nan, 0.0, nan, 0.0, nan, nan, nan, nan, nan, 0.0, nan, nan, nan, nan, nan, nan, nan, nan, nan, nan, nan, nan, nan, nan, nan, nan, nan, nan, nan, nan, 0.0, nan, nan, nan, nan, nan, nan, nan, nan, 0.0, nan, nan, 0.0, 0.0, nan, nan, nan, nan, nan, nan, 0.0, nan, nan, 0.0, 0.0], 'eval_runtime': 73.1627, 'eval_samples_per_second': 0.137, 'eval_steps_per_second': 0.068, 'epoch': 32.0}\n"
          ]
        },
        {
          "name": "stderr",
          "output_type": "stream",
          "text": [
            " 64%|██████▍   | 641/1000 [1:35:11<4:11:01, 41.95s/it]"
          ]
        },
        {
          "name": "stdout",
          "output_type": "stream",
          "text": [
            "{'loss': 2.298, 'learning_rate': 2.154e-05, 'epoch': 32.05}\n"
          ]
        },
        {
          "name": "stderr",
          "output_type": "stream",
          "text": [
            " 64%|██████▍   | 642/1000 [1:35:30<3:30:05, 35.21s/it]"
          ]
        },
        {
          "name": "stdout",
          "output_type": "stream",
          "text": [
            "{'loss': 1.0769, 'learning_rate': 2.148e-05, 'epoch': 32.1}\n"
          ]
        },
        {
          "name": "stderr",
          "output_type": "stream",
          "text": [
            " 64%|██████▍   | 643/1000 [1:35:50<3:01:20, 30.48s/it]"
          ]
        },
        {
          "name": "stdout",
          "output_type": "stream",
          "text": [
            "{'loss': 1.2959, 'learning_rate': 2.1419999999999998e-05, 'epoch': 32.15}\n"
          ]
        },
        {
          "name": "stderr",
          "output_type": "stream",
          "text": [
            " 64%|██████▍   | 644/1000 [1:36:09<2:41:09, 27.16s/it]"
          ]
        },
        {
          "name": "stdout",
          "output_type": "stream",
          "text": [
            "{'loss': 1.3822, 'learning_rate': 2.136e-05, 'epoch': 32.2}\n"
          ]
        },
        {
          "name": "stderr",
          "output_type": "stream",
          "text": [
            " 64%|██████▍   | 645/1000 [1:36:28<2:26:50, 24.82s/it]"
          ]
        },
        {
          "name": "stdout",
          "output_type": "stream",
          "text": [
            "{'loss': 1.2231, 'learning_rate': 2.13e-05, 'epoch': 32.25}\n"
          ]
        },
        {
          "name": "stderr",
          "output_type": "stream",
          "text": [
            " 65%|██████▍   | 646/1000 [1:36:48<2:18:05, 23.40s/it]"
          ]
        },
        {
          "name": "stdout",
          "output_type": "stream",
          "text": [
            "{'loss': 1.5782, 'learning_rate': 2.124e-05, 'epoch': 32.3}\n"
          ]
        },
        {
          "name": "stderr",
          "output_type": "stream",
          "text": [
            " 65%|██████▍   | 647/1000 [1:37:08<2:10:15, 22.14s/it]"
          ]
        },
        {
          "name": "stdout",
          "output_type": "stream",
          "text": [
            "{'loss': 1.4744, 'learning_rate': 2.118e-05, 'epoch': 32.35}\n"
          ]
        },
        {
          "name": "stderr",
          "output_type": "stream",
          "text": [
            " 65%|██████▍   | 648/1000 [1:37:28<2:05:55, 21.47s/it]"
          ]
        },
        {
          "name": "stdout",
          "output_type": "stream",
          "text": [
            "{'loss': 1.1557, 'learning_rate': 2.1119999999999998e-05, 'epoch': 32.4}\n"
          ]
        },
        {
          "name": "stderr",
          "output_type": "stream",
          "text": [
            " 65%|██████▍   | 649/1000 [1:37:47<2:01:49, 20.82s/it]"
          ]
        },
        {
          "name": "stdout",
          "output_type": "stream",
          "text": [
            "{'loss': 1.0467, 'learning_rate': 2.1059999999999998e-05, 'epoch': 32.45}\n"
          ]
        },
        {
          "name": "stderr",
          "output_type": "stream",
          "text": [
            " 65%|██████▌   | 650/1000 [1:38:08<2:02:33, 21.01s/it]"
          ]
        },
        {
          "name": "stdout",
          "output_type": "stream",
          "text": [
            "{'loss': 1.5011, 'learning_rate': 2.1e-05, 'epoch': 32.5}\n"
          ]
        },
        {
          "name": "stderr",
          "output_type": "stream",
          "text": [
            " 65%|██████▌   | 651/1000 [1:38:27<1:58:14, 20.33s/it]"
          ]
        },
        {
          "name": "stdout",
          "output_type": "stream",
          "text": [
            "{'loss': 1.2511, 'learning_rate': 2.094e-05, 'epoch': 32.55}\n"
          ]
        },
        {
          "name": "stderr",
          "output_type": "stream",
          "text": [
            " 65%|██████▌   | 652/1000 [1:38:46<1:56:16, 20.05s/it]"
          ]
        },
        {
          "name": "stdout",
          "output_type": "stream",
          "text": [
            "{'loss': 0.9811, 'learning_rate': 2.088e-05, 'epoch': 32.6}\n"
          ]
        },
        {
          "name": "stderr",
          "output_type": "stream",
          "text": [
            " 65%|██████▌   | 653/1000 [1:39:07<1:56:14, 20.10s/it]"
          ]
        },
        {
          "name": "stdout",
          "output_type": "stream",
          "text": [
            "{'loss': 1.4663, 'learning_rate': 2.082e-05, 'epoch': 32.65}\n"
          ]
        },
        {
          "name": "stderr",
          "output_type": "stream",
          "text": [
            " 65%|██████▌   | 654/1000 [1:39:27<1:57:02, 20.30s/it]"
          ]
        },
        {
          "name": "stdout",
          "output_type": "stream",
          "text": [
            "{'loss': 1.802, 'learning_rate': 2.0759999999999998e-05, 'epoch': 32.7}\n"
          ]
        },
        {
          "name": "stderr",
          "output_type": "stream",
          "text": [
            " 66%|██████▌   | 655/1000 [1:39:46<1:54:35, 19.93s/it]"
          ]
        },
        {
          "name": "stdout",
          "output_type": "stream",
          "text": [
            "{'loss': 1.4603, 'learning_rate': 2.07e-05, 'epoch': 32.75}\n"
          ]
        },
        {
          "name": "stderr",
          "output_type": "stream",
          "text": [
            " 66%|██████▌   | 656/1000 [1:40:06<1:54:10, 19.91s/it]"
          ]
        },
        {
          "name": "stdout",
          "output_type": "stream",
          "text": [
            "{'loss': 1.3712, 'learning_rate': 2.064e-05, 'epoch': 32.8}\n"
          ]
        },
        {
          "name": "stderr",
          "output_type": "stream",
          "text": [
            " 66%|██████▌   | 657/1000 [1:40:26<1:52:34, 19.69s/it]"
          ]
        },
        {
          "name": "stdout",
          "output_type": "stream",
          "text": [
            "{'loss': 1.2751, 'learning_rate': 2.0580000000000003e-05, 'epoch': 32.85}\n"
          ]
        },
        {
          "name": "stderr",
          "output_type": "stream",
          "text": [
            " 66%|██████▌   | 658/1000 [1:40:46<1:52:51, 19.80s/it]"
          ]
        },
        {
          "name": "stdout",
          "output_type": "stream",
          "text": [
            "{'loss': 1.4213, 'learning_rate': 2.0520000000000003e-05, 'epoch': 32.9}\n"
          ]
        },
        {
          "name": "stderr",
          "output_type": "stream",
          "text": [
            " 66%|██████▌   | 659/1000 [1:41:06<1:53:12, 19.92s/it]"
          ]
        },
        {
          "name": "stdout",
          "output_type": "stream",
          "text": [
            "{'loss': 1.3914, 'learning_rate': 2.046e-05, 'epoch': 32.95}\n"
          ]
        },
        {
          "name": "stderr",
          "output_type": "stream",
          "text": [
            " 66%|██████▌   | 660/1000 [1:41:24<1:50:36, 19.52s/it]"
          ]
        },
        {
          "name": "stdout",
          "output_type": "stream",
          "text": [
            "{'loss': 1.1944, 'learning_rate': 2.04e-05, 'epoch': 33.0}\n"
          ]
        },
        {
          "name": "stderr",
          "output_type": "stream",
          "text": [
            "C:\\Users\\kuian\\.cache\\huggingface\\modules\\evaluate_modules\\metrics\\evaluate-metric--mean_iou\\08bc20f4f895f3caf75fb9e3fada1404bded3c3265243d05327cbb3b9326ffe9\\mean_iou.py:259: RuntimeWarning: invalid value encountered in divide\n",
            "  iou = total_area_intersect / total_area_union\n",
            "C:\\Users\\kuian\\.cache\\huggingface\\modules\\evaluate_modules\\metrics\\evaluate-metric--mean_iou\\08bc20f4f895f3caf75fb9e3fada1404bded3c3265243d05327cbb3b9326ffe9\\mean_iou.py:260: RuntimeWarning: invalid value encountered in divide\n",
            "  acc = total_area_intersect / total_area_label\n",
            "                                                      \n",
            " 66%|██████▌   | 660/1000 [1:42:05<1:50:36, 19.52s/it]"
          ]
        },
        {
          "name": "stdout",
          "output_type": "stream",
          "text": [
            "{'eval_loss': 1.885804533958435, 'eval_mean_iou': 0.09518618371615895, 'eval_mean_accuracy': 0.15406102258556637, 'eval_overall_accuracy': 0.5931622263130707, 'eval_per_category_iou': [0.5448226902797801, nan, nan, 0.6086014350446501, 0.0, 0.5456479365173598, nan, nan, 0.14479904296988055, nan, 0.5068936170212766, nan, 0.0, nan, 0.37807706244715544, 0.0, nan, 0.0, 0.14654303148746842, 0.0, nan, nan, 0.0, nan, 0.0, nan, nan, 0.11573084610259826, nan, nan, nan, 0.0, 0.0, nan, nan, nan, nan, 0.1336613039589281, nan, nan, nan, 0.0, 0.0, 0.0, nan, nan, nan, 0.1288950119534827, nan, nan, nan, nan, nan, nan, nan, nan, nan, nan, 0.18415683161439567, nan, nan, nan, nan, 0.0, nan, 0.3681614349775785, nan, nan, nan, nan, 0.0, nan, nan, nan, nan, nan, nan, nan, nan, nan, nan, 0.0014571042718032553, 0.0, nan, nan, nan, nan, 0.0, nan, 0.0, nan, nan, nan, nan, nan, nan, 0.0, nan, 0.0, nan, nan, nan, nan, nan, 0.0, nan, nan, nan, nan, nan, nan, nan, nan, nan, nan, nan, nan, nan, nan, nan, nan, nan, nan, nan, nan, 0.0, nan, nan, nan, nan, nan, nan, nan, nan, 0.0, nan, nan, 0.0, 0.0, nan, nan, nan, nan, nan, nan, 0.0, nan, nan, 0.0, 0.0], 'eval_per_category_accuracy': [0.7019655975816699, nan, nan, 0.7733687518706974, 0.0, 0.7427105358850385, nan, nan, 0.8931801951916211, nan, 0.6170437390849621, nan, 0.0, nan, 0.5821005160630434, 0.0, nan, 0.0, 0.15082812633741333, 0.0, nan, nan, 0.0, nan, 0.0, nan, nan, 0.2141694694586091, nan, nan, nan, 0.0, 0.0, nan, nan, nan, nan, 0.5767420958020514, nan, nan, nan, 0.0, 0.0, 0.0, nan, nan, nan, 0.17426317519447793, nan, nan, nan, nan, nan, nan, nan, nan, nan, nan, 0.2752120116780203, nan, nan, nan, nan, 0.0, nan, 0.4588106789950974, nan, nan, nan, nan, 0.0, nan, nan, nan, nan, nan, nan, nan, nan, nan, nan, 0.0020460102799540894, 0.0, nan, nan, nan, nan, 0.0, nan, 0.0, nan, nan, nan, nan, nan, nan, 0.0, nan, 0.0, nan, nan, nan, nan, nan, 0.0, nan, nan, nan, nan, nan, nan, nan, nan, nan, nan, nan, nan, nan, nan, nan, nan, nan, nan, nan, nan, 0.0, nan, nan, nan, nan, nan, nan, nan, nan, 0.0, nan, nan, 0.0, 0.0, nan, nan, nan, nan, nan, nan, 0.0, nan, nan, 0.0, 0.0], 'eval_runtime': 40.4454, 'eval_samples_per_second': 0.247, 'eval_steps_per_second': 0.124, 'epoch': 33.0}\n"
          ]
        },
        {
          "name": "stderr",
          "output_type": "stream",
          "text": [
            " 66%|██████▌   | 661/1000 [1:42:14<2:41:23, 28.57s/it]"
          ]
        },
        {
          "name": "stdout",
          "output_type": "stream",
          "text": [
            "{'loss': 1.1119, 'learning_rate': 2.0340000000000002e-05, 'epoch': 33.05}\n"
          ]
        },
        {
          "name": "stderr",
          "output_type": "stream",
          "text": [
            " 66%|██████▌   | 662/1000 [1:42:23<2:08:03, 22.73s/it]"
          ]
        },
        {
          "name": "stdout",
          "output_type": "stream",
          "text": [
            "{'loss': 0.9367, 'learning_rate': 2.0280000000000002e-05, 'epoch': 33.1}\n"
          ]
        },
        {
          "name": "stderr",
          "output_type": "stream",
          "text": [
            " 66%|██████▋   | 663/1000 [1:42:32<1:44:31, 18.61s/it]"
          ]
        },
        {
          "name": "stdout",
          "output_type": "stream",
          "text": [
            "{'loss': 1.1101, 'learning_rate': 2.0220000000000003e-05, 'epoch': 33.15}\n"
          ]
        },
        {
          "name": "stderr",
          "output_type": "stream",
          "text": [
            " 66%|██████▋   | 664/1000 [1:42:41<1:28:10, 15.75s/it]"
          ]
        },
        {
          "name": "stdout",
          "output_type": "stream",
          "text": [
            "{'loss': 1.3501, 'learning_rate': 2.016e-05, 'epoch': 33.2}\n"
          ]
        },
        {
          "name": "stderr",
          "output_type": "stream",
          "text": [
            " 66%|██████▋   | 665/1000 [1:42:50<1:16:23, 13.68s/it]"
          ]
        },
        {
          "name": "stdout",
          "output_type": "stream",
          "text": [
            "{'loss': 1.1949, 'learning_rate': 2.01e-05, 'epoch': 33.25}\n"
          ]
        },
        {
          "name": "stderr",
          "output_type": "stream",
          "text": [
            " 67%|██████▋   | 666/1000 [1:42:56<1:02:41, 11.26s/it]"
          ]
        },
        {
          "name": "stdout",
          "output_type": "stream",
          "text": [
            "{'loss': 1.3907, 'learning_rate': 2.004e-05, 'epoch': 33.3}\n"
          ]
        },
        {
          "name": "stderr",
          "output_type": "stream",
          "text": [
            " 67%|██████▋   | 667/1000 [1:43:01<52:24,  9.44s/it]  "
          ]
        },
        {
          "name": "stdout",
          "output_type": "stream",
          "text": [
            "{'loss': 1.5311, 'learning_rate': 1.9980000000000002e-05, 'epoch': 33.35}\n"
          ]
        },
        {
          "name": "stderr",
          "output_type": "stream",
          "text": [
            " 67%|██████▋   | 668/1000 [1:43:06<45:09,  8.16s/it]"
          ]
        },
        {
          "name": "stdout",
          "output_type": "stream",
          "text": [
            "{'loss': 1.369, 'learning_rate': 1.9920000000000002e-05, 'epoch': 33.4}\n"
          ]
        },
        {
          "name": "stderr",
          "output_type": "stream",
          "text": [
            " 67%|██████▋   | 669/1000 [1:43:11<40:07,  7.27s/it]"
          ]
        },
        {
          "name": "stdout",
          "output_type": "stream",
          "text": [
            "{'loss': 1.1438, 'learning_rate': 1.9860000000000003e-05, 'epoch': 33.45}\n"
          ]
        },
        {
          "name": "stderr",
          "output_type": "stream",
          "text": [
            " 67%|██████▋   | 670/1000 [1:43:16<36:18,  6.60s/it]"
          ]
        },
        {
          "name": "stdout",
          "output_type": "stream",
          "text": [
            "{'loss': 2.0403, 'learning_rate': 1.98e-05, 'epoch': 33.5}\n"
          ]
        },
        {
          "name": "stderr",
          "output_type": "stream",
          "text": [
            " 67%|██████▋   | 671/1000 [1:43:21<33:47,  6.16s/it]"
          ]
        },
        {
          "name": "stdout",
          "output_type": "stream",
          "text": [
            "{'loss': 1.6398, 'learning_rate': 1.974e-05, 'epoch': 33.55}\n"
          ]
        },
        {
          "name": "stderr",
          "output_type": "stream",
          "text": [
            " 67%|██████▋   | 672/1000 [1:43:27<31:59,  5.85s/it]"
          ]
        },
        {
          "name": "stdout",
          "output_type": "stream",
          "text": [
            "{'loss': 1.5957, 'learning_rate': 1.968e-05, 'epoch': 33.6}\n"
          ]
        },
        {
          "name": "stderr",
          "output_type": "stream",
          "text": [
            " 67%|██████▋   | 673/1000 [1:43:32<30:40,  5.63s/it]"
          ]
        },
        {
          "name": "stdout",
          "output_type": "stream",
          "text": [
            "{'loss': 1.2346, 'learning_rate': 1.9620000000000002e-05, 'epoch': 33.65}\n"
          ]
        },
        {
          "name": "stderr",
          "output_type": "stream",
          "text": [
            " 67%|██████▋   | 674/1000 [1:43:37<29:52,  5.50s/it]"
          ]
        },
        {
          "name": "stdout",
          "output_type": "stream",
          "text": [
            "{'loss': 0.9171, 'learning_rate': 1.9560000000000002e-05, 'epoch': 33.7}\n"
          ]
        },
        {
          "name": "stderr",
          "output_type": "stream",
          "text": [
            " 68%|██████▊   | 675/1000 [1:43:42<29:30,  5.45s/it]"
          ]
        },
        {
          "name": "stdout",
          "output_type": "stream",
          "text": [
            "{'loss': 1.2922, 'learning_rate': 1.95e-05, 'epoch': 33.75}\n"
          ]
        },
        {
          "name": "stderr",
          "output_type": "stream",
          "text": [
            " 68%|██████▊   | 676/1000 [1:43:47<28:48,  5.33s/it]"
          ]
        },
        {
          "name": "stdout",
          "output_type": "stream",
          "text": [
            "{'loss': 1.1672, 'learning_rate': 1.944e-05, 'epoch': 33.8}\n"
          ]
        },
        {
          "name": "stderr",
          "output_type": "stream",
          "text": [
            " 68%|██████▊   | 677/1000 [1:43:52<28:22,  5.27s/it]"
          ]
        },
        {
          "name": "stdout",
          "output_type": "stream",
          "text": [
            "{'loss': 1.3007, 'learning_rate': 1.938e-05, 'epoch': 33.85}\n"
          ]
        },
        {
          "name": "stderr",
          "output_type": "stream",
          "text": [
            " 68%|██████▊   | 678/1000 [1:43:57<27:51,  5.19s/it]"
          ]
        },
        {
          "name": "stdout",
          "output_type": "stream",
          "text": [
            "{'loss': 1.1614, 'learning_rate': 1.932e-05, 'epoch': 33.9}\n"
          ]
        },
        {
          "name": "stderr",
          "output_type": "stream",
          "text": [
            " 68%|██████▊   | 679/1000 [1:44:03<27:42,  5.18s/it]"
          ]
        },
        {
          "name": "stdout",
          "output_type": "stream",
          "text": [
            "{'loss': 1.0555, 'learning_rate': 1.9260000000000002e-05, 'epoch': 33.95}\n"
          ]
        },
        {
          "name": "stderr",
          "output_type": "stream",
          "text": [
            " 68%|██████▊   | 680/1000 [1:44:08<27:36,  5.18s/it]"
          ]
        },
        {
          "name": "stdout",
          "output_type": "stream",
          "text": [
            "{'loss': 1.6196, 'learning_rate': 1.9200000000000003e-05, 'epoch': 34.0}\n"
          ]
        },
        {
          "name": "stderr",
          "output_type": "stream",
          "text": [
            "C:\\Users\\kuian\\.cache\\huggingface\\modules\\evaluate_modules\\metrics\\evaluate-metric--mean_iou\\08bc20f4f895f3caf75fb9e3fada1404bded3c3265243d05327cbb3b9326ffe9\\mean_iou.py:259: RuntimeWarning: invalid value encountered in divide\n",
            "  iou = total_area_intersect / total_area_union\n",
            "C:\\Users\\kuian\\.cache\\huggingface\\modules\\evaluate_modules\\metrics\\evaluate-metric--mean_iou\\08bc20f4f895f3caf75fb9e3fada1404bded3c3265243d05327cbb3b9326ffe9\\mean_iou.py:260: RuntimeWarning: invalid value encountered in divide\n",
            "  acc = total_area_intersect / total_area_label\n",
            "                                                    \n",
            " 68%|██████▊   | 680/1000 [1:44:37<27:36,  5.18s/it]"
          ]
        },
        {
          "name": "stdout",
          "output_type": "stream",
          "text": [
            "{'eval_loss': 1.879031777381897, 'eval_mean_iou': 0.10134526301196478, 'eval_mean_accuracy': 0.15883502258525445, 'eval_overall_accuracy': 0.6025883186929946, 'eval_per_category_iou': [0.5549321519784338, nan, nan, 0.5863147592778493, 0.0, 0.5630119666324013, nan, nan, 0.16414549589218233, nan, 0.555813131114691, nan, 0.0, nan, 0.40135227369678356, 0.0, nan, 0.0, 0.23955443246867103, 0.0, nan, nan, 0.0, nan, 0.0, nan, nan, 0.14585843606142057, nan, nan, nan, 0.0, 0.0, nan, nan, nan, nan, 0.12229901822662004, nan, nan, nan, 0.0, 0.0, 0.0, nan, nan, nan, 0.1705021969864168, nan, nan, nan, nan, nan, nan, nan, nan, nan, nan, 0.17504564278398718, nan, nan, nan, nan, 0.0, nan, 0.3734147020236155, nan, nan, nan, nan, 0.0, nan, nan, nan, nan, nan, nan, nan, nan, nan, nan, 0.001566313335518887, 0.0, nan, nan, nan, nan, 0.0, nan, 0.0, nan, nan, nan, nan, nan, nan, 0.0, nan, 0.0, nan, nan, nan, nan, nan, 0.0, nan, nan, nan, nan, nan, nan, nan, nan, nan, nan, nan, nan, nan, nan, nan, nan, nan, nan, nan, nan, 0.0, nan, nan, nan, nan, nan, nan, nan, nan, 0.0, nan, nan, 0.0, 0.0, nan, nan, nan, nan, nan, nan, 0.0, nan, nan, 0.0, 0.0], 'eval_per_category_accuracy': [0.7349772318984437, nan, nan, 0.6970779706674648, 0.0, 0.7056650191018752, nan, nan, 0.8762794572720781, nan, 0.6978717526220758, nan, 0.0, nan, 0.5249058533637082, 0.0, nan, 0.0, 0.24850209706411025, 0.0, nan, nan, 0.0, nan, 0.0, nan, nan, 0.27938493100693385, nan, nan, nan, 0.0, 0.0, nan, nan, nan, nan, 0.5851750026435445, nan, nan, nan, 0.0, 0.0, 0.0, nan, nan, nan, 0.2327708995288704, nan, nan, nan, nan, nan, nan, nan, nan, nan, nan, 0.29146855739376243, nan, nan, nan, nan, 0.0, nan, 0.4771763151878477, nan, nan, nan, nan, 0.0, nan, nan, nan, nan, nan, nan, nan, nan, nan, nan, 0.002145815659464045, 0.0, nan, nan, nan, nan, 0.0, nan, 0.0, nan, nan, nan, nan, nan, nan, 0.0, nan, 0.0, nan, nan, nan, nan, nan, 0.0, nan, nan, nan, nan, nan, nan, nan, nan, nan, nan, nan, nan, nan, nan, nan, nan, nan, nan, nan, nan, 0.0, nan, nan, nan, nan, nan, nan, nan, nan, 0.0, nan, nan, 0.0, 0.0, nan, nan, nan, nan, nan, nan, 0.0, nan, nan, 0.0, 0.0], 'eval_runtime': 29.3375, 'eval_samples_per_second': 0.341, 'eval_steps_per_second': 0.17, 'epoch': 34.0}\n"
          ]
        },
        {
          "name": "stderr",
          "output_type": "stream",
          "text": [
            " 68%|██████▊   | 681/1000 [1:44:42<1:14:39, 14.04s/it]"
          ]
        },
        {
          "name": "stdout",
          "output_type": "stream",
          "text": [
            "{'loss': 1.2048, 'learning_rate': 1.914e-05, 'epoch': 34.05}\n"
          ]
        },
        {
          "name": "stderr",
          "output_type": "stream",
          "text": [
            " 68%|██████▊   | 682/1000 [1:44:48<1:00:18, 11.38s/it]"
          ]
        },
        {
          "name": "stdout",
          "output_type": "stream",
          "text": [
            "{'loss': 1.1092, 'learning_rate': 1.908e-05, 'epoch': 34.1}\n"
          ]
        },
        {
          "name": "stderr",
          "output_type": "stream",
          "text": [
            " 68%|██████▊   | 683/1000 [1:44:53<50:15,  9.51s/it]  "
          ]
        },
        {
          "name": "stdout",
          "output_type": "stream",
          "text": [
            "{'loss': 1.3638, 'learning_rate': 1.902e-05, 'epoch': 34.15}\n"
          ]
        },
        {
          "name": "stderr",
          "output_type": "stream",
          "text": [
            " 68%|██████▊   | 684/1000 [1:44:58<43:13,  8.21s/it]"
          ]
        },
        {
          "name": "stdout",
          "output_type": "stream",
          "text": [
            "{'loss': 1.6419, 'learning_rate': 1.896e-05, 'epoch': 34.2}\n"
          ]
        },
        {
          "name": "stderr",
          "output_type": "stream",
          "text": [
            " 68%|██████▊   | 685/1000 [1:45:03<38:11,  7.27s/it]"
          ]
        },
        {
          "name": "stdout",
          "output_type": "stream",
          "text": [
            "{'loss': 1.0515, 'learning_rate': 1.8900000000000002e-05, 'epoch': 34.25}\n"
          ]
        },
        {
          "name": "stderr",
          "output_type": "stream",
          "text": [
            " 69%|██████▊   | 686/1000 [1:45:08<34:50,  6.66s/it]"
          ]
        },
        {
          "name": "stdout",
          "output_type": "stream",
          "text": [
            "{'loss': 1.2119, 'learning_rate': 1.884e-05, 'epoch': 34.3}\n"
          ]
        },
        {
          "name": "stderr",
          "output_type": "stream",
          "text": [
            " 69%|██████▊   | 687/1000 [1:45:13<32:07,  6.16s/it]"
          ]
        },
        {
          "name": "stdout",
          "output_type": "stream",
          "text": [
            "{'loss': 2.1624, 'learning_rate': 1.878e-05, 'epoch': 34.35}\n"
          ]
        },
        {
          "name": "stderr",
          "output_type": "stream",
          "text": [
            " 69%|██████▉   | 688/1000 [1:45:18<30:34,  5.88s/it]"
          ]
        },
        {
          "name": "stdout",
          "output_type": "stream",
          "text": [
            "{'loss': 0.9949, 'learning_rate': 1.872e-05, 'epoch': 34.4}\n"
          ]
        },
        {
          "name": "stderr",
          "output_type": "stream",
          "text": [
            " 69%|██████▉   | 689/1000 [1:45:24<29:47,  5.75s/it]"
          ]
        },
        {
          "name": "stdout",
          "output_type": "stream",
          "text": [
            "{'loss': 1.2636, 'learning_rate': 1.866e-05, 'epoch': 34.45}\n"
          ]
        },
        {
          "name": "stderr",
          "output_type": "stream",
          "text": [
            " 69%|██████▉   | 690/1000 [1:45:29<29:17,  5.67s/it]"
          ]
        },
        {
          "name": "stdout",
          "output_type": "stream",
          "text": [
            "{'loss': 1.1636, 'learning_rate': 1.86e-05, 'epoch': 34.5}\n"
          ]
        },
        {
          "name": "stderr",
          "output_type": "stream",
          "text": [
            " 69%|██████▉   | 691/1000 [1:45:35<28:44,  5.58s/it]"
          ]
        },
        {
          "name": "stdout",
          "output_type": "stream",
          "text": [
            "{'loss': 1.1942, 'learning_rate': 1.854e-05, 'epoch': 34.55}\n"
          ]
        },
        {
          "name": "stderr",
          "output_type": "stream",
          "text": [
            " 69%|██████▉   | 692/1000 [1:45:40<27:58,  5.45s/it]"
          ]
        },
        {
          "name": "stdout",
          "output_type": "stream",
          "text": [
            "{'loss': 1.3552, 'learning_rate': 1.848e-05, 'epoch': 34.6}\n"
          ]
        },
        {
          "name": "stderr",
          "output_type": "stream",
          "text": [
            " 69%|██████▉   | 693/1000 [1:45:45<27:26,  5.36s/it]"
          ]
        },
        {
          "name": "stdout",
          "output_type": "stream",
          "text": [
            "{'loss': 1.3205, 'learning_rate': 1.842e-05, 'epoch': 34.65}\n"
          ]
        },
        {
          "name": "stderr",
          "output_type": "stream",
          "text": [
            " 69%|██████▉   | 694/1000 [1:45:51<27:29,  5.39s/it]"
          ]
        },
        {
          "name": "stdout",
          "output_type": "stream",
          "text": [
            "{'loss': 1.1219, 'learning_rate': 1.836e-05, 'epoch': 34.7}\n"
          ]
        },
        {
          "name": "stderr",
          "output_type": "stream",
          "text": [
            " 70%|██████▉   | 695/1000 [1:45:56<26:57,  5.30s/it]"
          ]
        },
        {
          "name": "stdout",
          "output_type": "stream",
          "text": [
            "{'loss': 1.6174, 'learning_rate': 1.83e-05, 'epoch': 34.75}\n"
          ]
        },
        {
          "name": "stderr",
          "output_type": "stream",
          "text": [
            " 70%|██████▉   | 696/1000 [1:46:01<26:47,  5.29s/it]"
          ]
        },
        {
          "name": "stdout",
          "output_type": "stream",
          "text": [
            "{'loss': 0.9552, 'learning_rate': 1.824e-05, 'epoch': 34.8}\n"
          ]
        },
        {
          "name": "stderr",
          "output_type": "stream",
          "text": [
            " 70%|██████▉   | 697/1000 [1:46:06<26:32,  5.25s/it]"
          ]
        },
        {
          "name": "stdout",
          "output_type": "stream",
          "text": [
            "{'loss': 1.2524, 'learning_rate': 1.818e-05, 'epoch': 34.85}\n"
          ]
        },
        {
          "name": "stderr",
          "output_type": "stream",
          "text": [
            " 70%|██████▉   | 698/1000 [1:46:11<26:17,  5.22s/it]"
          ]
        },
        {
          "name": "stdout",
          "output_type": "stream",
          "text": [
            "{'loss': 1.2882, 'learning_rate': 1.812e-05, 'epoch': 34.9}\n"
          ]
        },
        {
          "name": "stderr",
          "output_type": "stream",
          "text": [
            " 70%|██████▉   | 699/1000 [1:46:16<26:07,  5.21s/it]"
          ]
        },
        {
          "name": "stdout",
          "output_type": "stream",
          "text": [
            "{'loss': 1.4752, 'learning_rate': 1.806e-05, 'epoch': 34.95}\n"
          ]
        },
        {
          "name": "stderr",
          "output_type": "stream",
          "text": [
            " 70%|███████   | 700/1000 [1:46:22<26:13,  5.25s/it]"
          ]
        },
        {
          "name": "stdout",
          "output_type": "stream",
          "text": [
            "{'loss': 1.4461, 'learning_rate': 1.8e-05, 'epoch': 35.0}\n"
          ]
        },
        {
          "name": "stderr",
          "output_type": "stream",
          "text": [
            "C:\\Users\\kuian\\.cache\\huggingface\\modules\\evaluate_modules\\metrics\\evaluate-metric--mean_iou\\08bc20f4f895f3caf75fb9e3fada1404bded3c3265243d05327cbb3b9326ffe9\\mean_iou.py:259: RuntimeWarning: invalid value encountered in divide\n",
            "  iou = total_area_intersect / total_area_union\n",
            "C:\\Users\\kuian\\.cache\\huggingface\\modules\\evaluate_modules\\metrics\\evaluate-metric--mean_iou\\08bc20f4f895f3caf75fb9e3fada1404bded3c3265243d05327cbb3b9326ffe9\\mean_iou.py:260: RuntimeWarning: invalid value encountered in divide\n",
            "  acc = total_area_intersect / total_area_label\n",
            "                                                    \n",
            " 70%|███████   | 700/1000 [1:46:51<26:13,  5.25s/it]"
          ]
        },
        {
          "name": "stdout",
          "output_type": "stream",
          "text": [
            "{'eval_loss': 1.768080711364746, 'eval_mean_iou': 0.10224967262374603, 'eval_mean_accuracy': 0.15483464391313198, 'eval_overall_accuracy': 0.6282585076160229, 'eval_per_category_iou': [0.5866974409379717, nan, nan, 0.6068656539837418, 0.0, 0.5598517551912237, nan, nan, 0.1402446059766932, nan, 0.5634369826922927, nan, 0.0, nan, 0.40697386023719695, 0.0, nan, 0.0, 0.28954787935335996, 0.0, nan, nan, 0.0, nan, 0.0, nan, nan, 0.09575689284833973, nan, nan, nan, 0.0, 0.0, nan, nan, nan, nan, 0.1406047386935676, nan, nan, nan, 0.0, 0.0, 0.0, nan, nan, nan, 0.16243262483474016, nan, nan, nan, nan, nan, nan, nan, nan, nan, nan, 0.16216082497543874, nan, nan, nan, nan, 0.0, nan, 0.35278204734091606, nan, nan, nan, nan, 0.0, nan, nan, nan, nan, nan, nan, nan, nan, nan, nan, 0.02263159788435937, 0.0, nan, nan, nan, nan, 0.0, nan, 0.0, nan, nan, nan, nan, nan, nan, 0.0, nan, 0.0, nan, nan, nan, nan, nan, 0.0, nan, nan, nan, nan, nan, nan, nan, nan, nan, nan, nan, nan, nan, nan, nan, nan, nan, nan, nan, nan, 0.0, nan, nan, nan, nan, nan, nan, nan, nan, 0.0, nan, nan, 0.0, 0.0, nan, nan, nan, nan, nan, nan, 0.0, nan, nan, 0.0, 0.0], 'eval_per_category_accuracy': [0.8161479320891717, nan, nan, 0.7292764142472313, 0.0, 0.6625589778813304, nan, nan, 0.8680076172339919, nan, 0.7153160797624099, nan, 0.0, nan, 0.5035055093216793, 0.0, nan, 0.0, 0.30546520585466064, 0.0, nan, nan, 0.0, nan, 0.0, nan, nan, 0.13410989574600293, nan, nan, nan, 0.0, 0.0, nan, nan, nan, nan, 0.558951041556519, nan, nan, nan, 0.0, 0.0, 0.0, nan, nan, nan, 0.21874657609291115, nan, nan, nan, nan, nan, nan, nan, nan, nan, nan, 0.21264192038556004, nan, nan, nan, nan, 0.0, nan, 0.43726979449792974, nan, nan, nan, nan, 0.0, nan, nan, nan, nan, nan, nan, nan, nan, nan, nan, 0.03138879185588103, 0.0, nan, nan, nan, nan, 0.0, nan, 0.0, nan, nan, nan, nan, nan, nan, 0.0, nan, 0.0, nan, nan, nan, nan, nan, 0.0, nan, nan, nan, nan, nan, nan, nan, nan, nan, nan, nan, nan, nan, nan, nan, nan, nan, nan, nan, nan, 0.0, nan, nan, nan, nan, nan, nan, nan, nan, 0.0, nan, nan, 0.0, 0.0, nan, nan, nan, nan, nan, nan, 0.0, nan, nan, 0.0, 0.0], 'eval_runtime': 29.6146, 'eval_samples_per_second': 0.338, 'eval_steps_per_second': 0.169, 'epoch': 35.0}\n"
          ]
        },
        {
          "name": "stderr",
          "output_type": "stream",
          "text": [
            " 70%|███████   | 701/1000 [1:46:57<1:10:46, 14.20s/it]"
          ]
        },
        {
          "name": "stdout",
          "output_type": "stream",
          "text": [
            "{'loss': 1.5787, 'learning_rate': 1.794e-05, 'epoch': 35.05}\n"
          ]
        },
        {
          "name": "stderr",
          "output_type": "stream",
          "text": [
            " 70%|███████   | 702/1000 [1:47:02<56:57, 11.47s/it]  "
          ]
        },
        {
          "name": "stdout",
          "output_type": "stream",
          "text": [
            "{'loss': 1.327, 'learning_rate': 1.7879999999999998e-05, 'epoch': 35.1}\n"
          ]
        },
        {
          "name": "stderr",
          "output_type": "stream",
          "text": [
            " 70%|███████   | 703/1000 [1:47:07<47:38,  9.62s/it]"
          ]
        },
        {
          "name": "stdout",
          "output_type": "stream",
          "text": [
            "{'loss': 1.1208, 'learning_rate': 1.782e-05, 'epoch': 35.15}\n"
          ]
        },
        {
          "name": "stderr",
          "output_type": "stream",
          "text": [
            " 70%|███████   | 704/1000 [1:47:12<40:47,  8.27s/it]"
          ]
        },
        {
          "name": "stdout",
          "output_type": "stream",
          "text": [
            "{'loss': 1.1281, 'learning_rate': 1.776e-05, 'epoch': 35.2}\n"
          ]
        },
        {
          "name": "stderr",
          "output_type": "stream",
          "text": [
            " 70%|███████   | 705/1000 [1:47:17<35:56,  7.31s/it]"
          ]
        },
        {
          "name": "stdout",
          "output_type": "stream",
          "text": [
            "{'loss': 1.2886, 'learning_rate': 1.77e-05, 'epoch': 35.25}\n"
          ]
        },
        {
          "name": "stderr",
          "output_type": "stream",
          "text": [
            " 71%|███████   | 706/1000 [1:47:23<32:43,  6.68s/it]"
          ]
        },
        {
          "name": "stdout",
          "output_type": "stream",
          "text": [
            "{'loss': 1.2577, 'learning_rate': 1.764e-05, 'epoch': 35.3}\n"
          ]
        },
        {
          "name": "stderr",
          "output_type": "stream",
          "text": [
            " 71%|███████   | 707/1000 [1:47:28<30:07,  6.17s/it]"
          ]
        },
        {
          "name": "stdout",
          "output_type": "stream",
          "text": [
            "{'loss': 1.4346, 'learning_rate': 1.758e-05, 'epoch': 35.35}\n"
          ]
        },
        {
          "name": "stderr",
          "output_type": "stream",
          "text": [
            " 71%|███████   | 708/1000 [1:47:33<28:36,  5.88s/it]"
          ]
        },
        {
          "name": "stdout",
          "output_type": "stream",
          "text": [
            "{'loss': 0.9779, 'learning_rate': 1.7519999999999998e-05, 'epoch': 35.4}\n"
          ]
        },
        {
          "name": "stderr",
          "output_type": "stream",
          "text": [
            " 71%|███████   | 709/1000 [1:47:38<27:39,  5.70s/it]"
          ]
        },
        {
          "name": "stdout",
          "output_type": "stream",
          "text": [
            "{'loss': 0.9872, 'learning_rate': 1.746e-05, 'epoch': 35.45}\n"
          ]
        },
        {
          "name": "stderr",
          "output_type": "stream",
          "text": [
            " 71%|███████   | 710/1000 [1:47:43<26:57,  5.58s/it]"
          ]
        },
        {
          "name": "stdout",
          "output_type": "stream",
          "text": [
            "{'loss': 1.0072, 'learning_rate': 1.74e-05, 'epoch': 35.5}\n"
          ]
        },
        {
          "name": "stderr",
          "output_type": "stream",
          "text": [
            " 71%|███████   | 711/1000 [1:47:49<26:22,  5.48s/it]"
          ]
        },
        {
          "name": "stdout",
          "output_type": "stream",
          "text": [
            "{'loss': 1.4865, 'learning_rate': 1.734e-05, 'epoch': 35.55}\n"
          ]
        },
        {
          "name": "stderr",
          "output_type": "stream",
          "text": [
            " 71%|███████   | 712/1000 [1:47:54<25:44,  5.36s/it]"
          ]
        },
        {
          "name": "stdout",
          "output_type": "stream",
          "text": [
            "{'loss': 1.1455, 'learning_rate': 1.728e-05, 'epoch': 35.6}\n"
          ]
        },
        {
          "name": "stderr",
          "output_type": "stream",
          "text": [
            " 71%|███████▏  | 713/1000 [1:47:59<25:18,  5.29s/it]"
          ]
        },
        {
          "name": "stdout",
          "output_type": "stream",
          "text": [
            "{'loss': 1.3123, 'learning_rate': 1.7219999999999998e-05, 'epoch': 35.65}\n"
          ]
        },
        {
          "name": "stderr",
          "output_type": "stream",
          "text": [
            " 71%|███████▏  | 714/1000 [1:48:04<24:52,  5.22s/it]"
          ]
        },
        {
          "name": "stdout",
          "output_type": "stream",
          "text": [
            "{'loss': 2.1114, 'learning_rate': 1.716e-05, 'epoch': 35.7}\n"
          ]
        },
        {
          "name": "stderr",
          "output_type": "stream",
          "text": [
            " 72%|███████▏  | 715/1000 [1:48:09<24:48,  5.22s/it]"
          ]
        },
        {
          "name": "stdout",
          "output_type": "stream",
          "text": [
            "{'loss': 1.0169, 'learning_rate': 1.71e-05, 'epoch': 35.75}\n"
          ]
        },
        {
          "name": "stderr",
          "output_type": "stream",
          "text": [
            " 72%|███████▏  | 716/1000 [1:48:14<24:38,  5.21s/it]"
          ]
        },
        {
          "name": "stdout",
          "output_type": "stream",
          "text": [
            "{'loss': 1.4797, 'learning_rate': 1.704e-05, 'epoch': 35.8}\n"
          ]
        },
        {
          "name": "stderr",
          "output_type": "stream",
          "text": [
            " 72%|███████▏  | 717/1000 [1:48:19<24:31,  5.20s/it]"
          ]
        },
        {
          "name": "stdout",
          "output_type": "stream",
          "text": [
            "{'loss': 1.2106, 'learning_rate': 1.698e-05, 'epoch': 35.85}\n"
          ]
        },
        {
          "name": "stderr",
          "output_type": "stream",
          "text": [
            " 72%|███████▏  | 718/1000 [1:48:25<24:13,  5.15s/it]"
          ]
        },
        {
          "name": "stdout",
          "output_type": "stream",
          "text": [
            "{'loss': 1.3724, 'learning_rate': 1.6919999999999997e-05, 'epoch': 35.9}\n"
          ]
        },
        {
          "name": "stderr",
          "output_type": "stream",
          "text": [
            " 72%|███████▏  | 719/1000 [1:48:30<24:14,  5.18s/it]"
          ]
        },
        {
          "name": "stdout",
          "output_type": "stream",
          "text": [
            "{'loss': 1.5933, 'learning_rate': 1.686e-05, 'epoch': 35.95}\n"
          ]
        },
        {
          "name": "stderr",
          "output_type": "stream",
          "text": [
            " 72%|███████▏  | 720/1000 [1:48:35<24:01,  5.15s/it]"
          ]
        },
        {
          "name": "stdout",
          "output_type": "stream",
          "text": [
            "{'loss': 1.2724, 'learning_rate': 1.6800000000000002e-05, 'epoch': 36.0}\n"
          ]
        },
        {
          "name": "stderr",
          "output_type": "stream",
          "text": [
            "C:\\Users\\kuian\\.cache\\huggingface\\modules\\evaluate_modules\\metrics\\evaluate-metric--mean_iou\\08bc20f4f895f3caf75fb9e3fada1404bded3c3265243d05327cbb3b9326ffe9\\mean_iou.py:259: RuntimeWarning: invalid value encountered in divide\n",
            "  iou = total_area_intersect / total_area_union\n",
            "C:\\Users\\kuian\\.cache\\huggingface\\modules\\evaluate_modules\\metrics\\evaluate-metric--mean_iou\\08bc20f4f895f3caf75fb9e3fada1404bded3c3265243d05327cbb3b9326ffe9\\mean_iou.py:260: RuntimeWarning: invalid value encountered in divide\n",
            "  acc = total_area_intersect / total_area_label\n",
            "                                                    \n",
            " 72%|███████▏  | 720/1000 [1:49:04<24:01,  5.15s/it]"
          ]
        },
        {
          "name": "stdout",
          "output_type": "stream",
          "text": [
            "{'eval_loss': 1.8508354425430298, 'eval_mean_iou': 0.09826754709960024, 'eval_mean_accuracy': 0.1597243457829405, 'eval_overall_accuracy': 0.5866618580126335, 'eval_per_category_iou': [0.5404061836920279, nan, nan, 0.5834574874855661, 0.0, 0.538713156467154, nan, nan, 0.16025777815714226, nan, 0.5176143090263334, nan, 0.0, nan, 0.3650548819857953, 0.0, nan, 0.0, 0.25925265735381037, 0.0, nan, nan, 0.0, nan, 0.0, nan, nan, 0.15650672731756776, nan, nan, nan, 0.0, 0.0, nan, nan, nan, nan, 0.12303676033619153, nan, nan, nan, 0.0, 0.0, 0.0, nan, nan, nan, 0.1433408577878104, nan, nan, nan, nan, nan, nan, nan, nan, nan, nan, 0.1728199091262591, nan, nan, nan, nan, 0.0, nan, 0.34581374282879696, nan, nan, nan, nan, 0.0, nan, nan, nan, nan, nan, nan, nan, nan, nan, nan, 0.02442743241955465, 0.0, nan, nan, nan, nan, 0.0, nan, 0.0, nan, nan, nan, nan, nan, nan, 0.0, nan, 0.0, nan, nan, nan, nan, nan, 0.0, nan, nan, nan, nan, nan, nan, nan, nan, nan, nan, nan, nan, nan, nan, nan, nan, nan, nan, nan, nan, 0.0, nan, nan, nan, nan, nan, nan, nan, nan, 0.0, nan, nan, 0.0, 0.0, nan, nan, nan, nan, nan, nan, 0.0, nan, nan, 0.0, 0.0], 'eval_per_category_accuracy': [0.6780508739589075, nan, nan, 0.716488326848249, 0.0, 0.7489596099715828, nan, nan, 0.8938348012378006, nan, 0.6384544799755306, nan, 0.0, nan, 0.5677809289134781, 0.0, nan, 0.0, 0.29566464093126765, 0.0, nan, nan, 0.0, nan, 0.0, nan, nan, 0.2816633296181956, nan, nan, nan, 0.0, 0.0, nan, nan, nan, nan, 0.6129850904092207, nan, nan, nan, 0.0, 0.0, 0.0, nan, nan, nan, 0.20872137613673716, nan, nan, nan, nan, nan, nan, nan, nan, nan, nan, 0.30069975439084295, nan, nan, nan, nan, 0.0, nan, 0.40729545050422944, nan, nan, nan, nan, 0.0, nan, nan, nan, nan, nan, nan, nan, nan, nan, nan, 0.038375168421577927, 0.0, nan, nan, nan, nan, 0.0, nan, 0.0, nan, nan, nan, nan, nan, nan, 0.0, nan, 0.0, nan, nan, nan, nan, nan, 0.0, nan, nan, nan, nan, nan, nan, nan, nan, nan, nan, nan, nan, nan, nan, nan, nan, nan, nan, nan, nan, 0.0, nan, nan, nan, nan, nan, nan, nan, nan, 0.0, nan, nan, 0.0, 0.0, nan, nan, nan, nan, nan, nan, 0.0, nan, nan, 0.0, 0.0], 'eval_runtime': 29.4099, 'eval_samples_per_second': 0.34, 'eval_steps_per_second': 0.17, 'epoch': 36.0}\n"
          ]
        },
        {
          "name": "stderr",
          "output_type": "stream",
          "text": [
            " 72%|███████▏  | 721/1000 [1:49:10<1:05:21, 14.05s/it]"
          ]
        },
        {
          "name": "stdout",
          "output_type": "stream",
          "text": [
            "{'loss': 1.1243, 'learning_rate': 1.6740000000000002e-05, 'epoch': 36.05}\n"
          ]
        },
        {
          "name": "stderr",
          "output_type": "stream",
          "text": [
            " 72%|███████▏  | 722/1000 [1:49:15<52:36, 11.35s/it]  "
          ]
        },
        {
          "name": "stdout",
          "output_type": "stream",
          "text": [
            "{'loss': 1.1253, 'learning_rate': 1.6680000000000003e-05, 'epoch': 36.1}\n"
          ]
        },
        {
          "name": "stderr",
          "output_type": "stream",
          "text": [
            " 72%|███████▏  | 723/1000 [1:49:20<43:53,  9.51s/it]"
          ]
        },
        {
          "name": "stdout",
          "output_type": "stream",
          "text": [
            "{'loss': 1.6349, 'learning_rate': 1.6620000000000004e-05, 'epoch': 36.15}\n"
          ]
        },
        {
          "name": "stderr",
          "output_type": "stream",
          "text": [
            " 72%|███████▏  | 724/1000 [1:49:25<37:40,  8.19s/it]"
          ]
        },
        {
          "name": "stdout",
          "output_type": "stream",
          "text": [
            "{'loss': 1.1503, 'learning_rate': 1.656e-05, 'epoch': 36.2}\n"
          ]
        },
        {
          "name": "stderr",
          "output_type": "stream",
          "text": [
            " 72%|███████▎  | 725/1000 [1:49:30<33:32,  7.32s/it]"
          ]
        },
        {
          "name": "stdout",
          "output_type": "stream",
          "text": [
            "{'loss': 2.0146, 'learning_rate': 1.65e-05, 'epoch': 36.25}\n"
          ]
        },
        {
          "name": "stderr",
          "output_type": "stream",
          "text": [
            " 73%|███████▎  | 726/1000 [1:49:35<30:31,  6.68s/it]"
          ]
        },
        {
          "name": "stdout",
          "output_type": "stream",
          "text": [
            "{'loss': 1.4227, 'learning_rate': 1.6440000000000002e-05, 'epoch': 36.3}\n"
          ]
        },
        {
          "name": "stderr",
          "output_type": "stream",
          "text": [
            " 73%|███████▎  | 727/1000 [1:49:41<28:22,  6.23s/it]"
          ]
        },
        {
          "name": "stdout",
          "output_type": "stream",
          "text": [
            "{'loss': 1.1852, 'learning_rate': 1.6380000000000002e-05, 'epoch': 36.35}\n"
          ]
        },
        {
          "name": "stderr",
          "output_type": "stream",
          "text": [
            " 73%|███████▎  | 728/1000 [1:49:46<26:49,  5.92s/it]"
          ]
        },
        {
          "name": "stdout",
          "output_type": "stream",
          "text": [
            "{'loss': 1.3048, 'learning_rate': 1.6320000000000003e-05, 'epoch': 36.4}\n"
          ]
        },
        {
          "name": "stderr",
          "output_type": "stream",
          "text": [
            " 73%|███████▎  | 729/1000 [1:49:51<25:43,  5.70s/it]"
          ]
        },
        {
          "name": "stdout",
          "output_type": "stream",
          "text": [
            "{'loss': 1.4787, 'learning_rate': 1.626e-05, 'epoch': 36.45}\n"
          ]
        },
        {
          "name": "stderr",
          "output_type": "stream",
          "text": [
            " 73%|███████▎  | 730/1000 [1:49:56<24:49,  5.52s/it]"
          ]
        },
        {
          "name": "stdout",
          "output_type": "stream",
          "text": [
            "{'loss': 1.1703, 'learning_rate': 1.62e-05, 'epoch': 36.5}\n"
          ]
        },
        {
          "name": "stderr",
          "output_type": "stream",
          "text": [
            " 73%|███████▎  | 731/1000 [1:50:01<24:11,  5.39s/it]"
          ]
        },
        {
          "name": "stdout",
          "output_type": "stream",
          "text": [
            "{'loss': 0.9742, 'learning_rate': 1.614e-05, 'epoch': 36.55}\n"
          ]
        },
        {
          "name": "stderr",
          "output_type": "stream",
          "text": [
            " 73%|███████▎  | 732/1000 [1:50:06<23:38,  5.29s/it]"
          ]
        },
        {
          "name": "stdout",
          "output_type": "stream",
          "text": [
            "{'loss': 1.2404, 'learning_rate': 1.6080000000000002e-05, 'epoch': 36.6}\n"
          ]
        },
        {
          "name": "stderr",
          "output_type": "stream",
          "text": [
            " 73%|███████▎  | 733/1000 [1:50:11<23:16,  5.23s/it]"
          ]
        },
        {
          "name": "stdout",
          "output_type": "stream",
          "text": [
            "{'loss': 1.8922, 'learning_rate': 1.6020000000000002e-05, 'epoch': 36.65}\n"
          ]
        },
        {
          "name": "stderr",
          "output_type": "stream",
          "text": [
            " 73%|███████▎  | 734/1000 [1:50:17<23:09,  5.22s/it]"
          ]
        },
        {
          "name": "stdout",
          "output_type": "stream",
          "text": [
            "{'loss': 1.2475, 'learning_rate': 1.596e-05, 'epoch': 36.7}\n"
          ]
        },
        {
          "name": "stderr",
          "output_type": "stream",
          "text": [
            " 74%|███████▎  | 735/1000 [1:50:22<23:09,  5.24s/it]"
          ]
        },
        {
          "name": "stdout",
          "output_type": "stream",
          "text": [
            "{'loss': 0.9032, 'learning_rate': 1.59e-05, 'epoch': 36.75}\n"
          ]
        },
        {
          "name": "stderr",
          "output_type": "stream",
          "text": [
            " 74%|███████▎  | 736/1000 [1:50:27<22:57,  5.22s/it]"
          ]
        },
        {
          "name": "stdout",
          "output_type": "stream",
          "text": [
            "{'loss': 1.073, 'learning_rate': 1.584e-05, 'epoch': 36.8}\n"
          ]
        },
        {
          "name": "stderr",
          "output_type": "stream",
          "text": [
            " 74%|███████▎  | 737/1000 [1:50:32<22:43,  5.18s/it]"
          ]
        },
        {
          "name": "stdout",
          "output_type": "stream",
          "text": [
            "{'loss': 0.9507, 'learning_rate': 1.578e-05, 'epoch': 36.85}\n"
          ]
        },
        {
          "name": "stderr",
          "output_type": "stream",
          "text": [
            " 74%|███████▍  | 738/1000 [1:50:37<22:31,  5.16s/it]"
          ]
        },
        {
          "name": "stdout",
          "output_type": "stream",
          "text": [
            "{'loss': 1.5216, 'learning_rate': 1.5720000000000002e-05, 'epoch': 36.9}\n"
          ]
        },
        {
          "name": "stderr",
          "output_type": "stream",
          "text": [
            " 74%|███████▍  | 739/1000 [1:50:42<22:31,  5.18s/it]"
          ]
        },
        {
          "name": "stdout",
          "output_type": "stream",
          "text": [
            "{'loss': 1.1325, 'learning_rate': 1.5660000000000003e-05, 'epoch': 36.95}\n"
          ]
        },
        {
          "name": "stderr",
          "output_type": "stream",
          "text": [
            " 74%|███████▍  | 740/1000 [1:50:47<22:14,  5.13s/it]"
          ]
        },
        {
          "name": "stdout",
          "output_type": "stream",
          "text": [
            "{'loss': 1.3948, 'learning_rate': 1.56e-05, 'epoch': 37.0}\n"
          ]
        },
        {
          "name": "stderr",
          "output_type": "stream",
          "text": [
            "C:\\Users\\kuian\\.cache\\huggingface\\modules\\evaluate_modules\\metrics\\evaluate-metric--mean_iou\\08bc20f4f895f3caf75fb9e3fada1404bded3c3265243d05327cbb3b9326ffe9\\mean_iou.py:259: RuntimeWarning: invalid value encountered in divide\n",
            "  iou = total_area_intersect / total_area_union\n",
            "C:\\Users\\kuian\\.cache\\huggingface\\modules\\evaluate_modules\\metrics\\evaluate-metric--mean_iou\\08bc20f4f895f3caf75fb9e3fada1404bded3c3265243d05327cbb3b9326ffe9\\mean_iou.py:260: RuntimeWarning: invalid value encountered in divide\n",
            "  acc = total_area_intersect / total_area_label\n",
            "                                                    \n",
            " 74%|███████▍  | 740/1000 [1:51:17<22:14,  5.13s/it]"
          ]
        },
        {
          "name": "stdout",
          "output_type": "stream",
          "text": [
            "{'eval_loss': 1.7761703729629517, 'eval_mean_iou': 0.09981562611910559, 'eval_mean_accuracy': 0.15307519659121824, 'eval_overall_accuracy': 0.6307106730199353, 'eval_per_category_iou': [0.5883865485494059, nan, nan, 0.6246572952494891, 0.0, 0.5639044163566495, nan, nan, 0.14684582053420672, nan, 0.5528430345015636, nan, 0.0, 0.0, 0.3904925982196429, 0.0, nan, 0.0, 0.2882576906889565, 0.0, nan, nan, 0.0, nan, 0.0, nan, nan, 0.08471886637480762, nan, nan, nan, 0.0, 0.0, nan, nan, nan, nan, 0.13420631090032806, nan, nan, nan, 0.0, 0.0, 0.0, nan, nan, nan, 0.15915456586082916, nan, nan, nan, nan, nan, nan, nan, nan, nan, nan, 0.14116214751687203, nan, nan, nan, nan, 0.0, nan, 0.37237887212073073, nan, nan, nan, nan, 0.0, nan, nan, nan, nan, nan, nan, nan, nan, nan, nan, 0.04543250400984744, 0.0, nan, nan, nan, nan, 0.0, nan, 0.0, nan, nan, nan, nan, nan, nan, 0.0, nan, 0.0, nan, nan, nan, nan, nan, 0.0, nan, nan, nan, nan, nan, nan, nan, nan, nan, nan, nan, nan, nan, nan, nan, nan, nan, nan, nan, nan, 0.0, nan, nan, nan, nan, nan, nan, nan, nan, 0.0, nan, nan, 0.0, 0.0, nan, nan, nan, nan, nan, nan, 0.0, nan, nan, 0.0, 0.0], 'eval_per_category_accuracy': [0.825811110683306, nan, nan, 0.7501496557916791, 0.0, 0.660745309827477, nan, nan, 0.859140680790288, nan, 0.6401515525253821, nan, 0.0, nan, 0.5174113161932214, 0.0, nan, 0.0, 0.3151052811777797, 0.0, nan, nan, 0.0, nan, 0.0, nan, nan, 0.10478660972314005, nan, nan, nan, 0.0, 0.0, nan, nan, nan, nan, 0.5071904409432166, nan, nan, nan, 0.0, 0.0, 0.0, nan, nan, nan, 0.21945874876739344, nan, nan, nan, nan, nan, nan, nan, nan, nan, nan, 0.1859122294823671, nan, nan, nan, nan, 0.0, nan, 0.47636345162191684, nan, nan, nan, nan, 0.0, nan, nan, nan, nan, nan, nan, nan, nan, nan, nan, 0.060781476121562955, 0.0, nan, nan, nan, nan, 0.0, nan, 0.0, nan, nan, nan, nan, nan, nan, 0.0, nan, 0.0, nan, nan, nan, nan, nan, 0.0, nan, nan, nan, nan, nan, nan, nan, nan, nan, nan, nan, nan, nan, nan, nan, nan, nan, nan, nan, nan, 0.0, nan, nan, nan, nan, nan, nan, nan, nan, 0.0, nan, nan, 0.0, 0.0, nan, nan, nan, nan, nan, nan, 0.0, nan, nan, 0.0, 0.0], 'eval_runtime': 29.3209, 'eval_samples_per_second': 0.341, 'eval_steps_per_second': 0.171, 'epoch': 37.0}\n"
          ]
        },
        {
          "name": "stderr",
          "output_type": "stream",
          "text": [
            " 74%|███████▍  | 741/1000 [1:51:22<1:00:32, 14.03s/it]"
          ]
        },
        {
          "name": "stdout",
          "output_type": "stream",
          "text": [
            "{'loss': 1.1521, 'learning_rate': 1.554e-05, 'epoch': 37.05}\n"
          ]
        },
        {
          "name": "stderr",
          "output_type": "stream",
          "text": [
            " 74%|███████▍  | 742/1000 [1:51:27<48:40, 11.32s/it]  "
          ]
        },
        {
          "name": "stdout",
          "output_type": "stream",
          "text": [
            "{'loss': 1.0815, 'learning_rate': 1.548e-05, 'epoch': 37.1}\n"
          ]
        },
        {
          "name": "stderr",
          "output_type": "stream",
          "text": [
            " 74%|███████▍  | 743/1000 [1:51:33<40:39,  9.49s/it]"
          ]
        },
        {
          "name": "stdout",
          "output_type": "stream",
          "text": [
            "{'loss': 1.1622, 'learning_rate': 1.542e-05, 'epoch': 37.15}\n"
          ]
        },
        {
          "name": "stderr",
          "output_type": "stream",
          "text": [
            " 74%|███████▍  | 744/1000 [1:51:38<34:59,  8.20s/it]"
          ]
        },
        {
          "name": "stdout",
          "output_type": "stream",
          "text": [
            "{'loss': 0.9989, 'learning_rate': 1.5360000000000002e-05, 'epoch': 37.2}\n"
          ]
        },
        {
          "name": "stderr",
          "output_type": "stream",
          "text": [
            " 74%|███████▍  | 745/1000 [1:51:43<31:02,  7.30s/it]"
          ]
        },
        {
          "name": "stdout",
          "output_type": "stream",
          "text": [
            "{'loss': 1.3404, 'learning_rate': 1.53e-05, 'epoch': 37.25}\n"
          ]
        },
        {
          "name": "stderr",
          "output_type": "stream",
          "text": [
            " 75%|███████▍  | 746/1000 [1:51:48<28:15,  6.68s/it]"
          ]
        },
        {
          "name": "stdout",
          "output_type": "stream",
          "text": [
            "{'loss': 1.109, 'learning_rate': 1.524e-05, 'epoch': 37.3}\n"
          ]
        },
        {
          "name": "stderr",
          "output_type": "stream",
          "text": [
            " 75%|███████▍  | 747/1000 [1:51:53<26:13,  6.22s/it]"
          ]
        },
        {
          "name": "stdout",
          "output_type": "stream",
          "text": [
            "{'loss': 1.1581, 'learning_rate': 1.518e-05, 'epoch': 37.35}\n"
          ]
        },
        {
          "name": "stderr",
          "output_type": "stream",
          "text": [
            " 75%|███████▍  | 748/1000 [1:51:58<24:49,  5.91s/it]"
          ]
        },
        {
          "name": "stdout",
          "output_type": "stream",
          "text": [
            "{'loss': 0.9867, 'learning_rate': 1.5120000000000001e-05, 'epoch': 37.4}\n"
          ]
        },
        {
          "name": "stderr",
          "output_type": "stream",
          "text": [
            " 75%|███████▍  | 749/1000 [1:52:03<23:37,  5.65s/it]"
          ]
        },
        {
          "name": "stdout",
          "output_type": "stream",
          "text": [
            "{'loss': 2.2376, 'learning_rate': 1.506e-05, 'epoch': 37.45}\n"
          ]
        },
        {
          "name": "stderr",
          "output_type": "stream",
          "text": [
            " 75%|███████▌  | 750/1000 [1:52:09<22:59,  5.52s/it]"
          ]
        },
        {
          "name": "stdout",
          "output_type": "stream",
          "text": [
            "{'loss': 0.9965, 'learning_rate': 1.5e-05, 'epoch': 37.5}\n"
          ]
        },
        {
          "name": "stderr",
          "output_type": "stream",
          "text": [
            " 75%|███████▌  | 751/1000 [1:52:14<22:33,  5.43s/it]"
          ]
        },
        {
          "name": "stdout",
          "output_type": "stream",
          "text": [
            "{'loss': 1.2559, 'learning_rate': 1.4940000000000001e-05, 'epoch': 37.55}\n"
          ]
        },
        {
          "name": "stderr",
          "output_type": "stream",
          "text": [
            " 75%|███████▌  | 752/1000 [1:52:19<22:10,  5.36s/it]"
          ]
        },
        {
          "name": "stdout",
          "output_type": "stream",
          "text": [
            "{'loss': 1.2589, 'learning_rate': 1.488e-05, 'epoch': 37.6}\n"
          ]
        },
        {
          "name": "stderr",
          "output_type": "stream",
          "text": [
            " 75%|███████▌  | 753/1000 [1:52:24<21:46,  5.29s/it]"
          ]
        },
        {
          "name": "stdout",
          "output_type": "stream",
          "text": [
            "{'loss': 1.014, 'learning_rate': 1.482e-05, 'epoch': 37.65}\n"
          ]
        },
        {
          "name": "stderr",
          "output_type": "stream",
          "text": [
            " 75%|███████▌  | 754/1000 [1:52:29<21:27,  5.23s/it]"
          ]
        },
        {
          "name": "stdout",
          "output_type": "stream",
          "text": [
            "{'loss': 1.3105, 'learning_rate': 1.4760000000000001e-05, 'epoch': 37.7}\n"
          ]
        },
        {
          "name": "stderr",
          "output_type": "stream",
          "text": [
            " 76%|███████▌  | 755/1000 [1:52:34<21:09,  5.18s/it]"
          ]
        },
        {
          "name": "stdout",
          "output_type": "stream",
          "text": [
            "{'loss': 1.3194, 'learning_rate': 1.47e-05, 'epoch': 37.75}\n"
          ]
        },
        {
          "name": "stderr",
          "output_type": "stream",
          "text": [
            " 76%|███████▌  | 756/1000 [1:52:39<20:49,  5.12s/it]"
          ]
        },
        {
          "name": "stdout",
          "output_type": "stream",
          "text": [
            "{'loss': 1.3024, 'learning_rate': 1.464e-05, 'epoch': 37.8}\n"
          ]
        },
        {
          "name": "stderr",
          "output_type": "stream",
          "text": [
            " 76%|███████▌  | 757/1000 [1:52:44<20:31,  5.07s/it]"
          ]
        },
        {
          "name": "stdout",
          "output_type": "stream",
          "text": [
            "{'loss': 1.2814, 'learning_rate': 1.458e-05, 'epoch': 37.85}\n"
          ]
        },
        {
          "name": "stderr",
          "output_type": "stream",
          "text": [
            " 76%|███████▌  | 758/1000 [1:52:49<20:25,  5.06s/it]"
          ]
        },
        {
          "name": "stdout",
          "output_type": "stream",
          "text": [
            "{'loss': 1.1746, 'learning_rate': 1.452e-05, 'epoch': 37.9}\n"
          ]
        },
        {
          "name": "stderr",
          "output_type": "stream",
          "text": [
            " 76%|███████▌  | 759/1000 [1:52:55<20:23,  5.08s/it]"
          ]
        },
        {
          "name": "stdout",
          "output_type": "stream",
          "text": [
            "{'loss': 0.8999, 'learning_rate': 1.446e-05, 'epoch': 37.95}\n"
          ]
        },
        {
          "name": "stderr",
          "output_type": "stream",
          "text": [
            " 76%|███████▌  | 760/1000 [1:53:00<20:32,  5.13s/it]"
          ]
        },
        {
          "name": "stdout",
          "output_type": "stream",
          "text": [
            "{'loss': 1.3366, 'learning_rate': 1.44e-05, 'epoch': 38.0}\n"
          ]
        },
        {
          "name": "stderr",
          "output_type": "stream",
          "text": [
            "C:\\Users\\kuian\\.cache\\huggingface\\modules\\evaluate_modules\\metrics\\evaluate-metric--mean_iou\\08bc20f4f895f3caf75fb9e3fada1404bded3c3265243d05327cbb3b9326ffe9\\mean_iou.py:259: RuntimeWarning: invalid value encountered in divide\n",
            "  iou = total_area_intersect / total_area_union\n",
            "C:\\Users\\kuian\\.cache\\huggingface\\modules\\evaluate_modules\\metrics\\evaluate-metric--mean_iou\\08bc20f4f895f3caf75fb9e3fada1404bded3c3265243d05327cbb3b9326ffe9\\mean_iou.py:260: RuntimeWarning: invalid value encountered in divide\n",
            "  acc = total_area_intersect / total_area_label\n",
            "                                                    \n",
            " 76%|███████▌  | 760/1000 [1:53:29<20:32,  5.13s/it]"
          ]
        },
        {
          "name": "stdout",
          "output_type": "stream",
          "text": [
            "{'eval_loss': 1.7868359088897705, 'eval_mean_iou': 0.101980026877203, 'eval_mean_accuracy': 0.1571629037732966, 'eval_overall_accuracy': 0.6166081370201703, 'eval_per_category_iou': [0.5699566687461538, nan, nan, 0.6170209545490322, 0.0, 0.5515344873576774, nan, nan, 0.1489258845212557, nan, 0.5315167188571523, nan, 0.0, nan, 0.3895016291393872, 0.0, nan, 0.0, 0.31577016508849337, 0.0, nan, nan, 0.0, nan, 0.0, nan, nan, 0.11736556139304248, nan, nan, nan, 0.0, 0.0, nan, nan, nan, nan, 0.13840689872090586, nan, nan, nan, 0.0, 0.0, 0.0, nan, nan, nan, 0.11476953948850258, nan, nan, nan, nan, nan, nan, nan, nan, nan, nan, 0.1847919621609111, nan, nan, nan, nan, 0.0, nan, 0.36913004371744723, nan, nan, nan, nan, 0.0, nan, nan, nan, nan, nan, nan, nan, nan, nan, nan, 0.03051056134815898, 0.0, nan, nan, nan, nan, 0.0, nan, 0.0, nan, nan, nan, nan, nan, nan, 0.0, nan, 0.0, nan, nan, nan, nan, nan, 0.0, nan, nan, nan, nan, nan, nan, nan, nan, nan, nan, nan, nan, nan, nan, nan, nan, nan, nan, nan, nan, 0.0, nan, nan, nan, nan, nan, nan, nan, nan, 0.0, nan, nan, 0.0, 0.0, nan, nan, nan, nan, nan, nan, 0.0, nan, nan, 0.0, 0.0], 'eval_per_category_accuracy': [0.7601559631390586, nan, nan, 0.7625823106854235, 0.0, 0.705449533788546, nan, nan, 0.8799690549869079, nan, 0.6347248670462058, nan, 0.0, nan, 0.5341020038123576, 0.0, nan, 0.0, 0.34074081999486433, 0.0, nan, nan, 0.0, nan, 0.0, nan, nan, 0.18045706056989555, nan, nan, nan, 0.0, 0.0, nan, nan, nan, nan, 0.5583694617743471, nan, nan, nan, 0.0, 0.0, 0.0, nan, nan, nan, 0.1535279938643585, nan, nan, nan, nan, nan, nan, nan, nan, nan, nan, 0.28859539366977155, nan, nan, nan, nan, 0.0, nan, 0.4482688546244316, nan, nan, nan, nan, 0.0, nan, nan, nan, nan, nan, nan, nan, nan, nan, nan, 0.03957283297569739, 0.0, nan, nan, nan, nan, 0.0, nan, 0.0, nan, nan, nan, nan, nan, nan, 0.0, nan, 0.0, nan, nan, nan, nan, nan, 0.0, nan, nan, nan, nan, nan, nan, nan, nan, nan, nan, nan, nan, nan, nan, nan, nan, nan, nan, nan, nan, 0.0, nan, nan, nan, nan, nan, nan, nan, nan, 0.0, nan, nan, 0.0, 0.0, nan, nan, nan, nan, nan, nan, 0.0, nan, nan, 0.0, 0.0], 'eval_runtime': 29.6292, 'eval_samples_per_second': 0.338, 'eval_steps_per_second': 0.169, 'epoch': 38.0}\n"
          ]
        },
        {
          "name": "stderr",
          "output_type": "stream",
          "text": [
            " 76%|███████▌  | 761/1000 [1:53:35<56:10, 14.10s/it]"
          ]
        },
        {
          "name": "stdout",
          "output_type": "stream",
          "text": [
            "{'loss': 1.1181, 'learning_rate': 1.434e-05, 'epoch': 38.05}\n"
          ]
        },
        {
          "name": "stderr",
          "output_type": "stream",
          "text": [
            " 76%|███████▌  | 762/1000 [1:53:40<45:21, 11.43s/it]"
          ]
        },
        {
          "name": "stdout",
          "output_type": "stream",
          "text": [
            "{'loss': 1.1285, 'learning_rate': 1.428e-05, 'epoch': 38.1}\n"
          ]
        },
        {
          "name": "stderr",
          "output_type": "stream",
          "text": [
            " 76%|███████▋  | 763/1000 [1:53:45<37:45,  9.56s/it]"
          ]
        },
        {
          "name": "stdout",
          "output_type": "stream",
          "text": [
            "{'loss': 1.0655, 'learning_rate': 1.422e-05, 'epoch': 38.15}\n"
          ]
        },
        {
          "name": "stderr",
          "output_type": "stream",
          "text": [
            " 76%|███████▋  | 764/1000 [1:53:50<32:18,  8.22s/it]"
          ]
        },
        {
          "name": "stdout",
          "output_type": "stream",
          "text": [
            "{'loss': 1.0305, 'learning_rate': 1.416e-05, 'epoch': 38.2}\n"
          ]
        },
        {
          "name": "stderr",
          "output_type": "stream",
          "text": [
            " 76%|███████▋  | 765/1000 [1:53:55<28:22,  7.24s/it]"
          ]
        },
        {
          "name": "stdout",
          "output_type": "stream",
          "text": [
            "{'loss': 1.14, 'learning_rate': 1.4099999999999999e-05, 'epoch': 38.25}\n"
          ]
        },
        {
          "name": "stderr",
          "output_type": "stream",
          "text": [
            " 77%|███████▋  | 766/1000 [1:54:00<25:43,  6.60s/it]"
          ]
        },
        {
          "name": "stdout",
          "output_type": "stream",
          "text": [
            "{'loss': 1.1007, 'learning_rate': 1.4040000000000001e-05, 'epoch': 38.3}\n"
          ]
        },
        {
          "name": "stderr",
          "output_type": "stream",
          "text": [
            " 77%|███████▋  | 767/1000 [1:54:05<23:46,  6.12s/it]"
          ]
        },
        {
          "name": "stdout",
          "output_type": "stream",
          "text": [
            "{'loss': 1.9838, 'learning_rate': 1.3980000000000002e-05, 'epoch': 38.35}\n"
          ]
        },
        {
          "name": "stderr",
          "output_type": "stream",
          "text": [
            " 77%|███████▋  | 768/1000 [1:54:10<22:24,  5.79s/it]"
          ]
        },
        {
          "name": "stdout",
          "output_type": "stream",
          "text": [
            "{'loss': 1.1202, 'learning_rate': 1.392e-05, 'epoch': 38.4}\n"
          ]
        },
        {
          "name": "stderr",
          "output_type": "stream",
          "text": [
            " 77%|███████▋  | 769/1000 [1:54:15<21:26,  5.57s/it]"
          ]
        },
        {
          "name": "stdout",
          "output_type": "stream",
          "text": [
            "{'loss': 1.2808, 'learning_rate': 1.3860000000000001e-05, 'epoch': 38.45}\n"
          ]
        },
        {
          "name": "stderr",
          "output_type": "stream",
          "text": [
            " 77%|███████▋  | 770/1000 [1:54:21<21:04,  5.50s/it]"
          ]
        },
        {
          "name": "stdout",
          "output_type": "stream",
          "text": [
            "{'loss': 1.1164, 'learning_rate': 1.3800000000000002e-05, 'epoch': 38.5}\n"
          ]
        },
        {
          "name": "stderr",
          "output_type": "stream",
          "text": [
            " 77%|███████▋  | 771/1000 [1:54:26<20:43,  5.43s/it]"
          ]
        },
        {
          "name": "stdout",
          "output_type": "stream",
          "text": [
            "{'loss': 1.0166, 'learning_rate': 1.374e-05, 'epoch': 38.55}\n"
          ]
        },
        {
          "name": "stderr",
          "output_type": "stream",
          "text": [
            " 77%|███████▋  | 772/1000 [1:54:31<20:18,  5.35s/it]"
          ]
        },
        {
          "name": "stdout",
          "output_type": "stream",
          "text": [
            "{'loss': 1.0496, 'learning_rate': 1.3680000000000001e-05, 'epoch': 38.6}\n"
          ]
        },
        {
          "name": "stderr",
          "output_type": "stream",
          "text": [
            " 77%|███████▋  | 773/1000 [1:54:36<19:55,  5.27s/it]"
          ]
        },
        {
          "name": "stdout",
          "output_type": "stream",
          "text": [
            "{'loss': 1.4267, 'learning_rate': 1.362e-05, 'epoch': 38.65}\n"
          ]
        },
        {
          "name": "stderr",
          "output_type": "stream",
          "text": [
            " 77%|███████▋  | 774/1000 [1:54:41<19:24,  5.15s/it]"
          ]
        },
        {
          "name": "stdout",
          "output_type": "stream",
          "text": [
            "{'loss': 1.011, 'learning_rate': 1.356e-05, 'epoch': 38.7}\n"
          ]
        },
        {
          "name": "stderr",
          "output_type": "stream",
          "text": [
            " 78%|███████▊  | 775/1000 [1:54:46<19:18,  5.15s/it]"
          ]
        },
        {
          "name": "stdout",
          "output_type": "stream",
          "text": [
            "{'loss': 0.9816, 'learning_rate': 1.3500000000000001e-05, 'epoch': 38.75}\n"
          ]
        },
        {
          "name": "stderr",
          "output_type": "stream",
          "text": [
            " 78%|███████▊  | 776/1000 [1:54:51<19:16,  5.16s/it]"
          ]
        },
        {
          "name": "stdout",
          "output_type": "stream",
          "text": [
            "{'loss': 0.9414, 'learning_rate': 1.344e-05, 'epoch': 38.8}\n"
          ]
        },
        {
          "name": "stderr",
          "output_type": "stream",
          "text": [
            " 78%|███████▊  | 777/1000 [1:54:57<19:19,  5.20s/it]"
          ]
        },
        {
          "name": "stdout",
          "output_type": "stream",
          "text": [
            "{'loss': 1.3129, 'learning_rate': 1.338e-05, 'epoch': 38.85}\n"
          ]
        },
        {
          "name": "stderr",
          "output_type": "stream",
          "text": [
            " 78%|███████▊  | 778/1000 [1:55:02<19:12,  5.19s/it]"
          ]
        },
        {
          "name": "stdout",
          "output_type": "stream",
          "text": [
            "{'loss': 1.2758, 'learning_rate': 1.3320000000000001e-05, 'epoch': 38.9}\n"
          ]
        },
        {
          "name": "stderr",
          "output_type": "stream",
          "text": [
            " 78%|███████▊  | 779/1000 [1:55:07<19:02,  5.17s/it]"
          ]
        },
        {
          "name": "stdout",
          "output_type": "stream",
          "text": [
            "{'loss': 1.6211, 'learning_rate': 1.326e-05, 'epoch': 38.95}\n"
          ]
        },
        {
          "name": "stderr",
          "output_type": "stream",
          "text": [
            " 78%|███████▊  | 780/1000 [1:55:12<18:53,  5.15s/it]"
          ]
        },
        {
          "name": "stdout",
          "output_type": "stream",
          "text": [
            "{'loss': 0.9255, 'learning_rate': 1.32e-05, 'epoch': 39.0}\n"
          ]
        },
        {
          "name": "stderr",
          "output_type": "stream",
          "text": [
            "C:\\Users\\kuian\\.cache\\huggingface\\modules\\evaluate_modules\\metrics\\evaluate-metric--mean_iou\\08bc20f4f895f3caf75fb9e3fada1404bded3c3265243d05327cbb3b9326ffe9\\mean_iou.py:259: RuntimeWarning: invalid value encountered in divide\n",
            "  iou = total_area_intersect / total_area_union\n",
            "C:\\Users\\kuian\\.cache\\huggingface\\modules\\evaluate_modules\\metrics\\evaluate-metric--mean_iou\\08bc20f4f895f3caf75fb9e3fada1404bded3c3265243d05327cbb3b9326ffe9\\mean_iou.py:260: RuntimeWarning: invalid value encountered in divide\n",
            "  acc = total_area_intersect / total_area_label\n",
            "                                                    \n",
            " 78%|███████▊  | 780/1000 [1:55:42<18:53,  5.15s/it]"
          ]
        },
        {
          "name": "stdout",
          "output_type": "stream",
          "text": [
            "{'eval_loss': 1.7674596309661865, 'eval_mean_iou': 0.10157438041208418, 'eval_mean_accuracy': 0.15578488021599177, 'eval_overall_accuracy': 0.6261401080210086, 'eval_per_category_iou': [0.5783447300611341, nan, nan, 0.6132564071495369, 0.0, 0.5406022047935063, nan, nan, 0.15764593873506846, nan, 0.5525698843147118, nan, 0.0, 0.0, 0.38237587820397795, 0.0, nan, 0.0, 0.2842487139076392, 0.0, nan, nan, 0.0, nan, 0.0, nan, nan, 0.12376652556399981, nan, nan, nan, 0.0, 0.0, nan, nan, nan, nan, 0.147690440713375, nan, nan, nan, 0.0, 0.0, 0.0, nan, nan, nan, 0.17149782060553936, nan, nan, nan, nan, nan, nan, nan, nan, nan, nan, 0.1925838336458245, nan, nan, nan, nan, 0.0, nan, 0.38486285487476235, nan, nan, nan, nan, 0.0, nan, nan, nan, nan, nan, nan, nan, nan, nan, nan, 0.03510436432637571, 0.0, nan, nan, nan, nan, 0.0, nan, 0.0, nan, nan, nan, nan, nan, nan, 0.0, nan, 0.0, nan, nan, nan, nan, nan, 0.0, nan, nan, nan, nan, nan, nan, nan, nan, nan, nan, nan, nan, nan, nan, nan, nan, nan, nan, nan, nan, 0.0, nan, nan, nan, nan, nan, nan, nan, nan, 0.0, nan, nan, 0.0, 0.0, nan, nan, nan, nan, nan, nan, 0.0, nan, nan, 0.0, 0.0], 'eval_per_category_accuracy': [0.8034684143653621, nan, nan, 0.7385026938042503, 0.0, 0.6637486363820015, nan, nan, 0.8474172815996192, nan, 0.6395299503704946, nan, 0.0, nan, 0.5151843414384676, 0.0, nan, 0.0, 0.3068240178036463, 0.0, nan, nan, 0.0, nan, 0.0, nan, nan, 0.17331610561511832, nan, nan, nan, 0.0, 0.0, nan, nan, nan, nan, 0.5083271650629163, nan, nan, nan, 0.0, 0.0, 0.0, nan, nan, nan, 0.24033088638106717, nan, nan, nan, nan, nan, nan, nan, nan, nan, nan, 0.27321933361138145, nan, nan, nan, nan, 0.0, nan, 0.4679807960982549, nan, nan, nan, nan, 0.0, nan, nan, nan, nan, nan, nan, nan, nan, nan, nan, 0.053545586107091175, 0.0, nan, nan, nan, nan, 0.0, nan, 0.0, nan, nan, nan, nan, nan, nan, 0.0, nan, 0.0, nan, nan, nan, nan, nan, 0.0, nan, nan, nan, nan, nan, nan, nan, nan, nan, nan, nan, nan, nan, nan, nan, nan, nan, nan, nan, nan, 0.0, nan, nan, nan, nan, nan, nan, nan, nan, 0.0, nan, nan, 0.0, 0.0, nan, nan, nan, nan, nan, nan, 0.0, nan, nan, 0.0, 0.0], 'eval_runtime': 29.4641, 'eval_samples_per_second': 0.339, 'eval_steps_per_second': 0.17, 'epoch': 39.0}\n"
          ]
        },
        {
          "name": "stderr",
          "output_type": "stream",
          "text": [
            " 78%|███████▊  | 781/1000 [1:55:47<51:17, 14.05s/it]"
          ]
        },
        {
          "name": "stdout",
          "output_type": "stream",
          "text": [
            "{'loss': 1.1651, 'learning_rate': 1.314e-05, 'epoch': 39.05}\n"
          ]
        },
        {
          "name": "stderr",
          "output_type": "stream",
          "text": [
            " 78%|███████▊  | 782/1000 [1:55:52<41:23, 11.39s/it]"
          ]
        },
        {
          "name": "stdout",
          "output_type": "stream",
          "text": [
            "{'loss': 1.0046, 'learning_rate': 1.308e-05, 'epoch': 39.1}\n"
          ]
        },
        {
          "name": "stderr",
          "output_type": "stream",
          "text": [
            " 78%|███████▊  | 783/1000 [1:55:57<34:25,  9.52s/it]"
          ]
        },
        {
          "name": "stdout",
          "output_type": "stream",
          "text": [
            "{'loss': 1.1278, 'learning_rate': 1.302e-05, 'epoch': 39.15}\n"
          ]
        },
        {
          "name": "stderr",
          "output_type": "stream",
          "text": [
            " 78%|███████▊  | 784/1000 [1:56:03<29:37,  8.23s/it]"
          ]
        },
        {
          "name": "stdout",
          "output_type": "stream",
          "text": [
            "{'loss': 1.3727, 'learning_rate': 1.296e-05, 'epoch': 39.2}\n"
          ]
        },
        {
          "name": "stderr",
          "output_type": "stream",
          "text": [
            " 78%|███████▊  | 785/1000 [1:56:08<26:02,  7.27s/it]"
          ]
        },
        {
          "name": "stdout",
          "output_type": "stream",
          "text": [
            "{'loss': 1.1437, 'learning_rate': 1.29e-05, 'epoch': 39.25}\n"
          ]
        },
        {
          "name": "stderr",
          "output_type": "stream",
          "text": [
            " 79%|███████▊  | 786/1000 [1:56:13<23:44,  6.65s/it]"
          ]
        },
        {
          "name": "stdout",
          "output_type": "stream",
          "text": [
            "{'loss': 0.9911, 'learning_rate': 1.284e-05, 'epoch': 39.3}\n"
          ]
        },
        {
          "name": "stderr",
          "output_type": "stream",
          "text": [
            " 79%|███████▊  | 787/1000 [1:56:18<22:10,  6.25s/it]"
          ]
        },
        {
          "name": "stdout",
          "output_type": "stream",
          "text": [
            "{'loss': 1.3563, 'learning_rate': 1.278e-05, 'epoch': 39.35}\n"
          ]
        },
        {
          "name": "stderr",
          "output_type": "stream",
          "text": [
            " 79%|███████▉  | 788/1000 [1:56:23<21:00,  5.95s/it]"
          ]
        },
        {
          "name": "stdout",
          "output_type": "stream",
          "text": [
            "{'loss': 1.4732, 'learning_rate': 1.272e-05, 'epoch': 39.4}\n"
          ]
        },
        {
          "name": "stderr",
          "output_type": "stream",
          "text": [
            " 79%|███████▉  | 789/1000 [1:56:29<20:10,  5.74s/it]"
          ]
        },
        {
          "name": "stdout",
          "output_type": "stream",
          "text": [
            "{'loss': 1.0337, 'learning_rate': 1.2659999999999999e-05, 'epoch': 39.45}\n"
          ]
        },
        {
          "name": "stderr",
          "output_type": "stream",
          "text": [
            " 79%|███████▉  | 790/1000 [1:56:34<19:24,  5.54s/it]"
          ]
        },
        {
          "name": "stdout",
          "output_type": "stream",
          "text": [
            "{'loss': 1.2471, 'learning_rate': 1.26e-05, 'epoch': 39.5}\n"
          ]
        },
        {
          "name": "stderr",
          "output_type": "stream",
          "text": [
            " 79%|███████▉  | 791/1000 [1:56:39<18:56,  5.44s/it]"
          ]
        },
        {
          "name": "stdout",
          "output_type": "stream",
          "text": [
            "{'loss': 1.1879, 'learning_rate': 1.254e-05, 'epoch': 39.55}\n"
          ]
        },
        {
          "name": "stderr",
          "output_type": "stream",
          "text": [
            " 79%|███████▉  | 792/1000 [1:56:44<18:29,  5.33s/it]"
          ]
        },
        {
          "name": "stdout",
          "output_type": "stream",
          "text": [
            "{'loss': 1.3452, 'learning_rate': 1.2479999999999999e-05, 'epoch': 39.6}\n"
          ]
        },
        {
          "name": "stderr",
          "output_type": "stream",
          "text": [
            " 79%|███████▉  | 793/1000 [1:56:49<18:11,  5.27s/it]"
          ]
        },
        {
          "name": "stdout",
          "output_type": "stream",
          "text": [
            "{'loss': 1.3771, 'learning_rate': 1.242e-05, 'epoch': 39.65}\n"
          ]
        },
        {
          "name": "stderr",
          "output_type": "stream",
          "text": [
            " 79%|███████▉  | 794/1000 [1:56:54<17:54,  5.22s/it]"
          ]
        },
        {
          "name": "stdout",
          "output_type": "stream",
          "text": [
            "{'loss': 2.0998, 'learning_rate': 1.236e-05, 'epoch': 39.7}\n"
          ]
        },
        {
          "name": "stderr",
          "output_type": "stream",
          "text": [
            " 80%|███████▉  | 795/1000 [1:56:59<17:49,  5.21s/it]"
          ]
        },
        {
          "name": "stdout",
          "output_type": "stream",
          "text": [
            "{'loss': 1.1004, 'learning_rate': 1.2299999999999999e-05, 'epoch': 39.75}\n"
          ]
        },
        {
          "name": "stderr",
          "output_type": "stream",
          "text": [
            " 80%|███████▉  | 796/1000 [1:57:05<17:45,  5.22s/it]"
          ]
        },
        {
          "name": "stdout",
          "output_type": "stream",
          "text": [
            "{'loss': 1.2667, 'learning_rate': 1.224e-05, 'epoch': 39.8}\n"
          ]
        },
        {
          "name": "stderr",
          "output_type": "stream",
          "text": [
            " 80%|███████▉  | 797/1000 [1:57:10<17:36,  5.21s/it]"
          ]
        },
        {
          "name": "stdout",
          "output_type": "stream",
          "text": [
            "{'loss': 1.2071, 'learning_rate': 1.2180000000000002e-05, 'epoch': 39.85}\n"
          ]
        },
        {
          "name": "stderr",
          "output_type": "stream",
          "text": [
            " 80%|███████▉  | 798/1000 [1:57:15<17:29,  5.20s/it]"
          ]
        },
        {
          "name": "stdout",
          "output_type": "stream",
          "text": [
            "{'loss': 0.9327, 'learning_rate': 1.2120000000000001e-05, 'epoch': 39.9}\n"
          ]
        },
        {
          "name": "stderr",
          "output_type": "stream",
          "text": [
            " 80%|███████▉  | 799/1000 [1:57:20<17:21,  5.18s/it]"
          ]
        },
        {
          "name": "stdout",
          "output_type": "stream",
          "text": [
            "{'loss': 1.0572, 'learning_rate': 1.2060000000000001e-05, 'epoch': 39.95}\n"
          ]
        },
        {
          "name": "stderr",
          "output_type": "stream",
          "text": [
            " 80%|████████  | 800/1000 [1:57:25<17:18,  5.19s/it]"
          ]
        },
        {
          "name": "stdout",
          "output_type": "stream",
          "text": [
            "{'loss': 0.8433, 'learning_rate': 1.2e-05, 'epoch': 40.0}\n"
          ]
        },
        {
          "name": "stderr",
          "output_type": "stream",
          "text": [
            "C:\\Users\\kuian\\.cache\\huggingface\\modules\\evaluate_modules\\metrics\\evaluate-metric--mean_iou\\08bc20f4f895f3caf75fb9e3fada1404bded3c3265243d05327cbb3b9326ffe9\\mean_iou.py:259: RuntimeWarning: invalid value encountered in divide\n",
            "  iou = total_area_intersect / total_area_union\n",
            "C:\\Users\\kuian\\.cache\\huggingface\\modules\\evaluate_modules\\metrics\\evaluate-metric--mean_iou\\08bc20f4f895f3caf75fb9e3fada1404bded3c3265243d05327cbb3b9326ffe9\\mean_iou.py:260: RuntimeWarning: invalid value encountered in divide\n",
            "  acc = total_area_intersect / total_area_label\n",
            "                                                    \n",
            " 80%|████████  | 800/1000 [1:57:55<17:18,  5.19s/it]"
          ]
        },
        {
          "name": "stdout",
          "output_type": "stream",
          "text": [
            "{'eval_loss': 1.8104625940322876, 'eval_mean_iou': 0.10015462455407656, 'eval_mean_accuracy': 0.15437800448877137, 'eval_overall_accuracy': 0.6093823347311241, 'eval_per_category_iou': [0.5689031508486467, nan, nan, 0.603775144054895, 0.0, 0.550808427957327, nan, nan, 0.14840686152218818, nan, 0.5565722898051458, nan, 0.0, nan, 0.3705684871800414, 0.0, nan, 0.0, 0.20346625480704444, 0.0, nan, nan, 0.0, nan, 0.0, nan, nan, 0.13507674207176854, nan, nan, nan, 0.0, 0.0, nan, nan, nan, nan, 0.14272941673413356, nan, nan, nan, 0.0, 0.0, 0.0, nan, nan, nan, 0.15186130896384895, nan, nan, nan, nan, nan, nan, nan, nan, nan, nan, 0.19868805688689084, nan, nan, nan, nan, 0.0, nan, 0.37298382696379073, nan, nan, nan, nan, 0.0, nan, nan, nan, nan, nan, nan, nan, nan, nan, nan, 0.0023450143673415464, 0.0, nan, nan, nan, nan, 0.0, nan, 0.0, nan, nan, nan, nan, nan, nan, 0.0, nan, 0.0, nan, nan, nan, nan, nan, 0.0, nan, nan, nan, nan, nan, nan, nan, nan, nan, nan, nan, nan, nan, nan, nan, nan, nan, nan, nan, nan, 0.0, nan, nan, nan, nan, nan, nan, nan, nan, 0.0, nan, nan, 0.0, 0.0, nan, nan, nan, nan, nan, nan, 0.0, nan, nan, 0.0, 0.0], 'eval_per_category_accuracy': [0.7706699522099943, nan, nan, 0.7107527686321461, 0.0, 0.6770413866479913, nan, nan, 0.8850273744346584, nan, 0.6631409655553473, nan, 0.0, nan, 0.478288158445302, 0.0, nan, 0.0, 0.21001669091842848, 0.0, nan, nan, 0.0, nan, 0.0, nan, nan, 0.2491246412261927, nan, nan, nan, 0.0, 0.0, nan, nan, nan, nan, 0.5359522047160833, nan, nan, nan, 0.0, 0.0, 0.0, nan, nan, nan, 0.21666484058288593, nan, nan, nan, nan, nan, nan, nan, nan, nan, nan, 0.34080355901570974, nan, nan, nan, nan, 0.0, nan, 0.43409454619351234, nan, nan, nan, nan, 0.0, nan, nan, nan, nan, nan, nan, nan, nan, nan, nan, 0.003543090972603423, 0.0, nan, nan, nan, nan, 0.0, nan, 0.0, nan, nan, nan, nan, nan, nan, 0.0, nan, 0.0, nan, nan, nan, nan, nan, 0.0, nan, nan, nan, nan, nan, nan, nan, nan, nan, nan, nan, nan, nan, nan, nan, nan, nan, nan, nan, nan, 0.0, nan, nan, nan, nan, nan, nan, nan, nan, 0.0, nan, nan, 0.0, 0.0, nan, nan, nan, nan, nan, nan, 0.0, nan, nan, 0.0, 0.0], 'eval_runtime': 29.4518, 'eval_samples_per_second': 0.34, 'eval_steps_per_second': 0.17, 'epoch': 40.0}\n"
          ]
        },
        {
          "name": "stderr",
          "output_type": "stream",
          "text": [
            " 80%|████████  | 801/1000 [1:58:00<46:39, 14.07s/it]"
          ]
        },
        {
          "name": "stdout",
          "output_type": "stream",
          "text": [
            "{'loss': 1.1844, 'learning_rate': 1.1940000000000001e-05, 'epoch': 40.05}\n"
          ]
        },
        {
          "name": "stderr",
          "output_type": "stream",
          "text": [
            " 80%|████████  | 802/1000 [1:58:05<37:33, 11.38s/it]"
          ]
        },
        {
          "name": "stdout",
          "output_type": "stream",
          "text": [
            "{'loss': 1.2856, 'learning_rate': 1.1880000000000001e-05, 'epoch': 40.1}\n"
          ]
        },
        {
          "name": "stderr",
          "output_type": "stream",
          "text": [
            " 80%|████████  | 803/1000 [1:58:10<31:19,  9.54s/it]"
          ]
        },
        {
          "name": "stdout",
          "output_type": "stream",
          "text": [
            "{'loss': 1.0492, 'learning_rate': 1.182e-05, 'epoch': 40.15}\n"
          ]
        },
        {
          "name": "stderr",
          "output_type": "stream",
          "text": [
            " 80%|████████  | 804/1000 [1:58:16<26:51,  8.22s/it]"
          ]
        },
        {
          "name": "stdout",
          "output_type": "stream",
          "text": [
            "{'loss': 1.4116, 'learning_rate': 1.1760000000000001e-05, 'epoch': 40.2}\n"
          ]
        },
        {
          "name": "stderr",
          "output_type": "stream",
          "text": [
            " 80%|████████  | 805/1000 [1:58:21<23:48,  7.33s/it]"
          ]
        },
        {
          "name": "stdout",
          "output_type": "stream",
          "text": [
            "{'loss': 1.1382, 'learning_rate': 1.1700000000000001e-05, 'epoch': 40.25}\n"
          ]
        },
        {
          "name": "stderr",
          "output_type": "stream",
          "text": [
            " 81%|████████  | 806/1000 [1:58:26<21:41,  6.71s/it]"
          ]
        },
        {
          "name": "stdout",
          "output_type": "stream",
          "text": [
            "{'loss': 1.1274, 'learning_rate': 1.164e-05, 'epoch': 40.3}\n"
          ]
        },
        {
          "name": "stderr",
          "output_type": "stream",
          "text": [
            " 81%|████████  | 807/1000 [1:58:31<20:09,  6.27s/it]"
          ]
        },
        {
          "name": "stdout",
          "output_type": "stream",
          "text": [
            "{'loss': 1.0615, 'learning_rate': 1.1580000000000001e-05, 'epoch': 40.35}\n"
          ]
        },
        {
          "name": "stderr",
          "output_type": "stream",
          "text": [
            " 81%|████████  | 808/1000 [1:58:36<18:58,  5.93s/it]"
          ]
        },
        {
          "name": "stdout",
          "output_type": "stream",
          "text": [
            "{'loss': 0.8296, 'learning_rate': 1.152e-05, 'epoch': 40.4}\n"
          ]
        },
        {
          "name": "stderr",
          "output_type": "stream",
          "text": [
            " 81%|████████  | 809/1000 [1:58:42<18:09,  5.70s/it]"
          ]
        },
        {
          "name": "stdout",
          "output_type": "stream",
          "text": [
            "{'loss': 1.2886, 'learning_rate': 1.146e-05, 'epoch': 40.45}\n"
          ]
        },
        {
          "name": "stderr",
          "output_type": "stream",
          "text": [
            " 81%|████████  | 810/1000 [1:58:47<17:30,  5.53s/it]"
          ]
        },
        {
          "name": "stdout",
          "output_type": "stream",
          "text": [
            "{'loss': 1.2665, 'learning_rate': 1.1400000000000001e-05, 'epoch': 40.5}\n"
          ]
        },
        {
          "name": "stderr",
          "output_type": "stream",
          "text": [
            " 81%|████████  | 811/1000 [1:58:52<17:02,  5.41s/it]"
          ]
        },
        {
          "name": "stdout",
          "output_type": "stream",
          "text": [
            "{'loss': 0.9645, 'learning_rate': 1.134e-05, 'epoch': 40.55}\n"
          ]
        },
        {
          "name": "stderr",
          "output_type": "stream",
          "text": [
            " 81%|████████  | 812/1000 [1:58:57<16:46,  5.36s/it]"
          ]
        },
        {
          "name": "stdout",
          "output_type": "stream",
          "text": [
            "{'loss': 1.2752, 'learning_rate': 1.128e-05, 'epoch': 40.6}\n"
          ]
        },
        {
          "name": "stderr",
          "output_type": "stream",
          "text": [
            " 81%|████████▏ | 813/1000 [1:59:02<16:37,  5.34s/it]"
          ]
        },
        {
          "name": "stdout",
          "output_type": "stream",
          "text": [
            "{'loss': 1.3104, 'learning_rate': 1.1220000000000001e-05, 'epoch': 40.65}\n"
          ]
        },
        {
          "name": "stderr",
          "output_type": "stream",
          "text": [
            " 81%|████████▏ | 814/1000 [1:59:08<16:22,  5.28s/it]"
          ]
        },
        {
          "name": "stdout",
          "output_type": "stream",
          "text": [
            "{'loss': 1.9318, 'learning_rate': 1.116e-05, 'epoch': 40.7}\n"
          ]
        },
        {
          "name": "stderr",
          "output_type": "stream",
          "text": [
            " 82%|████████▏ | 815/1000 [1:59:13<16:15,  5.27s/it]"
          ]
        },
        {
          "name": "stdout",
          "output_type": "stream",
          "text": [
            "{'loss': 0.8849, 'learning_rate': 1.11e-05, 'epoch': 40.75}\n"
          ]
        },
        {
          "name": "stderr",
          "output_type": "stream",
          "text": [
            " 82%|████████▏ | 816/1000 [1:59:18<16:01,  5.23s/it]"
          ]
        },
        {
          "name": "stdout",
          "output_type": "stream",
          "text": [
            "{'loss': 1.0331, 'learning_rate': 1.104e-05, 'epoch': 40.8}\n"
          ]
        },
        {
          "name": "stderr",
          "output_type": "stream",
          "text": [
            " 82%|████████▏ | 817/1000 [1:59:23<15:46,  5.17s/it]"
          ]
        },
        {
          "name": "stdout",
          "output_type": "stream",
          "text": [
            "{'loss': 1.2141, 'learning_rate': 1.098e-05, 'epoch': 40.85}\n"
          ]
        },
        {
          "name": "stderr",
          "output_type": "stream",
          "text": [
            " 82%|████████▏ | 818/1000 [1:59:28<15:37,  5.15s/it]"
          ]
        },
        {
          "name": "stdout",
          "output_type": "stream",
          "text": [
            "{'loss': 0.868, 'learning_rate': 1.092e-05, 'epoch': 40.9}\n"
          ]
        },
        {
          "name": "stderr",
          "output_type": "stream",
          "text": [
            " 82%|████████▏ | 819/1000 [1:59:33<15:31,  5.15s/it]"
          ]
        },
        {
          "name": "stdout",
          "output_type": "stream",
          "text": [
            "{'loss': 0.9873, 'learning_rate': 1.086e-05, 'epoch': 40.95}\n"
          ]
        },
        {
          "name": "stderr",
          "output_type": "stream",
          "text": [
            " 82%|████████▏ | 820/1000 [1:59:38<15:29,  5.16s/it]"
          ]
        },
        {
          "name": "stdout",
          "output_type": "stream",
          "text": [
            "{'loss': 1.2342, 'learning_rate': 1.08e-05, 'epoch': 41.0}\n"
          ]
        },
        {
          "name": "stderr",
          "output_type": "stream",
          "text": [
            "C:\\Users\\kuian\\.cache\\huggingface\\modules\\evaluate_modules\\metrics\\evaluate-metric--mean_iou\\08bc20f4f895f3caf75fb9e3fada1404bded3c3265243d05327cbb3b9326ffe9\\mean_iou.py:259: RuntimeWarning: invalid value encountered in divide\n",
            "  iou = total_area_intersect / total_area_union\n",
            "C:\\Users\\kuian\\.cache\\huggingface\\modules\\evaluate_modules\\metrics\\evaluate-metric--mean_iou\\08bc20f4f895f3caf75fb9e3fada1404bded3c3265243d05327cbb3b9326ffe9\\mean_iou.py:260: RuntimeWarning: invalid value encountered in divide\n",
            "  acc = total_area_intersect / total_area_label\n",
            "                                                    \n",
            " 82%|████████▏ | 820/1000 [2:00:08<15:29,  5.16s/it]"
          ]
        },
        {
          "name": "stdout",
          "output_type": "stream",
          "text": [
            "{'eval_loss': 1.7524545192718506, 'eval_mean_iou': 0.1007865455163203, 'eval_mean_accuracy': 0.1561239120826839, 'eval_overall_accuracy': 0.6300551354646644, 'eval_per_category_iou': [0.5837675204132231, nan, nan, 0.6308608833155591, 0.0, 0.5398669874270748, nan, nan, 0.17635494612161648, nan, 0.5392173940584025, nan, 0.0, 0.0, 0.38012863079827197, 0.0, nan, 0.0, 0.27516891557193524, 0.0, nan, nan, 0.0, nan, 0.0, nan, nan, 0.11337984659664561, nan, nan, nan, 0.0, 0.0, nan, nan, nan, nan, 0.1498396685281931, nan, nan, nan, 0.0, 0.0, 0.0, nan, nan, nan, 0.17199531463025905, nan, nan, nan, nan, nan, nan, nan, nan, nan, nan, 0.16446556278145968, nan, nan, nan, nan, 0.0, nan, 0.3716679209411019, nan, nan, nan, nan, 0.0, nan, nan, nan, nan, nan, nan, nan, nan, nan, nan, 0.035534774985388665, 0.0, nan, nan, nan, nan, 0.0, nan, 0.0, nan, nan, nan, nan, nan, nan, 0.0, nan, 0.0, nan, nan, nan, nan, nan, 0.0, nan, nan, nan, nan, nan, nan, nan, nan, nan, nan, nan, nan, nan, nan, nan, nan, nan, nan, nan, nan, 0.0, nan, nan, nan, nan, nan, nan, nan, nan, 0.0, nan, nan, 0.0, 0.0, nan, nan, nan, nan, nan, nan, 0.0, nan, nan, 0.0, 0.0], 'eval_per_category_accuracy': [0.8170109506633223, nan, nan, 0.7702035318766837, 0.0, 0.6588687918905693, nan, nan, 0.8541418709830992, nan, 0.6719321960316129, nan, 0.0, nan, 0.4737319261704403, 0.0, nan, 0.0, 0.29717324317384236, 0.0, nan, nan, 0.0, nan, 0.0, nan, nan, 0.14842139524791148, nan, nan, nan, 0.0, 0.0, nan, nan, nan, nan, 0.5496986359310564, nan, nan, nan, 0.0, 0.0, 0.0, nan, nan, nan, 0.24534348635915415, nan, nan, nan, nan, nan, nan, nan, nan, nan, nan, 0.22102970480559803, nan, nan, nan, nan, 0.0, nan, 0.4767190794320116, nan, nan, nan, nan, 0.0, nan, nan, nan, nan, nan, nan, nan, nan, nan, nan, 0.060681670742052995, 0.0, nan, nan, nan, nan, 0.0, nan, 0.0, nan, nan, nan, nan, nan, nan, 0.0, nan, 0.0, nan, nan, nan, nan, nan, 0.0, nan, nan, nan, nan, nan, nan, nan, nan, nan, nan, nan, nan, nan, nan, nan, nan, nan, nan, nan, nan, 0.0, nan, nan, nan, nan, nan, nan, nan, nan, 0.0, nan, nan, 0.0, 0.0, nan, nan, nan, nan, nan, nan, 0.0, nan, nan, 0.0, 0.0], 'eval_runtime': 29.2498, 'eval_samples_per_second': 0.342, 'eval_steps_per_second': 0.171, 'epoch': 41.0}\n"
          ]
        },
        {
          "name": "stderr",
          "output_type": "stream",
          "text": [
            " 82%|████████▏ | 821/1000 [2:00:13<41:39, 13.96s/it]"
          ]
        },
        {
          "name": "stdout",
          "output_type": "stream",
          "text": [
            "{'loss': 2.071, 'learning_rate': 1.074e-05, 'epoch': 41.05}\n"
          ]
        },
        {
          "name": "stderr",
          "output_type": "stream",
          "text": [
            " 82%|████████▏ | 822/1000 [2:00:18<33:38, 11.34s/it]"
          ]
        },
        {
          "name": "stdout",
          "output_type": "stream",
          "text": [
            "{'loss': 1.2445, 'learning_rate': 1.068e-05, 'epoch': 41.1}\n"
          ]
        },
        {
          "name": "stderr",
          "output_type": "stream",
          "text": [
            " 82%|████████▏ | 823/1000 [2:00:23<27:59,  9.49s/it]"
          ]
        },
        {
          "name": "stdout",
          "output_type": "stream",
          "text": [
            "{'loss': 0.9612, 'learning_rate': 1.062e-05, 'epoch': 41.15}\n"
          ]
        },
        {
          "name": "stderr",
          "output_type": "stream",
          "text": [
            " 82%|████████▏ | 824/1000 [2:00:29<24:02,  8.20s/it]"
          ]
        },
        {
          "name": "stdout",
          "output_type": "stream",
          "text": [
            "{'loss': 1.2924, 'learning_rate': 1.0559999999999999e-05, 'epoch': 41.2}\n"
          ]
        },
        {
          "name": "stderr",
          "output_type": "stream",
          "text": [
            " 82%|████████▎ | 825/1000 [2:00:34<21:10,  7.26s/it]"
          ]
        },
        {
          "name": "stdout",
          "output_type": "stream",
          "text": [
            "{'loss': 1.0933, 'learning_rate': 1.05e-05, 'epoch': 41.25}\n"
          ]
        },
        {
          "name": "stderr",
          "output_type": "stream",
          "text": [
            " 83%|████████▎ | 826/1000 [2:00:39<19:08,  6.60s/it]"
          ]
        },
        {
          "name": "stdout",
          "output_type": "stream",
          "text": [
            "{'loss': 0.9481, 'learning_rate': 1.044e-05, 'epoch': 41.3}\n"
          ]
        },
        {
          "name": "stderr",
          "output_type": "stream",
          "text": [
            " 83%|████████▎ | 827/1000 [2:00:44<17:55,  6.22s/it]"
          ]
        },
        {
          "name": "stdout",
          "output_type": "stream",
          "text": [
            "{'loss': 1.1242, 'learning_rate': 1.0379999999999999e-05, 'epoch': 41.35}\n"
          ]
        },
        {
          "name": "stderr",
          "output_type": "stream",
          "text": [
            " 83%|████████▎ | 828/1000 [2:00:49<16:48,  5.86s/it]"
          ]
        },
        {
          "name": "stdout",
          "output_type": "stream",
          "text": [
            "{'loss': 1.0322, 'learning_rate': 1.032e-05, 'epoch': 41.4}\n"
          ]
        },
        {
          "name": "stderr",
          "output_type": "stream",
          "text": [
            " 83%|████████▎ | 829/1000 [2:00:54<16:14,  5.70s/it]"
          ]
        },
        {
          "name": "stdout",
          "output_type": "stream",
          "text": [
            "{'loss': 1.1851, 'learning_rate': 1.0260000000000002e-05, 'epoch': 41.45}\n"
          ]
        },
        {
          "name": "stderr",
          "output_type": "stream",
          "text": [
            " 83%|████████▎ | 830/1000 [2:01:00<15:42,  5.54s/it]"
          ]
        },
        {
          "name": "stdout",
          "output_type": "stream",
          "text": [
            "{'loss': 1.2623, 'learning_rate': 1.02e-05, 'epoch': 41.5}\n"
          ]
        },
        {
          "name": "stderr",
          "output_type": "stream",
          "text": [
            " 83%|████████▎ | 831/1000 [2:01:05<15:24,  5.47s/it]"
          ]
        },
        {
          "name": "stdout",
          "output_type": "stream",
          "text": [
            "{'loss': 1.0928, 'learning_rate': 1.0140000000000001e-05, 'epoch': 41.55}\n"
          ]
        },
        {
          "name": "stderr",
          "output_type": "stream",
          "text": [
            " 83%|████████▎ | 832/1000 [2:01:10<15:07,  5.40s/it]"
          ]
        },
        {
          "name": "stdout",
          "output_type": "stream",
          "text": [
            "{'loss': 0.9839, 'learning_rate': 1.008e-05, 'epoch': 41.6}\n"
          ]
        },
        {
          "name": "stderr",
          "output_type": "stream",
          "text": [
            " 83%|████████▎ | 833/1000 [2:01:15<14:56,  5.37s/it]"
          ]
        },
        {
          "name": "stdout",
          "output_type": "stream",
          "text": [
            "{'loss': 1.3389, 'learning_rate': 1.002e-05, 'epoch': 41.65}\n"
          ]
        },
        {
          "name": "stderr",
          "output_type": "stream",
          "text": [
            " 83%|████████▎ | 834/1000 [2:01:20<14:39,  5.30s/it]"
          ]
        },
        {
          "name": "stdout",
          "output_type": "stream",
          "text": [
            "{'loss': 0.6692, 'learning_rate': 9.960000000000001e-06, 'epoch': 41.7}\n"
          ]
        },
        {
          "name": "stderr",
          "output_type": "stream",
          "text": [
            " 84%|████████▎ | 835/1000 [2:01:26<14:28,  5.27s/it]"
          ]
        },
        {
          "name": "stdout",
          "output_type": "stream",
          "text": [
            "{'loss': 1.1175, 'learning_rate': 9.9e-06, 'epoch': 41.75}\n"
          ]
        },
        {
          "name": "stderr",
          "output_type": "stream",
          "text": [
            " 84%|████████▎ | 836/1000 [2:01:31<14:14,  5.21s/it]"
          ]
        },
        {
          "name": "stdout",
          "output_type": "stream",
          "text": [
            "{'loss': 1.0901, 'learning_rate': 9.84e-06, 'epoch': 41.8}\n"
          ]
        },
        {
          "name": "stderr",
          "output_type": "stream",
          "text": [
            " 84%|████████▎ | 837/1000 [2:01:36<14:07,  5.20s/it]"
          ]
        },
        {
          "name": "stdout",
          "output_type": "stream",
          "text": [
            "{'loss': 1.0665, 'learning_rate': 9.780000000000001e-06, 'epoch': 41.85}\n"
          ]
        },
        {
          "name": "stderr",
          "output_type": "stream",
          "text": [
            " 84%|████████▍ | 838/1000 [2:01:41<14:04,  5.22s/it]"
          ]
        },
        {
          "name": "stdout",
          "output_type": "stream",
          "text": [
            "{'loss': 1.7122, 'learning_rate': 9.72e-06, 'epoch': 41.9}\n"
          ]
        },
        {
          "name": "stderr",
          "output_type": "stream",
          "text": [
            " 84%|████████▍ | 839/1000 [2:01:46<14:02,  5.23s/it]"
          ]
        },
        {
          "name": "stdout",
          "output_type": "stream",
          "text": [
            "{'loss': 1.0403, 'learning_rate': 9.66e-06, 'epoch': 41.95}\n"
          ]
        },
        {
          "name": "stderr",
          "output_type": "stream",
          "text": [
            " 84%|████████▍ | 840/1000 [2:01:52<13:52,  5.20s/it]"
          ]
        },
        {
          "name": "stdout",
          "output_type": "stream",
          "text": [
            "{'loss': 1.4962, 'learning_rate': 9.600000000000001e-06, 'epoch': 42.0}\n"
          ]
        },
        {
          "name": "stderr",
          "output_type": "stream",
          "text": [
            "C:\\Users\\kuian\\.cache\\huggingface\\modules\\evaluate_modules\\metrics\\evaluate-metric--mean_iou\\08bc20f4f895f3caf75fb9e3fada1404bded3c3265243d05327cbb3b9326ffe9\\mean_iou.py:259: RuntimeWarning: invalid value encountered in divide\n",
            "  iou = total_area_intersect / total_area_union\n",
            "C:\\Users\\kuian\\.cache\\huggingface\\modules\\evaluate_modules\\metrics\\evaluate-metric--mean_iou\\08bc20f4f895f3caf75fb9e3fada1404bded3c3265243d05327cbb3b9326ffe9\\mean_iou.py:260: RuntimeWarning: invalid value encountered in divide\n",
            "  acc = total_area_intersect / total_area_label\n",
            "                                                    \n",
            " 84%|████████▍ | 840/1000 [2:02:21<13:52,  5.20s/it]"
          ]
        },
        {
          "name": "stdout",
          "output_type": "stream",
          "text": [
            "{'eval_loss': 1.790729284286499, 'eval_mean_iou': 0.09754128825331623, 'eval_mean_accuracy': 0.15794361773585733, 'eval_overall_accuracy': 0.6114548260178513, 'eval_per_category_iou': [0.5675772196189665, nan, nan, 0.6202406786348392, 0.0, 0.5436555310495539, nan, nan, 0.15083514088941755, nan, 0.5230756643783144, nan, 0.0, 0.0, 0.37781457175607824, 0.0, nan, 0.0, 0.2211480185340867, 0.0, nan, nan, 0.0, nan, 0.0, nan, nan, 0.11655366276631043, nan, nan, nan, 0.0, 0.0, nan, nan, nan, nan, 0.14860016327426648, nan, nan, nan, 0.0, 0.0, 0.0, nan, nan, nan, 0.1573556973288151, nan, nan, nan, nan, nan, nan, nan, nan, nan, nan, 0.17801571053888063, nan, nan, nan, nan, 0.0, nan, 0.3648893572181243, nan, nan, nan, nan, 0.0, nan, nan, nan, nan, nan, nan, nan, nan, nan, nan, 0.0294314023983121, 0.0, nan, nan, nan, nan, 0.0, nan, 0.0, nan, nan, nan, nan, nan, nan, 0.0, nan, 0.0, nan, nan, nan, nan, nan, 0.0, nan, nan, nan, nan, nan, nan, nan, nan, nan, nan, nan, nan, nan, nan, nan, nan, nan, nan, nan, nan, 0.0, nan, nan, nan, nan, nan, nan, nan, nan, 0.0, nan, nan, 0.0, 0.0, nan, nan, nan, nan, nan, nan, 0.0, nan, nan, 0.0, 0.0], 'eval_per_category_accuracy': [0.7522094308491107, nan, nan, 0.7528284944627357, 0.0, 0.7237074248158274, nan, nan, 0.8980004760771245, nan, 0.6938954721709701, nan, 0.0, nan, 0.5240782928076619, 0.0, nan, 0.0, 0.24205041513309938, 0.0, nan, nan, 0.0, nan, 0.0, nan, nan, 0.18362314695177884, nan, nan, nan, 0.0, 0.0, nan, nan, nan, nan, 0.5726181664375595, nan, nan, nan, 0.0, 0.0, 0.0, nan, nan, nan, 0.22767612578065083, nan, nan, nan, nan, nan, nan, nan, nan, nan, nan, 0.25225450669632515, nan, nan, nan, nan, 0.0, nan, 0.4398099931414637, nan, nan, nan, nan, 0.0, nan, nan, nan, nan, nan, nan, nan, nan, nan, nan, 0.05499276410998553, 0.0, nan, nan, nan, nan, 0.0, nan, 0.0, nan, nan, nan, nan, nan, nan, 0.0, nan, 0.0, nan, nan, nan, nan, nan, 0.0, nan, nan, nan, nan, nan, nan, nan, nan, nan, nan, nan, nan, nan, nan, nan, nan, nan, nan, nan, nan, 0.0, nan, nan, nan, nan, nan, nan, nan, nan, 0.0, nan, nan, 0.0, 0.0, nan, nan, nan, nan, nan, nan, 0.0, nan, nan, 0.0, 0.0], 'eval_runtime': 29.4536, 'eval_samples_per_second': 0.34, 'eval_steps_per_second': 0.17, 'epoch': 42.0}\n"
          ]
        },
        {
          "name": "stderr",
          "output_type": "stream",
          "text": [
            " 84%|████████▍ | 841/1000 [2:02:27<37:26, 14.13s/it]"
          ]
        },
        {
          "name": "stdout",
          "output_type": "stream",
          "text": [
            "{'loss': 1.3669, 'learning_rate': 9.54e-06, 'epoch': 42.05}\n"
          ]
        },
        {
          "name": "stderr",
          "output_type": "stream",
          "text": [
            " 84%|████████▍ | 842/1000 [2:02:32<30:08, 11.44s/it]"
          ]
        },
        {
          "name": "stdout",
          "output_type": "stream",
          "text": [
            "{'loss': 1.45, 'learning_rate': 9.48e-06, 'epoch': 42.1}\n"
          ]
        },
        {
          "name": "stderr",
          "output_type": "stream",
          "text": [
            " 84%|████████▍ | 843/1000 [2:02:37<25:04,  9.58s/it]"
          ]
        },
        {
          "name": "stdout",
          "output_type": "stream",
          "text": [
            "{'loss': 2.1606, 'learning_rate': 9.42e-06, 'epoch': 42.15}\n"
          ]
        },
        {
          "name": "stderr",
          "output_type": "stream",
          "text": [
            " 84%|████████▍ | 844/1000 [2:02:42<21:26,  8.25s/it]"
          ]
        },
        {
          "name": "stdout",
          "output_type": "stream",
          "text": [
            "{'loss': 1.138, 'learning_rate': 9.36e-06, 'epoch': 42.2}\n"
          ]
        },
        {
          "name": "stderr",
          "output_type": "stream",
          "text": [
            " 84%|████████▍ | 845/1000 [2:02:47<18:48,  7.28s/it]"
          ]
        },
        {
          "name": "stdout",
          "output_type": "stream",
          "text": [
            "{'loss': 1.2988, 'learning_rate': 9.3e-06, 'epoch': 42.25}\n"
          ]
        },
        {
          "name": "stderr",
          "output_type": "stream",
          "text": [
            " 85%|████████▍ | 846/1000 [2:02:52<17:03,  6.64s/it]"
          ]
        },
        {
          "name": "stdout",
          "output_type": "stream",
          "text": [
            "{'loss': 1.3347, 'learning_rate': 9.24e-06, 'epoch': 42.3}\n"
          ]
        },
        {
          "name": "stderr",
          "output_type": "stream",
          "text": [
            " 85%|████████▍ | 847/1000 [2:02:58<15:55,  6.24s/it]"
          ]
        },
        {
          "name": "stdout",
          "output_type": "stream",
          "text": [
            "{'loss': 0.8257, 'learning_rate': 9.18e-06, 'epoch': 42.35}\n"
          ]
        },
        {
          "name": "stderr",
          "output_type": "stream",
          "text": [
            " 85%|████████▍ | 848/1000 [2:03:03<15:00,  5.93s/it]"
          ]
        },
        {
          "name": "stdout",
          "output_type": "stream",
          "text": [
            "{'loss': 1.036, 'learning_rate': 9.12e-06, 'epoch': 42.4}\n"
          ]
        },
        {
          "name": "stderr",
          "output_type": "stream",
          "text": [
            " 85%|████████▍ | 849/1000 [2:03:08<14:29,  5.76s/it]"
          ]
        },
        {
          "name": "stdout",
          "output_type": "stream",
          "text": [
            "{'loss': 0.8852, 'learning_rate': 9.06e-06, 'epoch': 42.45}\n"
          ]
        },
        {
          "name": "stderr",
          "output_type": "stream",
          "text": [
            " 85%|████████▌ | 850/1000 [2:03:13<13:58,  5.59s/it]"
          ]
        },
        {
          "name": "stdout",
          "output_type": "stream",
          "text": [
            "{'loss': 1.0228, 'learning_rate': 9e-06, 'epoch': 42.5}\n"
          ]
        },
        {
          "name": "stderr",
          "output_type": "stream",
          "text": [
            " 85%|████████▌ | 851/1000 [2:03:19<13:37,  5.48s/it]"
          ]
        },
        {
          "name": "stdout",
          "output_type": "stream",
          "text": [
            "{'loss': 0.8923, 'learning_rate': 8.939999999999999e-06, 'epoch': 42.55}\n"
          ]
        },
        {
          "name": "stderr",
          "output_type": "stream",
          "text": [
            " 85%|████████▌ | 852/1000 [2:03:24<13:11,  5.35s/it]"
          ]
        },
        {
          "name": "stdout",
          "output_type": "stream",
          "text": [
            "{'loss': 0.9155, 'learning_rate': 8.88e-06, 'epoch': 42.6}\n"
          ]
        },
        {
          "name": "stderr",
          "output_type": "stream",
          "text": [
            " 85%|████████▌ | 853/1000 [2:03:29<12:55,  5.27s/it]"
          ]
        },
        {
          "name": "stdout",
          "output_type": "stream",
          "text": [
            "{'loss': 0.7556, 'learning_rate': 8.82e-06, 'epoch': 42.65}\n"
          ]
        },
        {
          "name": "stderr",
          "output_type": "stream",
          "text": [
            " 85%|████████▌ | 854/1000 [2:03:34<12:39,  5.20s/it]"
          ]
        },
        {
          "name": "stdout",
          "output_type": "stream",
          "text": [
            "{'loss': 1.1393, 'learning_rate': 8.759999999999999e-06, 'epoch': 42.7}\n"
          ]
        },
        {
          "name": "stderr",
          "output_type": "stream",
          "text": [
            " 86%|████████▌ | 855/1000 [2:03:39<12:32,  5.19s/it]"
          ]
        },
        {
          "name": "stdout",
          "output_type": "stream",
          "text": [
            "{'loss': 1.481, 'learning_rate': 8.7e-06, 'epoch': 42.75}\n"
          ]
        },
        {
          "name": "stderr",
          "output_type": "stream",
          "text": [
            " 86%|████████▌ | 856/1000 [2:03:44<12:21,  5.15s/it]"
          ]
        },
        {
          "name": "stdout",
          "output_type": "stream",
          "text": [
            "{'loss': 1.0563, 'learning_rate': 8.64e-06, 'epoch': 42.8}\n"
          ]
        },
        {
          "name": "stderr",
          "output_type": "stream",
          "text": [
            " 86%|████████▌ | 857/1000 [2:03:49<12:28,  5.23s/it]"
          ]
        },
        {
          "name": "stdout",
          "output_type": "stream",
          "text": [
            "{'loss': 1.1417, 'learning_rate': 8.58e-06, 'epoch': 42.85}\n"
          ]
        },
        {
          "name": "stderr",
          "output_type": "stream",
          "text": [
            " 86%|████████▌ | 858/1000 [2:03:54<12:17,  5.19s/it]"
          ]
        },
        {
          "name": "stdout",
          "output_type": "stream",
          "text": [
            "{'loss': 1.0818, 'learning_rate': 8.52e-06, 'epoch': 42.9}\n"
          ]
        },
        {
          "name": "stderr",
          "output_type": "stream",
          "text": [
            " 86%|████████▌ | 859/1000 [2:04:00<12:11,  5.19s/it]"
          ]
        },
        {
          "name": "stdout",
          "output_type": "stream",
          "text": [
            "{'loss': 1.1651, 'learning_rate': 8.459999999999999e-06, 'epoch': 42.95}\n"
          ]
        },
        {
          "name": "stderr",
          "output_type": "stream",
          "text": [
            " 86%|████████▌ | 860/1000 [2:04:05<12:04,  5.17s/it]"
          ]
        },
        {
          "name": "stdout",
          "output_type": "stream",
          "text": [
            "{'loss': 1.1575, 'learning_rate': 8.400000000000001e-06, 'epoch': 43.0}\n"
          ]
        },
        {
          "name": "stderr",
          "output_type": "stream",
          "text": [
            "C:\\Users\\kuian\\.cache\\huggingface\\modules\\evaluate_modules\\metrics\\evaluate-metric--mean_iou\\08bc20f4f895f3caf75fb9e3fada1404bded3c3265243d05327cbb3b9326ffe9\\mean_iou.py:259: RuntimeWarning: invalid value encountered in divide\n",
            "  iou = total_area_intersect / total_area_union\n",
            "C:\\Users\\kuian\\.cache\\huggingface\\modules\\evaluate_modules\\metrics\\evaluate-metric--mean_iou\\08bc20f4f895f3caf75fb9e3fada1404bded3c3265243d05327cbb3b9326ffe9\\mean_iou.py:260: RuntimeWarning: invalid value encountered in divide\n",
            "  acc = total_area_intersect / total_area_label\n",
            "                                                    \n",
            " 86%|████████▌ | 860/1000 [2:04:34<12:04,  5.17s/it]"
          ]
        },
        {
          "name": "stdout",
          "output_type": "stream",
          "text": [
            "{'eval_loss': 1.7827208042144775, 'eval_mean_iou': 0.09766370265849772, 'eval_mean_accuracy': 0.15482272131935798, 'eval_overall_accuracy': 0.6193680121661153, 'eval_per_category_iou': [0.576588826730081, nan, nan, 0.6208854183722378, 0.0, 0.5543993702127025, nan, nan, 0.14303203627709274, nan, 0.5182042878284249, nan, 0.0, 0.0, 0.38279179983064276, 0.0, nan, 0.0, 0.26010128218941925, 0.0, nan, nan, 0.0, nan, 0.0, nan, nan, 0.09068050502888936, nan, nan, nan, 0.0, 0.0, nan, nan, nan, nan, 0.1399675249362097, nan, nan, nan, 0.0, 0.0, 0.0, nan, nan, nan, 0.14316083916083916, nan, nan, nan, nan, nan, nan, nan, nan, nan, nan, 0.1689318808847554, nan, nan, nan, nan, 0.0, nan, 0.36903344404754446, nan, nan, nan, nan, 0.0, nan, nan, nan, nan, nan, nan, nan, nan, nan, nan, 0.03643459349956803, 0.0, nan, nan, nan, nan, 0.0, nan, 0.0, nan, nan, nan, nan, nan, nan, 0.0, nan, 0.0, nan, nan, nan, nan, nan, 0.0, nan, nan, nan, nan, nan, nan, nan, nan, nan, nan, nan, nan, nan, nan, nan, nan, nan, nan, nan, nan, 0.0, nan, nan, nan, nan, nan, nan, nan, nan, 0.0, nan, nan, 0.0, 0.0, nan, nan, nan, nan, nan, nan, 0.0, nan, nan, 0.0, 0.0], 'eval_per_category_accuracy': [0.7848613958362876, nan, nan, 0.7803090392098174, 0.0, 0.6670796801838808, nan, nan, 0.8690787907641038, nan, 0.6598948209687127, nan, 0.0, nan, 0.5212190245943559, 0.0, nan, 0.0, 0.2841093897115467, 0.0, nan, nan, 0.0, nan, 0.0, nan, nan, 0.11702683776026512, nan, nan, nan, 0.0, 0.0, nan, nan, nan, nan, 0.5582901554404145, nan, nan, nan, 0.0, 0.0, 0.0, nan, nan, nan, 0.21028267776925605, nan, nan, nan, nan, nan, nan, nan, nan, nan, nan, 0.23097455859863755, nan, nan, nan, nan, 0.0, nan, 0.4487514923667031, nan, nan, nan, nan, 0.0, nan, nan, nan, nan, nan, nan, nan, nan, nan, nan, 0.06103098957033784, 0.0, nan, nan, nan, nan, 0.0, nan, 0.0, nan, nan, nan, nan, nan, nan, 0.0, nan, 0.0, nan, nan, nan, nan, nan, 0.0, nan, nan, nan, nan, nan, nan, nan, nan, nan, nan, nan, nan, nan, nan, nan, nan, nan, nan, nan, nan, 0.0, nan, nan, nan, nan, nan, nan, nan, nan, 0.0, nan, nan, 0.0, 0.0, nan, nan, nan, nan, nan, nan, 0.0, nan, nan, 0.0, 0.0], 'eval_runtime': 29.3389, 'eval_samples_per_second': 0.341, 'eval_steps_per_second': 0.17, 'epoch': 43.0}\n"
          ]
        },
        {
          "name": "stderr",
          "output_type": "stream",
          "text": [
            " 86%|████████▌ | 861/1000 [2:04:40<32:32, 14.05s/it]"
          ]
        },
        {
          "name": "stdout",
          "output_type": "stream",
          "text": [
            "{'loss': 1.076, 'learning_rate': 8.340000000000001e-06, 'epoch': 43.05}\n"
          ]
        },
        {
          "name": "stderr",
          "output_type": "stream",
          "text": [
            " 86%|████████▌ | 862/1000 [2:04:45<26:09, 11.38s/it]"
          ]
        },
        {
          "name": "stdout",
          "output_type": "stream",
          "text": [
            "{'loss': 1.037, 'learning_rate': 8.28e-06, 'epoch': 43.1}\n"
          ]
        },
        {
          "name": "stderr",
          "output_type": "stream",
          "text": [
            " 86%|████████▋ | 863/1000 [2:04:50<21:41,  9.50s/it]"
          ]
        },
        {
          "name": "stdout",
          "output_type": "stream",
          "text": [
            "{'loss': 0.8835, 'learning_rate': 8.220000000000001e-06, 'epoch': 43.15}\n"
          ]
        },
        {
          "name": "stderr",
          "output_type": "stream",
          "text": [
            " 86%|████████▋ | 864/1000 [2:04:55<18:32,  8.18s/it]"
          ]
        },
        {
          "name": "stdout",
          "output_type": "stream",
          "text": [
            "{'loss': 1.2162, 'learning_rate': 8.160000000000001e-06, 'epoch': 43.2}\n"
          ]
        },
        {
          "name": "stderr",
          "output_type": "stream",
          "text": [
            " 86%|████████▋ | 865/1000 [2:05:00<16:19,  7.25s/it]"
          ]
        },
        {
          "name": "stdout",
          "output_type": "stream",
          "text": [
            "{'loss': 1.4931, 'learning_rate': 8.1e-06, 'epoch': 43.25}\n"
          ]
        },
        {
          "name": "stderr",
          "output_type": "stream",
          "text": [
            " 87%|████████▋ | 866/1000 [2:05:05<14:47,  6.63s/it]"
          ]
        },
        {
          "name": "stdout",
          "output_type": "stream",
          "text": [
            "{'loss': 1.5255, 'learning_rate': 8.040000000000001e-06, 'epoch': 43.3}\n"
          ]
        },
        {
          "name": "stderr",
          "output_type": "stream",
          "text": [
            " 87%|████████▋ | 867/1000 [2:05:10<13:44,  6.20s/it]"
          ]
        },
        {
          "name": "stdout",
          "output_type": "stream",
          "text": [
            "{'loss': 1.1444, 'learning_rate': 7.98e-06, 'epoch': 43.35}\n"
          ]
        },
        {
          "name": "stderr",
          "output_type": "stream",
          "text": [
            " 87%|████████▋ | 868/1000 [2:05:16<13:01,  5.92s/it]"
          ]
        },
        {
          "name": "stdout",
          "output_type": "stream",
          "text": [
            "{'loss': 1.6043, 'learning_rate': 7.92e-06, 'epoch': 43.4}\n"
          ]
        },
        {
          "name": "stderr",
          "output_type": "stream",
          "text": [
            " 87%|████████▋ | 869/1000 [2:05:21<12:31,  5.74s/it]"
          ]
        },
        {
          "name": "stdout",
          "output_type": "stream",
          "text": [
            "{'loss': 0.8673, 'learning_rate': 7.860000000000001e-06, 'epoch': 43.45}\n"
          ]
        },
        {
          "name": "stderr",
          "output_type": "stream",
          "text": [
            " 87%|████████▋ | 870/1000 [2:05:26<12:02,  5.56s/it]"
          ]
        },
        {
          "name": "stdout",
          "output_type": "stream",
          "text": [
            "{'loss': 1.1689, 'learning_rate': 7.8e-06, 'epoch': 43.5}\n"
          ]
        },
        {
          "name": "stderr",
          "output_type": "stream",
          "text": [
            " 87%|████████▋ | 871/1000 [2:05:31<11:42,  5.44s/it]"
          ]
        },
        {
          "name": "stdout",
          "output_type": "stream",
          "text": [
            "{'loss': 0.9825, 'learning_rate': 7.74e-06, 'epoch': 43.55}\n"
          ]
        },
        {
          "name": "stderr",
          "output_type": "stream",
          "text": [
            " 87%|████████▋ | 872/1000 [2:05:36<11:19,  5.31s/it]"
          ]
        },
        {
          "name": "stdout",
          "output_type": "stream",
          "text": [
            "{'loss': 1.2387, 'learning_rate': 7.680000000000001e-06, 'epoch': 43.6}\n"
          ]
        },
        {
          "name": "stderr",
          "output_type": "stream",
          "text": [
            " 87%|████████▋ | 873/1000 [2:05:41<11:08,  5.26s/it]"
          ]
        },
        {
          "name": "stdout",
          "output_type": "stream",
          "text": [
            "{'loss': 1.7806, 'learning_rate': 7.62e-06, 'epoch': 43.65}\n"
          ]
        },
        {
          "name": "stderr",
          "output_type": "stream",
          "text": [
            " 87%|████████▋ | 874/1000 [2:05:47<10:58,  5.23s/it]"
          ]
        },
        {
          "name": "stdout",
          "output_type": "stream",
          "text": [
            "{'loss': 1.0938, 'learning_rate': 7.5600000000000005e-06, 'epoch': 43.7}\n"
          ]
        },
        {
          "name": "stderr",
          "output_type": "stream",
          "text": [
            " 88%|████████▊ | 875/1000 [2:05:52<10:57,  5.26s/it]"
          ]
        },
        {
          "name": "stdout",
          "output_type": "stream",
          "text": [
            "{'loss': 0.8351, 'learning_rate': 7.5e-06, 'epoch': 43.75}\n"
          ]
        },
        {
          "name": "stderr",
          "output_type": "stream",
          "text": [
            " 88%|████████▊ | 876/1000 [2:05:57<10:51,  5.25s/it]"
          ]
        },
        {
          "name": "stdout",
          "output_type": "stream",
          "text": [
            "{'loss': 1.0597, 'learning_rate': 7.44e-06, 'epoch': 43.8}\n"
          ]
        },
        {
          "name": "stderr",
          "output_type": "stream",
          "text": [
            " 88%|████████▊ | 877/1000 [2:06:02<10:44,  5.24s/it]"
          ]
        },
        {
          "name": "stdout",
          "output_type": "stream",
          "text": [
            "{'loss': 1.1401, 'learning_rate': 7.3800000000000005e-06, 'epoch': 43.85}\n"
          ]
        },
        {
          "name": "stderr",
          "output_type": "stream",
          "text": [
            " 88%|████████▊ | 878/1000 [2:06:07<10:33,  5.19s/it]"
          ]
        },
        {
          "name": "stdout",
          "output_type": "stream",
          "text": [
            "{'loss': 0.7271, 'learning_rate': 7.32e-06, 'epoch': 43.9}\n"
          ]
        },
        {
          "name": "stderr",
          "output_type": "stream",
          "text": [
            " 88%|████████▊ | 879/1000 [2:06:13<10:26,  5.17s/it]"
          ]
        },
        {
          "name": "stdout",
          "output_type": "stream",
          "text": [
            "{'loss': 1.0036, 'learning_rate': 7.26e-06, 'epoch': 43.95}\n"
          ]
        },
        {
          "name": "stderr",
          "output_type": "stream",
          "text": [
            " 88%|████████▊ | 880/1000 [2:06:18<10:19,  5.16s/it]"
          ]
        },
        {
          "name": "stdout",
          "output_type": "stream",
          "text": [
            "{'loss': 1.1516, 'learning_rate': 7.2e-06, 'epoch': 44.0}\n"
          ]
        },
        {
          "name": "stderr",
          "output_type": "stream",
          "text": [
            "C:\\Users\\kuian\\.cache\\huggingface\\modules\\evaluate_modules\\metrics\\evaluate-metric--mean_iou\\08bc20f4f895f3caf75fb9e3fada1404bded3c3265243d05327cbb3b9326ffe9\\mean_iou.py:259: RuntimeWarning: invalid value encountered in divide\n",
            "  iou = total_area_intersect / total_area_union\n",
            "C:\\Users\\kuian\\.cache\\huggingface\\modules\\evaluate_modules\\metrics\\evaluate-metric--mean_iou\\08bc20f4f895f3caf75fb9e3fada1404bded3c3265243d05327cbb3b9326ffe9\\mean_iou.py:260: RuntimeWarning: invalid value encountered in divide\n",
            "  acc = total_area_intersect / total_area_label\n",
            "                                                    \n",
            " 88%|████████▊ | 880/1000 [2:06:47<10:19,  5.16s/it]"
          ]
        },
        {
          "name": "stdout",
          "output_type": "stream",
          "text": [
            "{'eval_loss': 1.7530927658081055, 'eval_mean_iou': 0.10008496580366834, 'eval_mean_accuracy': 0.15358195310966932, 'eval_overall_accuracy': 0.6286141936081573, 'eval_per_category_iou': [0.5849013946521847, nan, nan, 0.6169077883059857, 0.0, 0.5639707374215702, nan, nan, 0.1710752030325932, nan, 0.5159736126289256, nan, 0.0, 0.0, 0.3626710696299162, 0.0, nan, 0.0, 0.2855766141985223, 0.0, nan, nan, 0.0, nan, 0.0, nan, nan, 0.11916226680746216, nan, nan, nan, 0.0, 0.0, nan, nan, nan, nan, 0.15110328114537164, nan, nan, nan, 0.0, 0.0, 0.0, nan, nan, nan, 0.1536672113813323, nan, nan, nan, nan, nan, nan, nan, nan, nan, nan, 0.18237132050649565, nan, nan, nan, nan, 0.0, nan, 0.36838985562470894, nan, nan, nan, nan, 0.0, nan, nan, nan, nan, nan, nan, nan, nan, nan, nan, 0.027713242615333554, 0.0, nan, nan, nan, nan, 0.0, nan, 0.0, nan, nan, nan, nan, nan, nan, 0.0, nan, 0.0, nan, nan, nan, nan, nan, 0.0, nan, nan, nan, nan, nan, nan, nan, nan, nan, nan, nan, nan, nan, nan, nan, nan, nan, nan, nan, nan, 0.0, nan, nan, nan, nan, nan, nan, nan, nan, 0.0, nan, nan, 0.0, 0.0, nan, nan, nan, nan, nan, nan, 0.0, nan, nan, 0.0, 0.0], 'eval_per_category_accuracy': [0.8163150891144152, nan, nan, 0.7490347201436696, 0.0, 0.6613648301032983, nan, nan, 0.8486669840514164, nan, 0.638217679154621, nan, 0.0, nan, 0.4881398484355386, 0.0, nan, 0.0, 0.313885560215698, 0.0, nan, nan, 0.0, nan, 0.0, nan, nan, 0.1669543432589977, nan, nan, nan, 0.0, 0.0, nan, nan, nan, nan, 0.5010838532304114, nan, nan, nan, 0.0, 0.0, 0.0, nan, nan, nan, 0.21893831488988716, nan, nan, nan, nan, nan, nan, nan, nan, nan, nan, 0.25696278789563926, nan, nan, nan, nan, 0.0, nan, 0.4420453679477735, nan, nan, nan, nan, 0.0, nan, nan, nan, nan, nan, nan, nan, nan, nan, nan, 0.041668745945406455, 0.0, nan, nan, nan, nan, 0.0, nan, 0.0, nan, nan, nan, nan, nan, nan, 0.0, nan, 0.0, nan, nan, nan, nan, nan, 0.0, nan, nan, nan, nan, nan, nan, nan, nan, nan, nan, nan, nan, nan, nan, nan, nan, nan, nan, nan, nan, 0.0, nan, nan, nan, nan, nan, nan, nan, nan, 0.0, nan, nan, 0.0, 0.0, nan, nan, nan, nan, nan, nan, 0.0, nan, nan, 0.0, 0.0], 'eval_runtime': 29.5696, 'eval_samples_per_second': 0.338, 'eval_steps_per_second': 0.169, 'epoch': 44.0}\n"
          ]
        },
        {
          "name": "stderr",
          "output_type": "stream",
          "text": [
            " 88%|████████▊ | 881/1000 [2:06:53<28:02, 14.14s/it]"
          ]
        },
        {
          "name": "stdout",
          "output_type": "stream",
          "text": [
            "{'loss': 1.1199, 'learning_rate': 7.14e-06, 'epoch': 44.05}\n"
          ]
        },
        {
          "name": "stderr",
          "output_type": "stream",
          "text": [
            " 88%|████████▊ | 882/1000 [2:06:58<22:31, 11.45s/it]"
          ]
        },
        {
          "name": "stdout",
          "output_type": "stream",
          "text": [
            "{'loss': 1.3872, 'learning_rate': 7.08e-06, 'epoch': 44.1}\n"
          ]
        },
        {
          "name": "stderr",
          "output_type": "stream",
          "text": [
            " 88%|████████▊ | 883/1000 [2:07:03<18:40,  9.58s/it]"
          ]
        },
        {
          "name": "stdout",
          "output_type": "stream",
          "text": [
            "{'loss': 1.2381, 'learning_rate': 7.0200000000000006e-06, 'epoch': 44.15}\n"
          ]
        },
        {
          "name": "stderr",
          "output_type": "stream",
          "text": [
            " 88%|████████▊ | 884/1000 [2:07:08<15:58,  8.27s/it]"
          ]
        },
        {
          "name": "stdout",
          "output_type": "stream",
          "text": [
            "{'loss': 1.1901, 'learning_rate': 6.96e-06, 'epoch': 44.2}\n"
          ]
        },
        {
          "name": "stderr",
          "output_type": "stream",
          "text": [
            " 88%|████████▊ | 885/1000 [2:07:14<14:03,  7.34s/it]"
          ]
        },
        {
          "name": "stdout",
          "output_type": "stream",
          "text": [
            "{'loss': 0.9444, 'learning_rate': 6.900000000000001e-06, 'epoch': 44.25}\n"
          ]
        },
        {
          "name": "stderr",
          "output_type": "stream",
          "text": [
            " 89%|████████▊ | 886/1000 [2:07:19<12:37,  6.65s/it]"
          ]
        },
        {
          "name": "stdout",
          "output_type": "stream",
          "text": [
            "{'loss': 1.881, 'learning_rate': 6.840000000000001e-06, 'epoch': 44.3}\n"
          ]
        },
        {
          "name": "stderr",
          "output_type": "stream",
          "text": [
            " 89%|████████▊ | 887/1000 [2:07:24<11:40,  6.20s/it]"
          ]
        },
        {
          "name": "stdout",
          "output_type": "stream",
          "text": [
            "{'loss': 1.2672, 'learning_rate': 6.78e-06, 'epoch': 44.35}\n"
          ]
        },
        {
          "name": "stderr",
          "output_type": "stream",
          "text": [
            " 89%|████████▉ | 888/1000 [2:07:29<11:04,  5.93s/it]"
          ]
        },
        {
          "name": "stdout",
          "output_type": "stream",
          "text": [
            "{'loss': 1.2247, 'learning_rate': 6.72e-06, 'epoch': 44.4}\n"
          ]
        },
        {
          "name": "stderr",
          "output_type": "stream",
          "text": [
            " 89%|████████▉ | 889/1000 [2:07:34<10:31,  5.69s/it]"
          ]
        },
        {
          "name": "stdout",
          "output_type": "stream",
          "text": [
            "{'loss': 1.0224, 'learning_rate': 6.660000000000001e-06, 'epoch': 44.45}\n"
          ]
        },
        {
          "name": "stderr",
          "output_type": "stream",
          "text": [
            " 89%|████████▉ | 890/1000 [2:07:39<10:06,  5.52s/it]"
          ]
        },
        {
          "name": "stdout",
          "output_type": "stream",
          "text": [
            "{'loss': 0.8874, 'learning_rate': 6.6e-06, 'epoch': 44.5}\n"
          ]
        },
        {
          "name": "stderr",
          "output_type": "stream",
          "text": [
            " 89%|████████▉ | 891/1000 [2:07:44<09:51,  5.43s/it]"
          ]
        },
        {
          "name": "stdout",
          "output_type": "stream",
          "text": [
            "{'loss': 1.4012, 'learning_rate': 6.54e-06, 'epoch': 44.55}\n"
          ]
        },
        {
          "name": "stderr",
          "output_type": "stream",
          "text": [
            " 89%|████████▉ | 892/1000 [2:07:50<09:41,  5.38s/it]"
          ]
        },
        {
          "name": "stdout",
          "output_type": "stream",
          "text": [
            "{'loss': 0.911, 'learning_rate': 6.48e-06, 'epoch': 44.6}\n"
          ]
        },
        {
          "name": "stderr",
          "output_type": "stream",
          "text": [
            " 89%|████████▉ | 893/1000 [2:07:55<09:28,  5.32s/it]"
          ]
        },
        {
          "name": "stdout",
          "output_type": "stream",
          "text": [
            "{'loss': 0.8987, 'learning_rate': 6.42e-06, 'epoch': 44.65}\n"
          ]
        },
        {
          "name": "stderr",
          "output_type": "stream",
          "text": [
            " 89%|████████▉ | 894/1000 [2:08:00<09:18,  5.26s/it]"
          ]
        },
        {
          "name": "stdout",
          "output_type": "stream",
          "text": [
            "{'loss': 0.8111, 'learning_rate': 6.36e-06, 'epoch': 44.7}\n"
          ]
        },
        {
          "name": "stderr",
          "output_type": "stream",
          "text": [
            " 90%|████████▉ | 895/1000 [2:08:05<09:10,  5.24s/it]"
          ]
        },
        {
          "name": "stdout",
          "output_type": "stream",
          "text": [
            "{'loss': 1.06, 'learning_rate': 6.3e-06, 'epoch': 44.75}\n"
          ]
        },
        {
          "name": "stderr",
          "output_type": "stream",
          "text": [
            " 90%|████████▉ | 896/1000 [2:08:10<09:00,  5.20s/it]"
          ]
        },
        {
          "name": "stdout",
          "output_type": "stream",
          "text": [
            "{'loss': 1.1656, 'learning_rate': 6.2399999999999995e-06, 'epoch': 44.8}\n"
          ]
        },
        {
          "name": "stderr",
          "output_type": "stream",
          "text": [
            " 90%|████████▉ | 897/1000 [2:08:15<08:52,  5.17s/it]"
          ]
        },
        {
          "name": "stdout",
          "output_type": "stream",
          "text": [
            "{'loss': 0.9995, 'learning_rate': 6.18e-06, 'epoch': 44.85}\n"
          ]
        },
        {
          "name": "stderr",
          "output_type": "stream",
          "text": [
            " 90%|████████▉ | 898/1000 [2:08:21<08:50,  5.20s/it]"
          ]
        },
        {
          "name": "stdout",
          "output_type": "stream",
          "text": [
            "{'loss': 1.0412, 'learning_rate': 6.12e-06, 'epoch': 44.9}\n"
          ]
        },
        {
          "name": "stderr",
          "output_type": "stream",
          "text": [
            " 90%|████████▉ | 899/1000 [2:08:26<08:44,  5.19s/it]"
          ]
        },
        {
          "name": "stdout",
          "output_type": "stream",
          "text": [
            "{'loss': 0.9968, 'learning_rate': 6.0600000000000004e-06, 'epoch': 44.95}\n"
          ]
        },
        {
          "name": "stderr",
          "output_type": "stream",
          "text": [
            " 90%|█████████ | 900/1000 [2:08:31<08:42,  5.23s/it]"
          ]
        },
        {
          "name": "stdout",
          "output_type": "stream",
          "text": [
            "{'loss': 0.9569, 'learning_rate': 6e-06, 'epoch': 45.0}\n"
          ]
        },
        {
          "name": "stderr",
          "output_type": "stream",
          "text": [
            "C:\\Users\\kuian\\.cache\\huggingface\\modules\\evaluate_modules\\metrics\\evaluate-metric--mean_iou\\08bc20f4f895f3caf75fb9e3fada1404bded3c3265243d05327cbb3b9326ffe9\\mean_iou.py:259: RuntimeWarning: invalid value encountered in divide\n",
            "  iou = total_area_intersect / total_area_union\n",
            "C:\\Users\\kuian\\.cache\\huggingface\\modules\\evaluate_modules\\metrics\\evaluate-metric--mean_iou\\08bc20f4f895f3caf75fb9e3fada1404bded3c3265243d05327cbb3b9326ffe9\\mean_iou.py:260: RuntimeWarning: invalid value encountered in divide\n",
            "  acc = total_area_intersect / total_area_label\n",
            "                                                    \n",
            " 90%|█████████ | 900/1000 [2:09:01<08:42,  5.23s/it]"
          ]
        },
        {
          "name": "stdout",
          "output_type": "stream",
          "text": [
            "{'eval_loss': 1.794673204421997, 'eval_mean_iou': 0.0979369580006545, 'eval_mean_accuracy': 0.15522494245122126, 'eval_overall_accuracy': 0.6123006142200779, 'eval_per_category_iou': [0.5677941898775393, nan, nan, 0.6184270235660515, 0.0, 0.5431164033498915, nan, nan, 0.15574500026808213, nan, 0.5227363350718535, nan, 0.0, 0.0, 0.35013790833929864, 0.0, nan, 0.0, 0.2386051194671417, 0.0, nan, nan, 0.0, nan, 0.0, nan, nan, 0.12220427353794834, nan, nan, nan, 0.0, 0.0, nan, nan, nan, nan, 0.1571858873723982, nan, nan, nan, 0.0, 0.0, 0.0, nan, nan, nan, 0.15288112441137353, nan, nan, nan, nan, nan, nan, nan, nan, nan, nan, 0.19300481036185846, nan, nan, nan, nan, 0.0, nan, 0.36537345513164965, nan, nan, nan, nan, 0.0, nan, nan, nan, nan, nan, nan, nan, nan, nan, nan, 0.028203747271748066, 0.0, nan, nan, nan, nan, 0.0, nan, 0.0, nan, nan, nan, nan, nan, nan, 0.0, nan, 0.0, nan, nan, nan, nan, nan, 0.0, nan, nan, nan, nan, nan, nan, nan, nan, nan, nan, nan, nan, nan, nan, nan, nan, nan, nan, nan, nan, 0.0, nan, nan, nan, nan, nan, nan, nan, nan, 0.0, nan, nan, 0.0, 0.0, nan, nan, nan, nan, nan, nan, 0.0, nan, nan, 0.0, 0.0], 'eval_per_category_accuracy': [0.7729406583169541, nan, nan, 0.7444215803651602, 0.0, 0.6798067815023816, nan, nan, 0.8643180195191621, nan, 0.6467425087073635, nan, 0.0, nan, 0.47983169835882655, 0.0, nan, 0.0, 0.2636951125567063, 0.0, nan, nan, 0.0, nan, 0.0, nan, nan, 0.18355410456961938, nan, nan, nan, 0.0, 0.0, nan, nan, nan, nan, 0.553188114624088, nan, nan, nan, 0.0, 0.0, 0.0, nan, nan, nan, 0.23299002958255724, nan, nan, nan, nan, nan, nan, nan, nan, nan, nan, 0.306047546225497, nan, nan, nan, nan, 0.0, nan, 0.4318083674143318, nan, nan, nan, nan, 0.0, nan, nan, nan, nan, nan, nan, nan, nan, nan, nan, 0.049653176306202904, 0.0, nan, nan, nan, nan, 0.0, nan, 0.0, nan, nan, nan, nan, nan, nan, 0.0, nan, 0.0, nan, nan, nan, nan, nan, 0.0, nan, nan, nan, nan, nan, nan, nan, nan, nan, nan, nan, nan, nan, nan, nan, nan, nan, nan, nan, nan, 0.0, nan, nan, nan, nan, nan, nan, nan, nan, 0.0, nan, nan, 0.0, 0.0, nan, nan, nan, nan, nan, nan, 0.0, nan, nan, 0.0, 0.0], 'eval_runtime': 29.3492, 'eval_samples_per_second': 0.341, 'eval_steps_per_second': 0.17, 'epoch': 45.0}\n"
          ]
        },
        {
          "name": "stderr",
          "output_type": "stream",
          "text": [
            " 90%|█████████ | 901/1000 [2:09:06<23:15, 14.10s/it]"
          ]
        },
        {
          "name": "stdout",
          "output_type": "stream",
          "text": [
            "{'loss': 1.2483, 'learning_rate': 5.940000000000001e-06, 'epoch': 45.05}\n"
          ]
        },
        {
          "name": "stderr",
          "output_type": "stream",
          "text": [
            " 90%|█████████ | 902/1000 [2:09:11<18:42, 11.46s/it]"
          ]
        },
        {
          "name": "stdout",
          "output_type": "stream",
          "text": [
            "{'loss': 0.7966, 'learning_rate': 5.8800000000000005e-06, 'epoch': 45.1}\n"
          ]
        },
        {
          "name": "stderr",
          "output_type": "stream",
          "text": [
            " 90%|█████████ | 903/1000 [2:09:17<15:30,  9.60s/it]"
          ]
        },
        {
          "name": "stdout",
          "output_type": "stream",
          "text": [
            "{'loss': 1.1529, 'learning_rate': 5.82e-06, 'epoch': 45.15}\n"
          ]
        },
        {
          "name": "stderr",
          "output_type": "stream",
          "text": [
            " 90%|█████████ | 904/1000 [2:09:22<13:17,  8.31s/it]"
          ]
        },
        {
          "name": "stdout",
          "output_type": "stream",
          "text": [
            "{'loss': 0.999, 'learning_rate': 5.76e-06, 'epoch': 45.2}\n"
          ]
        },
        {
          "name": "stderr",
          "output_type": "stream",
          "text": [
            " 90%|█████████ | 905/1000 [2:09:27<11:38,  7.35s/it]"
          ]
        },
        {
          "name": "stdout",
          "output_type": "stream",
          "text": [
            "{'loss': 0.9446, 'learning_rate': 5.7000000000000005e-06, 'epoch': 45.25}\n"
          ]
        },
        {
          "name": "stderr",
          "output_type": "stream",
          "text": [
            " 91%|█████████ | 906/1000 [2:09:32<10:30,  6.70s/it]"
          ]
        },
        {
          "name": "stdout",
          "output_type": "stream",
          "text": [
            "{'loss': 1.271, 'learning_rate': 5.64e-06, 'epoch': 45.3}\n"
          ]
        },
        {
          "name": "stderr",
          "output_type": "stream",
          "text": [
            " 91%|█████████ | 907/1000 [2:09:37<09:41,  6.25s/it]"
          ]
        },
        {
          "name": "stdout",
          "output_type": "stream",
          "text": [
            "{'loss': 0.966, 'learning_rate': 5.58e-06, 'epoch': 45.35}\n"
          ]
        },
        {
          "name": "stderr",
          "output_type": "stream",
          "text": [
            " 91%|█████████ | 908/1000 [2:09:43<09:10,  5.98s/it]"
          ]
        },
        {
          "name": "stdout",
          "output_type": "stream",
          "text": [
            "{'loss': 0.9839, 'learning_rate': 5.52e-06, 'epoch': 45.4}\n"
          ]
        },
        {
          "name": "stderr",
          "output_type": "stream",
          "text": [
            " 91%|█████████ | 909/1000 [2:09:48<08:44,  5.77s/it]"
          ]
        },
        {
          "name": "stdout",
          "output_type": "stream",
          "text": [
            "{'loss': 0.8759, 'learning_rate': 5.46e-06, 'epoch': 45.45}\n"
          ]
        },
        {
          "name": "stderr",
          "output_type": "stream",
          "text": [
            " 91%|█████████ | 910/1000 [2:09:53<08:23,  5.59s/it]"
          ]
        },
        {
          "name": "stdout",
          "output_type": "stream",
          "text": [
            "{'loss': 1.0929, 'learning_rate': 5.4e-06, 'epoch': 45.5}\n"
          ]
        },
        {
          "name": "stderr",
          "output_type": "stream",
          "text": [
            " 91%|█████████ | 911/1000 [2:09:58<08:04,  5.45s/it]"
          ]
        },
        {
          "name": "stdout",
          "output_type": "stream",
          "text": [
            "{'loss': 2.1147, 'learning_rate': 5.34e-06, 'epoch': 45.55}\n"
          ]
        },
        {
          "name": "stderr",
          "output_type": "stream",
          "text": [
            " 91%|█████████ | 912/1000 [2:10:03<07:49,  5.34s/it]"
          ]
        },
        {
          "name": "stdout",
          "output_type": "stream",
          "text": [
            "{'loss': 1.323, 'learning_rate': 5.279999999999999e-06, 'epoch': 45.6}\n"
          ]
        },
        {
          "name": "stderr",
          "output_type": "stream",
          "text": [
            " 91%|█████████▏| 913/1000 [2:10:08<07:37,  5.26s/it]"
          ]
        },
        {
          "name": "stdout",
          "output_type": "stream",
          "text": [
            "{'loss': 1.072, 'learning_rate': 5.22e-06, 'epoch': 45.65}\n"
          ]
        },
        {
          "name": "stderr",
          "output_type": "stream",
          "text": [
            " 91%|█████████▏| 914/1000 [2:10:14<07:32,  5.26s/it]"
          ]
        },
        {
          "name": "stdout",
          "output_type": "stream",
          "text": [
            "{'loss': 0.7916, 'learning_rate': 5.16e-06, 'epoch': 45.7}\n"
          ]
        },
        {
          "name": "stderr",
          "output_type": "stream",
          "text": [
            " 92%|█████████▏| 915/1000 [2:10:19<07:25,  5.25s/it]"
          ]
        },
        {
          "name": "stdout",
          "output_type": "stream",
          "text": [
            "{'loss': 1.5283, 'learning_rate': 5.1e-06, 'epoch': 45.75}\n"
          ]
        },
        {
          "name": "stderr",
          "output_type": "stream",
          "text": [
            " 92%|█████████▏| 916/1000 [2:10:24<07:14,  5.18s/it]"
          ]
        },
        {
          "name": "stdout",
          "output_type": "stream",
          "text": [
            "{'loss': 0.9615, 'learning_rate': 5.04e-06, 'epoch': 45.8}\n"
          ]
        },
        {
          "name": "stderr",
          "output_type": "stream",
          "text": [
            " 92%|█████████▏| 917/1000 [2:10:29<07:09,  5.18s/it]"
          ]
        },
        {
          "name": "stdout",
          "output_type": "stream",
          "text": [
            "{'loss': 0.9651, 'learning_rate': 4.980000000000001e-06, 'epoch': 45.85}\n"
          ]
        },
        {
          "name": "stderr",
          "output_type": "stream",
          "text": [
            " 92%|█████████▏| 918/1000 [2:10:34<07:07,  5.22s/it]"
          ]
        },
        {
          "name": "stdout",
          "output_type": "stream",
          "text": [
            "{'loss': 1.4577, 'learning_rate': 4.92e-06, 'epoch': 45.9}\n"
          ]
        },
        {
          "name": "stderr",
          "output_type": "stream",
          "text": [
            " 92%|█████████▏| 919/1000 [2:10:40<07:03,  5.22s/it]"
          ]
        },
        {
          "name": "stdout",
          "output_type": "stream",
          "text": [
            "{'loss': 1.2247, 'learning_rate': 4.86e-06, 'epoch': 45.95}\n"
          ]
        },
        {
          "name": "stderr",
          "output_type": "stream",
          "text": [
            " 92%|█████████▏| 920/1000 [2:10:45<06:57,  5.22s/it]"
          ]
        },
        {
          "name": "stdout",
          "output_type": "stream",
          "text": [
            "{'loss': 1.4891, 'learning_rate': 4.800000000000001e-06, 'epoch': 46.0}\n"
          ]
        },
        {
          "name": "stderr",
          "output_type": "stream",
          "text": [
            "C:\\Users\\kuian\\.cache\\huggingface\\modules\\evaluate_modules\\metrics\\evaluate-metric--mean_iou\\08bc20f4f895f3caf75fb9e3fada1404bded3c3265243d05327cbb3b9326ffe9\\mean_iou.py:259: RuntimeWarning: invalid value encountered in divide\n",
            "  iou = total_area_intersect / total_area_union\n",
            "C:\\Users\\kuian\\.cache\\huggingface\\modules\\evaluate_modules\\metrics\\evaluate-metric--mean_iou\\08bc20f4f895f3caf75fb9e3fada1404bded3c3265243d05327cbb3b9326ffe9\\mean_iou.py:260: RuntimeWarning: invalid value encountered in divide\n",
            "  acc = total_area_intersect / total_area_label\n",
            "                                                    \n",
            " 92%|█████████▏| 920/1000 [2:11:14<06:57,  5.22s/it]"
          ]
        },
        {
          "name": "stdout",
          "output_type": "stream",
          "text": [
            "{'eval_loss': 1.760928750038147, 'eval_mean_iou': 0.100253691300579, 'eval_mean_accuracy': 0.1544919628092289, 'eval_overall_accuracy': 0.615160577749856, 'eval_per_category_iou': [0.5734414266781781, nan, nan, 0.6069437334202076, 0.0, 0.550182883555038, nan, nan, 0.15243638164819515, nan, 0.5316134455139863, nan, 0.0, nan, 0.3625973296046499, 0.0, nan, 0.0, 0.2328109913099453, 0.0, nan, nan, 0.0, nan, 0.0, nan, nan, 0.12267667962987797, nan, nan, nan, 0.0, 0.0, nan, nan, nan, nan, 0.14844213021759378, nan, nan, nan, 0.0, 0.0, 0.0, nan, nan, nan, 0.14577513333091463, nan, nan, nan, nan, nan, nan, nan, nan, nan, nan, 0.19150048681980456, nan, nan, nan, nan, 0.0, nan, 0.36830371778899745, nan, nan, nan, nan, 0.0, nan, nan, nan, nan, nan, nan, nan, nan, nan, nan, 0.023423312505771184, 0.0, nan, nan, nan, nan, 0.0, nan, 0.0, nan, nan, nan, nan, nan, nan, 0.0, nan, 0.0, nan, nan, nan, nan, nan, 0.0, nan, nan, nan, nan, nan, nan, nan, nan, nan, nan, nan, nan, nan, nan, nan, nan, nan, nan, nan, nan, 0.0, nan, nan, nan, nan, nan, nan, nan, nan, 0.0, nan, nan, 0.0, 0.0, nan, nan, nan, nan, nan, nan, 0.0, nan, nan, 0.0, 0.0], 'eval_per_category_accuracy': [0.783419901264665, nan, nan, 0.7318953906016162, 0.0, 0.6786485479432376, nan, nan, 0.8790764103784813, nan, 0.6489921165060039, nan, 0.0, nan, 0.491901064670603, 0.0, nan, 0.0, 0.24765685183600103, 0.0, nan, nan, 0.0, nan, 0.0, nan, nan, 0.18045706056989555, nan, nan, nan, 0.0, 0.0, nan, nan, nan, nan, 0.5561753198688802, nan, nan, nan, 0.0, 0.0, 0.0, nan, nan, nan, 0.22011613892845402, nan, nan, nan, nan, nan, nan, nan, nan, nan, nan, 0.2953148894758793, nan, nan, nan, nan, 0.0, nan, 0.42804887342190157, nan, nan, nan, nan, 0.0, nan, nan, nan, nan, nan, nan, nan, nan, nan, nan, 0.0379759469035381, 0.0, nan, nan, nan, nan, 0.0, nan, 0.0, nan, nan, nan, nan, nan, nan, 0.0, nan, 0.0, nan, nan, nan, nan, nan, 0.0, nan, nan, nan, nan, nan, nan, nan, nan, nan, nan, nan, nan, nan, nan, nan, nan, nan, nan, nan, nan, 0.0, nan, nan, nan, nan, nan, nan, nan, nan, 0.0, nan, nan, 0.0, 0.0, nan, nan, nan, nan, nan, nan, 0.0, nan, nan, 0.0, 0.0], 'eval_runtime': 29.3444, 'eval_samples_per_second': 0.341, 'eval_steps_per_second': 0.17, 'epoch': 46.0}\n"
          ]
        },
        {
          "name": "stderr",
          "output_type": "stream",
          "text": [
            " 92%|█████████▏| 921/1000 [2:11:20<18:33, 14.09s/it]"
          ]
        },
        {
          "name": "stdout",
          "output_type": "stream",
          "text": [
            "{'loss': 1.0173, 'learning_rate': 4.74e-06, 'epoch': 46.05}\n"
          ]
        },
        {
          "name": "stderr",
          "output_type": "stream",
          "text": [
            " 92%|█████████▏| 922/1000 [2:11:25<14:53, 11.46s/it]"
          ]
        },
        {
          "name": "stdout",
          "output_type": "stream",
          "text": [
            "{'loss': 0.9784, 'learning_rate': 4.68e-06, 'epoch': 46.1}\n"
          ]
        },
        {
          "name": "stderr",
          "output_type": "stream",
          "text": [
            " 92%|█████████▏| 923/1000 [2:11:30<12:17,  9.58s/it]"
          ]
        },
        {
          "name": "stdout",
          "output_type": "stream",
          "text": [
            "{'loss': 1.1851, 'learning_rate': 4.62e-06, 'epoch': 46.15}\n"
          ]
        },
        {
          "name": "stderr",
          "output_type": "stream",
          "text": [
            " 92%|█████████▏| 924/1000 [2:11:35<10:25,  8.23s/it]"
          ]
        },
        {
          "name": "stdout",
          "output_type": "stream",
          "text": [
            "{'loss': 1.2494, 'learning_rate': 4.56e-06, 'epoch': 46.2}\n"
          ]
        },
        {
          "name": "stderr",
          "output_type": "stream",
          "text": [
            " 92%|█████████▎| 925/1000 [2:11:40<09:08,  7.32s/it]"
          ]
        },
        {
          "name": "stdout",
          "output_type": "stream",
          "text": [
            "{'loss': 1.1612, 'learning_rate': 4.5e-06, 'epoch': 46.25}\n"
          ]
        },
        {
          "name": "stderr",
          "output_type": "stream",
          "text": [
            " 93%|█████████▎| 926/1000 [2:11:46<08:14,  6.68s/it]"
          ]
        },
        {
          "name": "stdout",
          "output_type": "stream",
          "text": [
            "{'loss': 0.9644, 'learning_rate': 4.44e-06, 'epoch': 46.3}\n"
          ]
        },
        {
          "name": "stderr",
          "output_type": "stream",
          "text": [
            " 93%|█████████▎| 927/1000 [2:11:51<07:35,  6.24s/it]"
          ]
        },
        {
          "name": "stdout",
          "output_type": "stream",
          "text": [
            "{'loss': 1.0367, 'learning_rate': 4.3799999999999996e-06, 'epoch': 46.35}\n"
          ]
        },
        {
          "name": "stderr",
          "output_type": "stream",
          "text": [
            " 93%|█████████▎| 928/1000 [2:11:56<07:08,  5.96s/it]"
          ]
        },
        {
          "name": "stdout",
          "output_type": "stream",
          "text": [
            "{'loss': 0.9561, 'learning_rate': 4.32e-06, 'epoch': 46.4}\n"
          ]
        },
        {
          "name": "stderr",
          "output_type": "stream",
          "text": [
            " 93%|█████████▎| 929/1000 [2:12:01<06:48,  5.75s/it]"
          ]
        },
        {
          "name": "stdout",
          "output_type": "stream",
          "text": [
            "{'loss': 1.0468, 'learning_rate': 4.26e-06, 'epoch': 46.45}\n"
          ]
        },
        {
          "name": "stderr",
          "output_type": "stream",
          "text": [
            " 93%|█████████▎| 930/1000 [2:12:07<06:32,  5.61s/it]"
          ]
        },
        {
          "name": "stdout",
          "output_type": "stream",
          "text": [
            "{'loss': 1.1607, 'learning_rate': 4.2000000000000004e-06, 'epoch': 46.5}\n"
          ]
        },
        {
          "name": "stderr",
          "output_type": "stream",
          "text": [
            " 93%|█████████▎| 931/1000 [2:12:12<06:16,  5.46s/it]"
          ]
        },
        {
          "name": "stdout",
          "output_type": "stream",
          "text": [
            "{'loss': 0.8225, 'learning_rate': 4.14e-06, 'epoch': 46.55}\n"
          ]
        },
        {
          "name": "stderr",
          "output_type": "stream",
          "text": [
            " 93%|█████████▎| 932/1000 [2:12:17<06:04,  5.35s/it]"
          ]
        },
        {
          "name": "stdout",
          "output_type": "stream",
          "text": [
            "{'loss': 1.1516, 'learning_rate': 4.080000000000001e-06, 'epoch': 46.6}\n"
          ]
        },
        {
          "name": "stderr",
          "output_type": "stream",
          "text": [
            " 93%|█████████▎| 933/1000 [2:12:22<05:55,  5.30s/it]"
          ]
        },
        {
          "name": "stdout",
          "output_type": "stream",
          "text": [
            "{'loss': 1.1268, 'learning_rate': 4.0200000000000005e-06, 'epoch': 46.65}\n"
          ]
        },
        {
          "name": "stderr",
          "output_type": "stream",
          "text": [
            " 93%|█████████▎| 934/1000 [2:12:27<05:49,  5.29s/it]"
          ]
        },
        {
          "name": "stdout",
          "output_type": "stream",
          "text": [
            "{'loss': 0.6995, 'learning_rate': 3.96e-06, 'epoch': 46.7}\n"
          ]
        },
        {
          "name": "stderr",
          "output_type": "stream",
          "text": [
            " 94%|█████████▎| 935/1000 [2:12:33<05:41,  5.26s/it]"
          ]
        },
        {
          "name": "stdout",
          "output_type": "stream",
          "text": [
            "{'loss': 1.373, 'learning_rate': 3.9e-06, 'epoch': 46.75}\n"
          ]
        },
        {
          "name": "stderr",
          "output_type": "stream",
          "text": [
            " 94%|█████████▎| 936/1000 [2:12:38<05:34,  5.22s/it]"
          ]
        },
        {
          "name": "stdout",
          "output_type": "stream",
          "text": [
            "{'loss': 2.0211, 'learning_rate': 3.8400000000000005e-06, 'epoch': 46.8}\n"
          ]
        },
        {
          "name": "stderr",
          "output_type": "stream",
          "text": [
            " 94%|█████████▎| 937/1000 [2:12:43<05:27,  5.20s/it]"
          ]
        },
        {
          "name": "stdout",
          "output_type": "stream",
          "text": [
            "{'loss': 1.0398, 'learning_rate': 3.7800000000000002e-06, 'epoch': 46.85}\n"
          ]
        },
        {
          "name": "stderr",
          "output_type": "stream",
          "text": [
            " 94%|█████████▍| 938/1000 [2:12:48<05:19,  5.16s/it]"
          ]
        },
        {
          "name": "stdout",
          "output_type": "stream",
          "text": [
            "{'loss': 1.0763, 'learning_rate': 3.72e-06, 'epoch': 46.9}\n"
          ]
        },
        {
          "name": "stderr",
          "output_type": "stream",
          "text": [
            " 94%|█████████▍| 939/1000 [2:12:53<05:15,  5.17s/it]"
          ]
        },
        {
          "name": "stdout",
          "output_type": "stream",
          "text": [
            "{'loss': 1.1394, 'learning_rate': 3.66e-06, 'epoch': 46.95}\n"
          ]
        },
        {
          "name": "stderr",
          "output_type": "stream",
          "text": [
            " 94%|█████████▍| 940/1000 [2:12:58<05:10,  5.17s/it]"
          ]
        },
        {
          "name": "stdout",
          "output_type": "stream",
          "text": [
            "{'loss': 1.2002, 'learning_rate': 3.6e-06, 'epoch': 47.0}\n"
          ]
        },
        {
          "name": "stderr",
          "output_type": "stream",
          "text": [
            "C:\\Users\\kuian\\.cache\\huggingface\\modules\\evaluate_modules\\metrics\\evaluate-metric--mean_iou\\08bc20f4f895f3caf75fb9e3fada1404bded3c3265243d05327cbb3b9326ffe9\\mean_iou.py:259: RuntimeWarning: invalid value encountered in divide\n",
            "  iou = total_area_intersect / total_area_union\n",
            "C:\\Users\\kuian\\.cache\\huggingface\\modules\\evaluate_modules\\metrics\\evaluate-metric--mean_iou\\08bc20f4f895f3caf75fb9e3fada1404bded3c3265243d05327cbb3b9326ffe9\\mean_iou.py:260: RuntimeWarning: invalid value encountered in divide\n",
            "  acc = total_area_intersect / total_area_label\n",
            "                                                    \n",
            " 94%|█████████▍| 940/1000 [2:13:28<05:10,  5.17s/it]"
          ]
        },
        {
          "name": "stdout",
          "output_type": "stream",
          "text": [
            "{'eval_loss': 1.757677435874939, 'eval_mean_iou': 0.09980766723340356, 'eval_mean_accuracy': 0.15512921209385172, 'eval_overall_accuracy': 0.612244366202717, 'eval_per_category_iou': [0.5646891546615552, nan, nan, 0.6148673922761817, 0.0, 0.5417822820199196, nan, nan, 0.16216036080069315, nan, 0.5216396253273666, nan, 0.0, nan, 0.35859462569311495, 0.0, nan, 0.0, 0.21412612097901385, 0.0, nan, nan, 0.0, nan, 0.0, nan, nan, 0.12027579873093622, nan, nan, nan, 0.0, 0.0, nan, nan, nan, nan, 0.15312422820449495, nan, nan, nan, 0.0, 0.0, 0.0, nan, nan, nan, 0.14691145677535147, nan, nan, nan, nan, nan, nan, nan, nan, nan, nan, 0.1921069720762737, nan, nan, nan, nan, 0.0, nan, 0.3687043775973816, nan, nan, nan, nan, 0.0, nan, nan, nan, nan, nan, nan, nan, nan, nan, nan, 0.03332429419385941, 0.0, nan, nan, nan, nan, 0.0, nan, 0.0, nan, nan, nan, nan, nan, nan, 0.0, nan, 0.0, nan, nan, nan, nan, nan, 0.0, nan, nan, nan, nan, nan, nan, nan, nan, nan, nan, nan, nan, nan, nan, nan, nan, nan, nan, nan, nan, 0.0, nan, nan, nan, nan, nan, nan, nan, nan, 0.0, nan, nan, 0.0, 0.0, nan, nan, nan, nan, nan, nan, 0.0, nan, nan, 0.0, 0.0], 'eval_per_category_accuracy': [0.7660543523275677, nan, nan, 0.7564539060161628, 0.0, 0.6959771585567871, nan, nan, 0.8687217329207332, nan, 0.6544286686860514, nan, 0.0, nan, 0.5042214886791576, 0.0, nan, 0.0, 0.22455704870324403, 0.0, nan, nan, 0.0, nan, 0.0, nan, nan, 0.17050509434148362, nan, nan, nan, 0.0, 0.0, nan, nan, nan, nan, 0.5572591730992915, nan, nan, nan, 0.0, 0.0, 0.0, nan, nan, nan, 0.21524049523392133, nan, nan, nan, nan, nan, nan, nan, nan, nan, nan, 0.30159877658834977, nan, nan, nan, nan, 0.0, nan, 0.43495821373231386, nan, nan, nan, nan, 0.0, nan, nan, nan, nan, nan, nan, nan, nan, nan, nan, 0.05519237486900544, 0.0, nan, nan, nan, nan, 0.0, nan, 0.0, nan, nan, nan, nan, nan, nan, 0.0, nan, 0.0, nan, nan, nan, nan, nan, 0.0, nan, nan, nan, nan, nan, nan, nan, nan, nan, nan, nan, nan, nan, nan, nan, nan, nan, nan, nan, nan, 0.0, nan, nan, nan, nan, nan, nan, nan, nan, 0.0, nan, nan, 0.0, 0.0, nan, nan, nan, nan, nan, nan, 0.0, nan, nan, 0.0, 0.0], 'eval_runtime': 29.3731, 'eval_samples_per_second': 0.34, 'eval_steps_per_second': 0.17, 'epoch': 47.0}\n"
          ]
        },
        {
          "name": "stderr",
          "output_type": "stream",
          "text": [
            " 94%|█████████▍| 941/1000 [2:13:33<13:48, 14.05s/it]"
          ]
        },
        {
          "name": "stdout",
          "output_type": "stream",
          "text": [
            "{'loss': 1.0774, 'learning_rate': 3.54e-06, 'epoch': 47.05}\n"
          ]
        },
        {
          "name": "stderr",
          "output_type": "stream",
          "text": [
            " 94%|█████████▍| 942/1000 [2:13:38<11:00, 11.39s/it]"
          ]
        },
        {
          "name": "stdout",
          "output_type": "stream",
          "text": [
            "{'loss': 1.001, 'learning_rate': 3.48e-06, 'epoch': 47.1}\n"
          ]
        },
        {
          "name": "stderr",
          "output_type": "stream",
          "text": [
            " 94%|█████████▍| 943/1000 [2:13:43<09:03,  9.54s/it]"
          ]
        },
        {
          "name": "stdout",
          "output_type": "stream",
          "text": [
            "{'loss': 1.0815, 'learning_rate': 3.4200000000000003e-06, 'epoch': 47.15}\n"
          ]
        },
        {
          "name": "stderr",
          "output_type": "stream",
          "text": [
            " 94%|█████████▍| 944/1000 [2:13:49<07:41,  8.24s/it]"
          ]
        },
        {
          "name": "stdout",
          "output_type": "stream",
          "text": [
            "{'loss': 1.0498, 'learning_rate': 3.36e-06, 'epoch': 47.2}\n"
          ]
        },
        {
          "name": "stderr",
          "output_type": "stream",
          "text": [
            " 94%|█████████▍| 945/1000 [2:13:54<06:43,  7.34s/it]"
          ]
        },
        {
          "name": "stdout",
          "output_type": "stream",
          "text": [
            "{'loss': 0.8326, 'learning_rate': 3.3e-06, 'epoch': 47.25}\n"
          ]
        },
        {
          "name": "stderr",
          "output_type": "stream",
          "text": [
            " 95%|█████████▍| 946/1000 [2:13:59<06:01,  6.69s/it]"
          ]
        },
        {
          "name": "stdout",
          "output_type": "stream",
          "text": [
            "{'loss': 1.3927, 'learning_rate': 3.24e-06, 'epoch': 47.3}\n"
          ]
        },
        {
          "name": "stderr",
          "output_type": "stream",
          "text": [
            " 95%|█████████▍| 947/1000 [2:14:04<05:30,  6.23s/it]"
          ]
        },
        {
          "name": "stdout",
          "output_type": "stream",
          "text": [
            "{'loss': 1.4934, 'learning_rate': 3.18e-06, 'epoch': 47.35}\n"
          ]
        },
        {
          "name": "stderr",
          "output_type": "stream",
          "text": [
            " 95%|█████████▍| 948/1000 [2:14:09<05:06,  5.90s/it]"
          ]
        },
        {
          "name": "stdout",
          "output_type": "stream",
          "text": [
            "{'loss': 1.9188, 'learning_rate': 3.1199999999999998e-06, 'epoch': 47.4}\n"
          ]
        },
        {
          "name": "stderr",
          "output_type": "stream",
          "text": [
            " 95%|█████████▍| 949/1000 [2:14:15<04:49,  5.68s/it]"
          ]
        },
        {
          "name": "stdout",
          "output_type": "stream",
          "text": [
            "{'loss': 1.4206, 'learning_rate': 3.06e-06, 'epoch': 47.45}\n"
          ]
        },
        {
          "name": "stderr",
          "output_type": "stream",
          "text": [
            " 95%|█████████▌| 950/1000 [2:14:20<04:38,  5.58s/it]"
          ]
        },
        {
          "name": "stdout",
          "output_type": "stream",
          "text": [
            "{'loss': 1.0062, 'learning_rate': 3e-06, 'epoch': 47.5}\n"
          ]
        },
        {
          "name": "stderr",
          "output_type": "stream",
          "text": [
            " 95%|█████████▌| 951/1000 [2:14:25<04:27,  5.45s/it]"
          ]
        },
        {
          "name": "stdout",
          "output_type": "stream",
          "text": [
            "{'loss': 1.3016, 'learning_rate': 2.9400000000000002e-06, 'epoch': 47.55}\n"
          ]
        },
        {
          "name": "stderr",
          "output_type": "stream",
          "text": [
            " 95%|█████████▌| 952/1000 [2:14:30<04:16,  5.35s/it]"
          ]
        },
        {
          "name": "stdout",
          "output_type": "stream",
          "text": [
            "{'loss': 1.1598, 'learning_rate': 2.88e-06, 'epoch': 47.6}\n"
          ]
        },
        {
          "name": "stderr",
          "output_type": "stream",
          "text": [
            " 95%|█████████▌| 953/1000 [2:14:35<04:10,  5.34s/it]"
          ]
        },
        {
          "name": "stdout",
          "output_type": "stream",
          "text": [
            "{'loss': 1.1552, 'learning_rate': 2.82e-06, 'epoch': 47.65}\n"
          ]
        },
        {
          "name": "stderr",
          "output_type": "stream",
          "text": [
            " 95%|█████████▌| 954/1000 [2:14:41<04:02,  5.27s/it]"
          ]
        },
        {
          "name": "stdout",
          "output_type": "stream",
          "text": [
            "{'loss': 0.841, 'learning_rate': 2.76e-06, 'epoch': 47.7}\n"
          ]
        },
        {
          "name": "stderr",
          "output_type": "stream",
          "text": [
            " 96%|█████████▌| 955/1000 [2:14:46<03:58,  5.30s/it]"
          ]
        },
        {
          "name": "stdout",
          "output_type": "stream",
          "text": [
            "{'loss': 1.3116, 'learning_rate': 2.7e-06, 'epoch': 47.75}\n"
          ]
        },
        {
          "name": "stderr",
          "output_type": "stream",
          "text": [
            " 96%|█████████▌| 956/1000 [2:14:51<03:50,  5.24s/it]"
          ]
        },
        {
          "name": "stdout",
          "output_type": "stream",
          "text": [
            "{'loss': 1.1771, 'learning_rate': 2.6399999999999997e-06, 'epoch': 47.8}\n"
          ]
        },
        {
          "name": "stderr",
          "output_type": "stream",
          "text": [
            " 96%|█████████▌| 957/1000 [2:14:56<03:43,  5.21s/it]"
          ]
        },
        {
          "name": "stdout",
          "output_type": "stream",
          "text": [
            "{'loss': 1.1596, 'learning_rate': 2.58e-06, 'epoch': 47.85}\n"
          ]
        },
        {
          "name": "stderr",
          "output_type": "stream",
          "text": [
            " 96%|█████████▌| 958/1000 [2:15:01<03:38,  5.19s/it]"
          ]
        },
        {
          "name": "stdout",
          "output_type": "stream",
          "text": [
            "{'loss': 1.514, 'learning_rate': 2.52e-06, 'epoch': 47.9}\n"
          ]
        },
        {
          "name": "stderr",
          "output_type": "stream",
          "text": [
            " 96%|█████████▌| 959/1000 [2:15:07<03:34,  5.23s/it]"
          ]
        },
        {
          "name": "stdout",
          "output_type": "stream",
          "text": [
            "{'loss': 0.8261, 'learning_rate': 2.46e-06, 'epoch': 47.95}\n"
          ]
        },
        {
          "name": "stderr",
          "output_type": "stream",
          "text": [
            " 96%|█████████▌| 960/1000 [2:15:12<03:29,  5.24s/it]"
          ]
        },
        {
          "name": "stdout",
          "output_type": "stream",
          "text": [
            "{'loss': 0.7524, 'learning_rate': 2.4000000000000003e-06, 'epoch': 48.0}\n"
          ]
        },
        {
          "name": "stderr",
          "output_type": "stream",
          "text": [
            "C:\\Users\\kuian\\.cache\\huggingface\\modules\\evaluate_modules\\metrics\\evaluate-metric--mean_iou\\08bc20f4f895f3caf75fb9e3fada1404bded3c3265243d05327cbb3b9326ffe9\\mean_iou.py:259: RuntimeWarning: invalid value encountered in divide\n",
            "  iou = total_area_intersect / total_area_union\n",
            "C:\\Users\\kuian\\.cache\\huggingface\\modules\\evaluate_modules\\metrics\\evaluate-metric--mean_iou\\08bc20f4f895f3caf75fb9e3fada1404bded3c3265243d05327cbb3b9326ffe9\\mean_iou.py:260: RuntimeWarning: invalid value encountered in divide\n",
            "  acc = total_area_intersect / total_area_label\n",
            "                                                    \n",
            " 96%|█████████▌| 960/1000 [2:15:41<03:29,  5.24s/it]"
          ]
        },
        {
          "name": "stdout",
          "output_type": "stream",
          "text": [
            "{'eval_loss': 1.75028395652771, 'eval_mean_iou': 0.09762440894250086, 'eval_mean_accuracy': 0.1540887428715784, 'eval_overall_accuracy': 0.6139731655598353, 'eval_per_category_iou': [0.5674126132790827, nan, nan, 0.6125141011574539, 0.0, 0.5489051564521779, nan, nan, 0.16744137883424995, nan, 0.5356534927434513, nan, 0.0, 0.0, 0.362523216858477, 0.0, nan, 0.0, 0.1867686582592516, 0.0, nan, nan, 0.0, nan, 0.0, nan, nan, 0.12781560683413398, nan, nan, nan, 0.0, 0.0, nan, nan, nan, nan, 0.1509011991466196, nan, nan, nan, 0.0, 0.0, 0.0, nan, nan, nan, 0.1543450798499161, nan, nan, nan, nan, nan, nan, nan, nan, nan, nan, 0.194737346355649, nan, nan, nan, nan, 0.0, nan, 0.37670735871606625, nan, nan, nan, nan, 0.0, nan, nan, nan, nan, nan, nan, nan, nan, nan, nan, 0.01687555815600653, 0.0, nan, nan, nan, nan, 0.0, nan, 0.0, nan, nan, nan, nan, nan, nan, 0.0, nan, 0.0, nan, nan, nan, nan, nan, 0.0, nan, nan, nan, nan, nan, nan, nan, nan, nan, nan, nan, nan, nan, nan, nan, nan, nan, nan, nan, nan, 0.0, nan, nan, nan, nan, nan, nan, nan, nan, 0.0, nan, nan, 0.0, 0.0, nan, nan, nan, nan, nan, nan, 0.0, nan, nan, 0.0, 0.0], 'eval_per_category_accuracy': [0.7778999630939827, nan, nan, 0.7414771026638731, 0.0, 0.6893958779455271, nan, nan, 0.8660437990954535, nan, 0.6551292044479088, nan, 0.0, nan, 0.4854851457529406, 0.0, nan, 0.0, 0.19331507318325772, 0.0, nan, nan, 0.0, nan, 0.0, nan, nan, 0.19236193989367473, nan, nan, nan, 0.0, 0.0, nan, nan, nan, nan, 0.542243840541398, nan, nan, nan, 0.0, 0.0, 0.0, nan, nan, nan, 0.22422482743508274, nan, nan, nan, nan, nan, nan, nan, nan, nan, nan, 0.32025580425413597, nan, nan, nan, nan, 0.0, nan, 0.448370462570173, nan, nan, nan, nan, 0.0, nan, nan, nan, nan, nan, nan, nan, nan, nan, nan, 0.02734667398572783, 0.0, nan, nan, nan, nan, 0.0, nan, 0.0, nan, nan, nan, nan, nan, nan, 0.0, nan, 0.0, nan, nan, nan, nan, nan, 0.0, nan, nan, nan, nan, nan, nan, nan, nan, nan, nan, nan, nan, nan, nan, nan, nan, nan, nan, nan, nan, 0.0, nan, nan, nan, nan, nan, nan, nan, nan, 0.0, nan, nan, 0.0, 0.0, nan, nan, nan, nan, nan, nan, 0.0, nan, nan, 0.0, 0.0], 'eval_runtime': 29.6119, 'eval_samples_per_second': 0.338, 'eval_steps_per_second': 0.169, 'epoch': 48.0}\n"
          ]
        },
        {
          "name": "stderr",
          "output_type": "stream",
          "text": [
            " 96%|█████████▌| 961/1000 [2:15:47<09:13, 14.19s/it]"
          ]
        },
        {
          "name": "stdout",
          "output_type": "stream",
          "text": [
            "{'loss': 1.0024, 'learning_rate': 2.34e-06, 'epoch': 48.05}\n"
          ]
        },
        {
          "name": "stderr",
          "output_type": "stream",
          "text": [
            " 96%|█████████▌| 962/1000 [2:15:52<07:17, 11.51s/it]"
          ]
        },
        {
          "name": "stdout",
          "output_type": "stream",
          "text": [
            "{'loss': 0.9216, 'learning_rate': 2.28e-06, 'epoch': 48.1}\n"
          ]
        },
        {
          "name": "stderr",
          "output_type": "stream",
          "text": [
            " 96%|█████████▋| 963/1000 [2:15:57<05:56,  9.64s/it]"
          ]
        },
        {
          "name": "stdout",
          "output_type": "stream",
          "text": [
            "{'loss': 0.8744, 'learning_rate': 2.22e-06, 'epoch': 48.15}\n"
          ]
        },
        {
          "name": "stderr",
          "output_type": "stream",
          "text": [
            " 96%|█████████▋| 964/1000 [2:16:03<04:59,  8.31s/it]"
          ]
        },
        {
          "name": "stdout",
          "output_type": "stream",
          "text": [
            "{'loss': 0.9462, 'learning_rate': 2.16e-06, 'epoch': 48.2}\n"
          ]
        },
        {
          "name": "stderr",
          "output_type": "stream",
          "text": [
            " 96%|█████████▋| 965/1000 [2:16:08<04:17,  7.36s/it]"
          ]
        },
        {
          "name": "stdout",
          "output_type": "stream",
          "text": [
            "{'loss': 0.8563, 'learning_rate': 2.1000000000000002e-06, 'epoch': 48.25}\n"
          ]
        },
        {
          "name": "stderr",
          "output_type": "stream",
          "text": [
            " 97%|█████████▋| 966/1000 [2:16:13<03:46,  6.67s/it]"
          ]
        },
        {
          "name": "stdout",
          "output_type": "stream",
          "text": [
            "{'loss': 1.0756, 'learning_rate': 2.0400000000000004e-06, 'epoch': 48.3}\n"
          ]
        },
        {
          "name": "stderr",
          "output_type": "stream",
          "text": [
            " 97%|█████████▋| 967/1000 [2:16:18<03:25,  6.21s/it]"
          ]
        },
        {
          "name": "stdout",
          "output_type": "stream",
          "text": [
            "{'loss': 1.1994, 'learning_rate': 1.98e-06, 'epoch': 48.35}\n"
          ]
        },
        {
          "name": "stderr",
          "output_type": "stream",
          "text": [
            " 97%|█████████▋| 968/1000 [2:16:23<03:09,  5.91s/it]"
          ]
        },
        {
          "name": "stdout",
          "output_type": "stream",
          "text": [
            "{'loss': 1.0766, 'learning_rate': 1.9200000000000003e-06, 'epoch': 48.4}\n"
          ]
        },
        {
          "name": "stderr",
          "output_type": "stream",
          "text": [
            " 97%|█████████▋| 969/1000 [2:16:28<02:56,  5.71s/it]"
          ]
        },
        {
          "name": "stdout",
          "output_type": "stream",
          "text": [
            "{'loss': 1.1715, 'learning_rate': 1.86e-06, 'epoch': 48.45}\n"
          ]
        },
        {
          "name": "stderr",
          "output_type": "stream",
          "text": [
            " 97%|█████████▋| 970/1000 [2:16:34<02:47,  5.59s/it]"
          ]
        },
        {
          "name": "stdout",
          "output_type": "stream",
          "text": [
            "{'loss': 1.1319, 'learning_rate': 1.8e-06, 'epoch': 48.5}\n"
          ]
        },
        {
          "name": "stderr",
          "output_type": "stream",
          "text": [
            " 97%|█████████▋| 971/1000 [2:16:39<02:39,  5.52s/it]"
          ]
        },
        {
          "name": "stdout",
          "output_type": "stream",
          "text": [
            "{'loss': 1.1934, 'learning_rate': 1.74e-06, 'epoch': 48.55}\n"
          ]
        },
        {
          "name": "stderr",
          "output_type": "stream",
          "text": [
            " 97%|█████████▋| 972/1000 [2:16:44<02:31,  5.42s/it]"
          ]
        },
        {
          "name": "stdout",
          "output_type": "stream",
          "text": [
            "{'loss': 1.1319, 'learning_rate': 1.68e-06, 'epoch': 48.6}\n"
          ]
        },
        {
          "name": "stderr",
          "output_type": "stream",
          "text": [
            " 97%|█████████▋| 973/1000 [2:16:49<02:22,  5.29s/it]"
          ]
        },
        {
          "name": "stdout",
          "output_type": "stream",
          "text": [
            "{'loss': 0.7587, 'learning_rate': 1.62e-06, 'epoch': 48.65}\n"
          ]
        },
        {
          "name": "stderr",
          "output_type": "stream",
          "text": [
            " 97%|█████████▋| 974/1000 [2:16:54<02:16,  5.25s/it]"
          ]
        },
        {
          "name": "stdout",
          "output_type": "stream",
          "text": [
            "{'loss': 1.2259, 'learning_rate': 1.5599999999999999e-06, 'epoch': 48.7}\n"
          ]
        },
        {
          "name": "stderr",
          "output_type": "stream",
          "text": [
            " 98%|█████████▊| 975/1000 [2:17:00<02:10,  5.23s/it]"
          ]
        },
        {
          "name": "stdout",
          "output_type": "stream",
          "text": [
            "{'loss': 2.0786, 'learning_rate': 1.5e-06, 'epoch': 48.75}\n"
          ]
        },
        {
          "name": "stderr",
          "output_type": "stream",
          "text": [
            " 98%|█████████▊| 976/1000 [2:17:05<02:04,  5.19s/it]"
          ]
        },
        {
          "name": "stdout",
          "output_type": "stream",
          "text": [
            "{'loss': 0.7225, 'learning_rate': 1.44e-06, 'epoch': 48.8}\n"
          ]
        },
        {
          "name": "stderr",
          "output_type": "stream",
          "text": [
            " 98%|█████████▊| 977/1000 [2:17:10<01:59,  5.17s/it]"
          ]
        },
        {
          "name": "stdout",
          "output_type": "stream",
          "text": [
            "{'loss': 0.8582, 'learning_rate': 1.38e-06, 'epoch': 48.85}\n"
          ]
        },
        {
          "name": "stderr",
          "output_type": "stream",
          "text": [
            " 98%|█████████▊| 978/1000 [2:17:15<01:53,  5.16s/it]"
          ]
        },
        {
          "name": "stdout",
          "output_type": "stream",
          "text": [
            "{'loss': 1.3881, 'learning_rate': 1.3199999999999999e-06, 'epoch': 48.9}\n"
          ]
        },
        {
          "name": "stderr",
          "output_type": "stream",
          "text": [
            " 98%|█████████▊| 979/1000 [2:17:20<01:48,  5.18s/it]"
          ]
        },
        {
          "name": "stdout",
          "output_type": "stream",
          "text": [
            "{'loss': 1.1657, 'learning_rate': 1.26e-06, 'epoch': 48.95}\n"
          ]
        },
        {
          "name": "stderr",
          "output_type": "stream",
          "text": [
            " 98%|█████████▊| 980/1000 [2:17:25<01:43,  5.18s/it]"
          ]
        },
        {
          "name": "stdout",
          "output_type": "stream",
          "text": [
            "{'loss': 0.8755, 'learning_rate': 1.2000000000000002e-06, 'epoch': 49.0}\n"
          ]
        },
        {
          "name": "stderr",
          "output_type": "stream",
          "text": [
            "C:\\Users\\kuian\\.cache\\huggingface\\modules\\evaluate_modules\\metrics\\evaluate-metric--mean_iou\\08bc20f4f895f3caf75fb9e3fada1404bded3c3265243d05327cbb3b9326ffe9\\mean_iou.py:259: RuntimeWarning: invalid value encountered in divide\n",
            "  iou = total_area_intersect / total_area_union\n",
            "C:\\Users\\kuian\\.cache\\huggingface\\modules\\evaluate_modules\\metrics\\evaluate-metric--mean_iou\\08bc20f4f895f3caf75fb9e3fada1404bded3c3265243d05327cbb3b9326ffe9\\mean_iou.py:260: RuntimeWarning: invalid value encountered in divide\n",
            "  acc = total_area_intersect / total_area_label\n",
            "                                                    \n",
            " 98%|█████████▊| 980/1000 [2:17:55<01:43,  5.18s/it]"
          ]
        },
        {
          "name": "stdout",
          "output_type": "stream",
          "text": [
            "{'eval_loss': 1.7545311450958252, 'eval_mean_iou': 0.09802919314030158, 'eval_mean_accuracy': 0.1547938828062654, 'eval_overall_accuracy': 0.6154149345930684, 'eval_per_category_iou': [0.5702840705573542, nan, nan, 0.6127784442987718, 0.0, 0.5487478847001607, nan, nan, 0.16712692937927556, nan, 0.5319496064496104, nan, 0.0, 0.0, 0.362491151628444, 0.0, nan, 0.0, 0.22798691332094675, 0.0, nan, nan, 0.0, nan, 0.0, nan, nan, 0.12301672051863233, nan, nan, nan, 0.0, 0.0, nan, nan, nan, nan, 0.14658383347154483, nan, nan, nan, 0.0, 0.0, 0.0, nan, nan, nan, 0.14570694649396077, nan, nan, nan, nan, nan, nan, nan, nan, nan, nan, 0.18669008929878494, nan, nan, nan, nan, 0.0, nan, 0.36692360990819334, nan, nan, nan, nan, 0.0, nan, nan, nan, nan, nan, nan, nan, nan, nan, nan, 0.028910718726684905, 0.0, nan, nan, nan, nan, 0.0, nan, 0.0, nan, nan, nan, nan, nan, nan, 0.0, nan, 0.0, nan, nan, nan, nan, nan, 0.0, nan, nan, nan, nan, nan, nan, nan, nan, nan, nan, nan, nan, nan, nan, nan, nan, nan, nan, nan, nan, 0.0, nan, nan, nan, nan, nan, nan, nan, nan, 0.0, nan, nan, 0.0, 0.0, nan, nan, nan, nan, nan, nan, 0.0, nan, nan, 0.0, 0.0], 'eval_per_category_accuracy': [0.7789677020698359, nan, nan, 0.7414509129003293, 0.0, 0.6929379177833744, nan, nan, 0.8679481075934301, nan, 0.6594902862329923, nan, 0.0, nan, 0.49044585987261147, 0.0, nan, 0.0, 0.24156894633227766, 0.0, nan, nan, 0.0, nan, 0.0, nan, nan, 0.17611725369130166, nan, nan, nan, 0.0, 0.0, nan, nan, nan, nan, 0.5513905043882839, nan, nan, nan, 0.0, 0.0, 0.0, nan, nan, nan, 0.21907527117344144, nan, nan, nan, nan, nan, nan, nan, nan, nan, nan, 0.29549098660734974, nan, nan, nan, nan, 0.0, nan, 0.4304620621332588, nan, nan, nan, nan, 0.0, nan, nan, nan, nan, nan, nan, nan, nan, nan, nan, 0.04640950147212935, 0.0, nan, nan, nan, nan, 0.0, nan, 0.0, nan, nan, nan, nan, nan, nan, 0.0, nan, 0.0, nan, nan, nan, nan, nan, 0.0, nan, nan, nan, nan, nan, nan, nan, nan, nan, nan, nan, nan, nan, nan, nan, nan, nan, nan, nan, nan, 0.0, nan, nan, nan, nan, nan, nan, nan, nan, 0.0, nan, nan, 0.0, 0.0, nan, nan, nan, nan, nan, nan, 0.0, nan, nan, 0.0, 0.0], 'eval_runtime': 29.9134, 'eval_samples_per_second': 0.334, 'eval_steps_per_second': 0.167, 'epoch': 49.0}\n"
          ]
        },
        {
          "name": "stderr",
          "output_type": "stream",
          "text": [
            " 98%|█████████▊| 981/1000 [2:18:01<04:30, 14.23s/it]"
          ]
        },
        {
          "name": "stdout",
          "output_type": "stream",
          "text": [
            "{'loss': 1.3647, 'learning_rate': 1.14e-06, 'epoch': 49.05}\n"
          ]
        },
        {
          "name": "stderr",
          "output_type": "stream",
          "text": [
            " 98%|█████████▊| 982/1000 [2:18:06<03:26, 11.49s/it]"
          ]
        },
        {
          "name": "stdout",
          "output_type": "stream",
          "text": [
            "{'loss': 1.0885, 'learning_rate': 1.08e-06, 'epoch': 49.1}\n"
          ]
        },
        {
          "name": "stderr",
          "output_type": "stream",
          "text": [
            " 98%|█████████▊| 983/1000 [2:18:11<02:43,  9.62s/it]"
          ]
        },
        {
          "name": "stdout",
          "output_type": "stream",
          "text": [
            "{'loss': 1.2393, 'learning_rate': 1.0200000000000002e-06, 'epoch': 49.15}\n"
          ]
        },
        {
          "name": "stderr",
          "output_type": "stream",
          "text": [
            " 98%|█████████▊| 984/1000 [2:18:16<02:12,  8.30s/it]"
          ]
        },
        {
          "name": "stdout",
          "output_type": "stream",
          "text": [
            "{'loss': 0.9217, 'learning_rate': 9.600000000000001e-07, 'epoch': 49.2}\n"
          ]
        },
        {
          "name": "stderr",
          "output_type": "stream",
          "text": [
            " 98%|█████████▊| 985/1000 [2:18:21<01:50,  7.35s/it]"
          ]
        },
        {
          "name": "stdout",
          "output_type": "stream",
          "text": [
            "{'loss': 1.1306, 'learning_rate': 9e-07, 'epoch': 49.25}\n"
          ]
        },
        {
          "name": "stderr",
          "output_type": "stream",
          "text": [
            " 99%|█████████▊| 986/1000 [2:18:27<01:33,  6.71s/it]"
          ]
        },
        {
          "name": "stdout",
          "output_type": "stream",
          "text": [
            "{'loss': 2.183, 'learning_rate': 8.4e-07, 'epoch': 49.3}\n"
          ]
        },
        {
          "name": "stderr",
          "output_type": "stream",
          "text": [
            " 99%|█████████▊| 987/1000 [2:18:32<01:21,  6.25s/it]"
          ]
        },
        {
          "name": "stdout",
          "output_type": "stream",
          "text": [
            "{'loss': 0.9731, 'learning_rate': 7.799999999999999e-07, 'epoch': 49.35}\n"
          ]
        },
        {
          "name": "stderr",
          "output_type": "stream",
          "text": [
            " 99%|█████████▉| 988/1000 [2:18:37<01:11,  5.97s/it]"
          ]
        },
        {
          "name": "stdout",
          "output_type": "stream",
          "text": [
            "{'loss': 0.6996, 'learning_rate': 7.2e-07, 'epoch': 49.4}\n"
          ]
        },
        {
          "name": "stderr",
          "output_type": "stream",
          "text": [
            " 99%|█████████▉| 989/1000 [2:18:42<01:03,  5.76s/it]"
          ]
        },
        {
          "name": "stdout",
          "output_type": "stream",
          "text": [
            "{'loss': 1.2165, 'learning_rate': 6.599999999999999e-07, 'epoch': 49.45}\n"
          ]
        },
        {
          "name": "stderr",
          "output_type": "stream",
          "text": [
            " 99%|█████████▉| 990/1000 [2:18:48<00:56,  5.61s/it]"
          ]
        },
        {
          "name": "stdout",
          "output_type": "stream",
          "text": [
            "{'loss': 0.7412, 'learning_rate': 6.000000000000001e-07, 'epoch': 49.5}\n"
          ]
        },
        {
          "name": "stderr",
          "output_type": "stream",
          "text": [
            " 99%|█████████▉| 991/1000 [2:18:53<00:49,  5.54s/it]"
          ]
        },
        {
          "name": "stdout",
          "output_type": "stream",
          "text": [
            "{'loss': 0.9646, 'learning_rate': 5.4e-07, 'epoch': 49.55}\n"
          ]
        },
        {
          "name": "stderr",
          "output_type": "stream",
          "text": [
            " 99%|█████████▉| 992/1000 [2:18:58<00:43,  5.39s/it]"
          ]
        },
        {
          "name": "stdout",
          "output_type": "stream",
          "text": [
            "{'loss': 1.3488, 'learning_rate': 4.800000000000001e-07, 'epoch': 49.6}\n"
          ]
        },
        {
          "name": "stderr",
          "output_type": "stream",
          "text": [
            " 99%|█████████▉| 993/1000 [2:19:03<00:37,  5.29s/it]"
          ]
        },
        {
          "name": "stdout",
          "output_type": "stream",
          "text": [
            "{'loss': 1.4149, 'learning_rate': 4.2e-07, 'epoch': 49.65}\n"
          ]
        },
        {
          "name": "stderr",
          "output_type": "stream",
          "text": [
            " 99%|█████████▉| 994/1000 [2:19:08<00:31,  5.24s/it]"
          ]
        },
        {
          "name": "stdout",
          "output_type": "stream",
          "text": [
            "{'loss': 1.2789, 'learning_rate': 3.6e-07, 'epoch': 49.7}\n"
          ]
        },
        {
          "name": "stderr",
          "output_type": "stream",
          "text": [
            "100%|█████████▉| 995/1000 [2:19:14<00:26,  5.28s/it]"
          ]
        },
        {
          "name": "stdout",
          "output_type": "stream",
          "text": [
            "{'loss': 1.0182, 'learning_rate': 3.0000000000000004e-07, 'epoch': 49.75}\n"
          ]
        },
        {
          "name": "stderr",
          "output_type": "stream",
          "text": [
            "100%|█████████▉| 996/1000 [2:19:19<00:21,  5.29s/it]"
          ]
        },
        {
          "name": "stdout",
          "output_type": "stream",
          "text": [
            "{'loss': 0.9439, 'learning_rate': 2.4000000000000003e-07, 'epoch': 49.8}\n"
          ]
        },
        {
          "name": "stderr",
          "output_type": "stream",
          "text": [
            "100%|█████████▉| 997/1000 [2:19:24<00:15,  5.29s/it]"
          ]
        },
        {
          "name": "stdout",
          "output_type": "stream",
          "text": [
            "{'loss': 1.039, 'learning_rate': 1.8e-07, 'epoch': 49.85}\n"
          ]
        },
        {
          "name": "stderr",
          "output_type": "stream",
          "text": [
            "100%|█████████▉| 998/1000 [2:19:29<00:10,  5.25s/it]"
          ]
        },
        {
          "name": "stdout",
          "output_type": "stream",
          "text": [
            "{'loss': 0.9255, 'learning_rate': 1.2000000000000002e-07, 'epoch': 49.9}\n"
          ]
        },
        {
          "name": "stderr",
          "output_type": "stream",
          "text": [
            "100%|█████████▉| 999/1000 [2:19:35<00:05,  5.24s/it]"
          ]
        },
        {
          "name": "stdout",
          "output_type": "stream",
          "text": [
            "{'loss': 1.3214, 'learning_rate': 6.000000000000001e-08, 'epoch': 49.95}\n"
          ]
        },
        {
          "name": "stderr",
          "output_type": "stream",
          "text": [
            "100%|██████████| 1000/1000 [2:19:40<00:00,  5.23s/it]"
          ]
        },
        {
          "name": "stdout",
          "output_type": "stream",
          "text": [
            "{'loss': 0.9737, 'learning_rate': 0.0, 'epoch': 50.0}\n"
          ]
        },
        {
          "name": "stderr",
          "output_type": "stream",
          "text": [
            "C:\\Users\\kuian\\.cache\\huggingface\\modules\\evaluate_modules\\metrics\\evaluate-metric--mean_iou\\08bc20f4f895f3caf75fb9e3fada1404bded3c3265243d05327cbb3b9326ffe9\\mean_iou.py:259: RuntimeWarning: invalid value encountered in divide\n",
            "  iou = total_area_intersect / total_area_union\n",
            "C:\\Users\\kuian\\.cache\\huggingface\\modules\\evaluate_modules\\metrics\\evaluate-metric--mean_iou\\08bc20f4f895f3caf75fb9e3fada1404bded3c3265243d05327cbb3b9326ffe9\\mean_iou.py:260: RuntimeWarning: invalid value encountered in divide\n",
            "  acc = total_area_intersect / total_area_label\n",
            "                                                     \n",
            "100%|██████████| 1000/1000 [2:20:09<00:00,  5.23s/it]"
          ]
        },
        {
          "name": "stdout",
          "output_type": "stream",
          "text": [
            "{'eval_loss': 1.770898461341858, 'eval_mean_iou': 0.0982623779379418, 'eval_mean_accuracy': 0.1543897345485117, 'eval_overall_accuracy': 0.6159178580424118, 'eval_per_category_iou': [0.570535375824218, nan, nan, 0.6130338405157704, 0.0, 0.5509697928622377, nan, nan, 0.1706564252391499, nan, 0.5366531154338284, nan, 0.0, 0.0, 0.36152708864967054, 0.0, nan, 0.0, 0.21930082405051743, 0.0, nan, nan, 0.0, nan, 0.0, nan, nan, 0.12684979369319765, nan, nan, nan, 0.0, 0.0, nan, nan, nan, nan, 0.14733174529811213, nan, nan, nan, 0.0, 0.0, 0.0, nan, nan, nan, 0.14588512364254874, nan, nan, nan, nan, nan, nan, nan, nan, nan, nan, 0.18847045518801245, nan, nan, nan, nan, 0.0, nan, 0.3721795565170362, nan, nan, nan, nan, 0.0, nan, nan, nan, nan, nan, nan, nan, nan, nan, nan, 0.02536435854131482, 0.0, nan, nan, nan, nan, 0.0, nan, 0.0, nan, nan, nan, nan, nan, nan, 0.0, nan, 0.0, nan, nan, nan, nan, nan, 0.0, nan, nan, nan, nan, nan, nan, nan, nan, nan, nan, nan, nan, nan, nan, nan, nan, nan, nan, nan, nan, 0.0, nan, nan, nan, nan, nan, nan, nan, nan, 0.0, nan, nan, 0.0, 0.0, nan, nan, nan, nan, nan, nan, 0.0, nan, nan, 0.0, 0.0], 'eval_per_category_accuracy': [0.7816008947596272, nan, nan, 0.7460191559413349, 0.0, 0.6831512931363438, nan, nan, 0.8620566531778148, nan, 0.6538366666337777, nan, 0.0, nan, 0.4854386535868706, 0.0, nan, 0.0, 0.2314901994350766, 0.0, nan, nan, 0.0, nan, 0.0, nan, nan, 0.18405712763963822, nan, nan, nan, 0.0, 0.0, nan, nan, nan, nan, 0.5477424130273871, nan, nan, nan, 0.0, 0.0, 0.0, nan, nan, nan, 0.21378875862824587, nan, nan, nan, nan, nan, nan, nan, nan, nan, nan, 0.30892070994948795, nan, nan, nan, nan, 0.0, nan, 0.4370157746335763, nan, nan, nan, nan, 0.0, nan, nan, nan, nan, nan, nan, nan, nan, nan, nan, 0.04047108139128699, 0.0, nan, nan, nan, nan, 0.0, nan, 0.0, nan, nan, nan, nan, nan, nan, 0.0, nan, 0.0, nan, nan, nan, nan, nan, 0.0, nan, nan, nan, nan, nan, nan, nan, nan, nan, nan, nan, nan, nan, nan, nan, nan, nan, nan, nan, nan, 0.0, nan, nan, nan, nan, nan, nan, nan, nan, 0.0, nan, nan, 0.0, 0.0, nan, nan, nan, nan, nan, nan, 0.0, nan, nan, 0.0, 0.0], 'eval_runtime': 29.4254, 'eval_samples_per_second': 0.34, 'eval_steps_per_second': 0.17, 'epoch': 50.0}\n"
          ]
        },
        {
          "name": "stderr",
          "output_type": "stream",
          "text": [
            "100%|██████████| 1000/1000 [2:20:10<00:00,  8.41s/it]"
          ]
        },
        {
          "name": "stdout",
          "output_type": "stream",
          "text": [
            "{'train_runtime': 8410.026, 'train_samples_per_second': 0.238, 'train_steps_per_second': 0.119, 'train_loss': 1.9985741859674453, 'epoch': 50.0}\n"
          ]
        },
        {
          "name": "stderr",
          "output_type": "stream",
          "text": [
            "\n"
          ]
        },
        {
          "data": {
            "text/plain": [
              "TrainOutput(global_step=1000, training_loss=1.9985741859674453, metrics={'train_runtime': 8410.026, 'train_samples_per_second': 0.238, 'train_steps_per_second': 0.119, 'train_loss': 1.9985741859674453, 'epoch': 50.0})"
            ]
          },
          "execution_count": 14,
          "metadata": {},
          "output_type": "execute_result"
        }
      ],
      "source": [
        "training_args = TrainingArguments(\n",
        "    output_dir=\"segformer-b0-scene-parse-150\",\n",
        "    learning_rate=6e-5,\n",
        "    num_train_epochs=50,\n",
        "    per_device_train_batch_size=2,\n",
        "    per_device_eval_batch_size=2,\n",
        "    save_total_limit=3,\n",
        "    evaluation_strategy=\"steps\",\n",
        "    save_strategy=\"steps\",\n",
        "    save_steps=20,\n",
        "    eval_steps=20,\n",
        "    logging_steps=1,\n",
        "    eval_accumulation_steps=5,\n",
        "    remove_unused_columns=False,\n",
        ")\n",
        "\n",
        "trainer = Trainer(\n",
        "    model=model,\n",
        "    args=training_args,\n",
        "    train_dataset=train_ds,\n",
        "    eval_dataset=test_ds,\n",
        "    compute_metrics=compute_metrics,\n",
        ")\n",
        "\n",
        "trainer.train()"
      ]
    },
    {
      "cell_type": "code",
      "execution_count": null,
      "metadata": {
        "id": "Lh2IU3wvEMtd"
      },
      "outputs": [],
      "source": [
        "trainer.save_model(\"123\")"
      ]
    },
    {
      "cell_type": "code",
      "execution_count": null,
      "metadata": {
        "id": "24fbTtTFEMtd",
        "outputId": "f25c3019-1558-4865-a971-2c7f665559f0"
      },
      "outputs": [
        {
          "ename": "OSError",
          "evalue": "my_awesome_seg_model is not a local folder and is not a valid model identifier listed on 'https://huggingface.co/models'\nIf this is a private repository, make sure to pass a token having permission to this repo with `use_auth_token` or log in with `huggingface-cli login` and pass `use_auth_token=True`.",
          "output_type": "error",
          "traceback": [
            "\u001b[1;31m---------------------------------------------------------------------------\u001b[0m",
            "\u001b[1;31mHTTPError\u001b[0m                                 Traceback (most recent call last)",
            "File \u001b[1;32mc:\\Users\\kuian\\.conda\\envs\\master\\lib\\site-packages\\huggingface_hub\\utils\\_errors.py:261\u001b[0m, in \u001b[0;36mhf_raise_for_status\u001b[1;34m(response, endpoint_name)\u001b[0m\n\u001b[0;32m    260\u001b[0m \u001b[39mtry\u001b[39;00m:\n\u001b[1;32m--> 261\u001b[0m     response\u001b[39m.\u001b[39;49mraise_for_status()\n\u001b[0;32m    262\u001b[0m \u001b[39mexcept\u001b[39;00m HTTPError \u001b[39mas\u001b[39;00m e:\n",
            "File \u001b[1;32mc:\\Users\\kuian\\.conda\\envs\\master\\lib\\site-packages\\requests\\models.py:1021\u001b[0m, in \u001b[0;36mResponse.raise_for_status\u001b[1;34m(self)\u001b[0m\n\u001b[0;32m   1020\u001b[0m \u001b[39mif\u001b[39;00m http_error_msg:\n\u001b[1;32m-> 1021\u001b[0m     \u001b[39mraise\u001b[39;00m HTTPError(http_error_msg, response\u001b[39m=\u001b[39m\u001b[39mself\u001b[39m)\n",
            "\u001b[1;31mHTTPError\u001b[0m: 401 Client Error: Unauthorized for url: https://huggingface.co/my_awesome_seg_model/resolve/main/config.json",
            "\nThe above exception was the direct cause of the following exception:\n",
            "\u001b[1;31mRepositoryNotFoundError\u001b[0m                   Traceback (most recent call last)",
            "File \u001b[1;32mc:\\Users\\kuian\\.conda\\envs\\master\\lib\\site-packages\\transformers\\utils\\hub.py:417\u001b[0m, in \u001b[0;36mcached_file\u001b[1;34m(path_or_repo_id, filename, cache_dir, force_download, resume_download, proxies, use_auth_token, revision, local_files_only, subfolder, repo_type, user_agent, _raise_exceptions_for_missing_entries, _raise_exceptions_for_connection_errors, _commit_hash)\u001b[0m\n\u001b[0;32m    415\u001b[0m \u001b[39mtry\u001b[39;00m:\n\u001b[0;32m    416\u001b[0m     \u001b[39m# Load from URL or cache if already cached\u001b[39;00m\n\u001b[1;32m--> 417\u001b[0m     resolved_file \u001b[39m=\u001b[39m hf_hub_download(\n\u001b[0;32m    418\u001b[0m         path_or_repo_id,\n\u001b[0;32m    419\u001b[0m         filename,\n\u001b[0;32m    420\u001b[0m         subfolder\u001b[39m=\u001b[39;49m\u001b[39mNone\u001b[39;49;00m \u001b[39mif\u001b[39;49;00m \u001b[39mlen\u001b[39;49m(subfolder) \u001b[39m==\u001b[39;49m \u001b[39m0\u001b[39;49m \u001b[39melse\u001b[39;49;00m subfolder,\n\u001b[0;32m    421\u001b[0m         repo_type\u001b[39m=\u001b[39;49mrepo_type,\n\u001b[0;32m    422\u001b[0m         revision\u001b[39m=\u001b[39;49mrevision,\n\u001b[0;32m    423\u001b[0m         cache_dir\u001b[39m=\u001b[39;49mcache_dir,\n\u001b[0;32m    424\u001b[0m         user_agent\u001b[39m=\u001b[39;49muser_agent,\n\u001b[0;32m    425\u001b[0m         force_download\u001b[39m=\u001b[39;49mforce_download,\n\u001b[0;32m    426\u001b[0m         proxies\u001b[39m=\u001b[39;49mproxies,\n\u001b[0;32m    427\u001b[0m         resume_download\u001b[39m=\u001b[39;49mresume_download,\n\u001b[0;32m    428\u001b[0m         use_auth_token\u001b[39m=\u001b[39;49muse_auth_token,\n\u001b[0;32m    429\u001b[0m         local_files_only\u001b[39m=\u001b[39;49mlocal_files_only,\n\u001b[0;32m    430\u001b[0m     )\n\u001b[0;32m    432\u001b[0m \u001b[39mexcept\u001b[39;00m RepositoryNotFoundError:\n",
            "File \u001b[1;32mc:\\Users\\kuian\\.conda\\envs\\master\\lib\\site-packages\\huggingface_hub\\utils\\_validators.py:118\u001b[0m, in \u001b[0;36mvalidate_hf_hub_args.<locals>._inner_fn\u001b[1;34m(*args, **kwargs)\u001b[0m\n\u001b[0;32m    116\u001b[0m     kwargs \u001b[39m=\u001b[39m smoothly_deprecate_use_auth_token(fn_name\u001b[39m=\u001b[39mfn\u001b[39m.\u001b[39m\u001b[39m__name__\u001b[39m, has_token\u001b[39m=\u001b[39mhas_token, kwargs\u001b[39m=\u001b[39mkwargs)\n\u001b[1;32m--> 118\u001b[0m \u001b[39mreturn\u001b[39;00m fn(\u001b[39m*\u001b[39margs, \u001b[39m*\u001b[39m\u001b[39m*\u001b[39mkwargs)\n",
            "File \u001b[1;32mc:\\Users\\kuian\\.conda\\envs\\master\\lib\\site-packages\\huggingface_hub\\file_download.py:1195\u001b[0m, in \u001b[0;36mhf_hub_download\u001b[1;34m(repo_id, filename, subfolder, repo_type, revision, library_name, library_version, cache_dir, local_dir, local_dir_use_symlinks, user_agent, force_download, force_filename, proxies, etag_timeout, resume_download, token, local_files_only, legacy_cache_layout)\u001b[0m\n\u001b[0;32m   1194\u001b[0m \u001b[39mtry\u001b[39;00m:\n\u001b[1;32m-> 1195\u001b[0m     metadata \u001b[39m=\u001b[39m get_hf_file_metadata(\n\u001b[0;32m   1196\u001b[0m         url\u001b[39m=\u001b[39;49murl,\n\u001b[0;32m   1197\u001b[0m         token\u001b[39m=\u001b[39;49mtoken,\n\u001b[0;32m   1198\u001b[0m         proxies\u001b[39m=\u001b[39;49mproxies,\n\u001b[0;32m   1199\u001b[0m         timeout\u001b[39m=\u001b[39;49metag_timeout,\n\u001b[0;32m   1200\u001b[0m     )\n\u001b[0;32m   1201\u001b[0m \u001b[39mexcept\u001b[39;00m EntryNotFoundError \u001b[39mas\u001b[39;00m http_error:\n\u001b[0;32m   1202\u001b[0m     \u001b[39m# Cache the non-existence of the file and raise\u001b[39;00m\n",
            "File \u001b[1;32mc:\\Users\\kuian\\.conda\\envs\\master\\lib\\site-packages\\huggingface_hub\\utils\\_validators.py:118\u001b[0m, in \u001b[0;36mvalidate_hf_hub_args.<locals>._inner_fn\u001b[1;34m(*args, **kwargs)\u001b[0m\n\u001b[0;32m    116\u001b[0m     kwargs \u001b[39m=\u001b[39m smoothly_deprecate_use_auth_token(fn_name\u001b[39m=\u001b[39mfn\u001b[39m.\u001b[39m\u001b[39m__name__\u001b[39m, has_token\u001b[39m=\u001b[39mhas_token, kwargs\u001b[39m=\u001b[39mkwargs)\n\u001b[1;32m--> 118\u001b[0m \u001b[39mreturn\u001b[39;00m fn(\u001b[39m*\u001b[39margs, \u001b[39m*\u001b[39m\u001b[39m*\u001b[39mkwargs)\n",
            "File \u001b[1;32mc:\\Users\\kuian\\.conda\\envs\\master\\lib\\site-packages\\huggingface_hub\\file_download.py:1541\u001b[0m, in \u001b[0;36mget_hf_file_metadata\u001b[1;34m(url, token, proxies, timeout)\u001b[0m\n\u001b[0;32m   1532\u001b[0m r \u001b[39m=\u001b[39m _request_wrapper(\n\u001b[0;32m   1533\u001b[0m     method\u001b[39m=\u001b[39m\u001b[39m\"\u001b[39m\u001b[39mHEAD\u001b[39m\u001b[39m\"\u001b[39m,\n\u001b[0;32m   1534\u001b[0m     url\u001b[39m=\u001b[39murl,\n\u001b[1;32m   (...)\u001b[0m\n\u001b[0;32m   1539\u001b[0m     timeout\u001b[39m=\u001b[39mtimeout,\n\u001b[0;32m   1540\u001b[0m )\n\u001b[1;32m-> 1541\u001b[0m hf_raise_for_status(r)\n\u001b[0;32m   1543\u001b[0m \u001b[39m# Return\u001b[39;00m\n",
            "File \u001b[1;32mc:\\Users\\kuian\\.conda\\envs\\master\\lib\\site-packages\\huggingface_hub\\utils\\_errors.py:293\u001b[0m, in \u001b[0;36mhf_raise_for_status\u001b[1;34m(response, endpoint_name)\u001b[0m\n\u001b[0;32m    285\u001b[0m     message \u001b[39m=\u001b[39m (\n\u001b[0;32m    286\u001b[0m         \u001b[39mf\u001b[39m\u001b[39m\"\u001b[39m\u001b[39m{\u001b[39;00mresponse\u001b[39m.\u001b[39mstatus_code\u001b[39m}\u001b[39;00m\u001b[39m Client Error.\u001b[39m\u001b[39m\"\u001b[39m\n\u001b[0;32m    287\u001b[0m         \u001b[39m+\u001b[39m \u001b[39m\"\u001b[39m\u001b[39m\\n\u001b[39;00m\u001b[39m\\n\u001b[39;00m\u001b[39m\"\u001b[39m\n\u001b[1;32m   (...)\u001b[0m\n\u001b[0;32m    291\u001b[0m         \u001b[39m\"\u001b[39m\u001b[39m make sure you are authenticated.\u001b[39m\u001b[39m\"\u001b[39m\n\u001b[0;32m    292\u001b[0m     )\n\u001b[1;32m--> 293\u001b[0m     \u001b[39mraise\u001b[39;00m RepositoryNotFoundError(message, response) \u001b[39mfrom\u001b[39;00m \u001b[39me\u001b[39;00m\n\u001b[0;32m    295\u001b[0m \u001b[39melif\u001b[39;00m response\u001b[39m.\u001b[39mstatus_code \u001b[39m==\u001b[39m \u001b[39m400\u001b[39m:\n",
            "\u001b[1;31mRepositoryNotFoundError\u001b[0m: 401 Client Error. (Request ID: f3eca741-a742-440b-aa48-01e914a7b209)\n\nRepository Not Found for url: https://huggingface.co/my_awesome_seg_model/resolve/main/config.json.\nPlease make sure you specified the correct `repo_id` and `repo_type`.\nIf you are trying to access a private or gated repo, make sure you are authenticated.\nInvalid username or password.",
            "\nDuring handling of the above exception, another exception occurred:\n",
            "\u001b[1;31mOSError\u001b[0m                                   Traceback (most recent call last)",
            "Cell \u001b[1;32mIn[15], line 3\u001b[0m\n\u001b[0;32m      1\u001b[0m \u001b[39mfrom\u001b[39;00m \u001b[39mtransformers\u001b[39;00m \u001b[39mimport\u001b[39;00m pipeline\n\u001b[1;32m----> 3\u001b[0m segmenter \u001b[39m=\u001b[39m pipeline(\u001b[39m\"\u001b[39;49m\u001b[39mimage-segmentation\u001b[39;49m\u001b[39m\"\u001b[39;49m, model\u001b[39m=\u001b[39;49m\u001b[39m\"\u001b[39;49m\u001b[39mmy_awesome_seg_model\u001b[39;49m\u001b[39m\"\u001b[39;49m)\n\u001b[0;32m      4\u001b[0m segmenter(image)\n",
            "File \u001b[1;32mc:\\Users\\kuian\\.conda\\envs\\master\\lib\\site-packages\\transformers\\pipelines\\__init__.py:705\u001b[0m, in \u001b[0;36mpipeline\u001b[1;34m(task, model, config, tokenizer, feature_extractor, image_processor, framework, revision, use_fast, use_auth_token, device, device_map, torch_dtype, trust_remote_code, model_kwargs, pipeline_class, **kwargs)\u001b[0m\n\u001b[0;32m    703\u001b[0m     hub_kwargs[\u001b[39m\"\u001b[39m\u001b[39m_commit_hash\u001b[39m\u001b[39m\"\u001b[39m] \u001b[39m=\u001b[39m config\u001b[39m.\u001b[39m_commit_hash\n\u001b[0;32m    704\u001b[0m \u001b[39melif\u001b[39;00m config \u001b[39mis\u001b[39;00m \u001b[39mNone\u001b[39;00m \u001b[39mand\u001b[39;00m \u001b[39misinstance\u001b[39m(model, \u001b[39mstr\u001b[39m):\n\u001b[1;32m--> 705\u001b[0m     config \u001b[39m=\u001b[39m AutoConfig\u001b[39m.\u001b[39mfrom_pretrained(model, _from_pipeline\u001b[39m=\u001b[39mtask, \u001b[39m*\u001b[39m\u001b[39m*\u001b[39mhub_kwargs, \u001b[39m*\u001b[39m\u001b[39m*\u001b[39mmodel_kwargs)\n\u001b[0;32m    706\u001b[0m     hub_kwargs[\u001b[39m\"\u001b[39m\u001b[39m_commit_hash\u001b[39m\u001b[39m\"\u001b[39m] \u001b[39m=\u001b[39m config\u001b[39m.\u001b[39m_commit_hash\n\u001b[0;32m    708\u001b[0m custom_tasks \u001b[39m=\u001b[39m {}\n",
            "File \u001b[1;32mc:\\Users\\kuian\\.conda\\envs\\master\\lib\\site-packages\\transformers\\models\\auto\\configuration_auto.py:944\u001b[0m, in \u001b[0;36mAutoConfig.from_pretrained\u001b[1;34m(cls, pretrained_model_name_or_path, **kwargs)\u001b[0m\n\u001b[0;32m    942\u001b[0m kwargs[\u001b[39m\"\u001b[39m\u001b[39mname_or_path\u001b[39m\u001b[39m\"\u001b[39m] \u001b[39m=\u001b[39m pretrained_model_name_or_path\n\u001b[0;32m    943\u001b[0m trust_remote_code \u001b[39m=\u001b[39m kwargs\u001b[39m.\u001b[39mpop(\u001b[39m\"\u001b[39m\u001b[39mtrust_remote_code\u001b[39m\u001b[39m\"\u001b[39m, \u001b[39mNone\u001b[39;00m)\n\u001b[1;32m--> 944\u001b[0m config_dict, unused_kwargs \u001b[39m=\u001b[39m PretrainedConfig\u001b[39m.\u001b[39mget_config_dict(pretrained_model_name_or_path, \u001b[39m*\u001b[39m\u001b[39m*\u001b[39mkwargs)\n\u001b[0;32m    945\u001b[0m has_remote_code \u001b[39m=\u001b[39m \u001b[39m\"\u001b[39m\u001b[39mauto_map\u001b[39m\u001b[39m\"\u001b[39m \u001b[39min\u001b[39;00m config_dict \u001b[39mand\u001b[39;00m \u001b[39m\"\u001b[39m\u001b[39mAutoConfig\u001b[39m\u001b[39m\"\u001b[39m \u001b[39min\u001b[39;00m config_dict[\u001b[39m\"\u001b[39m\u001b[39mauto_map\u001b[39m\u001b[39m\"\u001b[39m]\n\u001b[0;32m    946\u001b[0m has_local_code \u001b[39m=\u001b[39m \u001b[39m\"\u001b[39m\u001b[39mmodel_type\u001b[39m\u001b[39m\"\u001b[39m \u001b[39min\u001b[39;00m config_dict \u001b[39mand\u001b[39;00m config_dict[\u001b[39m\"\u001b[39m\u001b[39mmodel_type\u001b[39m\u001b[39m\"\u001b[39m] \u001b[39min\u001b[39;00m CONFIG_MAPPING\n",
            "File \u001b[1;32mc:\\Users\\kuian\\.conda\\envs\\master\\lib\\site-packages\\transformers\\configuration_utils.py:574\u001b[0m, in \u001b[0;36mPretrainedConfig.get_config_dict\u001b[1;34m(cls, pretrained_model_name_or_path, **kwargs)\u001b[0m\n\u001b[0;32m    572\u001b[0m original_kwargs \u001b[39m=\u001b[39m copy\u001b[39m.\u001b[39mdeepcopy(kwargs)\n\u001b[0;32m    573\u001b[0m \u001b[39m# Get config dict associated with the base config file\u001b[39;00m\n\u001b[1;32m--> 574\u001b[0m config_dict, kwargs \u001b[39m=\u001b[39m \u001b[39mcls\u001b[39m\u001b[39m.\u001b[39m_get_config_dict(pretrained_model_name_or_path, \u001b[39m*\u001b[39m\u001b[39m*\u001b[39mkwargs)\n\u001b[0;32m    575\u001b[0m \u001b[39mif\u001b[39;00m \u001b[39m\"\u001b[39m\u001b[39m_commit_hash\u001b[39m\u001b[39m\"\u001b[39m \u001b[39min\u001b[39;00m config_dict:\n\u001b[0;32m    576\u001b[0m     original_kwargs[\u001b[39m\"\u001b[39m\u001b[39m_commit_hash\u001b[39m\u001b[39m\"\u001b[39m] \u001b[39m=\u001b[39m config_dict[\u001b[39m\"\u001b[39m\u001b[39m_commit_hash\u001b[39m\u001b[39m\"\u001b[39m]\n",
            "File \u001b[1;32mc:\\Users\\kuian\\.conda\\envs\\master\\lib\\site-packages\\transformers\\configuration_utils.py:629\u001b[0m, in \u001b[0;36mPretrainedConfig._get_config_dict\u001b[1;34m(cls, pretrained_model_name_or_path, **kwargs)\u001b[0m\n\u001b[0;32m    625\u001b[0m configuration_file \u001b[39m=\u001b[39m kwargs\u001b[39m.\u001b[39mpop(\u001b[39m\"\u001b[39m\u001b[39m_configuration_file\u001b[39m\u001b[39m\"\u001b[39m, CONFIG_NAME)\n\u001b[0;32m    627\u001b[0m \u001b[39mtry\u001b[39;00m:\n\u001b[0;32m    628\u001b[0m     \u001b[39m# Load from local folder or from cache or download from model Hub and cache\u001b[39;00m\n\u001b[1;32m--> 629\u001b[0m     resolved_config_file \u001b[39m=\u001b[39m cached_file(\n\u001b[0;32m    630\u001b[0m         pretrained_model_name_or_path,\n\u001b[0;32m    631\u001b[0m         configuration_file,\n\u001b[0;32m    632\u001b[0m         cache_dir\u001b[39m=\u001b[39;49mcache_dir,\n\u001b[0;32m    633\u001b[0m         force_download\u001b[39m=\u001b[39;49mforce_download,\n\u001b[0;32m    634\u001b[0m         proxies\u001b[39m=\u001b[39;49mproxies,\n\u001b[0;32m    635\u001b[0m         resume_download\u001b[39m=\u001b[39;49mresume_download,\n\u001b[0;32m    636\u001b[0m         local_files_only\u001b[39m=\u001b[39;49mlocal_files_only,\n\u001b[0;32m    637\u001b[0m         use_auth_token\u001b[39m=\u001b[39;49muse_auth_token,\n\u001b[0;32m    638\u001b[0m         user_agent\u001b[39m=\u001b[39;49muser_agent,\n\u001b[0;32m    639\u001b[0m         revision\u001b[39m=\u001b[39;49mrevision,\n\u001b[0;32m    640\u001b[0m         subfolder\u001b[39m=\u001b[39;49msubfolder,\n\u001b[0;32m    641\u001b[0m         _commit_hash\u001b[39m=\u001b[39;49mcommit_hash,\n\u001b[0;32m    642\u001b[0m     )\n\u001b[0;32m    643\u001b[0m     commit_hash \u001b[39m=\u001b[39m extract_commit_hash(resolved_config_file, commit_hash)\n\u001b[0;32m    644\u001b[0m \u001b[39mexcept\u001b[39;00m \u001b[39mEnvironmentError\u001b[39;00m:\n\u001b[0;32m    645\u001b[0m     \u001b[39m# Raise any environment error raise by `cached_file`. It will have a helpful error message adapted to\u001b[39;00m\n\u001b[0;32m    646\u001b[0m     \u001b[39m# the original exception.\u001b[39;00m\n",
            "File \u001b[1;32mc:\\Users\\kuian\\.conda\\envs\\master\\lib\\site-packages\\transformers\\utils\\hub.py:433\u001b[0m, in \u001b[0;36mcached_file\u001b[1;34m(path_or_repo_id, filename, cache_dir, force_download, resume_download, proxies, use_auth_token, revision, local_files_only, subfolder, repo_type, user_agent, _raise_exceptions_for_missing_entries, _raise_exceptions_for_connection_errors, _commit_hash)\u001b[0m\n\u001b[0;32m    417\u001b[0m     resolved_file \u001b[39m=\u001b[39m hf_hub_download(\n\u001b[0;32m    418\u001b[0m         path_or_repo_id,\n\u001b[0;32m    419\u001b[0m         filename,\n\u001b[1;32m   (...)\u001b[0m\n\u001b[0;32m    429\u001b[0m         local_files_only\u001b[39m=\u001b[39mlocal_files_only,\n\u001b[0;32m    430\u001b[0m     )\n\u001b[0;32m    432\u001b[0m \u001b[39mexcept\u001b[39;00m RepositoryNotFoundError:\n\u001b[1;32m--> 433\u001b[0m     \u001b[39mraise\u001b[39;00m \u001b[39mEnvironmentError\u001b[39;00m(\n\u001b[0;32m    434\u001b[0m         \u001b[39mf\u001b[39m\u001b[39m\"\u001b[39m\u001b[39m{\u001b[39;00mpath_or_repo_id\u001b[39m}\u001b[39;00m\u001b[39m is not a local folder and is not a valid model identifier \u001b[39m\u001b[39m\"\u001b[39m\n\u001b[0;32m    435\u001b[0m         \u001b[39m\"\u001b[39m\u001b[39mlisted on \u001b[39m\u001b[39m'\u001b[39m\u001b[39mhttps://huggingface.co/models\u001b[39m\u001b[39m'\u001b[39m\u001b[39m\\n\u001b[39;00m\u001b[39mIf this is a private repository, make sure to \u001b[39m\u001b[39m\"\u001b[39m\n\u001b[0;32m    436\u001b[0m         \u001b[39m\"\u001b[39m\u001b[39mpass a token having permission to this repo with `use_auth_token` or log in with \u001b[39m\u001b[39m\"\u001b[39m\n\u001b[0;32m    437\u001b[0m         \u001b[39m\"\u001b[39m\u001b[39m`huggingface-cli login` and pass `use_auth_token=True`.\u001b[39m\u001b[39m\"\u001b[39m\n\u001b[0;32m    438\u001b[0m     )\n\u001b[0;32m    439\u001b[0m \u001b[39mexcept\u001b[39;00m RevisionNotFoundError:\n\u001b[0;32m    440\u001b[0m     \u001b[39mraise\u001b[39;00m \u001b[39mEnvironmentError\u001b[39;00m(\n\u001b[0;32m    441\u001b[0m         \u001b[39mf\u001b[39m\u001b[39m\"\u001b[39m\u001b[39m{\u001b[39;00mrevision\u001b[39m}\u001b[39;00m\u001b[39m is not a valid git identifier (branch name, tag name or commit id) that exists \u001b[39m\u001b[39m\"\u001b[39m\n\u001b[0;32m    442\u001b[0m         \u001b[39m\"\u001b[39m\u001b[39mfor this model name. Check the model page at \u001b[39m\u001b[39m\"\u001b[39m\n\u001b[0;32m    443\u001b[0m         \u001b[39mf\u001b[39m\u001b[39m\"\u001b[39m\u001b[39m'\u001b[39m\u001b[39mhttps://huggingface.co/\u001b[39m\u001b[39m{\u001b[39;00mpath_or_repo_id\u001b[39m}\u001b[39;00m\u001b[39m'\u001b[39m\u001b[39m for available revisions.\u001b[39m\u001b[39m\"\u001b[39m\n\u001b[0;32m    444\u001b[0m     )\n",
            "\u001b[1;31mOSError\u001b[0m: my_awesome_seg_model is not a local folder and is not a valid model identifier listed on 'https://huggingface.co/models'\nIf this is a private repository, make sure to pass a token having permission to this repo with `use_auth_token` or log in with `huggingface-cli login` and pass `use_auth_token=True`."
          ]
        }
      ],
      "source": [
        "from transformers import pipeline\n",
        "\n",
        "segmenter = pipeline(\"image-segmentation\", model=\"my_awesome_seg_model\")\n",
        "segmenter(image)"
      ]
    },
    {
      "cell_type": "code",
      "execution_count": null,
      "metadata": {
        "id": "-kM_nyY8EMtd"
      },
      "outputs": [],
      "source": [
        "device = torch.device(\"cuda\" if torch.cuda.is_available() else \"cpu\")  # use GPU if available, otherwise use a CPU\n",
        "encoding = image_processor(image, return_tensors=\"pt\")\n",
        "pixel_values = encoding.pixel_values.to(device)"
      ]
    },
    {
      "cell_type": "code",
      "execution_count": null,
      "metadata": {
        "id": "QGhEIDd8EMte"
      },
      "outputs": [],
      "source": [
        "outputs = model(pixel_values=pixel_values)\n",
        "logits = outputs.logits.cpu()"
      ]
    },
    {
      "cell_type": "code",
      "execution_count": null,
      "metadata": {
        "id": "TFVku8DoEMte"
      },
      "outputs": [],
      "source": [
        "upsampled_logits = nn.functional.interpolate(\n",
        "    logits,\n",
        "    size=image.size[::-1],\n",
        "    mode=\"bilinear\",\n",
        "    align_corners=False,\n",
        ")\n",
        "\n",
        "pred_seg = upsampled_logits.argmax(dim=1)[0]"
      ]
    },
    {
      "cell_type": "code",
      "execution_count": null,
      "metadata": {
        "id": "BvR2E16LEMte"
      },
      "outputs": [],
      "source": [
        "import matplotlib.pyplot as plt\n",
        "import numpy as np\n",
        "\n",
        "color_seg = np.zeros((pred_seg.shape[0], pred_seg.shape[1], 3), dtype=np.uint8)\n",
        "palette = np.array(ade_palette())\n",
        "for label, color in enumerate(palette):\n",
        "    color_seg[pred_seg == label, :] = color\n",
        "color_seg = color_seg[..., ::-1]  # convert to BGR\n",
        "\n",
        "img = np.array(image) * 0.5 + color_seg * 0.5  # plot the image with the segmentation map\n",
        "img = img.astype(np.uint8)\n",
        "\n",
        "plt.figure(figsize=(15, 10))\n",
        "plt.imshow(img)\n",
        "plt.show()"
      ]
    }
  ],
  "metadata": {
    "kernelspec": {
      "display_name": "master",
      "language": "python",
      "name": "python3"
    },
    "language_info": {
      "codemirror_mode": {
        "name": "ipython",
        "version": 3
      },
      "file_extension": ".py",
      "mimetype": "text/x-python",
      "name": "python",
      "nbconvert_exporter": "python",
      "pygments_lexer": "ipython3",
      "version": "3.10.12"
    },
    "orig_nbformat": 4,
    "colab": {
      "provenance": []
    }
  },
  "nbformat": 4,
  "nbformat_minor": 0
}