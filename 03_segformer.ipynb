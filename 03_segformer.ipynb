{
 "cells": [
  {
   "cell_type": "code",
   "execution_count": 47,
   "metadata": {},
   "outputs": [],
   "source": [
    "import os\n",
    "os.environ['CUDA_LAUNCH_BLOCKING'] = \"1\""
   ]
  },
  {
   "cell_type": "code",
   "execution_count": 48,
   "metadata": {},
   "outputs": [
    {
     "name": "stdout",
     "output_type": "stream",
     "text": [
      "env: CUDA_LAUNCH_BLOCKING=1\n"
     ]
    }
   ],
   "source": [
    "%env CUDA_LAUNCH_BLOCKING=1"
   ]
  },
  {
   "cell_type": "code",
   "execution_count": 49,
   "metadata": {},
   "outputs": [
    {
     "name": "stdout",
     "output_type": "stream",
     "text": [
      "Using device: cuda\n",
      "\n",
      "NVIDIA GeForce GTX 960\n",
      "CUDA version: 11.7\n",
      "Memory Usage:\n",
      "Allocated: 0.1 GB\n",
      "Cached:    2.9 GB\n"
     ]
    }
   ],
   "source": [
    "import torch\n",
    "# setting device on GPU if available, else CPU\n",
    "device = torch.device('cuda' if torch.cuda.is_available() else 'cpu')\n",
    "print('Using device:', device)\n",
    "print()\n",
    "\n",
    "#Additional Info when using cuda\n",
    "if device.type == 'cuda':\n",
    "    print(torch.cuda.get_device_name(0))\n",
    "    print('CUDA version:', torch.version.cuda)\n",
    "    print('Memory Usage:')\n",
    "    print('Allocated:', round(torch.cuda.memory_allocated(0)/1024**3,1), 'GB')\n",
    "    print('Cached:   ', round(torch.cuda.memory_reserved(0)/1024**3,1), 'GB')"
   ]
  },
  {
   "cell_type": "code",
   "execution_count": 50,
   "metadata": {},
   "outputs": [],
   "source": [
    "import numpy as np\n",
    "import PIL\n",
    "from PIL import Image\n",
    "import datasets\n",
    "import os\n",
    "import evaluate\n",
    "import torch\n",
    "import json\n",
    "import codecs"
   ]
  },
  {
   "cell_type": "code",
   "execution_count": 51,
   "metadata": {},
   "outputs": [],
   "source": [
    "image_folder = './WE3DS/images/'\n",
    "annotation_folder = './WE3DS/annotations/segmentation/SegmentationLabel/'\n",
    "# Define the paths to the images and annotations\n",
    "all_image_names = np.array(os.listdir(image_folder))"
   ]
  },
  {
   "cell_type": "code",
   "execution_count": 52,
   "metadata": {},
   "outputs": [],
   "source": [
    "plant_classification = {\n",
    "    'void': 'void',\n",
    "    'soil': 'soil',\n",
    "    'broad bean': 'crop',\n",
    "    'corn spurry': 'weed',\n",
    "    'red-root amaranth': 'weed',\n",
    "    'common buckwheat': 'crop',\n",
    "    'pea': 'crop',\n",
    "    'red fingergrass': 'weed',\n",
    "    'common wild oat': 'weed',\n",
    "    'cornflower': 'weed',\n",
    "    'corn cockle': 'weed',\n",
    "    'corn': 'crop',\n",
    "    'milk thistle': 'weed',\n",
    "    'rye brome': 'weed',\n",
    "    'soybean': 'crop',\n",
    "    'sunflower': 'crop',\n",
    "    'narrow-leaved plantain': 'weed',\n",
    "    'small-flower geranium': 'weed',\n",
    "    'sugar beet': 'crop'\n",
    "}"
   ]
  },
  {
   "cell_type": "code",
   "execution_count": 53,
   "metadata": {},
   "outputs": [],
   "source": [
    "def get_image_meta_filepath(plant_name):\n",
    "    return './meta/' + plant_name + '_images.json'"
   ]
  },
  {
   "cell_type": "code",
   "execution_count": 54,
   "metadata": {},
   "outputs": [],
   "source": [
    "def get_image_list_for_crop(crop_name):\n",
    "    # Create an empty list to store the dataset\n",
    "    image_list = []\n",
    "    crop_image_names = json.load(codecs.open(get_image_meta_filepath(crop_name), 'r', 'utf-8-sig'))\n",
    "    weed_image_names = json.load(codecs.open(get_image_meta_filepath('no_crop'), 'r', 'utf-8-sig'))\n",
    "    image_names = crop_image_names + weed_image_names\n",
    "\n",
    "    # Iterate over the image and annotation paths\n",
    "    for image_name in crop_image_names:\n",
    "        # Load the image and annotation using PIL\n",
    "        image = Image.open(image_folder + image_name)\n",
    "        annotation = Image.open(annotation_folder + image_name)\n",
    "        \n",
    "        # Create a dictionary entry for the dataseta\n",
    "        entry = {'image': image, 'annotation': annotation}\n",
    "        \n",
    "        # Add the entry to the dataset\n",
    "        image_list.append(entry)\n",
    "\n",
    "    return image_list"
   ]
  },
  {
   "cell_type": "code",
   "execution_count": 55,
   "metadata": {},
   "outputs": [],
   "source": [
    "def create_and_split_dataset_for_crop(crop_image_list):\n",
    "    dataset = datasets.Dataset.from_list(crop_image_list)\n",
    "    dataset = dataset.train_test_split(test_size=0.5)\n",
    "    train_ds = dataset[\"train\"]\n",
    "    val_ds, test_ds = dataset[\"test\"].train_test_split(test_size=0.5).values()\n",
    "    return train_ds, val_ds, test_ds"
   ]
  },
  {
   "cell_type": "code",
   "execution_count": 56,
   "metadata": {},
   "outputs": [],
   "source": [
    "broad_bean_image_list = get_image_list_for_crop('broad_bean')\n",
    "broad_bean_train_ds, broad_bean_val_ds, broad_bean_test_ds = create_and_split_dataset_for_crop(broad_bean_image_list)"
   ]
  },
  {
   "cell_type": "code",
   "execution_count": 57,
   "metadata": {},
   "outputs": [
    {
     "name": "stdout",
     "output_type": "stream",
     "text": [
      "Training subset number of images: 105\n",
      "Validation subset number of images: 52\n",
      "Test subset number of images: 53\n"
     ]
    }
   ],
   "source": [
    "print(\"Training subset number of images: \" + str(broad_bean_train_ds.num_rows))\n",
    "print(\"Validation subset number of images: \" + str(broad_bean_val_ds.num_rows))\n",
    "print(\"Test subset number of images: \" + str(broad_bean_test_ds.num_rows))"
   ]
  },
  {
   "cell_type": "code",
   "execution_count": 58,
   "metadata": {},
   "outputs": [
    {
     "name": "stderr",
     "output_type": "stream",
     "text": [
      "Could not find image processor class in the image processor config or the model config. Loading based on pattern matching with the model's feature extractor configuration.\n",
      "c:\\Users\\Kate\\AppData\\Local\\miniconda3\\envs\\master\\Lib\\site-packages\\transformers\\models\\segformer\\image_processing_segformer.py:99: FutureWarning: The `reduce_labels` parameter is deprecated and will be removed in a future version. Please use `do_reduce_labels` instead.\n",
      "  warnings.warn(\n"
     ]
    }
   ],
   "source": [
    "from transformers import AutoImageProcessor\n",
    "\n",
    "checkpoint = \"nvidia/mit-b0\"\n",
    "image_processor = AutoImageProcessor.from_pretrained(checkpoint, reduce_labels=True)"
   ]
  },
  {
   "cell_type": "code",
   "execution_count": 59,
   "metadata": {},
   "outputs": [],
   "source": [
    "def train_transforms(example_batch):\n",
    "    images = [x for x in example_batch[\"image\"]]\n",
    "    labels = [x for x in example_batch[\"annotation\"]]\n",
    "    inputs = image_processor(images, labels)\n",
    "    return inputs"
   ]
  },
  {
   "cell_type": "code",
   "execution_count": 60,
   "metadata": {},
   "outputs": [],
   "source": [
    "metric = evaluate.load(\"mean_iou\")"
   ]
  },
  {
   "cell_type": "code",
   "execution_count": 61,
   "metadata": {},
   "outputs": [
    {
     "name": "stdout",
     "output_type": "stream",
     "text": [
      "id2label: {1: 'void', 2: 'broad_bean'}\n",
      "label2id: {'void': 1, 'broad_bean': 2}\n"
     ]
    }
   ],
   "source": [
    "# with open('./WE3DS/class_names.txt', 'r') as file:\n",
    "#     labels = [line.strip() for line in file]\n",
    "\n",
    "# labels.remove('soil')\n",
    "# ids = list(range(1, 20))\n",
    "labels = ['void', 'broad_bean']\n",
    "ids = list(range(1, 3))\n",
    "\n",
    "id2label = dict(zip(ids, labels))\n",
    "label2id = dict(zip(labels, ids))\n",
    "\n",
    "num_labels = len(labels)\n",
    "\n",
    "print(\"id2label:\", id2label)\n",
    "print(\"label2id:\", label2id)"
   ]
  },
  {
   "cell_type": "code",
   "execution_count": 62,
   "metadata": {},
   "outputs": [],
   "source": [
    "def compute_metrics(eval_pred):\n",
    "    with torch.no_grad():\n",
    "        logits, labels = eval_pred\n",
    "        logits_tensor = torch.from_numpy(logits)\n",
    "        logits_tensor = torch.nn.functional.interpolate(\n",
    "            logits_tensor,\n",
    "            size=labels.shape[-2:],\n",
    "            mode=\"bilinear\",\n",
    "            align_corners=False,\n",
    "        ).argmax(dim=1)\n",
    "\n",
    "        pred_labels = logits_tensor.detach().cpu().numpy()\n",
    "        metrics = metric.compute(\n",
    "            predictions=pred_labels,\n",
    "            references=labels,\n",
    "            num_labels=num_labels,\n",
    "            ignore_index=255,\n",
    "            reduce_labels=False,\n",
    "        )\n",
    "        for key, value in metrics.items():\n",
    "            if type(value) is np.ndarray:\n",
    "                metrics[key] = value.tolist()\n",
    "        return metrics"
   ]
  },
  {
   "cell_type": "code",
   "execution_count": 63,
   "metadata": {},
   "outputs": [
    {
     "name": "stderr",
     "output_type": "stream",
     "text": [
      "Some weights of SegformerForSemanticSegmentation were not initialized from the model checkpoint at nvidia/mit-b0 and are newly initialized: ['decode_head.linear_c.3.proj.weight', 'decode_head.batch_norm.running_mean', 'decode_head.classifier.weight', 'decode_head.linear_c.0.proj.weight', 'decode_head.linear_c.2.proj.bias', 'decode_head.classifier.bias', 'decode_head.linear_c.2.proj.weight', 'decode_head.batch_norm.running_var', 'decode_head.linear_c.1.proj.bias', 'decode_head.linear_c.1.proj.weight', 'decode_head.batch_norm.bias', 'decode_head.linear_c.3.proj.bias', 'decode_head.batch_norm.weight', 'decode_head.linear_fuse.weight', 'decode_head.linear_c.0.proj.bias', 'decode_head.batch_norm.num_batches_tracked']\n",
      "You should probably TRAIN this model on a down-stream task to be able to use it for predictions and inference.\n"
     ]
    }
   ],
   "source": [
    "from transformers import AutoModelForSemanticSegmentation, TrainingArguments, Trainer, EarlyStoppingCallback\n",
    "\n",
    "model = AutoModelForSemanticSegmentation.from_pretrained(checkpoint, id2label=id2label, label2id=label2id)"
   ]
  },
  {
   "cell_type": "code",
   "execution_count": 64,
   "metadata": {},
   "outputs": [],
   "source": [
    "training_args = TrainingArguments(\n",
    "    output_dir=\"segformer-b0-scene-parse-150\",\n",
    "    learning_rate=6e-5,\n",
    "    num_train_epochs=100,\n",
    "    per_device_train_batch_size=5,\n",
    "    per_device_eval_batch_size=5,\n",
    "    save_total_limit=3,\n",
    "    evaluation_strategy=\"steps\",\n",
    "    save_strategy=\"steps\",\n",
    "    save_steps=20,\n",
    "    eval_steps=20,\n",
    "    logging_steps=1,\n",
    "    eval_accumulation_steps=5,\n",
    "    remove_unused_columns=False,\n",
    "    load_best_model_at_end=True,\n",
    "    seed=12,\n",
    ")"
   ]
  },
  {
   "cell_type": "code",
   "execution_count": 65,
   "metadata": {},
   "outputs": [],
   "source": [
    "def initialize_trainer(train_ds, test_ds) :\n",
    "    trainer = Trainer(\n",
    "        model=model,\n",
    "        args=training_args,\n",
    "        train_dataset=train_ds,\n",
    "        eval_dataset=test_ds,\n",
    "        compute_metrics=compute_metrics,\n",
    "        callbacks=[EarlyStoppingCallback(early_stopping_patience=3)]\n",
    "    )\n",
    "    return trainer"
   ]
  },
  {
   "cell_type": "code",
   "execution_count": 66,
   "metadata": {},
   "outputs": [],
   "source": [
    "broad_bean_train_ds.set_transform(train_transforms)\n",
    "broad_bean_val_ds.set_transform(train_transforms)\n",
    "broad_bean_test_ds.set_transform(train_transforms)"
   ]
  },
  {
   "cell_type": "code",
   "execution_count": 67,
   "metadata": {},
   "outputs": [
    {
     "name": "stderr",
     "output_type": "stream",
     "text": [
      "c:\\Users\\Kate\\AppData\\Local\\miniconda3\\envs\\master\\Lib\\site-packages\\transformers\\optimization.py:411: FutureWarning: This implementation of AdamW is deprecated and will be removed in a future version. Use the PyTorch implementation torch.optim.AdamW instead, or set `no_deprecation_warning=True` to disable this warning\n",
      "  warnings.warn(\n",
      "  0%|          | 1/2100 [00:04<2:29:52,  4.28s/it]"
     ]
    },
    {
     "name": "stdout",
     "output_type": "stream",
     "text": [
      "{'loss': 0.6935, 'learning_rate': 5.997142857142857e-05, 'epoch': 0.05}\n"
     ]
    },
    {
     "name": "stderr",
     "output_type": "stream",
     "text": [
      "  0%|          | 2/2100 [00:07<2:09:11,  3.69s/it]"
     ]
    },
    {
     "name": "stdout",
     "output_type": "stream",
     "text": [
      "{'loss': 0.676, 'learning_rate': 5.994285714285715e-05, 'epoch': 0.1}\n"
     ]
    },
    {
     "name": "stderr",
     "output_type": "stream",
     "text": [
      "  0%|          | 3/2100 [00:10<2:02:45,  3.51s/it]"
     ]
    },
    {
     "name": "stdout",
     "output_type": "stream",
     "text": [
      "{'loss': 0.6713, 'learning_rate': 5.9914285714285716e-05, 'epoch': 0.14}\n"
     ]
    },
    {
     "name": "stderr",
     "output_type": "stream",
     "text": [
      "  0%|          | 4/2100 [00:14<2:00:47,  3.46s/it]"
     ]
    },
    {
     "name": "stdout",
     "output_type": "stream",
     "text": [
      "{'loss': 0.6325, 'learning_rate': 5.988571428571429e-05, 'epoch': 0.19}\n"
     ]
    },
    {
     "name": "stderr",
     "output_type": "stream",
     "text": [
      "  0%|          | 5/2100 [00:17<2:00:46,  3.46s/it]"
     ]
    },
    {
     "name": "stdout",
     "output_type": "stream",
     "text": [
      "{'loss': 0.6404, 'learning_rate': 5.9857142857142856e-05, 'epoch': 0.24}\n"
     ]
    },
    {
     "name": "stderr",
     "output_type": "stream",
     "text": [
      "  0%|          | 6/2100 [00:21<2:00:11,  3.44s/it]"
     ]
    },
    {
     "name": "stdout",
     "output_type": "stream",
     "text": [
      "{'loss': 0.6362, 'learning_rate': 5.982857142857143e-05, 'epoch': 0.29}\n"
     ]
    },
    {
     "name": "stderr",
     "output_type": "stream",
     "text": [
      "  0%|          | 7/2100 [00:24<2:00:30,  3.45s/it]"
     ]
    },
    {
     "name": "stdout",
     "output_type": "stream",
     "text": [
      "{'loss': 0.5927, 'learning_rate': 5.9800000000000003e-05, 'epoch': 0.33}\n"
     ]
    },
    {
     "name": "stderr",
     "output_type": "stream",
     "text": [
      "  0%|          | 8/2100 [00:27<1:58:45,  3.41s/it]"
     ]
    },
    {
     "name": "stdout",
     "output_type": "stream",
     "text": [
      "{'loss': 0.5819, 'learning_rate': 5.977142857142857e-05, 'epoch': 0.38}\n"
     ]
    },
    {
     "name": "stderr",
     "output_type": "stream",
     "text": [
      "  0%|          | 9/2100 [00:31<1:57:48,  3.38s/it]"
     ]
    },
    {
     "name": "stdout",
     "output_type": "stream",
     "text": [
      "{'loss': 0.6365, 'learning_rate': 5.9742857142857144e-05, 'epoch': 0.43}\n"
     ]
    },
    {
     "name": "stderr",
     "output_type": "stream",
     "text": [
      "  0%|          | 10/2100 [00:34<1:56:25,  3.34s/it]"
     ]
    },
    {
     "name": "stdout",
     "output_type": "stream",
     "text": [
      "{'loss': 0.5707, 'learning_rate': 5.971428571428572e-05, 'epoch': 0.48}\n"
     ]
    },
    {
     "name": "stderr",
     "output_type": "stream",
     "text": [
      "  1%|          | 11/2100 [00:37<1:55:42,  3.32s/it]"
     ]
    },
    {
     "name": "stdout",
     "output_type": "stream",
     "text": [
      "{'loss': 0.5955, 'learning_rate': 5.9685714285714284e-05, 'epoch': 0.52}\n"
     ]
    },
    {
     "name": "stderr",
     "output_type": "stream",
     "text": [
      "  1%|          | 12/2100 [00:41<1:56:51,  3.36s/it]"
     ]
    },
    {
     "name": "stdout",
     "output_type": "stream",
     "text": [
      "{'loss': 0.5296, 'learning_rate': 5.965714285714286e-05, 'epoch': 0.57}\n"
     ]
    },
    {
     "name": "stderr",
     "output_type": "stream",
     "text": [
      "  1%|          | 13/2100 [00:44<1:56:18,  3.34s/it]"
     ]
    },
    {
     "name": "stdout",
     "output_type": "stream",
     "text": [
      "{'loss': 0.5508, 'learning_rate': 5.962857142857143e-05, 'epoch': 0.62}\n"
     ]
    },
    {
     "name": "stderr",
     "output_type": "stream",
     "text": [
      "  1%|          | 14/2100 [00:47<1:56:48,  3.36s/it]"
     ]
    },
    {
     "name": "stdout",
     "output_type": "stream",
     "text": [
      "{'loss': 0.4913, 'learning_rate': 5.96e-05, 'epoch': 0.67}\n"
     ]
    },
    {
     "name": "stderr",
     "output_type": "stream",
     "text": [
      "  1%|          | 15/2100 [00:51<1:55:15,  3.32s/it]"
     ]
    },
    {
     "name": "stdout",
     "output_type": "stream",
     "text": [
      "{'loss': 0.5106, 'learning_rate': 5.957142857142857e-05, 'epoch': 0.71}\n"
     ]
    },
    {
     "name": "stderr",
     "output_type": "stream",
     "text": [
      "  1%|          | 16/2100 [00:54<1:54:12,  3.29s/it]"
     ]
    },
    {
     "name": "stdout",
     "output_type": "stream",
     "text": [
      "{'loss': 0.491, 'learning_rate': 5.9542857142857146e-05, 'epoch': 0.76}\n"
     ]
    },
    {
     "name": "stderr",
     "output_type": "stream",
     "text": [
      "  1%|          | 17/2100 [00:57<1:53:20,  3.26s/it]"
     ]
    },
    {
     "name": "stdout",
     "output_type": "stream",
     "text": [
      "{'loss': 0.4402, 'learning_rate': 5.951428571428572e-05, 'epoch': 0.81}\n"
     ]
    },
    {
     "name": "stderr",
     "output_type": "stream",
     "text": [
      "  1%|          | 18/2100 [01:00<1:54:10,  3.29s/it]"
     ]
    },
    {
     "name": "stdout",
     "output_type": "stream",
     "text": [
      "{'loss': 0.4372, 'learning_rate': 5.9485714285714286e-05, 'epoch': 0.86}\n"
     ]
    },
    {
     "name": "stderr",
     "output_type": "stream",
     "text": [
      "  1%|          | 19/2100 [01:04<1:55:12,  3.32s/it]"
     ]
    },
    {
     "name": "stdout",
     "output_type": "stream",
     "text": [
      "{'loss': 0.4427, 'learning_rate': 5.945714285714285e-05, 'epoch': 0.9}\n"
     ]
    },
    {
     "name": "stderr",
     "output_type": "stream",
     "text": [
      "  1%|          | 20/2100 [01:07<1:55:13,  3.32s/it]"
     ]
    },
    {
     "name": "stdout",
     "output_type": "stream",
     "text": [
      "{'loss': 0.4039, 'learning_rate': 5.9428571428571434e-05, 'epoch': 0.95}\n"
     ]
    },
    {
     "name": "stderr",
     "output_type": "stream",
     "text": [
      "\n",
      "  1%|          | 20/2100 [02:26<1:55:13,  3.32s/it]"
     ]
    },
    {
     "name": "stdout",
     "output_type": "stream",
     "text": [
      "{'eval_loss': 0.63662189245224, 'eval_mean_iou': 0.6795294224024675, 'eval_mean_accuracy': 0.9831470234539732, 'eval_overall_accuracy': 0.9700734698549092, 'eval_per_category_iou': [0.9694907853272503, 0.38956805947768464], 'eval_per_category_accuracy': [0.9695524983968405, 0.996741548511106], 'eval_runtime': 79.2392, 'eval_samples_per_second': 0.656, 'eval_steps_per_second': 0.139, 'epoch': 0.95}\n"
     ]
    },
    {
     "name": "stderr",
     "output_type": "stream",
     "text": [
      "  1%|          | 21/2100 [02:29<15:35:41, 27.00s/it]"
     ]
    },
    {
     "name": "stdout",
     "output_type": "stream",
     "text": [
      "{'loss': 0.3884, 'learning_rate': 5.94e-05, 'epoch': 1.0}\n"
     ]
    },
    {
     "name": "stderr",
     "output_type": "stream",
     "text": [
      "  1%|          | 22/2100 [02:33<11:37:20, 20.13s/it]"
     ]
    },
    {
     "name": "stdout",
     "output_type": "stream",
     "text": [
      "{'loss': 0.4363, 'learning_rate': 5.937142857142857e-05, 'epoch': 1.05}\n"
     ]
    },
    {
     "name": "stderr",
     "output_type": "stream",
     "text": [
      "  1%|          | 23/2100 [02:37<8:42:16, 15.09s/it] "
     ]
    },
    {
     "name": "stdout",
     "output_type": "stream",
     "text": [
      "{'loss': 0.4968, 'learning_rate': 5.934285714285715e-05, 'epoch': 1.1}\n"
     ]
    },
    {
     "name": "stderr",
     "output_type": "stream",
     "text": [
      "  1%|          | 24/2100 [02:40<6:38:43, 11.52s/it]"
     ]
    },
    {
     "name": "stdout",
     "output_type": "stream",
     "text": [
      "{'loss': 0.4154, 'learning_rate': 5.9314285714285715e-05, 'epoch': 1.14}\n"
     ]
    },
    {
     "name": "stderr",
     "output_type": "stream",
     "text": [
      "  1%|          | 25/2100 [02:43<5:13:09,  9.06s/it]"
     ]
    },
    {
     "name": "stdout",
     "output_type": "stream",
     "text": [
      "{'loss': 0.3986, 'learning_rate': 5.928571428571429e-05, 'epoch': 1.19}\n"
     ]
    },
    {
     "name": "stderr",
     "output_type": "stream",
     "text": [
      "  1%|          | 26/2100 [02:46<4:12:25,  7.30s/it]"
     ]
    },
    {
     "name": "stdout",
     "output_type": "stream",
     "text": [
      "{'loss': 0.412, 'learning_rate': 5.925714285714286e-05, 'epoch': 1.24}\n"
     ]
    },
    {
     "name": "stderr",
     "output_type": "stream",
     "text": [
      "  1%|▏         | 27/2100 [02:50<3:31:10,  6.11s/it]"
     ]
    },
    {
     "name": "stdout",
     "output_type": "stream",
     "text": [
      "{'loss': 0.3972, 'learning_rate': 5.922857142857143e-05, 'epoch': 1.29}\n"
     ]
    },
    {
     "name": "stderr",
     "output_type": "stream",
     "text": [
      "  1%|▏         | 28/2100 [02:53<3:02:43,  5.29s/it]"
     ]
    },
    {
     "name": "stdout",
     "output_type": "stream",
     "text": [
      "{'loss': 0.4155, 'learning_rate': 5.92e-05, 'epoch': 1.33}\n"
     ]
    },
    {
     "name": "stderr",
     "output_type": "stream",
     "text": [
      "  1%|▏         | 29/2100 [02:57<2:42:39,  4.71s/it]"
     ]
    },
    {
     "name": "stdout",
     "output_type": "stream",
     "text": [
      "{'loss': 0.347, 'learning_rate': 5.917142857142857e-05, 'epoch': 1.38}\n"
     ]
    },
    {
     "name": "stderr",
     "output_type": "stream",
     "text": [
      "  1%|▏         | 30/2100 [03:00<2:28:33,  4.31s/it]"
     ]
    },
    {
     "name": "stdout",
     "output_type": "stream",
     "text": [
      "{'loss': 0.3346, 'learning_rate': 5.914285714285715e-05, 'epoch': 1.43}\n"
     ]
    },
    {
     "name": "stderr",
     "output_type": "stream",
     "text": [
      "  1%|▏         | 31/2100 [03:03<2:18:50,  4.03s/it]"
     ]
    },
    {
     "name": "stdout",
     "output_type": "stream",
     "text": [
      "{'loss': 0.3278, 'learning_rate': 5.9114285714285717e-05, 'epoch': 1.48}\n"
     ]
    },
    {
     "name": "stderr",
     "output_type": "stream",
     "text": [
      "  2%|▏         | 32/2100 [03:07<2:11:28,  3.81s/it]"
     ]
    },
    {
     "name": "stdout",
     "output_type": "stream",
     "text": [
      "{'loss': 0.3748, 'learning_rate': 5.9085714285714283e-05, 'epoch': 1.52}\n"
     ]
    },
    {
     "name": "stderr",
     "output_type": "stream",
     "text": [
      "  2%|▏         | 33/2100 [03:10<2:06:22,  3.67s/it]"
     ]
    },
    {
     "name": "stdout",
     "output_type": "stream",
     "text": [
      "{'loss': 0.373, 'learning_rate': 5.9057142857142864e-05, 'epoch': 1.57}\n"
     ]
    },
    {
     "name": "stderr",
     "output_type": "stream",
     "text": [
      "  2%|▏         | 34/2100 [03:13<2:03:30,  3.59s/it]"
     ]
    },
    {
     "name": "stdout",
     "output_type": "stream",
     "text": [
      "{'loss': 0.3925, 'learning_rate': 5.902857142857143e-05, 'epoch': 1.62}\n"
     ]
    },
    {
     "name": "stderr",
     "output_type": "stream",
     "text": [
      "  2%|▏         | 35/2100 [03:17<2:00:31,  3.50s/it]"
     ]
    },
    {
     "name": "stdout",
     "output_type": "stream",
     "text": [
      "{'loss': 0.3017, 'learning_rate': 5.9e-05, 'epoch': 1.67}\n"
     ]
    },
    {
     "name": "stderr",
     "output_type": "stream",
     "text": [
      "  2%|▏         | 36/2100 [03:20<1:58:32,  3.45s/it]"
     ]
    },
    {
     "name": "stdout",
     "output_type": "stream",
     "text": [
      "{'loss': 0.3389, 'learning_rate': 5.897142857142857e-05, 'epoch': 1.71}\n"
     ]
    },
    {
     "name": "stderr",
     "output_type": "stream",
     "text": [
      "  2%|▏         | 37/2100 [03:23<1:57:50,  3.43s/it]"
     ]
    },
    {
     "name": "stdout",
     "output_type": "stream",
     "text": [
      "{'loss': 0.2747, 'learning_rate': 5.8942857142857145e-05, 'epoch': 1.76}\n"
     ]
    },
    {
     "name": "stderr",
     "output_type": "stream",
     "text": [
      "  2%|▏         | 38/2100 [03:27<1:57:41,  3.42s/it]"
     ]
    },
    {
     "name": "stdout",
     "output_type": "stream",
     "text": [
      "{'loss': 0.3283, 'learning_rate': 5.891428571428572e-05, 'epoch': 1.81}\n"
     ]
    },
    {
     "name": "stderr",
     "output_type": "stream",
     "text": [
      "  2%|▏         | 39/2100 [03:30<1:56:57,  3.40s/it]"
     ]
    },
    {
     "name": "stdout",
     "output_type": "stream",
     "text": [
      "{'loss': 0.2895, 'learning_rate': 5.8885714285714285e-05, 'epoch': 1.86}\n"
     ]
    },
    {
     "name": "stderr",
     "output_type": "stream",
     "text": [
      "  2%|▏         | 40/2100 [03:33<1:56:30,  3.39s/it]"
     ]
    },
    {
     "name": "stdout",
     "output_type": "stream",
     "text": [
      "{'loss': 0.2815, 'learning_rate': 5.885714285714286e-05, 'epoch': 1.9}\n"
     ]
    },
    {
     "name": "stderr",
     "output_type": "stream",
     "text": [
      "\n",
      "  2%|▏         | 40/2100 [04:54<1:56:30,  3.39s/it]"
     ]
    },
    {
     "name": "stdout",
     "output_type": "stream",
     "text": [
      "{'eval_loss': 0.48622527718544006, 'eval_mean_iou': 0.7336882201519398, 'eval_mean_accuracy': 0.9842485343311962, 'eval_overall_accuracy': 0.980099529863361, 'eval_per_category_iou': [0.9797152984990913, 0.4876611418047882], 'eval_per_category_accuracy': [0.9799341950987339, 0.9885628735636585], 'eval_runtime': 80.0199, 'eval_samples_per_second': 0.65, 'eval_steps_per_second': 0.137, 'epoch': 1.9}\n"
     ]
    },
    {
     "name": "stderr",
     "output_type": "stream",
     "text": [
      "  2%|▏         | 41/2100 [04:57<15:44:30, 27.52s/it]"
     ]
    },
    {
     "name": "stdout",
     "output_type": "stream",
     "text": [
      "{'loss': 0.2944, 'learning_rate': 5.882857142857143e-05, 'epoch': 1.95}\n"
     ]
    },
    {
     "name": "stderr",
     "output_type": "stream",
     "text": [
      "  2%|▏         | 42/2100 [05:00<11:29:06, 20.09s/it]"
     ]
    },
    {
     "name": "stdout",
     "output_type": "stream",
     "text": [
      "{'loss': 0.3324, 'learning_rate': 5.88e-05, 'epoch': 2.0}\n"
     ]
    },
    {
     "name": "stderr",
     "output_type": "stream",
     "text": [
      "  2%|▏         | 43/2100 [05:04<8:43:06, 15.26s/it] "
     ]
    },
    {
     "name": "stdout",
     "output_type": "stream",
     "text": [
      "{'loss': 0.3047, 'learning_rate': 5.877142857142857e-05, 'epoch': 2.05}\n"
     ]
    },
    {
     "name": "stderr",
     "output_type": "stream",
     "text": [
      "  2%|▏         | 44/2100 [05:07<6:40:34, 11.69s/it]"
     ]
    },
    {
     "name": "stdout",
     "output_type": "stream",
     "text": [
      "{'loss': 0.3033, 'learning_rate': 5.874285714285715e-05, 'epoch': 2.1}\n"
     ]
    },
    {
     "name": "stderr",
     "output_type": "stream",
     "text": [
      "  2%|▏         | 45/2100 [05:11<5:13:32,  9.15s/it]"
     ]
    },
    {
     "name": "stdout",
     "output_type": "stream",
     "text": [
      "{'loss': 0.277, 'learning_rate': 5.8714285714285714e-05, 'epoch': 2.14}\n"
     ]
    },
    {
     "name": "stderr",
     "output_type": "stream",
     "text": [
      "  2%|▏         | 46/2100 [05:14<4:12:44,  7.38s/it]"
     ]
    },
    {
     "name": "stdout",
     "output_type": "stream",
     "text": [
      "{'loss': 0.2681, 'learning_rate': 5.868571428571429e-05, 'epoch': 2.19}\n"
     ]
    },
    {
     "name": "stderr",
     "output_type": "stream",
     "text": [
      "  2%|▏         | 47/2100 [05:17<3:31:28,  6.18s/it]"
     ]
    },
    {
     "name": "stdout",
     "output_type": "stream",
     "text": [
      "{'loss': 0.2596, 'learning_rate': 5.865714285714286e-05, 'epoch': 2.24}\n"
     ]
    },
    {
     "name": "stderr",
     "output_type": "stream",
     "text": [
      "  2%|▏         | 48/2100 [05:21<3:01:35,  5.31s/it]"
     ]
    },
    {
     "name": "stdout",
     "output_type": "stream",
     "text": [
      "{'loss': 0.2814, 'learning_rate': 5.862857142857143e-05, 'epoch': 2.29}\n"
     ]
    },
    {
     "name": "stderr",
     "output_type": "stream",
     "text": [
      "  2%|▏         | 49/2100 [05:24<2:40:41,  4.70s/it]"
     ]
    },
    {
     "name": "stdout",
     "output_type": "stream",
     "text": [
      "{'loss': 0.2957, 'learning_rate': 5.86e-05, 'epoch': 2.33}\n"
     ]
    },
    {
     "name": "stderr",
     "output_type": "stream",
     "text": [
      "  2%|▏         | 50/2100 [05:27<2:26:22,  4.28s/it]"
     ]
    },
    {
     "name": "stdout",
     "output_type": "stream",
     "text": [
      "{'loss': 0.2586, 'learning_rate': 5.857142857142857e-05, 'epoch': 2.38}\n"
     ]
    },
    {
     "name": "stderr",
     "output_type": "stream",
     "text": [
      "  2%|▏         | 51/2100 [05:30<2:15:59,  3.98s/it]"
     ]
    },
    {
     "name": "stdout",
     "output_type": "stream",
     "text": [
      "{'loss': 0.2457, 'learning_rate': 5.854285714285715e-05, 'epoch': 2.43}\n"
     ]
    },
    {
     "name": "stderr",
     "output_type": "stream",
     "text": [
      "  2%|▏         | 52/2100 [05:34<2:08:38,  3.77s/it]"
     ]
    },
    {
     "name": "stdout",
     "output_type": "stream",
     "text": [
      "{'loss': 0.2757, 'learning_rate': 5.8514285714285716e-05, 'epoch': 2.48}\n"
     ]
    },
    {
     "name": "stderr",
     "output_type": "stream",
     "text": [
      "  3%|▎         | 53/2100 [05:37<2:04:17,  3.64s/it]"
     ]
    },
    {
     "name": "stdout",
     "output_type": "stream",
     "text": [
      "{'loss': 0.3241, 'learning_rate': 5.848571428571428e-05, 'epoch': 2.52}\n"
     ]
    },
    {
     "name": "stderr",
     "output_type": "stream",
     "text": [
      "  3%|▎         | 54/2100 [05:40<2:01:21,  3.56s/it]"
     ]
    },
    {
     "name": "stdout",
     "output_type": "stream",
     "text": [
      "{'loss': 0.2525, 'learning_rate': 5.845714285714286e-05, 'epoch': 2.57}\n"
     ]
    },
    {
     "name": "stderr",
     "output_type": "stream",
     "text": [
      "  3%|▎         | 55/2100 [05:44<1:58:38,  3.48s/it]"
     ]
    },
    {
     "name": "stdout",
     "output_type": "stream",
     "text": [
      "{'loss': 0.263, 'learning_rate': 5.842857142857143e-05, 'epoch': 2.62}\n"
     ]
    },
    {
     "name": "stderr",
     "output_type": "stream",
     "text": [
      "  3%|▎         | 56/2100 [05:47<1:56:33,  3.42s/it]"
     ]
    },
    {
     "name": "stdout",
     "output_type": "stream",
     "text": [
      "{'loss': 0.249, 'learning_rate': 5.84e-05, 'epoch': 2.67}\n"
     ]
    },
    {
     "name": "stderr",
     "output_type": "stream",
     "text": [
      "  3%|▎         | 57/2100 [05:50<1:54:25,  3.36s/it]"
     ]
    },
    {
     "name": "stdout",
     "output_type": "stream",
     "text": [
      "{'loss': 0.23, 'learning_rate': 5.837142857142857e-05, 'epoch': 2.71}\n"
     ]
    },
    {
     "name": "stderr",
     "output_type": "stream",
     "text": [
      "  3%|▎         | 58/2100 [05:53<1:53:38,  3.34s/it]"
     ]
    },
    {
     "name": "stdout",
     "output_type": "stream",
     "text": [
      "{'loss': 0.2345, 'learning_rate': 5.8342857142857144e-05, 'epoch': 2.76}\n"
     ]
    },
    {
     "name": "stderr",
     "output_type": "stream",
     "text": [
      "  3%|▎         | 59/2100 [05:57<1:52:44,  3.31s/it]"
     ]
    },
    {
     "name": "stdout",
     "output_type": "stream",
     "text": [
      "{'loss': 0.2274, 'learning_rate': 5.831428571428572e-05, 'epoch': 2.81}\n"
     ]
    },
    {
     "name": "stderr",
     "output_type": "stream",
     "text": [
      "  3%|▎         | 60/2100 [06:00<1:52:10,  3.30s/it]"
     ]
    },
    {
     "name": "stdout",
     "output_type": "stream",
     "text": [
      "{'loss': 0.2434, 'learning_rate': 5.8285714285714284e-05, 'epoch': 2.86}\n"
     ]
    },
    {
     "name": "stderr",
     "output_type": "stream",
     "text": [
      "\n",
      "  3%|▎         | 60/2100 [07:18<1:52:10,  3.30s/it]"
     ]
    },
    {
     "name": "stdout",
     "output_type": "stream",
     "text": [
      "{'eval_loss': 0.21358658373355865, 'eval_mean_iou': 0.8495180171479861, 'eval_mean_accuracy': 0.9687688822607952, 'eval_overall_accuracy': 0.9924915334319387, 'eval_per_category_iou': [0.9923532029559954, 0.7066828313399769], 'eval_per_category_accuracy': [0.9934368635654971, 0.9441009009560932], 'eval_runtime': 78.1121, 'eval_samples_per_second': 0.666, 'eval_steps_per_second': 0.141, 'epoch': 2.86}\n"
     ]
    },
    {
     "name": "stderr",
     "output_type": "stream",
     "text": [
      "  3%|▎         | 61/2100 [07:22<15:12:29, 26.85s/it]"
     ]
    },
    {
     "name": "stdout",
     "output_type": "stream",
     "text": [
      "{'loss': 0.2543, 'learning_rate': 5.825714285714286e-05, 'epoch': 2.9}\n"
     ]
    },
    {
     "name": "stderr",
     "output_type": "stream",
     "text": [
      "  3%|▎         | 62/2100 [07:25<11:11:08, 19.76s/it]"
     ]
    },
    {
     "name": "stdout",
     "output_type": "stream",
     "text": [
      "{'loss': 0.2326, 'learning_rate': 5.822857142857143e-05, 'epoch': 2.95}\n"
     ]
    },
    {
     "name": "stderr",
     "output_type": "stream",
     "text": [
      "  3%|▎         | 63/2100 [07:28<8:15:21, 14.59s/it] "
     ]
    },
    {
     "name": "stdout",
     "output_type": "stream",
     "text": [
      "{'loss': 0.2081, 'learning_rate': 5.82e-05, 'epoch': 3.0}\n"
     ]
    },
    {
     "name": "stderr",
     "output_type": "stream",
     "text": [
      "  3%|▎         | 64/2100 [07:31<6:26:17, 11.38s/it]"
     ]
    },
    {
     "name": "stdout",
     "output_type": "stream",
     "text": [
      "{'loss': 0.241, 'learning_rate': 5.817142857142857e-05, 'epoch': 3.05}\n"
     ]
    },
    {
     "name": "stderr",
     "output_type": "stream",
     "text": [
      "  3%|▎         | 65/2100 [07:35<5:02:56,  8.93s/it]"
     ]
    },
    {
     "name": "stdout",
     "output_type": "stream",
     "text": [
      "{'loss': 0.2205, 'learning_rate': 5.8142857142857146e-05, 'epoch': 3.1}\n"
     ]
    },
    {
     "name": "stderr",
     "output_type": "stream",
     "text": [
      "  3%|▎         | 66/2100 [07:38<4:04:39,  7.22s/it]"
     ]
    },
    {
     "name": "stdout",
     "output_type": "stream",
     "text": [
      "{'loss': 0.1992, 'learning_rate': 5.811428571428571e-05, 'epoch': 3.14}\n"
     ]
    },
    {
     "name": "stderr",
     "output_type": "stream",
     "text": [
      "  3%|▎         | 67/2100 [07:41<3:23:56,  6.02s/it]"
     ]
    },
    {
     "name": "stdout",
     "output_type": "stream",
     "text": [
      "{'loss': 0.2024, 'learning_rate': 5.8085714285714286e-05, 'epoch': 3.19}\n"
     ]
    },
    {
     "name": "stderr",
     "output_type": "stream",
     "text": [
      "  3%|▎         | 68/2100 [07:44<2:55:38,  5.19s/it]"
     ]
    },
    {
     "name": "stdout",
     "output_type": "stream",
     "text": [
      "{'loss': 0.2006, 'learning_rate': 5.805714285714286e-05, 'epoch': 3.24}\n"
     ]
    },
    {
     "name": "stderr",
     "output_type": "stream",
     "text": [
      "  3%|▎         | 69/2100 [07:48<2:35:42,  4.60s/it]"
     ]
    },
    {
     "name": "stdout",
     "output_type": "stream",
     "text": [
      "{'loss': 0.2426, 'learning_rate': 5.8028571428571433e-05, 'epoch': 3.29}\n"
     ]
    },
    {
     "name": "stderr",
     "output_type": "stream",
     "text": [
      "  3%|▎         | 70/2100 [07:51<2:21:19,  4.18s/it]"
     ]
    },
    {
     "name": "stdout",
     "output_type": "stream",
     "text": [
      "{'loss': 0.2081, 'learning_rate': 5.8e-05, 'epoch': 3.33}\n"
     ]
    },
    {
     "name": "stderr",
     "output_type": "stream",
     "text": [
      "  3%|▎         | 71/2100 [07:54<2:11:23,  3.89s/it]"
     ]
    },
    {
     "name": "stdout",
     "output_type": "stream",
     "text": [
      "{'loss': 0.2236, 'learning_rate': 5.7971428571428574e-05, 'epoch': 3.38}\n"
     ]
    },
    {
     "name": "stderr",
     "output_type": "stream",
     "text": [
      "  3%|▎         | 72/2100 [07:57<2:04:52,  3.69s/it]"
     ]
    },
    {
     "name": "stdout",
     "output_type": "stream",
     "text": [
      "{'loss': 0.1782, 'learning_rate': 5.794285714285715e-05, 'epoch': 3.43}\n"
     ]
    },
    {
     "name": "stderr",
     "output_type": "stream",
     "text": [
      "  3%|▎         | 73/2100 [08:00<2:00:09,  3.56s/it]"
     ]
    },
    {
     "name": "stdout",
     "output_type": "stream",
     "text": [
      "{'loss': 0.2061, 'learning_rate': 5.7914285714285714e-05, 'epoch': 3.48}\n"
     ]
    },
    {
     "name": "stderr",
     "output_type": "stream",
     "text": [
      "  4%|▎         | 74/2100 [08:04<1:56:44,  3.46s/it]"
     ]
    },
    {
     "name": "stdout",
     "output_type": "stream",
     "text": [
      "{'loss': 0.1957, 'learning_rate': 5.788571428571428e-05, 'epoch': 3.52}\n"
     ]
    },
    {
     "name": "stderr",
     "output_type": "stream",
     "text": [
      "  4%|▎         | 75/2100 [08:07<1:53:47,  3.37s/it]"
     ]
    },
    {
     "name": "stdout",
     "output_type": "stream",
     "text": [
      "{'loss': 0.2013, 'learning_rate': 5.785714285714286e-05, 'epoch': 3.57}\n"
     ]
    },
    {
     "name": "stderr",
     "output_type": "stream",
     "text": [
      "  4%|▎         | 76/2100 [08:10<1:52:04,  3.32s/it]"
     ]
    },
    {
     "name": "stdout",
     "output_type": "stream",
     "text": [
      "{'loss': 0.2286, 'learning_rate': 5.782857142857143e-05, 'epoch': 3.62}\n"
     ]
    },
    {
     "name": "stderr",
     "output_type": "stream",
     "text": [
      "  4%|▎         | 77/2100 [08:13<1:51:06,  3.30s/it]"
     ]
    },
    {
     "name": "stdout",
     "output_type": "stream",
     "text": [
      "{'loss': 0.1933, 'learning_rate': 5.78e-05, 'epoch': 3.67}\n"
     ]
    },
    {
     "name": "stderr",
     "output_type": "stream",
     "text": [
      "  4%|▎         | 78/2100 [08:17<1:50:17,  3.27s/it]"
     ]
    },
    {
     "name": "stdout",
     "output_type": "stream",
     "text": [
      "{'loss': 0.1939, 'learning_rate': 5.7771428571428576e-05, 'epoch': 3.71}\n"
     ]
    },
    {
     "name": "stderr",
     "output_type": "stream",
     "text": [
      "  4%|▍         | 79/2100 [08:20<1:49:32,  3.25s/it]"
     ]
    },
    {
     "name": "stdout",
     "output_type": "stream",
     "text": [
      "{'loss': 0.2126, 'learning_rate': 5.774285714285714e-05, 'epoch': 3.76}\n"
     ]
    },
    {
     "name": "stderr",
     "output_type": "stream",
     "text": [
      "  4%|▍         | 80/2100 [08:23<1:49:03,  3.24s/it]"
     ]
    },
    {
     "name": "stdout",
     "output_type": "stream",
     "text": [
      "{'loss': 0.2078, 'learning_rate': 5.7714285714285716e-05, 'epoch': 3.81}\n"
     ]
    },
    {
     "name": "stderr",
     "output_type": "stream",
     "text": [
      "\n",
      "  4%|▍         | 80/2100 [09:40<1:49:03,  3.24s/it]"
     ]
    },
    {
     "name": "stdout",
     "output_type": "stream",
     "text": [
      "{'eval_loss': 0.269015371799469, 'eval_mean_iou': 0.8561760316445595, 'eval_mean_accuracy': 0.9766403321055664, 'eval_overall_accuracy': 0.9928356253228154, 'eval_per_category_iou': [0.9927013982378299, 0.7196506650512892], 'eval_per_category_accuracy': [0.9934809957997333, 0.9597996684113996], 'eval_runtime': 76.6313, 'eval_samples_per_second': 0.679, 'eval_steps_per_second': 0.144, 'epoch': 3.81}\n"
     ]
    },
    {
     "name": "stderr",
     "output_type": "stream",
     "text": [
      "  4%|▍         | 81/2100 [09:43<14:48:00, 26.39s/it]"
     ]
    },
    {
     "name": "stdout",
     "output_type": "stream",
     "text": [
      "{'loss': 0.1897, 'learning_rate': 5.768571428571428e-05, 'epoch': 3.86}\n"
     ]
    },
    {
     "name": "stderr",
     "output_type": "stream",
     "text": [
      "  4%|▍         | 82/2100 [09:47<10:53:46, 19.44s/it]"
     ]
    },
    {
     "name": "stdout",
     "output_type": "stream",
     "text": [
      "{'loss': 0.307, 'learning_rate': 5.7657142857142864e-05, 'epoch': 3.9}\n"
     ]
    },
    {
     "name": "stderr",
     "output_type": "stream",
     "text": [
      "  4%|▍         | 83/2100 [09:50<8:09:39, 14.57s/it] "
     ]
    },
    {
     "name": "stdout",
     "output_type": "stream",
     "text": [
      "{'loss': 0.2147, 'learning_rate': 5.762857142857143e-05, 'epoch': 3.95}\n"
     ]
    },
    {
     "name": "stderr",
     "output_type": "stream",
     "text": [
      "  4%|▍         | 84/2100 [09:52<6:08:19, 10.96s/it]"
     ]
    },
    {
     "name": "stdout",
     "output_type": "stream",
     "text": [
      "{'loss': 0.1799, 'learning_rate': 5.76e-05, 'epoch': 4.0}\n"
     ]
    },
    {
     "name": "stderr",
     "output_type": "stream",
     "text": [
      "  4%|▍         | 85/2100 [09:56<4:56:47,  8.84s/it]"
     ]
    },
    {
     "name": "stdout",
     "output_type": "stream",
     "text": [
      "{'loss': 0.1866, 'learning_rate': 5.757142857142858e-05, 'epoch': 4.05}\n"
     ]
    },
    {
     "name": "stderr",
     "output_type": "stream",
     "text": [
      "  4%|▍         | 86/2100 [09:59<4:00:34,  7.17s/it]"
     ]
    },
    {
     "name": "stdout",
     "output_type": "stream",
     "text": [
      "{'loss': 0.1883, 'learning_rate': 5.7542857142857145e-05, 'epoch': 4.1}\n"
     ]
    },
    {
     "name": "stderr",
     "output_type": "stream",
     "text": [
      "  4%|▍         | 87/2100 [10:03<3:20:33,  5.98s/it]"
     ]
    },
    {
     "name": "stdout",
     "output_type": "stream",
     "text": [
      "{'loss': 0.1761, 'learning_rate': 5.751428571428571e-05, 'epoch': 4.14}\n"
     ]
    },
    {
     "name": "stderr",
     "output_type": "stream",
     "text": [
      "  4%|▍         | 88/2100 [10:06<2:52:48,  5.15s/it]"
     ]
    },
    {
     "name": "stdout",
     "output_type": "stream",
     "text": [
      "{'loss': 0.1782, 'learning_rate': 5.7485714285714285e-05, 'epoch': 4.19}\n"
     ]
    },
    {
     "name": "stderr",
     "output_type": "stream",
     "text": [
      "  4%|▍         | 89/2100 [10:09<2:33:16,  4.57s/it]"
     ]
    },
    {
     "name": "stdout",
     "output_type": "stream",
     "text": [
      "{'loss': 0.1846, 'learning_rate': 5.745714285714286e-05, 'epoch': 4.24}\n"
     ]
    },
    {
     "name": "stderr",
     "output_type": "stream",
     "text": [
      "  4%|▍         | 90/2100 [10:12<2:19:19,  4.16s/it]"
     ]
    },
    {
     "name": "stdout",
     "output_type": "stream",
     "text": [
      "{'loss': 0.1697, 'learning_rate': 5.742857142857143e-05, 'epoch': 4.29}\n"
     ]
    },
    {
     "name": "stderr",
     "output_type": "stream",
     "text": [
      "  4%|▍         | 91/2100 [10:16<2:09:54,  3.88s/it]"
     ]
    },
    {
     "name": "stdout",
     "output_type": "stream",
     "text": [
      "{'loss': 0.1642, 'learning_rate': 5.74e-05, 'epoch': 4.33}\n"
     ]
    },
    {
     "name": "stderr",
     "output_type": "stream",
     "text": [
      "  4%|▍         | 92/2100 [10:19<2:03:13,  3.68s/it]"
     ]
    },
    {
     "name": "stdout",
     "output_type": "stream",
     "text": [
      "{'loss': 0.1863, 'learning_rate': 5.737142857142857e-05, 'epoch': 4.38}\n"
     ]
    },
    {
     "name": "stderr",
     "output_type": "stream",
     "text": [
      "  4%|▍         | 93/2100 [10:22<1:58:36,  3.55s/it]"
     ]
    },
    {
     "name": "stdout",
     "output_type": "stream",
     "text": [
      "{'loss': 0.1986, 'learning_rate': 5.7342857142857147e-05, 'epoch': 4.43}\n"
     ]
    },
    {
     "name": "stderr",
     "output_type": "stream",
     "text": [
      "  4%|▍         | 94/2100 [10:25<1:55:02,  3.44s/it]"
     ]
    },
    {
     "name": "stdout",
     "output_type": "stream",
     "text": [
      "{'loss': 0.1856, 'learning_rate': 5.7314285714285713e-05, 'epoch': 4.48}\n"
     ]
    },
    {
     "name": "stderr",
     "output_type": "stream",
     "text": [
      "  5%|▍         | 95/2100 [10:28<1:52:53,  3.38s/it]"
     ]
    },
    {
     "name": "stdout",
     "output_type": "stream",
     "text": [
      "{'loss': 0.1782, 'learning_rate': 5.728571428571429e-05, 'epoch': 4.52}\n"
     ]
    },
    {
     "name": "stderr",
     "output_type": "stream",
     "text": [
      "  5%|▍         | 96/2100 [10:32<1:51:19,  3.33s/it]"
     ]
    },
    {
     "name": "stdout",
     "output_type": "stream",
     "text": [
      "{'loss': 0.1721, 'learning_rate': 5.725714285714286e-05, 'epoch': 4.57}\n"
     ]
    },
    {
     "name": "stderr",
     "output_type": "stream",
     "text": [
      "  5%|▍         | 97/2100 [10:35<1:50:01,  3.30s/it]"
     ]
    },
    {
     "name": "stdout",
     "output_type": "stream",
     "text": [
      "{'loss': 0.1547, 'learning_rate': 5.722857142857143e-05, 'epoch': 4.62}\n"
     ]
    },
    {
     "name": "stderr",
     "output_type": "stream",
     "text": [
      "  5%|▍         | 98/2100 [10:38<1:49:18,  3.28s/it]"
     ]
    },
    {
     "name": "stdout",
     "output_type": "stream",
     "text": [
      "{'loss': 0.1698, 'learning_rate': 5.72e-05, 'epoch': 4.67}\n"
     ]
    },
    {
     "name": "stderr",
     "output_type": "stream",
     "text": [
      "  5%|▍         | 99/2100 [10:41<1:49:11,  3.27s/it]"
     ]
    },
    {
     "name": "stdout",
     "output_type": "stream",
     "text": [
      "{'loss': 0.1705, 'learning_rate': 5.7171428571428575e-05, 'epoch': 4.71}\n"
     ]
    },
    {
     "name": "stderr",
     "output_type": "stream",
     "text": [
      "  5%|▍         | 100/2100 [10:45<1:48:42,  3.26s/it]"
     ]
    },
    {
     "name": "stdout",
     "output_type": "stream",
     "text": [
      "{'loss': 0.207, 'learning_rate': 5.714285714285714e-05, 'epoch': 4.76}\n"
     ]
    },
    {
     "name": "stderr",
     "output_type": "stream",
     "text": [
      "\n",
      "  5%|▍         | 100/2100 [12:03<1:48:42,  3.26s/it]"
     ]
    },
    {
     "name": "stdout",
     "output_type": "stream",
     "text": [
      "{'eval_loss': 0.14042912423610687, 'eval_mean_iou': 0.8957092540271054, 'eval_mean_accuracy': 0.9628872500071797, 'eval_overall_accuracy': 0.9954395718880593, 'eval_per_category_iou': [0.9953569187132483, 0.7960615893409626], 'eval_per_category_accuracy': [0.9967367578800161, 0.9290377421343432], 'eval_runtime': 78.6655, 'eval_samples_per_second': 0.661, 'eval_steps_per_second': 0.14, 'epoch': 4.76}\n"
     ]
    },
    {
     "name": "stderr",
     "output_type": "stream",
     "text": [
      "  5%|▍         | 101/2100 [12:07<14:58:28, 26.97s/it]"
     ]
    },
    {
     "name": "stdout",
     "output_type": "stream",
     "text": [
      "{'loss': 0.1532, 'learning_rate': 5.7114285714285715e-05, 'epoch': 4.81}\n"
     ]
    },
    {
     "name": "stderr",
     "output_type": "stream",
     "text": [
      "  5%|▍         | 102/2100 [12:10<11:00:39, 19.84s/it]"
     ]
    },
    {
     "name": "stdout",
     "output_type": "stream",
     "text": [
      "{'loss': 0.1673, 'learning_rate': 5.708571428571428e-05, 'epoch': 4.86}\n"
     ]
    },
    {
     "name": "stderr",
     "output_type": "stream",
     "text": [
      "  5%|▍         | 103/2100 [12:13<8:13:52, 14.84s/it] "
     ]
    },
    {
     "name": "stdout",
     "output_type": "stream",
     "text": [
      "{'loss': 0.1585, 'learning_rate': 5.705714285714286e-05, 'epoch': 4.9}\n"
     ]
    },
    {
     "name": "stderr",
     "output_type": "stream",
     "text": [
      "  5%|▍         | 104/2100 [12:16<6:16:51, 11.33s/it]"
     ]
    },
    {
     "name": "stdout",
     "output_type": "stream",
     "text": [
      "{'loss': 0.1395, 'learning_rate': 5.702857142857143e-05, 'epoch': 4.95}\n"
     ]
    },
    {
     "name": "stderr",
     "output_type": "stream",
     "text": [
      "  5%|▌         | 105/2100 [12:19<4:48:38,  8.68s/it]"
     ]
    },
    {
     "name": "stdout",
     "output_type": "stream",
     "text": [
      "{'loss': 0.1765, 'learning_rate': 5.6999999999999996e-05, 'epoch': 5.0}\n"
     ]
    },
    {
     "name": "stderr",
     "output_type": "stream",
     "text": [
      "  5%|▌         | 106/2100 [12:23<4:00:06,  7.22s/it]"
     ]
    },
    {
     "name": "stdout",
     "output_type": "stream",
     "text": [
      "{'loss': 0.1438, 'learning_rate': 5.697142857142858e-05, 'epoch': 5.05}\n"
     ]
    },
    {
     "name": "stderr",
     "output_type": "stream",
     "text": [
      "  5%|▌         | 107/2100 [12:26<3:19:50,  6.02s/it]"
     ]
    },
    {
     "name": "stdout",
     "output_type": "stream",
     "text": [
      "{'loss': 0.1778, 'learning_rate': 5.6942857142857144e-05, 'epoch': 5.1}\n"
     ]
    },
    {
     "name": "stderr",
     "output_type": "stream",
     "text": [
      "  5%|▌         | 108/2100 [12:29<2:51:02,  5.15s/it]"
     ]
    },
    {
     "name": "stdout",
     "output_type": "stream",
     "text": [
      "{'loss': 0.1425, 'learning_rate': 5.691428571428572e-05, 'epoch': 5.14}\n"
     ]
    },
    {
     "name": "stderr",
     "output_type": "stream",
     "text": [
      "  5%|▌         | 109/2100 [12:32<2:31:02,  4.55s/it]"
     ]
    },
    {
     "name": "stdout",
     "output_type": "stream",
     "text": [
      "{'loss': 0.1626, 'learning_rate': 5.688571428571429e-05, 'epoch': 5.19}\n"
     ]
    },
    {
     "name": "stderr",
     "output_type": "stream",
     "text": [
      "  5%|▌         | 110/2100 [12:35<2:17:30,  4.15s/it]"
     ]
    },
    {
     "name": "stdout",
     "output_type": "stream",
     "text": [
      "{'loss': 0.1523, 'learning_rate': 5.685714285714286e-05, 'epoch': 5.24}\n"
     ]
    },
    {
     "name": "stderr",
     "output_type": "stream",
     "text": [
      "  5%|▌         | 111/2100 [12:39<2:07:49,  3.86s/it]"
     ]
    },
    {
     "name": "stdout",
     "output_type": "stream",
     "text": [
      "{'loss': 0.1508, 'learning_rate': 5.682857142857143e-05, 'epoch': 5.29}\n"
     ]
    },
    {
     "name": "stderr",
     "output_type": "stream",
     "text": [
      "  5%|▌         | 112/2100 [12:42<2:00:48,  3.65s/it]"
     ]
    },
    {
     "name": "stdout",
     "output_type": "stream",
     "text": [
      "{'loss': 0.1402, 'learning_rate': 5.68e-05, 'epoch': 5.33}\n"
     ]
    },
    {
     "name": "stderr",
     "output_type": "stream",
     "text": [
      "  5%|▌         | 113/2100 [12:45<1:56:36,  3.52s/it]"
     ]
    },
    {
     "name": "stdout",
     "output_type": "stream",
     "text": [
      "{'loss': 0.1567, 'learning_rate': 5.677142857142857e-05, 'epoch': 5.38}\n"
     ]
    },
    {
     "name": "stderr",
     "output_type": "stream",
     "text": [
      "  5%|▌         | 114/2100 [12:48<1:54:30,  3.46s/it]"
     ]
    },
    {
     "name": "stdout",
     "output_type": "stream",
     "text": [
      "{'loss': 0.1526, 'learning_rate': 5.6742857142857146e-05, 'epoch': 5.43}\n"
     ]
    },
    {
     "name": "stderr",
     "output_type": "stream",
     "text": [
      "  5%|▌         | 115/2100 [12:52<1:52:45,  3.41s/it]"
     ]
    },
    {
     "name": "stdout",
     "output_type": "stream",
     "text": [
      "{'loss': 0.1429, 'learning_rate': 5.671428571428571e-05, 'epoch': 5.48}\n"
     ]
    },
    {
     "name": "stderr",
     "output_type": "stream",
     "text": [
      "  6%|▌         | 116/2100 [12:55<1:55:24,  3.49s/it]"
     ]
    },
    {
     "name": "stdout",
     "output_type": "stream",
     "text": [
      "{'loss': 0.1442, 'learning_rate': 5.668571428571429e-05, 'epoch': 5.52}\n"
     ]
    },
    {
     "name": "stderr",
     "output_type": "stream",
     "text": [
      "  6%|▌         | 117/2100 [12:59<1:54:24,  3.46s/it]"
     ]
    },
    {
     "name": "stdout",
     "output_type": "stream",
     "text": [
      "{'loss': 0.1306, 'learning_rate': 5.665714285714286e-05, 'epoch': 5.57}\n"
     ]
    },
    {
     "name": "stderr",
     "output_type": "stream",
     "text": [
      "  6%|▌         | 118/2100 [13:02<1:52:52,  3.42s/it]"
     ]
    },
    {
     "name": "stdout",
     "output_type": "stream",
     "text": [
      "{'loss': 0.1336, 'learning_rate': 5.6628571428571427e-05, 'epoch': 5.62}\n"
     ]
    },
    {
     "name": "stderr",
     "output_type": "stream",
     "text": [
      "  6%|▌         | 119/2100 [13:05<1:51:37,  3.38s/it]"
     ]
    },
    {
     "name": "stdout",
     "output_type": "stream",
     "text": [
      "{'loss': 0.1456, 'learning_rate': 5.66e-05, 'epoch': 5.67}\n"
     ]
    },
    {
     "name": "stderr",
     "output_type": "stream",
     "text": [
      "  6%|▌         | 120/2100 [13:09<1:50:59,  3.36s/it]"
     ]
    },
    {
     "name": "stdout",
     "output_type": "stream",
     "text": [
      "{'loss': 0.1548, 'learning_rate': 5.6571428571428574e-05, 'epoch': 5.71}\n"
     ]
    },
    {
     "name": "stderr",
     "output_type": "stream",
     "text": [
      "\n",
      "  6%|▌         | 120/2100 [14:28<1:50:59,  3.36s/it]"
     ]
    },
    {
     "name": "stdout",
     "output_type": "stream",
     "text": [
      "{'eval_loss': 0.12579645216464996, 'eval_mean_iou': 0.8907797783412434, 'eval_mean_accuracy': 0.9696627211860793, 'eval_overall_accuracy': 0.9950955533643236, 'eval_per_category_iou': [0.9950052836489762, 0.7865542730335106], 'eval_per_category_accuracy': [0.9961090329483033, 0.9432164094238552], 'eval_runtime': 78.935, 'eval_samples_per_second': 0.659, 'eval_steps_per_second': 0.139, 'epoch': 5.71}\n"
     ]
    },
    {
     "name": "stderr",
     "output_type": "stream",
     "text": [
      "  6%|▌         | 121/2100 [14:31<14:55:25, 27.15s/it]"
     ]
    },
    {
     "name": "stdout",
     "output_type": "stream",
     "text": [
      "{'loss': 0.1408, 'learning_rate': 5.654285714285715e-05, 'epoch': 5.76}\n"
     ]
    },
    {
     "name": "stderr",
     "output_type": "stream",
     "text": [
      "  6%|▌         | 122/2100 [14:35<10:59:11, 20.00s/it]"
     ]
    },
    {
     "name": "stdout",
     "output_type": "stream",
     "text": [
      "{'loss': 0.139, 'learning_rate': 5.6514285714285714e-05, 'epoch': 5.81}\n"
     ]
    },
    {
     "name": "stderr",
     "output_type": "stream",
     "text": [
      "  6%|▌         | 123/2100 [14:38<8:13:53, 14.99s/it] "
     ]
    },
    {
     "name": "stdout",
     "output_type": "stream",
     "text": [
      "{'loss': 0.1349, 'learning_rate': 5.648571428571429e-05, 'epoch': 5.86}\n"
     ]
    },
    {
     "name": "stderr",
     "output_type": "stream",
     "text": [
      "  6%|▌         | 124/2100 [14:41<6:18:38, 11.50s/it]"
     ]
    },
    {
     "name": "stdout",
     "output_type": "stream",
     "text": [
      "{'loss': 0.1164, 'learning_rate': 5.645714285714286e-05, 'epoch': 5.9}\n"
     ]
    },
    {
     "name": "stderr",
     "output_type": "stream",
     "text": [
      "  6%|▌         | 125/2100 [14:45<4:58:16,  9.06s/it]"
     ]
    },
    {
     "name": "stdout",
     "output_type": "stream",
     "text": [
      "{'loss': 0.1264, 'learning_rate': 5.642857142857143e-05, 'epoch': 5.95}\n"
     ]
    },
    {
     "name": "stderr",
     "output_type": "stream",
     "text": [
      "  6%|▌         | 126/2100 [14:47<3:54:34,  7.13s/it]"
     ]
    },
    {
     "name": "stdout",
     "output_type": "stream",
     "text": [
      "{'loss': 0.1357, 'learning_rate': 5.6399999999999995e-05, 'epoch': 6.0}\n"
     ]
    },
    {
     "name": "stderr",
     "output_type": "stream",
     "text": [
      "  6%|▌         | 127/2100 [14:51<3:23:32,  6.19s/it]"
     ]
    },
    {
     "name": "stdout",
     "output_type": "stream",
     "text": [
      "{'loss': 0.1287, 'learning_rate': 5.6371428571428576e-05, 'epoch': 6.05}\n"
     ]
    },
    {
     "name": "stderr",
     "output_type": "stream",
     "text": [
      "  6%|▌         | 128/2100 [14:54<2:55:04,  5.33s/it]"
     ]
    },
    {
     "name": "stdout",
     "output_type": "stream",
     "text": [
      "{'loss': 0.1483, 'learning_rate': 5.634285714285714e-05, 'epoch': 6.1}\n"
     ]
    },
    {
     "name": "stderr",
     "output_type": "stream",
     "text": [
      "  6%|▌         | 129/2100 [14:58<2:34:59,  4.72s/it]"
     ]
    },
    {
     "name": "stdout",
     "output_type": "stream",
     "text": [
      "{'loss': 0.1197, 'learning_rate': 5.6314285714285716e-05, 'epoch': 6.14}\n"
     ]
    },
    {
     "name": "stderr",
     "output_type": "stream",
     "text": [
      "  6%|▌         | 130/2100 [15:01<2:21:01,  4.30s/it]"
     ]
    },
    {
     "name": "stdout",
     "output_type": "stream",
     "text": [
      "{'loss': 0.1511, 'learning_rate': 5.628571428571429e-05, 'epoch': 6.19}\n"
     ]
    },
    {
     "name": "stderr",
     "output_type": "stream",
     "text": [
      "  6%|▌         | 131/2100 [15:04<2:11:10,  4.00s/it]"
     ]
    },
    {
     "name": "stdout",
     "output_type": "stream",
     "text": [
      "{'loss': 0.1163, 'learning_rate': 5.625714285714286e-05, 'epoch': 6.24}\n"
     ]
    },
    {
     "name": "stderr",
     "output_type": "stream",
     "text": [
      "  6%|▋         | 132/2100 [15:08<2:04:30,  3.80s/it]"
     ]
    },
    {
     "name": "stdout",
     "output_type": "stream",
     "text": [
      "{'loss': 0.125, 'learning_rate': 5.622857142857143e-05, 'epoch': 6.29}\n"
     ]
    },
    {
     "name": "stderr",
     "output_type": "stream",
     "text": [
      "  6%|▋         | 133/2100 [15:11<1:59:31,  3.65s/it]"
     ]
    },
    {
     "name": "stdout",
     "output_type": "stream",
     "text": [
      "{'loss': 0.1442, 'learning_rate': 5.62e-05, 'epoch': 6.33}\n"
     ]
    },
    {
     "name": "stderr",
     "output_type": "stream",
     "text": [
      "  6%|▋         | 134/2100 [15:14<1:56:55,  3.57s/it]"
     ]
    },
    {
     "name": "stdout",
     "output_type": "stream",
     "text": [
      "{'loss': 0.1363, 'learning_rate': 5.617142857142858e-05, 'epoch': 6.38}\n"
     ]
    },
    {
     "name": "stderr",
     "output_type": "stream",
     "text": [
      "  6%|▋         | 135/2100 [15:18<1:54:25,  3.49s/it]"
     ]
    },
    {
     "name": "stdout",
     "output_type": "stream",
     "text": [
      "{'loss': 0.1477, 'learning_rate': 5.6142857142857145e-05, 'epoch': 6.43}\n"
     ]
    },
    {
     "name": "stderr",
     "output_type": "stream",
     "text": [
      "  6%|▋         | 136/2100 [15:21<1:53:34,  3.47s/it]"
     ]
    },
    {
     "name": "stdout",
     "output_type": "stream",
     "text": [
      "{'loss': 0.1432, 'learning_rate': 5.611428571428571e-05, 'epoch': 6.48}\n"
     ]
    },
    {
     "name": "stderr",
     "output_type": "stream",
     "text": [
      "  7%|▋         | 137/2100 [15:24<1:52:23,  3.44s/it]"
     ]
    },
    {
     "name": "stdout",
     "output_type": "stream",
     "text": [
      "{'loss': 0.1231, 'learning_rate': 5.608571428571429e-05, 'epoch': 6.52}\n"
     ]
    },
    {
     "name": "stderr",
     "output_type": "stream",
     "text": [
      "  7%|▋         | 138/2100 [15:28<1:51:03,  3.40s/it]"
     ]
    },
    {
     "name": "stdout",
     "output_type": "stream",
     "text": [
      "{'loss': 0.1273, 'learning_rate': 5.605714285714286e-05, 'epoch': 6.57}\n"
     ]
    },
    {
     "name": "stderr",
     "output_type": "stream",
     "text": [
      "  7%|▋         | 139/2100 [15:31<1:50:05,  3.37s/it]"
     ]
    },
    {
     "name": "stdout",
     "output_type": "stream",
     "text": [
      "{'loss': 0.1325, 'learning_rate': 5.6028571428571426e-05, 'epoch': 6.62}\n"
     ]
    },
    {
     "name": "stderr",
     "output_type": "stream",
     "text": [
      "  7%|▋         | 140/2100 [15:34<1:49:48,  3.36s/it]"
     ]
    },
    {
     "name": "stdout",
     "output_type": "stream",
     "text": [
      "{'loss': 0.1193, 'learning_rate': 5.6e-05, 'epoch': 6.67}\n"
     ]
    },
    {
     "name": "stderr",
     "output_type": "stream",
     "text": [
      "\n",
      "  7%|▋         | 140/2100 [16:53<1:49:48,  3.36s/it]"
     ]
    },
    {
     "name": "stdout",
     "output_type": "stream",
     "text": [
      "{'eval_loss': 0.12075065076351166, 'eval_mean_iou': 0.9097763514751521, 'eval_mean_accuracy': 0.9712723770608139, 'eval_overall_accuracy': 0.996117484270085, 'eval_per_category_iou': [0.9960458525387459, 0.8235068504115584], 'eval_per_category_accuracy': [0.9971075434479976, 0.9454372106736303], 'eval_runtime': 78.554, 'eval_samples_per_second': 0.662, 'eval_steps_per_second': 0.14, 'epoch': 6.67}\n"
     ]
    },
    {
     "name": "stderr",
     "output_type": "stream",
     "text": [
      "  7%|▋         | 141/2100 [16:57<14:42:08, 27.02s/it]"
     ]
    },
    {
     "name": "stdout",
     "output_type": "stream",
     "text": [
      "{'loss': 0.1158, 'learning_rate': 5.597142857142857e-05, 'epoch': 6.71}\n"
     ]
    },
    {
     "name": "stderr",
     "output_type": "stream",
     "text": [
      "  7%|▋         | 142/2100 [17:00<10:49:41, 19.91s/it]"
     ]
    },
    {
     "name": "stdout",
     "output_type": "stream",
     "text": [
      "{'loss': 0.1346, 'learning_rate': 5.5942857142857146e-05, 'epoch': 6.76}\n"
     ]
    },
    {
     "name": "stderr",
     "output_type": "stream",
     "text": [
      "  7%|▋         | 143/2100 [17:03<8:06:42, 14.92s/it] "
     ]
    },
    {
     "name": "stdout",
     "output_type": "stream",
     "text": [
      "{'loss': 0.1544, 'learning_rate': 5.591428571428571e-05, 'epoch': 6.81}\n"
     ]
    },
    {
     "name": "stderr",
     "output_type": "stream",
     "text": [
      "  7%|▋         | 144/2100 [17:07<6:13:10, 11.45s/it]"
     ]
    },
    {
     "name": "stdout",
     "output_type": "stream",
     "text": [
      "{'loss': 0.1153, 'learning_rate': 5.588571428571429e-05, 'epoch': 6.86}\n"
     ]
    },
    {
     "name": "stderr",
     "output_type": "stream",
     "text": [
      "  7%|▋         | 145/2100 [17:10<4:53:46,  9.02s/it]"
     ]
    },
    {
     "name": "stdout",
     "output_type": "stream",
     "text": [
      "{'loss': 0.1128, 'learning_rate': 5.585714285714286e-05, 'epoch': 6.9}\n"
     ]
    },
    {
     "name": "stderr",
     "output_type": "stream",
     "text": [
      "  7%|▋         | 146/2100 [17:13<3:58:09,  7.31s/it]"
     ]
    },
    {
     "name": "stdout",
     "output_type": "stream",
     "text": [
      "{'loss': 0.1133, 'learning_rate': 5.582857142857143e-05, 'epoch': 6.95}\n"
     ]
    },
    {
     "name": "stderr",
     "output_type": "stream",
     "text": [
      "  7%|▋         | 147/2100 [17:16<3:12:13,  5.91s/it]"
     ]
    },
    {
     "name": "stdout",
     "output_type": "stream",
     "text": [
      "{'loss': 0.1075, 'learning_rate': 5.58e-05, 'epoch': 7.0}\n"
     ]
    },
    {
     "name": "stderr",
     "output_type": "stream",
     "text": [
      "  7%|▋         | 148/2100 [17:20<2:54:10,  5.35s/it]"
     ]
    },
    {
     "name": "stdout",
     "output_type": "stream",
     "text": [
      "{'loss': 0.109, 'learning_rate': 5.5771428571428575e-05, 'epoch': 7.05}\n"
     ]
    },
    {
     "name": "stderr",
     "output_type": "stream",
     "text": [
      "  7%|▋         | 149/2100 [17:23<2:34:14,  4.74s/it]"
     ]
    },
    {
     "name": "stdout",
     "output_type": "stream",
     "text": [
      "{'loss': 0.1097, 'learning_rate': 5.574285714285714e-05, 'epoch': 7.1}\n"
     ]
    },
    {
     "name": "stderr",
     "output_type": "stream",
     "text": [
      "  7%|▋         | 150/2100 [17:27<2:20:40,  4.33s/it]"
     ]
    },
    {
     "name": "stdout",
     "output_type": "stream",
     "text": [
      "{'loss': 0.1142, 'learning_rate': 5.5714285714285715e-05, 'epoch': 7.14}\n"
     ]
    },
    {
     "name": "stderr",
     "output_type": "stream",
     "text": [
      "  7%|▋         | 151/2100 [17:30<2:10:39,  4.02s/it]"
     ]
    },
    {
     "name": "stdout",
     "output_type": "stream",
     "text": [
      "{'loss': 0.1277, 'learning_rate': 5.568571428571429e-05, 'epoch': 7.19}\n"
     ]
    },
    {
     "name": "stderr",
     "output_type": "stream",
     "text": [
      "  7%|▋         | 152/2100 [17:33<2:03:35,  3.81s/it]"
     ]
    },
    {
     "name": "stdout",
     "output_type": "stream",
     "text": [
      "{'loss': 0.1073, 'learning_rate': 5.5657142857142856e-05, 'epoch': 7.24}\n"
     ]
    },
    {
     "name": "stderr",
     "output_type": "stream",
     "text": [
      "  7%|▋         | 153/2100 [17:37<1:58:31,  3.65s/it]"
     ]
    },
    {
     "name": "stdout",
     "output_type": "stream",
     "text": [
      "{'loss': 0.0978, 'learning_rate': 5.562857142857143e-05, 'epoch': 7.29}\n"
     ]
    },
    {
     "name": "stderr",
     "output_type": "stream",
     "text": [
      "  7%|▋         | 154/2100 [17:40<1:55:16,  3.55s/it]"
     ]
    },
    {
     "name": "stdout",
     "output_type": "stream",
     "text": [
      "{'loss': 0.1059, 'learning_rate': 5.56e-05, 'epoch': 7.33}\n"
     ]
    },
    {
     "name": "stderr",
     "output_type": "stream",
     "text": [
      "  7%|▋         | 155/2100 [17:43<1:53:05,  3.49s/it]"
     ]
    },
    {
     "name": "stdout",
     "output_type": "stream",
     "text": [
      "{'loss': 0.1393, 'learning_rate': 5.557142857142858e-05, 'epoch': 7.38}\n"
     ]
    },
    {
     "name": "stderr",
     "output_type": "stream",
     "text": [
      "  7%|▋         | 156/2100 [17:47<1:51:36,  3.44s/it]"
     ]
    },
    {
     "name": "stdout",
     "output_type": "stream",
     "text": [
      "{'loss': 0.1201, 'learning_rate': 5.5542857142857143e-05, 'epoch': 7.43}\n"
     ]
    },
    {
     "name": "stderr",
     "output_type": "stream",
     "text": [
      "  7%|▋         | 157/2100 [17:50<1:50:26,  3.41s/it]"
     ]
    },
    {
     "name": "stdout",
     "output_type": "stream",
     "text": [
      "{'loss': 0.143, 'learning_rate': 5.551428571428571e-05, 'epoch': 7.48}\n"
     ]
    },
    {
     "name": "stderr",
     "output_type": "stream",
     "text": [
      "  8%|▊         | 158/2100 [17:53<1:49:31,  3.38s/it]"
     ]
    },
    {
     "name": "stdout",
     "output_type": "stream",
     "text": [
      "{'loss': 0.1051, 'learning_rate': 5.548571428571429e-05, 'epoch': 7.52}\n"
     ]
    },
    {
     "name": "stderr",
     "output_type": "stream",
     "text": [
      "  8%|▊         | 159/2100 [17:57<1:49:13,  3.38s/it]"
     ]
    },
    {
     "name": "stdout",
     "output_type": "stream",
     "text": [
      "{'loss': 0.112, 'learning_rate': 5.545714285714286e-05, 'epoch': 7.57}\n"
     ]
    },
    {
     "name": "stderr",
     "output_type": "stream",
     "text": [
      "  8%|▊         | 160/2100 [18:00<1:48:34,  3.36s/it]"
     ]
    },
    {
     "name": "stdout",
     "output_type": "stream",
     "text": [
      "{'loss': 0.1044, 'learning_rate': 5.542857142857143e-05, 'epoch': 7.62}\n"
     ]
    },
    {
     "name": "stderr",
     "output_type": "stream",
     "text": [
      "\n",
      "  8%|▊         | 160/2100 [19:20<1:48:34,  3.36s/it]"
     ]
    },
    {
     "name": "stdout",
     "output_type": "stream",
     "text": [
      "{'eval_loss': 0.08657090365886688, 'eval_mean_iou': 0.912101317711005, 'eval_mean_accuracy': 0.9701259793823384, 'eval_overall_accuracy': 0.996247344109499, 'eval_per_category_iou': [0.9961782927416254, 0.8280243426803846], 'eval_per_category_accuracy': [0.9972882612071752, 0.9429636975575015], 'eval_runtime': 80.4919, 'eval_samples_per_second': 0.646, 'eval_steps_per_second': 0.137, 'epoch': 7.62}\n"
     ]
    },
    {
     "name": "stderr",
     "output_type": "stream",
     "text": [
      "  8%|▊         | 161/2100 [19:24<14:52:36, 27.62s/it]"
     ]
    },
    {
     "name": "stdout",
     "output_type": "stream",
     "text": [
      "{'loss': 0.1164, 'learning_rate': 5.5400000000000005e-05, 'epoch': 7.67}\n"
     ]
    },
    {
     "name": "stderr",
     "output_type": "stream",
     "text": [
      "  8%|▊         | 162/2100 [19:28<10:57:24, 20.35s/it]"
     ]
    },
    {
     "name": "stdout",
     "output_type": "stream",
     "text": [
      "{'loss': 0.1076, 'learning_rate': 5.537142857142857e-05, 'epoch': 7.71}\n"
     ]
    },
    {
     "name": "stderr",
     "output_type": "stream",
     "text": [
      "  8%|▊         | 163/2100 [19:31<8:12:11, 15.25s/it] "
     ]
    },
    {
     "name": "stdout",
     "output_type": "stream",
     "text": [
      "{'loss': 0.0923, 'learning_rate': 5.5342857142857145e-05, 'epoch': 7.76}\n"
     ]
    },
    {
     "name": "stderr",
     "output_type": "stream",
     "text": [
      "  8%|▊         | 164/2100 [19:34<6:16:52, 11.68s/it]"
     ]
    },
    {
     "name": "stdout",
     "output_type": "stream",
     "text": [
      "{'loss': 0.0896, 'learning_rate': 5.531428571428571e-05, 'epoch': 7.81}\n"
     ]
    },
    {
     "name": "stderr",
     "output_type": "stream",
     "text": [
      "  8%|▊         | 165/2100 [19:38<4:56:43,  9.20s/it]"
     ]
    },
    {
     "name": "stdout",
     "output_type": "stream",
     "text": [
      "{'loss': 0.1107, 'learning_rate': 5.5285714285714286e-05, 'epoch': 7.86}\n"
     ]
    },
    {
     "name": "stderr",
     "output_type": "stream",
     "text": [
      "  8%|▊         | 166/2100 [19:41<4:00:00,  7.45s/it]"
     ]
    },
    {
     "name": "stdout",
     "output_type": "stream",
     "text": [
      "{'loss': 0.1481, 'learning_rate': 5.525714285714286e-05, 'epoch': 7.9}\n"
     ]
    },
    {
     "name": "stderr",
     "output_type": "stream",
     "text": [
      "  8%|▊         | 167/2100 [19:44<3:20:30,  6.22s/it]"
     ]
    },
    {
     "name": "stdout",
     "output_type": "stream",
     "text": [
      "{'loss': 0.103, 'learning_rate': 5.5228571428571426e-05, 'epoch': 7.95}\n"
     ]
    },
    {
     "name": "stderr",
     "output_type": "stream",
     "text": [
      "  8%|▊         | 168/2100 [19:47<2:46:08,  5.16s/it]"
     ]
    },
    {
     "name": "stdout",
     "output_type": "stream",
     "text": [
      "{'loss': 0.0983, 'learning_rate': 5.520000000000001e-05, 'epoch': 8.0}\n"
     ]
    },
    {
     "name": "stderr",
     "output_type": "stream",
     "text": [
      "  8%|▊         | 169/2100 [19:51<2:35:56,  4.85s/it]"
     ]
    },
    {
     "name": "stdout",
     "output_type": "stream",
     "text": [
      "{'loss': 0.0952, 'learning_rate': 5.5171428571428574e-05, 'epoch': 8.05}\n"
     ]
    },
    {
     "name": "stderr",
     "output_type": "stream",
     "text": [
      "  8%|▊         | 170/2100 [19:55<2:22:24,  4.43s/it]"
     ]
    },
    {
     "name": "stdout",
     "output_type": "stream",
     "text": [
      "{'loss': 0.1033, 'learning_rate': 5.514285714285714e-05, 'epoch': 8.1}\n"
     ]
    },
    {
     "name": "stderr",
     "output_type": "stream",
     "text": [
      "  8%|▊         | 171/2100 [19:58<2:13:54,  4.16s/it]"
     ]
    },
    {
     "name": "stdout",
     "output_type": "stream",
     "text": [
      "{'loss': 0.1031, 'learning_rate': 5.5114285714285714e-05, 'epoch': 8.14}\n"
     ]
    },
    {
     "name": "stderr",
     "output_type": "stream",
     "text": [
      "  8%|▊         | 172/2100 [20:01<2:05:30,  3.91s/it]"
     ]
    },
    {
     "name": "stdout",
     "output_type": "stream",
     "text": [
      "{'loss': 0.1125, 'learning_rate': 5.508571428571429e-05, 'epoch': 8.19}\n"
     ]
    },
    {
     "name": "stderr",
     "output_type": "stream",
     "text": [
      "  8%|▊         | 173/2100 [20:05<2:00:24,  3.75s/it]"
     ]
    },
    {
     "name": "stdout",
     "output_type": "stream",
     "text": [
      "{'loss': 0.0938, 'learning_rate': 5.505714285714286e-05, 'epoch': 8.24}\n"
     ]
    },
    {
     "name": "stderr",
     "output_type": "stream",
     "text": [
      "  8%|▊         | 174/2100 [20:08<1:55:40,  3.60s/it]"
     ]
    },
    {
     "name": "stdout",
     "output_type": "stream",
     "text": [
      "{'loss': 0.0924, 'learning_rate': 5.502857142857143e-05, 'epoch': 8.29}\n"
     ]
    },
    {
     "name": "stderr",
     "output_type": "stream",
     "text": [
      "  8%|▊         | 175/2100 [20:11<1:52:17,  3.50s/it]"
     ]
    },
    {
     "name": "stdout",
     "output_type": "stream",
     "text": [
      "{'loss': 0.0809, 'learning_rate': 5.5e-05, 'epoch': 8.33}\n"
     ]
    },
    {
     "name": "stderr",
     "output_type": "stream",
     "text": [
      "  8%|▊         | 176/2100 [20:15<1:49:42,  3.42s/it]"
     ]
    },
    {
     "name": "stdout",
     "output_type": "stream",
     "text": [
      "{'loss': 0.0846, 'learning_rate': 5.4971428571428576e-05, 'epoch': 8.38}\n"
     ]
    },
    {
     "name": "stderr",
     "output_type": "stream",
     "text": [
      "  8%|▊         | 177/2100 [20:18<1:47:54,  3.37s/it]"
     ]
    },
    {
     "name": "stdout",
     "output_type": "stream",
     "text": [
      "{'loss': 0.0907, 'learning_rate': 5.494285714285714e-05, 'epoch': 8.43}\n"
     ]
    },
    {
     "name": "stderr",
     "output_type": "stream",
     "text": [
      "  8%|▊         | 178/2100 [20:21<1:47:38,  3.36s/it]"
     ]
    },
    {
     "name": "stdout",
     "output_type": "stream",
     "text": [
      "{'loss': 0.0895, 'learning_rate': 5.491428571428571e-05, 'epoch': 8.48}\n"
     ]
    },
    {
     "name": "stderr",
     "output_type": "stream",
     "text": [
      "  9%|▊         | 179/2100 [20:25<1:47:44,  3.37s/it]"
     ]
    },
    {
     "name": "stdout",
     "output_type": "stream",
     "text": [
      "{'loss': 0.101, 'learning_rate': 5.488571428571429e-05, 'epoch': 8.52}\n"
     ]
    },
    {
     "name": "stderr",
     "output_type": "stream",
     "text": [
      "  9%|▊         | 180/2100 [20:28<1:49:49,  3.43s/it]"
     ]
    },
    {
     "name": "stdout",
     "output_type": "stream",
     "text": [
      "{'loss': 0.0872, 'learning_rate': 5.4857142857142857e-05, 'epoch': 8.57}\n"
     ]
    },
    {
     "name": "stderr",
     "output_type": "stream",
     "text": [
      "\n",
      "  9%|▊         | 180/2100 [21:50<1:49:49,  3.43s/it]"
     ]
    },
    {
     "name": "stdout",
     "output_type": "stream",
     "text": [
      "{'eval_loss': 0.059239260852336884, 'eval_mean_iou': 0.9189829083266465, 'eval_mean_accuracy': 0.9624389925807797, 'eval_overall_accuracy': 0.9966517437902052, 'eval_per_category_iou': [0.9965912046402102, 0.841374612013083], 'eval_per_category_accuracy': [0.998015096664927, 0.9268628884966325], 'eval_runtime': 81.9271, 'eval_samples_per_second': 0.635, 'eval_steps_per_second': 0.134, 'epoch': 8.57}\n"
     ]
    },
    {
     "name": "stderr",
     "output_type": "stream",
     "text": [
      "  9%|▊         | 181/2100 [21:54<14:59:25, 28.12s/it]"
     ]
    },
    {
     "name": "stdout",
     "output_type": "stream",
     "text": [
      "{'loss': 0.0912, 'learning_rate': 5.482857142857143e-05, 'epoch': 8.62}\n"
     ]
    },
    {
     "name": "stderr",
     "output_type": "stream",
     "text": [
      "  9%|▊         | 182/2100 [21:57<11:00:43, 20.67s/it]"
     ]
    },
    {
     "name": "stdout",
     "output_type": "stream",
     "text": [
      "{'loss': 0.0814, 'learning_rate': 5.4800000000000004e-05, 'epoch': 8.67}\n"
     ]
    },
    {
     "name": "stderr",
     "output_type": "stream",
     "text": [
      "  9%|▊         | 183/2100 [22:00<8:13:31, 15.45s/it] "
     ]
    },
    {
     "name": "stdout",
     "output_type": "stream",
     "text": [
      "{'loss': 0.0838, 'learning_rate': 5.477142857142857e-05, 'epoch': 8.71}\n"
     ]
    },
    {
     "name": "stderr",
     "output_type": "stream",
     "text": [
      "  9%|▉         | 184/2100 [22:04<6:16:21, 11.79s/it]"
     ]
    },
    {
     "name": "stdout",
     "output_type": "stream",
     "text": [
      "{'loss': 0.0908, 'learning_rate': 5.4742857142857144e-05, 'epoch': 8.76}\n"
     ]
    },
    {
     "name": "stderr",
     "output_type": "stream",
     "text": [
      "  9%|▉         | 185/2100 [22:07<4:54:36,  9.23s/it]"
     ]
    },
    {
     "name": "stdout",
     "output_type": "stream",
     "text": [
      "{'loss': 0.1024, 'learning_rate': 5.471428571428571e-05, 'epoch': 8.81}\n"
     ]
    },
    {
     "name": "stderr",
     "output_type": "stream",
     "text": [
      "  9%|▉         | 186/2100 [22:10<3:56:52,  7.43s/it]"
     ]
    },
    {
     "name": "stdout",
     "output_type": "stream",
     "text": [
      "{'loss': 0.0878, 'learning_rate': 5.468571428571429e-05, 'epoch': 8.86}\n"
     ]
    },
    {
     "name": "stderr",
     "output_type": "stream",
     "text": [
      "  9%|▉         | 187/2100 [22:13<3:17:33,  6.20s/it]"
     ]
    },
    {
     "name": "stdout",
     "output_type": "stream",
     "text": [
      "{'loss': 0.0931, 'learning_rate': 5.465714285714286e-05, 'epoch': 8.9}\n"
     ]
    },
    {
     "name": "stderr",
     "output_type": "stream",
     "text": [
      "  9%|▉         | 188/2100 [22:17<2:49:55,  5.33s/it]"
     ]
    },
    {
     "name": "stdout",
     "output_type": "stream",
     "text": [
      "{'loss': 0.0941, 'learning_rate': 5.4628571428571425e-05, 'epoch': 8.95}\n"
     ]
    },
    {
     "name": "stderr",
     "output_type": "stream",
     "text": [
      "  9%|▉         | 189/2100 [22:19<2:24:00,  4.52s/it]"
     ]
    },
    {
     "name": "stdout",
     "output_type": "stream",
     "text": [
      "{'loss': 0.0812, 'learning_rate': 5.4600000000000006e-05, 'epoch': 9.0}\n"
     ]
    },
    {
     "name": "stderr",
     "output_type": "stream",
     "text": [
      "  9%|▉         | 190/2100 [22:24<2:20:00,  4.40s/it]"
     ]
    },
    {
     "name": "stdout",
     "output_type": "stream",
     "text": [
      "{'loss': 0.0795, 'learning_rate': 5.457142857142857e-05, 'epoch': 9.05}\n"
     ]
    },
    {
     "name": "stderr",
     "output_type": "stream",
     "text": [
      "  9%|▉         | 191/2100 [22:27<2:09:27,  4.07s/it]"
     ]
    },
    {
     "name": "stdout",
     "output_type": "stream",
     "text": [
      "{'loss': 0.0891, 'learning_rate': 5.454285714285714e-05, 'epoch': 9.1}\n"
     ]
    },
    {
     "name": "stderr",
     "output_type": "stream",
     "text": [
      "  9%|▉         | 192/2100 [22:30<2:01:58,  3.84s/it]"
     ]
    },
    {
     "name": "stdout",
     "output_type": "stream",
     "text": [
      "{'loss': 0.0793, 'learning_rate': 5.451428571428571e-05, 'epoch': 9.14}\n"
     ]
    },
    {
     "name": "stderr",
     "output_type": "stream",
     "text": [
      "  9%|▉         | 193/2100 [22:33<1:57:24,  3.69s/it]"
     ]
    },
    {
     "name": "stdout",
     "output_type": "stream",
     "text": [
      "{'loss': 0.0852, 'learning_rate': 5.448571428571429e-05, 'epoch': 9.19}\n"
     ]
    },
    {
     "name": "stderr",
     "output_type": "stream",
     "text": [
      "  9%|▉         | 194/2100 [22:37<1:53:29,  3.57s/it]"
     ]
    },
    {
     "name": "stdout",
     "output_type": "stream",
     "text": [
      "{'loss': 0.1275, 'learning_rate': 5.445714285714286e-05, 'epoch': 9.24}\n"
     ]
    },
    {
     "name": "stderr",
     "output_type": "stream",
     "text": [
      "  9%|▉         | 195/2100 [22:40<1:50:44,  3.49s/it]"
     ]
    },
    {
     "name": "stdout",
     "output_type": "stream",
     "text": [
      "{'loss': 0.0827, 'learning_rate': 5.442857142857143e-05, 'epoch': 9.29}\n"
     ]
    },
    {
     "name": "stderr",
     "output_type": "stream",
     "text": [
      "  9%|▉         | 196/2100 [22:43<1:48:56,  3.43s/it]"
     ]
    },
    {
     "name": "stdout",
     "output_type": "stream",
     "text": [
      "{'loss': 0.0803, 'learning_rate': 5.44e-05, 'epoch': 9.33}\n"
     ]
    },
    {
     "name": "stderr",
     "output_type": "stream",
     "text": [
      "  9%|▉         | 197/2100 [22:47<1:48:01,  3.41s/it]"
     ]
    },
    {
     "name": "stdout",
     "output_type": "stream",
     "text": [
      "{'loss': 0.101, 'learning_rate': 5.4371428571428575e-05, 'epoch': 9.38}\n"
     ]
    },
    {
     "name": "stderr",
     "output_type": "stream",
     "text": [
      "  9%|▉         | 198/2100 [22:50<1:47:55,  3.40s/it]"
     ]
    },
    {
     "name": "stdout",
     "output_type": "stream",
     "text": [
      "{'loss': 0.0991, 'learning_rate': 5.434285714285714e-05, 'epoch': 9.43}\n"
     ]
    },
    {
     "name": "stderr",
     "output_type": "stream",
     "text": [
      "  9%|▉         | 199/2100 [22:53<1:47:39,  3.40s/it]"
     ]
    },
    {
     "name": "stdout",
     "output_type": "stream",
     "text": [
      "{'loss': 0.0817, 'learning_rate': 5.431428571428572e-05, 'epoch': 9.48}\n"
     ]
    },
    {
     "name": "stderr",
     "output_type": "stream",
     "text": [
      " 10%|▉         | 200/2100 [22:57<1:46:53,  3.38s/it]"
     ]
    },
    {
     "name": "stdout",
     "output_type": "stream",
     "text": [
      "{'loss': 0.1069, 'learning_rate': 5.428571428571429e-05, 'epoch': 9.52}\n"
     ]
    },
    {
     "name": "stderr",
     "output_type": "stream",
     "text": [
      "\n",
      " 10%|▉         | 200/2100 [24:16<1:46:53,  3.38s/it]"
     ]
    },
    {
     "name": "stdout",
     "output_type": "stream",
     "text": [
      "{'eval_loss': 0.10796001553535461, 'eval_mean_iou': 0.9127377909427064, 'eval_mean_accuracy': 0.9864323888578859, 'eval_overall_accuracy': 0.9961519668263136, 'eval_per_category_iou': [0.9960786075853213, 0.8293969743000914], 'eval_per_category_accuracy': [0.9965392848319081, 0.9763254928838636], 'eval_runtime': 79.5041, 'eval_samples_per_second': 0.654, 'eval_steps_per_second': 0.138, 'epoch': 9.52}\n"
     ]
    },
    {
     "name": "stderr",
     "output_type": "stream",
     "text": [
      " 10%|▉         | 201/2100 [24:20<14:24:57, 27.33s/it]"
     ]
    },
    {
     "name": "stdout",
     "output_type": "stream",
     "text": [
      "{'loss': 0.0866, 'learning_rate': 5.4257142857142856e-05, 'epoch': 9.57}\n"
     ]
    },
    {
     "name": "stderr",
     "output_type": "stream",
     "text": [
      " 10%|▉         | 202/2100 [24:23<10:36:43, 20.13s/it]"
     ]
    },
    {
     "name": "stdout",
     "output_type": "stream",
     "text": [
      "{'loss': 0.0922, 'learning_rate': 5.422857142857143e-05, 'epoch': 9.62}\n"
     ]
    },
    {
     "name": "stderr",
     "output_type": "stream",
     "text": [
      " 10%|▉         | 203/2100 [24:27<7:56:37, 15.08s/it] "
     ]
    },
    {
     "name": "stdout",
     "output_type": "stream",
     "text": [
      "{'loss': 0.0899, 'learning_rate': 5.42e-05, 'epoch': 9.67}\n"
     ]
    },
    {
     "name": "stderr",
     "output_type": "stream",
     "text": [
      " 10%|▉         | 204/2100 [24:30<6:05:01, 11.55s/it]"
     ]
    },
    {
     "name": "stdout",
     "output_type": "stream",
     "text": [
      "{'loss': 0.0883, 'learning_rate': 5.417142857142857e-05, 'epoch': 9.71}\n"
     ]
    },
    {
     "name": "stderr",
     "output_type": "stream",
     "text": [
      " 10%|▉         | 205/2100 [24:33<4:47:36,  9.11s/it]"
     ]
    },
    {
     "name": "stdout",
     "output_type": "stream",
     "text": [
      "{'loss': 0.0712, 'learning_rate': 5.414285714285714e-05, 'epoch': 9.76}\n"
     ]
    },
    {
     "name": "stderr",
     "output_type": "stream",
     "text": [
      " 10%|▉         | 206/2100 [24:37<3:52:46,  7.37s/it]"
     ]
    },
    {
     "name": "stdout",
     "output_type": "stream",
     "text": [
      "{'loss': 0.0746, 'learning_rate': 5.411428571428572e-05, 'epoch': 9.81}\n"
     ]
    },
    {
     "name": "stderr",
     "output_type": "stream",
     "text": [
      " 10%|▉         | 207/2100 [24:40<3:13:38,  6.14s/it]"
     ]
    },
    {
     "name": "stdout",
     "output_type": "stream",
     "text": [
      "{'loss': 0.0807, 'learning_rate': 5.408571428571429e-05, 'epoch': 9.86}\n"
     ]
    },
    {
     "name": "stderr",
     "output_type": "stream",
     "text": [
      " 10%|▉         | 208/2100 [24:43<2:47:16,  5.30s/it]"
     ]
    },
    {
     "name": "stdout",
     "output_type": "stream",
     "text": [
      "{'loss': 0.0927, 'learning_rate': 5.405714285714286e-05, 'epoch': 9.9}\n"
     ]
    },
    {
     "name": "stderr",
     "output_type": "stream",
     "text": [
      " 10%|▉         | 209/2100 [24:47<2:28:01,  4.70s/it]"
     ]
    },
    {
     "name": "stdout",
     "output_type": "stream",
     "text": [
      "{'loss': 0.0965, 'learning_rate': 5.4028571428571424e-05, 'epoch': 9.95}\n"
     ]
    },
    {
     "name": "stderr",
     "output_type": "stream",
     "text": [
      " 10%|█         | 210/2100 [24:49<2:08:02,  4.07s/it]"
     ]
    },
    {
     "name": "stdout",
     "output_type": "stream",
     "text": [
      "{'loss': 0.069, 'learning_rate': 5.4000000000000005e-05, 'epoch': 10.0}\n"
     ]
    },
    {
     "name": "stderr",
     "output_type": "stream",
     "text": [
      " 10%|█         | 211/2100 [24:53<2:06:43,  4.02s/it]"
     ]
    },
    {
     "name": "stdout",
     "output_type": "stream",
     "text": [
      "{'loss': 0.0736, 'learning_rate': 5.397142857142857e-05, 'epoch': 10.05}\n"
     ]
    },
    {
     "name": "stderr",
     "output_type": "stream",
     "text": [
      " 10%|█         | 212/2100 [24:56<1:59:58,  3.81s/it]"
     ]
    },
    {
     "name": "stdout",
     "output_type": "stream",
     "text": [
      "{'loss': 0.0831, 'learning_rate': 5.3942857142857145e-05, 'epoch': 10.1}\n"
     ]
    },
    {
     "name": "stderr",
     "output_type": "stream",
     "text": [
      " 10%|█         | 213/2100 [25:00<1:54:48,  3.65s/it]"
     ]
    },
    {
     "name": "stdout",
     "output_type": "stream",
     "text": [
      "{'loss': 0.1003, 'learning_rate': 5.391428571428572e-05, 'epoch': 10.14}\n"
     ]
    },
    {
     "name": "stderr",
     "output_type": "stream",
     "text": [
      " 10%|█         | 214/2100 [25:03<1:52:11,  3.57s/it]"
     ]
    },
    {
     "name": "stdout",
     "output_type": "stream",
     "text": [
      "{'loss': 0.0722, 'learning_rate': 5.3885714285714286e-05, 'epoch': 10.19}\n"
     ]
    },
    {
     "name": "stderr",
     "output_type": "stream",
     "text": [
      " 10%|█         | 215/2100 [25:06<1:49:35,  3.49s/it]"
     ]
    },
    {
     "name": "stdout",
     "output_type": "stream",
     "text": [
      "{'loss': 0.0911, 'learning_rate': 5.385714285714286e-05, 'epoch': 10.24}\n"
     ]
    },
    {
     "name": "stderr",
     "output_type": "stream",
     "text": [
      " 10%|█         | 216/2100 [25:10<1:47:32,  3.42s/it]"
     ]
    },
    {
     "name": "stdout",
     "output_type": "stream",
     "text": [
      "{'loss': 0.079, 'learning_rate': 5.3828571428571426e-05, 'epoch': 10.29}\n"
     ]
    },
    {
     "name": "stderr",
     "output_type": "stream",
     "text": [
      " 10%|█         | 217/2100 [25:13<1:47:20,  3.42s/it]"
     ]
    },
    {
     "name": "stdout",
     "output_type": "stream",
     "text": [
      "{'loss': 0.0854, 'learning_rate': 5.38e-05, 'epoch': 10.33}\n"
     ]
    },
    {
     "name": "stderr",
     "output_type": "stream",
     "text": [
      " 10%|█         | 218/2100 [25:16<1:46:51,  3.41s/it]"
     ]
    },
    {
     "name": "stdout",
     "output_type": "stream",
     "text": [
      "{'loss': 0.0828, 'learning_rate': 5.3771428571428574e-05, 'epoch': 10.38}\n"
     ]
    },
    {
     "name": "stderr",
     "output_type": "stream",
     "text": [
      " 10%|█         | 219/2100 [25:20<1:46:23,  3.39s/it]"
     ]
    },
    {
     "name": "stdout",
     "output_type": "stream",
     "text": [
      "{'loss': 0.0765, 'learning_rate': 5.374285714285714e-05, 'epoch': 10.43}\n"
     ]
    },
    {
     "name": "stderr",
     "output_type": "stream",
     "text": [
      " 10%|█         | 220/2100 [25:23<1:46:54,  3.41s/it]"
     ]
    },
    {
     "name": "stdout",
     "output_type": "stream",
     "text": [
      "{'loss': 0.0898, 'learning_rate': 5.371428571428572e-05, 'epoch': 10.48}\n"
     ]
    },
    {
     "name": "stderr",
     "output_type": "stream",
     "text": [
      "\n",
      " 10%|█         | 220/2100 [26:44<1:46:54,  3.41s/it]"
     ]
    },
    {
     "name": "stdout",
     "output_type": "stream",
     "text": [
      "{'eval_loss': 0.07735849916934967, 'eval_mean_iou': 0.921613331824578, 'eval_mean_accuracy': 0.9737663452971971, 'eval_overall_accuracy': 0.9967016334460252, 'eval_per_category_iou': [0.9966404854643102, 0.8465861781848459], 'eval_per_category_accuracy': [0.9976155877444935, 0.9499171028499006], 'eval_runtime': 80.962, 'eval_samples_per_second': 0.642, 'eval_steps_per_second': 0.136, 'epoch': 10.48}\n"
     ]
    },
    {
     "name": "stderr",
     "output_type": "stream",
     "text": [
      " 11%|█         | 221/2100 [26:48<14:29:13, 27.76s/it]"
     ]
    },
    {
     "name": "stdout",
     "output_type": "stream",
     "text": [
      "{'loss': 0.0853, 'learning_rate': 5.368571428571429e-05, 'epoch': 10.52}\n"
     ]
    },
    {
     "name": "stderr",
     "output_type": "stream",
     "text": [
      " 11%|█         | 222/2100 [26:51<10:38:55, 20.41s/it]"
     ]
    },
    {
     "name": "stdout",
     "output_type": "stream",
     "text": [
      "{'loss': 0.0816, 'learning_rate': 5.3657142857142855e-05, 'epoch': 10.57}\n"
     ]
    },
    {
     "name": "stderr",
     "output_type": "stream",
     "text": [
      " 11%|█         | 223/2100 [26:54<7:57:26, 15.26s/it] "
     ]
    },
    {
     "name": "stdout",
     "output_type": "stream",
     "text": [
      "{'loss': 0.077, 'learning_rate': 5.362857142857143e-05, 'epoch': 10.62}\n"
     ]
    },
    {
     "name": "stderr",
     "output_type": "stream",
     "text": [
      " 11%|█         | 224/2100 [26:58<6:04:44, 11.67s/it]"
     ]
    },
    {
     "name": "stdout",
     "output_type": "stream",
     "text": [
      "{'loss': 0.0659, 'learning_rate': 5.36e-05, 'epoch': 10.67}\n"
     ]
    },
    {
     "name": "stderr",
     "output_type": "stream",
     "text": [
      " 11%|█         | 225/2100 [27:01<4:45:13,  9.13s/it]"
     ]
    },
    {
     "name": "stdout",
     "output_type": "stream",
     "text": [
      "{'loss': 0.0751, 'learning_rate': 5.3571428571428575e-05, 'epoch': 10.71}\n"
     ]
    },
    {
     "name": "stderr",
     "output_type": "stream",
     "text": [
      " 11%|█         | 226/2100 [27:04<3:49:50,  7.36s/it]"
     ]
    },
    {
     "name": "stdout",
     "output_type": "stream",
     "text": [
      "{'loss': 0.074, 'learning_rate': 5.354285714285714e-05, 'epoch': 10.76}\n"
     ]
    },
    {
     "name": "stderr",
     "output_type": "stream",
     "text": [
      " 11%|█         | 227/2100 [27:07<3:11:12,  6.13s/it]"
     ]
    },
    {
     "name": "stdout",
     "output_type": "stream",
     "text": [
      "{'loss': 0.0825, 'learning_rate': 5.3514285714285716e-05, 'epoch': 10.81}\n"
     ]
    },
    {
     "name": "stderr",
     "output_type": "stream",
     "text": [
      " 11%|█         | 228/2100 [27:11<2:44:26,  5.27s/it]"
     ]
    },
    {
     "name": "stdout",
     "output_type": "stream",
     "text": [
      "{'loss': 0.0653, 'learning_rate': 5.348571428571429e-05, 'epoch': 10.86}\n"
     ]
    },
    {
     "name": "stderr",
     "output_type": "stream",
     "text": [
      " 11%|█         | 229/2100 [27:14<2:25:46,  4.67s/it]"
     ]
    },
    {
     "name": "stdout",
     "output_type": "stream",
     "text": [
      "{'loss': 0.1062, 'learning_rate': 5.3457142857142856e-05, 'epoch': 10.9}\n"
     ]
    },
    {
     "name": "stderr",
     "output_type": "stream",
     "text": [
      " 11%|█         | 230/2100 [27:17<2:13:11,  4.27s/it]"
     ]
    },
    {
     "name": "stdout",
     "output_type": "stream",
     "text": [
      "{'loss': 0.0774, 'learning_rate': 5.342857142857142e-05, 'epoch': 10.95}\n"
     ]
    },
    {
     "name": "stderr",
     "output_type": "stream",
     "text": [
      " 11%|█         | 231/2100 [27:20<1:57:19,  3.77s/it]"
     ]
    },
    {
     "name": "stdout",
     "output_type": "stream",
     "text": [
      "{'loss': 0.0619, 'learning_rate': 5.3400000000000004e-05, 'epoch': 11.0}\n"
     ]
    },
    {
     "name": "stderr",
     "output_type": "stream",
     "text": [
      " 11%|█         | 232/2100 [27:24<2:00:43,  3.88s/it]"
     ]
    },
    {
     "name": "stdout",
     "output_type": "stream",
     "text": [
      "{'loss': 0.0597, 'learning_rate': 5.337142857142857e-05, 'epoch': 11.05}\n"
     ]
    },
    {
     "name": "stderr",
     "output_type": "stream",
     "text": [
      " 11%|█         | 233/2100 [27:27<1:55:05,  3.70s/it]"
     ]
    },
    {
     "name": "stdout",
     "output_type": "stream",
     "text": [
      "{'loss': 0.0701, 'learning_rate': 5.3342857142857144e-05, 'epoch': 11.1}\n"
     ]
    },
    {
     "name": "stderr",
     "output_type": "stream",
     "text": [
      " 11%|█         | 234/2100 [27:30<1:51:00,  3.57s/it]"
     ]
    },
    {
     "name": "stdout",
     "output_type": "stream",
     "text": [
      "{'loss': 0.0728, 'learning_rate': 5.331428571428572e-05, 'epoch': 11.14}\n"
     ]
    },
    {
     "name": "stderr",
     "output_type": "stream",
     "text": [
      " 11%|█         | 235/2100 [27:34<1:48:42,  3.50s/it]"
     ]
    },
    {
     "name": "stdout",
     "output_type": "stream",
     "text": [
      "{'loss': 0.0709, 'learning_rate': 5.3285714285714285e-05, 'epoch': 11.19}\n"
     ]
    },
    {
     "name": "stderr",
     "output_type": "stream",
     "text": [
      " 11%|█         | 236/2100 [27:37<1:46:22,  3.42s/it]"
     ]
    },
    {
     "name": "stdout",
     "output_type": "stream",
     "text": [
      "{'loss': 0.0892, 'learning_rate': 5.325714285714286e-05, 'epoch': 11.24}\n"
     ]
    },
    {
     "name": "stderr",
     "output_type": "stream",
     "text": [
      " 11%|█▏        | 237/2100 [27:40<1:45:41,  3.40s/it]"
     ]
    },
    {
     "name": "stdout",
     "output_type": "stream",
     "text": [
      "{'loss': 0.0655, 'learning_rate': 5.322857142857143e-05, 'epoch': 11.29}\n"
     ]
    },
    {
     "name": "stderr",
     "output_type": "stream",
     "text": [
      " 11%|█▏        | 238/2100 [27:44<1:44:42,  3.37s/it]"
     ]
    },
    {
     "name": "stdout",
     "output_type": "stream",
     "text": [
      "{'loss': 0.104, 'learning_rate': 5.3200000000000006e-05, 'epoch': 11.33}\n"
     ]
    },
    {
     "name": "stderr",
     "output_type": "stream",
     "text": [
      " 11%|█▏        | 239/2100 [27:47<1:44:56,  3.38s/it]"
     ]
    },
    {
     "name": "stdout",
     "output_type": "stream",
     "text": [
      "{'loss': 0.075, 'learning_rate': 5.317142857142857e-05, 'epoch': 11.38}\n"
     ]
    },
    {
     "name": "stderr",
     "output_type": "stream",
     "text": [
      " 11%|█▏        | 240/2100 [27:50<1:44:05,  3.36s/it]"
     ]
    },
    {
     "name": "stdout",
     "output_type": "stream",
     "text": [
      "{'loss': 0.0625, 'learning_rate': 5.314285714285714e-05, 'epoch': 11.43}\n"
     ]
    },
    {
     "name": "stderr",
     "output_type": "stream",
     "text": [
      "\n",
      " 11%|█▏        | 240/2100 [29:11<1:44:05,  3.36s/it]"
     ]
    },
    {
     "name": "stdout",
     "output_type": "stream",
     "text": [
      "{'eval_loss': 0.05498785525560379, 'eval_mean_iou': 0.9077829715742993, 'eval_mean_accuracy': 0.9868653895531887, 'eval_overall_accuracy': 0.9958819757477579, 'eval_per_category_iou': [0.9958033739889188, 0.8197625691596798], 'eval_per_category_accuracy': [0.996241280050218, 0.9774894990561594], 'eval_runtime': 80.7972, 'eval_samples_per_second': 0.644, 'eval_steps_per_second': 0.136, 'epoch': 11.43}\n"
     ]
    },
    {
     "name": "stderr",
     "output_type": "stream",
     "text": [
      " 11%|█▏        | 241/2100 [29:15<14:19:28, 27.74s/it]"
     ]
    },
    {
     "name": "stdout",
     "output_type": "stream",
     "text": [
      "{'loss': 0.0713, 'learning_rate': 5.311428571428572e-05, 'epoch': 11.48}\n"
     ]
    },
    {
     "name": "stderr",
     "output_type": "stream",
     "text": [
      " 12%|█▏        | 242/2100 [29:18<10:31:49, 20.40s/it]"
     ]
    },
    {
     "name": "stdout",
     "output_type": "stream",
     "text": [
      "{'loss': 0.0757, 'learning_rate': 5.308571428571429e-05, 'epoch': 11.52}\n"
     ]
    },
    {
     "name": "stderr",
     "output_type": "stream",
     "text": [
      " 12%|█▏        | 243/2100 [29:22<7:53:08, 15.29s/it] "
     ]
    },
    {
     "name": "stdout",
     "output_type": "stream",
     "text": [
      "{'loss': 0.0635, 'learning_rate': 5.3057142857142854e-05, 'epoch': 11.57}\n"
     ]
    },
    {
     "name": "stderr",
     "output_type": "stream",
     "text": [
      " 12%|█▏        | 244/2100 [29:25<6:02:12, 11.71s/it]"
     ]
    },
    {
     "name": "stdout",
     "output_type": "stream",
     "text": [
      "{'loss': 0.0658, 'learning_rate': 5.3028571428571434e-05, 'epoch': 11.62}\n"
     ]
    },
    {
     "name": "stderr",
     "output_type": "stream",
     "text": [
      " 12%|█▏        | 245/2100 [29:28<4:45:03,  9.22s/it]"
     ]
    },
    {
     "name": "stdout",
     "output_type": "stream",
     "text": [
      "{'loss': 0.0592, 'learning_rate': 5.3e-05, 'epoch': 11.67}\n"
     ]
    },
    {
     "name": "stderr",
     "output_type": "stream",
     "text": [
      " 12%|█▏        | 246/2100 [29:32<3:50:18,  7.45s/it]"
     ]
    },
    {
     "name": "stdout",
     "output_type": "stream",
     "text": [
      "{'loss': 0.0706, 'learning_rate': 5.2971428571428574e-05, 'epoch': 11.71}\n"
     ]
    },
    {
     "name": "stderr",
     "output_type": "stream",
     "text": [
      " 12%|█▏        | 247/2100 [29:35<3:11:47,  6.21s/it]"
     ]
    },
    {
     "name": "stdout",
     "output_type": "stream",
     "text": [
      "{'loss': 0.0651, 'learning_rate': 5.294285714285714e-05, 'epoch': 11.76}\n"
     ]
    },
    {
     "name": "stderr",
     "output_type": "stream",
     "text": [
      " 12%|█▏        | 248/2100 [29:38<2:44:38,  5.33s/it]"
     ]
    },
    {
     "name": "stdout",
     "output_type": "stream",
     "text": [
      "{'loss': 0.0686, 'learning_rate': 5.2914285714285715e-05, 'epoch': 11.81}\n"
     ]
    },
    {
     "name": "stderr",
     "output_type": "stream",
     "text": [
      " 12%|█▏        | 249/2100 [29:42<2:26:36,  4.75s/it]"
     ]
    },
    {
     "name": "stdout",
     "output_type": "stream",
     "text": [
      "{'loss': 0.0963, 'learning_rate': 5.288571428571429e-05, 'epoch': 11.86}\n"
     ]
    },
    {
     "name": "stderr",
     "output_type": "stream",
     "text": [
      " 12%|█▏        | 250/2100 [29:45<2:13:46,  4.34s/it]"
     ]
    },
    {
     "name": "stdout",
     "output_type": "stream",
     "text": [
      "{'loss': 0.0649, 'learning_rate': 5.2857142857142855e-05, 'epoch': 11.9}\n"
     ]
    },
    {
     "name": "stderr",
     "output_type": "stream",
     "text": [
      " 12%|█▏        | 251/2100 [29:48<2:03:54,  4.02s/it]"
     ]
    },
    {
     "name": "stdout",
     "output_type": "stream",
     "text": [
      "{'loss': 0.0809, 'learning_rate': 5.2828571428571436e-05, 'epoch': 11.95}\n"
     ]
    },
    {
     "name": "stderr",
     "output_type": "stream",
     "text": [
      " 12%|█▏        | 252/2100 [29:51<1:50:39,  3.59s/it]"
     ]
    },
    {
     "name": "stdout",
     "output_type": "stream",
     "text": [
      "{'loss': 0.0767, 'learning_rate': 5.28e-05, 'epoch': 12.0}\n"
     ]
    },
    {
     "name": "stderr",
     "output_type": "stream",
     "text": [
      " 12%|█▏        | 253/2100 [29:55<1:55:26,  3.75s/it]"
     ]
    },
    {
     "name": "stdout",
     "output_type": "stream",
     "text": [
      "{'loss': 0.07, 'learning_rate': 5.277142857142857e-05, 'epoch': 12.05}\n"
     ]
    },
    {
     "name": "stderr",
     "output_type": "stream",
     "text": [
      " 12%|█▏        | 254/2100 [29:58<1:51:41,  3.63s/it]"
     ]
    },
    {
     "name": "stdout",
     "output_type": "stream",
     "text": [
      "{'loss': 0.0623, 'learning_rate': 5.274285714285714e-05, 'epoch': 12.1}\n"
     ]
    },
    {
     "name": "stderr",
     "output_type": "stream",
     "text": [
      " 12%|█▏        | 255/2100 [30:02<1:48:43,  3.54s/it]"
     ]
    },
    {
     "name": "stdout",
     "output_type": "stream",
     "text": [
      "{'loss': 0.0698, 'learning_rate': 5.271428571428572e-05, 'epoch': 12.14}\n"
     ]
    },
    {
     "name": "stderr",
     "output_type": "stream",
     "text": [
      " 12%|█▏        | 256/2100 [30:05<1:46:30,  3.47s/it]"
     ]
    },
    {
     "name": "stdout",
     "output_type": "stream",
     "text": [
      "{'loss': 0.0591, 'learning_rate': 5.2685714285714284e-05, 'epoch': 12.19}\n"
     ]
    },
    {
     "name": "stderr",
     "output_type": "stream",
     "text": [
      " 12%|█▏        | 257/2100 [30:08<1:44:54,  3.42s/it]"
     ]
    },
    {
     "name": "stdout",
     "output_type": "stream",
     "text": [
      "{'loss': 0.0885, 'learning_rate': 5.265714285714286e-05, 'epoch': 12.24}\n"
     ]
    },
    {
     "name": "stderr",
     "output_type": "stream",
     "text": [
      " 12%|█▏        | 258/2100 [30:12<1:44:14,  3.40s/it]"
     ]
    },
    {
     "name": "stdout",
     "output_type": "stream",
     "text": [
      "{'loss': 0.0775, 'learning_rate': 5.262857142857143e-05, 'epoch': 12.29}\n"
     ]
    },
    {
     "name": "stderr",
     "output_type": "stream",
     "text": [
      " 12%|█▏        | 259/2100 [30:15<1:42:42,  3.35s/it]"
     ]
    },
    {
     "name": "stdout",
     "output_type": "stream",
     "text": [
      "{'loss': 0.0729, 'learning_rate': 5.2600000000000005e-05, 'epoch': 12.33}\n"
     ]
    },
    {
     "name": "stderr",
     "output_type": "stream",
     "text": [
      " 12%|█▏        | 260/2100 [30:18<1:41:34,  3.31s/it]"
     ]
    },
    {
     "name": "stdout",
     "output_type": "stream",
     "text": [
      "{'loss': 0.0875, 'learning_rate': 5.257142857142857e-05, 'epoch': 12.38}\n"
     ]
    },
    {
     "name": "stderr",
     "output_type": "stream",
     "text": [
      "\n",
      " 12%|█▏        | 260/2100 [31:39<1:41:34,  3.31s/it]"
     ]
    },
    {
     "name": "stdout",
     "output_type": "stream",
     "text": [
      "{'eval_loss': 0.06317801773548126, 'eval_mean_iou': 0.9362878055025121, 'eval_mean_accuracy': 0.979182718514175, 'eval_overall_accuracy': 0.9973774181809645, 'eval_per_category_iou': [0.997328259023591, 0.8752473519814333], 'eval_per_category_accuracy': [0.9981024635286354, 0.9602629734997148], 'eval_runtime': 80.6728, 'eval_samples_per_second': 0.645, 'eval_steps_per_second': 0.136, 'epoch': 12.38}\n"
     ]
    },
    {
     "name": "stderr",
     "output_type": "stream",
     "text": [
      " 12%|█▏        | 261/2100 [31:43<14:08:04, 27.67s/it]"
     ]
    },
    {
     "name": "stdout",
     "output_type": "stream",
     "text": [
      "{'loss': 0.0689, 'learning_rate': 5.254285714285714e-05, 'epoch': 12.43}\n"
     ]
    },
    {
     "name": "stderr",
     "output_type": "stream",
     "text": [
      " 12%|█▏        | 262/2100 [31:46<10:23:07, 20.34s/it]"
     ]
    },
    {
     "name": "stdout",
     "output_type": "stream",
     "text": [
      "{'loss': 0.0541, 'learning_rate': 5.251428571428572e-05, 'epoch': 12.48}\n"
     ]
    },
    {
     "name": "stderr",
     "output_type": "stream",
     "text": [
      " 13%|█▎        | 263/2100 [31:49<7:46:52, 15.25s/it] "
     ]
    },
    {
     "name": "stdout",
     "output_type": "stream",
     "text": [
      "{'loss': 0.0672, 'learning_rate': 5.2485714285714286e-05, 'epoch': 12.52}\n"
     ]
    },
    {
     "name": "stderr",
     "output_type": "stream",
     "text": [
      " 13%|█▎        | 264/2100 [31:53<5:57:34, 11.69s/it]"
     ]
    },
    {
     "name": "stdout",
     "output_type": "stream",
     "text": [
      "{'loss': 0.0636, 'learning_rate': 5.245714285714286e-05, 'epoch': 12.57}\n"
     ]
    },
    {
     "name": "stderr",
     "output_type": "stream",
     "text": [
      " 13%|█▎        | 265/2100 [31:56<4:41:13,  9.20s/it]"
     ]
    },
    {
     "name": "stdout",
     "output_type": "stream",
     "text": [
      "{'loss': 0.0696, 'learning_rate': 5.242857142857143e-05, 'epoch': 12.62}\n"
     ]
    },
    {
     "name": "stderr",
     "output_type": "stream",
     "text": [
      " 13%|█▎        | 266/2100 [31:59<3:48:01,  7.46s/it]"
     ]
    },
    {
     "name": "stdout",
     "output_type": "stream",
     "text": [
      "{'loss': 0.0888, 'learning_rate': 5.24e-05, 'epoch': 12.67}\n"
     ]
    },
    {
     "name": "stderr",
     "output_type": "stream",
     "text": [
      " 13%|█▎        | 267/2100 [32:03<3:10:04,  6.22s/it]"
     ]
    },
    {
     "name": "stdout",
     "output_type": "stream",
     "text": [
      "{'loss': 0.0727, 'learning_rate': 5.237142857142857e-05, 'epoch': 12.71}\n"
     ]
    },
    {
     "name": "stderr",
     "output_type": "stream",
     "text": [
      " 13%|█▎        | 268/2100 [32:06<2:43:33,  5.36s/it]"
     ]
    },
    {
     "name": "stdout",
     "output_type": "stream",
     "text": [
      "{'loss': 0.0674, 'learning_rate': 5.234285714285714e-05, 'epoch': 12.76}\n"
     ]
    },
    {
     "name": "stderr",
     "output_type": "stream",
     "text": [
      " 13%|█▎        | 269/2100 [32:10<2:25:34,  4.77s/it]"
     ]
    },
    {
     "name": "stdout",
     "output_type": "stream",
     "text": [
      "{'loss': 0.0546, 'learning_rate': 5.231428571428572e-05, 'epoch': 12.81}\n"
     ]
    },
    {
     "name": "stderr",
     "output_type": "stream",
     "text": [
      " 13%|█▎        | 270/2100 [32:13<2:13:05,  4.36s/it]"
     ]
    },
    {
     "name": "stdout",
     "output_type": "stream",
     "text": [
      "{'loss': 0.0489, 'learning_rate': 5.228571428571429e-05, 'epoch': 12.86}\n"
     ]
    },
    {
     "name": "stderr",
     "output_type": "stream",
     "text": [
      " 13%|█▎        | 271/2100 [32:16<2:03:43,  4.06s/it]"
     ]
    },
    {
     "name": "stdout",
     "output_type": "stream",
     "text": [
      "{'loss': 0.0759, 'learning_rate': 5.2257142857142854e-05, 'epoch': 12.9}\n"
     ]
    },
    {
     "name": "stderr",
     "output_type": "stream",
     "text": [
      " 13%|█▎        | 272/2100 [32:20<1:57:44,  3.86s/it]"
     ]
    },
    {
     "name": "stdout",
     "output_type": "stream",
     "text": [
      "{'loss': 0.0684, 'learning_rate': 5.2228571428571435e-05, 'epoch': 12.95}\n"
     ]
    },
    {
     "name": "stderr",
     "output_type": "stream",
     "text": [
      " 13%|█▎        | 273/2100 [32:22<1:47:19,  3.52s/it]"
     ]
    },
    {
     "name": "stdout",
     "output_type": "stream",
     "text": [
      "{'loss': 0.0553, 'learning_rate': 5.22e-05, 'epoch': 13.0}\n"
     ]
    },
    {
     "name": "stderr",
     "output_type": "stream",
     "text": [
      " 13%|█▎        | 274/2100 [32:27<1:53:00,  3.71s/it]"
     ]
    },
    {
     "name": "stdout",
     "output_type": "stream",
     "text": [
      "{'loss': 0.058, 'learning_rate': 5.217142857142857e-05, 'epoch': 13.05}\n"
     ]
    },
    {
     "name": "stderr",
     "output_type": "stream",
     "text": [
      " 13%|█▎        | 275/2100 [32:30<1:50:03,  3.62s/it]"
     ]
    },
    {
     "name": "stdout",
     "output_type": "stream",
     "text": [
      "{'loss': 0.0572, 'learning_rate': 5.214285714285714e-05, 'epoch': 13.1}\n"
     ]
    },
    {
     "name": "stderr",
     "output_type": "stream",
     "text": [
      " 13%|█▎        | 276/2100 [32:33<1:46:47,  3.51s/it]"
     ]
    },
    {
     "name": "stdout",
     "output_type": "stream",
     "text": [
      "{'loss': 0.0561, 'learning_rate': 5.2114285714285716e-05, 'epoch': 13.14}\n"
     ]
    },
    {
     "name": "stderr",
     "output_type": "stream",
     "text": [
      " 13%|█▎        | 277/2100 [32:37<1:44:56,  3.45s/it]"
     ]
    },
    {
     "name": "stdout",
     "output_type": "stream",
     "text": [
      "{'loss': 0.0569, 'learning_rate': 5.208571428571429e-05, 'epoch': 13.19}\n"
     ]
    },
    {
     "name": "stderr",
     "output_type": "stream",
     "text": [
      " 13%|█▎        | 278/2100 [32:40<1:43:49,  3.42s/it]"
     ]
    },
    {
     "name": "stdout",
     "output_type": "stream",
     "text": [
      "{'loss': 0.0725, 'learning_rate': 5.2057142857142856e-05, 'epoch': 13.24}\n"
     ]
    },
    {
     "name": "stderr",
     "output_type": "stream",
     "text": [
      " 13%|█▎        | 279/2100 [32:43<1:42:46,  3.39s/it]"
     ]
    },
    {
     "name": "stdout",
     "output_type": "stream",
     "text": [
      "{'loss': 0.0579, 'learning_rate': 5.202857142857143e-05, 'epoch': 13.29}\n"
     ]
    },
    {
     "name": "stderr",
     "output_type": "stream",
     "text": [
      " 13%|█▎        | 280/2100 [32:47<1:42:35,  3.38s/it]"
     ]
    },
    {
     "name": "stdout",
     "output_type": "stream",
     "text": [
      "{'loss': 0.0547, 'learning_rate': 5.2000000000000004e-05, 'epoch': 13.33}\n"
     ]
    },
    {
     "name": "stderr",
     "output_type": "stream",
     "text": [
      "\n",
      " 13%|█▎        | 280/2100 [34:07<1:42:35,  3.38s/it]"
     ]
    },
    {
     "name": "stdout",
     "output_type": "stream",
     "text": [
      "{'eval_loss': 0.055956728756427765, 'eval_mean_iou': 0.934510554838714, 'eval_mean_accuracy': 0.9750410127840679, 'eval_overall_accuracy': 0.9973168169225712, 'eval_per_category_iou': [0.9972669691792709, 0.8717541404981572], 'eval_per_category_accuracy': [0.9982044912701579, 0.951877534297978], 'eval_runtime': 80.1244, 'eval_samples_per_second': 0.649, 'eval_steps_per_second': 0.137, 'epoch': 13.33}\n"
     ]
    },
    {
     "name": "stderr",
     "output_type": "stream",
     "text": [
      " 13%|█▎        | 281/2100 [34:11<13:55:53, 27.57s/it]"
     ]
    },
    {
     "name": "stdout",
     "output_type": "stream",
     "text": [
      "{'loss': 0.0571, 'learning_rate': 5.197142857142857e-05, 'epoch': 13.38}\n"
     ]
    },
    {
     "name": "stderr",
     "output_type": "stream",
     "text": [
      " 13%|█▎        | 282/2100 [34:14<10:14:11, 20.27s/it]"
     ]
    },
    {
     "name": "stdout",
     "output_type": "stream",
     "text": [
      "{'loss': 0.0525, 'learning_rate': 5.194285714285715e-05, 'epoch': 13.43}\n"
     ]
    },
    {
     "name": "stderr",
     "output_type": "stream",
     "text": [
      " 13%|█▎        | 283/2100 [34:17<7:39:33, 15.18s/it] "
     ]
    },
    {
     "name": "stdout",
     "output_type": "stream",
     "text": [
      "{'loss': 0.0572, 'learning_rate': 5.191428571428572e-05, 'epoch': 13.48}\n"
     ]
    },
    {
     "name": "stderr",
     "output_type": "stream",
     "text": [
      " 14%|█▎        | 284/2100 [34:21<5:52:03, 11.63s/it]"
     ]
    },
    {
     "name": "stdout",
     "output_type": "stream",
     "text": [
      "{'loss': 0.0473, 'learning_rate': 5.1885714285714285e-05, 'epoch': 13.52}\n"
     ]
    },
    {
     "name": "stderr",
     "output_type": "stream",
     "text": [
      " 14%|█▎        | 285/2100 [34:24<4:36:51,  9.15s/it]"
     ]
    },
    {
     "name": "stdout",
     "output_type": "stream",
     "text": [
      "{'loss': 0.0539, 'learning_rate': 5.185714285714286e-05, 'epoch': 13.57}\n"
     ]
    },
    {
     "name": "stderr",
     "output_type": "stream",
     "text": [
      " 14%|█▎        | 286/2100 [34:27<3:43:24,  7.39s/it]"
     ]
    },
    {
     "name": "stdout",
     "output_type": "stream",
     "text": [
      "{'loss': 0.0738, 'learning_rate': 5.182857142857143e-05, 'epoch': 13.62}\n"
     ]
    },
    {
     "name": "stderr",
     "output_type": "stream",
     "text": [
      " 14%|█▎        | 287/2100 [34:30<3:06:01,  6.16s/it]"
     ]
    },
    {
     "name": "stdout",
     "output_type": "stream",
     "text": [
      "{'loss': 0.0522, 'learning_rate': 5.18e-05, 'epoch': 13.67}\n"
     ]
    },
    {
     "name": "stderr",
     "output_type": "stream",
     "text": [
      " 14%|█▎        | 288/2100 [34:34<2:39:46,  5.29s/it]"
     ]
    },
    {
     "name": "stdout",
     "output_type": "stream",
     "text": [
      "{'loss': 0.0524, 'learning_rate': 5.177142857142857e-05, 'epoch': 13.71}\n"
     ]
    },
    {
     "name": "stderr",
     "output_type": "stream",
     "text": [
      " 14%|█▍        | 289/2100 [34:37<2:20:59,  4.67s/it]"
     ]
    },
    {
     "name": "stdout",
     "output_type": "stream",
     "text": [
      "{'loss': 0.0455, 'learning_rate': 5.1742857142857146e-05, 'epoch': 13.76}\n"
     ]
    },
    {
     "name": "stderr",
     "output_type": "stream",
     "text": [
      " 14%|█▍        | 290/2100 [34:40<2:08:39,  4.27s/it]"
     ]
    },
    {
     "name": "stdout",
     "output_type": "stream",
     "text": [
      "{'loss': 0.0591, 'learning_rate': 5.171428571428572e-05, 'epoch': 13.81}\n"
     ]
    },
    {
     "name": "stderr",
     "output_type": "stream",
     "text": [
      " 14%|█▍        | 291/2100 [34:44<1:59:30,  3.96s/it]"
     ]
    },
    {
     "name": "stdout",
     "output_type": "stream",
     "text": [
      "{'loss': 0.0611, 'learning_rate': 5.1685714285714286e-05, 'epoch': 13.86}\n"
     ]
    },
    {
     "name": "stderr",
     "output_type": "stream",
     "text": [
      " 14%|█▍        | 292/2100 [34:47<1:53:53,  3.78s/it]"
     ]
    },
    {
     "name": "stdout",
     "output_type": "stream",
     "text": [
      "{'loss': 0.0656, 'learning_rate': 5.165714285714285e-05, 'epoch': 13.9}\n"
     ]
    },
    {
     "name": "stderr",
     "output_type": "stream",
     "text": [
      " 14%|█▍        | 293/2100 [34:50<1:49:21,  3.63s/it]"
     ]
    },
    {
     "name": "stdout",
     "output_type": "stream",
     "text": [
      "{'loss': 0.0874, 'learning_rate': 5.1628571428571434e-05, 'epoch': 13.95}\n"
     ]
    },
    {
     "name": "stderr",
     "output_type": "stream",
     "text": [
      " 14%|█▍        | 294/2100 [34:53<1:40:24,  3.34s/it]"
     ]
    },
    {
     "name": "stdout",
     "output_type": "stream",
     "text": [
      "{'loss': 0.0812, 'learning_rate': 5.16e-05, 'epoch': 14.0}\n"
     ]
    },
    {
     "name": "stderr",
     "output_type": "stream",
     "text": [
      " 14%|█▍        | 295/2100 [34:57<1:47:05,  3.56s/it]"
     ]
    },
    {
     "name": "stdout",
     "output_type": "stream",
     "text": [
      "{'loss': 0.0465, 'learning_rate': 5.1571428571428574e-05, 'epoch': 14.05}\n"
     ]
    },
    {
     "name": "stderr",
     "output_type": "stream",
     "text": [
      " 14%|█▍        | 296/2100 [35:00<1:44:54,  3.49s/it]"
     ]
    },
    {
     "name": "stdout",
     "output_type": "stream",
     "text": [
      "{'loss': 0.0507, 'learning_rate': 5.154285714285715e-05, 'epoch': 14.1}\n"
     ]
    },
    {
     "name": "stderr",
     "output_type": "stream",
     "text": [
      " 14%|█▍        | 297/2100 [35:04<1:45:21,  3.51s/it]"
     ]
    },
    {
     "name": "stdout",
     "output_type": "stream",
     "text": [
      "{'loss': 0.0544, 'learning_rate': 5.1514285714285715e-05, 'epoch': 14.14}\n"
     ]
    },
    {
     "name": "stderr",
     "output_type": "stream",
     "text": [
      " 14%|█▍        | 298/2100 [35:07<1:43:03,  3.43s/it]"
     ]
    },
    {
     "name": "stdout",
     "output_type": "stream",
     "text": [
      "{'loss': 0.064, 'learning_rate': 5.148571428571429e-05, 'epoch': 14.19}\n"
     ]
    },
    {
     "name": "stderr",
     "output_type": "stream",
     "text": [
      " 14%|█▍        | 299/2100 [35:10<1:41:30,  3.38s/it]"
     ]
    },
    {
     "name": "stdout",
     "output_type": "stream",
     "text": [
      "{'loss': 0.0647, 'learning_rate': 5.1457142857142855e-05, 'epoch': 14.24}\n"
     ]
    },
    {
     "name": "stderr",
     "output_type": "stream",
     "text": [
      " 14%|█▍        | 300/2100 [35:14<1:40:12,  3.34s/it]"
     ]
    },
    {
     "name": "stdout",
     "output_type": "stream",
     "text": [
      "{'loss': 0.0527, 'learning_rate': 5.142857142857143e-05, 'epoch': 14.29}\n"
     ]
    },
    {
     "name": "stderr",
     "output_type": "stream",
     "text": [
      "\n",
      " 14%|█▍        | 300/2100 [36:33<1:40:12,  3.34s/it]"
     ]
    },
    {
     "name": "stdout",
     "output_type": "stream",
     "text": [
      "{'eval_loss': 0.05088498443365097, 'eval_mean_iou': 0.9307715609860564, 'eval_mean_accuracy': 0.9829267360398979, 'eval_overall_accuracy': 0.9970923868385219, 'eval_per_category_iou': [0.9970374260898323, 0.8645056958822805], 'eval_per_category_accuracy': [0.9976568775636434, 0.9681965945161525], 'eval_runtime': 79.8855, 'eval_samples_per_second': 0.651, 'eval_steps_per_second': 0.138, 'epoch': 14.29}\n"
     ]
    },
    {
     "name": "stderr",
     "output_type": "stream",
     "text": [
      " 14%|█▍        | 301/2100 [36:37<13:42:38, 27.44s/it]"
     ]
    },
    {
     "name": "stdout",
     "output_type": "stream",
     "text": [
      "{'loss': 0.0527, 'learning_rate': 5.14e-05, 'epoch': 14.33}\n"
     ]
    },
    {
     "name": "stderr",
     "output_type": "stream",
     "text": [
      " 14%|█▍        | 302/2100 [36:40<10:04:46, 20.18s/it]"
     ]
    },
    {
     "name": "stdout",
     "output_type": "stream",
     "text": [
      "{'loss': 0.0484, 'learning_rate': 5.137142857142857e-05, 'epoch': 14.38}\n"
     ]
    },
    {
     "name": "stderr",
     "output_type": "stream",
     "text": [
      " 14%|█▍        | 303/2100 [36:44<7:32:12, 15.10s/it] "
     ]
    },
    {
     "name": "stdout",
     "output_type": "stream",
     "text": [
      "{'loss': 0.0508, 'learning_rate': 5.134285714285715e-05, 'epoch': 14.43}\n"
     ]
    },
    {
     "name": "stderr",
     "output_type": "stream",
     "text": [
      " 14%|█▍        | 304/2100 [36:47<5:45:34, 11.54s/it]"
     ]
    },
    {
     "name": "stdout",
     "output_type": "stream",
     "text": [
      "{'loss': 0.054, 'learning_rate': 5.131428571428572e-05, 'epoch': 14.48}\n"
     ]
    },
    {
     "name": "stderr",
     "output_type": "stream",
     "text": [
      " 15%|█▍        | 305/2100 [36:50<4:30:34,  9.04s/it]"
     ]
    },
    {
     "name": "stdout",
     "output_type": "stream",
     "text": [
      "{'loss': 0.0474, 'learning_rate': 5.1285714285714284e-05, 'epoch': 14.52}\n"
     ]
    },
    {
     "name": "stderr",
     "output_type": "stream",
     "text": [
      " 15%|█▍        | 306/2100 [36:53<3:38:18,  7.30s/it]"
     ]
    },
    {
     "name": "stdout",
     "output_type": "stream",
     "text": [
      "{'loss': 0.048, 'learning_rate': 5.125714285714286e-05, 'epoch': 14.57}\n"
     ]
    },
    {
     "name": "stderr",
     "output_type": "stream",
     "text": [
      " 15%|█▍        | 307/2100 [36:57<3:01:50,  6.09s/it]"
     ]
    },
    {
     "name": "stdout",
     "output_type": "stream",
     "text": [
      "{'loss': 0.05, 'learning_rate': 5.122857142857143e-05, 'epoch': 14.62}\n"
     ]
    },
    {
     "name": "stderr",
     "output_type": "stream",
     "text": [
      " 15%|█▍        | 308/2100 [37:00<2:36:06,  5.23s/it]"
     ]
    },
    {
     "name": "stdout",
     "output_type": "stream",
     "text": [
      "{'loss': 0.0498, 'learning_rate': 5.1200000000000004e-05, 'epoch': 14.67}\n"
     ]
    },
    {
     "name": "stderr",
     "output_type": "stream",
     "text": [
      " 15%|█▍        | 309/2100 [37:03<2:18:29,  4.64s/it]"
     ]
    },
    {
     "name": "stdout",
     "output_type": "stream",
     "text": [
      "{'loss': 0.0498, 'learning_rate': 5.117142857142857e-05, 'epoch': 14.71}\n"
     ]
    },
    {
     "name": "stderr",
     "output_type": "stream",
     "text": [
      " 15%|█▍        | 310/2100 [37:06<2:06:19,  4.23s/it]"
     ]
    },
    {
     "name": "stdout",
     "output_type": "stream",
     "text": [
      "{'loss': 0.0474, 'learning_rate': 5.1142857142857145e-05, 'epoch': 14.76}\n"
     ]
    },
    {
     "name": "stderr",
     "output_type": "stream",
     "text": [
      " 15%|█▍        | 311/2100 [37:10<1:57:40,  3.95s/it]"
     ]
    },
    {
     "name": "stdout",
     "output_type": "stream",
     "text": [
      "{'loss': 0.0473, 'learning_rate': 5.111428571428572e-05, 'epoch': 14.81}\n"
     ]
    },
    {
     "name": "stderr",
     "output_type": "stream",
     "text": [
      " 15%|█▍        | 312/2100 [37:13<1:51:22,  3.74s/it]"
     ]
    },
    {
     "name": "stdout",
     "output_type": "stream",
     "text": [
      "{'loss': 0.051, 'learning_rate': 5.1085714285714285e-05, 'epoch': 14.86}\n"
     ]
    },
    {
     "name": "stderr",
     "output_type": "stream",
     "text": [
      " 15%|█▍        | 313/2100 [37:16<1:46:31,  3.58s/it]"
     ]
    },
    {
     "name": "stdout",
     "output_type": "stream",
     "text": [
      "{'loss': 0.0641, 'learning_rate': 5.105714285714285e-05, 'epoch': 14.9}\n"
     ]
    },
    {
     "name": "stderr",
     "output_type": "stream",
     "text": [
      " 15%|█▍        | 314/2100 [37:19<1:43:40,  3.48s/it]"
     ]
    },
    {
     "name": "stdout",
     "output_type": "stream",
     "text": [
      "{'loss': 0.0557, 'learning_rate': 5.102857142857143e-05, 'epoch': 14.95}\n"
     ]
    },
    {
     "name": "stderr",
     "output_type": "stream",
     "text": [
      " 15%|█▌        | 315/2100 [37:22<1:35:20,  3.20s/it]"
     ]
    },
    {
     "name": "stdout",
     "output_type": "stream",
     "text": [
      "{'loss': 0.053, 'learning_rate': 5.1e-05, 'epoch': 15.0}\n"
     ]
    },
    {
     "name": "stderr",
     "output_type": "stream",
     "text": [
      " 15%|█▌        | 316/2100 [37:26<1:41:43,  3.42s/it]"
     ]
    },
    {
     "name": "stdout",
     "output_type": "stream",
     "text": [
      "{'loss': 0.0578, 'learning_rate': 5.097142857142857e-05, 'epoch': 15.05}\n"
     ]
    },
    {
     "name": "stderr",
     "output_type": "stream",
     "text": [
      " 15%|█▌        | 317/2100 [37:29<1:40:10,  3.37s/it]"
     ]
    },
    {
     "name": "stdout",
     "output_type": "stream",
     "text": [
      "{'loss': 0.0521, 'learning_rate': 5.094285714285715e-05, 'epoch': 15.1}\n"
     ]
    },
    {
     "name": "stderr",
     "output_type": "stream",
     "text": [
      " 15%|█▌        | 318/2100 [37:32<1:38:59,  3.33s/it]"
     ]
    },
    {
     "name": "stdout",
     "output_type": "stream",
     "text": [
      "{'loss': 0.0511, 'learning_rate': 5.0914285714285714e-05, 'epoch': 15.14}\n"
     ]
    },
    {
     "name": "stderr",
     "output_type": "stream",
     "text": [
      " 15%|█▌        | 319/2100 [37:36<1:38:15,  3.31s/it]"
     ]
    },
    {
     "name": "stdout",
     "output_type": "stream",
     "text": [
      "{'loss': 0.0509, 'learning_rate': 5.088571428571429e-05, 'epoch': 15.19}\n"
     ]
    },
    {
     "name": "stderr",
     "output_type": "stream",
     "text": [
      " 15%|█▌        | 320/2100 [37:39<1:37:49,  3.30s/it]"
     ]
    },
    {
     "name": "stdout",
     "output_type": "stream",
     "text": [
      "{'loss': 0.0448, 'learning_rate': 5.0857142857142854e-05, 'epoch': 15.24}\n"
     ]
    },
    {
     "name": "stderr",
     "output_type": "stream",
     "text": [
      "\n",
      " 15%|█▌        | 320/2100 [38:56<1:37:49,  3.30s/it]"
     ]
    },
    {
     "name": "stdout",
     "output_type": "stream",
     "text": [
      "{'eval_loss': 0.07112085074186325, 'eval_mean_iou': 0.9328264628398137, 'eval_mean_accuracy': 0.9865668884684428, 'eval_overall_accuracy': 0.9971706695778748, 'eval_per_category_iou': [0.9971167751664056, 0.8685361505132217], 'eval_per_category_accuracy': [0.9975932224257873, 0.9755405545110982], 'eval_runtime': 76.8576, 'eval_samples_per_second': 0.677, 'eval_steps_per_second': 0.143, 'epoch': 15.24}\n"
     ]
    },
    {
     "name": "stderr",
     "output_type": "stream",
     "text": [
      " 15%|█▌        | 321/2100 [39:00<13:05:41, 26.50s/it]"
     ]
    },
    {
     "name": "stdout",
     "output_type": "stream",
     "text": [
      "{'loss': 0.049, 'learning_rate': 5.0828571428571435e-05, 'epoch': 15.29}\n"
     ]
    },
    {
     "name": "stderr",
     "output_type": "stream",
     "text": [
      " 15%|█▌        | 322/2100 [39:03<9:38:44, 19.53s/it] "
     ]
    },
    {
     "name": "stdout",
     "output_type": "stream",
     "text": [
      "{'loss': 0.0556, 'learning_rate': 5.08e-05, 'epoch': 15.33}\n"
     ]
    },
    {
     "name": "stderr",
     "output_type": "stream",
     "text": [
      " 15%|█▌        | 323/2100 [39:06<7:13:31, 14.64s/it]"
     ]
    },
    {
     "name": "stdout",
     "output_type": "stream",
     "text": [
      "{'loss': 0.0438, 'learning_rate': 5.077142857142857e-05, 'epoch': 15.38}\n"
     ]
    },
    {
     "name": "stderr",
     "output_type": "stream",
     "text": [
      " 15%|█▌        | 324/2100 [39:09<5:32:24, 11.23s/it]"
     ]
    },
    {
     "name": "stdout",
     "output_type": "stream",
     "text": [
      "{'loss': 0.0528, 'learning_rate': 5.074285714285715e-05, 'epoch': 15.43}\n"
     ]
    },
    {
     "name": "stderr",
     "output_type": "stream",
     "text": [
      " 15%|█▌        | 325/2100 [39:13<4:21:26,  8.84s/it]"
     ]
    },
    {
     "name": "stdout",
     "output_type": "stream",
     "text": [
      "{'loss': 0.0431, 'learning_rate': 5.0714285714285716e-05, 'epoch': 15.48}\n"
     ]
    },
    {
     "name": "stderr",
     "output_type": "stream",
     "text": [
      " 16%|█▌        | 326/2100 [39:16<3:31:33,  7.16s/it]"
     ]
    },
    {
     "name": "stdout",
     "output_type": "stream",
     "text": [
      "{'loss': 0.0692, 'learning_rate': 5.068571428571428e-05, 'epoch': 15.52}\n"
     ]
    },
    {
     "name": "stderr",
     "output_type": "stream",
     "text": [
      " 16%|█▌        | 327/2100 [39:19<2:56:41,  5.98s/it]"
     ]
    },
    {
     "name": "stdout",
     "output_type": "stream",
     "text": [
      "{'loss': 0.0512, 'learning_rate': 5.065714285714286e-05, 'epoch': 15.57}\n"
     ]
    },
    {
     "name": "stderr",
     "output_type": "stream",
     "text": [
      " 16%|█▌        | 328/2100 [39:22<2:32:11,  5.15s/it]"
     ]
    },
    {
     "name": "stdout",
     "output_type": "stream",
     "text": [
      "{'loss': 0.0449, 'learning_rate': 5.062857142857143e-05, 'epoch': 15.62}\n"
     ]
    },
    {
     "name": "stderr",
     "output_type": "stream",
     "text": [
      " 16%|█▌        | 329/2100 [39:26<2:15:25,  4.59s/it]"
     ]
    },
    {
     "name": "stdout",
     "output_type": "stream",
     "text": [
      "{'loss': 0.0375, 'learning_rate': 5.0600000000000003e-05, 'epoch': 15.67}\n"
     ]
    },
    {
     "name": "stderr",
     "output_type": "stream",
     "text": [
      " 16%|█▌        | 330/2100 [39:29<2:03:15,  4.18s/it]"
     ]
    },
    {
     "name": "stdout",
     "output_type": "stream",
     "text": [
      "{'loss': 0.0641, 'learning_rate': 5.057142857142857e-05, 'epoch': 15.71}\n"
     ]
    },
    {
     "name": "stderr",
     "output_type": "stream",
     "text": [
      " 16%|█▌        | 331/2100 [39:32<1:55:02,  3.90s/it]"
     ]
    },
    {
     "name": "stdout",
     "output_type": "stream",
     "text": [
      "{'loss': 0.0472, 'learning_rate': 5.0542857142857144e-05, 'epoch': 15.76}\n"
     ]
    },
    {
     "name": "stderr",
     "output_type": "stream",
     "text": [
      " 16%|█▌        | 332/2100 [39:35<1:48:48,  3.69s/it]"
     ]
    },
    {
     "name": "stdout",
     "output_type": "stream",
     "text": [
      "{'loss': 0.0523, 'learning_rate': 5.051428571428572e-05, 'epoch': 15.81}\n"
     ]
    },
    {
     "name": "stderr",
     "output_type": "stream",
     "text": [
      " 16%|█▌        | 333/2100 [39:38<1:44:49,  3.56s/it]"
     ]
    },
    {
     "name": "stdout",
     "output_type": "stream",
     "text": [
      "{'loss': 0.0439, 'learning_rate': 5.0485714285714284e-05, 'epoch': 15.86}\n"
     ]
    },
    {
     "name": "stderr",
     "output_type": "stream",
     "text": [
      " 16%|█▌        | 334/2100 [39:42<1:41:52,  3.46s/it]"
     ]
    },
    {
     "name": "stdout",
     "output_type": "stream",
     "text": [
      "{'loss': 0.0436, 'learning_rate': 5.0457142857142865e-05, 'epoch': 15.9}\n"
     ]
    },
    {
     "name": "stderr",
     "output_type": "stream",
     "text": [
      " 16%|█▌        | 335/2100 [39:45<1:39:43,  3.39s/it]"
     ]
    },
    {
     "name": "stdout",
     "output_type": "stream",
     "text": [
      "{'loss': 0.0548, 'learning_rate': 5.042857142857143e-05, 'epoch': 15.95}\n"
     ]
    },
    {
     "name": "stderr",
     "output_type": "stream",
     "text": [
      " 16%|█▌        | 336/2100 [39:47<1:32:11,  3.14s/it]"
     ]
    },
    {
     "name": "stdout",
     "output_type": "stream",
     "text": [
      "{'loss': 0.0512, 'learning_rate': 5.04e-05, 'epoch': 16.0}\n"
     ]
    },
    {
     "name": "stderr",
     "output_type": "stream",
     "text": [
      " 16%|█▌        | 337/2100 [39:51<1:39:36,  3.39s/it]"
     ]
    },
    {
     "name": "stdout",
     "output_type": "stream",
     "text": [
      "{'loss': 0.042, 'learning_rate': 5.037142857142857e-05, 'epoch': 16.05}\n"
     ]
    },
    {
     "name": "stderr",
     "output_type": "stream",
     "text": [
      " 16%|█▌        | 338/2100 [39:55<1:38:02,  3.34s/it]"
     ]
    },
    {
     "name": "stdout",
     "output_type": "stream",
     "text": [
      "{'loss': 0.048, 'learning_rate': 5.0342857142857146e-05, 'epoch': 16.1}\n"
     ]
    },
    {
     "name": "stderr",
     "output_type": "stream",
     "text": [
      " 16%|█▌        | 339/2100 [39:58<1:37:20,  3.32s/it]"
     ]
    },
    {
     "name": "stdout",
     "output_type": "stream",
     "text": [
      "{'loss': 0.046, 'learning_rate': 5.031428571428571e-05, 'epoch': 16.14}\n"
     ]
    },
    {
     "name": "stderr",
     "output_type": "stream",
     "text": [
      " 16%|█▌        | 340/2100 [40:01<1:36:54,  3.30s/it]"
     ]
    },
    {
     "name": "stdout",
     "output_type": "stream",
     "text": [
      "{'loss': 0.0415, 'learning_rate': 5.0285714285714286e-05, 'epoch': 16.19}\n"
     ]
    },
    {
     "name": "stderr",
     "output_type": "stream",
     "text": [
      "\n",
      " 16%|█▌        | 340/2100 [41:19<1:36:54,  3.30s/it]"
     ]
    },
    {
     "name": "stdout",
     "output_type": "stream",
     "text": [
      "{'eval_loss': 0.028337061405181885, 'eval_mean_iou': 0.9416629368597839, 'eval_mean_accuracy': 0.9769692468725798, 'eval_overall_accuracy': 0.9976380916326243, 'eval_per_category_iou': [0.9975940434695428, 0.8857318302500249], 'eval_per_category_accuracy': [0.9984617298354773, 0.9554767639096823], 'eval_runtime': 77.5293, 'eval_samples_per_second': 0.671, 'eval_steps_per_second': 0.142, 'epoch': 16.19}\n"
     ]
    },
    {
     "name": "stderr",
     "output_type": "stream",
     "text": [
      " 16%|█▌        | 341/2100 [41:22<13:02:15, 26.68s/it]"
     ]
    },
    {
     "name": "stdout",
     "output_type": "stream",
     "text": [
      "{'loss': 0.0694, 'learning_rate': 5.025714285714286e-05, 'epoch': 16.24}\n"
     ]
    },
    {
     "name": "stderr",
     "output_type": "stream",
     "text": [
      " 16%|█▋        | 342/2100 [41:26<9:35:54, 19.66s/it] "
     ]
    },
    {
     "name": "stdout",
     "output_type": "stream",
     "text": [
      "{'loss': 0.0739, 'learning_rate': 5.0228571428571434e-05, 'epoch': 16.29}\n"
     ]
    },
    {
     "name": "stderr",
     "output_type": "stream",
     "text": [
      " 16%|█▋        | 343/2100 [41:29<7:11:33, 14.74s/it]"
     ]
    },
    {
     "name": "stdout",
     "output_type": "stream",
     "text": [
      "{'loss': 0.0439, 'learning_rate': 5.02e-05, 'epoch': 16.33}\n"
     ]
    },
    {
     "name": "stderr",
     "output_type": "stream",
     "text": [
      " 16%|█▋        | 344/2100 [41:32<5:30:02, 11.28s/it]"
     ]
    },
    {
     "name": "stdout",
     "output_type": "stream",
     "text": [
      "{'loss': 0.0506, 'learning_rate': 5.017142857142857e-05, 'epoch': 16.38}\n"
     ]
    },
    {
     "name": "stderr",
     "output_type": "stream",
     "text": [
      " 16%|█▋        | 345/2100 [41:35<4:19:26,  8.87s/it]"
     ]
    },
    {
     "name": "stdout",
     "output_type": "stream",
     "text": [
      "{'loss': 0.0553, 'learning_rate': 5.014285714285715e-05, 'epoch': 16.43}\n"
     ]
    },
    {
     "name": "stderr",
     "output_type": "stream",
     "text": [
      " 16%|█▋        | 346/2100 [41:39<3:30:25,  7.20s/it]"
     ]
    },
    {
     "name": "stdout",
     "output_type": "stream",
     "text": [
      "{'loss': 0.0485, 'learning_rate': 5.0114285714285715e-05, 'epoch': 16.48}\n"
     ]
    },
    {
     "name": "stderr",
     "output_type": "stream",
     "text": [
      " 17%|█▋        | 347/2100 [41:42<2:55:56,  6.02s/it]"
     ]
    },
    {
     "name": "stdout",
     "output_type": "stream",
     "text": [
      "{'loss': 0.0382, 'learning_rate': 5.008571428571429e-05, 'epoch': 16.52}\n"
     ]
    },
    {
     "name": "stderr",
     "output_type": "stream",
     "text": [
      " 17%|█▋        | 348/2100 [41:45<2:31:15,  5.18s/it]"
     ]
    },
    {
     "name": "stdout",
     "output_type": "stream",
     "text": [
      "{'loss': 0.043, 'learning_rate': 5.005714285714286e-05, 'epoch': 16.57}\n"
     ]
    },
    {
     "name": "stderr",
     "output_type": "stream",
     "text": [
      " 17%|█▋        | 349/2100 [41:48<2:14:10,  4.60s/it]"
     ]
    },
    {
     "name": "stdout",
     "output_type": "stream",
     "text": [
      "{'loss': 0.0412, 'learning_rate': 5.002857142857143e-05, 'epoch': 16.62}\n"
     ]
    },
    {
     "name": "stderr",
     "output_type": "stream",
     "text": [
      " 17%|█▋        | 350/2100 [41:52<2:02:14,  4.19s/it]"
     ]
    },
    {
     "name": "stdout",
     "output_type": "stream",
     "text": [
      "{'loss': 0.0423, 'learning_rate': 5e-05, 'epoch': 16.67}\n"
     ]
    },
    {
     "name": "stderr",
     "output_type": "stream",
     "text": [
      " 17%|█▋        | 351/2100 [41:55<1:53:58,  3.91s/it]"
     ]
    },
    {
     "name": "stdout",
     "output_type": "stream",
     "text": [
      "{'loss': 0.0427, 'learning_rate': 4.997142857142857e-05, 'epoch': 16.71}\n"
     ]
    },
    {
     "name": "stderr",
     "output_type": "stream",
     "text": [
      " 17%|█▋        | 352/2100 [41:58<1:47:59,  3.71s/it]"
     ]
    },
    {
     "name": "stdout",
     "output_type": "stream",
     "text": [
      "{'loss': 0.0427, 'learning_rate': 4.994285714285714e-05, 'epoch': 16.76}\n"
     ]
    },
    {
     "name": "stderr",
     "output_type": "stream",
     "text": [
      " 17%|█▋        | 353/2100 [42:01<1:44:07,  3.58s/it]"
     ]
    },
    {
     "name": "stdout",
     "output_type": "stream",
     "text": [
      "{'loss': 0.0429, 'learning_rate': 4.9914285714285717e-05, 'epoch': 16.81}\n"
     ]
    },
    {
     "name": "stderr",
     "output_type": "stream",
     "text": [
      " 17%|█▋        | 354/2100 [42:05<1:41:17,  3.48s/it]"
     ]
    },
    {
     "name": "stdout",
     "output_type": "stream",
     "text": [
      "{'loss': 0.0445, 'learning_rate': 4.9885714285714283e-05, 'epoch': 16.86}\n"
     ]
    },
    {
     "name": "stderr",
     "output_type": "stream",
     "text": [
      " 17%|█▋        | 355/2100 [42:08<1:39:18,  3.41s/it]"
     ]
    },
    {
     "name": "stdout",
     "output_type": "stream",
     "text": [
      "{'loss': 0.0486, 'learning_rate': 4.9857142857142864e-05, 'epoch': 16.9}\n"
     ]
    },
    {
     "name": "stderr",
     "output_type": "stream",
     "text": [
      " 17%|█▋        | 356/2100 [42:11<1:37:34,  3.36s/it]"
     ]
    },
    {
     "name": "stdout",
     "output_type": "stream",
     "text": [
      "{'loss': 0.0437, 'learning_rate': 4.982857142857143e-05, 'epoch': 16.95}\n"
     ]
    },
    {
     "name": "stderr",
     "output_type": "stream",
     "text": [
      " 17%|█▋        | 357/2100 [42:14<1:30:24,  3.11s/it]"
     ]
    },
    {
     "name": "stdout",
     "output_type": "stream",
     "text": [
      "{'loss': 0.067, 'learning_rate': 4.98e-05, 'epoch': 17.0}\n"
     ]
    },
    {
     "name": "stderr",
     "output_type": "stream",
     "text": [
      " 17%|█▋        | 358/2100 [42:18<1:37:36,  3.36s/it]"
     ]
    },
    {
     "name": "stdout",
     "output_type": "stream",
     "text": [
      "{'loss': 0.0468, 'learning_rate': 4.977142857142857e-05, 'epoch': 17.05}\n"
     ]
    },
    {
     "name": "stderr",
     "output_type": "stream",
     "text": [
      " 17%|█▋        | 359/2100 [42:21<1:36:17,  3.32s/it]"
     ]
    },
    {
     "name": "stdout",
     "output_type": "stream",
     "text": [
      "{'loss': 0.0487, 'learning_rate': 4.9742857142857145e-05, 'epoch': 17.1}\n"
     ]
    },
    {
     "name": "stderr",
     "output_type": "stream",
     "text": [
      " 17%|█▋        | 360/2100 [42:24<1:35:25,  3.29s/it]"
     ]
    },
    {
     "name": "stdout",
     "output_type": "stream",
     "text": [
      "{'loss': 0.0449, 'learning_rate': 4.971428571428572e-05, 'epoch': 17.14}\n"
     ]
    },
    {
     "name": "stderr",
     "output_type": "stream",
     "text": [
      "\n",
      " 17%|█▋        | 360/2100 [43:41<1:35:25,  3.29s/it]"
     ]
    },
    {
     "name": "stdout",
     "output_type": "stream",
     "text": [
      "{'eval_loss': 0.02526102401316166, 'eval_mean_iou': 0.9455209571250429, 'eval_mean_accuracy': 0.972574880971815, 'eval_overall_accuracy': 0.9978330281260271, 'eval_per_category_iou': [0.9977930102776409, 0.8932489039724448], 'eval_per_category_accuracy': [0.9988395466407778, 0.9463102153028522], 'eval_runtime': 76.9079, 'eval_samples_per_second': 0.676, 'eval_steps_per_second': 0.143, 'epoch': 17.14}\n"
     ]
    },
    {
     "name": "stderr",
     "output_type": "stream",
     "text": [
      " 17%|█▋        | 361/2100 [43:45<12:47:07, 26.47s/it]"
     ]
    },
    {
     "name": "stdout",
     "output_type": "stream",
     "text": [
      "{'loss': 0.0393, 'learning_rate': 4.9685714285714285e-05, 'epoch': 17.19}\n"
     ]
    },
    {
     "name": "stderr",
     "output_type": "stream",
     "text": [
      " 17%|█▋        | 362/2100 [43:48<9:24:49, 19.50s/it] "
     ]
    },
    {
     "name": "stdout",
     "output_type": "stream",
     "text": [
      "{'loss': 0.0434, 'learning_rate': 4.965714285714286e-05, 'epoch': 17.24}\n"
     ]
    },
    {
     "name": "stderr",
     "output_type": "stream",
     "text": [
      " 17%|█▋        | 363/2100 [43:51<7:03:24, 14.63s/it]"
     ]
    },
    {
     "name": "stdout",
     "output_type": "stream",
     "text": [
      "{'loss': 0.0385, 'learning_rate': 4.962857142857143e-05, 'epoch': 17.29}\n"
     ]
    },
    {
     "name": "stderr",
     "output_type": "stream",
     "text": [
      " 17%|█▋        | 364/2100 [43:54<5:23:50, 11.19s/it]"
     ]
    },
    {
     "name": "stdout",
     "output_type": "stream",
     "text": [
      "{'loss': 0.0577, 'learning_rate': 4.96e-05, 'epoch': 17.33}\n"
     ]
    },
    {
     "name": "stderr",
     "output_type": "stream",
     "text": [
      " 17%|█▋        | 365/2100 [43:58<4:14:51,  8.81s/it]"
     ]
    },
    {
     "name": "stdout",
     "output_type": "stream",
     "text": [
      "{'loss': 0.0503, 'learning_rate': 4.957142857142857e-05, 'epoch': 17.38}\n"
     ]
    },
    {
     "name": "stderr",
     "output_type": "stream",
     "text": [
      " 17%|█▋        | 366/2100 [44:01<3:26:19,  7.14s/it]"
     ]
    },
    {
     "name": "stdout",
     "output_type": "stream",
     "text": [
      "{'loss': 0.0378, 'learning_rate': 4.954285714285715e-05, 'epoch': 17.43}\n"
     ]
    },
    {
     "name": "stderr",
     "output_type": "stream",
     "text": [
      " 17%|█▋        | 367/2100 [44:04<2:52:15,  5.96s/it]"
     ]
    },
    {
     "name": "stdout",
     "output_type": "stream",
     "text": [
      "{'loss': 0.0353, 'learning_rate': 4.9514285714285714e-05, 'epoch': 17.48}\n"
     ]
    },
    {
     "name": "stderr",
     "output_type": "stream",
     "text": [
      " 18%|█▊        | 368/2100 [44:07<2:28:21,  5.14s/it]"
     ]
    },
    {
     "name": "stdout",
     "output_type": "stream",
     "text": [
      "{'loss': 0.0427, 'learning_rate': 4.948571428571429e-05, 'epoch': 17.52}\n"
     ]
    },
    {
     "name": "stderr",
     "output_type": "stream",
     "text": [
      " 18%|█▊        | 369/2100 [44:11<2:11:59,  4.58s/it]"
     ]
    },
    {
     "name": "stdout",
     "output_type": "stream",
     "text": [
      "{'loss': 0.0564, 'learning_rate': 4.945714285714286e-05, 'epoch': 17.57}\n"
     ]
    },
    {
     "name": "stderr",
     "output_type": "stream",
     "text": [
      " 18%|█▊        | 370/2100 [44:14<2:00:46,  4.19s/it]"
     ]
    },
    {
     "name": "stdout",
     "output_type": "stream",
     "text": [
      "{'loss': 0.0389, 'learning_rate': 4.942857142857143e-05, 'epoch': 17.62}\n"
     ]
    },
    {
     "name": "stderr",
     "output_type": "stream",
     "text": [
      " 18%|█▊        | 371/2100 [44:17<1:52:23,  3.90s/it]"
     ]
    },
    {
     "name": "stdout",
     "output_type": "stream",
     "text": [
      "{'loss': 0.0361, 'learning_rate': 4.94e-05, 'epoch': 17.67}\n"
     ]
    },
    {
     "name": "stderr",
     "output_type": "stream",
     "text": [
      " 18%|█▊        | 372/2100 [44:20<1:46:23,  3.69s/it]"
     ]
    },
    {
     "name": "stdout",
     "output_type": "stream",
     "text": [
      "{'loss': 0.0351, 'learning_rate': 4.9371428571428575e-05, 'epoch': 17.71}\n"
     ]
    },
    {
     "name": "stderr",
     "output_type": "stream",
     "text": [
      " 18%|█▊        | 373/2100 [44:23<1:42:17,  3.55s/it]"
     ]
    },
    {
     "name": "stdout",
     "output_type": "stream",
     "text": [
      "{'loss': 0.0415, 'learning_rate': 4.934285714285715e-05, 'epoch': 17.76}\n"
     ]
    },
    {
     "name": "stderr",
     "output_type": "stream",
     "text": [
      " 18%|█▊        | 374/2100 [44:27<1:39:36,  3.46s/it]"
     ]
    },
    {
     "name": "stdout",
     "output_type": "stream",
     "text": [
      "{'loss': 0.0391, 'learning_rate': 4.9314285714285716e-05, 'epoch': 17.81}\n"
     ]
    },
    {
     "name": "stderr",
     "output_type": "stream",
     "text": [
      " 18%|█▊        | 375/2100 [44:30<1:37:40,  3.40s/it]"
     ]
    },
    {
     "name": "stdout",
     "output_type": "stream",
     "text": [
      "{'loss': 0.0458, 'learning_rate': 4.928571428571428e-05, 'epoch': 17.86}\n"
     ]
    },
    {
     "name": "stderr",
     "output_type": "stream",
     "text": [
      " 18%|█▊        | 376/2100 [44:33<1:36:11,  3.35s/it]"
     ]
    },
    {
     "name": "stdout",
     "output_type": "stream",
     "text": [
      "{'loss': 0.0416, 'learning_rate': 4.925714285714286e-05, 'epoch': 17.9}\n"
     ]
    },
    {
     "name": "stderr",
     "output_type": "stream",
     "text": [
      " 18%|█▊        | 377/2100 [44:36<1:35:05,  3.31s/it]"
     ]
    },
    {
     "name": "stdout",
     "output_type": "stream",
     "text": [
      "{'loss': 0.0376, 'learning_rate': 4.922857142857143e-05, 'epoch': 17.95}\n"
     ]
    },
    {
     "name": "stderr",
     "output_type": "stream",
     "text": [
      " 18%|█▊        | 378/2100 [44:39<1:28:53,  3.10s/it]"
     ]
    },
    {
     "name": "stdout",
     "output_type": "stream",
     "text": [
      "{'loss': 0.0537, 'learning_rate': 4.9199999999999997e-05, 'epoch': 18.0}\n"
     ]
    },
    {
     "name": "stderr",
     "output_type": "stream",
     "text": [
      " 18%|█▊        | 379/2100 [44:43<1:36:00,  3.35s/it]"
     ]
    },
    {
     "name": "stdout",
     "output_type": "stream",
     "text": [
      "{'loss': 0.0558, 'learning_rate': 4.917142857142858e-05, 'epoch': 18.05}\n"
     ]
    },
    {
     "name": "stderr",
     "output_type": "stream",
     "text": [
      " 18%|█▊        | 380/2100 [44:46<1:34:56,  3.31s/it]"
     ]
    },
    {
     "name": "stdout",
     "output_type": "stream",
     "text": [
      "{'loss': 0.0457, 'learning_rate': 4.9142857142857144e-05, 'epoch': 18.1}\n"
     ]
    },
    {
     "name": "stderr",
     "output_type": "stream",
     "text": [
      "\n",
      " 18%|█▊        | 380/2100 [46:03<1:34:56,  3.31s/it]"
     ]
    },
    {
     "name": "stdout",
     "output_type": "stream",
     "text": [
      "{'eval_loss': 0.04560868442058563, 'eval_mean_iou': 0.9450200438639619, 'eval_mean_accuracy': 0.981099174624632, 'eval_overall_accuracy': 0.9977713263605202, 'eval_per_category_iou': [0.9977293957256549, 0.8923106920022689], 'eval_per_category_accuracy': [0.9984356992973176, 0.9637626499519465], 'eval_runtime': 77.1759, 'eval_samples_per_second': 0.674, 'eval_steps_per_second': 0.143, 'epoch': 18.1}\n"
     ]
    },
    {
     "name": "stderr",
     "output_type": "stream",
     "text": [
      " 18%|█▊        | 381/2100 [46:07<12:41:56, 26.60s/it]"
     ]
    },
    {
     "name": "stdout",
     "output_type": "stream",
     "text": [
      "{'loss': 0.042, 'learning_rate': 4.911428571428572e-05, 'epoch': 18.14}\n"
     ]
    },
    {
     "name": "stderr",
     "output_type": "stream",
     "text": [
      " 18%|█▊        | 382/2100 [46:10<9:20:51, 19.59s/it] "
     ]
    },
    {
     "name": "stdout",
     "output_type": "stream",
     "text": [
      "{'loss': 0.0436, 'learning_rate': 4.9085714285714284e-05, 'epoch': 18.19}\n"
     ]
    },
    {
     "name": "stderr",
     "output_type": "stream",
     "text": [
      " 18%|█▊        | 383/2100 [46:14<7:00:08, 14.68s/it]"
     ]
    },
    {
     "name": "stdout",
     "output_type": "stream",
     "text": [
      "{'loss': 0.0432, 'learning_rate': 4.905714285714286e-05, 'epoch': 18.24}\n"
     ]
    },
    {
     "name": "stderr",
     "output_type": "stream",
     "text": [
      " 18%|█▊        | 384/2100 [46:17<5:21:31, 11.24s/it]"
     ]
    },
    {
     "name": "stdout",
     "output_type": "stream",
     "text": [
      "{'loss': 0.0353, 'learning_rate': 4.902857142857143e-05, 'epoch': 18.29}\n"
     ]
    },
    {
     "name": "stderr",
     "output_type": "stream",
     "text": [
      " 18%|█▊        | 385/2100 [46:20<4:12:38,  8.84s/it]"
     ]
    },
    {
     "name": "stdout",
     "output_type": "stream",
     "text": [
      "{'loss': 0.0422, 'learning_rate': 4.9e-05, 'epoch': 18.33}\n"
     ]
    },
    {
     "name": "stderr",
     "output_type": "stream",
     "text": [
      " 18%|█▊        | 386/2100 [46:23<3:24:33,  7.16s/it]"
     ]
    },
    {
     "name": "stdout",
     "output_type": "stream",
     "text": [
      "{'loss': 0.0358, 'learning_rate': 4.897142857142858e-05, 'epoch': 18.38}\n"
     ]
    },
    {
     "name": "stderr",
     "output_type": "stream",
     "text": [
      " 18%|█▊        | 387/2100 [46:27<2:50:49,  5.98s/it]"
     ]
    },
    {
     "name": "stdout",
     "output_type": "stream",
     "text": [
      "{'loss': 0.0352, 'learning_rate': 4.8942857142857146e-05, 'epoch': 18.43}\n"
     ]
    },
    {
     "name": "stderr",
     "output_type": "stream",
     "text": [
      " 18%|█▊        | 388/2100 [46:30<2:27:03,  5.15s/it]"
     ]
    },
    {
     "name": "stdout",
     "output_type": "stream",
     "text": [
      "{'loss': 0.0418, 'learning_rate': 4.891428571428571e-05, 'epoch': 18.48}\n"
     ]
    },
    {
     "name": "stderr",
     "output_type": "stream",
     "text": [
      " 19%|█▊        | 389/2100 [46:33<2:10:24,  4.57s/it]"
     ]
    },
    {
     "name": "stdout",
     "output_type": "stream",
     "text": [
      "{'loss': 0.0393, 'learning_rate': 4.8885714285714286e-05, 'epoch': 18.52}\n"
     ]
    },
    {
     "name": "stderr",
     "output_type": "stream",
     "text": [
      " 19%|█▊        | 390/2100 [46:36<1:58:40,  4.16s/it]"
     ]
    },
    {
     "name": "stdout",
     "output_type": "stream",
     "text": [
      "{'loss': 0.0354, 'learning_rate': 4.885714285714286e-05, 'epoch': 18.57}\n"
     ]
    },
    {
     "name": "stderr",
     "output_type": "stream",
     "text": [
      " 19%|█▊        | 391/2100 [46:39<1:50:14,  3.87s/it]"
     ]
    },
    {
     "name": "stdout",
     "output_type": "stream",
     "text": [
      "{'loss': 0.0364, 'learning_rate': 4.882857142857143e-05, 'epoch': 18.62}\n"
     ]
    },
    {
     "name": "stderr",
     "output_type": "stream",
     "text": [
      " 19%|█▊        | 392/2100 [46:43<1:44:44,  3.68s/it]"
     ]
    },
    {
     "name": "stdout",
     "output_type": "stream",
     "text": [
      "{'loss': 0.0361, 'learning_rate': 4.88e-05, 'epoch': 18.67}\n"
     ]
    },
    {
     "name": "stderr",
     "output_type": "stream",
     "text": [
      " 19%|█▊        | 393/2100 [46:46<1:40:54,  3.55s/it]"
     ]
    },
    {
     "name": "stdout",
     "output_type": "stream",
     "text": [
      "{'loss': 0.0339, 'learning_rate': 4.8771428571428574e-05, 'epoch': 18.71}\n"
     ]
    },
    {
     "name": "stderr",
     "output_type": "stream",
     "text": [
      " 19%|█▉        | 394/2100 [46:49<1:38:02,  3.45s/it]"
     ]
    },
    {
     "name": "stdout",
     "output_type": "stream",
     "text": [
      "{'loss': 0.0348, 'learning_rate': 4.874285714285715e-05, 'epoch': 18.76}\n"
     ]
    },
    {
     "name": "stderr",
     "output_type": "stream",
     "text": [
      " 19%|█▉        | 395/2100 [46:52<1:35:57,  3.38s/it]"
     ]
    },
    {
     "name": "stdout",
     "output_type": "stream",
     "text": [
      "{'loss': 0.0383, 'learning_rate': 4.8714285714285714e-05, 'epoch': 18.81}\n"
     ]
    },
    {
     "name": "stderr",
     "output_type": "stream",
     "text": [
      " 19%|█▉        | 396/2100 [46:55<1:34:36,  3.33s/it]"
     ]
    },
    {
     "name": "stdout",
     "output_type": "stream",
     "text": [
      "{'loss': 0.0378, 'learning_rate': 4.868571428571428e-05, 'epoch': 18.86}\n"
     ]
    },
    {
     "name": "stderr",
     "output_type": "stream",
     "text": [
      " 19%|█▉        | 397/2100 [46:59<1:34:18,  3.32s/it]"
     ]
    },
    {
     "name": "stdout",
     "output_type": "stream",
     "text": [
      "{'loss': 0.035, 'learning_rate': 4.865714285714286e-05, 'epoch': 18.9}\n"
     ]
    },
    {
     "name": "stderr",
     "output_type": "stream",
     "text": [
      " 19%|█▉        | 398/2100 [47:02<1:33:20,  3.29s/it]"
     ]
    },
    {
     "name": "stdout",
     "output_type": "stream",
     "text": [
      "{'loss': 0.0371, 'learning_rate': 4.862857142857143e-05, 'epoch': 18.95}\n"
     ]
    },
    {
     "name": "stderr",
     "output_type": "stream",
     "text": [
      " 19%|█▉        | 399/2100 [47:05<1:27:01,  3.07s/it]"
     ]
    },
    {
     "name": "stdout",
     "output_type": "stream",
     "text": [
      "{'loss': 0.0397, 'learning_rate': 4.86e-05, 'epoch': 19.0}\n"
     ]
    },
    {
     "name": "stderr",
     "output_type": "stream",
     "text": [
      " 19%|█▉        | 400/2100 [47:08<1:34:12,  3.32s/it]"
     ]
    },
    {
     "name": "stdout",
     "output_type": "stream",
     "text": [
      "{'loss': 0.0303, 'learning_rate': 4.8571428571428576e-05, 'epoch': 19.05}\n"
     ]
    },
    {
     "name": "stderr",
     "output_type": "stream",
     "text": [
      "\n",
      " 19%|█▉        | 400/2100 [48:25<1:34:12,  3.32s/it]"
     ]
    },
    {
     "name": "stdout",
     "output_type": "stream",
     "text": [
      "{'eval_loss': 0.03521692007780075, 'eval_mean_iou': 0.9469430985153933, 'eval_mean_accuracy': 0.9846475137031576, 'eval_overall_accuracy': 0.9978425658543457, 'eval_per_category_iou': [0.9978016680888119, 0.8960845289419747], 'eval_per_category_accuracy': [0.9983683789400081, 0.970926648466307], 'eval_runtime': 76.9218, 'eval_samples_per_second': 0.676, 'eval_steps_per_second': 0.143, 'epoch': 19.05}\n"
     ]
    },
    {
     "name": "stderr",
     "output_type": "stream",
     "text": [
      " 19%|█▉        | 401/2100 [48:29<12:31:45, 26.55s/it]"
     ]
    },
    {
     "name": "stdout",
     "output_type": "stream",
     "text": [
      "{'loss': 0.0398, 'learning_rate': 4.854285714285714e-05, 'epoch': 19.1}\n"
     ]
    },
    {
     "name": "stderr",
     "output_type": "stream",
     "text": [
      " 19%|█▉        | 402/2100 [48:32<9:13:55, 19.57s/it] "
     ]
    },
    {
     "name": "stdout",
     "output_type": "stream",
     "text": [
      "{'loss': 0.0408, 'learning_rate': 4.8514285714285716e-05, 'epoch': 19.14}\n"
     ]
    },
    {
     "name": "stderr",
     "output_type": "stream",
     "text": [
      " 19%|█▉        | 403/2100 [48:36<6:55:40, 14.70s/it]"
     ]
    },
    {
     "name": "stdout",
     "output_type": "stream",
     "text": [
      "{'loss': 0.0327, 'learning_rate': 4.848571428571428e-05, 'epoch': 19.19}\n"
     ]
    },
    {
     "name": "stderr",
     "output_type": "stream",
     "text": [
      " 19%|█▉        | 404/2100 [48:39<5:18:52, 11.28s/it]"
     ]
    },
    {
     "name": "stdout",
     "output_type": "stream",
     "text": [
      "{'loss': 0.0304, 'learning_rate': 4.845714285714286e-05, 'epoch': 19.24}\n"
     ]
    },
    {
     "name": "stderr",
     "output_type": "stream",
     "text": [
      " 19%|█▉        | 405/2100 [48:42<4:11:21,  8.90s/it]"
     ]
    },
    {
     "name": "stdout",
     "output_type": "stream",
     "text": [
      "{'loss': 0.0388, 'learning_rate': 4.842857142857143e-05, 'epoch': 19.29}\n"
     ]
    },
    {
     "name": "stderr",
     "output_type": "stream",
     "text": [
      " 19%|█▉        | 406/2100 [48:46<3:24:16,  7.23s/it]"
     ]
    },
    {
     "name": "stdout",
     "output_type": "stream",
     "text": [
      "{'loss': 0.0453, 'learning_rate': 4.84e-05, 'epoch': 19.33}\n"
     ]
    },
    {
     "name": "stderr",
     "output_type": "stream",
     "text": [
      " 19%|█▉        | 407/2100 [48:49<2:50:46,  6.05s/it]"
     ]
    },
    {
     "name": "stdout",
     "output_type": "stream",
     "text": [
      "{'loss': 0.0322, 'learning_rate': 4.837142857142858e-05, 'epoch': 19.38}\n"
     ]
    },
    {
     "name": "stderr",
     "output_type": "stream",
     "text": [
      " 19%|█▉        | 408/2100 [48:52<2:27:30,  5.23s/it]"
     ]
    },
    {
     "name": "stdout",
     "output_type": "stream",
     "text": [
      "{'loss': 0.0339, 'learning_rate': 4.8342857142857145e-05, 'epoch': 19.43}\n"
     ]
    },
    {
     "name": "stderr",
     "output_type": "stream",
     "text": [
      " 19%|█▉        | 409/2100 [48:56<2:10:52,  4.64s/it]"
     ]
    },
    {
     "name": "stdout",
     "output_type": "stream",
     "text": [
      "{'loss': 0.0312, 'learning_rate': 4.831428571428571e-05, 'epoch': 19.48}\n"
     ]
    },
    {
     "name": "stderr",
     "output_type": "stream",
     "text": [
      " 20%|█▉        | 410/2100 [48:59<1:59:09,  4.23s/it]"
     ]
    },
    {
     "name": "stdout",
     "output_type": "stream",
     "text": [
      "{'loss': 0.0474, 'learning_rate': 4.828571428571429e-05, 'epoch': 19.52}\n"
     ]
    },
    {
     "name": "stderr",
     "output_type": "stream",
     "text": [
      " 20%|█▉        | 411/2100 [49:02<1:51:29,  3.96s/it]"
     ]
    },
    {
     "name": "stdout",
     "output_type": "stream",
     "text": [
      "{'loss': 0.0347, 'learning_rate': 4.825714285714286e-05, 'epoch': 19.57}\n"
     ]
    },
    {
     "name": "stderr",
     "output_type": "stream",
     "text": [
      " 20%|█▉        | 412/2100 [49:06<1:49:04,  3.88s/it]"
     ]
    },
    {
     "name": "stdout",
     "output_type": "stream",
     "text": [
      "{'loss': 0.0315, 'learning_rate': 4.822857142857143e-05, 'epoch': 19.62}\n"
     ]
    },
    {
     "name": "stderr",
     "output_type": "stream",
     "text": [
      " 20%|█▉        | 413/2100 [49:10<1:52:22,  4.00s/it]"
     ]
    },
    {
     "name": "stdout",
     "output_type": "stream",
     "text": [
      "{'loss': 0.0519, 'learning_rate': 4.82e-05, 'epoch': 19.67}\n"
     ]
    },
    {
     "name": "stderr",
     "output_type": "stream",
     "text": [
      " 20%|█▉        | 414/2100 [49:14<1:50:20,  3.93s/it]"
     ]
    },
    {
     "name": "stdout",
     "output_type": "stream",
     "text": [
      "{'loss': 0.0369, 'learning_rate': 4.817142857142857e-05, 'epoch': 19.71}\n"
     ]
    },
    {
     "name": "stderr",
     "output_type": "stream",
     "text": [
      " 20%|█▉        | 415/2100 [49:17<1:45:12,  3.75s/it]"
     ]
    },
    {
     "name": "stdout",
     "output_type": "stream",
     "text": [
      "{'loss': 0.0289, 'learning_rate': 4.8142857142857147e-05, 'epoch': 19.76}\n"
     ]
    },
    {
     "name": "stderr",
     "output_type": "stream",
     "text": [
      " 20%|█▉        | 416/2100 [49:21<1:41:41,  3.62s/it]"
     ]
    },
    {
     "name": "stdout",
     "output_type": "stream",
     "text": [
      "{'loss': 0.0385, 'learning_rate': 4.8114285714285713e-05, 'epoch': 19.81}\n"
     ]
    },
    {
     "name": "stderr",
     "output_type": "stream",
     "text": [
      " 20%|█▉        | 417/2100 [49:24<1:38:54,  3.53s/it]"
     ]
    },
    {
     "name": "stdout",
     "output_type": "stream",
     "text": [
      "{'loss': 0.031, 'learning_rate': 4.808571428571429e-05, 'epoch': 19.86}\n"
     ]
    },
    {
     "name": "stderr",
     "output_type": "stream",
     "text": [
      " 20%|█▉        | 418/2100 [49:27<1:37:26,  3.48s/it]"
     ]
    },
    {
     "name": "stdout",
     "output_type": "stream",
     "text": [
      "{'loss': 0.0328, 'learning_rate': 4.805714285714286e-05, 'epoch': 19.9}\n"
     ]
    },
    {
     "name": "stderr",
     "output_type": "stream",
     "text": [
      " 20%|█▉        | 419/2100 [49:31<1:36:23,  3.44s/it]"
     ]
    },
    {
     "name": "stdout",
     "output_type": "stream",
     "text": [
      "{'loss': 0.0341, 'learning_rate': 4.802857142857143e-05, 'epoch': 19.95}\n"
     ]
    },
    {
     "name": "stderr",
     "output_type": "stream",
     "text": [
      " 20%|██        | 420/2100 [49:33<1:29:28,  3.20s/it]"
     ]
    },
    {
     "name": "stdout",
     "output_type": "stream",
     "text": [
      "{'loss': 0.0325, 'learning_rate': 4.8e-05, 'epoch': 20.0}\n"
     ]
    },
    {
     "name": "stderr",
     "output_type": "stream",
     "text": [
      "\n",
      " 20%|██        | 420/2100 [50:55<1:29:28,  3.20s/it]"
     ]
    },
    {
     "name": "stdout",
     "output_type": "stream",
     "text": [
      "{'eval_loss': 0.03197423368692398, 'eval_mean_iou': 0.9481100681558784, 'eval_mean_accuracy': 0.9855434264433641, 'eval_overall_accuracy': 0.9978915017373339, 'eval_per_category_iou': [0.9978514571051735, 0.8983686792065833], 'eval_per_category_accuracy': [0.9983835634206012, 0.972703289466127], 'eval_runtime': 81.46, 'eval_samples_per_second': 0.638, 'eval_steps_per_second': 0.135, 'epoch': 20.0}\n"
     ]
    },
    {
     "name": "stderr",
     "output_type": "stream",
     "text": [
      " 20%|██        | 420/2100 [50:55<3:23:42,  7.28s/it]"
     ]
    },
    {
     "name": "stdout",
     "output_type": "stream",
     "text": [
      "{'train_runtime': 3055.5717, 'train_samples_per_second': 3.436, 'train_steps_per_second': 0.687, 'train_loss': 0.133953789098277, 'epoch': 20.0}\n"
     ]
    },
    {
     "name": "stderr",
     "output_type": "stream",
     "text": [
      "\n"
     ]
    },
    {
     "data": {
      "text/plain": [
       "TrainOutput(global_step=420, training_loss=0.133953789098277, metrics={'train_runtime': 3055.5717, 'train_samples_per_second': 3.436, 'train_steps_per_second': 0.687, 'train_loss': 0.133953789098277, 'epoch': 20.0})"
      ]
     },
     "execution_count": 67,
     "metadata": {},
     "output_type": "execute_result"
    }
   ],
   "source": [
    "broad_bean_trainer = initialize_trainer(broad_bean_train_ds, broad_bean_val_ds)\n",
    "broad_bean_trainer.train()"
   ]
  },
  {
   "cell_type": "code",
   "execution_count": 68,
   "metadata": {},
   "outputs": [
    {
     "data": {
      "text/plain": [
       "[{'loss': 0.6935,\n",
       "  'learning_rate': 5.997142857142857e-05,\n",
       "  'epoch': 0.05,\n",
       "  'step': 1},\n",
       " {'loss': 0.676,\n",
       "  'learning_rate': 5.994285714285715e-05,\n",
       "  'epoch': 0.1,\n",
       "  'step': 2},\n",
       " {'loss': 0.6713,\n",
       "  'learning_rate': 5.9914285714285716e-05,\n",
       "  'epoch': 0.14,\n",
       "  'step': 3},\n",
       " {'loss': 0.6325,\n",
       "  'learning_rate': 5.988571428571429e-05,\n",
       "  'epoch': 0.19,\n",
       "  'step': 4},\n",
       " {'loss': 0.6404,\n",
       "  'learning_rate': 5.9857142857142856e-05,\n",
       "  'epoch': 0.24,\n",
       "  'step': 5},\n",
       " {'loss': 0.6362,\n",
       "  'learning_rate': 5.982857142857143e-05,\n",
       "  'epoch': 0.29,\n",
       "  'step': 6},\n",
       " {'loss': 0.5927,\n",
       "  'learning_rate': 5.9800000000000003e-05,\n",
       "  'epoch': 0.33,\n",
       "  'step': 7},\n",
       " {'loss': 0.5819,\n",
       "  'learning_rate': 5.977142857142857e-05,\n",
       "  'epoch': 0.38,\n",
       "  'step': 8},\n",
       " {'loss': 0.6365,\n",
       "  'learning_rate': 5.9742857142857144e-05,\n",
       "  'epoch': 0.43,\n",
       "  'step': 9},\n",
       " {'loss': 0.5707,\n",
       "  'learning_rate': 5.971428571428572e-05,\n",
       "  'epoch': 0.48,\n",
       "  'step': 10},\n",
       " {'loss': 0.5955,\n",
       "  'learning_rate': 5.9685714285714284e-05,\n",
       "  'epoch': 0.52,\n",
       "  'step': 11},\n",
       " {'loss': 0.5296,\n",
       "  'learning_rate': 5.965714285714286e-05,\n",
       "  'epoch': 0.57,\n",
       "  'step': 12},\n",
       " {'loss': 0.5508,\n",
       "  'learning_rate': 5.962857142857143e-05,\n",
       "  'epoch': 0.62,\n",
       "  'step': 13},\n",
       " {'loss': 0.4913, 'learning_rate': 5.96e-05, 'epoch': 0.67, 'step': 14},\n",
       " {'loss': 0.5106,\n",
       "  'learning_rate': 5.957142857142857e-05,\n",
       "  'epoch': 0.71,\n",
       "  'step': 15},\n",
       " {'loss': 0.491,\n",
       "  'learning_rate': 5.9542857142857146e-05,\n",
       "  'epoch': 0.76,\n",
       "  'step': 16},\n",
       " {'loss': 0.4402,\n",
       "  'learning_rate': 5.951428571428572e-05,\n",
       "  'epoch': 0.81,\n",
       "  'step': 17},\n",
       " {'loss': 0.4372,\n",
       "  'learning_rate': 5.9485714285714286e-05,\n",
       "  'epoch': 0.86,\n",
       "  'step': 18},\n",
       " {'loss': 0.4427,\n",
       "  'learning_rate': 5.945714285714285e-05,\n",
       "  'epoch': 0.9,\n",
       "  'step': 19},\n",
       " {'loss': 0.4039,\n",
       "  'learning_rate': 5.9428571428571434e-05,\n",
       "  'epoch': 0.95,\n",
       "  'step': 20},\n",
       " {'eval_loss': 0.63662189245224,\n",
       "  'eval_mean_iou': 0.6795294224024675,\n",
       "  'eval_mean_accuracy': 0.9831470234539732,\n",
       "  'eval_overall_accuracy': 0.9700734698549092,\n",
       "  'eval_per_category_iou': [0.9694907853272503, 0.38956805947768464],\n",
       "  'eval_per_category_accuracy': [0.9695524983968405, 0.996741548511106],\n",
       "  'eval_runtime': 79.2392,\n",
       "  'eval_samples_per_second': 0.656,\n",
       "  'eval_steps_per_second': 0.139,\n",
       "  'epoch': 0.95,\n",
       "  'step': 20},\n",
       " {'loss': 0.3884, 'learning_rate': 5.94e-05, 'epoch': 1.0, 'step': 21},\n",
       " {'loss': 0.4363,\n",
       "  'learning_rate': 5.937142857142857e-05,\n",
       "  'epoch': 1.05,\n",
       "  'step': 22},\n",
       " {'loss': 0.4968,\n",
       "  'learning_rate': 5.934285714285715e-05,\n",
       "  'epoch': 1.1,\n",
       "  'step': 23},\n",
       " {'loss': 0.4154,\n",
       "  'learning_rate': 5.9314285714285715e-05,\n",
       "  'epoch': 1.14,\n",
       "  'step': 24},\n",
       " {'loss': 0.3986,\n",
       "  'learning_rate': 5.928571428571429e-05,\n",
       "  'epoch': 1.19,\n",
       "  'step': 25},\n",
       " {'loss': 0.412,\n",
       "  'learning_rate': 5.925714285714286e-05,\n",
       "  'epoch': 1.24,\n",
       "  'step': 26},\n",
       " {'loss': 0.3972,\n",
       "  'learning_rate': 5.922857142857143e-05,\n",
       "  'epoch': 1.29,\n",
       "  'step': 27},\n",
       " {'loss': 0.4155, 'learning_rate': 5.92e-05, 'epoch': 1.33, 'step': 28},\n",
       " {'loss': 0.347,\n",
       "  'learning_rate': 5.917142857142857e-05,\n",
       "  'epoch': 1.38,\n",
       "  'step': 29},\n",
       " {'loss': 0.3346,\n",
       "  'learning_rate': 5.914285714285715e-05,\n",
       "  'epoch': 1.43,\n",
       "  'step': 30},\n",
       " {'loss': 0.3278,\n",
       "  'learning_rate': 5.9114285714285717e-05,\n",
       "  'epoch': 1.48,\n",
       "  'step': 31},\n",
       " {'loss': 0.3748,\n",
       "  'learning_rate': 5.9085714285714283e-05,\n",
       "  'epoch': 1.52,\n",
       "  'step': 32},\n",
       " {'loss': 0.373,\n",
       "  'learning_rate': 5.9057142857142864e-05,\n",
       "  'epoch': 1.57,\n",
       "  'step': 33},\n",
       " {'loss': 0.3925,\n",
       "  'learning_rate': 5.902857142857143e-05,\n",
       "  'epoch': 1.62,\n",
       "  'step': 34},\n",
       " {'loss': 0.3017, 'learning_rate': 5.9e-05, 'epoch': 1.67, 'step': 35},\n",
       " {'loss': 0.3389,\n",
       "  'learning_rate': 5.897142857142857e-05,\n",
       "  'epoch': 1.71,\n",
       "  'step': 36},\n",
       " {'loss': 0.2747,\n",
       "  'learning_rate': 5.8942857142857145e-05,\n",
       "  'epoch': 1.76,\n",
       "  'step': 37},\n",
       " {'loss': 0.3283,\n",
       "  'learning_rate': 5.891428571428572e-05,\n",
       "  'epoch': 1.81,\n",
       "  'step': 38},\n",
       " {'loss': 0.2895,\n",
       "  'learning_rate': 5.8885714285714285e-05,\n",
       "  'epoch': 1.86,\n",
       "  'step': 39},\n",
       " {'loss': 0.2815,\n",
       "  'learning_rate': 5.885714285714286e-05,\n",
       "  'epoch': 1.9,\n",
       "  'step': 40},\n",
       " {'eval_loss': 0.48622527718544006,\n",
       "  'eval_mean_iou': 0.7336882201519398,\n",
       "  'eval_mean_accuracy': 0.9842485343311962,\n",
       "  'eval_overall_accuracy': 0.980099529863361,\n",
       "  'eval_per_category_iou': [0.9797152984990913, 0.4876611418047882],\n",
       "  'eval_per_category_accuracy': [0.9799341950987339, 0.9885628735636585],\n",
       "  'eval_runtime': 80.0199,\n",
       "  'eval_samples_per_second': 0.65,\n",
       "  'eval_steps_per_second': 0.137,\n",
       "  'epoch': 1.9,\n",
       "  'step': 40},\n",
       " {'loss': 0.2944,\n",
       "  'learning_rate': 5.882857142857143e-05,\n",
       "  'epoch': 1.95,\n",
       "  'step': 41},\n",
       " {'loss': 0.3324, 'learning_rate': 5.88e-05, 'epoch': 2.0, 'step': 42},\n",
       " {'loss': 0.3047,\n",
       "  'learning_rate': 5.877142857142857e-05,\n",
       "  'epoch': 2.05,\n",
       "  'step': 43},\n",
       " {'loss': 0.3033,\n",
       "  'learning_rate': 5.874285714285715e-05,\n",
       "  'epoch': 2.1,\n",
       "  'step': 44},\n",
       " {'loss': 0.277,\n",
       "  'learning_rate': 5.8714285714285714e-05,\n",
       "  'epoch': 2.14,\n",
       "  'step': 45},\n",
       " {'loss': 0.2681,\n",
       "  'learning_rate': 5.868571428571429e-05,\n",
       "  'epoch': 2.19,\n",
       "  'step': 46},\n",
       " {'loss': 0.2596,\n",
       "  'learning_rate': 5.865714285714286e-05,\n",
       "  'epoch': 2.24,\n",
       "  'step': 47},\n",
       " {'loss': 0.2814,\n",
       "  'learning_rate': 5.862857142857143e-05,\n",
       "  'epoch': 2.29,\n",
       "  'step': 48},\n",
       " {'loss': 0.2957, 'learning_rate': 5.86e-05, 'epoch': 2.33, 'step': 49},\n",
       " {'loss': 0.2586,\n",
       "  'learning_rate': 5.857142857142857e-05,\n",
       "  'epoch': 2.38,\n",
       "  'step': 50},\n",
       " {'loss': 0.2457,\n",
       "  'learning_rate': 5.854285714285715e-05,\n",
       "  'epoch': 2.43,\n",
       "  'step': 51},\n",
       " {'loss': 0.2757,\n",
       "  'learning_rate': 5.8514285714285716e-05,\n",
       "  'epoch': 2.48,\n",
       "  'step': 52},\n",
       " {'loss': 0.3241,\n",
       "  'learning_rate': 5.848571428571428e-05,\n",
       "  'epoch': 2.52,\n",
       "  'step': 53},\n",
       " {'loss': 0.2525,\n",
       "  'learning_rate': 5.845714285714286e-05,\n",
       "  'epoch': 2.57,\n",
       "  'step': 54},\n",
       " {'loss': 0.263,\n",
       "  'learning_rate': 5.842857142857143e-05,\n",
       "  'epoch': 2.62,\n",
       "  'step': 55},\n",
       " {'loss': 0.249, 'learning_rate': 5.84e-05, 'epoch': 2.67, 'step': 56},\n",
       " {'loss': 0.23,\n",
       "  'learning_rate': 5.837142857142857e-05,\n",
       "  'epoch': 2.71,\n",
       "  'step': 57},\n",
       " {'loss': 0.2345,\n",
       "  'learning_rate': 5.8342857142857144e-05,\n",
       "  'epoch': 2.76,\n",
       "  'step': 58},\n",
       " {'loss': 0.2274,\n",
       "  'learning_rate': 5.831428571428572e-05,\n",
       "  'epoch': 2.81,\n",
       "  'step': 59},\n",
       " {'loss': 0.2434,\n",
       "  'learning_rate': 5.8285714285714284e-05,\n",
       "  'epoch': 2.86,\n",
       "  'step': 60},\n",
       " {'eval_loss': 0.21358658373355865,\n",
       "  'eval_mean_iou': 0.8495180171479861,\n",
       "  'eval_mean_accuracy': 0.9687688822607952,\n",
       "  'eval_overall_accuracy': 0.9924915334319387,\n",
       "  'eval_per_category_iou': [0.9923532029559954, 0.7066828313399769],\n",
       "  'eval_per_category_accuracy': [0.9934368635654971, 0.9441009009560932],\n",
       "  'eval_runtime': 78.1121,\n",
       "  'eval_samples_per_second': 0.666,\n",
       "  'eval_steps_per_second': 0.141,\n",
       "  'epoch': 2.86,\n",
       "  'step': 60},\n",
       " {'loss': 0.2543,\n",
       "  'learning_rate': 5.825714285714286e-05,\n",
       "  'epoch': 2.9,\n",
       "  'step': 61},\n",
       " {'loss': 0.2326,\n",
       "  'learning_rate': 5.822857142857143e-05,\n",
       "  'epoch': 2.95,\n",
       "  'step': 62},\n",
       " {'loss': 0.2081, 'learning_rate': 5.82e-05, 'epoch': 3.0, 'step': 63},\n",
       " {'loss': 0.241,\n",
       "  'learning_rate': 5.817142857142857e-05,\n",
       "  'epoch': 3.05,\n",
       "  'step': 64},\n",
       " {'loss': 0.2205,\n",
       "  'learning_rate': 5.8142857142857146e-05,\n",
       "  'epoch': 3.1,\n",
       "  'step': 65},\n",
       " {'loss': 0.1992,\n",
       "  'learning_rate': 5.811428571428571e-05,\n",
       "  'epoch': 3.14,\n",
       "  'step': 66},\n",
       " {'loss': 0.2024,\n",
       "  'learning_rate': 5.8085714285714286e-05,\n",
       "  'epoch': 3.19,\n",
       "  'step': 67},\n",
       " {'loss': 0.2006,\n",
       "  'learning_rate': 5.805714285714286e-05,\n",
       "  'epoch': 3.24,\n",
       "  'step': 68},\n",
       " {'loss': 0.2426,\n",
       "  'learning_rate': 5.8028571428571433e-05,\n",
       "  'epoch': 3.29,\n",
       "  'step': 69},\n",
       " {'loss': 0.2081, 'learning_rate': 5.8e-05, 'epoch': 3.33, 'step': 70},\n",
       " {'loss': 0.2236,\n",
       "  'learning_rate': 5.7971428571428574e-05,\n",
       "  'epoch': 3.38,\n",
       "  'step': 71},\n",
       " {'loss': 0.1782,\n",
       "  'learning_rate': 5.794285714285715e-05,\n",
       "  'epoch': 3.43,\n",
       "  'step': 72},\n",
       " {'loss': 0.2061,\n",
       "  'learning_rate': 5.7914285714285714e-05,\n",
       "  'epoch': 3.48,\n",
       "  'step': 73},\n",
       " {'loss': 0.1957,\n",
       "  'learning_rate': 5.788571428571428e-05,\n",
       "  'epoch': 3.52,\n",
       "  'step': 74},\n",
       " {'loss': 0.2013,\n",
       "  'learning_rate': 5.785714285714286e-05,\n",
       "  'epoch': 3.57,\n",
       "  'step': 75},\n",
       " {'loss': 0.2286,\n",
       "  'learning_rate': 5.782857142857143e-05,\n",
       "  'epoch': 3.62,\n",
       "  'step': 76},\n",
       " {'loss': 0.1933, 'learning_rate': 5.78e-05, 'epoch': 3.67, 'step': 77},\n",
       " {'loss': 0.1939,\n",
       "  'learning_rate': 5.7771428571428576e-05,\n",
       "  'epoch': 3.71,\n",
       "  'step': 78},\n",
       " {'loss': 0.2126,\n",
       "  'learning_rate': 5.774285714285714e-05,\n",
       "  'epoch': 3.76,\n",
       "  'step': 79},\n",
       " {'loss': 0.2078,\n",
       "  'learning_rate': 5.7714285714285716e-05,\n",
       "  'epoch': 3.81,\n",
       "  'step': 80},\n",
       " {'eval_loss': 0.269015371799469,\n",
       "  'eval_mean_iou': 0.8561760316445595,\n",
       "  'eval_mean_accuracy': 0.9766403321055664,\n",
       "  'eval_overall_accuracy': 0.9928356253228154,\n",
       "  'eval_per_category_iou': [0.9927013982378299, 0.7196506650512892],\n",
       "  'eval_per_category_accuracy': [0.9934809957997333, 0.9597996684113996],\n",
       "  'eval_runtime': 76.6313,\n",
       "  'eval_samples_per_second': 0.679,\n",
       "  'eval_steps_per_second': 0.144,\n",
       "  'epoch': 3.81,\n",
       "  'step': 80},\n",
       " {'loss': 0.1897,\n",
       "  'learning_rate': 5.768571428571428e-05,\n",
       "  'epoch': 3.86,\n",
       "  'step': 81},\n",
       " {'loss': 0.307,\n",
       "  'learning_rate': 5.7657142857142864e-05,\n",
       "  'epoch': 3.9,\n",
       "  'step': 82},\n",
       " {'loss': 0.2147,\n",
       "  'learning_rate': 5.762857142857143e-05,\n",
       "  'epoch': 3.95,\n",
       "  'step': 83},\n",
       " {'loss': 0.1799, 'learning_rate': 5.76e-05, 'epoch': 4.0, 'step': 84},\n",
       " {'loss': 0.1866,\n",
       "  'learning_rate': 5.757142857142858e-05,\n",
       "  'epoch': 4.05,\n",
       "  'step': 85},\n",
       " {'loss': 0.1883,\n",
       "  'learning_rate': 5.7542857142857145e-05,\n",
       "  'epoch': 4.1,\n",
       "  'step': 86},\n",
       " {'loss': 0.1761,\n",
       "  'learning_rate': 5.751428571428571e-05,\n",
       "  'epoch': 4.14,\n",
       "  'step': 87},\n",
       " {'loss': 0.1782,\n",
       "  'learning_rate': 5.7485714285714285e-05,\n",
       "  'epoch': 4.19,\n",
       "  'step': 88},\n",
       " {'loss': 0.1846,\n",
       "  'learning_rate': 5.745714285714286e-05,\n",
       "  'epoch': 4.24,\n",
       "  'step': 89},\n",
       " {'loss': 0.1697,\n",
       "  'learning_rate': 5.742857142857143e-05,\n",
       "  'epoch': 4.29,\n",
       "  'step': 90},\n",
       " {'loss': 0.1642, 'learning_rate': 5.74e-05, 'epoch': 4.33, 'step': 91},\n",
       " {'loss': 0.1863,\n",
       "  'learning_rate': 5.737142857142857e-05,\n",
       "  'epoch': 4.38,\n",
       "  'step': 92},\n",
       " {'loss': 0.1986,\n",
       "  'learning_rate': 5.7342857142857147e-05,\n",
       "  'epoch': 4.43,\n",
       "  'step': 93},\n",
       " {'loss': 0.1856,\n",
       "  'learning_rate': 5.7314285714285713e-05,\n",
       "  'epoch': 4.48,\n",
       "  'step': 94},\n",
       " {'loss': 0.1782,\n",
       "  'learning_rate': 5.728571428571429e-05,\n",
       "  'epoch': 4.52,\n",
       "  'step': 95},\n",
       " {'loss': 0.1721,\n",
       "  'learning_rate': 5.725714285714286e-05,\n",
       "  'epoch': 4.57,\n",
       "  'step': 96},\n",
       " {'loss': 0.1547,\n",
       "  'learning_rate': 5.722857142857143e-05,\n",
       "  'epoch': 4.62,\n",
       "  'step': 97},\n",
       " {'loss': 0.1698, 'learning_rate': 5.72e-05, 'epoch': 4.67, 'step': 98},\n",
       " {'loss': 0.1705,\n",
       "  'learning_rate': 5.7171428571428575e-05,\n",
       "  'epoch': 4.71,\n",
       "  'step': 99},\n",
       " {'loss': 0.207,\n",
       "  'learning_rate': 5.714285714285714e-05,\n",
       "  'epoch': 4.76,\n",
       "  'step': 100},\n",
       " {'eval_loss': 0.14042912423610687,\n",
       "  'eval_mean_iou': 0.8957092540271054,\n",
       "  'eval_mean_accuracy': 0.9628872500071797,\n",
       "  'eval_overall_accuracy': 0.9954395718880593,\n",
       "  'eval_per_category_iou': [0.9953569187132483, 0.7960615893409626],\n",
       "  'eval_per_category_accuracy': [0.9967367578800161, 0.9290377421343432],\n",
       "  'eval_runtime': 78.6655,\n",
       "  'eval_samples_per_second': 0.661,\n",
       "  'eval_steps_per_second': 0.14,\n",
       "  'epoch': 4.76,\n",
       "  'step': 100},\n",
       " {'loss': 0.1532,\n",
       "  'learning_rate': 5.7114285714285715e-05,\n",
       "  'epoch': 4.81,\n",
       "  'step': 101},\n",
       " {'loss': 0.1673,\n",
       "  'learning_rate': 5.708571428571428e-05,\n",
       "  'epoch': 4.86,\n",
       "  'step': 102},\n",
       " {'loss': 0.1585,\n",
       "  'learning_rate': 5.705714285714286e-05,\n",
       "  'epoch': 4.9,\n",
       "  'step': 103},\n",
       " {'loss': 0.1395,\n",
       "  'learning_rate': 5.702857142857143e-05,\n",
       "  'epoch': 4.95,\n",
       "  'step': 104},\n",
       " {'loss': 0.1765,\n",
       "  'learning_rate': 5.6999999999999996e-05,\n",
       "  'epoch': 5.0,\n",
       "  'step': 105},\n",
       " {'loss': 0.1438,\n",
       "  'learning_rate': 5.697142857142858e-05,\n",
       "  'epoch': 5.05,\n",
       "  'step': 106},\n",
       " {'loss': 0.1778,\n",
       "  'learning_rate': 5.6942857142857144e-05,\n",
       "  'epoch': 5.1,\n",
       "  'step': 107},\n",
       " {'loss': 0.1425,\n",
       "  'learning_rate': 5.691428571428572e-05,\n",
       "  'epoch': 5.14,\n",
       "  'step': 108},\n",
       " {'loss': 0.1626,\n",
       "  'learning_rate': 5.688571428571429e-05,\n",
       "  'epoch': 5.19,\n",
       "  'step': 109},\n",
       " {'loss': 0.1523,\n",
       "  'learning_rate': 5.685714285714286e-05,\n",
       "  'epoch': 5.24,\n",
       "  'step': 110},\n",
       " {'loss': 0.1508,\n",
       "  'learning_rate': 5.682857142857143e-05,\n",
       "  'epoch': 5.29,\n",
       "  'step': 111},\n",
       " {'loss': 0.1402, 'learning_rate': 5.68e-05, 'epoch': 5.33, 'step': 112},\n",
       " {'loss': 0.1567,\n",
       "  'learning_rate': 5.677142857142857e-05,\n",
       "  'epoch': 5.38,\n",
       "  'step': 113},\n",
       " {'loss': 0.1526,\n",
       "  'learning_rate': 5.6742857142857146e-05,\n",
       "  'epoch': 5.43,\n",
       "  'step': 114},\n",
       " {'loss': 0.1429,\n",
       "  'learning_rate': 5.671428571428571e-05,\n",
       "  'epoch': 5.48,\n",
       "  'step': 115},\n",
       " {'loss': 0.1442,\n",
       "  'learning_rate': 5.668571428571429e-05,\n",
       "  'epoch': 5.52,\n",
       "  'step': 116},\n",
       " {'loss': 0.1306,\n",
       "  'learning_rate': 5.665714285714286e-05,\n",
       "  'epoch': 5.57,\n",
       "  'step': 117},\n",
       " {'loss': 0.1336,\n",
       "  'learning_rate': 5.6628571428571427e-05,\n",
       "  'epoch': 5.62,\n",
       "  'step': 118},\n",
       " {'loss': 0.1456, 'learning_rate': 5.66e-05, 'epoch': 5.67, 'step': 119},\n",
       " {'loss': 0.1548,\n",
       "  'learning_rate': 5.6571428571428574e-05,\n",
       "  'epoch': 5.71,\n",
       "  'step': 120},\n",
       " {'eval_loss': 0.12579645216464996,\n",
       "  'eval_mean_iou': 0.8907797783412434,\n",
       "  'eval_mean_accuracy': 0.9696627211860793,\n",
       "  'eval_overall_accuracy': 0.9950955533643236,\n",
       "  'eval_per_category_iou': [0.9950052836489762, 0.7865542730335106],\n",
       "  'eval_per_category_accuracy': [0.9961090329483033, 0.9432164094238552],\n",
       "  'eval_runtime': 78.935,\n",
       "  'eval_samples_per_second': 0.659,\n",
       "  'eval_steps_per_second': 0.139,\n",
       "  'epoch': 5.71,\n",
       "  'step': 120},\n",
       " {'loss': 0.1408,\n",
       "  'learning_rate': 5.654285714285715e-05,\n",
       "  'epoch': 5.76,\n",
       "  'step': 121},\n",
       " {'loss': 0.139,\n",
       "  'learning_rate': 5.6514285714285714e-05,\n",
       "  'epoch': 5.81,\n",
       "  'step': 122},\n",
       " {'loss': 0.1349,\n",
       "  'learning_rate': 5.648571428571429e-05,\n",
       "  'epoch': 5.86,\n",
       "  'step': 123},\n",
       " {'loss': 0.1164,\n",
       "  'learning_rate': 5.645714285714286e-05,\n",
       "  'epoch': 5.9,\n",
       "  'step': 124},\n",
       " {'loss': 0.1264,\n",
       "  'learning_rate': 5.642857142857143e-05,\n",
       "  'epoch': 5.95,\n",
       "  'step': 125},\n",
       " {'loss': 0.1357,\n",
       "  'learning_rate': 5.6399999999999995e-05,\n",
       "  'epoch': 6.0,\n",
       "  'step': 126},\n",
       " {'loss': 0.1287,\n",
       "  'learning_rate': 5.6371428571428576e-05,\n",
       "  'epoch': 6.05,\n",
       "  'step': 127},\n",
       " {'loss': 0.1483,\n",
       "  'learning_rate': 5.634285714285714e-05,\n",
       "  'epoch': 6.1,\n",
       "  'step': 128},\n",
       " {'loss': 0.1197,\n",
       "  'learning_rate': 5.6314285714285716e-05,\n",
       "  'epoch': 6.14,\n",
       "  'step': 129},\n",
       " {'loss': 0.1511,\n",
       "  'learning_rate': 5.628571428571429e-05,\n",
       "  'epoch': 6.19,\n",
       "  'step': 130},\n",
       " {'loss': 0.1163,\n",
       "  'learning_rate': 5.625714285714286e-05,\n",
       "  'epoch': 6.24,\n",
       "  'step': 131},\n",
       " {'loss': 0.125,\n",
       "  'learning_rate': 5.622857142857143e-05,\n",
       "  'epoch': 6.29,\n",
       "  'step': 132},\n",
       " {'loss': 0.1442, 'learning_rate': 5.62e-05, 'epoch': 6.33, 'step': 133},\n",
       " {'loss': 0.1363,\n",
       "  'learning_rate': 5.617142857142858e-05,\n",
       "  'epoch': 6.38,\n",
       "  'step': 134},\n",
       " {'loss': 0.1477,\n",
       "  'learning_rate': 5.6142857142857145e-05,\n",
       "  'epoch': 6.43,\n",
       "  'step': 135},\n",
       " {'loss': 0.1432,\n",
       "  'learning_rate': 5.611428571428571e-05,\n",
       "  'epoch': 6.48,\n",
       "  'step': 136},\n",
       " {'loss': 0.1231,\n",
       "  'learning_rate': 5.608571428571429e-05,\n",
       "  'epoch': 6.52,\n",
       "  'step': 137},\n",
       " {'loss': 0.1273,\n",
       "  'learning_rate': 5.605714285714286e-05,\n",
       "  'epoch': 6.57,\n",
       "  'step': 138},\n",
       " {'loss': 0.1325,\n",
       "  'learning_rate': 5.6028571428571426e-05,\n",
       "  'epoch': 6.62,\n",
       "  'step': 139},\n",
       " {'loss': 0.1193, 'learning_rate': 5.6e-05, 'epoch': 6.67, 'step': 140},\n",
       " {'eval_loss': 0.12075065076351166,\n",
       "  'eval_mean_iou': 0.9097763514751521,\n",
       "  'eval_mean_accuracy': 0.9712723770608139,\n",
       "  'eval_overall_accuracy': 0.996117484270085,\n",
       "  'eval_per_category_iou': [0.9960458525387459, 0.8235068504115584],\n",
       "  'eval_per_category_accuracy': [0.9971075434479976, 0.9454372106736303],\n",
       "  'eval_runtime': 78.554,\n",
       "  'eval_samples_per_second': 0.662,\n",
       "  'eval_steps_per_second': 0.14,\n",
       "  'epoch': 6.67,\n",
       "  'step': 140},\n",
       " {'loss': 0.1158,\n",
       "  'learning_rate': 5.597142857142857e-05,\n",
       "  'epoch': 6.71,\n",
       "  'step': 141},\n",
       " {'loss': 0.1346,\n",
       "  'learning_rate': 5.5942857142857146e-05,\n",
       "  'epoch': 6.76,\n",
       "  'step': 142},\n",
       " {'loss': 0.1544,\n",
       "  'learning_rate': 5.591428571428571e-05,\n",
       "  'epoch': 6.81,\n",
       "  'step': 143},\n",
       " {'loss': 0.1153,\n",
       "  'learning_rate': 5.588571428571429e-05,\n",
       "  'epoch': 6.86,\n",
       "  'step': 144},\n",
       " {'loss': 0.1128,\n",
       "  'learning_rate': 5.585714285714286e-05,\n",
       "  'epoch': 6.9,\n",
       "  'step': 145},\n",
       " {'loss': 0.1133,\n",
       "  'learning_rate': 5.582857142857143e-05,\n",
       "  'epoch': 6.95,\n",
       "  'step': 146},\n",
       " {'loss': 0.1075, 'learning_rate': 5.58e-05, 'epoch': 7.0, 'step': 147},\n",
       " {'loss': 0.109,\n",
       "  'learning_rate': 5.5771428571428575e-05,\n",
       "  'epoch': 7.05,\n",
       "  'step': 148},\n",
       " {'loss': 0.1097,\n",
       "  'learning_rate': 5.574285714285714e-05,\n",
       "  'epoch': 7.1,\n",
       "  'step': 149},\n",
       " {'loss': 0.1142,\n",
       "  'learning_rate': 5.5714285714285715e-05,\n",
       "  'epoch': 7.14,\n",
       "  'step': 150},\n",
       " {'loss': 0.1277,\n",
       "  'learning_rate': 5.568571428571429e-05,\n",
       "  'epoch': 7.19,\n",
       "  'step': 151},\n",
       " {'loss': 0.1073,\n",
       "  'learning_rate': 5.5657142857142856e-05,\n",
       "  'epoch': 7.24,\n",
       "  'step': 152},\n",
       " {'loss': 0.0978,\n",
       "  'learning_rate': 5.562857142857143e-05,\n",
       "  'epoch': 7.29,\n",
       "  'step': 153},\n",
       " {'loss': 0.1059, 'learning_rate': 5.56e-05, 'epoch': 7.33, 'step': 154},\n",
       " {'loss': 0.1393,\n",
       "  'learning_rate': 5.557142857142858e-05,\n",
       "  'epoch': 7.38,\n",
       "  'step': 155},\n",
       " {'loss': 0.1201,\n",
       "  'learning_rate': 5.5542857142857143e-05,\n",
       "  'epoch': 7.43,\n",
       "  'step': 156},\n",
       " {'loss': 0.143,\n",
       "  'learning_rate': 5.551428571428571e-05,\n",
       "  'epoch': 7.48,\n",
       "  'step': 157},\n",
       " {'loss': 0.1051,\n",
       "  'learning_rate': 5.548571428571429e-05,\n",
       "  'epoch': 7.52,\n",
       "  'step': 158},\n",
       " {'loss': 0.112,\n",
       "  'learning_rate': 5.545714285714286e-05,\n",
       "  'epoch': 7.57,\n",
       "  'step': 159},\n",
       " {'loss': 0.1044,\n",
       "  'learning_rate': 5.542857142857143e-05,\n",
       "  'epoch': 7.62,\n",
       "  'step': 160},\n",
       " {'eval_loss': 0.08657090365886688,\n",
       "  'eval_mean_iou': 0.912101317711005,\n",
       "  'eval_mean_accuracy': 0.9701259793823384,\n",
       "  'eval_overall_accuracy': 0.996247344109499,\n",
       "  'eval_per_category_iou': [0.9961782927416254, 0.8280243426803846],\n",
       "  'eval_per_category_accuracy': [0.9972882612071752, 0.9429636975575015],\n",
       "  'eval_runtime': 80.4919,\n",
       "  'eval_samples_per_second': 0.646,\n",
       "  'eval_steps_per_second': 0.137,\n",
       "  'epoch': 7.62,\n",
       "  'step': 160},\n",
       " {'loss': 0.1164,\n",
       "  'learning_rate': 5.5400000000000005e-05,\n",
       "  'epoch': 7.67,\n",
       "  'step': 161},\n",
       " {'loss': 0.1076,\n",
       "  'learning_rate': 5.537142857142857e-05,\n",
       "  'epoch': 7.71,\n",
       "  'step': 162},\n",
       " {'loss': 0.0923,\n",
       "  'learning_rate': 5.5342857142857145e-05,\n",
       "  'epoch': 7.76,\n",
       "  'step': 163},\n",
       " {'loss': 0.0896,\n",
       "  'learning_rate': 5.531428571428571e-05,\n",
       "  'epoch': 7.81,\n",
       "  'step': 164},\n",
       " {'loss': 0.1107,\n",
       "  'learning_rate': 5.5285714285714286e-05,\n",
       "  'epoch': 7.86,\n",
       "  'step': 165},\n",
       " {'loss': 0.1481,\n",
       "  'learning_rate': 5.525714285714286e-05,\n",
       "  'epoch': 7.9,\n",
       "  'step': 166},\n",
       " {'loss': 0.103,\n",
       "  'learning_rate': 5.5228571428571426e-05,\n",
       "  'epoch': 7.95,\n",
       "  'step': 167},\n",
       " {'loss': 0.0983,\n",
       "  'learning_rate': 5.520000000000001e-05,\n",
       "  'epoch': 8.0,\n",
       "  'step': 168},\n",
       " {'loss': 0.0952,\n",
       "  'learning_rate': 5.5171428571428574e-05,\n",
       "  'epoch': 8.05,\n",
       "  'step': 169},\n",
       " {'loss': 0.1033,\n",
       "  'learning_rate': 5.514285714285714e-05,\n",
       "  'epoch': 8.1,\n",
       "  'step': 170},\n",
       " {'loss': 0.1031,\n",
       "  'learning_rate': 5.5114285714285714e-05,\n",
       "  'epoch': 8.14,\n",
       "  'step': 171},\n",
       " {'loss': 0.1125,\n",
       "  'learning_rate': 5.508571428571429e-05,\n",
       "  'epoch': 8.19,\n",
       "  'step': 172},\n",
       " {'loss': 0.0938,\n",
       "  'learning_rate': 5.505714285714286e-05,\n",
       "  'epoch': 8.24,\n",
       "  'step': 173},\n",
       " {'loss': 0.0924,\n",
       "  'learning_rate': 5.502857142857143e-05,\n",
       "  'epoch': 8.29,\n",
       "  'step': 174},\n",
       " {'loss': 0.0809, 'learning_rate': 5.5e-05, 'epoch': 8.33, 'step': 175},\n",
       " {'loss': 0.0846,\n",
       "  'learning_rate': 5.4971428571428576e-05,\n",
       "  'epoch': 8.38,\n",
       "  'step': 176},\n",
       " {'loss': 0.0907,\n",
       "  'learning_rate': 5.494285714285714e-05,\n",
       "  'epoch': 8.43,\n",
       "  'step': 177},\n",
       " {'loss': 0.0895,\n",
       "  'learning_rate': 5.491428571428571e-05,\n",
       "  'epoch': 8.48,\n",
       "  'step': 178},\n",
       " {'loss': 0.101,\n",
       "  'learning_rate': 5.488571428571429e-05,\n",
       "  'epoch': 8.52,\n",
       "  'step': 179},\n",
       " {'loss': 0.0872,\n",
       "  'learning_rate': 5.4857142857142857e-05,\n",
       "  'epoch': 8.57,\n",
       "  'step': 180},\n",
       " {'eval_loss': 0.059239260852336884,\n",
       "  'eval_mean_iou': 0.9189829083266465,\n",
       "  'eval_mean_accuracy': 0.9624389925807797,\n",
       "  'eval_overall_accuracy': 0.9966517437902052,\n",
       "  'eval_per_category_iou': [0.9965912046402102, 0.841374612013083],\n",
       "  'eval_per_category_accuracy': [0.998015096664927, 0.9268628884966325],\n",
       "  'eval_runtime': 81.9271,\n",
       "  'eval_samples_per_second': 0.635,\n",
       "  'eval_steps_per_second': 0.134,\n",
       "  'epoch': 8.57,\n",
       "  'step': 180},\n",
       " {'loss': 0.0912,\n",
       "  'learning_rate': 5.482857142857143e-05,\n",
       "  'epoch': 8.62,\n",
       "  'step': 181},\n",
       " {'loss': 0.0814,\n",
       "  'learning_rate': 5.4800000000000004e-05,\n",
       "  'epoch': 8.67,\n",
       "  'step': 182},\n",
       " {'loss': 0.0838,\n",
       "  'learning_rate': 5.477142857142857e-05,\n",
       "  'epoch': 8.71,\n",
       "  'step': 183},\n",
       " {'loss': 0.0908,\n",
       "  'learning_rate': 5.4742857142857144e-05,\n",
       "  'epoch': 8.76,\n",
       "  'step': 184},\n",
       " {'loss': 0.1024,\n",
       "  'learning_rate': 5.471428571428571e-05,\n",
       "  'epoch': 8.81,\n",
       "  'step': 185},\n",
       " {'loss': 0.0878,\n",
       "  'learning_rate': 5.468571428571429e-05,\n",
       "  'epoch': 8.86,\n",
       "  'step': 186},\n",
       " {'loss': 0.0931,\n",
       "  'learning_rate': 5.465714285714286e-05,\n",
       "  'epoch': 8.9,\n",
       "  'step': 187},\n",
       " {'loss': 0.0941,\n",
       "  'learning_rate': 5.4628571428571425e-05,\n",
       "  'epoch': 8.95,\n",
       "  'step': 188},\n",
       " {'loss': 0.0812,\n",
       "  'learning_rate': 5.4600000000000006e-05,\n",
       "  'epoch': 9.0,\n",
       "  'step': 189},\n",
       " {'loss': 0.0795,\n",
       "  'learning_rate': 5.457142857142857e-05,\n",
       "  'epoch': 9.05,\n",
       "  'step': 190},\n",
       " {'loss': 0.0891,\n",
       "  'learning_rate': 5.454285714285714e-05,\n",
       "  'epoch': 9.1,\n",
       "  'step': 191},\n",
       " {'loss': 0.0793,\n",
       "  'learning_rate': 5.451428571428571e-05,\n",
       "  'epoch': 9.14,\n",
       "  'step': 192},\n",
       " {'loss': 0.0852,\n",
       "  'learning_rate': 5.448571428571429e-05,\n",
       "  'epoch': 9.19,\n",
       "  'step': 193},\n",
       " {'loss': 0.1275,\n",
       "  'learning_rate': 5.445714285714286e-05,\n",
       "  'epoch': 9.24,\n",
       "  'step': 194},\n",
       " {'loss': 0.0827,\n",
       "  'learning_rate': 5.442857142857143e-05,\n",
       "  'epoch': 9.29,\n",
       "  'step': 195},\n",
       " {'loss': 0.0803, 'learning_rate': 5.44e-05, 'epoch': 9.33, 'step': 196},\n",
       " {'loss': 0.101,\n",
       "  'learning_rate': 5.4371428571428575e-05,\n",
       "  'epoch': 9.38,\n",
       "  'step': 197},\n",
       " {'loss': 0.0991,\n",
       "  'learning_rate': 5.434285714285714e-05,\n",
       "  'epoch': 9.43,\n",
       "  'step': 198},\n",
       " {'loss': 0.0817,\n",
       "  'learning_rate': 5.431428571428572e-05,\n",
       "  'epoch': 9.48,\n",
       "  'step': 199},\n",
       " {'loss': 0.1069,\n",
       "  'learning_rate': 5.428571428571429e-05,\n",
       "  'epoch': 9.52,\n",
       "  'step': 200},\n",
       " {'eval_loss': 0.10796001553535461,\n",
       "  'eval_mean_iou': 0.9127377909427064,\n",
       "  'eval_mean_accuracy': 0.9864323888578859,\n",
       "  'eval_overall_accuracy': 0.9961519668263136,\n",
       "  'eval_per_category_iou': [0.9960786075853213, 0.8293969743000914],\n",
       "  'eval_per_category_accuracy': [0.9965392848319081, 0.9763254928838636],\n",
       "  'eval_runtime': 79.5041,\n",
       "  'eval_samples_per_second': 0.654,\n",
       "  'eval_steps_per_second': 0.138,\n",
       "  'epoch': 9.52,\n",
       "  'step': 200},\n",
       " {'loss': 0.0866,\n",
       "  'learning_rate': 5.4257142857142856e-05,\n",
       "  'epoch': 9.57,\n",
       "  'step': 201},\n",
       " {'loss': 0.0922,\n",
       "  'learning_rate': 5.422857142857143e-05,\n",
       "  'epoch': 9.62,\n",
       "  'step': 202},\n",
       " {'loss': 0.0899, 'learning_rate': 5.42e-05, 'epoch': 9.67, 'step': 203},\n",
       " {'loss': 0.0883,\n",
       "  'learning_rate': 5.417142857142857e-05,\n",
       "  'epoch': 9.71,\n",
       "  'step': 204},\n",
       " {'loss': 0.0712,\n",
       "  'learning_rate': 5.414285714285714e-05,\n",
       "  'epoch': 9.76,\n",
       "  'step': 205},\n",
       " {'loss': 0.0746,\n",
       "  'learning_rate': 5.411428571428572e-05,\n",
       "  'epoch': 9.81,\n",
       "  'step': 206},\n",
       " {'loss': 0.0807,\n",
       "  'learning_rate': 5.408571428571429e-05,\n",
       "  'epoch': 9.86,\n",
       "  'step': 207},\n",
       " {'loss': 0.0927,\n",
       "  'learning_rate': 5.405714285714286e-05,\n",
       "  'epoch': 9.9,\n",
       "  'step': 208},\n",
       " {'loss': 0.0965,\n",
       "  'learning_rate': 5.4028571428571424e-05,\n",
       "  'epoch': 9.95,\n",
       "  'step': 209},\n",
       " {'loss': 0.069,\n",
       "  'learning_rate': 5.4000000000000005e-05,\n",
       "  'epoch': 10.0,\n",
       "  'step': 210},\n",
       " {'loss': 0.0736,\n",
       "  'learning_rate': 5.397142857142857e-05,\n",
       "  'epoch': 10.05,\n",
       "  'step': 211},\n",
       " {'loss': 0.0831,\n",
       "  'learning_rate': 5.3942857142857145e-05,\n",
       "  'epoch': 10.1,\n",
       "  'step': 212},\n",
       " {'loss': 0.1003,\n",
       "  'learning_rate': 5.391428571428572e-05,\n",
       "  'epoch': 10.14,\n",
       "  'step': 213},\n",
       " {'loss': 0.0722,\n",
       "  'learning_rate': 5.3885714285714286e-05,\n",
       "  'epoch': 10.19,\n",
       "  'step': 214},\n",
       " {'loss': 0.0911,\n",
       "  'learning_rate': 5.385714285714286e-05,\n",
       "  'epoch': 10.24,\n",
       "  'step': 215},\n",
       " {'loss': 0.079,\n",
       "  'learning_rate': 5.3828571428571426e-05,\n",
       "  'epoch': 10.29,\n",
       "  'step': 216},\n",
       " {'loss': 0.0854, 'learning_rate': 5.38e-05, 'epoch': 10.33, 'step': 217},\n",
       " {'loss': 0.0828,\n",
       "  'learning_rate': 5.3771428571428574e-05,\n",
       "  'epoch': 10.38,\n",
       "  'step': 218},\n",
       " {'loss': 0.0765,\n",
       "  'learning_rate': 5.374285714285714e-05,\n",
       "  'epoch': 10.43,\n",
       "  'step': 219},\n",
       " {'loss': 0.0898,\n",
       "  'learning_rate': 5.371428571428572e-05,\n",
       "  'epoch': 10.48,\n",
       "  'step': 220},\n",
       " {'eval_loss': 0.07735849916934967,\n",
       "  'eval_mean_iou': 0.921613331824578,\n",
       "  'eval_mean_accuracy': 0.9737663452971971,\n",
       "  'eval_overall_accuracy': 0.9967016334460252,\n",
       "  'eval_per_category_iou': [0.9966404854643102, 0.8465861781848459],\n",
       "  'eval_per_category_accuracy': [0.9976155877444935, 0.9499171028499006],\n",
       "  'eval_runtime': 80.962,\n",
       "  'eval_samples_per_second': 0.642,\n",
       "  'eval_steps_per_second': 0.136,\n",
       "  'epoch': 10.48,\n",
       "  'step': 220},\n",
       " {'loss': 0.0853,\n",
       "  'learning_rate': 5.368571428571429e-05,\n",
       "  'epoch': 10.52,\n",
       "  'step': 221},\n",
       " {'loss': 0.0816,\n",
       "  'learning_rate': 5.3657142857142855e-05,\n",
       "  'epoch': 10.57,\n",
       "  'step': 222},\n",
       " {'loss': 0.077,\n",
       "  'learning_rate': 5.362857142857143e-05,\n",
       "  'epoch': 10.62,\n",
       "  'step': 223},\n",
       " {'loss': 0.0659, 'learning_rate': 5.36e-05, 'epoch': 10.67, 'step': 224},\n",
       " {'loss': 0.0751,\n",
       "  'learning_rate': 5.3571428571428575e-05,\n",
       "  'epoch': 10.71,\n",
       "  'step': 225},\n",
       " {'loss': 0.074,\n",
       "  'learning_rate': 5.354285714285714e-05,\n",
       "  'epoch': 10.76,\n",
       "  'step': 226},\n",
       " {'loss': 0.0825,\n",
       "  'learning_rate': 5.3514285714285716e-05,\n",
       "  'epoch': 10.81,\n",
       "  'step': 227},\n",
       " {'loss': 0.0653,\n",
       "  'learning_rate': 5.348571428571429e-05,\n",
       "  'epoch': 10.86,\n",
       "  'step': 228},\n",
       " {'loss': 0.1062,\n",
       "  'learning_rate': 5.3457142857142856e-05,\n",
       "  'epoch': 10.9,\n",
       "  'step': 229},\n",
       " {'loss': 0.0774,\n",
       "  'learning_rate': 5.342857142857142e-05,\n",
       "  'epoch': 10.95,\n",
       "  'step': 230},\n",
       " {'loss': 0.0619,\n",
       "  'learning_rate': 5.3400000000000004e-05,\n",
       "  'epoch': 11.0,\n",
       "  'step': 231},\n",
       " {'loss': 0.0597,\n",
       "  'learning_rate': 5.337142857142857e-05,\n",
       "  'epoch': 11.05,\n",
       "  'step': 232},\n",
       " {'loss': 0.0701,\n",
       "  'learning_rate': 5.3342857142857144e-05,\n",
       "  'epoch': 11.1,\n",
       "  'step': 233},\n",
       " {'loss': 0.0728,\n",
       "  'learning_rate': 5.331428571428572e-05,\n",
       "  'epoch': 11.14,\n",
       "  'step': 234},\n",
       " {'loss': 0.0709,\n",
       "  'learning_rate': 5.3285714285714285e-05,\n",
       "  'epoch': 11.19,\n",
       "  'step': 235},\n",
       " {'loss': 0.0892,\n",
       "  'learning_rate': 5.325714285714286e-05,\n",
       "  'epoch': 11.24,\n",
       "  'step': 236},\n",
       " {'loss': 0.0655,\n",
       "  'learning_rate': 5.322857142857143e-05,\n",
       "  'epoch': 11.29,\n",
       "  'step': 237},\n",
       " {'loss': 0.104,\n",
       "  'learning_rate': 5.3200000000000006e-05,\n",
       "  'epoch': 11.33,\n",
       "  'step': 238},\n",
       " {'loss': 0.075,\n",
       "  'learning_rate': 5.317142857142857e-05,\n",
       "  'epoch': 11.38,\n",
       "  'step': 239},\n",
       " {'loss': 0.0625,\n",
       "  'learning_rate': 5.314285714285714e-05,\n",
       "  'epoch': 11.43,\n",
       "  'step': 240},\n",
       " {'eval_loss': 0.05498785525560379,\n",
       "  'eval_mean_iou': 0.9077829715742993,\n",
       "  'eval_mean_accuracy': 0.9868653895531887,\n",
       "  'eval_overall_accuracy': 0.9958819757477579,\n",
       "  'eval_per_category_iou': [0.9958033739889188, 0.8197625691596798],\n",
       "  'eval_per_category_accuracy': [0.996241280050218, 0.9774894990561594],\n",
       "  'eval_runtime': 80.7972,\n",
       "  'eval_samples_per_second': 0.644,\n",
       "  'eval_steps_per_second': 0.136,\n",
       "  'epoch': 11.43,\n",
       "  'step': 240},\n",
       " {'loss': 0.0713,\n",
       "  'learning_rate': 5.311428571428572e-05,\n",
       "  'epoch': 11.48,\n",
       "  'step': 241},\n",
       " {'loss': 0.0757,\n",
       "  'learning_rate': 5.308571428571429e-05,\n",
       "  'epoch': 11.52,\n",
       "  'step': 242},\n",
       " {'loss': 0.0635,\n",
       "  'learning_rate': 5.3057142857142854e-05,\n",
       "  'epoch': 11.57,\n",
       "  'step': 243},\n",
       " {'loss': 0.0658,\n",
       "  'learning_rate': 5.3028571428571434e-05,\n",
       "  'epoch': 11.62,\n",
       "  'step': 244},\n",
       " {'loss': 0.0592, 'learning_rate': 5.3e-05, 'epoch': 11.67, 'step': 245},\n",
       " {'loss': 0.0706,\n",
       "  'learning_rate': 5.2971428571428574e-05,\n",
       "  'epoch': 11.71,\n",
       "  'step': 246},\n",
       " {'loss': 0.0651,\n",
       "  'learning_rate': 5.294285714285714e-05,\n",
       "  'epoch': 11.76,\n",
       "  'step': 247},\n",
       " {'loss': 0.0686,\n",
       "  'learning_rate': 5.2914285714285715e-05,\n",
       "  'epoch': 11.81,\n",
       "  'step': 248},\n",
       " {'loss': 0.0963,\n",
       "  'learning_rate': 5.288571428571429e-05,\n",
       "  'epoch': 11.86,\n",
       "  'step': 249},\n",
       " {'loss': 0.0649,\n",
       "  'learning_rate': 5.2857142857142855e-05,\n",
       "  'epoch': 11.9,\n",
       "  'step': 250},\n",
       " {'loss': 0.0809,\n",
       "  'learning_rate': 5.2828571428571436e-05,\n",
       "  'epoch': 11.95,\n",
       "  'step': 251},\n",
       " {'loss': 0.0767, 'learning_rate': 5.28e-05, 'epoch': 12.0, 'step': 252},\n",
       " {'loss': 0.07,\n",
       "  'learning_rate': 5.277142857142857e-05,\n",
       "  'epoch': 12.05,\n",
       "  'step': 253},\n",
       " {'loss': 0.0623,\n",
       "  'learning_rate': 5.274285714285714e-05,\n",
       "  'epoch': 12.1,\n",
       "  'step': 254},\n",
       " {'loss': 0.0698,\n",
       "  'learning_rate': 5.271428571428572e-05,\n",
       "  'epoch': 12.14,\n",
       "  'step': 255},\n",
       " {'loss': 0.0591,\n",
       "  'learning_rate': 5.2685714285714284e-05,\n",
       "  'epoch': 12.19,\n",
       "  'step': 256},\n",
       " {'loss': 0.0885,\n",
       "  'learning_rate': 5.265714285714286e-05,\n",
       "  'epoch': 12.24,\n",
       "  'step': 257},\n",
       " {'loss': 0.0775,\n",
       "  'learning_rate': 5.262857142857143e-05,\n",
       "  'epoch': 12.29,\n",
       "  'step': 258},\n",
       " {'loss': 0.0729,\n",
       "  'learning_rate': 5.2600000000000005e-05,\n",
       "  'epoch': 12.33,\n",
       "  'step': 259},\n",
       " {'loss': 0.0875,\n",
       "  'learning_rate': 5.257142857142857e-05,\n",
       "  'epoch': 12.38,\n",
       "  'step': 260},\n",
       " {'eval_loss': 0.06317801773548126,\n",
       "  'eval_mean_iou': 0.9362878055025121,\n",
       "  'eval_mean_accuracy': 0.979182718514175,\n",
       "  'eval_overall_accuracy': 0.9973774181809645,\n",
       "  'eval_per_category_iou': [0.997328259023591, 0.8752473519814333],\n",
       "  'eval_per_category_accuracy': [0.9981024635286354, 0.9602629734997148],\n",
       "  'eval_runtime': 80.6728,\n",
       "  'eval_samples_per_second': 0.645,\n",
       "  'eval_steps_per_second': 0.136,\n",
       "  'epoch': 12.38,\n",
       "  'step': 260},\n",
       " {'loss': 0.0689,\n",
       "  'learning_rate': 5.254285714285714e-05,\n",
       "  'epoch': 12.43,\n",
       "  'step': 261},\n",
       " {'loss': 0.0541,\n",
       "  'learning_rate': 5.251428571428572e-05,\n",
       "  'epoch': 12.48,\n",
       "  'step': 262},\n",
       " {'loss': 0.0672,\n",
       "  'learning_rate': 5.2485714285714286e-05,\n",
       "  'epoch': 12.52,\n",
       "  'step': 263},\n",
       " {'loss': 0.0636,\n",
       "  'learning_rate': 5.245714285714286e-05,\n",
       "  'epoch': 12.57,\n",
       "  'step': 264},\n",
       " {'loss': 0.0696,\n",
       "  'learning_rate': 5.242857142857143e-05,\n",
       "  'epoch': 12.62,\n",
       "  'step': 265},\n",
       " {'loss': 0.0888, 'learning_rate': 5.24e-05, 'epoch': 12.67, 'step': 266},\n",
       " {'loss': 0.0727,\n",
       "  'learning_rate': 5.237142857142857e-05,\n",
       "  'epoch': 12.71,\n",
       "  'step': 267},\n",
       " {'loss': 0.0674,\n",
       "  'learning_rate': 5.234285714285714e-05,\n",
       "  'epoch': 12.76,\n",
       "  'step': 268},\n",
       " {'loss': 0.0546,\n",
       "  'learning_rate': 5.231428571428572e-05,\n",
       "  'epoch': 12.81,\n",
       "  'step': 269},\n",
       " {'loss': 0.0489,\n",
       "  'learning_rate': 5.228571428571429e-05,\n",
       "  'epoch': 12.86,\n",
       "  'step': 270},\n",
       " {'loss': 0.0759,\n",
       "  'learning_rate': 5.2257142857142854e-05,\n",
       "  'epoch': 12.9,\n",
       "  'step': 271},\n",
       " {'loss': 0.0684,\n",
       "  'learning_rate': 5.2228571428571435e-05,\n",
       "  'epoch': 12.95,\n",
       "  'step': 272},\n",
       " {'loss': 0.0553, 'learning_rate': 5.22e-05, 'epoch': 13.0, 'step': 273},\n",
       " {'loss': 0.058,\n",
       "  'learning_rate': 5.217142857142857e-05,\n",
       "  'epoch': 13.05,\n",
       "  'step': 274},\n",
       " {'loss': 0.0572,\n",
       "  'learning_rate': 5.214285714285714e-05,\n",
       "  'epoch': 13.1,\n",
       "  'step': 275},\n",
       " {'loss': 0.0561,\n",
       "  'learning_rate': 5.2114285714285716e-05,\n",
       "  'epoch': 13.14,\n",
       "  'step': 276},\n",
       " {'loss': 0.0569,\n",
       "  'learning_rate': 5.208571428571429e-05,\n",
       "  'epoch': 13.19,\n",
       "  'step': 277},\n",
       " {'loss': 0.0725,\n",
       "  'learning_rate': 5.2057142857142856e-05,\n",
       "  'epoch': 13.24,\n",
       "  'step': 278},\n",
       " {'loss': 0.0579,\n",
       "  'learning_rate': 5.202857142857143e-05,\n",
       "  'epoch': 13.29,\n",
       "  'step': 279},\n",
       " {'loss': 0.0547,\n",
       "  'learning_rate': 5.2000000000000004e-05,\n",
       "  'epoch': 13.33,\n",
       "  'step': 280},\n",
       " {'eval_loss': 0.055956728756427765,\n",
       "  'eval_mean_iou': 0.934510554838714,\n",
       "  'eval_mean_accuracy': 0.9750410127840679,\n",
       "  'eval_overall_accuracy': 0.9973168169225712,\n",
       "  'eval_per_category_iou': [0.9972669691792709, 0.8717541404981572],\n",
       "  'eval_per_category_accuracy': [0.9982044912701579, 0.951877534297978],\n",
       "  'eval_runtime': 80.1244,\n",
       "  'eval_samples_per_second': 0.649,\n",
       "  'eval_steps_per_second': 0.137,\n",
       "  'epoch': 13.33,\n",
       "  'step': 280},\n",
       " {'loss': 0.0571,\n",
       "  'learning_rate': 5.197142857142857e-05,\n",
       "  'epoch': 13.38,\n",
       "  'step': 281},\n",
       " {'loss': 0.0525,\n",
       "  'learning_rate': 5.194285714285715e-05,\n",
       "  'epoch': 13.43,\n",
       "  'step': 282},\n",
       " {'loss': 0.0572,\n",
       "  'learning_rate': 5.191428571428572e-05,\n",
       "  'epoch': 13.48,\n",
       "  'step': 283},\n",
       " {'loss': 0.0473,\n",
       "  'learning_rate': 5.1885714285714285e-05,\n",
       "  'epoch': 13.52,\n",
       "  'step': 284},\n",
       " {'loss': 0.0539,\n",
       "  'learning_rate': 5.185714285714286e-05,\n",
       "  'epoch': 13.57,\n",
       "  'step': 285},\n",
       " {'loss': 0.0738,\n",
       "  'learning_rate': 5.182857142857143e-05,\n",
       "  'epoch': 13.62,\n",
       "  'step': 286},\n",
       " {'loss': 0.0522, 'learning_rate': 5.18e-05, 'epoch': 13.67, 'step': 287},\n",
       " {'loss': 0.0524,\n",
       "  'learning_rate': 5.177142857142857e-05,\n",
       "  'epoch': 13.71,\n",
       "  'step': 288},\n",
       " {'loss': 0.0455,\n",
       "  'learning_rate': 5.1742857142857146e-05,\n",
       "  'epoch': 13.76,\n",
       "  'step': 289},\n",
       " {'loss': 0.0591,\n",
       "  'learning_rate': 5.171428571428572e-05,\n",
       "  'epoch': 13.81,\n",
       "  'step': 290},\n",
       " {'loss': 0.0611,\n",
       "  'learning_rate': 5.1685714285714286e-05,\n",
       "  'epoch': 13.86,\n",
       "  'step': 291},\n",
       " {'loss': 0.0656,\n",
       "  'learning_rate': 5.165714285714285e-05,\n",
       "  'epoch': 13.9,\n",
       "  'step': 292},\n",
       " {'loss': 0.0874,\n",
       "  'learning_rate': 5.1628571428571434e-05,\n",
       "  'epoch': 13.95,\n",
       "  'step': 293},\n",
       " {'loss': 0.0812, 'learning_rate': 5.16e-05, 'epoch': 14.0, 'step': 294},\n",
       " {'loss': 0.0465,\n",
       "  'learning_rate': 5.1571428571428574e-05,\n",
       "  'epoch': 14.05,\n",
       "  'step': 295},\n",
       " {'loss': 0.0507,\n",
       "  'learning_rate': 5.154285714285715e-05,\n",
       "  'epoch': 14.1,\n",
       "  'step': 296},\n",
       " {'loss': 0.0544,\n",
       "  'learning_rate': 5.1514285714285715e-05,\n",
       "  'epoch': 14.14,\n",
       "  'step': 297},\n",
       " {'loss': 0.064,\n",
       "  'learning_rate': 5.148571428571429e-05,\n",
       "  'epoch': 14.19,\n",
       "  'step': 298},\n",
       " {'loss': 0.0647,\n",
       "  'learning_rate': 5.1457142857142855e-05,\n",
       "  'epoch': 14.24,\n",
       "  'step': 299},\n",
       " {'loss': 0.0527,\n",
       "  'learning_rate': 5.142857142857143e-05,\n",
       "  'epoch': 14.29,\n",
       "  'step': 300},\n",
       " {'eval_loss': 0.05088498443365097,\n",
       "  'eval_mean_iou': 0.9307715609860564,\n",
       "  'eval_mean_accuracy': 0.9829267360398979,\n",
       "  'eval_overall_accuracy': 0.9970923868385219,\n",
       "  'eval_per_category_iou': [0.9970374260898323, 0.8645056958822805],\n",
       "  'eval_per_category_accuracy': [0.9976568775636434, 0.9681965945161525],\n",
       "  'eval_runtime': 79.8855,\n",
       "  'eval_samples_per_second': 0.651,\n",
       "  'eval_steps_per_second': 0.138,\n",
       "  'epoch': 14.29,\n",
       "  'step': 300},\n",
       " {'loss': 0.0527, 'learning_rate': 5.14e-05, 'epoch': 14.33, 'step': 301},\n",
       " {'loss': 0.0484,\n",
       "  'learning_rate': 5.137142857142857e-05,\n",
       "  'epoch': 14.38,\n",
       "  'step': 302},\n",
       " {'loss': 0.0508,\n",
       "  'learning_rate': 5.134285714285715e-05,\n",
       "  'epoch': 14.43,\n",
       "  'step': 303},\n",
       " {'loss': 0.054,\n",
       "  'learning_rate': 5.131428571428572e-05,\n",
       "  'epoch': 14.48,\n",
       "  'step': 304},\n",
       " {'loss': 0.0474,\n",
       "  'learning_rate': 5.1285714285714284e-05,\n",
       "  'epoch': 14.52,\n",
       "  'step': 305},\n",
       " {'loss': 0.048,\n",
       "  'learning_rate': 5.125714285714286e-05,\n",
       "  'epoch': 14.57,\n",
       "  'step': 306},\n",
       " {'loss': 0.05,\n",
       "  'learning_rate': 5.122857142857143e-05,\n",
       "  'epoch': 14.62,\n",
       "  'step': 307},\n",
       " {'loss': 0.0498,\n",
       "  'learning_rate': 5.1200000000000004e-05,\n",
       "  'epoch': 14.67,\n",
       "  'step': 308},\n",
       " {'loss': 0.0498,\n",
       "  'learning_rate': 5.117142857142857e-05,\n",
       "  'epoch': 14.71,\n",
       "  'step': 309},\n",
       " {'loss': 0.0474,\n",
       "  'learning_rate': 5.1142857142857145e-05,\n",
       "  'epoch': 14.76,\n",
       "  'step': 310},\n",
       " {'loss': 0.0473,\n",
       "  'learning_rate': 5.111428571428572e-05,\n",
       "  'epoch': 14.81,\n",
       "  'step': 311},\n",
       " {'loss': 0.051,\n",
       "  'learning_rate': 5.1085714285714285e-05,\n",
       "  'epoch': 14.86,\n",
       "  'step': 312},\n",
       " {'loss': 0.0641,\n",
       "  'learning_rate': 5.105714285714285e-05,\n",
       "  'epoch': 14.9,\n",
       "  'step': 313},\n",
       " {'loss': 0.0557,\n",
       "  'learning_rate': 5.102857142857143e-05,\n",
       "  'epoch': 14.95,\n",
       "  'step': 314},\n",
       " {'loss': 0.053, 'learning_rate': 5.1e-05, 'epoch': 15.0, 'step': 315},\n",
       " {'loss': 0.0578,\n",
       "  'learning_rate': 5.097142857142857e-05,\n",
       "  'epoch': 15.05,\n",
       "  'step': 316},\n",
       " {'loss': 0.0521,\n",
       "  'learning_rate': 5.094285714285715e-05,\n",
       "  'epoch': 15.1,\n",
       "  'step': 317},\n",
       " {'loss': 0.0511,\n",
       "  'learning_rate': 5.0914285714285714e-05,\n",
       "  'epoch': 15.14,\n",
       "  'step': 318},\n",
       " {'loss': 0.0509,\n",
       "  'learning_rate': 5.088571428571429e-05,\n",
       "  'epoch': 15.19,\n",
       "  'step': 319},\n",
       " {'loss': 0.0448,\n",
       "  'learning_rate': 5.0857142857142854e-05,\n",
       "  'epoch': 15.24,\n",
       "  'step': 320},\n",
       " {'eval_loss': 0.07112085074186325,\n",
       "  'eval_mean_iou': 0.9328264628398137,\n",
       "  'eval_mean_accuracy': 0.9865668884684428,\n",
       "  'eval_overall_accuracy': 0.9971706695778748,\n",
       "  'eval_per_category_iou': [0.9971167751664056, 0.8685361505132217],\n",
       "  'eval_per_category_accuracy': [0.9975932224257873, 0.9755405545110982],\n",
       "  'eval_runtime': 76.8576,\n",
       "  'eval_samples_per_second': 0.677,\n",
       "  'eval_steps_per_second': 0.143,\n",
       "  'epoch': 15.24,\n",
       "  'step': 320},\n",
       " {'loss': 0.049,\n",
       "  'learning_rate': 5.0828571428571435e-05,\n",
       "  'epoch': 15.29,\n",
       "  'step': 321},\n",
       " {'loss': 0.0556, 'learning_rate': 5.08e-05, 'epoch': 15.33, 'step': 322},\n",
       " {'loss': 0.0438,\n",
       "  'learning_rate': 5.077142857142857e-05,\n",
       "  'epoch': 15.38,\n",
       "  'step': 323},\n",
       " {'loss': 0.0528,\n",
       "  'learning_rate': 5.074285714285715e-05,\n",
       "  'epoch': 15.43,\n",
       "  'step': 324},\n",
       " {'loss': 0.0431,\n",
       "  'learning_rate': 5.0714285714285716e-05,\n",
       "  'epoch': 15.48,\n",
       "  'step': 325},\n",
       " {'loss': 0.0692,\n",
       "  'learning_rate': 5.068571428571428e-05,\n",
       "  'epoch': 15.52,\n",
       "  'step': 326},\n",
       " {'loss': 0.0512,\n",
       "  'learning_rate': 5.065714285714286e-05,\n",
       "  'epoch': 15.57,\n",
       "  'step': 327},\n",
       " {'loss': 0.0449,\n",
       "  'learning_rate': 5.062857142857143e-05,\n",
       "  'epoch': 15.62,\n",
       "  'step': 328},\n",
       " {'loss': 0.0375,\n",
       "  'learning_rate': 5.0600000000000003e-05,\n",
       "  'epoch': 15.67,\n",
       "  'step': 329},\n",
       " {'loss': 0.0641,\n",
       "  'learning_rate': 5.057142857142857e-05,\n",
       "  'epoch': 15.71,\n",
       "  'step': 330},\n",
       " {'loss': 0.0472,\n",
       "  'learning_rate': 5.0542857142857144e-05,\n",
       "  'epoch': 15.76,\n",
       "  'step': 331},\n",
       " {'loss': 0.0523,\n",
       "  'learning_rate': 5.051428571428572e-05,\n",
       "  'epoch': 15.81,\n",
       "  'step': 332},\n",
       " {'loss': 0.0439,\n",
       "  'learning_rate': 5.0485714285714284e-05,\n",
       "  'epoch': 15.86,\n",
       "  'step': 333},\n",
       " {'loss': 0.0436,\n",
       "  'learning_rate': 5.0457142857142865e-05,\n",
       "  'epoch': 15.9,\n",
       "  'step': 334},\n",
       " {'loss': 0.0548,\n",
       "  'learning_rate': 5.042857142857143e-05,\n",
       "  'epoch': 15.95,\n",
       "  'step': 335},\n",
       " {'loss': 0.0512, 'learning_rate': 5.04e-05, 'epoch': 16.0, 'step': 336},\n",
       " {'loss': 0.042,\n",
       "  'learning_rate': 5.037142857142857e-05,\n",
       "  'epoch': 16.05,\n",
       "  'step': 337},\n",
       " {'loss': 0.048,\n",
       "  'learning_rate': 5.0342857142857146e-05,\n",
       "  'epoch': 16.1,\n",
       "  'step': 338},\n",
       " {'loss': 0.046,\n",
       "  'learning_rate': 5.031428571428571e-05,\n",
       "  'epoch': 16.14,\n",
       "  'step': 339},\n",
       " {'loss': 0.0415,\n",
       "  'learning_rate': 5.0285714285714286e-05,\n",
       "  'epoch': 16.19,\n",
       "  'step': 340},\n",
       " {'eval_loss': 0.028337061405181885,\n",
       "  'eval_mean_iou': 0.9416629368597839,\n",
       "  'eval_mean_accuracy': 0.9769692468725798,\n",
       "  'eval_overall_accuracy': 0.9976380916326243,\n",
       "  'eval_per_category_iou': [0.9975940434695428, 0.8857318302500249],\n",
       "  'eval_per_category_accuracy': [0.9984617298354773, 0.9554767639096823],\n",
       "  'eval_runtime': 77.5293,\n",
       "  'eval_samples_per_second': 0.671,\n",
       "  'eval_steps_per_second': 0.142,\n",
       "  'epoch': 16.19,\n",
       "  'step': 340},\n",
       " {'loss': 0.0694,\n",
       "  'learning_rate': 5.025714285714286e-05,\n",
       "  'epoch': 16.24,\n",
       "  'step': 341},\n",
       " {'loss': 0.0739,\n",
       "  'learning_rate': 5.0228571428571434e-05,\n",
       "  'epoch': 16.29,\n",
       "  'step': 342},\n",
       " {'loss': 0.0439, 'learning_rate': 5.02e-05, 'epoch': 16.33, 'step': 343},\n",
       " {'loss': 0.0506,\n",
       "  'learning_rate': 5.017142857142857e-05,\n",
       "  'epoch': 16.38,\n",
       "  'step': 344},\n",
       " {'loss': 0.0553,\n",
       "  'learning_rate': 5.014285714285715e-05,\n",
       "  'epoch': 16.43,\n",
       "  'step': 345},\n",
       " {'loss': 0.0485,\n",
       "  'learning_rate': 5.0114285714285715e-05,\n",
       "  'epoch': 16.48,\n",
       "  'step': 346},\n",
       " {'loss': 0.0382,\n",
       "  'learning_rate': 5.008571428571429e-05,\n",
       "  'epoch': 16.52,\n",
       "  'step': 347},\n",
       " {'loss': 0.043,\n",
       "  'learning_rate': 5.005714285714286e-05,\n",
       "  'epoch': 16.57,\n",
       "  'step': 348},\n",
       " {'loss': 0.0412,\n",
       "  'learning_rate': 5.002857142857143e-05,\n",
       "  'epoch': 16.62,\n",
       "  'step': 349},\n",
       " {'loss': 0.0423, 'learning_rate': 5e-05, 'epoch': 16.67, 'step': 350},\n",
       " {'loss': 0.0427,\n",
       "  'learning_rate': 4.997142857142857e-05,\n",
       "  'epoch': 16.71,\n",
       "  'step': 351},\n",
       " {'loss': 0.0427,\n",
       "  'learning_rate': 4.994285714285714e-05,\n",
       "  'epoch': 16.76,\n",
       "  'step': 352},\n",
       " {'loss': 0.0429,\n",
       "  'learning_rate': 4.9914285714285717e-05,\n",
       "  'epoch': 16.81,\n",
       "  'step': 353},\n",
       " {'loss': 0.0445,\n",
       "  'learning_rate': 4.9885714285714283e-05,\n",
       "  'epoch': 16.86,\n",
       "  'step': 354},\n",
       " {'loss': 0.0486,\n",
       "  'learning_rate': 4.9857142857142864e-05,\n",
       "  'epoch': 16.9,\n",
       "  'step': 355},\n",
       " {'loss': 0.0437,\n",
       "  'learning_rate': 4.982857142857143e-05,\n",
       "  'epoch': 16.95,\n",
       "  'step': 356},\n",
       " {'loss': 0.067, 'learning_rate': 4.98e-05, 'epoch': 17.0, 'step': 357},\n",
       " {'loss': 0.0468,\n",
       "  'learning_rate': 4.977142857142857e-05,\n",
       "  'epoch': 17.05,\n",
       "  'step': 358},\n",
       " {'loss': 0.0487,\n",
       "  'learning_rate': 4.9742857142857145e-05,\n",
       "  'epoch': 17.1,\n",
       "  'step': 359},\n",
       " {'loss': 0.0449,\n",
       "  'learning_rate': 4.971428571428572e-05,\n",
       "  'epoch': 17.14,\n",
       "  'step': 360},\n",
       " {'eval_loss': 0.02526102401316166,\n",
       "  'eval_mean_iou': 0.9455209571250429,\n",
       "  'eval_mean_accuracy': 0.972574880971815,\n",
       "  'eval_overall_accuracy': 0.9978330281260271,\n",
       "  'eval_per_category_iou': [0.9977930102776409, 0.8932489039724448],\n",
       "  'eval_per_category_accuracy': [0.9988395466407778, 0.9463102153028522],\n",
       "  'eval_runtime': 76.9079,\n",
       "  'eval_samples_per_second': 0.676,\n",
       "  'eval_steps_per_second': 0.143,\n",
       "  'epoch': 17.14,\n",
       "  'step': 360},\n",
       " {'loss': 0.0393,\n",
       "  'learning_rate': 4.9685714285714285e-05,\n",
       "  'epoch': 17.19,\n",
       "  'step': 361},\n",
       " {'loss': 0.0434,\n",
       "  'learning_rate': 4.965714285714286e-05,\n",
       "  'epoch': 17.24,\n",
       "  'step': 362},\n",
       " {'loss': 0.0385,\n",
       "  'learning_rate': 4.962857142857143e-05,\n",
       "  'epoch': 17.29,\n",
       "  'step': 363},\n",
       " {'loss': 0.0577, 'learning_rate': 4.96e-05, 'epoch': 17.33, 'step': 364},\n",
       " {'loss': 0.0503,\n",
       "  'learning_rate': 4.957142857142857e-05,\n",
       "  'epoch': 17.38,\n",
       "  'step': 365},\n",
       " {'loss': 0.0378,\n",
       "  'learning_rate': 4.954285714285715e-05,\n",
       "  'epoch': 17.43,\n",
       "  'step': 366},\n",
       " {'loss': 0.0353,\n",
       "  'learning_rate': 4.9514285714285714e-05,\n",
       "  'epoch': 17.48,\n",
       "  'step': 367},\n",
       " {'loss': 0.0427,\n",
       "  'learning_rate': 4.948571428571429e-05,\n",
       "  'epoch': 17.52,\n",
       "  'step': 368},\n",
       " {'loss': 0.0564,\n",
       "  'learning_rate': 4.945714285714286e-05,\n",
       "  'epoch': 17.57,\n",
       "  'step': 369},\n",
       " {'loss': 0.0389,\n",
       "  'learning_rate': 4.942857142857143e-05,\n",
       "  'epoch': 17.62,\n",
       "  'step': 370},\n",
       " {'loss': 0.0361, 'learning_rate': 4.94e-05, 'epoch': 17.67, 'step': 371},\n",
       " {'loss': 0.0351,\n",
       "  'learning_rate': 4.9371428571428575e-05,\n",
       "  'epoch': 17.71,\n",
       "  'step': 372},\n",
       " {'loss': 0.0415,\n",
       "  'learning_rate': 4.934285714285715e-05,\n",
       "  'epoch': 17.76,\n",
       "  'step': 373},\n",
       " {'loss': 0.0391,\n",
       "  'learning_rate': 4.9314285714285716e-05,\n",
       "  'epoch': 17.81,\n",
       "  'step': 374},\n",
       " {'loss': 0.0458,\n",
       "  'learning_rate': 4.928571428571428e-05,\n",
       "  'epoch': 17.86,\n",
       "  'step': 375},\n",
       " {'loss': 0.0416,\n",
       "  'learning_rate': 4.925714285714286e-05,\n",
       "  'epoch': 17.9,\n",
       "  'step': 376},\n",
       " {'loss': 0.0376,\n",
       "  'learning_rate': 4.922857142857143e-05,\n",
       "  'epoch': 17.95,\n",
       "  'step': 377},\n",
       " {'loss': 0.0537,\n",
       "  'learning_rate': 4.9199999999999997e-05,\n",
       "  'epoch': 18.0,\n",
       "  'step': 378},\n",
       " {'loss': 0.0558,\n",
       "  'learning_rate': 4.917142857142858e-05,\n",
       "  'epoch': 18.05,\n",
       "  'step': 379},\n",
       " {'loss': 0.0457,\n",
       "  'learning_rate': 4.9142857142857144e-05,\n",
       "  'epoch': 18.1,\n",
       "  'step': 380},\n",
       " {'eval_loss': 0.04560868442058563,\n",
       "  'eval_mean_iou': 0.9450200438639619,\n",
       "  'eval_mean_accuracy': 0.981099174624632,\n",
       "  'eval_overall_accuracy': 0.9977713263605202,\n",
       "  'eval_per_category_iou': [0.9977293957256549, 0.8923106920022689],\n",
       "  'eval_per_category_accuracy': [0.9984356992973176, 0.9637626499519465],\n",
       "  'eval_runtime': 77.1759,\n",
       "  'eval_samples_per_second': 0.674,\n",
       "  'eval_steps_per_second': 0.143,\n",
       "  'epoch': 18.1,\n",
       "  'step': 380},\n",
       " {'loss': 0.042,\n",
       "  'learning_rate': 4.911428571428572e-05,\n",
       "  'epoch': 18.14,\n",
       "  'step': 381},\n",
       " {'loss': 0.0436,\n",
       "  'learning_rate': 4.9085714285714284e-05,\n",
       "  'epoch': 18.19,\n",
       "  'step': 382},\n",
       " {'loss': 0.0432,\n",
       "  'learning_rate': 4.905714285714286e-05,\n",
       "  'epoch': 18.24,\n",
       "  'step': 383},\n",
       " {'loss': 0.0353,\n",
       "  'learning_rate': 4.902857142857143e-05,\n",
       "  'epoch': 18.29,\n",
       "  'step': 384},\n",
       " {'loss': 0.0422, 'learning_rate': 4.9e-05, 'epoch': 18.33, 'step': 385},\n",
       " {'loss': 0.0358,\n",
       "  'learning_rate': 4.897142857142858e-05,\n",
       "  'epoch': 18.38,\n",
       "  'step': 386},\n",
       " {'loss': 0.0352,\n",
       "  'learning_rate': 4.8942857142857146e-05,\n",
       "  'epoch': 18.43,\n",
       "  'step': 387},\n",
       " {'loss': 0.0418,\n",
       "  'learning_rate': 4.891428571428571e-05,\n",
       "  'epoch': 18.48,\n",
       "  'step': 388},\n",
       " {'loss': 0.0393,\n",
       "  'learning_rate': 4.8885714285714286e-05,\n",
       "  'epoch': 18.52,\n",
       "  'step': 389},\n",
       " {'loss': 0.0354,\n",
       "  'learning_rate': 4.885714285714286e-05,\n",
       "  'epoch': 18.57,\n",
       "  'step': 390},\n",
       " {'loss': 0.0364,\n",
       "  'learning_rate': 4.882857142857143e-05,\n",
       "  'epoch': 18.62,\n",
       "  'step': 391},\n",
       " {'loss': 0.0361, 'learning_rate': 4.88e-05, 'epoch': 18.67, 'step': 392},\n",
       " {'loss': 0.0339,\n",
       "  'learning_rate': 4.8771428571428574e-05,\n",
       "  'epoch': 18.71,\n",
       "  'step': 393},\n",
       " {'loss': 0.0348,\n",
       "  'learning_rate': 4.874285714285715e-05,\n",
       "  'epoch': 18.76,\n",
       "  'step': 394},\n",
       " {'loss': 0.0383,\n",
       "  'learning_rate': 4.8714285714285714e-05,\n",
       "  'epoch': 18.81,\n",
       "  'step': 395},\n",
       " {'loss': 0.0378,\n",
       "  'learning_rate': 4.868571428571428e-05,\n",
       "  'epoch': 18.86,\n",
       "  'step': 396},\n",
       " {'loss': 0.035,\n",
       "  'learning_rate': 4.865714285714286e-05,\n",
       "  'epoch': 18.9,\n",
       "  'step': 397},\n",
       " {'loss': 0.0371,\n",
       "  'learning_rate': 4.862857142857143e-05,\n",
       "  'epoch': 18.95,\n",
       "  'step': 398},\n",
       " {'loss': 0.0397, 'learning_rate': 4.86e-05, 'epoch': 19.0, 'step': 399},\n",
       " {'loss': 0.0303,\n",
       "  'learning_rate': 4.8571428571428576e-05,\n",
       "  'epoch': 19.05,\n",
       "  'step': 400},\n",
       " {'eval_loss': 0.03521692007780075,\n",
       "  'eval_mean_iou': 0.9469430985153933,\n",
       "  'eval_mean_accuracy': 0.9846475137031576,\n",
       "  'eval_overall_accuracy': 0.9978425658543457,\n",
       "  'eval_per_category_iou': [0.9978016680888119, 0.8960845289419747],\n",
       "  'eval_per_category_accuracy': [0.9983683789400081, 0.970926648466307],\n",
       "  'eval_runtime': 76.9218,\n",
       "  'eval_samples_per_second': 0.676,\n",
       "  'eval_steps_per_second': 0.143,\n",
       "  'epoch': 19.05,\n",
       "  'step': 400},\n",
       " {'loss': 0.0398,\n",
       "  'learning_rate': 4.854285714285714e-05,\n",
       "  'epoch': 19.1,\n",
       "  'step': 401},\n",
       " {'loss': 0.0408,\n",
       "  'learning_rate': 4.8514285714285716e-05,\n",
       "  'epoch': 19.14,\n",
       "  'step': 402},\n",
       " {'loss': 0.0327,\n",
       "  'learning_rate': 4.848571428571428e-05,\n",
       "  'epoch': 19.19,\n",
       "  'step': 403},\n",
       " {'loss': 0.0304,\n",
       "  'learning_rate': 4.845714285714286e-05,\n",
       "  'epoch': 19.24,\n",
       "  'step': 404},\n",
       " {'loss': 0.0388,\n",
       "  'learning_rate': 4.842857142857143e-05,\n",
       "  'epoch': 19.29,\n",
       "  'step': 405},\n",
       " {'loss': 0.0453, 'learning_rate': 4.84e-05, 'epoch': 19.33, 'step': 406},\n",
       " {'loss': 0.0322,\n",
       "  'learning_rate': 4.837142857142858e-05,\n",
       "  'epoch': 19.38,\n",
       "  'step': 407},\n",
       " {'loss': 0.0339,\n",
       "  'learning_rate': 4.8342857142857145e-05,\n",
       "  'epoch': 19.43,\n",
       "  'step': 408},\n",
       " {'loss': 0.0312,\n",
       "  'learning_rate': 4.831428571428571e-05,\n",
       "  'epoch': 19.48,\n",
       "  'step': 409},\n",
       " {'loss': 0.0474,\n",
       "  'learning_rate': 4.828571428571429e-05,\n",
       "  'epoch': 19.52,\n",
       "  'step': 410},\n",
       " {'loss': 0.0347,\n",
       "  'learning_rate': 4.825714285714286e-05,\n",
       "  'epoch': 19.57,\n",
       "  'step': 411},\n",
       " {'loss': 0.0315,\n",
       "  'learning_rate': 4.822857142857143e-05,\n",
       "  'epoch': 19.62,\n",
       "  'step': 412},\n",
       " {'loss': 0.0519, 'learning_rate': 4.82e-05, 'epoch': 19.67, 'step': 413},\n",
       " {'loss': 0.0369,\n",
       "  'learning_rate': 4.817142857142857e-05,\n",
       "  'epoch': 19.71,\n",
       "  'step': 414},\n",
       " {'loss': 0.0289,\n",
       "  'learning_rate': 4.8142857142857147e-05,\n",
       "  'epoch': 19.76,\n",
       "  'step': 415},\n",
       " {'loss': 0.0385,\n",
       "  'learning_rate': 4.8114285714285713e-05,\n",
       "  'epoch': 19.81,\n",
       "  'step': 416},\n",
       " {'loss': 0.031,\n",
       "  'learning_rate': 4.808571428571429e-05,\n",
       "  'epoch': 19.86,\n",
       "  'step': 417},\n",
       " {'loss': 0.0328,\n",
       "  'learning_rate': 4.805714285714286e-05,\n",
       "  'epoch': 19.9,\n",
       "  'step': 418},\n",
       " {'loss': 0.0341,\n",
       "  'learning_rate': 4.802857142857143e-05,\n",
       "  'epoch': 19.95,\n",
       "  'step': 419},\n",
       " {'loss': 0.0325, 'learning_rate': 4.8e-05, 'epoch': 20.0, 'step': 420},\n",
       " {'eval_loss': 0.03197423368692398,\n",
       "  'eval_mean_iou': 0.9481100681558784,\n",
       "  'eval_mean_accuracy': 0.9855434264433641,\n",
       "  'eval_overall_accuracy': 0.9978915017373339,\n",
       "  'eval_per_category_iou': [0.9978514571051735, 0.8983686792065833],\n",
       "  'eval_per_category_accuracy': [0.9983835634206012, 0.972703289466127],\n",
       "  'eval_runtime': 81.46,\n",
       "  'eval_samples_per_second': 0.638,\n",
       "  'eval_steps_per_second': 0.135,\n",
       "  'epoch': 20.0,\n",
       "  'step': 420},\n",
       " {'train_runtime': 3055.5717,\n",
       "  'train_samples_per_second': 3.436,\n",
       "  'train_steps_per_second': 0.687,\n",
       "  'total_flos': 3.68087065952256e+16,\n",
       "  'train_loss': 0.133953789098277,\n",
       "  'epoch': 20.0,\n",
       "  'step': 420}]"
      ]
     },
     "execution_count": 68,
     "metadata": {},
     "output_type": "execute_result"
    }
   ],
   "source": [
    "broad_bean_trainer.state.log_history"
   ]
  },
  {
   "cell_type": "code",
   "execution_count": 69,
   "metadata": {},
   "outputs": [],
   "source": [
    "# Save the trained model, so that it can be used for inference later.\n",
    "# Save the log history, so that it can be used for plotting later.\n",
    "broad_bean_trainer.save_model('models/broad_bean')\n",
    "with open('models/broad_bean/broad_bean_log_history.json', 'w') as file:\n",
    "    broad_bean_log_history = broad_bean_trainer.state.log_history\n",
    "    json.dump(broad_bean_log_history, file)"
   ]
  },
  {
   "cell_type": "code",
   "execution_count": 101,
   "metadata": {},
   "outputs": [
    {
     "name": "stderr",
     "output_type": "stream",
     "text": [
      "100%|██████████| 11/11 [01:13<00:00,  6.72s/it]\n"
     ]
    }
   ],
   "source": [
    "outputs = broad_bean_trainer.predict(broad_bean_test_ds)"
   ]
  },
  {
   "cell_type": "code",
   "execution_count": 102,
   "metadata": {},
   "outputs": [
    {
     "name": "stderr",
     "output_type": "stream",
     "text": [
      "100%|██████████| 11/11 [01:18<00:00,  7.13s/it]\n"
     ]
    }
   ],
   "source": [
    "test_metric = broad_bean_trainer.evaluate(broad_bean_test_ds)"
   ]
  },
  {
   "cell_type": "code",
   "execution_count": 103,
   "metadata": {},
   "outputs": [
    {
     "data": {
      "text/plain": [
       "{'eval_loss': 0.027685143053531647,\n",
       " 'eval_mean_iou': 0.9514935731094303,\n",
       " 'eval_mean_accuracy': 0.9739695790575061,\n",
       " 'eval_overall_accuracy': 0.997216919396627,\n",
       " 'eval_per_category_iou': [0.9971403494393721, 0.9058467967794884],\n",
       " 'eval_per_category_accuracy': [0.99860670276049, 0.9493324553545223],\n",
       " 'eval_runtime': 80.4715,\n",
       " 'eval_samples_per_second': 0.659,\n",
       " 'eval_steps_per_second': 0.137,\n",
       " 'epoch': 20.0}"
      ]
     },
     "execution_count": 103,
     "metadata": {},
     "output_type": "execute_result"
    }
   ],
   "source": [
    "test_metric"
   ]
  },
  {
   "cell_type": "code",
   "execution_count": 99,
   "metadata": {},
   "outputs": [
    {
     "data": {
      "text/plain": [
       "(1144, 1600)"
      ]
     },
     "execution_count": 99,
     "metadata": {},
     "output_type": "execute_result"
    }
   ],
   "source": [
    "image = Image.open('./WE3DS/annotations/segmentation/SegmentationLabel/img_00000.png')\n",
    "image.size[::-1]"
   ]
  },
  {
   "cell_type": "code",
   "execution_count": 100,
   "metadata": {},
   "outputs": [
    {
     "ename": "AttributeError",
     "evalue": "'PredictionOutput' object has no attribute 'dim'",
     "output_type": "error",
     "traceback": [
      "\u001b[1;31m---------------------------------------------------------------------------\u001b[0m",
      "\u001b[1;31mAttributeError\u001b[0m                            Traceback (most recent call last)",
      "Cell \u001b[1;32mIn[100], line 1\u001b[0m\n\u001b[1;32m----> 1\u001b[0m upsampled_ouputs \u001b[39m=\u001b[39m torch\u001b[39m.\u001b[39;49mnn\u001b[39m.\u001b[39;49mfunctional\u001b[39m.\u001b[39;49minterpolate(\n\u001b[0;32m      2\u001b[0m     outputs,\n\u001b[0;32m      3\u001b[0m     size\u001b[39m=\u001b[39;49mimage\u001b[39m.\u001b[39;49msize[::\u001b[39m-\u001b[39;49m\u001b[39m1\u001b[39;49m],\n\u001b[0;32m      4\u001b[0m     mode\u001b[39m=\u001b[39;49m\u001b[39m\"\u001b[39;49m\u001b[39mbilinear\u001b[39;49m\u001b[39m\"\u001b[39;49m,\n\u001b[0;32m      5\u001b[0m     align_corners\u001b[39m=\u001b[39;49m\u001b[39mFalse\u001b[39;49;00m,\n\u001b[0;32m      6\u001b[0m )\n\u001b[0;32m      7\u001b[0m y_pred \u001b[39m=\u001b[39m upsampled_ouputs\u001b[39m.\u001b[39mpredictions\u001b[39m.\u001b[39margmax(\u001b[39m1\u001b[39m)\n",
      "File \u001b[1;32mc:\\Users\\Kate\\AppData\\Local\\miniconda3\\envs\\master\\Lib\\site-packages\\torch\\nn\\functional.py:3856\u001b[0m, in \u001b[0;36minterpolate\u001b[1;34m(input, size, scale_factor, mode, align_corners, recompute_scale_factor, antialias)\u001b[0m\n\u001b[0;32m   3853\u001b[0m     \u001b[39mif\u001b[39;00m align_corners \u001b[39mis\u001b[39;00m \u001b[39mNone\u001b[39;00m:\n\u001b[0;32m   3854\u001b[0m         align_corners \u001b[39m=\u001b[39m \u001b[39mFalse\u001b[39;00m\n\u001b[1;32m-> 3856\u001b[0m dim \u001b[39m=\u001b[39m \u001b[39minput\u001b[39;49m\u001b[39m.\u001b[39;49mdim() \u001b[39m-\u001b[39m \u001b[39m2\u001b[39m  \u001b[39m# Number of spatial dimensions.\u001b[39;00m\n\u001b[0;32m   3858\u001b[0m \u001b[39m# Process size and scale_factor.  Validate that exactly one is set.\u001b[39;00m\n\u001b[0;32m   3859\u001b[0m \u001b[39m# Validate its length if it is a list, or expand it if it is a scalar.\u001b[39;00m\n\u001b[0;32m   3860\u001b[0m \u001b[39m# After this block, exactly one of output_size and scale_factors will\u001b[39;00m\n\u001b[0;32m   3861\u001b[0m \u001b[39m# be non-None, and it will be a list (or tuple).\u001b[39;00m\n\u001b[0;32m   3862\u001b[0m \u001b[39mif\u001b[39;00m size \u001b[39mis\u001b[39;00m \u001b[39mnot\u001b[39;00m \u001b[39mNone\u001b[39;00m \u001b[39mand\u001b[39;00m scale_factor \u001b[39mis\u001b[39;00m \u001b[39mnot\u001b[39;00m \u001b[39mNone\u001b[39;00m:\n",
      "\u001b[1;31mAttributeError\u001b[0m: 'PredictionOutput' object has no attribute 'dim'"
     ]
    }
   ],
   "source": [
    "# upsampled_ouputs = torch.nn.functional.interpolate(\n",
    "#     outputs,\n",
    "#     size=image.size[::-1],\n",
    "#     mode=\"bilinear\",\n",
    "#     align_corners=False,\n",
    "# )\n",
    "# y_pred = upsampled_ouputs.predictions.argmax(1)"
   ]
  },
  {
   "cell_type": "code",
   "execution_count": null,
   "metadata": {},
   "outputs": [
    {
     "name": "stdout",
     "output_type": "stream",
     "text": [
      "Predicting following unique classes:  [0 1]\n",
      "(53, 128, 128)\n"
     ]
    }
   ],
   "source": [
    "print(\"Predicting following unique classes: \", np.unique(y_pred))\n",
    "print(y_pred.shape)"
   ]
  },
  {
   "cell_type": "code",
   "execution_count": null,
   "metadata": {},
   "outputs": [
    {
     "data": {
      "text/plain": [
       "array([[[0, 0, 0, ..., 0, 0, 0],\n",
       "        [0, 0, 0, ..., 0, 0, 0],\n",
       "        [0, 0, 0, ..., 0, 0, 0],\n",
       "        ...,\n",
       "        [0, 0, 0, ..., 0, 0, 0],\n",
       "        [0, 0, 0, ..., 0, 0, 0],\n",
       "        [0, 0, 0, ..., 0, 0, 0]],\n",
       "\n",
       "       [[0, 0, 0, ..., 0, 0, 0],\n",
       "        [0, 0, 0, ..., 0, 0, 0],\n",
       "        [0, 0, 0, ..., 0, 0, 0],\n",
       "        ...,\n",
       "        [0, 0, 0, ..., 0, 0, 0],\n",
       "        [0, 0, 0, ..., 0, 0, 0],\n",
       "        [0, 0, 0, ..., 0, 0, 0]],\n",
       "\n",
       "       [[0, 0, 0, ..., 0, 0, 0],\n",
       "        [0, 0, 0, ..., 0, 0, 0],\n",
       "        [0, 0, 0, ..., 0, 0, 0],\n",
       "        ...,\n",
       "        [0, 0, 0, ..., 0, 0, 0],\n",
       "        [0, 0, 0, ..., 0, 0, 0],\n",
       "        [0, 0, 0, ..., 0, 0, 0]],\n",
       "\n",
       "       ...,\n",
       "\n",
       "       [[0, 0, 0, ..., 0, 0, 0],\n",
       "        [0, 0, 0, ..., 0, 0, 0],\n",
       "        [0, 0, 0, ..., 0, 0, 0],\n",
       "        ...,\n",
       "        [0, 0, 0, ..., 0, 0, 0],\n",
       "        [0, 0, 0, ..., 0, 0, 0],\n",
       "        [0, 0, 0, ..., 0, 0, 0]],\n",
       "\n",
       "       [[0, 0, 0, ..., 0, 0, 0],\n",
       "        [0, 0, 0, ..., 0, 0, 0],\n",
       "        [0, 0, 0, ..., 0, 0, 0],\n",
       "        ...,\n",
       "        [0, 0, 0, ..., 0, 0, 0],\n",
       "        [0, 0, 0, ..., 0, 0, 0],\n",
       "        [0, 0, 0, ..., 0, 0, 0]],\n",
       "\n",
       "       [[0, 0, 0, ..., 0, 0, 0],\n",
       "        [0, 0, 0, ..., 0, 0, 0],\n",
       "        [0, 0, 0, ..., 0, 0, 0],\n",
       "        ...,\n",
       "        [0, 0, 0, ..., 0, 0, 0],\n",
       "        [0, 0, 0, ..., 0, 0, 0],\n",
       "        [0, 0, 0, ..., 0, 0, 0]]], dtype=int64)"
      ]
     },
     "execution_count": 90,
     "metadata": {},
     "output_type": "execute_result"
    }
   ],
   "source": [
    "y_pred"
   ]
  },
  {
   "cell_type": "code",
   "execution_count": 94,
   "metadata": {},
   "outputs": [
    {
     "data": {
      "text/plain": [
       "AcceleratedOptimizer (\n",
       "Parameter Group 0\n",
       "    betas: (0.9, 0.999)\n",
       "    correct_bias: True\n",
       "    eps: 1e-08\n",
       "    initial_lr: 6e-05\n",
       "    lr: 4.8e-05\n",
       "    weight_decay: 0.0\n",
       "\n",
       "Parameter Group 1\n",
       "    betas: (0.9, 0.999)\n",
       "    correct_bias: True\n",
       "    eps: 1e-08\n",
       "    initial_lr: 6e-05\n",
       "    lr: 4.8e-05\n",
       "    weight_decay: 0.0\n",
       ")"
      ]
     },
     "execution_count": 94,
     "metadata": {},
     "output_type": "execute_result"
    }
   ],
   "source": [
    "broad_bean_trainer.optimizer"
   ]
  }
 ],
 "metadata": {
  "kernelspec": {
   "display_name": "base",
   "language": "python",
   "name": "python3"
  },
  "language_info": {
   "codemirror_mode": {
    "name": "ipython",
    "version": 3
   },
   "file_extension": ".py",
   "mimetype": "text/x-python",
   "name": "python",
   "nbconvert_exporter": "python",
   "pygments_lexer": "ipython3",
   "version": "3.11.4"
  },
  "orig_nbformat": 4
 },
 "nbformat": 4,
 "nbformat_minor": 2
}
