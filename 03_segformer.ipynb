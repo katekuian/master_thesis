{
 "cells": [
  {
   "cell_type": "code",
   "execution_count": 1,
   "metadata": {},
   "outputs": [],
   "source": [
    "import os\n",
    "os.environ['CUDA_LAUNCH_BLOCKING'] = \"1\"\n",
    "os.environ['TORCH_USE_CUDA_DSA'] = \"1\""
   ]
  },
  {
   "cell_type": "code",
   "execution_count": 2,
   "metadata": {},
   "outputs": [
    {
     "name": "stdout",
     "output_type": "stream",
     "text": [
      "env: CUDA_LAUNCH_BLOCKING=1\n"
     ]
    }
   ],
   "source": [
    "%env CUDA_LAUNCH_BLOCKING=1"
   ]
  },
  {
   "cell_type": "code",
   "execution_count": 3,
   "metadata": {},
   "outputs": [
    {
     "name": "stdout",
     "output_type": "stream",
     "text": [
      "Using device: cuda\n",
      "\n",
      "NVIDIA GeForce GTX 960\n",
      "CUDA version: 11.7\n",
      "Memory Usage:\n",
      "Allocated: 0.0 GB\n",
      "Cached:    0.0 GB\n"
     ]
    }
   ],
   "source": [
    "import torch\n",
    "# setting device on GPU if available, else CPU\n",
    "device = torch.device('cuda' if torch.cuda.is_available() else 'cpu')\n",
    "print('Using device:', device)\n",
    "print()\n",
    "\n",
    "#Additional Info when using cuda\n",
    "if device.type == 'cuda':\n",
    "    print(torch.cuda.get_device_name(0))\n",
    "    print('CUDA version:', torch.version.cuda)\n",
    "    print('Memory Usage:')\n",
    "    print('Allocated:', round(torch.cuda.memory_allocated(0)/1024**3,1), 'GB')\n",
    "    print('Cached:   ', round(torch.cuda.memory_reserved(0)/1024**3,1), 'GB')"
   ]
  },
  {
   "cell_type": "code",
   "execution_count": 4,
   "metadata": {},
   "outputs": [
    {
     "name": "stderr",
     "output_type": "stream",
     "text": [
      "c:\\Users\\Kate\\AppData\\Local\\miniconda3\\envs\\master\\Lib\\site-packages\\tqdm\\auto.py:21: TqdmWarning: IProgress not found. Please update jupyter and ipywidgets. See https://ipywidgets.readthedocs.io/en/stable/user_install.html\n",
      "  from .autonotebook import tqdm as notebook_tqdm\n"
     ]
    }
   ],
   "source": [
    "import numpy as np\n",
    "import PIL\n",
    "from PIL import Image\n",
    "import datasets\n",
    "import os\n",
    "import evaluate\n",
    "import torch\n",
    "import json\n",
    "import codecs"
   ]
  },
  {
   "cell_type": "code",
   "execution_count": 5,
   "metadata": {},
   "outputs": [],
   "source": [
    "seed = 9876\n",
    "\n",
    "image_folder = './WE3DS/images/'\n",
    "annotation_folder = './WE3DS/annotations/'\n",
    "annotations_aggregated_folder = './WE3DS/annotations_aggregated/'\n",
    "# Define the paths to the images and annotations\n",
    "all_image_names = np.array(os.listdir(image_folder))"
   ]
  },
  {
   "cell_type": "code",
   "execution_count": 6,
   "metadata": {},
   "outputs": [
    {
     "name": "stdout",
     "output_type": "stream",
     "text": [
      "Crop indicies:  [2, 5, 6, 11, 14, 15, 18]\n",
      "Weed indicies:  [3, 4, 7, 8, 9, 10, 12, 13, 16, 17]\n"
     ]
    }
   ],
   "source": [
    "plant_classification = {\n",
    "    'void': 'void',\n",
    "    'soil': 'soil',\n",
    "    'broad bean': 'crop',\n",
    "    'corn spurry': 'weed',\n",
    "    'red-root amaranth': 'weed',\n",
    "    'common buckwheat': 'crop',\n",
    "    'pea': 'crop',\n",
    "    'red fingergrass': 'weed',\n",
    "    'common wild oat': 'weed',\n",
    "    'cornflower': 'weed',\n",
    "    'corn cockle': 'weed',\n",
    "    'corn': 'crop',\n",
    "    'milk thistle': 'weed',\n",
    "    'rye brome': 'weed',\n",
    "    'soybean': 'crop',\n",
    "    'sunflower': 'crop',\n",
    "    'narrow-leaved plantain': 'weed',\n",
    "    'small-flower geranium': 'weed',\n",
    "    'sugar beet': 'crop'\n",
    "}\n",
    "\n",
    "crop_indices = [index for index, value in enumerate(plant_classification) if plant_classification[value] == 'crop']\n",
    "weed_indices = [index for index, value in enumerate(plant_classification) if plant_classification[value] == 'weed']\n",
    "\n",
    "print(\"Crop indicies: \", crop_indices)\n",
    "print(\"Weed indicies: \", weed_indices)"
   ]
  },
  {
   "cell_type": "code",
   "execution_count": 7,
   "metadata": {},
   "outputs": [
    {
     "name": "stdout",
     "output_type": "stream",
     "text": [
      "['broad_bean', 'corn_spurry', 'red-root_amaranth', 'red_fingergrass', 'common_wild_oat', 'cornflower', 'corn_cockle', 'milk_thistle', 'rye_brome', 'narrow-leaved_plantain', 'small-flower_geranium']\n"
     ]
    }
   ],
   "source": [
    "# This is a configuration that will determine which type of model and for which plants the following code will be executed\n",
    "weed_plants = [plant_name.replace(\" \", \"_\") for plant_name, classification in plant_classification.items() if classification == 'weed']\n",
    "# weed_plants = []\n",
    "\n",
    "crop = 'broad_bean'\n",
    "# crop = 'common_buckwheat'\n",
    "# crop = 'pea'\n",
    "# crop = 'corn'\n",
    "# crop = 'soybean'\n",
    "# crop = 'sunflower'\n",
    "# crop = 'sugar_beet'\n",
    "\n",
    "# model_type = 'multiclass'\n",
    "model_type = 'binary'\n",
    "\n",
    "model_plant_names = [crop] + weed_plants\n",
    "print(model_plant_names)"
   ]
  },
  {
   "cell_type": "code",
   "execution_count": 8,
   "metadata": {},
   "outputs": [],
   "source": [
    "def get_image_meta_filepath(plant_name):\n",
    "    suffix = '_images.json'\n",
    "    if plant_name in weed_plants:\n",
    "        suffix = '_no_crop_images.json'\n",
    "    return './meta/' + plant_name + suffix"
   ]
  },
  {
   "cell_type": "code",
   "execution_count": 9,
   "metadata": {},
   "outputs": [],
   "source": [
    "def get_image_list_for_plant(plant_name, model_type):\n",
    "    # Create an empty list to store the dataset\n",
    "    image_list = []\n",
    "    plant_image_names = json.load(codecs.open(get_image_meta_filepath(plant_name), 'r', 'utf-8-sig'))\n",
    "\n",
    "    # Exclude images that contain more than one crop\n",
    "    image_names_to_exclude = ['img_01096.png' 'img_01098.png']\n",
    "    plant_image_names = [image_name for image_name in plant_image_names if image_name not in image_names_to_exclude]\n",
    "    print(plant_image_names)\n",
    "\n",
    "    # Iterate over the image and annotation paths\n",
    "    for image_name in plant_image_names:\n",
    "        # Load the image and annotation using PIL\n",
    "        image = Image.open(image_folder + image_name)\n",
    "        path = None\n",
    "        if model_type == 'multiclass':\n",
    "            path = 'WE3DS/annotations_multiclass/' + crop + '/' + image_name\n",
    "        elif model_type == 'binary':\n",
    "            path = 'WE3DS/annotations_binary/' + crop + '/' + image_name\n",
    "\n",
    "        annotation = Image.open(path)\n",
    "        \n",
    "        # Create a dictionary entry for the dataseta\n",
    "        entry = {'image': image, 'annotation': annotation}\n",
    "        \n",
    "        # Add the entry to the dataset\n",
    "        image_list.append(entry)\n",
    "\n",
    "    return image_list"
   ]
  },
  {
   "cell_type": "code",
   "execution_count": 10,
   "metadata": {},
   "outputs": [],
   "source": [
    "def create_and_split_dataset_for_plant(plant_image_list):\n",
    "    dataset = datasets.Dataset.from_list(plant_image_list)\n",
    "    dataset = dataset.train_test_split(test_size=0.5, seed=seed)\n",
    "    train_ds = dataset[\"train\"]\n",
    "    val_ds, test_ds = dataset[\"test\"].train_test_split(test_size=0.5, seed=seed).values()\n",
    "    return train_ds, val_ds, test_ds"
   ]
  },
  {
   "cell_type": "code",
   "execution_count": 11,
   "metadata": {},
   "outputs": [],
   "source": [
    "def create_datasets_for_plants(plant_names, model_type):\n",
    "    p0_image_list = get_image_list_for_plant(plant_names[0], model_type)\n",
    "    print(\"Number of plant images for plant\", plant_names[0], \":\", len(p0_image_list))\n",
    "    train_ds, val_ds, test_ds = create_and_split_dataset_for_plant(p0_image_list)\n",
    "\n",
    "    for plant_name in plant_names[1:]:\n",
    "        p_image_list = get_image_list_for_plant(plant_name, model_type)\n",
    "        print(\"Number of plant images for plant\", plant_name, \":\", len(p_image_list))\n",
    "        p_train_ds, p_val_ds, p_test_ds = create_and_split_dataset_for_plant(p_image_list)\n",
    "\n",
    "        train_ds = datasets.concatenate_datasets([train_ds, p_train_ds])\n",
    "        val_ds = datasets.concatenate_datasets([val_ds, p_val_ds])\n",
    "        test_ds = datasets.concatenate_datasets([test_ds, p_test_ds])\n",
    "\n",
    "    return train_ds, val_ds, test_ds"
   ]
  },
  {
   "cell_type": "code",
   "execution_count": 12,
   "metadata": {},
   "outputs": [
    {
     "name": "stdout",
     "output_type": "stream",
     "text": [
      "['img_00173.png', 'img_00174.png', 'img_00175.png', 'img_00176.png', 'img_00177.png', 'img_00178.png', 'img_00672.png', 'img_00673.png', 'img_00674.png', 'img_00675.png', 'img_00676.png', 'img_00677.png', 'img_00678.png', 'img_00679.png', 'img_00680.png', 'img_00681.png', 'img_00682.png', 'img_00683.png', 'img_00684.png', 'img_00882.png', 'img_00883.png', 'img_00884.png', 'img_00885.png', 'img_00886.png', 'img_00887.png', 'img_00938.png', 'img_00980.png', 'img_00981.png', 'img_00982.png', 'img_00983.png', 'img_00984.png', 'img_00985.png', 'img_00986.png', 'img_00987.png', 'img_00988.png', 'img_00989.png', 'img_01070.png', 'img_01071.png', 'img_01072.png', 'img_01073.png', 'img_01074.png', 'img_01075.png', 'img_01076.png', 'img_01077.png', 'img_01078.png', 'img_01079.png', 'img_01219.png', 'img_01220.png', 'img_01221.png', 'img_01222.png', 'img_01223.png', 'img_01224.png', 'img_01225.png', 'img_01226.png', 'img_01227.png', 'img_01228.png', 'img_01279.png', 'img_01280.png', 'img_01281.png', 'img_01282.png', 'img_01283.png', 'img_01284.png', 'img_01285.png', 'img_01286.png', 'img_01287.png', 'img_01288.png', 'img_01455.png', 'img_01456.png', 'img_01457.png', 'img_01458.png', 'img_01459.png', 'img_01460.png', 'img_01461.png', 'img_01462.png', 'img_01463.png', 'img_01464.png', 'img_01465.png', 'img_01466.png', 'img_01467.png', 'img_01468.png', 'img_01469.png', 'img_01825.png', 'img_01826.png', 'img_01827.png', 'img_01828.png', 'img_01829.png', 'img_01830.png', 'img_01831.png', 'img_01832.png', 'img_01833.png', 'img_01834.png', 'img_01835.png', 'img_01836.png', 'img_01837.png', 'img_01928.png', 'img_01929.png', 'img_01930.png', 'img_01931.png', 'img_01932.png', 'img_01933.png', 'img_01934.png', 'img_01935.png', 'img_01936.png', 'img_01937.png', 'img_01938.png', 'img_01939.png', 'img_01940.png', 'img_01941.png', 'img_01942.png', 'img_01943.png', 'img_01944.png', 'img_01945.png', 'img_01946.png', 'img_01947.png', 'img_01948.png', 'img_01949.png', 'img_01950.png', 'img_01951.png', 'img_01952.png', 'img_01953.png', 'img_01954.png', 'img_01955.png', 'img_02099.png', 'img_02100.png', 'img_02101.png', 'img_02102.png', 'img_02103.png', 'img_02104.png', 'img_02105.png', 'img_02106.png', 'img_02107.png', 'img_02108.png', 'img_02109.png', 'img_02110.png', 'img_02111.png', 'img_02112.png', 'img_02113.png', 'img_02114.png', 'img_02115.png', 'img_02116.png', 'img_02117.png', 'img_02118.png', 'img_02119.png', 'img_02120.png', 'img_02121.png', 'img_02122.png', 'img_02123.png', 'img_02124.png', 'img_02125.png', 'img_02126.png', 'img_02127.png', 'img_02128.png', 'img_02129.png', 'img_02130.png', 'img_02131.png', 'img_02132.png', 'img_02133.png', 'img_02134.png', 'img_02135.png', 'img_02136.png', 'img_02137.png', 'img_02138.png', 'img_02139.png', 'img_02140.png', 'img_02348.png', 'img_02349.png', 'img_02350.png', 'img_02351.png', 'img_02352.png', 'img_02353.png', 'img_02354.png', 'img_02355.png', 'img_02356.png', 'img_02357.png', 'img_02358.png', 'img_02359.png', 'img_02360.png', 'img_02361.png', 'img_02362.png', 'img_02363.png', 'img_02364.png', 'img_02365.png', 'img_02366.png', 'img_02367.png', 'img_02368.png', 'img_02369.png', 'img_02370.png', 'img_02371.png', 'img_02372.png', 'img_02373.png', 'img_02374.png', 'img_02375.png', 'img_02376.png', 'img_02377.png', 'img_02378.png', 'img_02379.png', 'img_02380.png', 'img_02381.png', 'img_02382.png', 'img_02383.png', 'img_02384.png', 'img_02385.png', 'img_02543.png', 'img_02544.png', 'img_02545.png', 'img_02546.png', 'img_02547.png', 'img_02548.png', 'img_02549.png', 'img_02550.png']\n",
      "Number of plant images for plant broad_bean : 210\n",
      "['img_01790.png', 'img_01799.png', 'img_01804.png', 'img_01807.png', 'img_01796.png', 'img_01788.png', 'img_01803.png', 'img_01802.png', 'img_01806.png', 'img_01801.png', 'img_01794.png', 'img_01789.png', 'img_01793.png', 'img_01795.png', 'img_01805.png', 'img_01792.png', 'img_01797.png', 'img_01800.png', 'img_01791.png', 'img_01798.png']\n",
      "Number of plant images for plant corn_spurry : 20\n",
      "['img_01796.png', 'img_01767.png', 'img_01768.png']\n",
      "Number of plant images for plant red-root_amaranth : 3\n",
      "['img_01813.png', 'img_01812.png', 'img_01809.png', 'img_01808.png', 'img_01810.png', 'img_01811.png', 'img_01815.png', 'img_01814.png']\n",
      "Number of plant images for plant red_fingergrass : 8\n",
      "['img_00712.png', 'img_00659.png', 'img_00209.png', 'img_00657.png', 'img_00419.png', 'img_00208.png', 'img_00717.png', 'img_00424.png', 'img_00204.png', 'img_00658.png', 'img_00715.png', 'img_00206.png', 'img_00421.png', 'img_00203.png', 'img_00434.png', 'img_00713.png', 'img_00430.png', 'img_00420.png', 'img_00710.png', 'img_00716.png', 'img_00709.png', 'img_00429.png', 'img_00431.png', 'img_00435.png', 'img_00714.png']\n",
      "Number of plant images for plant common_wild_oat : 25\n",
      "['img_01259.png', 'img_00465.png', 'img_00857.png', 'img_00377.png', 'img_00076.png', 'img_01263.png', 'img_00222.png', 'img_00617.png', 'img_00612.png', 'img_01145.png', 'img_00953.png', 'img_00440.png', 'img_00907.png', 'img_00362.png', 'img_00223.png', 'img_00558.png', 'img_01262.png', 'img_00569.png', 'img_01754.png', 'img_01147.png', 'img_00375.png', 'img_00361.png', 'img_01148.png', 'img_00812.png', 'img_00450.png', 'img_00370.png', 'img_00364.png', 'img_01766.png', 'img_00855.png', 'img_00116.png', 'img_00369.png', 'img_01270.png', 'img_00121.png', 'img_00811.png', 'img_01762.png', 'img_00954.png', 'img_00608.png', 'img_00077.png', 'img_00079.png', 'img_01141.png', 'img_01049.png', 'img_00611.png', 'img_00613.png', 'img_01197.png', 'img_01140.png', 'img_00619.png', 'img_00219.png', 'img_00810.png', 'img_01142.png', 'img_00620.png', 'img_01752.png', 'img_01194.png', 'img_00454.png', 'img_00374.png', 'img_00955.png', 'img_00123.png', 'img_01196.png', 'img_01144.png', 'img_01264.png', 'img_00366.png', 'img_00118.png', 'img_00363.png', 'img_00086.png', 'img_01044.png', 'img_01198.png', 'img_01751.png', 'img_00561.png', 'img_00224.png', 'img_01042.png', 'img_01266.png', 'img_01046.png', 'img_00556.png', 'img_01190.png', 'img_00618.png', 'img_00804.png', 'img_01261.png', 'img_00457.png', 'img_01191.png', 'img_00555.png', 'img_00082.png', 'img_00448.png', 'img_00456.png', 'img_01045.png', 'img_00447.png', 'img_01767.png', 'img_00609.png', 'img_00073.png', 'img_01043.png', 'img_00856.png', 'img_00957.png', 'img_01758.png', 'img_00078.png', 'img_00371.png', 'img_00616.png', 'img_01756.png', 'img_01048.png', 'img_00225.png', 'img_01753.png', 'img_01267.png', 'img_01871.png', 'img_01260.png', 'img_00615.png', 'img_01750.png', 'img_01768.png', 'img_00959.png', 'img_00956.png', 'img_00610.png', 'img_01765.png', 'img_01757.png', 'img_00068.png', 'img_01877.png', 'img_01760.png', 'img_01271.png', 'img_00360.png', 'img_00228.png', 'img_01759.png', 'img_00365.png', 'img_00122.png', 'img_01764.png', 'img_00466.png', 'img_01146.png', 'img_00449.png', 'img_00614.png', 'img_00372.png', 'img_00726.png', 'img_00378.png', 'img_01189.png', 'img_00958.png', 'img_01755.png', 'img_01763.png', 'img_00081.png', 'img_00070.png', 'img_00936.png', 'img_00821.png', 'img_00367.png', 'img_00859.png', 'img_01047.png', 'img_01265.png', 'img_00359.png', 'img_00952.png', 'img_00075.png', 'img_00080.png', 'img_01041.png', 'img_00069.png', 'img_00368.png', 'img_01143.png', 'img_00376.png', 'img_01040.png', 'img_00452.png', 'img_00950.png', 'img_01192.png', 'img_00373.png', 'img_00729.png', 'img_01193.png', 'img_00451.png', 'img_00567.png', 'img_01195.png', 'img_01761.png', 'img_01268.png', 'img_00951.png', 'img_00858.png', 'img_01873.png']\n",
      "Number of plant images for plant cornflower : 162\n",
      "['img_01349.png', 'img_02495.png', 'img_00625.png', 'img_01000.png', 'img_00626.png', 'img_01128.png', 'img_02199.png', 'img_01600.png', 'img_01580.png', 'img_02010.png', 'img_01105.png', 'img_02204.png', 'img_01720.png', 'img_01003.png', 'img_01250.png', 'img_01635.png', 'img_01171.png', 'img_01009.png', 'img_00750.png', 'img_02190.png', 'img_01005.png', 'img_02006.png', 'img_01254.png', 'img_01646.png', 'img_00623.png', 'img_01007.png', 'img_01255.png', 'img_01641.png', 'img_02491.png', 'img_02005.png', 'img_01992.png', 'img_01002.png', 'img_01634.png', 'img_02202.png', 'img_00624.png', 'img_02003.png', 'img_01249.png', 'img_01597.png', 'img_01709.png', 'img_00631.png', 'img_01630.png', 'img_01998.png', 'img_01722.png', 'img_02494.png', 'img_01100.png', 'img_00272.png', 'img_01124.png', 'img_02011.png', 'img_01594.png', 'img_00756.png', 'img_01632.png', 'img_01129.png', 'img_00768.png', 'img_01716.png', 'img_02200.png', 'img_01103.png', 'img_01253.png', 'img_01643.png', 'img_01354.png', 'img_00627.png', 'img_00860.png', 'img_01633.png', 'img_00866.png', 'img_00639.png', 'img_02201.png', 'img_00752.png', 'img_01642.png', 'img_01645.png', 'img_01713.png', 'img_01715.png', 'img_02198.png', 'img_00262.png', 'img_00862.png', 'img_00494.png', 'img_01177.png', 'img_01256.png', 'img_01102.png', 'img_01107.png', 'img_01601.png', 'img_02007.png', 'img_01258.png', 'img_01714.png', 'img_00633.png', 'img_01996.png', 'img_01257.png', 'img_01348.png', 'img_01123.png', 'img_02192.png', 'img_01108.png', 'img_01724.png', 'img_02490.png', 'img_00918.png', 'img_00621.png', 'img_00635.png', 'img_01004.png', 'img_01121.png', 'img_01989.png', 'img_01172.png', 'img_02195.png', 'img_00263.png', 'img_01712.png', 'img_01599.png', 'img_00270.png', 'img_01101.png', 'img_00637.png', 'img_01126.png', 'img_01106.png', 'img_00861.png', 'img_01725.png', 'img_02012.png', 'img_01243.png', 'img_00632.png', 'img_01592.png', 'img_01006.png', 'img_02203.png', 'img_01994.png', 'img_00758.png', 'img_01637.png', 'img_01109.png', 'img_01644.png', 'img_01995.png', 'img_00629.png', 'img_00622.png', 'img_01251.png', 'img_00261.png', 'img_01178.png', 'img_01990.png', 'img_00630.png', 'img_01993.png', 'img_01647.png', 'img_01252.png', 'img_00503.png', 'img_00863.png', 'img_00492.png', 'img_00753.png', 'img_01596.png', 'img_00638.png', 'img_01631.png', 'img_00759.png', 'img_01999.png', 'img_01717.png', 'img_01104.png', 'img_01122.png', 'img_01710.png', 'img_01638.png', 'img_02009.png', 'img_02489.png', 'img_01595.png', 'img_01997.png', 'img_00770.png', 'img_00252.png', 'img_00755.png', 'img_01169.png', 'img_01246.png', 'img_01173.png', 'img_01629.png', 'img_01711.png', 'img_01723.png', 'img_00628.png', 'img_02197.png', 'img_00864.png', 'img_01170.png', 'img_02193.png', 'img_01648.png', 'img_01175.png', 'img_01598.png', 'img_01640.png', 'img_01719.png', 'img_01721.png', 'img_00253.png', 'img_02004.png', 'img_01008.png', 'img_01176.png', 'img_01127.png', 'img_02492.png', 'img_01636.png', 'img_00636.png', 'img_01356.png', 'img_01593.png', 'img_00493.png', 'img_01174.png', 'img_02000.png', 'img_01120.png', 'img_02191.png', 'img_02493.png', 'img_01001.png', 'img_00634.png', 'img_01639.png', 'img_02008.png', 'img_02194.png', 'img_00865.png', 'img_02002.png', 'img_02001.png', 'img_01991.png', 'img_01570.png', 'img_01718.png', 'img_01125.png', 'img_00501.png', 'img_00867.png', 'img_02196.png']\n",
      "Number of plant images for plant corn_cockle : 200\n",
      "['img_01742.png', 'img_02013.png', 'img_02024.png', 'img_02218.png', 'img_01614.png', 'img_01731.png', 'img_02026.png', 'img_02216.png', 'img_01744.png', 'img_01653.png', 'img_01737.png', 'img_01543.png', 'img_01612.png', 'img_02226.png', 'img_01743.png', 'img_01650.png', 'img_01664.png', 'img_01659.png', 'img_01682.png', 'img_01651.png', 'img_01699.png', 'img_01667.png', 'img_02019.png', 'img_02205.png', 'img_01617.png', 'img_01627.png', 'img_01665.png', 'img_01728.png', 'img_01739.png', 'img_01658.png', 'img_01606.png', 'img_02214.png', 'img_02498.png', 'img_01734.png', 'img_01655.png', 'img_01727.png', 'img_01021.png', 'img_02222.png', 'img_01619.png', 'img_01623.png', 'img_01858.png', 'img_01863.png', 'img_02017.png', 'img_01652.png', 'img_01624.png', 'img_02501.png', 'img_02213.png', 'img_01656.png', 'img_02215.png', 'img_02221.png', 'img_01662.png', 'img_02483.png', 'img_02208.png', 'img_01622.png', 'img_02502.png', 'img_01615.png', 'img_01733.png', 'img_01657.png', 'img_01736.png', 'img_02028.png', 'img_02476.png', 'img_01747.png', 'img_01745.png', 'img_01610.png', 'img_01701.png', 'img_02499.png', 'img_01654.png', 'img_01707.png', 'img_02212.png', 'img_01663.png', 'img_02016.png', 'img_02025.png', 'img_02470.png', 'img_01729.png', 'img_02022.png', 'img_01748.png', 'img_02228.png', 'img_02029.png', 'img_01730.png', 'img_01625.png', 'img_02211.png', 'img_01670.png', 'img_01740.png', 'img_02015.png', 'img_02207.png', 'img_02229.png', 'img_02497.png', 'img_01669.png', 'img_01649.png', 'img_01732.png', 'img_02454.png', 'img_02477.png', 'img_02021.png', 'img_01022.png', 'img_01689.png', 'img_02020.png', 'img_01726.png', 'img_01738.png', 'img_02488.png', 'img_01861.png', 'img_01024.png', 'img_02223.png', 'img_01735.png', 'img_01668.png', 'img_02014.png', 'img_01026.png', 'img_02220.png', 'img_01559.png', 'img_01020.png', 'img_02227.png', 'img_01602.png', 'img_01609.png', 'img_02217.png', 'img_01025.png', 'img_02496.png', 'img_02219.png', 'img_01628.png', 'img_01706.png', 'img_01741.png', 'img_02210.png', 'img_02500.png', 'img_02027.png', 'img_01608.png', 'img_01028.png', 'img_01702.png', 'img_01856.png', 'img_01746.png', 'img_01618.png', 'img_02209.png', 'img_02453.png', 'img_01616.png', 'img_01621.png', 'img_01027.png', 'img_01620.png', 'img_02224.png', 'img_01537.png', 'img_02206.png', 'img_01611.png', 'img_01613.png', 'img_01029.png', 'img_01605.png', 'img_01607.png', 'img_01603.png', 'img_01604.png', 'img_02030.png', 'img_01666.png', 'img_02018.png', 'img_01023.png', 'img_01626.png', 'img_02023.png', 'img_01749.png', 'img_01660.png', 'img_01661.png', 'img_02225.png']\n",
      "Number of plant images for plant milk_thistle : 154\n",
      "['img_01276.png', 'img_00963.png', 'img_00961.png', 'img_01054.png', 'img_01155.png', 'img_01157.png', 'img_01156.png', 'img_01154.png', 'img_01200.png', 'img_01769.png', 'img_01150.png', 'img_00967.png', 'img_01050.png', 'img_01158.png', 'img_01201.png', 'img_01275.png', 'img_01056.png', 'img_00965.png', 'img_01208.png', 'img_01773.png', 'img_01052.png', 'img_01771.png', 'img_01055.png', 'img_01152.png', 'img_00966.png', 'img_01199.png', 'img_01206.png', 'img_01269.png', 'img_01770.png', 'img_01202.png', 'img_01774.png', 'img_01153.png', 'img_00962.png', 'img_01059.png', 'img_01273.png', 'img_01776.png', 'img_01149.png', 'img_01207.png', 'img_01772.png', 'img_00960.png', 'img_01203.png', 'img_01271.png', 'img_00937.png', 'img_01277.png', 'img_00968.png', 'img_01278.png', 'img_01051.png', 'img_01777.png', 'img_01272.png', 'img_01058.png', 'img_01270.png', 'img_01775.png', 'img_01057.png', 'img_00964.png', 'img_01053.png', 'img_01151.png', 'img_01205.png', 'img_01204.png', 'img_01274.png', 'img_00969.png']\n",
      "Number of plant images for plant rye_brome : 60\n",
      "['img_01781.png', 'img_01786.png', 'img_00645.png', 'img_01783.png', 'img_00646.png', 'img_00647.png', 'img_01804.png', 'img_00649.png', 'img_00651.png', 'img_00650.png', 'img_01806.png', 'img_00648.png', 'img_00652.png', 'img_01782.png', 'img_01784.png', 'img_01779.png', 'img_00643.png', 'img_01785.png', 'img_01787.png', 'img_00644.png', 'img_01778.png', 'img_01780.png']\n",
      "Number of plant images for plant narrow-leaved_plantain : 22\n",
      "['img_00474.png', 'img_00796.png', 'img_00536.png', 'img_00144.png', 'img_00601.png', 'img_00532.png', 'img_00605.png', 'img_00745.png', 'img_00914.png', 'img_00528.png', 'img_00356.png', 'img_00346.png', 'img_00595.png', 'img_00148.png', 'img_00145.png', 'img_00354.png', 'img_00542.png', 'img_00096.png', 'img_00149.png', 'img_00351.png', 'img_00852.png', 'img_00478.png', 'img_00607.png', 'img_00479.png', 'img_00486.png', 'img_00357.png', 'img_00350.png', 'img_00737.png', 'img_00347.png', 'img_00348.png', 'img_00476.png', 'img_00742.png', 'img_00736.png', 'img_00468.png', 'img_00546.png', 'img_00482.png', 'img_00469.png', 'img_00529.png', 'img_00853.png', 'img_00547.png', 'img_00341.png', 'img_00352.png', 'img_00477.png', 'img_00850.png', 'img_00467.png', 'img_00147.png', 'img_00353.png', 'img_00480.png', 'img_00596.png', 'img_00358.png', 'img_00150.png', 'img_00342.png', 'img_00599.png', 'img_00851.png', 'img_00343.png', 'img_00355.png', 'img_00600.png', 'img_00791.png', 'img_00344.png', 'img_00854.png', 'img_00604.png', 'img_00345.png', 'img_00603.png', 'img_00146.png', 'img_00908.png', 'img_00602.png', 'img_00606.png', 'img_00598.png', 'img_00797.png', 'img_00597.png', 'img_00545.png', 'img_00349.png']\n",
      "Number of plant images for plant small-flower_geranium : 72\n"
     ]
    }
   ],
   "source": [
    "train_ds, val_ds, test_ds = create_datasets_for_plants(model_plant_names, model_type)"
   ]
  },
  {
   "cell_type": "code",
   "execution_count": 13,
   "metadata": {},
   "outputs": [
    {
     "name": "stdout",
     "output_type": "stream",
     "text": [
      "Training subset number of images: 467\n",
      "Validation subset number of images: 232\n",
      "Test subset number of images: 237\n"
     ]
    }
   ],
   "source": [
    "print(\"Training subset number of images: \" + str(train_ds.num_rows))\n",
    "print(\"Validation subset number of images: \" + str(val_ds.num_rows))\n",
    "print(\"Test subset number of images: \" + str(test_ds.num_rows))"
   ]
  },
  {
   "cell_type": "code",
   "execution_count": 14,
   "metadata": {},
   "outputs": [
    {
     "name": "stderr",
     "output_type": "stream",
     "text": [
      "c:\\Users\\Kate\\AppData\\Local\\miniconda3\\envs\\master\\Lib\\site-packages\\transformers\\models\\segformer\\image_processing_segformer.py:99: FutureWarning: The `reduce_labels` parameter is deprecated and will be removed in a future version. Please use `do_reduce_labels` instead.\n",
      "  warnings.warn(\n"
     ]
    },
    {
     "data": {
      "text/plain": [
       "SegformerImageProcessor {\n",
       "  \"do_normalize\": true,\n",
       "  \"do_reduce_labels\": false,\n",
       "  \"do_rescale\": true,\n",
       "  \"do_resize\": true,\n",
       "  \"feature_extractor_type\": \"SegformerFeatureExtractor\",\n",
       "  \"image_mean\": [\n",
       "    0.485,\n",
       "    0.456,\n",
       "    0.406\n",
       "  ],\n",
       "  \"image_processor_type\": \"SegformerImageProcessor\",\n",
       "  \"image_std\": [\n",
       "    0.229,\n",
       "    0.224,\n",
       "    0.225\n",
       "  ],\n",
       "  \"resample\": 2,\n",
       "  \"rescale_factor\": 0.00392156862745098,\n",
       "  \"size\": {\n",
       "    \"height\": 512,\n",
       "    \"width\": 512\n",
       "  }\n",
       "}"
      ]
     },
     "execution_count": 14,
     "metadata": {},
     "output_type": "execute_result"
    }
   ],
   "source": [
    "from transformers import AutoImageProcessor\n",
    "from transformers import SegformerImageProcessor\n",
    "\n",
    "checkpoint = \"nvidia/mit-b0\"\n",
    "image_processor = SegformerImageProcessor.from_pretrained(checkpoint)\n",
    "image_processor"
   ]
  },
  {
   "cell_type": "code",
   "execution_count": 15,
   "metadata": {},
   "outputs": [],
   "source": [
    "def train_transforms(example_batch):\n",
    "    images = [x for x in example_batch[\"image\"]]\n",
    "    labels = [x for x in example_batch[\"annotation\"]]\n",
    "    inputs = image_processor(images, labels, return_tensors=\"pt\")\n",
    "    inputs\n",
    "    return inputs"
   ]
  },
  {
   "cell_type": "code",
   "execution_count": 16,
   "metadata": {},
   "outputs": [],
   "source": [
    "metric = evaluate.load(\"mean_iou\")"
   ]
  },
  {
   "cell_type": "code",
   "execution_count": 17,
   "metadata": {},
   "outputs": [
    {
     "name": "stdout",
     "output_type": "stream",
     "text": [
      "labels: ['void', 'soil', 'broad_bean', 'weeds']\n",
      "ids: [0, 1, 2, 3]\n",
      "num_labels: 4\n",
      "id2label: {0: 'void', 1: 'soil', 2: 'broad_bean', 3: 'weeds'}\n",
      "label2id: {'void': 0, 'soil': 1, 'broad_bean': 2, 'weeds': 3}\n"
     ]
    }
   ],
   "source": [
    "labels = ['void', 'soil', crop]\n",
    "\n",
    "if model_type == 'binary':\n",
    "    labels.append('weeds')\n",
    "elif model_type == 'multiclass':\n",
    "    for weed_plant in weed_plants:\n",
    "        labels.append(weed_plant)\n",
    "\n",
    "ids = list(range(0, len(labels)))\n",
    "\n",
    "id2label = dict(zip(ids, labels))\n",
    "label2id = dict(zip(labels, ids))\n",
    "\n",
    "num_labels = len(labels)\n",
    "\n",
    "print('labels:', labels)\n",
    "print('ids:', ids)\n",
    "print('num_labels:', num_labels)\n",
    "print('id2label:', id2label)\n",
    "print('label2id:', label2id)"
   ]
  },
  {
   "cell_type": "code",
   "execution_count": 18,
   "metadata": {},
   "outputs": [],
   "source": [
    "def compute_metrics(eval_pred):\n",
    "    with torch.no_grad():\n",
    "        logits, labels = eval_pred\n",
    "        logits_tensor = torch.from_numpy(logits)\n",
    "        logits_tensor = torch.nn.functional.interpolate(\n",
    "            logits_tensor,\n",
    "            size=labels.shape[-2:],\n",
    "            mode=\"bilinear\",\n",
    "            align_corners=False,\n",
    "        ).argmax(dim=1)\n",
    "\n",
    "        pred_labels = logits_tensor.detach().cpu().numpy()\n",
    "        metrics = metric.compute(\n",
    "            predictions=pred_labels,\n",
    "            references=labels,\n",
    "            num_labels=num_labels,\n",
    "            ignore_index=255,\n",
    "            reduce_labels=False,\n",
    "        )\n",
    "        for key, value in metrics.items():\n",
    "            if type(value) is np.ndarray:\n",
    "                metrics[key] = value.tolist()\n",
    "        return metrics"
   ]
  },
  {
   "cell_type": "code",
   "execution_count": 19,
   "metadata": {},
   "outputs": [
    {
     "name": "stderr",
     "output_type": "stream",
     "text": [
      "Some weights of SegformerForSemanticSegmentation were not initialized from the model checkpoint at nvidia/mit-b0 and are newly initialized: ['decode_head.batch_norm.running_mean', 'decode_head.linear_c.2.proj.weight', 'decode_head.classifier.weight', 'decode_head.linear_fuse.weight', 'decode_head.linear_c.0.proj.weight', 'decode_head.linear_c.2.proj.bias', 'decode_head.linear_c.0.proj.bias', 'decode_head.linear_c.3.proj.bias', 'decode_head.batch_norm.weight', 'decode_head.batch_norm.num_batches_tracked', 'decode_head.linear_c.1.proj.weight', 'decode_head.batch_norm.bias', 'decode_head.linear_c.1.proj.bias', 'decode_head.batch_norm.running_var', 'decode_head.linear_c.3.proj.weight', 'decode_head.classifier.bias']\n",
      "You should probably TRAIN this model on a down-stream task to be able to use it for predictions and inference.\n"
     ]
    },
    {
     "data": {
      "text/plain": [
       "SegformerForSemanticSegmentation(\n",
       "  (segformer): SegformerModel(\n",
       "    (encoder): SegformerEncoder(\n",
       "      (patch_embeddings): ModuleList(\n",
       "        (0): SegformerOverlapPatchEmbeddings(\n",
       "          (proj): Conv2d(3, 32, kernel_size=(7, 7), stride=(4, 4), padding=(3, 3))\n",
       "          (layer_norm): LayerNorm((32,), eps=1e-05, elementwise_affine=True)\n",
       "        )\n",
       "        (1): SegformerOverlapPatchEmbeddings(\n",
       "          (proj): Conv2d(32, 64, kernel_size=(3, 3), stride=(2, 2), padding=(1, 1))\n",
       "          (layer_norm): LayerNorm((64,), eps=1e-05, elementwise_affine=True)\n",
       "        )\n",
       "        (2): SegformerOverlapPatchEmbeddings(\n",
       "          (proj): Conv2d(64, 160, kernel_size=(3, 3), stride=(2, 2), padding=(1, 1))\n",
       "          (layer_norm): LayerNorm((160,), eps=1e-05, elementwise_affine=True)\n",
       "        )\n",
       "        (3): SegformerOverlapPatchEmbeddings(\n",
       "          (proj): Conv2d(160, 256, kernel_size=(3, 3), stride=(2, 2), padding=(1, 1))\n",
       "          (layer_norm): LayerNorm((256,), eps=1e-05, elementwise_affine=True)\n",
       "        )\n",
       "      )\n",
       "      (block): ModuleList(\n",
       "        (0): ModuleList(\n",
       "          (0): SegformerLayer(\n",
       "            (layer_norm_1): LayerNorm((32,), eps=1e-05, elementwise_affine=True)\n",
       "            (attention): SegformerAttention(\n",
       "              (self): SegformerEfficientSelfAttention(\n",
       "                (query): Linear(in_features=32, out_features=32, bias=True)\n",
       "                (key): Linear(in_features=32, out_features=32, bias=True)\n",
       "                (value): Linear(in_features=32, out_features=32, bias=True)\n",
       "                (dropout): Dropout(p=0.0, inplace=False)\n",
       "                (sr): Conv2d(32, 32, kernel_size=(8, 8), stride=(8, 8))\n",
       "                (layer_norm): LayerNorm((32,), eps=1e-05, elementwise_affine=True)\n",
       "              )\n",
       "              (output): SegformerSelfOutput(\n",
       "                (dense): Linear(in_features=32, out_features=32, bias=True)\n",
       "                (dropout): Dropout(p=0.0, inplace=False)\n",
       "              )\n",
       "            )\n",
       "            (drop_path): Identity()\n",
       "            (layer_norm_2): LayerNorm((32,), eps=1e-05, elementwise_affine=True)\n",
       "            (mlp): SegformerMixFFN(\n",
       "              (dense1): Linear(in_features=32, out_features=128, bias=True)\n",
       "              (dwconv): SegformerDWConv(\n",
       "                (dwconv): Conv2d(128, 128, kernel_size=(3, 3), stride=(1, 1), padding=(1, 1), groups=128)\n",
       "              )\n",
       "              (intermediate_act_fn): GELUActivation()\n",
       "              (dense2): Linear(in_features=128, out_features=32, bias=True)\n",
       "              (dropout): Dropout(p=0.0, inplace=False)\n",
       "            )\n",
       "          )\n",
       "          (1): SegformerLayer(\n",
       "            (layer_norm_1): LayerNorm((32,), eps=1e-05, elementwise_affine=True)\n",
       "            (attention): SegformerAttention(\n",
       "              (self): SegformerEfficientSelfAttention(\n",
       "                (query): Linear(in_features=32, out_features=32, bias=True)\n",
       "                (key): Linear(in_features=32, out_features=32, bias=True)\n",
       "                (value): Linear(in_features=32, out_features=32, bias=True)\n",
       "                (dropout): Dropout(p=0.0, inplace=False)\n",
       "                (sr): Conv2d(32, 32, kernel_size=(8, 8), stride=(8, 8))\n",
       "                (layer_norm): LayerNorm((32,), eps=1e-05, elementwise_affine=True)\n",
       "              )\n",
       "              (output): SegformerSelfOutput(\n",
       "                (dense): Linear(in_features=32, out_features=32, bias=True)\n",
       "                (dropout): Dropout(p=0.0, inplace=False)\n",
       "              )\n",
       "            )\n",
       "            (drop_path): SegformerDropPath(p=0.014285714365541935)\n",
       "            (layer_norm_2): LayerNorm((32,), eps=1e-05, elementwise_affine=True)\n",
       "            (mlp): SegformerMixFFN(\n",
       "              (dense1): Linear(in_features=32, out_features=128, bias=True)\n",
       "              (dwconv): SegformerDWConv(\n",
       "                (dwconv): Conv2d(128, 128, kernel_size=(3, 3), stride=(1, 1), padding=(1, 1), groups=128)\n",
       "              )\n",
       "              (intermediate_act_fn): GELUActivation()\n",
       "              (dense2): Linear(in_features=128, out_features=32, bias=True)\n",
       "              (dropout): Dropout(p=0.0, inplace=False)\n",
       "            )\n",
       "          )\n",
       "        )\n",
       "        (1): ModuleList(\n",
       "          (0): SegformerLayer(\n",
       "            (layer_norm_1): LayerNorm((64,), eps=1e-05, elementwise_affine=True)\n",
       "            (attention): SegformerAttention(\n",
       "              (self): SegformerEfficientSelfAttention(\n",
       "                (query): Linear(in_features=64, out_features=64, bias=True)\n",
       "                (key): Linear(in_features=64, out_features=64, bias=True)\n",
       "                (value): Linear(in_features=64, out_features=64, bias=True)\n",
       "                (dropout): Dropout(p=0.0, inplace=False)\n",
       "                (sr): Conv2d(64, 64, kernel_size=(4, 4), stride=(4, 4))\n",
       "                (layer_norm): LayerNorm((64,), eps=1e-05, elementwise_affine=True)\n",
       "              )\n",
       "              (output): SegformerSelfOutput(\n",
       "                (dense): Linear(in_features=64, out_features=64, bias=True)\n",
       "                (dropout): Dropout(p=0.0, inplace=False)\n",
       "              )\n",
       "            )\n",
       "            (drop_path): SegformerDropPath(p=0.02857142873108387)\n",
       "            (layer_norm_2): LayerNorm((64,), eps=1e-05, elementwise_affine=True)\n",
       "            (mlp): SegformerMixFFN(\n",
       "              (dense1): Linear(in_features=64, out_features=256, bias=True)\n",
       "              (dwconv): SegformerDWConv(\n",
       "                (dwconv): Conv2d(256, 256, kernel_size=(3, 3), stride=(1, 1), padding=(1, 1), groups=256)\n",
       "              )\n",
       "              (intermediate_act_fn): GELUActivation()\n",
       "              (dense2): Linear(in_features=256, out_features=64, bias=True)\n",
       "              (dropout): Dropout(p=0.0, inplace=False)\n",
       "            )\n",
       "          )\n",
       "          (1): SegformerLayer(\n",
       "            (layer_norm_1): LayerNorm((64,), eps=1e-05, elementwise_affine=True)\n",
       "            (attention): SegformerAttention(\n",
       "              (self): SegformerEfficientSelfAttention(\n",
       "                (query): Linear(in_features=64, out_features=64, bias=True)\n",
       "                (key): Linear(in_features=64, out_features=64, bias=True)\n",
       "                (value): Linear(in_features=64, out_features=64, bias=True)\n",
       "                (dropout): Dropout(p=0.0, inplace=False)\n",
       "                (sr): Conv2d(64, 64, kernel_size=(4, 4), stride=(4, 4))\n",
       "                (layer_norm): LayerNorm((64,), eps=1e-05, elementwise_affine=True)\n",
       "              )\n",
       "              (output): SegformerSelfOutput(\n",
       "                (dense): Linear(in_features=64, out_features=64, bias=True)\n",
       "                (dropout): Dropout(p=0.0, inplace=False)\n",
       "              )\n",
       "            )\n",
       "            (drop_path): SegformerDropPath(p=0.04285714402794838)\n",
       "            (layer_norm_2): LayerNorm((64,), eps=1e-05, elementwise_affine=True)\n",
       "            (mlp): SegformerMixFFN(\n",
       "              (dense1): Linear(in_features=64, out_features=256, bias=True)\n",
       "              (dwconv): SegformerDWConv(\n",
       "                (dwconv): Conv2d(256, 256, kernel_size=(3, 3), stride=(1, 1), padding=(1, 1), groups=256)\n",
       "              )\n",
       "              (intermediate_act_fn): GELUActivation()\n",
       "              (dense2): Linear(in_features=256, out_features=64, bias=True)\n",
       "              (dropout): Dropout(p=0.0, inplace=False)\n",
       "            )\n",
       "          )\n",
       "        )\n",
       "        (2): ModuleList(\n",
       "          (0): SegformerLayer(\n",
       "            (layer_norm_1): LayerNorm((160,), eps=1e-05, elementwise_affine=True)\n",
       "            (attention): SegformerAttention(\n",
       "              (self): SegformerEfficientSelfAttention(\n",
       "                (query): Linear(in_features=160, out_features=160, bias=True)\n",
       "                (key): Linear(in_features=160, out_features=160, bias=True)\n",
       "                (value): Linear(in_features=160, out_features=160, bias=True)\n",
       "                (dropout): Dropout(p=0.0, inplace=False)\n",
       "                (sr): Conv2d(160, 160, kernel_size=(2, 2), stride=(2, 2))\n",
       "                (layer_norm): LayerNorm((160,), eps=1e-05, elementwise_affine=True)\n",
       "              )\n",
       "              (output): SegformerSelfOutput(\n",
       "                (dense): Linear(in_features=160, out_features=160, bias=True)\n",
       "                (dropout): Dropout(p=0.0, inplace=False)\n",
       "              )\n",
       "            )\n",
       "            (drop_path): SegformerDropPath(p=0.05714285746216774)\n",
       "            (layer_norm_2): LayerNorm((160,), eps=1e-05, elementwise_affine=True)\n",
       "            (mlp): SegformerMixFFN(\n",
       "              (dense1): Linear(in_features=160, out_features=640, bias=True)\n",
       "              (dwconv): SegformerDWConv(\n",
       "                (dwconv): Conv2d(640, 640, kernel_size=(3, 3), stride=(1, 1), padding=(1, 1), groups=640)\n",
       "              )\n",
       "              (intermediate_act_fn): GELUActivation()\n",
       "              (dense2): Linear(in_features=640, out_features=160, bias=True)\n",
       "              (dropout): Dropout(p=0.0, inplace=False)\n",
       "            )\n",
       "          )\n",
       "          (1): SegformerLayer(\n",
       "            (layer_norm_1): LayerNorm((160,), eps=1e-05, elementwise_affine=True)\n",
       "            (attention): SegformerAttention(\n",
       "              (self): SegformerEfficientSelfAttention(\n",
       "                (query): Linear(in_features=160, out_features=160, bias=True)\n",
       "                (key): Linear(in_features=160, out_features=160, bias=True)\n",
       "                (value): Linear(in_features=160, out_features=160, bias=True)\n",
       "                (dropout): Dropout(p=0.0, inplace=False)\n",
       "                (sr): Conv2d(160, 160, kernel_size=(2, 2), stride=(2, 2))\n",
       "                (layer_norm): LayerNorm((160,), eps=1e-05, elementwise_affine=True)\n",
       "              )\n",
       "              (output): SegformerSelfOutput(\n",
       "                (dense): Linear(in_features=160, out_features=160, bias=True)\n",
       "                (dropout): Dropout(p=0.0, inplace=False)\n",
       "              )\n",
       "            )\n",
       "            (drop_path): SegformerDropPath(p=0.0714285746216774)\n",
       "            (layer_norm_2): LayerNorm((160,), eps=1e-05, elementwise_affine=True)\n",
       "            (mlp): SegformerMixFFN(\n",
       "              (dense1): Linear(in_features=160, out_features=640, bias=True)\n",
       "              (dwconv): SegformerDWConv(\n",
       "                (dwconv): Conv2d(640, 640, kernel_size=(3, 3), stride=(1, 1), padding=(1, 1), groups=640)\n",
       "              )\n",
       "              (intermediate_act_fn): GELUActivation()\n",
       "              (dense2): Linear(in_features=640, out_features=160, bias=True)\n",
       "              (dropout): Dropout(p=0.0, inplace=False)\n",
       "            )\n",
       "          )\n",
       "        )\n",
       "        (3): ModuleList(\n",
       "          (0): SegformerLayer(\n",
       "            (layer_norm_1): LayerNorm((256,), eps=1e-05, elementwise_affine=True)\n",
       "            (attention): SegformerAttention(\n",
       "              (self): SegformerEfficientSelfAttention(\n",
       "                (query): Linear(in_features=256, out_features=256, bias=True)\n",
       "                (key): Linear(in_features=256, out_features=256, bias=True)\n",
       "                (value): Linear(in_features=256, out_features=256, bias=True)\n",
       "                (dropout): Dropout(p=0.0, inplace=False)\n",
       "              )\n",
       "              (output): SegformerSelfOutput(\n",
       "                (dense): Linear(in_features=256, out_features=256, bias=True)\n",
       "                (dropout): Dropout(p=0.0, inplace=False)\n",
       "              )\n",
       "            )\n",
       "            (drop_path): SegformerDropPath(p=0.08571428805589676)\n",
       "            (layer_norm_2): LayerNorm((256,), eps=1e-05, elementwise_affine=True)\n",
       "            (mlp): SegformerMixFFN(\n",
       "              (dense1): Linear(in_features=256, out_features=1024, bias=True)\n",
       "              (dwconv): SegformerDWConv(\n",
       "                (dwconv): Conv2d(1024, 1024, kernel_size=(3, 3), stride=(1, 1), padding=(1, 1), groups=1024)\n",
       "              )\n",
       "              (intermediate_act_fn): GELUActivation()\n",
       "              (dense2): Linear(in_features=1024, out_features=256, bias=True)\n",
       "              (dropout): Dropout(p=0.0, inplace=False)\n",
       "            )\n",
       "          )\n",
       "          (1): SegformerLayer(\n",
       "            (layer_norm_1): LayerNorm((256,), eps=1e-05, elementwise_affine=True)\n",
       "            (attention): SegformerAttention(\n",
       "              (self): SegformerEfficientSelfAttention(\n",
       "                (query): Linear(in_features=256, out_features=256, bias=True)\n",
       "                (key): Linear(in_features=256, out_features=256, bias=True)\n",
       "                (value): Linear(in_features=256, out_features=256, bias=True)\n",
       "                (dropout): Dropout(p=0.0, inplace=False)\n",
       "              )\n",
       "              (output): SegformerSelfOutput(\n",
       "                (dense): Linear(in_features=256, out_features=256, bias=True)\n",
       "                (dropout): Dropout(p=0.0, inplace=False)\n",
       "              )\n",
       "            )\n",
       "            (drop_path): SegformerDropPath(p=0.10000000149011612)\n",
       "            (layer_norm_2): LayerNorm((256,), eps=1e-05, elementwise_affine=True)\n",
       "            (mlp): SegformerMixFFN(\n",
       "              (dense1): Linear(in_features=256, out_features=1024, bias=True)\n",
       "              (dwconv): SegformerDWConv(\n",
       "                (dwconv): Conv2d(1024, 1024, kernel_size=(3, 3), stride=(1, 1), padding=(1, 1), groups=1024)\n",
       "              )\n",
       "              (intermediate_act_fn): GELUActivation()\n",
       "              (dense2): Linear(in_features=1024, out_features=256, bias=True)\n",
       "              (dropout): Dropout(p=0.0, inplace=False)\n",
       "            )\n",
       "          )\n",
       "        )\n",
       "      )\n",
       "      (layer_norm): ModuleList(\n",
       "        (0): LayerNorm((32,), eps=1e-05, elementwise_affine=True)\n",
       "        (1): LayerNorm((64,), eps=1e-05, elementwise_affine=True)\n",
       "        (2): LayerNorm((160,), eps=1e-05, elementwise_affine=True)\n",
       "        (3): LayerNorm((256,), eps=1e-05, elementwise_affine=True)\n",
       "      )\n",
       "    )\n",
       "  )\n",
       "  (decode_head): SegformerDecodeHead(\n",
       "    (linear_c): ModuleList(\n",
       "      (0): SegformerMLP(\n",
       "        (proj): Linear(in_features=32, out_features=256, bias=True)\n",
       "      )\n",
       "      (1): SegformerMLP(\n",
       "        (proj): Linear(in_features=64, out_features=256, bias=True)\n",
       "      )\n",
       "      (2): SegformerMLP(\n",
       "        (proj): Linear(in_features=160, out_features=256, bias=True)\n",
       "      )\n",
       "      (3): SegformerMLP(\n",
       "        (proj): Linear(in_features=256, out_features=256, bias=True)\n",
       "      )\n",
       "    )\n",
       "    (linear_fuse): Conv2d(1024, 256, kernel_size=(1, 1), stride=(1, 1), bias=False)\n",
       "    (batch_norm): BatchNorm2d(256, eps=1e-05, momentum=0.1, affine=True, track_running_stats=True)\n",
       "    (activation): ReLU()\n",
       "    (dropout): Dropout(p=0.1, inplace=False)\n",
       "    (classifier): Conv2d(256, 4, kernel_size=(1, 1), stride=(1, 1))\n",
       "  )\n",
       ")"
      ]
     },
     "execution_count": 19,
     "metadata": {},
     "output_type": "execute_result"
    }
   ],
   "source": [
    "from transformers import AutoModelForSemanticSegmentation, TrainingArguments, Trainer, EarlyStoppingCallback\n",
    "\n",
    "model = AutoModelForSemanticSegmentation.from_pretrained(checkpoint, id2label=id2label, label2id=label2id)\n",
    "model.to(device)"
   ]
  },
  {
   "cell_type": "code",
   "execution_count": 20,
   "metadata": {},
   "outputs": [],
   "source": [
    "# TODO try to remove eval_accumulation_steps\n",
    "training_args = TrainingArguments(\n",
    "    output_dir=\"segformer-b0-scene-parse-150\",\n",
    "    learning_rate=6e-5,\n",
    "    num_train_epochs=25,\n",
    "    per_device_train_batch_size=10,\n",
    "    per_device_eval_batch_size=10,\n",
    "    save_total_limit=3,\n",
    "    evaluation_strategy=\"steps\",\n",
    "    save_strategy=\"steps\",\n",
    "    save_steps=100,\n",
    "    eval_steps=100,\n",
    "    logging_steps=1,\n",
    "    # eval_accumulation_steps=5,\n",
    "    remove_unused_columns=False,\n",
    "    load_best_model_at_end=True,\n",
    "    seed=seed,\n",
    ")"
   ]
  },
  {
   "cell_type": "code",
   "execution_count": 21,
   "metadata": {},
   "outputs": [],
   "source": [
    "def initialize_trainer(train_ds, test_ds) :\n",
    "    trainer = Trainer(\n",
    "        model=model,\n",
    "        args=training_args,\n",
    "        train_dataset=train_ds,\n",
    "        eval_dataset=test_ds,\n",
    "        compute_metrics=compute_metrics,\n",
    "        callbacks=[EarlyStoppingCallback(early_stopping_patience=3)]\n",
    "    )\n",
    "    return trainer"
   ]
  },
  {
   "cell_type": "code",
   "execution_count": 22,
   "metadata": {},
   "outputs": [],
   "source": [
    "train_ds.set_transform(train_transforms)\n",
    "val_ds.set_transform(train_transforms)\n",
    "test_ds.set_transform(train_transforms)"
   ]
  },
  {
   "cell_type": "code",
   "execution_count": 23,
   "metadata": {},
   "outputs": [
    {
     "name": "stderr",
     "output_type": "stream",
     "text": [
      "c:\\Users\\Kate\\AppData\\Local\\miniconda3\\envs\\master\\Lib\\site-packages\\transformers\\optimization.py:411: FutureWarning: This implementation of AdamW is deprecated and will be removed in a future version. Use the PyTorch implementation torch.optim.AdamW instead, or set `no_deprecation_warning=True` to disable this warning\n",
      "  warnings.warn(\n",
      "  0%|          | 1/1175 [00:09<3:11:17,  9.78s/it]"
     ]
    },
    {
     "name": "stdout",
     "output_type": "stream",
     "text": [
      "{'loss': 1.3335, 'learning_rate': 5.9948936170212765e-05, 'epoch': 0.02}\n"
     ]
    },
    {
     "name": "stderr",
     "output_type": "stream",
     "text": [
      "  0%|          | 2/1175 [00:17<2:43:16,  8.35s/it]"
     ]
    },
    {
     "name": "stdout",
     "output_type": "stream",
     "text": [
      "{'loss': 1.2963, 'learning_rate': 5.9897872340425535e-05, 'epoch': 0.04}\n"
     ]
    },
    {
     "name": "stderr",
     "output_type": "stream",
     "text": [
      "  0%|          | 3/1175 [00:24<2:33:03,  7.84s/it]"
     ]
    },
    {
     "name": "stdout",
     "output_type": "stream",
     "text": [
      "{'loss': 1.2806, 'learning_rate': 5.98468085106383e-05, 'epoch': 0.06}\n"
     ]
    },
    {
     "name": "stderr",
     "output_type": "stream",
     "text": [
      "  0%|          | 4/1175 [00:31<2:28:49,  7.63s/it]"
     ]
    },
    {
     "name": "stdout",
     "output_type": "stream",
     "text": [
      "{'loss': 1.2593, 'learning_rate': 5.979574468085107e-05, 'epoch': 0.09}\n"
     ]
    },
    {
     "name": "stderr",
     "output_type": "stream",
     "text": [
      "  0%|          | 5/1175 [00:38<2:25:55,  7.48s/it]"
     ]
    },
    {
     "name": "stdout",
     "output_type": "stream",
     "text": [
      "{'loss': 1.2451, 'learning_rate': 5.974468085106383e-05, 'epoch': 0.11}\n"
     ]
    },
    {
     "name": "stderr",
     "output_type": "stream",
     "text": [
      "  1%|          | 6/1175 [00:46<2:23:54,  7.39s/it]"
     ]
    },
    {
     "name": "stdout",
     "output_type": "stream",
     "text": [
      "{'loss': 1.2246, 'learning_rate': 5.9693617021276594e-05, 'epoch': 0.13}\n"
     ]
    },
    {
     "name": "stderr",
     "output_type": "stream",
     "text": [
      "  1%|          | 7/1175 [00:53<2:23:06,  7.35s/it]"
     ]
    },
    {
     "name": "stdout",
     "output_type": "stream",
     "text": [
      "{'loss': 1.224, 'learning_rate': 5.9642553191489364e-05, 'epoch': 0.15}\n"
     ]
    },
    {
     "name": "stderr",
     "output_type": "stream",
     "text": [
      "  1%|          | 8/1175 [01:00<2:21:57,  7.30s/it]"
     ]
    },
    {
     "name": "stdout",
     "output_type": "stream",
     "text": [
      "{'loss': 1.2089, 'learning_rate': 5.959148936170213e-05, 'epoch': 0.17}\n"
     ]
    },
    {
     "name": "stderr",
     "output_type": "stream",
     "text": [
      "  1%|          | 9/1175 [01:07<2:21:29,  7.28s/it]"
     ]
    },
    {
     "name": "stdout",
     "output_type": "stream",
     "text": [
      "{'loss': 1.1796, 'learning_rate': 5.95404255319149e-05, 'epoch': 0.19}\n"
     ]
    },
    {
     "name": "stderr",
     "output_type": "stream",
     "text": [
      "  1%|          | 10/1175 [01:15<2:21:05,  7.27s/it]"
     ]
    },
    {
     "name": "stdout",
     "output_type": "stream",
     "text": [
      "{'loss': 1.1972, 'learning_rate': 5.948936170212766e-05, 'epoch': 0.21}\n"
     ]
    },
    {
     "name": "stderr",
     "output_type": "stream",
     "text": [
      "  1%|          | 11/1175 [01:22<2:20:30,  7.24s/it]"
     ]
    },
    {
     "name": "stdout",
     "output_type": "stream",
     "text": [
      "{'loss': 1.1453, 'learning_rate': 5.943829787234043e-05, 'epoch': 0.23}\n"
     ]
    },
    {
     "name": "stderr",
     "output_type": "stream",
     "text": [
      "  1%|          | 12/1175 [01:29<2:20:41,  7.26s/it]"
     ]
    },
    {
     "name": "stdout",
     "output_type": "stream",
     "text": [
      "{'loss': 1.1501, 'learning_rate': 5.938723404255319e-05, 'epoch': 0.26}\n"
     ]
    },
    {
     "name": "stderr",
     "output_type": "stream",
     "text": [
      "  1%|          | 13/1175 [01:36<2:20:34,  7.26s/it]"
     ]
    },
    {
     "name": "stdout",
     "output_type": "stream",
     "text": [
      "{'loss': 1.1411, 'learning_rate': 5.9336170212765956e-05, 'epoch': 0.28}\n"
     ]
    },
    {
     "name": "stderr",
     "output_type": "stream",
     "text": [
      "  1%|          | 14/1175 [01:43<2:20:15,  7.25s/it]"
     ]
    },
    {
     "name": "stdout",
     "output_type": "stream",
     "text": [
      "{'loss': 1.1108, 'learning_rate': 5.9285106382978726e-05, 'epoch': 0.3}\n"
     ]
    },
    {
     "name": "stderr",
     "output_type": "stream",
     "text": [
      "  1%|▏         | 15/1175 [01:51<2:19:51,  7.23s/it]"
     ]
    },
    {
     "name": "stdout",
     "output_type": "stream",
     "text": [
      "{'loss': 1.0994, 'learning_rate': 5.923404255319149e-05, 'epoch': 0.32}\n"
     ]
    },
    {
     "name": "stderr",
     "output_type": "stream",
     "text": [
      "  1%|▏         | 16/1175 [01:58<2:19:18,  7.21s/it]"
     ]
    },
    {
     "name": "stdout",
     "output_type": "stream",
     "text": [
      "{'loss': 1.0709, 'learning_rate': 5.918297872340426e-05, 'epoch': 0.34}\n"
     ]
    },
    {
     "name": "stderr",
     "output_type": "stream",
     "text": [
      "  1%|▏         | 17/1175 [02:05<2:19:12,  7.21s/it]"
     ]
    },
    {
     "name": "stdout",
     "output_type": "stream",
     "text": [
      "{'loss': 1.0663, 'learning_rate': 5.913191489361702e-05, 'epoch': 0.36}\n"
     ]
    },
    {
     "name": "stderr",
     "output_type": "stream",
     "text": [
      "  2%|▏         | 18/1175 [02:12<2:19:07,  7.22s/it]"
     ]
    },
    {
     "name": "stdout",
     "output_type": "stream",
     "text": [
      "{'loss': 1.0194, 'learning_rate': 5.9080851063829785e-05, 'epoch': 0.38}\n"
     ]
    },
    {
     "name": "stderr",
     "output_type": "stream",
     "text": [
      "  2%|▏         | 19/1175 [02:19<2:18:52,  7.21s/it]"
     ]
    },
    {
     "name": "stdout",
     "output_type": "stream",
     "text": [
      "{'loss': 1.0398, 'learning_rate': 5.9029787234042555e-05, 'epoch': 0.4}\n"
     ]
    },
    {
     "name": "stderr",
     "output_type": "stream",
     "text": [
      "  2%|▏         | 20/1175 [02:27<2:18:35,  7.20s/it]"
     ]
    },
    {
     "name": "stdout",
     "output_type": "stream",
     "text": [
      "{'loss': 1.0177, 'learning_rate': 5.897872340425532e-05, 'epoch': 0.43}\n"
     ]
    },
    {
     "name": "stderr",
     "output_type": "stream",
     "text": [
      "  2%|▏         | 21/1175 [02:34<2:18:42,  7.21s/it]"
     ]
    },
    {
     "name": "stdout",
     "output_type": "stream",
     "text": [
      "{'loss': 0.9994, 'learning_rate': 5.892765957446809e-05, 'epoch': 0.45}\n"
     ]
    },
    {
     "name": "stderr",
     "output_type": "stream",
     "text": [
      "  2%|▏         | 22/1175 [02:41<2:18:33,  7.21s/it]"
     ]
    },
    {
     "name": "stdout",
     "output_type": "stream",
     "text": [
      "{'loss': 1.0309, 'learning_rate': 5.887659574468085e-05, 'epoch': 0.47}\n"
     ]
    },
    {
     "name": "stderr",
     "output_type": "stream",
     "text": [
      "  2%|▏         | 23/1175 [02:48<2:18:47,  7.23s/it]"
     ]
    },
    {
     "name": "stdout",
     "output_type": "stream",
     "text": [
      "{'loss': 0.9725, 'learning_rate': 5.8825531914893615e-05, 'epoch': 0.49}\n"
     ]
    },
    {
     "name": "stderr",
     "output_type": "stream",
     "text": [
      "  2%|▏         | 24/1175 [02:56<2:18:35,  7.22s/it]"
     ]
    },
    {
     "name": "stdout",
     "output_type": "stream",
     "text": [
      "{'loss': 0.9303, 'learning_rate': 5.8774468085106384e-05, 'epoch': 0.51}\n"
     ]
    },
    {
     "name": "stderr",
     "output_type": "stream",
     "text": [
      "  2%|▏         | 25/1175 [03:03<2:18:30,  7.23s/it]"
     ]
    },
    {
     "name": "stdout",
     "output_type": "stream",
     "text": [
      "{'loss': 0.94, 'learning_rate': 5.872340425531915e-05, 'epoch': 0.53}\n"
     ]
    },
    {
     "name": "stderr",
     "output_type": "stream",
     "text": [
      "  2%|▏         | 26/1175 [03:10<2:18:39,  7.24s/it]"
     ]
    },
    {
     "name": "stdout",
     "output_type": "stream",
     "text": [
      "{'loss': 0.9012, 'learning_rate': 5.867234042553192e-05, 'epoch': 0.55}\n"
     ]
    },
    {
     "name": "stderr",
     "output_type": "stream",
     "text": [
      "  2%|▏         | 27/1175 [03:17<2:18:37,  7.25s/it]"
     ]
    },
    {
     "name": "stdout",
     "output_type": "stream",
     "text": [
      "{'loss': 0.9294, 'learning_rate': 5.862127659574468e-05, 'epoch': 0.57}\n"
     ]
    },
    {
     "name": "stderr",
     "output_type": "stream",
     "text": [
      "  2%|▏         | 28/1175 [03:25<2:18:36,  7.25s/it]"
     ]
    },
    {
     "name": "stdout",
     "output_type": "stream",
     "text": [
      "{'loss': 0.8528, 'learning_rate': 5.857021276595745e-05, 'epoch': 0.6}\n"
     ]
    },
    {
     "name": "stderr",
     "output_type": "stream",
     "text": [
      "  2%|▏         | 29/1175 [03:32<2:18:34,  7.25s/it]"
     ]
    },
    {
     "name": "stdout",
     "output_type": "stream",
     "text": [
      "{'loss': 0.8647, 'learning_rate': 5.8519148936170214e-05, 'epoch': 0.62}\n"
     ]
    },
    {
     "name": "stderr",
     "output_type": "stream",
     "text": [
      "  3%|▎         | 30/1175 [03:39<2:18:33,  7.26s/it]"
     ]
    },
    {
     "name": "stdout",
     "output_type": "stream",
     "text": [
      "{'loss': 0.8354, 'learning_rate': 5.846808510638298e-05, 'epoch': 0.64}\n"
     ]
    },
    {
     "name": "stderr",
     "output_type": "stream",
     "text": [
      "  3%|▎         | 31/1175 [03:46<2:18:20,  7.26s/it]"
     ]
    },
    {
     "name": "stdout",
     "output_type": "stream",
     "text": [
      "{'loss': 0.8684, 'learning_rate': 5.841702127659575e-05, 'epoch': 0.66}\n"
     ]
    },
    {
     "name": "stderr",
     "output_type": "stream",
     "text": [
      "  3%|▎         | 32/1175 [03:54<2:18:14,  7.26s/it]"
     ]
    },
    {
     "name": "stdout",
     "output_type": "stream",
     "text": [
      "{'loss': 0.8331, 'learning_rate': 5.836595744680851e-05, 'epoch': 0.68}\n"
     ]
    },
    {
     "name": "stderr",
     "output_type": "stream",
     "text": [
      "  3%|▎         | 33/1175 [04:01<2:18:04,  7.25s/it]"
     ]
    },
    {
     "name": "stdout",
     "output_type": "stream",
     "text": [
      "{'loss': 0.8605, 'learning_rate': 5.831489361702128e-05, 'epoch': 0.7}\n"
     ]
    },
    {
     "name": "stderr",
     "output_type": "stream",
     "text": [
      "  3%|▎         | 34/1175 [04:08<2:18:01,  7.26s/it]"
     ]
    },
    {
     "name": "stdout",
     "output_type": "stream",
     "text": [
      "{'loss': 0.8478, 'learning_rate': 5.826382978723404e-05, 'epoch': 0.72}\n"
     ]
    },
    {
     "name": "stderr",
     "output_type": "stream",
     "text": [
      "  3%|▎         | 35/1175 [04:15<2:17:45,  7.25s/it]"
     ]
    },
    {
     "name": "stdout",
     "output_type": "stream",
     "text": [
      "{'loss': 0.8498, 'learning_rate': 5.8212765957446806e-05, 'epoch': 0.74}\n"
     ]
    },
    {
     "name": "stderr",
     "output_type": "stream",
     "text": [
      "  3%|▎         | 36/1175 [04:23<2:17:48,  7.26s/it]"
     ]
    },
    {
     "name": "stdout",
     "output_type": "stream",
     "text": [
      "{'loss': 0.918, 'learning_rate': 5.8161702127659576e-05, 'epoch': 0.77}\n"
     ]
    },
    {
     "name": "stderr",
     "output_type": "stream",
     "text": [
      "  3%|▎         | 37/1175 [04:30<2:17:58,  7.27s/it]"
     ]
    },
    {
     "name": "stdout",
     "output_type": "stream",
     "text": [
      "{'loss': 0.8147, 'learning_rate': 5.811063829787234e-05, 'epoch': 0.79}\n"
     ]
    },
    {
     "name": "stderr",
     "output_type": "stream",
     "text": [
      "  3%|▎         | 38/1175 [04:37<2:17:34,  7.26s/it]"
     ]
    },
    {
     "name": "stdout",
     "output_type": "stream",
     "text": [
      "{'loss': 0.7621, 'learning_rate': 5.805957446808511e-05, 'epoch': 0.81}\n"
     ]
    },
    {
     "name": "stderr",
     "output_type": "stream",
     "text": [
      "  3%|▎         | 39/1175 [04:44<2:17:13,  7.25s/it]"
     ]
    },
    {
     "name": "stdout",
     "output_type": "stream",
     "text": [
      "{'loss': 0.7463, 'learning_rate': 5.800851063829787e-05, 'epoch': 0.83}\n"
     ]
    },
    {
     "name": "stderr",
     "output_type": "stream",
     "text": [
      "  3%|▎         | 40/1175 [04:52<2:16:55,  7.24s/it]"
     ]
    },
    {
     "name": "stdout",
     "output_type": "stream",
     "text": [
      "{'loss': 0.7658, 'learning_rate': 5.7957446808510635e-05, 'epoch': 0.85}\n"
     ]
    },
    {
     "name": "stderr",
     "output_type": "stream",
     "text": [
      "  3%|▎         | 41/1175 [04:59<2:16:47,  7.24s/it]"
     ]
    },
    {
     "name": "stdout",
     "output_type": "stream",
     "text": [
      "{'loss': 0.8418, 'learning_rate': 5.7906382978723405e-05, 'epoch': 0.87}\n"
     ]
    },
    {
     "name": "stderr",
     "output_type": "stream",
     "text": [
      "  4%|▎         | 42/1175 [05:06<2:17:19,  7.27s/it]"
     ]
    },
    {
     "name": "stdout",
     "output_type": "stream",
     "text": [
      "{'loss': 0.7343, 'learning_rate': 5.785531914893617e-05, 'epoch': 0.89}\n"
     ]
    },
    {
     "name": "stderr",
     "output_type": "stream",
     "text": [
      "  4%|▎         | 43/1175 [05:13<2:17:02,  7.26s/it]"
     ]
    },
    {
     "name": "stdout",
     "output_type": "stream",
     "text": [
      "{'loss': 0.8173, 'learning_rate': 5.780425531914894e-05, 'epoch': 0.91}\n"
     ]
    },
    {
     "name": "stderr",
     "output_type": "stream",
     "text": [
      "  4%|▎         | 44/1175 [05:21<2:16:42,  7.25s/it]"
     ]
    },
    {
     "name": "stdout",
     "output_type": "stream",
     "text": [
      "{'loss': 0.7071, 'learning_rate': 5.77531914893617e-05, 'epoch': 0.94}\n"
     ]
    },
    {
     "name": "stderr",
     "output_type": "stream",
     "text": [
      "  4%|▍         | 45/1175 [05:28<2:16:04,  7.23s/it]"
     ]
    },
    {
     "name": "stdout",
     "output_type": "stream",
     "text": [
      "{'loss': 0.7303, 'learning_rate': 5.7702127659574464e-05, 'epoch': 0.96}\n"
     ]
    },
    {
     "name": "stderr",
     "output_type": "stream",
     "text": [
      "  4%|▍         | 46/1175 [05:35<2:13:33,  7.10s/it]"
     ]
    },
    {
     "name": "stdout",
     "output_type": "stream",
     "text": [
      "{'loss': 0.711, 'learning_rate': 5.7651063829787234e-05, 'epoch': 0.98}\n"
     ]
    },
    {
     "name": "stderr",
     "output_type": "stream",
     "text": [
      "  4%|▍         | 47/1175 [05:39<1:55:25,  6.14s/it]"
     ]
    },
    {
     "name": "stdout",
     "output_type": "stream",
     "text": [
      "{'loss': 0.8442, 'learning_rate': 5.76e-05, 'epoch': 1.0}\n"
     ]
    },
    {
     "name": "stderr",
     "output_type": "stream",
     "text": [
      "  4%|▍         | 48/1175 [05:47<2:08:01,  6.82s/it]"
     ]
    },
    {
     "name": "stdout",
     "output_type": "stream",
     "text": [
      "{'loss': 0.7408, 'learning_rate': 5.754893617021277e-05, 'epoch': 1.02}\n"
     ]
    },
    {
     "name": "stderr",
     "output_type": "stream",
     "text": [
      "  4%|▍         | 49/1175 [05:54<2:10:10,  6.94s/it]"
     ]
    },
    {
     "name": "stdout",
     "output_type": "stream",
     "text": [
      "{'loss': 0.7559, 'learning_rate': 5.749787234042553e-05, 'epoch': 1.04}\n"
     ]
    },
    {
     "name": "stderr",
     "output_type": "stream",
     "text": [
      "  4%|▍         | 50/1175 [06:01<2:11:49,  7.03s/it]"
     ]
    },
    {
     "name": "stdout",
     "output_type": "stream",
     "text": [
      "{'loss': 0.7505, 'learning_rate': 5.74468085106383e-05, 'epoch': 1.06}\n"
     ]
    },
    {
     "name": "stderr",
     "output_type": "stream",
     "text": [
      "  4%|▍         | 51/1175 [06:09<2:12:50,  7.09s/it]"
     ]
    },
    {
     "name": "stdout",
     "output_type": "stream",
     "text": [
      "{'loss': 0.7088, 'learning_rate': 5.7395744680851063e-05, 'epoch': 1.09}\n"
     ]
    },
    {
     "name": "stderr",
     "output_type": "stream",
     "text": [
      "  4%|▍         | 52/1175 [06:16<2:13:20,  7.12s/it]"
     ]
    },
    {
     "name": "stdout",
     "output_type": "stream",
     "text": [
      "{'loss': 0.666, 'learning_rate': 5.7344680851063827e-05, 'epoch': 1.11}\n"
     ]
    },
    {
     "name": "stderr",
     "output_type": "stream",
     "text": [
      "  5%|▍         | 53/1175 [06:23<2:13:47,  7.15s/it]"
     ]
    },
    {
     "name": "stdout",
     "output_type": "stream",
     "text": [
      "{'loss': 0.7084, 'learning_rate': 5.7293617021276597e-05, 'epoch': 1.13}\n"
     ]
    },
    {
     "name": "stderr",
     "output_type": "stream",
     "text": [
      "  5%|▍         | 54/1175 [06:30<2:14:15,  7.19s/it]"
     ]
    },
    {
     "name": "stdout",
     "output_type": "stream",
     "text": [
      "{'loss': 0.6512, 'learning_rate': 5.724255319148936e-05, 'epoch': 1.15}\n"
     ]
    },
    {
     "name": "stderr",
     "output_type": "stream",
     "text": [
      "  5%|▍         | 55/1175 [06:38<2:14:17,  7.19s/it]"
     ]
    },
    {
     "name": "stdout",
     "output_type": "stream",
     "text": [
      "{'loss': 0.6741, 'learning_rate': 5.719148936170213e-05, 'epoch': 1.17}\n"
     ]
    },
    {
     "name": "stderr",
     "output_type": "stream",
     "text": [
      "  5%|▍         | 56/1175 [06:45<2:14:09,  7.19s/it]"
     ]
    },
    {
     "name": "stdout",
     "output_type": "stream",
     "text": [
      "{'loss': 0.5958, 'learning_rate': 5.714042553191489e-05, 'epoch': 1.19}\n"
     ]
    },
    {
     "name": "stderr",
     "output_type": "stream",
     "text": [
      "  5%|▍         | 57/1175 [06:52<2:14:15,  7.21s/it]"
     ]
    },
    {
     "name": "stdout",
     "output_type": "stream",
     "text": [
      "{'loss': 0.6738, 'learning_rate': 5.7089361702127656e-05, 'epoch': 1.21}\n"
     ]
    },
    {
     "name": "stderr",
     "output_type": "stream",
     "text": [
      "  5%|▍         | 58/1175 [06:59<2:14:17,  7.21s/it]"
     ]
    },
    {
     "name": "stdout",
     "output_type": "stream",
     "text": [
      "{'loss': 0.7138, 'learning_rate': 5.7038297872340426e-05, 'epoch': 1.23}\n"
     ]
    },
    {
     "name": "stderr",
     "output_type": "stream",
     "text": [
      "  5%|▌         | 59/1175 [07:06<2:14:21,  7.22s/it]"
     ]
    },
    {
     "name": "stdout",
     "output_type": "stream",
     "text": [
      "{'loss': 0.639, 'learning_rate': 5.698723404255319e-05, 'epoch': 1.26}\n"
     ]
    },
    {
     "name": "stderr",
     "output_type": "stream",
     "text": [
      "  5%|▌         | 60/1175 [07:14<2:14:04,  7.21s/it]"
     ]
    },
    {
     "name": "stdout",
     "output_type": "stream",
     "text": [
      "{'loss': 0.619, 'learning_rate': 5.693617021276596e-05, 'epoch': 1.28}\n"
     ]
    },
    {
     "name": "stderr",
     "output_type": "stream",
     "text": [
      "  5%|▌         | 61/1175 [07:21<2:13:45,  7.20s/it]"
     ]
    },
    {
     "name": "stdout",
     "output_type": "stream",
     "text": [
      "{'loss': 0.599, 'learning_rate': 5.688510638297872e-05, 'epoch': 1.3}\n"
     ]
    },
    {
     "name": "stderr",
     "output_type": "stream",
     "text": [
      "  5%|▌         | 62/1175 [07:28<2:13:33,  7.20s/it]"
     ]
    },
    {
     "name": "stdout",
     "output_type": "stream",
     "text": [
      "{'loss': 0.6217, 'learning_rate': 5.6834042553191485e-05, 'epoch': 1.32}\n"
     ]
    },
    {
     "name": "stderr",
     "output_type": "stream",
     "text": [
      "  5%|▌         | 63/1175 [07:35<2:13:40,  7.21s/it]"
     ]
    },
    {
     "name": "stdout",
     "output_type": "stream",
     "text": [
      "{'loss': 0.6672, 'learning_rate': 5.6782978723404255e-05, 'epoch': 1.34}\n"
     ]
    },
    {
     "name": "stderr",
     "output_type": "stream",
     "text": [
      "  5%|▌         | 64/1175 [07:42<2:13:18,  7.20s/it]"
     ]
    },
    {
     "name": "stdout",
     "output_type": "stream",
     "text": [
      "{'loss': 0.6384, 'learning_rate': 5.673191489361702e-05, 'epoch': 1.36}\n"
     ]
    },
    {
     "name": "stderr",
     "output_type": "stream",
     "text": [
      "  6%|▌         | 65/1175 [07:50<2:13:14,  7.20s/it]"
     ]
    },
    {
     "name": "stdout",
     "output_type": "stream",
     "text": [
      "{'loss': 0.544, 'learning_rate': 5.668085106382979e-05, 'epoch': 1.38}\n"
     ]
    },
    {
     "name": "stderr",
     "output_type": "stream",
     "text": [
      "  6%|▌         | 66/1175 [07:57<2:13:00,  7.20s/it]"
     ]
    },
    {
     "name": "stdout",
     "output_type": "stream",
     "text": [
      "{'loss': 0.6352, 'learning_rate': 5.662978723404255e-05, 'epoch': 1.4}\n"
     ]
    },
    {
     "name": "stderr",
     "output_type": "stream",
     "text": [
      "  6%|▌         | 67/1175 [08:04<2:13:09,  7.21s/it]"
     ]
    },
    {
     "name": "stdout",
     "output_type": "stream",
     "text": [
      "{'loss': 0.5599, 'learning_rate': 5.657872340425532e-05, 'epoch': 1.43}\n"
     ]
    },
    {
     "name": "stderr",
     "output_type": "stream",
     "text": [
      "  6%|▌         | 68/1175 [08:11<2:13:06,  7.21s/it]"
     ]
    },
    {
     "name": "stdout",
     "output_type": "stream",
     "text": [
      "{'loss': 0.6693, 'learning_rate': 5.6527659574468084e-05, 'epoch': 1.45}\n"
     ]
    },
    {
     "name": "stderr",
     "output_type": "stream",
     "text": [
      "  6%|▌         | 69/1175 [08:19<2:12:51,  7.21s/it]"
     ]
    },
    {
     "name": "stdout",
     "output_type": "stream",
     "text": [
      "{'loss': 0.5796, 'learning_rate': 5.647659574468085e-05, 'epoch': 1.47}\n"
     ]
    },
    {
     "name": "stderr",
     "output_type": "stream",
     "text": [
      "  6%|▌         | 70/1175 [08:26<2:12:44,  7.21s/it]"
     ]
    },
    {
     "name": "stdout",
     "output_type": "stream",
     "text": [
      "{'loss': 0.6522, 'learning_rate': 5.642553191489362e-05, 'epoch': 1.49}\n"
     ]
    },
    {
     "name": "stderr",
     "output_type": "stream",
     "text": [
      "  6%|▌         | 71/1175 [08:33<2:12:44,  7.21s/it]"
     ]
    },
    {
     "name": "stdout",
     "output_type": "stream",
     "text": [
      "{'loss': 0.5967, 'learning_rate': 5.637446808510638e-05, 'epoch': 1.51}\n"
     ]
    },
    {
     "name": "stderr",
     "output_type": "stream",
     "text": [
      "  6%|▌         | 72/1175 [08:40<2:12:46,  7.22s/it]"
     ]
    },
    {
     "name": "stdout",
     "output_type": "stream",
     "text": [
      "{'loss': 0.682, 'learning_rate': 5.632340425531915e-05, 'epoch': 1.53}\n"
     ]
    },
    {
     "name": "stderr",
     "output_type": "stream",
     "text": [
      "  6%|▌         | 73/1175 [08:47<2:12:27,  7.21s/it]"
     ]
    },
    {
     "name": "stdout",
     "output_type": "stream",
     "text": [
      "{'loss': 0.6165, 'learning_rate': 5.627234042553191e-05, 'epoch': 1.55}\n"
     ]
    },
    {
     "name": "stderr",
     "output_type": "stream",
     "text": [
      "  6%|▋         | 74/1175 [08:55<2:12:08,  7.20s/it]"
     ]
    },
    {
     "name": "stdout",
     "output_type": "stream",
     "text": [
      "{'loss': 0.5011, 'learning_rate': 5.6221276595744676e-05, 'epoch': 1.57}\n"
     ]
    },
    {
     "name": "stderr",
     "output_type": "stream",
     "text": [
      "  6%|▋         | 75/1175 [09:02<2:12:06,  7.21s/it]"
     ]
    },
    {
     "name": "stdout",
     "output_type": "stream",
     "text": [
      "{'loss': 0.6049, 'learning_rate': 5.6170212765957446e-05, 'epoch': 1.6}\n"
     ]
    },
    {
     "name": "stderr",
     "output_type": "stream",
     "text": [
      "  6%|▋         | 76/1175 [09:09<2:12:07,  7.21s/it]"
     ]
    },
    {
     "name": "stdout",
     "output_type": "stream",
     "text": [
      "{'loss': 0.6335, 'learning_rate': 5.611914893617021e-05, 'epoch': 1.62}\n"
     ]
    },
    {
     "name": "stderr",
     "output_type": "stream",
     "text": [
      "  7%|▋         | 77/1175 [09:16<2:11:54,  7.21s/it]"
     ]
    },
    {
     "name": "stdout",
     "output_type": "stream",
     "text": [
      "{'loss': 0.5321, 'learning_rate': 5.606808510638298e-05, 'epoch': 1.64}\n"
     ]
    },
    {
     "name": "stderr",
     "output_type": "stream",
     "text": [
      "  7%|▋         | 78/1175 [09:23<2:11:43,  7.20s/it]"
     ]
    },
    {
     "name": "stdout",
     "output_type": "stream",
     "text": [
      "{'loss': 0.7491, 'learning_rate': 5.601702127659574e-05, 'epoch': 1.66}\n"
     ]
    },
    {
     "name": "stderr",
     "output_type": "stream",
     "text": [
      "  7%|▋         | 79/1175 [09:31<2:12:04,  7.23s/it]"
     ]
    },
    {
     "name": "stdout",
     "output_type": "stream",
     "text": [
      "{'loss': 0.5465, 'learning_rate': 5.5965957446808506e-05, 'epoch': 1.68}\n"
     ]
    },
    {
     "name": "stderr",
     "output_type": "stream",
     "text": [
      "  7%|▋         | 80/1175 [09:38<2:11:45,  7.22s/it]"
     ]
    },
    {
     "name": "stdout",
     "output_type": "stream",
     "text": [
      "{'loss': 0.5502, 'learning_rate': 5.5914893617021276e-05, 'epoch': 1.7}\n"
     ]
    },
    {
     "name": "stderr",
     "output_type": "stream",
     "text": [
      "  7%|▋         | 81/1175 [09:45<2:11:31,  7.21s/it]"
     ]
    },
    {
     "name": "stdout",
     "output_type": "stream",
     "text": [
      "{'loss': 0.5979, 'learning_rate': 5.586382978723404e-05, 'epoch': 1.72}\n"
     ]
    },
    {
     "name": "stderr",
     "output_type": "stream",
     "text": [
      "  7%|▋         | 82/1175 [09:52<2:11:35,  7.22s/it]"
     ]
    },
    {
     "name": "stdout",
     "output_type": "stream",
     "text": [
      "{'loss': 0.6879, 'learning_rate': 5.581276595744681e-05, 'epoch': 1.74}\n"
     ]
    },
    {
     "name": "stderr",
     "output_type": "stream",
     "text": [
      "  7%|▋         | 83/1175 [10:00<2:11:39,  7.23s/it]"
     ]
    },
    {
     "name": "stdout",
     "output_type": "stream",
     "text": [
      "{'loss': 0.6899, 'learning_rate': 5.576170212765957e-05, 'epoch': 1.77}\n"
     ]
    },
    {
     "name": "stderr",
     "output_type": "stream",
     "text": [
      "  7%|▋         | 84/1175 [10:07<2:11:16,  7.22s/it]"
     ]
    },
    {
     "name": "stdout",
     "output_type": "stream",
     "text": [
      "{'loss': 0.6683, 'learning_rate': 5.571063829787234e-05, 'epoch': 1.79}\n"
     ]
    },
    {
     "name": "stderr",
     "output_type": "stream",
     "text": [
      "  7%|▋         | 85/1175 [10:14<2:11:12,  7.22s/it]"
     ]
    },
    {
     "name": "stdout",
     "output_type": "stream",
     "text": [
      "{'loss': 0.5553, 'learning_rate': 5.565957446808511e-05, 'epoch': 1.81}\n"
     ]
    },
    {
     "name": "stderr",
     "output_type": "stream",
     "text": [
      "  7%|▋         | 86/1175 [10:21<2:11:01,  7.22s/it]"
     ]
    },
    {
     "name": "stdout",
     "output_type": "stream",
     "text": [
      "{'loss': 0.5519, 'learning_rate': 5.5608510638297875e-05, 'epoch': 1.83}\n"
     ]
    },
    {
     "name": "stderr",
     "output_type": "stream",
     "text": [
      "  7%|▋         | 87/1175 [10:28<2:11:04,  7.23s/it]"
     ]
    },
    {
     "name": "stdout",
     "output_type": "stream",
     "text": [
      "{'loss': 0.5159, 'learning_rate': 5.5557446808510645e-05, 'epoch': 1.85}\n"
     ]
    },
    {
     "name": "stderr",
     "output_type": "stream",
     "text": [
      "  7%|▋         | 88/1175 [10:36<2:10:51,  7.22s/it]"
     ]
    },
    {
     "name": "stdout",
     "output_type": "stream",
     "text": [
      "{'loss': 0.6073, 'learning_rate': 5.550638297872341e-05, 'epoch': 1.87}\n"
     ]
    },
    {
     "name": "stderr",
     "output_type": "stream",
     "text": [
      "  8%|▊         | 89/1175 [10:43<2:10:22,  7.20s/it]"
     ]
    },
    {
     "name": "stdout",
     "output_type": "stream",
     "text": [
      "{'loss': 0.4977, 'learning_rate': 5.545531914893618e-05, 'epoch': 1.89}\n"
     ]
    },
    {
     "name": "stderr",
     "output_type": "stream",
     "text": [
      "  8%|▊         | 90/1175 [10:50<2:10:11,  7.20s/it]"
     ]
    },
    {
     "name": "stdout",
     "output_type": "stream",
     "text": [
      "{'loss': 0.5065, 'learning_rate': 5.540425531914894e-05, 'epoch': 1.91}\n"
     ]
    },
    {
     "name": "stderr",
     "output_type": "stream",
     "text": [
      "  8%|▊         | 91/1175 [10:57<2:10:20,  7.21s/it]"
     ]
    },
    {
     "name": "stdout",
     "output_type": "stream",
     "text": [
      "{'loss': 0.5914, 'learning_rate': 5.5353191489361704e-05, 'epoch': 1.94}\n"
     ]
    },
    {
     "name": "stderr",
     "output_type": "stream",
     "text": [
      "  8%|▊         | 92/1175 [11:04<2:10:05,  7.21s/it]"
     ]
    },
    {
     "name": "stdout",
     "output_type": "stream",
     "text": [
      "{'loss': 0.5497, 'learning_rate': 5.5302127659574474e-05, 'epoch': 1.96}\n"
     ]
    },
    {
     "name": "stderr",
     "output_type": "stream",
     "text": [
      "  8%|▊         | 93/1175 [11:11<2:07:45,  7.08s/it]"
     ]
    },
    {
     "name": "stdout",
     "output_type": "stream",
     "text": [
      "{'loss': 0.7893, 'learning_rate': 5.525106382978724e-05, 'epoch': 1.98}\n"
     ]
    },
    {
     "name": "stderr",
     "output_type": "stream",
     "text": [
      "  8%|▊         | 94/1175 [11:15<1:50:22,  6.13s/it]"
     ]
    },
    {
     "name": "stdout",
     "output_type": "stream",
     "text": [
      "{'loss': 0.6642, 'learning_rate': 5.520000000000001e-05, 'epoch': 2.0}\n"
     ]
    },
    {
     "name": "stderr",
     "output_type": "stream",
     "text": [
      "  8%|▊         | 95/1175 [11:24<2:03:36,  6.87s/it]"
     ]
    },
    {
     "name": "stdout",
     "output_type": "stream",
     "text": [
      "{'loss': 0.605, 'learning_rate': 5.514893617021277e-05, 'epoch': 2.02}\n"
     ]
    },
    {
     "name": "stderr",
     "output_type": "stream",
     "text": [
      "  8%|▊         | 96/1175 [11:31<2:04:49,  6.94s/it]"
     ]
    },
    {
     "name": "stdout",
     "output_type": "stream",
     "text": [
      "{'loss': 0.6692, 'learning_rate': 5.509787234042553e-05, 'epoch': 2.04}\n"
     ]
    },
    {
     "name": "stderr",
     "output_type": "stream",
     "text": [
      "  8%|▊         | 97/1175 [11:38<2:06:20,  7.03s/it]"
     ]
    },
    {
     "name": "stdout",
     "output_type": "stream",
     "text": [
      "{'loss': 0.8368, 'learning_rate': 5.50468085106383e-05, 'epoch': 2.06}\n"
     ]
    },
    {
     "name": "stderr",
     "output_type": "stream",
     "text": [
      "  8%|▊         | 98/1175 [11:45<2:07:06,  7.08s/it]"
     ]
    },
    {
     "name": "stdout",
     "output_type": "stream",
     "text": [
      "{'loss': 0.7106, 'learning_rate': 5.4995744680851066e-05, 'epoch': 2.09}\n"
     ]
    },
    {
     "name": "stderr",
     "output_type": "stream",
     "text": [
      "  8%|▊         | 99/1175 [11:53<2:07:44,  7.12s/it]"
     ]
    },
    {
     "name": "stdout",
     "output_type": "stream",
     "text": [
      "{'loss': 0.7155, 'learning_rate': 5.4944680851063836e-05, 'epoch': 2.11}\n"
     ]
    },
    {
     "name": "stderr",
     "output_type": "stream",
     "text": [
      "  9%|▊         | 100/1175 [12:00<2:08:10,  7.15s/it]"
     ]
    },
    {
     "name": "stdout",
     "output_type": "stream",
     "text": [
      "{'loss': 0.6493, 'learning_rate': 5.48936170212766e-05, 'epoch': 2.13}\n"
     ]
    },
    {
     "name": "stderr",
     "output_type": "stream",
     "text": [
      "                                                    \n",
      "  9%|▊         | 100/1175 [17:24<2:08:10,  7.15s/it]"
     ]
    },
    {
     "name": "stdout",
     "output_type": "stream",
     "text": [
      "{'eval_loss': 0.4038435220718384, 'eval_mean_iou': 0.45644688017757995, 'eval_mean_accuracy': 0.6066350343819006, 'eval_overall_accuracy': 0.9836441730630809, 'eval_per_category_iou': [0.0, 0.9852748849438632, 0.4045120301901837, 0.43600060557627285], 'eval_per_category_accuracy': [0.0, 0.9902990416417253, 0.8133303387868631, 0.6229107570990139], 'eval_runtime': 324.5357, 'eval_samples_per_second': 0.715, 'eval_steps_per_second': 0.074, 'epoch': 2.13}\n"
     ]
    },
    {
     "name": "stderr",
     "output_type": "stream",
     "text": [
      "  9%|▊         | 101/1175 [17:32<31:13:33, 104.67s/it]"
     ]
    },
    {
     "name": "stdout",
     "output_type": "stream",
     "text": [
      "{'loss': 0.6012, 'learning_rate': 5.484255319148937e-05, 'epoch': 2.15}\n"
     ]
    },
    {
     "name": "stderr",
     "output_type": "stream",
     "text": [
      "  9%|▊         | 102/1175 [17:39<22:28:59, 75.43s/it] "
     ]
    },
    {
     "name": "stdout",
     "output_type": "stream",
     "text": [
      "{'loss': 0.5876, 'learning_rate': 5.479148936170213e-05, 'epoch': 2.17}\n"
     ]
    },
    {
     "name": "stderr",
     "output_type": "stream",
     "text": [
      "  9%|▉         | 103/1175 [17:46<16:21:50, 54.95s/it]"
     ]
    },
    {
     "name": "stdout",
     "output_type": "stream",
     "text": [
      "{'loss': 0.5521, 'learning_rate': 5.4740425531914895e-05, 'epoch': 2.19}\n"
     ]
    },
    {
     "name": "stderr",
     "output_type": "stream",
     "text": [
      "  9%|▉         | 104/1175 [17:54<12:05:08, 40.62s/it]"
     ]
    },
    {
     "name": "stdout",
     "output_type": "stream",
     "text": [
      "{'loss': 0.49, 'learning_rate': 5.4689361702127665e-05, 'epoch': 2.21}\n"
     ]
    },
    {
     "name": "stderr",
     "output_type": "stream",
     "text": [
      "  9%|▉         | 105/1175 [18:01<9:05:36, 30.59s/it] "
     ]
    },
    {
     "name": "stdout",
     "output_type": "stream",
     "text": [
      "{'loss': 0.5329, 'learning_rate': 5.463829787234043e-05, 'epoch': 2.23}\n"
     ]
    },
    {
     "name": "stderr",
     "output_type": "stream",
     "text": [
      "  9%|▉         | 106/1175 [18:08<7:00:20, 23.59s/it]"
     ]
    },
    {
     "name": "stdout",
     "output_type": "stream",
     "text": [
      "{'loss': 0.5337, 'learning_rate': 5.45872340425532e-05, 'epoch': 2.26}\n"
     ]
    },
    {
     "name": "stderr",
     "output_type": "stream",
     "text": [
      "  9%|▉         | 107/1175 [18:15<5:32:05, 18.66s/it]"
     ]
    },
    {
     "name": "stdout",
     "output_type": "stream",
     "text": [
      "{'loss': 0.5353, 'learning_rate': 5.453617021276596e-05, 'epoch': 2.28}\n"
     ]
    },
    {
     "name": "stderr",
     "output_type": "stream",
     "text": [
      "  9%|▉         | 108/1175 [18:22<4:30:36, 15.22s/it]"
     ]
    },
    {
     "name": "stdout",
     "output_type": "stream",
     "text": [
      "{'loss': 0.4832, 'learning_rate': 5.4485106382978725e-05, 'epoch': 2.3}\n"
     ]
    },
    {
     "name": "stderr",
     "output_type": "stream",
     "text": [
      "  9%|▉         | 109/1175 [18:30<3:47:47, 12.82s/it]"
     ]
    },
    {
     "name": "stdout",
     "output_type": "stream",
     "text": [
      "{'loss': 0.5103, 'learning_rate': 5.4434042553191494e-05, 'epoch': 2.32}\n"
     ]
    },
    {
     "name": "stderr",
     "output_type": "stream",
     "text": [
      "  9%|▉         | 110/1175 [18:37<3:17:16, 11.11s/it]"
     ]
    },
    {
     "name": "stdout",
     "output_type": "stream",
     "text": [
      "{'loss': 0.5437, 'learning_rate': 5.438297872340426e-05, 'epoch': 2.34}\n"
     ]
    },
    {
     "name": "stderr",
     "output_type": "stream",
     "text": [
      "  9%|▉         | 111/1175 [18:44<2:56:23,  9.95s/it]"
     ]
    },
    {
     "name": "stdout",
     "output_type": "stream",
     "text": [
      "{'loss': 0.4481, 'learning_rate': 5.433191489361703e-05, 'epoch': 2.36}\n"
     ]
    },
    {
     "name": "stderr",
     "output_type": "stream",
     "text": [
      " 10%|▉         | 112/1175 [18:51<2:41:46,  9.13s/it]"
     ]
    },
    {
     "name": "stdout",
     "output_type": "stream",
     "text": [
      "{'loss': 0.4582, 'learning_rate': 5.428085106382979e-05, 'epoch': 2.38}\n"
     ]
    },
    {
     "name": "stderr",
     "output_type": "stream",
     "text": [
      " 10%|▉         | 113/1175 [18:58<2:31:17,  8.55s/it]"
     ]
    },
    {
     "name": "stdout",
     "output_type": "stream",
     "text": [
      "{'loss': 0.5329, 'learning_rate': 5.4229787234042554e-05, 'epoch': 2.4}\n"
     ]
    },
    {
     "name": "stderr",
     "output_type": "stream",
     "text": [
      " 10%|▉         | 114/1175 [19:05<2:23:53,  8.14s/it]"
     ]
    },
    {
     "name": "stdout",
     "output_type": "stream",
     "text": [
      "{'loss': 0.457, 'learning_rate': 5.4178723404255324e-05, 'epoch': 2.43}\n"
     ]
    },
    {
     "name": "stderr",
     "output_type": "stream",
     "text": [
      " 10%|▉         | 115/1175 [19:13<2:18:40,  7.85s/it]"
     ]
    },
    {
     "name": "stdout",
     "output_type": "stream",
     "text": [
      "{'loss': 0.6018, 'learning_rate': 5.412765957446809e-05, 'epoch': 2.45}\n"
     ]
    },
    {
     "name": "stderr",
     "output_type": "stream",
     "text": [
      " 10%|▉         | 116/1175 [19:20<2:14:58,  7.65s/it]"
     ]
    },
    {
     "name": "stdout",
     "output_type": "stream",
     "text": [
      "{'loss': 0.4418, 'learning_rate': 5.407659574468086e-05, 'epoch': 2.47}\n"
     ]
    },
    {
     "name": "stderr",
     "output_type": "stream",
     "text": [
      " 10%|▉         | 117/1175 [19:27<2:12:13,  7.50s/it]"
     ]
    },
    {
     "name": "stdout",
     "output_type": "stream",
     "text": [
      "{'loss': 0.4491, 'learning_rate': 5.402553191489362e-05, 'epoch': 2.49}\n"
     ]
    },
    {
     "name": "stderr",
     "output_type": "stream",
     "text": [
      " 10%|█         | 118/1175 [19:34<2:10:43,  7.42s/it]"
     ]
    },
    {
     "name": "stdout",
     "output_type": "stream",
     "text": [
      "{'loss': 0.4582, 'learning_rate': 5.397446808510639e-05, 'epoch': 2.51}\n"
     ]
    },
    {
     "name": "stderr",
     "output_type": "stream",
     "text": [
      " 10%|█         | 119/1175 [19:41<2:09:27,  7.36s/it]"
     ]
    },
    {
     "name": "stdout",
     "output_type": "stream",
     "text": [
      "{'loss': 0.5988, 'learning_rate': 5.392340425531915e-05, 'epoch': 2.53}\n"
     ]
    },
    {
     "name": "stderr",
     "output_type": "stream",
     "text": [
      " 10%|█         | 120/1175 [19:49<2:08:13,  7.29s/it]"
     ]
    },
    {
     "name": "stdout",
     "output_type": "stream",
     "text": [
      "{'loss': 0.4759, 'learning_rate': 5.3872340425531916e-05, 'epoch': 2.55}\n"
     ]
    },
    {
     "name": "stderr",
     "output_type": "stream",
     "text": [
      " 10%|█         | 121/1175 [19:56<2:07:30,  7.26s/it]"
     ]
    },
    {
     "name": "stdout",
     "output_type": "stream",
     "text": [
      "{'loss': 0.464, 'learning_rate': 5.3821276595744686e-05, 'epoch': 2.57}\n"
     ]
    },
    {
     "name": "stderr",
     "output_type": "stream",
     "text": [
      " 10%|█         | 122/1175 [20:03<2:07:00,  7.24s/it]"
     ]
    },
    {
     "name": "stdout",
     "output_type": "stream",
     "text": [
      "{'loss': 0.6465, 'learning_rate': 5.377021276595745e-05, 'epoch': 2.6}\n"
     ]
    },
    {
     "name": "stderr",
     "output_type": "stream",
     "text": [
      " 10%|█         | 123/1175 [20:10<2:06:51,  7.24s/it]"
     ]
    },
    {
     "name": "stdout",
     "output_type": "stream",
     "text": [
      "{'loss': 0.4876, 'learning_rate': 5.371914893617022e-05, 'epoch': 2.62}\n"
     ]
    },
    {
     "name": "stderr",
     "output_type": "stream",
     "text": [
      " 11%|█         | 124/1175 [20:17<2:06:17,  7.21s/it]"
     ]
    },
    {
     "name": "stdout",
     "output_type": "stream",
     "text": [
      "{'loss': 0.4311, 'learning_rate': 5.366808510638298e-05, 'epoch': 2.64}\n"
     ]
    },
    {
     "name": "stderr",
     "output_type": "stream",
     "text": [
      " 11%|█         | 125/1175 [20:25<2:06:08,  7.21s/it]"
     ]
    },
    {
     "name": "stdout",
     "output_type": "stream",
     "text": [
      "{'loss': 0.466, 'learning_rate': 5.3617021276595745e-05, 'epoch': 2.66}\n"
     ]
    },
    {
     "name": "stderr",
     "output_type": "stream",
     "text": [
      " 11%|█         | 126/1175 [20:32<2:05:49,  7.20s/it]"
     ]
    },
    {
     "name": "stdout",
     "output_type": "stream",
     "text": [
      "{'loss': 0.4736, 'learning_rate': 5.3565957446808515e-05, 'epoch': 2.68}\n"
     ]
    },
    {
     "name": "stderr",
     "output_type": "stream",
     "text": [
      " 11%|█         | 127/1175 [20:39<2:05:22,  7.18s/it]"
     ]
    },
    {
     "name": "stdout",
     "output_type": "stream",
     "text": [
      "{'loss': 0.4332, 'learning_rate': 5.351489361702128e-05, 'epoch': 2.7}\n"
     ]
    },
    {
     "name": "stderr",
     "output_type": "stream",
     "text": [
      " 11%|█         | 128/1175 [20:46<2:05:07,  7.17s/it]"
     ]
    },
    {
     "name": "stdout",
     "output_type": "stream",
     "text": [
      "{'loss': 0.6315, 'learning_rate': 5.346382978723405e-05, 'epoch': 2.72}\n"
     ]
    },
    {
     "name": "stderr",
     "output_type": "stream",
     "text": [
      " 11%|█         | 129/1175 [20:53<2:04:59,  7.17s/it]"
     ]
    },
    {
     "name": "stdout",
     "output_type": "stream",
     "text": [
      "{'loss': 0.4329, 'learning_rate': 5.341276595744681e-05, 'epoch': 2.74}\n"
     ]
    },
    {
     "name": "stderr",
     "output_type": "stream",
     "text": [
      " 11%|█         | 130/1175 [21:00<2:04:44,  7.16s/it]"
     ]
    },
    {
     "name": "stdout",
     "output_type": "stream",
     "text": [
      "{'loss': 0.4184, 'learning_rate': 5.3361702127659574e-05, 'epoch': 2.77}\n"
     ]
    },
    {
     "name": "stderr",
     "output_type": "stream",
     "text": [
      " 11%|█         | 131/1175 [21:07<2:04:40,  7.17s/it]"
     ]
    },
    {
     "name": "stdout",
     "output_type": "stream",
     "text": [
      "{'loss': 0.4203, 'learning_rate': 5.3310638297872344e-05, 'epoch': 2.79}\n"
     ]
    },
    {
     "name": "stderr",
     "output_type": "stream",
     "text": [
      " 11%|█         | 132/1175 [21:15<2:04:42,  7.17s/it]"
     ]
    },
    {
     "name": "stdout",
     "output_type": "stream",
     "text": [
      "{'loss': 0.3888, 'learning_rate': 5.325957446808511e-05, 'epoch': 2.81}\n"
     ]
    },
    {
     "name": "stderr",
     "output_type": "stream",
     "text": [
      " 11%|█▏        | 133/1175 [21:22<2:04:28,  7.17s/it]"
     ]
    },
    {
     "name": "stdout",
     "output_type": "stream",
     "text": [
      "{'loss': 0.4553, 'learning_rate': 5.320851063829788e-05, 'epoch': 2.83}\n"
     ]
    },
    {
     "name": "stderr",
     "output_type": "stream",
     "text": [
      " 11%|█▏        | 134/1175 [21:29<2:04:42,  7.19s/it]"
     ]
    },
    {
     "name": "stdout",
     "output_type": "stream",
     "text": [
      "{'loss': 0.5475, 'learning_rate': 5.315744680851064e-05, 'epoch': 2.85}\n"
     ]
    },
    {
     "name": "stderr",
     "output_type": "stream",
     "text": [
      " 11%|█▏        | 135/1175 [21:36<2:04:22,  7.18s/it]"
     ]
    },
    {
     "name": "stdout",
     "output_type": "stream",
     "text": [
      "{'loss': 0.4254, 'learning_rate': 5.3106382978723404e-05, 'epoch': 2.87}\n"
     ]
    },
    {
     "name": "stderr",
     "output_type": "stream",
     "text": [
      " 12%|█▏        | 136/1175 [21:43<2:04:20,  7.18s/it]"
     ]
    },
    {
     "name": "stdout",
     "output_type": "stream",
     "text": [
      "{'loss': 0.4423, 'learning_rate': 5.3055319148936173e-05, 'epoch': 2.89}\n"
     ]
    },
    {
     "name": "stderr",
     "output_type": "stream",
     "text": [
      " 12%|█▏        | 137/1175 [21:51<2:04:23,  7.19s/it]"
     ]
    },
    {
     "name": "stdout",
     "output_type": "stream",
     "text": [
      "{'loss': 0.4311, 'learning_rate': 5.300425531914894e-05, 'epoch': 2.91}\n"
     ]
    },
    {
     "name": "stderr",
     "output_type": "stream",
     "text": [
      " 12%|█▏        | 138/1175 [21:58<2:04:18,  7.19s/it]"
     ]
    },
    {
     "name": "stdout",
     "output_type": "stream",
     "text": [
      "{'loss': 0.6134, 'learning_rate': 5.2953191489361707e-05, 'epoch': 2.94}\n"
     ]
    },
    {
     "name": "stderr",
     "output_type": "stream",
     "text": [
      " 12%|█▏        | 139/1175 [22:05<2:03:57,  7.18s/it]"
     ]
    },
    {
     "name": "stdout",
     "output_type": "stream",
     "text": [
      "{'loss': 0.6439, 'learning_rate': 5.290212765957447e-05, 'epoch': 2.96}\n"
     ]
    },
    {
     "name": "stderr",
     "output_type": "stream",
     "text": [
      " 12%|█▏        | 140/1175 [22:12<2:01:48,  7.06s/it]"
     ]
    },
    {
     "name": "stdout",
     "output_type": "stream",
     "text": [
      "{'loss': 0.6006, 'learning_rate': 5.285106382978724e-05, 'epoch': 2.98}\n"
     ]
    },
    {
     "name": "stderr",
     "output_type": "stream",
     "text": [
      " 12%|█▏        | 141/1175 [22:16<1:45:09,  6.10s/it]"
     ]
    },
    {
     "name": "stdout",
     "output_type": "stream",
     "text": [
      "{'loss': 0.4112, 'learning_rate': 5.28e-05, 'epoch': 3.0}\n"
     ]
    },
    {
     "name": "stderr",
     "output_type": "stream",
     "text": [
      " 12%|█▏        | 142/1175 [22:24<1:57:01,  6.80s/it]"
     ]
    },
    {
     "name": "stdout",
     "output_type": "stream",
     "text": [
      "{'loss': 0.5344, 'learning_rate': 5.2748936170212766e-05, 'epoch': 3.02}\n"
     ]
    },
    {
     "name": "stderr",
     "output_type": "stream",
     "text": [
      " 12%|█▏        | 143/1175 [22:31<1:58:45,  6.91s/it]"
     ]
    },
    {
     "name": "stdout",
     "output_type": "stream",
     "text": [
      "{'loss': 0.5183, 'learning_rate': 5.2697872340425536e-05, 'epoch': 3.04}\n"
     ]
    },
    {
     "name": "stderr",
     "output_type": "stream",
     "text": [
      " 12%|█▏        | 144/1175 [22:38<1:59:58,  6.98s/it]"
     ]
    },
    {
     "name": "stdout",
     "output_type": "stream",
     "text": [
      "{'loss': 0.5165, 'learning_rate': 5.26468085106383e-05, 'epoch': 3.06}\n"
     ]
    },
    {
     "name": "stderr",
     "output_type": "stream",
     "text": [
      " 12%|█▏        | 145/1175 [22:46<2:01:14,  7.06s/it]"
     ]
    },
    {
     "name": "stdout",
     "output_type": "stream",
     "text": [
      "{'loss': 0.4345, 'learning_rate': 5.259574468085107e-05, 'epoch': 3.09}\n"
     ]
    },
    {
     "name": "stderr",
     "output_type": "stream",
     "text": [
      " 12%|█▏        | 146/1175 [22:53<2:01:40,  7.10s/it]"
     ]
    },
    {
     "name": "stdout",
     "output_type": "stream",
     "text": [
      "{'loss': 0.4036, 'learning_rate': 5.254468085106383e-05, 'epoch': 3.11}\n"
     ]
    },
    {
     "name": "stderr",
     "output_type": "stream",
     "text": [
      " 13%|█▎        | 147/1175 [23:00<2:02:00,  7.12s/it]"
     ]
    },
    {
     "name": "stdout",
     "output_type": "stream",
     "text": [
      "{'loss': 0.6004, 'learning_rate': 5.2493617021276595e-05, 'epoch': 3.13}\n"
     ]
    },
    {
     "name": "stderr",
     "output_type": "stream",
     "text": [
      " 13%|█▎        | 148/1175 [23:07<2:02:22,  7.15s/it]"
     ]
    },
    {
     "name": "stdout",
     "output_type": "stream",
     "text": [
      "{'loss': 0.3713, 'learning_rate': 5.2442553191489365e-05, 'epoch': 3.15}\n"
     ]
    },
    {
     "name": "stderr",
     "output_type": "stream",
     "text": [
      " 13%|█▎        | 149/1175 [23:14<2:02:29,  7.16s/it]"
     ]
    },
    {
     "name": "stdout",
     "output_type": "stream",
     "text": [
      "{'loss': 0.34, 'learning_rate': 5.239148936170213e-05, 'epoch': 3.17}\n"
     ]
    },
    {
     "name": "stderr",
     "output_type": "stream",
     "text": [
      " 13%|█▎        | 150/1175 [23:22<2:02:26,  7.17s/it]"
     ]
    },
    {
     "name": "stdout",
     "output_type": "stream",
     "text": [
      "{'loss': 0.3507, 'learning_rate': 5.23404255319149e-05, 'epoch': 3.19}\n"
     ]
    },
    {
     "name": "stderr",
     "output_type": "stream",
     "text": [
      " 13%|█▎        | 151/1175 [23:29<2:02:31,  7.18s/it]"
     ]
    },
    {
     "name": "stdout",
     "output_type": "stream",
     "text": [
      "{'loss': 0.3791, 'learning_rate': 5.228936170212766e-05, 'epoch': 3.21}\n"
     ]
    },
    {
     "name": "stderr",
     "output_type": "stream",
     "text": [
      " 13%|█▎        | 152/1175 [23:36<2:02:19,  7.17s/it]"
     ]
    },
    {
     "name": "stdout",
     "output_type": "stream",
     "text": [
      "{'loss': 0.408, 'learning_rate': 5.2238297872340424e-05, 'epoch': 3.23}\n"
     ]
    },
    {
     "name": "stderr",
     "output_type": "stream",
     "text": [
      " 13%|█▎        | 153/1175 [23:43<2:02:05,  7.17s/it]"
     ]
    },
    {
     "name": "stdout",
     "output_type": "stream",
     "text": [
      "{'loss': 0.3757, 'learning_rate': 5.2187234042553194e-05, 'epoch': 3.26}\n"
     ]
    },
    {
     "name": "stderr",
     "output_type": "stream",
     "text": [
      " 13%|█▎        | 154/1175 [23:50<2:02:06,  7.18s/it]"
     ]
    },
    {
     "name": "stdout",
     "output_type": "stream",
     "text": [
      "{'loss': 0.5305, 'learning_rate': 5.213617021276596e-05, 'epoch': 3.28}\n"
     ]
    },
    {
     "name": "stderr",
     "output_type": "stream",
     "text": [
      " 13%|█▎        | 155/1175 [23:57<2:02:01,  7.18s/it]"
     ]
    },
    {
     "name": "stdout",
     "output_type": "stream",
     "text": [
      "{'loss': 0.3683, 'learning_rate': 5.208510638297873e-05, 'epoch': 3.3}\n"
     ]
    },
    {
     "name": "stderr",
     "output_type": "stream",
     "text": [
      " 13%|█▎        | 156/1175 [24:05<2:01:57,  7.18s/it]"
     ]
    },
    {
     "name": "stdout",
     "output_type": "stream",
     "text": [
      "{'loss': 0.3507, 'learning_rate': 5.203404255319149e-05, 'epoch': 3.32}\n"
     ]
    },
    {
     "name": "stderr",
     "output_type": "stream",
     "text": [
      " 13%|█▎        | 157/1175 [24:12<2:01:40,  7.17s/it]"
     ]
    },
    {
     "name": "stdout",
     "output_type": "stream",
     "text": [
      "{'loss': 0.3713, 'learning_rate': 5.198297872340426e-05, 'epoch': 3.34}\n"
     ]
    },
    {
     "name": "stderr",
     "output_type": "stream",
     "text": [
      " 13%|█▎        | 158/1175 [24:19<2:01:40,  7.18s/it]"
     ]
    },
    {
     "name": "stdout",
     "output_type": "stream",
     "text": [
      "{'loss': 0.4142, 'learning_rate': 5.193191489361702e-05, 'epoch': 3.36}\n"
     ]
    },
    {
     "name": "stderr",
     "output_type": "stream",
     "text": [
      " 14%|█▎        | 159/1175 [24:26<2:01:55,  7.20s/it]"
     ]
    },
    {
     "name": "stdout",
     "output_type": "stream",
     "text": [
      "{'loss': 0.3578, 'learning_rate': 5.1880851063829786e-05, 'epoch': 3.38}\n"
     ]
    },
    {
     "name": "stderr",
     "output_type": "stream",
     "text": [
      " 14%|█▎        | 160/1175 [24:33<2:02:06,  7.22s/it]"
     ]
    },
    {
     "name": "stdout",
     "output_type": "stream",
     "text": [
      "{'loss': 0.3883, 'learning_rate': 5.1829787234042556e-05, 'epoch': 3.4}\n"
     ]
    },
    {
     "name": "stderr",
     "output_type": "stream",
     "text": [
      " 14%|█▎        | 161/1175 [24:41<2:01:34,  7.19s/it]"
     ]
    },
    {
     "name": "stdout",
     "output_type": "stream",
     "text": [
      "{'loss': 0.3428, 'learning_rate': 5.177872340425532e-05, 'epoch': 3.43}\n"
     ]
    },
    {
     "name": "stderr",
     "output_type": "stream",
     "text": [
      " 14%|█▍        | 162/1175 [24:48<2:01:25,  7.19s/it]"
     ]
    },
    {
     "name": "stdout",
     "output_type": "stream",
     "text": [
      "{'loss': 0.3099, 'learning_rate': 5.172765957446809e-05, 'epoch': 3.45}\n"
     ]
    },
    {
     "name": "stderr",
     "output_type": "stream",
     "text": [
      " 14%|█▍        | 163/1175 [24:55<2:01:16,  7.19s/it]"
     ]
    },
    {
     "name": "stdout",
     "output_type": "stream",
     "text": [
      "{'loss': 0.3737, 'learning_rate': 5.167659574468085e-05, 'epoch': 3.47}\n"
     ]
    },
    {
     "name": "stderr",
     "output_type": "stream",
     "text": [
      " 14%|█▍        | 164/1175 [25:02<2:01:03,  7.18s/it]"
     ]
    },
    {
     "name": "stdout",
     "output_type": "stream",
     "text": [
      "{'loss': 0.446, 'learning_rate': 5.1625531914893616e-05, 'epoch': 3.49}\n"
     ]
    },
    {
     "name": "stderr",
     "output_type": "stream",
     "text": [
      " 14%|█▍        | 165/1175 [25:09<2:00:49,  7.18s/it]"
     ]
    },
    {
     "name": "stdout",
     "output_type": "stream",
     "text": [
      "{'loss': 0.3717, 'learning_rate': 5.1574468085106386e-05, 'epoch': 3.51}\n"
     ]
    },
    {
     "name": "stderr",
     "output_type": "stream",
     "text": [
      " 14%|█▍        | 166/1175 [25:17<2:00:51,  7.19s/it]"
     ]
    },
    {
     "name": "stdout",
     "output_type": "stream",
     "text": [
      "{'loss': 0.4297, 'learning_rate': 5.152340425531915e-05, 'epoch': 3.53}\n"
     ]
    },
    {
     "name": "stderr",
     "output_type": "stream",
     "text": [
      " 14%|█▍        | 167/1175 [25:24<2:00:44,  7.19s/it]"
     ]
    },
    {
     "name": "stdout",
     "output_type": "stream",
     "text": [
      "{'loss': 0.2998, 'learning_rate': 5.147234042553192e-05, 'epoch': 3.55}\n"
     ]
    },
    {
     "name": "stderr",
     "output_type": "stream",
     "text": [
      " 14%|█▍        | 168/1175 [25:31<2:00:40,  7.19s/it]"
     ]
    },
    {
     "name": "stdout",
     "output_type": "stream",
     "text": [
      "{'loss': 0.5186, 'learning_rate': 5.142127659574468e-05, 'epoch': 3.57}\n"
     ]
    },
    {
     "name": "stderr",
     "output_type": "stream",
     "text": [
      " 14%|█▍        | 169/1175 [25:38<2:00:37,  7.19s/it]"
     ]
    },
    {
     "name": "stdout",
     "output_type": "stream",
     "text": [
      "{'loss': 0.3976, 'learning_rate': 5.1370212765957445e-05, 'epoch': 3.6}\n"
     ]
    },
    {
     "name": "stderr",
     "output_type": "stream",
     "text": [
      " 14%|█▍        | 170/1175 [25:45<2:00:11,  7.18s/it]"
     ]
    },
    {
     "name": "stdout",
     "output_type": "stream",
     "text": [
      "{'loss': 0.3149, 'learning_rate': 5.1319148936170215e-05, 'epoch': 3.62}\n"
     ]
    },
    {
     "name": "stderr",
     "output_type": "stream",
     "text": [
      " 15%|█▍        | 171/1175 [25:52<2:00:13,  7.18s/it]"
     ]
    },
    {
     "name": "stdout",
     "output_type": "stream",
     "text": [
      "{'loss': 0.3302, 'learning_rate': 5.126808510638298e-05, 'epoch': 3.64}\n"
     ]
    },
    {
     "name": "stderr",
     "output_type": "stream",
     "text": [
      " 15%|█▍        | 172/1175 [26:00<2:00:16,  7.19s/it]"
     ]
    },
    {
     "name": "stdout",
     "output_type": "stream",
     "text": [
      "{'loss': 0.6117, 'learning_rate': 5.121702127659575e-05, 'epoch': 3.66}\n"
     ]
    },
    {
     "name": "stderr",
     "output_type": "stream",
     "text": [
      " 15%|█▍        | 173/1175 [26:07<2:00:14,  7.20s/it]"
     ]
    },
    {
     "name": "stdout",
     "output_type": "stream",
     "text": [
      "{'loss': 0.3099, 'learning_rate': 5.116595744680851e-05, 'epoch': 3.68}\n"
     ]
    },
    {
     "name": "stderr",
     "output_type": "stream",
     "text": [
      " 15%|█▍        | 174/1175 [26:14<2:00:08,  7.20s/it]"
     ]
    },
    {
     "name": "stdout",
     "output_type": "stream",
     "text": [
      "{'loss': 0.3725, 'learning_rate': 5.111489361702128e-05, 'epoch': 3.7}\n"
     ]
    },
    {
     "name": "stderr",
     "output_type": "stream",
     "text": [
      " 15%|█▍        | 175/1175 [26:21<2:00:13,  7.21s/it]"
     ]
    },
    {
     "name": "stdout",
     "output_type": "stream",
     "text": [
      "{'loss': 0.5297, 'learning_rate': 5.1063829787234044e-05, 'epoch': 3.72}\n"
     ]
    },
    {
     "name": "stderr",
     "output_type": "stream",
     "text": [
      " 15%|█▍        | 176/1175 [26:29<1:59:59,  7.21s/it]"
     ]
    },
    {
     "name": "stdout",
     "output_type": "stream",
     "text": [
      "{'loss': 0.2912, 'learning_rate': 5.101276595744681e-05, 'epoch': 3.74}\n"
     ]
    },
    {
     "name": "stderr",
     "output_type": "stream",
     "text": [
      " 15%|█▌        | 177/1175 [26:36<1:59:26,  7.18s/it]"
     ]
    },
    {
     "name": "stdout",
     "output_type": "stream",
     "text": [
      "{'loss': 0.3062, 'learning_rate': 5.096170212765958e-05, 'epoch': 3.77}\n"
     ]
    },
    {
     "name": "stderr",
     "output_type": "stream",
     "text": [
      " 15%|█▌        | 178/1175 [26:43<1:59:12,  7.17s/it]"
     ]
    },
    {
     "name": "stdout",
     "output_type": "stream",
     "text": [
      "{'loss': 0.3717, 'learning_rate': 5.091063829787234e-05, 'epoch': 3.79}\n"
     ]
    },
    {
     "name": "stderr",
     "output_type": "stream",
     "text": [
      " 15%|█▌        | 179/1175 [26:50<1:59:21,  7.19s/it]"
     ]
    },
    {
     "name": "stdout",
     "output_type": "stream",
     "text": [
      "{'loss': 0.2949, 'learning_rate': 5.085957446808511e-05, 'epoch': 3.81}\n"
     ]
    },
    {
     "name": "stderr",
     "output_type": "stream",
     "text": [
      " 15%|█▌        | 180/1175 [26:57<1:59:04,  7.18s/it]"
     ]
    },
    {
     "name": "stdout",
     "output_type": "stream",
     "text": [
      "{'loss': 0.2959, 'learning_rate': 5.080851063829787e-05, 'epoch': 3.83}\n"
     ]
    },
    {
     "name": "stderr",
     "output_type": "stream",
     "text": [
      " 15%|█▌        | 181/1175 [27:04<1:58:59,  7.18s/it]"
     ]
    },
    {
     "name": "stdout",
     "output_type": "stream",
     "text": [
      "{'loss': 0.278, 'learning_rate': 5.0757446808510636e-05, 'epoch': 3.85}\n"
     ]
    },
    {
     "name": "stderr",
     "output_type": "stream",
     "text": [
      " 15%|█▌        | 182/1175 [27:12<1:58:56,  7.19s/it]"
     ]
    },
    {
     "name": "stdout",
     "output_type": "stream",
     "text": [
      "{'loss': 0.2811, 'learning_rate': 5.0706382978723406e-05, 'epoch': 3.87}\n"
     ]
    },
    {
     "name": "stderr",
     "output_type": "stream",
     "text": [
      " 16%|█▌        | 183/1175 [27:19<1:58:39,  7.18s/it]"
     ]
    },
    {
     "name": "stdout",
     "output_type": "stream",
     "text": [
      "{'loss': 0.3133, 'learning_rate': 5.065531914893617e-05, 'epoch': 3.89}\n"
     ]
    },
    {
     "name": "stderr",
     "output_type": "stream",
     "text": [
      " 16%|█▌        | 184/1175 [27:26<1:58:31,  7.18s/it]"
     ]
    },
    {
     "name": "stdout",
     "output_type": "stream",
     "text": [
      "{'loss': 0.2859, 'learning_rate': 5.060425531914894e-05, 'epoch': 3.91}\n"
     ]
    },
    {
     "name": "stderr",
     "output_type": "stream",
     "text": [
      " 16%|█▌        | 185/1175 [27:33<1:58:28,  7.18s/it]"
     ]
    },
    {
     "name": "stdout",
     "output_type": "stream",
     "text": [
      "{'loss': 0.3589, 'learning_rate': 5.05531914893617e-05, 'epoch': 3.94}\n"
     ]
    },
    {
     "name": "stderr",
     "output_type": "stream",
     "text": [
      " 16%|█▌        | 186/1175 [27:40<1:58:23,  7.18s/it]"
     ]
    },
    {
     "name": "stdout",
     "output_type": "stream",
     "text": [
      "{'loss': 0.3539, 'learning_rate': 5.0502127659574466e-05, 'epoch': 3.96}\n"
     ]
    },
    {
     "name": "stderr",
     "output_type": "stream",
     "text": [
      " 16%|█▌        | 187/1175 [27:47<1:56:14,  7.06s/it]"
     ]
    },
    {
     "name": "stdout",
     "output_type": "stream",
     "text": [
      "{'loss': 0.275, 'learning_rate': 5.0451063829787235e-05, 'epoch': 3.98}\n"
     ]
    },
    {
     "name": "stderr",
     "output_type": "stream",
     "text": [
      " 16%|█▌        | 188/1175 [27:51<1:40:24,  6.10s/it]"
     ]
    },
    {
     "name": "stdout",
     "output_type": "stream",
     "text": [
      "{'loss': 0.3351, 'learning_rate': 5.04e-05, 'epoch': 4.0}\n"
     ]
    },
    {
     "name": "stderr",
     "output_type": "stream",
     "text": [
      " 16%|█▌        | 189/1175 [27:59<1:52:29,  6.85s/it]"
     ]
    },
    {
     "name": "stdout",
     "output_type": "stream",
     "text": [
      "{'loss': 0.3076, 'learning_rate': 5.034893617021277e-05, 'epoch': 4.02}\n"
     ]
    },
    {
     "name": "stderr",
     "output_type": "stream",
     "text": [
      " 16%|█▌        | 190/1175 [28:07<1:53:34,  6.92s/it]"
     ]
    },
    {
     "name": "stdout",
     "output_type": "stream",
     "text": [
      "{'loss': 0.2949, 'learning_rate': 5.029787234042553e-05, 'epoch': 4.04}\n"
     ]
    },
    {
     "name": "stderr",
     "output_type": "stream",
     "text": [
      " 16%|█▋        | 191/1175 [28:14<1:54:58,  7.01s/it]"
     ]
    },
    {
     "name": "stdout",
     "output_type": "stream",
     "text": [
      "{'loss': 0.4043, 'learning_rate': 5.02468085106383e-05, 'epoch': 4.06}\n"
     ]
    },
    {
     "name": "stderr",
     "output_type": "stream",
     "text": [
      " 16%|█▋        | 192/1175 [28:21<1:55:50,  7.07s/it]"
     ]
    },
    {
     "name": "stdout",
     "output_type": "stream",
     "text": [
      "{'loss': 0.293, 'learning_rate': 5.0195744680851065e-05, 'epoch': 4.09}\n"
     ]
    },
    {
     "name": "stderr",
     "output_type": "stream",
     "text": [
      " 16%|█▋        | 193/1175 [28:28<1:56:52,  7.14s/it]"
     ]
    },
    {
     "name": "stdout",
     "output_type": "stream",
     "text": [
      "{'loss': 0.4784, 'learning_rate': 5.014468085106383e-05, 'epoch': 4.11}\n"
     ]
    },
    {
     "name": "stderr",
     "output_type": "stream",
     "text": [
      " 17%|█▋        | 194/1175 [28:36<1:57:03,  7.16s/it]"
     ]
    },
    {
     "name": "stdout",
     "output_type": "stream",
     "text": [
      "{'loss': 0.34, 'learning_rate': 5.00936170212766e-05, 'epoch': 4.13}\n"
     ]
    },
    {
     "name": "stderr",
     "output_type": "stream",
     "text": [
      " 17%|█▋        | 195/1175 [28:43<1:57:16,  7.18s/it]"
     ]
    },
    {
     "name": "stdout",
     "output_type": "stream",
     "text": [
      "{'loss': 0.2497, 'learning_rate': 5.004255319148936e-05, 'epoch': 4.15}\n"
     ]
    },
    {
     "name": "stderr",
     "output_type": "stream",
     "text": [
      " 17%|█▋        | 196/1175 [28:50<1:57:02,  7.17s/it]"
     ]
    },
    {
     "name": "stdout",
     "output_type": "stream",
     "text": [
      "{'loss': 0.2822, 'learning_rate': 4.999148936170213e-05, 'epoch': 4.17}\n"
     ]
    },
    {
     "name": "stderr",
     "output_type": "stream",
     "text": [
      " 17%|█▋        | 197/1175 [28:57<1:56:51,  7.17s/it]"
     ]
    },
    {
     "name": "stdout",
     "output_type": "stream",
     "text": [
      "{'loss': 0.2576, 'learning_rate': 4.9940425531914894e-05, 'epoch': 4.19}\n"
     ]
    },
    {
     "name": "stderr",
     "output_type": "stream",
     "text": [
      " 17%|█▋        | 198/1175 [29:04<1:56:42,  7.17s/it]"
     ]
    },
    {
     "name": "stdout",
     "output_type": "stream",
     "text": [
      "{'loss': 0.419, 'learning_rate': 4.988936170212766e-05, 'epoch': 4.21}\n"
     ]
    },
    {
     "name": "stderr",
     "output_type": "stream",
     "text": [
      " 17%|█▋        | 199/1175 [29:11<1:56:31,  7.16s/it]"
     ]
    },
    {
     "name": "stdout",
     "output_type": "stream",
     "text": [
      "{'loss': 0.3222, 'learning_rate': 4.983829787234043e-05, 'epoch': 4.23}\n"
     ]
    },
    {
     "name": "stderr",
     "output_type": "stream",
     "text": [
      " 17%|█▋        | 200/1175 [29:19<1:56:31,  7.17s/it]"
     ]
    },
    {
     "name": "stdout",
     "output_type": "stream",
     "text": [
      "{'loss': 0.4756, 'learning_rate': 4.978723404255319e-05, 'epoch': 4.26}\n"
     ]
    },
    {
     "name": "stderr",
     "output_type": "stream",
     "text": [
      "                                                    \n",
      " 17%|█▋        | 200/1175 [34:55<1:56:31,  7.17s/it]"
     ]
    },
    {
     "name": "stdout",
     "output_type": "stream",
     "text": [
      "{'eval_loss': 0.20239399373531342, 'eval_mean_iou': 0.5147250968113094, 'eval_mean_accuracy': 0.5777918119859766, 'eval_overall_accuracy': 0.9890503390081997, 'eval_per_category_iou': [0.0, 0.9899444786962713, 0.5637741606758029, 0.5051817478731632], 'eval_per_category_accuracy': [0.0, 0.996491821870208, 0.6996320163087608, 0.6150434097649373], 'eval_runtime': 336.3681, 'eval_samples_per_second': 0.69, 'eval_steps_per_second': 0.071, 'epoch': 4.26}\n"
     ]
    },
    {
     "name": "stderr",
     "output_type": "stream",
     "text": [
      " 17%|█▋        | 201/1175 [35:03<29:16:49, 108.22s/it]"
     ]
    },
    {
     "name": "stdout",
     "output_type": "stream",
     "text": [
      "{'loss': 0.288, 'learning_rate': 4.973617021276596e-05, 'epoch': 4.28}\n"
     ]
    },
    {
     "name": "stderr",
     "output_type": "stream",
     "text": [
      " 17%|█▋        | 202/1175 [35:10<21:03:30, 77.91s/it] "
     ]
    },
    {
     "name": "stdout",
     "output_type": "stream",
     "text": [
      "{'loss': 0.4666, 'learning_rate': 4.968510638297872e-05, 'epoch': 4.3}\n"
     ]
    },
    {
     "name": "stderr",
     "output_type": "stream",
     "text": [
      " 17%|█▋        | 203/1175 [35:17<15:18:26, 56.69s/it]"
     ]
    },
    {
     "name": "stdout",
     "output_type": "stream",
     "text": [
      "{'loss': 0.265, 'learning_rate': 4.9634042553191486e-05, 'epoch': 4.32}\n"
     ]
    },
    {
     "name": "stderr",
     "output_type": "stream",
     "text": [
      " 17%|█▋        | 204/1175 [35:24<11:17:02, 41.84s/it]"
     ]
    },
    {
     "name": "stdout",
     "output_type": "stream",
     "text": [
      "{'loss': 0.3241, 'learning_rate': 4.9582978723404256e-05, 'epoch': 4.34}\n"
     ]
    },
    {
     "name": "stderr",
     "output_type": "stream",
     "text": [
      " 17%|█▋        | 205/1175 [35:31<8:28:07, 31.43s/it] "
     ]
    },
    {
     "name": "stdout",
     "output_type": "stream",
     "text": [
      "{'loss': 0.3017, 'learning_rate': 4.953191489361702e-05, 'epoch': 4.36}\n"
     ]
    },
    {
     "name": "stderr",
     "output_type": "stream",
     "text": [
      " 18%|█▊        | 206/1175 [35:39<6:30:29, 24.18s/it]"
     ]
    },
    {
     "name": "stdout",
     "output_type": "stream",
     "text": [
      "{'loss': 0.4206, 'learning_rate': 4.948085106382979e-05, 'epoch': 4.38}\n"
     ]
    },
    {
     "name": "stderr",
     "output_type": "stream",
     "text": [
      " 18%|█▊        | 207/1175 [35:46<5:07:34, 19.06s/it]"
     ]
    },
    {
     "name": "stdout",
     "output_type": "stream",
     "text": [
      "{'loss': 0.3134, 'learning_rate': 4.942978723404255e-05, 'epoch': 4.4}\n"
     ]
    },
    {
     "name": "stderr",
     "output_type": "stream",
     "text": [
      " 18%|█▊        | 208/1175 [35:53<4:09:51, 15.50s/it]"
     ]
    },
    {
     "name": "stdout",
     "output_type": "stream",
     "text": [
      "{'loss': 0.2367, 'learning_rate': 4.937872340425532e-05, 'epoch': 4.43}\n"
     ]
    },
    {
     "name": "stderr",
     "output_type": "stream",
     "text": [
      " 18%|█▊        | 209/1175 [36:00<3:29:27, 13.01s/it]"
     ]
    },
    {
     "name": "stdout",
     "output_type": "stream",
     "text": [
      "{'loss': 0.2976, 'learning_rate': 4.9327659574468085e-05, 'epoch': 4.45}\n"
     ]
    },
    {
     "name": "stderr",
     "output_type": "stream",
     "text": [
      " 18%|█▊        | 210/1175 [36:07<3:01:03, 11.26s/it]"
     ]
    },
    {
     "name": "stdout",
     "output_type": "stream",
     "text": [
      "{'loss': 0.2285, 'learning_rate': 4.927659574468085e-05, 'epoch': 4.47}\n"
     ]
    },
    {
     "name": "stderr",
     "output_type": "stream",
     "text": [
      " 18%|█▊        | 211/1175 [36:14<2:41:01, 10.02s/it]"
     ]
    },
    {
     "name": "stdout",
     "output_type": "stream",
     "text": [
      "{'loss': 0.2498, 'learning_rate': 4.922553191489362e-05, 'epoch': 4.49}\n"
     ]
    },
    {
     "name": "stderr",
     "output_type": "stream",
     "text": [
      " 18%|█▊        | 212/1175 [36:22<2:27:15,  9.18s/it]"
     ]
    },
    {
     "name": "stdout",
     "output_type": "stream",
     "text": [
      "{'loss': 0.3401, 'learning_rate': 4.917446808510638e-05, 'epoch': 4.51}\n"
     ]
    },
    {
     "name": "stderr",
     "output_type": "stream",
     "text": [
      " 18%|█▊        | 213/1175 [36:29<2:17:29,  8.58s/it]"
     ]
    },
    {
     "name": "stdout",
     "output_type": "stream",
     "text": [
      "{'loss': 0.3018, 'learning_rate': 4.912340425531915e-05, 'epoch': 4.53}\n"
     ]
    },
    {
     "name": "stderr",
     "output_type": "stream",
     "text": [
      " 18%|█▊        | 214/1175 [36:36<2:10:45,  8.16s/it]"
     ]
    },
    {
     "name": "stdout",
     "output_type": "stream",
     "text": [
      "{'loss': 0.3612, 'learning_rate': 4.9072340425531914e-05, 'epoch': 4.55}\n"
     ]
    },
    {
     "name": "stderr",
     "output_type": "stream",
     "text": [
      " 18%|█▊        | 215/1175 [36:43<2:06:06,  7.88s/it]"
     ]
    },
    {
     "name": "stdout",
     "output_type": "stream",
     "text": [
      "{'loss': 0.32, 'learning_rate': 4.902127659574468e-05, 'epoch': 4.57}\n"
     ]
    },
    {
     "name": "stderr",
     "output_type": "stream",
     "text": [
      " 18%|█▊        | 216/1175 [36:50<2:02:48,  7.68s/it]"
     ]
    },
    {
     "name": "stdout",
     "output_type": "stream",
     "text": [
      "{'loss': 0.2983, 'learning_rate': 4.897021276595745e-05, 'epoch': 4.6}\n"
     ]
    },
    {
     "name": "stderr",
     "output_type": "stream",
     "text": [
      " 18%|█▊        | 217/1175 [36:58<2:00:02,  7.52s/it]"
     ]
    },
    {
     "name": "stdout",
     "output_type": "stream",
     "text": [
      "{'loss': 0.3716, 'learning_rate': 4.891914893617021e-05, 'epoch': 4.62}\n"
     ]
    },
    {
     "name": "stderr",
     "output_type": "stream",
     "text": [
      " 19%|█▊        | 218/1175 [37:05<1:58:20,  7.42s/it]"
     ]
    },
    {
     "name": "stdout",
     "output_type": "stream",
     "text": [
      "{'loss': 0.3054, 'learning_rate': 4.886808510638298e-05, 'epoch': 4.64}\n"
     ]
    },
    {
     "name": "stderr",
     "output_type": "stream",
     "text": [
      " 19%|█▊        | 219/1175 [37:12<1:57:18,  7.36s/it]"
     ]
    },
    {
     "name": "stdout",
     "output_type": "stream",
     "text": [
      "{'loss': 0.3137, 'learning_rate': 4.8817021276595744e-05, 'epoch': 4.66}\n"
     ]
    },
    {
     "name": "stderr",
     "output_type": "stream",
     "text": [
      " 19%|█▊        | 220/1175 [37:19<1:56:10,  7.30s/it]"
     ]
    },
    {
     "name": "stdout",
     "output_type": "stream",
     "text": [
      "{'loss': 0.2433, 'learning_rate': 4.876595744680851e-05, 'epoch': 4.68}\n"
     ]
    },
    {
     "name": "stderr",
     "output_type": "stream",
     "text": [
      " 19%|█▉        | 221/1175 [37:26<1:55:27,  7.26s/it]"
     ]
    },
    {
     "name": "stdout",
     "output_type": "stream",
     "text": [
      "{'loss': 0.2259, 'learning_rate': 4.871489361702128e-05, 'epoch': 4.7}\n"
     ]
    },
    {
     "name": "stderr",
     "output_type": "stream",
     "text": [
      " 19%|█▉        | 222/1175 [37:33<1:55:02,  7.24s/it]"
     ]
    },
    {
     "name": "stdout",
     "output_type": "stream",
     "text": [
      "{'loss': 0.2457, 'learning_rate': 4.866382978723404e-05, 'epoch': 4.72}\n"
     ]
    },
    {
     "name": "stderr",
     "output_type": "stream",
     "text": [
      " 19%|█▉        | 223/1175 [37:41<1:54:21,  7.21s/it]"
     ]
    },
    {
     "name": "stdout",
     "output_type": "stream",
     "text": [
      "{'loss': 0.2198, 'learning_rate': 4.861276595744681e-05, 'epoch': 4.74}\n"
     ]
    },
    {
     "name": "stderr",
     "output_type": "stream",
     "text": [
      " 19%|█▉        | 224/1175 [37:48<1:53:55,  7.19s/it]"
     ]
    },
    {
     "name": "stdout",
     "output_type": "stream",
     "text": [
      "{'loss': 0.3319, 'learning_rate': 4.856170212765957e-05, 'epoch': 4.77}\n"
     ]
    },
    {
     "name": "stderr",
     "output_type": "stream",
     "text": [
      " 19%|█▉        | 225/1175 [37:55<1:53:48,  7.19s/it]"
     ]
    },
    {
     "name": "stdout",
     "output_type": "stream",
     "text": [
      "{'loss': 0.2248, 'learning_rate': 4.8510638297872336e-05, 'epoch': 4.79}\n"
     ]
    },
    {
     "name": "stderr",
     "output_type": "stream",
     "text": [
      " 19%|█▉        | 226/1175 [38:02<1:53:37,  7.18s/it]"
     ]
    },
    {
     "name": "stdout",
     "output_type": "stream",
     "text": [
      "{'loss': 0.4295, 'learning_rate': 4.8459574468085106e-05, 'epoch': 4.81}\n"
     ]
    },
    {
     "name": "stderr",
     "output_type": "stream",
     "text": [
      " 19%|█▉        | 227/1175 [38:09<1:53:34,  7.19s/it]"
     ]
    },
    {
     "name": "stdout",
     "output_type": "stream",
     "text": [
      "{'loss': 0.2172, 'learning_rate': 4.840851063829787e-05, 'epoch': 4.83}\n"
     ]
    },
    {
     "name": "stderr",
     "output_type": "stream",
     "text": [
      " 19%|█▉        | 228/1175 [38:17<1:53:44,  7.21s/it]"
     ]
    },
    {
     "name": "stdout",
     "output_type": "stream",
     "text": [
      "{'loss': 0.3017, 'learning_rate': 4.835744680851064e-05, 'epoch': 4.85}\n"
     ]
    },
    {
     "name": "stderr",
     "output_type": "stream",
     "text": [
      " 19%|█▉        | 229/1175 [38:24<1:53:27,  7.20s/it]"
     ]
    },
    {
     "name": "stdout",
     "output_type": "stream",
     "text": [
      "{'loss': 0.218, 'learning_rate': 4.83063829787234e-05, 'epoch': 4.87}\n"
     ]
    },
    {
     "name": "stderr",
     "output_type": "stream",
     "text": [
      " 20%|█▉        | 230/1175 [38:31<1:53:37,  7.21s/it]"
     ]
    },
    {
     "name": "stdout",
     "output_type": "stream",
     "text": [
      "{'loss': 0.4674, 'learning_rate': 4.825531914893617e-05, 'epoch': 4.89}\n"
     ]
    },
    {
     "name": "stderr",
     "output_type": "stream",
     "text": [
      " 20%|█▉        | 231/1175 [38:38<1:53:40,  7.23s/it]"
     ]
    },
    {
     "name": "stdout",
     "output_type": "stream",
     "text": [
      "{'loss': 0.3976, 'learning_rate': 4.8204255319148935e-05, 'epoch': 4.91}\n"
     ]
    },
    {
     "name": "stderr",
     "output_type": "stream",
     "text": [
      " 20%|█▉        | 232/1175 [38:45<1:53:28,  7.22s/it]"
     ]
    },
    {
     "name": "stdout",
     "output_type": "stream",
     "text": [
      "{'loss': 0.2637, 'learning_rate': 4.81531914893617e-05, 'epoch': 4.94}\n"
     ]
    },
    {
     "name": "stderr",
     "output_type": "stream",
     "text": [
      " 20%|█▉        | 233/1175 [38:53<1:52:54,  7.19s/it]"
     ]
    },
    {
     "name": "stdout",
     "output_type": "stream",
     "text": [
      "{'loss': 0.3738, 'learning_rate': 4.810212765957447e-05, 'epoch': 4.96}\n"
     ]
    },
    {
     "name": "stderr",
     "output_type": "stream",
     "text": [
      " 20%|█▉        | 234/1175 [38:59<1:51:32,  7.11s/it]"
     ]
    },
    {
     "name": "stdout",
     "output_type": "stream",
     "text": [
      "{'loss': 0.3362, 'learning_rate': 4.805106382978723e-05, 'epoch': 4.98}\n"
     ]
    },
    {
     "name": "stderr",
     "output_type": "stream",
     "text": [
      " 20%|██        | 235/1175 [39:03<1:36:12,  6.14s/it]"
     ]
    },
    {
     "name": "stdout",
     "output_type": "stream",
     "text": [
      "{'loss': 0.5375, 'learning_rate': 4.8e-05, 'epoch': 5.0}\n"
     ]
    },
    {
     "name": "stderr",
     "output_type": "stream",
     "text": [
      " 20%|██        | 236/1175 [39:12<1:46:02,  6.78s/it]"
     ]
    },
    {
     "name": "stdout",
     "output_type": "stream",
     "text": [
      "{'loss': 0.3569, 'learning_rate': 4.7948936170212764e-05, 'epoch': 5.02}\n"
     ]
    },
    {
     "name": "stderr",
     "output_type": "stream",
     "text": [
      " 20%|██        | 237/1175 [39:19<1:48:12,  6.92s/it]"
     ]
    },
    {
     "name": "stdout",
     "output_type": "stream",
     "text": [
      "{'loss': 0.3615, 'learning_rate': 4.789787234042553e-05, 'epoch': 5.04}\n"
     ]
    },
    {
     "name": "stderr",
     "output_type": "stream",
     "text": [
      " 20%|██        | 238/1175 [39:26<1:49:22,  7.00s/it]"
     ]
    },
    {
     "name": "stdout",
     "output_type": "stream",
     "text": [
      "{'loss': 0.225, 'learning_rate': 4.78468085106383e-05, 'epoch': 5.06}\n"
     ]
    },
    {
     "name": "stderr",
     "output_type": "stream",
     "text": [
      " 20%|██        | 239/1175 [39:33<1:50:08,  7.06s/it]"
     ]
    },
    {
     "name": "stdout",
     "output_type": "stream",
     "text": [
      "{'loss': 0.2629, 'learning_rate': 4.779574468085106e-05, 'epoch': 5.09}\n"
     ]
    },
    {
     "name": "stderr",
     "output_type": "stream",
     "text": [
      " 20%|██        | 240/1175 [39:41<1:50:53,  7.12s/it]"
     ]
    },
    {
     "name": "stdout",
     "output_type": "stream",
     "text": [
      "{'loss': 0.2055, 'learning_rate': 4.774468085106383e-05, 'epoch': 5.11}\n"
     ]
    },
    {
     "name": "stderr",
     "output_type": "stream",
     "text": [
      " 21%|██        | 241/1175 [39:48<1:51:04,  7.14s/it]"
     ]
    },
    {
     "name": "stdout",
     "output_type": "stream",
     "text": [
      "{'loss': 0.2355, 'learning_rate': 4.7693617021276594e-05, 'epoch': 5.13}\n"
     ]
    },
    {
     "name": "stderr",
     "output_type": "stream",
     "text": [
      " 21%|██        | 242/1175 [39:55<1:51:12,  7.15s/it]"
     ]
    },
    {
     "name": "stdout",
     "output_type": "stream",
     "text": [
      "{'loss': 0.373, 'learning_rate': 4.764255319148936e-05, 'epoch': 5.15}\n"
     ]
    },
    {
     "name": "stderr",
     "output_type": "stream",
     "text": [
      " 21%|██        | 243/1175 [40:02<1:51:35,  7.18s/it]"
     ]
    },
    {
     "name": "stdout",
     "output_type": "stream",
     "text": [
      "{'loss': 0.2368, 'learning_rate': 4.7591489361702127e-05, 'epoch': 5.17}\n"
     ]
    },
    {
     "name": "stderr",
     "output_type": "stream",
     "text": [
      " 21%|██        | 244/1175 [40:09<1:51:25,  7.18s/it]"
     ]
    },
    {
     "name": "stdout",
     "output_type": "stream",
     "text": [
      "{'loss': 0.2159, 'learning_rate': 4.754042553191489e-05, 'epoch': 5.19}\n"
     ]
    },
    {
     "name": "stderr",
     "output_type": "stream",
     "text": [
      " 21%|██        | 245/1175 [40:17<1:51:27,  7.19s/it]"
     ]
    },
    {
     "name": "stdout",
     "output_type": "stream",
     "text": [
      "{'loss': 0.1981, 'learning_rate': 4.748936170212766e-05, 'epoch': 5.21}\n"
     ]
    },
    {
     "name": "stderr",
     "output_type": "stream",
     "text": [
      " 21%|██        | 246/1175 [40:24<1:51:27,  7.20s/it]"
     ]
    },
    {
     "name": "stdout",
     "output_type": "stream",
     "text": [
      "{'loss': 0.2691, 'learning_rate': 4.743829787234042e-05, 'epoch': 5.23}\n"
     ]
    },
    {
     "name": "stderr",
     "output_type": "stream",
     "text": [
      " 21%|██        | 247/1175 [40:31<1:51:20,  7.20s/it]"
     ]
    },
    {
     "name": "stdout",
     "output_type": "stream",
     "text": [
      "{'loss': 0.2344, 'learning_rate': 4.738723404255319e-05, 'epoch': 5.26}\n"
     ]
    },
    {
     "name": "stderr",
     "output_type": "stream",
     "text": [
      " 21%|██        | 248/1175 [40:38<1:51:08,  7.19s/it]"
     ]
    },
    {
     "name": "stdout",
     "output_type": "stream",
     "text": [
      "{'loss': 0.3012, 'learning_rate': 4.7336170212765956e-05, 'epoch': 5.28}\n"
     ]
    },
    {
     "name": "stderr",
     "output_type": "stream",
     "text": [
      " 21%|██        | 249/1175 [40:45<1:51:03,  7.20s/it]"
     ]
    },
    {
     "name": "stdout",
     "output_type": "stream",
     "text": [
      "{'loss': 0.3062, 'learning_rate': 4.728510638297872e-05, 'epoch': 5.3}\n"
     ]
    },
    {
     "name": "stderr",
     "output_type": "stream",
     "text": [
      " 21%|██▏       | 250/1175 [40:52<1:50:42,  7.18s/it]"
     ]
    },
    {
     "name": "stdout",
     "output_type": "stream",
     "text": [
      "{'loss': 0.265, 'learning_rate': 4.723404255319149e-05, 'epoch': 5.32}\n"
     ]
    },
    {
     "name": "stderr",
     "output_type": "stream",
     "text": [
      " 21%|██▏       | 251/1175 [41:00<1:50:30,  7.18s/it]"
     ]
    },
    {
     "name": "stdout",
     "output_type": "stream",
     "text": [
      "{'loss': 0.2327, 'learning_rate': 4.718297872340425e-05, 'epoch': 5.34}\n"
     ]
    },
    {
     "name": "stderr",
     "output_type": "stream",
     "text": [
      " 21%|██▏       | 252/1175 [41:07<1:50:36,  7.19s/it]"
     ]
    },
    {
     "name": "stdout",
     "output_type": "stream",
     "text": [
      "{'loss': 0.5877, 'learning_rate': 4.713191489361702e-05, 'epoch': 5.36}\n"
     ]
    },
    {
     "name": "stderr",
     "output_type": "stream",
     "text": [
      " 22%|██▏       | 253/1175 [41:14<1:50:27,  7.19s/it]"
     ]
    },
    {
     "name": "stdout",
     "output_type": "stream",
     "text": [
      "{'loss': 0.2856, 'learning_rate': 4.708085106382979e-05, 'epoch': 5.38}\n"
     ]
    },
    {
     "name": "stderr",
     "output_type": "stream",
     "text": [
      " 22%|██▏       | 254/1175 [41:21<1:50:05,  7.17s/it]"
     ]
    },
    {
     "name": "stdout",
     "output_type": "stream",
     "text": [
      "{'loss': 0.1788, 'learning_rate': 4.7029787234042555e-05, 'epoch': 5.4}\n"
     ]
    },
    {
     "name": "stderr",
     "output_type": "stream",
     "text": [
      " 22%|██▏       | 255/1175 [41:28<1:50:00,  7.17s/it]"
     ]
    },
    {
     "name": "stdout",
     "output_type": "stream",
     "text": [
      "{'loss': 0.4987, 'learning_rate': 4.6978723404255325e-05, 'epoch': 5.43}\n"
     ]
    },
    {
     "name": "stderr",
     "output_type": "stream",
     "text": [
      " 22%|██▏       | 256/1175 [41:36<1:50:04,  7.19s/it]"
     ]
    },
    {
     "name": "stdout",
     "output_type": "stream",
     "text": [
      "{'loss': 0.4043, 'learning_rate': 4.692765957446809e-05, 'epoch': 5.45}\n"
     ]
    },
    {
     "name": "stderr",
     "output_type": "stream",
     "text": [
      " 22%|██▏       | 257/1175 [41:43<1:49:48,  7.18s/it]"
     ]
    },
    {
     "name": "stdout",
     "output_type": "stream",
     "text": [
      "{'loss': 0.2066, 'learning_rate': 4.687659574468086e-05, 'epoch': 5.47}\n"
     ]
    },
    {
     "name": "stderr",
     "output_type": "stream",
     "text": [
      " 22%|██▏       | 258/1175 [41:50<1:49:33,  7.17s/it]"
     ]
    },
    {
     "name": "stdout",
     "output_type": "stream",
     "text": [
      "{'loss': 0.1917, 'learning_rate': 4.682553191489362e-05, 'epoch': 5.49}\n"
     ]
    },
    {
     "name": "stderr",
     "output_type": "stream",
     "text": [
      " 22%|██▏       | 259/1175 [41:57<1:49:21,  7.16s/it]"
     ]
    },
    {
     "name": "stdout",
     "output_type": "stream",
     "text": [
      "{'loss': 0.2717, 'learning_rate': 4.6774468085106384e-05, 'epoch': 5.51}\n"
     ]
    },
    {
     "name": "stderr",
     "output_type": "stream",
     "text": [
      " 22%|██▏       | 260/1175 [42:04<1:49:17,  7.17s/it]"
     ]
    },
    {
     "name": "stdout",
     "output_type": "stream",
     "text": [
      "{'loss': 0.3397, 'learning_rate': 4.6723404255319154e-05, 'epoch': 5.53}\n"
     ]
    },
    {
     "name": "stderr",
     "output_type": "stream",
     "text": [
      " 22%|██▏       | 261/1175 [42:11<1:49:08,  7.17s/it]"
     ]
    },
    {
     "name": "stdout",
     "output_type": "stream",
     "text": [
      "{'loss': 0.2246, 'learning_rate': 4.667234042553192e-05, 'epoch': 5.55}\n"
     ]
    },
    {
     "name": "stderr",
     "output_type": "stream",
     "text": [
      " 22%|██▏       | 262/1175 [42:19<1:48:55,  7.16s/it]"
     ]
    },
    {
     "name": "stdout",
     "output_type": "stream",
     "text": [
      "{'loss': 0.3106, 'learning_rate': 4.662127659574469e-05, 'epoch': 5.57}\n"
     ]
    },
    {
     "name": "stderr",
     "output_type": "stream",
     "text": [
      " 22%|██▏       | 263/1175 [42:26<1:48:39,  7.15s/it]"
     ]
    },
    {
     "name": "stdout",
     "output_type": "stream",
     "text": [
      "{'loss': 0.2096, 'learning_rate': 4.657021276595745e-05, 'epoch': 5.6}\n"
     ]
    },
    {
     "name": "stderr",
     "output_type": "stream",
     "text": [
      " 22%|██▏       | 264/1175 [42:33<1:48:50,  7.17s/it]"
     ]
    },
    {
     "name": "stdout",
     "output_type": "stream",
     "text": [
      "{'loss': 0.3565, 'learning_rate': 4.651914893617022e-05, 'epoch': 5.62}\n"
     ]
    },
    {
     "name": "stderr",
     "output_type": "stream",
     "text": [
      " 23%|██▎       | 265/1175 [42:40<1:48:46,  7.17s/it]"
     ]
    },
    {
     "name": "stdout",
     "output_type": "stream",
     "text": [
      "{'loss': 0.3266, 'learning_rate': 4.646808510638298e-05, 'epoch': 5.64}\n"
     ]
    },
    {
     "name": "stderr",
     "output_type": "stream",
     "text": [
      " 23%|██▎       | 266/1175 [42:47<1:48:30,  7.16s/it]"
     ]
    },
    {
     "name": "stdout",
     "output_type": "stream",
     "text": [
      "{'loss': 0.4736, 'learning_rate': 4.6417021276595746e-05, 'epoch': 5.66}\n"
     ]
    },
    {
     "name": "stderr",
     "output_type": "stream",
     "text": [
      " 23%|██▎       | 267/1175 [42:54<1:48:25,  7.16s/it]"
     ]
    },
    {
     "name": "stdout",
     "output_type": "stream",
     "text": [
      "{'loss': 0.2189, 'learning_rate': 4.6365957446808516e-05, 'epoch': 5.68}\n"
     ]
    },
    {
     "name": "stderr",
     "output_type": "stream",
     "text": [
      " 23%|██▎       | 268/1175 [43:01<1:48:17,  7.16s/it]"
     ]
    },
    {
     "name": "stdout",
     "output_type": "stream",
     "text": [
      "{'loss': 0.3073, 'learning_rate': 4.631489361702128e-05, 'epoch': 5.7}\n"
     ]
    },
    {
     "name": "stderr",
     "output_type": "stream",
     "text": [
      " 23%|██▎       | 269/1175 [43:09<1:48:13,  7.17s/it]"
     ]
    },
    {
     "name": "stdout",
     "output_type": "stream",
     "text": [
      "{'loss': 0.1952, 'learning_rate': 4.626382978723405e-05, 'epoch': 5.72}\n"
     ]
    },
    {
     "name": "stderr",
     "output_type": "stream",
     "text": [
      " 23%|██▎       | 270/1175 [43:16<1:48:11,  7.17s/it]"
     ]
    },
    {
     "name": "stdout",
     "output_type": "stream",
     "text": [
      "{'loss': 0.2956, 'learning_rate': 4.621276595744681e-05, 'epoch': 5.74}\n"
     ]
    },
    {
     "name": "stderr",
     "output_type": "stream",
     "text": [
      " 23%|██▎       | 271/1175 [43:23<1:47:56,  7.16s/it]"
     ]
    },
    {
     "name": "stdout",
     "output_type": "stream",
     "text": [
      "{'loss': 0.2194, 'learning_rate': 4.6161702127659576e-05, 'epoch': 5.77}\n"
     ]
    },
    {
     "name": "stderr",
     "output_type": "stream",
     "text": [
      " 23%|██▎       | 272/1175 [43:30<1:47:54,  7.17s/it]"
     ]
    },
    {
     "name": "stdout",
     "output_type": "stream",
     "text": [
      "{'loss': 0.2851, 'learning_rate': 4.6110638297872345e-05, 'epoch': 5.79}\n"
     ]
    },
    {
     "name": "stderr",
     "output_type": "stream",
     "text": [
      " 23%|██▎       | 273/1175 [43:37<1:47:55,  7.18s/it]"
     ]
    },
    {
     "name": "stdout",
     "output_type": "stream",
     "text": [
      "{'loss': 0.4064, 'learning_rate': 4.605957446808511e-05, 'epoch': 5.81}\n"
     ]
    },
    {
     "name": "stderr",
     "output_type": "stream",
     "text": [
      " 23%|██▎       | 274/1175 [43:45<1:47:45,  7.18s/it]"
     ]
    },
    {
     "name": "stdout",
     "output_type": "stream",
     "text": [
      "{'loss': 0.1982, 'learning_rate': 4.600851063829788e-05, 'epoch': 5.83}\n"
     ]
    },
    {
     "name": "stderr",
     "output_type": "stream",
     "text": [
      " 23%|██▎       | 275/1175 [43:52<1:47:34,  7.17s/it]"
     ]
    },
    {
     "name": "stdout",
     "output_type": "stream",
     "text": [
      "{'loss': 0.1931, 'learning_rate': 4.595744680851064e-05, 'epoch': 5.85}\n"
     ]
    },
    {
     "name": "stderr",
     "output_type": "stream",
     "text": [
      " 23%|██▎       | 276/1175 [43:59<1:47:22,  7.17s/it]"
     ]
    },
    {
     "name": "stdout",
     "output_type": "stream",
     "text": [
      "{'loss': 0.1782, 'learning_rate': 4.5906382978723405e-05, 'epoch': 5.87}\n"
     ]
    },
    {
     "name": "stderr",
     "output_type": "stream",
     "text": [
      " 24%|██▎       | 277/1175 [44:06<1:47:14,  7.17s/it]"
     ]
    },
    {
     "name": "stdout",
     "output_type": "stream",
     "text": [
      "{'loss': 0.1881, 'learning_rate': 4.5855319148936175e-05, 'epoch': 5.89}\n"
     ]
    },
    {
     "name": "stderr",
     "output_type": "stream",
     "text": [
      " 24%|██▎       | 278/1175 [44:13<1:46:57,  7.15s/it]"
     ]
    },
    {
     "name": "stdout",
     "output_type": "stream",
     "text": [
      "{'loss': 0.1764, 'learning_rate': 4.580425531914894e-05, 'epoch': 5.91}\n"
     ]
    },
    {
     "name": "stderr",
     "output_type": "stream",
     "text": [
      " 24%|██▎       | 279/1175 [44:20<1:47:09,  7.18s/it]"
     ]
    },
    {
     "name": "stdout",
     "output_type": "stream",
     "text": [
      "{'loss': 0.1919, 'learning_rate': 4.575319148936171e-05, 'epoch': 5.94}\n"
     ]
    },
    {
     "name": "stderr",
     "output_type": "stream",
     "text": [
      " 24%|██▍       | 280/1175 [44:28<1:47:14,  7.19s/it]"
     ]
    },
    {
     "name": "stdout",
     "output_type": "stream",
     "text": [
      "{'loss': 0.1883, 'learning_rate': 4.570212765957447e-05, 'epoch': 5.96}\n"
     ]
    },
    {
     "name": "stderr",
     "output_type": "stream",
     "text": [
      " 24%|██▍       | 281/1175 [44:34<1:45:29,  7.08s/it]"
     ]
    },
    {
     "name": "stdout",
     "output_type": "stream",
     "text": [
      "{'loss': 0.1806, 'learning_rate': 4.565106382978724e-05, 'epoch': 5.98}\n"
     ]
    },
    {
     "name": "stderr",
     "output_type": "stream",
     "text": [
      " 24%|██▍       | 282/1175 [44:38<1:31:10,  6.13s/it]"
     ]
    },
    {
     "name": "stdout",
     "output_type": "stream",
     "text": [
      "{'loss': 0.1788, 'learning_rate': 4.5600000000000004e-05, 'epoch': 6.0}\n"
     ]
    },
    {
     "name": "stderr",
     "output_type": "stream",
     "text": [
      " 24%|██▍       | 283/1175 [44:47<1:41:41,  6.84s/it]"
     ]
    },
    {
     "name": "stdout",
     "output_type": "stream",
     "text": [
      "{'loss': 0.19, 'learning_rate': 4.554893617021277e-05, 'epoch': 6.02}\n"
     ]
    },
    {
     "name": "stderr",
     "output_type": "stream",
     "text": [
      " 24%|██▍       | 284/1175 [44:54<1:42:31,  6.90s/it]"
     ]
    },
    {
     "name": "stdout",
     "output_type": "stream",
     "text": [
      "{'loss': 0.1588, 'learning_rate': 4.549787234042554e-05, 'epoch': 6.04}\n"
     ]
    },
    {
     "name": "stderr",
     "output_type": "stream",
     "text": [
      " 24%|██▍       | 285/1175 [45:01<1:43:38,  6.99s/it]"
     ]
    },
    {
     "name": "stdout",
     "output_type": "stream",
     "text": [
      "{'loss': 0.2272, 'learning_rate': 4.54468085106383e-05, 'epoch': 6.06}\n"
     ]
    },
    {
     "name": "stderr",
     "output_type": "stream",
     "text": [
      " 24%|██▍       | 286/1175 [45:08<1:44:17,  7.04s/it]"
     ]
    },
    {
     "name": "stdout",
     "output_type": "stream",
     "text": [
      "{'loss': 0.1724, 'learning_rate': 4.539574468085107e-05, 'epoch': 6.09}\n"
     ]
    },
    {
     "name": "stderr",
     "output_type": "stream",
     "text": [
      " 24%|██▍       | 287/1175 [45:15<1:44:32,  7.06s/it]"
     ]
    },
    {
     "name": "stdout",
     "output_type": "stream",
     "text": [
      "{'loss': 0.1714, 'learning_rate': 4.534468085106383e-05, 'epoch': 6.11}\n"
     ]
    },
    {
     "name": "stderr",
     "output_type": "stream",
     "text": [
      " 25%|██▍       | 288/1175 [45:23<1:45:25,  7.13s/it]"
     ]
    },
    {
     "name": "stdout",
     "output_type": "stream",
     "text": [
      "{'loss': 0.2594, 'learning_rate': 4.5293617021276596e-05, 'epoch': 6.13}\n"
     ]
    },
    {
     "name": "stderr",
     "output_type": "stream",
     "text": [
      " 25%|██▍       | 289/1175 [45:30<1:45:24,  7.14s/it]"
     ]
    },
    {
     "name": "stdout",
     "output_type": "stream",
     "text": [
      "{'loss': 0.22, 'learning_rate': 4.5242553191489366e-05, 'epoch': 6.15}\n"
     ]
    },
    {
     "name": "stderr",
     "output_type": "stream",
     "text": [
      " 25%|██▍       | 290/1175 [45:37<1:45:30,  7.15s/it]"
     ]
    },
    {
     "name": "stdout",
     "output_type": "stream",
     "text": [
      "{'loss': 0.3765, 'learning_rate': 4.519148936170213e-05, 'epoch': 6.17}\n"
     ]
    },
    {
     "name": "stderr",
     "output_type": "stream",
     "text": [
      " 25%|██▍       | 291/1175 [45:44<1:45:39,  7.17s/it]"
     ]
    },
    {
     "name": "stdout",
     "output_type": "stream",
     "text": [
      "{'loss': 0.1624, 'learning_rate': 4.51404255319149e-05, 'epoch': 6.19}\n"
     ]
    },
    {
     "name": "stderr",
     "output_type": "stream",
     "text": [
      " 25%|██▍       | 292/1175 [45:51<1:45:27,  7.17s/it]"
     ]
    },
    {
     "name": "stdout",
     "output_type": "stream",
     "text": [
      "{'loss': 0.1564, 'learning_rate': 4.508936170212766e-05, 'epoch': 6.21}\n"
     ]
    },
    {
     "name": "stderr",
     "output_type": "stream",
     "text": [
      " 25%|██▍       | 293/1175 [45:59<1:45:15,  7.16s/it]"
     ]
    },
    {
     "name": "stdout",
     "output_type": "stream",
     "text": [
      "{'loss': 0.1629, 'learning_rate': 4.5038297872340425e-05, 'epoch': 6.23}\n"
     ]
    },
    {
     "name": "stderr",
     "output_type": "stream",
     "text": [
      " 25%|██▌       | 294/1175 [46:06<1:45:20,  7.17s/it]"
     ]
    },
    {
     "name": "stdout",
     "output_type": "stream",
     "text": [
      "{'loss': 0.2051, 'learning_rate': 4.4987234042553195e-05, 'epoch': 6.26}\n"
     ]
    },
    {
     "name": "stderr",
     "output_type": "stream",
     "text": [
      " 25%|██▌       | 295/1175 [46:13<1:45:10,  7.17s/it]"
     ]
    },
    {
     "name": "stdout",
     "output_type": "stream",
     "text": [
      "{'loss': 0.1579, 'learning_rate': 4.493617021276596e-05, 'epoch': 6.28}\n"
     ]
    },
    {
     "name": "stderr",
     "output_type": "stream",
     "text": [
      " 25%|██▌       | 296/1175 [46:20<1:44:57,  7.16s/it]"
     ]
    },
    {
     "name": "stdout",
     "output_type": "stream",
     "text": [
      "{'loss': 0.2619, 'learning_rate': 4.488510638297873e-05, 'epoch': 6.3}\n"
     ]
    },
    {
     "name": "stderr",
     "output_type": "stream",
     "text": [
      " 25%|██▌       | 297/1175 [46:27<1:44:47,  7.16s/it]"
     ]
    },
    {
     "name": "stdout",
     "output_type": "stream",
     "text": [
      "{'loss': 0.1494, 'learning_rate': 4.483404255319149e-05, 'epoch': 6.32}\n"
     ]
    },
    {
     "name": "stderr",
     "output_type": "stream",
     "text": [
      " 25%|██▌       | 298/1175 [46:34<1:44:44,  7.17s/it]"
     ]
    },
    {
     "name": "stdout",
     "output_type": "stream",
     "text": [
      "{'loss': 0.1618, 'learning_rate': 4.4782978723404255e-05, 'epoch': 6.34}\n"
     ]
    },
    {
     "name": "stderr",
     "output_type": "stream",
     "text": [
      " 25%|██▌       | 299/1175 [46:41<1:44:28,  7.16s/it]"
     ]
    },
    {
     "name": "stdout",
     "output_type": "stream",
     "text": [
      "{'loss': 0.1392, 'learning_rate': 4.4731914893617025e-05, 'epoch': 6.36}\n"
     ]
    },
    {
     "name": "stderr",
     "output_type": "stream",
     "text": [
      " 26%|██▌       | 300/1175 [46:49<1:44:15,  7.15s/it]"
     ]
    },
    {
     "name": "stdout",
     "output_type": "stream",
     "text": [
      "{'loss': 0.1569, 'learning_rate': 4.468085106382979e-05, 'epoch': 6.38}\n"
     ]
    },
    {
     "name": "stderr",
     "output_type": "stream",
     "text": [
      "                                                    \n",
      " 26%|██▌       | 300/1175 [52:24<1:44:15,  7.15s/it]"
     ]
    },
    {
     "name": "stdout",
     "output_type": "stream",
     "text": [
      "{'eval_loss': 0.11655360460281372, 'eval_mean_iou': 0.5169817946766637, 'eval_mean_accuracy': 0.5479563606080028, 'eval_overall_accuracy': 0.9899069029709389, 'eval_per_category_iou': [0.0, 0.9906732618292177, 0.5747538190122354, 0.5025000978652019], 'eval_per_category_accuracy': [0.0, 0.998478295849777, 0.6269992916745849, 0.5663478549076494], 'eval_runtime': 335.2017, 'eval_samples_per_second': 0.692, 'eval_steps_per_second': 0.072, 'epoch': 6.38}\n"
     ]
    },
    {
     "name": "stderr",
     "output_type": "stream",
     "text": [
      " 26%|██▌       | 301/1175 [52:32<26:11:21, 107.87s/it]"
     ]
    },
    {
     "name": "stdout",
     "output_type": "stream",
     "text": [
      "{'loss': 0.2692, 'learning_rate': 4.462978723404256e-05, 'epoch': 6.4}\n"
     ]
    },
    {
     "name": "stderr",
     "output_type": "stream",
     "text": [
      " 26%|██▌       | 302/1175 [52:39<18:49:37, 77.64s/it] "
     ]
    },
    {
     "name": "stdout",
     "output_type": "stream",
     "text": [
      "{'loss': 0.2607, 'learning_rate': 4.457872340425532e-05, 'epoch': 6.43}\n"
     ]
    },
    {
     "name": "stderr",
     "output_type": "stream",
     "text": [
      " 26%|██▌       | 303/1175 [52:46<13:41:06, 56.50s/it]"
     ]
    },
    {
     "name": "stdout",
     "output_type": "stream",
     "text": [
      "{'loss': 0.1547, 'learning_rate': 4.452765957446809e-05, 'epoch': 6.45}\n"
     ]
    },
    {
     "name": "stderr",
     "output_type": "stream",
     "text": [
      " 26%|██▌       | 304/1175 [52:53<10:05:28, 41.71s/it]"
     ]
    },
    {
     "name": "stdout",
     "output_type": "stream",
     "text": [
      "{'loss': 0.258, 'learning_rate': 4.4476595744680854e-05, 'epoch': 6.47}\n"
     ]
    },
    {
     "name": "stderr",
     "output_type": "stream",
     "text": [
      " 26%|██▌       | 305/1175 [53:00<7:34:29, 31.34s/it] "
     ]
    },
    {
     "name": "stdout",
     "output_type": "stream",
     "text": [
      "{'loss': 0.2534, 'learning_rate': 4.442553191489362e-05, 'epoch': 6.49}\n"
     ]
    },
    {
     "name": "stderr",
     "output_type": "stream",
     "text": [
      " 26%|██▌       | 306/1175 [53:07<5:48:53, 24.09s/it]"
     ]
    },
    {
     "name": "stdout",
     "output_type": "stream",
     "text": [
      "{'loss': 0.1459, 'learning_rate': 4.437446808510639e-05, 'epoch': 6.51}\n"
     ]
    },
    {
     "name": "stderr",
     "output_type": "stream",
     "text": [
      " 26%|██▌       | 307/1175 [53:15<4:35:16, 19.03s/it]"
     ]
    },
    {
     "name": "stdout",
     "output_type": "stream",
     "text": [
      "{'loss': 0.1591, 'learning_rate': 4.432340425531915e-05, 'epoch': 6.53}\n"
     ]
    },
    {
     "name": "stderr",
     "output_type": "stream",
     "text": [
      " 26%|██▌       | 308/1175 [53:22<3:43:23, 15.46s/it]"
     ]
    },
    {
     "name": "stdout",
     "output_type": "stream",
     "text": [
      "{'loss': 0.3186, 'learning_rate': 4.427234042553192e-05, 'epoch': 6.55}\n"
     ]
    },
    {
     "name": "stderr",
     "output_type": "stream",
     "text": [
      " 26%|██▋       | 309/1175 [53:29<3:07:10, 12.97s/it]"
     ]
    },
    {
     "name": "stdout",
     "output_type": "stream",
     "text": [
      "{'loss': 0.166, 'learning_rate': 4.422127659574468e-05, 'epoch': 6.57}\n"
     ]
    },
    {
     "name": "stderr",
     "output_type": "stream",
     "text": [
      " 26%|██▋       | 310/1175 [53:36<2:42:00, 11.24s/it]"
     ]
    },
    {
     "name": "stdout",
     "output_type": "stream",
     "text": [
      "{'loss': 0.1846, 'learning_rate': 4.4170212765957446e-05, 'epoch': 6.6}\n"
     ]
    },
    {
     "name": "stderr",
     "output_type": "stream",
     "text": [
      " 26%|██▋       | 311/1175 [53:43<2:24:05, 10.01s/it]"
     ]
    },
    {
     "name": "stdout",
     "output_type": "stream",
     "text": [
      "{'loss': 0.2123, 'learning_rate': 4.4119148936170216e-05, 'epoch': 6.62}\n"
     ]
    },
    {
     "name": "stderr",
     "output_type": "stream",
     "text": [
      " 27%|██▋       | 312/1175 [53:50<2:11:36,  9.15s/it]"
     ]
    },
    {
     "name": "stdout",
     "output_type": "stream",
     "text": [
      "{'loss': 0.1902, 'learning_rate': 4.406808510638298e-05, 'epoch': 6.64}\n"
     ]
    },
    {
     "name": "stderr",
     "output_type": "stream",
     "text": [
      " 27%|██▋       | 313/1175 [53:57<2:02:52,  8.55s/it]"
     ]
    },
    {
     "name": "stdout",
     "output_type": "stream",
     "text": [
      "{'loss': 0.1713, 'learning_rate': 4.401702127659575e-05, 'epoch': 6.66}\n"
     ]
    },
    {
     "name": "stderr",
     "output_type": "stream",
     "text": [
      " 27%|██▋       | 314/1175 [54:05<1:56:58,  8.15s/it]"
     ]
    },
    {
     "name": "stdout",
     "output_type": "stream",
     "text": [
      "{'loss': 0.224, 'learning_rate': 4.396595744680851e-05, 'epoch': 6.68}\n"
     ]
    },
    {
     "name": "stderr",
     "output_type": "stream",
     "text": [
      " 27%|██▋       | 315/1175 [54:12<1:52:23,  7.84s/it]"
     ]
    },
    {
     "name": "stdout",
     "output_type": "stream",
     "text": [
      "{'loss': 0.2016, 'learning_rate': 4.3914893617021275e-05, 'epoch': 6.7}\n"
     ]
    },
    {
     "name": "stderr",
     "output_type": "stream",
     "text": [
      " 27%|██▋       | 316/1175 [54:19<1:49:34,  7.65s/it]"
     ]
    },
    {
     "name": "stdout",
     "output_type": "stream",
     "text": [
      "{'loss': 0.1479, 'learning_rate': 4.3863829787234045e-05, 'epoch': 6.72}\n"
     ]
    },
    {
     "name": "stderr",
     "output_type": "stream",
     "text": [
      " 27%|██▋       | 317/1175 [54:26<1:47:14,  7.50s/it]"
     ]
    },
    {
     "name": "stdout",
     "output_type": "stream",
     "text": [
      "{'loss': 0.1431, 'learning_rate': 4.381276595744681e-05, 'epoch': 6.74}\n"
     ]
    },
    {
     "name": "stderr",
     "output_type": "stream",
     "text": [
      " 27%|██▋       | 318/1175 [54:33<1:45:34,  7.39s/it]"
     ]
    },
    {
     "name": "stdout",
     "output_type": "stream",
     "text": [
      "{'loss': 0.1499, 'learning_rate': 4.376170212765958e-05, 'epoch': 6.77}\n"
     ]
    },
    {
     "name": "stderr",
     "output_type": "stream",
     "text": [
      " 27%|██▋       | 319/1175 [54:40<1:44:41,  7.34s/it]"
     ]
    },
    {
     "name": "stdout",
     "output_type": "stream",
     "text": [
      "{'loss': 0.1499, 'learning_rate': 4.371063829787234e-05, 'epoch': 6.79}\n"
     ]
    },
    {
     "name": "stderr",
     "output_type": "stream",
     "text": [
      " 27%|██▋       | 320/1175 [54:48<1:43:39,  7.27s/it]"
     ]
    },
    {
     "name": "stdout",
     "output_type": "stream",
     "text": [
      "{'loss': 0.2642, 'learning_rate': 4.365957446808511e-05, 'epoch': 6.81}\n"
     ]
    },
    {
     "name": "stderr",
     "output_type": "stream",
     "text": [
      " 27%|██▋       | 321/1175 [54:55<1:43:01,  7.24s/it]"
     ]
    },
    {
     "name": "stdout",
     "output_type": "stream",
     "text": [
      "{'loss': 0.3326, 'learning_rate': 4.3608510638297874e-05, 'epoch': 6.83}\n"
     ]
    },
    {
     "name": "stderr",
     "output_type": "stream",
     "text": [
      " 27%|██▋       | 322/1175 [55:02<1:42:40,  7.22s/it]"
     ]
    },
    {
     "name": "stdout",
     "output_type": "stream",
     "text": [
      "{'loss': 0.2586, 'learning_rate': 4.355744680851064e-05, 'epoch': 6.85}\n"
     ]
    },
    {
     "name": "stderr",
     "output_type": "stream",
     "text": [
      " 27%|██▋       | 323/1175 [55:09<1:42:11,  7.20s/it]"
     ]
    },
    {
     "name": "stdout",
     "output_type": "stream",
     "text": [
      "{'loss': 0.1434, 'learning_rate': 4.350638297872341e-05, 'epoch': 6.87}\n"
     ]
    },
    {
     "name": "stderr",
     "output_type": "stream",
     "text": [
      " 28%|██▊       | 324/1175 [55:16<1:42:04,  7.20s/it]"
     ]
    },
    {
     "name": "stdout",
     "output_type": "stream",
     "text": [
      "{'loss': 0.2445, 'learning_rate': 4.345531914893617e-05, 'epoch': 6.89}\n"
     ]
    },
    {
     "name": "stderr",
     "output_type": "stream",
     "text": [
      " 28%|██▊       | 325/1175 [55:23<1:41:56,  7.20s/it]"
     ]
    },
    {
     "name": "stdout",
     "output_type": "stream",
     "text": [
      "{'loss': 0.1613, 'learning_rate': 4.340425531914894e-05, 'epoch': 6.91}\n"
     ]
    },
    {
     "name": "stderr",
     "output_type": "stream",
     "text": [
      " 28%|██▊       | 326/1175 [55:31<1:41:41,  7.19s/it]"
     ]
    },
    {
     "name": "stdout",
     "output_type": "stream",
     "text": [
      "{'loss': 0.1243, 'learning_rate': 4.3353191489361704e-05, 'epoch': 6.94}\n"
     ]
    },
    {
     "name": "stderr",
     "output_type": "stream",
     "text": [
      " 28%|██▊       | 327/1175 [55:38<1:41:29,  7.18s/it]"
     ]
    },
    {
     "name": "stdout",
     "output_type": "stream",
     "text": [
      "{'loss': 0.1363, 'learning_rate': 4.330212765957447e-05, 'epoch': 6.96}\n"
     ]
    },
    {
     "name": "stderr",
     "output_type": "stream",
     "text": [
      " 28%|██▊       | 328/1175 [55:45<1:40:07,  7.09s/it]"
     ]
    },
    {
     "name": "stdout",
     "output_type": "stream",
     "text": [
      "{'loss': 0.1542, 'learning_rate': 4.3251063829787237e-05, 'epoch': 6.98}\n"
     ]
    },
    {
     "name": "stderr",
     "output_type": "stream",
     "text": [
      " 28%|██▊       | 329/1175 [55:49<1:26:18,  6.12s/it]"
     ]
    },
    {
     "name": "stdout",
     "output_type": "stream",
     "text": [
      "{'loss': 0.2077, 'learning_rate': 4.32e-05, 'epoch': 7.0}\n"
     ]
    },
    {
     "name": "stderr",
     "output_type": "stream",
     "text": [
      " 28%|██▊       | 330/1175 [55:57<1:35:15,  6.76s/it]"
     ]
    },
    {
     "name": "stdout",
     "output_type": "stream",
     "text": [
      "{'loss': 0.1337, 'learning_rate': 4.314893617021277e-05, 'epoch': 7.02}\n"
     ]
    },
    {
     "name": "stderr",
     "output_type": "stream",
     "text": [
      " 28%|██▊       | 331/1175 [56:04<1:36:49,  6.88s/it]"
     ]
    },
    {
     "name": "stdout",
     "output_type": "stream",
     "text": [
      "{'loss': 0.1309, 'learning_rate': 4.309787234042553e-05, 'epoch': 7.04}\n"
     ]
    },
    {
     "name": "stderr",
     "output_type": "stream",
     "text": [
      " 28%|██▊       | 332/1175 [56:11<1:37:51,  6.96s/it]"
     ]
    },
    {
     "name": "stdout",
     "output_type": "stream",
     "text": [
      "{'loss': 0.2611, 'learning_rate': 4.3046808510638296e-05, 'epoch': 7.06}\n"
     ]
    },
    {
     "name": "stderr",
     "output_type": "stream",
     "text": [
      " 28%|██▊       | 333/1175 [56:18<1:38:18,  7.01s/it]"
     ]
    },
    {
     "name": "stdout",
     "output_type": "stream",
     "text": [
      "{'loss': 0.1279, 'learning_rate': 4.2995744680851066e-05, 'epoch': 7.09}\n"
     ]
    },
    {
     "name": "stderr",
     "output_type": "stream",
     "text": [
      " 28%|██▊       | 334/1175 [56:25<1:39:05,  7.07s/it]"
     ]
    },
    {
     "name": "stdout",
     "output_type": "stream",
     "text": [
      "{'loss': 0.1194, 'learning_rate': 4.294468085106383e-05, 'epoch': 7.11}\n"
     ]
    },
    {
     "name": "stderr",
     "output_type": "stream",
     "text": [
      " 29%|██▊       | 335/1175 [56:33<1:39:15,  7.09s/it]"
     ]
    },
    {
     "name": "stdout",
     "output_type": "stream",
     "text": [
      "{'loss': 0.3597, 'learning_rate': 4.28936170212766e-05, 'epoch': 7.13}\n"
     ]
    },
    {
     "name": "stderr",
     "output_type": "stream",
     "text": [
      " 29%|██▊       | 336/1175 [56:40<1:39:35,  7.12s/it]"
     ]
    },
    {
     "name": "stdout",
     "output_type": "stream",
     "text": [
      "{'loss': 0.1273, 'learning_rate': 4.284255319148936e-05, 'epoch': 7.15}\n"
     ]
    },
    {
     "name": "stderr",
     "output_type": "stream",
     "text": [
      " 29%|██▊       | 337/1175 [56:47<1:39:34,  7.13s/it]"
     ]
    },
    {
     "name": "stdout",
     "output_type": "stream",
     "text": [
      "{'loss': 0.1405, 'learning_rate': 4.279148936170213e-05, 'epoch': 7.17}\n"
     ]
    },
    {
     "name": "stderr",
     "output_type": "stream",
     "text": [
      " 29%|██▉       | 338/1175 [56:54<1:39:52,  7.16s/it]"
     ]
    },
    {
     "name": "stdout",
     "output_type": "stream",
     "text": [
      "{'loss': 0.2075, 'learning_rate': 4.2740425531914895e-05, 'epoch': 7.19}\n"
     ]
    },
    {
     "name": "stderr",
     "output_type": "stream",
     "text": [
      " 29%|██▉       | 339/1175 [57:01<1:39:52,  7.17s/it]"
     ]
    },
    {
     "name": "stdout",
     "output_type": "stream",
     "text": [
      "{'loss': 0.2344, 'learning_rate': 4.268936170212766e-05, 'epoch': 7.21}\n"
     ]
    },
    {
     "name": "stderr",
     "output_type": "stream",
     "text": [
      " 29%|██▉       | 340/1175 [57:08<1:39:37,  7.16s/it]"
     ]
    },
    {
     "name": "stdout",
     "output_type": "stream",
     "text": [
      "{'loss': 0.122, 'learning_rate': 4.263829787234043e-05, 'epoch': 7.23}\n"
     ]
    },
    {
     "name": "stderr",
     "output_type": "stream",
     "text": [
      " 29%|██▉       | 341/1175 [57:16<1:39:28,  7.16s/it]"
     ]
    },
    {
     "name": "stdout",
     "output_type": "stream",
     "text": [
      "{'loss': 0.1998, 'learning_rate': 4.258723404255319e-05, 'epoch': 7.26}\n"
     ]
    },
    {
     "name": "stderr",
     "output_type": "stream",
     "text": [
      " 29%|██▉       | 342/1175 [57:23<1:39:17,  7.15s/it]"
     ]
    },
    {
     "name": "stdout",
     "output_type": "stream",
     "text": [
      "{'loss': 0.1552, 'learning_rate': 4.253617021276596e-05, 'epoch': 7.28}\n"
     ]
    },
    {
     "name": "stderr",
     "output_type": "stream",
     "text": [
      " 29%|██▉       | 343/1175 [57:30<1:39:11,  7.15s/it]"
     ]
    },
    {
     "name": "stdout",
     "output_type": "stream",
     "text": [
      "{'loss': 0.1249, 'learning_rate': 4.2485106382978724e-05, 'epoch': 7.3}\n"
     ]
    },
    {
     "name": "stderr",
     "output_type": "stream",
     "text": [
      " 29%|██▉       | 344/1175 [57:37<1:38:53,  7.14s/it]"
     ]
    },
    {
     "name": "stdout",
     "output_type": "stream",
     "text": [
      "{'loss': 0.3195, 'learning_rate': 4.243404255319149e-05, 'epoch': 7.32}\n"
     ]
    },
    {
     "name": "stderr",
     "output_type": "stream",
     "text": [
      " 29%|██▉       | 345/1175 [57:44<1:38:41,  7.13s/it]"
     ]
    },
    {
     "name": "stdout",
     "output_type": "stream",
     "text": [
      "{'loss': 0.2188, 'learning_rate': 4.238297872340426e-05, 'epoch': 7.34}\n"
     ]
    },
    {
     "name": "stderr",
     "output_type": "stream",
     "text": [
      " 29%|██▉       | 346/1175 [57:51<1:38:39,  7.14s/it]"
     ]
    },
    {
     "name": "stdout",
     "output_type": "stream",
     "text": [
      "{'loss': 0.4351, 'learning_rate': 4.233191489361702e-05, 'epoch': 7.36}\n"
     ]
    },
    {
     "name": "stderr",
     "output_type": "stream",
     "text": [
      " 30%|██▉       | 347/1175 [57:59<1:38:54,  7.17s/it]"
     ]
    },
    {
     "name": "stdout",
     "output_type": "stream",
     "text": [
      "{'loss': 0.1833, 'learning_rate': 4.228085106382979e-05, 'epoch': 7.38}\n"
     ]
    },
    {
     "name": "stderr",
     "output_type": "stream",
     "text": [
      " 30%|██▉       | 348/1175 [58:06<1:38:47,  7.17s/it]"
     ]
    },
    {
     "name": "stdout",
     "output_type": "stream",
     "text": [
      "{'loss': 0.3159, 'learning_rate': 4.2229787234042553e-05, 'epoch': 7.4}\n"
     ]
    },
    {
     "name": "stderr",
     "output_type": "stream",
     "text": [
      " 30%|██▉       | 349/1175 [58:13<1:38:30,  7.16s/it]"
     ]
    },
    {
     "name": "stdout",
     "output_type": "stream",
     "text": [
      "{'loss': 0.1357, 'learning_rate': 4.2178723404255317e-05, 'epoch': 7.43}\n"
     ]
    },
    {
     "name": "stderr",
     "output_type": "stream",
     "text": [
      " 30%|██▉       | 350/1175 [58:20<1:38:52,  7.19s/it]"
     ]
    },
    {
     "name": "stdout",
     "output_type": "stream",
     "text": [
      "{'loss': 0.1978, 'learning_rate': 4.2127659574468086e-05, 'epoch': 7.45}\n"
     ]
    },
    {
     "name": "stderr",
     "output_type": "stream",
     "text": [
      " 30%|██▉       | 351/1175 [58:27<1:38:31,  7.17s/it]"
     ]
    },
    {
     "name": "stdout",
     "output_type": "stream",
     "text": [
      "{'loss': 0.1383, 'learning_rate': 4.207659574468085e-05, 'epoch': 7.47}\n"
     ]
    },
    {
     "name": "stderr",
     "output_type": "stream",
     "text": [
      " 30%|██▉       | 352/1175 [58:34<1:38:17,  7.17s/it]"
     ]
    },
    {
     "name": "stdout",
     "output_type": "stream",
     "text": [
      "{'loss': 0.1459, 'learning_rate': 4.202553191489362e-05, 'epoch': 7.49}\n"
     ]
    },
    {
     "name": "stderr",
     "output_type": "stream",
     "text": [
      " 30%|███       | 353/1175 [58:42<1:38:16,  7.17s/it]"
     ]
    },
    {
     "name": "stdout",
     "output_type": "stream",
     "text": [
      "{'loss': 0.2098, 'learning_rate': 4.197446808510638e-05, 'epoch': 7.51}\n"
     ]
    },
    {
     "name": "stderr",
     "output_type": "stream",
     "text": [
      " 30%|███       | 354/1175 [58:49<1:38:07,  7.17s/it]"
     ]
    },
    {
     "name": "stdout",
     "output_type": "stream",
     "text": [
      "{'loss': 0.1428, 'learning_rate': 4.192340425531915e-05, 'epoch': 7.53}\n"
     ]
    },
    {
     "name": "stderr",
     "output_type": "stream",
     "text": [
      " 30%|███       | 355/1175 [58:56<1:37:54,  7.16s/it]"
     ]
    },
    {
     "name": "stdout",
     "output_type": "stream",
     "text": [
      "{'loss': 0.1949, 'learning_rate': 4.1872340425531916e-05, 'epoch': 7.55}\n"
     ]
    },
    {
     "name": "stderr",
     "output_type": "stream",
     "text": [
      " 30%|███       | 356/1175 [59:03<1:37:54,  7.17s/it]"
     ]
    },
    {
     "name": "stdout",
     "output_type": "stream",
     "text": [
      "{'loss': 0.5444, 'learning_rate': 4.182127659574468e-05, 'epoch': 7.57}\n"
     ]
    },
    {
     "name": "stderr",
     "output_type": "stream",
     "text": [
      " 30%|███       | 357/1175 [59:10<1:37:51,  7.18s/it]"
     ]
    },
    {
     "name": "stdout",
     "output_type": "stream",
     "text": [
      "{'loss': 0.1201, 'learning_rate': 4.177021276595745e-05, 'epoch': 7.6}\n"
     ]
    },
    {
     "name": "stderr",
     "output_type": "stream",
     "text": [
      " 30%|███       | 358/1175 [59:17<1:37:39,  7.17s/it]"
     ]
    },
    {
     "name": "stdout",
     "output_type": "stream",
     "text": [
      "{'loss': 0.2127, 'learning_rate': 4.171914893617021e-05, 'epoch': 7.62}\n"
     ]
    },
    {
     "name": "stderr",
     "output_type": "stream",
     "text": [
      " 31%|███       | 359/1175 [59:25<1:37:46,  7.19s/it]"
     ]
    },
    {
     "name": "stdout",
     "output_type": "stream",
     "text": [
      "{'loss': 0.1671, 'learning_rate': 4.166808510638298e-05, 'epoch': 7.64}\n"
     ]
    },
    {
     "name": "stderr",
     "output_type": "stream",
     "text": [
      " 31%|███       | 360/1175 [59:32<1:37:45,  7.20s/it]"
     ]
    },
    {
     "name": "stdout",
     "output_type": "stream",
     "text": [
      "{'loss': 0.142, 'learning_rate': 4.1617021276595745e-05, 'epoch': 7.66}\n"
     ]
    },
    {
     "name": "stderr",
     "output_type": "stream",
     "text": [
      " 31%|███       | 361/1175 [59:39<1:37:29,  7.19s/it]"
     ]
    },
    {
     "name": "stdout",
     "output_type": "stream",
     "text": [
      "{'loss': 0.3012, 'learning_rate': 4.156595744680851e-05, 'epoch': 7.68}\n"
     ]
    },
    {
     "name": "stderr",
     "output_type": "stream",
     "text": [
      " 31%|███       | 362/1175 [59:46<1:37:16,  7.18s/it]"
     ]
    },
    {
     "name": "stdout",
     "output_type": "stream",
     "text": [
      "{'loss': 0.0948, 'learning_rate': 4.151489361702128e-05, 'epoch': 7.7}\n"
     ]
    },
    {
     "name": "stderr",
     "output_type": "stream",
     "text": [
      " 31%|███       | 363/1175 [59:53<1:36:58,  7.17s/it]"
     ]
    },
    {
     "name": "stdout",
     "output_type": "stream",
     "text": [
      "{'loss': 0.113, 'learning_rate': 4.146382978723404e-05, 'epoch': 7.72}\n"
     ]
    },
    {
     "name": "stderr",
     "output_type": "stream",
     "text": [
      " 31%|███       | 364/1175 [1:00:01<1:36:54,  7.17s/it]"
     ]
    },
    {
     "name": "stdout",
     "output_type": "stream",
     "text": [
      "{'loss': 0.1186, 'learning_rate': 4.141276595744681e-05, 'epoch': 7.74}\n"
     ]
    },
    {
     "name": "stderr",
     "output_type": "stream",
     "text": [
      " 31%|███       | 365/1175 [1:00:08<1:36:55,  7.18s/it]"
     ]
    },
    {
     "name": "stdout",
     "output_type": "stream",
     "text": [
      "{'loss': 0.1132, 'learning_rate': 4.1361702127659574e-05, 'epoch': 7.77}\n"
     ]
    },
    {
     "name": "stderr",
     "output_type": "stream",
     "text": [
      " 31%|███       | 366/1175 [1:00:15<1:36:48,  7.18s/it]"
     ]
    },
    {
     "name": "stdout",
     "output_type": "stream",
     "text": [
      "{'loss': 0.1009, 'learning_rate': 4.131063829787234e-05, 'epoch': 7.79}\n"
     ]
    },
    {
     "name": "stderr",
     "output_type": "stream",
     "text": [
      " 31%|███       | 367/1175 [1:00:22<1:36:36,  7.17s/it]"
     ]
    },
    {
     "name": "stdout",
     "output_type": "stream",
     "text": [
      "{'loss': 0.1221, 'learning_rate': 4.125957446808511e-05, 'epoch': 7.81}\n"
     ]
    },
    {
     "name": "stderr",
     "output_type": "stream",
     "text": [
      " 31%|███▏      | 368/1175 [1:00:29<1:36:30,  7.18s/it]"
     ]
    },
    {
     "name": "stdout",
     "output_type": "stream",
     "text": [
      "{'loss': 0.2543, 'learning_rate': 4.120851063829787e-05, 'epoch': 7.83}\n"
     ]
    },
    {
     "name": "stderr",
     "output_type": "stream",
     "text": [
      " 31%|███▏      | 369/1175 [1:00:36<1:36:11,  7.16s/it]"
     ]
    },
    {
     "name": "stdout",
     "output_type": "stream",
     "text": [
      "{'loss': 0.1204, 'learning_rate': 4.115744680851064e-05, 'epoch': 7.85}\n"
     ]
    },
    {
     "name": "stderr",
     "output_type": "stream",
     "text": [
      " 31%|███▏      | 370/1175 [1:00:43<1:35:55,  7.15s/it]"
     ]
    },
    {
     "name": "stdout",
     "output_type": "stream",
     "text": [
      "{'loss': 0.1161, 'learning_rate': 4.11063829787234e-05, 'epoch': 7.87}\n"
     ]
    },
    {
     "name": "stderr",
     "output_type": "stream",
     "text": [
      " 32%|███▏      | 371/1175 [1:00:51<1:36:14,  7.18s/it]"
     ]
    },
    {
     "name": "stdout",
     "output_type": "stream",
     "text": [
      "{'loss': 0.2913, 'learning_rate': 4.105531914893617e-05, 'epoch': 7.89}\n"
     ]
    },
    {
     "name": "stderr",
     "output_type": "stream",
     "text": [
      " 32%|███▏      | 372/1175 [1:00:58<1:36:08,  7.18s/it]"
     ]
    },
    {
     "name": "stdout",
     "output_type": "stream",
     "text": [
      "{'loss': 0.1411, 'learning_rate': 4.1004255319148936e-05, 'epoch': 7.91}\n"
     ]
    },
    {
     "name": "stderr",
     "output_type": "stream",
     "text": [
      " 32%|███▏      | 373/1175 [1:01:05<1:36:01,  7.18s/it]"
     ]
    },
    {
     "name": "stdout",
     "output_type": "stream",
     "text": [
      "{'loss': 0.2823, 'learning_rate': 4.09531914893617e-05, 'epoch': 7.94}\n"
     ]
    },
    {
     "name": "stderr",
     "output_type": "stream",
     "text": [
      " 32%|███▏      | 374/1175 [1:01:12<1:35:42,  7.17s/it]"
     ]
    },
    {
     "name": "stdout",
     "output_type": "stream",
     "text": [
      "{'loss': 0.1982, 'learning_rate': 4.090212765957447e-05, 'epoch': 7.96}\n"
     ]
    },
    {
     "name": "stderr",
     "output_type": "stream",
     "text": [
      " 32%|███▏      | 375/1175 [1:01:19<1:33:58,  7.05s/it]"
     ]
    },
    {
     "name": "stdout",
     "output_type": "stream",
     "text": [
      "{'loss': 0.1202, 'learning_rate': 4.085106382978723e-05, 'epoch': 7.98}\n"
     ]
    },
    {
     "name": "stderr",
     "output_type": "stream",
     "text": [
      " 32%|███▏      | 376/1175 [1:01:23<1:21:05,  6.09s/it]"
     ]
    },
    {
     "name": "stdout",
     "output_type": "stream",
     "text": [
      "{'loss': 0.102, 'learning_rate': 4.08e-05, 'epoch': 8.0}\n"
     ]
    },
    {
     "name": "stderr",
     "output_type": "stream",
     "text": [
      " 32%|███▏      | 377/1175 [1:01:31<1:30:55,  6.84s/it]"
     ]
    },
    {
     "name": "stdout",
     "output_type": "stream",
     "text": [
      "{'loss': 0.1353, 'learning_rate': 4.0748936170212766e-05, 'epoch': 8.02}\n"
     ]
    },
    {
     "name": "stderr",
     "output_type": "stream",
     "text": [
      " 32%|███▏      | 378/1175 [1:01:39<1:31:49,  6.91s/it]"
     ]
    },
    {
     "name": "stdout",
     "output_type": "stream",
     "text": [
      "{'loss': 0.1072, 'learning_rate': 4.069787234042553e-05, 'epoch': 8.04}\n"
     ]
    },
    {
     "name": "stderr",
     "output_type": "stream",
     "text": [
      " 32%|███▏      | 379/1175 [1:01:46<1:32:44,  6.99s/it]"
     ]
    },
    {
     "name": "stdout",
     "output_type": "stream",
     "text": [
      "{'loss': 0.328, 'learning_rate': 4.06468085106383e-05, 'epoch': 8.06}\n"
     ]
    },
    {
     "name": "stderr",
     "output_type": "stream",
     "text": [
      " 32%|███▏      | 380/1175 [1:01:53<1:33:17,  7.04s/it]"
     ]
    },
    {
     "name": "stdout",
     "output_type": "stream",
     "text": [
      "{'loss': 0.1048, 'learning_rate': 4.059574468085106e-05, 'epoch': 8.09}\n"
     ]
    },
    {
     "name": "stderr",
     "output_type": "stream",
     "text": [
      " 32%|███▏      | 381/1175 [1:02:00<1:34:12,  7.12s/it]"
     ]
    },
    {
     "name": "stdout",
     "output_type": "stream",
     "text": [
      "{'loss': 0.124, 'learning_rate': 4.054468085106383e-05, 'epoch': 8.11}\n"
     ]
    },
    {
     "name": "stderr",
     "output_type": "stream",
     "text": [
      " 33%|███▎      | 382/1175 [1:02:07<1:34:07,  7.12s/it]"
     ]
    },
    {
     "name": "stdout",
     "output_type": "stream",
     "text": [
      "{'loss': 0.1704, 'learning_rate': 4.0493617021276595e-05, 'epoch': 8.13}\n"
     ]
    },
    {
     "name": "stderr",
     "output_type": "stream",
     "text": [
      " 33%|███▎      | 383/1175 [1:02:14<1:34:10,  7.13s/it]"
     ]
    },
    {
     "name": "stdout",
     "output_type": "stream",
     "text": [
      "{'loss': 0.1247, 'learning_rate': 4.044255319148936e-05, 'epoch': 8.15}\n"
     ]
    },
    {
     "name": "stderr",
     "output_type": "stream",
     "text": [
      " 33%|███▎      | 384/1175 [1:02:22<1:34:14,  7.15s/it]"
     ]
    },
    {
     "name": "stdout",
     "output_type": "stream",
     "text": [
      "{'loss': 0.1066, 'learning_rate': 4.039148936170213e-05, 'epoch': 8.17}\n"
     ]
    },
    {
     "name": "stderr",
     "output_type": "stream",
     "text": [
      " 33%|███▎      | 385/1175 [1:02:29<1:34:05,  7.15s/it]"
     ]
    },
    {
     "name": "stdout",
     "output_type": "stream",
     "text": [
      "{'loss': 0.1612, 'learning_rate': 4.034042553191489e-05, 'epoch': 8.19}\n"
     ]
    },
    {
     "name": "stderr",
     "output_type": "stream",
     "text": [
      " 33%|███▎      | 386/1175 [1:02:36<1:34:03,  7.15s/it]"
     ]
    },
    {
     "name": "stdout",
     "output_type": "stream",
     "text": [
      "{'loss': 0.0956, 'learning_rate': 4.028936170212766e-05, 'epoch': 8.21}\n"
     ]
    },
    {
     "name": "stderr",
     "output_type": "stream",
     "text": [
      " 33%|███▎      | 387/1175 [1:02:43<1:34:09,  7.17s/it]"
     ]
    },
    {
     "name": "stdout",
     "output_type": "stream",
     "text": [
      "{'loss': 0.1168, 'learning_rate': 4.0238297872340424e-05, 'epoch': 8.23}\n"
     ]
    },
    {
     "name": "stderr",
     "output_type": "stream",
     "text": [
      " 33%|███▎      | 388/1175 [1:02:50<1:34:03,  7.17s/it]"
     ]
    },
    {
     "name": "stdout",
     "output_type": "stream",
     "text": [
      "{'loss': 0.1117, 'learning_rate': 4.018723404255319e-05, 'epoch': 8.26}\n"
     ]
    },
    {
     "name": "stderr",
     "output_type": "stream",
     "text": [
      " 33%|███▎      | 389/1175 [1:02:57<1:33:43,  7.16s/it]"
     ]
    },
    {
     "name": "stdout",
     "output_type": "stream",
     "text": [
      "{'loss': 0.1653, 'learning_rate': 4.013617021276596e-05, 'epoch': 8.28}\n"
     ]
    },
    {
     "name": "stderr",
     "output_type": "stream",
     "text": [
      " 33%|███▎      | 390/1175 [1:03:05<1:34:03,  7.19s/it]"
     ]
    },
    {
     "name": "stdout",
     "output_type": "stream",
     "text": [
      "{'loss': 0.1033, 'learning_rate': 4.008510638297872e-05, 'epoch': 8.3}\n"
     ]
    },
    {
     "name": "stderr",
     "output_type": "stream",
     "text": [
      " 33%|███▎      | 391/1175 [1:03:12<1:33:54,  7.19s/it]"
     ]
    },
    {
     "name": "stdout",
     "output_type": "stream",
     "text": [
      "{'loss': 0.0978, 'learning_rate': 4.003404255319149e-05, 'epoch': 8.32}\n"
     ]
    },
    {
     "name": "stderr",
     "output_type": "stream",
     "text": [
      " 33%|███▎      | 392/1175 [1:03:19<1:33:41,  7.18s/it]"
     ]
    },
    {
     "name": "stdout",
     "output_type": "stream",
     "text": [
      "{'loss': 0.0936, 'learning_rate': 3.998297872340425e-05, 'epoch': 8.34}\n"
     ]
    },
    {
     "name": "stderr",
     "output_type": "stream",
     "text": [
      " 33%|███▎      | 393/1175 [1:03:26<1:33:41,  7.19s/it]"
     ]
    },
    {
     "name": "stdout",
     "output_type": "stream",
     "text": [
      "{'loss': 0.0904, 'learning_rate': 3.993191489361702e-05, 'epoch': 8.36}\n"
     ]
    },
    {
     "name": "stderr",
     "output_type": "stream",
     "text": [
      " 34%|███▎      | 394/1175 [1:03:33<1:33:26,  7.18s/it]"
     ]
    },
    {
     "name": "stdout",
     "output_type": "stream",
     "text": [
      "{'loss': 0.1313, 'learning_rate': 3.9880851063829786e-05, 'epoch': 8.38}\n"
     ]
    },
    {
     "name": "stderr",
     "output_type": "stream",
     "text": [
      " 34%|███▎      | 395/1175 [1:03:41<1:33:15,  7.17s/it]"
     ]
    },
    {
     "name": "stdout",
     "output_type": "stream",
     "text": [
      "{'loss': 0.1279, 'learning_rate': 3.982978723404255e-05, 'epoch': 8.4}\n"
     ]
    },
    {
     "name": "stderr",
     "output_type": "stream",
     "text": [
      " 34%|███▎      | 396/1175 [1:03:48<1:33:08,  7.17s/it]"
     ]
    },
    {
     "name": "stdout",
     "output_type": "stream",
     "text": [
      "{'loss': 0.1198, 'learning_rate': 3.977872340425532e-05, 'epoch': 8.43}\n"
     ]
    },
    {
     "name": "stderr",
     "output_type": "stream",
     "text": [
      " 34%|███▍      | 397/1175 [1:03:55<1:32:57,  7.17s/it]"
     ]
    },
    {
     "name": "stdout",
     "output_type": "stream",
     "text": [
      "{'loss': 0.2028, 'learning_rate': 3.972765957446808e-05, 'epoch': 8.45}\n"
     ]
    },
    {
     "name": "stderr",
     "output_type": "stream",
     "text": [
      " 34%|███▍      | 398/1175 [1:04:02<1:32:41,  7.16s/it]"
     ]
    },
    {
     "name": "stdout",
     "output_type": "stream",
     "text": [
      "{'loss': 0.1145, 'learning_rate': 3.967659574468085e-05, 'epoch': 8.47}\n"
     ]
    },
    {
     "name": "stderr",
     "output_type": "stream",
     "text": [
      " 34%|███▍      | 399/1175 [1:04:09<1:32:43,  7.17s/it]"
     ]
    },
    {
     "name": "stdout",
     "output_type": "stream",
     "text": [
      "{'loss': 0.1199, 'learning_rate': 3.9625531914893615e-05, 'epoch': 8.49}\n"
     ]
    },
    {
     "name": "stderr",
     "output_type": "stream",
     "text": [
      " 34%|███▍      | 400/1175 [1:04:16<1:32:27,  7.16s/it]"
     ]
    },
    {
     "name": "stdout",
     "output_type": "stream",
     "text": [
      "{'loss': 0.1181, 'learning_rate': 3.957446808510638e-05, 'epoch': 8.51}\n"
     ]
    },
    {
     "name": "stderr",
     "output_type": "stream",
     "text": [
      "                                                      \n",
      " 34%|███▍      | 400/1175 [1:09:49<1:32:27,  7.16s/it]"
     ]
    },
    {
     "name": "stdout",
     "output_type": "stream",
     "text": [
      "{'eval_loss': 0.07996635138988495, 'eval_mean_iou': 0.6082968956802232, 'eval_mean_accuracy': 0.6752226258957891, 'eval_overall_accuracy': 0.9930261907906368, 'eval_per_category_iou': [0.0, 0.9934406778878196, 0.7592991344732953, 0.6804477703597779], 'eval_per_category_accuracy': [0.0, 0.9962977677957975, 0.8699479985487967, 0.8346447372385621], 'eval_runtime': 332.3517, 'eval_samples_per_second': 0.698, 'eval_steps_per_second': 0.072, 'epoch': 8.51}\n"
     ]
    },
    {
     "name": "stderr",
     "output_type": "stream",
     "text": [
      " 34%|███▍      | 401/1175 [1:09:56<23:00:07, 106.99s/it]"
     ]
    },
    {
     "name": "stdout",
     "output_type": "stream",
     "text": [
      "{'loss': 0.2075, 'learning_rate': 3.952340425531915e-05, 'epoch': 8.53}\n"
     ]
    },
    {
     "name": "stderr",
     "output_type": "stream",
     "text": [
      " 34%|███▍      | 402/1175 [1:10:04<16:32:39, 77.05s/it] "
     ]
    },
    {
     "name": "stdout",
     "output_type": "stream",
     "text": [
      "{'loss': 0.5198, 'learning_rate': 3.947234042553191e-05, 'epoch': 8.55}\n"
     ]
    },
    {
     "name": "stderr",
     "output_type": "stream",
     "text": [
      " 34%|███▍      | 403/1175 [1:10:11<12:01:42, 56.09s/it]"
     ]
    },
    {
     "name": "stdout",
     "output_type": "stream",
     "text": [
      "{'loss': 0.1701, 'learning_rate': 3.942127659574468e-05, 'epoch': 8.57}\n"
     ]
    },
    {
     "name": "stderr",
     "output_type": "stream",
     "text": [
      " 34%|███▍      | 404/1175 [1:10:18<8:52:00, 41.40s/it] "
     ]
    },
    {
     "name": "stdout",
     "output_type": "stream",
     "text": [
      "{'loss': 0.1029, 'learning_rate': 3.9370212765957445e-05, 'epoch': 8.6}\n"
     ]
    },
    {
     "name": "stderr",
     "output_type": "stream",
     "text": [
      " 34%|███▍      | 405/1175 [1:10:25<6:39:36, 31.14s/it]"
     ]
    },
    {
     "name": "stdout",
     "output_type": "stream",
     "text": [
      "{'loss': 0.1111, 'learning_rate': 3.931914893617021e-05, 'epoch': 8.62}\n"
     ]
    },
    {
     "name": "stderr",
     "output_type": "stream",
     "text": [
      " 35%|███▍      | 406/1175 [1:10:32<5:07:06, 23.96s/it]"
     ]
    },
    {
     "name": "stdout",
     "output_type": "stream",
     "text": [
      "{'loss': 0.092, 'learning_rate': 3.926808510638298e-05, 'epoch': 8.64}\n"
     ]
    },
    {
     "name": "stderr",
     "output_type": "stream",
     "text": [
      " 35%|███▍      | 407/1175 [1:10:39<4:02:13, 18.92s/it]"
     ]
    },
    {
     "name": "stdout",
     "output_type": "stream",
     "text": [
      "{'loss': 0.0842, 'learning_rate': 3.921702127659574e-05, 'epoch': 8.66}\n"
     ]
    },
    {
     "name": "stderr",
     "output_type": "stream",
     "text": [
      " 35%|███▍      | 408/1175 [1:10:47<3:16:53, 15.40s/it]"
     ]
    },
    {
     "name": "stdout",
     "output_type": "stream",
     "text": [
      "{'loss': 0.1326, 'learning_rate': 3.916595744680851e-05, 'epoch': 8.68}\n"
     ]
    },
    {
     "name": "stderr",
     "output_type": "stream",
     "text": [
      " 35%|███▍      | 409/1175 [1:10:54<2:45:13, 12.94s/it]"
     ]
    },
    {
     "name": "stdout",
     "output_type": "stream",
     "text": [
      "{'loss': 0.1467, 'learning_rate': 3.9114893617021274e-05, 'epoch': 8.7}\n"
     ]
    },
    {
     "name": "stderr",
     "output_type": "stream",
     "text": [
      " 35%|███▍      | 410/1175 [1:11:01<2:22:59, 11.22s/it]"
     ]
    },
    {
     "name": "stdout",
     "output_type": "stream",
     "text": [
      "{'loss': 0.1506, 'learning_rate': 3.9063829787234044e-05, 'epoch': 8.72}\n"
     ]
    },
    {
     "name": "stderr",
     "output_type": "stream",
     "text": [
      " 35%|███▍      | 411/1175 [1:11:08<2:07:17, 10.00s/it]"
     ]
    },
    {
     "name": "stdout",
     "output_type": "stream",
     "text": [
      "{'loss': 0.1012, 'learning_rate': 3.901276595744681e-05, 'epoch': 8.74}\n"
     ]
    },
    {
     "name": "stderr",
     "output_type": "stream",
     "text": [
      " 35%|███▌      | 412/1175 [1:11:15<1:56:32,  9.16s/it]"
     ]
    },
    {
     "name": "stdout",
     "output_type": "stream",
     "text": [
      "{'loss': 0.1024, 'learning_rate': 3.896170212765957e-05, 'epoch': 8.77}\n"
     ]
    },
    {
     "name": "stderr",
     "output_type": "stream",
     "text": [
      " 35%|███▌      | 413/1175 [1:11:23<1:48:48,  8.57s/it]"
     ]
    },
    {
     "name": "stdout",
     "output_type": "stream",
     "text": [
      "{'loss': 0.2409, 'learning_rate': 3.891063829787234e-05, 'epoch': 8.79}\n"
     ]
    },
    {
     "name": "stderr",
     "output_type": "stream",
     "text": [
      " 35%|███▌      | 414/1175 [1:11:30<1:43:17,  8.14s/it]"
     ]
    },
    {
     "name": "stdout",
     "output_type": "stream",
     "text": [
      "{'loss': 0.225, 'learning_rate': 3.88595744680851e-05, 'epoch': 8.81}\n"
     ]
    },
    {
     "name": "stderr",
     "output_type": "stream",
     "text": [
      " 35%|███▌      | 415/1175 [1:11:37<1:39:39,  7.87s/it]"
     ]
    },
    {
     "name": "stdout",
     "output_type": "stream",
     "text": [
      "{'loss': 0.1209, 'learning_rate': 3.880851063829787e-05, 'epoch': 8.83}\n"
     ]
    },
    {
     "name": "stderr",
     "output_type": "stream",
     "text": [
      " 35%|███▌      | 416/1175 [1:11:44<1:37:07,  7.68s/it]"
     ]
    },
    {
     "name": "stdout",
     "output_type": "stream",
     "text": [
      "{'loss': 0.0851, 'learning_rate': 3.8757446808510636e-05, 'epoch': 8.85}\n"
     ]
    },
    {
     "name": "stderr",
     "output_type": "stream",
     "text": [
      " 35%|███▌      | 417/1175 [1:11:51<1:35:10,  7.53s/it]"
     ]
    },
    {
     "name": "stdout",
     "output_type": "stream",
     "text": [
      "{'loss': 0.0997, 'learning_rate': 3.87063829787234e-05, 'epoch': 8.87}\n"
     ]
    },
    {
     "name": "stderr",
     "output_type": "stream",
     "text": [
      " 36%|███▌      | 418/1175 [1:11:59<1:33:42,  7.43s/it]"
     ]
    },
    {
     "name": "stdout",
     "output_type": "stream",
     "text": [
      "{'loss': 0.1008, 'learning_rate': 3.865531914893617e-05, 'epoch': 8.89}\n"
     ]
    },
    {
     "name": "stderr",
     "output_type": "stream",
     "text": [
      " 36%|███▌      | 419/1175 [1:12:06<1:32:32,  7.34s/it]"
     ]
    },
    {
     "name": "stdout",
     "output_type": "stream",
     "text": [
      "{'loss': 0.1034, 'learning_rate': 3.860425531914894e-05, 'epoch': 8.91}\n"
     ]
    },
    {
     "name": "stderr",
     "output_type": "stream",
     "text": [
      " 36%|███▌      | 420/1175 [1:12:13<1:31:54,  7.30s/it]"
     ]
    },
    {
     "name": "stdout",
     "output_type": "stream",
     "text": [
      "{'loss': 0.1012, 'learning_rate': 3.85531914893617e-05, 'epoch': 8.94}\n"
     ]
    },
    {
     "name": "stderr",
     "output_type": "stream",
     "text": [
      " 36%|███▌      | 421/1175 [1:12:20<1:31:14,  7.26s/it]"
     ]
    },
    {
     "name": "stdout",
     "output_type": "stream",
     "text": [
      "{'loss': 0.0856, 'learning_rate': 3.850212765957447e-05, 'epoch': 8.96}\n"
     ]
    },
    {
     "name": "stderr",
     "output_type": "stream",
     "text": [
      " 36%|███▌      | 422/1175 [1:12:27<1:29:26,  7.13s/it]"
     ]
    },
    {
     "name": "stdout",
     "output_type": "stream",
     "text": [
      "{'loss': 0.1384, 'learning_rate': 3.8451063829787235e-05, 'epoch': 8.98}\n"
     ]
    },
    {
     "name": "stderr",
     "output_type": "stream",
     "text": [
      " 36%|███▌      | 423/1175 [1:12:31<1:16:57,  6.14s/it]"
     ]
    },
    {
     "name": "stdout",
     "output_type": "stream",
     "text": [
      "{'loss': 0.0911, 'learning_rate': 3.8400000000000005e-05, 'epoch': 9.0}\n"
     ]
    },
    {
     "name": "stderr",
     "output_type": "stream",
     "text": [
      " 36%|███▌      | 424/1175 [1:12:39<1:24:50,  6.78s/it]"
     ]
    },
    {
     "name": "stdout",
     "output_type": "stream",
     "text": [
      "{'loss': 0.0894, 'learning_rate': 3.834893617021277e-05, 'epoch': 9.02}\n"
     ]
    },
    {
     "name": "stderr",
     "output_type": "stream",
     "text": [
      " 36%|███▌      | 425/1175 [1:12:46<1:26:18,  6.90s/it]"
     ]
    },
    {
     "name": "stdout",
     "output_type": "stream",
     "text": [
      "{'loss': 0.1313, 'learning_rate': 3.829787234042554e-05, 'epoch': 9.04}\n"
     ]
    },
    {
     "name": "stderr",
     "output_type": "stream",
     "text": [
      " 36%|███▋      | 426/1175 [1:12:53<1:27:22,  7.00s/it]"
     ]
    },
    {
     "name": "stdout",
     "output_type": "stream",
     "text": [
      "{'loss': 0.2152, 'learning_rate': 3.82468085106383e-05, 'epoch': 9.06}\n"
     ]
    },
    {
     "name": "stderr",
     "output_type": "stream",
     "text": [
      " 36%|███▋      | 427/1175 [1:13:01<1:27:53,  7.05s/it]"
     ]
    },
    {
     "name": "stdout",
     "output_type": "stream",
     "text": [
      "{'loss': 0.0942, 'learning_rate': 3.819574468085107e-05, 'epoch': 9.09}\n"
     ]
    },
    {
     "name": "stderr",
     "output_type": "stream",
     "text": [
      " 36%|███▋      | 428/1175 [1:13:08<1:28:11,  7.08s/it]"
     ]
    },
    {
     "name": "stdout",
     "output_type": "stream",
     "text": [
      "{'loss': 0.1145, 'learning_rate': 3.8144680851063834e-05, 'epoch': 9.11}\n"
     ]
    },
    {
     "name": "stderr",
     "output_type": "stream",
     "text": [
      " 37%|███▋      | 429/1175 [1:13:15<1:28:30,  7.12s/it]"
     ]
    },
    {
     "name": "stdout",
     "output_type": "stream",
     "text": [
      "{'loss': 0.088, 'learning_rate': 3.80936170212766e-05, 'epoch': 9.13}\n"
     ]
    },
    {
     "name": "stderr",
     "output_type": "stream",
     "text": [
      " 37%|███▋      | 430/1175 [1:13:22<1:28:32,  7.13s/it]"
     ]
    },
    {
     "name": "stdout",
     "output_type": "stream",
     "text": [
      "{'loss': 0.1556, 'learning_rate': 3.804255319148937e-05, 'epoch': 9.15}\n"
     ]
    },
    {
     "name": "stderr",
     "output_type": "stream",
     "text": [
      " 37%|███▋      | 431/1175 [1:13:29<1:28:26,  7.13s/it]"
     ]
    },
    {
     "name": "stdout",
     "output_type": "stream",
     "text": [
      "{'loss': 0.1074, 'learning_rate': 3.799148936170213e-05, 'epoch': 9.17}\n"
     ]
    },
    {
     "name": "stderr",
     "output_type": "stream",
     "text": [
      " 37%|███▋      | 432/1175 [1:13:36<1:28:38,  7.16s/it]"
     ]
    },
    {
     "name": "stdout",
     "output_type": "stream",
     "text": [
      "{'loss': 0.0845, 'learning_rate': 3.79404255319149e-05, 'epoch': 9.19}\n"
     ]
    },
    {
     "name": "stderr",
     "output_type": "stream",
     "text": [
      " 37%|███▋      | 433/1175 [1:13:44<1:28:33,  7.16s/it]"
     ]
    },
    {
     "name": "stdout",
     "output_type": "stream",
     "text": [
      "{'loss': 0.1151, 'learning_rate': 3.7889361702127663e-05, 'epoch': 9.21}\n"
     ]
    },
    {
     "name": "stderr",
     "output_type": "stream",
     "text": [
      " 37%|███▋      | 434/1175 [1:13:51<1:28:26,  7.16s/it]"
     ]
    },
    {
     "name": "stdout",
     "output_type": "stream",
     "text": [
      "{'loss': 0.1477, 'learning_rate': 3.7838297872340427e-05, 'epoch': 9.23}\n"
     ]
    },
    {
     "name": "stderr",
     "output_type": "stream",
     "text": [
      " 37%|███▋      | 435/1175 [1:13:58<1:28:39,  7.19s/it]"
     ]
    },
    {
     "name": "stdout",
     "output_type": "stream",
     "text": [
      "{'loss': 0.0901, 'learning_rate': 3.7787234042553196e-05, 'epoch': 9.26}\n"
     ]
    },
    {
     "name": "stderr",
     "output_type": "stream",
     "text": [
      " 37%|███▋      | 436/1175 [1:14:05<1:28:32,  7.19s/it]"
     ]
    },
    {
     "name": "stdout",
     "output_type": "stream",
     "text": [
      "{'loss': 0.16, 'learning_rate': 3.773617021276596e-05, 'epoch': 9.28}\n"
     ]
    },
    {
     "name": "stderr",
     "output_type": "stream",
     "text": [
      " 37%|███▋      | 437/1175 [1:14:12<1:28:23,  7.19s/it]"
     ]
    },
    {
     "name": "stdout",
     "output_type": "stream",
     "text": [
      "{'loss': 0.115, 'learning_rate': 3.768510638297873e-05, 'epoch': 9.3}\n"
     ]
    },
    {
     "name": "stderr",
     "output_type": "stream",
     "text": [
      " 37%|███▋      | 438/1175 [1:14:20<1:28:21,  7.19s/it]"
     ]
    },
    {
     "name": "stdout",
     "output_type": "stream",
     "text": [
      "{'loss': 0.1398, 'learning_rate': 3.763404255319149e-05, 'epoch': 9.32}\n"
     ]
    },
    {
     "name": "stderr",
     "output_type": "stream",
     "text": [
      " 37%|███▋      | 439/1175 [1:14:27<1:28:10,  7.19s/it]"
     ]
    },
    {
     "name": "stdout",
     "output_type": "stream",
     "text": [
      "{'loss': 0.0714, 'learning_rate': 3.7582978723404256e-05, 'epoch': 9.34}\n"
     ]
    },
    {
     "name": "stderr",
     "output_type": "stream",
     "text": [
      " 37%|███▋      | 440/1175 [1:14:34<1:27:56,  7.18s/it]"
     ]
    },
    {
     "name": "stdout",
     "output_type": "stream",
     "text": [
      "{'loss': 0.0832, 'learning_rate': 3.7531914893617026e-05, 'epoch': 9.36}\n"
     ]
    },
    {
     "name": "stderr",
     "output_type": "stream",
     "text": [
      " 38%|███▊      | 441/1175 [1:14:41<1:27:56,  7.19s/it]"
     ]
    },
    {
     "name": "stdout",
     "output_type": "stream",
     "text": [
      "{'loss': 0.1394, 'learning_rate': 3.748085106382979e-05, 'epoch': 9.38}\n"
     ]
    },
    {
     "name": "stderr",
     "output_type": "stream",
     "text": [
      " 38%|███▊      | 442/1175 [1:14:48<1:27:46,  7.19s/it]"
     ]
    },
    {
     "name": "stdout",
     "output_type": "stream",
     "text": [
      "{'loss': 0.1848, 'learning_rate': 3.742978723404256e-05, 'epoch': 9.4}\n"
     ]
    },
    {
     "name": "stderr",
     "output_type": "stream",
     "text": [
      " 38%|███▊      | 443/1175 [1:14:55<1:27:35,  7.18s/it]"
     ]
    },
    {
     "name": "stdout",
     "output_type": "stream",
     "text": [
      "{'loss': 0.1345, 'learning_rate': 3.737872340425532e-05, 'epoch': 9.43}\n"
     ]
    },
    {
     "name": "stderr",
     "output_type": "stream",
     "text": [
      " 38%|███▊      | 444/1175 [1:15:03<1:27:35,  7.19s/it]"
     ]
    },
    {
     "name": "stdout",
     "output_type": "stream",
     "text": [
      "{'loss': 0.2108, 'learning_rate': 3.732765957446809e-05, 'epoch': 9.45}\n"
     ]
    },
    {
     "name": "stderr",
     "output_type": "stream",
     "text": [
      " 38%|███▊      | 445/1175 [1:15:10<1:27:35,  7.20s/it]"
     ]
    },
    {
     "name": "stdout",
     "output_type": "stream",
     "text": [
      "{'loss': 0.2937, 'learning_rate': 3.7276595744680855e-05, 'epoch': 9.47}\n"
     ]
    },
    {
     "name": "stderr",
     "output_type": "stream",
     "text": [
      " 38%|███▊      | 446/1175 [1:15:17<1:27:24,  7.19s/it]"
     ]
    },
    {
     "name": "stdout",
     "output_type": "stream",
     "text": [
      "{'loss': 0.1827, 'learning_rate': 3.722553191489362e-05, 'epoch': 9.49}\n"
     ]
    },
    {
     "name": "stderr",
     "output_type": "stream",
     "text": [
      " 38%|███▊      | 447/1175 [1:15:24<1:27:15,  7.19s/it]"
     ]
    },
    {
     "name": "stdout",
     "output_type": "stream",
     "text": [
      "{'loss': 0.3059, 'learning_rate': 3.717446808510639e-05, 'epoch': 9.51}\n"
     ]
    },
    {
     "name": "stderr",
     "output_type": "stream",
     "text": [
      " 38%|███▊      | 448/1175 [1:15:31<1:27:02,  7.18s/it]"
     ]
    },
    {
     "name": "stdout",
     "output_type": "stream",
     "text": [
      "{'loss': 0.1409, 'learning_rate': 3.712340425531915e-05, 'epoch': 9.53}\n"
     ]
    },
    {
     "name": "stderr",
     "output_type": "stream",
     "text": [
      " 38%|███▊      | 449/1175 [1:15:39<1:26:58,  7.19s/it]"
     ]
    },
    {
     "name": "stdout",
     "output_type": "stream",
     "text": [
      "{'loss': 0.1026, 'learning_rate': 3.707234042553192e-05, 'epoch': 9.55}\n"
     ]
    },
    {
     "name": "stderr",
     "output_type": "stream",
     "text": [
      " 38%|███▊      | 450/1175 [1:15:46<1:27:05,  7.21s/it]"
     ]
    },
    {
     "name": "stdout",
     "output_type": "stream",
     "text": [
      "{'loss': 0.0707, 'learning_rate': 3.7021276595744684e-05, 'epoch': 9.57}\n"
     ]
    },
    {
     "name": "stderr",
     "output_type": "stream",
     "text": [
      " 38%|███▊      | 451/1175 [1:15:53<1:26:57,  7.21s/it]"
     ]
    },
    {
     "name": "stdout",
     "output_type": "stream",
     "text": [
      "{'loss': 0.0915, 'learning_rate': 3.697021276595745e-05, 'epoch': 9.6}\n"
     ]
    },
    {
     "name": "stderr",
     "output_type": "stream",
     "text": [
      " 38%|███▊      | 452/1175 [1:16:00<1:26:47,  7.20s/it]"
     ]
    },
    {
     "name": "stdout",
     "output_type": "stream",
     "text": [
      "{'loss': 0.0795, 'learning_rate': 3.691914893617022e-05, 'epoch': 9.62}\n"
     ]
    },
    {
     "name": "stderr",
     "output_type": "stream",
     "text": [
      " 39%|███▊      | 453/1175 [1:16:08<1:26:46,  7.21s/it]"
     ]
    },
    {
     "name": "stdout",
     "output_type": "stream",
     "text": [
      "{'loss': 0.1472, 'learning_rate': 3.686808510638298e-05, 'epoch': 9.64}\n"
     ]
    },
    {
     "name": "stderr",
     "output_type": "stream",
     "text": [
      " 39%|███▊      | 454/1175 [1:16:15<1:26:26,  7.19s/it]"
     ]
    },
    {
     "name": "stdout",
     "output_type": "stream",
     "text": [
      "{'loss': 0.1036, 'learning_rate': 3.681702127659575e-05, 'epoch': 9.66}\n"
     ]
    },
    {
     "name": "stderr",
     "output_type": "stream",
     "text": [
      " 39%|███▊      | 455/1175 [1:16:22<1:26:35,  7.22s/it]"
     ]
    },
    {
     "name": "stdout",
     "output_type": "stream",
     "text": [
      "{'loss': 0.1384, 'learning_rate': 3.676595744680851e-05, 'epoch': 9.68}\n"
     ]
    },
    {
     "name": "stderr",
     "output_type": "stream",
     "text": [
      " 39%|███▉      | 456/1175 [1:16:29<1:26:20,  7.21s/it]"
     ]
    },
    {
     "name": "stdout",
     "output_type": "stream",
     "text": [
      "{'loss': 0.0843, 'learning_rate': 3.6714893617021276e-05, 'epoch': 9.7}\n"
     ]
    },
    {
     "name": "stderr",
     "output_type": "stream",
     "text": [
      " 39%|███▉      | 457/1175 [1:16:36<1:26:20,  7.22s/it]"
     ]
    },
    {
     "name": "stdout",
     "output_type": "stream",
     "text": [
      "{'loss': 0.1439, 'learning_rate': 3.6663829787234046e-05, 'epoch': 9.72}\n"
     ]
    },
    {
     "name": "stderr",
     "output_type": "stream",
     "text": [
      " 39%|███▉      | 458/1175 [1:16:44<1:26:01,  7.20s/it]"
     ]
    },
    {
     "name": "stdout",
     "output_type": "stream",
     "text": [
      "{'loss': 0.1196, 'learning_rate': 3.661276595744681e-05, 'epoch': 9.74}\n"
     ]
    },
    {
     "name": "stderr",
     "output_type": "stream",
     "text": [
      " 39%|███▉      | 459/1175 [1:16:51<1:25:45,  7.19s/it]"
     ]
    },
    {
     "name": "stdout",
     "output_type": "stream",
     "text": [
      "{'loss': 0.3482, 'learning_rate': 3.656170212765958e-05, 'epoch': 9.77}\n"
     ]
    },
    {
     "name": "stderr",
     "output_type": "stream",
     "text": [
      " 39%|███▉      | 460/1175 [1:16:58<1:25:49,  7.20s/it]"
     ]
    },
    {
     "name": "stdout",
     "output_type": "stream",
     "text": [
      "{'loss': 0.0832, 'learning_rate': 3.651063829787234e-05, 'epoch': 9.79}\n"
     ]
    },
    {
     "name": "stderr",
     "output_type": "stream",
     "text": [
      " 39%|███▉      | 461/1175 [1:17:05<1:25:35,  7.19s/it]"
     ]
    },
    {
     "name": "stdout",
     "output_type": "stream",
     "text": [
      "{'loss': 0.435, 'learning_rate': 3.645957446808511e-05, 'epoch': 9.81}\n"
     ]
    },
    {
     "name": "stderr",
     "output_type": "stream",
     "text": [
      " 39%|███▉      | 462/1175 [1:17:12<1:25:21,  7.18s/it]"
     ]
    },
    {
     "name": "stdout",
     "output_type": "stream",
     "text": [
      "{'loss': 0.0788, 'learning_rate': 3.6408510638297876e-05, 'epoch': 9.83}\n"
     ]
    },
    {
     "name": "stderr",
     "output_type": "stream",
     "text": [
      " 39%|███▉      | 463/1175 [1:17:20<1:25:33,  7.21s/it]"
     ]
    },
    {
     "name": "stdout",
     "output_type": "stream",
     "text": [
      "{'loss': 0.2305, 'learning_rate': 3.635744680851064e-05, 'epoch': 9.85}\n"
     ]
    },
    {
     "name": "stderr",
     "output_type": "stream",
     "text": [
      " 39%|███▉      | 464/1175 [1:17:27<1:25:16,  7.20s/it]"
     ]
    },
    {
     "name": "stdout",
     "output_type": "stream",
     "text": [
      "{'loss': 0.2493, 'learning_rate': 3.630638297872341e-05, 'epoch': 9.87}\n"
     ]
    },
    {
     "name": "stderr",
     "output_type": "stream",
     "text": [
      " 40%|███▉      | 465/1175 [1:17:34<1:25:12,  7.20s/it]"
     ]
    },
    {
     "name": "stdout",
     "output_type": "stream",
     "text": [
      "{'loss': 0.0918, 'learning_rate': 3.625531914893617e-05, 'epoch': 9.89}\n"
     ]
    },
    {
     "name": "stderr",
     "output_type": "stream",
     "text": [
      " 40%|███▉      | 466/1175 [1:17:41<1:25:06,  7.20s/it]"
     ]
    },
    {
     "name": "stdout",
     "output_type": "stream",
     "text": [
      "{'loss': 0.0832, 'learning_rate': 3.620425531914894e-05, 'epoch': 9.91}\n"
     ]
    },
    {
     "name": "stderr",
     "output_type": "stream",
     "text": [
      " 40%|███▉      | 467/1175 [1:17:48<1:24:55,  7.20s/it]"
     ]
    },
    {
     "name": "stdout",
     "output_type": "stream",
     "text": [
      "{'loss': 0.0682, 'learning_rate': 3.6153191489361705e-05, 'epoch': 9.94}\n"
     ]
    },
    {
     "name": "stderr",
     "output_type": "stream",
     "text": [
      " 40%|███▉      | 468/1175 [1:17:55<1:24:29,  7.17s/it]"
     ]
    },
    {
     "name": "stdout",
     "output_type": "stream",
     "text": [
      "{'loss': 0.0818, 'learning_rate': 3.610212765957447e-05, 'epoch': 9.96}\n"
     ]
    },
    {
     "name": "stderr",
     "output_type": "stream",
     "text": [
      " 40%|███▉      | 469/1175 [1:18:02<1:22:58,  7.05s/it]"
     ]
    },
    {
     "name": "stdout",
     "output_type": "stream",
     "text": [
      "{'loss': 0.0757, 'learning_rate': 3.605106382978724e-05, 'epoch': 9.98}\n"
     ]
    },
    {
     "name": "stderr",
     "output_type": "stream",
     "text": [
      " 40%|████      | 470/1175 [1:18:06<1:11:35,  6.09s/it]"
     ]
    },
    {
     "name": "stdout",
     "output_type": "stream",
     "text": [
      "{'loss': 0.0759, 'learning_rate': 3.6e-05, 'epoch': 10.0}\n"
     ]
    },
    {
     "name": "stderr",
     "output_type": "stream",
     "text": [
      " 40%|████      | 471/1175 [1:18:15<1:20:03,  6.82s/it]"
     ]
    },
    {
     "name": "stdout",
     "output_type": "stream",
     "text": [
      "{'loss': 0.0945, 'learning_rate': 3.594893617021277e-05, 'epoch': 10.02}\n"
     ]
    },
    {
     "name": "stderr",
     "output_type": "stream",
     "text": [
      " 40%|████      | 472/1175 [1:18:22<1:21:12,  6.93s/it]"
     ]
    },
    {
     "name": "stdout",
     "output_type": "stream",
     "text": [
      "{'loss': 0.0802, 'learning_rate': 3.5897872340425534e-05, 'epoch': 10.04}\n"
     ]
    },
    {
     "name": "stderr",
     "output_type": "stream",
     "text": [
      " 40%|████      | 473/1175 [1:18:29<1:21:52,  7.00s/it]"
     ]
    },
    {
     "name": "stdout",
     "output_type": "stream",
     "text": [
      "{'loss': 0.1026, 'learning_rate': 3.58468085106383e-05, 'epoch': 10.06}\n"
     ]
    },
    {
     "name": "stderr",
     "output_type": "stream",
     "text": [
      " 40%|████      | 474/1175 [1:18:36<1:22:35,  7.07s/it]"
     ]
    },
    {
     "name": "stdout",
     "output_type": "stream",
     "text": [
      "{'loss': 0.0801, 'learning_rate': 3.579574468085107e-05, 'epoch': 10.09}\n"
     ]
    },
    {
     "name": "stderr",
     "output_type": "stream",
     "text": [
      " 40%|████      | 475/1175 [1:18:43<1:23:04,  7.12s/it]"
     ]
    },
    {
     "name": "stdout",
     "output_type": "stream",
     "text": [
      "{'loss': 0.1476, 'learning_rate': 3.574468085106383e-05, 'epoch': 10.11}\n"
     ]
    },
    {
     "name": "stderr",
     "output_type": "stream",
     "text": [
      " 41%|████      | 476/1175 [1:18:51<1:23:06,  7.13s/it]"
     ]
    },
    {
     "name": "stdout",
     "output_type": "stream",
     "text": [
      "{'loss': 0.09, 'learning_rate': 3.56936170212766e-05, 'epoch': 10.13}\n"
     ]
    },
    {
     "name": "stderr",
     "output_type": "stream",
     "text": [
      " 41%|████      | 477/1175 [1:18:58<1:23:02,  7.14s/it]"
     ]
    },
    {
     "name": "stdout",
     "output_type": "stream",
     "text": [
      "{'loss': 0.0665, 'learning_rate': 3.564255319148936e-05, 'epoch': 10.15}\n"
     ]
    },
    {
     "name": "stderr",
     "output_type": "stream",
     "text": [
      " 41%|████      | 478/1175 [1:19:05<1:23:13,  7.16s/it]"
     ]
    },
    {
     "name": "stdout",
     "output_type": "stream",
     "text": [
      "{'loss': 0.2927, 'learning_rate': 3.5591489361702126e-05, 'epoch': 10.17}\n"
     ]
    },
    {
     "name": "stderr",
     "output_type": "stream",
     "text": [
      " 41%|████      | 479/1175 [1:19:12<1:22:59,  7.16s/it]"
     ]
    },
    {
     "name": "stdout",
     "output_type": "stream",
     "text": [
      "{'loss': 0.0947, 'learning_rate': 3.5540425531914896e-05, 'epoch': 10.19}\n"
     ]
    },
    {
     "name": "stderr",
     "output_type": "stream",
     "text": [
      " 41%|████      | 480/1175 [1:19:19<1:22:55,  7.16s/it]"
     ]
    },
    {
     "name": "stdout",
     "output_type": "stream",
     "text": [
      "{'loss': 0.1667, 'learning_rate': 3.548936170212766e-05, 'epoch': 10.21}\n"
     ]
    },
    {
     "name": "stderr",
     "output_type": "stream",
     "text": [
      " 41%|████      | 481/1175 [1:19:26<1:22:55,  7.17s/it]"
     ]
    },
    {
     "name": "stdout",
     "output_type": "stream",
     "text": [
      "{'loss': 0.0954, 'learning_rate': 3.543829787234043e-05, 'epoch': 10.23}\n"
     ]
    },
    {
     "name": "stderr",
     "output_type": "stream",
     "text": [
      " 41%|████      | 482/1175 [1:19:34<1:22:47,  7.17s/it]"
     ]
    },
    {
     "name": "stdout",
     "output_type": "stream",
     "text": [
      "{'loss': 0.0815, 'learning_rate': 3.538723404255319e-05, 'epoch': 10.26}\n"
     ]
    },
    {
     "name": "stderr",
     "output_type": "stream",
     "text": [
      " 41%|████      | 483/1175 [1:19:41<1:23:07,  7.21s/it]"
     ]
    },
    {
     "name": "stdout",
     "output_type": "stream",
     "text": [
      "{'loss': 0.0702, 'learning_rate': 3.533617021276596e-05, 'epoch': 10.28}\n"
     ]
    },
    {
     "name": "stderr",
     "output_type": "stream",
     "text": [
      " 41%|████      | 484/1175 [1:19:48<1:22:43,  7.18s/it]"
     ]
    },
    {
     "name": "stdout",
     "output_type": "stream",
     "text": [
      "{'loss': 0.1921, 'learning_rate': 3.5285106382978725e-05, 'epoch': 10.3}\n"
     ]
    },
    {
     "name": "stderr",
     "output_type": "stream",
     "text": [
      " 41%|████▏     | 485/1175 [1:19:55<1:22:28,  7.17s/it]"
     ]
    },
    {
     "name": "stdout",
     "output_type": "stream",
     "text": [
      "{'loss': 0.1703, 'learning_rate': 3.523404255319149e-05, 'epoch': 10.32}\n"
     ]
    },
    {
     "name": "stderr",
     "output_type": "stream",
     "text": [
      " 41%|████▏     | 486/1175 [1:20:02<1:22:26,  7.18s/it]"
     ]
    },
    {
     "name": "stdout",
     "output_type": "stream",
     "text": [
      "{'loss': 0.1706, 'learning_rate': 3.518297872340426e-05, 'epoch': 10.34}\n"
     ]
    },
    {
     "name": "stderr",
     "output_type": "stream",
     "text": [
      " 41%|████▏     | 487/1175 [1:20:09<1:22:11,  7.17s/it]"
     ]
    },
    {
     "name": "stdout",
     "output_type": "stream",
     "text": [
      "{'loss': 0.4248, 'learning_rate': 3.513191489361702e-05, 'epoch': 10.36}\n"
     ]
    },
    {
     "name": "stderr",
     "output_type": "stream",
     "text": [
      " 42%|████▏     | 488/1175 [1:20:17<1:22:01,  7.16s/it]"
     ]
    },
    {
     "name": "stdout",
     "output_type": "stream",
     "text": [
      "{'loss': 0.0753, 'learning_rate': 3.508085106382979e-05, 'epoch': 10.38}\n"
     ]
    },
    {
     "name": "stderr",
     "output_type": "stream",
     "text": [
      " 42%|████▏     | 489/1175 [1:20:24<1:21:55,  7.16s/it]"
     ]
    },
    {
     "name": "stdout",
     "output_type": "stream",
     "text": [
      "{'loss': 0.0946, 'learning_rate': 3.5029787234042555e-05, 'epoch': 10.4}\n"
     ]
    },
    {
     "name": "stderr",
     "output_type": "stream",
     "text": [
      " 42%|████▏     | 490/1175 [1:20:31<1:21:45,  7.16s/it]"
     ]
    },
    {
     "name": "stdout",
     "output_type": "stream",
     "text": [
      "{'loss': 0.2297, 'learning_rate': 3.497872340425532e-05, 'epoch': 10.43}\n"
     ]
    },
    {
     "name": "stderr",
     "output_type": "stream",
     "text": [
      " 42%|████▏     | 491/1175 [1:20:38<1:21:39,  7.16s/it]"
     ]
    },
    {
     "name": "stdout",
     "output_type": "stream",
     "text": [
      "{'loss': 0.1393, 'learning_rate': 3.492765957446809e-05, 'epoch': 10.45}\n"
     ]
    },
    {
     "name": "stderr",
     "output_type": "stream",
     "text": [
      " 42%|████▏     | 492/1175 [1:20:45<1:21:43,  7.18s/it]"
     ]
    },
    {
     "name": "stdout",
     "output_type": "stream",
     "text": [
      "{'loss': 0.243, 'learning_rate': 3.487659574468085e-05, 'epoch': 10.47}\n"
     ]
    },
    {
     "name": "stderr",
     "output_type": "stream",
     "text": [
      " 42%|████▏     | 493/1175 [1:20:53<1:21:37,  7.18s/it]"
     ]
    },
    {
     "name": "stdout",
     "output_type": "stream",
     "text": [
      "{'loss': 0.0819, 'learning_rate': 3.482553191489362e-05, 'epoch': 10.49}\n"
     ]
    },
    {
     "name": "stderr",
     "output_type": "stream",
     "text": [
      " 42%|████▏     | 494/1175 [1:21:00<1:21:22,  7.17s/it]"
     ]
    },
    {
     "name": "stdout",
     "output_type": "stream",
     "text": [
      "{'loss': 0.3657, 'learning_rate': 3.4774468085106384e-05, 'epoch': 10.51}\n"
     ]
    },
    {
     "name": "stderr",
     "output_type": "stream",
     "text": [
      " 42%|████▏     | 495/1175 [1:21:07<1:21:08,  7.16s/it]"
     ]
    },
    {
     "name": "stdout",
     "output_type": "stream",
     "text": [
      "{'loss': 0.0889, 'learning_rate': 3.472340425531915e-05, 'epoch': 10.53}\n"
     ]
    },
    {
     "name": "stderr",
     "output_type": "stream",
     "text": [
      " 42%|████▏     | 496/1175 [1:21:14<1:21:19,  7.19s/it]"
     ]
    },
    {
     "name": "stdout",
     "output_type": "stream",
     "text": [
      "{'loss': 0.0834, 'learning_rate': 3.467234042553192e-05, 'epoch': 10.55}\n"
     ]
    },
    {
     "name": "stderr",
     "output_type": "stream",
     "text": [
      " 42%|████▏     | 497/1175 [1:21:21<1:21:12,  7.19s/it]"
     ]
    },
    {
     "name": "stdout",
     "output_type": "stream",
     "text": [
      "{'loss': 0.0931, 'learning_rate': 3.462127659574468e-05, 'epoch': 10.57}\n"
     ]
    },
    {
     "name": "stderr",
     "output_type": "stream",
     "text": [
      " 42%|████▏     | 498/1175 [1:21:28<1:21:17,  7.20s/it]"
     ]
    },
    {
     "name": "stdout",
     "output_type": "stream",
     "text": [
      "{'loss': 0.0879, 'learning_rate': 3.457021276595745e-05, 'epoch': 10.6}\n"
     ]
    },
    {
     "name": "stderr",
     "output_type": "stream",
     "text": [
      " 42%|████▏     | 499/1175 [1:21:36<1:21:17,  7.22s/it]"
     ]
    },
    {
     "name": "stdout",
     "output_type": "stream",
     "text": [
      "{'loss': 0.1231, 'learning_rate': 3.451914893617021e-05, 'epoch': 10.62}\n"
     ]
    },
    {
     "name": "stderr",
     "output_type": "stream",
     "text": [
      " 43%|████▎     | 500/1175 [1:21:43<1:21:13,  7.22s/it]"
     ]
    },
    {
     "name": "stdout",
     "output_type": "stream",
     "text": [
      "{'loss': 0.2173, 'learning_rate': 3.446808510638298e-05, 'epoch': 10.64}\n"
     ]
    },
    {
     "name": "stderr",
     "output_type": "stream",
     "text": [
      "                                                      \n",
      " 43%|████▎     | 500/1175 [1:27:19<1:21:13,  7.22s/it]"
     ]
    },
    {
     "name": "stdout",
     "output_type": "stream",
     "text": [
      "{'eval_loss': 0.05109351500868797, 'eval_mean_iou': 0.6315290285301163, 'eval_mean_accuracy': 0.6798759301180677, 'eval_overall_accuracy': 0.9938533388335129, 'eval_per_category_iou': [0.0, 0.9940403965903724, 0.8214670556387815, 0.7106086618913114], 'eval_per_category_accuracy': [0.0, 0.996795363861375, 0.863977333586718, 0.8587310230241778], 'eval_runtime': 336.1348, 'eval_samples_per_second': 0.69, 'eval_steps_per_second': 0.071, 'epoch': 10.64}\n"
     ]
    },
    {
     "name": "stderr",
     "output_type": "stream",
     "text": [
      " 43%|████▎     | 501/1175 [1:27:27<20:15:38, 108.22s/it]"
     ]
    },
    {
     "name": "stdout",
     "output_type": "stream",
     "text": [
      "{'loss': 0.0631, 'learning_rate': 3.4417021276595746e-05, 'epoch': 10.66}\n"
     ]
    },
    {
     "name": "stderr",
     "output_type": "stream",
     "text": [
      " 43%|████▎     | 502/1175 [1:27:34<14:33:48, 77.90s/it] "
     ]
    },
    {
     "name": "stdout",
     "output_type": "stream",
     "text": [
      "{'loss': 0.0704, 'learning_rate': 3.436595744680851e-05, 'epoch': 10.68}\n"
     ]
    },
    {
     "name": "stderr",
     "output_type": "stream",
     "text": [
      " 43%|████▎     | 503/1175 [1:27:41<10:35:20, 56.73s/it]"
     ]
    },
    {
     "name": "stdout",
     "output_type": "stream",
     "text": [
      "{'loss': 0.2405, 'learning_rate': 3.431489361702128e-05, 'epoch': 10.7}\n"
     ]
    },
    {
     "name": "stderr",
     "output_type": "stream",
     "text": [
      " 43%|████▎     | 504/1175 [1:27:49<7:48:11, 41.86s/it] "
     ]
    },
    {
     "name": "stdout",
     "output_type": "stream",
     "text": [
      "{'loss': 0.0678, 'learning_rate': 3.426382978723404e-05, 'epoch': 10.72}\n"
     ]
    },
    {
     "name": "stderr",
     "output_type": "stream",
     "text": [
      " 43%|████▎     | 505/1175 [1:27:56<5:51:13, 31.45s/it]"
     ]
    },
    {
     "name": "stdout",
     "output_type": "stream",
     "text": [
      "{'loss': 0.1297, 'learning_rate': 3.421276595744681e-05, 'epoch': 10.74}\n"
     ]
    },
    {
     "name": "stderr",
     "output_type": "stream",
     "text": [
      " 43%|████▎     | 506/1175 [1:28:03<4:29:31, 24.17s/it]"
     ]
    },
    {
     "name": "stdout",
     "output_type": "stream",
     "text": [
      "{'loss': 0.218, 'learning_rate': 3.4161702127659575e-05, 'epoch': 10.77}\n"
     ]
    },
    {
     "name": "stderr",
     "output_type": "stream",
     "text": [
      " 43%|████▎     | 507/1175 [1:28:10<3:32:18, 19.07s/it]"
     ]
    },
    {
     "name": "stdout",
     "output_type": "stream",
     "text": [
      "{'loss': 0.0774, 'learning_rate': 3.411063829787234e-05, 'epoch': 10.79}\n"
     ]
    },
    {
     "name": "stderr",
     "output_type": "stream",
     "text": [
      " 43%|████▎     | 508/1175 [1:28:17<2:52:18, 15.50s/it]"
     ]
    },
    {
     "name": "stdout",
     "output_type": "stream",
     "text": [
      "{'loss': 0.0956, 'learning_rate': 3.405957446808511e-05, 'epoch': 10.81}\n"
     ]
    },
    {
     "name": "stderr",
     "output_type": "stream",
     "text": [
      " 43%|████▎     | 509/1175 [1:28:24<2:24:21, 13.01s/it]"
     ]
    },
    {
     "name": "stdout",
     "output_type": "stream",
     "text": [
      "{'loss': 0.0829, 'learning_rate': 3.400851063829787e-05, 'epoch': 10.83}\n"
     ]
    },
    {
     "name": "stderr",
     "output_type": "stream",
     "text": [
      " 43%|████▎     | 510/1175 [1:28:32<2:04:36, 11.24s/it]"
     ]
    },
    {
     "name": "stdout",
     "output_type": "stream",
     "text": [
      "{'loss': 0.086, 'learning_rate': 3.395744680851064e-05, 'epoch': 10.85}\n"
     ]
    },
    {
     "name": "stderr",
     "output_type": "stream",
     "text": [
      " 43%|████▎     | 511/1175 [1:28:39<1:51:17, 10.06s/it]"
     ]
    },
    {
     "name": "stdout",
     "output_type": "stream",
     "text": [
      "{'loss': 0.0702, 'learning_rate': 3.3906382978723404e-05, 'epoch': 10.87}\n"
     ]
    },
    {
     "name": "stderr",
     "output_type": "stream",
     "text": [
      " 44%|████▎     | 512/1175 [1:28:46<1:41:35,  9.19s/it]"
     ]
    },
    {
     "name": "stdout",
     "output_type": "stream",
     "text": [
      "{'loss': 0.0648, 'learning_rate': 3.385531914893617e-05, 'epoch': 10.89}\n"
     ]
    },
    {
     "name": "stderr",
     "output_type": "stream",
     "text": [
      " 44%|████▎     | 513/1175 [1:28:53<1:34:57,  8.61s/it]"
     ]
    },
    {
     "name": "stdout",
     "output_type": "stream",
     "text": [
      "{'loss': 0.4177, 'learning_rate': 3.380425531914894e-05, 'epoch': 10.91}\n"
     ]
    },
    {
     "name": "stderr",
     "output_type": "stream",
     "text": [
      " 44%|████▎     | 514/1175 [1:29:00<1:30:12,  8.19s/it]"
     ]
    },
    {
     "name": "stdout",
     "output_type": "stream",
     "text": [
      "{'loss': 0.0702, 'learning_rate': 3.37531914893617e-05, 'epoch': 10.94}\n"
     ]
    },
    {
     "name": "stderr",
     "output_type": "stream",
     "text": [
      " 44%|████▍     | 515/1175 [1:29:08<1:26:51,  7.90s/it]"
     ]
    },
    {
     "name": "stdout",
     "output_type": "stream",
     "text": [
      "{'loss': 0.0705, 'learning_rate': 3.370212765957447e-05, 'epoch': 10.96}\n"
     ]
    },
    {
     "name": "stderr",
     "output_type": "stream",
     "text": [
      " 44%|████▍     | 516/1175 [1:29:14<1:23:12,  7.58s/it]"
     ]
    },
    {
     "name": "stdout",
     "output_type": "stream",
     "text": [
      "{'loss': 0.0661, 'learning_rate': 3.3651063829787234e-05, 'epoch': 10.98}\n"
     ]
    },
    {
     "name": "stderr",
     "output_type": "stream",
     "text": [
      " 44%|████▍     | 517/1175 [1:29:18<1:10:52,  6.46s/it]"
     ]
    },
    {
     "name": "stdout",
     "output_type": "stream",
     "text": [
      "{'loss': 0.6268, 'learning_rate': 3.3600000000000004e-05, 'epoch': 11.0}\n"
     ]
    },
    {
     "name": "stderr",
     "output_type": "stream",
     "text": [
      " 44%|████▍     | 518/1175 [1:29:27<1:17:20,  7.06s/it]"
     ]
    },
    {
     "name": "stdout",
     "output_type": "stream",
     "text": [
      "{'loss': 0.0693, 'learning_rate': 3.354893617021277e-05, 'epoch': 11.02}\n"
     ]
    },
    {
     "name": "stderr",
     "output_type": "stream",
     "text": [
      " 44%|████▍     | 519/1175 [1:29:34<1:17:32,  7.09s/it]"
     ]
    },
    {
     "name": "stdout",
     "output_type": "stream",
     "text": [
      "{'loss': 0.2943, 'learning_rate': 3.349787234042553e-05, 'epoch': 11.04}\n"
     ]
    },
    {
     "name": "stderr",
     "output_type": "stream",
     "text": [
      " 44%|████▍     | 520/1175 [1:29:41<1:17:48,  7.13s/it]"
     ]
    },
    {
     "name": "stdout",
     "output_type": "stream",
     "text": [
      "{'loss': 0.0988, 'learning_rate': 3.34468085106383e-05, 'epoch': 11.06}\n"
     ]
    },
    {
     "name": "stderr",
     "output_type": "stream",
     "text": [
      " 44%|████▍     | 521/1175 [1:29:48<1:17:53,  7.15s/it]"
     ]
    },
    {
     "name": "stdout",
     "output_type": "stream",
     "text": [
      "{'loss': 0.1496, 'learning_rate': 3.339574468085106e-05, 'epoch': 11.09}\n"
     ]
    },
    {
     "name": "stderr",
     "output_type": "stream",
     "text": [
      " 44%|████▍     | 522/1175 [1:29:56<1:17:50,  7.15s/it]"
     ]
    },
    {
     "name": "stdout",
     "output_type": "stream",
     "text": [
      "{'loss': 0.2163, 'learning_rate': 3.334468085106383e-05, 'epoch': 11.11}\n"
     ]
    },
    {
     "name": "stderr",
     "output_type": "stream",
     "text": [
      " 45%|████▍     | 523/1175 [1:30:03<1:17:53,  7.17s/it]"
     ]
    },
    {
     "name": "stdout",
     "output_type": "stream",
     "text": [
      "{'loss': 0.1709, 'learning_rate': 3.3293617021276596e-05, 'epoch': 11.13}\n"
     ]
    },
    {
     "name": "stderr",
     "output_type": "stream",
     "text": [
      " 45%|████▍     | 524/1175 [1:30:10<1:17:43,  7.16s/it]"
     ]
    },
    {
     "name": "stdout",
     "output_type": "stream",
     "text": [
      "{'loss': 0.1959, 'learning_rate': 3.324255319148936e-05, 'epoch': 11.15}\n"
     ]
    },
    {
     "name": "stderr",
     "output_type": "stream",
     "text": [
      " 45%|████▍     | 525/1175 [1:30:17<1:17:42,  7.17s/it]"
     ]
    },
    {
     "name": "stdout",
     "output_type": "stream",
     "text": [
      "{'loss': 0.1143, 'learning_rate': 3.319148936170213e-05, 'epoch': 11.17}\n"
     ]
    },
    {
     "name": "stderr",
     "output_type": "stream",
     "text": [
      " 45%|████▍     | 526/1175 [1:30:24<1:17:23,  7.16s/it]"
     ]
    },
    {
     "name": "stdout",
     "output_type": "stream",
     "text": [
      "{'loss': 0.0704, 'learning_rate': 3.314042553191489e-05, 'epoch': 11.19}\n"
     ]
    },
    {
     "name": "stderr",
     "output_type": "stream",
     "text": [
      " 45%|████▍     | 527/1175 [1:30:31<1:17:41,  7.19s/it]"
     ]
    },
    {
     "name": "stdout",
     "output_type": "stream",
     "text": [
      "{'loss': 0.0536, 'learning_rate': 3.308936170212766e-05, 'epoch': 11.21}\n"
     ]
    },
    {
     "name": "stderr",
     "output_type": "stream",
     "text": [
      " 45%|████▍     | 528/1175 [1:30:39<1:17:26,  7.18s/it]"
     ]
    },
    {
     "name": "stdout",
     "output_type": "stream",
     "text": [
      "{'loss': 0.0602, 'learning_rate': 3.3038297872340425e-05, 'epoch': 11.23}\n"
     ]
    },
    {
     "name": "stderr",
     "output_type": "stream",
     "text": [
      " 45%|████▌     | 529/1175 [1:30:46<1:17:21,  7.19s/it]"
     ]
    },
    {
     "name": "stdout",
     "output_type": "stream",
     "text": [
      "{'loss': 0.0802, 'learning_rate': 3.298723404255319e-05, 'epoch': 11.26}\n"
     ]
    },
    {
     "name": "stderr",
     "output_type": "stream",
     "text": [
      " 45%|████▌     | 530/1175 [1:30:53<1:17:11,  7.18s/it]"
     ]
    },
    {
     "name": "stdout",
     "output_type": "stream",
     "text": [
      "{'loss': 0.0664, 'learning_rate': 3.293617021276596e-05, 'epoch': 11.28}\n"
     ]
    },
    {
     "name": "stderr",
     "output_type": "stream",
     "text": [
      " 45%|████▌     | 531/1175 [1:31:00<1:17:20,  7.21s/it]"
     ]
    },
    {
     "name": "stdout",
     "output_type": "stream",
     "text": [
      "{'loss': 0.0744, 'learning_rate': 3.288510638297872e-05, 'epoch': 11.3}\n"
     ]
    },
    {
     "name": "stderr",
     "output_type": "stream",
     "text": [
      " 45%|████▌     | 532/1175 [1:31:07<1:17:06,  7.19s/it]"
     ]
    },
    {
     "name": "stdout",
     "output_type": "stream",
     "text": [
      "{'loss': 0.0634, 'learning_rate': 3.283404255319149e-05, 'epoch': 11.32}\n"
     ]
    },
    {
     "name": "stderr",
     "output_type": "stream",
     "text": [
      " 45%|████▌     | 533/1175 [1:31:15<1:17:04,  7.20s/it]"
     ]
    },
    {
     "name": "stdout",
     "output_type": "stream",
     "text": [
      "{'loss': 0.0676, 'learning_rate': 3.2782978723404254e-05, 'epoch': 11.34}\n"
     ]
    },
    {
     "name": "stderr",
     "output_type": "stream",
     "text": [
      " 45%|████▌     | 534/1175 [1:31:22<1:16:55,  7.20s/it]"
     ]
    },
    {
     "name": "stdout",
     "output_type": "stream",
     "text": [
      "{'loss': 0.1116, 'learning_rate': 3.2731914893617024e-05, 'epoch': 11.36}\n"
     ]
    },
    {
     "name": "stderr",
     "output_type": "stream",
     "text": [
      " 46%|████▌     | 535/1175 [1:31:29<1:17:07,  7.23s/it]"
     ]
    },
    {
     "name": "stdout",
     "output_type": "stream",
     "text": [
      "{'loss': 0.0667, 'learning_rate': 3.268085106382979e-05, 'epoch': 11.38}\n"
     ]
    },
    {
     "name": "stderr",
     "output_type": "stream",
     "text": [
      " 46%|████▌     | 536/1175 [1:31:36<1:17:01,  7.23s/it]"
     ]
    },
    {
     "name": "stdout",
     "output_type": "stream",
     "text": [
      "{'loss': 0.1392, 'learning_rate': 3.262978723404255e-05, 'epoch': 11.4}\n"
     ]
    },
    {
     "name": "stderr",
     "output_type": "stream",
     "text": [
      " 46%|████▌     | 537/1175 [1:31:44<1:16:37,  7.21s/it]"
     ]
    },
    {
     "name": "stdout",
     "output_type": "stream",
     "text": [
      "{'loss': 0.088, 'learning_rate': 3.257872340425532e-05, 'epoch': 11.43}\n"
     ]
    },
    {
     "name": "stderr",
     "output_type": "stream",
     "text": [
      " 46%|████▌     | 538/1175 [1:31:51<1:16:31,  7.21s/it]"
     ]
    },
    {
     "name": "stdout",
     "output_type": "stream",
     "text": [
      "{'loss': 0.0512, 'learning_rate': 3.2527659574468084e-05, 'epoch': 11.45}\n"
     ]
    },
    {
     "name": "stderr",
     "output_type": "stream",
     "text": [
      " 46%|████▌     | 539/1175 [1:31:58<1:16:17,  7.20s/it]"
     ]
    },
    {
     "name": "stdout",
     "output_type": "stream",
     "text": [
      "{'loss': 0.1073, 'learning_rate': 3.2476595744680853e-05, 'epoch': 11.47}\n"
     ]
    },
    {
     "name": "stderr",
     "output_type": "stream",
     "text": [
      " 46%|████▌     | 540/1175 [1:32:05<1:16:11,  7.20s/it]"
     ]
    },
    {
     "name": "stdout",
     "output_type": "stream",
     "text": [
      "{'loss': 0.0731, 'learning_rate': 3.2425531914893617e-05, 'epoch': 11.49}\n"
     ]
    },
    {
     "name": "stderr",
     "output_type": "stream",
     "text": [
      " 46%|████▌     | 541/1175 [1:32:12<1:15:56,  7.19s/it]"
     ]
    },
    {
     "name": "stdout",
     "output_type": "stream",
     "text": [
      "{'loss': 0.0742, 'learning_rate': 3.237446808510638e-05, 'epoch': 11.51}\n"
     ]
    },
    {
     "name": "stderr",
     "output_type": "stream",
     "text": [
      " 46%|████▌     | 542/1175 [1:32:19<1:15:54,  7.20s/it]"
     ]
    },
    {
     "name": "stdout",
     "output_type": "stream",
     "text": [
      "{'loss': 0.0647, 'learning_rate': 3.232340425531915e-05, 'epoch': 11.53}\n"
     ]
    },
    {
     "name": "stderr",
     "output_type": "stream",
     "text": [
      " 46%|████▌     | 543/1175 [1:32:27<1:15:57,  7.21s/it]"
     ]
    },
    {
     "name": "stdout",
     "output_type": "stream",
     "text": [
      "{'loss': 0.1236, 'learning_rate': 3.227234042553191e-05, 'epoch': 11.55}\n"
     ]
    },
    {
     "name": "stderr",
     "output_type": "stream",
     "text": [
      " 46%|████▋     | 544/1175 [1:32:34<1:15:49,  7.21s/it]"
     ]
    },
    {
     "name": "stdout",
     "output_type": "stream",
     "text": [
      "{'loss': 0.0716, 'learning_rate': 3.222127659574468e-05, 'epoch': 11.57}\n"
     ]
    },
    {
     "name": "stderr",
     "output_type": "stream",
     "text": [
      " 46%|████▋     | 545/1175 [1:32:41<1:15:34,  7.20s/it]"
     ]
    },
    {
     "name": "stdout",
     "output_type": "stream",
     "text": [
      "{'loss': 0.1072, 'learning_rate': 3.2170212765957446e-05, 'epoch': 11.6}\n"
     ]
    },
    {
     "name": "stderr",
     "output_type": "stream",
     "text": [
      " 46%|████▋     | 546/1175 [1:32:48<1:15:23,  7.19s/it]"
     ]
    },
    {
     "name": "stdout",
     "output_type": "stream",
     "text": [
      "{'loss': 0.1295, 'learning_rate': 3.211914893617021e-05, 'epoch': 11.62}\n"
     ]
    },
    {
     "name": "stderr",
     "output_type": "stream",
     "text": [
      " 47%|████▋     | 547/1175 [1:32:55<1:15:16,  7.19s/it]"
     ]
    },
    {
     "name": "stdout",
     "output_type": "stream",
     "text": [
      "{'loss': 0.0617, 'learning_rate': 3.206808510638298e-05, 'epoch': 11.64}\n"
     ]
    },
    {
     "name": "stderr",
     "output_type": "stream",
     "text": [
      " 47%|████▋     | 548/1175 [1:33:03<1:15:16,  7.20s/it]"
     ]
    },
    {
     "name": "stdout",
     "output_type": "stream",
     "text": [
      "{'loss': 0.2477, 'learning_rate': 3.201702127659574e-05, 'epoch': 11.66}\n"
     ]
    },
    {
     "name": "stderr",
     "output_type": "stream",
     "text": [
      " 47%|████▋     | 549/1175 [1:33:10<1:15:03,  7.19s/it]"
     ]
    },
    {
     "name": "stdout",
     "output_type": "stream",
     "text": [
      "{'loss': 0.0595, 'learning_rate': 3.196595744680851e-05, 'epoch': 11.68}\n"
     ]
    },
    {
     "name": "stderr",
     "output_type": "stream",
     "text": [
      " 47%|████▋     | 550/1175 [1:33:17<1:15:24,  7.24s/it]"
     ]
    },
    {
     "name": "stdout",
     "output_type": "stream",
     "text": [
      "{'loss': 0.108, 'learning_rate': 3.1914893617021275e-05, 'epoch': 11.7}\n"
     ]
    },
    {
     "name": "stderr",
     "output_type": "stream",
     "text": [
      " 47%|████▋     | 551/1175 [1:33:24<1:15:07,  7.22s/it]"
     ]
    },
    {
     "name": "stdout",
     "output_type": "stream",
     "text": [
      "{'loss': 0.0671, 'learning_rate': 3.186382978723404e-05, 'epoch': 11.72}\n"
     ]
    },
    {
     "name": "stderr",
     "output_type": "stream",
     "text": [
      " 47%|████▋     | 552/1175 [1:33:32<1:14:59,  7.22s/it]"
     ]
    },
    {
     "name": "stdout",
     "output_type": "stream",
     "text": [
      "{'loss': 0.2819, 'learning_rate': 3.181276595744681e-05, 'epoch': 11.74}\n"
     ]
    },
    {
     "name": "stderr",
     "output_type": "stream",
     "text": [
      " 47%|████▋     | 553/1175 [1:33:39<1:14:35,  7.20s/it]"
     ]
    },
    {
     "name": "stdout",
     "output_type": "stream",
     "text": [
      "{'loss': 0.0712, 'learning_rate': 3.176170212765957e-05, 'epoch': 11.77}\n"
     ]
    },
    {
     "name": "stderr",
     "output_type": "stream",
     "text": [
      " 47%|████▋     | 554/1175 [1:33:46<1:14:39,  7.21s/it]"
     ]
    },
    {
     "name": "stdout",
     "output_type": "stream",
     "text": [
      "{'loss': 0.0799, 'learning_rate': 3.171063829787234e-05, 'epoch': 11.79}\n"
     ]
    },
    {
     "name": "stderr",
     "output_type": "stream",
     "text": [
      " 47%|████▋     | 555/1175 [1:33:53<1:14:29,  7.21s/it]"
     ]
    },
    {
     "name": "stdout",
     "output_type": "stream",
     "text": [
      "{'loss': 0.0642, 'learning_rate': 3.1659574468085104e-05, 'epoch': 11.81}\n"
     ]
    },
    {
     "name": "stderr",
     "output_type": "stream",
     "text": [
      " 47%|████▋     | 556/1175 [1:34:00<1:14:22,  7.21s/it]"
     ]
    },
    {
     "name": "stdout",
     "output_type": "stream",
     "text": [
      "{'loss': 0.2042, 'learning_rate': 3.1608510638297874e-05, 'epoch': 11.83}\n"
     ]
    },
    {
     "name": "stderr",
     "output_type": "stream",
     "text": [
      " 47%|████▋     | 557/1175 [1:34:08<1:14:06,  7.19s/it]"
     ]
    },
    {
     "name": "stdout",
     "output_type": "stream",
     "text": [
      "{'loss': 0.0902, 'learning_rate': 3.155744680851064e-05, 'epoch': 11.85}\n"
     ]
    },
    {
     "name": "stderr",
     "output_type": "stream",
     "text": [
      " 47%|████▋     | 558/1175 [1:34:15<1:14:17,  7.22s/it]"
     ]
    },
    {
     "name": "stdout",
     "output_type": "stream",
     "text": [
      "{'loss': 0.0603, 'learning_rate': 3.15063829787234e-05, 'epoch': 11.87}\n"
     ]
    },
    {
     "name": "stderr",
     "output_type": "stream",
     "text": [
      " 48%|████▊     | 559/1175 [1:34:22<1:14:04,  7.22s/it]"
     ]
    },
    {
     "name": "stdout",
     "output_type": "stream",
     "text": [
      "{'loss': 0.0517, 'learning_rate': 3.145531914893617e-05, 'epoch': 11.89}\n"
     ]
    },
    {
     "name": "stderr",
     "output_type": "stream",
     "text": [
      " 48%|████▊     | 560/1175 [1:34:29<1:13:51,  7.21s/it]"
     ]
    },
    {
     "name": "stdout",
     "output_type": "stream",
     "text": [
      "{'loss': 0.0644, 'learning_rate': 3.140425531914893e-05, 'epoch': 11.91}\n"
     ]
    },
    {
     "name": "stderr",
     "output_type": "stream",
     "text": [
      " 48%|████▊     | 561/1175 [1:34:36<1:13:37,  7.19s/it]"
     ]
    },
    {
     "name": "stdout",
     "output_type": "stream",
     "text": [
      "{'loss': 0.0868, 'learning_rate': 3.13531914893617e-05, 'epoch': 11.94}\n"
     ]
    },
    {
     "name": "stderr",
     "output_type": "stream",
     "text": [
      " 48%|████▊     | 562/1175 [1:34:44<1:13:27,  7.19s/it]"
     ]
    },
    {
     "name": "stdout",
     "output_type": "stream",
     "text": [
      "{'loss': 0.0675, 'learning_rate': 3.1302127659574466e-05, 'epoch': 11.96}\n"
     ]
    },
    {
     "name": "stderr",
     "output_type": "stream",
     "text": [
      " 48%|████▊     | 563/1175 [1:34:50<1:12:08,  7.07s/it]"
     ]
    },
    {
     "name": "stdout",
     "output_type": "stream",
     "text": [
      "{'loss': 0.0755, 'learning_rate': 3.125106382978723e-05, 'epoch': 11.98}\n"
     ]
    },
    {
     "name": "stderr",
     "output_type": "stream",
     "text": [
      " 48%|████▊     | 564/1175 [1:34:54<1:02:12,  6.11s/it]"
     ]
    },
    {
     "name": "stdout",
     "output_type": "stream",
     "text": [
      "{'loss': 0.0688, 'learning_rate': 3.12e-05, 'epoch': 12.0}\n"
     ]
    },
    {
     "name": "stderr",
     "output_type": "stream",
     "text": [
      " 48%|████▊     | 565/1175 [1:35:03<1:09:31,  6.84s/it]"
     ]
    },
    {
     "name": "stdout",
     "output_type": "stream",
     "text": [
      "{'loss': 0.0501, 'learning_rate': 3.114893617021276e-05, 'epoch': 12.02}\n"
     ]
    },
    {
     "name": "stderr",
     "output_type": "stream",
     "text": [
      " 48%|████▊     | 566/1175 [1:35:10<1:10:18,  6.93s/it]"
     ]
    },
    {
     "name": "stdout",
     "output_type": "stream",
     "text": [
      "{'loss': 0.1, 'learning_rate': 3.109787234042553e-05, 'epoch': 12.04}\n"
     ]
    },
    {
     "name": "stderr",
     "output_type": "stream",
     "text": [
      " 48%|████▊     | 567/1175 [1:35:17<1:10:46,  6.98s/it]"
     ]
    },
    {
     "name": "stdout",
     "output_type": "stream",
     "text": [
      "{'loss': 0.1297, 'learning_rate': 3.1046808510638296e-05, 'epoch': 12.06}\n"
     ]
    },
    {
     "name": "stderr",
     "output_type": "stream",
     "text": [
      " 48%|████▊     | 568/1175 [1:35:24<1:11:24,  7.06s/it]"
     ]
    },
    {
     "name": "stdout",
     "output_type": "stream",
     "text": [
      "{'loss': 0.0658, 'learning_rate': 3.099574468085106e-05, 'epoch': 12.09}\n"
     ]
    },
    {
     "name": "stderr",
     "output_type": "stream",
     "text": [
      " 48%|████▊     | 569/1175 [1:35:31<1:11:43,  7.10s/it]"
     ]
    },
    {
     "name": "stdout",
     "output_type": "stream",
     "text": [
      "{'loss': 0.1052, 'learning_rate': 3.094468085106383e-05, 'epoch': 12.11}\n"
     ]
    },
    {
     "name": "stderr",
     "output_type": "stream",
     "text": [
      " 49%|████▊     | 570/1175 [1:35:39<1:11:55,  7.13s/it]"
     ]
    },
    {
     "name": "stdout",
     "output_type": "stream",
     "text": [
      "{'loss': 0.1547, 'learning_rate': 3.089361702127659e-05, 'epoch': 12.13}\n"
     ]
    },
    {
     "name": "stderr",
     "output_type": "stream",
     "text": [
      " 49%|████▊     | 571/1175 [1:35:46<1:11:57,  7.15s/it]"
     ]
    },
    {
     "name": "stdout",
     "output_type": "stream",
     "text": [
      "{'loss': 0.1271, 'learning_rate': 3.084255319148936e-05, 'epoch': 12.15}\n"
     ]
    },
    {
     "name": "stderr",
     "output_type": "stream",
     "text": [
      " 49%|████▊     | 572/1175 [1:35:53<1:12:02,  7.17s/it]"
     ]
    },
    {
     "name": "stdout",
     "output_type": "stream",
     "text": [
      "{'loss': 0.0549, 'learning_rate': 3.0791489361702125e-05, 'epoch': 12.17}\n"
     ]
    },
    {
     "name": "stderr",
     "output_type": "stream",
     "text": [
      " 49%|████▉     | 573/1175 [1:36:00<1:11:53,  7.17s/it]"
     ]
    },
    {
     "name": "stdout",
     "output_type": "stream",
     "text": [
      "{'loss': 0.0706, 'learning_rate': 3.0740425531914895e-05, 'epoch': 12.19}\n"
     ]
    },
    {
     "name": "stderr",
     "output_type": "stream",
     "text": [
      " 49%|████▉     | 574/1175 [1:36:07<1:11:54,  7.18s/it]"
     ]
    },
    {
     "name": "stdout",
     "output_type": "stream",
     "text": [
      "{'loss': 0.0853, 'learning_rate': 3.068936170212766e-05, 'epoch': 12.21}\n"
     ]
    },
    {
     "name": "stderr",
     "output_type": "stream",
     "text": [
      " 49%|████▉     | 575/1175 [1:36:15<1:11:44,  7.17s/it]"
     ]
    },
    {
     "name": "stdout",
     "output_type": "stream",
     "text": [
      "{'loss': 0.0593, 'learning_rate': 3.063829787234042e-05, 'epoch': 12.23}\n"
     ]
    },
    {
     "name": "stderr",
     "output_type": "stream",
     "text": [
      " 49%|████▉     | 576/1175 [1:36:22<1:11:45,  7.19s/it]"
     ]
    },
    {
     "name": "stdout",
     "output_type": "stream",
     "text": [
      "{'loss': 0.0486, 'learning_rate': 3.058723404255319e-05, 'epoch': 12.26}\n"
     ]
    },
    {
     "name": "stderr",
     "output_type": "stream",
     "text": [
      " 49%|████▉     | 577/1175 [1:36:29<1:11:27,  7.17s/it]"
     ]
    },
    {
     "name": "stdout",
     "output_type": "stream",
     "text": [
      "{'loss': 0.0571, 'learning_rate': 3.0536170212765954e-05, 'epoch': 12.28}\n"
     ]
    },
    {
     "name": "stderr",
     "output_type": "stream",
     "text": [
      " 49%|████▉     | 578/1175 [1:36:36<1:11:34,  7.19s/it]"
     ]
    },
    {
     "name": "stdout",
     "output_type": "stream",
     "text": [
      "{'loss': 0.0572, 'learning_rate': 3.0485106382978727e-05, 'epoch': 12.3}\n"
     ]
    },
    {
     "name": "stderr",
     "output_type": "stream",
     "text": [
      " 49%|████▉     | 579/1175 [1:36:43<1:11:31,  7.20s/it]"
     ]
    },
    {
     "name": "stdout",
     "output_type": "stream",
     "text": [
      "{'loss': 0.0449, 'learning_rate': 3.043404255319149e-05, 'epoch': 12.32}\n"
     ]
    },
    {
     "name": "stderr",
     "output_type": "stream",
     "text": [
      " 49%|████▉     | 580/1175 [1:36:51<1:11:29,  7.21s/it]"
     ]
    },
    {
     "name": "stdout",
     "output_type": "stream",
     "text": [
      "{'loss': 0.059, 'learning_rate': 3.0382978723404254e-05, 'epoch': 12.34}\n"
     ]
    },
    {
     "name": "stderr",
     "output_type": "stream",
     "text": [
      " 49%|████▉     | 581/1175 [1:36:58<1:11:11,  7.19s/it]"
     ]
    },
    {
     "name": "stdout",
     "output_type": "stream",
     "text": [
      "{'loss': 0.0667, 'learning_rate': 3.0331914893617023e-05, 'epoch': 12.36}\n"
     ]
    },
    {
     "name": "stderr",
     "output_type": "stream",
     "text": [
      " 50%|████▉     | 582/1175 [1:37:05<1:11:26,  7.23s/it]"
     ]
    },
    {
     "name": "stdout",
     "output_type": "stream",
     "text": [
      "{'loss': 0.2215, 'learning_rate': 3.0280851063829787e-05, 'epoch': 12.38}\n"
     ]
    },
    {
     "name": "stderr",
     "output_type": "stream",
     "text": [
      " 50%|████▉     | 583/1175 [1:37:12<1:11:02,  7.20s/it]"
     ]
    },
    {
     "name": "stdout",
     "output_type": "stream",
     "text": [
      "{'loss': 0.0557, 'learning_rate': 3.0229787234042557e-05, 'epoch': 12.4}\n"
     ]
    },
    {
     "name": "stderr",
     "output_type": "stream",
     "text": [
      " 50%|████▉     | 584/1175 [1:37:19<1:11:00,  7.21s/it]"
     ]
    },
    {
     "name": "stdout",
     "output_type": "stream",
     "text": [
      "{'loss': 0.095, 'learning_rate': 3.017872340425532e-05, 'epoch': 12.43}\n"
     ]
    },
    {
     "name": "stderr",
     "output_type": "stream",
     "text": [
      " 50%|████▉     | 585/1175 [1:37:27<1:10:44,  7.19s/it]"
     ]
    },
    {
     "name": "stdout",
     "output_type": "stream",
     "text": [
      "{'loss': 0.0624, 'learning_rate': 3.0127659574468083e-05, 'epoch': 12.45}\n"
     ]
    },
    {
     "name": "stderr",
     "output_type": "stream",
     "text": [
      " 50%|████▉     | 586/1175 [1:37:34<1:10:49,  7.21s/it]"
     ]
    },
    {
     "name": "stdout",
     "output_type": "stream",
     "text": [
      "{'loss': 0.2465, 'learning_rate': 3.0076595744680853e-05, 'epoch': 12.47}\n"
     ]
    },
    {
     "name": "stderr",
     "output_type": "stream",
     "text": [
      " 50%|████▉     | 587/1175 [1:37:41<1:10:26,  7.19s/it]"
     ]
    },
    {
     "name": "stdout",
     "output_type": "stream",
     "text": [
      "{'loss': 0.0479, 'learning_rate': 3.0025531914893616e-05, 'epoch': 12.49}\n"
     ]
    },
    {
     "name": "stderr",
     "output_type": "stream",
     "text": [
      " 50%|█████     | 588/1175 [1:37:48<1:10:19,  7.19s/it]"
     ]
    },
    {
     "name": "stdout",
     "output_type": "stream",
     "text": [
      "{'loss': 0.0472, 'learning_rate': 2.9974468085106382e-05, 'epoch': 12.51}\n"
     ]
    },
    {
     "name": "stderr",
     "output_type": "stream",
     "text": [
      " 50%|█████     | 589/1175 [1:37:55<1:10:08,  7.18s/it]"
     ]
    },
    {
     "name": "stdout",
     "output_type": "stream",
     "text": [
      "{'loss': 0.054, 'learning_rate': 2.992340425531915e-05, 'epoch': 12.53}\n"
     ]
    },
    {
     "name": "stderr",
     "output_type": "stream",
     "text": [
      " 50%|█████     | 590/1175 [1:38:03<1:10:19,  7.21s/it]"
     ]
    },
    {
     "name": "stdout",
     "output_type": "stream",
     "text": [
      "{'loss': 0.046, 'learning_rate': 2.9872340425531915e-05, 'epoch': 12.55}\n"
     ]
    },
    {
     "name": "stderr",
     "output_type": "stream",
     "text": [
      " 50%|█████     | 591/1175 [1:38:10<1:10:10,  7.21s/it]"
     ]
    },
    {
     "name": "stdout",
     "output_type": "stream",
     "text": [
      "{'loss': 0.0573, 'learning_rate': 2.9821276595744682e-05, 'epoch': 12.57}\n"
     ]
    },
    {
     "name": "stderr",
     "output_type": "stream",
     "text": [
      " 50%|█████     | 592/1175 [1:38:17<1:10:04,  7.21s/it]"
     ]
    },
    {
     "name": "stdout",
     "output_type": "stream",
     "text": [
      "{'loss': 0.066, 'learning_rate': 2.977021276595745e-05, 'epoch': 12.6}\n"
     ]
    },
    {
     "name": "stderr",
     "output_type": "stream",
     "text": [
      " 50%|█████     | 593/1175 [1:38:24<1:09:46,  7.19s/it]"
     ]
    },
    {
     "name": "stdout",
     "output_type": "stream",
     "text": [
      "{'loss': 0.066, 'learning_rate': 2.9719148936170215e-05, 'epoch': 12.62}\n"
     ]
    },
    {
     "name": "stderr",
     "output_type": "stream",
     "text": [
      " 51%|█████     | 594/1175 [1:38:31<1:09:48,  7.21s/it]"
     ]
    },
    {
     "name": "stdout",
     "output_type": "stream",
     "text": [
      "{'loss': 0.0449, 'learning_rate': 2.9668085106382978e-05, 'epoch': 12.64}\n"
     ]
    },
    {
     "name": "stderr",
     "output_type": "stream",
     "text": [
      " 51%|█████     | 595/1175 [1:38:39<1:09:29,  7.19s/it]"
     ]
    },
    {
     "name": "stdout",
     "output_type": "stream",
     "text": [
      "{'loss': 0.063, 'learning_rate': 2.9617021276595745e-05, 'epoch': 12.66}\n"
     ]
    },
    {
     "name": "stderr",
     "output_type": "stream",
     "text": [
      " 51%|█████     | 596/1175 [1:38:46<1:09:24,  7.19s/it]"
     ]
    },
    {
     "name": "stdout",
     "output_type": "stream",
     "text": [
      "{'loss': 0.069, 'learning_rate': 2.956595744680851e-05, 'epoch': 12.68}\n"
     ]
    },
    {
     "name": "stderr",
     "output_type": "stream",
     "text": [
      " 51%|█████     | 597/1175 [1:38:53<1:09:15,  7.19s/it]"
     ]
    },
    {
     "name": "stdout",
     "output_type": "stream",
     "text": [
      "{'loss': 0.0541, 'learning_rate': 2.9514893617021278e-05, 'epoch': 12.7}\n"
     ]
    },
    {
     "name": "stderr",
     "output_type": "stream",
     "text": [
      " 51%|█████     | 598/1175 [1:39:00<1:09:25,  7.22s/it]"
     ]
    },
    {
     "name": "stdout",
     "output_type": "stream",
     "text": [
      "{'loss': 0.122, 'learning_rate': 2.9463829787234044e-05, 'epoch': 12.72}\n"
     ]
    },
    {
     "name": "stderr",
     "output_type": "stream",
     "text": [
      " 51%|█████     | 599/1175 [1:39:07<1:09:06,  7.20s/it]"
     ]
    },
    {
     "name": "stdout",
     "output_type": "stream",
     "text": [
      "{'loss': 0.0492, 'learning_rate': 2.9412765957446807e-05, 'epoch': 12.74}\n"
     ]
    },
    {
     "name": "stderr",
     "output_type": "stream",
     "text": [
      " 51%|█████     | 600/1175 [1:39:15<1:09:02,  7.20s/it]"
     ]
    },
    {
     "name": "stdout",
     "output_type": "stream",
     "text": [
      "{'loss': 0.0497, 'learning_rate': 2.9361702127659574e-05, 'epoch': 12.77}\n"
     ]
    },
    {
     "name": "stderr",
     "output_type": "stream",
     "text": [
      "                                                      \n",
      " 51%|█████     | 600/1175 [1:44:50<1:09:02,  7.20s/it]"
     ]
    },
    {
     "name": "stdout",
     "output_type": "stream",
     "text": [
      "{'eval_loss': 0.041258182376623154, 'eval_mean_iou': 0.6448761033131968, 'eval_mean_accuracy': 0.678437979514687, 'eval_overall_accuracy': 0.9945360052174536, 'eval_per_category_iou': [0.0, 0.9946383317940236, 0.8627012021021951, 0.7221648793565684], 'eval_per_category_accuracy': [0.0, 0.9980319362357409, 0.9040961940466112, 0.8116237877763955], 'eval_runtime': 335.7681, 'eval_samples_per_second': 0.691, 'eval_steps_per_second': 0.071, 'epoch': 12.77}\n"
     ]
    },
    {
     "name": "stderr",
     "output_type": "stream",
     "text": [
      " 51%|█████     | 601/1175 [1:44:58<17:14:07, 108.10s/it]"
     ]
    },
    {
     "name": "stdout",
     "output_type": "stream",
     "text": [
      "{'loss': 0.0591, 'learning_rate': 2.931063829787234e-05, 'epoch': 12.79}\n"
     ]
    },
    {
     "name": "stderr",
     "output_type": "stream",
     "text": [
      " 51%|█████     | 602/1175 [1:45:05<12:23:09, 77.82s/it] "
     ]
    },
    {
     "name": "stdout",
     "output_type": "stream",
     "text": [
      "{'loss': 0.0638, 'learning_rate': 2.9259574468085107e-05, 'epoch': 12.81}\n"
     ]
    },
    {
     "name": "stderr",
     "output_type": "stream",
     "text": [
      " 51%|█████▏    | 603/1175 [1:45:13<8:59:54, 56.63s/it] "
     ]
    },
    {
     "name": "stdout",
     "output_type": "stream",
     "text": [
      "{'loss': 0.2342, 'learning_rate': 2.9208510638297873e-05, 'epoch': 12.83}\n"
     ]
    },
    {
     "name": "stderr",
     "output_type": "stream",
     "text": [
      " 51%|█████▏    | 604/1175 [1:45:20<6:37:49, 41.80s/it]"
     ]
    },
    {
     "name": "stdout",
     "output_type": "stream",
     "text": [
      "{'loss': 0.3752, 'learning_rate': 2.915744680851064e-05, 'epoch': 12.85}\n"
     ]
    },
    {
     "name": "stderr",
     "output_type": "stream",
     "text": [
      " 51%|█████▏    | 605/1175 [1:45:27<4:58:34, 31.43s/it]"
     ]
    },
    {
     "name": "stdout",
     "output_type": "stream",
     "text": [
      "{'loss': 0.195, 'learning_rate': 2.9106382978723403e-05, 'epoch': 12.87}\n"
     ]
    },
    {
     "name": "stderr",
     "output_type": "stream",
     "text": [
      " 52%|█████▏    | 606/1175 [1:45:34<3:49:06, 24.16s/it]"
     ]
    },
    {
     "name": "stdout",
     "output_type": "stream",
     "text": [
      "{'loss': 0.0614, 'learning_rate': 2.905531914893617e-05, 'epoch': 12.89}\n"
     ]
    },
    {
     "name": "stderr",
     "output_type": "stream",
     "text": [
      " 52%|█████▏    | 607/1175 [1:45:41<3:00:35, 19.08s/it]"
     ]
    },
    {
     "name": "stdout",
     "output_type": "stream",
     "text": [
      "{'loss': 0.1326, 'learning_rate': 2.9004255319148936e-05, 'epoch': 12.91}\n"
     ]
    },
    {
     "name": "stderr",
     "output_type": "stream",
     "text": [
      " 52%|█████▏    | 608/1175 [1:45:49<2:26:35, 15.51s/it]"
     ]
    },
    {
     "name": "stdout",
     "output_type": "stream",
     "text": [
      "{'loss': 0.1549, 'learning_rate': 2.8953191489361703e-05, 'epoch': 12.94}\n"
     ]
    },
    {
     "name": "stderr",
     "output_type": "stream",
     "text": [
      " 52%|█████▏    | 609/1175 [1:45:56<2:02:55, 13.03s/it]"
     ]
    },
    {
     "name": "stdout",
     "output_type": "stream",
     "text": [
      "{'loss': 0.0639, 'learning_rate': 2.890212765957447e-05, 'epoch': 12.96}\n"
     ]
    },
    {
     "name": "stderr",
     "output_type": "stream",
     "text": [
      " 52%|█████▏    | 610/1175 [1:46:03<1:45:02, 11.16s/it]"
     ]
    },
    {
     "name": "stdout",
     "output_type": "stream",
     "text": [
      "{'loss': 0.0485, 'learning_rate': 2.8851063829787232e-05, 'epoch': 12.98}\n"
     ]
    },
    {
     "name": "stderr",
     "output_type": "stream",
     "text": [
      " 52%|█████▏    | 611/1175 [1:46:06<1:24:19,  8.97s/it]"
     ]
    },
    {
     "name": "stdout",
     "output_type": "stream",
     "text": [
      "{'loss': 0.1501, 'learning_rate': 2.88e-05, 'epoch': 13.0}\n"
     ]
    },
    {
     "name": "stderr",
     "output_type": "stream",
     "text": [
      " 52%|█████▏    | 612/1175 [1:46:15<1:22:11,  8.76s/it]"
     ]
    },
    {
     "name": "stdout",
     "output_type": "stream",
     "text": [
      "{'loss': 0.1014, 'learning_rate': 2.8748936170212765e-05, 'epoch': 13.02}\n"
     ]
    },
    {
     "name": "stderr",
     "output_type": "stream",
     "text": [
      " 52%|█████▏    | 613/1175 [1:46:22<1:17:41,  8.29s/it]"
     ]
    },
    {
     "name": "stdout",
     "output_type": "stream",
     "text": [
      "{'loss': 0.0554, 'learning_rate': 2.8697872340425532e-05, 'epoch': 13.04}\n"
     ]
    },
    {
     "name": "stderr",
     "output_type": "stream",
     "text": [
      " 52%|█████▏    | 614/1175 [1:46:29<1:14:27,  7.96s/it]"
     ]
    },
    {
     "name": "stdout",
     "output_type": "stream",
     "text": [
      "{'loss': 0.0556, 'learning_rate': 2.8646808510638298e-05, 'epoch': 13.06}\n"
     ]
    },
    {
     "name": "stderr",
     "output_type": "stream",
     "text": [
      " 52%|█████▏    | 615/1175 [1:46:36<1:12:19,  7.75s/it]"
     ]
    },
    {
     "name": "stdout",
     "output_type": "stream",
     "text": [
      "{'loss': 0.0811, 'learning_rate': 2.8595744680851065e-05, 'epoch': 13.09}\n"
     ]
    },
    {
     "name": "stderr",
     "output_type": "stream",
     "text": [
      " 52%|█████▏    | 616/1175 [1:46:44<1:10:33,  7.57s/it]"
     ]
    },
    {
     "name": "stdout",
     "output_type": "stream",
     "text": [
      "{'loss': 0.091, 'learning_rate': 2.8544680851063828e-05, 'epoch': 13.11}\n"
     ]
    },
    {
     "name": "stderr",
     "output_type": "stream",
     "text": [
      " 53%|█████▎    | 617/1175 [1:46:51<1:09:30,  7.47s/it]"
     ]
    },
    {
     "name": "stdout",
     "output_type": "stream",
     "text": [
      "{'loss': 0.1154, 'learning_rate': 2.8493617021276594e-05, 'epoch': 13.13}\n"
     ]
    },
    {
     "name": "stderr",
     "output_type": "stream",
     "text": [
      " 53%|█████▎    | 618/1175 [1:46:58<1:08:33,  7.38s/it]"
     ]
    },
    {
     "name": "stdout",
     "output_type": "stream",
     "text": [
      "{'loss': 0.0705, 'learning_rate': 2.844255319148936e-05, 'epoch': 13.15}\n"
     ]
    },
    {
     "name": "stderr",
     "output_type": "stream",
     "text": [
      " 53%|█████▎    | 619/1175 [1:47:05<1:07:52,  7.32s/it]"
     ]
    },
    {
     "name": "stdout",
     "output_type": "stream",
     "text": [
      "{'loss': 0.0622, 'learning_rate': 2.8391489361702127e-05, 'epoch': 13.17}\n"
     ]
    },
    {
     "name": "stderr",
     "output_type": "stream",
     "text": [
      " 53%|█████▎    | 620/1175 [1:47:12<1:07:16,  7.27s/it]"
     ]
    },
    {
     "name": "stdout",
     "output_type": "stream",
     "text": [
      "{'loss': 0.0866, 'learning_rate': 2.8340425531914894e-05, 'epoch': 13.19}\n"
     ]
    },
    {
     "name": "stderr",
     "output_type": "stream",
     "text": [
      " 53%|█████▎    | 621/1175 [1:47:20<1:07:03,  7.26s/it]"
     ]
    },
    {
     "name": "stdout",
     "output_type": "stream",
     "text": [
      "{'loss': 0.0476, 'learning_rate': 2.828936170212766e-05, 'epoch': 13.21}\n"
     ]
    },
    {
     "name": "stderr",
     "output_type": "stream",
     "text": [
      " 53%|█████▎    | 622/1175 [1:47:27<1:06:43,  7.24s/it]"
     ]
    },
    {
     "name": "stdout",
     "output_type": "stream",
     "text": [
      "{'loss': 0.0449, 'learning_rate': 2.8238297872340424e-05, 'epoch': 13.23}\n"
     ]
    },
    {
     "name": "stderr",
     "output_type": "stream",
     "text": [
      " 53%|█████▎    | 623/1175 [1:47:34<1:06:29,  7.23s/it]"
     ]
    },
    {
     "name": "stdout",
     "output_type": "stream",
     "text": [
      "{'loss': 0.0467, 'learning_rate': 2.818723404255319e-05, 'epoch': 13.26}\n"
     ]
    },
    {
     "name": "stderr",
     "output_type": "stream",
     "text": [
      " 53%|█████▎    | 624/1175 [1:47:41<1:06:20,  7.22s/it]"
     ]
    },
    {
     "name": "stdout",
     "output_type": "stream",
     "text": [
      "{'loss': 0.1097, 'learning_rate': 2.8136170212765957e-05, 'epoch': 13.28}\n"
     ]
    },
    {
     "name": "stderr",
     "output_type": "stream",
     "text": [
      " 53%|█████▎    | 625/1175 [1:47:48<1:06:14,  7.23s/it]"
     ]
    },
    {
     "name": "stdout",
     "output_type": "stream",
     "text": [
      "{'loss': 0.082, 'learning_rate': 2.8085106382978723e-05, 'epoch': 13.3}\n"
     ]
    },
    {
     "name": "stderr",
     "output_type": "stream",
     "text": [
      " 53%|█████▎    | 626/1175 [1:47:56<1:05:57,  7.21s/it]"
     ]
    },
    {
     "name": "stdout",
     "output_type": "stream",
     "text": [
      "{'loss': 0.1102, 'learning_rate': 2.803404255319149e-05, 'epoch': 13.32}\n"
     ]
    },
    {
     "name": "stderr",
     "output_type": "stream",
     "text": [
      " 53%|█████▎    | 627/1175 [1:48:03<1:05:52,  7.21s/it]"
     ]
    },
    {
     "name": "stdout",
     "output_type": "stream",
     "text": [
      "{'loss': 0.1013, 'learning_rate': 2.7982978723404253e-05, 'epoch': 13.34}\n"
     ]
    },
    {
     "name": "stderr",
     "output_type": "stream",
     "text": [
      " 53%|█████▎    | 628/1175 [1:48:10<1:05:33,  7.19s/it]"
     ]
    },
    {
     "name": "stdout",
     "output_type": "stream",
     "text": [
      "{'loss': 0.0454, 'learning_rate': 2.793191489361702e-05, 'epoch': 13.36}\n"
     ]
    },
    {
     "name": "stderr",
     "output_type": "stream",
     "text": [
      " 54%|█████▎    | 629/1175 [1:48:17<1:05:34,  7.21s/it]"
     ]
    },
    {
     "name": "stdout",
     "output_type": "stream",
     "text": [
      "{'loss': 0.0485, 'learning_rate': 2.7880851063829786e-05, 'epoch': 13.38}\n"
     ]
    },
    {
     "name": "stderr",
     "output_type": "stream",
     "text": [
      " 54%|█████▎    | 630/1175 [1:48:24<1:05:23,  7.20s/it]"
     ]
    },
    {
     "name": "stdout",
     "output_type": "stream",
     "text": [
      "{'loss': 0.095, 'learning_rate': 2.7829787234042556e-05, 'epoch': 13.4}\n"
     ]
    },
    {
     "name": "stderr",
     "output_type": "stream",
     "text": [
      " 54%|█████▎    | 631/1175 [1:48:32<1:05:11,  7.19s/it]"
     ]
    },
    {
     "name": "stdout",
     "output_type": "stream",
     "text": [
      "{'loss': 0.094, 'learning_rate': 2.7778723404255322e-05, 'epoch': 13.43}\n"
     ]
    },
    {
     "name": "stderr",
     "output_type": "stream",
     "text": [
      " 54%|█████▍    | 632/1175 [1:48:39<1:05:06,  7.19s/it]"
     ]
    },
    {
     "name": "stdout",
     "output_type": "stream",
     "text": [
      "{'loss': 0.0658, 'learning_rate': 2.772765957446809e-05, 'epoch': 13.45}\n"
     ]
    },
    {
     "name": "stderr",
     "output_type": "stream",
     "text": [
      " 54%|█████▍    | 633/1175 [1:48:46<1:05:05,  7.21s/it]"
     ]
    },
    {
     "name": "stdout",
     "output_type": "stream",
     "text": [
      "{'loss': 0.1017, 'learning_rate': 2.7676595744680852e-05, 'epoch': 13.47}\n"
     ]
    },
    {
     "name": "stderr",
     "output_type": "stream",
     "text": [
      " 54%|█████▍    | 634/1175 [1:48:53<1:04:50,  7.19s/it]"
     ]
    },
    {
     "name": "stdout",
     "output_type": "stream",
     "text": [
      "{'loss': 0.05, 'learning_rate': 2.762553191489362e-05, 'epoch': 13.49}\n"
     ]
    },
    {
     "name": "stderr",
     "output_type": "stream",
     "text": [
      " 54%|█████▍    | 635/1175 [1:49:00<1:04:40,  7.19s/it]"
     ]
    },
    {
     "name": "stdout",
     "output_type": "stream",
     "text": [
      "{'loss': 0.0882, 'learning_rate': 2.7574468085106385e-05, 'epoch': 13.51}\n"
     ]
    },
    {
     "name": "stderr",
     "output_type": "stream",
     "text": [
      " 54%|█████▍    | 636/1175 [1:49:07<1:04:31,  7.18s/it]"
     ]
    },
    {
     "name": "stdout",
     "output_type": "stream",
     "text": [
      "{'loss': 0.1658, 'learning_rate': 2.752340425531915e-05, 'epoch': 13.53}\n"
     ]
    },
    {
     "name": "stderr",
     "output_type": "stream",
     "text": [
      " 54%|█████▍    | 637/1175 [1:49:15<1:04:28,  7.19s/it]"
     ]
    },
    {
     "name": "stdout",
     "output_type": "stream",
     "text": [
      "{'loss': 0.0584, 'learning_rate': 2.7472340425531918e-05, 'epoch': 13.55}\n"
     ]
    },
    {
     "name": "stderr",
     "output_type": "stream",
     "text": [
      " 54%|█████▍    | 638/1175 [1:49:22<1:04:16,  7.18s/it]"
     ]
    },
    {
     "name": "stdout",
     "output_type": "stream",
     "text": [
      "{'loss': 0.0542, 'learning_rate': 2.7421276595744685e-05, 'epoch': 13.57}\n"
     ]
    },
    {
     "name": "stderr",
     "output_type": "stream",
     "text": [
      " 54%|█████▍    | 639/1175 [1:49:29<1:04:15,  7.19s/it]"
     ]
    },
    {
     "name": "stdout",
     "output_type": "stream",
     "text": [
      "{'loss': 0.0369, 'learning_rate': 2.7370212765957448e-05, 'epoch': 13.6}\n"
     ]
    },
    {
     "name": "stderr",
     "output_type": "stream",
     "text": [
      " 54%|█████▍    | 640/1175 [1:49:36<1:04:11,  7.20s/it]"
     ]
    },
    {
     "name": "stdout",
     "output_type": "stream",
     "text": [
      "{'loss': 0.0536, 'learning_rate': 2.7319148936170214e-05, 'epoch': 13.62}\n"
     ]
    },
    {
     "name": "stderr",
     "output_type": "stream",
     "text": [
      " 55%|█████▍    | 641/1175 [1:49:43<1:04:07,  7.21s/it]"
     ]
    },
    {
     "name": "stdout",
     "output_type": "stream",
     "text": [
      "{'loss': 0.0424, 'learning_rate': 2.726808510638298e-05, 'epoch': 13.64}\n"
     ]
    },
    {
     "name": "stderr",
     "output_type": "stream",
     "text": [
      " 55%|█████▍    | 642/1175 [1:49:51<1:04:00,  7.21s/it]"
     ]
    },
    {
     "name": "stdout",
     "output_type": "stream",
     "text": [
      "{'loss': 0.2799, 'learning_rate': 2.7217021276595747e-05, 'epoch': 13.66}\n"
     ]
    },
    {
     "name": "stderr",
     "output_type": "stream",
     "text": [
      " 55%|█████▍    | 643/1175 [1:49:58<1:03:49,  7.20s/it]"
     ]
    },
    {
     "name": "stdout",
     "output_type": "stream",
     "text": [
      "{'loss': 0.1061, 'learning_rate': 2.7165957446808514e-05, 'epoch': 13.68}\n"
     ]
    },
    {
     "name": "stderr",
     "output_type": "stream",
     "text": [
      " 55%|█████▍    | 644/1175 [1:50:05<1:03:40,  7.19s/it]"
     ]
    },
    {
     "name": "stdout",
     "output_type": "stream",
     "text": [
      "{'loss': 0.0918, 'learning_rate': 2.7114893617021277e-05, 'epoch': 13.7}\n"
     ]
    },
    {
     "name": "stderr",
     "output_type": "stream",
     "text": [
      " 55%|█████▍    | 645/1175 [1:50:12<1:03:33,  7.20s/it]"
     ]
    },
    {
     "name": "stdout",
     "output_type": "stream",
     "text": [
      "{'loss': 0.041, 'learning_rate': 2.7063829787234043e-05, 'epoch': 13.72}\n"
     ]
    },
    {
     "name": "stderr",
     "output_type": "stream",
     "text": [
      " 55%|█████▍    | 646/1175 [1:50:19<1:03:20,  7.18s/it]"
     ]
    },
    {
     "name": "stdout",
     "output_type": "stream",
     "text": [
      "{'loss': 0.0563, 'learning_rate': 2.701276595744681e-05, 'epoch': 13.74}\n"
     ]
    },
    {
     "name": "stderr",
     "output_type": "stream",
     "text": [
      " 55%|█████▌    | 647/1175 [1:50:27<1:03:25,  7.21s/it]"
     ]
    },
    {
     "name": "stdout",
     "output_type": "stream",
     "text": [
      "{'loss': 0.0799, 'learning_rate': 2.6961702127659576e-05, 'epoch': 13.77}\n"
     ]
    },
    {
     "name": "stderr",
     "output_type": "stream",
     "text": [
      " 55%|█████▌    | 648/1175 [1:50:34<1:03:12,  7.20s/it]"
     ]
    },
    {
     "name": "stdout",
     "output_type": "stream",
     "text": [
      "{'loss': 0.0496, 'learning_rate': 2.6910638297872343e-05, 'epoch': 13.79}\n"
     ]
    },
    {
     "name": "stderr",
     "output_type": "stream",
     "text": [
      " 55%|█████▌    | 649/1175 [1:50:41<1:03:05,  7.20s/it]"
     ]
    },
    {
     "name": "stdout",
     "output_type": "stream",
     "text": [
      "{'loss': 0.0452, 'learning_rate': 2.685957446808511e-05, 'epoch': 13.81}\n"
     ]
    },
    {
     "name": "stderr",
     "output_type": "stream",
     "text": [
      " 55%|█████▌    | 650/1175 [1:50:48<1:02:48,  7.18s/it]"
     ]
    },
    {
     "name": "stdout",
     "output_type": "stream",
     "text": [
      "{'loss': 0.0631, 'learning_rate': 2.6808510638297873e-05, 'epoch': 13.83}\n"
     ]
    },
    {
     "name": "stderr",
     "output_type": "stream",
     "text": [
      " 55%|█████▌    | 651/1175 [1:50:55<1:02:54,  7.20s/it]"
     ]
    },
    {
     "name": "stdout",
     "output_type": "stream",
     "text": [
      "{'loss': 0.0805, 'learning_rate': 2.675744680851064e-05, 'epoch': 13.85}\n"
     ]
    },
    {
     "name": "stderr",
     "output_type": "stream",
     "text": [
      " 55%|█████▌    | 652/1175 [1:51:03<1:02:44,  7.20s/it]"
     ]
    },
    {
     "name": "stdout",
     "output_type": "stream",
     "text": [
      "{'loss': 0.0675, 'learning_rate': 2.6706382978723406e-05, 'epoch': 13.87}\n"
     ]
    },
    {
     "name": "stderr",
     "output_type": "stream",
     "text": [
      " 56%|█████▌    | 653/1175 [1:51:10<1:02:42,  7.21s/it]"
     ]
    },
    {
     "name": "stdout",
     "output_type": "stream",
     "text": [
      "{'loss': 0.0763, 'learning_rate': 2.6655319148936172e-05, 'epoch': 13.89}\n"
     ]
    },
    {
     "name": "stderr",
     "output_type": "stream",
     "text": [
      " 56%|█████▌    | 654/1175 [1:51:17<1:02:37,  7.21s/it]"
     ]
    },
    {
     "name": "stdout",
     "output_type": "stream",
     "text": [
      "{'loss': 0.2246, 'learning_rate': 2.660425531914894e-05, 'epoch': 13.91}\n"
     ]
    },
    {
     "name": "stderr",
     "output_type": "stream",
     "text": [
      " 56%|█████▌    | 655/1175 [1:51:24<1:02:30,  7.21s/it]"
     ]
    },
    {
     "name": "stdout",
     "output_type": "stream",
     "text": [
      "{'loss': 0.0668, 'learning_rate': 2.6553191489361702e-05, 'epoch': 13.94}\n"
     ]
    },
    {
     "name": "stderr",
     "output_type": "stream",
     "text": [
      " 56%|█████▌    | 656/1175 [1:51:31<1:02:21,  7.21s/it]"
     ]
    },
    {
     "name": "stdout",
     "output_type": "stream",
     "text": [
      "{'loss': 0.1335, 'learning_rate': 2.650212765957447e-05, 'epoch': 13.96}\n"
     ]
    },
    {
     "name": "stderr",
     "output_type": "stream",
     "text": [
      " 56%|█████▌    | 657/1175 [1:51:38<1:01:08,  7.08s/it]"
     ]
    },
    {
     "name": "stdout",
     "output_type": "stream",
     "text": [
      "{'loss': 0.0508, 'learning_rate': 2.6451063829787235e-05, 'epoch': 13.98}\n"
     ]
    },
    {
     "name": "stderr",
     "output_type": "stream",
     "text": [
      " 56%|█████▌    | 658/1175 [1:51:42<52:44,  6.12s/it]  "
     ]
    },
    {
     "name": "stdout",
     "output_type": "stream",
     "text": [
      "{'loss': 0.0438, 'learning_rate': 2.64e-05, 'epoch': 14.0}\n"
     ]
    },
    {
     "name": "stderr",
     "output_type": "stream",
     "text": [
      " 56%|█████▌    | 659/1175 [1:51:51<58:36,  6.81s/it]"
     ]
    },
    {
     "name": "stdout",
     "output_type": "stream",
     "text": [
      "{'loss': 0.0449, 'learning_rate': 2.6348936170212768e-05, 'epoch': 14.02}\n"
     ]
    },
    {
     "name": "stderr",
     "output_type": "stream",
     "text": [
      " 56%|█████▌    | 660/1175 [1:51:58<59:21,  6.92s/it]"
     ]
    },
    {
     "name": "stdout",
     "output_type": "stream",
     "text": [
      "{'loss': 0.0568, 'learning_rate': 2.6297872340425534e-05, 'epoch': 14.04}\n"
     ]
    },
    {
     "name": "stderr",
     "output_type": "stream",
     "text": [
      " 56%|█████▋    | 661/1175 [1:52:05<59:55,  7.00s/it]"
     ]
    },
    {
     "name": "stdout",
     "output_type": "stream",
     "text": [
      "{'loss': 0.1035, 'learning_rate': 2.6246808510638298e-05, 'epoch': 14.06}\n"
     ]
    },
    {
     "name": "stderr",
     "output_type": "stream",
     "text": [
      " 56%|█████▋    | 662/1175 [1:52:12<1:00:19,  7.05s/it]"
     ]
    },
    {
     "name": "stdout",
     "output_type": "stream",
     "text": [
      "{'loss': 0.0577, 'learning_rate': 2.6195744680851064e-05, 'epoch': 14.09}\n"
     ]
    },
    {
     "name": "stderr",
     "output_type": "stream",
     "text": [
      " 56%|█████▋    | 663/1175 [1:52:19<1:00:31,  7.09s/it]"
     ]
    },
    {
     "name": "stdout",
     "output_type": "stream",
     "text": [
      "{'loss': 0.0668, 'learning_rate': 2.614468085106383e-05, 'epoch': 14.11}\n"
     ]
    },
    {
     "name": "stderr",
     "output_type": "stream",
     "text": [
      " 57%|█████▋    | 664/1175 [1:52:27<1:00:42,  7.13s/it]"
     ]
    },
    {
     "name": "stdout",
     "output_type": "stream",
     "text": [
      "{'loss': 0.1079, 'learning_rate': 2.6093617021276597e-05, 'epoch': 14.13}\n"
     ]
    },
    {
     "name": "stderr",
     "output_type": "stream",
     "text": [
      " 57%|█████▋    | 665/1175 [1:52:34<1:00:37,  7.13s/it]"
     ]
    },
    {
     "name": "stdout",
     "output_type": "stream",
     "text": [
      "{'loss': 0.0507, 'learning_rate': 2.6042553191489364e-05, 'epoch': 14.15}\n"
     ]
    },
    {
     "name": "stderr",
     "output_type": "stream",
     "text": [
      " 57%|█████▋    | 666/1175 [1:52:41<1:00:39,  7.15s/it]"
     ]
    },
    {
     "name": "stdout",
     "output_type": "stream",
     "text": [
      "{'loss': 0.0631, 'learning_rate': 2.599148936170213e-05, 'epoch': 14.17}\n"
     ]
    },
    {
     "name": "stderr",
     "output_type": "stream",
     "text": [
      " 57%|█████▋    | 667/1175 [1:52:48<1:00:36,  7.16s/it]"
     ]
    },
    {
     "name": "stdout",
     "output_type": "stream",
     "text": [
      "{'loss': 0.08, 'learning_rate': 2.5940425531914893e-05, 'epoch': 14.19}\n"
     ]
    },
    {
     "name": "stderr",
     "output_type": "stream",
     "text": [
      " 57%|█████▋    | 668/1175 [1:52:55<1:00:51,  7.20s/it]"
     ]
    },
    {
     "name": "stdout",
     "output_type": "stream",
     "text": [
      "{'loss': 0.0502, 'learning_rate': 2.588936170212766e-05, 'epoch': 14.21}\n"
     ]
    },
    {
     "name": "stderr",
     "output_type": "stream",
     "text": [
      " 57%|█████▋    | 669/1175 [1:53:02<1:00:35,  7.19s/it]"
     ]
    },
    {
     "name": "stdout",
     "output_type": "stream",
     "text": [
      "{'loss': 0.0464, 'learning_rate': 2.5838297872340426e-05, 'epoch': 14.23}\n"
     ]
    },
    {
     "name": "stderr",
     "output_type": "stream",
     "text": [
      " 57%|█████▋    | 670/1175 [1:53:10<1:00:32,  7.19s/it]"
     ]
    },
    {
     "name": "stdout",
     "output_type": "stream",
     "text": [
      "{'loss': 0.3183, 'learning_rate': 2.5787234042553193e-05, 'epoch': 14.26}\n"
     ]
    },
    {
     "name": "stderr",
     "output_type": "stream",
     "text": [
      " 57%|█████▋    | 671/1175 [1:53:17<1:00:20,  7.18s/it]"
     ]
    },
    {
     "name": "stdout",
     "output_type": "stream",
     "text": [
      "{'loss': 0.0395, 'learning_rate': 2.573617021276596e-05, 'epoch': 14.28}\n"
     ]
    },
    {
     "name": "stderr",
     "output_type": "stream",
     "text": [
      " 57%|█████▋    | 672/1175 [1:53:24<1:00:10,  7.18s/it]"
     ]
    },
    {
     "name": "stdout",
     "output_type": "stream",
     "text": [
      "{'loss': 0.083, 'learning_rate': 2.5685106382978722e-05, 'epoch': 14.3}\n"
     ]
    },
    {
     "name": "stderr",
     "output_type": "stream",
     "text": [
      " 57%|█████▋    | 673/1175 [1:53:31<1:00:00,  7.17s/it]"
     ]
    },
    {
     "name": "stdout",
     "output_type": "stream",
     "text": [
      "{'loss': 0.0741, 'learning_rate': 2.563404255319149e-05, 'epoch': 14.32}\n"
     ]
    },
    {
     "name": "stderr",
     "output_type": "stream",
     "text": [
      " 57%|█████▋    | 674/1175 [1:53:38<1:00:01,  7.19s/it]"
     ]
    },
    {
     "name": "stdout",
     "output_type": "stream",
     "text": [
      "{'loss': 0.0493, 'learning_rate': 2.5582978723404255e-05, 'epoch': 14.34}\n"
     ]
    },
    {
     "name": "stderr",
     "output_type": "stream",
     "text": [
      " 57%|█████▋    | 675/1175 [1:53:46<59:49,  7.18s/it]  "
     ]
    },
    {
     "name": "stdout",
     "output_type": "stream",
     "text": [
      "{'loss': 0.0823, 'learning_rate': 2.5531914893617022e-05, 'epoch': 14.36}\n"
     ]
    },
    {
     "name": "stderr",
     "output_type": "stream",
     "text": [
      " 58%|█████▊    | 676/1175 [1:53:53<59:48,  7.19s/it]"
     ]
    },
    {
     "name": "stdout",
     "output_type": "stream",
     "text": [
      "{'loss': 0.0602, 'learning_rate': 2.548085106382979e-05, 'epoch': 14.38}\n"
     ]
    },
    {
     "name": "stderr",
     "output_type": "stream",
     "text": [
      " 58%|█████▊    | 677/1175 [1:54:00<59:35,  7.18s/it]"
     ]
    },
    {
     "name": "stdout",
     "output_type": "stream",
     "text": [
      "{'loss': 0.0605, 'learning_rate': 2.5429787234042555e-05, 'epoch': 14.4}\n"
     ]
    },
    {
     "name": "stderr",
     "output_type": "stream",
     "text": [
      " 58%|█████▊    | 678/1175 [1:54:07<59:29,  7.18s/it]"
     ]
    },
    {
     "name": "stdout",
     "output_type": "stream",
     "text": [
      "{'loss': 0.0568, 'learning_rate': 2.5378723404255318e-05, 'epoch': 14.43}\n"
     ]
    },
    {
     "name": "stderr",
     "output_type": "stream",
     "text": [
      " 58%|█████▊    | 679/1175 [1:54:14<59:13,  7.17s/it]"
     ]
    },
    {
     "name": "stdout",
     "output_type": "stream",
     "text": [
      "{'loss': 0.1021, 'learning_rate': 2.5327659574468085e-05, 'epoch': 14.45}\n"
     ]
    },
    {
     "name": "stderr",
     "output_type": "stream",
     "text": [
      " 58%|█████▊    | 680/1175 [1:54:21<59:12,  7.18s/it]"
     ]
    },
    {
     "name": "stdout",
     "output_type": "stream",
     "text": [
      "{'loss': 0.0853, 'learning_rate': 2.527659574468085e-05, 'epoch': 14.47}\n"
     ]
    },
    {
     "name": "stderr",
     "output_type": "stream",
     "text": [
      " 58%|█████▊    | 681/1175 [1:54:29<59:05,  7.18s/it]"
     ]
    },
    {
     "name": "stdout",
     "output_type": "stream",
     "text": [
      "{'loss': 0.045, 'learning_rate': 2.5225531914893618e-05, 'epoch': 14.49}\n"
     ]
    },
    {
     "name": "stderr",
     "output_type": "stream",
     "text": [
      " 58%|█████▊    | 682/1175 [1:54:36<59:05,  7.19s/it]"
     ]
    },
    {
     "name": "stdout",
     "output_type": "stream",
     "text": [
      "{'loss': 0.0478, 'learning_rate': 2.5174468085106384e-05, 'epoch': 14.51}\n"
     ]
    },
    {
     "name": "stderr",
     "output_type": "stream",
     "text": [
      " 58%|█████▊    | 683/1175 [1:54:43<58:48,  7.17s/it]"
     ]
    },
    {
     "name": "stdout",
     "output_type": "stream",
     "text": [
      "{'loss': 0.1299, 'learning_rate': 2.512340425531915e-05, 'epoch': 14.53}\n"
     ]
    },
    {
     "name": "stderr",
     "output_type": "stream",
     "text": [
      " 58%|█████▊    | 684/1175 [1:54:50<58:46,  7.18s/it]"
     ]
    },
    {
     "name": "stdout",
     "output_type": "stream",
     "text": [
      "{'loss': 0.06, 'learning_rate': 2.5072340425531914e-05, 'epoch': 14.55}\n"
     ]
    },
    {
     "name": "stderr",
     "output_type": "stream",
     "text": [
      " 58%|█████▊    | 685/1175 [1:54:57<58:34,  7.17s/it]"
     ]
    },
    {
     "name": "stdout",
     "output_type": "stream",
     "text": [
      "{'loss': 0.1229, 'learning_rate': 2.502127659574468e-05, 'epoch': 14.57}\n"
     ]
    },
    {
     "name": "stderr",
     "output_type": "stream",
     "text": [
      " 58%|█████▊    | 686/1175 [1:55:05<58:30,  7.18s/it]"
     ]
    },
    {
     "name": "stdout",
     "output_type": "stream",
     "text": [
      "{'loss': 0.0669, 'learning_rate': 2.4970212765957447e-05, 'epoch': 14.6}\n"
     ]
    },
    {
     "name": "stderr",
     "output_type": "stream",
     "text": [
      " 58%|█████▊    | 687/1175 [1:55:12<58:17,  7.17s/it]"
     ]
    },
    {
     "name": "stdout",
     "output_type": "stream",
     "text": [
      "{'loss': 0.0576, 'learning_rate': 2.4919148936170213e-05, 'epoch': 14.62}\n"
     ]
    },
    {
     "name": "stderr",
     "output_type": "stream",
     "text": [
      " 59%|█████▊    | 688/1175 [1:55:19<58:21,  7.19s/it]"
     ]
    },
    {
     "name": "stdout",
     "output_type": "stream",
     "text": [
      "{'loss': 0.0795, 'learning_rate': 2.486808510638298e-05, 'epoch': 14.64}\n"
     ]
    },
    {
     "name": "stderr",
     "output_type": "stream",
     "text": [
      " 59%|█████▊    | 689/1175 [1:55:26<58:18,  7.20s/it]"
     ]
    },
    {
     "name": "stdout",
     "output_type": "stream",
     "text": [
      "{'loss': 0.045, 'learning_rate': 2.4817021276595743e-05, 'epoch': 14.66}\n"
     ]
    },
    {
     "name": "stderr",
     "output_type": "stream",
     "text": [
      " 59%|█████▊    | 690/1175 [1:55:33<58:16,  7.21s/it]"
     ]
    },
    {
     "name": "stdout",
     "output_type": "stream",
     "text": [
      "{'loss': 0.0857, 'learning_rate': 2.476595744680851e-05, 'epoch': 14.68}\n"
     ]
    },
    {
     "name": "stderr",
     "output_type": "stream",
     "text": [
      " 59%|█████▉    | 691/1175 [1:55:41<58:00,  7.19s/it]"
     ]
    },
    {
     "name": "stdout",
     "output_type": "stream",
     "text": [
      "{'loss': 0.0684, 'learning_rate': 2.4714893617021276e-05, 'epoch': 14.7}\n"
     ]
    },
    {
     "name": "stderr",
     "output_type": "stream",
     "text": [
      " 59%|█████▉    | 692/1175 [1:55:48<57:55,  7.20s/it]"
     ]
    },
    {
     "name": "stdout",
     "output_type": "stream",
     "text": [
      "{'loss': 0.0558, 'learning_rate': 2.4663829787234043e-05, 'epoch': 14.72}\n"
     ]
    },
    {
     "name": "stderr",
     "output_type": "stream",
     "text": [
      " 59%|█████▉    | 693/1175 [1:55:55<57:45,  7.19s/it]"
     ]
    },
    {
     "name": "stdout",
     "output_type": "stream",
     "text": [
      "{'loss': 0.1019, 'learning_rate': 2.461276595744681e-05, 'epoch': 14.74}\n"
     ]
    },
    {
     "name": "stderr",
     "output_type": "stream",
     "text": [
      " 59%|█████▉    | 694/1175 [1:56:02<57:39,  7.19s/it]"
     ]
    },
    {
     "name": "stdout",
     "output_type": "stream",
     "text": [
      "{'loss': 0.0488, 'learning_rate': 2.4561702127659576e-05, 'epoch': 14.77}\n"
     ]
    },
    {
     "name": "stderr",
     "output_type": "stream",
     "text": [
      " 59%|█████▉    | 695/1175 [1:56:09<57:29,  7.19s/it]"
     ]
    },
    {
     "name": "stdout",
     "output_type": "stream",
     "text": [
      "{'loss': 0.0413, 'learning_rate': 2.451063829787234e-05, 'epoch': 14.79}\n"
     ]
    },
    {
     "name": "stderr",
     "output_type": "stream",
     "text": [
      " 59%|█████▉    | 696/1175 [1:56:17<57:32,  7.21s/it]"
     ]
    },
    {
     "name": "stdout",
     "output_type": "stream",
     "text": [
      "{'loss': 0.0699, 'learning_rate': 2.4459574468085105e-05, 'epoch': 14.81}\n"
     ]
    },
    {
     "name": "stderr",
     "output_type": "stream",
     "text": [
      " 59%|█████▉    | 697/1175 [1:56:24<57:16,  7.19s/it]"
     ]
    },
    {
     "name": "stdout",
     "output_type": "stream",
     "text": [
      "{'loss': 0.0458, 'learning_rate': 2.4408510638297872e-05, 'epoch': 14.83}\n"
     ]
    },
    {
     "name": "stderr",
     "output_type": "stream",
     "text": [
      " 59%|█████▉    | 698/1175 [1:56:31<57:16,  7.20s/it]"
     ]
    },
    {
     "name": "stdout",
     "output_type": "stream",
     "text": [
      "{'loss': 0.034, 'learning_rate': 2.435744680851064e-05, 'epoch': 14.85}\n"
     ]
    },
    {
     "name": "stderr",
     "output_type": "stream",
     "text": [
      " 59%|█████▉    | 699/1175 [1:56:38<57:04,  7.19s/it]"
     ]
    },
    {
     "name": "stdout",
     "output_type": "stream",
     "text": [
      "{'loss': 0.0371, 'learning_rate': 2.4306382978723405e-05, 'epoch': 14.87}\n"
     ]
    },
    {
     "name": "stderr",
     "output_type": "stream",
     "text": [
      " 60%|█████▉    | 700/1175 [1:56:45<56:50,  7.18s/it]"
     ]
    },
    {
     "name": "stdout",
     "output_type": "stream",
     "text": [
      "{'loss': 0.0682, 'learning_rate': 2.4255319148936168e-05, 'epoch': 14.89}\n"
     ]
    },
    {
     "name": "stderr",
     "output_type": "stream",
     "text": [
      "                                                    \n",
      " 60%|█████▉    | 700/1175 [2:02:19<56:50,  7.18s/it]"
     ]
    },
    {
     "name": "stdout",
     "output_type": "stream",
     "text": [
      "{'eval_loss': 0.03559964522719383, 'eval_mean_iou': 0.6511338922312613, 'eval_mean_accuracy': 0.6859595664361855, 'eval_overall_accuracy': 0.9947252437986177, 'eval_per_category_iou': [0.0, 0.9948152162145201, 0.878013822871291, 0.7317065298392341], 'eval_per_category_accuracy': [0.0, 0.9978870376040312, 0.9165212584005666, 0.829429969740144], 'eval_runtime': 333.7337, 'eval_samples_per_second': 0.695, 'eval_steps_per_second': 0.072, 'epoch': 14.89}\n"
     ]
    },
    {
     "name": "stderr",
     "output_type": "stream",
     "text": [
      " 60%|█████▉    | 701/1175 [2:02:27<14:09:03, 107.48s/it]"
     ]
    },
    {
     "name": "stdout",
     "output_type": "stream",
     "text": [
      "{'loss': 0.061, 'learning_rate': 2.4204255319148935e-05, 'epoch': 14.91}\n"
     ]
    },
    {
     "name": "stderr",
     "output_type": "stream",
     "text": [
      " 60%|█████▉    | 702/1175 [2:02:34<10:10:04, 77.39s/it] "
     ]
    },
    {
     "name": "stdout",
     "output_type": "stream",
     "text": [
      "{'loss': 0.0586, 'learning_rate': 2.41531914893617e-05, 'epoch': 14.94}\n"
     ]
    },
    {
     "name": "stderr",
     "output_type": "stream",
     "text": [
      " 60%|█████▉    | 703/1175 [2:02:41<7:23:03, 56.32s/it] "
     ]
    },
    {
     "name": "stdout",
     "output_type": "stream",
     "text": [
      "{'loss': 0.175, 'learning_rate': 2.4102127659574468e-05, 'epoch': 14.96}\n"
     ]
    },
    {
     "name": "stderr",
     "output_type": "stream",
     "text": [
      " 60%|█████▉    | 704/1175 [2:02:48<5:25:34, 41.47s/it]"
     ]
    },
    {
     "name": "stdout",
     "output_type": "stream",
     "text": [
      "{'loss': 0.0504, 'learning_rate': 2.4051063829787234e-05, 'epoch': 14.98}\n"
     ]
    },
    {
     "name": "stderr",
     "output_type": "stream",
     "text": [
      " 60%|██████    | 705/1175 [2:02:52<3:56:27, 30.19s/it]"
     ]
    },
    {
     "name": "stdout",
     "output_type": "stream",
     "text": [
      "{'loss': 0.0692, 'learning_rate': 2.4e-05, 'epoch': 15.0}\n"
     ]
    },
    {
     "name": "stderr",
     "output_type": "stream",
     "text": [
      " 60%|██████    | 706/1175 [2:03:00<3:04:45, 23.64s/it]"
     ]
    },
    {
     "name": "stdout",
     "output_type": "stream",
     "text": [
      "{'loss': 0.0362, 'learning_rate': 2.3948936170212764e-05, 'epoch': 15.02}\n"
     ]
    },
    {
     "name": "stderr",
     "output_type": "stream",
     "text": [
      " 60%|██████    | 707/1175 [2:03:07<2:25:48, 18.69s/it]"
     ]
    },
    {
     "name": "stdout",
     "output_type": "stream",
     "text": [
      "{'loss': 0.0458, 'learning_rate': 2.389787234042553e-05, 'epoch': 15.04}\n"
     ]
    },
    {
     "name": "stderr",
     "output_type": "stream",
     "text": [
      " 60%|██████    | 708/1175 [2:03:15<1:58:45, 15.26s/it]"
     ]
    },
    {
     "name": "stdout",
     "output_type": "stream",
     "text": [
      "{'loss': 0.0539, 'learning_rate': 2.3846808510638297e-05, 'epoch': 15.06}\n"
     ]
    },
    {
     "name": "stderr",
     "output_type": "stream",
     "text": [
      " 60%|██████    | 709/1175 [2:03:22<1:39:34, 12.82s/it]"
     ]
    },
    {
     "name": "stdout",
     "output_type": "stream",
     "text": [
      "{'loss': 0.0457, 'learning_rate': 2.3795744680851063e-05, 'epoch': 15.09}\n"
     ]
    },
    {
     "name": "stderr",
     "output_type": "stream",
     "text": [
      " 60%|██████    | 710/1175 [2:03:29<1:26:20, 11.14s/it]"
     ]
    },
    {
     "name": "stdout",
     "output_type": "stream",
     "text": [
      "{'loss': 0.0813, 'learning_rate': 2.374468085106383e-05, 'epoch': 15.11}\n"
     ]
    },
    {
     "name": "stderr",
     "output_type": "stream",
     "text": [
      " 61%|██████    | 711/1175 [2:03:36<1:16:58,  9.95s/it]"
     ]
    },
    {
     "name": "stdout",
     "output_type": "stream",
     "text": [
      "{'loss': 0.0907, 'learning_rate': 2.3693617021276596e-05, 'epoch': 15.13}\n"
     ]
    },
    {
     "name": "stderr",
     "output_type": "stream",
     "text": [
      " 61%|██████    | 712/1175 [2:03:43<1:10:33,  9.14s/it]"
     ]
    },
    {
     "name": "stdout",
     "output_type": "stream",
     "text": [
      "{'loss': 0.0562, 'learning_rate': 2.364255319148936e-05, 'epoch': 15.15}\n"
     ]
    },
    {
     "name": "stderr",
     "output_type": "stream",
     "text": [
      " 61%|██████    | 713/1175 [2:03:50<1:05:46,  8.54s/it]"
     ]
    },
    {
     "name": "stdout",
     "output_type": "stream",
     "text": [
      "{'loss': 0.053, 'learning_rate': 2.3591489361702126e-05, 'epoch': 15.17}\n"
     ]
    },
    {
     "name": "stderr",
     "output_type": "stream",
     "text": [
      " 61%|██████    | 714/1175 [2:03:58<1:02:31,  8.14s/it]"
     ]
    },
    {
     "name": "stdout",
     "output_type": "stream",
     "text": [
      "{'loss': 0.1121, 'learning_rate': 2.3540425531914896e-05, 'epoch': 15.19}\n"
     ]
    },
    {
     "name": "stderr",
     "output_type": "stream",
     "text": [
      " 61%|██████    | 715/1175 [2:04:05<1:00:15,  7.86s/it]"
     ]
    },
    {
     "name": "stdout",
     "output_type": "stream",
     "text": [
      "{'loss': 0.2104, 'learning_rate': 2.3489361702127662e-05, 'epoch': 15.21}\n"
     ]
    },
    {
     "name": "stderr",
     "output_type": "stream",
     "text": [
      " 61%|██████    | 716/1175 [2:04:12<58:42,  7.67s/it]  "
     ]
    },
    {
     "name": "stdout",
     "output_type": "stream",
     "text": [
      "{'loss': 0.1187, 'learning_rate': 2.343829787234043e-05, 'epoch': 15.23}\n"
     ]
    },
    {
     "name": "stderr",
     "output_type": "stream",
     "text": [
      " 61%|██████    | 717/1175 [2:04:19<57:22,  7.52s/it]"
     ]
    },
    {
     "name": "stdout",
     "output_type": "stream",
     "text": [
      "{'loss': 0.0372, 'learning_rate': 2.3387234042553192e-05, 'epoch': 15.26}\n"
     ]
    },
    {
     "name": "stderr",
     "output_type": "stream",
     "text": [
      " 61%|██████    | 718/1175 [2:04:26<56:37,  7.44s/it]"
     ]
    },
    {
     "name": "stdout",
     "output_type": "stream",
     "text": [
      "{'loss': 0.1166, 'learning_rate': 2.333617021276596e-05, 'epoch': 15.28}\n"
     ]
    },
    {
     "name": "stderr",
     "output_type": "stream",
     "text": [
      " 61%|██████    | 719/1175 [2:04:34<55:59,  7.37s/it]"
     ]
    },
    {
     "name": "stdout",
     "output_type": "stream",
     "text": [
      "{'loss': 0.0871, 'learning_rate': 2.3285106382978725e-05, 'epoch': 15.3}\n"
     ]
    },
    {
     "name": "stderr",
     "output_type": "stream",
     "text": [
      " 61%|██████▏   | 720/1175 [2:04:41<55:36,  7.33s/it]"
     ]
    },
    {
     "name": "stdout",
     "output_type": "stream",
     "text": [
      "{'loss': 0.3255, 'learning_rate': 2.323404255319149e-05, 'epoch': 15.32}\n"
     ]
    },
    {
     "name": "stderr",
     "output_type": "stream",
     "text": [
      " 61%|██████▏   | 721/1175 [2:04:48<55:04,  7.28s/it]"
     ]
    },
    {
     "name": "stdout",
     "output_type": "stream",
     "text": [
      "{'loss': 0.0494, 'learning_rate': 2.3182978723404258e-05, 'epoch': 15.34}\n"
     ]
    },
    {
     "name": "stderr",
     "output_type": "stream",
     "text": [
      " 61%|██████▏   | 722/1175 [2:04:55<54:54,  7.27s/it]"
     ]
    },
    {
     "name": "stdout",
     "output_type": "stream",
     "text": [
      "{'loss': 0.0363, 'learning_rate': 2.3131914893617025e-05, 'epoch': 15.36}\n"
     ]
    },
    {
     "name": "stderr",
     "output_type": "stream",
     "text": [
      " 62%|██████▏   | 723/1175 [2:05:02<54:31,  7.24s/it]"
     ]
    },
    {
     "name": "stdout",
     "output_type": "stream",
     "text": [
      "{'loss': 0.077, 'learning_rate': 2.3080851063829788e-05, 'epoch': 15.38}\n"
     ]
    },
    {
     "name": "stderr",
     "output_type": "stream",
     "text": [
      " 62%|██████▏   | 724/1175 [2:05:10<54:20,  7.23s/it]"
     ]
    },
    {
     "name": "stdout",
     "output_type": "stream",
     "text": [
      "{'loss': 0.043, 'learning_rate': 2.3029787234042554e-05, 'epoch': 15.4}\n"
     ]
    },
    {
     "name": "stderr",
     "output_type": "stream",
     "text": [
      " 62%|██████▏   | 725/1175 [2:05:17<54:02,  7.20s/it]"
     ]
    },
    {
     "name": "stdout",
     "output_type": "stream",
     "text": [
      "{'loss': 0.0601, 'learning_rate': 2.297872340425532e-05, 'epoch': 15.43}\n"
     ]
    },
    {
     "name": "stderr",
     "output_type": "stream",
     "text": [
      " 62%|██████▏   | 726/1175 [2:05:24<54:06,  7.23s/it]"
     ]
    },
    {
     "name": "stdout",
     "output_type": "stream",
     "text": [
      "{'loss': 0.0363, 'learning_rate': 2.2927659574468087e-05, 'epoch': 15.45}\n"
     ]
    },
    {
     "name": "stderr",
     "output_type": "stream",
     "text": [
      " 62%|██████▏   | 727/1175 [2:05:31<53:47,  7.20s/it]"
     ]
    },
    {
     "name": "stdout",
     "output_type": "stream",
     "text": [
      "{'loss': 0.0409, 'learning_rate': 2.2876595744680854e-05, 'epoch': 15.47}\n"
     ]
    },
    {
     "name": "stderr",
     "output_type": "stream",
     "text": [
      " 62%|██████▏   | 728/1175 [2:05:38<53:39,  7.20s/it]"
     ]
    },
    {
     "name": "stdout",
     "output_type": "stream",
     "text": [
      "{'loss': 0.0406, 'learning_rate': 2.282553191489362e-05, 'epoch': 15.49}\n"
     ]
    },
    {
     "name": "stderr",
     "output_type": "stream",
     "text": [
      " 62%|██████▏   | 729/1175 [2:05:46<53:25,  7.19s/it]"
     ]
    },
    {
     "name": "stdout",
     "output_type": "stream",
     "text": [
      "{'loss': 0.0693, 'learning_rate': 2.2774468085106383e-05, 'epoch': 15.51}\n"
     ]
    },
    {
     "name": "stderr",
     "output_type": "stream",
     "text": [
      " 62%|██████▏   | 730/1175 [2:05:53<53:22,  7.20s/it]"
     ]
    },
    {
     "name": "stdout",
     "output_type": "stream",
     "text": [
      "{'loss': 0.0477, 'learning_rate': 2.272340425531915e-05, 'epoch': 15.53}\n"
     ]
    },
    {
     "name": "stderr",
     "output_type": "stream",
     "text": [
      " 62%|██████▏   | 731/1175 [2:06:00<53:09,  7.18s/it]"
     ]
    },
    {
     "name": "stdout",
     "output_type": "stream",
     "text": [
      "{'loss': 0.0661, 'learning_rate': 2.2672340425531917e-05, 'epoch': 15.55}\n"
     ]
    },
    {
     "name": "stderr",
     "output_type": "stream",
     "text": [
      " 62%|██████▏   | 732/1175 [2:06:07<53:04,  7.19s/it]"
     ]
    },
    {
     "name": "stdout",
     "output_type": "stream",
     "text": [
      "{'loss': 0.0326, 'learning_rate': 2.2621276595744683e-05, 'epoch': 15.57}\n"
     ]
    },
    {
     "name": "stderr",
     "output_type": "stream",
     "text": [
      " 62%|██████▏   | 733/1175 [2:06:14<52:57,  7.19s/it]"
     ]
    },
    {
     "name": "stdout",
     "output_type": "stream",
     "text": [
      "{'loss': 0.045, 'learning_rate': 2.257021276595745e-05, 'epoch': 15.6}\n"
     ]
    },
    {
     "name": "stderr",
     "output_type": "stream",
     "text": [
      " 62%|██████▏   | 734/1175 [2:06:22<52:57,  7.20s/it]"
     ]
    },
    {
     "name": "stdout",
     "output_type": "stream",
     "text": [
      "{'loss': 0.0707, 'learning_rate': 2.2519148936170213e-05, 'epoch': 15.62}\n"
     ]
    },
    {
     "name": "stderr",
     "output_type": "stream",
     "text": [
      " 63%|██████▎   | 735/1175 [2:06:29<52:44,  7.19s/it]"
     ]
    },
    {
     "name": "stdout",
     "output_type": "stream",
     "text": [
      "{'loss': 0.165, 'learning_rate': 2.246808510638298e-05, 'epoch': 15.64}\n"
     ]
    },
    {
     "name": "stderr",
     "output_type": "stream",
     "text": [
      " 63%|██████▎   | 736/1175 [2:06:36<52:46,  7.21s/it]"
     ]
    },
    {
     "name": "stdout",
     "output_type": "stream",
     "text": [
      "{'loss': 0.0426, 'learning_rate': 2.2417021276595746e-05, 'epoch': 15.66}\n"
     ]
    },
    {
     "name": "stderr",
     "output_type": "stream",
     "text": [
      " 63%|██████▎   | 737/1175 [2:06:43<52:39,  7.21s/it]"
     ]
    },
    {
     "name": "stdout",
     "output_type": "stream",
     "text": [
      "{'loss': 0.0726, 'learning_rate': 2.2365957446808512e-05, 'epoch': 15.68}\n"
     ]
    },
    {
     "name": "stderr",
     "output_type": "stream",
     "text": [
      " 63%|██████▎   | 738/1175 [2:06:50<52:26,  7.20s/it]"
     ]
    },
    {
     "name": "stdout",
     "output_type": "stream",
     "text": [
      "{'loss': 0.05, 'learning_rate': 2.231489361702128e-05, 'epoch': 15.7}\n"
     ]
    },
    {
     "name": "stderr",
     "output_type": "stream",
     "text": [
      " 63%|██████▎   | 739/1175 [2:06:58<52:26,  7.22s/it]"
     ]
    },
    {
     "name": "stdout",
     "output_type": "stream",
     "text": [
      "{'loss': 0.0479, 'learning_rate': 2.2263829787234045e-05, 'epoch': 15.72}\n"
     ]
    },
    {
     "name": "stderr",
     "output_type": "stream",
     "text": [
      " 63%|██████▎   | 740/1175 [2:07:05<52:08,  7.19s/it]"
     ]
    },
    {
     "name": "stdout",
     "output_type": "stream",
     "text": [
      "{'loss': 0.0709, 'learning_rate': 2.221276595744681e-05, 'epoch': 15.74}\n"
     ]
    },
    {
     "name": "stderr",
     "output_type": "stream",
     "text": [
      " 63%|██████▎   | 741/1175 [2:07:12<52:06,  7.20s/it]"
     ]
    },
    {
     "name": "stdout",
     "output_type": "stream",
     "text": [
      "{'loss': 0.041, 'learning_rate': 2.2161702127659575e-05, 'epoch': 15.77}\n"
     ]
    },
    {
     "name": "stderr",
     "output_type": "stream",
     "text": [
      " 63%|██████▎   | 742/1175 [2:07:19<51:56,  7.20s/it]"
     ]
    },
    {
     "name": "stdout",
     "output_type": "stream",
     "text": [
      "{'loss': 0.0596, 'learning_rate': 2.211063829787234e-05, 'epoch': 15.79}\n"
     ]
    },
    {
     "name": "stderr",
     "output_type": "stream",
     "text": [
      " 63%|██████▎   | 743/1175 [2:07:26<51:45,  7.19s/it]"
     ]
    },
    {
     "name": "stdout",
     "output_type": "stream",
     "text": [
      "{'loss': 0.0794, 'learning_rate': 2.2059574468085108e-05, 'epoch': 15.81}\n"
     ]
    },
    {
     "name": "stderr",
     "output_type": "stream",
     "text": [
      " 63%|██████▎   | 744/1175 [2:07:34<51:35,  7.18s/it]"
     ]
    },
    {
     "name": "stdout",
     "output_type": "stream",
     "text": [
      "{'loss': 0.1563, 'learning_rate': 2.2008510638297874e-05, 'epoch': 15.83}\n"
     ]
    },
    {
     "name": "stderr",
     "output_type": "stream",
     "text": [
      " 63%|██████▎   | 745/1175 [2:07:41<51:30,  7.19s/it]"
     ]
    },
    {
     "name": "stdout",
     "output_type": "stream",
     "text": [
      "{'loss': 0.0935, 'learning_rate': 2.1957446808510638e-05, 'epoch': 15.85}\n"
     ]
    },
    {
     "name": "stderr",
     "output_type": "stream",
     "text": [
      " 63%|██████▎   | 746/1175 [2:07:48<51:22,  7.18s/it]"
     ]
    },
    {
     "name": "stdout",
     "output_type": "stream",
     "text": [
      "{'loss': 0.0555, 'learning_rate': 2.1906382978723404e-05, 'epoch': 15.87}\n"
     ]
    },
    {
     "name": "stderr",
     "output_type": "stream",
     "text": [
      " 64%|██████▎   | 747/1175 [2:07:55<51:23,  7.21s/it]"
     ]
    },
    {
     "name": "stdout",
     "output_type": "stream",
     "text": [
      "{'loss': 0.0551, 'learning_rate': 2.185531914893617e-05, 'epoch': 15.89}\n"
     ]
    },
    {
     "name": "stderr",
     "output_type": "stream",
     "text": [
      " 64%|██████▎   | 748/1175 [2:08:02<51:09,  7.19s/it]"
     ]
    },
    {
     "name": "stdout",
     "output_type": "stream",
     "text": [
      "{'loss': 0.051, 'learning_rate': 2.1804255319148937e-05, 'epoch': 15.91}\n"
     ]
    },
    {
     "name": "stderr",
     "output_type": "stream",
     "text": [
      " 64%|██████▎   | 749/1175 [2:08:10<51:07,  7.20s/it]"
     ]
    },
    {
     "name": "stdout",
     "output_type": "stream",
     "text": [
      "{'loss': 0.0626, 'learning_rate': 2.1753191489361704e-05, 'epoch': 15.94}\n"
     ]
    },
    {
     "name": "stderr",
     "output_type": "stream",
     "text": [
      " 64%|██████▍   | 750/1175 [2:08:17<51:01,  7.20s/it]"
     ]
    },
    {
     "name": "stdout",
     "output_type": "stream",
     "text": [
      "{'loss': 0.1259, 'learning_rate': 2.170212765957447e-05, 'epoch': 15.96}\n"
     ]
    },
    {
     "name": "stderr",
     "output_type": "stream",
     "text": [
      " 64%|██████▍   | 751/1175 [2:08:24<50:01,  7.08s/it]"
     ]
    },
    {
     "name": "stdout",
     "output_type": "stream",
     "text": [
      "{'loss': 0.0739, 'learning_rate': 2.1651063829787233e-05, 'epoch': 15.98}\n"
     ]
    },
    {
     "name": "stderr",
     "output_type": "stream",
     "text": [
      " 64%|██████▍   | 752/1175 [2:08:27<43:08,  6.12s/it]"
     ]
    },
    {
     "name": "stdout",
     "output_type": "stream",
     "text": [
      "{'loss': 0.0386, 'learning_rate': 2.16e-05, 'epoch': 16.0}\n"
     ]
    },
    {
     "name": "stderr",
     "output_type": "stream",
     "text": [
      " 64%|██████▍   | 753/1175 [2:08:36<48:08,  6.84s/it]"
     ]
    },
    {
     "name": "stdout",
     "output_type": "stream",
     "text": [
      "{'loss': 0.0608, 'learning_rate': 2.1548936170212766e-05, 'epoch': 16.02}\n"
     ]
    },
    {
     "name": "stderr",
     "output_type": "stream",
     "text": [
      " 64%|██████▍   | 754/1175 [2:08:43<48:27,  6.91s/it]"
     ]
    },
    {
     "name": "stdout",
     "output_type": "stream",
     "text": [
      "{'loss': 0.0943, 'learning_rate': 2.1497872340425533e-05, 'epoch': 16.04}\n"
     ]
    },
    {
     "name": "stderr",
     "output_type": "stream",
     "text": [
      " 64%|██████▍   | 755/1175 [2:08:50<49:04,  7.01s/it]"
     ]
    },
    {
     "name": "stdout",
     "output_type": "stream",
     "text": [
      "{'loss': 0.0527, 'learning_rate': 2.14468085106383e-05, 'epoch': 16.06}\n"
     ]
    },
    {
     "name": "stderr",
     "output_type": "stream",
     "text": [
      " 64%|██████▍   | 756/1175 [2:08:58<49:21,  7.07s/it]"
     ]
    },
    {
     "name": "stdout",
     "output_type": "stream",
     "text": [
      "{'loss': 0.0729, 'learning_rate': 2.1395744680851066e-05, 'epoch': 16.09}\n"
     ]
    },
    {
     "name": "stderr",
     "output_type": "stream",
     "text": [
      " 64%|██████▍   | 757/1175 [2:09:05<49:37,  7.12s/it]"
     ]
    },
    {
     "name": "stdout",
     "output_type": "stream",
     "text": [
      "{'loss': 0.0536, 'learning_rate': 2.134468085106383e-05, 'epoch': 16.11}\n"
     ]
    },
    {
     "name": "stderr",
     "output_type": "stream",
     "text": [
      " 65%|██████▍   | 758/1175 [2:09:12<49:35,  7.14s/it]"
     ]
    },
    {
     "name": "stdout",
     "output_type": "stream",
     "text": [
      "{'loss': 0.0501, 'learning_rate': 2.1293617021276596e-05, 'epoch': 16.13}\n"
     ]
    },
    {
     "name": "stderr",
     "output_type": "stream",
     "text": [
      " 65%|██████▍   | 759/1175 [2:09:19<49:35,  7.15s/it]"
     ]
    },
    {
     "name": "stdout",
     "output_type": "stream",
     "text": [
      "{'loss': 0.0626, 'learning_rate': 2.1242553191489362e-05, 'epoch': 16.15}\n"
     ]
    },
    {
     "name": "stderr",
     "output_type": "stream",
     "text": [
      " 65%|██████▍   | 760/1175 [2:09:26<49:28,  7.15s/it]"
     ]
    },
    {
     "name": "stdout",
     "output_type": "stream",
     "text": [
      "{'loss': 0.0368, 'learning_rate': 2.119148936170213e-05, 'epoch': 16.17}\n"
     ]
    },
    {
     "name": "stderr",
     "output_type": "stream",
     "text": [
      " 65%|██████▍   | 761/1175 [2:09:34<49:32,  7.18s/it]"
     ]
    },
    {
     "name": "stdout",
     "output_type": "stream",
     "text": [
      "{'loss': 0.0436, 'learning_rate': 2.1140425531914895e-05, 'epoch': 16.19}\n"
     ]
    },
    {
     "name": "stderr",
     "output_type": "stream",
     "text": [
      " 65%|██████▍   | 762/1175 [2:09:41<49:31,  7.19s/it]"
     ]
    },
    {
     "name": "stdout",
     "output_type": "stream",
     "text": [
      "{'loss': 0.0555, 'learning_rate': 2.1089361702127658e-05, 'epoch': 16.21}\n"
     ]
    },
    {
     "name": "stderr",
     "output_type": "stream",
     "text": [
      " 65%|██████▍   | 763/1175 [2:09:48<49:28,  7.21s/it]"
     ]
    },
    {
     "name": "stdout",
     "output_type": "stream",
     "text": [
      "{'loss': 0.0807, 'learning_rate': 2.1038297872340425e-05, 'epoch': 16.23}\n"
     ]
    },
    {
     "name": "stderr",
     "output_type": "stream",
     "text": [
      " 65%|██████▌   | 764/1175 [2:09:55<49:20,  7.20s/it]"
     ]
    },
    {
     "name": "stdout",
     "output_type": "stream",
     "text": [
      "{'loss': 0.0636, 'learning_rate': 2.098723404255319e-05, 'epoch': 16.26}\n"
     ]
    },
    {
     "name": "stderr",
     "output_type": "stream",
     "text": [
      " 65%|██████▌   | 765/1175 [2:10:02<49:10,  7.20s/it]"
     ]
    },
    {
     "name": "stdout",
     "output_type": "stream",
     "text": [
      "{'loss': 0.0439, 'learning_rate': 2.0936170212765958e-05, 'epoch': 16.28}\n"
     ]
    },
    {
     "name": "stderr",
     "output_type": "stream",
     "text": [
      " 65%|██████▌   | 766/1175 [2:10:10<48:58,  7.19s/it]"
     ]
    },
    {
     "name": "stdout",
     "output_type": "stream",
     "text": [
      "{'loss': 0.0816, 'learning_rate': 2.0885106382978724e-05, 'epoch': 16.3}\n"
     ]
    },
    {
     "name": "stderr",
     "output_type": "stream",
     "text": [
      " 65%|██████▌   | 767/1175 [2:10:17<48:57,  7.20s/it]"
     ]
    },
    {
     "name": "stdout",
     "output_type": "stream",
     "text": [
      "{'loss': 0.0418, 'learning_rate': 2.083404255319149e-05, 'epoch': 16.32}\n"
     ]
    },
    {
     "name": "stderr",
     "output_type": "stream",
     "text": [
      " 65%|██████▌   | 768/1175 [2:10:24<48:54,  7.21s/it]"
     ]
    },
    {
     "name": "stdout",
     "output_type": "stream",
     "text": [
      "{'loss': 0.0689, 'learning_rate': 2.0782978723404254e-05, 'epoch': 16.34}\n"
     ]
    },
    {
     "name": "stderr",
     "output_type": "stream",
     "text": [
      " 65%|██████▌   | 769/1175 [2:10:31<48:51,  7.22s/it]"
     ]
    },
    {
     "name": "stdout",
     "output_type": "stream",
     "text": [
      "{'loss': 0.0452, 'learning_rate': 2.073191489361702e-05, 'epoch': 16.36}\n"
     ]
    },
    {
     "name": "stderr",
     "output_type": "stream",
     "text": [
      " 66%|██████▌   | 770/1175 [2:10:38<48:40,  7.21s/it]"
     ]
    },
    {
     "name": "stdout",
     "output_type": "stream",
     "text": [
      "{'loss': 0.0447, 'learning_rate': 2.0680851063829787e-05, 'epoch': 16.38}\n"
     ]
    },
    {
     "name": "stderr",
     "output_type": "stream",
     "text": [
      " 66%|██████▌   | 771/1175 [2:10:46<48:39,  7.23s/it]"
     ]
    },
    {
     "name": "stdout",
     "output_type": "stream",
     "text": [
      "{'loss': 0.2187, 'learning_rate': 2.0629787234042554e-05, 'epoch': 16.4}\n"
     ]
    },
    {
     "name": "stderr",
     "output_type": "stream",
     "text": [
      " 66%|██████▌   | 772/1175 [2:10:53<48:27,  7.22s/it]"
     ]
    },
    {
     "name": "stdout",
     "output_type": "stream",
     "text": [
      "{'loss': 0.0342, 'learning_rate': 2.057872340425532e-05, 'epoch': 16.43}\n"
     ]
    },
    {
     "name": "stderr",
     "output_type": "stream",
     "text": [
      " 66%|██████▌   | 773/1175 [2:11:00<48:21,  7.22s/it]"
     ]
    },
    {
     "name": "stdout",
     "output_type": "stream",
     "text": [
      "{'loss': 0.129, 'learning_rate': 2.0527659574468087e-05, 'epoch': 16.45}\n"
     ]
    },
    {
     "name": "stderr",
     "output_type": "stream",
     "text": [
      " 66%|██████▌   | 774/1175 [2:11:07<48:13,  7.22s/it]"
     ]
    },
    {
     "name": "stdout",
     "output_type": "stream",
     "text": [
      "{'loss': 0.0358, 'learning_rate': 2.047659574468085e-05, 'epoch': 16.47}\n"
     ]
    },
    {
     "name": "stderr",
     "output_type": "stream",
     "text": [
      " 66%|██████▌   | 775/1175 [2:11:15<48:03,  7.21s/it]"
     ]
    },
    {
     "name": "stdout",
     "output_type": "stream",
     "text": [
      "{'loss': 0.0409, 'learning_rate': 2.0425531914893616e-05, 'epoch': 16.49}\n"
     ]
    },
    {
     "name": "stderr",
     "output_type": "stream",
     "text": [
      " 66%|██████▌   | 776/1175 [2:11:22<47:51,  7.20s/it]"
     ]
    },
    {
     "name": "stdout",
     "output_type": "stream",
     "text": [
      "{'loss': 0.0472, 'learning_rate': 2.0374468085106383e-05, 'epoch': 16.51}\n"
     ]
    },
    {
     "name": "stderr",
     "output_type": "stream",
     "text": [
      " 66%|██████▌   | 777/1175 [2:11:29<47:51,  7.21s/it]"
     ]
    },
    {
     "name": "stdout",
     "output_type": "stream",
     "text": [
      "{'loss': 0.0585, 'learning_rate': 2.032340425531915e-05, 'epoch': 16.53}\n"
     ]
    },
    {
     "name": "stderr",
     "output_type": "stream",
     "text": [
      " 66%|██████▌   | 778/1175 [2:11:36<47:42,  7.21s/it]"
     ]
    },
    {
     "name": "stdout",
     "output_type": "stream",
     "text": [
      "{'loss': 0.0648, 'learning_rate': 2.0272340425531916e-05, 'epoch': 16.55}\n"
     ]
    },
    {
     "name": "stderr",
     "output_type": "stream",
     "text": [
      " 66%|██████▋   | 779/1175 [2:11:43<47:28,  7.19s/it]"
     ]
    },
    {
     "name": "stdout",
     "output_type": "stream",
     "text": [
      "{'loss': 0.0395, 'learning_rate': 2.022127659574468e-05, 'epoch': 16.57}\n"
     ]
    },
    {
     "name": "stderr",
     "output_type": "stream",
     "text": [
      " 66%|██████▋   | 780/1175 [2:11:51<47:37,  7.23s/it]"
     ]
    },
    {
     "name": "stdout",
     "output_type": "stream",
     "text": [
      "{'loss': 0.0368, 'learning_rate': 2.0170212765957445e-05, 'epoch': 16.6}\n"
     ]
    },
    {
     "name": "stderr",
     "output_type": "stream",
     "text": [
      " 66%|██████▋   | 781/1175 [2:11:58<47:22,  7.21s/it]"
     ]
    },
    {
     "name": "stdout",
     "output_type": "stream",
     "text": [
      "{'loss': 0.0459, 'learning_rate': 2.0119148936170212e-05, 'epoch': 16.62}\n"
     ]
    },
    {
     "name": "stderr",
     "output_type": "stream",
     "text": [
      " 67%|██████▋   | 782/1175 [2:12:05<47:19,  7.22s/it]"
     ]
    },
    {
     "name": "stdout",
     "output_type": "stream",
     "text": [
      "{'loss': 0.0451, 'learning_rate': 2.006808510638298e-05, 'epoch': 16.64}\n"
     ]
    },
    {
     "name": "stderr",
     "output_type": "stream",
     "text": [
      " 67%|██████▋   | 783/1175 [2:12:12<47:03,  7.20s/it]"
     ]
    },
    {
     "name": "stdout",
     "output_type": "stream",
     "text": [
      "{'loss': 0.0296, 'learning_rate': 2.0017021276595745e-05, 'epoch': 16.66}\n"
     ]
    },
    {
     "name": "stderr",
     "output_type": "stream",
     "text": [
      " 67%|██████▋   | 784/1175 [2:12:19<46:59,  7.21s/it]"
     ]
    },
    {
     "name": "stdout",
     "output_type": "stream",
     "text": [
      "{'loss': 0.1279, 'learning_rate': 1.996595744680851e-05, 'epoch': 16.68}\n"
     ]
    },
    {
     "name": "stderr",
     "output_type": "stream",
     "text": [
      " 67%|██████▋   | 785/1175 [2:12:27<46:52,  7.21s/it]"
     ]
    },
    {
     "name": "stdout",
     "output_type": "stream",
     "text": [
      "{'loss': 0.0457, 'learning_rate': 1.9914893617021275e-05, 'epoch': 16.7}\n"
     ]
    },
    {
     "name": "stderr",
     "output_type": "stream",
     "text": [
      " 67%|██████▋   | 786/1175 [2:12:34<46:49,  7.22s/it]"
     ]
    },
    {
     "name": "stdout",
     "output_type": "stream",
     "text": [
      "{'loss': 0.0305, 'learning_rate': 1.986382978723404e-05, 'epoch': 16.72}\n"
     ]
    },
    {
     "name": "stderr",
     "output_type": "stream",
     "text": [
      " 67%|██████▋   | 787/1175 [2:12:41<46:33,  7.20s/it]"
     ]
    },
    {
     "name": "stdout",
     "output_type": "stream",
     "text": [
      "{'loss': 0.0442, 'learning_rate': 1.9812765957446808e-05, 'epoch': 16.74}\n"
     ]
    },
    {
     "name": "stderr",
     "output_type": "stream",
     "text": [
      " 67%|██████▋   | 788/1175 [2:12:48<46:29,  7.21s/it]"
     ]
    },
    {
     "name": "stdout",
     "output_type": "stream",
     "text": [
      "{'loss': 0.0389, 'learning_rate': 1.9761702127659574e-05, 'epoch': 16.77}\n"
     ]
    },
    {
     "name": "stderr",
     "output_type": "stream",
     "text": [
      " 67%|██████▋   | 789/1175 [2:12:55<46:15,  7.19s/it]"
     ]
    },
    {
     "name": "stdout",
     "output_type": "stream",
     "text": [
      "{'loss': 0.055, 'learning_rate': 1.971063829787234e-05, 'epoch': 16.79}\n"
     ]
    },
    {
     "name": "stderr",
     "output_type": "stream",
     "text": [
      " 67%|██████▋   | 790/1175 [2:13:03<46:11,  7.20s/it]"
     ]
    },
    {
     "name": "stdout",
     "output_type": "stream",
     "text": [
      "{'loss': 0.0383, 'learning_rate': 1.9659574468085104e-05, 'epoch': 16.81}\n"
     ]
    },
    {
     "name": "stderr",
     "output_type": "stream",
     "text": [
      " 67%|██████▋   | 791/1175 [2:13:10<46:03,  7.20s/it]"
     ]
    },
    {
     "name": "stdout",
     "output_type": "stream",
     "text": [
      "{'loss': 0.1194, 'learning_rate': 1.960851063829787e-05, 'epoch': 16.83}\n"
     ]
    },
    {
     "name": "stderr",
     "output_type": "stream",
     "text": [
      " 67%|██████▋   | 792/1175 [2:13:17<46:01,  7.21s/it]"
     ]
    },
    {
     "name": "stdout",
     "output_type": "stream",
     "text": [
      "{'loss': 0.1343, 'learning_rate': 1.9557446808510637e-05, 'epoch': 16.85}\n"
     ]
    },
    {
     "name": "stderr",
     "output_type": "stream",
     "text": [
      " 67%|██████▋   | 793/1175 [2:13:24<45:49,  7.20s/it]"
     ]
    },
    {
     "name": "stdout",
     "output_type": "stream",
     "text": [
      "{'loss': 0.0479, 'learning_rate': 1.9506382978723403e-05, 'epoch': 16.87}\n"
     ]
    },
    {
     "name": "stderr",
     "output_type": "stream",
     "text": [
      " 68%|██████▊   | 794/1175 [2:13:31<45:45,  7.21s/it]"
     ]
    },
    {
     "name": "stdout",
     "output_type": "stream",
     "text": [
      "{'loss': 0.0806, 'learning_rate': 1.945531914893617e-05, 'epoch': 16.89}\n"
     ]
    },
    {
     "name": "stderr",
     "output_type": "stream",
     "text": [
      " 68%|██████▊   | 795/1175 [2:13:39<45:36,  7.20s/it]"
     ]
    },
    {
     "name": "stdout",
     "output_type": "stream",
     "text": [
      "{'loss': 0.0334, 'learning_rate': 1.9404255319148936e-05, 'epoch': 16.91}\n"
     ]
    },
    {
     "name": "stderr",
     "output_type": "stream",
     "text": [
      " 68%|██████▊   | 796/1175 [2:13:46<45:29,  7.20s/it]"
     ]
    },
    {
     "name": "stdout",
     "output_type": "stream",
     "text": [
      "{'loss': 0.0691, 'learning_rate': 1.93531914893617e-05, 'epoch': 16.94}\n"
     ]
    },
    {
     "name": "stderr",
     "output_type": "stream",
     "text": [
      " 68%|██████▊   | 797/1175 [2:13:53<45:17,  7.19s/it]"
     ]
    },
    {
     "name": "stdout",
     "output_type": "stream",
     "text": [
      "{'loss': 0.0565, 'learning_rate': 1.930212765957447e-05, 'epoch': 16.96}\n"
     ]
    },
    {
     "name": "stderr",
     "output_type": "stream",
     "text": [
      " 68%|██████▊   | 798/1175 [2:14:00<44:31,  7.09s/it]"
     ]
    },
    {
     "name": "stdout",
     "output_type": "stream",
     "text": [
      "{'loss': 0.0389, 'learning_rate': 1.9251063829787236e-05, 'epoch': 16.98}\n"
     ]
    },
    {
     "name": "stderr",
     "output_type": "stream",
     "text": [
      " 68%|██████▊   | 799/1175 [2:14:04<38:21,  6.12s/it]"
     ]
    },
    {
     "name": "stdout",
     "output_type": "stream",
     "text": [
      "{'loss': 0.0507, 'learning_rate': 1.9200000000000003e-05, 'epoch': 17.0}\n"
     ]
    },
    {
     "name": "stderr",
     "output_type": "stream",
     "text": [
      " 68%|██████▊   | 800/1175 [2:14:12<42:32,  6.81s/it]"
     ]
    },
    {
     "name": "stdout",
     "output_type": "stream",
     "text": [
      "{'loss': 0.0447, 'learning_rate': 1.914893617021277e-05, 'epoch': 17.02}\n"
     ]
    },
    {
     "name": "stderr",
     "output_type": "stream",
     "text": [
      "                                                    \n",
      " 68%|██████▊   | 800/1175 [2:19:49<42:32,  6.81s/it]"
     ]
    },
    {
     "name": "stdout",
     "output_type": "stream",
     "text": [
      "{'eval_loss': 0.029731623828411102, 'eval_mean_iou': 0.6571330645014707, 'eval_mean_accuracy': 0.6940869681669288, 'eval_overall_accuracy': 0.9949644022974474, 'eval_per_category_iou': [0.0, 0.9950403751988298, 0.8874074270521857, 0.7460844557548673], 'eval_per_category_accuracy': [0.0, 0.9977117461738471, 0.9249347822331254, 0.8537013442607427], 'eval_runtime': 336.6738, 'eval_samples_per_second': 0.689, 'eval_steps_per_second': 0.071, 'epoch': 17.02}\n"
     ]
    },
    {
     "name": "stderr",
     "output_type": "stream",
     "text": [
      " 68%|██████▊   | 801/1175 [2:19:57<11:13:48, 108.10s/it]"
     ]
    },
    {
     "name": "stdout",
     "output_type": "stream",
     "text": [
      "{'loss': 0.0768, 'learning_rate': 1.9097872340425536e-05, 'epoch': 17.04}\n"
     ]
    },
    {
     "name": "stderr",
     "output_type": "stream",
     "text": [
      " 68%|██████▊   | 802/1175 [2:20:04<8:03:55, 77.84s/it]  "
     ]
    },
    {
     "name": "stdout",
     "output_type": "stream",
     "text": [
      "{'loss': 0.0327, 'learning_rate': 1.90468085106383e-05, 'epoch': 17.06}\n"
     ]
    },
    {
     "name": "stderr",
     "output_type": "stream",
     "text": [
      " 68%|██████▊   | 803/1175 [2:20:11<5:51:11, 56.64s/it]"
     ]
    },
    {
     "name": "stdout",
     "output_type": "stream",
     "text": [
      "{'loss': 0.0316, 'learning_rate': 1.8995744680851065e-05, 'epoch': 17.09}\n"
     ]
    },
    {
     "name": "stderr",
     "output_type": "stream",
     "text": [
      " 68%|██████▊   | 804/1175 [2:20:18<4:18:32, 41.81s/it]"
     ]
    },
    {
     "name": "stdout",
     "output_type": "stream",
     "text": [
      "{'loss': 0.0471, 'learning_rate': 1.8944680851063832e-05, 'epoch': 17.11}\n"
     ]
    },
    {
     "name": "stderr",
     "output_type": "stream",
     "text": [
      " 69%|██████▊   | 805/1175 [2:20:25<3:13:55, 31.45s/it]"
     ]
    },
    {
     "name": "stdout",
     "output_type": "stream",
     "text": [
      "{'loss': 0.0427, 'learning_rate': 1.8893617021276598e-05, 'epoch': 17.13}\n"
     ]
    },
    {
     "name": "stderr",
     "output_type": "stream",
     "text": [
      " 69%|██████▊   | 806/1175 [2:20:33<2:28:42, 24.18s/it]"
     ]
    },
    {
     "name": "stdout",
     "output_type": "stream",
     "text": [
      "{'loss': 0.051, 'learning_rate': 1.8842553191489365e-05, 'epoch': 17.15}\n"
     ]
    },
    {
     "name": "stderr",
     "output_type": "stream",
     "text": [
      " 69%|██████▊   | 807/1175 [2:20:40<1:57:03, 19.08s/it]"
     ]
    },
    {
     "name": "stdout",
     "output_type": "stream",
     "text": [
      "{'loss': 0.5194, 'learning_rate': 1.8791489361702128e-05, 'epoch': 17.17}\n"
     ]
    },
    {
     "name": "stderr",
     "output_type": "stream",
     "text": [
      " 69%|██████▉   | 808/1175 [2:20:47<1:34:59, 15.53s/it]"
     ]
    },
    {
     "name": "stdout",
     "output_type": "stream",
     "text": [
      "{'loss': 0.0721, 'learning_rate': 1.8740425531914894e-05, 'epoch': 17.19}\n"
     ]
    },
    {
     "name": "stderr",
     "output_type": "stream",
     "text": [
      " 69%|██████▉   | 809/1175 [2:20:54<1:19:27, 13.03s/it]"
     ]
    },
    {
     "name": "stdout",
     "output_type": "stream",
     "text": [
      "{'loss': 0.0662, 'learning_rate': 1.868936170212766e-05, 'epoch': 17.21}\n"
     ]
    },
    {
     "name": "stderr",
     "output_type": "stream",
     "text": [
      " 69%|██████▉   | 810/1175 [2:21:02<1:08:41, 11.29s/it]"
     ]
    },
    {
     "name": "stdout",
     "output_type": "stream",
     "text": [
      "{'loss': 0.0349, 'learning_rate': 1.8638297872340427e-05, 'epoch': 17.23}\n"
     ]
    },
    {
     "name": "stderr",
     "output_type": "stream",
     "text": [
      " 69%|██████▉   | 811/1175 [2:21:09<1:01:01, 10.06s/it]"
     ]
    },
    {
     "name": "stdout",
     "output_type": "stream",
     "text": [
      "{'loss': 0.0436, 'learning_rate': 1.8587234042553194e-05, 'epoch': 17.26}\n"
     ]
    },
    {
     "name": "stderr",
     "output_type": "stream",
     "text": [
      " 69%|██████▉   | 812/1175 [2:21:16<55:51,  9.23s/it]  "
     ]
    },
    {
     "name": "stdout",
     "output_type": "stream",
     "text": [
      "{'loss': 0.0264, 'learning_rate': 1.853617021276596e-05, 'epoch': 17.28}\n"
     ]
    },
    {
     "name": "stderr",
     "output_type": "stream",
     "text": [
      " 69%|██████▉   | 813/1175 [2:21:23<52:00,  8.62s/it]"
     ]
    },
    {
     "name": "stdout",
     "output_type": "stream",
     "text": [
      "{'loss': 0.0426, 'learning_rate': 1.8485106382978724e-05, 'epoch': 17.3}\n"
     ]
    },
    {
     "name": "stderr",
     "output_type": "stream",
     "text": [
      " 69%|██████▉   | 814/1175 [2:21:30<49:23,  8.21s/it]"
     ]
    },
    {
     "name": "stdout",
     "output_type": "stream",
     "text": [
      "{'loss': 0.0371, 'learning_rate': 1.843404255319149e-05, 'epoch': 17.32}\n"
     ]
    },
    {
     "name": "stderr",
     "output_type": "stream",
     "text": [
      " 69%|██████▉   | 815/1175 [2:21:38<47:32,  7.92s/it]"
     ]
    },
    {
     "name": "stdout",
     "output_type": "stream",
     "text": [
      "{'loss': 0.0457, 'learning_rate': 1.8382978723404257e-05, 'epoch': 17.34}\n"
     ]
    },
    {
     "name": "stderr",
     "output_type": "stream",
     "text": [
      " 69%|██████▉   | 816/1175 [2:21:45<46:04,  7.70s/it]"
     ]
    },
    {
     "name": "stdout",
     "output_type": "stream",
     "text": [
      "{'loss': 0.0381, 'learning_rate': 1.8331914893617023e-05, 'epoch': 17.36}\n"
     ]
    },
    {
     "name": "stderr",
     "output_type": "stream",
     "text": [
      " 70%|██████▉   | 817/1175 [2:21:52<45:08,  7.57s/it]"
     ]
    },
    {
     "name": "stdout",
     "output_type": "stream",
     "text": [
      "{'loss': 0.0389, 'learning_rate': 1.828085106382979e-05, 'epoch': 17.38}\n"
     ]
    },
    {
     "name": "stderr",
     "output_type": "stream",
     "text": [
      " 70%|██████▉   | 818/1175 [2:21:59<44:20,  7.45s/it]"
     ]
    },
    {
     "name": "stdout",
     "output_type": "stream",
     "text": [
      "{'loss': 0.0415, 'learning_rate': 1.8229787234042556e-05, 'epoch': 17.4}\n"
     ]
    },
    {
     "name": "stderr",
     "output_type": "stream",
     "text": [
      " 70%|██████▉   | 819/1175 [2:22:07<43:53,  7.40s/it]"
     ]
    },
    {
     "name": "stdout",
     "output_type": "stream",
     "text": [
      "{'loss': 0.0308, 'learning_rate': 1.817872340425532e-05, 'epoch': 17.43}\n"
     ]
    },
    {
     "name": "stderr",
     "output_type": "stream",
     "text": [
      " 70%|██████▉   | 820/1175 [2:22:14<43:25,  7.34s/it]"
     ]
    },
    {
     "name": "stdout",
     "output_type": "stream",
     "text": [
      "{'loss': 0.0421, 'learning_rate': 1.8127659574468086e-05, 'epoch': 17.45}\n"
     ]
    },
    {
     "name": "stderr",
     "output_type": "stream",
     "text": [
      " 70%|██████▉   | 821/1175 [2:22:21<43:07,  7.31s/it]"
     ]
    },
    {
     "name": "stdout",
     "output_type": "stream",
     "text": [
      "{'loss': 0.0417, 'learning_rate': 1.8076595744680852e-05, 'epoch': 17.47}\n"
     ]
    },
    {
     "name": "stderr",
     "output_type": "stream",
     "text": [
      " 70%|██████▉   | 822/1175 [2:22:28<42:43,  7.26s/it]"
     ]
    },
    {
     "name": "stdout",
     "output_type": "stream",
     "text": [
      "{'loss': 0.0362, 'learning_rate': 1.802553191489362e-05, 'epoch': 17.49}\n"
     ]
    },
    {
     "name": "stderr",
     "output_type": "stream",
     "text": [
      " 70%|███████   | 823/1175 [2:22:36<42:40,  7.27s/it]"
     ]
    },
    {
     "name": "stdout",
     "output_type": "stream",
     "text": [
      "{'loss': 0.1841, 'learning_rate': 1.7974468085106385e-05, 'epoch': 17.51}\n"
     ]
    },
    {
     "name": "stderr",
     "output_type": "stream",
     "text": [
      " 70%|███████   | 824/1175 [2:22:43<42:24,  7.25s/it]"
     ]
    },
    {
     "name": "stdout",
     "output_type": "stream",
     "text": [
      "{'loss': 0.0633, 'learning_rate': 1.792340425531915e-05, 'epoch': 17.53}\n"
     ]
    },
    {
     "name": "stderr",
     "output_type": "stream",
     "text": [
      " 70%|███████   | 825/1175 [2:22:50<42:16,  7.25s/it]"
     ]
    },
    {
     "name": "stdout",
     "output_type": "stream",
     "text": [
      "{'loss': 0.0313, 'learning_rate': 1.7872340425531915e-05, 'epoch': 17.55}\n"
     ]
    },
    {
     "name": "stderr",
     "output_type": "stream",
     "text": [
      " 70%|███████   | 826/1175 [2:22:57<42:07,  7.24s/it]"
     ]
    },
    {
     "name": "stdout",
     "output_type": "stream",
     "text": [
      "{'loss': 0.0355, 'learning_rate': 1.782127659574468e-05, 'epoch': 17.57}\n"
     ]
    },
    {
     "name": "stderr",
     "output_type": "stream",
     "text": [
      " 70%|███████   | 827/1175 [2:23:04<41:58,  7.24s/it]"
     ]
    },
    {
     "name": "stdout",
     "output_type": "stream",
     "text": [
      "{'loss': 0.0499, 'learning_rate': 1.7770212765957448e-05, 'epoch': 17.6}\n"
     ]
    },
    {
     "name": "stderr",
     "output_type": "stream",
     "text": [
      " 70%|███████   | 828/1175 [2:23:12<41:53,  7.24s/it]"
     ]
    },
    {
     "name": "stdout",
     "output_type": "stream",
     "text": [
      "{'loss': 0.0294, 'learning_rate': 1.7719148936170215e-05, 'epoch': 17.62}\n"
     ]
    },
    {
     "name": "stderr",
     "output_type": "stream",
     "text": [
      " 71%|███████   | 829/1175 [2:23:19<41:45,  7.24s/it]"
     ]
    },
    {
     "name": "stdout",
     "output_type": "stream",
     "text": [
      "{'loss': 0.0508, 'learning_rate': 1.766808510638298e-05, 'epoch': 17.64}\n"
     ]
    },
    {
     "name": "stderr",
     "output_type": "stream",
     "text": [
      " 71%|███████   | 830/1175 [2:23:26<41:32,  7.22s/it]"
     ]
    },
    {
     "name": "stdout",
     "output_type": "stream",
     "text": [
      "{'loss': 0.0416, 'learning_rate': 1.7617021276595744e-05, 'epoch': 17.66}\n"
     ]
    },
    {
     "name": "stderr",
     "output_type": "stream",
     "text": [
      " 71%|███████   | 831/1175 [2:23:33<41:27,  7.23s/it]"
     ]
    },
    {
     "name": "stdout",
     "output_type": "stream",
     "text": [
      "{'loss': 0.0574, 'learning_rate': 1.756595744680851e-05, 'epoch': 17.68}\n"
     ]
    },
    {
     "name": "stderr",
     "output_type": "stream",
     "text": [
      " 71%|███████   | 832/1175 [2:23:41<41:15,  7.22s/it]"
     ]
    },
    {
     "name": "stdout",
     "output_type": "stream",
     "text": [
      "{'loss': 0.032, 'learning_rate': 1.7514893617021277e-05, 'epoch': 17.7}\n"
     ]
    },
    {
     "name": "stderr",
     "output_type": "stream",
     "text": [
      " 71%|███████   | 833/1175 [2:23:48<41:19,  7.25s/it]"
     ]
    },
    {
     "name": "stdout",
     "output_type": "stream",
     "text": [
      "{'loss': 0.0734, 'learning_rate': 1.7463829787234044e-05, 'epoch': 17.72}\n"
     ]
    },
    {
     "name": "stderr",
     "output_type": "stream",
     "text": [
      " 71%|███████   | 834/1175 [2:23:55<41:12,  7.25s/it]"
     ]
    },
    {
     "name": "stdout",
     "output_type": "stream",
     "text": [
      "{'loss': 0.0486, 'learning_rate': 1.741276595744681e-05, 'epoch': 17.74}\n"
     ]
    },
    {
     "name": "stderr",
     "output_type": "stream",
     "text": [
      " 71%|███████   | 835/1175 [2:24:02<40:58,  7.23s/it]"
     ]
    },
    {
     "name": "stdout",
     "output_type": "stream",
     "text": [
      "{'loss': 0.035, 'learning_rate': 1.7361702127659573e-05, 'epoch': 17.77}\n"
     ]
    },
    {
     "name": "stderr",
     "output_type": "stream",
     "text": [
      " 71%|███████   | 836/1175 [2:24:09<40:43,  7.21s/it]"
     ]
    },
    {
     "name": "stdout",
     "output_type": "stream",
     "text": [
      "{'loss': 0.0421, 'learning_rate': 1.731063829787234e-05, 'epoch': 17.79}\n"
     ]
    },
    {
     "name": "stderr",
     "output_type": "stream",
     "text": [
      " 71%|███████   | 837/1175 [2:24:17<40:40,  7.22s/it]"
     ]
    },
    {
     "name": "stdout",
     "output_type": "stream",
     "text": [
      "{'loss': 0.0423, 'learning_rate': 1.7259574468085107e-05, 'epoch': 17.81}\n"
     ]
    },
    {
     "name": "stderr",
     "output_type": "stream",
     "text": [
      " 71%|███████▏  | 838/1175 [2:24:24<40:28,  7.21s/it]"
     ]
    },
    {
     "name": "stdout",
     "output_type": "stream",
     "text": [
      "{'loss': 0.0335, 'learning_rate': 1.7208510638297873e-05, 'epoch': 17.83}\n"
     ]
    },
    {
     "name": "stderr",
     "output_type": "stream",
     "text": [
      " 71%|███████▏  | 839/1175 [2:24:31<40:30,  7.23s/it]"
     ]
    },
    {
     "name": "stdout",
     "output_type": "stream",
     "text": [
      "{'loss': 0.0404, 'learning_rate': 1.715744680851064e-05, 'epoch': 17.85}\n"
     ]
    },
    {
     "name": "stderr",
     "output_type": "stream",
     "text": [
      " 71%|███████▏  | 840/1175 [2:24:38<40:20,  7.23s/it]"
     ]
    },
    {
     "name": "stdout",
     "output_type": "stream",
     "text": [
      "{'loss': 0.0759, 'learning_rate': 1.7106382978723406e-05, 'epoch': 17.87}\n"
     ]
    },
    {
     "name": "stderr",
     "output_type": "stream",
     "text": [
      " 72%|███████▏  | 841/1175 [2:24:46<40:18,  7.24s/it]"
     ]
    },
    {
     "name": "stdout",
     "output_type": "stream",
     "text": [
      "{'loss': 0.0369, 'learning_rate': 1.705531914893617e-05, 'epoch': 17.89}\n"
     ]
    },
    {
     "name": "stderr",
     "output_type": "stream",
     "text": [
      " 72%|███████▏  | 842/1175 [2:24:53<40:01,  7.21s/it]"
     ]
    },
    {
     "name": "stdout",
     "output_type": "stream",
     "text": [
      "{'loss': 0.0788, 'learning_rate': 1.7004255319148936e-05, 'epoch': 17.91}\n"
     ]
    },
    {
     "name": "stderr",
     "output_type": "stream",
     "text": [
      " 72%|███████▏  | 843/1175 [2:25:00<39:59,  7.23s/it]"
     ]
    },
    {
     "name": "stdout",
     "output_type": "stream",
     "text": [
      "{'loss': 0.0693, 'learning_rate': 1.6953191489361702e-05, 'epoch': 17.94}\n"
     ]
    },
    {
     "name": "stderr",
     "output_type": "stream",
     "text": [
      " 72%|███████▏  | 844/1175 [2:25:07<39:51,  7.22s/it]"
     ]
    },
    {
     "name": "stdout",
     "output_type": "stream",
     "text": [
      "{'loss': 0.0446, 'learning_rate': 1.690212765957447e-05, 'epoch': 17.96}\n"
     ]
    },
    {
     "name": "stderr",
     "output_type": "stream",
     "text": [
      " 72%|███████▏  | 845/1175 [2:25:14<39:08,  7.12s/it]"
     ]
    },
    {
     "name": "stdout",
     "output_type": "stream",
     "text": [
      "{'loss': 0.0522, 'learning_rate': 1.6851063829787235e-05, 'epoch': 17.98}\n"
     ]
    },
    {
     "name": "stderr",
     "output_type": "stream",
     "text": [
      " 72%|███████▏  | 846/1175 [2:25:18<33:39,  6.14s/it]"
     ]
    },
    {
     "name": "stdout",
     "output_type": "stream",
     "text": [
      "{'loss': 0.0723, 'learning_rate': 1.6800000000000002e-05, 'epoch': 18.0}\n"
     ]
    },
    {
     "name": "stderr",
     "output_type": "stream",
     "text": [
      " 72%|███████▏  | 847/1175 [2:25:27<37:38,  6.89s/it]"
     ]
    },
    {
     "name": "stdout",
     "output_type": "stream",
     "text": [
      "{'loss': 0.0459, 'learning_rate': 1.6748936170212765e-05, 'epoch': 18.02}\n"
     ]
    },
    {
     "name": "stderr",
     "output_type": "stream",
     "text": [
      " 72%|███████▏  | 848/1175 [2:25:34<37:52,  6.95s/it]"
     ]
    },
    {
     "name": "stdout",
     "output_type": "stream",
     "text": [
      "{'loss': 0.0932, 'learning_rate': 1.669787234042553e-05, 'epoch': 18.04}\n"
     ]
    },
    {
     "name": "stderr",
     "output_type": "stream",
     "text": [
      " 72%|███████▏  | 849/1175 [2:25:41<38:15,  7.04s/it]"
     ]
    },
    {
     "name": "stdout",
     "output_type": "stream",
     "text": [
      "{'loss': 0.0359, 'learning_rate': 1.6646808510638298e-05, 'epoch': 18.06}\n"
     ]
    },
    {
     "name": "stderr",
     "output_type": "stream",
     "text": [
      " 72%|███████▏  | 850/1175 [2:25:48<38:25,  7.09s/it]"
     ]
    },
    {
     "name": "stdout",
     "output_type": "stream",
     "text": [
      "{'loss': 0.1395, 'learning_rate': 1.6595744680851064e-05, 'epoch': 18.09}\n"
     ]
    },
    {
     "name": "stderr",
     "output_type": "stream",
     "text": [
      " 72%|███████▏  | 851/1175 [2:25:55<38:32,  7.14s/it]"
     ]
    },
    {
     "name": "stdout",
     "output_type": "stream",
     "text": [
      "{'loss': 0.0532, 'learning_rate': 1.654468085106383e-05, 'epoch': 18.11}\n"
     ]
    },
    {
     "name": "stderr",
     "output_type": "stream",
     "text": [
      " 73%|███████▎  | 852/1175 [2:26:03<38:34,  7.17s/it]"
     ]
    },
    {
     "name": "stdout",
     "output_type": "stream",
     "text": [
      "{'loss': 0.042, 'learning_rate': 1.6493617021276594e-05, 'epoch': 18.13}\n"
     ]
    },
    {
     "name": "stderr",
     "output_type": "stream",
     "text": [
      " 73%|███████▎  | 853/1175 [2:26:10<38:35,  7.19s/it]"
     ]
    },
    {
     "name": "stdout",
     "output_type": "stream",
     "text": [
      "{'loss': 0.0341, 'learning_rate': 1.644255319148936e-05, 'epoch': 18.15}\n"
     ]
    },
    {
     "name": "stderr",
     "output_type": "stream",
     "text": [
      " 73%|███████▎  | 854/1175 [2:26:17<38:29,  7.20s/it]"
     ]
    },
    {
     "name": "stdout",
     "output_type": "stream",
     "text": [
      "{'loss': 0.0915, 'learning_rate': 1.6391489361702127e-05, 'epoch': 18.17}\n"
     ]
    },
    {
     "name": "stderr",
     "output_type": "stream",
     "text": [
      " 73%|███████▎  | 855/1175 [2:26:24<38:28,  7.21s/it]"
     ]
    },
    {
     "name": "stdout",
     "output_type": "stream",
     "text": [
      "{'loss': 0.0273, 'learning_rate': 1.6340425531914894e-05, 'epoch': 18.19}\n"
     ]
    },
    {
     "name": "stderr",
     "output_type": "stream",
     "text": [
      " 73%|███████▎  | 856/1175 [2:26:32<38:19,  7.21s/it]"
     ]
    },
    {
     "name": "stdout",
     "output_type": "stream",
     "text": [
      "{'loss': 0.039, 'learning_rate': 1.628936170212766e-05, 'epoch': 18.21}\n"
     ]
    },
    {
     "name": "stderr",
     "output_type": "stream",
     "text": [
      " 73%|███████▎  | 857/1175 [2:26:39<38:22,  7.24s/it]"
     ]
    },
    {
     "name": "stdout",
     "output_type": "stream",
     "text": [
      "{'loss': 0.0839, 'learning_rate': 1.6238297872340427e-05, 'epoch': 18.23}\n"
     ]
    },
    {
     "name": "stderr",
     "output_type": "stream",
     "text": [
      " 73%|███████▎  | 858/1175 [2:26:46<38:19,  7.25s/it]"
     ]
    },
    {
     "name": "stdout",
     "output_type": "stream",
     "text": [
      "{'loss': 0.088, 'learning_rate': 1.618723404255319e-05, 'epoch': 18.26}\n"
     ]
    },
    {
     "name": "stderr",
     "output_type": "stream",
     "text": [
      " 73%|███████▎  | 859/1175 [2:26:53<38:04,  7.23s/it]"
     ]
    },
    {
     "name": "stdout",
     "output_type": "stream",
     "text": [
      "{'loss': 0.0343, 'learning_rate': 1.6136170212765956e-05, 'epoch': 18.28}\n"
     ]
    },
    {
     "name": "stderr",
     "output_type": "stream",
     "text": [
      " 73%|███████▎  | 860/1175 [2:27:01<37:54,  7.22s/it]"
     ]
    },
    {
     "name": "stdout",
     "output_type": "stream",
     "text": [
      "{'loss': 0.0481, 'learning_rate': 1.6085106382978723e-05, 'epoch': 18.3}\n"
     ]
    },
    {
     "name": "stderr",
     "output_type": "stream",
     "text": [
      " 73%|███████▎  | 861/1175 [2:27:08<37:45,  7.22s/it]"
     ]
    },
    {
     "name": "stdout",
     "output_type": "stream",
     "text": [
      "{'loss': 0.0364, 'learning_rate': 1.603404255319149e-05, 'epoch': 18.32}\n"
     ]
    },
    {
     "name": "stderr",
     "output_type": "stream",
     "text": [
      " 73%|███████▎  | 862/1175 [2:27:15<37:47,  7.24s/it]"
     ]
    },
    {
     "name": "stdout",
     "output_type": "stream",
     "text": [
      "{'loss': 0.0607, 'learning_rate': 1.5982978723404256e-05, 'epoch': 18.34}\n"
     ]
    },
    {
     "name": "stderr",
     "output_type": "stream",
     "text": [
      " 73%|███████▎  | 863/1175 [2:27:22<37:31,  7.22s/it]"
     ]
    },
    {
     "name": "stdout",
     "output_type": "stream",
     "text": [
      "{'loss': 0.0554, 'learning_rate': 1.593191489361702e-05, 'epoch': 18.36}\n"
     ]
    },
    {
     "name": "stderr",
     "output_type": "stream",
     "text": [
      " 74%|███████▎  | 864/1175 [2:27:29<37:25,  7.22s/it]"
     ]
    },
    {
     "name": "stdout",
     "output_type": "stream",
     "text": [
      "{'loss': 0.0732, 'learning_rate': 1.5880851063829786e-05, 'epoch': 18.38}\n"
     ]
    },
    {
     "name": "stderr",
     "output_type": "stream",
     "text": [
      " 74%|███████▎  | 865/1175 [2:27:37<37:11,  7.20s/it]"
     ]
    },
    {
     "name": "stdout",
     "output_type": "stream",
     "text": [
      "{'loss': 0.0384, 'learning_rate': 1.5829787234042552e-05, 'epoch': 18.4}\n"
     ]
    },
    {
     "name": "stderr",
     "output_type": "stream",
     "text": [
      " 74%|███████▎  | 866/1175 [2:27:44<37:07,  7.21s/it]"
     ]
    },
    {
     "name": "stdout",
     "output_type": "stream",
     "text": [
      "{'loss': 0.0509, 'learning_rate': 1.577872340425532e-05, 'epoch': 18.43}\n"
     ]
    },
    {
     "name": "stderr",
     "output_type": "stream",
     "text": [
      " 74%|███████▍  | 867/1175 [2:27:51<37:03,  7.22s/it]"
     ]
    },
    {
     "name": "stdout",
     "output_type": "stream",
     "text": [
      "{'loss': 0.0417, 'learning_rate': 1.5727659574468085e-05, 'epoch': 18.45}\n"
     ]
    },
    {
     "name": "stderr",
     "output_type": "stream",
     "text": [
      " 74%|███████▍  | 868/1175 [2:27:58<36:58,  7.23s/it]"
     ]
    },
    {
     "name": "stdout",
     "output_type": "stream",
     "text": [
      "{'loss': 0.0487, 'learning_rate': 1.567659574468085e-05, 'epoch': 18.47}\n"
     ]
    },
    {
     "name": "stderr",
     "output_type": "stream",
     "text": [
      " 74%|███████▍  | 869/1175 [2:28:06<36:52,  7.23s/it]"
     ]
    },
    {
     "name": "stdout",
     "output_type": "stream",
     "text": [
      "{'loss': 0.0388, 'learning_rate': 1.5625531914893615e-05, 'epoch': 18.49}\n"
     ]
    },
    {
     "name": "stderr",
     "output_type": "stream",
     "text": [
      " 74%|███████▍  | 870/1175 [2:28:13<36:44,  7.23s/it]"
     ]
    },
    {
     "name": "stdout",
     "output_type": "stream",
     "text": [
      "{'loss': 0.2139, 'learning_rate': 1.557446808510638e-05, 'epoch': 18.51}\n"
     ]
    },
    {
     "name": "stderr",
     "output_type": "stream",
     "text": [
      " 74%|███████▍  | 871/1175 [2:28:20<36:31,  7.21s/it]"
     ]
    },
    {
     "name": "stdout",
     "output_type": "stream",
     "text": [
      "{'loss': 0.0295, 'learning_rate': 1.5523404255319148e-05, 'epoch': 18.53}\n"
     ]
    },
    {
     "name": "stderr",
     "output_type": "stream",
     "text": [
      " 74%|███████▍  | 872/1175 [2:28:27<36:26,  7.21s/it]"
     ]
    },
    {
     "name": "stdout",
     "output_type": "stream",
     "text": [
      "{'loss': 0.0464, 'learning_rate': 1.5472340425531914e-05, 'epoch': 18.55}\n"
     ]
    },
    {
     "name": "stderr",
     "output_type": "stream",
     "text": [
      " 74%|███████▍  | 873/1175 [2:28:34<36:12,  7.19s/it]"
     ]
    },
    {
     "name": "stdout",
     "output_type": "stream",
     "text": [
      "{'loss': 0.0648, 'learning_rate': 1.542127659574468e-05, 'epoch': 18.57}\n"
     ]
    },
    {
     "name": "stderr",
     "output_type": "stream",
     "text": [
      " 74%|███████▍  | 874/1175 [2:28:42<36:19,  7.24s/it]"
     ]
    },
    {
     "name": "stdout",
     "output_type": "stream",
     "text": [
      "{'loss': 0.051, 'learning_rate': 1.5370212765957447e-05, 'epoch': 18.6}\n"
     ]
    },
    {
     "name": "stderr",
     "output_type": "stream",
     "text": [
      " 74%|███████▍  | 875/1175 [2:28:49<36:08,  7.23s/it]"
     ]
    },
    {
     "name": "stdout",
     "output_type": "stream",
     "text": [
      "{'loss': 0.0917, 'learning_rate': 1.531914893617021e-05, 'epoch': 18.62}\n"
     ]
    },
    {
     "name": "stderr",
     "output_type": "stream",
     "text": [
      " 75%|███████▍  | 876/1175 [2:28:56<35:58,  7.22s/it]"
     ]
    },
    {
     "name": "stdout",
     "output_type": "stream",
     "text": [
      "{'loss': 0.0421, 'learning_rate': 1.5268085106382977e-05, 'epoch': 18.64}\n"
     ]
    },
    {
     "name": "stderr",
     "output_type": "stream",
     "text": [
      " 75%|███████▍  | 877/1175 [2:29:03<35:48,  7.21s/it]"
     ]
    },
    {
     "name": "stdout",
     "output_type": "stream",
     "text": [
      "{'loss': 0.041, 'learning_rate': 1.5217021276595745e-05, 'epoch': 18.66}\n"
     ]
    },
    {
     "name": "stderr",
     "output_type": "stream",
     "text": [
      " 75%|███████▍  | 878/1175 [2:29:10<35:46,  7.23s/it]"
     ]
    },
    {
     "name": "stdout",
     "output_type": "stream",
     "text": [
      "{'loss': 0.034, 'learning_rate': 1.5165957446808512e-05, 'epoch': 18.68}\n"
     ]
    },
    {
     "name": "stderr",
     "output_type": "stream",
     "text": [
      " 75%|███████▍  | 879/1175 [2:29:18<35:35,  7.22s/it]"
     ]
    },
    {
     "name": "stdout",
     "output_type": "stream",
     "text": [
      "{'loss': 0.1512, 'learning_rate': 1.5114893617021278e-05, 'epoch': 18.7}\n"
     ]
    },
    {
     "name": "stderr",
     "output_type": "stream",
     "text": [
      " 75%|███████▍  | 880/1175 [2:29:25<35:32,  7.23s/it]"
     ]
    },
    {
     "name": "stdout",
     "output_type": "stream",
     "text": [
      "{'loss': 0.0425, 'learning_rate': 1.5063829787234041e-05, 'epoch': 18.72}\n"
     ]
    },
    {
     "name": "stderr",
     "output_type": "stream",
     "text": [
      " 75%|███████▍  | 881/1175 [2:29:32<35:19,  7.21s/it]"
     ]
    },
    {
     "name": "stdout",
     "output_type": "stream",
     "text": [
      "{'loss': 0.0626, 'learning_rate': 1.5012765957446808e-05, 'epoch': 18.74}\n"
     ]
    },
    {
     "name": "stderr",
     "output_type": "stream",
     "text": [
      " 75%|███████▌  | 882/1175 [2:29:39<35:13,  7.21s/it]"
     ]
    },
    {
     "name": "stdout",
     "output_type": "stream",
     "text": [
      "{'loss': 0.0382, 'learning_rate': 1.4961702127659574e-05, 'epoch': 18.77}\n"
     ]
    },
    {
     "name": "stderr",
     "output_type": "stream",
     "text": [
      " 75%|███████▌  | 883/1175 [2:29:47<35:12,  7.24s/it]"
     ]
    },
    {
     "name": "stdout",
     "output_type": "stream",
     "text": [
      "{'loss': 0.0671, 'learning_rate': 1.4910638297872341e-05, 'epoch': 18.79}\n"
     ]
    },
    {
     "name": "stderr",
     "output_type": "stream",
     "text": [
      " 75%|███████▌  | 884/1175 [2:29:54<35:04,  7.23s/it]"
     ]
    },
    {
     "name": "stdout",
     "output_type": "stream",
     "text": [
      "{'loss': 0.0386, 'learning_rate': 1.4859574468085107e-05, 'epoch': 18.81}\n"
     ]
    },
    {
     "name": "stderr",
     "output_type": "stream",
     "text": [
      " 75%|███████▌  | 885/1175 [2:30:01<34:55,  7.23s/it]"
     ]
    },
    {
     "name": "stdout",
     "output_type": "stream",
     "text": [
      "{'loss': 0.0399, 'learning_rate': 1.4808510638297872e-05, 'epoch': 18.83}\n"
     ]
    },
    {
     "name": "stderr",
     "output_type": "stream",
     "text": [
      " 75%|███████▌  | 886/1175 [2:30:08<34:52,  7.24s/it]"
     ]
    },
    {
     "name": "stdout",
     "output_type": "stream",
     "text": [
      "{'loss': 0.066, 'learning_rate': 1.4757446808510639e-05, 'epoch': 18.85}\n"
     ]
    },
    {
     "name": "stderr",
     "output_type": "stream",
     "text": [
      " 75%|███████▌  | 887/1175 [2:30:15<34:38,  7.22s/it]"
     ]
    },
    {
     "name": "stdout",
     "output_type": "stream",
     "text": [
      "{'loss': 0.0439, 'learning_rate': 1.4706382978723404e-05, 'epoch': 18.87}\n"
     ]
    },
    {
     "name": "stderr",
     "output_type": "stream",
     "text": [
      " 76%|███████▌  | 888/1175 [2:30:23<34:31,  7.22s/it]"
     ]
    },
    {
     "name": "stdout",
     "output_type": "stream",
     "text": [
      "{'loss': 0.0392, 'learning_rate': 1.465531914893617e-05, 'epoch': 18.89}\n"
     ]
    },
    {
     "name": "stderr",
     "output_type": "stream",
     "text": [
      " 76%|███████▌  | 889/1175 [2:30:30<34:19,  7.20s/it]"
     ]
    },
    {
     "name": "stdout",
     "output_type": "stream",
     "text": [
      "{'loss': 0.0674, 'learning_rate': 1.4604255319148937e-05, 'epoch': 18.91}\n"
     ]
    },
    {
     "name": "stderr",
     "output_type": "stream",
     "text": [
      " 76%|███████▌  | 890/1175 [2:30:37<34:17,  7.22s/it]"
     ]
    },
    {
     "name": "stdout",
     "output_type": "stream",
     "text": [
      "{'loss': 0.1377, 'learning_rate': 1.4553191489361701e-05, 'epoch': 18.94}\n"
     ]
    },
    {
     "name": "stderr",
     "output_type": "stream",
     "text": [
      " 76%|███████▌  | 891/1175 [2:30:44<34:09,  7.22s/it]"
     ]
    },
    {
     "name": "stdout",
     "output_type": "stream",
     "text": [
      "{'loss': 0.0347, 'learning_rate': 1.4502127659574468e-05, 'epoch': 18.96}\n"
     ]
    },
    {
     "name": "stderr",
     "output_type": "stream",
     "text": [
      " 76%|███████▌  | 892/1175 [2:30:51<33:29,  7.10s/it]"
     ]
    },
    {
     "name": "stdout",
     "output_type": "stream",
     "text": [
      "{'loss': 0.0367, 'learning_rate': 1.4451063829787235e-05, 'epoch': 18.98}\n"
     ]
    },
    {
     "name": "stderr",
     "output_type": "stream",
     "text": [
      " 76%|███████▌  | 893/1175 [2:30:55<28:49,  6.13s/it]"
     ]
    },
    {
     "name": "stdout",
     "output_type": "stream",
     "text": [
      "{'loss': 0.0647, 'learning_rate': 1.44e-05, 'epoch': 19.0}\n"
     ]
    },
    {
     "name": "stderr",
     "output_type": "stream",
     "text": [
      " 76%|███████▌  | 894/1175 [2:31:04<32:00,  6.84s/it]"
     ]
    },
    {
     "name": "stdout",
     "output_type": "stream",
     "text": [
      "{'loss': 0.0398, 'learning_rate': 1.4348936170212766e-05, 'epoch': 19.02}\n"
     ]
    },
    {
     "name": "stderr",
     "output_type": "stream",
     "text": [
      " 76%|███████▌  | 895/1175 [2:31:11<32:22,  6.94s/it]"
     ]
    },
    {
     "name": "stdout",
     "output_type": "stream",
     "text": [
      "{'loss': 0.0395, 'learning_rate': 1.4297872340425532e-05, 'epoch': 19.04}\n"
     ]
    },
    {
     "name": "stderr",
     "output_type": "stream",
     "text": [
      " 76%|███████▋  | 896/1175 [2:31:18<32:39,  7.02s/it]"
     ]
    },
    {
     "name": "stdout",
     "output_type": "stream",
     "text": [
      "{'loss': 0.0413, 'learning_rate': 1.4246808510638297e-05, 'epoch': 19.06}\n"
     ]
    },
    {
     "name": "stderr",
     "output_type": "stream",
     "text": [
      " 76%|███████▋  | 897/1175 [2:31:25<32:48,  7.08s/it]"
     ]
    },
    {
     "name": "stdout",
     "output_type": "stream",
     "text": [
      "{'loss': 0.0641, 'learning_rate': 1.4195744680851064e-05, 'epoch': 19.09}\n"
     ]
    },
    {
     "name": "stderr",
     "output_type": "stream",
     "text": [
      " 76%|███████▋  | 898/1175 [2:31:32<32:51,  7.12s/it]"
     ]
    },
    {
     "name": "stdout",
     "output_type": "stream",
     "text": [
      "{'loss': 0.0353, 'learning_rate': 1.414468085106383e-05, 'epoch': 19.11}\n"
     ]
    },
    {
     "name": "stderr",
     "output_type": "stream",
     "text": [
      " 77%|███████▋  | 899/1175 [2:31:40<33:00,  7.18s/it]"
     ]
    },
    {
     "name": "stdout",
     "output_type": "stream",
     "text": [
      "{'loss': 0.0369, 'learning_rate': 1.4093617021276595e-05, 'epoch': 19.13}\n"
     ]
    },
    {
     "name": "stderr",
     "output_type": "stream",
     "text": [
      " 77%|███████▋  | 900/1175 [2:31:47<32:56,  7.19s/it]"
     ]
    },
    {
     "name": "stdout",
     "output_type": "stream",
     "text": [
      "{'loss': 0.0281, 'learning_rate': 1.4042553191489362e-05, 'epoch': 19.15}\n"
     ]
    },
    {
     "name": "stderr",
     "output_type": "stream",
     "text": [
      "                                                    \n",
      " 77%|███████▋  | 900/1175 [2:37:20<32:56,  7.19s/it]"
     ]
    },
    {
     "name": "stdout",
     "output_type": "stream",
     "text": [
      "{'eval_loss': 0.026142001152038574, 'eval_mean_iou': 0.6600181091627695, 'eval_mean_accuracy': 0.7000206985560975, 'eval_overall_accuracy': 0.995157685773126, 'eval_per_category_iou': [0.0, 0.9952602715295944, 0.8882653480310821, 0.7565468170904014], 'eval_per_category_accuracy': [0.0, 0.9976363096033658, 0.934118825907434, 0.8683276587135903], 'eval_runtime': 333.3975, 'eval_samples_per_second': 0.696, 'eval_steps_per_second': 0.072, 'epoch': 19.15}\n"
     ]
    },
    {
     "name": "stderr",
     "output_type": "stream",
     "text": [
      " 77%|███████▋  | 901/1175 [2:37:28<8:10:14, 107.35s/it]"
     ]
    },
    {
     "name": "stdout",
     "output_type": "stream",
     "text": [
      "{'loss': 0.0801, 'learning_rate': 1.3991489361702126e-05, 'epoch': 19.17}\n"
     ]
    },
    {
     "name": "stderr",
     "output_type": "stream",
     "text": [
      " 77%|███████▋  | 902/1175 [2:37:35<5:51:41, 77.29s/it] "
     ]
    },
    {
     "name": "stdout",
     "output_type": "stream",
     "text": [
      "{'loss': 0.0275, 'learning_rate': 1.3940425531914893e-05, 'epoch': 19.19}\n"
     ]
    },
    {
     "name": "stderr",
     "output_type": "stream",
     "text": [
      " 77%|███████▋  | 903/1175 [2:37:42<4:15:05, 56.27s/it]"
     ]
    },
    {
     "name": "stdout",
     "output_type": "stream",
     "text": [
      "{'loss': 0.0439, 'learning_rate': 1.3889361702127661e-05, 'epoch': 19.21}\n"
     ]
    },
    {
     "name": "stderr",
     "output_type": "stream",
     "text": [
      " 77%|███████▋  | 904/1175 [2:37:50<3:07:41, 41.56s/it]"
     ]
    },
    {
     "name": "stdout",
     "output_type": "stream",
     "text": [
      "{'loss': 0.0274, 'learning_rate': 1.3838297872340426e-05, 'epoch': 19.23}\n"
     ]
    },
    {
     "name": "stderr",
     "output_type": "stream",
     "text": [
      " 77%|███████▋  | 905/1175 [2:37:57<2:20:40, 31.26s/it]"
     ]
    },
    {
     "name": "stdout",
     "output_type": "stream",
     "text": [
      "{'loss': 0.0613, 'learning_rate': 1.3787234042553192e-05, 'epoch': 19.26}\n"
     ]
    },
    {
     "name": "stderr",
     "output_type": "stream",
     "text": [
      " 77%|███████▋  | 906/1175 [2:38:04<1:47:48, 24.05s/it]"
     ]
    },
    {
     "name": "stdout",
     "output_type": "stream",
     "text": [
      "{'loss': 0.0401, 'learning_rate': 1.3736170212765959e-05, 'epoch': 19.28}\n"
     ]
    },
    {
     "name": "stderr",
     "output_type": "stream",
     "text": [
      " 77%|███████▋  | 907/1175 [2:38:11<1:24:50, 18.99s/it]"
     ]
    },
    {
     "name": "stdout",
     "output_type": "stream",
     "text": [
      "{'loss': 0.033, 'learning_rate': 1.3685106382978724e-05, 'epoch': 19.3}\n"
     ]
    },
    {
     "name": "stderr",
     "output_type": "stream",
     "text": [
      " 77%|███████▋  | 908/1175 [2:38:18<1:08:45, 15.45s/it]"
     ]
    },
    {
     "name": "stdout",
     "output_type": "stream",
     "text": [
      "{'loss': 0.0409, 'learning_rate': 1.363404255319149e-05, 'epoch': 19.32}\n"
     ]
    },
    {
     "name": "stderr",
     "output_type": "stream",
     "text": [
      " 77%|███████▋  | 909/1175 [2:38:26<57:34, 12.99s/it]  "
     ]
    },
    {
     "name": "stdout",
     "output_type": "stream",
     "text": [
      "{'loss': 0.0422, 'learning_rate': 1.3582978723404257e-05, 'epoch': 19.34}\n"
     ]
    },
    {
     "name": "stderr",
     "output_type": "stream",
     "text": [
      " 77%|███████▋  | 910/1175 [2:38:33<49:36, 11.23s/it]"
     ]
    },
    {
     "name": "stdout",
     "output_type": "stream",
     "text": [
      "{'loss': 0.0296, 'learning_rate': 1.3531914893617022e-05, 'epoch': 19.36}\n"
     ]
    },
    {
     "name": "stderr",
     "output_type": "stream",
     "text": [
      " 78%|███████▊  | 911/1175 [2:38:40<44:14, 10.05s/it]"
     ]
    },
    {
     "name": "stdout",
     "output_type": "stream",
     "text": [
      "{'loss': 0.2529, 'learning_rate': 1.3480851063829788e-05, 'epoch': 19.38}\n"
     ]
    },
    {
     "name": "stderr",
     "output_type": "stream",
     "text": [
      " 78%|███████▊  | 912/1175 [2:38:47<40:19,  9.20s/it]"
     ]
    },
    {
     "name": "stdout",
     "output_type": "stream",
     "text": [
      "{'loss': 0.0327, 'learning_rate': 1.3429787234042555e-05, 'epoch': 19.4}\n"
     ]
    },
    {
     "name": "stderr",
     "output_type": "stream",
     "text": [
      " 78%|███████▊  | 913/1175 [2:38:54<37:34,  8.60s/it]"
     ]
    },
    {
     "name": "stdout",
     "output_type": "stream",
     "text": [
      "{'loss': 0.0311, 'learning_rate': 1.337872340425532e-05, 'epoch': 19.43}\n"
     ]
    },
    {
     "name": "stderr",
     "output_type": "stream",
     "text": [
      " 78%|███████▊  | 914/1175 [2:39:02<35:34,  8.18s/it]"
     ]
    },
    {
     "name": "stdout",
     "output_type": "stream",
     "text": [
      "{'loss': 0.1014, 'learning_rate': 1.3327659574468086e-05, 'epoch': 19.45}\n"
     ]
    },
    {
     "name": "stderr",
     "output_type": "stream",
     "text": [
      " 78%|███████▊  | 915/1175 [2:39:09<34:09,  7.88s/it]"
     ]
    },
    {
     "name": "stdout",
     "output_type": "stream",
     "text": [
      "{'loss': 0.0344, 'learning_rate': 1.3276595744680851e-05, 'epoch': 19.47}\n"
     ]
    },
    {
     "name": "stderr",
     "output_type": "stream",
     "text": [
      " 78%|███████▊  | 916/1175 [2:39:16<33:06,  7.67s/it]"
     ]
    },
    {
     "name": "stdout",
     "output_type": "stream",
     "text": [
      "{'loss': 0.0691, 'learning_rate': 1.3225531914893617e-05, 'epoch': 19.49}\n"
     ]
    },
    {
     "name": "stderr",
     "output_type": "stream",
     "text": [
      " 78%|███████▊  | 917/1175 [2:39:23<32:22,  7.53s/it]"
     ]
    },
    {
     "name": "stdout",
     "output_type": "stream",
     "text": [
      "{'loss': 0.1156, 'learning_rate': 1.3174468085106384e-05, 'epoch': 19.51}\n"
     ]
    },
    {
     "name": "stderr",
     "output_type": "stream",
     "text": [
      " 78%|███████▊  | 918/1175 [2:39:30<31:50,  7.43s/it]"
     ]
    },
    {
     "name": "stdout",
     "output_type": "stream",
     "text": [
      "{'loss': 0.0357, 'learning_rate': 1.3123404255319149e-05, 'epoch': 19.53}\n"
     ]
    },
    {
     "name": "stderr",
     "output_type": "stream",
     "text": [
      " 78%|███████▊  | 919/1175 [2:39:38<31:34,  7.40s/it]"
     ]
    },
    {
     "name": "stdout",
     "output_type": "stream",
     "text": [
      "{'loss': 0.0367, 'learning_rate': 1.3072340425531915e-05, 'epoch': 19.55}\n"
     ]
    },
    {
     "name": "stderr",
     "output_type": "stream",
     "text": [
      " 78%|███████▊  | 920/1175 [2:39:45<31:12,  7.34s/it]"
     ]
    },
    {
     "name": "stdout",
     "output_type": "stream",
     "text": [
      "{'loss': 0.0379, 'learning_rate': 1.3021276595744682e-05, 'epoch': 19.57}\n"
     ]
    },
    {
     "name": "stderr",
     "output_type": "stream",
     "text": [
      " 78%|███████▊  | 921/1175 [2:39:52<30:54,  7.30s/it]"
     ]
    },
    {
     "name": "stdout",
     "output_type": "stream",
     "text": [
      "{'loss': 0.0331, 'learning_rate': 1.2970212765957447e-05, 'epoch': 19.6}\n"
     ]
    },
    {
     "name": "stderr",
     "output_type": "stream",
     "text": [
      " 78%|███████▊  | 922/1175 [2:39:59<30:36,  7.26s/it]"
     ]
    },
    {
     "name": "stdout",
     "output_type": "stream",
     "text": [
      "{'loss': 0.043, 'learning_rate': 1.2919148936170213e-05, 'epoch': 19.62}\n"
     ]
    },
    {
     "name": "stderr",
     "output_type": "stream",
     "text": [
      " 79%|███████▊  | 923/1175 [2:40:07<30:27,  7.25s/it]"
     ]
    },
    {
     "name": "stdout",
     "output_type": "stream",
     "text": [
      "{'loss': 0.0468, 'learning_rate': 1.286808510638298e-05, 'epoch': 19.64}\n"
     ]
    },
    {
     "name": "stderr",
     "output_type": "stream",
     "text": [
      " 79%|███████▊  | 924/1175 [2:40:14<30:19,  7.25s/it]"
     ]
    },
    {
     "name": "stdout",
     "output_type": "stream",
     "text": [
      "{'loss': 0.0529, 'learning_rate': 1.2817021276595744e-05, 'epoch': 19.66}\n"
     ]
    },
    {
     "name": "stderr",
     "output_type": "stream",
     "text": [
      " 79%|███████▊  | 925/1175 [2:40:21<30:09,  7.24s/it]"
     ]
    },
    {
     "name": "stdout",
     "output_type": "stream",
     "text": [
      "{'loss': 0.0505, 'learning_rate': 1.2765957446808511e-05, 'epoch': 19.68}\n"
     ]
    },
    {
     "name": "stderr",
     "output_type": "stream",
     "text": [
      " 79%|███████▉  | 926/1175 [2:40:28<29:55,  7.21s/it]"
     ]
    },
    {
     "name": "stdout",
     "output_type": "stream",
     "text": [
      "{'loss': 0.0412, 'learning_rate': 1.2714893617021278e-05, 'epoch': 19.7}\n"
     ]
    },
    {
     "name": "stderr",
     "output_type": "stream",
     "text": [
      " 79%|███████▉  | 927/1175 [2:40:35<29:48,  7.21s/it]"
     ]
    },
    {
     "name": "stdout",
     "output_type": "stream",
     "text": [
      "{'loss': 0.0299, 'learning_rate': 1.2663829787234042e-05, 'epoch': 19.72}\n"
     ]
    },
    {
     "name": "stderr",
     "output_type": "stream",
     "text": [
      " 79%|███████▉  | 928/1175 [2:40:43<29:42,  7.22s/it]"
     ]
    },
    {
     "name": "stdout",
     "output_type": "stream",
     "text": [
      "{'loss': 0.0355, 'learning_rate': 1.2612765957446809e-05, 'epoch': 19.74}\n"
     ]
    },
    {
     "name": "stderr",
     "output_type": "stream",
     "text": [
      " 79%|███████▉  | 929/1175 [2:40:50<29:36,  7.22s/it]"
     ]
    },
    {
     "name": "stdout",
     "output_type": "stream",
     "text": [
      "{'loss': 0.0699, 'learning_rate': 1.2561702127659575e-05, 'epoch': 19.77}\n"
     ]
    },
    {
     "name": "stderr",
     "output_type": "stream",
     "text": [
      " 79%|███████▉  | 930/1175 [2:40:57<29:28,  7.22s/it]"
     ]
    },
    {
     "name": "stdout",
     "output_type": "stream",
     "text": [
      "{'loss': 0.0319, 'learning_rate': 1.251063829787234e-05, 'epoch': 19.79}\n"
     ]
    },
    {
     "name": "stderr",
     "output_type": "stream",
     "text": [
      " 79%|███████▉  | 931/1175 [2:41:04<29:18,  7.21s/it]"
     ]
    },
    {
     "name": "stdout",
     "output_type": "stream",
     "text": [
      "{'loss': 0.0442, 'learning_rate': 1.2459574468085107e-05, 'epoch': 19.81}\n"
     ]
    },
    {
     "name": "stderr",
     "output_type": "stream",
     "text": [
      " 79%|███████▉  | 932/1175 [2:41:11<29:06,  7.19s/it]"
     ]
    },
    {
     "name": "stdout",
     "output_type": "stream",
     "text": [
      "{'loss': 0.0524, 'learning_rate': 1.2408510638297872e-05, 'epoch': 19.83}\n"
     ]
    },
    {
     "name": "stderr",
     "output_type": "stream",
     "text": [
      " 79%|███████▉  | 933/1175 [2:41:19<29:03,  7.20s/it]"
     ]
    },
    {
     "name": "stdout",
     "output_type": "stream",
     "text": [
      "{'loss': 0.0399, 'learning_rate': 1.2357446808510638e-05, 'epoch': 19.85}\n"
     ]
    },
    {
     "name": "stderr",
     "output_type": "stream",
     "text": [
      " 79%|███████▉  | 934/1175 [2:41:26<28:54,  7.20s/it]"
     ]
    },
    {
     "name": "stdout",
     "output_type": "stream",
     "text": [
      "{'loss': 0.063, 'learning_rate': 1.2306382978723405e-05, 'epoch': 19.87}\n"
     ]
    },
    {
     "name": "stderr",
     "output_type": "stream",
     "text": [
      " 80%|███████▉  | 935/1175 [2:41:33<28:51,  7.21s/it]"
     ]
    },
    {
     "name": "stdout",
     "output_type": "stream",
     "text": [
      "{'loss': 0.0412, 'learning_rate': 1.225531914893617e-05, 'epoch': 19.89}\n"
     ]
    },
    {
     "name": "stderr",
     "output_type": "stream",
     "text": [
      " 80%|███████▉  | 936/1175 [2:41:40<28:44,  7.21s/it]"
     ]
    },
    {
     "name": "stdout",
     "output_type": "stream",
     "text": [
      "{'loss': 0.0628, 'learning_rate': 1.2204255319148936e-05, 'epoch': 19.91}\n"
     ]
    },
    {
     "name": "stderr",
     "output_type": "stream",
     "text": [
      " 80%|███████▉  | 937/1175 [2:41:47<28:34,  7.20s/it]"
     ]
    },
    {
     "name": "stdout",
     "output_type": "stream",
     "text": [
      "{'loss': 0.0579, 'learning_rate': 1.2153191489361702e-05, 'epoch': 19.94}\n"
     ]
    },
    {
     "name": "stderr",
     "output_type": "stream",
     "text": [
      " 80%|███████▉  | 938/1175 [2:41:55<28:30,  7.22s/it]"
     ]
    },
    {
     "name": "stdout",
     "output_type": "stream",
     "text": [
      "{'loss': 0.0552, 'learning_rate': 1.2102127659574467e-05, 'epoch': 19.96}\n"
     ]
    },
    {
     "name": "stderr",
     "output_type": "stream",
     "text": [
      " 80%|███████▉  | 939/1175 [2:42:02<27:54,  7.09s/it]"
     ]
    },
    {
     "name": "stdout",
     "output_type": "stream",
     "text": [
      "{'loss': 0.0442, 'learning_rate': 1.2051063829787234e-05, 'epoch': 19.98}\n"
     ]
    },
    {
     "name": "stderr",
     "output_type": "stream",
     "text": [
      " 80%|████████  | 940/1175 [2:42:05<23:57,  6.12s/it]"
     ]
    },
    {
     "name": "stdout",
     "output_type": "stream",
     "text": [
      "{'loss': 0.0305, 'learning_rate': 1.2e-05, 'epoch': 20.0}\n"
     ]
    },
    {
     "name": "stderr",
     "output_type": "stream",
     "text": [
      " 80%|████████  | 941/1175 [2:42:14<26:42,  6.85s/it]"
     ]
    },
    {
     "name": "stdout",
     "output_type": "stream",
     "text": [
      "{'loss': 0.0315, 'learning_rate': 1.1948936170212765e-05, 'epoch': 20.02}\n"
     ]
    },
    {
     "name": "stderr",
     "output_type": "stream",
     "text": [
      " 80%|████████  | 942/1175 [2:42:21<26:57,  6.94s/it]"
     ]
    },
    {
     "name": "stdout",
     "output_type": "stream",
     "text": [
      "{'loss': 0.0344, 'learning_rate': 1.1897872340425532e-05, 'epoch': 20.04}\n"
     ]
    },
    {
     "name": "stderr",
     "output_type": "stream",
     "text": [
      " 80%|████████  | 943/1175 [2:42:28<27:11,  7.03s/it]"
     ]
    },
    {
     "name": "stdout",
     "output_type": "stream",
     "text": [
      "{'loss': 0.0396, 'learning_rate': 1.1846808510638298e-05, 'epoch': 20.06}\n"
     ]
    },
    {
     "name": "stderr",
     "output_type": "stream",
     "text": [
      " 80%|████████  | 944/1175 [2:42:36<27:17,  7.09s/it]"
     ]
    },
    {
     "name": "stdout",
     "output_type": "stream",
     "text": [
      "{'loss': 0.0564, 'learning_rate': 1.1795744680851063e-05, 'epoch': 20.09}\n"
     ]
    },
    {
     "name": "stderr",
     "output_type": "stream",
     "text": [
      " 80%|████████  | 945/1175 [2:42:43<27:15,  7.11s/it]"
     ]
    },
    {
     "name": "stdout",
     "output_type": "stream",
     "text": [
      "{'loss': 0.0635, 'learning_rate': 1.1744680851063831e-05, 'epoch': 20.11}\n"
     ]
    },
    {
     "name": "stderr",
     "output_type": "stream",
     "text": [
      " 81%|████████  | 946/1175 [2:42:50<27:16,  7.14s/it]"
     ]
    },
    {
     "name": "stdout",
     "output_type": "stream",
     "text": [
      "{'loss': 0.0287, 'learning_rate': 1.1693617021276596e-05, 'epoch': 20.13}\n"
     ]
    },
    {
     "name": "stderr",
     "output_type": "stream",
     "text": [
      " 81%|████████  | 947/1175 [2:42:57<27:12,  7.16s/it]"
     ]
    },
    {
     "name": "stdout",
     "output_type": "stream",
     "text": [
      "{'loss': 0.0397, 'learning_rate': 1.1642553191489363e-05, 'epoch': 20.15}\n"
     ]
    },
    {
     "name": "stderr",
     "output_type": "stream",
     "text": [
      " 81%|████████  | 948/1175 [2:43:04<27:06,  7.17s/it]"
     ]
    },
    {
     "name": "stdout",
     "output_type": "stream",
     "text": [
      "{'loss': 0.0427, 'learning_rate': 1.1591489361702129e-05, 'epoch': 20.17}\n"
     ]
    },
    {
     "name": "stderr",
     "output_type": "stream",
     "text": [
      " 81%|████████  | 949/1175 [2:43:11<26:59,  7.17s/it]"
     ]
    },
    {
     "name": "stdout",
     "output_type": "stream",
     "text": [
      "{'loss': 0.0301, 'learning_rate': 1.1540425531914894e-05, 'epoch': 20.19}\n"
     ]
    },
    {
     "name": "stderr",
     "output_type": "stream",
     "text": [
      " 81%|████████  | 950/1175 [2:43:19<26:57,  7.19s/it]"
     ]
    },
    {
     "name": "stdout",
     "output_type": "stream",
     "text": [
      "{'loss': 0.0595, 'learning_rate': 1.148936170212766e-05, 'epoch': 20.21}\n"
     ]
    },
    {
     "name": "stderr",
     "output_type": "stream",
     "text": [
      " 81%|████████  | 951/1175 [2:43:26<26:51,  7.20s/it]"
     ]
    },
    {
     "name": "stdout",
     "output_type": "stream",
     "text": [
      "{'loss': 0.0268, 'learning_rate': 1.1438297872340427e-05, 'epoch': 20.23}\n"
     ]
    },
    {
     "name": "stderr",
     "output_type": "stream",
     "text": [
      " 81%|████████  | 952/1175 [2:43:33<26:47,  7.21s/it]"
     ]
    },
    {
     "name": "stdout",
     "output_type": "stream",
     "text": [
      "{'loss': 0.0394, 'learning_rate': 1.1387234042553192e-05, 'epoch': 20.26}\n"
     ]
    },
    {
     "name": "stderr",
     "output_type": "stream",
     "text": [
      " 81%|████████  | 953/1175 [2:43:40<26:40,  7.21s/it]"
     ]
    },
    {
     "name": "stdout",
     "output_type": "stream",
     "text": [
      "{'loss': 0.129, 'learning_rate': 1.1336170212765958e-05, 'epoch': 20.28}\n"
     ]
    },
    {
     "name": "stderr",
     "output_type": "stream",
     "text": [
      " 81%|████████  | 954/1175 [2:43:48<26:38,  7.23s/it]"
     ]
    },
    {
     "name": "stdout",
     "output_type": "stream",
     "text": [
      "{'loss': 0.0416, 'learning_rate': 1.1285106382978725e-05, 'epoch': 20.3}\n"
     ]
    },
    {
     "name": "stderr",
     "output_type": "stream",
     "text": [
      " 81%|████████▏ | 955/1175 [2:43:55<26:25,  7.21s/it]"
     ]
    },
    {
     "name": "stdout",
     "output_type": "stream",
     "text": [
      "{'loss': 0.0481, 'learning_rate': 1.123404255319149e-05, 'epoch': 20.32}\n"
     ]
    },
    {
     "name": "stderr",
     "output_type": "stream",
     "text": [
      " 81%|████████▏ | 956/1175 [2:44:02<26:21,  7.22s/it]"
     ]
    },
    {
     "name": "stdout",
     "output_type": "stream",
     "text": [
      "{'loss': 0.1393, 'learning_rate': 1.1182978723404256e-05, 'epoch': 20.34}\n"
     ]
    },
    {
     "name": "stderr",
     "output_type": "stream",
     "text": [
      " 81%|████████▏ | 957/1175 [2:44:09<26:10,  7.20s/it]"
     ]
    },
    {
     "name": "stdout",
     "output_type": "stream",
     "text": [
      "{'loss': 0.0402, 'learning_rate': 1.1131914893617023e-05, 'epoch': 20.36}\n"
     ]
    },
    {
     "name": "stderr",
     "output_type": "stream",
     "text": [
      " 82%|████████▏ | 958/1175 [2:44:16<26:04,  7.21s/it]"
     ]
    },
    {
     "name": "stdout",
     "output_type": "stream",
     "text": [
      "{'loss': 0.043, 'learning_rate': 1.1080851063829787e-05, 'epoch': 20.38}\n"
     ]
    },
    {
     "name": "stderr",
     "output_type": "stream",
     "text": [
      " 82%|████████▏ | 959/1175 [2:44:24<25:55,  7.20s/it]"
     ]
    },
    {
     "name": "stdout",
     "output_type": "stream",
     "text": [
      "{'loss': 0.0324, 'learning_rate': 1.1029787234042554e-05, 'epoch': 20.4}\n"
     ]
    },
    {
     "name": "stderr",
     "output_type": "stream",
     "text": [
      " 82%|████████▏ | 960/1175 [2:44:31<25:47,  7.20s/it]"
     ]
    },
    {
     "name": "stdout",
     "output_type": "stream",
     "text": [
      "{'loss': 0.0401, 'learning_rate': 1.0978723404255319e-05, 'epoch': 20.43}\n"
     ]
    },
    {
     "name": "stderr",
     "output_type": "stream",
     "text": [
      " 82%|████████▏ | 961/1175 [2:44:38<25:39,  7.19s/it]"
     ]
    },
    {
     "name": "stdout",
     "output_type": "stream",
     "text": [
      "{'loss': 0.0754, 'learning_rate': 1.0927659574468085e-05, 'epoch': 20.45}\n"
     ]
    },
    {
     "name": "stderr",
     "output_type": "stream",
     "text": [
      " 82%|████████▏ | 962/1175 [2:44:45<25:37,  7.22s/it]"
     ]
    },
    {
     "name": "stdout",
     "output_type": "stream",
     "text": [
      "{'loss': 0.027, 'learning_rate': 1.0876595744680852e-05, 'epoch': 20.47}\n"
     ]
    },
    {
     "name": "stderr",
     "output_type": "stream",
     "text": [
      " 82%|████████▏ | 963/1175 [2:44:53<25:33,  7.23s/it]"
     ]
    },
    {
     "name": "stdout",
     "output_type": "stream",
     "text": [
      "{'loss': 0.041, 'learning_rate': 1.0825531914893617e-05, 'epoch': 20.49}\n"
     ]
    },
    {
     "name": "stderr",
     "output_type": "stream",
     "text": [
      " 82%|████████▏ | 964/1175 [2:45:00<25:22,  7.22s/it]"
     ]
    },
    {
     "name": "stdout",
     "output_type": "stream",
     "text": [
      "{'loss': 0.0783, 'learning_rate': 1.0774468085106383e-05, 'epoch': 20.51}\n"
     ]
    },
    {
     "name": "stderr",
     "output_type": "stream",
     "text": [
      " 82%|████████▏ | 965/1175 [2:45:07<25:19,  7.23s/it]"
     ]
    },
    {
     "name": "stdout",
     "output_type": "stream",
     "text": [
      "{'loss': 0.031, 'learning_rate': 1.072340425531915e-05, 'epoch': 20.53}\n"
     ]
    },
    {
     "name": "stderr",
     "output_type": "stream",
     "text": [
      " 82%|████████▏ | 966/1175 [2:45:14<25:07,  7.21s/it]"
     ]
    },
    {
     "name": "stdout",
     "output_type": "stream",
     "text": [
      "{'loss': 0.0887, 'learning_rate': 1.0672340425531915e-05, 'epoch': 20.55}\n"
     ]
    },
    {
     "name": "stderr",
     "output_type": "stream",
     "text": [
      " 82%|████████▏ | 967/1175 [2:45:21<25:01,  7.22s/it]"
     ]
    },
    {
     "name": "stdout",
     "output_type": "stream",
     "text": [
      "{'loss': 0.0493, 'learning_rate': 1.0621276595744681e-05, 'epoch': 20.57}\n"
     ]
    },
    {
     "name": "stderr",
     "output_type": "stream",
     "text": [
      " 82%|████████▏ | 968/1175 [2:45:29<24:53,  7.21s/it]"
     ]
    },
    {
     "name": "stdout",
     "output_type": "stream",
     "text": [
      "{'loss': 0.058, 'learning_rate': 1.0570212765957448e-05, 'epoch': 20.6}\n"
     ]
    },
    {
     "name": "stderr",
     "output_type": "stream",
     "text": [
      " 82%|████████▏ | 969/1175 [2:45:36<24:48,  7.22s/it]"
     ]
    },
    {
     "name": "stdout",
     "output_type": "stream",
     "text": [
      "{'loss': 0.0542, 'learning_rate': 1.0519148936170212e-05, 'epoch': 20.62}\n"
     ]
    },
    {
     "name": "stderr",
     "output_type": "stream",
     "text": [
      " 83%|████████▎ | 970/1175 [2:45:43<24:42,  7.23s/it]"
     ]
    },
    {
     "name": "stdout",
     "output_type": "stream",
     "text": [
      "{'loss': 0.0335, 'learning_rate': 1.0468085106382979e-05, 'epoch': 20.64}\n"
     ]
    },
    {
     "name": "stderr",
     "output_type": "stream",
     "text": [
      " 83%|████████▎ | 971/1175 [2:45:50<24:35,  7.23s/it]"
     ]
    },
    {
     "name": "stdout",
     "output_type": "stream",
     "text": [
      "{'loss': 0.0596, 'learning_rate': 1.0417021276595745e-05, 'epoch': 20.66}\n"
     ]
    },
    {
     "name": "stderr",
     "output_type": "stream",
     "text": [
      " 83%|████████▎ | 972/1175 [2:45:58<24:26,  7.23s/it]"
     ]
    },
    {
     "name": "stdout",
     "output_type": "stream",
     "text": [
      "{'loss': 0.069, 'learning_rate': 1.036595744680851e-05, 'epoch': 20.68}\n"
     ]
    },
    {
     "name": "stderr",
     "output_type": "stream",
     "text": [
      " 83%|████████▎ | 973/1175 [2:46:05<24:19,  7.22s/it]"
     ]
    },
    {
     "name": "stdout",
     "output_type": "stream",
     "text": [
      "{'loss': 0.0606, 'learning_rate': 1.0314893617021277e-05, 'epoch': 20.7}\n"
     ]
    },
    {
     "name": "stderr",
     "output_type": "stream",
     "text": [
      " 83%|████████▎ | 974/1175 [2:46:12<24:08,  7.21s/it]"
     ]
    },
    {
     "name": "stdout",
     "output_type": "stream",
     "text": [
      "{'loss': 0.0679, 'learning_rate': 1.0263829787234043e-05, 'epoch': 20.72}\n"
     ]
    },
    {
     "name": "stderr",
     "output_type": "stream",
     "text": [
      " 83%|████████▎ | 975/1175 [2:46:19<24:09,  7.25s/it]"
     ]
    },
    {
     "name": "stdout",
     "output_type": "stream",
     "text": [
      "{'loss': 0.0526, 'learning_rate': 1.0212765957446808e-05, 'epoch': 20.74}\n"
     ]
    },
    {
     "name": "stderr",
     "output_type": "stream",
     "text": [
      " 83%|████████▎ | 976/1175 [2:46:26<23:58,  7.23s/it]"
     ]
    },
    {
     "name": "stdout",
     "output_type": "stream",
     "text": [
      "{'loss': 0.0691, 'learning_rate': 1.0161702127659575e-05, 'epoch': 20.77}\n"
     ]
    },
    {
     "name": "stderr",
     "output_type": "stream",
     "text": [
      " 83%|████████▎ | 977/1175 [2:46:34<23:49,  7.22s/it]"
     ]
    },
    {
     "name": "stdout",
     "output_type": "stream",
     "text": [
      "{'loss': 0.0317, 'learning_rate': 1.011063829787234e-05, 'epoch': 20.79}\n"
     ]
    },
    {
     "name": "stderr",
     "output_type": "stream",
     "text": [
      " 83%|████████▎ | 978/1175 [2:46:41<23:42,  7.22s/it]"
     ]
    },
    {
     "name": "stdout",
     "output_type": "stream",
     "text": [
      "{'loss': 0.0641, 'learning_rate': 1.0059574468085106e-05, 'epoch': 20.81}\n"
     ]
    },
    {
     "name": "stderr",
     "output_type": "stream",
     "text": [
      " 83%|████████▎ | 979/1175 [2:46:48<23:32,  7.21s/it]"
     ]
    },
    {
     "name": "stdout",
     "output_type": "stream",
     "text": [
      "{'loss': 0.1168, 'learning_rate': 1.0008510638297873e-05, 'epoch': 20.83}\n"
     ]
    },
    {
     "name": "stderr",
     "output_type": "stream",
     "text": [
      " 83%|████████▎ | 980/1175 [2:46:55<23:26,  7.21s/it]"
     ]
    },
    {
     "name": "stdout",
     "output_type": "stream",
     "text": [
      "{'loss': 0.2397, 'learning_rate': 9.957446808510637e-06, 'epoch': 20.85}\n"
     ]
    },
    {
     "name": "stderr",
     "output_type": "stream",
     "text": [
      " 83%|████████▎ | 981/1175 [2:47:02<23:16,  7.20s/it]"
     ]
    },
    {
     "name": "stdout",
     "output_type": "stream",
     "text": [
      "{'loss': 0.0279, 'learning_rate': 9.906382978723404e-06, 'epoch': 20.87}\n"
     ]
    },
    {
     "name": "stderr",
     "output_type": "stream",
     "text": [
      " 84%|████████▎ | 982/1175 [2:47:10<23:14,  7.23s/it]"
     ]
    },
    {
     "name": "stdout",
     "output_type": "stream",
     "text": [
      "{'loss': 0.0391, 'learning_rate': 9.85531914893617e-06, 'epoch': 20.89}\n"
     ]
    },
    {
     "name": "stderr",
     "output_type": "stream",
     "text": [
      " 84%|████████▎ | 983/1175 [2:47:17<23:06,  7.22s/it]"
     ]
    },
    {
     "name": "stdout",
     "output_type": "stream",
     "text": [
      "{'loss': 0.0362, 'learning_rate': 9.804255319148935e-06, 'epoch': 20.91}\n"
     ]
    },
    {
     "name": "stderr",
     "output_type": "stream",
     "text": [
      " 84%|████████▎ | 984/1175 [2:47:24<22:59,  7.22s/it]"
     ]
    },
    {
     "name": "stdout",
     "output_type": "stream",
     "text": [
      "{'loss': 0.0389, 'learning_rate': 9.753191489361702e-06, 'epoch': 20.94}\n"
     ]
    },
    {
     "name": "stderr",
     "output_type": "stream",
     "text": [
      " 84%|████████▍ | 985/1175 [2:47:31<22:49,  7.21s/it]"
     ]
    },
    {
     "name": "stdout",
     "output_type": "stream",
     "text": [
      "{'loss': 0.0451, 'learning_rate': 9.702127659574468e-06, 'epoch': 20.96}\n"
     ]
    },
    {
     "name": "stderr",
     "output_type": "stream",
     "text": [
      " 84%|████████▍ | 986/1175 [2:47:38<22:22,  7.10s/it]"
     ]
    },
    {
     "name": "stdout",
     "output_type": "stream",
     "text": [
      "{'loss': 0.0331, 'learning_rate': 9.651063829787235e-06, 'epoch': 20.98}\n"
     ]
    },
    {
     "name": "stderr",
     "output_type": "stream",
     "text": [
      " 84%|████████▍ | 987/1175 [2:47:42<19:11,  6.12s/it]"
     ]
    },
    {
     "name": "stdout",
     "output_type": "stream",
     "text": [
      "{'loss': 0.0669, 'learning_rate': 9.600000000000001e-06, 'epoch': 21.0}\n"
     ]
    },
    {
     "name": "stderr",
     "output_type": "stream",
     "text": [
      " 84%|████████▍ | 988/1175 [2:47:50<21:14,  6.82s/it]"
     ]
    },
    {
     "name": "stdout",
     "output_type": "stream",
     "text": [
      "{'loss': 0.0379, 'learning_rate': 9.548936170212768e-06, 'epoch': 21.02}\n"
     ]
    },
    {
     "name": "stderr",
     "output_type": "stream",
     "text": [
      " 84%|████████▍ | 989/1175 [2:47:58<21:28,  6.93s/it]"
     ]
    },
    {
     "name": "stdout",
     "output_type": "stream",
     "text": [
      "{'loss': 0.0672, 'learning_rate': 9.497872340425533e-06, 'epoch': 21.04}\n"
     ]
    },
    {
     "name": "stderr",
     "output_type": "stream",
     "text": [
      " 84%|████████▍ | 990/1175 [2:48:05<21:34,  7.00s/it]"
     ]
    },
    {
     "name": "stdout",
     "output_type": "stream",
     "text": [
      "{'loss': 0.0437, 'learning_rate': 9.446808510638299e-06, 'epoch': 21.06}\n"
     ]
    },
    {
     "name": "stderr",
     "output_type": "stream",
     "text": [
      " 84%|████████▍ | 991/1175 [2:48:12<21:38,  7.06s/it]"
     ]
    },
    {
     "name": "stdout",
     "output_type": "stream",
     "text": [
      "{'loss': 0.0538, 'learning_rate': 9.395744680851064e-06, 'epoch': 21.09}\n"
     ]
    },
    {
     "name": "stderr",
     "output_type": "stream",
     "text": [
      " 84%|████████▍ | 992/1175 [2:48:19<21:36,  7.09s/it]"
     ]
    },
    {
     "name": "stdout",
     "output_type": "stream",
     "text": [
      "{'loss': 0.0602, 'learning_rate': 9.34468085106383e-06, 'epoch': 21.11}\n"
     ]
    },
    {
     "name": "stderr",
     "output_type": "stream",
     "text": [
      " 85%|████████▍ | 993/1175 [2:48:26<21:43,  7.16s/it]"
     ]
    },
    {
     "name": "stdout",
     "output_type": "stream",
     "text": [
      "{'loss': 0.0415, 'learning_rate': 9.293617021276597e-06, 'epoch': 21.13}\n"
     ]
    },
    {
     "name": "stderr",
     "output_type": "stream",
     "text": [
      " 85%|████████▍ | 994/1175 [2:48:34<21:40,  7.19s/it]"
     ]
    },
    {
     "name": "stdout",
     "output_type": "stream",
     "text": [
      "{'loss': 0.0496, 'learning_rate': 9.242553191489362e-06, 'epoch': 21.15}\n"
     ]
    },
    {
     "name": "stderr",
     "output_type": "stream",
     "text": [
      " 85%|████████▍ | 995/1175 [2:48:41<21:33,  7.19s/it]"
     ]
    },
    {
     "name": "stdout",
     "output_type": "stream",
     "text": [
      "{'loss': 0.0307, 'learning_rate': 9.191489361702128e-06, 'epoch': 21.17}\n"
     ]
    },
    {
     "name": "stderr",
     "output_type": "stream",
     "text": [
      " 85%|████████▍ | 996/1175 [2:48:48<21:29,  7.20s/it]"
     ]
    },
    {
     "name": "stdout",
     "output_type": "stream",
     "text": [
      "{'loss': 0.063, 'learning_rate': 9.140425531914895e-06, 'epoch': 21.19}\n"
     ]
    },
    {
     "name": "stderr",
     "output_type": "stream",
     "text": [
      " 85%|████████▍ | 997/1175 [2:48:55<21:21,  7.20s/it]"
     ]
    },
    {
     "name": "stdout",
     "output_type": "stream",
     "text": [
      "{'loss': 0.1086, 'learning_rate': 9.08936170212766e-06, 'epoch': 21.21}\n"
     ]
    },
    {
     "name": "stderr",
     "output_type": "stream",
     "text": [
      " 85%|████████▍ | 998/1175 [2:49:03<21:13,  7.19s/it]"
     ]
    },
    {
     "name": "stdout",
     "output_type": "stream",
     "text": [
      "{'loss': 0.034, 'learning_rate': 9.038297872340426e-06, 'epoch': 21.23}\n"
     ]
    },
    {
     "name": "stderr",
     "output_type": "stream",
     "text": [
      " 85%|████████▌ | 999/1175 [2:49:10<21:11,  7.22s/it]"
     ]
    },
    {
     "name": "stdout",
     "output_type": "stream",
     "text": [
      "{'loss': 0.08, 'learning_rate': 8.987234042553193e-06, 'epoch': 21.26}\n"
     ]
    },
    {
     "name": "stderr",
     "output_type": "stream",
     "text": [
      " 85%|████████▌ | 1000/1175 [2:49:17<21:00,  7.20s/it]"
     ]
    },
    {
     "name": "stdout",
     "output_type": "stream",
     "text": [
      "{'loss': 0.034, 'learning_rate': 8.936170212765958e-06, 'epoch': 21.28}\n"
     ]
    },
    {
     "name": "stderr",
     "output_type": "stream",
     "text": [
      "                                                     \n",
      " 85%|████████▌ | 1000/1175 [2:54:54<21:00,  7.20s/it]"
     ]
    },
    {
     "name": "stdout",
     "output_type": "stream",
     "text": [
      "{'eval_loss': 0.023910827934741974, 'eval_mean_iou': 0.6632120318483796, 'eval_mean_accuracy': 0.705663909901177, 'eval_overall_accuracy': 0.9952276986220787, 'eval_per_category_iou': [0.0, 0.9952953409865124, 0.896309963099631, 0.761242823307375], 'eval_per_category_accuracy': [0.0, 0.9975069178439863, 0.948385536340549, 0.876763185420173], 'eval_runtime': 337.0108, 'eval_samples_per_second': 0.688, 'eval_steps_per_second': 0.071, 'epoch': 21.28}\n"
     ]
    },
    {
     "name": "stderr",
     "output_type": "stream",
     "text": [
      " 85%|████████▌ | 1001/1175 [2:55:02<5:14:34, 108.47s/it]"
     ]
    },
    {
     "name": "stdout",
     "output_type": "stream",
     "text": [
      "{'loss': 0.036, 'learning_rate': 8.885106382978724e-06, 'epoch': 21.3}\n"
     ]
    },
    {
     "name": "stderr",
     "output_type": "stream",
     "text": [
      " 85%|████████▌ | 1002/1175 [2:55:09<3:45:11, 78.10s/it] "
     ]
    },
    {
     "name": "stdout",
     "output_type": "stream",
     "text": [
      "{'loss': 0.038, 'learning_rate': 8.83404255319149e-06, 'epoch': 21.32}\n"
     ]
    },
    {
     "name": "stderr",
     "output_type": "stream",
     "text": [
      " 85%|████████▌ | 1003/1175 [2:55:16<2:42:53, 56.82s/it]"
     ]
    },
    {
     "name": "stdout",
     "output_type": "stream",
     "text": [
      "{'loss': 0.0315, 'learning_rate': 8.782978723404255e-06, 'epoch': 21.34}\n"
     ]
    },
    {
     "name": "stderr",
     "output_type": "stream",
     "text": [
      " 85%|████████▌ | 1004/1175 [2:55:23<1:59:34, 41.96s/it]"
     ]
    },
    {
     "name": "stdout",
     "output_type": "stream",
     "text": [
      "{'loss': 0.0277, 'learning_rate': 8.731914893617022e-06, 'epoch': 21.36}\n"
     ]
    },
    {
     "name": "stderr",
     "output_type": "stream",
     "text": [
      " 86%|████████▌ | 1005/1175 [2:55:31<1:29:27, 31.57s/it]"
     ]
    },
    {
     "name": "stdout",
     "output_type": "stream",
     "text": [
      "{'loss': 0.0483, 'learning_rate': 8.680851063829787e-06, 'epoch': 21.38}\n"
     ]
    },
    {
     "name": "stderr",
     "output_type": "stream",
     "text": [
      " 86%|████████▌ | 1006/1175 [2:55:38<1:08:18, 24.25s/it]"
     ]
    },
    {
     "name": "stdout",
     "output_type": "stream",
     "text": [
      "{'loss': 0.0425, 'learning_rate': 8.629787234042553e-06, 'epoch': 21.4}\n"
     ]
    },
    {
     "name": "stderr",
     "output_type": "stream",
     "text": [
      " 86%|████████▌ | 1007/1175 [2:55:45<53:37, 19.15s/it]  "
     ]
    },
    {
     "name": "stdout",
     "output_type": "stream",
     "text": [
      "{'loss': 0.0465, 'learning_rate': 8.57872340425532e-06, 'epoch': 21.43}\n"
     ]
    },
    {
     "name": "stderr",
     "output_type": "stream",
     "text": [
      " 86%|████████▌ | 1008/1175 [2:55:52<43:19, 15.56s/it]"
     ]
    },
    {
     "name": "stdout",
     "output_type": "stream",
     "text": [
      "{'loss': 0.103, 'learning_rate': 8.527659574468085e-06, 'epoch': 21.45}\n"
     ]
    },
    {
     "name": "stderr",
     "output_type": "stream",
     "text": [
      " 86%|████████▌ | 1009/1175 [2:56:00<36:05, 13.04s/it]"
     ]
    },
    {
     "name": "stdout",
     "output_type": "stream",
     "text": [
      "{'loss': 0.0411, 'learning_rate': 8.476595744680851e-06, 'epoch': 21.47}\n"
     ]
    },
    {
     "name": "stderr",
     "output_type": "stream",
     "text": [
      " 86%|████████▌ | 1010/1175 [2:56:07<31:05, 11.31s/it]"
     ]
    },
    {
     "name": "stdout",
     "output_type": "stream",
     "text": [
      "{'loss': 0.0312, 'learning_rate': 8.425531914893618e-06, 'epoch': 21.49}\n"
     ]
    },
    {
     "name": "stderr",
     "output_type": "stream",
     "text": [
      " 86%|████████▌ | 1011/1175 [2:56:14<27:29, 10.06s/it]"
     ]
    },
    {
     "name": "stdout",
     "output_type": "stream",
     "text": [
      "{'loss': 0.0453, 'learning_rate': 8.374468085106382e-06, 'epoch': 21.51}\n"
     ]
    },
    {
     "name": "stderr",
     "output_type": "stream",
     "text": [
      " 86%|████████▌ | 1012/1175 [2:56:21<25:01,  9.21s/it]"
     ]
    },
    {
     "name": "stdout",
     "output_type": "stream",
     "text": [
      "{'loss': 0.0446, 'learning_rate': 8.323404255319149e-06, 'epoch': 21.53}\n"
     ]
    },
    {
     "name": "stderr",
     "output_type": "stream",
     "text": [
      " 86%|████████▌ | 1013/1175 [2:56:28<23:19,  8.64s/it]"
     ]
    },
    {
     "name": "stdout",
     "output_type": "stream",
     "text": [
      "{'loss': 0.0307, 'learning_rate': 8.272340425531915e-06, 'epoch': 21.55}\n"
     ]
    },
    {
     "name": "stderr",
     "output_type": "stream",
     "text": [
      " 86%|████████▋ | 1014/1175 [2:56:36<21:59,  8.20s/it]"
     ]
    },
    {
     "name": "stdout",
     "output_type": "stream",
     "text": [
      "{'loss': 0.0393, 'learning_rate': 8.22127659574468e-06, 'epoch': 21.57}\n"
     ]
    },
    {
     "name": "stderr",
     "output_type": "stream",
     "text": [
      " 86%|████████▋ | 1015/1175 [2:56:43<21:03,  7.90s/it]"
     ]
    },
    {
     "name": "stdout",
     "output_type": "stream",
     "text": [
      "{'loss': 0.0624, 'learning_rate': 8.170212765957447e-06, 'epoch': 21.6}\n"
     ]
    },
    {
     "name": "stderr",
     "output_type": "stream",
     "text": [
      " 86%|████████▋ | 1016/1175 [2:56:50<20:23,  7.69s/it]"
     ]
    },
    {
     "name": "stdout",
     "output_type": "stream",
     "text": [
      "{'loss': 0.0374, 'learning_rate': 8.119148936170213e-06, 'epoch': 21.62}\n"
     ]
    },
    {
     "name": "stderr",
     "output_type": "stream",
     "text": [
      " 87%|████████▋ | 1017/1175 [2:56:57<19:52,  7.55s/it]"
     ]
    },
    {
     "name": "stdout",
     "output_type": "stream",
     "text": [
      "{'loss': 0.0662, 'learning_rate': 8.068085106382978e-06, 'epoch': 21.64}\n"
     ]
    },
    {
     "name": "stderr",
     "output_type": "stream",
     "text": [
      " 87%|████████▋ | 1018/1175 [2:57:05<19:32,  7.47s/it]"
     ]
    },
    {
     "name": "stdout",
     "output_type": "stream",
     "text": [
      "{'loss': 0.0899, 'learning_rate': 8.017021276595745e-06, 'epoch': 21.66}\n"
     ]
    },
    {
     "name": "stderr",
     "output_type": "stream",
     "text": [
      " 87%|████████▋ | 1019/1175 [2:57:12<19:14,  7.40s/it]"
     ]
    },
    {
     "name": "stdout",
     "output_type": "stream",
     "text": [
      "{'loss': 0.0249, 'learning_rate': 7.96595744680851e-06, 'epoch': 21.68}\n"
     ]
    },
    {
     "name": "stderr",
     "output_type": "stream",
     "text": [
      " 87%|████████▋ | 1020/1175 [2:57:19<18:56,  7.33s/it]"
     ]
    },
    {
     "name": "stdout",
     "output_type": "stream",
     "text": [
      "{'loss': 0.0379, 'learning_rate': 7.914893617021276e-06, 'epoch': 21.7}\n"
     ]
    },
    {
     "name": "stderr",
     "output_type": "stream",
     "text": [
      " 87%|████████▋ | 1021/1175 [2:57:26<18:48,  7.33s/it]"
     ]
    },
    {
     "name": "stdout",
     "output_type": "stream",
     "text": [
      "{'loss': 0.0432, 'learning_rate': 7.863829787234043e-06, 'epoch': 21.72}\n"
     ]
    },
    {
     "name": "stderr",
     "output_type": "stream",
     "text": [
      " 87%|████████▋ | 1022/1175 [2:57:34<18:38,  7.31s/it]"
     ]
    },
    {
     "name": "stdout",
     "output_type": "stream",
     "text": [
      "{'loss': 0.048, 'learning_rate': 7.812765957446807e-06, 'epoch': 21.74}\n"
     ]
    },
    {
     "name": "stderr",
     "output_type": "stream",
     "text": [
      " 87%|████████▋ | 1023/1175 [2:57:41<18:26,  7.28s/it]"
     ]
    },
    {
     "name": "stdout",
     "output_type": "stream",
     "text": [
      "{'loss': 0.1877, 'learning_rate': 7.761702127659574e-06, 'epoch': 21.77}\n"
     ]
    },
    {
     "name": "stderr",
     "output_type": "stream",
     "text": [
      " 87%|████████▋ | 1024/1175 [2:57:48<18:17,  7.27s/it]"
     ]
    },
    {
     "name": "stdout",
     "output_type": "stream",
     "text": [
      "{'loss': 0.0435, 'learning_rate': 7.71063829787234e-06, 'epoch': 21.79}\n"
     ]
    },
    {
     "name": "stderr",
     "output_type": "stream",
     "text": [
      " 87%|████████▋ | 1025/1175 [2:57:55<18:06,  7.25s/it]"
     ]
    },
    {
     "name": "stdout",
     "output_type": "stream",
     "text": [
      "{'loss': 0.0278, 'learning_rate': 7.659574468085105e-06, 'epoch': 21.81}\n"
     ]
    },
    {
     "name": "stderr",
     "output_type": "stream",
     "text": [
      " 87%|████████▋ | 1026/1175 [2:58:02<17:59,  7.25s/it]"
     ]
    },
    {
     "name": "stdout",
     "output_type": "stream",
     "text": [
      "{'loss': 0.046, 'learning_rate': 7.608510638297873e-06, 'epoch': 21.83}\n"
     ]
    },
    {
     "name": "stderr",
     "output_type": "stream",
     "text": [
      " 87%|████████▋ | 1027/1175 [2:58:10<17:53,  7.25s/it]"
     ]
    },
    {
     "name": "stdout",
     "output_type": "stream",
     "text": [
      "{'loss': 0.0546, 'learning_rate': 7.557446808510639e-06, 'epoch': 21.85}\n"
     ]
    },
    {
     "name": "stderr",
     "output_type": "stream",
     "text": [
      " 87%|████████▋ | 1028/1175 [2:58:17<17:45,  7.25s/it]"
     ]
    },
    {
     "name": "stdout",
     "output_type": "stream",
     "text": [
      "{'loss': 0.0333, 'learning_rate': 7.506382978723404e-06, 'epoch': 21.87}\n"
     ]
    },
    {
     "name": "stderr",
     "output_type": "stream",
     "text": [
      " 88%|████████▊ | 1029/1175 [2:58:24<17:37,  7.24s/it]"
     ]
    },
    {
     "name": "stdout",
     "output_type": "stream",
     "text": [
      "{'loss': 0.1003, 'learning_rate': 7.4553191489361705e-06, 'epoch': 21.89}\n"
     ]
    },
    {
     "name": "stderr",
     "output_type": "stream",
     "text": [
      " 88%|████████▊ | 1030/1175 [2:58:31<17:29,  7.24s/it]"
     ]
    },
    {
     "name": "stdout",
     "output_type": "stream",
     "text": [
      "{'loss': 0.0371, 'learning_rate': 7.404255319148936e-06, 'epoch': 21.91}\n"
     ]
    },
    {
     "name": "stderr",
     "output_type": "stream",
     "text": [
      " 88%|████████▊ | 1031/1175 [2:58:39<17:24,  7.25s/it]"
     ]
    },
    {
     "name": "stdout",
     "output_type": "stream",
     "text": [
      "{'loss': 0.0499, 'learning_rate': 7.353191489361702e-06, 'epoch': 21.94}\n"
     ]
    },
    {
     "name": "stderr",
     "output_type": "stream",
     "text": [
      " 88%|████████▊ | 1032/1175 [2:58:46<17:15,  7.24s/it]"
     ]
    },
    {
     "name": "stdout",
     "output_type": "stream",
     "text": [
      "{'loss': 0.0367, 'learning_rate': 7.302127659574468e-06, 'epoch': 21.96}\n"
     ]
    },
    {
     "name": "stderr",
     "output_type": "stream",
     "text": [
      " 88%|████████▊ | 1033/1175 [2:58:53<16:49,  7.11s/it]"
     ]
    },
    {
     "name": "stdout",
     "output_type": "stream",
     "text": [
      "{'loss': 0.0343, 'learning_rate': 7.251063829787234e-06, 'epoch': 21.98}\n"
     ]
    },
    {
     "name": "stderr",
     "output_type": "stream",
     "text": [
      " 88%|████████▊ | 1034/1175 [2:58:57<14:25,  6.14s/it]"
     ]
    },
    {
     "name": "stdout",
     "output_type": "stream",
     "text": [
      "{'loss': 0.0315, 'learning_rate': 7.2e-06, 'epoch': 22.0}\n"
     ]
    },
    {
     "name": "stderr",
     "output_type": "stream",
     "text": [
      " 88%|████████▊ | 1035/1175 [2:59:05<15:59,  6.85s/it]"
     ]
    },
    {
     "name": "stdout",
     "output_type": "stream",
     "text": [
      "{'loss': 0.0336, 'learning_rate': 7.148936170212766e-06, 'epoch': 22.02}\n"
     ]
    },
    {
     "name": "stderr",
     "output_type": "stream",
     "text": [
      " 88%|████████▊ | 1036/1175 [2:59:12<16:04,  6.94s/it]"
     ]
    },
    {
     "name": "stdout",
     "output_type": "stream",
     "text": [
      "{'loss': 0.0428, 'learning_rate': 7.097872340425532e-06, 'epoch': 22.04}\n"
     ]
    },
    {
     "name": "stderr",
     "output_type": "stream",
     "text": [
      " 88%|████████▊ | 1037/1175 [2:59:19<16:09,  7.03s/it]"
     ]
    },
    {
     "name": "stdout",
     "output_type": "stream",
     "text": [
      "{'loss': 0.0962, 'learning_rate': 7.0468085106382975e-06, 'epoch': 22.06}\n"
     ]
    },
    {
     "name": "stderr",
     "output_type": "stream",
     "text": [
      " 88%|████████▊ | 1038/1175 [2:59:27<16:10,  7.09s/it]"
     ]
    },
    {
     "name": "stdout",
     "output_type": "stream",
     "text": [
      "{'loss': 0.0702, 'learning_rate': 6.995744680851063e-06, 'epoch': 22.09}\n"
     ]
    },
    {
     "name": "stderr",
     "output_type": "stream",
     "text": [
      " 88%|████████▊ | 1039/1175 [2:59:34<16:10,  7.13s/it]"
     ]
    },
    {
     "name": "stdout",
     "output_type": "stream",
     "text": [
      "{'loss': 0.0253, 'learning_rate': 6.9446808510638306e-06, 'epoch': 22.11}\n"
     ]
    },
    {
     "name": "stderr",
     "output_type": "stream",
     "text": [
      " 89%|████████▊ | 1040/1175 [2:59:41<16:07,  7.17s/it]"
     ]
    },
    {
     "name": "stdout",
     "output_type": "stream",
     "text": [
      "{'loss': 0.0362, 'learning_rate': 6.893617021276596e-06, 'epoch': 22.13}\n"
     ]
    },
    {
     "name": "stderr",
     "output_type": "stream",
     "text": [
      " 89%|████████▊ | 1041/1175 [2:59:48<16:05,  7.21s/it]"
     ]
    },
    {
     "name": "stdout",
     "output_type": "stream",
     "text": [
      "{'loss': 0.0275, 'learning_rate': 6.842553191489362e-06, 'epoch': 22.15}\n"
     ]
    },
    {
     "name": "stderr",
     "output_type": "stream",
     "text": [
      " 89%|████████▊ | 1042/1175 [2:59:56<16:03,  7.24s/it]"
     ]
    },
    {
     "name": "stdout",
     "output_type": "stream",
     "text": [
      "{'loss': 0.0772, 'learning_rate': 6.7914893617021284e-06, 'epoch': 22.17}\n"
     ]
    },
    {
     "name": "stderr",
     "output_type": "stream",
     "text": [
      " 89%|████████▉ | 1043/1175 [3:00:03<15:56,  7.25s/it]"
     ]
    },
    {
     "name": "stdout",
     "output_type": "stream",
     "text": [
      "{'loss': 0.0274, 'learning_rate': 6.740425531914894e-06, 'epoch': 22.19}\n"
     ]
    },
    {
     "name": "stderr",
     "output_type": "stream",
     "text": [
      " 89%|████████▉ | 1044/1175 [3:00:10<15:48,  7.24s/it]"
     ]
    },
    {
     "name": "stdout",
     "output_type": "stream",
     "text": [
      "{'loss': 0.2068, 'learning_rate': 6.68936170212766e-06, 'epoch': 22.21}\n"
     ]
    },
    {
     "name": "stderr",
     "output_type": "stream",
     "text": [
      " 89%|████████▉ | 1045/1175 [3:00:18<15:40,  7.23s/it]"
     ]
    },
    {
     "name": "stdout",
     "output_type": "stream",
     "text": [
      "{'loss': 0.0331, 'learning_rate': 6.6382978723404254e-06, 'epoch': 22.23}\n"
     ]
    },
    {
     "name": "stderr",
     "output_type": "stream",
     "text": [
      " 89%|████████▉ | 1046/1175 [3:00:25<15:34,  7.24s/it]"
     ]
    },
    {
     "name": "stdout",
     "output_type": "stream",
     "text": [
      "{'loss': 0.0488, 'learning_rate': 6.587234042553192e-06, 'epoch': 22.26}\n"
     ]
    },
    {
     "name": "stderr",
     "output_type": "stream",
     "text": [
      " 89%|████████▉ | 1047/1175 [3:00:32<15:30,  7.27s/it]"
     ]
    },
    {
     "name": "stdout",
     "output_type": "stream",
     "text": [
      "{'loss': 0.0399, 'learning_rate': 6.536170212765958e-06, 'epoch': 22.28}\n"
     ]
    },
    {
     "name": "stderr",
     "output_type": "stream",
     "text": [
      " 89%|████████▉ | 1048/1175 [3:00:39<15:23,  7.27s/it]"
     ]
    },
    {
     "name": "stdout",
     "output_type": "stream",
     "text": [
      "{'loss': 0.0244, 'learning_rate': 6.485106382978723e-06, 'epoch': 22.3}\n"
     ]
    },
    {
     "name": "stderr",
     "output_type": "stream",
     "text": [
      " 89%|████████▉ | 1049/1175 [3:00:47<15:14,  7.26s/it]"
     ]
    },
    {
     "name": "stdout",
     "output_type": "stream",
     "text": [
      "{'loss': 0.0521, 'learning_rate': 6.43404255319149e-06, 'epoch': 22.32}\n"
     ]
    },
    {
     "name": "stderr",
     "output_type": "stream",
     "text": [
      " 89%|████████▉ | 1050/1175 [3:00:54<15:05,  7.24s/it]"
     ]
    },
    {
     "name": "stdout",
     "output_type": "stream",
     "text": [
      "{'loss': 0.0341, 'learning_rate': 6.3829787234042555e-06, 'epoch': 22.34}\n"
     ]
    },
    {
     "name": "stderr",
     "output_type": "stream",
     "text": [
      " 89%|████████▉ | 1051/1175 [3:01:01<14:57,  7.24s/it]"
     ]
    },
    {
     "name": "stdout",
     "output_type": "stream",
     "text": [
      "{'loss': 0.0407, 'learning_rate': 6.331914893617021e-06, 'epoch': 22.36}\n"
     ]
    },
    {
     "name": "stderr",
     "output_type": "stream",
     "text": [
      " 90%|████████▉ | 1052/1175 [3:01:08<14:53,  7.27s/it]"
     ]
    },
    {
     "name": "stdout",
     "output_type": "stream",
     "text": [
      "{'loss': 0.0622, 'learning_rate': 6.280851063829788e-06, 'epoch': 22.38}\n"
     ]
    },
    {
     "name": "stderr",
     "output_type": "stream",
     "text": [
      " 90%|████████▉ | 1053/1175 [3:01:16<14:46,  7.27s/it]"
     ]
    },
    {
     "name": "stdout",
     "output_type": "stream",
     "text": [
      "{'loss': 0.0248, 'learning_rate': 6.229787234042553e-06, 'epoch': 22.4}\n"
     ]
    },
    {
     "name": "stderr",
     "output_type": "stream",
     "text": [
      " 90%|████████▉ | 1054/1175 [3:01:23<14:39,  7.27s/it]"
     ]
    },
    {
     "name": "stdout",
     "output_type": "stream",
     "text": [
      "{'loss': 0.0266, 'learning_rate': 6.178723404255319e-06, 'epoch': 22.43}\n"
     ]
    },
    {
     "name": "stderr",
     "output_type": "stream",
     "text": [
      " 90%|████████▉ | 1055/1175 [3:01:30<14:30,  7.25s/it]"
     ]
    },
    {
     "name": "stdout",
     "output_type": "stream",
     "text": [
      "{'loss': 0.0356, 'learning_rate': 6.127659574468085e-06, 'epoch': 22.45}\n"
     ]
    },
    {
     "name": "stderr",
     "output_type": "stream",
     "text": [
      " 90%|████████▉ | 1056/1175 [3:01:37<14:21,  7.24s/it]"
     ]
    },
    {
     "name": "stdout",
     "output_type": "stream",
     "text": [
      "{'loss': 0.0268, 'learning_rate': 6.076595744680851e-06, 'epoch': 22.47}\n"
     ]
    },
    {
     "name": "stderr",
     "output_type": "stream",
     "text": [
      " 90%|████████▉ | 1057/1175 [3:01:45<14:16,  7.26s/it]"
     ]
    },
    {
     "name": "stdout",
     "output_type": "stream",
     "text": [
      "{'loss': 0.0333, 'learning_rate': 6.025531914893617e-06, 'epoch': 22.49}\n"
     ]
    },
    {
     "name": "stderr",
     "output_type": "stream",
     "text": [
      " 90%|█████████ | 1058/1175 [3:01:52<14:08,  7.25s/it]"
     ]
    },
    {
     "name": "stdout",
     "output_type": "stream",
     "text": [
      "{'loss': 0.0674, 'learning_rate': 5.9744680851063826e-06, 'epoch': 22.51}\n"
     ]
    },
    {
     "name": "stderr",
     "output_type": "stream",
     "text": [
      " 90%|█████████ | 1059/1175 [3:01:59<14:01,  7.26s/it]"
     ]
    },
    {
     "name": "stdout",
     "output_type": "stream",
     "text": [
      "{'loss': 0.0278, 'learning_rate': 5.923404255319149e-06, 'epoch': 22.53}\n"
     ]
    },
    {
     "name": "stderr",
     "output_type": "stream",
     "text": [
      " 90%|█████████ | 1060/1175 [3:02:06<13:52,  7.24s/it]"
     ]
    },
    {
     "name": "stdout",
     "output_type": "stream",
     "text": [
      "{'loss': 0.0429, 'learning_rate': 5.872340425531916e-06, 'epoch': 22.55}\n"
     ]
    },
    {
     "name": "stderr",
     "output_type": "stream",
     "text": [
      " 90%|█████████ | 1061/1175 [3:02:14<13:46,  7.25s/it]"
     ]
    },
    {
     "name": "stdout",
     "output_type": "stream",
     "text": [
      "{'loss': 0.0297, 'learning_rate': 5.821276595744681e-06, 'epoch': 22.57}\n"
     ]
    },
    {
     "name": "stderr",
     "output_type": "stream",
     "text": [
      " 90%|█████████ | 1062/1175 [3:02:21<13:41,  7.27s/it]"
     ]
    },
    {
     "name": "stdout",
     "output_type": "stream",
     "text": [
      "{'loss': 0.1267, 'learning_rate': 5.770212765957447e-06, 'epoch': 22.6}\n"
     ]
    },
    {
     "name": "stderr",
     "output_type": "stream",
     "text": [
      " 90%|█████████ | 1063/1175 [3:02:28<13:32,  7.25s/it]"
     ]
    },
    {
     "name": "stdout",
     "output_type": "stream",
     "text": [
      "{'loss': 0.0374, 'learning_rate': 5.7191489361702135e-06, 'epoch': 22.62}\n"
     ]
    },
    {
     "name": "stderr",
     "output_type": "stream",
     "text": [
      " 91%|█████████ | 1064/1175 [3:02:35<13:23,  7.24s/it]"
     ]
    },
    {
     "name": "stdout",
     "output_type": "stream",
     "text": [
      "{'loss': 0.028, 'learning_rate': 5.668085106382979e-06, 'epoch': 22.64}\n"
     ]
    },
    {
     "name": "stderr",
     "output_type": "stream",
     "text": [
      " 91%|█████████ | 1065/1175 [3:02:43<13:16,  7.24s/it]"
     ]
    },
    {
     "name": "stdout",
     "output_type": "stream",
     "text": [
      "{'loss': 0.0343, 'learning_rate': 5.617021276595745e-06, 'epoch': 22.66}\n"
     ]
    },
    {
     "name": "stderr",
     "output_type": "stream",
     "text": [
      " 91%|█████████ | 1066/1175 [3:02:50<13:10,  7.25s/it]"
     ]
    },
    {
     "name": "stdout",
     "output_type": "stream",
     "text": [
      "{'loss': 0.0402, 'learning_rate': 5.565957446808511e-06, 'epoch': 22.68}\n"
     ]
    },
    {
     "name": "stderr",
     "output_type": "stream",
     "text": [
      " 91%|█████████ | 1067/1175 [3:02:57<13:03,  7.26s/it]"
     ]
    },
    {
     "name": "stdout",
     "output_type": "stream",
     "text": [
      "{'loss': 0.0238, 'learning_rate': 5.514893617021277e-06, 'epoch': 22.7}\n"
     ]
    },
    {
     "name": "stderr",
     "output_type": "stream",
     "text": [
      " 91%|█████████ | 1068/1175 [3:03:04<12:56,  7.26s/it]"
     ]
    },
    {
     "name": "stdout",
     "output_type": "stream",
     "text": [
      "{'loss': 0.0778, 'learning_rate': 5.463829787234043e-06, 'epoch': 22.72}\n"
     ]
    },
    {
     "name": "stderr",
     "output_type": "stream",
     "text": [
      " 91%|█████████ | 1069/1175 [3:03:12<12:50,  7.27s/it]"
     ]
    },
    {
     "name": "stdout",
     "output_type": "stream",
     "text": [
      "{'loss': 0.1884, 'learning_rate': 5.412765957446808e-06, 'epoch': 22.74}\n"
     ]
    },
    {
     "name": "stderr",
     "output_type": "stream",
     "text": [
      " 91%|█████████ | 1070/1175 [3:03:19<12:40,  7.24s/it]"
     ]
    },
    {
     "name": "stdout",
     "output_type": "stream",
     "text": [
      "{'loss': 0.033, 'learning_rate': 5.361702127659575e-06, 'epoch': 22.77}\n"
     ]
    },
    {
     "name": "stderr",
     "output_type": "stream",
     "text": [
      " 91%|█████████ | 1071/1175 [3:03:26<12:33,  7.25s/it]"
     ]
    },
    {
     "name": "stdout",
     "output_type": "stream",
     "text": [
      "{'loss': 0.0444, 'learning_rate': 5.3106382978723405e-06, 'epoch': 22.79}\n"
     ]
    },
    {
     "name": "stderr",
     "output_type": "stream",
     "text": [
      " 91%|█████████ | 1072/1175 [3:03:33<12:27,  7.26s/it]"
     ]
    },
    {
     "name": "stdout",
     "output_type": "stream",
     "text": [
      "{'loss': 0.0575, 'learning_rate': 5.259574468085106e-06, 'epoch': 22.81}\n"
     ]
    },
    {
     "name": "stderr",
     "output_type": "stream",
     "text": [
      " 91%|█████████▏| 1073/1175 [3:03:41<12:21,  7.27s/it]"
     ]
    },
    {
     "name": "stdout",
     "output_type": "stream",
     "text": [
      "{'loss': 0.0356, 'learning_rate': 5.208510638297873e-06, 'epoch': 22.83}\n"
     ]
    },
    {
     "name": "stderr",
     "output_type": "stream",
     "text": [
      " 91%|█████████▏| 1074/1175 [3:03:48<12:13,  7.26s/it]"
     ]
    },
    {
     "name": "stdout",
     "output_type": "stream",
     "text": [
      "{'loss': 0.0395, 'learning_rate': 5.157446808510638e-06, 'epoch': 22.85}\n"
     ]
    },
    {
     "name": "stderr",
     "output_type": "stream",
     "text": [
      " 91%|█████████▏| 1075/1175 [3:03:55<12:06,  7.27s/it]"
     ]
    },
    {
     "name": "stdout",
     "output_type": "stream",
     "text": [
      "{'loss': 0.0367, 'learning_rate': 5.106382978723404e-06, 'epoch': 22.87}\n"
     ]
    },
    {
     "name": "stderr",
     "output_type": "stream",
     "text": [
      " 92%|█████████▏| 1076/1175 [3:04:02<11:58,  7.26s/it]"
     ]
    },
    {
     "name": "stdout",
     "output_type": "stream",
     "text": [
      "{'loss': 0.0456, 'learning_rate': 5.05531914893617e-06, 'epoch': 22.89}\n"
     ]
    },
    {
     "name": "stderr",
     "output_type": "stream",
     "text": [
      " 92%|█████████▏| 1077/1175 [3:04:10<11:51,  7.26s/it]"
     ]
    },
    {
     "name": "stdout",
     "output_type": "stream",
     "text": [
      "{'loss': 0.0313, 'learning_rate': 5.004255319148936e-06, 'epoch': 22.91}\n"
     ]
    },
    {
     "name": "stderr",
     "output_type": "stream",
     "text": [
      " 92%|█████████▏| 1078/1175 [3:04:17<11:44,  7.27s/it]"
     ]
    },
    {
     "name": "stdout",
     "output_type": "stream",
     "text": [
      "{'loss': 0.0286, 'learning_rate': 4.953191489361702e-06, 'epoch': 22.94}\n"
     ]
    },
    {
     "name": "stderr",
     "output_type": "stream",
     "text": [
      " 92%|█████████▏| 1079/1175 [3:04:24<11:39,  7.29s/it]"
     ]
    },
    {
     "name": "stdout",
     "output_type": "stream",
     "text": [
      "{'loss': 0.0381, 'learning_rate': 4.902127659574468e-06, 'epoch': 22.96}\n"
     ]
    },
    {
     "name": "stderr",
     "output_type": "stream",
     "text": [
      " 92%|█████████▏| 1080/1175 [3:04:31<11:19,  7.15s/it]"
     ]
    },
    {
     "name": "stdout",
     "output_type": "stream",
     "text": [
      "{'loss': 0.0414, 'learning_rate': 4.851063829787234e-06, 'epoch': 22.98}\n"
     ]
    },
    {
     "name": "stderr",
     "output_type": "stream",
     "text": [
      " 92%|█████████▏| 1081/1175 [3:04:35<09:39,  6.16s/it]"
     ]
    },
    {
     "name": "stdout",
     "output_type": "stream",
     "text": [
      "{'loss': 0.0287, 'learning_rate': 4.800000000000001e-06, 'epoch': 23.0}\n"
     ]
    },
    {
     "name": "stderr",
     "output_type": "stream",
     "text": [
      " 92%|█████████▏| 1082/1175 [3:04:43<10:35,  6.84s/it]"
     ]
    },
    {
     "name": "stdout",
     "output_type": "stream",
     "text": [
      "{'loss': 0.0425, 'learning_rate': 4.748936170212766e-06, 'epoch': 23.02}\n"
     ]
    },
    {
     "name": "stderr",
     "output_type": "stream",
     "text": [
      " 92%|█████████▏| 1083/1175 [3:04:51<10:39,  6.96s/it]"
     ]
    },
    {
     "name": "stdout",
     "output_type": "stream",
     "text": [
      "{'loss': 0.0747, 'learning_rate': 4.697872340425532e-06, 'epoch': 23.04}\n"
     ]
    },
    {
     "name": "stderr",
     "output_type": "stream",
     "text": [
      " 92%|█████████▏| 1084/1175 [3:04:58<10:40,  7.04s/it]"
     ]
    },
    {
     "name": "stdout",
     "output_type": "stream",
     "text": [
      "{'loss': 0.067, 'learning_rate': 4.6468085106382985e-06, 'epoch': 23.06}\n"
     ]
    },
    {
     "name": "stderr",
     "output_type": "stream",
     "text": [
      " 92%|█████████▏| 1085/1175 [3:05:05<10:40,  7.11s/it]"
     ]
    },
    {
     "name": "stdout",
     "output_type": "stream",
     "text": [
      "{'loss': 0.0601, 'learning_rate': 4.595744680851064e-06, 'epoch': 23.09}\n"
     ]
    },
    {
     "name": "stderr",
     "output_type": "stream",
     "text": [
      " 92%|█████████▏| 1086/1175 [3:05:12<10:35,  7.14s/it]"
     ]
    },
    {
     "name": "stdout",
     "output_type": "stream",
     "text": [
      "{'loss': 0.0595, 'learning_rate': 4.54468085106383e-06, 'epoch': 23.11}\n"
     ]
    },
    {
     "name": "stderr",
     "output_type": "stream",
     "text": [
      " 93%|█████████▎| 1087/1175 [3:05:20<10:30,  7.16s/it]"
     ]
    },
    {
     "name": "stdout",
     "output_type": "stream",
     "text": [
      "{'loss': 0.0812, 'learning_rate': 4.493617021276596e-06, 'epoch': 23.13}\n"
     ]
    },
    {
     "name": "stderr",
     "output_type": "stream",
     "text": [
      " 93%|█████████▎| 1088/1175 [3:05:27<10:25,  7.19s/it]"
     ]
    },
    {
     "name": "stdout",
     "output_type": "stream",
     "text": [
      "{'loss': 0.1278, 'learning_rate': 4.442553191489362e-06, 'epoch': 23.15}\n"
     ]
    },
    {
     "name": "stderr",
     "output_type": "stream",
     "text": [
      " 93%|█████████▎| 1089/1175 [3:05:34<10:20,  7.22s/it]"
     ]
    },
    {
     "name": "stdout",
     "output_type": "stream",
     "text": [
      "{'loss': 0.0883, 'learning_rate': 4.391489361702128e-06, 'epoch': 23.17}\n"
     ]
    },
    {
     "name": "stderr",
     "output_type": "stream",
     "text": [
      " 93%|█████████▎| 1090/1175 [3:05:41<10:13,  7.22s/it]"
     ]
    },
    {
     "name": "stdout",
     "output_type": "stream",
     "text": [
      "{'loss': 0.0429, 'learning_rate': 4.340425531914893e-06, 'epoch': 23.19}\n"
     ]
    },
    {
     "name": "stderr",
     "output_type": "stream",
     "text": [
      " 93%|█████████▎| 1091/1175 [3:05:49<10:06,  7.22s/it]"
     ]
    },
    {
     "name": "stdout",
     "output_type": "stream",
     "text": [
      "{'loss': 0.0499, 'learning_rate': 4.28936170212766e-06, 'epoch': 23.21}\n"
     ]
    },
    {
     "name": "stderr",
     "output_type": "stream",
     "text": [
      " 93%|█████████▎| 1092/1175 [3:05:56<09:59,  7.23s/it]"
     ]
    },
    {
     "name": "stdout",
     "output_type": "stream",
     "text": [
      "{'loss': 0.032, 'learning_rate': 4.2382978723404256e-06, 'epoch': 23.23}\n"
     ]
    },
    {
     "name": "stderr",
     "output_type": "stream",
     "text": [
      " 93%|█████████▎| 1093/1175 [3:06:03<09:52,  7.22s/it]"
     ]
    },
    {
     "name": "stdout",
     "output_type": "stream",
     "text": [
      "{'loss': 0.0282, 'learning_rate': 4.187234042553191e-06, 'epoch': 23.26}\n"
     ]
    },
    {
     "name": "stderr",
     "output_type": "stream",
     "text": [
      " 93%|█████████▎| 1094/1175 [3:06:10<09:46,  7.24s/it]"
     ]
    },
    {
     "name": "stdout",
     "output_type": "stream",
     "text": [
      "{'loss': 0.2116, 'learning_rate': 4.136170212765958e-06, 'epoch': 23.28}\n"
     ]
    },
    {
     "name": "stderr",
     "output_type": "stream",
     "text": [
      " 93%|█████████▎| 1095/1175 [3:06:18<09:39,  7.24s/it]"
     ]
    },
    {
     "name": "stdout",
     "output_type": "stream",
     "text": [
      "{'loss': 0.0317, 'learning_rate': 4.085106382978723e-06, 'epoch': 23.3}\n"
     ]
    },
    {
     "name": "stderr",
     "output_type": "stream",
     "text": [
      " 93%|█████████▎| 1096/1175 [3:06:25<09:33,  7.27s/it]"
     ]
    },
    {
     "name": "stdout",
     "output_type": "stream",
     "text": [
      "{'loss': 0.0431, 'learning_rate': 4.034042553191489e-06, 'epoch': 23.32}\n"
     ]
    },
    {
     "name": "stderr",
     "output_type": "stream",
     "text": [
      " 93%|█████████▎| 1097/1175 [3:06:32<09:26,  7.27s/it]"
     ]
    },
    {
     "name": "stdout",
     "output_type": "stream",
     "text": [
      "{'loss': 0.0394, 'learning_rate': 3.982978723404255e-06, 'epoch': 23.34}\n"
     ]
    },
    {
     "name": "stderr",
     "output_type": "stream",
     "text": [
      " 93%|█████████▎| 1098/1175 [3:06:39<09:18,  7.25s/it]"
     ]
    },
    {
     "name": "stdout",
     "output_type": "stream",
     "text": [
      "{'loss': 0.1571, 'learning_rate': 3.931914893617021e-06, 'epoch': 23.36}\n"
     ]
    },
    {
     "name": "stderr",
     "output_type": "stream",
     "text": [
      " 94%|█████████▎| 1099/1175 [3:06:47<09:10,  7.24s/it]"
     ]
    },
    {
     "name": "stdout",
     "output_type": "stream",
     "text": [
      "{'loss': 0.0357, 'learning_rate': 3.880851063829787e-06, 'epoch': 23.38}\n"
     ]
    },
    {
     "name": "stderr",
     "output_type": "stream",
     "text": [
      " 94%|█████████▎| 1100/1175 [3:06:54<09:03,  7.25s/it]"
     ]
    },
    {
     "name": "stdout",
     "output_type": "stream",
     "text": [
      "{'loss': 0.0447, 'learning_rate': 3.829787234042553e-06, 'epoch': 23.4}\n"
     ]
    },
    {
     "name": "stderr",
     "output_type": "stream",
     "text": [
      "                                                     \n",
      " 94%|█████████▎| 1100/1175 [3:12:29<09:03,  7.25s/it]"
     ]
    },
    {
     "name": "stdout",
     "output_type": "stream",
     "text": [
      "{'eval_loss': 0.022452769801020622, 'eval_mean_iou': 0.6638556044592797, 'eval_mean_accuracy': 0.7037007845682619, 'eval_overall_accuracy': 0.9952961658609325, 'eval_per_category_iou': [0.0, 0.9953765567459015, 0.8968567658025597, 0.7631890952886574], 'eval_per_category_accuracy': [0.0, 0.9976284722555538, 0.9416167095693035, 0.8755579564481902], 'eval_runtime': 334.9683, 'eval_samples_per_second': 0.693, 'eval_steps_per_second': 0.072, 'epoch': 23.4}\n"
     ]
    },
    {
     "name": "stderr",
     "output_type": "stream",
     "text": [
      " 94%|█████████▎| 1101/1175 [3:12:37<2:13:05, 107.91s/it]"
     ]
    },
    {
     "name": "stdout",
     "output_type": "stream",
     "text": [
      "{'loss': 0.0411, 'learning_rate': 3.7787234042553196e-06, 'epoch': 23.43}\n"
     ]
    },
    {
     "name": "stderr",
     "output_type": "stream",
     "text": [
      " 94%|█████████▍| 1102/1175 [3:12:44<1:34:32, 77.71s/it] "
     ]
    },
    {
     "name": "stdout",
     "output_type": "stream",
     "text": [
      "{'loss': 0.0242, 'learning_rate': 3.7276595744680852e-06, 'epoch': 23.45}\n"
     ]
    },
    {
     "name": "stderr",
     "output_type": "stream",
     "text": [
      " 94%|█████████▍| 1103/1175 [3:12:51<1:07:53, 56.58s/it]"
     ]
    },
    {
     "name": "stdout",
     "output_type": "stream",
     "text": [
      "{'loss': 0.0343, 'learning_rate': 3.676595744680851e-06, 'epoch': 23.47}\n"
     ]
    },
    {
     "name": "stderr",
     "output_type": "stream",
     "text": [
      " 94%|█████████▍| 1104/1175 [3:12:58<49:26, 41.78s/it]  "
     ]
    },
    {
     "name": "stdout",
     "output_type": "stream",
     "text": [
      "{'loss': 0.0436, 'learning_rate': 3.625531914893617e-06, 'epoch': 23.49}\n"
     ]
    },
    {
     "name": "stderr",
     "output_type": "stream",
     "text": [
      " 94%|█████████▍| 1105/1175 [3:13:06<36:41, 31.45s/it]"
     ]
    },
    {
     "name": "stdout",
     "output_type": "stream",
     "text": [
      "{'loss': 0.0298, 'learning_rate': 3.574468085106383e-06, 'epoch': 23.51}\n"
     ]
    },
    {
     "name": "stderr",
     "output_type": "stream",
     "text": [
      " 94%|█████████▍| 1106/1175 [3:13:13<27:48, 24.18s/it]"
     ]
    },
    {
     "name": "stdout",
     "output_type": "stream",
     "text": [
      "{'loss': 0.1015, 'learning_rate': 3.5234042553191488e-06, 'epoch': 23.53}\n"
     ]
    },
    {
     "name": "stderr",
     "output_type": "stream",
     "text": [
      " 94%|█████████▍| 1107/1175 [3:13:20<21:38, 19.10s/it]"
     ]
    },
    {
     "name": "stdout",
     "output_type": "stream",
     "text": [
      "{'loss': 0.0515, 'learning_rate': 3.4723404255319153e-06, 'epoch': 23.55}\n"
     ]
    },
    {
     "name": "stderr",
     "output_type": "stream",
     "text": [
      " 94%|█████████▍| 1108/1175 [3:13:27<17:20, 15.53s/it]"
     ]
    },
    {
     "name": "stdout",
     "output_type": "stream",
     "text": [
      "{'loss': 0.0266, 'learning_rate': 3.421276595744681e-06, 'epoch': 23.57}\n"
     ]
    },
    {
     "name": "stderr",
     "output_type": "stream",
     "text": [
      " 94%|█████████▍| 1109/1175 [3:13:35<14:20, 13.04s/it]"
     ]
    },
    {
     "name": "stdout",
     "output_type": "stream",
     "text": [
      "{'loss': 0.0919, 'learning_rate': 3.370212765957447e-06, 'epoch': 23.6}\n"
     ]
    },
    {
     "name": "stderr",
     "output_type": "stream",
     "text": [
      " 94%|█████████▍| 1110/1175 [3:13:42<12:16, 11.33s/it]"
     ]
    },
    {
     "name": "stdout",
     "output_type": "stream",
     "text": [
      "{'loss': 0.0321, 'learning_rate': 3.3191489361702127e-06, 'epoch': 23.62}\n"
     ]
    },
    {
     "name": "stderr",
     "output_type": "stream",
     "text": [
      " 95%|█████████▍| 1111/1175 [3:13:49<10:46, 10.11s/it]"
     ]
    },
    {
     "name": "stdout",
     "output_type": "stream",
     "text": [
      "{'loss': 0.0378, 'learning_rate': 3.268085106382979e-06, 'epoch': 23.64}\n"
     ]
    },
    {
     "name": "stderr",
     "output_type": "stream",
     "text": [
      " 95%|█████████▍| 1112/1175 [3:13:56<09:42,  9.25s/it]"
     ]
    },
    {
     "name": "stdout",
     "output_type": "stream",
     "text": [
      "{'loss': 0.0369, 'learning_rate': 3.217021276595745e-06, 'epoch': 23.66}\n"
     ]
    },
    {
     "name": "stderr",
     "output_type": "stream",
     "text": [
      " 95%|█████████▍| 1113/1175 [3:14:04<08:55,  8.64s/it]"
     ]
    },
    {
     "name": "stdout",
     "output_type": "stream",
     "text": [
      "{'loss': 0.0397, 'learning_rate': 3.1659574468085106e-06, 'epoch': 23.68}\n"
     ]
    },
    {
     "name": "stderr",
     "output_type": "stream",
     "text": [
      " 95%|█████████▍| 1114/1175 [3:14:11<08:20,  8.20s/it]"
     ]
    },
    {
     "name": "stdout",
     "output_type": "stream",
     "text": [
      "{'loss': 0.0321, 'learning_rate': 3.1148936170212767e-06, 'epoch': 23.7}\n"
     ]
    },
    {
     "name": "stderr",
     "output_type": "stream",
     "text": [
      " 95%|█████████▍| 1115/1175 [3:14:18<07:53,  7.90s/it]"
     ]
    },
    {
     "name": "stdout",
     "output_type": "stream",
     "text": [
      "{'loss': 0.0348, 'learning_rate': 3.0638297872340424e-06, 'epoch': 23.72}\n"
     ]
    },
    {
     "name": "stderr",
     "output_type": "stream",
     "text": [
      " 95%|█████████▍| 1116/1175 [3:14:25<07:34,  7.70s/it]"
     ]
    },
    {
     "name": "stdout",
     "output_type": "stream",
     "text": [
      "{'loss': 0.0369, 'learning_rate': 3.0127659574468084e-06, 'epoch': 23.74}\n"
     ]
    },
    {
     "name": "stderr",
     "output_type": "stream",
     "text": [
      " 95%|█████████▌| 1117/1175 [3:14:33<07:18,  7.57s/it]"
     ]
    },
    {
     "name": "stdout",
     "output_type": "stream",
     "text": [
      "{'loss': 0.0239, 'learning_rate': 2.9617021276595745e-06, 'epoch': 23.77}\n"
     ]
    },
    {
     "name": "stderr",
     "output_type": "stream",
     "text": [
      " 95%|█████████▌| 1118/1175 [3:14:40<07:04,  7.44s/it]"
     ]
    },
    {
     "name": "stdout",
     "output_type": "stream",
     "text": [
      "{'loss': 0.053, 'learning_rate': 2.9106382978723406e-06, 'epoch': 23.79}\n"
     ]
    },
    {
     "name": "stderr",
     "output_type": "stream",
     "text": [
      " 95%|█████████▌| 1119/1175 [3:14:47<06:52,  7.37s/it]"
     ]
    },
    {
     "name": "stdout",
     "output_type": "stream",
     "text": [
      "{'loss': 0.2077, 'learning_rate': 2.8595744680851067e-06, 'epoch': 23.81}\n"
     ]
    },
    {
     "name": "stderr",
     "output_type": "stream",
     "text": [
      " 95%|█████████▌| 1120/1175 [3:14:54<06:43,  7.33s/it]"
     ]
    },
    {
     "name": "stdout",
     "output_type": "stream",
     "text": [
      "{'loss': 0.0468, 'learning_rate': 2.8085106382978724e-06, 'epoch': 23.83}\n"
     ]
    },
    {
     "name": "stderr",
     "output_type": "stream",
     "text": [
      " 95%|█████████▌| 1121/1175 [3:15:01<06:33,  7.29s/it]"
     ]
    },
    {
     "name": "stdout",
     "output_type": "stream",
     "text": [
      "{'loss': 0.0409, 'learning_rate': 2.7574468085106385e-06, 'epoch': 23.85}\n"
     ]
    },
    {
     "name": "stderr",
     "output_type": "stream",
     "text": [
      " 95%|█████████▌| 1122/1175 [3:15:09<06:25,  7.28s/it]"
     ]
    },
    {
     "name": "stdout",
     "output_type": "stream",
     "text": [
      "{'loss': 0.0408, 'learning_rate': 2.706382978723404e-06, 'epoch': 23.87}\n"
     ]
    },
    {
     "name": "stderr",
     "output_type": "stream",
     "text": [
      " 96%|█████████▌| 1123/1175 [3:15:16<06:18,  7.27s/it]"
     ]
    },
    {
     "name": "stdout",
     "output_type": "stream",
     "text": [
      "{'loss': 0.05, 'learning_rate': 2.6553191489361703e-06, 'epoch': 23.89}\n"
     ]
    },
    {
     "name": "stderr",
     "output_type": "stream",
     "text": [
      " 96%|█████████▌| 1124/1175 [3:15:23<06:10,  7.26s/it]"
     ]
    },
    {
     "name": "stdout",
     "output_type": "stream",
     "text": [
      "{'loss': 0.0538, 'learning_rate': 2.6042553191489364e-06, 'epoch': 23.91}\n"
     ]
    },
    {
     "name": "stderr",
     "output_type": "stream",
     "text": [
      " 96%|█████████▌| 1125/1175 [3:15:30<06:02,  7.25s/it]"
     ]
    },
    {
     "name": "stdout",
     "output_type": "stream",
     "text": [
      "{'loss': 0.0386, 'learning_rate': 2.553191489361702e-06, 'epoch': 23.94}\n"
     ]
    },
    {
     "name": "stderr",
     "output_type": "stream",
     "text": [
      " 96%|█████████▌| 1126/1175 [3:15:38<05:55,  7.25s/it]"
     ]
    },
    {
     "name": "stdout",
     "output_type": "stream",
     "text": [
      "{'loss': 0.052, 'learning_rate': 2.502127659574468e-06, 'epoch': 23.96}\n"
     ]
    },
    {
     "name": "stderr",
     "output_type": "stream",
     "text": [
      " 96%|█████████▌| 1127/1175 [3:15:44<05:41,  7.12s/it]"
     ]
    },
    {
     "name": "stdout",
     "output_type": "stream",
     "text": [
      "{'loss': 0.0229, 'learning_rate': 2.451063829787234e-06, 'epoch': 23.98}\n"
     ]
    },
    {
     "name": "stderr",
     "output_type": "stream",
     "text": [
      " 96%|█████████▌| 1128/1175 [3:15:48<04:49,  6.15s/it]"
     ]
    },
    {
     "name": "stdout",
     "output_type": "stream",
     "text": [
      "{'loss': 0.0704, 'learning_rate': 2.4000000000000003e-06, 'epoch': 24.0}\n"
     ]
    },
    {
     "name": "stderr",
     "output_type": "stream",
     "text": [
      " 96%|█████████▌| 1129/1175 [3:15:57<05:16,  6.88s/it]"
     ]
    },
    {
     "name": "stdout",
     "output_type": "stream",
     "text": [
      "{'loss': 0.0441, 'learning_rate': 2.348936170212766e-06, 'epoch': 24.02}\n"
     ]
    },
    {
     "name": "stderr",
     "output_type": "stream",
     "text": [
      " 96%|█████████▌| 1130/1175 [3:16:04<05:12,  6.95s/it]"
     ]
    },
    {
     "name": "stdout",
     "output_type": "stream",
     "text": [
      "{'loss': 0.1401, 'learning_rate': 2.297872340425532e-06, 'epoch': 24.04}\n"
     ]
    },
    {
     "name": "stderr",
     "output_type": "stream",
     "text": [
      " 96%|█████████▋| 1131/1175 [3:16:11<05:09,  7.03s/it]"
     ]
    },
    {
     "name": "stdout",
     "output_type": "stream",
     "text": [
      "{'loss': 0.0355, 'learning_rate': 2.246808510638298e-06, 'epoch': 24.06}\n"
     ]
    },
    {
     "name": "stderr",
     "output_type": "stream",
     "text": [
      " 96%|█████████▋| 1132/1175 [3:16:18<05:04,  7.09s/it]"
     ]
    },
    {
     "name": "stdout",
     "output_type": "stream",
     "text": [
      "{'loss': 0.0327, 'learning_rate': 2.195744680851064e-06, 'epoch': 24.09}\n"
     ]
    },
    {
     "name": "stderr",
     "output_type": "stream",
     "text": [
      " 96%|█████████▋| 1133/1175 [3:16:26<04:59,  7.12s/it]"
     ]
    },
    {
     "name": "stdout",
     "output_type": "stream",
     "text": [
      "{'loss': 0.0385, 'learning_rate': 2.14468085106383e-06, 'epoch': 24.11}\n"
     ]
    },
    {
     "name": "stderr",
     "output_type": "stream",
     "text": [
      " 97%|█████████▋| 1134/1175 [3:16:33<04:53,  7.16s/it]"
     ]
    },
    {
     "name": "stdout",
     "output_type": "stream",
     "text": [
      "{'loss': 0.0847, 'learning_rate': 2.0936170212765956e-06, 'epoch': 24.13}\n"
     ]
    },
    {
     "name": "stderr",
     "output_type": "stream",
     "text": [
      " 97%|█████████▋| 1135/1175 [3:16:40<04:47,  7.18s/it]"
     ]
    },
    {
     "name": "stdout",
     "output_type": "stream",
     "text": [
      "{'loss': 0.0412, 'learning_rate': 2.0425531914893617e-06, 'epoch': 24.15}\n"
     ]
    },
    {
     "name": "stderr",
     "output_type": "stream",
     "text": [
      " 97%|█████████▋| 1136/1175 [3:16:47<04:40,  7.20s/it]"
     ]
    },
    {
     "name": "stdout",
     "output_type": "stream",
     "text": [
      "{'loss': 0.0254, 'learning_rate': 1.9914893617021274e-06, 'epoch': 24.17}\n"
     ]
    },
    {
     "name": "stderr",
     "output_type": "stream",
     "text": [
      " 97%|█████████▋| 1137/1175 [3:16:55<04:33,  7.21s/it]"
     ]
    },
    {
     "name": "stdout",
     "output_type": "stream",
     "text": [
      "{'loss': 0.0415, 'learning_rate': 1.9404255319148935e-06, 'epoch': 24.19}\n"
     ]
    },
    {
     "name": "stderr",
     "output_type": "stream",
     "text": [
      " 97%|█████████▋| 1138/1175 [3:17:02<04:27,  7.22s/it]"
     ]
    },
    {
     "name": "stdout",
     "output_type": "stream",
     "text": [
      "{'loss': 0.0221, 'learning_rate': 1.8893617021276598e-06, 'epoch': 24.21}\n"
     ]
    },
    {
     "name": "stderr",
     "output_type": "stream",
     "text": [
      " 97%|█████████▋| 1139/1175 [3:17:09<04:21,  7.25s/it]"
     ]
    },
    {
     "name": "stdout",
     "output_type": "stream",
     "text": [
      "{'loss': 0.0942, 'learning_rate': 1.8382978723404255e-06, 'epoch': 24.23}\n"
     ]
    },
    {
     "name": "stderr",
     "output_type": "stream",
     "text": [
      " 97%|█████████▋| 1140/1175 [3:17:16<04:13,  7.25s/it]"
     ]
    },
    {
     "name": "stdout",
     "output_type": "stream",
     "text": [
      "{'loss': 0.0347, 'learning_rate': 1.7872340425531915e-06, 'epoch': 24.26}\n"
     ]
    },
    {
     "name": "stderr",
     "output_type": "stream",
     "text": [
      " 97%|█████████▋| 1141/1175 [3:17:24<04:06,  7.26s/it]"
     ]
    },
    {
     "name": "stdout",
     "output_type": "stream",
     "text": [
      "{'loss': 0.0412, 'learning_rate': 1.7361702127659576e-06, 'epoch': 24.28}\n"
     ]
    },
    {
     "name": "stderr",
     "output_type": "stream",
     "text": [
      " 97%|█████████▋| 1142/1175 [3:17:31<03:59,  7.25s/it]"
     ]
    },
    {
     "name": "stdout",
     "output_type": "stream",
     "text": [
      "{'loss': 0.0424, 'learning_rate': 1.6851063829787235e-06, 'epoch': 24.3}\n"
     ]
    },
    {
     "name": "stderr",
     "output_type": "stream",
     "text": [
      " 97%|█████████▋| 1143/1175 [3:17:38<03:51,  7.23s/it]"
     ]
    },
    {
     "name": "stdout",
     "output_type": "stream",
     "text": [
      "{'loss': 0.0559, 'learning_rate': 1.6340425531914894e-06, 'epoch': 24.32}\n"
     ]
    },
    {
     "name": "stderr",
     "output_type": "stream",
     "text": [
      " 97%|█████████▋| 1144/1175 [3:17:45<03:44,  7.23s/it]"
     ]
    },
    {
     "name": "stdout",
     "output_type": "stream",
     "text": [
      "{'loss': 0.0362, 'learning_rate': 1.5829787234042553e-06, 'epoch': 24.34}\n"
     ]
    },
    {
     "name": "stderr",
     "output_type": "stream",
     "text": [
      " 97%|█████████▋| 1145/1175 [3:17:53<03:37,  7.24s/it]"
     ]
    },
    {
     "name": "stdout",
     "output_type": "stream",
     "text": [
      "{'loss': 0.0261, 'learning_rate': 1.5319148936170212e-06, 'epoch': 24.36}\n"
     ]
    },
    {
     "name": "stderr",
     "output_type": "stream",
     "text": [
      " 98%|█████████▊| 1146/1175 [3:18:00<03:29,  7.24s/it]"
     ]
    },
    {
     "name": "stdout",
     "output_type": "stream",
     "text": [
      "{'loss': 0.0735, 'learning_rate': 1.4808510638297873e-06, 'epoch': 24.38}\n"
     ]
    },
    {
     "name": "stderr",
     "output_type": "stream",
     "text": [
      " 98%|█████████▊| 1147/1175 [3:18:07<03:22,  7.24s/it]"
     ]
    },
    {
     "name": "stdout",
     "output_type": "stream",
     "text": [
      "{'loss': 0.0572, 'learning_rate': 1.4297872340425534e-06, 'epoch': 24.4}\n"
     ]
    },
    {
     "name": "stderr",
     "output_type": "stream",
     "text": [
      " 98%|█████████▊| 1148/1175 [3:18:14<03:15,  7.24s/it]"
     ]
    },
    {
     "name": "stdout",
     "output_type": "stream",
     "text": [
      "{'loss': 0.0658, 'learning_rate': 1.3787234042553192e-06, 'epoch': 24.43}\n"
     ]
    },
    {
     "name": "stderr",
     "output_type": "stream",
     "text": [
      " 98%|█████████▊| 1149/1175 [3:18:22<03:08,  7.23s/it]"
     ]
    },
    {
     "name": "stdout",
     "output_type": "stream",
     "text": [
      "{'loss': 0.029, 'learning_rate': 1.3276595744680851e-06, 'epoch': 24.45}\n"
     ]
    },
    {
     "name": "stderr",
     "output_type": "stream",
     "text": [
      " 98%|█████████▊| 1150/1175 [3:18:29<03:00,  7.23s/it]"
     ]
    },
    {
     "name": "stdout",
     "output_type": "stream",
     "text": [
      "{'loss': 0.053, 'learning_rate': 1.276595744680851e-06, 'epoch': 24.47}\n"
     ]
    },
    {
     "name": "stderr",
     "output_type": "stream",
     "text": [
      " 98%|█████████▊| 1151/1175 [3:18:36<02:53,  7.23s/it]"
     ]
    },
    {
     "name": "stdout",
     "output_type": "stream",
     "text": [
      "{'loss': 0.0591, 'learning_rate': 1.225531914893617e-06, 'epoch': 24.49}\n"
     ]
    },
    {
     "name": "stderr",
     "output_type": "stream",
     "text": [
      " 98%|█████████▊| 1152/1175 [3:18:43<02:46,  7.22s/it]"
     ]
    },
    {
     "name": "stdout",
     "output_type": "stream",
     "text": [
      "{'loss': 0.0603, 'learning_rate': 1.174468085106383e-06, 'epoch': 24.51}\n"
     ]
    },
    {
     "name": "stderr",
     "output_type": "stream",
     "text": [
      " 98%|█████████▊| 1153/1175 [3:18:50<02:39,  7.24s/it]"
     ]
    },
    {
     "name": "stdout",
     "output_type": "stream",
     "text": [
      "{'loss': 0.0419, 'learning_rate': 1.123404255319149e-06, 'epoch': 24.53}\n"
     ]
    },
    {
     "name": "stderr",
     "output_type": "stream",
     "text": [
      " 98%|█████████▊| 1154/1175 [3:18:58<02:32,  7.24s/it]"
     ]
    },
    {
     "name": "stdout",
     "output_type": "stream",
     "text": [
      "{'loss': 0.0543, 'learning_rate': 1.072340425531915e-06, 'epoch': 24.55}\n"
     ]
    },
    {
     "name": "stderr",
     "output_type": "stream",
     "text": [
      " 98%|█████████▊| 1155/1175 [3:19:05<02:24,  7.24s/it]"
     ]
    },
    {
     "name": "stdout",
     "output_type": "stream",
     "text": [
      "{'loss': 0.0355, 'learning_rate': 1.0212765957446809e-06, 'epoch': 24.57}\n"
     ]
    },
    {
     "name": "stderr",
     "output_type": "stream",
     "text": [
      " 98%|█████████▊| 1156/1175 [3:19:12<02:17,  7.24s/it]"
     ]
    },
    {
     "name": "stdout",
     "output_type": "stream",
     "text": [
      "{'loss': 0.0576, 'learning_rate': 9.702127659574467e-07, 'epoch': 24.6}\n"
     ]
    },
    {
     "name": "stderr",
     "output_type": "stream",
     "text": [
      " 98%|█████████▊| 1157/1175 [3:19:19<02:10,  7.24s/it]"
     ]
    },
    {
     "name": "stdout",
     "output_type": "stream",
     "text": [
      "{'loss': 0.0301, 'learning_rate': 9.191489361702127e-07, 'epoch': 24.62}\n"
     ]
    },
    {
     "name": "stderr",
     "output_type": "stream",
     "text": [
      " 99%|█████████▊| 1158/1175 [3:19:27<02:02,  7.22s/it]"
     ]
    },
    {
     "name": "stdout",
     "output_type": "stream",
     "text": [
      "{'loss': 0.0393, 'learning_rate': 8.680851063829788e-07, 'epoch': 24.64}\n"
     ]
    },
    {
     "name": "stderr",
     "output_type": "stream",
     "text": [
      " 99%|█████████▊| 1159/1175 [3:19:34<01:55,  7.23s/it]"
     ]
    },
    {
     "name": "stdout",
     "output_type": "stream",
     "text": [
      "{'loss': 0.0307, 'learning_rate': 8.170212765957447e-07, 'epoch': 24.66}\n"
     ]
    },
    {
     "name": "stderr",
     "output_type": "stream",
     "text": [
      " 99%|█████████▊| 1160/1175 [3:19:41<01:48,  7.23s/it]"
     ]
    },
    {
     "name": "stdout",
     "output_type": "stream",
     "text": [
      "{'loss': 0.0338, 'learning_rate': 7.659574468085106e-07, 'epoch': 24.68}\n"
     ]
    },
    {
     "name": "stderr",
     "output_type": "stream",
     "text": [
      " 99%|█████████▉| 1161/1175 [3:19:48<01:41,  7.25s/it]"
     ]
    },
    {
     "name": "stdout",
     "output_type": "stream",
     "text": [
      "{'loss': 0.2842, 'learning_rate': 7.148936170212767e-07, 'epoch': 24.7}\n"
     ]
    },
    {
     "name": "stderr",
     "output_type": "stream",
     "text": [
      " 99%|█████████▉| 1162/1175 [3:19:56<01:34,  7.25s/it]"
     ]
    },
    {
     "name": "stdout",
     "output_type": "stream",
     "text": [
      "{'loss': 0.0246, 'learning_rate': 6.638297872340426e-07, 'epoch': 24.72}\n"
     ]
    },
    {
     "name": "stderr",
     "output_type": "stream",
     "text": [
      " 99%|█████████▉| 1163/1175 [3:20:03<01:26,  7.24s/it]"
     ]
    },
    {
     "name": "stdout",
     "output_type": "stream",
     "text": [
      "{'loss': 0.0332, 'learning_rate': 6.127659574468084e-07, 'epoch': 24.74}\n"
     ]
    },
    {
     "name": "stderr",
     "output_type": "stream",
     "text": [
      " 99%|█████████▉| 1164/1175 [3:20:10<01:19,  7.24s/it]"
     ]
    },
    {
     "name": "stdout",
     "output_type": "stream",
     "text": [
      "{'loss': 0.0564, 'learning_rate': 5.617021276595745e-07, 'epoch': 24.77}\n"
     ]
    },
    {
     "name": "stderr",
     "output_type": "stream",
     "text": [
      " 99%|█████████▉| 1165/1175 [3:20:17<01:12,  7.24s/it]"
     ]
    },
    {
     "name": "stdout",
     "output_type": "stream",
     "text": [
      "{'loss': 0.0345, 'learning_rate': 5.106382978723404e-07, 'epoch': 24.79}\n"
     ]
    },
    {
     "name": "stderr",
     "output_type": "stream",
     "text": [
      " 99%|█████████▉| 1166/1175 [3:20:25<01:05,  7.24s/it]"
     ]
    },
    {
     "name": "stdout",
     "output_type": "stream",
     "text": [
      "{'loss': 0.0384, 'learning_rate': 4.5957446808510636e-07, 'epoch': 24.81}\n"
     ]
    },
    {
     "name": "stderr",
     "output_type": "stream",
     "text": [
      " 99%|█████████▉| 1167/1175 [3:20:32<00:57,  7.23s/it]"
     ]
    },
    {
     "name": "stdout",
     "output_type": "stream",
     "text": [
      "{'loss': 0.0297, 'learning_rate': 4.0851063829787235e-07, 'epoch': 24.83}\n"
     ]
    },
    {
     "name": "stderr",
     "output_type": "stream",
     "text": [
      " 99%|█████████▉| 1168/1175 [3:20:39<00:50,  7.23s/it]"
     ]
    },
    {
     "name": "stdout",
     "output_type": "stream",
     "text": [
      "{'loss': 0.0344, 'learning_rate': 3.5744680851063834e-07, 'epoch': 24.85}\n"
     ]
    },
    {
     "name": "stderr",
     "output_type": "stream",
     "text": [
      " 99%|█████████▉| 1169/1175 [3:20:46<00:43,  7.23s/it]"
     ]
    },
    {
     "name": "stdout",
     "output_type": "stream",
     "text": [
      "{'loss': 0.0593, 'learning_rate': 3.063829787234042e-07, 'epoch': 24.87}\n"
     ]
    },
    {
     "name": "stderr",
     "output_type": "stream",
     "text": [
      "100%|█████████▉| 1170/1175 [3:20:53<00:36,  7.22s/it]"
     ]
    },
    {
     "name": "stdout",
     "output_type": "stream",
     "text": [
      "{'loss': 0.0343, 'learning_rate': 2.553191489361702e-07, 'epoch': 24.89}\n"
     ]
    },
    {
     "name": "stderr",
     "output_type": "stream",
     "text": [
      "100%|█████████▉| 1171/1175 [3:21:01<00:28,  7.22s/it]"
     ]
    },
    {
     "name": "stdout",
     "output_type": "stream",
     "text": [
      "{'loss': 0.0303, 'learning_rate': 2.0425531914893618e-07, 'epoch': 24.91}\n"
     ]
    },
    {
     "name": "stderr",
     "output_type": "stream",
     "text": [
      "100%|█████████▉| 1172/1175 [3:21:08<00:21,  7.23s/it]"
     ]
    },
    {
     "name": "stdout",
     "output_type": "stream",
     "text": [
      "{'loss': 0.0242, 'learning_rate': 1.531914893617021e-07, 'epoch': 24.94}\n"
     ]
    },
    {
     "name": "stderr",
     "output_type": "stream",
     "text": [
      "100%|█████████▉| 1173/1175 [3:21:15<00:14,  7.23s/it]"
     ]
    },
    {
     "name": "stdout",
     "output_type": "stream",
     "text": [
      "{'loss': 0.0263, 'learning_rate': 1.0212765957446809e-07, 'epoch': 24.96}\n"
     ]
    },
    {
     "name": "stderr",
     "output_type": "stream",
     "text": [
      "100%|█████████▉| 1174/1175 [3:21:22<00:07,  7.11s/it]"
     ]
    },
    {
     "name": "stdout",
     "output_type": "stream",
     "text": [
      "{'loss': 0.0298, 'learning_rate': 5.1063829787234044e-08, 'epoch': 24.98}\n"
     ]
    },
    {
     "name": "stderr",
     "output_type": "stream",
     "text": [
      "100%|██████████| 1175/1175 [3:21:26<00:00, 10.29s/it]"
     ]
    },
    {
     "name": "stdout",
     "output_type": "stream",
     "text": [
      "{'loss': 0.0336, 'learning_rate': 0.0, 'epoch': 25.0}\n",
      "{'train_runtime': 12086.4048, 'train_samples_per_second': 0.966, 'train_steps_per_second': 0.097, 'train_loss': 0.19395920311199857, 'epoch': 25.0}\n"
     ]
    },
    {
     "name": "stderr",
     "output_type": "stream",
     "text": [
      "\n"
     ]
    },
    {
     "data": {
      "text/plain": [
       "TrainOutput(global_step=1175, training_loss=0.19395920311199857, metrics={'train_runtime': 12086.4048, 'train_samples_per_second': 0.966, 'train_steps_per_second': 0.097, 'train_loss': 0.19395920311199857, 'epoch': 25.0})"
      ]
     },
     "execution_count": 23,
     "metadata": {},
     "output_type": "execute_result"
    }
   ],
   "source": [
    "trainer = initialize_trainer(train_ds, val_ds)\n",
    "trainer.train()"
   ]
  },
  {
   "cell_type": "code",
   "execution_count": 24,
   "metadata": {},
   "outputs": [
    {
     "data": {
      "text/plain": [
       "[{'loss': 1.3335,\n",
       "  'learning_rate': 5.9948936170212765e-05,\n",
       "  'epoch': 0.02,\n",
       "  'step': 1},\n",
       " {'loss': 1.2963,\n",
       "  'learning_rate': 5.9897872340425535e-05,\n",
       "  'epoch': 0.04,\n",
       "  'step': 2},\n",
       " {'loss': 1.2806,\n",
       "  'learning_rate': 5.98468085106383e-05,\n",
       "  'epoch': 0.06,\n",
       "  'step': 3},\n",
       " {'loss': 1.2593,\n",
       "  'learning_rate': 5.979574468085107e-05,\n",
       "  'epoch': 0.09,\n",
       "  'step': 4},\n",
       " {'loss': 1.2451,\n",
       "  'learning_rate': 5.974468085106383e-05,\n",
       "  'epoch': 0.11,\n",
       "  'step': 5},\n",
       " {'loss': 1.2246,\n",
       "  'learning_rate': 5.9693617021276594e-05,\n",
       "  'epoch': 0.13,\n",
       "  'step': 6},\n",
       " {'loss': 1.224,\n",
       "  'learning_rate': 5.9642553191489364e-05,\n",
       "  'epoch': 0.15,\n",
       "  'step': 7},\n",
       " {'loss': 1.2089,\n",
       "  'learning_rate': 5.959148936170213e-05,\n",
       "  'epoch': 0.17,\n",
       "  'step': 8},\n",
       " {'loss': 1.1796,\n",
       "  'learning_rate': 5.95404255319149e-05,\n",
       "  'epoch': 0.19,\n",
       "  'step': 9},\n",
       " {'loss': 1.1972,\n",
       "  'learning_rate': 5.948936170212766e-05,\n",
       "  'epoch': 0.21,\n",
       "  'step': 10},\n",
       " {'loss': 1.1453,\n",
       "  'learning_rate': 5.943829787234043e-05,\n",
       "  'epoch': 0.23,\n",
       "  'step': 11},\n",
       " {'loss': 1.1501,\n",
       "  'learning_rate': 5.938723404255319e-05,\n",
       "  'epoch': 0.26,\n",
       "  'step': 12},\n",
       " {'loss': 1.1411,\n",
       "  'learning_rate': 5.9336170212765956e-05,\n",
       "  'epoch': 0.28,\n",
       "  'step': 13},\n",
       " {'loss': 1.1108,\n",
       "  'learning_rate': 5.9285106382978726e-05,\n",
       "  'epoch': 0.3,\n",
       "  'step': 14},\n",
       " {'loss': 1.0994,\n",
       "  'learning_rate': 5.923404255319149e-05,\n",
       "  'epoch': 0.32,\n",
       "  'step': 15},\n",
       " {'loss': 1.0709,\n",
       "  'learning_rate': 5.918297872340426e-05,\n",
       "  'epoch': 0.34,\n",
       "  'step': 16},\n",
       " {'loss': 1.0663,\n",
       "  'learning_rate': 5.913191489361702e-05,\n",
       "  'epoch': 0.36,\n",
       "  'step': 17},\n",
       " {'loss': 1.0194,\n",
       "  'learning_rate': 5.9080851063829785e-05,\n",
       "  'epoch': 0.38,\n",
       "  'step': 18},\n",
       " {'loss': 1.0398,\n",
       "  'learning_rate': 5.9029787234042555e-05,\n",
       "  'epoch': 0.4,\n",
       "  'step': 19},\n",
       " {'loss': 1.0177,\n",
       "  'learning_rate': 5.897872340425532e-05,\n",
       "  'epoch': 0.43,\n",
       "  'step': 20},\n",
       " {'loss': 0.9994,\n",
       "  'learning_rate': 5.892765957446809e-05,\n",
       "  'epoch': 0.45,\n",
       "  'step': 21},\n",
       " {'loss': 1.0309,\n",
       "  'learning_rate': 5.887659574468085e-05,\n",
       "  'epoch': 0.47,\n",
       "  'step': 22},\n",
       " {'loss': 0.9725,\n",
       "  'learning_rate': 5.8825531914893615e-05,\n",
       "  'epoch': 0.49,\n",
       "  'step': 23},\n",
       " {'loss': 0.9303,\n",
       "  'learning_rate': 5.8774468085106384e-05,\n",
       "  'epoch': 0.51,\n",
       "  'step': 24},\n",
       " {'loss': 0.94,\n",
       "  'learning_rate': 5.872340425531915e-05,\n",
       "  'epoch': 0.53,\n",
       "  'step': 25},\n",
       " {'loss': 0.9012,\n",
       "  'learning_rate': 5.867234042553192e-05,\n",
       "  'epoch': 0.55,\n",
       "  'step': 26},\n",
       " {'loss': 0.9294,\n",
       "  'learning_rate': 5.862127659574468e-05,\n",
       "  'epoch': 0.57,\n",
       "  'step': 27},\n",
       " {'loss': 0.8528,\n",
       "  'learning_rate': 5.857021276595745e-05,\n",
       "  'epoch': 0.6,\n",
       "  'step': 28},\n",
       " {'loss': 0.8647,\n",
       "  'learning_rate': 5.8519148936170214e-05,\n",
       "  'epoch': 0.62,\n",
       "  'step': 29},\n",
       " {'loss': 0.8354,\n",
       "  'learning_rate': 5.846808510638298e-05,\n",
       "  'epoch': 0.64,\n",
       "  'step': 30},\n",
       " {'loss': 0.8684,\n",
       "  'learning_rate': 5.841702127659575e-05,\n",
       "  'epoch': 0.66,\n",
       "  'step': 31},\n",
       " {'loss': 0.8331,\n",
       "  'learning_rate': 5.836595744680851e-05,\n",
       "  'epoch': 0.68,\n",
       "  'step': 32},\n",
       " {'loss': 0.8605,\n",
       "  'learning_rate': 5.831489361702128e-05,\n",
       "  'epoch': 0.7,\n",
       "  'step': 33},\n",
       " {'loss': 0.8478,\n",
       "  'learning_rate': 5.826382978723404e-05,\n",
       "  'epoch': 0.72,\n",
       "  'step': 34},\n",
       " {'loss': 0.8498,\n",
       "  'learning_rate': 5.8212765957446806e-05,\n",
       "  'epoch': 0.74,\n",
       "  'step': 35},\n",
       " {'loss': 0.918,\n",
       "  'learning_rate': 5.8161702127659576e-05,\n",
       "  'epoch': 0.77,\n",
       "  'step': 36},\n",
       " {'loss': 0.8147,\n",
       "  'learning_rate': 5.811063829787234e-05,\n",
       "  'epoch': 0.79,\n",
       "  'step': 37},\n",
       " {'loss': 0.7621,\n",
       "  'learning_rate': 5.805957446808511e-05,\n",
       "  'epoch': 0.81,\n",
       "  'step': 38},\n",
       " {'loss': 0.7463,\n",
       "  'learning_rate': 5.800851063829787e-05,\n",
       "  'epoch': 0.83,\n",
       "  'step': 39},\n",
       " {'loss': 0.7658,\n",
       "  'learning_rate': 5.7957446808510635e-05,\n",
       "  'epoch': 0.85,\n",
       "  'step': 40},\n",
       " {'loss': 0.8418,\n",
       "  'learning_rate': 5.7906382978723405e-05,\n",
       "  'epoch': 0.87,\n",
       "  'step': 41},\n",
       " {'loss': 0.7343,\n",
       "  'learning_rate': 5.785531914893617e-05,\n",
       "  'epoch': 0.89,\n",
       "  'step': 42},\n",
       " {'loss': 0.8173,\n",
       "  'learning_rate': 5.780425531914894e-05,\n",
       "  'epoch': 0.91,\n",
       "  'step': 43},\n",
       " {'loss': 0.7071,\n",
       "  'learning_rate': 5.77531914893617e-05,\n",
       "  'epoch': 0.94,\n",
       "  'step': 44},\n",
       " {'loss': 0.7303,\n",
       "  'learning_rate': 5.7702127659574464e-05,\n",
       "  'epoch': 0.96,\n",
       "  'step': 45},\n",
       " {'loss': 0.711,\n",
       "  'learning_rate': 5.7651063829787234e-05,\n",
       "  'epoch': 0.98,\n",
       "  'step': 46},\n",
       " {'loss': 0.8442, 'learning_rate': 5.76e-05, 'epoch': 1.0, 'step': 47},\n",
       " {'loss': 0.7408,\n",
       "  'learning_rate': 5.754893617021277e-05,\n",
       "  'epoch': 1.02,\n",
       "  'step': 48},\n",
       " {'loss': 0.7559,\n",
       "  'learning_rate': 5.749787234042553e-05,\n",
       "  'epoch': 1.04,\n",
       "  'step': 49},\n",
       " {'loss': 0.7505,\n",
       "  'learning_rate': 5.74468085106383e-05,\n",
       "  'epoch': 1.06,\n",
       "  'step': 50},\n",
       " {'loss': 0.7088,\n",
       "  'learning_rate': 5.7395744680851063e-05,\n",
       "  'epoch': 1.09,\n",
       "  'step': 51},\n",
       " {'loss': 0.666,\n",
       "  'learning_rate': 5.7344680851063827e-05,\n",
       "  'epoch': 1.11,\n",
       "  'step': 52},\n",
       " {'loss': 0.7084,\n",
       "  'learning_rate': 5.7293617021276597e-05,\n",
       "  'epoch': 1.13,\n",
       "  'step': 53},\n",
       " {'loss': 0.6512,\n",
       "  'learning_rate': 5.724255319148936e-05,\n",
       "  'epoch': 1.15,\n",
       "  'step': 54},\n",
       " {'loss': 0.6741,\n",
       "  'learning_rate': 5.719148936170213e-05,\n",
       "  'epoch': 1.17,\n",
       "  'step': 55},\n",
       " {'loss': 0.5958,\n",
       "  'learning_rate': 5.714042553191489e-05,\n",
       "  'epoch': 1.19,\n",
       "  'step': 56},\n",
       " {'loss': 0.6738,\n",
       "  'learning_rate': 5.7089361702127656e-05,\n",
       "  'epoch': 1.21,\n",
       "  'step': 57},\n",
       " {'loss': 0.7138,\n",
       "  'learning_rate': 5.7038297872340426e-05,\n",
       "  'epoch': 1.23,\n",
       "  'step': 58},\n",
       " {'loss': 0.639,\n",
       "  'learning_rate': 5.698723404255319e-05,\n",
       "  'epoch': 1.26,\n",
       "  'step': 59},\n",
       " {'loss': 0.619,\n",
       "  'learning_rate': 5.693617021276596e-05,\n",
       "  'epoch': 1.28,\n",
       "  'step': 60},\n",
       " {'loss': 0.599,\n",
       "  'learning_rate': 5.688510638297872e-05,\n",
       "  'epoch': 1.3,\n",
       "  'step': 61},\n",
       " {'loss': 0.6217,\n",
       "  'learning_rate': 5.6834042553191485e-05,\n",
       "  'epoch': 1.32,\n",
       "  'step': 62},\n",
       " {'loss': 0.6672,\n",
       "  'learning_rate': 5.6782978723404255e-05,\n",
       "  'epoch': 1.34,\n",
       "  'step': 63},\n",
       " {'loss': 0.6384,\n",
       "  'learning_rate': 5.673191489361702e-05,\n",
       "  'epoch': 1.36,\n",
       "  'step': 64},\n",
       " {'loss': 0.544,\n",
       "  'learning_rate': 5.668085106382979e-05,\n",
       "  'epoch': 1.38,\n",
       "  'step': 65},\n",
       " {'loss': 0.6352,\n",
       "  'learning_rate': 5.662978723404255e-05,\n",
       "  'epoch': 1.4,\n",
       "  'step': 66},\n",
       " {'loss': 0.5599,\n",
       "  'learning_rate': 5.657872340425532e-05,\n",
       "  'epoch': 1.43,\n",
       "  'step': 67},\n",
       " {'loss': 0.6693,\n",
       "  'learning_rate': 5.6527659574468084e-05,\n",
       "  'epoch': 1.45,\n",
       "  'step': 68},\n",
       " {'loss': 0.5796,\n",
       "  'learning_rate': 5.647659574468085e-05,\n",
       "  'epoch': 1.47,\n",
       "  'step': 69},\n",
       " {'loss': 0.6522,\n",
       "  'learning_rate': 5.642553191489362e-05,\n",
       "  'epoch': 1.49,\n",
       "  'step': 70},\n",
       " {'loss': 0.5967,\n",
       "  'learning_rate': 5.637446808510638e-05,\n",
       "  'epoch': 1.51,\n",
       "  'step': 71},\n",
       " {'loss': 0.682,\n",
       "  'learning_rate': 5.632340425531915e-05,\n",
       "  'epoch': 1.53,\n",
       "  'step': 72},\n",
       " {'loss': 0.6165,\n",
       "  'learning_rate': 5.627234042553191e-05,\n",
       "  'epoch': 1.55,\n",
       "  'step': 73},\n",
       " {'loss': 0.5011,\n",
       "  'learning_rate': 5.6221276595744676e-05,\n",
       "  'epoch': 1.57,\n",
       "  'step': 74},\n",
       " {'loss': 0.6049,\n",
       "  'learning_rate': 5.6170212765957446e-05,\n",
       "  'epoch': 1.6,\n",
       "  'step': 75},\n",
       " {'loss': 0.6335,\n",
       "  'learning_rate': 5.611914893617021e-05,\n",
       "  'epoch': 1.62,\n",
       "  'step': 76},\n",
       " {'loss': 0.5321,\n",
       "  'learning_rate': 5.606808510638298e-05,\n",
       "  'epoch': 1.64,\n",
       "  'step': 77},\n",
       " {'loss': 0.7491,\n",
       "  'learning_rate': 5.601702127659574e-05,\n",
       "  'epoch': 1.66,\n",
       "  'step': 78},\n",
       " {'loss': 0.5465,\n",
       "  'learning_rate': 5.5965957446808506e-05,\n",
       "  'epoch': 1.68,\n",
       "  'step': 79},\n",
       " {'loss': 0.5502,\n",
       "  'learning_rate': 5.5914893617021276e-05,\n",
       "  'epoch': 1.7,\n",
       "  'step': 80},\n",
       " {'loss': 0.5979,\n",
       "  'learning_rate': 5.586382978723404e-05,\n",
       "  'epoch': 1.72,\n",
       "  'step': 81},\n",
       " {'loss': 0.6879,\n",
       "  'learning_rate': 5.581276595744681e-05,\n",
       "  'epoch': 1.74,\n",
       "  'step': 82},\n",
       " {'loss': 0.6899,\n",
       "  'learning_rate': 5.576170212765957e-05,\n",
       "  'epoch': 1.77,\n",
       "  'step': 83},\n",
       " {'loss': 0.6683,\n",
       "  'learning_rate': 5.571063829787234e-05,\n",
       "  'epoch': 1.79,\n",
       "  'step': 84},\n",
       " {'loss': 0.5553,\n",
       "  'learning_rate': 5.565957446808511e-05,\n",
       "  'epoch': 1.81,\n",
       "  'step': 85},\n",
       " {'loss': 0.5519,\n",
       "  'learning_rate': 5.5608510638297875e-05,\n",
       "  'epoch': 1.83,\n",
       "  'step': 86},\n",
       " {'loss': 0.5159,\n",
       "  'learning_rate': 5.5557446808510645e-05,\n",
       "  'epoch': 1.85,\n",
       "  'step': 87},\n",
       " {'loss': 0.6073,\n",
       "  'learning_rate': 5.550638297872341e-05,\n",
       "  'epoch': 1.87,\n",
       "  'step': 88},\n",
       " {'loss': 0.4977,\n",
       "  'learning_rate': 5.545531914893618e-05,\n",
       "  'epoch': 1.89,\n",
       "  'step': 89},\n",
       " {'loss': 0.5065,\n",
       "  'learning_rate': 5.540425531914894e-05,\n",
       "  'epoch': 1.91,\n",
       "  'step': 90},\n",
       " {'loss': 0.5914,\n",
       "  'learning_rate': 5.5353191489361704e-05,\n",
       "  'epoch': 1.94,\n",
       "  'step': 91},\n",
       " {'loss': 0.5497,\n",
       "  'learning_rate': 5.5302127659574474e-05,\n",
       "  'epoch': 1.96,\n",
       "  'step': 92},\n",
       " {'loss': 0.7893,\n",
       "  'learning_rate': 5.525106382978724e-05,\n",
       "  'epoch': 1.98,\n",
       "  'step': 93},\n",
       " {'loss': 0.6642,\n",
       "  'learning_rate': 5.520000000000001e-05,\n",
       "  'epoch': 2.0,\n",
       "  'step': 94},\n",
       " {'loss': 0.605,\n",
       "  'learning_rate': 5.514893617021277e-05,\n",
       "  'epoch': 2.02,\n",
       "  'step': 95},\n",
       " {'loss': 0.6692,\n",
       "  'learning_rate': 5.509787234042553e-05,\n",
       "  'epoch': 2.04,\n",
       "  'step': 96},\n",
       " {'loss': 0.8368,\n",
       "  'learning_rate': 5.50468085106383e-05,\n",
       "  'epoch': 2.06,\n",
       "  'step': 97},\n",
       " {'loss': 0.7106,\n",
       "  'learning_rate': 5.4995744680851066e-05,\n",
       "  'epoch': 2.09,\n",
       "  'step': 98},\n",
       " {'loss': 0.7155,\n",
       "  'learning_rate': 5.4944680851063836e-05,\n",
       "  'epoch': 2.11,\n",
       "  'step': 99},\n",
       " {'loss': 0.6493,\n",
       "  'learning_rate': 5.48936170212766e-05,\n",
       "  'epoch': 2.13,\n",
       "  'step': 100},\n",
       " {'eval_loss': 0.4038435220718384,\n",
       "  'eval_mean_iou': 0.45644688017757995,\n",
       "  'eval_mean_accuracy': 0.6066350343819006,\n",
       "  'eval_overall_accuracy': 0.9836441730630809,\n",
       "  'eval_per_category_iou': [0.0,\n",
       "   0.9852748849438632,\n",
       "   0.4045120301901837,\n",
       "   0.43600060557627285],\n",
       "  'eval_per_category_accuracy': [0.0,\n",
       "   0.9902990416417253,\n",
       "   0.8133303387868631,\n",
       "   0.6229107570990139],\n",
       "  'eval_runtime': 324.5357,\n",
       "  'eval_samples_per_second': 0.715,\n",
       "  'eval_steps_per_second': 0.074,\n",
       "  'epoch': 2.13,\n",
       "  'step': 100},\n",
       " {'loss': 0.6012,\n",
       "  'learning_rate': 5.484255319148937e-05,\n",
       "  'epoch': 2.15,\n",
       "  'step': 101},\n",
       " {'loss': 0.5876,\n",
       "  'learning_rate': 5.479148936170213e-05,\n",
       "  'epoch': 2.17,\n",
       "  'step': 102},\n",
       " {'loss': 0.5521,\n",
       "  'learning_rate': 5.4740425531914895e-05,\n",
       "  'epoch': 2.19,\n",
       "  'step': 103},\n",
       " {'loss': 0.49,\n",
       "  'learning_rate': 5.4689361702127665e-05,\n",
       "  'epoch': 2.21,\n",
       "  'step': 104},\n",
       " {'loss': 0.5329,\n",
       "  'learning_rate': 5.463829787234043e-05,\n",
       "  'epoch': 2.23,\n",
       "  'step': 105},\n",
       " {'loss': 0.5337,\n",
       "  'learning_rate': 5.45872340425532e-05,\n",
       "  'epoch': 2.26,\n",
       "  'step': 106},\n",
       " {'loss': 0.5353,\n",
       "  'learning_rate': 5.453617021276596e-05,\n",
       "  'epoch': 2.28,\n",
       "  'step': 107},\n",
       " {'loss': 0.4832,\n",
       "  'learning_rate': 5.4485106382978725e-05,\n",
       "  'epoch': 2.3,\n",
       "  'step': 108},\n",
       " {'loss': 0.5103,\n",
       "  'learning_rate': 5.4434042553191494e-05,\n",
       "  'epoch': 2.32,\n",
       "  'step': 109},\n",
       " {'loss': 0.5437,\n",
       "  'learning_rate': 5.438297872340426e-05,\n",
       "  'epoch': 2.34,\n",
       "  'step': 110},\n",
       " {'loss': 0.4481,\n",
       "  'learning_rate': 5.433191489361703e-05,\n",
       "  'epoch': 2.36,\n",
       "  'step': 111},\n",
       " {'loss': 0.4582,\n",
       "  'learning_rate': 5.428085106382979e-05,\n",
       "  'epoch': 2.38,\n",
       "  'step': 112},\n",
       " {'loss': 0.5329,\n",
       "  'learning_rate': 5.4229787234042554e-05,\n",
       "  'epoch': 2.4,\n",
       "  'step': 113},\n",
       " {'loss': 0.457,\n",
       "  'learning_rate': 5.4178723404255324e-05,\n",
       "  'epoch': 2.43,\n",
       "  'step': 114},\n",
       " {'loss': 0.6018,\n",
       "  'learning_rate': 5.412765957446809e-05,\n",
       "  'epoch': 2.45,\n",
       "  'step': 115},\n",
       " {'loss': 0.4418,\n",
       "  'learning_rate': 5.407659574468086e-05,\n",
       "  'epoch': 2.47,\n",
       "  'step': 116},\n",
       " {'loss': 0.4491,\n",
       "  'learning_rate': 5.402553191489362e-05,\n",
       "  'epoch': 2.49,\n",
       "  'step': 117},\n",
       " {'loss': 0.4582,\n",
       "  'learning_rate': 5.397446808510639e-05,\n",
       "  'epoch': 2.51,\n",
       "  'step': 118},\n",
       " {'loss': 0.5988,\n",
       "  'learning_rate': 5.392340425531915e-05,\n",
       "  'epoch': 2.53,\n",
       "  'step': 119},\n",
       " {'loss': 0.4759,\n",
       "  'learning_rate': 5.3872340425531916e-05,\n",
       "  'epoch': 2.55,\n",
       "  'step': 120},\n",
       " {'loss': 0.464,\n",
       "  'learning_rate': 5.3821276595744686e-05,\n",
       "  'epoch': 2.57,\n",
       "  'step': 121},\n",
       " {'loss': 0.6465,\n",
       "  'learning_rate': 5.377021276595745e-05,\n",
       "  'epoch': 2.6,\n",
       "  'step': 122},\n",
       " {'loss': 0.4876,\n",
       "  'learning_rate': 5.371914893617022e-05,\n",
       "  'epoch': 2.62,\n",
       "  'step': 123},\n",
       " {'loss': 0.4311,\n",
       "  'learning_rate': 5.366808510638298e-05,\n",
       "  'epoch': 2.64,\n",
       "  'step': 124},\n",
       " {'loss': 0.466,\n",
       "  'learning_rate': 5.3617021276595745e-05,\n",
       "  'epoch': 2.66,\n",
       "  'step': 125},\n",
       " {'loss': 0.4736,\n",
       "  'learning_rate': 5.3565957446808515e-05,\n",
       "  'epoch': 2.68,\n",
       "  'step': 126},\n",
       " {'loss': 0.4332,\n",
       "  'learning_rate': 5.351489361702128e-05,\n",
       "  'epoch': 2.7,\n",
       "  'step': 127},\n",
       " {'loss': 0.6315,\n",
       "  'learning_rate': 5.346382978723405e-05,\n",
       "  'epoch': 2.72,\n",
       "  'step': 128},\n",
       " {'loss': 0.4329,\n",
       "  'learning_rate': 5.341276595744681e-05,\n",
       "  'epoch': 2.74,\n",
       "  'step': 129},\n",
       " {'loss': 0.4184,\n",
       "  'learning_rate': 5.3361702127659574e-05,\n",
       "  'epoch': 2.77,\n",
       "  'step': 130},\n",
       " {'loss': 0.4203,\n",
       "  'learning_rate': 5.3310638297872344e-05,\n",
       "  'epoch': 2.79,\n",
       "  'step': 131},\n",
       " {'loss': 0.3888,\n",
       "  'learning_rate': 5.325957446808511e-05,\n",
       "  'epoch': 2.81,\n",
       "  'step': 132},\n",
       " {'loss': 0.4553,\n",
       "  'learning_rate': 5.320851063829788e-05,\n",
       "  'epoch': 2.83,\n",
       "  'step': 133},\n",
       " {'loss': 0.5475,\n",
       "  'learning_rate': 5.315744680851064e-05,\n",
       "  'epoch': 2.85,\n",
       "  'step': 134},\n",
       " {'loss': 0.4254,\n",
       "  'learning_rate': 5.3106382978723404e-05,\n",
       "  'epoch': 2.87,\n",
       "  'step': 135},\n",
       " {'loss': 0.4423,\n",
       "  'learning_rate': 5.3055319148936173e-05,\n",
       "  'epoch': 2.89,\n",
       "  'step': 136},\n",
       " {'loss': 0.4311,\n",
       "  'learning_rate': 5.300425531914894e-05,\n",
       "  'epoch': 2.91,\n",
       "  'step': 137},\n",
       " {'loss': 0.6134,\n",
       "  'learning_rate': 5.2953191489361707e-05,\n",
       "  'epoch': 2.94,\n",
       "  'step': 138},\n",
       " {'loss': 0.6439,\n",
       "  'learning_rate': 5.290212765957447e-05,\n",
       "  'epoch': 2.96,\n",
       "  'step': 139},\n",
       " {'loss': 0.6006,\n",
       "  'learning_rate': 5.285106382978724e-05,\n",
       "  'epoch': 2.98,\n",
       "  'step': 140},\n",
       " {'loss': 0.4112, 'learning_rate': 5.28e-05, 'epoch': 3.0, 'step': 141},\n",
       " {'loss': 0.5344,\n",
       "  'learning_rate': 5.2748936170212766e-05,\n",
       "  'epoch': 3.02,\n",
       "  'step': 142},\n",
       " {'loss': 0.5183,\n",
       "  'learning_rate': 5.2697872340425536e-05,\n",
       "  'epoch': 3.04,\n",
       "  'step': 143},\n",
       " {'loss': 0.5165,\n",
       "  'learning_rate': 5.26468085106383e-05,\n",
       "  'epoch': 3.06,\n",
       "  'step': 144},\n",
       " {'loss': 0.4345,\n",
       "  'learning_rate': 5.259574468085107e-05,\n",
       "  'epoch': 3.09,\n",
       "  'step': 145},\n",
       " {'loss': 0.4036,\n",
       "  'learning_rate': 5.254468085106383e-05,\n",
       "  'epoch': 3.11,\n",
       "  'step': 146},\n",
       " {'loss': 0.6004,\n",
       "  'learning_rate': 5.2493617021276595e-05,\n",
       "  'epoch': 3.13,\n",
       "  'step': 147},\n",
       " {'loss': 0.3713,\n",
       "  'learning_rate': 5.2442553191489365e-05,\n",
       "  'epoch': 3.15,\n",
       "  'step': 148},\n",
       " {'loss': 0.34,\n",
       "  'learning_rate': 5.239148936170213e-05,\n",
       "  'epoch': 3.17,\n",
       "  'step': 149},\n",
       " {'loss': 0.3507,\n",
       "  'learning_rate': 5.23404255319149e-05,\n",
       "  'epoch': 3.19,\n",
       "  'step': 150},\n",
       " {'loss': 0.3791,\n",
       "  'learning_rate': 5.228936170212766e-05,\n",
       "  'epoch': 3.21,\n",
       "  'step': 151},\n",
       " {'loss': 0.408,\n",
       "  'learning_rate': 5.2238297872340424e-05,\n",
       "  'epoch': 3.23,\n",
       "  'step': 152},\n",
       " {'loss': 0.3757,\n",
       "  'learning_rate': 5.2187234042553194e-05,\n",
       "  'epoch': 3.26,\n",
       "  'step': 153},\n",
       " {'loss': 0.5305,\n",
       "  'learning_rate': 5.213617021276596e-05,\n",
       "  'epoch': 3.28,\n",
       "  'step': 154},\n",
       " {'loss': 0.3683,\n",
       "  'learning_rate': 5.208510638297873e-05,\n",
       "  'epoch': 3.3,\n",
       "  'step': 155},\n",
       " {'loss': 0.3507,\n",
       "  'learning_rate': 5.203404255319149e-05,\n",
       "  'epoch': 3.32,\n",
       "  'step': 156},\n",
       " {'loss': 0.3713,\n",
       "  'learning_rate': 5.198297872340426e-05,\n",
       "  'epoch': 3.34,\n",
       "  'step': 157},\n",
       " {'loss': 0.4142,\n",
       "  'learning_rate': 5.193191489361702e-05,\n",
       "  'epoch': 3.36,\n",
       "  'step': 158},\n",
       " {'loss': 0.3578,\n",
       "  'learning_rate': 5.1880851063829786e-05,\n",
       "  'epoch': 3.38,\n",
       "  'step': 159},\n",
       " {'loss': 0.3883,\n",
       "  'learning_rate': 5.1829787234042556e-05,\n",
       "  'epoch': 3.4,\n",
       "  'step': 160},\n",
       " {'loss': 0.3428,\n",
       "  'learning_rate': 5.177872340425532e-05,\n",
       "  'epoch': 3.43,\n",
       "  'step': 161},\n",
       " {'loss': 0.3099,\n",
       "  'learning_rate': 5.172765957446809e-05,\n",
       "  'epoch': 3.45,\n",
       "  'step': 162},\n",
       " {'loss': 0.3737,\n",
       "  'learning_rate': 5.167659574468085e-05,\n",
       "  'epoch': 3.47,\n",
       "  'step': 163},\n",
       " {'loss': 0.446,\n",
       "  'learning_rate': 5.1625531914893616e-05,\n",
       "  'epoch': 3.49,\n",
       "  'step': 164},\n",
       " {'loss': 0.3717,\n",
       "  'learning_rate': 5.1574468085106386e-05,\n",
       "  'epoch': 3.51,\n",
       "  'step': 165},\n",
       " {'loss': 0.4297,\n",
       "  'learning_rate': 5.152340425531915e-05,\n",
       "  'epoch': 3.53,\n",
       "  'step': 166},\n",
       " {'loss': 0.2998,\n",
       "  'learning_rate': 5.147234042553192e-05,\n",
       "  'epoch': 3.55,\n",
       "  'step': 167},\n",
       " {'loss': 0.5186,\n",
       "  'learning_rate': 5.142127659574468e-05,\n",
       "  'epoch': 3.57,\n",
       "  'step': 168},\n",
       " {'loss': 0.3976,\n",
       "  'learning_rate': 5.1370212765957445e-05,\n",
       "  'epoch': 3.6,\n",
       "  'step': 169},\n",
       " {'loss': 0.3149,\n",
       "  'learning_rate': 5.1319148936170215e-05,\n",
       "  'epoch': 3.62,\n",
       "  'step': 170},\n",
       " {'loss': 0.3302,\n",
       "  'learning_rate': 5.126808510638298e-05,\n",
       "  'epoch': 3.64,\n",
       "  'step': 171},\n",
       " {'loss': 0.6117,\n",
       "  'learning_rate': 5.121702127659575e-05,\n",
       "  'epoch': 3.66,\n",
       "  'step': 172},\n",
       " {'loss': 0.3099,\n",
       "  'learning_rate': 5.116595744680851e-05,\n",
       "  'epoch': 3.68,\n",
       "  'step': 173},\n",
       " {'loss': 0.3725,\n",
       "  'learning_rate': 5.111489361702128e-05,\n",
       "  'epoch': 3.7,\n",
       "  'step': 174},\n",
       " {'loss': 0.5297,\n",
       "  'learning_rate': 5.1063829787234044e-05,\n",
       "  'epoch': 3.72,\n",
       "  'step': 175},\n",
       " {'loss': 0.2912,\n",
       "  'learning_rate': 5.101276595744681e-05,\n",
       "  'epoch': 3.74,\n",
       "  'step': 176},\n",
       " {'loss': 0.3062,\n",
       "  'learning_rate': 5.096170212765958e-05,\n",
       "  'epoch': 3.77,\n",
       "  'step': 177},\n",
       " {'loss': 0.3717,\n",
       "  'learning_rate': 5.091063829787234e-05,\n",
       "  'epoch': 3.79,\n",
       "  'step': 178},\n",
       " {'loss': 0.2949,\n",
       "  'learning_rate': 5.085957446808511e-05,\n",
       "  'epoch': 3.81,\n",
       "  'step': 179},\n",
       " {'loss': 0.2959,\n",
       "  'learning_rate': 5.080851063829787e-05,\n",
       "  'epoch': 3.83,\n",
       "  'step': 180},\n",
       " {'loss': 0.278,\n",
       "  'learning_rate': 5.0757446808510636e-05,\n",
       "  'epoch': 3.85,\n",
       "  'step': 181},\n",
       " {'loss': 0.2811,\n",
       "  'learning_rate': 5.0706382978723406e-05,\n",
       "  'epoch': 3.87,\n",
       "  'step': 182},\n",
       " {'loss': 0.3133,\n",
       "  'learning_rate': 5.065531914893617e-05,\n",
       "  'epoch': 3.89,\n",
       "  'step': 183},\n",
       " {'loss': 0.2859,\n",
       "  'learning_rate': 5.060425531914894e-05,\n",
       "  'epoch': 3.91,\n",
       "  'step': 184},\n",
       " {'loss': 0.3589,\n",
       "  'learning_rate': 5.05531914893617e-05,\n",
       "  'epoch': 3.94,\n",
       "  'step': 185},\n",
       " {'loss': 0.3539,\n",
       "  'learning_rate': 5.0502127659574466e-05,\n",
       "  'epoch': 3.96,\n",
       "  'step': 186},\n",
       " {'loss': 0.275,\n",
       "  'learning_rate': 5.0451063829787235e-05,\n",
       "  'epoch': 3.98,\n",
       "  'step': 187},\n",
       " {'loss': 0.3351, 'learning_rate': 5.04e-05, 'epoch': 4.0, 'step': 188},\n",
       " {'loss': 0.3076,\n",
       "  'learning_rate': 5.034893617021277e-05,\n",
       "  'epoch': 4.02,\n",
       "  'step': 189},\n",
       " {'loss': 0.2949,\n",
       "  'learning_rate': 5.029787234042553e-05,\n",
       "  'epoch': 4.04,\n",
       "  'step': 190},\n",
       " {'loss': 0.4043,\n",
       "  'learning_rate': 5.02468085106383e-05,\n",
       "  'epoch': 4.06,\n",
       "  'step': 191},\n",
       " {'loss': 0.293,\n",
       "  'learning_rate': 5.0195744680851065e-05,\n",
       "  'epoch': 4.09,\n",
       "  'step': 192},\n",
       " {'loss': 0.4784,\n",
       "  'learning_rate': 5.014468085106383e-05,\n",
       "  'epoch': 4.11,\n",
       "  'step': 193},\n",
       " {'loss': 0.34,\n",
       "  'learning_rate': 5.00936170212766e-05,\n",
       "  'epoch': 4.13,\n",
       "  'step': 194},\n",
       " {'loss': 0.2497,\n",
       "  'learning_rate': 5.004255319148936e-05,\n",
       "  'epoch': 4.15,\n",
       "  'step': 195},\n",
       " {'loss': 0.2822,\n",
       "  'learning_rate': 4.999148936170213e-05,\n",
       "  'epoch': 4.17,\n",
       "  'step': 196},\n",
       " {'loss': 0.2576,\n",
       "  'learning_rate': 4.9940425531914894e-05,\n",
       "  'epoch': 4.19,\n",
       "  'step': 197},\n",
       " {'loss': 0.419,\n",
       "  'learning_rate': 4.988936170212766e-05,\n",
       "  'epoch': 4.21,\n",
       "  'step': 198},\n",
       " {'loss': 0.3222,\n",
       "  'learning_rate': 4.983829787234043e-05,\n",
       "  'epoch': 4.23,\n",
       "  'step': 199},\n",
       " {'loss': 0.4756,\n",
       "  'learning_rate': 4.978723404255319e-05,\n",
       "  'epoch': 4.26,\n",
       "  'step': 200},\n",
       " {'eval_loss': 0.20239399373531342,\n",
       "  'eval_mean_iou': 0.5147250968113094,\n",
       "  'eval_mean_accuracy': 0.5777918119859766,\n",
       "  'eval_overall_accuracy': 0.9890503390081997,\n",
       "  'eval_per_category_iou': [0.0,\n",
       "   0.9899444786962713,\n",
       "   0.5637741606758029,\n",
       "   0.5051817478731632],\n",
       "  'eval_per_category_accuracy': [0.0,\n",
       "   0.996491821870208,\n",
       "   0.6996320163087608,\n",
       "   0.6150434097649373],\n",
       "  'eval_runtime': 336.3681,\n",
       "  'eval_samples_per_second': 0.69,\n",
       "  'eval_steps_per_second': 0.071,\n",
       "  'epoch': 4.26,\n",
       "  'step': 200},\n",
       " {'loss': 0.288,\n",
       "  'learning_rate': 4.973617021276596e-05,\n",
       "  'epoch': 4.28,\n",
       "  'step': 201},\n",
       " {'loss': 0.4666,\n",
       "  'learning_rate': 4.968510638297872e-05,\n",
       "  'epoch': 4.3,\n",
       "  'step': 202},\n",
       " {'loss': 0.265,\n",
       "  'learning_rate': 4.9634042553191486e-05,\n",
       "  'epoch': 4.32,\n",
       "  'step': 203},\n",
       " {'loss': 0.3241,\n",
       "  'learning_rate': 4.9582978723404256e-05,\n",
       "  'epoch': 4.34,\n",
       "  'step': 204},\n",
       " {'loss': 0.3017,\n",
       "  'learning_rate': 4.953191489361702e-05,\n",
       "  'epoch': 4.36,\n",
       "  'step': 205},\n",
       " {'loss': 0.4206,\n",
       "  'learning_rate': 4.948085106382979e-05,\n",
       "  'epoch': 4.38,\n",
       "  'step': 206},\n",
       " {'loss': 0.3134,\n",
       "  'learning_rate': 4.942978723404255e-05,\n",
       "  'epoch': 4.4,\n",
       "  'step': 207},\n",
       " {'loss': 0.2367,\n",
       "  'learning_rate': 4.937872340425532e-05,\n",
       "  'epoch': 4.43,\n",
       "  'step': 208},\n",
       " {'loss': 0.2976,\n",
       "  'learning_rate': 4.9327659574468085e-05,\n",
       "  'epoch': 4.45,\n",
       "  'step': 209},\n",
       " {'loss': 0.2285,\n",
       "  'learning_rate': 4.927659574468085e-05,\n",
       "  'epoch': 4.47,\n",
       "  'step': 210},\n",
       " {'loss': 0.2498,\n",
       "  'learning_rate': 4.922553191489362e-05,\n",
       "  'epoch': 4.49,\n",
       "  'step': 211},\n",
       " {'loss': 0.3401,\n",
       "  'learning_rate': 4.917446808510638e-05,\n",
       "  'epoch': 4.51,\n",
       "  'step': 212},\n",
       " {'loss': 0.3018,\n",
       "  'learning_rate': 4.912340425531915e-05,\n",
       "  'epoch': 4.53,\n",
       "  'step': 213},\n",
       " {'loss': 0.3612,\n",
       "  'learning_rate': 4.9072340425531914e-05,\n",
       "  'epoch': 4.55,\n",
       "  'step': 214},\n",
       " {'loss': 0.32,\n",
       "  'learning_rate': 4.902127659574468e-05,\n",
       "  'epoch': 4.57,\n",
       "  'step': 215},\n",
       " {'loss': 0.2983,\n",
       "  'learning_rate': 4.897021276595745e-05,\n",
       "  'epoch': 4.6,\n",
       "  'step': 216},\n",
       " {'loss': 0.3716,\n",
       "  'learning_rate': 4.891914893617021e-05,\n",
       "  'epoch': 4.62,\n",
       "  'step': 217},\n",
       " {'loss': 0.3054,\n",
       "  'learning_rate': 4.886808510638298e-05,\n",
       "  'epoch': 4.64,\n",
       "  'step': 218},\n",
       " {'loss': 0.3137,\n",
       "  'learning_rate': 4.8817021276595744e-05,\n",
       "  'epoch': 4.66,\n",
       "  'step': 219},\n",
       " {'loss': 0.2433,\n",
       "  'learning_rate': 4.876595744680851e-05,\n",
       "  'epoch': 4.68,\n",
       "  'step': 220},\n",
       " {'loss': 0.2259,\n",
       "  'learning_rate': 4.871489361702128e-05,\n",
       "  'epoch': 4.7,\n",
       "  'step': 221},\n",
       " {'loss': 0.2457,\n",
       "  'learning_rate': 4.866382978723404e-05,\n",
       "  'epoch': 4.72,\n",
       "  'step': 222},\n",
       " {'loss': 0.2198,\n",
       "  'learning_rate': 4.861276595744681e-05,\n",
       "  'epoch': 4.74,\n",
       "  'step': 223},\n",
       " {'loss': 0.3319,\n",
       "  'learning_rate': 4.856170212765957e-05,\n",
       "  'epoch': 4.77,\n",
       "  'step': 224},\n",
       " {'loss': 0.2248,\n",
       "  'learning_rate': 4.8510638297872336e-05,\n",
       "  'epoch': 4.79,\n",
       "  'step': 225},\n",
       " {'loss': 0.4295,\n",
       "  'learning_rate': 4.8459574468085106e-05,\n",
       "  'epoch': 4.81,\n",
       "  'step': 226},\n",
       " {'loss': 0.2172,\n",
       "  'learning_rate': 4.840851063829787e-05,\n",
       "  'epoch': 4.83,\n",
       "  'step': 227},\n",
       " {'loss': 0.3017,\n",
       "  'learning_rate': 4.835744680851064e-05,\n",
       "  'epoch': 4.85,\n",
       "  'step': 228},\n",
       " {'loss': 0.218,\n",
       "  'learning_rate': 4.83063829787234e-05,\n",
       "  'epoch': 4.87,\n",
       "  'step': 229},\n",
       " {'loss': 0.4674,\n",
       "  'learning_rate': 4.825531914893617e-05,\n",
       "  'epoch': 4.89,\n",
       "  'step': 230},\n",
       " {'loss': 0.3976,\n",
       "  'learning_rate': 4.8204255319148935e-05,\n",
       "  'epoch': 4.91,\n",
       "  'step': 231},\n",
       " {'loss': 0.2637,\n",
       "  'learning_rate': 4.81531914893617e-05,\n",
       "  'epoch': 4.94,\n",
       "  'step': 232},\n",
       " {'loss': 0.3738,\n",
       "  'learning_rate': 4.810212765957447e-05,\n",
       "  'epoch': 4.96,\n",
       "  'step': 233},\n",
       " {'loss': 0.3362,\n",
       "  'learning_rate': 4.805106382978723e-05,\n",
       "  'epoch': 4.98,\n",
       "  'step': 234},\n",
       " {'loss': 0.5375, 'learning_rate': 4.8e-05, 'epoch': 5.0, 'step': 235},\n",
       " {'loss': 0.3569,\n",
       "  'learning_rate': 4.7948936170212764e-05,\n",
       "  'epoch': 5.02,\n",
       "  'step': 236},\n",
       " {'loss': 0.3615,\n",
       "  'learning_rate': 4.789787234042553e-05,\n",
       "  'epoch': 5.04,\n",
       "  'step': 237},\n",
       " {'loss': 0.225,\n",
       "  'learning_rate': 4.78468085106383e-05,\n",
       "  'epoch': 5.06,\n",
       "  'step': 238},\n",
       " {'loss': 0.2629,\n",
       "  'learning_rate': 4.779574468085106e-05,\n",
       "  'epoch': 5.09,\n",
       "  'step': 239},\n",
       " {'loss': 0.2055,\n",
       "  'learning_rate': 4.774468085106383e-05,\n",
       "  'epoch': 5.11,\n",
       "  'step': 240},\n",
       " {'loss': 0.2355,\n",
       "  'learning_rate': 4.7693617021276594e-05,\n",
       "  'epoch': 5.13,\n",
       "  'step': 241},\n",
       " {'loss': 0.373,\n",
       "  'learning_rate': 4.764255319148936e-05,\n",
       "  'epoch': 5.15,\n",
       "  'step': 242},\n",
       " {'loss': 0.2368,\n",
       "  'learning_rate': 4.7591489361702127e-05,\n",
       "  'epoch': 5.17,\n",
       "  'step': 243},\n",
       " {'loss': 0.2159,\n",
       "  'learning_rate': 4.754042553191489e-05,\n",
       "  'epoch': 5.19,\n",
       "  'step': 244},\n",
       " {'loss': 0.1981,\n",
       "  'learning_rate': 4.748936170212766e-05,\n",
       "  'epoch': 5.21,\n",
       "  'step': 245},\n",
       " {'loss': 0.2691,\n",
       "  'learning_rate': 4.743829787234042e-05,\n",
       "  'epoch': 5.23,\n",
       "  'step': 246},\n",
       " {'loss': 0.2344,\n",
       "  'learning_rate': 4.738723404255319e-05,\n",
       "  'epoch': 5.26,\n",
       "  'step': 247},\n",
       " {'loss': 0.3012,\n",
       "  'learning_rate': 4.7336170212765956e-05,\n",
       "  'epoch': 5.28,\n",
       "  'step': 248},\n",
       " {'loss': 0.3062,\n",
       "  'learning_rate': 4.728510638297872e-05,\n",
       "  'epoch': 5.3,\n",
       "  'step': 249},\n",
       " {'loss': 0.265,\n",
       "  'learning_rate': 4.723404255319149e-05,\n",
       "  'epoch': 5.32,\n",
       "  'step': 250},\n",
       " {'loss': 0.2327,\n",
       "  'learning_rate': 4.718297872340425e-05,\n",
       "  'epoch': 5.34,\n",
       "  'step': 251},\n",
       " {'loss': 0.5877,\n",
       "  'learning_rate': 4.713191489361702e-05,\n",
       "  'epoch': 5.36,\n",
       "  'step': 252},\n",
       " {'loss': 0.2856,\n",
       "  'learning_rate': 4.708085106382979e-05,\n",
       "  'epoch': 5.38,\n",
       "  'step': 253},\n",
       " {'loss': 0.1788,\n",
       "  'learning_rate': 4.7029787234042555e-05,\n",
       "  'epoch': 5.4,\n",
       "  'step': 254},\n",
       " {'loss': 0.4987,\n",
       "  'learning_rate': 4.6978723404255325e-05,\n",
       "  'epoch': 5.43,\n",
       "  'step': 255},\n",
       " {'loss': 0.4043,\n",
       "  'learning_rate': 4.692765957446809e-05,\n",
       "  'epoch': 5.45,\n",
       "  'step': 256},\n",
       " {'loss': 0.2066,\n",
       "  'learning_rate': 4.687659574468086e-05,\n",
       "  'epoch': 5.47,\n",
       "  'step': 257},\n",
       " {'loss': 0.1917,\n",
       "  'learning_rate': 4.682553191489362e-05,\n",
       "  'epoch': 5.49,\n",
       "  'step': 258},\n",
       " {'loss': 0.2717,\n",
       "  'learning_rate': 4.6774468085106384e-05,\n",
       "  'epoch': 5.51,\n",
       "  'step': 259},\n",
       " {'loss': 0.3397,\n",
       "  'learning_rate': 4.6723404255319154e-05,\n",
       "  'epoch': 5.53,\n",
       "  'step': 260},\n",
       " {'loss': 0.2246,\n",
       "  'learning_rate': 4.667234042553192e-05,\n",
       "  'epoch': 5.55,\n",
       "  'step': 261},\n",
       " {'loss': 0.3106,\n",
       "  'learning_rate': 4.662127659574469e-05,\n",
       "  'epoch': 5.57,\n",
       "  'step': 262},\n",
       " {'loss': 0.2096,\n",
       "  'learning_rate': 4.657021276595745e-05,\n",
       "  'epoch': 5.6,\n",
       "  'step': 263},\n",
       " {'loss': 0.3565,\n",
       "  'learning_rate': 4.651914893617022e-05,\n",
       "  'epoch': 5.62,\n",
       "  'step': 264},\n",
       " {'loss': 0.3266,\n",
       "  'learning_rate': 4.646808510638298e-05,\n",
       "  'epoch': 5.64,\n",
       "  'step': 265},\n",
       " {'loss': 0.4736,\n",
       "  'learning_rate': 4.6417021276595746e-05,\n",
       "  'epoch': 5.66,\n",
       "  'step': 266},\n",
       " {'loss': 0.2189,\n",
       "  'learning_rate': 4.6365957446808516e-05,\n",
       "  'epoch': 5.68,\n",
       "  'step': 267},\n",
       " {'loss': 0.3073,\n",
       "  'learning_rate': 4.631489361702128e-05,\n",
       "  'epoch': 5.7,\n",
       "  'step': 268},\n",
       " {'loss': 0.1952,\n",
       "  'learning_rate': 4.626382978723405e-05,\n",
       "  'epoch': 5.72,\n",
       "  'step': 269},\n",
       " {'loss': 0.2956,\n",
       "  'learning_rate': 4.621276595744681e-05,\n",
       "  'epoch': 5.74,\n",
       "  'step': 270},\n",
       " {'loss': 0.2194,\n",
       "  'learning_rate': 4.6161702127659576e-05,\n",
       "  'epoch': 5.77,\n",
       "  'step': 271},\n",
       " {'loss': 0.2851,\n",
       "  'learning_rate': 4.6110638297872345e-05,\n",
       "  'epoch': 5.79,\n",
       "  'step': 272},\n",
       " {'loss': 0.4064,\n",
       "  'learning_rate': 4.605957446808511e-05,\n",
       "  'epoch': 5.81,\n",
       "  'step': 273},\n",
       " {'loss': 0.1982,\n",
       "  'learning_rate': 4.600851063829788e-05,\n",
       "  'epoch': 5.83,\n",
       "  'step': 274},\n",
       " {'loss': 0.1931,\n",
       "  'learning_rate': 4.595744680851064e-05,\n",
       "  'epoch': 5.85,\n",
       "  'step': 275},\n",
       " {'loss': 0.1782,\n",
       "  'learning_rate': 4.5906382978723405e-05,\n",
       "  'epoch': 5.87,\n",
       "  'step': 276},\n",
       " {'loss': 0.1881,\n",
       "  'learning_rate': 4.5855319148936175e-05,\n",
       "  'epoch': 5.89,\n",
       "  'step': 277},\n",
       " {'loss': 0.1764,\n",
       "  'learning_rate': 4.580425531914894e-05,\n",
       "  'epoch': 5.91,\n",
       "  'step': 278},\n",
       " {'loss': 0.1919,\n",
       "  'learning_rate': 4.575319148936171e-05,\n",
       "  'epoch': 5.94,\n",
       "  'step': 279},\n",
       " {'loss': 0.1883,\n",
       "  'learning_rate': 4.570212765957447e-05,\n",
       "  'epoch': 5.96,\n",
       "  'step': 280},\n",
       " {'loss': 0.1806,\n",
       "  'learning_rate': 4.565106382978724e-05,\n",
       "  'epoch': 5.98,\n",
       "  'step': 281},\n",
       " {'loss': 0.1788,\n",
       "  'learning_rate': 4.5600000000000004e-05,\n",
       "  'epoch': 6.0,\n",
       "  'step': 282},\n",
       " {'loss': 0.19,\n",
       "  'learning_rate': 4.554893617021277e-05,\n",
       "  'epoch': 6.02,\n",
       "  'step': 283},\n",
       " {'loss': 0.1588,\n",
       "  'learning_rate': 4.549787234042554e-05,\n",
       "  'epoch': 6.04,\n",
       "  'step': 284},\n",
       " {'loss': 0.2272,\n",
       "  'learning_rate': 4.54468085106383e-05,\n",
       "  'epoch': 6.06,\n",
       "  'step': 285},\n",
       " {'loss': 0.1724,\n",
       "  'learning_rate': 4.539574468085107e-05,\n",
       "  'epoch': 6.09,\n",
       "  'step': 286},\n",
       " {'loss': 0.1714,\n",
       "  'learning_rate': 4.534468085106383e-05,\n",
       "  'epoch': 6.11,\n",
       "  'step': 287},\n",
       " {'loss': 0.2594,\n",
       "  'learning_rate': 4.5293617021276596e-05,\n",
       "  'epoch': 6.13,\n",
       "  'step': 288},\n",
       " {'loss': 0.22,\n",
       "  'learning_rate': 4.5242553191489366e-05,\n",
       "  'epoch': 6.15,\n",
       "  'step': 289},\n",
       " {'loss': 0.3765,\n",
       "  'learning_rate': 4.519148936170213e-05,\n",
       "  'epoch': 6.17,\n",
       "  'step': 290},\n",
       " {'loss': 0.1624,\n",
       "  'learning_rate': 4.51404255319149e-05,\n",
       "  'epoch': 6.19,\n",
       "  'step': 291},\n",
       " {'loss': 0.1564,\n",
       "  'learning_rate': 4.508936170212766e-05,\n",
       "  'epoch': 6.21,\n",
       "  'step': 292},\n",
       " {'loss': 0.1629,\n",
       "  'learning_rate': 4.5038297872340425e-05,\n",
       "  'epoch': 6.23,\n",
       "  'step': 293},\n",
       " {'loss': 0.2051,\n",
       "  'learning_rate': 4.4987234042553195e-05,\n",
       "  'epoch': 6.26,\n",
       "  'step': 294},\n",
       " {'loss': 0.1579,\n",
       "  'learning_rate': 4.493617021276596e-05,\n",
       "  'epoch': 6.28,\n",
       "  'step': 295},\n",
       " {'loss': 0.2619,\n",
       "  'learning_rate': 4.488510638297873e-05,\n",
       "  'epoch': 6.3,\n",
       "  'step': 296},\n",
       " {'loss': 0.1494,\n",
       "  'learning_rate': 4.483404255319149e-05,\n",
       "  'epoch': 6.32,\n",
       "  'step': 297},\n",
       " {'loss': 0.1618,\n",
       "  'learning_rate': 4.4782978723404255e-05,\n",
       "  'epoch': 6.34,\n",
       "  'step': 298},\n",
       " {'loss': 0.1392,\n",
       "  'learning_rate': 4.4731914893617025e-05,\n",
       "  'epoch': 6.36,\n",
       "  'step': 299},\n",
       " {'loss': 0.1569,\n",
       "  'learning_rate': 4.468085106382979e-05,\n",
       "  'epoch': 6.38,\n",
       "  'step': 300},\n",
       " {'eval_loss': 0.11655360460281372,\n",
       "  'eval_mean_iou': 0.5169817946766637,\n",
       "  'eval_mean_accuracy': 0.5479563606080028,\n",
       "  'eval_overall_accuracy': 0.9899069029709389,\n",
       "  'eval_per_category_iou': [0.0,\n",
       "   0.9906732618292177,\n",
       "   0.5747538190122354,\n",
       "   0.5025000978652019],\n",
       "  'eval_per_category_accuracy': [0.0,\n",
       "   0.998478295849777,\n",
       "   0.6269992916745849,\n",
       "   0.5663478549076494],\n",
       "  'eval_runtime': 335.2017,\n",
       "  'eval_samples_per_second': 0.692,\n",
       "  'eval_steps_per_second': 0.072,\n",
       "  'epoch': 6.38,\n",
       "  'step': 300},\n",
       " {'loss': 0.2692,\n",
       "  'learning_rate': 4.462978723404256e-05,\n",
       "  'epoch': 6.4,\n",
       "  'step': 301},\n",
       " {'loss': 0.2607,\n",
       "  'learning_rate': 4.457872340425532e-05,\n",
       "  'epoch': 6.43,\n",
       "  'step': 302},\n",
       " {'loss': 0.1547,\n",
       "  'learning_rate': 4.452765957446809e-05,\n",
       "  'epoch': 6.45,\n",
       "  'step': 303},\n",
       " {'loss': 0.258,\n",
       "  'learning_rate': 4.4476595744680854e-05,\n",
       "  'epoch': 6.47,\n",
       "  'step': 304},\n",
       " {'loss': 0.2534,\n",
       "  'learning_rate': 4.442553191489362e-05,\n",
       "  'epoch': 6.49,\n",
       "  'step': 305},\n",
       " {'loss': 0.1459,\n",
       "  'learning_rate': 4.437446808510639e-05,\n",
       "  'epoch': 6.51,\n",
       "  'step': 306},\n",
       " {'loss': 0.1591,\n",
       "  'learning_rate': 4.432340425531915e-05,\n",
       "  'epoch': 6.53,\n",
       "  'step': 307},\n",
       " {'loss': 0.3186,\n",
       "  'learning_rate': 4.427234042553192e-05,\n",
       "  'epoch': 6.55,\n",
       "  'step': 308},\n",
       " {'loss': 0.166,\n",
       "  'learning_rate': 4.422127659574468e-05,\n",
       "  'epoch': 6.57,\n",
       "  'step': 309},\n",
       " {'loss': 0.1846,\n",
       "  'learning_rate': 4.4170212765957446e-05,\n",
       "  'epoch': 6.6,\n",
       "  'step': 310},\n",
       " {'loss': 0.2123,\n",
       "  'learning_rate': 4.4119148936170216e-05,\n",
       "  'epoch': 6.62,\n",
       "  'step': 311},\n",
       " {'loss': 0.1902,\n",
       "  'learning_rate': 4.406808510638298e-05,\n",
       "  'epoch': 6.64,\n",
       "  'step': 312},\n",
       " {'loss': 0.1713,\n",
       "  'learning_rate': 4.401702127659575e-05,\n",
       "  'epoch': 6.66,\n",
       "  'step': 313},\n",
       " {'loss': 0.224,\n",
       "  'learning_rate': 4.396595744680851e-05,\n",
       "  'epoch': 6.68,\n",
       "  'step': 314},\n",
       " {'loss': 0.2016,\n",
       "  'learning_rate': 4.3914893617021275e-05,\n",
       "  'epoch': 6.7,\n",
       "  'step': 315},\n",
       " {'loss': 0.1479,\n",
       "  'learning_rate': 4.3863829787234045e-05,\n",
       "  'epoch': 6.72,\n",
       "  'step': 316},\n",
       " {'loss': 0.1431,\n",
       "  'learning_rate': 4.381276595744681e-05,\n",
       "  'epoch': 6.74,\n",
       "  'step': 317},\n",
       " {'loss': 0.1499,\n",
       "  'learning_rate': 4.376170212765958e-05,\n",
       "  'epoch': 6.77,\n",
       "  'step': 318},\n",
       " {'loss': 0.1499,\n",
       "  'learning_rate': 4.371063829787234e-05,\n",
       "  'epoch': 6.79,\n",
       "  'step': 319},\n",
       " {'loss': 0.2642,\n",
       "  'learning_rate': 4.365957446808511e-05,\n",
       "  'epoch': 6.81,\n",
       "  'step': 320},\n",
       " {'loss': 0.3326,\n",
       "  'learning_rate': 4.3608510638297874e-05,\n",
       "  'epoch': 6.83,\n",
       "  'step': 321},\n",
       " {'loss': 0.2586,\n",
       "  'learning_rate': 4.355744680851064e-05,\n",
       "  'epoch': 6.85,\n",
       "  'step': 322},\n",
       " {'loss': 0.1434,\n",
       "  'learning_rate': 4.350638297872341e-05,\n",
       "  'epoch': 6.87,\n",
       "  'step': 323},\n",
       " {'loss': 0.2445,\n",
       "  'learning_rate': 4.345531914893617e-05,\n",
       "  'epoch': 6.89,\n",
       "  'step': 324},\n",
       " {'loss': 0.1613,\n",
       "  'learning_rate': 4.340425531914894e-05,\n",
       "  'epoch': 6.91,\n",
       "  'step': 325},\n",
       " {'loss': 0.1243,\n",
       "  'learning_rate': 4.3353191489361704e-05,\n",
       "  'epoch': 6.94,\n",
       "  'step': 326},\n",
       " {'loss': 0.1363,\n",
       "  'learning_rate': 4.330212765957447e-05,\n",
       "  'epoch': 6.96,\n",
       "  'step': 327},\n",
       " {'loss': 0.1542,\n",
       "  'learning_rate': 4.3251063829787237e-05,\n",
       "  'epoch': 6.98,\n",
       "  'step': 328},\n",
       " {'loss': 0.2077, 'learning_rate': 4.32e-05, 'epoch': 7.0, 'step': 329},\n",
       " {'loss': 0.1337,\n",
       "  'learning_rate': 4.314893617021277e-05,\n",
       "  'epoch': 7.02,\n",
       "  'step': 330},\n",
       " {'loss': 0.1309,\n",
       "  'learning_rate': 4.309787234042553e-05,\n",
       "  'epoch': 7.04,\n",
       "  'step': 331},\n",
       " {'loss': 0.2611,\n",
       "  'learning_rate': 4.3046808510638296e-05,\n",
       "  'epoch': 7.06,\n",
       "  'step': 332},\n",
       " {'loss': 0.1279,\n",
       "  'learning_rate': 4.2995744680851066e-05,\n",
       "  'epoch': 7.09,\n",
       "  'step': 333},\n",
       " {'loss': 0.1194,\n",
       "  'learning_rate': 4.294468085106383e-05,\n",
       "  'epoch': 7.11,\n",
       "  'step': 334},\n",
       " {'loss': 0.3597,\n",
       "  'learning_rate': 4.28936170212766e-05,\n",
       "  'epoch': 7.13,\n",
       "  'step': 335},\n",
       " {'loss': 0.1273,\n",
       "  'learning_rate': 4.284255319148936e-05,\n",
       "  'epoch': 7.15,\n",
       "  'step': 336},\n",
       " {'loss': 0.1405,\n",
       "  'learning_rate': 4.279148936170213e-05,\n",
       "  'epoch': 7.17,\n",
       "  'step': 337},\n",
       " {'loss': 0.2075,\n",
       "  'learning_rate': 4.2740425531914895e-05,\n",
       "  'epoch': 7.19,\n",
       "  'step': 338},\n",
       " {'loss': 0.2344,\n",
       "  'learning_rate': 4.268936170212766e-05,\n",
       "  'epoch': 7.21,\n",
       "  'step': 339},\n",
       " {'loss': 0.122,\n",
       "  'learning_rate': 4.263829787234043e-05,\n",
       "  'epoch': 7.23,\n",
       "  'step': 340},\n",
       " {'loss': 0.1998,\n",
       "  'learning_rate': 4.258723404255319e-05,\n",
       "  'epoch': 7.26,\n",
       "  'step': 341},\n",
       " {'loss': 0.1552,\n",
       "  'learning_rate': 4.253617021276596e-05,\n",
       "  'epoch': 7.28,\n",
       "  'step': 342},\n",
       " {'loss': 0.1249,\n",
       "  'learning_rate': 4.2485106382978724e-05,\n",
       "  'epoch': 7.3,\n",
       "  'step': 343},\n",
       " {'loss': 0.3195,\n",
       "  'learning_rate': 4.243404255319149e-05,\n",
       "  'epoch': 7.32,\n",
       "  'step': 344},\n",
       " {'loss': 0.2188,\n",
       "  'learning_rate': 4.238297872340426e-05,\n",
       "  'epoch': 7.34,\n",
       "  'step': 345},\n",
       " {'loss': 0.4351,\n",
       "  'learning_rate': 4.233191489361702e-05,\n",
       "  'epoch': 7.36,\n",
       "  'step': 346},\n",
       " {'loss': 0.1833,\n",
       "  'learning_rate': 4.228085106382979e-05,\n",
       "  'epoch': 7.38,\n",
       "  'step': 347},\n",
       " {'loss': 0.3159,\n",
       "  'learning_rate': 4.2229787234042553e-05,\n",
       "  'epoch': 7.4,\n",
       "  'step': 348},\n",
       " {'loss': 0.1357,\n",
       "  'learning_rate': 4.2178723404255317e-05,\n",
       "  'epoch': 7.43,\n",
       "  'step': 349},\n",
       " {'loss': 0.1978,\n",
       "  'learning_rate': 4.2127659574468086e-05,\n",
       "  'epoch': 7.45,\n",
       "  'step': 350},\n",
       " {'loss': 0.1383,\n",
       "  'learning_rate': 4.207659574468085e-05,\n",
       "  'epoch': 7.47,\n",
       "  'step': 351},\n",
       " {'loss': 0.1459,\n",
       "  'learning_rate': 4.202553191489362e-05,\n",
       "  'epoch': 7.49,\n",
       "  'step': 352},\n",
       " {'loss': 0.2098,\n",
       "  'learning_rate': 4.197446808510638e-05,\n",
       "  'epoch': 7.51,\n",
       "  'step': 353},\n",
       " {'loss': 0.1428,\n",
       "  'learning_rate': 4.192340425531915e-05,\n",
       "  'epoch': 7.53,\n",
       "  'step': 354},\n",
       " {'loss': 0.1949,\n",
       "  'learning_rate': 4.1872340425531916e-05,\n",
       "  'epoch': 7.55,\n",
       "  'step': 355},\n",
       " {'loss': 0.5444,\n",
       "  'learning_rate': 4.182127659574468e-05,\n",
       "  'epoch': 7.57,\n",
       "  'step': 356},\n",
       " {'loss': 0.1201,\n",
       "  'learning_rate': 4.177021276595745e-05,\n",
       "  'epoch': 7.6,\n",
       "  'step': 357},\n",
       " {'loss': 0.2127,\n",
       "  'learning_rate': 4.171914893617021e-05,\n",
       "  'epoch': 7.62,\n",
       "  'step': 358},\n",
       " {'loss': 0.1671,\n",
       "  'learning_rate': 4.166808510638298e-05,\n",
       "  'epoch': 7.64,\n",
       "  'step': 359},\n",
       " {'loss': 0.142,\n",
       "  'learning_rate': 4.1617021276595745e-05,\n",
       "  'epoch': 7.66,\n",
       "  'step': 360},\n",
       " {'loss': 0.3012,\n",
       "  'learning_rate': 4.156595744680851e-05,\n",
       "  'epoch': 7.68,\n",
       "  'step': 361},\n",
       " {'loss': 0.0948,\n",
       "  'learning_rate': 4.151489361702128e-05,\n",
       "  'epoch': 7.7,\n",
       "  'step': 362},\n",
       " {'loss': 0.113,\n",
       "  'learning_rate': 4.146382978723404e-05,\n",
       "  'epoch': 7.72,\n",
       "  'step': 363},\n",
       " {'loss': 0.1186,\n",
       "  'learning_rate': 4.141276595744681e-05,\n",
       "  'epoch': 7.74,\n",
       "  'step': 364},\n",
       " {'loss': 0.1132,\n",
       "  'learning_rate': 4.1361702127659574e-05,\n",
       "  'epoch': 7.77,\n",
       "  'step': 365},\n",
       " {'loss': 0.1009,\n",
       "  'learning_rate': 4.131063829787234e-05,\n",
       "  'epoch': 7.79,\n",
       "  'step': 366},\n",
       " {'loss': 0.1221,\n",
       "  'learning_rate': 4.125957446808511e-05,\n",
       "  'epoch': 7.81,\n",
       "  'step': 367},\n",
       " {'loss': 0.2543,\n",
       "  'learning_rate': 4.120851063829787e-05,\n",
       "  'epoch': 7.83,\n",
       "  'step': 368},\n",
       " {'loss': 0.1204,\n",
       "  'learning_rate': 4.115744680851064e-05,\n",
       "  'epoch': 7.85,\n",
       "  'step': 369},\n",
       " {'loss': 0.1161,\n",
       "  'learning_rate': 4.11063829787234e-05,\n",
       "  'epoch': 7.87,\n",
       "  'step': 370},\n",
       " {'loss': 0.2913,\n",
       "  'learning_rate': 4.105531914893617e-05,\n",
       "  'epoch': 7.89,\n",
       "  'step': 371},\n",
       " {'loss': 0.1411,\n",
       "  'learning_rate': 4.1004255319148936e-05,\n",
       "  'epoch': 7.91,\n",
       "  'step': 372},\n",
       " {'loss': 0.2823,\n",
       "  'learning_rate': 4.09531914893617e-05,\n",
       "  'epoch': 7.94,\n",
       "  'step': 373},\n",
       " {'loss': 0.1982,\n",
       "  'learning_rate': 4.090212765957447e-05,\n",
       "  'epoch': 7.96,\n",
       "  'step': 374},\n",
       " {'loss': 0.1202,\n",
       "  'learning_rate': 4.085106382978723e-05,\n",
       "  'epoch': 7.98,\n",
       "  'step': 375},\n",
       " {'loss': 0.102, 'learning_rate': 4.08e-05, 'epoch': 8.0, 'step': 376},\n",
       " {'loss': 0.1353,\n",
       "  'learning_rate': 4.0748936170212766e-05,\n",
       "  'epoch': 8.02,\n",
       "  'step': 377},\n",
       " {'loss': 0.1072,\n",
       "  'learning_rate': 4.069787234042553e-05,\n",
       "  'epoch': 8.04,\n",
       "  'step': 378},\n",
       " {'loss': 0.328,\n",
       "  'learning_rate': 4.06468085106383e-05,\n",
       "  'epoch': 8.06,\n",
       "  'step': 379},\n",
       " {'loss': 0.1048,\n",
       "  'learning_rate': 4.059574468085106e-05,\n",
       "  'epoch': 8.09,\n",
       "  'step': 380},\n",
       " {'loss': 0.124,\n",
       "  'learning_rate': 4.054468085106383e-05,\n",
       "  'epoch': 8.11,\n",
       "  'step': 381},\n",
       " {'loss': 0.1704,\n",
       "  'learning_rate': 4.0493617021276595e-05,\n",
       "  'epoch': 8.13,\n",
       "  'step': 382},\n",
       " {'loss': 0.1247,\n",
       "  'learning_rate': 4.044255319148936e-05,\n",
       "  'epoch': 8.15,\n",
       "  'step': 383},\n",
       " {'loss': 0.1066,\n",
       "  'learning_rate': 4.039148936170213e-05,\n",
       "  'epoch': 8.17,\n",
       "  'step': 384},\n",
       " {'loss': 0.1612,\n",
       "  'learning_rate': 4.034042553191489e-05,\n",
       "  'epoch': 8.19,\n",
       "  'step': 385},\n",
       " {'loss': 0.0956,\n",
       "  'learning_rate': 4.028936170212766e-05,\n",
       "  'epoch': 8.21,\n",
       "  'step': 386},\n",
       " {'loss': 0.1168,\n",
       "  'learning_rate': 4.0238297872340424e-05,\n",
       "  'epoch': 8.23,\n",
       "  'step': 387},\n",
       " {'loss': 0.1117,\n",
       "  'learning_rate': 4.018723404255319e-05,\n",
       "  'epoch': 8.26,\n",
       "  'step': 388},\n",
       " {'loss': 0.1653,\n",
       "  'learning_rate': 4.013617021276596e-05,\n",
       "  'epoch': 8.28,\n",
       "  'step': 389},\n",
       " {'loss': 0.1033,\n",
       "  'learning_rate': 4.008510638297872e-05,\n",
       "  'epoch': 8.3,\n",
       "  'step': 390},\n",
       " {'loss': 0.0978,\n",
       "  'learning_rate': 4.003404255319149e-05,\n",
       "  'epoch': 8.32,\n",
       "  'step': 391},\n",
       " {'loss': 0.0936,\n",
       "  'learning_rate': 3.998297872340425e-05,\n",
       "  'epoch': 8.34,\n",
       "  'step': 392},\n",
       " {'loss': 0.0904,\n",
       "  'learning_rate': 3.993191489361702e-05,\n",
       "  'epoch': 8.36,\n",
       "  'step': 393},\n",
       " {'loss': 0.1313,\n",
       "  'learning_rate': 3.9880851063829786e-05,\n",
       "  'epoch': 8.38,\n",
       "  'step': 394},\n",
       " {'loss': 0.1279,\n",
       "  'learning_rate': 3.982978723404255e-05,\n",
       "  'epoch': 8.4,\n",
       "  'step': 395},\n",
       " {'loss': 0.1198,\n",
       "  'learning_rate': 3.977872340425532e-05,\n",
       "  'epoch': 8.43,\n",
       "  'step': 396},\n",
       " {'loss': 0.2028,\n",
       "  'learning_rate': 3.972765957446808e-05,\n",
       "  'epoch': 8.45,\n",
       "  'step': 397},\n",
       " {'loss': 0.1145,\n",
       "  'learning_rate': 3.967659574468085e-05,\n",
       "  'epoch': 8.47,\n",
       "  'step': 398},\n",
       " {'loss': 0.1199,\n",
       "  'learning_rate': 3.9625531914893615e-05,\n",
       "  'epoch': 8.49,\n",
       "  'step': 399},\n",
       " {'loss': 0.1181,\n",
       "  'learning_rate': 3.957446808510638e-05,\n",
       "  'epoch': 8.51,\n",
       "  'step': 400},\n",
       " {'eval_loss': 0.07996635138988495,\n",
       "  'eval_mean_iou': 0.6082968956802232,\n",
       "  'eval_mean_accuracy': 0.6752226258957891,\n",
       "  'eval_overall_accuracy': 0.9930261907906368,\n",
       "  'eval_per_category_iou': [0.0,\n",
       "   0.9934406778878196,\n",
       "   0.7592991344732953,\n",
       "   0.6804477703597779],\n",
       "  'eval_per_category_accuracy': [0.0,\n",
       "   0.9962977677957975,\n",
       "   0.8699479985487967,\n",
       "   0.8346447372385621],\n",
       "  'eval_runtime': 332.3517,\n",
       "  'eval_samples_per_second': 0.698,\n",
       "  'eval_steps_per_second': 0.072,\n",
       "  'epoch': 8.51,\n",
       "  'step': 400},\n",
       " {'loss': 0.2075,\n",
       "  'learning_rate': 3.952340425531915e-05,\n",
       "  'epoch': 8.53,\n",
       "  'step': 401},\n",
       " {'loss': 0.5198,\n",
       "  'learning_rate': 3.947234042553191e-05,\n",
       "  'epoch': 8.55,\n",
       "  'step': 402},\n",
       " {'loss': 0.1701,\n",
       "  'learning_rate': 3.942127659574468e-05,\n",
       "  'epoch': 8.57,\n",
       "  'step': 403},\n",
       " {'loss': 0.1029,\n",
       "  'learning_rate': 3.9370212765957445e-05,\n",
       "  'epoch': 8.6,\n",
       "  'step': 404},\n",
       " {'loss': 0.1111,\n",
       "  'learning_rate': 3.931914893617021e-05,\n",
       "  'epoch': 8.62,\n",
       "  'step': 405},\n",
       " {'loss': 0.092,\n",
       "  'learning_rate': 3.926808510638298e-05,\n",
       "  'epoch': 8.64,\n",
       "  'step': 406},\n",
       " {'loss': 0.0842,\n",
       "  'learning_rate': 3.921702127659574e-05,\n",
       "  'epoch': 8.66,\n",
       "  'step': 407},\n",
       " {'loss': 0.1326,\n",
       "  'learning_rate': 3.916595744680851e-05,\n",
       "  'epoch': 8.68,\n",
       "  'step': 408},\n",
       " {'loss': 0.1467,\n",
       "  'learning_rate': 3.9114893617021274e-05,\n",
       "  'epoch': 8.7,\n",
       "  'step': 409},\n",
       " {'loss': 0.1506,\n",
       "  'learning_rate': 3.9063829787234044e-05,\n",
       "  'epoch': 8.72,\n",
       "  'step': 410},\n",
       " {'loss': 0.1012,\n",
       "  'learning_rate': 3.901276595744681e-05,\n",
       "  'epoch': 8.74,\n",
       "  'step': 411},\n",
       " {'loss': 0.1024,\n",
       "  'learning_rate': 3.896170212765957e-05,\n",
       "  'epoch': 8.77,\n",
       "  'step': 412},\n",
       " {'loss': 0.2409,\n",
       "  'learning_rate': 3.891063829787234e-05,\n",
       "  'epoch': 8.79,\n",
       "  'step': 413},\n",
       " {'loss': 0.225,\n",
       "  'learning_rate': 3.88595744680851e-05,\n",
       "  'epoch': 8.81,\n",
       "  'step': 414},\n",
       " {'loss': 0.1209,\n",
       "  'learning_rate': 3.880851063829787e-05,\n",
       "  'epoch': 8.83,\n",
       "  'step': 415},\n",
       " {'loss': 0.0851,\n",
       "  'learning_rate': 3.8757446808510636e-05,\n",
       "  'epoch': 8.85,\n",
       "  'step': 416},\n",
       " {'loss': 0.0997,\n",
       "  'learning_rate': 3.87063829787234e-05,\n",
       "  'epoch': 8.87,\n",
       "  'step': 417},\n",
       " {'loss': 0.1008,\n",
       "  'learning_rate': 3.865531914893617e-05,\n",
       "  'epoch': 8.89,\n",
       "  'step': 418},\n",
       " {'loss': 0.1034,\n",
       "  'learning_rate': 3.860425531914894e-05,\n",
       "  'epoch': 8.91,\n",
       "  'step': 419},\n",
       " {'loss': 0.1012,\n",
       "  'learning_rate': 3.85531914893617e-05,\n",
       "  'epoch': 8.94,\n",
       "  'step': 420},\n",
       " {'loss': 0.0856,\n",
       "  'learning_rate': 3.850212765957447e-05,\n",
       "  'epoch': 8.96,\n",
       "  'step': 421},\n",
       " {'loss': 0.1384,\n",
       "  'learning_rate': 3.8451063829787235e-05,\n",
       "  'epoch': 8.98,\n",
       "  'step': 422},\n",
       " {'loss': 0.0911,\n",
       "  'learning_rate': 3.8400000000000005e-05,\n",
       "  'epoch': 9.0,\n",
       "  'step': 423},\n",
       " {'loss': 0.0894,\n",
       "  'learning_rate': 3.834893617021277e-05,\n",
       "  'epoch': 9.02,\n",
       "  'step': 424},\n",
       " {'loss': 0.1313,\n",
       "  'learning_rate': 3.829787234042554e-05,\n",
       "  'epoch': 9.04,\n",
       "  'step': 425},\n",
       " {'loss': 0.2152,\n",
       "  'learning_rate': 3.82468085106383e-05,\n",
       "  'epoch': 9.06,\n",
       "  'step': 426},\n",
       " {'loss': 0.0942,\n",
       "  'learning_rate': 3.819574468085107e-05,\n",
       "  'epoch': 9.09,\n",
       "  'step': 427},\n",
       " {'loss': 0.1145,\n",
       "  'learning_rate': 3.8144680851063834e-05,\n",
       "  'epoch': 9.11,\n",
       "  'step': 428},\n",
       " {'loss': 0.088,\n",
       "  'learning_rate': 3.80936170212766e-05,\n",
       "  'epoch': 9.13,\n",
       "  'step': 429},\n",
       " {'loss': 0.1556,\n",
       "  'learning_rate': 3.804255319148937e-05,\n",
       "  'epoch': 9.15,\n",
       "  'step': 430},\n",
       " {'loss': 0.1074,\n",
       "  'learning_rate': 3.799148936170213e-05,\n",
       "  'epoch': 9.17,\n",
       "  'step': 431},\n",
       " {'loss': 0.0845,\n",
       "  'learning_rate': 3.79404255319149e-05,\n",
       "  'epoch': 9.19,\n",
       "  'step': 432},\n",
       " {'loss': 0.1151,\n",
       "  'learning_rate': 3.7889361702127663e-05,\n",
       "  'epoch': 9.21,\n",
       "  'step': 433},\n",
       " {'loss': 0.1477,\n",
       "  'learning_rate': 3.7838297872340427e-05,\n",
       "  'epoch': 9.23,\n",
       "  'step': 434},\n",
       " {'loss': 0.0901,\n",
       "  'learning_rate': 3.7787234042553196e-05,\n",
       "  'epoch': 9.26,\n",
       "  'step': 435},\n",
       " {'loss': 0.16,\n",
       "  'learning_rate': 3.773617021276596e-05,\n",
       "  'epoch': 9.28,\n",
       "  'step': 436},\n",
       " {'loss': 0.115,\n",
       "  'learning_rate': 3.768510638297873e-05,\n",
       "  'epoch': 9.3,\n",
       "  'step': 437},\n",
       " {'loss': 0.1398,\n",
       "  'learning_rate': 3.763404255319149e-05,\n",
       "  'epoch': 9.32,\n",
       "  'step': 438},\n",
       " {'loss': 0.0714,\n",
       "  'learning_rate': 3.7582978723404256e-05,\n",
       "  'epoch': 9.34,\n",
       "  'step': 439},\n",
       " {'loss': 0.0832,\n",
       "  'learning_rate': 3.7531914893617026e-05,\n",
       "  'epoch': 9.36,\n",
       "  'step': 440},\n",
       " {'loss': 0.1394,\n",
       "  'learning_rate': 3.748085106382979e-05,\n",
       "  'epoch': 9.38,\n",
       "  'step': 441},\n",
       " {'loss': 0.1848,\n",
       "  'learning_rate': 3.742978723404256e-05,\n",
       "  'epoch': 9.4,\n",
       "  'step': 442},\n",
       " {'loss': 0.1345,\n",
       "  'learning_rate': 3.737872340425532e-05,\n",
       "  'epoch': 9.43,\n",
       "  'step': 443},\n",
       " {'loss': 0.2108,\n",
       "  'learning_rate': 3.732765957446809e-05,\n",
       "  'epoch': 9.45,\n",
       "  'step': 444},\n",
       " {'loss': 0.2937,\n",
       "  'learning_rate': 3.7276595744680855e-05,\n",
       "  'epoch': 9.47,\n",
       "  'step': 445},\n",
       " {'loss': 0.1827,\n",
       "  'learning_rate': 3.722553191489362e-05,\n",
       "  'epoch': 9.49,\n",
       "  'step': 446},\n",
       " {'loss': 0.3059,\n",
       "  'learning_rate': 3.717446808510639e-05,\n",
       "  'epoch': 9.51,\n",
       "  'step': 447},\n",
       " {'loss': 0.1409,\n",
       "  'learning_rate': 3.712340425531915e-05,\n",
       "  'epoch': 9.53,\n",
       "  'step': 448},\n",
       " {'loss': 0.1026,\n",
       "  'learning_rate': 3.707234042553192e-05,\n",
       "  'epoch': 9.55,\n",
       "  'step': 449},\n",
       " {'loss': 0.0707,\n",
       "  'learning_rate': 3.7021276595744684e-05,\n",
       "  'epoch': 9.57,\n",
       "  'step': 450},\n",
       " {'loss': 0.0915,\n",
       "  'learning_rate': 3.697021276595745e-05,\n",
       "  'epoch': 9.6,\n",
       "  'step': 451},\n",
       " {'loss': 0.0795,\n",
       "  'learning_rate': 3.691914893617022e-05,\n",
       "  'epoch': 9.62,\n",
       "  'step': 452},\n",
       " {'loss': 0.1472,\n",
       "  'learning_rate': 3.686808510638298e-05,\n",
       "  'epoch': 9.64,\n",
       "  'step': 453},\n",
       " {'loss': 0.1036,\n",
       "  'learning_rate': 3.681702127659575e-05,\n",
       "  'epoch': 9.66,\n",
       "  'step': 454},\n",
       " {'loss': 0.1384,\n",
       "  'learning_rate': 3.676595744680851e-05,\n",
       "  'epoch': 9.68,\n",
       "  'step': 455},\n",
       " {'loss': 0.0843,\n",
       "  'learning_rate': 3.6714893617021276e-05,\n",
       "  'epoch': 9.7,\n",
       "  'step': 456},\n",
       " {'loss': 0.1439,\n",
       "  'learning_rate': 3.6663829787234046e-05,\n",
       "  'epoch': 9.72,\n",
       "  'step': 457},\n",
       " {'loss': 0.1196,\n",
       "  'learning_rate': 3.661276595744681e-05,\n",
       "  'epoch': 9.74,\n",
       "  'step': 458},\n",
       " {'loss': 0.3482,\n",
       "  'learning_rate': 3.656170212765958e-05,\n",
       "  'epoch': 9.77,\n",
       "  'step': 459},\n",
       " {'loss': 0.0832,\n",
       "  'learning_rate': 3.651063829787234e-05,\n",
       "  'epoch': 9.79,\n",
       "  'step': 460},\n",
       " {'loss': 0.435,\n",
       "  'learning_rate': 3.645957446808511e-05,\n",
       "  'epoch': 9.81,\n",
       "  'step': 461},\n",
       " {'loss': 0.0788,\n",
       "  'learning_rate': 3.6408510638297876e-05,\n",
       "  'epoch': 9.83,\n",
       "  'step': 462},\n",
       " {'loss': 0.2305,\n",
       "  'learning_rate': 3.635744680851064e-05,\n",
       "  'epoch': 9.85,\n",
       "  'step': 463},\n",
       " {'loss': 0.2493,\n",
       "  'learning_rate': 3.630638297872341e-05,\n",
       "  'epoch': 9.87,\n",
       "  'step': 464},\n",
       " {'loss': 0.0918,\n",
       "  'learning_rate': 3.625531914893617e-05,\n",
       "  'epoch': 9.89,\n",
       "  'step': 465},\n",
       " {'loss': 0.0832,\n",
       "  'learning_rate': 3.620425531914894e-05,\n",
       "  'epoch': 9.91,\n",
       "  'step': 466},\n",
       " {'loss': 0.0682,\n",
       "  'learning_rate': 3.6153191489361705e-05,\n",
       "  'epoch': 9.94,\n",
       "  'step': 467},\n",
       " {'loss': 0.0818,\n",
       "  'learning_rate': 3.610212765957447e-05,\n",
       "  'epoch': 9.96,\n",
       "  'step': 468},\n",
       " {'loss': 0.0757,\n",
       "  'learning_rate': 3.605106382978724e-05,\n",
       "  'epoch': 9.98,\n",
       "  'step': 469},\n",
       " {'loss': 0.0759, 'learning_rate': 3.6e-05, 'epoch': 10.0, 'step': 470},\n",
       " {'loss': 0.0945,\n",
       "  'learning_rate': 3.594893617021277e-05,\n",
       "  'epoch': 10.02,\n",
       "  'step': 471},\n",
       " {'loss': 0.0802,\n",
       "  'learning_rate': 3.5897872340425534e-05,\n",
       "  'epoch': 10.04,\n",
       "  'step': 472},\n",
       " {'loss': 0.1026,\n",
       "  'learning_rate': 3.58468085106383e-05,\n",
       "  'epoch': 10.06,\n",
       "  'step': 473},\n",
       " {'loss': 0.0801,\n",
       "  'learning_rate': 3.579574468085107e-05,\n",
       "  'epoch': 10.09,\n",
       "  'step': 474},\n",
       " {'loss': 0.1476,\n",
       "  'learning_rate': 3.574468085106383e-05,\n",
       "  'epoch': 10.11,\n",
       "  'step': 475},\n",
       " {'loss': 0.09,\n",
       "  'learning_rate': 3.56936170212766e-05,\n",
       "  'epoch': 10.13,\n",
       "  'step': 476},\n",
       " {'loss': 0.0665,\n",
       "  'learning_rate': 3.564255319148936e-05,\n",
       "  'epoch': 10.15,\n",
       "  'step': 477},\n",
       " {'loss': 0.2927,\n",
       "  'learning_rate': 3.5591489361702126e-05,\n",
       "  'epoch': 10.17,\n",
       "  'step': 478},\n",
       " {'loss': 0.0947,\n",
       "  'learning_rate': 3.5540425531914896e-05,\n",
       "  'epoch': 10.19,\n",
       "  'step': 479},\n",
       " {'loss': 0.1667,\n",
       "  'learning_rate': 3.548936170212766e-05,\n",
       "  'epoch': 10.21,\n",
       "  'step': 480},\n",
       " {'loss': 0.0954,\n",
       "  'learning_rate': 3.543829787234043e-05,\n",
       "  'epoch': 10.23,\n",
       "  'step': 481},\n",
       " {'loss': 0.0815,\n",
       "  'learning_rate': 3.538723404255319e-05,\n",
       "  'epoch': 10.26,\n",
       "  'step': 482},\n",
       " {'loss': 0.0702,\n",
       "  'learning_rate': 3.533617021276596e-05,\n",
       "  'epoch': 10.28,\n",
       "  'step': 483},\n",
       " {'loss': 0.1921,\n",
       "  'learning_rate': 3.5285106382978725e-05,\n",
       "  'epoch': 10.3,\n",
       "  'step': 484},\n",
       " {'loss': 0.1703,\n",
       "  'learning_rate': 3.523404255319149e-05,\n",
       "  'epoch': 10.32,\n",
       "  'step': 485},\n",
       " {'loss': 0.1706,\n",
       "  'learning_rate': 3.518297872340426e-05,\n",
       "  'epoch': 10.34,\n",
       "  'step': 486},\n",
       " {'loss': 0.4248,\n",
       "  'learning_rate': 3.513191489361702e-05,\n",
       "  'epoch': 10.36,\n",
       "  'step': 487},\n",
       " {'loss': 0.0753,\n",
       "  'learning_rate': 3.508085106382979e-05,\n",
       "  'epoch': 10.38,\n",
       "  'step': 488},\n",
       " {'loss': 0.0946,\n",
       "  'learning_rate': 3.5029787234042555e-05,\n",
       "  'epoch': 10.4,\n",
       "  'step': 489},\n",
       " {'loss': 0.2297,\n",
       "  'learning_rate': 3.497872340425532e-05,\n",
       "  'epoch': 10.43,\n",
       "  'step': 490},\n",
       " {'loss': 0.1393,\n",
       "  'learning_rate': 3.492765957446809e-05,\n",
       "  'epoch': 10.45,\n",
       "  'step': 491},\n",
       " {'loss': 0.243,\n",
       "  'learning_rate': 3.487659574468085e-05,\n",
       "  'epoch': 10.47,\n",
       "  'step': 492},\n",
       " {'loss': 0.0819,\n",
       "  'learning_rate': 3.482553191489362e-05,\n",
       "  'epoch': 10.49,\n",
       "  'step': 493},\n",
       " {'loss': 0.3657,\n",
       "  'learning_rate': 3.4774468085106384e-05,\n",
       "  'epoch': 10.51,\n",
       "  'step': 494},\n",
       " {'loss': 0.0889,\n",
       "  'learning_rate': 3.472340425531915e-05,\n",
       "  'epoch': 10.53,\n",
       "  'step': 495},\n",
       " {'loss': 0.0834,\n",
       "  'learning_rate': 3.467234042553192e-05,\n",
       "  'epoch': 10.55,\n",
       "  'step': 496},\n",
       " {'loss': 0.0931,\n",
       "  'learning_rate': 3.462127659574468e-05,\n",
       "  'epoch': 10.57,\n",
       "  'step': 497},\n",
       " {'loss': 0.0879,\n",
       "  'learning_rate': 3.457021276595745e-05,\n",
       "  'epoch': 10.6,\n",
       "  'step': 498},\n",
       " {'loss': 0.1231,\n",
       "  'learning_rate': 3.451914893617021e-05,\n",
       "  'epoch': 10.62,\n",
       "  'step': 499},\n",
       " {'loss': 0.2173,\n",
       "  'learning_rate': 3.446808510638298e-05,\n",
       "  'epoch': 10.64,\n",
       "  'step': 500},\n",
       " {'eval_loss': 0.05109351500868797,\n",
       "  'eval_mean_iou': 0.6315290285301163,\n",
       "  'eval_mean_accuracy': 0.6798759301180677,\n",
       "  'eval_overall_accuracy': 0.9938533388335129,\n",
       "  'eval_per_category_iou': [0.0,\n",
       "   0.9940403965903724,\n",
       "   0.8214670556387815,\n",
       "   0.7106086618913114],\n",
       "  'eval_per_category_accuracy': [0.0,\n",
       "   0.996795363861375,\n",
       "   0.863977333586718,\n",
       "   0.8587310230241778],\n",
       "  'eval_runtime': 336.1348,\n",
       "  'eval_samples_per_second': 0.69,\n",
       "  'eval_steps_per_second': 0.071,\n",
       "  'epoch': 10.64,\n",
       "  'step': 500},\n",
       " {'loss': 0.0631,\n",
       "  'learning_rate': 3.4417021276595746e-05,\n",
       "  'epoch': 10.66,\n",
       "  'step': 501},\n",
       " {'loss': 0.0704,\n",
       "  'learning_rate': 3.436595744680851e-05,\n",
       "  'epoch': 10.68,\n",
       "  'step': 502},\n",
       " {'loss': 0.2405,\n",
       "  'learning_rate': 3.431489361702128e-05,\n",
       "  'epoch': 10.7,\n",
       "  'step': 503},\n",
       " {'loss': 0.0678,\n",
       "  'learning_rate': 3.426382978723404e-05,\n",
       "  'epoch': 10.72,\n",
       "  'step': 504},\n",
       " {'loss': 0.1297,\n",
       "  'learning_rate': 3.421276595744681e-05,\n",
       "  'epoch': 10.74,\n",
       "  'step': 505},\n",
       " {'loss': 0.218,\n",
       "  'learning_rate': 3.4161702127659575e-05,\n",
       "  'epoch': 10.77,\n",
       "  'step': 506},\n",
       " {'loss': 0.0774,\n",
       "  'learning_rate': 3.411063829787234e-05,\n",
       "  'epoch': 10.79,\n",
       "  'step': 507},\n",
       " {'loss': 0.0956,\n",
       "  'learning_rate': 3.405957446808511e-05,\n",
       "  'epoch': 10.81,\n",
       "  'step': 508},\n",
       " {'loss': 0.0829,\n",
       "  'learning_rate': 3.400851063829787e-05,\n",
       "  'epoch': 10.83,\n",
       "  'step': 509},\n",
       " {'loss': 0.086,\n",
       "  'learning_rate': 3.395744680851064e-05,\n",
       "  'epoch': 10.85,\n",
       "  'step': 510},\n",
       " {'loss': 0.0702,\n",
       "  'learning_rate': 3.3906382978723404e-05,\n",
       "  'epoch': 10.87,\n",
       "  'step': 511},\n",
       " {'loss': 0.0648,\n",
       "  'learning_rate': 3.385531914893617e-05,\n",
       "  'epoch': 10.89,\n",
       "  'step': 512},\n",
       " {'loss': 0.4177,\n",
       "  'learning_rate': 3.380425531914894e-05,\n",
       "  'epoch': 10.91,\n",
       "  'step': 513},\n",
       " {'loss': 0.0702,\n",
       "  'learning_rate': 3.37531914893617e-05,\n",
       "  'epoch': 10.94,\n",
       "  'step': 514},\n",
       " {'loss': 0.0705,\n",
       "  'learning_rate': 3.370212765957447e-05,\n",
       "  'epoch': 10.96,\n",
       "  'step': 515},\n",
       " {'loss': 0.0661,\n",
       "  'learning_rate': 3.3651063829787234e-05,\n",
       "  'epoch': 10.98,\n",
       "  'step': 516},\n",
       " {'loss': 0.6268,\n",
       "  'learning_rate': 3.3600000000000004e-05,\n",
       "  'epoch': 11.0,\n",
       "  'step': 517},\n",
       " {'loss': 0.0693,\n",
       "  'learning_rate': 3.354893617021277e-05,\n",
       "  'epoch': 11.02,\n",
       "  'step': 518},\n",
       " {'loss': 0.2943,\n",
       "  'learning_rate': 3.349787234042553e-05,\n",
       "  'epoch': 11.04,\n",
       "  'step': 519},\n",
       " {'loss': 0.0988,\n",
       "  'learning_rate': 3.34468085106383e-05,\n",
       "  'epoch': 11.06,\n",
       "  'step': 520},\n",
       " {'loss': 0.1496,\n",
       "  'learning_rate': 3.339574468085106e-05,\n",
       "  'epoch': 11.09,\n",
       "  'step': 521},\n",
       " {'loss': 0.2163,\n",
       "  'learning_rate': 3.334468085106383e-05,\n",
       "  'epoch': 11.11,\n",
       "  'step': 522},\n",
       " {'loss': 0.1709,\n",
       "  'learning_rate': 3.3293617021276596e-05,\n",
       "  'epoch': 11.13,\n",
       "  'step': 523},\n",
       " {'loss': 0.1959,\n",
       "  'learning_rate': 3.324255319148936e-05,\n",
       "  'epoch': 11.15,\n",
       "  'step': 524},\n",
       " {'loss': 0.1143,\n",
       "  'learning_rate': 3.319148936170213e-05,\n",
       "  'epoch': 11.17,\n",
       "  'step': 525},\n",
       " {'loss': 0.0704,\n",
       "  'learning_rate': 3.314042553191489e-05,\n",
       "  'epoch': 11.19,\n",
       "  'step': 526},\n",
       " {'loss': 0.0536,\n",
       "  'learning_rate': 3.308936170212766e-05,\n",
       "  'epoch': 11.21,\n",
       "  'step': 527},\n",
       " {'loss': 0.0602,\n",
       "  'learning_rate': 3.3038297872340425e-05,\n",
       "  'epoch': 11.23,\n",
       "  'step': 528},\n",
       " {'loss': 0.0802,\n",
       "  'learning_rate': 3.298723404255319e-05,\n",
       "  'epoch': 11.26,\n",
       "  'step': 529},\n",
       " {'loss': 0.0664,\n",
       "  'learning_rate': 3.293617021276596e-05,\n",
       "  'epoch': 11.28,\n",
       "  'step': 530},\n",
       " {'loss': 0.0744,\n",
       "  'learning_rate': 3.288510638297872e-05,\n",
       "  'epoch': 11.3,\n",
       "  'step': 531},\n",
       " {'loss': 0.0634,\n",
       "  'learning_rate': 3.283404255319149e-05,\n",
       "  'epoch': 11.32,\n",
       "  'step': 532},\n",
       " {'loss': 0.0676,\n",
       "  'learning_rate': 3.2782978723404254e-05,\n",
       "  'epoch': 11.34,\n",
       "  'step': 533},\n",
       " {'loss': 0.1116,\n",
       "  'learning_rate': 3.2731914893617024e-05,\n",
       "  'epoch': 11.36,\n",
       "  'step': 534},\n",
       " {'loss': 0.0667,\n",
       "  'learning_rate': 3.268085106382979e-05,\n",
       "  'epoch': 11.38,\n",
       "  'step': 535},\n",
       " {'loss': 0.1392,\n",
       "  'learning_rate': 3.262978723404255e-05,\n",
       "  'epoch': 11.4,\n",
       "  'step': 536},\n",
       " {'loss': 0.088,\n",
       "  'learning_rate': 3.257872340425532e-05,\n",
       "  'epoch': 11.43,\n",
       "  'step': 537},\n",
       " {'loss': 0.0512,\n",
       "  'learning_rate': 3.2527659574468084e-05,\n",
       "  'epoch': 11.45,\n",
       "  'step': 538},\n",
       " {'loss': 0.1073,\n",
       "  'learning_rate': 3.2476595744680853e-05,\n",
       "  'epoch': 11.47,\n",
       "  'step': 539},\n",
       " {'loss': 0.0731,\n",
       "  'learning_rate': 3.2425531914893617e-05,\n",
       "  'epoch': 11.49,\n",
       "  'step': 540},\n",
       " {'loss': 0.0742,\n",
       "  'learning_rate': 3.237446808510638e-05,\n",
       "  'epoch': 11.51,\n",
       "  'step': 541},\n",
       " {'loss': 0.0647,\n",
       "  'learning_rate': 3.232340425531915e-05,\n",
       "  'epoch': 11.53,\n",
       "  'step': 542},\n",
       " {'loss': 0.1236,\n",
       "  'learning_rate': 3.227234042553191e-05,\n",
       "  'epoch': 11.55,\n",
       "  'step': 543},\n",
       " {'loss': 0.0716,\n",
       "  'learning_rate': 3.222127659574468e-05,\n",
       "  'epoch': 11.57,\n",
       "  'step': 544},\n",
       " {'loss': 0.1072,\n",
       "  'learning_rate': 3.2170212765957446e-05,\n",
       "  'epoch': 11.6,\n",
       "  'step': 545},\n",
       " {'loss': 0.1295,\n",
       "  'learning_rate': 3.211914893617021e-05,\n",
       "  'epoch': 11.62,\n",
       "  'step': 546},\n",
       " {'loss': 0.0617,\n",
       "  'learning_rate': 3.206808510638298e-05,\n",
       "  'epoch': 11.64,\n",
       "  'step': 547},\n",
       " {'loss': 0.2477,\n",
       "  'learning_rate': 3.201702127659574e-05,\n",
       "  'epoch': 11.66,\n",
       "  'step': 548},\n",
       " {'loss': 0.0595,\n",
       "  'learning_rate': 3.196595744680851e-05,\n",
       "  'epoch': 11.68,\n",
       "  'step': 549},\n",
       " {'loss': 0.108,\n",
       "  'learning_rate': 3.1914893617021275e-05,\n",
       "  'epoch': 11.7,\n",
       "  'step': 550},\n",
       " {'loss': 0.0671,\n",
       "  'learning_rate': 3.186382978723404e-05,\n",
       "  'epoch': 11.72,\n",
       "  'step': 551},\n",
       " {'loss': 0.2819,\n",
       "  'learning_rate': 3.181276595744681e-05,\n",
       "  'epoch': 11.74,\n",
       "  'step': 552},\n",
       " {'loss': 0.0712,\n",
       "  'learning_rate': 3.176170212765957e-05,\n",
       "  'epoch': 11.77,\n",
       "  'step': 553},\n",
       " {'loss': 0.0799,\n",
       "  'learning_rate': 3.171063829787234e-05,\n",
       "  'epoch': 11.79,\n",
       "  'step': 554},\n",
       " {'loss': 0.0642,\n",
       "  'learning_rate': 3.1659574468085104e-05,\n",
       "  'epoch': 11.81,\n",
       "  'step': 555},\n",
       " {'loss': 0.2042,\n",
       "  'learning_rate': 3.1608510638297874e-05,\n",
       "  'epoch': 11.83,\n",
       "  'step': 556},\n",
       " {'loss': 0.0902,\n",
       "  'learning_rate': 3.155744680851064e-05,\n",
       "  'epoch': 11.85,\n",
       "  'step': 557},\n",
       " {'loss': 0.0603,\n",
       "  'learning_rate': 3.15063829787234e-05,\n",
       "  'epoch': 11.87,\n",
       "  'step': 558},\n",
       " {'loss': 0.0517,\n",
       "  'learning_rate': 3.145531914893617e-05,\n",
       "  'epoch': 11.89,\n",
       "  'step': 559},\n",
       " {'loss': 0.0644,\n",
       "  'learning_rate': 3.140425531914893e-05,\n",
       "  'epoch': 11.91,\n",
       "  'step': 560},\n",
       " {'loss': 0.0868,\n",
       "  'learning_rate': 3.13531914893617e-05,\n",
       "  'epoch': 11.94,\n",
       "  'step': 561},\n",
       " {'loss': 0.0675,\n",
       "  'learning_rate': 3.1302127659574466e-05,\n",
       "  'epoch': 11.96,\n",
       "  'step': 562},\n",
       " {'loss': 0.0755,\n",
       "  'learning_rate': 3.125106382978723e-05,\n",
       "  'epoch': 11.98,\n",
       "  'step': 563},\n",
       " {'loss': 0.0688, 'learning_rate': 3.12e-05, 'epoch': 12.0, 'step': 564},\n",
       " {'loss': 0.0501,\n",
       "  'learning_rate': 3.114893617021276e-05,\n",
       "  'epoch': 12.02,\n",
       "  'step': 565},\n",
       " {'loss': 0.1,\n",
       "  'learning_rate': 3.109787234042553e-05,\n",
       "  'epoch': 12.04,\n",
       "  'step': 566},\n",
       " {'loss': 0.1297,\n",
       "  'learning_rate': 3.1046808510638296e-05,\n",
       "  'epoch': 12.06,\n",
       "  'step': 567},\n",
       " {'loss': 0.0658,\n",
       "  'learning_rate': 3.099574468085106e-05,\n",
       "  'epoch': 12.09,\n",
       "  'step': 568},\n",
       " {'loss': 0.1052,\n",
       "  'learning_rate': 3.094468085106383e-05,\n",
       "  'epoch': 12.11,\n",
       "  'step': 569},\n",
       " {'loss': 0.1547,\n",
       "  'learning_rate': 3.089361702127659e-05,\n",
       "  'epoch': 12.13,\n",
       "  'step': 570},\n",
       " {'loss': 0.1271,\n",
       "  'learning_rate': 3.084255319148936e-05,\n",
       "  'epoch': 12.15,\n",
       "  'step': 571},\n",
       " {'loss': 0.0549,\n",
       "  'learning_rate': 3.0791489361702125e-05,\n",
       "  'epoch': 12.17,\n",
       "  'step': 572},\n",
       " {'loss': 0.0706,\n",
       "  'learning_rate': 3.0740425531914895e-05,\n",
       "  'epoch': 12.19,\n",
       "  'step': 573},\n",
       " {'loss': 0.0853,\n",
       "  'learning_rate': 3.068936170212766e-05,\n",
       "  'epoch': 12.21,\n",
       "  'step': 574},\n",
       " {'loss': 0.0593,\n",
       "  'learning_rate': 3.063829787234042e-05,\n",
       "  'epoch': 12.23,\n",
       "  'step': 575},\n",
       " {'loss': 0.0486,\n",
       "  'learning_rate': 3.058723404255319e-05,\n",
       "  'epoch': 12.26,\n",
       "  'step': 576},\n",
       " {'loss': 0.0571,\n",
       "  'learning_rate': 3.0536170212765954e-05,\n",
       "  'epoch': 12.28,\n",
       "  'step': 577},\n",
       " {'loss': 0.0572,\n",
       "  'learning_rate': 3.0485106382978727e-05,\n",
       "  'epoch': 12.3,\n",
       "  'step': 578},\n",
       " {'loss': 0.0449,\n",
       "  'learning_rate': 3.043404255319149e-05,\n",
       "  'epoch': 12.32,\n",
       "  'step': 579},\n",
       " {'loss': 0.059,\n",
       "  'learning_rate': 3.0382978723404254e-05,\n",
       "  'epoch': 12.34,\n",
       "  'step': 580},\n",
       " {'loss': 0.0667,\n",
       "  'learning_rate': 3.0331914893617023e-05,\n",
       "  'epoch': 12.36,\n",
       "  'step': 581},\n",
       " {'loss': 0.2215,\n",
       "  'learning_rate': 3.0280851063829787e-05,\n",
       "  'epoch': 12.38,\n",
       "  'step': 582},\n",
       " {'loss': 0.0557,\n",
       "  'learning_rate': 3.0229787234042557e-05,\n",
       "  'epoch': 12.4,\n",
       "  'step': 583},\n",
       " {'loss': 0.095,\n",
       "  'learning_rate': 3.017872340425532e-05,\n",
       "  'epoch': 12.43,\n",
       "  'step': 584},\n",
       " {'loss': 0.0624,\n",
       "  'learning_rate': 3.0127659574468083e-05,\n",
       "  'epoch': 12.45,\n",
       "  'step': 585},\n",
       " {'loss': 0.2465,\n",
       "  'learning_rate': 3.0076595744680853e-05,\n",
       "  'epoch': 12.47,\n",
       "  'step': 586},\n",
       " {'loss': 0.0479,\n",
       "  'learning_rate': 3.0025531914893616e-05,\n",
       "  'epoch': 12.49,\n",
       "  'step': 587},\n",
       " {'loss': 0.0472,\n",
       "  'learning_rate': 2.9974468085106382e-05,\n",
       "  'epoch': 12.51,\n",
       "  'step': 588},\n",
       " {'loss': 0.054,\n",
       "  'learning_rate': 2.992340425531915e-05,\n",
       "  'epoch': 12.53,\n",
       "  'step': 589},\n",
       " {'loss': 0.046,\n",
       "  'learning_rate': 2.9872340425531915e-05,\n",
       "  'epoch': 12.55,\n",
       "  'step': 590},\n",
       " {'loss': 0.0573,\n",
       "  'learning_rate': 2.9821276595744682e-05,\n",
       "  'epoch': 12.57,\n",
       "  'step': 591},\n",
       " {'loss': 0.066,\n",
       "  'learning_rate': 2.977021276595745e-05,\n",
       "  'epoch': 12.6,\n",
       "  'step': 592},\n",
       " {'loss': 0.066,\n",
       "  'learning_rate': 2.9719148936170215e-05,\n",
       "  'epoch': 12.62,\n",
       "  'step': 593},\n",
       " {'loss': 0.0449,\n",
       "  'learning_rate': 2.9668085106382978e-05,\n",
       "  'epoch': 12.64,\n",
       "  'step': 594},\n",
       " {'loss': 0.063,\n",
       "  'learning_rate': 2.9617021276595745e-05,\n",
       "  'epoch': 12.66,\n",
       "  'step': 595},\n",
       " {'loss': 0.069,\n",
       "  'learning_rate': 2.956595744680851e-05,\n",
       "  'epoch': 12.68,\n",
       "  'step': 596},\n",
       " {'loss': 0.0541,\n",
       "  'learning_rate': 2.9514893617021278e-05,\n",
       "  'epoch': 12.7,\n",
       "  'step': 597},\n",
       " {'loss': 0.122,\n",
       "  'learning_rate': 2.9463829787234044e-05,\n",
       "  'epoch': 12.72,\n",
       "  'step': 598},\n",
       " {'loss': 0.0492,\n",
       "  'learning_rate': 2.9412765957446807e-05,\n",
       "  'epoch': 12.74,\n",
       "  'step': 599},\n",
       " {'loss': 0.0497,\n",
       "  'learning_rate': 2.9361702127659574e-05,\n",
       "  'epoch': 12.77,\n",
       "  'step': 600},\n",
       " {'eval_loss': 0.041258182376623154,\n",
       "  'eval_mean_iou': 0.6448761033131968,\n",
       "  'eval_mean_accuracy': 0.678437979514687,\n",
       "  'eval_overall_accuracy': 0.9945360052174536,\n",
       "  'eval_per_category_iou': [0.0,\n",
       "   0.9946383317940236,\n",
       "   0.8627012021021951,\n",
       "   0.7221648793565684],\n",
       "  'eval_per_category_accuracy': [0.0,\n",
       "   0.9980319362357409,\n",
       "   0.9040961940466112,\n",
       "   0.8116237877763955],\n",
       "  'eval_runtime': 335.7681,\n",
       "  'eval_samples_per_second': 0.691,\n",
       "  'eval_steps_per_second': 0.071,\n",
       "  'epoch': 12.77,\n",
       "  'step': 600},\n",
       " {'loss': 0.0591,\n",
       "  'learning_rate': 2.931063829787234e-05,\n",
       "  'epoch': 12.79,\n",
       "  'step': 601},\n",
       " {'loss': 0.0638,\n",
       "  'learning_rate': 2.9259574468085107e-05,\n",
       "  'epoch': 12.81,\n",
       "  'step': 602},\n",
       " {'loss': 0.2342,\n",
       "  'learning_rate': 2.9208510638297873e-05,\n",
       "  'epoch': 12.83,\n",
       "  'step': 603},\n",
       " {'loss': 0.3752,\n",
       "  'learning_rate': 2.915744680851064e-05,\n",
       "  'epoch': 12.85,\n",
       "  'step': 604},\n",
       " {'loss': 0.195,\n",
       "  'learning_rate': 2.9106382978723403e-05,\n",
       "  'epoch': 12.87,\n",
       "  'step': 605},\n",
       " {'loss': 0.0614,\n",
       "  'learning_rate': 2.905531914893617e-05,\n",
       "  'epoch': 12.89,\n",
       "  'step': 606},\n",
       " {'loss': 0.1326,\n",
       "  'learning_rate': 2.9004255319148936e-05,\n",
       "  'epoch': 12.91,\n",
       "  'step': 607},\n",
       " {'loss': 0.1549,\n",
       "  'learning_rate': 2.8953191489361703e-05,\n",
       "  'epoch': 12.94,\n",
       "  'step': 608},\n",
       " {'loss': 0.0639,\n",
       "  'learning_rate': 2.890212765957447e-05,\n",
       "  'epoch': 12.96,\n",
       "  'step': 609},\n",
       " {'loss': 0.0485,\n",
       "  'learning_rate': 2.8851063829787232e-05,\n",
       "  'epoch': 12.98,\n",
       "  'step': 610},\n",
       " {'loss': 0.1501, 'learning_rate': 2.88e-05, 'epoch': 13.0, 'step': 611},\n",
       " {'loss': 0.1014,\n",
       "  'learning_rate': 2.8748936170212765e-05,\n",
       "  'epoch': 13.02,\n",
       "  'step': 612},\n",
       " {'loss': 0.0554,\n",
       "  'learning_rate': 2.8697872340425532e-05,\n",
       "  'epoch': 13.04,\n",
       "  'step': 613},\n",
       " {'loss': 0.0556,\n",
       "  'learning_rate': 2.8646808510638298e-05,\n",
       "  'epoch': 13.06,\n",
       "  'step': 614},\n",
       " {'loss': 0.0811,\n",
       "  'learning_rate': 2.8595744680851065e-05,\n",
       "  'epoch': 13.09,\n",
       "  'step': 615},\n",
       " {'loss': 0.091,\n",
       "  'learning_rate': 2.8544680851063828e-05,\n",
       "  'epoch': 13.11,\n",
       "  'step': 616},\n",
       " {'loss': 0.1154,\n",
       "  'learning_rate': 2.8493617021276594e-05,\n",
       "  'epoch': 13.13,\n",
       "  'step': 617},\n",
       " {'loss': 0.0705,\n",
       "  'learning_rate': 2.844255319148936e-05,\n",
       "  'epoch': 13.15,\n",
       "  'step': 618},\n",
       " {'loss': 0.0622,\n",
       "  'learning_rate': 2.8391489361702127e-05,\n",
       "  'epoch': 13.17,\n",
       "  'step': 619},\n",
       " {'loss': 0.0866,\n",
       "  'learning_rate': 2.8340425531914894e-05,\n",
       "  'epoch': 13.19,\n",
       "  'step': 620},\n",
       " {'loss': 0.0476,\n",
       "  'learning_rate': 2.828936170212766e-05,\n",
       "  'epoch': 13.21,\n",
       "  'step': 621},\n",
       " {'loss': 0.0449,\n",
       "  'learning_rate': 2.8238297872340424e-05,\n",
       "  'epoch': 13.23,\n",
       "  'step': 622},\n",
       " {'loss': 0.0467,\n",
       "  'learning_rate': 2.818723404255319e-05,\n",
       "  'epoch': 13.26,\n",
       "  'step': 623},\n",
       " {'loss': 0.1097,\n",
       "  'learning_rate': 2.8136170212765957e-05,\n",
       "  'epoch': 13.28,\n",
       "  'step': 624},\n",
       " {'loss': 0.082,\n",
       "  'learning_rate': 2.8085106382978723e-05,\n",
       "  'epoch': 13.3,\n",
       "  'step': 625},\n",
       " {'loss': 0.1102,\n",
       "  'learning_rate': 2.803404255319149e-05,\n",
       "  'epoch': 13.32,\n",
       "  'step': 626},\n",
       " {'loss': 0.1013,\n",
       "  'learning_rate': 2.7982978723404253e-05,\n",
       "  'epoch': 13.34,\n",
       "  'step': 627},\n",
       " {'loss': 0.0454,\n",
       "  'learning_rate': 2.793191489361702e-05,\n",
       "  'epoch': 13.36,\n",
       "  'step': 628},\n",
       " {'loss': 0.0485,\n",
       "  'learning_rate': 2.7880851063829786e-05,\n",
       "  'epoch': 13.38,\n",
       "  'step': 629},\n",
       " {'loss': 0.095,\n",
       "  'learning_rate': 2.7829787234042556e-05,\n",
       "  'epoch': 13.4,\n",
       "  'step': 630},\n",
       " {'loss': 0.094,\n",
       "  'learning_rate': 2.7778723404255322e-05,\n",
       "  'epoch': 13.43,\n",
       "  'step': 631},\n",
       " {'loss': 0.0658,\n",
       "  'learning_rate': 2.772765957446809e-05,\n",
       "  'epoch': 13.45,\n",
       "  'step': 632},\n",
       " {'loss': 0.1017,\n",
       "  'learning_rate': 2.7676595744680852e-05,\n",
       "  'epoch': 13.47,\n",
       "  'step': 633},\n",
       " {'loss': 0.05,\n",
       "  'learning_rate': 2.762553191489362e-05,\n",
       "  'epoch': 13.49,\n",
       "  'step': 634},\n",
       " {'loss': 0.0882,\n",
       "  'learning_rate': 2.7574468085106385e-05,\n",
       "  'epoch': 13.51,\n",
       "  'step': 635},\n",
       " {'loss': 0.1658,\n",
       "  'learning_rate': 2.752340425531915e-05,\n",
       "  'epoch': 13.53,\n",
       "  'step': 636},\n",
       " {'loss': 0.0584,\n",
       "  'learning_rate': 2.7472340425531918e-05,\n",
       "  'epoch': 13.55,\n",
       "  'step': 637},\n",
       " {'loss': 0.0542,\n",
       "  'learning_rate': 2.7421276595744685e-05,\n",
       "  'epoch': 13.57,\n",
       "  'step': 638},\n",
       " {'loss': 0.0369,\n",
       "  'learning_rate': 2.7370212765957448e-05,\n",
       "  'epoch': 13.6,\n",
       "  'step': 639},\n",
       " {'loss': 0.0536,\n",
       "  'learning_rate': 2.7319148936170214e-05,\n",
       "  'epoch': 13.62,\n",
       "  'step': 640},\n",
       " {'loss': 0.0424,\n",
       "  'learning_rate': 2.726808510638298e-05,\n",
       "  'epoch': 13.64,\n",
       "  'step': 641},\n",
       " {'loss': 0.2799,\n",
       "  'learning_rate': 2.7217021276595747e-05,\n",
       "  'epoch': 13.66,\n",
       "  'step': 642},\n",
       " {'loss': 0.1061,\n",
       "  'learning_rate': 2.7165957446808514e-05,\n",
       "  'epoch': 13.68,\n",
       "  'step': 643},\n",
       " {'loss': 0.0918,\n",
       "  'learning_rate': 2.7114893617021277e-05,\n",
       "  'epoch': 13.7,\n",
       "  'step': 644},\n",
       " {'loss': 0.041,\n",
       "  'learning_rate': 2.7063829787234043e-05,\n",
       "  'epoch': 13.72,\n",
       "  'step': 645},\n",
       " {'loss': 0.0563,\n",
       "  'learning_rate': 2.701276595744681e-05,\n",
       "  'epoch': 13.74,\n",
       "  'step': 646},\n",
       " {'loss': 0.0799,\n",
       "  'learning_rate': 2.6961702127659576e-05,\n",
       "  'epoch': 13.77,\n",
       "  'step': 647},\n",
       " {'loss': 0.0496,\n",
       "  'learning_rate': 2.6910638297872343e-05,\n",
       "  'epoch': 13.79,\n",
       "  'step': 648},\n",
       " {'loss': 0.0452,\n",
       "  'learning_rate': 2.685957446808511e-05,\n",
       "  'epoch': 13.81,\n",
       "  'step': 649},\n",
       " {'loss': 0.0631,\n",
       "  'learning_rate': 2.6808510638297873e-05,\n",
       "  'epoch': 13.83,\n",
       "  'step': 650},\n",
       " {'loss': 0.0805,\n",
       "  'learning_rate': 2.675744680851064e-05,\n",
       "  'epoch': 13.85,\n",
       "  'step': 651},\n",
       " {'loss': 0.0675,\n",
       "  'learning_rate': 2.6706382978723406e-05,\n",
       "  'epoch': 13.87,\n",
       "  'step': 652},\n",
       " {'loss': 0.0763,\n",
       "  'learning_rate': 2.6655319148936172e-05,\n",
       "  'epoch': 13.89,\n",
       "  'step': 653},\n",
       " {'loss': 0.2246,\n",
       "  'learning_rate': 2.660425531914894e-05,\n",
       "  'epoch': 13.91,\n",
       "  'step': 654},\n",
       " {'loss': 0.0668,\n",
       "  'learning_rate': 2.6553191489361702e-05,\n",
       "  'epoch': 13.94,\n",
       "  'step': 655},\n",
       " {'loss': 0.1335,\n",
       "  'learning_rate': 2.650212765957447e-05,\n",
       "  'epoch': 13.96,\n",
       "  'step': 656},\n",
       " {'loss': 0.0508,\n",
       "  'learning_rate': 2.6451063829787235e-05,\n",
       "  'epoch': 13.98,\n",
       "  'step': 657},\n",
       " {'loss': 0.0438, 'learning_rate': 2.64e-05, 'epoch': 14.0, 'step': 658},\n",
       " {'loss': 0.0449,\n",
       "  'learning_rate': 2.6348936170212768e-05,\n",
       "  'epoch': 14.02,\n",
       "  'step': 659},\n",
       " {'loss': 0.0568,\n",
       "  'learning_rate': 2.6297872340425534e-05,\n",
       "  'epoch': 14.04,\n",
       "  'step': 660},\n",
       " {'loss': 0.1035,\n",
       "  'learning_rate': 2.6246808510638298e-05,\n",
       "  'epoch': 14.06,\n",
       "  'step': 661},\n",
       " {'loss': 0.0577,\n",
       "  'learning_rate': 2.6195744680851064e-05,\n",
       "  'epoch': 14.09,\n",
       "  'step': 662},\n",
       " {'loss': 0.0668,\n",
       "  'learning_rate': 2.614468085106383e-05,\n",
       "  'epoch': 14.11,\n",
       "  'step': 663},\n",
       " {'loss': 0.1079,\n",
       "  'learning_rate': 2.6093617021276597e-05,\n",
       "  'epoch': 14.13,\n",
       "  'step': 664},\n",
       " {'loss': 0.0507,\n",
       "  'learning_rate': 2.6042553191489364e-05,\n",
       "  'epoch': 14.15,\n",
       "  'step': 665},\n",
       " {'loss': 0.0631,\n",
       "  'learning_rate': 2.599148936170213e-05,\n",
       "  'epoch': 14.17,\n",
       "  'step': 666},\n",
       " {'loss': 0.08,\n",
       "  'learning_rate': 2.5940425531914893e-05,\n",
       "  'epoch': 14.19,\n",
       "  'step': 667},\n",
       " {'loss': 0.0502,\n",
       "  'learning_rate': 2.588936170212766e-05,\n",
       "  'epoch': 14.21,\n",
       "  'step': 668},\n",
       " {'loss': 0.0464,\n",
       "  'learning_rate': 2.5838297872340426e-05,\n",
       "  'epoch': 14.23,\n",
       "  'step': 669},\n",
       " {'loss': 0.3183,\n",
       "  'learning_rate': 2.5787234042553193e-05,\n",
       "  'epoch': 14.26,\n",
       "  'step': 670},\n",
       " {'loss': 0.0395,\n",
       "  'learning_rate': 2.573617021276596e-05,\n",
       "  'epoch': 14.28,\n",
       "  'step': 671},\n",
       " {'loss': 0.083,\n",
       "  'learning_rate': 2.5685106382978722e-05,\n",
       "  'epoch': 14.3,\n",
       "  'step': 672},\n",
       " {'loss': 0.0741,\n",
       "  'learning_rate': 2.563404255319149e-05,\n",
       "  'epoch': 14.32,\n",
       "  'step': 673},\n",
       " {'loss': 0.0493,\n",
       "  'learning_rate': 2.5582978723404255e-05,\n",
       "  'epoch': 14.34,\n",
       "  'step': 674},\n",
       " {'loss': 0.0823,\n",
       "  'learning_rate': 2.5531914893617022e-05,\n",
       "  'epoch': 14.36,\n",
       "  'step': 675},\n",
       " {'loss': 0.0602,\n",
       "  'learning_rate': 2.548085106382979e-05,\n",
       "  'epoch': 14.38,\n",
       "  'step': 676},\n",
       " {'loss': 0.0605,\n",
       "  'learning_rate': 2.5429787234042555e-05,\n",
       "  'epoch': 14.4,\n",
       "  'step': 677},\n",
       " {'loss': 0.0568,\n",
       "  'learning_rate': 2.5378723404255318e-05,\n",
       "  'epoch': 14.43,\n",
       "  'step': 678},\n",
       " {'loss': 0.1021,\n",
       "  'learning_rate': 2.5327659574468085e-05,\n",
       "  'epoch': 14.45,\n",
       "  'step': 679},\n",
       " {'loss': 0.0853,\n",
       "  'learning_rate': 2.527659574468085e-05,\n",
       "  'epoch': 14.47,\n",
       "  'step': 680},\n",
       " {'loss': 0.045,\n",
       "  'learning_rate': 2.5225531914893618e-05,\n",
       "  'epoch': 14.49,\n",
       "  'step': 681},\n",
       " {'loss': 0.0478,\n",
       "  'learning_rate': 2.5174468085106384e-05,\n",
       "  'epoch': 14.51,\n",
       "  'step': 682},\n",
       " {'loss': 0.1299,\n",
       "  'learning_rate': 2.512340425531915e-05,\n",
       "  'epoch': 14.53,\n",
       "  'step': 683},\n",
       " {'loss': 0.06,\n",
       "  'learning_rate': 2.5072340425531914e-05,\n",
       "  'epoch': 14.55,\n",
       "  'step': 684},\n",
       " {'loss': 0.1229,\n",
       "  'learning_rate': 2.502127659574468e-05,\n",
       "  'epoch': 14.57,\n",
       "  'step': 685},\n",
       " {'loss': 0.0669,\n",
       "  'learning_rate': 2.4970212765957447e-05,\n",
       "  'epoch': 14.6,\n",
       "  'step': 686},\n",
       " {'loss': 0.0576,\n",
       "  'learning_rate': 2.4919148936170213e-05,\n",
       "  'epoch': 14.62,\n",
       "  'step': 687},\n",
       " {'loss': 0.0795,\n",
       "  'learning_rate': 2.486808510638298e-05,\n",
       "  'epoch': 14.64,\n",
       "  'step': 688},\n",
       " {'loss': 0.045,\n",
       "  'learning_rate': 2.4817021276595743e-05,\n",
       "  'epoch': 14.66,\n",
       "  'step': 689},\n",
       " {'loss': 0.0857,\n",
       "  'learning_rate': 2.476595744680851e-05,\n",
       "  'epoch': 14.68,\n",
       "  'step': 690},\n",
       " {'loss': 0.0684,\n",
       "  'learning_rate': 2.4714893617021276e-05,\n",
       "  'epoch': 14.7,\n",
       "  'step': 691},\n",
       " {'loss': 0.0558,\n",
       "  'learning_rate': 2.4663829787234043e-05,\n",
       "  'epoch': 14.72,\n",
       "  'step': 692},\n",
       " {'loss': 0.1019,\n",
       "  'learning_rate': 2.461276595744681e-05,\n",
       "  'epoch': 14.74,\n",
       "  'step': 693},\n",
       " {'loss': 0.0488,\n",
       "  'learning_rate': 2.4561702127659576e-05,\n",
       "  'epoch': 14.77,\n",
       "  'step': 694},\n",
       " {'loss': 0.0413,\n",
       "  'learning_rate': 2.451063829787234e-05,\n",
       "  'epoch': 14.79,\n",
       "  'step': 695},\n",
       " {'loss': 0.0699,\n",
       "  'learning_rate': 2.4459574468085105e-05,\n",
       "  'epoch': 14.81,\n",
       "  'step': 696},\n",
       " {'loss': 0.0458,\n",
       "  'learning_rate': 2.4408510638297872e-05,\n",
       "  'epoch': 14.83,\n",
       "  'step': 697},\n",
       " {'loss': 0.034,\n",
       "  'learning_rate': 2.435744680851064e-05,\n",
       "  'epoch': 14.85,\n",
       "  'step': 698},\n",
       " {'loss': 0.0371,\n",
       "  'learning_rate': 2.4306382978723405e-05,\n",
       "  'epoch': 14.87,\n",
       "  'step': 699},\n",
       " {'loss': 0.0682,\n",
       "  'learning_rate': 2.4255319148936168e-05,\n",
       "  'epoch': 14.89,\n",
       "  'step': 700},\n",
       " {'eval_loss': 0.03559964522719383,\n",
       "  'eval_mean_iou': 0.6511338922312613,\n",
       "  'eval_mean_accuracy': 0.6859595664361855,\n",
       "  'eval_overall_accuracy': 0.9947252437986177,\n",
       "  'eval_per_category_iou': [0.0,\n",
       "   0.9948152162145201,\n",
       "   0.878013822871291,\n",
       "   0.7317065298392341],\n",
       "  'eval_per_category_accuracy': [0.0,\n",
       "   0.9978870376040312,\n",
       "   0.9165212584005666,\n",
       "   0.829429969740144],\n",
       "  'eval_runtime': 333.7337,\n",
       "  'eval_samples_per_second': 0.695,\n",
       "  'eval_steps_per_second': 0.072,\n",
       "  'epoch': 14.89,\n",
       "  'step': 700},\n",
       " {'loss': 0.061,\n",
       "  'learning_rate': 2.4204255319148935e-05,\n",
       "  'epoch': 14.91,\n",
       "  'step': 701},\n",
       " {'loss': 0.0586,\n",
       "  'learning_rate': 2.41531914893617e-05,\n",
       "  'epoch': 14.94,\n",
       "  'step': 702},\n",
       " {'loss': 0.175,\n",
       "  'learning_rate': 2.4102127659574468e-05,\n",
       "  'epoch': 14.96,\n",
       "  'step': 703},\n",
       " {'loss': 0.0504,\n",
       "  'learning_rate': 2.4051063829787234e-05,\n",
       "  'epoch': 14.98,\n",
       "  'step': 704},\n",
       " {'loss': 0.0692, 'learning_rate': 2.4e-05, 'epoch': 15.0, 'step': 705},\n",
       " {'loss': 0.0362,\n",
       "  'learning_rate': 2.3948936170212764e-05,\n",
       "  'epoch': 15.02,\n",
       "  'step': 706},\n",
       " {'loss': 0.0458,\n",
       "  'learning_rate': 2.389787234042553e-05,\n",
       "  'epoch': 15.04,\n",
       "  'step': 707},\n",
       " {'loss': 0.0539,\n",
       "  'learning_rate': 2.3846808510638297e-05,\n",
       "  'epoch': 15.06,\n",
       "  'step': 708},\n",
       " {'loss': 0.0457,\n",
       "  'learning_rate': 2.3795744680851063e-05,\n",
       "  'epoch': 15.09,\n",
       "  'step': 709},\n",
       " {'loss': 0.0813,\n",
       "  'learning_rate': 2.374468085106383e-05,\n",
       "  'epoch': 15.11,\n",
       "  'step': 710},\n",
       " {'loss': 0.0907,\n",
       "  'learning_rate': 2.3693617021276596e-05,\n",
       "  'epoch': 15.13,\n",
       "  'step': 711},\n",
       " {'loss': 0.0562,\n",
       "  'learning_rate': 2.364255319148936e-05,\n",
       "  'epoch': 15.15,\n",
       "  'step': 712},\n",
       " {'loss': 0.053,\n",
       "  'learning_rate': 2.3591489361702126e-05,\n",
       "  'epoch': 15.17,\n",
       "  'step': 713},\n",
       " {'loss': 0.1121,\n",
       "  'learning_rate': 2.3540425531914896e-05,\n",
       "  'epoch': 15.19,\n",
       "  'step': 714},\n",
       " {'loss': 0.2104,\n",
       "  'learning_rate': 2.3489361702127662e-05,\n",
       "  'epoch': 15.21,\n",
       "  'step': 715},\n",
       " {'loss': 0.1187,\n",
       "  'learning_rate': 2.343829787234043e-05,\n",
       "  'epoch': 15.23,\n",
       "  'step': 716},\n",
       " {'loss': 0.0372,\n",
       "  'learning_rate': 2.3387234042553192e-05,\n",
       "  'epoch': 15.26,\n",
       "  'step': 717},\n",
       " {'loss': 0.1166,\n",
       "  'learning_rate': 2.333617021276596e-05,\n",
       "  'epoch': 15.28,\n",
       "  'step': 718},\n",
       " {'loss': 0.0871,\n",
       "  'learning_rate': 2.3285106382978725e-05,\n",
       "  'epoch': 15.3,\n",
       "  'step': 719},\n",
       " {'loss': 0.3255,\n",
       "  'learning_rate': 2.323404255319149e-05,\n",
       "  'epoch': 15.32,\n",
       "  'step': 720},\n",
       " {'loss': 0.0494,\n",
       "  'learning_rate': 2.3182978723404258e-05,\n",
       "  'epoch': 15.34,\n",
       "  'step': 721},\n",
       " {'loss': 0.0363,\n",
       "  'learning_rate': 2.3131914893617025e-05,\n",
       "  'epoch': 15.36,\n",
       "  'step': 722},\n",
       " {'loss': 0.077,\n",
       "  'learning_rate': 2.3080851063829788e-05,\n",
       "  'epoch': 15.38,\n",
       "  'step': 723},\n",
       " {'loss': 0.043,\n",
       "  'learning_rate': 2.3029787234042554e-05,\n",
       "  'epoch': 15.4,\n",
       "  'step': 724},\n",
       " {'loss': 0.0601,\n",
       "  'learning_rate': 2.297872340425532e-05,\n",
       "  'epoch': 15.43,\n",
       "  'step': 725},\n",
       " {'loss': 0.0363,\n",
       "  'learning_rate': 2.2927659574468087e-05,\n",
       "  'epoch': 15.45,\n",
       "  'step': 726},\n",
       " {'loss': 0.0409,\n",
       "  'learning_rate': 2.2876595744680854e-05,\n",
       "  'epoch': 15.47,\n",
       "  'step': 727},\n",
       " {'loss': 0.0406,\n",
       "  'learning_rate': 2.282553191489362e-05,\n",
       "  'epoch': 15.49,\n",
       "  'step': 728},\n",
       " {'loss': 0.0693,\n",
       "  'learning_rate': 2.2774468085106383e-05,\n",
       "  'epoch': 15.51,\n",
       "  'step': 729},\n",
       " {'loss': 0.0477,\n",
       "  'learning_rate': 2.272340425531915e-05,\n",
       "  'epoch': 15.53,\n",
       "  'step': 730},\n",
       " {'loss': 0.0661,\n",
       "  'learning_rate': 2.2672340425531917e-05,\n",
       "  'epoch': 15.55,\n",
       "  'step': 731},\n",
       " {'loss': 0.0326,\n",
       "  'learning_rate': 2.2621276595744683e-05,\n",
       "  'epoch': 15.57,\n",
       "  'step': 732},\n",
       " {'loss': 0.045,\n",
       "  'learning_rate': 2.257021276595745e-05,\n",
       "  'epoch': 15.6,\n",
       "  'step': 733},\n",
       " {'loss': 0.0707,\n",
       "  'learning_rate': 2.2519148936170213e-05,\n",
       "  'epoch': 15.62,\n",
       "  'step': 734},\n",
       " {'loss': 0.165,\n",
       "  'learning_rate': 2.246808510638298e-05,\n",
       "  'epoch': 15.64,\n",
       "  'step': 735},\n",
       " {'loss': 0.0426,\n",
       "  'learning_rate': 2.2417021276595746e-05,\n",
       "  'epoch': 15.66,\n",
       "  'step': 736},\n",
       " {'loss': 0.0726,\n",
       "  'learning_rate': 2.2365957446808512e-05,\n",
       "  'epoch': 15.68,\n",
       "  'step': 737},\n",
       " {'loss': 0.05,\n",
       "  'learning_rate': 2.231489361702128e-05,\n",
       "  'epoch': 15.7,\n",
       "  'step': 738},\n",
       " {'loss': 0.0479,\n",
       "  'learning_rate': 2.2263829787234045e-05,\n",
       "  'epoch': 15.72,\n",
       "  'step': 739},\n",
       " {'loss': 0.0709,\n",
       "  'learning_rate': 2.221276595744681e-05,\n",
       "  'epoch': 15.74,\n",
       "  'step': 740},\n",
       " {'loss': 0.041,\n",
       "  'learning_rate': 2.2161702127659575e-05,\n",
       "  'epoch': 15.77,\n",
       "  'step': 741},\n",
       " {'loss': 0.0596,\n",
       "  'learning_rate': 2.211063829787234e-05,\n",
       "  'epoch': 15.79,\n",
       "  'step': 742},\n",
       " {'loss': 0.0794,\n",
       "  'learning_rate': 2.2059574468085108e-05,\n",
       "  'epoch': 15.81,\n",
       "  'step': 743},\n",
       " {'loss': 0.1563,\n",
       "  'learning_rate': 2.2008510638297874e-05,\n",
       "  'epoch': 15.83,\n",
       "  'step': 744},\n",
       " {'loss': 0.0935,\n",
       "  'learning_rate': 2.1957446808510638e-05,\n",
       "  'epoch': 15.85,\n",
       "  'step': 745},\n",
       " {'loss': 0.0555,\n",
       "  'learning_rate': 2.1906382978723404e-05,\n",
       "  'epoch': 15.87,\n",
       "  'step': 746},\n",
       " {'loss': 0.0551,\n",
       "  'learning_rate': 2.185531914893617e-05,\n",
       "  'epoch': 15.89,\n",
       "  'step': 747},\n",
       " {'loss': 0.051,\n",
       "  'learning_rate': 2.1804255319148937e-05,\n",
       "  'epoch': 15.91,\n",
       "  'step': 748},\n",
       " {'loss': 0.0626,\n",
       "  'learning_rate': 2.1753191489361704e-05,\n",
       "  'epoch': 15.94,\n",
       "  'step': 749},\n",
       " {'loss': 0.1259,\n",
       "  'learning_rate': 2.170212765957447e-05,\n",
       "  'epoch': 15.96,\n",
       "  'step': 750},\n",
       " {'loss': 0.0739,\n",
       "  'learning_rate': 2.1651063829787233e-05,\n",
       "  'epoch': 15.98,\n",
       "  'step': 751},\n",
       " {'loss': 0.0386, 'learning_rate': 2.16e-05, 'epoch': 16.0, 'step': 752},\n",
       " {'loss': 0.0608,\n",
       "  'learning_rate': 2.1548936170212766e-05,\n",
       "  'epoch': 16.02,\n",
       "  'step': 753},\n",
       " {'loss': 0.0943,\n",
       "  'learning_rate': 2.1497872340425533e-05,\n",
       "  'epoch': 16.04,\n",
       "  'step': 754},\n",
       " {'loss': 0.0527,\n",
       "  'learning_rate': 2.14468085106383e-05,\n",
       "  'epoch': 16.06,\n",
       "  'step': 755},\n",
       " {'loss': 0.0729,\n",
       "  'learning_rate': 2.1395744680851066e-05,\n",
       "  'epoch': 16.09,\n",
       "  'step': 756},\n",
       " {'loss': 0.0536,\n",
       "  'learning_rate': 2.134468085106383e-05,\n",
       "  'epoch': 16.11,\n",
       "  'step': 757},\n",
       " {'loss': 0.0501,\n",
       "  'learning_rate': 2.1293617021276596e-05,\n",
       "  'epoch': 16.13,\n",
       "  'step': 758},\n",
       " {'loss': 0.0626,\n",
       "  'learning_rate': 2.1242553191489362e-05,\n",
       "  'epoch': 16.15,\n",
       "  'step': 759},\n",
       " {'loss': 0.0368,\n",
       "  'learning_rate': 2.119148936170213e-05,\n",
       "  'epoch': 16.17,\n",
       "  'step': 760},\n",
       " {'loss': 0.0436,\n",
       "  'learning_rate': 2.1140425531914895e-05,\n",
       "  'epoch': 16.19,\n",
       "  'step': 761},\n",
       " {'loss': 0.0555,\n",
       "  'learning_rate': 2.1089361702127658e-05,\n",
       "  'epoch': 16.21,\n",
       "  'step': 762},\n",
       " {'loss': 0.0807,\n",
       "  'learning_rate': 2.1038297872340425e-05,\n",
       "  'epoch': 16.23,\n",
       "  'step': 763},\n",
       " {'loss': 0.0636,\n",
       "  'learning_rate': 2.098723404255319e-05,\n",
       "  'epoch': 16.26,\n",
       "  'step': 764},\n",
       " {'loss': 0.0439,\n",
       "  'learning_rate': 2.0936170212765958e-05,\n",
       "  'epoch': 16.28,\n",
       "  'step': 765},\n",
       " {'loss': 0.0816,\n",
       "  'learning_rate': 2.0885106382978724e-05,\n",
       "  'epoch': 16.3,\n",
       "  'step': 766},\n",
       " {'loss': 0.0418,\n",
       "  'learning_rate': 2.083404255319149e-05,\n",
       "  'epoch': 16.32,\n",
       "  'step': 767},\n",
       " {'loss': 0.0689,\n",
       "  'learning_rate': 2.0782978723404254e-05,\n",
       "  'epoch': 16.34,\n",
       "  'step': 768},\n",
       " {'loss': 0.0452,\n",
       "  'learning_rate': 2.073191489361702e-05,\n",
       "  'epoch': 16.36,\n",
       "  'step': 769},\n",
       " {'loss': 0.0447,\n",
       "  'learning_rate': 2.0680851063829787e-05,\n",
       "  'epoch': 16.38,\n",
       "  'step': 770},\n",
       " {'loss': 0.2187,\n",
       "  'learning_rate': 2.0629787234042554e-05,\n",
       "  'epoch': 16.4,\n",
       "  'step': 771},\n",
       " {'loss': 0.0342,\n",
       "  'learning_rate': 2.057872340425532e-05,\n",
       "  'epoch': 16.43,\n",
       "  'step': 772},\n",
       " {'loss': 0.129,\n",
       "  'learning_rate': 2.0527659574468087e-05,\n",
       "  'epoch': 16.45,\n",
       "  'step': 773},\n",
       " {'loss': 0.0358,\n",
       "  'learning_rate': 2.047659574468085e-05,\n",
       "  'epoch': 16.47,\n",
       "  'step': 774},\n",
       " {'loss': 0.0409,\n",
       "  'learning_rate': 2.0425531914893616e-05,\n",
       "  'epoch': 16.49,\n",
       "  'step': 775},\n",
       " {'loss': 0.0472,\n",
       "  'learning_rate': 2.0374468085106383e-05,\n",
       "  'epoch': 16.51,\n",
       "  'step': 776},\n",
       " {'loss': 0.0585,\n",
       "  'learning_rate': 2.032340425531915e-05,\n",
       "  'epoch': 16.53,\n",
       "  'step': 777},\n",
       " {'loss': 0.0648,\n",
       "  'learning_rate': 2.0272340425531916e-05,\n",
       "  'epoch': 16.55,\n",
       "  'step': 778},\n",
       " {'loss': 0.0395,\n",
       "  'learning_rate': 2.022127659574468e-05,\n",
       "  'epoch': 16.57,\n",
       "  'step': 779},\n",
       " {'loss': 0.0368,\n",
       "  'learning_rate': 2.0170212765957445e-05,\n",
       "  'epoch': 16.6,\n",
       "  'step': 780},\n",
       " {'loss': 0.0459,\n",
       "  'learning_rate': 2.0119148936170212e-05,\n",
       "  'epoch': 16.62,\n",
       "  'step': 781},\n",
       " {'loss': 0.0451,\n",
       "  'learning_rate': 2.006808510638298e-05,\n",
       "  'epoch': 16.64,\n",
       "  'step': 782},\n",
       " {'loss': 0.0296,\n",
       "  'learning_rate': 2.0017021276595745e-05,\n",
       "  'epoch': 16.66,\n",
       "  'step': 783},\n",
       " {'loss': 0.1279,\n",
       "  'learning_rate': 1.996595744680851e-05,\n",
       "  'epoch': 16.68,\n",
       "  'step': 784},\n",
       " {'loss': 0.0457,\n",
       "  'learning_rate': 1.9914893617021275e-05,\n",
       "  'epoch': 16.7,\n",
       "  'step': 785},\n",
       " {'loss': 0.0305,\n",
       "  'learning_rate': 1.986382978723404e-05,\n",
       "  'epoch': 16.72,\n",
       "  'step': 786},\n",
       " {'loss': 0.0442,\n",
       "  'learning_rate': 1.9812765957446808e-05,\n",
       "  'epoch': 16.74,\n",
       "  'step': 787},\n",
       " {'loss': 0.0389,\n",
       "  'learning_rate': 1.9761702127659574e-05,\n",
       "  'epoch': 16.77,\n",
       "  'step': 788},\n",
       " {'loss': 0.055,\n",
       "  'learning_rate': 1.971063829787234e-05,\n",
       "  'epoch': 16.79,\n",
       "  'step': 789},\n",
       " {'loss': 0.0383,\n",
       "  'learning_rate': 1.9659574468085104e-05,\n",
       "  'epoch': 16.81,\n",
       "  'step': 790},\n",
       " {'loss': 0.1194,\n",
       "  'learning_rate': 1.960851063829787e-05,\n",
       "  'epoch': 16.83,\n",
       "  'step': 791},\n",
       " {'loss': 0.1343,\n",
       "  'learning_rate': 1.9557446808510637e-05,\n",
       "  'epoch': 16.85,\n",
       "  'step': 792},\n",
       " {'loss': 0.0479,\n",
       "  'learning_rate': 1.9506382978723403e-05,\n",
       "  'epoch': 16.87,\n",
       "  'step': 793},\n",
       " {'loss': 0.0806,\n",
       "  'learning_rate': 1.945531914893617e-05,\n",
       "  'epoch': 16.89,\n",
       "  'step': 794},\n",
       " {'loss': 0.0334,\n",
       "  'learning_rate': 1.9404255319148936e-05,\n",
       "  'epoch': 16.91,\n",
       "  'step': 795},\n",
       " {'loss': 0.0691,\n",
       "  'learning_rate': 1.93531914893617e-05,\n",
       "  'epoch': 16.94,\n",
       "  'step': 796},\n",
       " {'loss': 0.0565,\n",
       "  'learning_rate': 1.930212765957447e-05,\n",
       "  'epoch': 16.96,\n",
       "  'step': 797},\n",
       " {'loss': 0.0389,\n",
       "  'learning_rate': 1.9251063829787236e-05,\n",
       "  'epoch': 16.98,\n",
       "  'step': 798},\n",
       " {'loss': 0.0507,\n",
       "  'learning_rate': 1.9200000000000003e-05,\n",
       "  'epoch': 17.0,\n",
       "  'step': 799},\n",
       " {'loss': 0.0447,\n",
       "  'learning_rate': 1.914893617021277e-05,\n",
       "  'epoch': 17.02,\n",
       "  'step': 800},\n",
       " {'eval_loss': 0.029731623828411102,\n",
       "  'eval_mean_iou': 0.6571330645014707,\n",
       "  'eval_mean_accuracy': 0.6940869681669288,\n",
       "  'eval_overall_accuracy': 0.9949644022974474,\n",
       "  'eval_per_category_iou': [0.0,\n",
       "   0.9950403751988298,\n",
       "   0.8874074270521857,\n",
       "   0.7460844557548673],\n",
       "  'eval_per_category_accuracy': [0.0,\n",
       "   0.9977117461738471,\n",
       "   0.9249347822331254,\n",
       "   0.8537013442607427],\n",
       "  'eval_runtime': 336.6738,\n",
       "  'eval_samples_per_second': 0.689,\n",
       "  'eval_steps_per_second': 0.071,\n",
       "  'epoch': 17.02,\n",
       "  'step': 800},\n",
       " {'loss': 0.0768,\n",
       "  'learning_rate': 1.9097872340425536e-05,\n",
       "  'epoch': 17.04,\n",
       "  'step': 801},\n",
       " {'loss': 0.0327,\n",
       "  'learning_rate': 1.90468085106383e-05,\n",
       "  'epoch': 17.06,\n",
       "  'step': 802},\n",
       " {'loss': 0.0316,\n",
       "  'learning_rate': 1.8995744680851065e-05,\n",
       "  'epoch': 17.09,\n",
       "  'step': 803},\n",
       " {'loss': 0.0471,\n",
       "  'learning_rate': 1.8944680851063832e-05,\n",
       "  'epoch': 17.11,\n",
       "  'step': 804},\n",
       " {'loss': 0.0427,\n",
       "  'learning_rate': 1.8893617021276598e-05,\n",
       "  'epoch': 17.13,\n",
       "  'step': 805},\n",
       " {'loss': 0.051,\n",
       "  'learning_rate': 1.8842553191489365e-05,\n",
       "  'epoch': 17.15,\n",
       "  'step': 806},\n",
       " {'loss': 0.5194,\n",
       "  'learning_rate': 1.8791489361702128e-05,\n",
       "  'epoch': 17.17,\n",
       "  'step': 807},\n",
       " {'loss': 0.0721,\n",
       "  'learning_rate': 1.8740425531914894e-05,\n",
       "  'epoch': 17.19,\n",
       "  'step': 808},\n",
       " {'loss': 0.0662,\n",
       "  'learning_rate': 1.868936170212766e-05,\n",
       "  'epoch': 17.21,\n",
       "  'step': 809},\n",
       " {'loss': 0.0349,\n",
       "  'learning_rate': 1.8638297872340427e-05,\n",
       "  'epoch': 17.23,\n",
       "  'step': 810},\n",
       " {'loss': 0.0436,\n",
       "  'learning_rate': 1.8587234042553194e-05,\n",
       "  'epoch': 17.26,\n",
       "  'step': 811},\n",
       " {'loss': 0.0264,\n",
       "  'learning_rate': 1.853617021276596e-05,\n",
       "  'epoch': 17.28,\n",
       "  'step': 812},\n",
       " {'loss': 0.0426,\n",
       "  'learning_rate': 1.8485106382978724e-05,\n",
       "  'epoch': 17.3,\n",
       "  'step': 813},\n",
       " {'loss': 0.0371,\n",
       "  'learning_rate': 1.843404255319149e-05,\n",
       "  'epoch': 17.32,\n",
       "  'step': 814},\n",
       " {'loss': 0.0457,\n",
       "  'learning_rate': 1.8382978723404257e-05,\n",
       "  'epoch': 17.34,\n",
       "  'step': 815},\n",
       " {'loss': 0.0381,\n",
       "  'learning_rate': 1.8331914893617023e-05,\n",
       "  'epoch': 17.36,\n",
       "  'step': 816},\n",
       " {'loss': 0.0389,\n",
       "  'learning_rate': 1.828085106382979e-05,\n",
       "  'epoch': 17.38,\n",
       "  'step': 817},\n",
       " {'loss': 0.0415,\n",
       "  'learning_rate': 1.8229787234042556e-05,\n",
       "  'epoch': 17.4,\n",
       "  'step': 818},\n",
       " {'loss': 0.0308,\n",
       "  'learning_rate': 1.817872340425532e-05,\n",
       "  'epoch': 17.43,\n",
       "  'step': 819},\n",
       " {'loss': 0.0421,\n",
       "  'learning_rate': 1.8127659574468086e-05,\n",
       "  'epoch': 17.45,\n",
       "  'step': 820},\n",
       " {'loss': 0.0417,\n",
       "  'learning_rate': 1.8076595744680852e-05,\n",
       "  'epoch': 17.47,\n",
       "  'step': 821},\n",
       " {'loss': 0.0362,\n",
       "  'learning_rate': 1.802553191489362e-05,\n",
       "  'epoch': 17.49,\n",
       "  'step': 822},\n",
       " {'loss': 0.1841,\n",
       "  'learning_rate': 1.7974468085106385e-05,\n",
       "  'epoch': 17.51,\n",
       "  'step': 823},\n",
       " {'loss': 0.0633,\n",
       "  'learning_rate': 1.792340425531915e-05,\n",
       "  'epoch': 17.53,\n",
       "  'step': 824},\n",
       " {'loss': 0.0313,\n",
       "  'learning_rate': 1.7872340425531915e-05,\n",
       "  'epoch': 17.55,\n",
       "  'step': 825},\n",
       " {'loss': 0.0355,\n",
       "  'learning_rate': 1.782127659574468e-05,\n",
       "  'epoch': 17.57,\n",
       "  'step': 826},\n",
       " {'loss': 0.0499,\n",
       "  'learning_rate': 1.7770212765957448e-05,\n",
       "  'epoch': 17.6,\n",
       "  'step': 827},\n",
       " {'loss': 0.0294,\n",
       "  'learning_rate': 1.7719148936170215e-05,\n",
       "  'epoch': 17.62,\n",
       "  'step': 828},\n",
       " {'loss': 0.0508,\n",
       "  'learning_rate': 1.766808510638298e-05,\n",
       "  'epoch': 17.64,\n",
       "  'step': 829},\n",
       " {'loss': 0.0416,\n",
       "  'learning_rate': 1.7617021276595744e-05,\n",
       "  'epoch': 17.66,\n",
       "  'step': 830},\n",
       " {'loss': 0.0574,\n",
       "  'learning_rate': 1.756595744680851e-05,\n",
       "  'epoch': 17.68,\n",
       "  'step': 831},\n",
       " {'loss': 0.032,\n",
       "  'learning_rate': 1.7514893617021277e-05,\n",
       "  'epoch': 17.7,\n",
       "  'step': 832},\n",
       " {'loss': 0.0734,\n",
       "  'learning_rate': 1.7463829787234044e-05,\n",
       "  'epoch': 17.72,\n",
       "  'step': 833},\n",
       " {'loss': 0.0486,\n",
       "  'learning_rate': 1.741276595744681e-05,\n",
       "  'epoch': 17.74,\n",
       "  'step': 834},\n",
       " {'loss': 0.035,\n",
       "  'learning_rate': 1.7361702127659573e-05,\n",
       "  'epoch': 17.77,\n",
       "  'step': 835},\n",
       " {'loss': 0.0421,\n",
       "  'learning_rate': 1.731063829787234e-05,\n",
       "  'epoch': 17.79,\n",
       "  'step': 836},\n",
       " {'loss': 0.0423,\n",
       "  'learning_rate': 1.7259574468085107e-05,\n",
       "  'epoch': 17.81,\n",
       "  'step': 837},\n",
       " {'loss': 0.0335,\n",
       "  'learning_rate': 1.7208510638297873e-05,\n",
       "  'epoch': 17.83,\n",
       "  'step': 838},\n",
       " {'loss': 0.0404,\n",
       "  'learning_rate': 1.715744680851064e-05,\n",
       "  'epoch': 17.85,\n",
       "  'step': 839},\n",
       " {'loss': 0.0759,\n",
       "  'learning_rate': 1.7106382978723406e-05,\n",
       "  'epoch': 17.87,\n",
       "  'step': 840},\n",
       " {'loss': 0.0369,\n",
       "  'learning_rate': 1.705531914893617e-05,\n",
       "  'epoch': 17.89,\n",
       "  'step': 841},\n",
       " {'loss': 0.0788,\n",
       "  'learning_rate': 1.7004255319148936e-05,\n",
       "  'epoch': 17.91,\n",
       "  'step': 842},\n",
       " {'loss': 0.0693,\n",
       "  'learning_rate': 1.6953191489361702e-05,\n",
       "  'epoch': 17.94,\n",
       "  'step': 843},\n",
       " {'loss': 0.0446,\n",
       "  'learning_rate': 1.690212765957447e-05,\n",
       "  'epoch': 17.96,\n",
       "  'step': 844},\n",
       " {'loss': 0.0522,\n",
       "  'learning_rate': 1.6851063829787235e-05,\n",
       "  'epoch': 17.98,\n",
       "  'step': 845},\n",
       " {'loss': 0.0723,\n",
       "  'learning_rate': 1.6800000000000002e-05,\n",
       "  'epoch': 18.0,\n",
       "  'step': 846},\n",
       " {'loss': 0.0459,\n",
       "  'learning_rate': 1.6748936170212765e-05,\n",
       "  'epoch': 18.02,\n",
       "  'step': 847},\n",
       " {'loss': 0.0932,\n",
       "  'learning_rate': 1.669787234042553e-05,\n",
       "  'epoch': 18.04,\n",
       "  'step': 848},\n",
       " {'loss': 0.0359,\n",
       "  'learning_rate': 1.6646808510638298e-05,\n",
       "  'epoch': 18.06,\n",
       "  'step': 849},\n",
       " {'loss': 0.1395,\n",
       "  'learning_rate': 1.6595744680851064e-05,\n",
       "  'epoch': 18.09,\n",
       "  'step': 850},\n",
       " {'loss': 0.0532,\n",
       "  'learning_rate': 1.654468085106383e-05,\n",
       "  'epoch': 18.11,\n",
       "  'step': 851},\n",
       " {'loss': 0.042,\n",
       "  'learning_rate': 1.6493617021276594e-05,\n",
       "  'epoch': 18.13,\n",
       "  'step': 852},\n",
       " {'loss': 0.0341,\n",
       "  'learning_rate': 1.644255319148936e-05,\n",
       "  'epoch': 18.15,\n",
       "  'step': 853},\n",
       " {'loss': 0.0915,\n",
       "  'learning_rate': 1.6391489361702127e-05,\n",
       "  'epoch': 18.17,\n",
       "  'step': 854},\n",
       " {'loss': 0.0273,\n",
       "  'learning_rate': 1.6340425531914894e-05,\n",
       "  'epoch': 18.19,\n",
       "  'step': 855},\n",
       " {'loss': 0.039,\n",
       "  'learning_rate': 1.628936170212766e-05,\n",
       "  'epoch': 18.21,\n",
       "  'step': 856},\n",
       " {'loss': 0.0839,\n",
       "  'learning_rate': 1.6238297872340427e-05,\n",
       "  'epoch': 18.23,\n",
       "  'step': 857},\n",
       " {'loss': 0.088,\n",
       "  'learning_rate': 1.618723404255319e-05,\n",
       "  'epoch': 18.26,\n",
       "  'step': 858},\n",
       " {'loss': 0.0343,\n",
       "  'learning_rate': 1.6136170212765956e-05,\n",
       "  'epoch': 18.28,\n",
       "  'step': 859},\n",
       " {'loss': 0.0481,\n",
       "  'learning_rate': 1.6085106382978723e-05,\n",
       "  'epoch': 18.3,\n",
       "  'step': 860},\n",
       " {'loss': 0.0364,\n",
       "  'learning_rate': 1.603404255319149e-05,\n",
       "  'epoch': 18.32,\n",
       "  'step': 861},\n",
       " {'loss': 0.0607,\n",
       "  'learning_rate': 1.5982978723404256e-05,\n",
       "  'epoch': 18.34,\n",
       "  'step': 862},\n",
       " {'loss': 0.0554,\n",
       "  'learning_rate': 1.593191489361702e-05,\n",
       "  'epoch': 18.36,\n",
       "  'step': 863},\n",
       " {'loss': 0.0732,\n",
       "  'learning_rate': 1.5880851063829786e-05,\n",
       "  'epoch': 18.38,\n",
       "  'step': 864},\n",
       " {'loss': 0.0384,\n",
       "  'learning_rate': 1.5829787234042552e-05,\n",
       "  'epoch': 18.4,\n",
       "  'step': 865},\n",
       " {'loss': 0.0509,\n",
       "  'learning_rate': 1.577872340425532e-05,\n",
       "  'epoch': 18.43,\n",
       "  'step': 866},\n",
       " {'loss': 0.0417,\n",
       "  'learning_rate': 1.5727659574468085e-05,\n",
       "  'epoch': 18.45,\n",
       "  'step': 867},\n",
       " {'loss': 0.0487,\n",
       "  'learning_rate': 1.567659574468085e-05,\n",
       "  'epoch': 18.47,\n",
       "  'step': 868},\n",
       " {'loss': 0.0388,\n",
       "  'learning_rate': 1.5625531914893615e-05,\n",
       "  'epoch': 18.49,\n",
       "  'step': 869},\n",
       " {'loss': 0.2139,\n",
       "  'learning_rate': 1.557446808510638e-05,\n",
       "  'epoch': 18.51,\n",
       "  'step': 870},\n",
       " {'loss': 0.0295,\n",
       "  'learning_rate': 1.5523404255319148e-05,\n",
       "  'epoch': 18.53,\n",
       "  'step': 871},\n",
       " {'loss': 0.0464,\n",
       "  'learning_rate': 1.5472340425531914e-05,\n",
       "  'epoch': 18.55,\n",
       "  'step': 872},\n",
       " {'loss': 0.0648,\n",
       "  'learning_rate': 1.542127659574468e-05,\n",
       "  'epoch': 18.57,\n",
       "  'step': 873},\n",
       " {'loss': 0.051,\n",
       "  'learning_rate': 1.5370212765957447e-05,\n",
       "  'epoch': 18.6,\n",
       "  'step': 874},\n",
       " {'loss': 0.0917,\n",
       "  'learning_rate': 1.531914893617021e-05,\n",
       "  'epoch': 18.62,\n",
       "  'step': 875},\n",
       " {'loss': 0.0421,\n",
       "  'learning_rate': 1.5268085106382977e-05,\n",
       "  'epoch': 18.64,\n",
       "  'step': 876},\n",
       " {'loss': 0.041,\n",
       "  'learning_rate': 1.5217021276595745e-05,\n",
       "  'epoch': 18.66,\n",
       "  'step': 877},\n",
       " {'loss': 0.034,\n",
       "  'learning_rate': 1.5165957446808512e-05,\n",
       "  'epoch': 18.68,\n",
       "  'step': 878},\n",
       " {'loss': 0.1512,\n",
       "  'learning_rate': 1.5114893617021278e-05,\n",
       "  'epoch': 18.7,\n",
       "  'step': 879},\n",
       " {'loss': 0.0425,\n",
       "  'learning_rate': 1.5063829787234041e-05,\n",
       "  'epoch': 18.72,\n",
       "  'step': 880},\n",
       " {'loss': 0.0626,\n",
       "  'learning_rate': 1.5012765957446808e-05,\n",
       "  'epoch': 18.74,\n",
       "  'step': 881},\n",
       " {'loss': 0.0382,\n",
       "  'learning_rate': 1.4961702127659574e-05,\n",
       "  'epoch': 18.77,\n",
       "  'step': 882},\n",
       " {'loss': 0.0671,\n",
       "  'learning_rate': 1.4910638297872341e-05,\n",
       "  'epoch': 18.79,\n",
       "  'step': 883},\n",
       " {'loss': 0.0386,\n",
       "  'learning_rate': 1.4859574468085107e-05,\n",
       "  'epoch': 18.81,\n",
       "  'step': 884},\n",
       " {'loss': 0.0399,\n",
       "  'learning_rate': 1.4808510638297872e-05,\n",
       "  'epoch': 18.83,\n",
       "  'step': 885},\n",
       " {'loss': 0.066,\n",
       "  'learning_rate': 1.4757446808510639e-05,\n",
       "  'epoch': 18.85,\n",
       "  'step': 886},\n",
       " {'loss': 0.0439,\n",
       "  'learning_rate': 1.4706382978723404e-05,\n",
       "  'epoch': 18.87,\n",
       "  'step': 887},\n",
       " {'loss': 0.0392,\n",
       "  'learning_rate': 1.465531914893617e-05,\n",
       "  'epoch': 18.89,\n",
       "  'step': 888},\n",
       " {'loss': 0.0674,\n",
       "  'learning_rate': 1.4604255319148937e-05,\n",
       "  'epoch': 18.91,\n",
       "  'step': 889},\n",
       " {'loss': 0.1377,\n",
       "  'learning_rate': 1.4553191489361701e-05,\n",
       "  'epoch': 18.94,\n",
       "  'step': 890},\n",
       " {'loss': 0.0347,\n",
       "  'learning_rate': 1.4502127659574468e-05,\n",
       "  'epoch': 18.96,\n",
       "  'step': 891},\n",
       " {'loss': 0.0367,\n",
       "  'learning_rate': 1.4451063829787235e-05,\n",
       "  'epoch': 18.98,\n",
       "  'step': 892},\n",
       " {'loss': 0.0647, 'learning_rate': 1.44e-05, 'epoch': 19.0, 'step': 893},\n",
       " {'loss': 0.0398,\n",
       "  'learning_rate': 1.4348936170212766e-05,\n",
       "  'epoch': 19.02,\n",
       "  'step': 894},\n",
       " {'loss': 0.0395,\n",
       "  'learning_rate': 1.4297872340425532e-05,\n",
       "  'epoch': 19.04,\n",
       "  'step': 895},\n",
       " {'loss': 0.0413,\n",
       "  'learning_rate': 1.4246808510638297e-05,\n",
       "  'epoch': 19.06,\n",
       "  'step': 896},\n",
       " {'loss': 0.0641,\n",
       "  'learning_rate': 1.4195744680851064e-05,\n",
       "  'epoch': 19.09,\n",
       "  'step': 897},\n",
       " {'loss': 0.0353,\n",
       "  'learning_rate': 1.414468085106383e-05,\n",
       "  'epoch': 19.11,\n",
       "  'step': 898},\n",
       " {'loss': 0.0369,\n",
       "  'learning_rate': 1.4093617021276595e-05,\n",
       "  'epoch': 19.13,\n",
       "  'step': 899},\n",
       " {'loss': 0.0281,\n",
       "  'learning_rate': 1.4042553191489362e-05,\n",
       "  'epoch': 19.15,\n",
       "  'step': 900},\n",
       " {'eval_loss': 0.026142001152038574,\n",
       "  'eval_mean_iou': 0.6600181091627695,\n",
       "  'eval_mean_accuracy': 0.7000206985560975,\n",
       "  'eval_overall_accuracy': 0.995157685773126,\n",
       "  'eval_per_category_iou': [0.0,\n",
       "   0.9952602715295944,\n",
       "   0.8882653480310821,\n",
       "   0.7565468170904014],\n",
       "  'eval_per_category_accuracy': [0.0,\n",
       "   0.9976363096033658,\n",
       "   0.934118825907434,\n",
       "   0.8683276587135903],\n",
       "  'eval_runtime': 333.3975,\n",
       "  'eval_samples_per_second': 0.696,\n",
       "  'eval_steps_per_second': 0.072,\n",
       "  'epoch': 19.15,\n",
       "  'step': 900},\n",
       " {'loss': 0.0801,\n",
       "  'learning_rate': 1.3991489361702126e-05,\n",
       "  'epoch': 19.17,\n",
       "  'step': 901},\n",
       " {'loss': 0.0275,\n",
       "  'learning_rate': 1.3940425531914893e-05,\n",
       "  'epoch': 19.19,\n",
       "  'step': 902},\n",
       " {'loss': 0.0439,\n",
       "  'learning_rate': 1.3889361702127661e-05,\n",
       "  'epoch': 19.21,\n",
       "  'step': 903},\n",
       " {'loss': 0.0274,\n",
       "  'learning_rate': 1.3838297872340426e-05,\n",
       "  'epoch': 19.23,\n",
       "  'step': 904},\n",
       " {'loss': 0.0613,\n",
       "  'learning_rate': 1.3787234042553192e-05,\n",
       "  'epoch': 19.26,\n",
       "  'step': 905},\n",
       " {'loss': 0.0401,\n",
       "  'learning_rate': 1.3736170212765959e-05,\n",
       "  'epoch': 19.28,\n",
       "  'step': 906},\n",
       " {'loss': 0.033,\n",
       "  'learning_rate': 1.3685106382978724e-05,\n",
       "  'epoch': 19.3,\n",
       "  'step': 907},\n",
       " {'loss': 0.0409,\n",
       "  'learning_rate': 1.363404255319149e-05,\n",
       "  'epoch': 19.32,\n",
       "  'step': 908},\n",
       " {'loss': 0.0422,\n",
       "  'learning_rate': 1.3582978723404257e-05,\n",
       "  'epoch': 19.34,\n",
       "  'step': 909},\n",
       " {'loss': 0.0296,\n",
       "  'learning_rate': 1.3531914893617022e-05,\n",
       "  'epoch': 19.36,\n",
       "  'step': 910},\n",
       " {'loss': 0.2529,\n",
       "  'learning_rate': 1.3480851063829788e-05,\n",
       "  'epoch': 19.38,\n",
       "  'step': 911},\n",
       " {'loss': 0.0327,\n",
       "  'learning_rate': 1.3429787234042555e-05,\n",
       "  'epoch': 19.4,\n",
       "  'step': 912},\n",
       " {'loss': 0.0311,\n",
       "  'learning_rate': 1.337872340425532e-05,\n",
       "  'epoch': 19.43,\n",
       "  'step': 913},\n",
       " {'loss': 0.1014,\n",
       "  'learning_rate': 1.3327659574468086e-05,\n",
       "  'epoch': 19.45,\n",
       "  'step': 914},\n",
       " {'loss': 0.0344,\n",
       "  'learning_rate': 1.3276595744680851e-05,\n",
       "  'epoch': 19.47,\n",
       "  'step': 915},\n",
       " {'loss': 0.0691,\n",
       "  'learning_rate': 1.3225531914893617e-05,\n",
       "  'epoch': 19.49,\n",
       "  'step': 916},\n",
       " {'loss': 0.1156,\n",
       "  'learning_rate': 1.3174468085106384e-05,\n",
       "  'epoch': 19.51,\n",
       "  'step': 917},\n",
       " {'loss': 0.0357,\n",
       "  'learning_rate': 1.3123404255319149e-05,\n",
       "  'epoch': 19.53,\n",
       "  'step': 918},\n",
       " {'loss': 0.0367,\n",
       "  'learning_rate': 1.3072340425531915e-05,\n",
       "  'epoch': 19.55,\n",
       "  'step': 919},\n",
       " {'loss': 0.0379,\n",
       "  'learning_rate': 1.3021276595744682e-05,\n",
       "  'epoch': 19.57,\n",
       "  'step': 920},\n",
       " {'loss': 0.0331,\n",
       "  'learning_rate': 1.2970212765957447e-05,\n",
       "  'epoch': 19.6,\n",
       "  'step': 921},\n",
       " {'loss': 0.043,\n",
       "  'learning_rate': 1.2919148936170213e-05,\n",
       "  'epoch': 19.62,\n",
       "  'step': 922},\n",
       " {'loss': 0.0468,\n",
       "  'learning_rate': 1.286808510638298e-05,\n",
       "  'epoch': 19.64,\n",
       "  'step': 923},\n",
       " {'loss': 0.0529,\n",
       "  'learning_rate': 1.2817021276595744e-05,\n",
       "  'epoch': 19.66,\n",
       "  'step': 924},\n",
       " {'loss': 0.0505,\n",
       "  'learning_rate': 1.2765957446808511e-05,\n",
       "  'epoch': 19.68,\n",
       "  'step': 925},\n",
       " {'loss': 0.0412,\n",
       "  'learning_rate': 1.2714893617021278e-05,\n",
       "  'epoch': 19.7,\n",
       "  'step': 926},\n",
       " {'loss': 0.0299,\n",
       "  'learning_rate': 1.2663829787234042e-05,\n",
       "  'epoch': 19.72,\n",
       "  'step': 927},\n",
       " {'loss': 0.0355,\n",
       "  'learning_rate': 1.2612765957446809e-05,\n",
       "  'epoch': 19.74,\n",
       "  'step': 928},\n",
       " {'loss': 0.0699,\n",
       "  'learning_rate': 1.2561702127659575e-05,\n",
       "  'epoch': 19.77,\n",
       "  'step': 929},\n",
       " {'loss': 0.0319,\n",
       "  'learning_rate': 1.251063829787234e-05,\n",
       "  'epoch': 19.79,\n",
       "  'step': 930},\n",
       " {'loss': 0.0442,\n",
       "  'learning_rate': 1.2459574468085107e-05,\n",
       "  'epoch': 19.81,\n",
       "  'step': 931},\n",
       " {'loss': 0.0524,\n",
       "  'learning_rate': 1.2408510638297872e-05,\n",
       "  'epoch': 19.83,\n",
       "  'step': 932},\n",
       " {'loss': 0.0399,\n",
       "  'learning_rate': 1.2357446808510638e-05,\n",
       "  'epoch': 19.85,\n",
       "  'step': 933},\n",
       " {'loss': 0.063,\n",
       "  'learning_rate': 1.2306382978723405e-05,\n",
       "  'epoch': 19.87,\n",
       "  'step': 934},\n",
       " {'loss': 0.0412,\n",
       "  'learning_rate': 1.225531914893617e-05,\n",
       "  'epoch': 19.89,\n",
       "  'step': 935},\n",
       " {'loss': 0.0628,\n",
       "  'learning_rate': 1.2204255319148936e-05,\n",
       "  'epoch': 19.91,\n",
       "  'step': 936},\n",
       " {'loss': 0.0579,\n",
       "  'learning_rate': 1.2153191489361702e-05,\n",
       "  'epoch': 19.94,\n",
       "  'step': 937},\n",
       " {'loss': 0.0552,\n",
       "  'learning_rate': 1.2102127659574467e-05,\n",
       "  'epoch': 19.96,\n",
       "  'step': 938},\n",
       " {'loss': 0.0442,\n",
       "  'learning_rate': 1.2051063829787234e-05,\n",
       "  'epoch': 19.98,\n",
       "  'step': 939},\n",
       " {'loss': 0.0305, 'learning_rate': 1.2e-05, 'epoch': 20.0, 'step': 940},\n",
       " {'loss': 0.0315,\n",
       "  'learning_rate': 1.1948936170212765e-05,\n",
       "  'epoch': 20.02,\n",
       "  'step': 941},\n",
       " {'loss': 0.0344,\n",
       "  'learning_rate': 1.1897872340425532e-05,\n",
       "  'epoch': 20.04,\n",
       "  'step': 942},\n",
       " {'loss': 0.0396,\n",
       "  'learning_rate': 1.1846808510638298e-05,\n",
       "  'epoch': 20.06,\n",
       "  'step': 943},\n",
       " {'loss': 0.0564,\n",
       "  'learning_rate': 1.1795744680851063e-05,\n",
       "  'epoch': 20.09,\n",
       "  'step': 944},\n",
       " {'loss': 0.0635,\n",
       "  'learning_rate': 1.1744680851063831e-05,\n",
       "  'epoch': 20.11,\n",
       "  'step': 945},\n",
       " {'loss': 0.0287,\n",
       "  'learning_rate': 1.1693617021276596e-05,\n",
       "  'epoch': 20.13,\n",
       "  'step': 946},\n",
       " {'loss': 0.0397,\n",
       "  'learning_rate': 1.1642553191489363e-05,\n",
       "  'epoch': 20.15,\n",
       "  'step': 947},\n",
       " {'loss': 0.0427,\n",
       "  'learning_rate': 1.1591489361702129e-05,\n",
       "  'epoch': 20.17,\n",
       "  'step': 948},\n",
       " {'loss': 0.0301,\n",
       "  'learning_rate': 1.1540425531914894e-05,\n",
       "  'epoch': 20.19,\n",
       "  'step': 949},\n",
       " {'loss': 0.0595,\n",
       "  'learning_rate': 1.148936170212766e-05,\n",
       "  'epoch': 20.21,\n",
       "  'step': 950},\n",
       " {'loss': 0.0268,\n",
       "  'learning_rate': 1.1438297872340427e-05,\n",
       "  'epoch': 20.23,\n",
       "  'step': 951},\n",
       " {'loss': 0.0394,\n",
       "  'learning_rate': 1.1387234042553192e-05,\n",
       "  'epoch': 20.26,\n",
       "  'step': 952},\n",
       " {'loss': 0.129,\n",
       "  'learning_rate': 1.1336170212765958e-05,\n",
       "  'epoch': 20.28,\n",
       "  'step': 953},\n",
       " {'loss': 0.0416,\n",
       "  'learning_rate': 1.1285106382978725e-05,\n",
       "  'epoch': 20.3,\n",
       "  'step': 954},\n",
       " {'loss': 0.0481,\n",
       "  'learning_rate': 1.123404255319149e-05,\n",
       "  'epoch': 20.32,\n",
       "  'step': 955},\n",
       " {'loss': 0.1393,\n",
       "  'learning_rate': 1.1182978723404256e-05,\n",
       "  'epoch': 20.34,\n",
       "  'step': 956},\n",
       " {'loss': 0.0402,\n",
       "  'learning_rate': 1.1131914893617023e-05,\n",
       "  'epoch': 20.36,\n",
       "  'step': 957},\n",
       " {'loss': 0.043,\n",
       "  'learning_rate': 1.1080851063829787e-05,\n",
       "  'epoch': 20.38,\n",
       "  'step': 958},\n",
       " {'loss': 0.0324,\n",
       "  'learning_rate': 1.1029787234042554e-05,\n",
       "  'epoch': 20.4,\n",
       "  'step': 959},\n",
       " {'loss': 0.0401,\n",
       "  'learning_rate': 1.0978723404255319e-05,\n",
       "  'epoch': 20.43,\n",
       "  'step': 960},\n",
       " {'loss': 0.0754,\n",
       "  'learning_rate': 1.0927659574468085e-05,\n",
       "  'epoch': 20.45,\n",
       "  'step': 961},\n",
       " {'loss': 0.027,\n",
       "  'learning_rate': 1.0876595744680852e-05,\n",
       "  'epoch': 20.47,\n",
       "  'step': 962},\n",
       " {'loss': 0.041,\n",
       "  'learning_rate': 1.0825531914893617e-05,\n",
       "  'epoch': 20.49,\n",
       "  'step': 963},\n",
       " {'loss': 0.0783,\n",
       "  'learning_rate': 1.0774468085106383e-05,\n",
       "  'epoch': 20.51,\n",
       "  'step': 964},\n",
       " {'loss': 0.031,\n",
       "  'learning_rate': 1.072340425531915e-05,\n",
       "  'epoch': 20.53,\n",
       "  'step': 965},\n",
       " {'loss': 0.0887,\n",
       "  'learning_rate': 1.0672340425531915e-05,\n",
       "  'epoch': 20.55,\n",
       "  'step': 966},\n",
       " {'loss': 0.0493,\n",
       "  'learning_rate': 1.0621276595744681e-05,\n",
       "  'epoch': 20.57,\n",
       "  'step': 967},\n",
       " {'loss': 0.058,\n",
       "  'learning_rate': 1.0570212765957448e-05,\n",
       "  'epoch': 20.6,\n",
       "  'step': 968},\n",
       " {'loss': 0.0542,\n",
       "  'learning_rate': 1.0519148936170212e-05,\n",
       "  'epoch': 20.62,\n",
       "  'step': 969},\n",
       " {'loss': 0.0335,\n",
       "  'learning_rate': 1.0468085106382979e-05,\n",
       "  'epoch': 20.64,\n",
       "  'step': 970},\n",
       " {'loss': 0.0596,\n",
       "  'learning_rate': 1.0417021276595745e-05,\n",
       "  'epoch': 20.66,\n",
       "  'step': 971},\n",
       " {'loss': 0.069,\n",
       "  'learning_rate': 1.036595744680851e-05,\n",
       "  'epoch': 20.68,\n",
       "  'step': 972},\n",
       " {'loss': 0.0606,\n",
       "  'learning_rate': 1.0314893617021277e-05,\n",
       "  'epoch': 20.7,\n",
       "  'step': 973},\n",
       " {'loss': 0.0679,\n",
       "  'learning_rate': 1.0263829787234043e-05,\n",
       "  'epoch': 20.72,\n",
       "  'step': 974},\n",
       " {'loss': 0.0526,\n",
       "  'learning_rate': 1.0212765957446808e-05,\n",
       "  'epoch': 20.74,\n",
       "  'step': 975},\n",
       " {'loss': 0.0691,\n",
       "  'learning_rate': 1.0161702127659575e-05,\n",
       "  'epoch': 20.77,\n",
       "  'step': 976},\n",
       " {'loss': 0.0317,\n",
       "  'learning_rate': 1.011063829787234e-05,\n",
       "  'epoch': 20.79,\n",
       "  'step': 977},\n",
       " {'loss': 0.0641,\n",
       "  'learning_rate': 1.0059574468085106e-05,\n",
       "  'epoch': 20.81,\n",
       "  'step': 978},\n",
       " {'loss': 0.1168,\n",
       "  'learning_rate': 1.0008510638297873e-05,\n",
       "  'epoch': 20.83,\n",
       "  'step': 979},\n",
       " {'loss': 0.2397,\n",
       "  'learning_rate': 9.957446808510637e-06,\n",
       "  'epoch': 20.85,\n",
       "  'step': 980},\n",
       " {'loss': 0.0279,\n",
       "  'learning_rate': 9.906382978723404e-06,\n",
       "  'epoch': 20.87,\n",
       "  'step': 981},\n",
       " {'loss': 0.0391,\n",
       "  'learning_rate': 9.85531914893617e-06,\n",
       "  'epoch': 20.89,\n",
       "  'step': 982},\n",
       " {'loss': 0.0362,\n",
       "  'learning_rate': 9.804255319148935e-06,\n",
       "  'epoch': 20.91,\n",
       "  'step': 983},\n",
       " {'loss': 0.0389,\n",
       "  'learning_rate': 9.753191489361702e-06,\n",
       "  'epoch': 20.94,\n",
       "  'step': 984},\n",
       " {'loss': 0.0451,\n",
       "  'learning_rate': 9.702127659574468e-06,\n",
       "  'epoch': 20.96,\n",
       "  'step': 985},\n",
       " {'loss': 0.0331,\n",
       "  'learning_rate': 9.651063829787235e-06,\n",
       "  'epoch': 20.98,\n",
       "  'step': 986},\n",
       " {'loss': 0.0669,\n",
       "  'learning_rate': 9.600000000000001e-06,\n",
       "  'epoch': 21.0,\n",
       "  'step': 987},\n",
       " {'loss': 0.0379,\n",
       "  'learning_rate': 9.548936170212768e-06,\n",
       "  'epoch': 21.02,\n",
       "  'step': 988},\n",
       " {'loss': 0.0672,\n",
       "  'learning_rate': 9.497872340425533e-06,\n",
       "  'epoch': 21.04,\n",
       "  'step': 989},\n",
       " {'loss': 0.0437,\n",
       "  'learning_rate': 9.446808510638299e-06,\n",
       "  'epoch': 21.06,\n",
       "  'step': 990},\n",
       " {'loss': 0.0538,\n",
       "  'learning_rate': 9.395744680851064e-06,\n",
       "  'epoch': 21.09,\n",
       "  'step': 991},\n",
       " ...]"
      ]
     },
     "execution_count": 24,
     "metadata": {},
     "output_type": "execute_result"
    }
   ],
   "source": [
    "trainer.state.log_history"
   ]
  },
  {
   "cell_type": "code",
   "execution_count": 25,
   "metadata": {},
   "outputs": [],
   "source": [
    "# Save the trained model, so that it can be used for inference later.\n",
    "# Save the log history, so that it can be used for plotting later.\n",
    "trainer.save_model('models/' + model_type + '/' + crop)\n",
    "with open('models/' + model_type + '/' + crop + '/log_history.json', 'w') as file:\n",
    "    log_history = trainer.state.log_history\n",
    "    json.dump(log_history, file)"
   ]
  },
  {
   "cell_type": "code",
   "execution_count": 26,
   "metadata": {},
   "outputs": [
    {
     "name": "stderr",
     "output_type": "stream",
     "text": [
      "100%|██████████| 24/24 [05:42<00:00, 14.29s/it]\n"
     ]
    }
   ],
   "source": [
    "outputs = trainer.predict(test_ds)"
   ]
  },
  {
   "cell_type": "code",
   "execution_count": 27,
   "metadata": {},
   "outputs": [
    {
     "name": "stderr",
     "output_type": "stream",
     "text": [
      "100%|██████████| 24/24 [05:47<00:00, 14.47s/it]\n"
     ]
    },
    {
     "data": {
      "text/plain": [
       "{'eval_loss': 0.020868008956313133,\n",
       " 'eval_mean_iou': 0.6542348796868243,\n",
       " 'eval_mean_accuracy': 0.6993652718220992,\n",
       " 'eval_overall_accuracy': 0.9957957046444406,\n",
       " 'eval_per_category_iou': [0.0,\n",
       "  0.9958969752494089,\n",
       "  0.8880824785624387,\n",
       "  0.7329600649354491],\n",
       " 'eval_per_category_accuracy': [0.0,\n",
       "  0.9978827335276511,\n",
       "  0.9456774431485152,\n",
       "  0.8539009106122303],\n",
       " 'eval_runtime': 351.294,\n",
       " 'eval_samples_per_second': 0.675,\n",
       " 'eval_steps_per_second': 0.068,\n",
       " 'epoch': 25.0}"
      ]
     },
     "execution_count": 27,
     "metadata": {},
     "output_type": "execute_result"
    }
   ],
   "source": [
    "test_metric = trainer.evaluate(test_ds)\n",
    "test_metric"
   ]
  },
  {
   "cell_type": "code",
   "execution_count": 28,
   "metadata": {},
   "outputs": [],
   "source": [
    "with open('models/' + model_type + '/' + crop + '/test_metric.json', 'w') as file:\n",
    "    json.dump(test_metric, file)"
   ]
  },
  {
   "cell_type": "code",
   "execution_count": 29,
   "metadata": {},
   "outputs": [],
   "source": [
    "# upsampled_ouputs = torch.nn.functional.interpolate(\n",
    "#     outputs,\n",
    "#     size=image.size[::-1],\n",
    "#     mode=\"bilinear\",\n",
    "#     align_corners=False,\n",
    "# )\n",
    "# y_pred = upsampled_ouputs.predictions.argmax(1)"
   ]
  },
  {
   "cell_type": "code",
   "execution_count": 30,
   "metadata": {},
   "outputs": [],
   "source": [
    "# print(\"Predicting following unique classes: \", np.unique(y_pred))\n",
    "# print(y_pred.shape)"
   ]
  },
  {
   "cell_type": "code",
   "execution_count": 31,
   "metadata": {},
   "outputs": [],
   "source": [
    "# y_pred"
   ]
  },
  {
   "cell_type": "code",
   "execution_count": 32,
   "metadata": {},
   "outputs": [],
   "source": [
    "# trainer.optimizer"
   ]
  },
  {
   "cell_type": "code",
   "execution_count": 33,
   "metadata": {},
   "outputs": [],
   "source": [
    "# import subprocess\n",
    "# from typing import NoReturn\n",
    "\n",
    "# def shutdown_windows() -> NoReturn:\n",
    "#     subprocess.run([\"shutdown\", \"/s\", \"/t\", \"0\"])\n",
    "\n",
    "# shutdown_windows()"
   ]
  }
 ],
 "metadata": {
  "kernelspec": {
   "display_name": "base",
   "language": "python",
   "name": "python3"
  },
  "language_info": {
   "codemirror_mode": {
    "name": "ipython",
    "version": 3
   },
   "file_extension": ".py",
   "mimetype": "text/x-python",
   "name": "python",
   "nbconvert_exporter": "python",
   "pygments_lexer": "ipython3",
   "version": "3.11.4"
  },
  "orig_nbformat": 4
 },
 "nbformat": 4,
 "nbformat_minor": 2
}
