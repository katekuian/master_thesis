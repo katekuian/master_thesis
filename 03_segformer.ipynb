{
 "cells": [
  {
   "cell_type": "code",
   "execution_count": 1,
   "metadata": {},
   "outputs": [],
   "source": [
    "import os\n",
    "os.environ['CUDA_LAUNCH_BLOCKING'] = \"1\""
   ]
  },
  {
   "cell_type": "code",
   "execution_count": 2,
   "metadata": {},
   "outputs": [
    {
     "name": "stdout",
     "output_type": "stream",
     "text": [
      "env: CUDA_LAUNCH_BLOCKING=1\n"
     ]
    }
   ],
   "source": [
    "%env CUDA_LAUNCH_BLOCKING=1"
   ]
  },
  {
   "cell_type": "code",
   "execution_count": 3,
   "metadata": {},
   "outputs": [
    {
     "data": {
      "text/plain": [
       "'1'"
      ]
     },
     "execution_count": 3,
     "metadata": {},
     "output_type": "execute_result"
    }
   ],
   "source": [
    "os.environ[\"CUDA_LAUNCH_BLOCKING\"]"
   ]
  },
  {
   "cell_type": "code",
   "execution_count": 4,
   "metadata": {},
   "outputs": [
    {
     "name": "stdout",
     "output_type": "stream",
     "text": [
      "Using device: cuda\n",
      "\n",
      "NVIDIA GeForce GTX 960\n",
      "CUDA version: 11.7\n",
      "Memory Usage:\n",
      "Allocated: 0.0 GB\n",
      "Cached:    0.0 GB\n"
     ]
    }
   ],
   "source": [
    "import torch\n",
    "# setting device on GPU if available, else CPU\n",
    "device = torch.device('cuda' if torch.cuda.is_available() else 'cpu')\n",
    "print('Using device:', device)\n",
    "print()\n",
    "\n",
    "#Additional Info when using cuda\n",
    "if device.type == 'cuda':\n",
    "    print(torch.cuda.get_device_name(0))\n",
    "    print('CUDA version:', torch.version.cuda)\n",
    "    print('Memory Usage:')\n",
    "    print('Allocated:', round(torch.cuda.memory_allocated(0)/1024**3,1), 'GB')\n",
    "    print('Cached:   ', round(torch.cuda.memory_reserved(0)/1024**3,1), 'GB')"
   ]
  },
  {
   "cell_type": "code",
   "execution_count": 5,
   "metadata": {},
   "outputs": [
    {
     "name": "stderr",
     "output_type": "stream",
     "text": [
      "c:\\Users\\Kate\\AppData\\Local\\miniconda3\\envs\\master\\Lib\\site-packages\\tqdm\\auto.py:21: TqdmWarning: IProgress not found. Please update jupyter and ipywidgets. See https://ipywidgets.readthedocs.io/en/stable/user_install.html\n",
      "  from .autonotebook import tqdm as notebook_tqdm\n"
     ]
    }
   ],
   "source": [
    "import numpy as np\n",
    "import pandas as pd\n",
    "from tqdm import tqdm\n",
    "from transformers import MaskFormerFeatureExtractor, MaskFormerForInstanceSegmentation\n",
    "import PIL\n",
    "from PIL import Image\n",
    "import requests\n",
    "from transformers import pipeline\n",
    "import datasets\n",
    "from datasets import load_dataset\n",
    "import os\n",
    "import evaluate\n",
    "import torch\n",
    "import cv2\n",
    "import json\n",
    "import codecs"
   ]
  },
  {
   "cell_type": "code",
   "execution_count": 6,
   "metadata": {},
   "outputs": [],
   "source": [
    "image_folder = './WE3DS/images/'\n",
    "annotation_folder = './WE3DS/annotations/segmentation/SegmentationLabel/'\n",
    "# Define the paths to the images and annotations\n",
    "all_image_names = np.array(os.listdir(image_folder))"
   ]
  },
  {
   "cell_type": "code",
   "execution_count": 7,
   "metadata": {},
   "outputs": [],
   "source": [
    "plant_classification = {\n",
    "    'void': 'void',\n",
    "    'soil': 'soil',\n",
    "    'broad bean': 'crop',\n",
    "    'corn spurry': 'weed',\n",
    "    'red-root amaranth': 'weed',\n",
    "    'common buckwheat': 'crop',\n",
    "    'pea': 'crop',\n",
    "    'red fingergrass': 'weed',\n",
    "    'common wild oat': 'weed',\n",
    "    'cornflower': 'weed',\n",
    "    'corn cockle': 'weed',\n",
    "    'corn': 'crop',\n",
    "    'milk thistle': 'weed',\n",
    "    'rye brome': 'weed',\n",
    "    'soybean': 'crop',\n",
    "    'sunflower': 'crop',\n",
    "    'narrow-leaved plantain': 'weed',\n",
    "    'small-flower geranium': 'weed',\n",
    "    'sugar beet': 'crop'\n",
    "}"
   ]
  },
  {
   "cell_type": "code",
   "execution_count": 8,
   "metadata": {},
   "outputs": [],
   "source": [
    "def get_image_meta_filepath(plant_name):\n",
    "    return './meta/' + plant_name + '_images.json'"
   ]
  },
  {
   "cell_type": "code",
   "execution_count": 9,
   "metadata": {},
   "outputs": [],
   "source": [
    "def get_image_list_for_crop(crop_name):\n",
    "    # Create an empty list to store the dataset\n",
    "    image_list = []\n",
    "    crop_image_names = json.load(codecs.open(get_image_meta_filepath(crop_name), 'r', 'utf-8-sig'))\n",
    "    weed_image_names = json.load(codecs.open(get_image_meta_filepath('no_crop'), 'r', 'utf-8-sig'))\n",
    "    image_names = crop_image_names + weed_image_names\n",
    "\n",
    "    # Iterate over the image and annotation paths\n",
    "    for image_name in crop_image_names:\n",
    "        # Load the image and annotation using PIL\n",
    "        image = Image.open(image_folder + image_name)\n",
    "        annotation = Image.open(annotation_folder + image_name)\n",
    "        \n",
    "        # Create a dictionary entry for the dataseta\n",
    "        entry = {'image': image, 'annotation': annotation}\n",
    "        \n",
    "        # Add the entry to the dataset\n",
    "        image_list.append(entry)\n",
    "\n",
    "    return image_list"
   ]
  },
  {
   "cell_type": "code",
   "execution_count": 10,
   "metadata": {},
   "outputs": [],
   "source": [
    "def create_and_split_dataset_for_crop(crop_image_list):\n",
    "    dataset = datasets.Dataset.from_list(crop_image_list)\n",
    "    dataset = dataset.train_test_split(test_size=0.5)\n",
    "    train_ds = dataset[\"train\"]\n",
    "    val_ds, test_ds = dataset[\"test\"].train_test_split(test_size=0.5).values()\n",
    "    return train_ds, val_ds, test_ds"
   ]
  },
  {
   "cell_type": "code",
   "execution_count": 11,
   "metadata": {},
   "outputs": [],
   "source": [
    "broad_bean_image_list = get_image_list_for_crop('broad_bean')\n",
    "broad_bean_train_ds, broad_bean_val_ds, broad_bean_test_ds = create_and_split_dataset_for_crop(broad_bean_image_list)"
   ]
  },
  {
   "cell_type": "code",
   "execution_count": 12,
   "metadata": {},
   "outputs": [
    {
     "name": "stdout",
     "output_type": "stream",
     "text": [
      "Training subset number of images: 105\n",
      "Validation subset number of images: 52\n",
      "Test subset number of images: 53\n"
     ]
    }
   ],
   "source": [
    "print(\"Training subset number of images: \" + str(broad_bean_train_ds.num_rows))\n",
    "print(\"Validation subset number of images: \" + str(broad_bean_val_ds.num_rows))\n",
    "print(\"Test subset number of images: \" + str(broad_bean_test_ds.num_rows))"
   ]
  },
  {
   "cell_type": "code",
   "execution_count": 13,
   "metadata": {},
   "outputs": [
    {
     "name": "stderr",
     "output_type": "stream",
     "text": [
      "Could not find image processor class in the image processor config or the model config. Loading based on pattern matching with the model's feature extractor configuration.\n",
      "c:\\Users\\Kate\\AppData\\Local\\miniconda3\\envs\\master\\Lib\\site-packages\\transformers\\models\\segformer\\image_processing_segformer.py:99: FutureWarning: The `reduce_labels` parameter is deprecated and will be removed in a future version. Please use `do_reduce_labels` instead.\n",
      "  warnings.warn(\n"
     ]
    }
   ],
   "source": [
    "from transformers import AutoImageProcessor\n",
    "\n",
    "checkpoint = \"nvidia/mit-b0\"\n",
    "image_processor = AutoImageProcessor.from_pretrained(checkpoint, reduce_labels=True)"
   ]
  },
  {
   "cell_type": "code",
   "execution_count": 14,
   "metadata": {},
   "outputs": [],
   "source": [
    "def train_transforms(example_batch):\n",
    "    images = [x for x in example_batch[\"image\"]]\n",
    "    labels = [x for x in example_batch[\"annotation\"]]\n",
    "    inputs = image_processor(images, labels)\n",
    "    return inputs"
   ]
  },
  {
   "cell_type": "code",
   "execution_count": 15,
   "metadata": {},
   "outputs": [],
   "source": [
    "metric = evaluate.load(\"mean_iou\")"
   ]
  },
  {
   "cell_type": "code",
   "execution_count": 16,
   "metadata": {},
   "outputs": [
    {
     "name": "stdout",
     "output_type": "stream",
     "text": [
      "id2label: {1: 'void', 2: 'soil', 3: 'broad bean', 4: 'corn spurry', 5: 'red-root amaranth', 6: 'common buckwheat', 7: 'pea', 8: 'red fingergrass', 9: 'common wild oat', 10: 'cornflower', 11: 'corn cockle', 12: 'corn', 13: 'milk thistle', 14: 'rye brome', 15: 'soybean', 16: 'sunflower', 17: 'narrow-leaved plantain', 18: 'small-flower geranium', 19: 'sugar beet'}\n",
      "label2id: {'void': 1, 'soil': 2, 'broad bean': 3, 'corn spurry': 4, 'red-root amaranth': 5, 'common buckwheat': 6, 'pea': 7, 'red fingergrass': 8, 'common wild oat': 9, 'cornflower': 10, 'corn cockle': 11, 'corn': 12, 'milk thistle': 13, 'rye brome': 14, 'soybean': 15, 'sunflower': 16, 'narrow-leaved plantain': 17, 'small-flower geranium': 18, 'sugar beet': 19}\n"
     ]
    }
   ],
   "source": [
    "with open('./WE3DS/class_names.txt', 'r') as file:\n",
    "    labels = [line.strip() for line in file]\n",
    "\n",
    "ids = list(range(1, 20))\n",
    "\n",
    "id2label = dict(zip(ids, labels))\n",
    "label2id = dict(zip(labels, ids))\n",
    "\n",
    "num_labels = len(labels)\n",
    "\n",
    "print(\"id2label:\", id2label)\n",
    "print(\"label2id:\", label2id)"
   ]
  },
  {
   "cell_type": "code",
   "execution_count": 17,
   "metadata": {},
   "outputs": [],
   "source": [
    "def compute_metrics(eval_pred):\n",
    "    with torch.no_grad():\n",
    "        logits, labels = eval_pred\n",
    "        logits_tensor = torch.from_numpy(logits)\n",
    "        logits_tensor = torch.nn.functional.interpolate(\n",
    "            logits_tensor,\n",
    "            size=labels.shape[-2:],\n",
    "            mode=\"bilinear\",\n",
    "            align_corners=False,\n",
    "        ).argmax(dim=1)\n",
    "\n",
    "        pred_labels = logits_tensor.detach().cpu().numpy()\n",
    "        metrics = metric.compute(\n",
    "            predictions=pred_labels,\n",
    "            references=labels,\n",
    "            num_labels=num_labels,\n",
    "            ignore_index=255,\n",
    "            reduce_labels=False,\n",
    "        )\n",
    "        for key, value in metrics.items():\n",
    "            if type(value) is np.ndarray:\n",
    "                metrics[key] = value.tolist()\n",
    "        return metrics"
   ]
  },
  {
   "cell_type": "code",
   "execution_count": 18,
   "metadata": {},
   "outputs": [
    {
     "name": "stderr",
     "output_type": "stream",
     "text": [
      "Some weights of SegformerForSemanticSegmentation were not initialized from the model checkpoint at nvidia/mit-b0 and are newly initialized: ['decode_head.batch_norm.running_mean', 'decode_head.linear_c.1.proj.weight', 'decode_head.classifier.weight', 'decode_head.linear_c.3.proj.weight', 'decode_head.classifier.bias', 'decode_head.linear_c.3.proj.bias', 'decode_head.linear_c.0.proj.bias', 'decode_head.batch_norm.running_var', 'decode_head.linear_c.1.proj.bias', 'decode_head.linear_fuse.weight', 'decode_head.batch_norm.bias', 'decode_head.linear_c.2.proj.bias', 'decode_head.linear_c.2.proj.weight', 'decode_head.batch_norm.num_batches_tracked', 'decode_head.linear_c.0.proj.weight', 'decode_head.batch_norm.weight']\n",
      "You should probably TRAIN this model on a down-stream task to be able to use it for predictions and inference.\n"
     ]
    }
   ],
   "source": [
    "from transformers import AutoModelForSemanticSegmentation, TrainingArguments, Trainer, EarlyStoppingCallback\n",
    "\n",
    "model = AutoModelForSemanticSegmentation.from_pretrained(checkpoint, id2label=id2label, label2id=label2id)"
   ]
  },
  {
   "cell_type": "code",
   "execution_count": 19,
   "metadata": {},
   "outputs": [],
   "source": [
    "training_args = TrainingArguments(\n",
    "    output_dir=\"segformer-b0-scene-parse-150\",\n",
    "    learning_rate=6e-5,\n",
    "    num_train_epochs=100,\n",
    "    per_device_train_batch_size=5,\n",
    "    per_device_eval_batch_size=5,\n",
    "    save_total_limit=3,\n",
    "    evaluation_strategy=\"steps\",\n",
    "    save_strategy=\"steps\",\n",
    "    save_steps=20,\n",
    "    eval_steps=20,\n",
    "    logging_steps=1,\n",
    "    eval_accumulation_steps=5,\n",
    "    remove_unused_columns=False,\n",
    "    load_best_model_at_end=True,\n",
    "    seed=12,\n",
    ")"
   ]
  },
  {
   "cell_type": "code",
   "execution_count": 20,
   "metadata": {},
   "outputs": [],
   "source": [
    "def initialize_trainer(train_ds, test_ds) :\n",
    "    trainer = Trainer(\n",
    "        model=model,\n",
    "        args=training_args,\n",
    "        train_dataset=train_ds,\n",
    "        eval_dataset=test_ds,\n",
    "        compute_metrics=compute_metrics,\n",
    "        callbacks=[EarlyStoppingCallback(early_stopping_patience=3)]\n",
    "    )\n",
    "    return trainer"
   ]
  },
  {
   "cell_type": "code",
   "execution_count": 21,
   "metadata": {},
   "outputs": [],
   "source": [
    "broad_bean_train_ds.set_transform(train_transforms)\n",
    "broad_bean_val_ds.set_transform(train_transforms)\n",
    "broad_bean_test_ds.set_transform(train_transforms)"
   ]
  },
  {
   "cell_type": "code",
   "execution_count": 22,
   "metadata": {},
   "outputs": [
    {
     "name": "stderr",
     "output_type": "stream",
     "text": [
      "c:\\Users\\Kate\\AppData\\Local\\miniconda3\\envs\\master\\Lib\\site-packages\\transformers\\optimization.py:411: FutureWarning: This implementation of AdamW is deprecated and will be removed in a future version. Use the PyTorch implementation torch.optim.AdamW instead, or set `no_deprecation_warning=True` to disable this warning\n",
      "  warnings.warn(\n",
      "  0%|          | 1/2100 [00:07<4:15:20,  7.30s/it]"
     ]
    },
    {
     "name": "stdout",
     "output_type": "stream",
     "text": [
      "{'loss': 3.0074, 'learning_rate': 5.997142857142857e-05, 'epoch': 0.05}\n"
     ]
    },
    {
     "name": "stderr",
     "output_type": "stream",
     "text": [
      "  0%|          | 2/2100 [00:13<3:59:17,  6.84s/it]"
     ]
    },
    {
     "name": "stdout",
     "output_type": "stream",
     "text": [
      "{'loss': 2.9853, 'learning_rate': 5.994285714285715e-05, 'epoch': 0.1}\n"
     ]
    },
    {
     "name": "stderr",
     "output_type": "stream",
     "text": [
      "  0%|          | 3/2100 [00:19<3:47:56,  6.52s/it]"
     ]
    },
    {
     "name": "stdout",
     "output_type": "stream",
     "text": [
      "{'loss': 2.9659, 'learning_rate': 5.9914285714285716e-05, 'epoch': 0.14}\n"
     ]
    },
    {
     "name": "stderr",
     "output_type": "stream",
     "text": [
      "  0%|          | 4/2100 [00:23<3:00:06,  5.16s/it]"
     ]
    },
    {
     "name": "stdout",
     "output_type": "stream",
     "text": [
      "{'loss': 2.89, 'learning_rate': 5.988571428571429e-05, 'epoch': 0.19}\n"
     ]
    },
    {
     "name": "stderr",
     "output_type": "stream",
     "text": [
      "  0%|          | 5/2100 [00:28<3:03:45,  5.26s/it]"
     ]
    },
    {
     "name": "stdout",
     "output_type": "stream",
     "text": [
      "{'loss': 2.9191, 'learning_rate': 5.9857142857142856e-05, 'epoch': 0.24}\n"
     ]
    },
    {
     "name": "stderr",
     "output_type": "stream",
     "text": [
      "  0%|          | 6/2100 [00:31<2:36:54,  4.50s/it]"
     ]
    },
    {
     "name": "stdout",
     "output_type": "stream",
     "text": [
      "{'loss': 2.8563, 'learning_rate': 5.982857142857143e-05, 'epoch': 0.29}\n"
     ]
    },
    {
     "name": "stderr",
     "output_type": "stream",
     "text": [
      "  0%|          | 7/2100 [00:35<2:26:10,  4.19s/it]"
     ]
    },
    {
     "name": "stdout",
     "output_type": "stream",
     "text": [
      "{'loss': 2.8623, 'learning_rate': 5.9800000000000003e-05, 'epoch': 0.33}\n"
     ]
    },
    {
     "name": "stderr",
     "output_type": "stream",
     "text": [
      "  0%|          | 8/2100 [00:38<2:19:40,  4.01s/it]"
     ]
    },
    {
     "name": "stdout",
     "output_type": "stream",
     "text": [
      "{'loss': 2.784, 'learning_rate': 5.977142857142857e-05, 'epoch': 0.38}\n"
     ]
    },
    {
     "name": "stderr",
     "output_type": "stream",
     "text": [
      "  0%|          | 9/2100 [00:41<2:09:16,  3.71s/it]"
     ]
    },
    {
     "name": "stdout",
     "output_type": "stream",
     "text": [
      "{'loss': 2.789, 'learning_rate': 5.9742857142857144e-05, 'epoch': 0.43}\n"
     ]
    },
    {
     "name": "stderr",
     "output_type": "stream",
     "text": [
      "  0%|          | 10/2100 [00:45<2:08:56,  3.70s/it]"
     ]
    },
    {
     "name": "stdout",
     "output_type": "stream",
     "text": [
      "{'loss': 2.7765, 'learning_rate': 5.971428571428572e-05, 'epoch': 0.48}\n"
     ]
    },
    {
     "name": "stderr",
     "output_type": "stream",
     "text": [
      "  1%|          | 11/2100 [00:50<2:19:16,  4.00s/it]"
     ]
    },
    {
     "name": "stdout",
     "output_type": "stream",
     "text": [
      "{'loss': 2.7413, 'learning_rate': 5.9685714285714284e-05, 'epoch': 0.52}\n"
     ]
    },
    {
     "name": "stderr",
     "output_type": "stream",
     "text": [
      "  1%|          | 12/2100 [00:53<2:09:00,  3.71s/it]"
     ]
    },
    {
     "name": "stdout",
     "output_type": "stream",
     "text": [
      "{'loss': 2.7174, 'learning_rate': 5.965714285714286e-05, 'epoch': 0.57}\n"
     ]
    },
    {
     "name": "stderr",
     "output_type": "stream",
     "text": [
      "  1%|          | 13/2100 [00:59<2:34:01,  4.43s/it]"
     ]
    },
    {
     "name": "stdout",
     "output_type": "stream",
     "text": [
      "{'loss': 2.6889, 'learning_rate': 5.962857142857143e-05, 'epoch': 0.62}\n"
     ]
    },
    {
     "name": "stderr",
     "output_type": "stream",
     "text": [
      "  1%|          | 14/2100 [01:02<2:25:41,  4.19s/it]"
     ]
    },
    {
     "name": "stdout",
     "output_type": "stream",
     "text": [
      "{'loss': 2.6058, 'learning_rate': 5.96e-05, 'epoch': 0.67}\n"
     ]
    },
    {
     "name": "stderr",
     "output_type": "stream",
     "text": [
      "  1%|          | 15/2100 [01:06<2:21:28,  4.07s/it]"
     ]
    },
    {
     "name": "stdout",
     "output_type": "stream",
     "text": [
      "{'loss': 2.6279, 'learning_rate': 5.957142857142857e-05, 'epoch': 0.71}\n"
     ]
    },
    {
     "name": "stderr",
     "output_type": "stream",
     "text": [
      "  1%|          | 16/2100 [01:09<2:10:36,  3.76s/it]"
     ]
    },
    {
     "name": "stdout",
     "output_type": "stream",
     "text": [
      "{'loss': 2.5246, 'learning_rate': 5.9542857142857146e-05, 'epoch': 0.76}\n"
     ]
    },
    {
     "name": "stderr",
     "output_type": "stream",
     "text": [
      "  1%|          | 17/2100 [01:15<2:32:03,  4.38s/it]"
     ]
    },
    {
     "name": "stdout",
     "output_type": "stream",
     "text": [
      "{'loss': 2.514, 'learning_rate': 5.951428571428572e-05, 'epoch': 0.81}\n"
     ]
    },
    {
     "name": "stderr",
     "output_type": "stream",
     "text": [
      "  1%|          | 18/2100 [01:18<2:17:56,  3.98s/it]"
     ]
    },
    {
     "name": "stdout",
     "output_type": "stream",
     "text": [
      "{'loss': 2.5603, 'learning_rate': 5.9485714285714286e-05, 'epoch': 0.86}\n"
     ]
    },
    {
     "name": "stderr",
     "output_type": "stream",
     "text": [
      "  1%|          | 19/2100 [01:24<2:36:21,  4.51s/it]"
     ]
    },
    {
     "name": "stdout",
     "output_type": "stream",
     "text": [
      "{'loss': 2.467, 'learning_rate': 5.945714285714285e-05, 'epoch': 0.9}\n"
     ]
    },
    {
     "name": "stderr",
     "output_type": "stream",
     "text": [
      "  1%|          | 20/2100 [01:27<2:20:46,  4.06s/it]"
     ]
    },
    {
     "name": "stdout",
     "output_type": "stream",
     "text": [
      "{'loss': 2.5515, 'learning_rate': 5.9428571428571434e-05, 'epoch': 0.95}\n"
     ]
    },
    {
     "name": "stderr",
     "output_type": "stream",
     "text": [
      "C:\\Users\\Kate\\.cache\\huggingface\\modules\\evaluate_modules\\metrics\\evaluate-metric--mean_iou\\08bc20f4f895f3caf75fb9e3fada1404bded3c3265243d05327cbb3b9326ffe9\\mean_iou.py:259: RuntimeWarning: invalid value encountered in divide\n",
      "  iou = total_area_intersect / total_area_union\n",
      "C:\\Users\\Kate\\.cache\\huggingface\\modules\\evaluate_modules\\metrics\\evaluate-metric--mean_iou\\08bc20f4f895f3caf75fb9e3fada1404bded3c3265243d05327cbb3b9326ffe9\\mean_iou.py:260: RuntimeWarning: invalid value encountered in divide\n",
      "  acc = total_area_intersect / total_area_label\n",
      "                                                   \n",
      "  1%|          | 20/2100 [02:36<2:20:46,  4.06s/it]"
     ]
    },
    {
     "name": "stdout",
     "output_type": "stream",
     "text": [
      "{'eval_loss': 2.879204273223877, 'eval_mean_iou': 0.06934008663764227, 'eval_mean_accuracy': 0.9585563791219771, 'eval_overall_accuracy': 0.9207945672576419, 'eval_per_category_iou': [0.9190265567727093, 0.3290950027048514, 0.0, 0.0, 0.0, 0.0, 0.0, 0.0, 0.0, 0.0, 0.0, 0.0, 0.0, nan, 0.0, 0.0, 0.0, 0.0, 0.0], 'eval_per_category_accuracy': [0.9190489663315252, 0.9980637919124289, nan, nan, nan, nan, nan, nan, nan, nan, nan, nan, nan, nan, nan, nan, nan, nan, nan], 'eval_runtime': 69.2385, 'eval_samples_per_second': 0.751, 'eval_steps_per_second': 0.159, 'epoch': 0.95}\n"
     ]
    },
    {
     "name": "stderr",
     "output_type": "stream",
     "text": [
      "  1%|          | 21/2100 [02:39<14:07:00, 24.44s/it]"
     ]
    },
    {
     "name": "stdout",
     "output_type": "stream",
     "text": [
      "{'loss': 2.4758, 'learning_rate': 5.94e-05, 'epoch': 1.0}\n"
     ]
    },
    {
     "name": "stderr",
     "output_type": "stream",
     "text": [
      "  1%|          | 22/2100 [02:45<10:56:06, 18.94s/it]"
     ]
    },
    {
     "name": "stdout",
     "output_type": "stream",
     "text": [
      "{'loss': 2.4233, 'learning_rate': 5.937142857142857e-05, 'epoch': 1.05}\n"
     ]
    },
    {
     "name": "stderr",
     "output_type": "stream",
     "text": [
      "  1%|          | 23/2100 [02:48<8:10:25, 14.17s/it] "
     ]
    },
    {
     "name": "stdout",
     "output_type": "stream",
     "text": [
      "{'loss': 2.4528, 'learning_rate': 5.934285714285715e-05, 'epoch': 1.1}\n"
     ]
    },
    {
     "name": "stderr",
     "output_type": "stream",
     "text": [
      "  1%|          | 24/2100 [02:54<6:42:34, 11.64s/it]"
     ]
    },
    {
     "name": "stdout",
     "output_type": "stream",
     "text": [
      "{'loss': 2.4456, 'learning_rate': 5.9314285714285715e-05, 'epoch': 1.14}\n"
     ]
    },
    {
     "name": "stderr",
     "output_type": "stream",
     "text": [
      "  1%|          | 25/2100 [02:57<5:13:08,  9.05s/it]"
     ]
    },
    {
     "name": "stdout",
     "output_type": "stream",
     "text": [
      "{'loss': 2.3643, 'learning_rate': 5.928571428571429e-05, 'epoch': 1.19}\n"
     ]
    },
    {
     "name": "stderr",
     "output_type": "stream",
     "text": [
      "  1%|          | 26/2100 [03:02<4:39:16,  8.08s/it]"
     ]
    },
    {
     "name": "stdout",
     "output_type": "stream",
     "text": [
      "{'loss': 2.3654, 'learning_rate': 5.925714285714286e-05, 'epoch': 1.24}\n"
     ]
    },
    {
     "name": "stderr",
     "output_type": "stream",
     "text": [
      "  1%|▏         | 27/2100 [03:05<3:46:34,  6.56s/it]"
     ]
    },
    {
     "name": "stdout",
     "output_type": "stream",
     "text": [
      "{'loss': 2.3983, 'learning_rate': 5.922857142857143e-05, 'epoch': 1.29}\n"
     ]
    },
    {
     "name": "stderr",
     "output_type": "stream",
     "text": [
      "  1%|▏         | 28/2100 [03:11<3:36:44,  6.28s/it]"
     ]
    },
    {
     "name": "stdout",
     "output_type": "stream",
     "text": [
      "{'loss': 2.2466, 'learning_rate': 5.92e-05, 'epoch': 1.33}\n"
     ]
    },
    {
     "name": "stderr",
     "output_type": "stream",
     "text": [
      "  1%|▏         | 29/2100 [03:14<3:02:51,  5.30s/it]"
     ]
    },
    {
     "name": "stdout",
     "output_type": "stream",
     "text": [
      "{'loss': 2.298, 'learning_rate': 5.917142857142857e-05, 'epoch': 1.38}\n"
     ]
    },
    {
     "name": "stderr",
     "output_type": "stream",
     "text": [
      "  1%|▏         | 30/2100 [03:20<3:05:11,  5.37s/it]"
     ]
    },
    {
     "name": "stdout",
     "output_type": "stream",
     "text": [
      "{'loss': 2.3143, 'learning_rate': 5.914285714285715e-05, 'epoch': 1.43}\n"
     ]
    },
    {
     "name": "stderr",
     "output_type": "stream",
     "text": [
      "  1%|▏         | 31/2100 [03:23<2:41:21,  4.68s/it]"
     ]
    },
    {
     "name": "stdout",
     "output_type": "stream",
     "text": [
      "{'loss': 2.3724, 'learning_rate': 5.9114285714285717e-05, 'epoch': 1.48}\n"
     ]
    },
    {
     "name": "stderr",
     "output_type": "stream",
     "text": [
      "  2%|▏         | 32/2100 [03:26<2:29:51,  4.35s/it]"
     ]
    },
    {
     "name": "stdout",
     "output_type": "stream",
     "text": [
      "{'loss': 2.1981, 'learning_rate': 5.9085714285714283e-05, 'epoch': 1.52}\n"
     ]
    },
    {
     "name": "stderr",
     "output_type": "stream",
     "text": [
      "  2%|▏         | 33/2100 [03:30<2:24:36,  4.20s/it]"
     ]
    },
    {
     "name": "stdout",
     "output_type": "stream",
     "text": [
      "{'loss': 2.282, 'learning_rate': 5.9057142857142864e-05, 'epoch': 1.57}\n"
     ]
    },
    {
     "name": "stderr",
     "output_type": "stream",
     "text": [
      "  2%|▏         | 34/2100 [03:33<2:12:31,  3.85s/it]"
     ]
    },
    {
     "name": "stdout",
     "output_type": "stream",
     "text": [
      "{'loss': 2.2236, 'learning_rate': 5.902857142857143e-05, 'epoch': 1.62}\n"
     ]
    },
    {
     "name": "stderr",
     "output_type": "stream",
     "text": [
      "  2%|▏         | 35/2100 [03:39<2:32:13,  4.42s/it]"
     ]
    },
    {
     "name": "stdout",
     "output_type": "stream",
     "text": [
      "{'loss': 2.2785, 'learning_rate': 5.9e-05, 'epoch': 1.67}\n"
     ]
    },
    {
     "name": "stderr",
     "output_type": "stream",
     "text": [
      "  2%|▏         | 36/2100 [03:42<2:17:40,  4.00s/it]"
     ]
    },
    {
     "name": "stdout",
     "output_type": "stream",
     "text": [
      "{'loss': 2.3189, 'learning_rate': 5.897142857142857e-05, 'epoch': 1.71}\n"
     ]
    },
    {
     "name": "stderr",
     "output_type": "stream",
     "text": [
      "  2%|▏         | 37/2100 [03:48<2:36:13,  4.54s/it]"
     ]
    },
    {
     "name": "stdout",
     "output_type": "stream",
     "text": [
      "{'loss': 2.2399, 'learning_rate': 5.8942857142857145e-05, 'epoch': 1.76}\n"
     ]
    },
    {
     "name": "stderr",
     "output_type": "stream",
     "text": [
      "  2%|▏         | 38/2100 [03:51<2:20:38,  4.09s/it]"
     ]
    },
    {
     "name": "stdout",
     "output_type": "stream",
     "text": [
      "{'loss': 2.1575, 'learning_rate': 5.891428571428572e-05, 'epoch': 1.81}\n"
     ]
    },
    {
     "name": "stderr",
     "output_type": "stream",
     "text": [
      "  2%|▏         | 39/2100 [03:57<2:38:02,  4.60s/it]"
     ]
    },
    {
     "name": "stdout",
     "output_type": "stream",
     "text": [
      "{'loss': 2.097, 'learning_rate': 5.8885714285714285e-05, 'epoch': 1.86}\n"
     ]
    },
    {
     "name": "stderr",
     "output_type": "stream",
     "text": [
      "  2%|▏         | 40/2100 [04:00<2:22:14,  4.14s/it]"
     ]
    },
    {
     "name": "stdout",
     "output_type": "stream",
     "text": [
      "{'loss': 2.0719, 'learning_rate': 5.885714285714286e-05, 'epoch': 1.9}\n"
     ]
    },
    {
     "name": "stderr",
     "output_type": "stream",
     "text": [
      "C:\\Users\\Kate\\.cache\\huggingface\\modules\\evaluate_modules\\metrics\\evaluate-metric--mean_iou\\08bc20f4f895f3caf75fb9e3fada1404bded3c3265243d05327cbb3b9326ffe9\\mean_iou.py:259: RuntimeWarning: invalid value encountered in divide\n",
      "  iou = total_area_intersect / total_area_union\n",
      "C:\\Users\\Kate\\.cache\\huggingface\\modules\\evaluate_modules\\metrics\\evaluate-metric--mean_iou\\08bc20f4f895f3caf75fb9e3fada1404bded3c3265243d05327cbb3b9326ffe9\\mean_iou.py:260: RuntimeWarning: invalid value encountered in divide\n",
      "  acc = total_area_intersect / total_area_label\n",
      "                                                   \n",
      "  2%|▏         | 40/2100 [05:11<2:22:14,  4.14s/it]"
     ]
    },
    {
     "name": "stdout",
     "output_type": "stream",
     "text": [
      "{'eval_loss': 2.5929784774780273, 'eval_mean_iou': 0.09159817825442018, 'eval_mean_accuracy': 0.9745756041934279, 'eval_overall_accuracy': 0.9647528703716136, 'eval_per_category_iou': [0.9639689269392763, 0.4100037468770264, 0.0, nan, 0.0, nan, 0.0, 0.0, nan, 0.0, 0.0, 0.0, 0.0, nan, 0.0, 0.0, 0.0, 0.0, 0.0], 'eval_per_category_accuracy': [0.964298798588248, 0.9848524097986078, nan, nan, nan, nan, nan, nan, nan, nan, nan, nan, nan, nan, nan, nan, nan, nan, nan], 'eval_runtime': 71.6603, 'eval_samples_per_second': 0.726, 'eval_steps_per_second': 0.154, 'epoch': 1.9}\n"
     ]
    },
    {
     "name": "stderr",
     "output_type": "stream",
     "text": [
      "  2%|▏         | 41/2100 [05:15<14:32:27, 25.42s/it]"
     ]
    },
    {
     "name": "stdout",
     "output_type": "stream",
     "text": [
      "{'loss': 2.0329, 'learning_rate': 5.882857142857143e-05, 'epoch': 1.95}\n"
     ]
    },
    {
     "name": "stderr",
     "output_type": "stream",
     "text": [
      "  2%|▏         | 42/2100 [05:18<10:42:16, 18.73s/it]"
     ]
    },
    {
     "name": "stdout",
     "output_type": "stream",
     "text": [
      "{'loss': 2.1631, 'learning_rate': 5.88e-05, 'epoch': 2.0}\n"
     ]
    },
    {
     "name": "stderr",
     "output_type": "stream",
     "text": [
      "  2%|▏         | 43/2100 [05:22<8:11:08, 14.33s/it] "
     ]
    },
    {
     "name": "stdout",
     "output_type": "stream",
     "text": [
      "{'loss': 2.1757, 'learning_rate': 5.877142857142857e-05, 'epoch': 2.05}\n"
     ]
    },
    {
     "name": "stderr",
     "output_type": "stream",
     "text": [
      "  2%|▏         | 44/2100 [05:26<6:20:45, 11.11s/it]"
     ]
    },
    {
     "name": "stdout",
     "output_type": "stream",
     "text": [
      "{'loss': 2.0927, 'learning_rate': 5.874285714285715e-05, 'epoch': 2.1}\n"
     ]
    },
    {
     "name": "stderr",
     "output_type": "stream",
     "text": [
      "  2%|▏         | 45/2100 [05:29<5:06:12,  8.94s/it]"
     ]
    },
    {
     "name": "stdout",
     "output_type": "stream",
     "text": [
      "{'loss': 2.0986, 'learning_rate': 5.8714285714285714e-05, 'epoch': 2.14}\n"
     ]
    },
    {
     "name": "stderr",
     "output_type": "stream",
     "text": [
      "  2%|▏         | 46/2100 [05:33<4:07:11,  7.22s/it]"
     ]
    },
    {
     "name": "stdout",
     "output_type": "stream",
     "text": [
      "{'loss': 2.0247, 'learning_rate': 5.868571428571429e-05, 'epoch': 2.19}\n"
     ]
    },
    {
     "name": "stderr",
     "output_type": "stream",
     "text": [
      "  2%|▏         | 47/2100 [05:36<3:30:01,  6.14s/it]"
     ]
    },
    {
     "name": "stdout",
     "output_type": "stream",
     "text": [
      "{'loss': 2.0947, 'learning_rate': 5.865714285714286e-05, 'epoch': 2.24}\n"
     ]
    },
    {
     "name": "stderr",
     "output_type": "stream",
     "text": [
      "  2%|▏         | 48/2100 [05:40<3:05:32,  5.43s/it]"
     ]
    },
    {
     "name": "stdout",
     "output_type": "stream",
     "text": [
      "{'loss': 1.9459, 'learning_rate': 5.862857142857143e-05, 'epoch': 2.29}\n"
     ]
    },
    {
     "name": "stderr",
     "output_type": "stream",
     "text": [
      "  2%|▏         | 49/2100 [05:43<2:40:58,  4.71s/it]"
     ]
    },
    {
     "name": "stdout",
     "output_type": "stream",
     "text": [
      "{'loss': 2.0231, 'learning_rate': 5.86e-05, 'epoch': 2.33}\n"
     ]
    },
    {
     "name": "stderr",
     "output_type": "stream",
     "text": [
      "  2%|▏         | 50/2100 [05:47<2:30:17,  4.40s/it]"
     ]
    },
    {
     "name": "stdout",
     "output_type": "stream",
     "text": [
      "{'loss': 2.0765, 'learning_rate': 5.857142857142857e-05, 'epoch': 2.38}\n"
     ]
    },
    {
     "name": "stderr",
     "output_type": "stream",
     "text": [
      "  2%|▏         | 51/2100 [05:51<2:25:13,  4.25s/it]"
     ]
    },
    {
     "name": "stdout",
     "output_type": "stream",
     "text": [
      "{'loss': 1.8865, 'learning_rate': 5.854285714285715e-05, 'epoch': 2.43}\n"
     ]
    },
    {
     "name": "stderr",
     "output_type": "stream",
     "text": [
      "  2%|▏         | 52/2100 [05:54<2:12:17,  3.88s/it]"
     ]
    },
    {
     "name": "stdout",
     "output_type": "stream",
     "text": [
      "{'loss': 2.0028, 'learning_rate': 5.8514285714285716e-05, 'epoch': 2.48}\n"
     ]
    },
    {
     "name": "stderr",
     "output_type": "stream",
     "text": [
      "  3%|▎         | 53/2100 [05:59<2:31:41,  4.45s/it]"
     ]
    },
    {
     "name": "stdout",
     "output_type": "stream",
     "text": [
      "{'loss': 1.9413, 'learning_rate': 5.848571428571428e-05, 'epoch': 2.52}\n"
     ]
    },
    {
     "name": "stderr",
     "output_type": "stream",
     "text": [
      "  3%|▎         | 54/2100 [06:02<2:17:47,  4.04s/it]"
     ]
    },
    {
     "name": "stdout",
     "output_type": "stream",
     "text": [
      "{'loss': 1.8863, 'learning_rate': 5.845714285714286e-05, 'epoch': 2.57}\n"
     ]
    },
    {
     "name": "stderr",
     "output_type": "stream",
     "text": [
      "  3%|▎         | 55/2100 [06:06<2:13:44,  3.92s/it]"
     ]
    },
    {
     "name": "stdout",
     "output_type": "stream",
     "text": [
      "{'loss': 1.9438, 'learning_rate': 5.842857142857143e-05, 'epoch': 2.62}\n"
     ]
    },
    {
     "name": "stderr",
     "output_type": "stream",
     "text": [
      "  3%|▎         | 56/2100 [06:10<2:11:43,  3.87s/it]"
     ]
    },
    {
     "name": "stdout",
     "output_type": "stream",
     "text": [
      "{'loss': 2.0695, 'learning_rate': 5.84e-05, 'epoch': 2.67}\n"
     ]
    },
    {
     "name": "stderr",
     "output_type": "stream",
     "text": [
      "  3%|▎         | 57/2100 [06:13<2:03:07,  3.62s/it]"
     ]
    },
    {
     "name": "stdout",
     "output_type": "stream",
     "text": [
      "{'loss': 2.1516, 'learning_rate': 5.837142857142857e-05, 'epoch': 2.71}\n"
     ]
    },
    {
     "name": "stderr",
     "output_type": "stream",
     "text": [
      "  3%|▎         | 58/2100 [06:17<2:03:10,  3.62s/it]"
     ]
    },
    {
     "name": "stdout",
     "output_type": "stream",
     "text": [
      "{'loss': 1.8385, 'learning_rate': 5.8342857142857144e-05, 'epoch': 2.76}\n"
     ]
    },
    {
     "name": "stderr",
     "output_type": "stream",
     "text": [
      "  3%|▎         | 59/2100 [06:21<2:07:03,  3.74s/it]"
     ]
    },
    {
     "name": "stdout",
     "output_type": "stream",
     "text": [
      "{'loss': 1.9859, 'learning_rate': 5.831428571428572e-05, 'epoch': 2.81}\n"
     ]
    },
    {
     "name": "stderr",
     "output_type": "stream",
     "text": [
      "  3%|▎         | 60/2100 [06:24<2:00:19,  3.54s/it]"
     ]
    },
    {
     "name": "stdout",
     "output_type": "stream",
     "text": [
      "{'loss': 1.7461, 'learning_rate': 5.8285714285714284e-05, 'epoch': 2.86}\n"
     ]
    },
    {
     "name": "stderr",
     "output_type": "stream",
     "text": [
      "C:\\Users\\Kate\\.cache\\huggingface\\modules\\evaluate_modules\\metrics\\evaluate-metric--mean_iou\\08bc20f4f895f3caf75fb9e3fada1404bded3c3265243d05327cbb3b9326ffe9\\mean_iou.py:259: RuntimeWarning: invalid value encountered in divide\n",
      "  iou = total_area_intersect / total_area_union\n",
      "C:\\Users\\Kate\\.cache\\huggingface\\modules\\evaluate_modules\\metrics\\evaluate-metric--mean_iou\\08bc20f4f895f3caf75fb9e3fada1404bded3c3265243d05327cbb3b9326ffe9\\mean_iou.py:260: RuntimeWarning: invalid value encountered in divide\n",
      "  acc = total_area_intersect / total_area_label\n",
      "                                                   \n",
      "  3%|▎         | 60/2100 [07:36<2:00:19,  3.54s/it]"
     ]
    },
    {
     "name": "stdout",
     "output_type": "stream",
     "text": [
      "{'eval_loss': 1.7767342329025269, 'eval_mean_iou': 0.18673182882106454, 'eval_mean_accuracy': 0.9578487081598588, 'eval_overall_accuracy': 0.9798441719131881, 'eval_per_category_iou': [0.9794194195094104, 0.5144352110591061, 0.0, nan, nan, nan, nan, 0.0, nan, nan, 0.0, 0.0, nan, nan, 0.0, 0.0, nan, nan, nan], 'eval_per_category_accuracy': [0.9808609478569938, 0.9348364684627238, nan, nan, nan, nan, nan, nan, nan, nan, nan, nan, nan, nan, nan, nan, nan, nan, nan], 'eval_runtime': 72.3178, 'eval_samples_per_second': 0.719, 'eval_steps_per_second': 0.152, 'epoch': 2.86}\n"
     ]
    },
    {
     "name": "stderr",
     "output_type": "stream",
     "text": [
      "  3%|▎         | 61/2100 [07:40<14:21:41, 25.36s/it]"
     ]
    },
    {
     "name": "stdout",
     "output_type": "stream",
     "text": [
      "{'loss': 1.9813, 'learning_rate': 5.825714285714286e-05, 'epoch': 2.9}\n"
     ]
    },
    {
     "name": "stderr",
     "output_type": "stream",
     "text": [
      "  3%|▎         | 62/2100 [07:44<10:45:18, 19.00s/it]"
     ]
    },
    {
     "name": "stdout",
     "output_type": "stream",
     "text": [
      "{'loss': 1.9281, 'learning_rate': 5.822857142857143e-05, 'epoch': 2.95}\n"
     ]
    },
    {
     "name": "stderr",
     "output_type": "stream",
     "text": [
      "  3%|▎         | 63/2100 [07:46<7:56:10, 14.03s/it] "
     ]
    },
    {
     "name": "stdout",
     "output_type": "stream",
     "text": [
      "{'loss': 1.7743, 'learning_rate': 5.82e-05, 'epoch': 3.0}\n"
     ]
    },
    {
     "name": "stderr",
     "output_type": "stream",
     "text": [
      "  3%|▎         | 64/2100 [07:51<6:16:37, 11.10s/it]"
     ]
    },
    {
     "name": "stdout",
     "output_type": "stream",
     "text": [
      "{'loss': 1.8404, 'learning_rate': 5.817142857142857e-05, 'epoch': 3.05}\n"
     ]
    },
    {
     "name": "stderr",
     "output_type": "stream",
     "text": [
      "  3%|▎         | 65/2100 [07:55<5:03:42,  8.95s/it]"
     ]
    },
    {
     "name": "stdout",
     "output_type": "stream",
     "text": [
      "{'loss': 1.8367, 'learning_rate': 5.8142857142857146e-05, 'epoch': 3.1}\n"
     ]
    },
    {
     "name": "stderr",
     "output_type": "stream",
     "text": [
      "  3%|▎         | 66/2100 [07:58<4:03:13,  7.17s/it]"
     ]
    },
    {
     "name": "stdout",
     "output_type": "stream",
     "text": [
      "{'loss': 1.7855, 'learning_rate': 5.811428571428571e-05, 'epoch': 3.14}\n"
     ]
    },
    {
     "name": "stderr",
     "output_type": "stream",
     "text": [
      "  3%|▎         | 67/2100 [08:03<3:48:37,  6.75s/it]"
     ]
    },
    {
     "name": "stdout",
     "output_type": "stream",
     "text": [
      "{'loss': 2.1082, 'learning_rate': 5.8085714285714286e-05, 'epoch': 3.19}\n"
     ]
    },
    {
     "name": "stderr",
     "output_type": "stream",
     "text": [
      "  3%|▎         | 68/2100 [08:06<3:10:36,  5.63s/it]"
     ]
    },
    {
     "name": "stdout",
     "output_type": "stream",
     "text": [
      "{'loss': 1.8973, 'learning_rate': 5.805714285714286e-05, 'epoch': 3.24}\n"
     ]
    },
    {
     "name": "stderr",
     "output_type": "stream",
     "text": [
      "  3%|▎         | 69/2100 [08:12<3:09:23,  5.60s/it]"
     ]
    },
    {
     "name": "stdout",
     "output_type": "stream",
     "text": [
      "{'loss': 1.9022, 'learning_rate': 5.8028571428571433e-05, 'epoch': 3.29}\n"
     ]
    },
    {
     "name": "stderr",
     "output_type": "stream",
     "text": [
      "  3%|▎         | 70/2100 [08:15<2:42:58,  4.82s/it]"
     ]
    },
    {
     "name": "stdout",
     "output_type": "stream",
     "text": [
      "{'loss': 1.9341, 'learning_rate': 5.8e-05, 'epoch': 3.33}\n"
     ]
    },
    {
     "name": "stderr",
     "output_type": "stream",
     "text": [
      "  3%|▎         | 71/2100 [08:21<2:50:07,  5.03s/it]"
     ]
    },
    {
     "name": "stdout",
     "output_type": "stream",
     "text": [
      "{'loss': 1.8976, 'learning_rate': 5.7971428571428574e-05, 'epoch': 3.38}\n"
     ]
    },
    {
     "name": "stderr",
     "output_type": "stream",
     "text": [
      "  3%|▎         | 72/2100 [08:24<2:33:18,  4.54s/it]"
     ]
    },
    {
     "name": "stdout",
     "output_type": "stream",
     "text": [
      "{'loss': 1.8065, 'learning_rate': 5.794285714285715e-05, 'epoch': 3.43}\n"
     ]
    },
    {
     "name": "stderr",
     "output_type": "stream",
     "text": [
      "  3%|▎         | 73/2100 [08:28<2:24:16,  4.27s/it]"
     ]
    },
    {
     "name": "stdout",
     "output_type": "stream",
     "text": [
      "{'loss': 1.8174, 'learning_rate': 5.7914285714285714e-05, 'epoch': 3.48}\n"
     ]
    },
    {
     "name": "stderr",
     "output_type": "stream",
     "text": [
      "  4%|▎         | 74/2100 [08:31<2:20:36,  4.16s/it]"
     ]
    },
    {
     "name": "stdout",
     "output_type": "stream",
     "text": [
      "{'loss': 1.7225, 'learning_rate': 5.788571428571428e-05, 'epoch': 3.52}\n"
     ]
    },
    {
     "name": "stderr",
     "output_type": "stream",
     "text": [
      "  4%|▎         | 75/2100 [08:34<2:09:01,  3.82s/it]"
     ]
    },
    {
     "name": "stdout",
     "output_type": "stream",
     "text": [
      "{'loss': 1.7458, 'learning_rate': 5.785714285714286e-05, 'epoch': 3.57}\n"
     ]
    },
    {
     "name": "stderr",
     "output_type": "stream",
     "text": [
      "  4%|▎         | 76/2100 [08:40<2:26:44,  4.35s/it]"
     ]
    },
    {
     "name": "stdout",
     "output_type": "stream",
     "text": [
      "{'loss': 1.6607, 'learning_rate': 5.782857142857143e-05, 'epoch': 3.62}\n"
     ]
    },
    {
     "name": "stderr",
     "output_type": "stream",
     "text": [
      "  4%|▎         | 77/2100 [08:43<2:13:25,  3.96s/it]"
     ]
    },
    {
     "name": "stdout",
     "output_type": "stream",
     "text": [
      "{'loss': 1.7716, 'learning_rate': 5.78e-05, 'epoch': 3.67}\n"
     ]
    },
    {
     "name": "stderr",
     "output_type": "stream",
     "text": [
      "  4%|▎         | 78/2100 [08:49<2:29:22,  4.43s/it]"
     ]
    },
    {
     "name": "stdout",
     "output_type": "stream",
     "text": [
      "{'loss': 1.7553, 'learning_rate': 5.7771428571428576e-05, 'epoch': 3.71}\n"
     ]
    },
    {
     "name": "stderr",
     "output_type": "stream",
     "text": [
      "  4%|▍         | 79/2100 [08:52<2:15:17,  4.02s/it]"
     ]
    },
    {
     "name": "stdout",
     "output_type": "stream",
     "text": [
      "{'loss': 1.8909, 'learning_rate': 5.774285714285714e-05, 'epoch': 3.76}\n"
     ]
    },
    {
     "name": "stderr",
     "output_type": "stream",
     "text": [
      "  4%|▍         | 80/2100 [08:55<2:11:04,  3.89s/it]"
     ]
    },
    {
     "name": "stdout",
     "output_type": "stream",
     "text": [
      "{'loss': 1.7467, 'learning_rate': 5.7714285714285716e-05, 'epoch': 3.81}\n"
     ]
    },
    {
     "name": "stderr",
     "output_type": "stream",
     "text": [
      "C:\\Users\\Kate\\.cache\\huggingface\\modules\\evaluate_modules\\metrics\\evaluate-metric--mean_iou\\08bc20f4f895f3caf75fb9e3fada1404bded3c3265243d05327cbb3b9326ffe9\\mean_iou.py:259: RuntimeWarning: invalid value encountered in divide\n",
      "  iou = total_area_intersect / total_area_union\n",
      "C:\\Users\\Kate\\.cache\\huggingface\\modules\\evaluate_modules\\metrics\\evaluate-metric--mean_iou\\08bc20f4f895f3caf75fb9e3fada1404bded3c3265243d05327cbb3b9326ffe9\\mean_iou.py:260: RuntimeWarning: invalid value encountered in divide\n",
      "  acc = total_area_intersect / total_area_label\n",
      "                                                   \n",
      "  4%|▍         | 80/2100 [10:07<2:11:04,  3.89s/it]"
     ]
    },
    {
     "name": "stdout",
     "output_type": "stream",
     "text": [
      "{'eval_loss': 1.445361852645874, 'eval_mean_iou': 0.3060755859952568, 'eval_mean_accuracy': 0.925166032650851, 'eval_overall_accuracy': 0.9840734518130406, 'eval_per_category_iou': [0.9837637074195708, 0.5466142225567134, nan, nan, nan, nan, nan, 0.0, nan, nan, 0.0, 0.0, nan, nan, nan, nan, nan, nan, nan], 'eval_per_category_accuracy': [0.9867965426915738, 0.8635355226101281, nan, nan, nan, nan, nan, nan, nan, nan, nan, nan, nan, nan, nan, nan, nan, nan, nan], 'eval_runtime': 71.7185, 'eval_samples_per_second': 0.725, 'eval_steps_per_second': 0.153, 'epoch': 3.81}\n"
     ]
    },
    {
     "name": "stderr",
     "output_type": "stream",
     "text": [
      "  4%|▍         | 81/2100 [10:10<14:10:14, 25.27s/it]"
     ]
    },
    {
     "name": "stdout",
     "output_type": "stream",
     "text": [
      "{'loss': 1.7855, 'learning_rate': 5.768571428571428e-05, 'epoch': 3.86}\n"
     ]
    },
    {
     "name": "stderr",
     "output_type": "stream",
     "text": [
      "  4%|▍         | 82/2100 [10:16<10:50:49, 19.35s/it]"
     ]
    },
    {
     "name": "stdout",
     "output_type": "stream",
     "text": [
      "{'loss': 1.7588, 'learning_rate': 5.7657142857142864e-05, 'epoch': 3.9}\n"
     ]
    },
    {
     "name": "stderr",
     "output_type": "stream",
     "text": [
      "  4%|▍         | 83/2100 [10:19<8:05:53, 14.45s/it] "
     ]
    },
    {
     "name": "stdout",
     "output_type": "stream",
     "text": [
      "{'loss': 1.8136, 'learning_rate': 5.762857142857143e-05, 'epoch': 3.95}\n"
     ]
    },
    {
     "name": "stderr",
     "output_type": "stream",
     "text": [
      "  4%|▍         | 84/2100 [10:24<6:28:56, 11.58s/it]"
     ]
    },
    {
     "name": "stdout",
     "output_type": "stream",
     "text": [
      "{'loss': 1.7589, 'learning_rate': 5.76e-05, 'epoch': 4.0}\n"
     ]
    },
    {
     "name": "stderr",
     "output_type": "stream",
     "text": [
      "  4%|▍         | 85/2100 [10:28<5:12:38,  9.31s/it]"
     ]
    },
    {
     "name": "stdout",
     "output_type": "stream",
     "text": [
      "{'loss': 1.6896, 'learning_rate': 5.757142857142858e-05, 'epoch': 4.05}\n"
     ]
    },
    {
     "name": "stderr",
     "output_type": "stream",
     "text": [
      "  4%|▍         | 86/2100 [10:31<4:15:02,  7.60s/it]"
     ]
    },
    {
     "name": "stdout",
     "output_type": "stream",
     "text": [
      "{'loss': 1.8105, 'learning_rate': 5.7542857142857145e-05, 'epoch': 4.1}\n"
     ]
    },
    {
     "name": "stderr",
     "output_type": "stream",
     "text": [
      "  4%|▍         | 87/2100 [10:35<3:37:02,  6.47s/it]"
     ]
    },
    {
     "name": "stdout",
     "output_type": "stream",
     "text": [
      "{'loss': 1.6342, 'learning_rate': 5.751428571428571e-05, 'epoch': 4.14}\n"
     ]
    },
    {
     "name": "stderr",
     "output_type": "stream",
     "text": [
      "  4%|▍         | 88/2100 [10:38<3:03:01,  5.46s/it]"
     ]
    },
    {
     "name": "stdout",
     "output_type": "stream",
     "text": [
      "{'loss': 1.6662, 'learning_rate': 5.7485714285714285e-05, 'epoch': 4.19}\n"
     ]
    },
    {
     "name": "stderr",
     "output_type": "stream",
     "text": [
      "  4%|▍         | 89/2100 [10:42<2:44:44,  4.92s/it]"
     ]
    },
    {
     "name": "stdout",
     "output_type": "stream",
     "text": [
      "{'loss': 1.5815, 'learning_rate': 5.745714285714286e-05, 'epoch': 4.24}\n"
     ]
    },
    {
     "name": "stderr",
     "output_type": "stream",
     "text": [
      "  4%|▍         | 90/2100 [10:47<2:43:29,  4.88s/it]"
     ]
    },
    {
     "name": "stdout",
     "output_type": "stream",
     "text": [
      "{'loss': 1.6997, 'learning_rate': 5.742857142857143e-05, 'epoch': 4.29}\n"
     ]
    },
    {
     "name": "stderr",
     "output_type": "stream",
     "text": [
      "  4%|▍         | 91/2100 [10:50<2:24:44,  4.32s/it]"
     ]
    },
    {
     "name": "stdout",
     "output_type": "stream",
     "text": [
      "{'loss': 1.605, 'learning_rate': 5.74e-05, 'epoch': 4.33}\n"
     ]
    },
    {
     "name": "stderr",
     "output_type": "stream",
     "text": [
      "  4%|▍         | 92/2100 [10:55<2:36:17,  4.67s/it]"
     ]
    },
    {
     "name": "stdout",
     "output_type": "stream",
     "text": [
      "{'loss': 1.7021, 'learning_rate': 5.737142857142857e-05, 'epoch': 4.38}\n"
     ]
    },
    {
     "name": "stderr",
     "output_type": "stream",
     "text": [
      "  4%|▍         | 93/2100 [10:58<2:20:29,  4.20s/it]"
     ]
    },
    {
     "name": "stdout",
     "output_type": "stream",
     "text": [
      "{'loss': 1.6119, 'learning_rate': 5.7342857142857147e-05, 'epoch': 4.43}\n"
     ]
    },
    {
     "name": "stderr",
     "output_type": "stream",
     "text": [
      "  4%|▍         | 94/2100 [11:02<2:15:00,  4.04s/it]"
     ]
    },
    {
     "name": "stdout",
     "output_type": "stream",
     "text": [
      "{'loss': 1.6798, 'learning_rate': 5.7314285714285713e-05, 'epoch': 4.48}\n"
     ]
    },
    {
     "name": "stderr",
     "output_type": "stream",
     "text": [
      "  5%|▍         | 95/2100 [11:06<2:11:34,  3.94s/it]"
     ]
    },
    {
     "name": "stdout",
     "output_type": "stream",
     "text": [
      "{'loss': 1.6265, 'learning_rate': 5.728571428571429e-05, 'epoch': 4.52}\n"
     ]
    },
    {
     "name": "stderr",
     "output_type": "stream",
     "text": [
      "  5%|▍         | 96/2100 [11:09<2:02:19,  3.66s/it]"
     ]
    },
    {
     "name": "stdout",
     "output_type": "stream",
     "text": [
      "{'loss': 1.797, 'learning_rate': 5.725714285714286e-05, 'epoch': 4.57}\n"
     ]
    },
    {
     "name": "stderr",
     "output_type": "stream",
     "text": [
      "  5%|▍         | 97/2100 [11:15<2:23:14,  4.29s/it]"
     ]
    },
    {
     "name": "stdout",
     "output_type": "stream",
     "text": [
      "{'loss': 1.6064, 'learning_rate': 5.722857142857143e-05, 'epoch': 4.62}\n"
     ]
    },
    {
     "name": "stderr",
     "output_type": "stream",
     "text": [
      "  5%|▍         | 98/2100 [11:18<2:10:36,  3.91s/it]"
     ]
    },
    {
     "name": "stdout",
     "output_type": "stream",
     "text": [
      "{'loss': 1.5118, 'learning_rate': 5.72e-05, 'epoch': 4.67}\n"
     ]
    },
    {
     "name": "stderr",
     "output_type": "stream",
     "text": [
      "  5%|▍         | 99/2100 [11:23<2:29:08,  4.47s/it]"
     ]
    },
    {
     "name": "stdout",
     "output_type": "stream",
     "text": [
      "{'loss': 1.5151, 'learning_rate': 5.7171428571428575e-05, 'epoch': 4.71}\n"
     ]
    },
    {
     "name": "stderr",
     "output_type": "stream",
     "text": [
      "  5%|▍         | 100/2100 [11:27<2:17:28,  4.12s/it]"
     ]
    },
    {
     "name": "stdout",
     "output_type": "stream",
     "text": [
      "{'loss': 1.5248, 'learning_rate': 5.714285714285714e-05, 'epoch': 4.76}\n"
     ]
    },
    {
     "name": "stderr",
     "output_type": "stream",
     "text": [
      "C:\\Users\\Kate\\.cache\\huggingface\\modules\\evaluate_modules\\metrics\\evaluate-metric--mean_iou\\08bc20f4f895f3caf75fb9e3fada1404bded3c3265243d05327cbb3b9326ffe9\\mean_iou.py:259: RuntimeWarning: invalid value encountered in divide\n",
      "  iou = total_area_intersect / total_area_union\n",
      "C:\\Users\\Kate\\.cache\\huggingface\\modules\\evaluate_modules\\metrics\\evaluate-metric--mean_iou\\08bc20f4f895f3caf75fb9e3fada1404bded3c3265243d05327cbb3b9326ffe9\\mean_iou.py:260: RuntimeWarning: invalid value encountered in divide\n",
      "  acc = total_area_intersect / total_area_label\n",
      "                                                    \n",
      "  5%|▍         | 100/2100 [12:38<2:17:28,  4.12s/it]"
     ]
    },
    {
     "name": "stdout",
     "output_type": "stream",
     "text": [
      "{'eval_loss': 1.321544885635376, 'eval_mean_iou': 0.7739407485810041, 'eval_mean_accuracy': 0.9623270041340075, 'eval_overall_accuracy': 0.983968312280114, 'eval_per_category_iou': [0.9836284454935368, 0.5642530516684714, nan, nan, nan, nan, nan, nan, nan, nan, nan, nan, nan, nan, nan, nan, nan, nan, nan], 'eval_per_category_accuracy': [0.9849687168072574, 0.9396852914607577, nan, nan, nan, nan, nan, nan, nan, nan, nan, nan, nan, nan, nan, nan, nan, nan, nan], 'eval_runtime': 70.8561, 'eval_samples_per_second': 0.734, 'eval_steps_per_second': 0.155, 'epoch': 4.76}\n"
     ]
    },
    {
     "name": "stderr",
     "output_type": "stream",
     "text": [
      "  5%|▍         | 101/2100 [12:41<13:58:24, 25.17s/it]"
     ]
    },
    {
     "name": "stdout",
     "output_type": "stream",
     "text": [
      "{'loss': 1.6058, 'learning_rate': 5.7114285714285715e-05, 'epoch': 4.81}\n"
     ]
    },
    {
     "name": "stderr",
     "output_type": "stream",
     "text": [
      "  5%|▍         | 102/2100 [12:46<10:33:56, 19.04s/it]"
     ]
    },
    {
     "name": "stdout",
     "output_type": "stream",
     "text": [
      "{'loss': 1.5208, 'learning_rate': 5.708571428571428e-05, 'epoch': 4.86}\n"
     ]
    },
    {
     "name": "stderr",
     "output_type": "stream",
     "text": [
      "  5%|▍         | 103/2100 [12:49<7:53:42, 14.23s/it] "
     ]
    },
    {
     "name": "stdout",
     "output_type": "stream",
     "text": [
      "{'loss': 1.6081, 'learning_rate': 5.705714285714286e-05, 'epoch': 4.9}\n"
     ]
    },
    {
     "name": "stderr",
     "output_type": "stream",
     "text": [
      "  5%|▍         | 104/2100 [12:54<6:26:35, 11.62s/it]"
     ]
    },
    {
     "name": "stdout",
     "output_type": "stream",
     "text": [
      "{'loss': 1.7265, 'learning_rate': 5.702857142857143e-05, 'epoch': 4.95}\n"
     ]
    },
    {
     "name": "stderr",
     "output_type": "stream",
     "text": [
      "  5%|▌         | 105/2100 [12:57<4:54:29,  8.86s/it]"
     ]
    },
    {
     "name": "stdout",
     "output_type": "stream",
     "text": [
      "{'loss': 1.5541, 'learning_rate': 5.6999999999999996e-05, 'epoch': 5.0}\n"
     ]
    },
    {
     "name": "stderr",
     "output_type": "stream",
     "text": [
      "  5%|▌         | 106/2100 [13:01<4:08:22,  7.47s/it]"
     ]
    },
    {
     "name": "stdout",
     "output_type": "stream",
     "text": [
      "{'loss': 1.6726, 'learning_rate': 5.697142857142858e-05, 'epoch': 5.05}\n"
     ]
    },
    {
     "name": "stderr",
     "output_type": "stream",
     "text": [
      "  5%|▌         | 107/2100 [13:06<3:40:39,  6.64s/it]"
     ]
    },
    {
     "name": "stdout",
     "output_type": "stream",
     "text": [
      "{'loss': 1.3932, 'learning_rate': 5.6942857142857144e-05, 'epoch': 5.1}\n"
     ]
    },
    {
     "name": "stderr",
     "output_type": "stream",
     "text": [
      "  5%|▌         | 108/2100 [13:09<3:04:21,  5.55s/it]"
     ]
    },
    {
     "name": "stdout",
     "output_type": "stream",
     "text": [
      "{'loss': 1.5746, 'learning_rate': 5.691428571428572e-05, 'epoch': 5.14}\n"
     ]
    },
    {
     "name": "stderr",
     "output_type": "stream",
     "text": [
      "  5%|▌         | 109/2100 [13:14<3:06:03,  5.61s/it]"
     ]
    },
    {
     "name": "stdout",
     "output_type": "stream",
     "text": [
      "{'loss': 1.5263, 'learning_rate': 5.688571428571429e-05, 'epoch': 5.19}\n"
     ]
    },
    {
     "name": "stderr",
     "output_type": "stream",
     "text": [
      "  5%|▌         | 110/2100 [13:18<2:41:21,  4.86s/it]"
     ]
    },
    {
     "name": "stdout",
     "output_type": "stream",
     "text": [
      "{'loss': 1.4448, 'learning_rate': 5.685714285714286e-05, 'epoch': 5.24}\n"
     ]
    },
    {
     "name": "stderr",
     "output_type": "stream",
     "text": [
      "  5%|▌         | 111/2100 [13:21<2:29:43,  4.52s/it]"
     ]
    },
    {
     "name": "stdout",
     "output_type": "stream",
     "text": [
      "{'loss': 1.4499, 'learning_rate': 5.682857142857143e-05, 'epoch': 5.29}\n"
     ]
    },
    {
     "name": "stderr",
     "output_type": "stream",
     "text": [
      "  5%|▌         | 112/2100 [13:26<2:36:29,  4.72s/it]"
     ]
    },
    {
     "name": "stdout",
     "output_type": "stream",
     "text": [
      "{'loss': 1.7086, 'learning_rate': 5.68e-05, 'epoch': 5.33}\n"
     ]
    },
    {
     "name": "stderr",
     "output_type": "stream",
     "text": [
      "  5%|▌         | 113/2100 [13:30<2:22:47,  4.31s/it]"
     ]
    },
    {
     "name": "stdout",
     "output_type": "stream",
     "text": [
      "{'loss': 1.5244, 'learning_rate': 5.677142857142857e-05, 'epoch': 5.38}\n"
     ]
    },
    {
     "name": "stderr",
     "output_type": "stream",
     "text": [
      "  5%|▌         | 114/2100 [13:33<2:15:56,  4.11s/it]"
     ]
    },
    {
     "name": "stdout",
     "output_type": "stream",
     "text": [
      "{'loss': 1.4253, 'learning_rate': 5.6742857142857146e-05, 'epoch': 5.43}\n"
     ]
    },
    {
     "name": "stderr",
     "output_type": "stream",
     "text": [
      "  5%|▌         | 115/2100 [13:37<2:12:56,  4.02s/it]"
     ]
    },
    {
     "name": "stdout",
     "output_type": "stream",
     "text": [
      "{'loss': 1.423, 'learning_rate': 5.671428571428571e-05, 'epoch': 5.48}\n"
     ]
    },
    {
     "name": "stderr",
     "output_type": "stream",
     "text": [
      "  6%|▌         | 116/2100 [13:40<2:03:25,  3.73s/it]"
     ]
    },
    {
     "name": "stdout",
     "output_type": "stream",
     "text": [
      "{'loss': 1.6995, 'learning_rate': 5.668571428571429e-05, 'epoch': 5.52}\n"
     ]
    },
    {
     "name": "stderr",
     "output_type": "stream",
     "text": [
      "  6%|▌         | 117/2100 [13:44<2:02:51,  3.72s/it]"
     ]
    },
    {
     "name": "stdout",
     "output_type": "stream",
     "text": [
      "{'loss': 1.3896, 'learning_rate': 5.665714285714286e-05, 'epoch': 5.57}\n"
     ]
    },
    {
     "name": "stderr",
     "output_type": "stream",
     "text": [
      "  6%|▌         | 118/2100 [13:49<2:12:31,  4.01s/it]"
     ]
    },
    {
     "name": "stdout",
     "output_type": "stream",
     "text": [
      "{'loss': 1.3894, 'learning_rate': 5.6628571428571427e-05, 'epoch': 5.62}\n"
     ]
    },
    {
     "name": "stderr",
     "output_type": "stream",
     "text": [
      "  6%|▌         | 119/2100 [13:52<2:02:43,  3.72s/it]"
     ]
    },
    {
     "name": "stdout",
     "output_type": "stream",
     "text": [
      "{'loss': 1.419, 'learning_rate': 5.66e-05, 'epoch': 5.67}\n"
     ]
    },
    {
     "name": "stderr",
     "output_type": "stream",
     "text": [
      "  6%|▌         | 120/2100 [13:57<2:23:05,  4.34s/it]"
     ]
    },
    {
     "name": "stdout",
     "output_type": "stream",
     "text": [
      "{'loss': 1.6091, 'learning_rate': 5.6571428571428574e-05, 'epoch': 5.71}\n"
     ]
    },
    {
     "name": "stderr",
     "output_type": "stream",
     "text": [
      "C:\\Users\\Kate\\.cache\\huggingface\\modules\\evaluate_modules\\metrics\\evaluate-metric--mean_iou\\08bc20f4f895f3caf75fb9e3fada1404bded3c3265243d05327cbb3b9326ffe9\\mean_iou.py:259: RuntimeWarning: invalid value encountered in divide\n",
      "  iou = total_area_intersect / total_area_union\n",
      "C:\\Users\\Kate\\.cache\\huggingface\\modules\\evaluate_modules\\metrics\\evaluate-metric--mean_iou\\08bc20f4f895f3caf75fb9e3fada1404bded3c3265243d05327cbb3b9326ffe9\\mean_iou.py:260: RuntimeWarning: invalid value encountered in divide\n",
      "  acc = total_area_intersect / total_area_label\n",
      "                                                    \n",
      "  6%|▌         | 120/2100 [15:08<2:23:05,  4.34s/it]"
     ]
    },
    {
     "name": "stdout",
     "output_type": "stream",
     "text": [
      "{'eval_loss': 1.1587809324264526, 'eval_mean_iou': 0.7978015752186511, 'eval_mean_accuracy': 0.9203323812248949, 'eval_overall_accuracy': 0.9878949400003977, 'eval_per_category_iou': [0.987663375997996, 0.6079397744393064, nan, nan, nan, nan, nan, nan, nan, nan, nan, nan, nan, nan, nan, nan, nan, nan, nan], 'eval_per_category_accuracy': [0.9910181287285506, 0.8496466337212392, nan, nan, nan, nan, nan, nan, nan, nan, nan, nan, nan, nan, nan, nan, nan, nan, nan], 'eval_runtime': 70.6484, 'eval_samples_per_second': 0.736, 'eval_steps_per_second': 0.156, 'epoch': 5.71}\n"
     ]
    },
    {
     "name": "stderr",
     "output_type": "stream",
     "text": [
      "  6%|▌         | 121/2100 [15:12<13:57:33, 25.39s/it]"
     ]
    },
    {
     "name": "stdout",
     "output_type": "stream",
     "text": [
      "{'loss': 1.4053, 'learning_rate': 5.654285714285715e-05, 'epoch': 5.76}\n"
     ]
    },
    {
     "name": "stderr",
     "output_type": "stream",
     "text": [
      "  6%|▌         | 122/2100 [15:17<10:32:51, 19.20s/it]"
     ]
    },
    {
     "name": "stdout",
     "output_type": "stream",
     "text": [
      "{'loss': 1.4424, 'learning_rate': 5.6514285714285714e-05, 'epoch': 5.81}\n"
     ]
    },
    {
     "name": "stderr",
     "output_type": "stream",
     "text": [
      "  6%|▌         | 123/2100 [15:20<7:52:32, 14.34s/it] "
     ]
    },
    {
     "name": "stdout",
     "output_type": "stream",
     "text": [
      "{'loss': 1.4232, 'learning_rate': 5.648571428571429e-05, 'epoch': 5.86}\n"
     ]
    },
    {
     "name": "stderr",
     "output_type": "stream",
     "text": [
      "  6%|▌         | 124/2100 [15:26<6:28:32, 11.80s/it]"
     ]
    },
    {
     "name": "stdout",
     "output_type": "stream",
     "text": [
      "{'loss': 1.308, 'learning_rate': 5.645714285714286e-05, 'epoch': 5.9}\n"
     ]
    },
    {
     "name": "stderr",
     "output_type": "stream",
     "text": [
      "  6%|▌         | 125/2100 [15:29<5:01:36,  9.16s/it]"
     ]
    },
    {
     "name": "stdout",
     "output_type": "stream",
     "text": [
      "{'loss': 1.2929, 'learning_rate': 5.642857142857143e-05, 'epoch': 5.95}\n"
     ]
    },
    {
     "name": "stderr",
     "output_type": "stream",
     "text": [
      "  6%|▌         | 126/2100 [15:33<4:11:38,  7.65s/it]"
     ]
    },
    {
     "name": "stdout",
     "output_type": "stream",
     "text": [
      "{'loss': 1.3323, 'learning_rate': 5.6399999999999995e-05, 'epoch': 6.0}\n"
     ]
    },
    {
     "name": "stderr",
     "output_type": "stream",
     "text": [
      "  6%|▌         | 127/2100 [15:37<3:34:37,  6.53s/it]"
     ]
    },
    {
     "name": "stdout",
     "output_type": "stream",
     "text": [
      "{'loss': 1.269, 'learning_rate': 5.6371428571428576e-05, 'epoch': 6.05}\n"
     ]
    },
    {
     "name": "stderr",
     "output_type": "stream",
     "text": [
      "  6%|▌         | 128/2100 [15:40<3:05:45,  5.65s/it]"
     ]
    },
    {
     "name": "stdout",
     "output_type": "stream",
     "text": [
      "{'loss': 1.6445, 'learning_rate': 5.634285714285714e-05, 'epoch': 6.1}\n"
     ]
    },
    {
     "name": "stderr",
     "output_type": "stream",
     "text": [
      "  6%|▌         | 129/2100 [15:44<2:46:16,  5.06s/it]"
     ]
    },
    {
     "name": "stdout",
     "output_type": "stream",
     "text": [
      "{'loss': 1.3371, 'learning_rate': 5.6314285714285716e-05, 'epoch': 6.14}\n"
     ]
    },
    {
     "name": "stderr",
     "output_type": "stream",
     "text": [
      "  6%|▌         | 130/2100 [15:47<2:25:54,  4.44s/it]"
     ]
    },
    {
     "name": "stdout",
     "output_type": "stream",
     "text": [
      "{'loss': 1.5141, 'learning_rate': 5.628571428571429e-05, 'epoch': 6.19}\n"
     ]
    },
    {
     "name": "stderr",
     "output_type": "stream",
     "text": [
      "  6%|▌         | 131/2100 [15:51<2:18:29,  4.22s/it]"
     ]
    },
    {
     "name": "stdout",
     "output_type": "stream",
     "text": [
      "{'loss': 1.3095, 'learning_rate': 5.625714285714286e-05, 'epoch': 6.24}\n"
     ]
    },
    {
     "name": "stderr",
     "output_type": "stream",
     "text": [
      "  6%|▋         | 132/2100 [15:54<2:13:06,  4.06s/it]"
     ]
    },
    {
     "name": "stdout",
     "output_type": "stream",
     "text": [
      "{'loss': 1.2621, 'learning_rate': 5.622857142857143e-05, 'epoch': 6.29}\n"
     ]
    },
    {
     "name": "stderr",
     "output_type": "stream",
     "text": [
      "  6%|▋         | 133/2100 [15:57<2:03:45,  3.78s/it]"
     ]
    },
    {
     "name": "stdout",
     "output_type": "stream",
     "text": [
      "{'loss': 1.2802, 'learning_rate': 5.62e-05, 'epoch': 6.33}\n"
     ]
    },
    {
     "name": "stderr",
     "output_type": "stream",
     "text": [
      "  6%|▋         | 134/2100 [16:01<2:02:50,  3.75s/it]"
     ]
    },
    {
     "name": "stdout",
     "output_type": "stream",
     "text": [
      "{'loss': 1.28, 'learning_rate': 5.617142857142858e-05, 'epoch': 6.38}\n"
     ]
    },
    {
     "name": "stderr",
     "output_type": "stream",
     "text": [
      "  6%|▋         | 135/2100 [16:06<2:13:21,  4.07s/it]"
     ]
    },
    {
     "name": "stdout",
     "output_type": "stream",
     "text": [
      "{'loss': 1.6089, 'learning_rate': 5.6142857142857145e-05, 'epoch': 6.43}\n"
     ]
    },
    {
     "name": "stderr",
     "output_type": "stream",
     "text": [
      "  6%|▋         | 136/2100 [16:09<2:02:55,  3.76s/it]"
     ]
    },
    {
     "name": "stdout",
     "output_type": "stream",
     "text": [
      "{'loss': 1.7525, 'learning_rate': 5.611428571428571e-05, 'epoch': 6.48}\n"
     ]
    },
    {
     "name": "stderr",
     "output_type": "stream",
     "text": [
      "  7%|▋         | 137/2100 [16:15<2:22:31,  4.36s/it]"
     ]
    },
    {
     "name": "stdout",
     "output_type": "stream",
     "text": [
      "{'loss': 1.2703, 'learning_rate': 5.608571428571429e-05, 'epoch': 6.52}\n"
     ]
    },
    {
     "name": "stderr",
     "output_type": "stream",
     "text": [
      "  7%|▋         | 138/2100 [16:18<2:09:17,  3.95s/it]"
     ]
    },
    {
     "name": "stdout",
     "output_type": "stream",
     "text": [
      "{'loss': 1.3321, 'learning_rate': 5.605714285714286e-05, 'epoch': 6.57}\n"
     ]
    },
    {
     "name": "stderr",
     "output_type": "stream",
     "text": [
      "  7%|▋         | 139/2100 [16:24<2:26:55,  4.50s/it]"
     ]
    },
    {
     "name": "stdout",
     "output_type": "stream",
     "text": [
      "{'loss': 1.3778, 'learning_rate': 5.6028571428571426e-05, 'epoch': 6.62}\n"
     ]
    },
    {
     "name": "stderr",
     "output_type": "stream",
     "text": [
      "  7%|▋         | 140/2100 [16:27<2:12:32,  4.06s/it]"
     ]
    },
    {
     "name": "stdout",
     "output_type": "stream",
     "text": [
      "{'loss': 1.5602, 'learning_rate': 5.6e-05, 'epoch': 6.67}\n"
     ]
    },
    {
     "name": "stderr",
     "output_type": "stream",
     "text": [
      "C:\\Users\\Kate\\.cache\\huggingface\\modules\\evaluate_modules\\metrics\\evaluate-metric--mean_iou\\08bc20f4f895f3caf75fb9e3fada1404bded3c3265243d05327cbb3b9326ffe9\\mean_iou.py:259: RuntimeWarning: invalid value encountered in divide\n",
      "  iou = total_area_intersect / total_area_union\n",
      "C:\\Users\\Kate\\.cache\\huggingface\\modules\\evaluate_modules\\metrics\\evaluate-metric--mean_iou\\08bc20f4f895f3caf75fb9e3fada1404bded3c3265243d05327cbb3b9326ffe9\\mean_iou.py:260: RuntimeWarning: invalid value encountered in divide\n",
      "  acc = total_area_intersect / total_area_label\n",
      "                                                    \n",
      "  7%|▋         | 140/2100 [17:38<2:12:32,  4.06s/it]"
     ]
    },
    {
     "name": "stdout",
     "output_type": "stream",
     "text": [
      "{'eval_loss': 1.0997178554534912, 'eval_mean_iou': 0.7792102808260689, 'eval_mean_accuracy': 0.8665859889848122, 'eval_overall_accuracy': 0.9877152563185154, 'eval_per_category_iou': [0.9875111259394813, 0.5709094357126565, nan, nan, nan, nan, nan, nan, nan, nan, nan, nan, nan, nan, nan, nan, nan, nan, nan], 'eval_per_category_accuracy': [0.9933146529257856, 0.7398573250438387, nan, nan, nan, nan, nan, nan, nan, nan, nan, nan, nan, nan, nan, nan, nan, nan, nan], 'eval_runtime': 71.0074, 'eval_samples_per_second': 0.732, 'eval_steps_per_second': 0.155, 'epoch': 6.67}\n"
     ]
    },
    {
     "name": "stderr",
     "output_type": "stream",
     "text": [
      "  7%|▋         | 141/2100 [17:41<13:46:18, 25.31s/it]"
     ]
    },
    {
     "name": "stdout",
     "output_type": "stream",
     "text": [
      "{'loss': 1.2574, 'learning_rate': 5.597142857142857e-05, 'epoch': 6.71}\n"
     ]
    },
    {
     "name": "stderr",
     "output_type": "stream",
     "text": [
      "  7%|▋         | 142/2100 [17:45<10:15:31, 18.86s/it]"
     ]
    },
    {
     "name": "stdout",
     "output_type": "stream",
     "text": [
      "{'loss': 1.4156, 'learning_rate': 5.5942857142857146e-05, 'epoch': 6.76}\n"
     ]
    },
    {
     "name": "stderr",
     "output_type": "stream",
     "text": [
      "  7%|▋         | 143/2100 [17:48<7:40:15, 14.11s/it] "
     ]
    },
    {
     "name": "stdout",
     "output_type": "stream",
     "text": [
      "{'loss': 1.1798, 'learning_rate': 5.591428571428571e-05, 'epoch': 6.81}\n"
     ]
    },
    {
     "name": "stderr",
     "output_type": "stream",
     "text": [
      "  7%|▋         | 144/2100 [17:54<6:18:44, 11.62s/it]"
     ]
    },
    {
     "name": "stdout",
     "output_type": "stream",
     "text": [
      "{'loss': 1.5924, 'learning_rate': 5.588571428571429e-05, 'epoch': 6.86}\n"
     ]
    },
    {
     "name": "stderr",
     "output_type": "stream",
     "text": [
      "  7%|▋         | 145/2100 [17:57<4:55:09,  9.06s/it]"
     ]
    },
    {
     "name": "stdout",
     "output_type": "stream",
     "text": [
      "{'loss': 1.3516, 'learning_rate': 5.585714285714286e-05, 'epoch': 6.9}\n"
     ]
    },
    {
     "name": "stderr",
     "output_type": "stream",
     "text": [
      "  7%|▋         | 146/2100 [18:03<4:23:05,  8.08s/it]"
     ]
    },
    {
     "name": "stdout",
     "output_type": "stream",
     "text": [
      "{'loss': 1.5649, 'learning_rate': 5.582857142857143e-05, 'epoch': 6.95}\n"
     ]
    },
    {
     "name": "stderr",
     "output_type": "stream",
     "text": [
      "  7%|▋         | 147/2100 [18:05<3:27:43,  6.38s/it]"
     ]
    },
    {
     "name": "stdout",
     "output_type": "stream",
     "text": [
      "{'loss': 1.1644, 'learning_rate': 5.58e-05, 'epoch': 7.0}\n"
     ]
    },
    {
     "name": "stderr",
     "output_type": "stream",
     "text": [
      "  7%|▋         | 148/2100 [18:12<3:27:42,  6.38s/it]"
     ]
    },
    {
     "name": "stdout",
     "output_type": "stream",
     "text": [
      "{'loss': 1.5435, 'learning_rate': 5.5771428571428575e-05, 'epoch': 7.05}\n"
     ]
    },
    {
     "name": "stderr",
     "output_type": "stream",
     "text": [
      "  7%|▋         | 149/2100 [18:15<2:54:33,  5.37s/it]"
     ]
    },
    {
     "name": "stdout",
     "output_type": "stream",
     "text": [
      "{'loss': 1.2047, 'learning_rate': 5.574285714285714e-05, 'epoch': 7.1}\n"
     ]
    },
    {
     "name": "stderr",
     "output_type": "stream",
     "text": [
      "  7%|▋         | 150/2100 [18:21<2:58:59,  5.51s/it]"
     ]
    },
    {
     "name": "stdout",
     "output_type": "stream",
     "text": [
      "{'loss': 1.2756, 'learning_rate': 5.5714285714285715e-05, 'epoch': 7.14}\n"
     ]
    },
    {
     "name": "stderr",
     "output_type": "stream",
     "text": [
      "  7%|▋         | 151/2100 [18:24<2:34:37,  4.76s/it]"
     ]
    },
    {
     "name": "stdout",
     "output_type": "stream",
     "text": [
      "{'loss': 1.1346, 'learning_rate': 5.568571428571429e-05, 'epoch': 7.19}\n"
     ]
    },
    {
     "name": "stderr",
     "output_type": "stream",
     "text": [
      "  7%|▋         | 152/2100 [18:29<2:44:58,  5.08s/it]"
     ]
    },
    {
     "name": "stdout",
     "output_type": "stream",
     "text": [
      "{'loss': 1.1223, 'learning_rate': 5.5657142857142856e-05, 'epoch': 7.24}\n"
     ]
    },
    {
     "name": "stderr",
     "output_type": "stream",
     "text": [
      "  7%|▋         | 153/2100 [18:33<2:31:23,  4.67s/it]"
     ]
    },
    {
     "name": "stdout",
     "output_type": "stream",
     "text": [
      "{'loss': 1.5979, 'learning_rate': 5.562857142857143e-05, 'epoch': 7.29}\n"
     ]
    },
    {
     "name": "stderr",
     "output_type": "stream",
     "text": [
      "  7%|▋         | 154/2100 [18:37<2:21:00,  4.35s/it]"
     ]
    },
    {
     "name": "stdout",
     "output_type": "stream",
     "text": [
      "{'loss': 1.1496, 'learning_rate': 5.56e-05, 'epoch': 7.33}\n"
     ]
    },
    {
     "name": "stderr",
     "output_type": "stream",
     "text": [
      "  7%|▋         | 155/2100 [18:41<2:16:50,  4.22s/it]"
     ]
    },
    {
     "name": "stdout",
     "output_type": "stream",
     "text": [
      "{'loss': 1.5809, 'learning_rate': 5.557142857142858e-05, 'epoch': 7.38}\n"
     ]
    },
    {
     "name": "stderr",
     "output_type": "stream",
     "text": [
      "  7%|▋         | 156/2100 [18:44<2:05:12,  3.86s/it]"
     ]
    },
    {
     "name": "stdout",
     "output_type": "stream",
     "text": [
      "{'loss': 1.2999, 'learning_rate': 5.5542857142857143e-05, 'epoch': 7.43}\n"
     ]
    },
    {
     "name": "stderr",
     "output_type": "stream",
     "text": [
      "  7%|▋         | 157/2100 [18:50<2:23:49,  4.44s/it]"
     ]
    },
    {
     "name": "stdout",
     "output_type": "stream",
     "text": [
      "{'loss': 1.1268, 'learning_rate': 5.551428571428571e-05, 'epoch': 7.48}\n"
     ]
    },
    {
     "name": "stderr",
     "output_type": "stream",
     "text": [
      "  8%|▊         | 158/2100 [18:53<2:09:49,  4.01s/it]"
     ]
    },
    {
     "name": "stdout",
     "output_type": "stream",
     "text": [
      "{'loss': 1.1617, 'learning_rate': 5.548571428571429e-05, 'epoch': 7.52}\n"
     ]
    },
    {
     "name": "stderr",
     "output_type": "stream",
     "text": [
      "  8%|▊         | 159/2100 [18:58<2:22:04,  4.39s/it]"
     ]
    },
    {
     "name": "stdout",
     "output_type": "stream",
     "text": [
      "{'loss': 1.3773, 'learning_rate': 5.545714285714286e-05, 'epoch': 7.57}\n"
     ]
    },
    {
     "name": "stderr",
     "output_type": "stream",
     "text": [
      "  8%|▊         | 160/2100 [19:01<2:08:51,  3.99s/it]"
     ]
    },
    {
     "name": "stdout",
     "output_type": "stream",
     "text": [
      "{'loss': 1.311, 'learning_rate': 5.542857142857143e-05, 'epoch': 7.62}\n"
     ]
    },
    {
     "name": "stderr",
     "output_type": "stream",
     "text": [
      "C:\\Users\\Kate\\.cache\\huggingface\\modules\\evaluate_modules\\metrics\\evaluate-metric--mean_iou\\08bc20f4f895f3caf75fb9e3fada1404bded3c3265243d05327cbb3b9326ffe9\\mean_iou.py:259: RuntimeWarning: invalid value encountered in divide\n",
      "  iou = total_area_intersect / total_area_union\n",
      "C:\\Users\\Kate\\.cache\\huggingface\\modules\\evaluate_modules\\metrics\\evaluate-metric--mean_iou\\08bc20f4f895f3caf75fb9e3fada1404bded3c3265243d05327cbb3b9326ffe9\\mean_iou.py:260: RuntimeWarning: invalid value encountered in divide\n",
      "  acc = total_area_intersect / total_area_label\n",
      "                                                    \n",
      "  8%|▊         | 160/2100 [20:12<2:08:51,  3.99s/it]"
     ]
    },
    {
     "name": "stdout",
     "output_type": "stream",
     "text": [
      "{'eval_loss': 0.8032144904136658, 'eval_mean_iou': 0.8119923461508514, 'eval_mean_accuracy': 0.9737845193753089, 'eval_overall_accuracy': 0.9878927388936372, 'eval_per_category_iou': [0.987630672089354, 0.6363540202123487, nan, nan, nan, nan, nan, nan, nan, nan, nan, nan, nan, nan, nan, nan, nan, nan, nan], 'eval_per_category_accuracy': [0.9885449141956467, 0.959024124554971, nan, nan, nan, nan, nan, nan, nan, nan, nan, nan, nan, nan, nan, nan, nan, nan, nan], 'eval_runtime': 70.9762, 'eval_samples_per_second': 0.733, 'eval_steps_per_second': 0.155, 'epoch': 7.62}\n"
     ]
    },
    {
     "name": "stderr",
     "output_type": "stream",
     "text": [
      "  8%|▊         | 161/2100 [20:16<13:36:16, 25.26s/it]"
     ]
    },
    {
     "name": "stdout",
     "output_type": "stream",
     "text": [
      "{'loss': 1.2195, 'learning_rate': 5.5400000000000005e-05, 'epoch': 7.67}\n"
     ]
    },
    {
     "name": "stderr",
     "output_type": "stream",
     "text": [
      "  8%|▊         | 162/2100 [20:20<10:09:04, 18.86s/it]"
     ]
    },
    {
     "name": "stdout",
     "output_type": "stream",
     "text": [
      "{'loss': 1.2499, 'learning_rate': 5.537142857142857e-05, 'epoch': 7.71}\n"
     ]
    },
    {
     "name": "stderr",
     "output_type": "stream",
     "text": [
      "  8%|▊         | 163/2100 [20:23<7:36:02, 14.13s/it] "
     ]
    },
    {
     "name": "stdout",
     "output_type": "stream",
     "text": [
      "{'loss': 1.059, 'learning_rate': 5.5342857142857145e-05, 'epoch': 7.76}\n"
     ]
    },
    {
     "name": "stderr",
     "output_type": "stream",
     "text": [
      "  8%|▊         | 164/2100 [20:28<6:11:33, 11.52s/it]"
     ]
    },
    {
     "name": "stdout",
     "output_type": "stream",
     "text": [
      "{'loss': 1.5579, 'learning_rate': 5.531428571428571e-05, 'epoch': 7.81}\n"
     ]
    },
    {
     "name": "stderr",
     "output_type": "stream",
     "text": [
      "  8%|▊         | 165/2100 [20:31<4:49:18,  8.97s/it]"
     ]
    },
    {
     "name": "stdout",
     "output_type": "stream",
     "text": [
      "{'loss': 1.5471, 'learning_rate': 5.5285714285714286e-05, 'epoch': 7.86}\n"
     ]
    },
    {
     "name": "stderr",
     "output_type": "stream",
     "text": [
      "  8%|▊         | 166/2100 [20:35<3:57:35,  7.37s/it]"
     ]
    },
    {
     "name": "stdout",
     "output_type": "stream",
     "text": [
      "{'loss': 1.437, 'learning_rate': 5.525714285714286e-05, 'epoch': 7.9}\n"
     ]
    },
    {
     "name": "stderr",
     "output_type": "stream",
     "text": [
      "  8%|▊         | 167/2100 [20:39<3:26:00,  6.39s/it]"
     ]
    },
    {
     "name": "stdout",
     "output_type": "stream",
     "text": [
      "{'loss': 1.0974, 'learning_rate': 5.5228571428571426e-05, 'epoch': 7.95}\n"
     ]
    },
    {
     "name": "stderr",
     "output_type": "stream",
     "text": [
      "  8%|▊         | 168/2100 [20:41<2:47:31,  5.20s/it]"
     ]
    },
    {
     "name": "stdout",
     "output_type": "stream",
     "text": [
      "{'loss': 1.1399, 'learning_rate': 5.520000000000001e-05, 'epoch': 8.0}\n"
     ]
    },
    {
     "name": "stderr",
     "output_type": "stream",
     "text": [
      "  8%|▊         | 169/2100 [20:46<2:38:55,  4.94s/it]"
     ]
    },
    {
     "name": "stdout",
     "output_type": "stream",
     "text": [
      "{'loss': 1.1489, 'learning_rate': 5.5171428571428574e-05, 'epoch': 8.05}\n"
     ]
    },
    {
     "name": "stderr",
     "output_type": "stream",
     "text": [
      "  8%|▊         | 170/2100 [20:50<2:29:11,  4.64s/it]"
     ]
    },
    {
     "name": "stdout",
     "output_type": "stream",
     "text": [
      "{'loss': 1.2049, 'learning_rate': 5.514285714285714e-05, 'epoch': 8.1}\n"
     ]
    },
    {
     "name": "stderr",
     "output_type": "stream",
     "text": [
      "  8%|▊         | 171/2100 [20:53<2:13:25,  4.15s/it]"
     ]
    },
    {
     "name": "stdout",
     "output_type": "stream",
     "text": [
      "{'loss': 1.1361, 'learning_rate': 5.5114285714285714e-05, 'epoch': 8.14}\n"
     ]
    },
    {
     "name": "stderr",
     "output_type": "stream",
     "text": [
      "  8%|▊         | 172/2100 [20:58<2:28:52,  4.63s/it]"
     ]
    },
    {
     "name": "stdout",
     "output_type": "stream",
     "text": [
      "{'loss': 1.3935, 'learning_rate': 5.508571428571429e-05, 'epoch': 8.19}\n"
     ]
    },
    {
     "name": "stderr",
     "output_type": "stream",
     "text": [
      "  8%|▊         | 173/2100 [21:02<2:14:15,  4.18s/it]"
     ]
    },
    {
     "name": "stdout",
     "output_type": "stream",
     "text": [
      "{'loss': 1.4653, 'learning_rate': 5.505714285714286e-05, 'epoch': 8.24}\n"
     ]
    },
    {
     "name": "stderr",
     "output_type": "stream",
     "text": [
      "  8%|▊         | 174/2100 [21:05<2:09:24,  4.03s/it]"
     ]
    },
    {
     "name": "stdout",
     "output_type": "stream",
     "text": [
      "{'loss': 1.043, 'learning_rate': 5.502857142857143e-05, 'epoch': 8.29}\n"
     ]
    },
    {
     "name": "stderr",
     "output_type": "stream",
     "text": [
      "  8%|▊         | 175/2100 [21:09<2:06:25,  3.94s/it]"
     ]
    },
    {
     "name": "stdout",
     "output_type": "stream",
     "text": [
      "{'loss': 1.0365, 'learning_rate': 5.5e-05, 'epoch': 8.33}\n"
     ]
    },
    {
     "name": "stderr",
     "output_type": "stream",
     "text": [
      "  8%|▊         | 176/2100 [21:12<1:57:34,  3.67s/it]"
     ]
    },
    {
     "name": "stdout",
     "output_type": "stream",
     "text": [
      "{'loss': 1.0501, 'learning_rate': 5.4971428571428576e-05, 'epoch': 8.38}\n"
     ]
    },
    {
     "name": "stderr",
     "output_type": "stream",
     "text": [
      "  8%|▊         | 177/2100 [21:18<2:17:22,  4.29s/it]"
     ]
    },
    {
     "name": "stdout",
     "output_type": "stream",
     "text": [
      "{'loss': 1.0176, 'learning_rate': 5.494285714285714e-05, 'epoch': 8.43}\n"
     ]
    },
    {
     "name": "stderr",
     "output_type": "stream",
     "text": [
      "  8%|▊         | 178/2100 [21:21<2:06:08,  3.94s/it]"
     ]
    },
    {
     "name": "stdout",
     "output_type": "stream",
     "text": [
      "{'loss': 1.2847, 'learning_rate': 5.491428571428571e-05, 'epoch': 8.48}\n"
     ]
    },
    {
     "name": "stderr",
     "output_type": "stream",
     "text": [
      "  9%|▊         | 179/2100 [21:24<2:02:54,  3.84s/it]"
     ]
    },
    {
     "name": "stdout",
     "output_type": "stream",
     "text": [
      "{'loss': 1.0729, 'learning_rate': 5.488571428571429e-05, 'epoch': 8.52}\n"
     ]
    },
    {
     "name": "stderr",
     "output_type": "stream",
     "text": [
      "  9%|▊         | 180/2100 [21:28<2:02:24,  3.83s/it]"
     ]
    },
    {
     "name": "stdout",
     "output_type": "stream",
     "text": [
      "{'loss': 1.2954, 'learning_rate': 5.4857142857142857e-05, 'epoch': 8.57}\n"
     ]
    },
    {
     "name": "stderr",
     "output_type": "stream",
     "text": [
      "C:\\Users\\Kate\\.cache\\huggingface\\modules\\evaluate_modules\\metrics\\evaluate-metric--mean_iou\\08bc20f4f895f3caf75fb9e3fada1404bded3c3265243d05327cbb3b9326ffe9\\mean_iou.py:259: RuntimeWarning: invalid value encountered in divide\n",
      "  iou = total_area_intersect / total_area_union\n",
      "C:\\Users\\Kate\\.cache\\huggingface\\modules\\evaluate_modules\\metrics\\evaluate-metric--mean_iou\\08bc20f4f895f3caf75fb9e3fada1404bded3c3265243d05327cbb3b9326ffe9\\mean_iou.py:260: RuntimeWarning: invalid value encountered in divide\n",
      "  acc = total_area_intersect / total_area_label\n",
      "                                                    \n",
      "  9%|▊         | 180/2100 [22:40<2:02:24,  3.83s/it]"
     ]
    },
    {
     "name": "stdout",
     "output_type": "stream",
     "text": [
      "{'eval_loss': 1.0249230861663818, 'eval_mean_iou': 0.8004607179626239, 'eval_mean_accuracy': 0.973033449445607, 'eval_overall_accuracy': 0.9867126521891071, 'eval_per_category_iou': [0.9864251345043548, 0.614496301420893, nan, nan, nan, nan, nan, nan, nan, nan, nan, nan, nan, nan, nan, nan, nan, nan, nan], 'eval_per_category_accuracy': [0.9873449954957094, 0.9587219033955046, nan, nan, nan, nan, nan, nan, nan, nan, nan, nan, nan, nan, nan, nan, nan, nan, nan], 'eval_runtime': 71.2919, 'eval_samples_per_second': 0.729, 'eval_steps_per_second': 0.154, 'epoch': 8.57}\n"
     ]
    },
    {
     "name": "stderr",
     "output_type": "stream",
     "text": [
      "  9%|▊         | 181/2100 [22:43<13:22:20, 25.09s/it]"
     ]
    },
    {
     "name": "stdout",
     "output_type": "stream",
     "text": [
      "{'loss': 1.2208, 'learning_rate': 5.482857142857143e-05, 'epoch': 8.62}\n"
     ]
    },
    {
     "name": "stderr",
     "output_type": "stream",
     "text": [
      "  9%|▊         | 182/2100 [22:47<10:01:09, 18.81s/it]"
     ]
    },
    {
     "name": "stdout",
     "output_type": "stream",
     "text": [
      "{'loss': 1.5353, 'learning_rate': 5.4800000000000004e-05, 'epoch': 8.67}\n"
     ]
    },
    {
     "name": "stderr",
     "output_type": "stream",
     "text": [
      "  9%|▊         | 183/2100 [22:50<7:29:36, 14.07s/it] "
     ]
    },
    {
     "name": "stdout",
     "output_type": "stream",
     "text": [
      "{'loss': 1.2007, 'learning_rate': 5.477142857142857e-05, 'epoch': 8.71}\n"
     ]
    },
    {
     "name": "stderr",
     "output_type": "stream",
     "text": [
      "  9%|▉         | 184/2100 [22:56<6:10:18, 11.60s/it]"
     ]
    },
    {
     "name": "stdout",
     "output_type": "stream",
     "text": [
      "{'loss': 1.424, 'learning_rate': 5.4742857142857144e-05, 'epoch': 8.76}\n"
     ]
    },
    {
     "name": "stderr",
     "output_type": "stream",
     "text": [
      "  9%|▉         | 185/2100 [22:59<4:48:38,  9.04s/it]"
     ]
    },
    {
     "name": "stdout",
     "output_type": "stream",
     "text": [
      "{'loss': 0.9698, 'learning_rate': 5.471428571428571e-05, 'epoch': 8.81}\n"
     ]
    },
    {
     "name": "stderr",
     "output_type": "stream",
     "text": [
      "  9%|▉         | 186/2100 [23:05<4:17:22,  8.07s/it]"
     ]
    },
    {
     "name": "stdout",
     "output_type": "stream",
     "text": [
      "{'loss': 1.4785, 'learning_rate': 5.468571428571429e-05, 'epoch': 8.86}\n"
     ]
    },
    {
     "name": "stderr",
     "output_type": "stream",
     "text": [
      "  9%|▉         | 187/2100 [23:08<3:28:55,  6.55s/it]"
     ]
    },
    {
     "name": "stdout",
     "output_type": "stream",
     "text": [
      "{'loss': 1.3302, 'learning_rate': 5.465714285714286e-05, 'epoch': 8.9}\n"
     ]
    },
    {
     "name": "stderr",
     "output_type": "stream",
     "text": [
      "  9%|▉         | 188/2100 [23:14<3:21:29,  6.32s/it]"
     ]
    },
    {
     "name": "stdout",
     "output_type": "stream",
     "text": [
      "{'loss': 1.2938, 'learning_rate': 5.4628571428571425e-05, 'epoch': 8.95}\n"
     ]
    },
    {
     "name": "stderr",
     "output_type": "stream",
     "text": [
      "  9%|▉         | 189/2100 [23:16<2:44:15,  5.16s/it]"
     ]
    },
    {
     "name": "stdout",
     "output_type": "stream",
     "text": [
      "{'loss': 1.2428, 'learning_rate': 5.4600000000000006e-05, 'epoch': 9.0}\n"
     ]
    },
    {
     "name": "stderr",
     "output_type": "stream",
     "text": [
      "  9%|▉         | 190/2100 [23:20<2:35:55,  4.90s/it]"
     ]
    },
    {
     "name": "stdout",
     "output_type": "stream",
     "text": [
      "{'loss': 1.0511, 'learning_rate': 5.457142857142857e-05, 'epoch': 9.05}\n"
     ]
    },
    {
     "name": "stderr",
     "output_type": "stream",
     "text": [
      "  9%|▉         | 191/2100 [23:24<2:25:22,  4.57s/it]"
     ]
    },
    {
     "name": "stdout",
     "output_type": "stream",
     "text": [
      "{'loss': 0.9421, 'learning_rate': 5.454285714285714e-05, 'epoch': 9.1}\n"
     ]
    },
    {
     "name": "stderr",
     "output_type": "stream",
     "text": [
      "  9%|▉         | 192/2100 [23:27<2:10:35,  4.11s/it]"
     ]
    },
    {
     "name": "stdout",
     "output_type": "stream",
     "text": [
      "{'loss': 1.0138, 'learning_rate': 5.451428571428571e-05, 'epoch': 9.14}\n"
     ]
    },
    {
     "name": "stderr",
     "output_type": "stream",
     "text": [
      "  9%|▉         | 193/2100 [23:33<2:26:15,  4.60s/it]"
     ]
    },
    {
     "name": "stdout",
     "output_type": "stream",
     "text": [
      "{'loss': 1.079, 'learning_rate': 5.448571428571429e-05, 'epoch': 9.19}\n"
     ]
    },
    {
     "name": "stderr",
     "output_type": "stream",
     "text": [
      "  9%|▉         | 194/2100 [23:36<2:11:26,  4.14s/it]"
     ]
    },
    {
     "name": "stdout",
     "output_type": "stream",
     "text": [
      "{'loss': 1.385, 'learning_rate': 5.445714285714286e-05, 'epoch': 9.24}\n"
     ]
    },
    {
     "name": "stderr",
     "output_type": "stream",
     "text": [
      "  9%|▉         | 195/2100 [23:42<2:26:47,  4.62s/it]"
     ]
    },
    {
     "name": "stdout",
     "output_type": "stream",
     "text": [
      "{'loss': 1.2958, 'learning_rate': 5.442857142857143e-05, 'epoch': 9.29}\n"
     ]
    },
    {
     "name": "stderr",
     "output_type": "stream",
     "text": [
      "  9%|▉         | 196/2100 [23:45<2:11:33,  4.15s/it]"
     ]
    },
    {
     "name": "stdout",
     "output_type": "stream",
     "text": [
      "{'loss': 0.9404, 'learning_rate': 5.44e-05, 'epoch': 9.33}\n"
     ]
    },
    {
     "name": "stderr",
     "output_type": "stream",
     "text": [
      "  9%|▉         | 197/2100 [23:50<2:26:43,  4.63s/it]"
     ]
    },
    {
     "name": "stdout",
     "output_type": "stream",
     "text": [
      "{'loss': 1.379, 'learning_rate': 5.4371428571428575e-05, 'epoch': 9.38}\n"
     ]
    },
    {
     "name": "stderr",
     "output_type": "stream",
     "text": [
      "  9%|▉         | 198/2100 [23:54<2:15:06,  4.26s/it]"
     ]
    },
    {
     "name": "stdout",
     "output_type": "stream",
     "text": [
      "{'loss': 1.0319, 'learning_rate': 5.434285714285714e-05, 'epoch': 9.43}\n"
     ]
    },
    {
     "name": "stderr",
     "output_type": "stream",
     "text": [
      "  9%|▉         | 199/2100 [23:58<2:09:13,  4.08s/it]"
     ]
    },
    {
     "name": "stdout",
     "output_type": "stream",
     "text": [
      "{'loss': 0.9563, 'learning_rate': 5.431428571428572e-05, 'epoch': 9.48}\n"
     ]
    },
    {
     "name": "stderr",
     "output_type": "stream",
     "text": [
      " 10%|▉         | 200/2100 [24:01<2:04:26,  3.93s/it]"
     ]
    },
    {
     "name": "stdout",
     "output_type": "stream",
     "text": [
      "{'loss': 1.1238, 'learning_rate': 5.428571428571429e-05, 'epoch': 9.52}\n"
     ]
    },
    {
     "name": "stderr",
     "output_type": "stream",
     "text": [
      "C:\\Users\\Kate\\.cache\\huggingface\\modules\\evaluate_modules\\metrics\\evaluate-metric--mean_iou\\08bc20f4f895f3caf75fb9e3fada1404bded3c3265243d05327cbb3b9326ffe9\\mean_iou.py:259: RuntimeWarning: invalid value encountered in divide\n",
      "  iou = total_area_intersect / total_area_union\n",
      "C:\\Users\\Kate\\.cache\\huggingface\\modules\\evaluate_modules\\metrics\\evaluate-metric--mean_iou\\08bc20f4f895f3caf75fb9e3fada1404bded3c3265243d05327cbb3b9326ffe9\\mean_iou.py:260: RuntimeWarning: invalid value encountered in divide\n",
      "  acc = total_area_intersect / total_area_label\n",
      "                                                    \n",
      " 10%|▉         | 200/2100 [25:12<2:04:26,  3.93s/it]"
     ]
    },
    {
     "name": "stdout",
     "output_type": "stream",
     "text": [
      "{'eval_loss': 0.7726567983627319, 'eval_mean_iou': 0.8505445844645404, 'eval_mean_accuracy': 0.9681407780797437, 'eval_overall_accuracy': 0.9914757738486065, 'eval_per_category_iou': [0.9912942690812011, 0.7097948998478797, nan, nan, nan, nan, nan, nan, nan, nan, nan, nan, nan, nan, nan, nan, nan, nan, nan], 'eval_per_category_accuracy': [0.9925544718298208, 0.9437270843296668, nan, nan, nan, nan, nan, nan, nan, nan, nan, nan, nan, nan, nan, nan, nan, nan, nan], 'eval_runtime': 70.7792, 'eval_samples_per_second': 0.735, 'eval_steps_per_second': 0.155, 'epoch': 9.52}\n"
     ]
    },
    {
     "name": "stderr",
     "output_type": "stream",
     "text": [
      " 10%|▉         | 201/2100 [25:16<13:16:57, 25.18s/it]"
     ]
    },
    {
     "name": "stdout",
     "output_type": "stream",
     "text": [
      "{'loss': 1.366, 'learning_rate': 5.4257142857142856e-05, 'epoch': 9.57}\n"
     ]
    },
    {
     "name": "stderr",
     "output_type": "stream",
     "text": [
      " 10%|▉         | 202/2100 [25:20<9:57:19, 18.88s/it] "
     ]
    },
    {
     "name": "stdout",
     "output_type": "stream",
     "text": [
      "{'loss': 1.3753, 'learning_rate': 5.422857142857143e-05, 'epoch': 9.62}\n"
     ]
    },
    {
     "name": "stderr",
     "output_type": "stream",
     "text": [
      " 10%|▉         | 203/2100 [25:23<7:27:15, 14.15s/it]"
     ]
    },
    {
     "name": "stdout",
     "output_type": "stream",
     "text": [
      "{'loss': 0.8274, 'learning_rate': 5.42e-05, 'epoch': 9.67}\n"
     ]
    },
    {
     "name": "stderr",
     "output_type": "stream",
     "text": [
      " 10%|▉         | 204/2100 [25:29<6:08:02, 11.65s/it]"
     ]
    },
    {
     "name": "stdout",
     "output_type": "stream",
     "text": [
      "{'loss': 1.2322, 'learning_rate': 5.417142857142857e-05, 'epoch': 9.71}\n"
     ]
    },
    {
     "name": "stderr",
     "output_type": "stream",
     "text": [
      " 10%|▉         | 205/2100 [25:32<4:46:18,  9.07s/it]"
     ]
    },
    {
     "name": "stdout",
     "output_type": "stream",
     "text": [
      "{'loss': 0.8985, 'learning_rate': 5.414285714285714e-05, 'epoch': 9.76}\n"
     ]
    },
    {
     "name": "stderr",
     "output_type": "stream",
     "text": [
      " 10%|▉         | 206/2100 [25:38<4:15:03,  8.08s/it]"
     ]
    },
    {
     "name": "stdout",
     "output_type": "stream",
     "text": [
      "{'loss': 1.3347, 'learning_rate': 5.411428571428572e-05, 'epoch': 9.81}\n"
     ]
    },
    {
     "name": "stderr",
     "output_type": "stream",
     "text": [
      " 10%|▉         | 207/2100 [25:41<3:27:07,  6.56s/it]"
     ]
    },
    {
     "name": "stdout",
     "output_type": "stream",
     "text": [
      "{'loss': 1.115, 'learning_rate': 5.408571428571429e-05, 'epoch': 9.86}\n"
     ]
    },
    {
     "name": "stderr",
     "output_type": "stream",
     "text": [
      " 10%|▉         | 208/2100 [25:46<3:16:01,  6.22s/it]"
     ]
    },
    {
     "name": "stdout",
     "output_type": "stream",
     "text": [
      "{'loss': 0.9934, 'learning_rate': 5.405714285714286e-05, 'epoch': 9.9}\n"
     ]
    },
    {
     "name": "stderr",
     "output_type": "stream",
     "text": [
      " 10%|▉         | 209/2100 [25:49<2:46:09,  5.27s/it]"
     ]
    },
    {
     "name": "stdout",
     "output_type": "stream",
     "text": [
      "{'loss': 0.8668, 'learning_rate': 5.4028571428571424e-05, 'epoch': 9.95}\n"
     ]
    },
    {
     "name": "stderr",
     "output_type": "stream",
     "text": [
      " 10%|█         | 210/2100 [25:54<2:45:04,  5.24s/it]"
     ]
    },
    {
     "name": "stdout",
     "output_type": "stream",
     "text": [
      "{'loss': 0.9773, 'learning_rate': 5.4000000000000005e-05, 'epoch': 10.0}\n"
     ]
    },
    {
     "name": "stderr",
     "output_type": "stream",
     "text": [
      " 10%|█         | 211/2100 [25:59<2:38:39,  5.04s/it]"
     ]
    },
    {
     "name": "stdout",
     "output_type": "stream",
     "text": [
      "{'loss': 1.3173, 'learning_rate': 5.397142857142857e-05, 'epoch': 10.05}\n"
     ]
    },
    {
     "name": "stderr",
     "output_type": "stream",
     "text": [
      " 10%|█         | 212/2100 [26:03<2:24:55,  4.61s/it]"
     ]
    },
    {
     "name": "stdout",
     "output_type": "stream",
     "text": [
      "{'loss': 1.2625, 'learning_rate': 5.3942857142857145e-05, 'epoch': 10.1}\n"
     ]
    },
    {
     "name": "stderr",
     "output_type": "stream",
     "text": [
      " 10%|█         | 213/2100 [26:07<2:17:56,  4.39s/it]"
     ]
    },
    {
     "name": "stdout",
     "output_type": "stream",
     "text": [
      "{'loss': 0.7729, 'learning_rate': 5.391428571428572e-05, 'epoch': 10.14}\n"
     ]
    },
    {
     "name": "stderr",
     "output_type": "stream",
     "text": [
      " 10%|█         | 214/2100 [26:10<2:05:04,  3.98s/it]"
     ]
    },
    {
     "name": "stdout",
     "output_type": "stream",
     "text": [
      "{'loss': 0.9666, 'learning_rate': 5.3885714285714286e-05, 'epoch': 10.19}\n"
     ]
    },
    {
     "name": "stderr",
     "output_type": "stream",
     "text": [
      " 10%|█         | 215/2100 [26:15<2:20:25,  4.47s/it]"
     ]
    },
    {
     "name": "stdout",
     "output_type": "stream",
     "text": [
      "{'loss': 1.4636, 'learning_rate': 5.385714285714286e-05, 'epoch': 10.24}\n"
     ]
    },
    {
     "name": "stderr",
     "output_type": "stream",
     "text": [
      " 10%|█         | 216/2100 [26:18<2:07:01,  4.05s/it]"
     ]
    },
    {
     "name": "stdout",
     "output_type": "stream",
     "text": [
      "{'loss': 1.437, 'learning_rate': 5.3828571428571426e-05, 'epoch': 10.29}\n"
     ]
    },
    {
     "name": "stderr",
     "output_type": "stream",
     "text": [
      " 10%|█         | 217/2100 [26:22<2:03:05,  3.92s/it]"
     ]
    },
    {
     "name": "stdout",
     "output_type": "stream",
     "text": [
      "{'loss': 1.4633, 'learning_rate': 5.38e-05, 'epoch': 10.33}\n"
     ]
    },
    {
     "name": "stderr",
     "output_type": "stream",
     "text": [
      " 10%|█         | 218/2100 [26:26<2:01:48,  3.88s/it]"
     ]
    },
    {
     "name": "stdout",
     "output_type": "stream",
     "text": [
      "{'loss': 0.9236, 'learning_rate': 5.3771428571428574e-05, 'epoch': 10.38}\n"
     ]
    },
    {
     "name": "stderr",
     "output_type": "stream",
     "text": [
      " 10%|█         | 219/2100 [26:29<1:58:49,  3.79s/it]"
     ]
    },
    {
     "name": "stdout",
     "output_type": "stream",
     "text": [
      "{'loss': 0.9054, 'learning_rate': 5.374285714285714e-05, 'epoch': 10.43}\n"
     ]
    },
    {
     "name": "stderr",
     "output_type": "stream",
     "text": [
      " 10%|█         | 220/2100 [26:33<1:57:55,  3.76s/it]"
     ]
    },
    {
     "name": "stdout",
     "output_type": "stream",
     "text": [
      "{'loss': 1.3493, 'learning_rate': 5.371428571428572e-05, 'epoch': 10.48}\n"
     ]
    },
    {
     "name": "stderr",
     "output_type": "stream",
     "text": [
      "C:\\Users\\Kate\\.cache\\huggingface\\modules\\evaluate_modules\\metrics\\evaluate-metric--mean_iou\\08bc20f4f895f3caf75fb9e3fada1404bded3c3265243d05327cbb3b9326ffe9\\mean_iou.py:259: RuntimeWarning: invalid value encountered in divide\n",
      "  iou = total_area_intersect / total_area_union\n",
      "C:\\Users\\Kate\\.cache\\huggingface\\modules\\evaluate_modules\\metrics\\evaluate-metric--mean_iou\\08bc20f4f895f3caf75fb9e3fada1404bded3c3265243d05327cbb3b9326ffe9\\mean_iou.py:260: RuntimeWarning: invalid value encountered in divide\n",
      "  acc = total_area_intersect / total_area_label\n",
      "                                                    \n",
      " 10%|█         | 220/2100 [27:44<1:57:55,  3.76s/it]"
     ]
    },
    {
     "name": "stdout",
     "output_type": "stream",
     "text": [
      "{'eval_loss': 1.0935969352722168, 'eval_mean_iou': 0.7903078674376159, 'eval_mean_accuracy': 0.8828983633869292, 'eval_overall_accuracy': 0.9882628183103028, 'eval_per_category_iou': [0.9880589884715479, 0.5925567464036839, nan, nan, nan, nan, nan, nan, nan, nan, nan, nan, nan, nan, nan, nan, nan, nan, nan], 'eval_per_category_accuracy': [0.9931334609255137, 0.7726632658483448, nan, nan, nan, nan, nan, nan, nan, nan, nan, nan, nan, nan, nan, nan, nan, nan, nan], 'eval_runtime': 71.373, 'eval_samples_per_second': 0.729, 'eval_steps_per_second': 0.154, 'epoch': 10.48}\n"
     ]
    },
    {
     "name": "stderr",
     "output_type": "stream",
     "text": [
      " 11%|█         | 221/2100 [27:48<13:05:35, 25.09s/it]"
     ]
    },
    {
     "name": "stdout",
     "output_type": "stream",
     "text": [
      "{'loss': 0.833, 'learning_rate': 5.368571428571429e-05, 'epoch': 10.52}\n"
     ]
    },
    {
     "name": "stderr",
     "output_type": "stream",
     "text": [
      " 11%|█         | 222/2100 [27:52<9:46:30, 18.74s/it] "
     ]
    },
    {
     "name": "stdout",
     "output_type": "stream",
     "text": [
      "{'loss': 1.1005, 'learning_rate': 5.3657142857142855e-05, 'epoch': 10.57}\n"
     ]
    },
    {
     "name": "stderr",
     "output_type": "stream",
     "text": [
      " 11%|█         | 223/2100 [27:55<7:18:47, 14.03s/it]"
     ]
    },
    {
     "name": "stdout",
     "output_type": "stream",
     "text": [
      "{'loss': 1.2618, 'learning_rate': 5.362857142857143e-05, 'epoch': 10.62}\n"
     ]
    },
    {
     "name": "stderr",
     "output_type": "stream",
     "text": [
      " 11%|█         | 224/2100 [28:00<5:57:47, 11.44s/it]"
     ]
    },
    {
     "name": "stdout",
     "output_type": "stream",
     "text": [
      "{'loss': 1.4112, 'learning_rate': 5.36e-05, 'epoch': 10.67}\n"
     ]
    },
    {
     "name": "stderr",
     "output_type": "stream",
     "text": [
      " 11%|█         | 225/2100 [28:03<4:38:57,  8.93s/it]"
     ]
    },
    {
     "name": "stdout",
     "output_type": "stream",
     "text": [
      "{'loss': 0.8622, 'learning_rate': 5.3571428571428575e-05, 'epoch': 10.71}\n"
     ]
    },
    {
     "name": "stderr",
     "output_type": "stream",
     "text": [
      " 11%|█         | 226/2100 [28:07<3:49:24,  7.35s/it]"
     ]
    },
    {
     "name": "stdout",
     "output_type": "stream",
     "text": [
      "{'loss': 1.3726, 'learning_rate': 5.354285714285714e-05, 'epoch': 10.76}\n"
     ]
    },
    {
     "name": "stderr",
     "output_type": "stream",
     "text": [
      " 11%|█         | 227/2100 [28:11<3:19:57,  6.41s/it]"
     ]
    },
    {
     "name": "stdout",
     "output_type": "stream",
     "text": [
      "{'loss': 0.8368, 'learning_rate': 5.3514285714285716e-05, 'epoch': 10.81}\n"
     ]
    },
    {
     "name": "stderr",
     "output_type": "stream",
     "text": [
      " 11%|█         | 228/2100 [28:14<2:48:07,  5.39s/it]"
     ]
    },
    {
     "name": "stdout",
     "output_type": "stream",
     "text": [
      "{'loss': 1.1688, 'learning_rate': 5.348571428571429e-05, 'epoch': 10.86}\n"
     ]
    },
    {
     "name": "stderr",
     "output_type": "stream",
     "text": [
      " 11%|█         | 229/2100 [28:20<2:51:45,  5.51s/it]"
     ]
    },
    {
     "name": "stdout",
     "output_type": "stream",
     "text": [
      "{'loss': 1.3174, 'learning_rate': 5.3457142857142856e-05, 'epoch': 10.9}\n"
     ]
    },
    {
     "name": "stderr",
     "output_type": "stream",
     "text": [
      " 11%|█         | 230/2100 [28:23<2:29:17,  4.79s/it]"
     ]
    },
    {
     "name": "stdout",
     "output_type": "stream",
     "text": [
      "{'loss': 1.2841, 'learning_rate': 5.342857142857142e-05, 'epoch': 10.95}\n"
     ]
    },
    {
     "name": "stderr",
     "output_type": "stream",
     "text": [
      " 11%|█         | 231/2100 [28:28<2:27:36,  4.74s/it]"
     ]
    },
    {
     "name": "stdout",
     "output_type": "stream",
     "text": [
      "{'loss': 1.2265, 'learning_rate': 5.3400000000000004e-05, 'epoch': 11.0}\n"
     ]
    },
    {
     "name": "stderr",
     "output_type": "stream",
     "text": [
      " 11%|█         | 232/2100 [28:31<2:17:51,  4.43s/it]"
     ]
    },
    {
     "name": "stdout",
     "output_type": "stream",
     "text": [
      "{'loss': 1.3698, 'learning_rate': 5.337142857142857e-05, 'epoch': 11.05}\n"
     ]
    },
    {
     "name": "stderr",
     "output_type": "stream",
     "text": [
      " 11%|█         | 233/2100 [28:35<2:10:30,  4.19s/it]"
     ]
    },
    {
     "name": "stdout",
     "output_type": "stream",
     "text": [
      "{'loss': 1.1211, 'learning_rate': 5.3342857142857144e-05, 'epoch': 11.1}\n"
     ]
    },
    {
     "name": "stderr",
     "output_type": "stream",
     "text": [
      " 11%|█         | 234/2100 [28:39<2:10:11,  4.19s/it]"
     ]
    },
    {
     "name": "stdout",
     "output_type": "stream",
     "text": [
      "{'loss': 1.3101, 'learning_rate': 5.331428571428572e-05, 'epoch': 11.14}\n"
     ]
    },
    {
     "name": "stderr",
     "output_type": "stream",
     "text": [
      " 11%|█         | 235/2100 [28:42<1:59:23,  3.84s/it]"
     ]
    },
    {
     "name": "stdout",
     "output_type": "stream",
     "text": [
      "{'loss': 1.0829, 'learning_rate': 5.3285714285714285e-05, 'epoch': 11.19}\n"
     ]
    },
    {
     "name": "stderr",
     "output_type": "stream",
     "text": [
      " 11%|█         | 236/2100 [28:48<2:17:12,  4.42s/it]"
     ]
    },
    {
     "name": "stdout",
     "output_type": "stream",
     "text": [
      "{'loss': 1.5196, 'learning_rate': 5.325714285714286e-05, 'epoch': 11.24}\n"
     ]
    },
    {
     "name": "stderr",
     "output_type": "stream",
     "text": [
      " 11%|█▏        | 237/2100 [28:51<2:04:08,  4.00s/it]"
     ]
    },
    {
     "name": "stdout",
     "output_type": "stream",
     "text": [
      "{'loss': 1.0569, 'learning_rate': 5.322857142857143e-05, 'epoch': 11.29}\n"
     ]
    },
    {
     "name": "stderr",
     "output_type": "stream",
     "text": [
      " 11%|█▏        | 238/2100 [28:57<2:20:40,  4.53s/it]"
     ]
    },
    {
     "name": "stdout",
     "output_type": "stream",
     "text": [
      "{'loss': 1.0777, 'learning_rate': 5.3200000000000006e-05, 'epoch': 11.33}\n"
     ]
    },
    {
     "name": "stderr",
     "output_type": "stream",
     "text": [
      " 11%|█▏        | 239/2100 [29:00<2:06:33,  4.08s/it]"
     ]
    },
    {
     "name": "stdout",
     "output_type": "stream",
     "text": [
      "{'loss': 1.0675, 'learning_rate': 5.317142857142857e-05, 'epoch': 11.38}\n"
     ]
    },
    {
     "name": "stderr",
     "output_type": "stream",
     "text": [
      " 11%|█▏        | 240/2100 [29:06<2:22:30,  4.60s/it]"
     ]
    },
    {
     "name": "stdout",
     "output_type": "stream",
     "text": [
      "{'loss': 1.207, 'learning_rate': 5.314285714285714e-05, 'epoch': 11.43}\n"
     ]
    },
    {
     "name": "stderr",
     "output_type": "stream",
     "text": [
      "C:\\Users\\Kate\\.cache\\huggingface\\modules\\evaluate_modules\\metrics\\evaluate-metric--mean_iou\\08bc20f4f895f3caf75fb9e3fada1404bded3c3265243d05327cbb3b9326ffe9\\mean_iou.py:259: RuntimeWarning: invalid value encountered in divide\n",
      "  iou = total_area_intersect / total_area_union\n",
      "C:\\Users\\Kate\\.cache\\huggingface\\modules\\evaluate_modules\\metrics\\evaluate-metric--mean_iou\\08bc20f4f895f3caf75fb9e3fada1404bded3c3265243d05327cbb3b9326ffe9\\mean_iou.py:260: RuntimeWarning: invalid value encountered in divide\n",
      "  acc = total_area_intersect / total_area_label\n",
      "                                                    \n",
      " 11%|█▏        | 240/2100 [30:16<2:22:30,  4.60s/it]"
     ]
    },
    {
     "name": "stdout",
     "output_type": "stream",
     "text": [
      "{'eval_loss': 0.9803251028060913, 'eval_mean_iou': 0.8190046248562095, 'eval_mean_accuracy': 0.9631011793752456, 'eval_overall_accuracy': 0.9888345924764557, 'eval_per_category_iou': [0.9885987913950203, 0.6494104583173987, nan, nan, nan, nan, nan, nan, nan, nan, nan, nan, nan, nan, nan, nan, nan, nan, nan], 'eval_per_category_accuracy': [0.9900241611842019, 0.9361781975662894, nan, nan, nan, nan, nan, nan, nan, nan, nan, nan, nan, nan, nan, nan, nan, nan, nan], 'eval_runtime': 70.8114, 'eval_samples_per_second': 0.734, 'eval_steps_per_second': 0.155, 'epoch': 11.43}\n"
     ]
    },
    {
     "name": "stderr",
     "output_type": "stream",
     "text": [
      " 11%|█▏        | 241/2100 [30:20<13:14:16, 25.64s/it]"
     ]
    },
    {
     "name": "stdout",
     "output_type": "stream",
     "text": [
      "{'loss': 1.0137, 'learning_rate': 5.311428571428572e-05, 'epoch': 11.48}\n"
     ]
    },
    {
     "name": "stderr",
     "output_type": "stream",
     "text": [
      " 12%|█▏        | 242/2100 [30:24<9:50:33, 19.07s/it] "
     ]
    },
    {
     "name": "stdout",
     "output_type": "stream",
     "text": [
      "{'loss': 1.0007, 'learning_rate': 5.308571428571429e-05, 'epoch': 11.52}\n"
     ]
    },
    {
     "name": "stderr",
     "output_type": "stream",
     "text": [
      " 12%|█▏        | 243/2100 [30:27<7:20:59, 14.25s/it]"
     ]
    },
    {
     "name": "stdout",
     "output_type": "stream",
     "text": [
      "{'loss': 0.7437, 'learning_rate': 5.3057142857142854e-05, 'epoch': 11.57}\n"
     ]
    },
    {
     "name": "stderr",
     "output_type": "stream",
     "text": [
      " 12%|█▏        | 244/2100 [30:33<6:02:10, 11.71s/it]"
     ]
    },
    {
     "name": "stdout",
     "output_type": "stream",
     "text": [
      "{'loss': 0.8056, 'learning_rate': 5.3028571428571434e-05, 'epoch': 11.62}\n"
     ]
    },
    {
     "name": "stderr",
     "output_type": "stream",
     "text": [
      " 12%|█▏        | 245/2100 [30:36<4:41:17,  9.10s/it]"
     ]
    },
    {
     "name": "stdout",
     "output_type": "stream",
     "text": [
      "{'loss': 0.9539, 'learning_rate': 5.3e-05, 'epoch': 11.67}\n"
     ]
    },
    {
     "name": "stderr",
     "output_type": "stream",
     "text": [
      " 12%|█▏        | 246/2100 [30:41<4:06:46,  7.99s/it]"
     ]
    },
    {
     "name": "stdout",
     "output_type": "stream",
     "text": [
      "{'loss': 1.0698, 'learning_rate': 5.2971428571428574e-05, 'epoch': 11.71}\n"
     ]
    },
    {
     "name": "stderr",
     "output_type": "stream",
     "text": [
      " 12%|█▏        | 247/2100 [30:44<3:20:31,  6.49s/it]"
     ]
    },
    {
     "name": "stdout",
     "output_type": "stream",
     "text": [
      "{'loss': 0.9926, 'learning_rate': 5.294285714285714e-05, 'epoch': 11.76}\n"
     ]
    },
    {
     "name": "stderr",
     "output_type": "stream",
     "text": [
      " 12%|█▏        | 248/2100 [30:48<2:53:41,  5.63s/it]"
     ]
    },
    {
     "name": "stdout",
     "output_type": "stream",
     "text": [
      "{'loss': 1.0597, 'learning_rate': 5.2914285714285715e-05, 'epoch': 11.81}\n"
     ]
    },
    {
     "name": "stderr",
     "output_type": "stream",
     "text": [
      " 12%|█▏        | 249/2100 [30:52<2:39:25,  5.17s/it]"
     ]
    },
    {
     "name": "stdout",
     "output_type": "stream",
     "text": [
      "{'loss': 1.2113, 'learning_rate': 5.288571428571429e-05, 'epoch': 11.86}\n"
     ]
    },
    {
     "name": "stderr",
     "output_type": "stream",
     "text": [
      " 12%|█▏        | 250/2100 [30:55<2:19:13,  4.52s/it]"
     ]
    },
    {
     "name": "stdout",
     "output_type": "stream",
     "text": [
      "{'loss': 1.1713, 'learning_rate': 5.2857142857142855e-05, 'epoch': 11.9}\n"
     ]
    },
    {
     "name": "stderr",
     "output_type": "stream",
     "text": [
      " 12%|█▏        | 251/2100 [31:00<2:28:47,  4.83s/it]"
     ]
    },
    {
     "name": "stdout",
     "output_type": "stream",
     "text": [
      "{'loss': 0.7572, 'learning_rate': 5.2828571428571436e-05, 'epoch': 11.95}\n"
     ]
    },
    {
     "name": "stderr",
     "output_type": "stream",
     "text": [
      " 12%|█▏        | 252/2100 [31:03<2:06:13,  4.10s/it]"
     ]
    },
    {
     "name": "stdout",
     "output_type": "stream",
     "text": [
      "{'loss': 1.1978, 'learning_rate': 5.28e-05, 'epoch': 12.0}\n"
     ]
    },
    {
     "name": "stderr",
     "output_type": "stream",
     "text": [
      " 12%|█▏        | 253/2100 [31:07<2:07:18,  4.14s/it]"
     ]
    },
    {
     "name": "stdout",
     "output_type": "stream",
     "text": [
      "{'loss': 0.7924, 'learning_rate': 5.277142857142857e-05, 'epoch': 12.05}\n"
     ]
    },
    {
     "name": "stderr",
     "output_type": "stream",
     "text": [
      " 12%|█▏        | 254/2100 [31:12<2:10:10,  4.23s/it]"
     ]
    },
    {
     "name": "stdout",
     "output_type": "stream",
     "text": [
      "{'loss': 1.0175, 'learning_rate': 5.274285714285714e-05, 'epoch': 12.1}\n"
     ]
    },
    {
     "name": "stderr",
     "output_type": "stream",
     "text": [
      " 12%|█▏        | 255/2100 [31:15<2:00:53,  3.93s/it]"
     ]
    },
    {
     "name": "stdout",
     "output_type": "stream",
     "text": [
      "{'loss': 1.0235, 'learning_rate': 5.271428571428572e-05, 'epoch': 12.14}\n"
     ]
    },
    {
     "name": "stderr",
     "output_type": "stream",
     "text": [
      " 12%|█▏        | 256/2100 [31:18<1:57:27,  3.82s/it]"
     ]
    },
    {
     "name": "stdout",
     "output_type": "stream",
     "text": [
      "{'loss': 1.1525, 'learning_rate': 5.2685714285714284e-05, 'epoch': 12.19}\n"
     ]
    },
    {
     "name": "stderr",
     "output_type": "stream",
     "text": [
      " 12%|█▏        | 257/2100 [31:22<1:56:53,  3.81s/it]"
     ]
    },
    {
     "name": "stdout",
     "output_type": "stream",
     "text": [
      "{'loss': 1.1787, 'learning_rate': 5.265714285714286e-05, 'epoch': 12.24}\n"
     ]
    },
    {
     "name": "stderr",
     "output_type": "stream",
     "text": [
      " 12%|█▏        | 258/2100 [31:25<1:49:29,  3.57s/it]"
     ]
    },
    {
     "name": "stdout",
     "output_type": "stream",
     "text": [
      "{'loss': 1.1311, 'learning_rate': 5.262857142857143e-05, 'epoch': 12.29}\n"
     ]
    },
    {
     "name": "stderr",
     "output_type": "stream",
     "text": [
      " 12%|█▏        | 259/2100 [31:31<2:09:18,  4.21s/it]"
     ]
    },
    {
     "name": "stdout",
     "output_type": "stream",
     "text": [
      "{'loss': 1.0133, 'learning_rate': 5.2600000000000005e-05, 'epoch': 12.33}\n"
     ]
    },
    {
     "name": "stderr",
     "output_type": "stream",
     "text": [
      " 12%|█▏        | 260/2100 [31:34<1:58:12,  3.85s/it]"
     ]
    },
    {
     "name": "stdout",
     "output_type": "stream",
     "text": [
      "{'loss': 1.0191, 'learning_rate': 5.257142857142857e-05, 'epoch': 12.38}\n"
     ]
    },
    {
     "name": "stderr",
     "output_type": "stream",
     "text": [
      "C:\\Users\\Kate\\.cache\\huggingface\\modules\\evaluate_modules\\metrics\\evaluate-metric--mean_iou\\08bc20f4f895f3caf75fb9e3fada1404bded3c3265243d05327cbb3b9326ffe9\\mean_iou.py:259: RuntimeWarning: invalid value encountered in divide\n",
      "  iou = total_area_intersect / total_area_union\n",
      "C:\\Users\\Kate\\.cache\\huggingface\\modules\\evaluate_modules\\metrics\\evaluate-metric--mean_iou\\08bc20f4f895f3caf75fb9e3fada1404bded3c3265243d05327cbb3b9326ffe9\\mean_iou.py:260: RuntimeWarning: invalid value encountered in divide\n",
      "  acc = total_area_intersect / total_area_label\n",
      "                                                    \n",
      " 12%|█▏        | 260/2100 [32:45<1:58:12,  3.85s/it]"
     ]
    },
    {
     "name": "stdout",
     "output_type": "stream",
     "text": [
      "{'eval_loss': 0.9084311723709106, 'eval_mean_iou': 0.7547839265485752, 'eval_mean_accuracy': 0.9845865597475816, 'eval_overall_accuracy': 0.9805835236740404, 'eval_per_category_iou': [0.9801499169315913, 0.5294179361655591, nan, nan, nan, nan, nan, nan, nan, nan, nan, nan, nan, nan, nan, nan, nan, nan, nan], 'eval_per_category_accuracy': [0.9803984768467761, 0.9887746426483872, nan, nan, nan, nan, nan, nan, nan, nan, nan, nan, nan, nan, nan, nan, nan, nan, nan], 'eval_runtime': 70.9842, 'eval_samples_per_second': 0.733, 'eval_steps_per_second': 0.155, 'epoch': 12.38}\n"
     ]
    },
    {
     "name": "stderr",
     "output_type": "stream",
     "text": [
      " 12%|█▏        | 260/2100 [32:45<3:51:50,  7.56s/it]"
     ]
    },
    {
     "name": "stdout",
     "output_type": "stream",
     "text": [
      "{'train_runtime': 1965.6033, 'train_samples_per_second': 5.342, 'train_steps_per_second': 1.068, 'train_loss': 1.5818912391479198, 'epoch': 12.38}\n"
     ]
    },
    {
     "name": "stderr",
     "output_type": "stream",
     "text": [
      "\n"
     ]
    },
    {
     "data": {
      "text/plain": [
       "TrainOutput(global_step=260, training_loss=1.5818912391479198, metrics={'train_runtime': 1965.6033, 'train_samples_per_second': 5.342, 'train_steps_per_second': 1.068, 'train_loss': 1.5818912391479198, 'epoch': 12.38})"
      ]
     },
     "execution_count": 22,
     "metadata": {},
     "output_type": "execute_result"
    }
   ],
   "source": [
    "braod_bean_trainer = initialize_trainer(broad_bean_train_ds, broad_bean_val_ds)\n",
    "braod_bean_trainer.train()"
   ]
  },
  {
   "cell_type": "code",
   "execution_count": 23,
   "metadata": {},
   "outputs": [
    {
     "data": {
      "text/plain": [
       "[{'loss': 3.0074,\n",
       "  'learning_rate': 5.997142857142857e-05,\n",
       "  'epoch': 0.05,\n",
       "  'step': 1},\n",
       " {'loss': 2.9853,\n",
       "  'learning_rate': 5.994285714285715e-05,\n",
       "  'epoch': 0.1,\n",
       "  'step': 2},\n",
       " {'loss': 2.9659,\n",
       "  'learning_rate': 5.9914285714285716e-05,\n",
       "  'epoch': 0.14,\n",
       "  'step': 3},\n",
       " {'loss': 2.89,\n",
       "  'learning_rate': 5.988571428571429e-05,\n",
       "  'epoch': 0.19,\n",
       "  'step': 4},\n",
       " {'loss': 2.9191,\n",
       "  'learning_rate': 5.9857142857142856e-05,\n",
       "  'epoch': 0.24,\n",
       "  'step': 5},\n",
       " {'loss': 2.8563,\n",
       "  'learning_rate': 5.982857142857143e-05,\n",
       "  'epoch': 0.29,\n",
       "  'step': 6},\n",
       " {'loss': 2.8623,\n",
       "  'learning_rate': 5.9800000000000003e-05,\n",
       "  'epoch': 0.33,\n",
       "  'step': 7},\n",
       " {'loss': 2.784,\n",
       "  'learning_rate': 5.977142857142857e-05,\n",
       "  'epoch': 0.38,\n",
       "  'step': 8},\n",
       " {'loss': 2.789,\n",
       "  'learning_rate': 5.9742857142857144e-05,\n",
       "  'epoch': 0.43,\n",
       "  'step': 9},\n",
       " {'loss': 2.7765,\n",
       "  'learning_rate': 5.971428571428572e-05,\n",
       "  'epoch': 0.48,\n",
       "  'step': 10},\n",
       " {'loss': 2.7413,\n",
       "  'learning_rate': 5.9685714285714284e-05,\n",
       "  'epoch': 0.52,\n",
       "  'step': 11},\n",
       " {'loss': 2.7174,\n",
       "  'learning_rate': 5.965714285714286e-05,\n",
       "  'epoch': 0.57,\n",
       "  'step': 12},\n",
       " {'loss': 2.6889,\n",
       "  'learning_rate': 5.962857142857143e-05,\n",
       "  'epoch': 0.62,\n",
       "  'step': 13},\n",
       " {'loss': 2.6058, 'learning_rate': 5.96e-05, 'epoch': 0.67, 'step': 14},\n",
       " {'loss': 2.6279,\n",
       "  'learning_rate': 5.957142857142857e-05,\n",
       "  'epoch': 0.71,\n",
       "  'step': 15},\n",
       " {'loss': 2.5246,\n",
       "  'learning_rate': 5.9542857142857146e-05,\n",
       "  'epoch': 0.76,\n",
       "  'step': 16},\n",
       " {'loss': 2.514,\n",
       "  'learning_rate': 5.951428571428572e-05,\n",
       "  'epoch': 0.81,\n",
       "  'step': 17},\n",
       " {'loss': 2.5603,\n",
       "  'learning_rate': 5.9485714285714286e-05,\n",
       "  'epoch': 0.86,\n",
       "  'step': 18},\n",
       " {'loss': 2.467,\n",
       "  'learning_rate': 5.945714285714285e-05,\n",
       "  'epoch': 0.9,\n",
       "  'step': 19},\n",
       " {'loss': 2.5515,\n",
       "  'learning_rate': 5.9428571428571434e-05,\n",
       "  'epoch': 0.95,\n",
       "  'step': 20},\n",
       " {'eval_loss': 2.879204273223877,\n",
       "  'eval_mean_iou': 0.06934008663764227,\n",
       "  'eval_mean_accuracy': 0.9585563791219771,\n",
       "  'eval_overall_accuracy': 0.9207945672576419,\n",
       "  'eval_per_category_iou': [0.9190265567727093,\n",
       "   0.3290950027048514,\n",
       "   0.0,\n",
       "   0.0,\n",
       "   0.0,\n",
       "   0.0,\n",
       "   0.0,\n",
       "   0.0,\n",
       "   0.0,\n",
       "   0.0,\n",
       "   0.0,\n",
       "   0.0,\n",
       "   0.0,\n",
       "   nan,\n",
       "   0.0,\n",
       "   0.0,\n",
       "   0.0,\n",
       "   0.0,\n",
       "   0.0],\n",
       "  'eval_per_category_accuracy': [0.9190489663315252,\n",
       "   0.9980637919124289,\n",
       "   nan,\n",
       "   nan,\n",
       "   nan,\n",
       "   nan,\n",
       "   nan,\n",
       "   nan,\n",
       "   nan,\n",
       "   nan,\n",
       "   nan,\n",
       "   nan,\n",
       "   nan,\n",
       "   nan,\n",
       "   nan,\n",
       "   nan,\n",
       "   nan,\n",
       "   nan,\n",
       "   nan],\n",
       "  'eval_runtime': 69.2385,\n",
       "  'eval_samples_per_second': 0.751,\n",
       "  'eval_steps_per_second': 0.159,\n",
       "  'epoch': 0.95,\n",
       "  'step': 20},\n",
       " {'loss': 2.4758, 'learning_rate': 5.94e-05, 'epoch': 1.0, 'step': 21},\n",
       " {'loss': 2.4233,\n",
       "  'learning_rate': 5.937142857142857e-05,\n",
       "  'epoch': 1.05,\n",
       "  'step': 22},\n",
       " {'loss': 2.4528,\n",
       "  'learning_rate': 5.934285714285715e-05,\n",
       "  'epoch': 1.1,\n",
       "  'step': 23},\n",
       " {'loss': 2.4456,\n",
       "  'learning_rate': 5.9314285714285715e-05,\n",
       "  'epoch': 1.14,\n",
       "  'step': 24},\n",
       " {'loss': 2.3643,\n",
       "  'learning_rate': 5.928571428571429e-05,\n",
       "  'epoch': 1.19,\n",
       "  'step': 25},\n",
       " {'loss': 2.3654,\n",
       "  'learning_rate': 5.925714285714286e-05,\n",
       "  'epoch': 1.24,\n",
       "  'step': 26},\n",
       " {'loss': 2.3983,\n",
       "  'learning_rate': 5.922857142857143e-05,\n",
       "  'epoch': 1.29,\n",
       "  'step': 27},\n",
       " {'loss': 2.2466, 'learning_rate': 5.92e-05, 'epoch': 1.33, 'step': 28},\n",
       " {'loss': 2.298,\n",
       "  'learning_rate': 5.917142857142857e-05,\n",
       "  'epoch': 1.38,\n",
       "  'step': 29},\n",
       " {'loss': 2.3143,\n",
       "  'learning_rate': 5.914285714285715e-05,\n",
       "  'epoch': 1.43,\n",
       "  'step': 30},\n",
       " {'loss': 2.3724,\n",
       "  'learning_rate': 5.9114285714285717e-05,\n",
       "  'epoch': 1.48,\n",
       "  'step': 31},\n",
       " {'loss': 2.1981,\n",
       "  'learning_rate': 5.9085714285714283e-05,\n",
       "  'epoch': 1.52,\n",
       "  'step': 32},\n",
       " {'loss': 2.282,\n",
       "  'learning_rate': 5.9057142857142864e-05,\n",
       "  'epoch': 1.57,\n",
       "  'step': 33},\n",
       " {'loss': 2.2236,\n",
       "  'learning_rate': 5.902857142857143e-05,\n",
       "  'epoch': 1.62,\n",
       "  'step': 34},\n",
       " {'loss': 2.2785, 'learning_rate': 5.9e-05, 'epoch': 1.67, 'step': 35},\n",
       " {'loss': 2.3189,\n",
       "  'learning_rate': 5.897142857142857e-05,\n",
       "  'epoch': 1.71,\n",
       "  'step': 36},\n",
       " {'loss': 2.2399,\n",
       "  'learning_rate': 5.8942857142857145e-05,\n",
       "  'epoch': 1.76,\n",
       "  'step': 37},\n",
       " {'loss': 2.1575,\n",
       "  'learning_rate': 5.891428571428572e-05,\n",
       "  'epoch': 1.81,\n",
       "  'step': 38},\n",
       " {'loss': 2.097,\n",
       "  'learning_rate': 5.8885714285714285e-05,\n",
       "  'epoch': 1.86,\n",
       "  'step': 39},\n",
       " {'loss': 2.0719,\n",
       "  'learning_rate': 5.885714285714286e-05,\n",
       "  'epoch': 1.9,\n",
       "  'step': 40},\n",
       " {'eval_loss': 2.5929784774780273,\n",
       "  'eval_mean_iou': 0.09159817825442018,\n",
       "  'eval_mean_accuracy': 0.9745756041934279,\n",
       "  'eval_overall_accuracy': 0.9647528703716136,\n",
       "  'eval_per_category_iou': [0.9639689269392763,\n",
       "   0.4100037468770264,\n",
       "   0.0,\n",
       "   nan,\n",
       "   0.0,\n",
       "   nan,\n",
       "   0.0,\n",
       "   0.0,\n",
       "   nan,\n",
       "   0.0,\n",
       "   0.0,\n",
       "   0.0,\n",
       "   0.0,\n",
       "   nan,\n",
       "   0.0,\n",
       "   0.0,\n",
       "   0.0,\n",
       "   0.0,\n",
       "   0.0],\n",
       "  'eval_per_category_accuracy': [0.964298798588248,\n",
       "   0.9848524097986078,\n",
       "   nan,\n",
       "   nan,\n",
       "   nan,\n",
       "   nan,\n",
       "   nan,\n",
       "   nan,\n",
       "   nan,\n",
       "   nan,\n",
       "   nan,\n",
       "   nan,\n",
       "   nan,\n",
       "   nan,\n",
       "   nan,\n",
       "   nan,\n",
       "   nan,\n",
       "   nan,\n",
       "   nan],\n",
       "  'eval_runtime': 71.6603,\n",
       "  'eval_samples_per_second': 0.726,\n",
       "  'eval_steps_per_second': 0.154,\n",
       "  'epoch': 1.9,\n",
       "  'step': 40},\n",
       " {'loss': 2.0329,\n",
       "  'learning_rate': 5.882857142857143e-05,\n",
       "  'epoch': 1.95,\n",
       "  'step': 41},\n",
       " {'loss': 2.1631, 'learning_rate': 5.88e-05, 'epoch': 2.0, 'step': 42},\n",
       " {'loss': 2.1757,\n",
       "  'learning_rate': 5.877142857142857e-05,\n",
       "  'epoch': 2.05,\n",
       "  'step': 43},\n",
       " {'loss': 2.0927,\n",
       "  'learning_rate': 5.874285714285715e-05,\n",
       "  'epoch': 2.1,\n",
       "  'step': 44},\n",
       " {'loss': 2.0986,\n",
       "  'learning_rate': 5.8714285714285714e-05,\n",
       "  'epoch': 2.14,\n",
       "  'step': 45},\n",
       " {'loss': 2.0247,\n",
       "  'learning_rate': 5.868571428571429e-05,\n",
       "  'epoch': 2.19,\n",
       "  'step': 46},\n",
       " {'loss': 2.0947,\n",
       "  'learning_rate': 5.865714285714286e-05,\n",
       "  'epoch': 2.24,\n",
       "  'step': 47},\n",
       " {'loss': 1.9459,\n",
       "  'learning_rate': 5.862857142857143e-05,\n",
       "  'epoch': 2.29,\n",
       "  'step': 48},\n",
       " {'loss': 2.0231, 'learning_rate': 5.86e-05, 'epoch': 2.33, 'step': 49},\n",
       " {'loss': 2.0765,\n",
       "  'learning_rate': 5.857142857142857e-05,\n",
       "  'epoch': 2.38,\n",
       "  'step': 50},\n",
       " {'loss': 1.8865,\n",
       "  'learning_rate': 5.854285714285715e-05,\n",
       "  'epoch': 2.43,\n",
       "  'step': 51},\n",
       " {'loss': 2.0028,\n",
       "  'learning_rate': 5.8514285714285716e-05,\n",
       "  'epoch': 2.48,\n",
       "  'step': 52},\n",
       " {'loss': 1.9413,\n",
       "  'learning_rate': 5.848571428571428e-05,\n",
       "  'epoch': 2.52,\n",
       "  'step': 53},\n",
       " {'loss': 1.8863,\n",
       "  'learning_rate': 5.845714285714286e-05,\n",
       "  'epoch': 2.57,\n",
       "  'step': 54},\n",
       " {'loss': 1.9438,\n",
       "  'learning_rate': 5.842857142857143e-05,\n",
       "  'epoch': 2.62,\n",
       "  'step': 55},\n",
       " {'loss': 2.0695, 'learning_rate': 5.84e-05, 'epoch': 2.67, 'step': 56},\n",
       " {'loss': 2.1516,\n",
       "  'learning_rate': 5.837142857142857e-05,\n",
       "  'epoch': 2.71,\n",
       "  'step': 57},\n",
       " {'loss': 1.8385,\n",
       "  'learning_rate': 5.8342857142857144e-05,\n",
       "  'epoch': 2.76,\n",
       "  'step': 58},\n",
       " {'loss': 1.9859,\n",
       "  'learning_rate': 5.831428571428572e-05,\n",
       "  'epoch': 2.81,\n",
       "  'step': 59},\n",
       " {'loss': 1.7461,\n",
       "  'learning_rate': 5.8285714285714284e-05,\n",
       "  'epoch': 2.86,\n",
       "  'step': 60},\n",
       " {'eval_loss': 1.7767342329025269,\n",
       "  'eval_mean_iou': 0.18673182882106454,\n",
       "  'eval_mean_accuracy': 0.9578487081598588,\n",
       "  'eval_overall_accuracy': 0.9798441719131881,\n",
       "  'eval_per_category_iou': [0.9794194195094104,\n",
       "   0.5144352110591061,\n",
       "   0.0,\n",
       "   nan,\n",
       "   nan,\n",
       "   nan,\n",
       "   nan,\n",
       "   0.0,\n",
       "   nan,\n",
       "   nan,\n",
       "   0.0,\n",
       "   0.0,\n",
       "   nan,\n",
       "   nan,\n",
       "   0.0,\n",
       "   0.0,\n",
       "   nan,\n",
       "   nan,\n",
       "   nan],\n",
       "  'eval_per_category_accuracy': [0.9808609478569938,\n",
       "   0.9348364684627238,\n",
       "   nan,\n",
       "   nan,\n",
       "   nan,\n",
       "   nan,\n",
       "   nan,\n",
       "   nan,\n",
       "   nan,\n",
       "   nan,\n",
       "   nan,\n",
       "   nan,\n",
       "   nan,\n",
       "   nan,\n",
       "   nan,\n",
       "   nan,\n",
       "   nan,\n",
       "   nan,\n",
       "   nan],\n",
       "  'eval_runtime': 72.3178,\n",
       "  'eval_samples_per_second': 0.719,\n",
       "  'eval_steps_per_second': 0.152,\n",
       "  'epoch': 2.86,\n",
       "  'step': 60},\n",
       " {'loss': 1.9813,\n",
       "  'learning_rate': 5.825714285714286e-05,\n",
       "  'epoch': 2.9,\n",
       "  'step': 61},\n",
       " {'loss': 1.9281,\n",
       "  'learning_rate': 5.822857142857143e-05,\n",
       "  'epoch': 2.95,\n",
       "  'step': 62},\n",
       " {'loss': 1.7743, 'learning_rate': 5.82e-05, 'epoch': 3.0, 'step': 63},\n",
       " {'loss': 1.8404,\n",
       "  'learning_rate': 5.817142857142857e-05,\n",
       "  'epoch': 3.05,\n",
       "  'step': 64},\n",
       " {'loss': 1.8367,\n",
       "  'learning_rate': 5.8142857142857146e-05,\n",
       "  'epoch': 3.1,\n",
       "  'step': 65},\n",
       " {'loss': 1.7855,\n",
       "  'learning_rate': 5.811428571428571e-05,\n",
       "  'epoch': 3.14,\n",
       "  'step': 66},\n",
       " {'loss': 2.1082,\n",
       "  'learning_rate': 5.8085714285714286e-05,\n",
       "  'epoch': 3.19,\n",
       "  'step': 67},\n",
       " {'loss': 1.8973,\n",
       "  'learning_rate': 5.805714285714286e-05,\n",
       "  'epoch': 3.24,\n",
       "  'step': 68},\n",
       " {'loss': 1.9022,\n",
       "  'learning_rate': 5.8028571428571433e-05,\n",
       "  'epoch': 3.29,\n",
       "  'step': 69},\n",
       " {'loss': 1.9341, 'learning_rate': 5.8e-05, 'epoch': 3.33, 'step': 70},\n",
       " {'loss': 1.8976,\n",
       "  'learning_rate': 5.7971428571428574e-05,\n",
       "  'epoch': 3.38,\n",
       "  'step': 71},\n",
       " {'loss': 1.8065,\n",
       "  'learning_rate': 5.794285714285715e-05,\n",
       "  'epoch': 3.43,\n",
       "  'step': 72},\n",
       " {'loss': 1.8174,\n",
       "  'learning_rate': 5.7914285714285714e-05,\n",
       "  'epoch': 3.48,\n",
       "  'step': 73},\n",
       " {'loss': 1.7225,\n",
       "  'learning_rate': 5.788571428571428e-05,\n",
       "  'epoch': 3.52,\n",
       "  'step': 74},\n",
       " {'loss': 1.7458,\n",
       "  'learning_rate': 5.785714285714286e-05,\n",
       "  'epoch': 3.57,\n",
       "  'step': 75},\n",
       " {'loss': 1.6607,\n",
       "  'learning_rate': 5.782857142857143e-05,\n",
       "  'epoch': 3.62,\n",
       "  'step': 76},\n",
       " {'loss': 1.7716, 'learning_rate': 5.78e-05, 'epoch': 3.67, 'step': 77},\n",
       " {'loss': 1.7553,\n",
       "  'learning_rate': 5.7771428571428576e-05,\n",
       "  'epoch': 3.71,\n",
       "  'step': 78},\n",
       " {'loss': 1.8909,\n",
       "  'learning_rate': 5.774285714285714e-05,\n",
       "  'epoch': 3.76,\n",
       "  'step': 79},\n",
       " {'loss': 1.7467,\n",
       "  'learning_rate': 5.7714285714285716e-05,\n",
       "  'epoch': 3.81,\n",
       "  'step': 80},\n",
       " {'eval_loss': 1.445361852645874,\n",
       "  'eval_mean_iou': 0.3060755859952568,\n",
       "  'eval_mean_accuracy': 0.925166032650851,\n",
       "  'eval_overall_accuracy': 0.9840734518130406,\n",
       "  'eval_per_category_iou': [0.9837637074195708,\n",
       "   0.5466142225567134,\n",
       "   nan,\n",
       "   nan,\n",
       "   nan,\n",
       "   nan,\n",
       "   nan,\n",
       "   0.0,\n",
       "   nan,\n",
       "   nan,\n",
       "   0.0,\n",
       "   0.0,\n",
       "   nan,\n",
       "   nan,\n",
       "   nan,\n",
       "   nan,\n",
       "   nan,\n",
       "   nan,\n",
       "   nan],\n",
       "  'eval_per_category_accuracy': [0.9867965426915738,\n",
       "   0.8635355226101281,\n",
       "   nan,\n",
       "   nan,\n",
       "   nan,\n",
       "   nan,\n",
       "   nan,\n",
       "   nan,\n",
       "   nan,\n",
       "   nan,\n",
       "   nan,\n",
       "   nan,\n",
       "   nan,\n",
       "   nan,\n",
       "   nan,\n",
       "   nan,\n",
       "   nan,\n",
       "   nan,\n",
       "   nan],\n",
       "  'eval_runtime': 71.7185,\n",
       "  'eval_samples_per_second': 0.725,\n",
       "  'eval_steps_per_second': 0.153,\n",
       "  'epoch': 3.81,\n",
       "  'step': 80},\n",
       " {'loss': 1.7855,\n",
       "  'learning_rate': 5.768571428571428e-05,\n",
       "  'epoch': 3.86,\n",
       "  'step': 81},\n",
       " {'loss': 1.7588,\n",
       "  'learning_rate': 5.7657142857142864e-05,\n",
       "  'epoch': 3.9,\n",
       "  'step': 82},\n",
       " {'loss': 1.8136,\n",
       "  'learning_rate': 5.762857142857143e-05,\n",
       "  'epoch': 3.95,\n",
       "  'step': 83},\n",
       " {'loss': 1.7589, 'learning_rate': 5.76e-05, 'epoch': 4.0, 'step': 84},\n",
       " {'loss': 1.6896,\n",
       "  'learning_rate': 5.757142857142858e-05,\n",
       "  'epoch': 4.05,\n",
       "  'step': 85},\n",
       " {'loss': 1.8105,\n",
       "  'learning_rate': 5.7542857142857145e-05,\n",
       "  'epoch': 4.1,\n",
       "  'step': 86},\n",
       " {'loss': 1.6342,\n",
       "  'learning_rate': 5.751428571428571e-05,\n",
       "  'epoch': 4.14,\n",
       "  'step': 87},\n",
       " {'loss': 1.6662,\n",
       "  'learning_rate': 5.7485714285714285e-05,\n",
       "  'epoch': 4.19,\n",
       "  'step': 88},\n",
       " {'loss': 1.5815,\n",
       "  'learning_rate': 5.745714285714286e-05,\n",
       "  'epoch': 4.24,\n",
       "  'step': 89},\n",
       " {'loss': 1.6997,\n",
       "  'learning_rate': 5.742857142857143e-05,\n",
       "  'epoch': 4.29,\n",
       "  'step': 90},\n",
       " {'loss': 1.605, 'learning_rate': 5.74e-05, 'epoch': 4.33, 'step': 91},\n",
       " {'loss': 1.7021,\n",
       "  'learning_rate': 5.737142857142857e-05,\n",
       "  'epoch': 4.38,\n",
       "  'step': 92},\n",
       " {'loss': 1.6119,\n",
       "  'learning_rate': 5.7342857142857147e-05,\n",
       "  'epoch': 4.43,\n",
       "  'step': 93},\n",
       " {'loss': 1.6798,\n",
       "  'learning_rate': 5.7314285714285713e-05,\n",
       "  'epoch': 4.48,\n",
       "  'step': 94},\n",
       " {'loss': 1.6265,\n",
       "  'learning_rate': 5.728571428571429e-05,\n",
       "  'epoch': 4.52,\n",
       "  'step': 95},\n",
       " {'loss': 1.797,\n",
       "  'learning_rate': 5.725714285714286e-05,\n",
       "  'epoch': 4.57,\n",
       "  'step': 96},\n",
       " {'loss': 1.6064,\n",
       "  'learning_rate': 5.722857142857143e-05,\n",
       "  'epoch': 4.62,\n",
       "  'step': 97},\n",
       " {'loss': 1.5118, 'learning_rate': 5.72e-05, 'epoch': 4.67, 'step': 98},\n",
       " {'loss': 1.5151,\n",
       "  'learning_rate': 5.7171428571428575e-05,\n",
       "  'epoch': 4.71,\n",
       "  'step': 99},\n",
       " {'loss': 1.5248,\n",
       "  'learning_rate': 5.714285714285714e-05,\n",
       "  'epoch': 4.76,\n",
       "  'step': 100},\n",
       " {'eval_loss': 1.321544885635376,\n",
       "  'eval_mean_iou': 0.7739407485810041,\n",
       "  'eval_mean_accuracy': 0.9623270041340075,\n",
       "  'eval_overall_accuracy': 0.983968312280114,\n",
       "  'eval_per_category_iou': [0.9836284454935368,\n",
       "   0.5642530516684714,\n",
       "   nan,\n",
       "   nan,\n",
       "   nan,\n",
       "   nan,\n",
       "   nan,\n",
       "   nan,\n",
       "   nan,\n",
       "   nan,\n",
       "   nan,\n",
       "   nan,\n",
       "   nan,\n",
       "   nan,\n",
       "   nan,\n",
       "   nan,\n",
       "   nan,\n",
       "   nan,\n",
       "   nan],\n",
       "  'eval_per_category_accuracy': [0.9849687168072574,\n",
       "   0.9396852914607577,\n",
       "   nan,\n",
       "   nan,\n",
       "   nan,\n",
       "   nan,\n",
       "   nan,\n",
       "   nan,\n",
       "   nan,\n",
       "   nan,\n",
       "   nan,\n",
       "   nan,\n",
       "   nan,\n",
       "   nan,\n",
       "   nan,\n",
       "   nan,\n",
       "   nan,\n",
       "   nan,\n",
       "   nan],\n",
       "  'eval_runtime': 70.8561,\n",
       "  'eval_samples_per_second': 0.734,\n",
       "  'eval_steps_per_second': 0.155,\n",
       "  'epoch': 4.76,\n",
       "  'step': 100},\n",
       " {'loss': 1.6058,\n",
       "  'learning_rate': 5.7114285714285715e-05,\n",
       "  'epoch': 4.81,\n",
       "  'step': 101},\n",
       " {'loss': 1.5208,\n",
       "  'learning_rate': 5.708571428571428e-05,\n",
       "  'epoch': 4.86,\n",
       "  'step': 102},\n",
       " {'loss': 1.6081,\n",
       "  'learning_rate': 5.705714285714286e-05,\n",
       "  'epoch': 4.9,\n",
       "  'step': 103},\n",
       " {'loss': 1.7265,\n",
       "  'learning_rate': 5.702857142857143e-05,\n",
       "  'epoch': 4.95,\n",
       "  'step': 104},\n",
       " {'loss': 1.5541,\n",
       "  'learning_rate': 5.6999999999999996e-05,\n",
       "  'epoch': 5.0,\n",
       "  'step': 105},\n",
       " {'loss': 1.6726,\n",
       "  'learning_rate': 5.697142857142858e-05,\n",
       "  'epoch': 5.05,\n",
       "  'step': 106},\n",
       " {'loss': 1.3932,\n",
       "  'learning_rate': 5.6942857142857144e-05,\n",
       "  'epoch': 5.1,\n",
       "  'step': 107},\n",
       " {'loss': 1.5746,\n",
       "  'learning_rate': 5.691428571428572e-05,\n",
       "  'epoch': 5.14,\n",
       "  'step': 108},\n",
       " {'loss': 1.5263,\n",
       "  'learning_rate': 5.688571428571429e-05,\n",
       "  'epoch': 5.19,\n",
       "  'step': 109},\n",
       " {'loss': 1.4448,\n",
       "  'learning_rate': 5.685714285714286e-05,\n",
       "  'epoch': 5.24,\n",
       "  'step': 110},\n",
       " {'loss': 1.4499,\n",
       "  'learning_rate': 5.682857142857143e-05,\n",
       "  'epoch': 5.29,\n",
       "  'step': 111},\n",
       " {'loss': 1.7086, 'learning_rate': 5.68e-05, 'epoch': 5.33, 'step': 112},\n",
       " {'loss': 1.5244,\n",
       "  'learning_rate': 5.677142857142857e-05,\n",
       "  'epoch': 5.38,\n",
       "  'step': 113},\n",
       " {'loss': 1.4253,\n",
       "  'learning_rate': 5.6742857142857146e-05,\n",
       "  'epoch': 5.43,\n",
       "  'step': 114},\n",
       " {'loss': 1.423,\n",
       "  'learning_rate': 5.671428571428571e-05,\n",
       "  'epoch': 5.48,\n",
       "  'step': 115},\n",
       " {'loss': 1.6995,\n",
       "  'learning_rate': 5.668571428571429e-05,\n",
       "  'epoch': 5.52,\n",
       "  'step': 116},\n",
       " {'loss': 1.3896,\n",
       "  'learning_rate': 5.665714285714286e-05,\n",
       "  'epoch': 5.57,\n",
       "  'step': 117},\n",
       " {'loss': 1.3894,\n",
       "  'learning_rate': 5.6628571428571427e-05,\n",
       "  'epoch': 5.62,\n",
       "  'step': 118},\n",
       " {'loss': 1.419, 'learning_rate': 5.66e-05, 'epoch': 5.67, 'step': 119},\n",
       " {'loss': 1.6091,\n",
       "  'learning_rate': 5.6571428571428574e-05,\n",
       "  'epoch': 5.71,\n",
       "  'step': 120},\n",
       " {'eval_loss': 1.1587809324264526,\n",
       "  'eval_mean_iou': 0.7978015752186511,\n",
       "  'eval_mean_accuracy': 0.9203323812248949,\n",
       "  'eval_overall_accuracy': 0.9878949400003977,\n",
       "  'eval_per_category_iou': [0.987663375997996,\n",
       "   0.6079397744393064,\n",
       "   nan,\n",
       "   nan,\n",
       "   nan,\n",
       "   nan,\n",
       "   nan,\n",
       "   nan,\n",
       "   nan,\n",
       "   nan,\n",
       "   nan,\n",
       "   nan,\n",
       "   nan,\n",
       "   nan,\n",
       "   nan,\n",
       "   nan,\n",
       "   nan,\n",
       "   nan,\n",
       "   nan],\n",
       "  'eval_per_category_accuracy': [0.9910181287285506,\n",
       "   0.8496466337212392,\n",
       "   nan,\n",
       "   nan,\n",
       "   nan,\n",
       "   nan,\n",
       "   nan,\n",
       "   nan,\n",
       "   nan,\n",
       "   nan,\n",
       "   nan,\n",
       "   nan,\n",
       "   nan,\n",
       "   nan,\n",
       "   nan,\n",
       "   nan,\n",
       "   nan,\n",
       "   nan,\n",
       "   nan],\n",
       "  'eval_runtime': 70.6484,\n",
       "  'eval_samples_per_second': 0.736,\n",
       "  'eval_steps_per_second': 0.156,\n",
       "  'epoch': 5.71,\n",
       "  'step': 120},\n",
       " {'loss': 1.4053,\n",
       "  'learning_rate': 5.654285714285715e-05,\n",
       "  'epoch': 5.76,\n",
       "  'step': 121},\n",
       " {'loss': 1.4424,\n",
       "  'learning_rate': 5.6514285714285714e-05,\n",
       "  'epoch': 5.81,\n",
       "  'step': 122},\n",
       " {'loss': 1.4232,\n",
       "  'learning_rate': 5.648571428571429e-05,\n",
       "  'epoch': 5.86,\n",
       "  'step': 123},\n",
       " {'loss': 1.308,\n",
       "  'learning_rate': 5.645714285714286e-05,\n",
       "  'epoch': 5.9,\n",
       "  'step': 124},\n",
       " {'loss': 1.2929,\n",
       "  'learning_rate': 5.642857142857143e-05,\n",
       "  'epoch': 5.95,\n",
       "  'step': 125},\n",
       " {'loss': 1.3323,\n",
       "  'learning_rate': 5.6399999999999995e-05,\n",
       "  'epoch': 6.0,\n",
       "  'step': 126},\n",
       " {'loss': 1.269,\n",
       "  'learning_rate': 5.6371428571428576e-05,\n",
       "  'epoch': 6.05,\n",
       "  'step': 127},\n",
       " {'loss': 1.6445,\n",
       "  'learning_rate': 5.634285714285714e-05,\n",
       "  'epoch': 6.1,\n",
       "  'step': 128},\n",
       " {'loss': 1.3371,\n",
       "  'learning_rate': 5.6314285714285716e-05,\n",
       "  'epoch': 6.14,\n",
       "  'step': 129},\n",
       " {'loss': 1.5141,\n",
       "  'learning_rate': 5.628571428571429e-05,\n",
       "  'epoch': 6.19,\n",
       "  'step': 130},\n",
       " {'loss': 1.3095,\n",
       "  'learning_rate': 5.625714285714286e-05,\n",
       "  'epoch': 6.24,\n",
       "  'step': 131},\n",
       " {'loss': 1.2621,\n",
       "  'learning_rate': 5.622857142857143e-05,\n",
       "  'epoch': 6.29,\n",
       "  'step': 132},\n",
       " {'loss': 1.2802, 'learning_rate': 5.62e-05, 'epoch': 6.33, 'step': 133},\n",
       " {'loss': 1.28,\n",
       "  'learning_rate': 5.617142857142858e-05,\n",
       "  'epoch': 6.38,\n",
       "  'step': 134},\n",
       " {'loss': 1.6089,\n",
       "  'learning_rate': 5.6142857142857145e-05,\n",
       "  'epoch': 6.43,\n",
       "  'step': 135},\n",
       " {'loss': 1.7525,\n",
       "  'learning_rate': 5.611428571428571e-05,\n",
       "  'epoch': 6.48,\n",
       "  'step': 136},\n",
       " {'loss': 1.2703,\n",
       "  'learning_rate': 5.608571428571429e-05,\n",
       "  'epoch': 6.52,\n",
       "  'step': 137},\n",
       " {'loss': 1.3321,\n",
       "  'learning_rate': 5.605714285714286e-05,\n",
       "  'epoch': 6.57,\n",
       "  'step': 138},\n",
       " {'loss': 1.3778,\n",
       "  'learning_rate': 5.6028571428571426e-05,\n",
       "  'epoch': 6.62,\n",
       "  'step': 139},\n",
       " {'loss': 1.5602, 'learning_rate': 5.6e-05, 'epoch': 6.67, 'step': 140},\n",
       " {'eval_loss': 1.0997178554534912,\n",
       "  'eval_mean_iou': 0.7792102808260689,\n",
       "  'eval_mean_accuracy': 0.8665859889848122,\n",
       "  'eval_overall_accuracy': 0.9877152563185154,\n",
       "  'eval_per_category_iou': [0.9875111259394813,\n",
       "   0.5709094357126565,\n",
       "   nan,\n",
       "   nan,\n",
       "   nan,\n",
       "   nan,\n",
       "   nan,\n",
       "   nan,\n",
       "   nan,\n",
       "   nan,\n",
       "   nan,\n",
       "   nan,\n",
       "   nan,\n",
       "   nan,\n",
       "   nan,\n",
       "   nan,\n",
       "   nan,\n",
       "   nan,\n",
       "   nan],\n",
       "  'eval_per_category_accuracy': [0.9933146529257856,\n",
       "   0.7398573250438387,\n",
       "   nan,\n",
       "   nan,\n",
       "   nan,\n",
       "   nan,\n",
       "   nan,\n",
       "   nan,\n",
       "   nan,\n",
       "   nan,\n",
       "   nan,\n",
       "   nan,\n",
       "   nan,\n",
       "   nan,\n",
       "   nan,\n",
       "   nan,\n",
       "   nan,\n",
       "   nan,\n",
       "   nan],\n",
       "  'eval_runtime': 71.0074,\n",
       "  'eval_samples_per_second': 0.732,\n",
       "  'eval_steps_per_second': 0.155,\n",
       "  'epoch': 6.67,\n",
       "  'step': 140},\n",
       " {'loss': 1.2574,\n",
       "  'learning_rate': 5.597142857142857e-05,\n",
       "  'epoch': 6.71,\n",
       "  'step': 141},\n",
       " {'loss': 1.4156,\n",
       "  'learning_rate': 5.5942857142857146e-05,\n",
       "  'epoch': 6.76,\n",
       "  'step': 142},\n",
       " {'loss': 1.1798,\n",
       "  'learning_rate': 5.591428571428571e-05,\n",
       "  'epoch': 6.81,\n",
       "  'step': 143},\n",
       " {'loss': 1.5924,\n",
       "  'learning_rate': 5.588571428571429e-05,\n",
       "  'epoch': 6.86,\n",
       "  'step': 144},\n",
       " {'loss': 1.3516,\n",
       "  'learning_rate': 5.585714285714286e-05,\n",
       "  'epoch': 6.9,\n",
       "  'step': 145},\n",
       " {'loss': 1.5649,\n",
       "  'learning_rate': 5.582857142857143e-05,\n",
       "  'epoch': 6.95,\n",
       "  'step': 146},\n",
       " {'loss': 1.1644, 'learning_rate': 5.58e-05, 'epoch': 7.0, 'step': 147},\n",
       " {'loss': 1.5435,\n",
       "  'learning_rate': 5.5771428571428575e-05,\n",
       "  'epoch': 7.05,\n",
       "  'step': 148},\n",
       " {'loss': 1.2047,\n",
       "  'learning_rate': 5.574285714285714e-05,\n",
       "  'epoch': 7.1,\n",
       "  'step': 149},\n",
       " {'loss': 1.2756,\n",
       "  'learning_rate': 5.5714285714285715e-05,\n",
       "  'epoch': 7.14,\n",
       "  'step': 150},\n",
       " {'loss': 1.1346,\n",
       "  'learning_rate': 5.568571428571429e-05,\n",
       "  'epoch': 7.19,\n",
       "  'step': 151},\n",
       " {'loss': 1.1223,\n",
       "  'learning_rate': 5.5657142857142856e-05,\n",
       "  'epoch': 7.24,\n",
       "  'step': 152},\n",
       " {'loss': 1.5979,\n",
       "  'learning_rate': 5.562857142857143e-05,\n",
       "  'epoch': 7.29,\n",
       "  'step': 153},\n",
       " {'loss': 1.1496, 'learning_rate': 5.56e-05, 'epoch': 7.33, 'step': 154},\n",
       " {'loss': 1.5809,\n",
       "  'learning_rate': 5.557142857142858e-05,\n",
       "  'epoch': 7.38,\n",
       "  'step': 155},\n",
       " {'loss': 1.2999,\n",
       "  'learning_rate': 5.5542857142857143e-05,\n",
       "  'epoch': 7.43,\n",
       "  'step': 156},\n",
       " {'loss': 1.1268,\n",
       "  'learning_rate': 5.551428571428571e-05,\n",
       "  'epoch': 7.48,\n",
       "  'step': 157},\n",
       " {'loss': 1.1617,\n",
       "  'learning_rate': 5.548571428571429e-05,\n",
       "  'epoch': 7.52,\n",
       "  'step': 158},\n",
       " {'loss': 1.3773,\n",
       "  'learning_rate': 5.545714285714286e-05,\n",
       "  'epoch': 7.57,\n",
       "  'step': 159},\n",
       " {'loss': 1.311,\n",
       "  'learning_rate': 5.542857142857143e-05,\n",
       "  'epoch': 7.62,\n",
       "  'step': 160},\n",
       " {'eval_loss': 0.8032144904136658,\n",
       "  'eval_mean_iou': 0.8119923461508514,\n",
       "  'eval_mean_accuracy': 0.9737845193753089,\n",
       "  'eval_overall_accuracy': 0.9878927388936372,\n",
       "  'eval_per_category_iou': [0.987630672089354,\n",
       "   0.6363540202123487,\n",
       "   nan,\n",
       "   nan,\n",
       "   nan,\n",
       "   nan,\n",
       "   nan,\n",
       "   nan,\n",
       "   nan,\n",
       "   nan,\n",
       "   nan,\n",
       "   nan,\n",
       "   nan,\n",
       "   nan,\n",
       "   nan,\n",
       "   nan,\n",
       "   nan,\n",
       "   nan,\n",
       "   nan],\n",
       "  'eval_per_category_accuracy': [0.9885449141956467,\n",
       "   0.959024124554971,\n",
       "   nan,\n",
       "   nan,\n",
       "   nan,\n",
       "   nan,\n",
       "   nan,\n",
       "   nan,\n",
       "   nan,\n",
       "   nan,\n",
       "   nan,\n",
       "   nan,\n",
       "   nan,\n",
       "   nan,\n",
       "   nan,\n",
       "   nan,\n",
       "   nan,\n",
       "   nan,\n",
       "   nan],\n",
       "  'eval_runtime': 70.9762,\n",
       "  'eval_samples_per_second': 0.733,\n",
       "  'eval_steps_per_second': 0.155,\n",
       "  'epoch': 7.62,\n",
       "  'step': 160},\n",
       " {'loss': 1.2195,\n",
       "  'learning_rate': 5.5400000000000005e-05,\n",
       "  'epoch': 7.67,\n",
       "  'step': 161},\n",
       " {'loss': 1.2499,\n",
       "  'learning_rate': 5.537142857142857e-05,\n",
       "  'epoch': 7.71,\n",
       "  'step': 162},\n",
       " {'loss': 1.059,\n",
       "  'learning_rate': 5.5342857142857145e-05,\n",
       "  'epoch': 7.76,\n",
       "  'step': 163},\n",
       " {'loss': 1.5579,\n",
       "  'learning_rate': 5.531428571428571e-05,\n",
       "  'epoch': 7.81,\n",
       "  'step': 164},\n",
       " {'loss': 1.5471,\n",
       "  'learning_rate': 5.5285714285714286e-05,\n",
       "  'epoch': 7.86,\n",
       "  'step': 165},\n",
       " {'loss': 1.437,\n",
       "  'learning_rate': 5.525714285714286e-05,\n",
       "  'epoch': 7.9,\n",
       "  'step': 166},\n",
       " {'loss': 1.0974,\n",
       "  'learning_rate': 5.5228571428571426e-05,\n",
       "  'epoch': 7.95,\n",
       "  'step': 167},\n",
       " {'loss': 1.1399,\n",
       "  'learning_rate': 5.520000000000001e-05,\n",
       "  'epoch': 8.0,\n",
       "  'step': 168},\n",
       " {'loss': 1.1489,\n",
       "  'learning_rate': 5.5171428571428574e-05,\n",
       "  'epoch': 8.05,\n",
       "  'step': 169},\n",
       " {'loss': 1.2049,\n",
       "  'learning_rate': 5.514285714285714e-05,\n",
       "  'epoch': 8.1,\n",
       "  'step': 170},\n",
       " {'loss': 1.1361,\n",
       "  'learning_rate': 5.5114285714285714e-05,\n",
       "  'epoch': 8.14,\n",
       "  'step': 171},\n",
       " {'loss': 1.3935,\n",
       "  'learning_rate': 5.508571428571429e-05,\n",
       "  'epoch': 8.19,\n",
       "  'step': 172},\n",
       " {'loss': 1.4653,\n",
       "  'learning_rate': 5.505714285714286e-05,\n",
       "  'epoch': 8.24,\n",
       "  'step': 173},\n",
       " {'loss': 1.043,\n",
       "  'learning_rate': 5.502857142857143e-05,\n",
       "  'epoch': 8.29,\n",
       "  'step': 174},\n",
       " {'loss': 1.0365, 'learning_rate': 5.5e-05, 'epoch': 8.33, 'step': 175},\n",
       " {'loss': 1.0501,\n",
       "  'learning_rate': 5.4971428571428576e-05,\n",
       "  'epoch': 8.38,\n",
       "  'step': 176},\n",
       " {'loss': 1.0176,\n",
       "  'learning_rate': 5.494285714285714e-05,\n",
       "  'epoch': 8.43,\n",
       "  'step': 177},\n",
       " {'loss': 1.2847,\n",
       "  'learning_rate': 5.491428571428571e-05,\n",
       "  'epoch': 8.48,\n",
       "  'step': 178},\n",
       " {'loss': 1.0729,\n",
       "  'learning_rate': 5.488571428571429e-05,\n",
       "  'epoch': 8.52,\n",
       "  'step': 179},\n",
       " {'loss': 1.2954,\n",
       "  'learning_rate': 5.4857142857142857e-05,\n",
       "  'epoch': 8.57,\n",
       "  'step': 180},\n",
       " {'eval_loss': 1.0249230861663818,\n",
       "  'eval_mean_iou': 0.8004607179626239,\n",
       "  'eval_mean_accuracy': 0.973033449445607,\n",
       "  'eval_overall_accuracy': 0.9867126521891071,\n",
       "  'eval_per_category_iou': [0.9864251345043548,\n",
       "   0.614496301420893,\n",
       "   nan,\n",
       "   nan,\n",
       "   nan,\n",
       "   nan,\n",
       "   nan,\n",
       "   nan,\n",
       "   nan,\n",
       "   nan,\n",
       "   nan,\n",
       "   nan,\n",
       "   nan,\n",
       "   nan,\n",
       "   nan,\n",
       "   nan,\n",
       "   nan,\n",
       "   nan,\n",
       "   nan],\n",
       "  'eval_per_category_accuracy': [0.9873449954957094,\n",
       "   0.9587219033955046,\n",
       "   nan,\n",
       "   nan,\n",
       "   nan,\n",
       "   nan,\n",
       "   nan,\n",
       "   nan,\n",
       "   nan,\n",
       "   nan,\n",
       "   nan,\n",
       "   nan,\n",
       "   nan,\n",
       "   nan,\n",
       "   nan,\n",
       "   nan,\n",
       "   nan,\n",
       "   nan,\n",
       "   nan],\n",
       "  'eval_runtime': 71.2919,\n",
       "  'eval_samples_per_second': 0.729,\n",
       "  'eval_steps_per_second': 0.154,\n",
       "  'epoch': 8.57,\n",
       "  'step': 180},\n",
       " {'loss': 1.2208,\n",
       "  'learning_rate': 5.482857142857143e-05,\n",
       "  'epoch': 8.62,\n",
       "  'step': 181},\n",
       " {'loss': 1.5353,\n",
       "  'learning_rate': 5.4800000000000004e-05,\n",
       "  'epoch': 8.67,\n",
       "  'step': 182},\n",
       " {'loss': 1.2007,\n",
       "  'learning_rate': 5.477142857142857e-05,\n",
       "  'epoch': 8.71,\n",
       "  'step': 183},\n",
       " {'loss': 1.424,\n",
       "  'learning_rate': 5.4742857142857144e-05,\n",
       "  'epoch': 8.76,\n",
       "  'step': 184},\n",
       " {'loss': 0.9698,\n",
       "  'learning_rate': 5.471428571428571e-05,\n",
       "  'epoch': 8.81,\n",
       "  'step': 185},\n",
       " {'loss': 1.4785,\n",
       "  'learning_rate': 5.468571428571429e-05,\n",
       "  'epoch': 8.86,\n",
       "  'step': 186},\n",
       " {'loss': 1.3302,\n",
       "  'learning_rate': 5.465714285714286e-05,\n",
       "  'epoch': 8.9,\n",
       "  'step': 187},\n",
       " {'loss': 1.2938,\n",
       "  'learning_rate': 5.4628571428571425e-05,\n",
       "  'epoch': 8.95,\n",
       "  'step': 188},\n",
       " {'loss': 1.2428,\n",
       "  'learning_rate': 5.4600000000000006e-05,\n",
       "  'epoch': 9.0,\n",
       "  'step': 189},\n",
       " {'loss': 1.0511,\n",
       "  'learning_rate': 5.457142857142857e-05,\n",
       "  'epoch': 9.05,\n",
       "  'step': 190},\n",
       " {'loss': 0.9421,\n",
       "  'learning_rate': 5.454285714285714e-05,\n",
       "  'epoch': 9.1,\n",
       "  'step': 191},\n",
       " {'loss': 1.0138,\n",
       "  'learning_rate': 5.451428571428571e-05,\n",
       "  'epoch': 9.14,\n",
       "  'step': 192},\n",
       " {'loss': 1.079,\n",
       "  'learning_rate': 5.448571428571429e-05,\n",
       "  'epoch': 9.19,\n",
       "  'step': 193},\n",
       " {'loss': 1.385,\n",
       "  'learning_rate': 5.445714285714286e-05,\n",
       "  'epoch': 9.24,\n",
       "  'step': 194},\n",
       " {'loss': 1.2958,\n",
       "  'learning_rate': 5.442857142857143e-05,\n",
       "  'epoch': 9.29,\n",
       "  'step': 195},\n",
       " {'loss': 0.9404, 'learning_rate': 5.44e-05, 'epoch': 9.33, 'step': 196},\n",
       " {'loss': 1.379,\n",
       "  'learning_rate': 5.4371428571428575e-05,\n",
       "  'epoch': 9.38,\n",
       "  'step': 197},\n",
       " {'loss': 1.0319,\n",
       "  'learning_rate': 5.434285714285714e-05,\n",
       "  'epoch': 9.43,\n",
       "  'step': 198},\n",
       " {'loss': 0.9563,\n",
       "  'learning_rate': 5.431428571428572e-05,\n",
       "  'epoch': 9.48,\n",
       "  'step': 199},\n",
       " {'loss': 1.1238,\n",
       "  'learning_rate': 5.428571428571429e-05,\n",
       "  'epoch': 9.52,\n",
       "  'step': 200},\n",
       " {'eval_loss': 0.7726567983627319,\n",
       "  'eval_mean_iou': 0.8505445844645404,\n",
       "  'eval_mean_accuracy': 0.9681407780797437,\n",
       "  'eval_overall_accuracy': 0.9914757738486065,\n",
       "  'eval_per_category_iou': [0.9912942690812011,\n",
       "   0.7097948998478797,\n",
       "   nan,\n",
       "   nan,\n",
       "   nan,\n",
       "   nan,\n",
       "   nan,\n",
       "   nan,\n",
       "   nan,\n",
       "   nan,\n",
       "   nan,\n",
       "   nan,\n",
       "   nan,\n",
       "   nan,\n",
       "   nan,\n",
       "   nan,\n",
       "   nan,\n",
       "   nan,\n",
       "   nan],\n",
       "  'eval_per_category_accuracy': [0.9925544718298208,\n",
       "   0.9437270843296668,\n",
       "   nan,\n",
       "   nan,\n",
       "   nan,\n",
       "   nan,\n",
       "   nan,\n",
       "   nan,\n",
       "   nan,\n",
       "   nan,\n",
       "   nan,\n",
       "   nan,\n",
       "   nan,\n",
       "   nan,\n",
       "   nan,\n",
       "   nan,\n",
       "   nan,\n",
       "   nan,\n",
       "   nan],\n",
       "  'eval_runtime': 70.7792,\n",
       "  'eval_samples_per_second': 0.735,\n",
       "  'eval_steps_per_second': 0.155,\n",
       "  'epoch': 9.52,\n",
       "  'step': 200},\n",
       " {'loss': 1.366,\n",
       "  'learning_rate': 5.4257142857142856e-05,\n",
       "  'epoch': 9.57,\n",
       "  'step': 201},\n",
       " {'loss': 1.3753,\n",
       "  'learning_rate': 5.422857142857143e-05,\n",
       "  'epoch': 9.62,\n",
       "  'step': 202},\n",
       " {'loss': 0.8274, 'learning_rate': 5.42e-05, 'epoch': 9.67, 'step': 203},\n",
       " {'loss': 1.2322,\n",
       "  'learning_rate': 5.417142857142857e-05,\n",
       "  'epoch': 9.71,\n",
       "  'step': 204},\n",
       " {'loss': 0.8985,\n",
       "  'learning_rate': 5.414285714285714e-05,\n",
       "  'epoch': 9.76,\n",
       "  'step': 205},\n",
       " {'loss': 1.3347,\n",
       "  'learning_rate': 5.411428571428572e-05,\n",
       "  'epoch': 9.81,\n",
       "  'step': 206},\n",
       " {'loss': 1.115,\n",
       "  'learning_rate': 5.408571428571429e-05,\n",
       "  'epoch': 9.86,\n",
       "  'step': 207},\n",
       " {'loss': 0.9934,\n",
       "  'learning_rate': 5.405714285714286e-05,\n",
       "  'epoch': 9.9,\n",
       "  'step': 208},\n",
       " {'loss': 0.8668,\n",
       "  'learning_rate': 5.4028571428571424e-05,\n",
       "  'epoch': 9.95,\n",
       "  'step': 209},\n",
       " {'loss': 0.9773,\n",
       "  'learning_rate': 5.4000000000000005e-05,\n",
       "  'epoch': 10.0,\n",
       "  'step': 210},\n",
       " {'loss': 1.3173,\n",
       "  'learning_rate': 5.397142857142857e-05,\n",
       "  'epoch': 10.05,\n",
       "  'step': 211},\n",
       " {'loss': 1.2625,\n",
       "  'learning_rate': 5.3942857142857145e-05,\n",
       "  'epoch': 10.1,\n",
       "  'step': 212},\n",
       " {'loss': 0.7729,\n",
       "  'learning_rate': 5.391428571428572e-05,\n",
       "  'epoch': 10.14,\n",
       "  'step': 213},\n",
       " {'loss': 0.9666,\n",
       "  'learning_rate': 5.3885714285714286e-05,\n",
       "  'epoch': 10.19,\n",
       "  'step': 214},\n",
       " {'loss': 1.4636,\n",
       "  'learning_rate': 5.385714285714286e-05,\n",
       "  'epoch': 10.24,\n",
       "  'step': 215},\n",
       " {'loss': 1.437,\n",
       "  'learning_rate': 5.3828571428571426e-05,\n",
       "  'epoch': 10.29,\n",
       "  'step': 216},\n",
       " {'loss': 1.4633, 'learning_rate': 5.38e-05, 'epoch': 10.33, 'step': 217},\n",
       " {'loss': 0.9236,\n",
       "  'learning_rate': 5.3771428571428574e-05,\n",
       "  'epoch': 10.38,\n",
       "  'step': 218},\n",
       " {'loss': 0.9054,\n",
       "  'learning_rate': 5.374285714285714e-05,\n",
       "  'epoch': 10.43,\n",
       "  'step': 219},\n",
       " {'loss': 1.3493,\n",
       "  'learning_rate': 5.371428571428572e-05,\n",
       "  'epoch': 10.48,\n",
       "  'step': 220},\n",
       " {'eval_loss': 1.0935969352722168,\n",
       "  'eval_mean_iou': 0.7903078674376159,\n",
       "  'eval_mean_accuracy': 0.8828983633869292,\n",
       "  'eval_overall_accuracy': 0.9882628183103028,\n",
       "  'eval_per_category_iou': [0.9880589884715479,\n",
       "   0.5925567464036839,\n",
       "   nan,\n",
       "   nan,\n",
       "   nan,\n",
       "   nan,\n",
       "   nan,\n",
       "   nan,\n",
       "   nan,\n",
       "   nan,\n",
       "   nan,\n",
       "   nan,\n",
       "   nan,\n",
       "   nan,\n",
       "   nan,\n",
       "   nan,\n",
       "   nan,\n",
       "   nan,\n",
       "   nan],\n",
       "  'eval_per_category_accuracy': [0.9931334609255137,\n",
       "   0.7726632658483448,\n",
       "   nan,\n",
       "   nan,\n",
       "   nan,\n",
       "   nan,\n",
       "   nan,\n",
       "   nan,\n",
       "   nan,\n",
       "   nan,\n",
       "   nan,\n",
       "   nan,\n",
       "   nan,\n",
       "   nan,\n",
       "   nan,\n",
       "   nan,\n",
       "   nan,\n",
       "   nan,\n",
       "   nan],\n",
       "  'eval_runtime': 71.373,\n",
       "  'eval_samples_per_second': 0.729,\n",
       "  'eval_steps_per_second': 0.154,\n",
       "  'epoch': 10.48,\n",
       "  'step': 220},\n",
       " {'loss': 0.833,\n",
       "  'learning_rate': 5.368571428571429e-05,\n",
       "  'epoch': 10.52,\n",
       "  'step': 221},\n",
       " {'loss': 1.1005,\n",
       "  'learning_rate': 5.3657142857142855e-05,\n",
       "  'epoch': 10.57,\n",
       "  'step': 222},\n",
       " {'loss': 1.2618,\n",
       "  'learning_rate': 5.362857142857143e-05,\n",
       "  'epoch': 10.62,\n",
       "  'step': 223},\n",
       " {'loss': 1.4112, 'learning_rate': 5.36e-05, 'epoch': 10.67, 'step': 224},\n",
       " {'loss': 0.8622,\n",
       "  'learning_rate': 5.3571428571428575e-05,\n",
       "  'epoch': 10.71,\n",
       "  'step': 225},\n",
       " {'loss': 1.3726,\n",
       "  'learning_rate': 5.354285714285714e-05,\n",
       "  'epoch': 10.76,\n",
       "  'step': 226},\n",
       " {'loss': 0.8368,\n",
       "  'learning_rate': 5.3514285714285716e-05,\n",
       "  'epoch': 10.81,\n",
       "  'step': 227},\n",
       " {'loss': 1.1688,\n",
       "  'learning_rate': 5.348571428571429e-05,\n",
       "  'epoch': 10.86,\n",
       "  'step': 228},\n",
       " {'loss': 1.3174,\n",
       "  'learning_rate': 5.3457142857142856e-05,\n",
       "  'epoch': 10.9,\n",
       "  'step': 229},\n",
       " {'loss': 1.2841,\n",
       "  'learning_rate': 5.342857142857142e-05,\n",
       "  'epoch': 10.95,\n",
       "  'step': 230},\n",
       " {'loss': 1.2265,\n",
       "  'learning_rate': 5.3400000000000004e-05,\n",
       "  'epoch': 11.0,\n",
       "  'step': 231},\n",
       " {'loss': 1.3698,\n",
       "  'learning_rate': 5.337142857142857e-05,\n",
       "  'epoch': 11.05,\n",
       "  'step': 232},\n",
       " {'loss': 1.1211,\n",
       "  'learning_rate': 5.3342857142857144e-05,\n",
       "  'epoch': 11.1,\n",
       "  'step': 233},\n",
       " {'loss': 1.3101,\n",
       "  'learning_rate': 5.331428571428572e-05,\n",
       "  'epoch': 11.14,\n",
       "  'step': 234},\n",
       " {'loss': 1.0829,\n",
       "  'learning_rate': 5.3285714285714285e-05,\n",
       "  'epoch': 11.19,\n",
       "  'step': 235},\n",
       " {'loss': 1.5196,\n",
       "  'learning_rate': 5.325714285714286e-05,\n",
       "  'epoch': 11.24,\n",
       "  'step': 236},\n",
       " {'loss': 1.0569,\n",
       "  'learning_rate': 5.322857142857143e-05,\n",
       "  'epoch': 11.29,\n",
       "  'step': 237},\n",
       " {'loss': 1.0777,\n",
       "  'learning_rate': 5.3200000000000006e-05,\n",
       "  'epoch': 11.33,\n",
       "  'step': 238},\n",
       " {'loss': 1.0675,\n",
       "  'learning_rate': 5.317142857142857e-05,\n",
       "  'epoch': 11.38,\n",
       "  'step': 239},\n",
       " {'loss': 1.207,\n",
       "  'learning_rate': 5.314285714285714e-05,\n",
       "  'epoch': 11.43,\n",
       "  'step': 240},\n",
       " {'eval_loss': 0.9803251028060913,\n",
       "  'eval_mean_iou': 0.8190046248562095,\n",
       "  'eval_mean_accuracy': 0.9631011793752456,\n",
       "  'eval_overall_accuracy': 0.9888345924764557,\n",
       "  'eval_per_category_iou': [0.9885987913950203,\n",
       "   0.6494104583173987,\n",
       "   nan,\n",
       "   nan,\n",
       "   nan,\n",
       "   nan,\n",
       "   nan,\n",
       "   nan,\n",
       "   nan,\n",
       "   nan,\n",
       "   nan,\n",
       "   nan,\n",
       "   nan,\n",
       "   nan,\n",
       "   nan,\n",
       "   nan,\n",
       "   nan,\n",
       "   nan,\n",
       "   nan],\n",
       "  'eval_per_category_accuracy': [0.9900241611842019,\n",
       "   0.9361781975662894,\n",
       "   nan,\n",
       "   nan,\n",
       "   nan,\n",
       "   nan,\n",
       "   nan,\n",
       "   nan,\n",
       "   nan,\n",
       "   nan,\n",
       "   nan,\n",
       "   nan,\n",
       "   nan,\n",
       "   nan,\n",
       "   nan,\n",
       "   nan,\n",
       "   nan,\n",
       "   nan,\n",
       "   nan],\n",
       "  'eval_runtime': 70.8114,\n",
       "  'eval_samples_per_second': 0.734,\n",
       "  'eval_steps_per_second': 0.155,\n",
       "  'epoch': 11.43,\n",
       "  'step': 240},\n",
       " {'loss': 1.0137,\n",
       "  'learning_rate': 5.311428571428572e-05,\n",
       "  'epoch': 11.48,\n",
       "  'step': 241},\n",
       " {'loss': 1.0007,\n",
       "  'learning_rate': 5.308571428571429e-05,\n",
       "  'epoch': 11.52,\n",
       "  'step': 242},\n",
       " {'loss': 0.7437,\n",
       "  'learning_rate': 5.3057142857142854e-05,\n",
       "  'epoch': 11.57,\n",
       "  'step': 243},\n",
       " {'loss': 0.8056,\n",
       "  'learning_rate': 5.3028571428571434e-05,\n",
       "  'epoch': 11.62,\n",
       "  'step': 244},\n",
       " {'loss': 0.9539, 'learning_rate': 5.3e-05, 'epoch': 11.67, 'step': 245},\n",
       " {'loss': 1.0698,\n",
       "  'learning_rate': 5.2971428571428574e-05,\n",
       "  'epoch': 11.71,\n",
       "  'step': 246},\n",
       " {'loss': 0.9926,\n",
       "  'learning_rate': 5.294285714285714e-05,\n",
       "  'epoch': 11.76,\n",
       "  'step': 247},\n",
       " {'loss': 1.0597,\n",
       "  'learning_rate': 5.2914285714285715e-05,\n",
       "  'epoch': 11.81,\n",
       "  'step': 248},\n",
       " {'loss': 1.2113,\n",
       "  'learning_rate': 5.288571428571429e-05,\n",
       "  'epoch': 11.86,\n",
       "  'step': 249},\n",
       " {'loss': 1.1713,\n",
       "  'learning_rate': 5.2857142857142855e-05,\n",
       "  'epoch': 11.9,\n",
       "  'step': 250},\n",
       " {'loss': 0.7572,\n",
       "  'learning_rate': 5.2828571428571436e-05,\n",
       "  'epoch': 11.95,\n",
       "  'step': 251},\n",
       " {'loss': 1.1978, 'learning_rate': 5.28e-05, 'epoch': 12.0, 'step': 252},\n",
       " {'loss': 0.7924,\n",
       "  'learning_rate': 5.277142857142857e-05,\n",
       "  'epoch': 12.05,\n",
       "  'step': 253},\n",
       " {'loss': 1.0175,\n",
       "  'learning_rate': 5.274285714285714e-05,\n",
       "  'epoch': 12.1,\n",
       "  'step': 254},\n",
       " {'loss': 1.0235,\n",
       "  'learning_rate': 5.271428571428572e-05,\n",
       "  'epoch': 12.14,\n",
       "  'step': 255},\n",
       " {'loss': 1.1525,\n",
       "  'learning_rate': 5.2685714285714284e-05,\n",
       "  'epoch': 12.19,\n",
       "  'step': 256},\n",
       " {'loss': 1.1787,\n",
       "  'learning_rate': 5.265714285714286e-05,\n",
       "  'epoch': 12.24,\n",
       "  'step': 257},\n",
       " {'loss': 1.1311,\n",
       "  'learning_rate': 5.262857142857143e-05,\n",
       "  'epoch': 12.29,\n",
       "  'step': 258},\n",
       " {'loss': 1.0133,\n",
       "  'learning_rate': 5.2600000000000005e-05,\n",
       "  'epoch': 12.33,\n",
       "  'step': 259},\n",
       " {'loss': 1.0191,\n",
       "  'learning_rate': 5.257142857142857e-05,\n",
       "  'epoch': 12.38,\n",
       "  'step': 260},\n",
       " {'eval_loss': 0.9084311723709106,\n",
       "  'eval_mean_iou': 0.7547839265485752,\n",
       "  'eval_mean_accuracy': 0.9845865597475816,\n",
       "  'eval_overall_accuracy': 0.9805835236740404,\n",
       "  'eval_per_category_iou': [0.9801499169315913,\n",
       "   0.5294179361655591,\n",
       "   nan,\n",
       "   nan,\n",
       "   nan,\n",
       "   nan,\n",
       "   nan,\n",
       "   nan,\n",
       "   nan,\n",
       "   nan,\n",
       "   nan,\n",
       "   nan,\n",
       "   nan,\n",
       "   nan,\n",
       "   nan,\n",
       "   nan,\n",
       "   nan,\n",
       "   nan,\n",
       "   nan],\n",
       "  'eval_per_category_accuracy': [0.9803984768467761,\n",
       "   0.9887746426483872,\n",
       "   nan,\n",
       "   nan,\n",
       "   nan,\n",
       "   nan,\n",
       "   nan,\n",
       "   nan,\n",
       "   nan,\n",
       "   nan,\n",
       "   nan,\n",
       "   nan,\n",
       "   nan,\n",
       "   nan,\n",
       "   nan,\n",
       "   nan,\n",
       "   nan,\n",
       "   nan,\n",
       "   nan],\n",
       "  'eval_runtime': 70.9842,\n",
       "  'eval_samples_per_second': 0.733,\n",
       "  'eval_steps_per_second': 0.155,\n",
       "  'epoch': 12.38,\n",
       "  'step': 260},\n",
       " {'train_runtime': 1965.6033,\n",
       "  'train_samples_per_second': 5.342,\n",
       "  'train_steps_per_second': 1.068,\n",
       "  'total_flos': 2.28131423649792e+16,\n",
       "  'train_loss': 1.5818912391479198,\n",
       "  'epoch': 12.38,\n",
       "  'step': 260}]"
      ]
     },
     "execution_count": 23,
     "metadata": {},
     "output_type": "execute_result"
    }
   ],
   "source": [
    "braod_bean_trainer.state.log_history"
   ]
  },
  {
   "cell_type": "code",
   "execution_count": 24,
   "metadata": {},
   "outputs": [],
   "source": [
    "braod_bean_trainer.save_model('models/broad_bean')\n",
    "# broad_bean_test_ds"
   ]
  },
  {
   "cell_type": "code",
   "execution_count": 25,
   "metadata": {},
   "outputs": [],
   "source": [
    "# Interpret results\n",
    "# Add method to rewrite labels in the annotions"
   ]
  }
 ],
 "metadata": {
  "kernelspec": {
   "display_name": "base",
   "language": "python",
   "name": "python3"
  },
  "language_info": {
   "codemirror_mode": {
    "name": "ipython",
    "version": 3
   },
   "file_extension": ".py",
   "mimetype": "text/x-python",
   "name": "python",
   "nbconvert_exporter": "python",
   "pygments_lexer": "ipython3",
   "version": "3.11.4"
  },
  "orig_nbformat": 4
 },
 "nbformat": 4,
 "nbformat_minor": 2
}
