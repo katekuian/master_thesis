{
 "cells": [
  {
   "cell_type": "code",
   "execution_count": 1,
   "metadata": {},
   "outputs": [
    {
     "name": "stderr",
     "output_type": "stream",
     "text": [
      "c:\\Users\\kuian\\.conda\\envs\\master\\lib\\site-packages\\tqdm\\auto.py:21: TqdmWarning: IProgress not found. Please update jupyter and ipywidgets. See https://ipywidgets.readthedocs.io/en/stable/user_install.html\n",
      "  from .autonotebook import tqdm as notebook_tqdm\n"
     ]
    }
   ],
   "source": [
    "import numpy as np\n",
    "import pandas as pd\n",
    "from tqdm import tqdm\n",
    "from transformers import MaskFormerFeatureExtractor, MaskFormerForInstanceSegmentation\n",
    "import PIL\n",
    "from PIL import Image\n",
    "import requests\n",
    "from transformers import pipeline\n",
    "import datasets\n",
    "from datasets import load_dataset\n",
    "import os\n",
    "import evaluate\n",
    "import torch\n",
    "import cv2\n",
    "import json\n",
    "import codecs"
   ]
  },
  {
   "cell_type": "code",
   "execution_count": 2,
   "metadata": {},
   "outputs": [],
   "source": [
    "image_folder = './WE3DS/images/'\n",
    "annotation_folder = './WE3DS/annotations/segmentation/SegmentationLabel/'\n",
    "# Define the paths to the images and annotations\n",
    "all_image_names = np.array(os.listdir(image_folder))"
   ]
  },
  {
   "cell_type": "code",
   "execution_count": 3,
   "metadata": {},
   "outputs": [],
   "source": [
    "plant_classification = {\n",
    "    'void': 'void',\n",
    "    'soil': 'soil',\n",
    "    'broad bean': 'crop',\n",
    "    'corn spurry': 'weed',\n",
    "    'red-root amaranth': 'weed',\n",
    "    'common buckwheat': 'crop',\n",
    "    'pea': 'crop',\n",
    "    'red fingergrass': 'weed',\n",
    "    'common wild oat': 'weed',\n",
    "    'cornflower': 'weed',\n",
    "    'corn cockle': 'weed',\n",
    "    'corn': 'crop',\n",
    "    'milk thistle': 'weed',\n",
    "    'rye brome': 'weed',\n",
    "    'soybean': 'crop',\n",
    "    'sunflower': 'crop',\n",
    "    'narrow-leaved plantain': 'weed',\n",
    "    'small-flower geranium': 'weed',\n",
    "    'sugar beet': 'crop'\n",
    "}"
   ]
  },
  {
   "cell_type": "code",
   "execution_count": 4,
   "metadata": {},
   "outputs": [],
   "source": [
    "def get_image_meta_filepath(plant_name):\n",
    "    return './meta/' + plant_name + '_images.json'"
   ]
  },
  {
   "cell_type": "code",
   "execution_count": 5,
   "metadata": {},
   "outputs": [],
   "source": [
    "def get_image_list_for_crop(crop_name):\n",
    "    # Create an empty list to store the dataset\n",
    "    image_list = []\n",
    "    crop_image_names = json.load(codecs.open(get_image_meta_filepath(crop_name), 'r', 'utf-8-sig'))\n",
    "    weed_image_names = json.load(codecs.open(get_image_meta_filepath('no_crop'), 'r', 'utf-8-sig'))\n",
    "    image_names = crop_image_names + weed_image_names\n",
    "\n",
    "    # Iterate over the image and annotation paths\n",
    "    for image_name in crop_image_names:\n",
    "        # Load the image and annotation using PIL\n",
    "        image = Image.open(image_folder + image_name)\n",
    "        annotation = Image.open(annotation_folder + image_name)\n",
    "        \n",
    "        # Create a dictionary entry for the dataseta\n",
    "        entry = {'image': image, 'annotation': annotation}\n",
    "        \n",
    "        # Add the entry to the dataset\n",
    "        image_list.append(entry)\n",
    "\n",
    "    return image_list"
   ]
  },
  {
   "cell_type": "code",
   "execution_count": 6,
   "metadata": {},
   "outputs": [],
   "source": [
    "def create_and_split_dataset_for_crop(crop_image_list):\n",
    "    dataset = datasets.Dataset.from_list(crop_image_list)\n",
    "    dataset = dataset.train_test_split(test_size=0.5)\n",
    "    train_ds = dataset[\"train\"]\n",
    "    val_ds, test_ds = dataset[\"test\"].train_test_split(test_size=0.5).values()\n",
    "    return train_ds, val_ds, test_ds"
   ]
  },
  {
   "cell_type": "code",
   "execution_count": 7,
   "metadata": {},
   "outputs": [],
   "source": [
    "broad_bean_image_list = get_image_list_for_crop('broad_bean')\n",
    "broad_bean_train_ds, broad_bean_val_ds, broad_bean_test_ds = create_and_split_dataset_for_crop(broad_bean_image_list)"
   ]
  },
  {
   "cell_type": "code",
   "execution_count": 8,
   "metadata": {},
   "outputs": [
    {
     "name": "stdout",
     "output_type": "stream",
     "text": [
      "Training subset number of images: 105\n",
      "Validation subset number of images: 52\n",
      "Test subset number of images: 53\n"
     ]
    }
   ],
   "source": [
    "print(\"Training subset number of images: \" + str(broad_bean_train_ds.num_rows))\n",
    "print(\"Validation subset number of images: \" + str(broad_bean_val_ds.num_rows))\n",
    "print(\"Test subset number of images: \" + str(broad_bean_test_ds.num_rows))"
   ]
  },
  {
   "cell_type": "code",
   "execution_count": 9,
   "metadata": {},
   "outputs": [
    {
     "name": "stderr",
     "output_type": "stream",
     "text": [
      "Could not find image processor class in the image processor config or the model config. Loading based on pattern matching with the model's feature extractor configuration.\n",
      "c:\\Users\\kuian\\.conda\\envs\\master\\lib\\site-packages\\transformers\\models\\segformer\\image_processing_segformer.py:99: FutureWarning: The `reduce_labels` parameter is deprecated and will be removed in a future version. Please use `do_reduce_labels` instead.\n",
      "  warnings.warn(\n"
     ]
    }
   ],
   "source": [
    "from transformers import AutoImageProcessor\n",
    "\n",
    "checkpoint = \"nvidia/mit-b0\"\n",
    "image_processor = AutoImageProcessor.from_pretrained(checkpoint, reduce_labels=True)"
   ]
  },
  {
   "cell_type": "code",
   "execution_count": 10,
   "metadata": {},
   "outputs": [],
   "source": [
    "def train_transforms(example_batch):\n",
    "    images = [x for x in example_batch[\"image\"]]\n",
    "    labels = [x for x in example_batch[\"annotation\"]]\n",
    "    inputs = image_processor(images, labels)\n",
    "    return inputs"
   ]
  },
  {
   "cell_type": "code",
   "execution_count": 11,
   "metadata": {},
   "outputs": [],
   "source": [
    "metric = evaluate.load(\"mean_iou\")"
   ]
  },
  {
   "cell_type": "code",
   "execution_count": 12,
   "metadata": {},
   "outputs": [
    {
     "name": "stdout",
     "output_type": "stream",
     "text": [
      "id2label: {1: 'void', 2: 'soil', 3: 'broad bean', 4: 'corn spurry', 5: 'red-root amaranth', 6: 'common buckwheat', 7: 'pea', 8: 'red fingergrass', 9: 'common wild oat', 10: 'cornflower', 11: 'corn cockle', 12: 'corn', 13: 'milk thistle', 14: 'rye brome', 15: 'soybean', 16: 'sunflower', 17: 'narrow-leaved plantain', 18: 'small-flower geranium', 19: 'sugar beet'}\n",
      "label2id: {'void': 1, 'soil': 2, 'broad bean': 3, 'corn spurry': 4, 'red-root amaranth': 5, 'common buckwheat': 6, 'pea': 7, 'red fingergrass': 8, 'common wild oat': 9, 'cornflower': 10, 'corn cockle': 11, 'corn': 12, 'milk thistle': 13, 'rye brome': 14, 'soybean': 15, 'sunflower': 16, 'narrow-leaved plantain': 17, 'small-flower geranium': 18, 'sugar beet': 19}\n"
     ]
    }
   ],
   "source": [
    "with open('./WE3DS/class_names.txt', 'r') as file:\n",
    "    labels = [line.strip() for line in file]\n",
    "\n",
    "ids = list(range(1, 20))\n",
    "\n",
    "id2label = dict(zip(ids, labels))\n",
    "label2id = dict(zip(labels, ids))\n",
    "\n",
    "num_labels = len(labels)\n",
    "\n",
    "print(\"id2label:\", id2label)\n",
    "print(\"label2id:\", label2id)"
   ]
  },
  {
   "cell_type": "code",
   "execution_count": 13,
   "metadata": {},
   "outputs": [],
   "source": [
    "def compute_metrics(eval_pred):\n",
    "    with torch.no_grad():\n",
    "        logits, labels = eval_pred\n",
    "        logits_tensor = torch.from_numpy(logits)\n",
    "        logits_tensor = torch.nn.functional.interpolate(\n",
    "            logits_tensor,\n",
    "            size=labels.shape[-2:],\n",
    "            mode=\"bilinear\",\n",
    "            align_corners=False,\n",
    "        ).argmax(dim=1)\n",
    "\n",
    "        pred_labels = logits_tensor.detach().cpu().numpy()\n",
    "        metrics = metric.compute(\n",
    "            predictions=pred_labels,\n",
    "            references=labels,\n",
    "            num_labels=num_labels,\n",
    "            ignore_index=255,\n",
    "            reduce_labels=False,\n",
    "        )\n",
    "        for key, value in metrics.items():\n",
    "            if type(value) is np.ndarray:\n",
    "                metrics[key] = value.tolist()\n",
    "        return metrics"
   ]
  },
  {
   "cell_type": "code",
   "execution_count": 14,
   "metadata": {},
   "outputs": [
    {
     "name": "stderr",
     "output_type": "stream",
     "text": [
      "Some weights of the model checkpoint at nvidia/mit-b0 were not used when initializing SegformerForSemanticSegmentation: ['classifier.weight', 'classifier.bias']\n",
      "- This IS expected if you are initializing SegformerForSemanticSegmentation from the checkpoint of a model trained on another task or with another architecture (e.g. initializing a BertForSequenceClassification model from a BertForPreTraining model).\n",
      "- This IS NOT expected if you are initializing SegformerForSemanticSegmentation from the checkpoint of a model that you expect to be exactly identical (initializing a BertForSequenceClassification model from a BertForSequenceClassification model).\n",
      "Some weights of SegformerForSemanticSegmentation were not initialized from the model checkpoint at nvidia/mit-b0 and are newly initialized: ['decode_head.batch_norm.bias', 'decode_head.batch_norm.weight', 'decode_head.linear_c.2.proj.weight', 'decode_head.linear_c.1.proj.weight', 'decode_head.classifier.weight', 'decode_head.linear_c.2.proj.bias', 'decode_head.batch_norm.running_var', 'decode_head.linear_fuse.weight', 'decode_head.linear_c.1.proj.bias', 'decode_head.linear_c.3.proj.bias', 'decode_head.batch_norm.running_mean', 'decode_head.linear_c.3.proj.weight', 'decode_head.batch_norm.num_batches_tracked', 'decode_head.linear_c.0.proj.weight', 'decode_head.classifier.bias', 'decode_head.linear_c.0.proj.bias']\n",
      "You should probably TRAIN this model on a down-stream task to be able to use it for predictions and inference.\n"
     ]
    }
   ],
   "source": [
    "from transformers import AutoModelForSemanticSegmentation, TrainingArguments, Trainer, EarlyStoppingCallback\n",
    "\n",
    "model = AutoModelForSemanticSegmentation.from_pretrained(checkpoint, id2label=id2label, label2id=label2id)"
   ]
  },
  {
   "cell_type": "code",
   "execution_count": 15,
   "metadata": {},
   "outputs": [],
   "source": [
    "training_args = TrainingArguments(\n",
    "    output_dir=\"segformer-b0-scene-parse-150\",\n",
    "    learning_rate=6e-5,\n",
    "    num_train_epochs=10,\n",
    "    per_device_train_batch_size=10,\n",
    "    per_device_eval_batch_size=10,\n",
    "    save_total_limit=3,\n",
    "    evaluation_strategy=\"steps\",\n",
    "    save_strategy=\"steps\",\n",
    "    save_steps=20,\n",
    "    eval_steps=20,\n",
    "    logging_steps=1,\n",
    "    eval_accumulation_steps=5,\n",
    "    remove_unused_columns=False,\n",
    "    load_best_model_at_end=True,\n",
    ")"
   ]
  },
  {
   "cell_type": "code",
   "execution_count": 16,
   "metadata": {},
   "outputs": [],
   "source": [
    "def initialize_trainer(train_ds, test_ds) :\n",
    "    trainer = Trainer(\n",
    "        model=model,\n",
    "        args=training_args,\n",
    "        train_dataset=train_ds,\n",
    "        eval_dataset=test_ds,\n",
    "        compute_metrics=compute_metrics,\n",
    "        callbacks=[EarlyStoppingCallback(early_stopping_patience=3)]\n",
    "    )\n",
    "    return trainer"
   ]
  },
  {
   "cell_type": "code",
   "execution_count": 17,
   "metadata": {},
   "outputs": [],
   "source": [
    "broad_bean_train_ds.set_transform(train_transforms)\n",
    "broad_bean_val_ds.set_transform(train_transforms)\n",
    "broad_bean_test_ds.set_transform(train_transforms)"
   ]
  },
  {
   "cell_type": "code",
   "execution_count": 18,
   "metadata": {},
   "outputs": [
    {
     "name": "stderr",
     "output_type": "stream",
     "text": [
      "c:\\Users\\kuian\\.conda\\envs\\master\\lib\\site-packages\\transformers\\optimization.py:411: FutureWarning: This implementation of AdamW is deprecated and will be removed in a future version. Use the PyTorch implementation torch.optim.AdamW instead, or set `no_deprecation_warning=True` to disable this warning\n",
      "  warnings.warn(\n",
      "  1%|          | 1/110 [00:17<30:55, 17.03s/it]"
     ]
    },
    {
     "name": "stdout",
     "output_type": "stream",
     "text": [
      "{'loss': 3.0092, 'learning_rate': 5.945454545454546e-05, 'epoch': 0.09}\n"
     ]
    },
    {
     "name": "stderr",
     "output_type": "stream",
     "text": [
      "  2%|▏         | 2/110 [00:33<29:49, 16.57s/it]"
     ]
    },
    {
     "name": "stdout",
     "output_type": "stream",
     "text": [
      "{'loss': 2.9758, 'learning_rate': 5.890909090909091e-05, 'epoch': 0.18}\n"
     ]
    },
    {
     "name": "stderr",
     "output_type": "stream",
     "text": [
      "  3%|▎         | 3/110 [00:49<29:22, 16.47s/it]"
     ]
    },
    {
     "name": "stdout",
     "output_type": "stream",
     "text": [
      "{'loss': 2.9369, 'learning_rate': 5.836363636363637e-05, 'epoch': 0.27}\n"
     ]
    },
    {
     "name": "stderr",
     "output_type": "stream",
     "text": [
      "  4%|▎         | 4/110 [01:05<28:53, 16.35s/it]"
     ]
    },
    {
     "name": "stdout",
     "output_type": "stream",
     "text": [
      "{'loss': 2.9338, 'learning_rate': 5.781818181818182e-05, 'epoch': 0.36}\n"
     ]
    },
    {
     "name": "stderr",
     "output_type": "stream",
     "text": [
      "  5%|▍         | 5/110 [01:22<28:43, 16.41s/it]"
     ]
    },
    {
     "name": "stdout",
     "output_type": "stream",
     "text": [
      "{'loss': 2.8678, 'learning_rate': 5.7272727272727274e-05, 'epoch': 0.45}\n"
     ]
    },
    {
     "name": "stderr",
     "output_type": "stream",
     "text": [
      "  5%|▌         | 6/110 [01:38<28:28, 16.43s/it]"
     ]
    },
    {
     "name": "stdout",
     "output_type": "stream",
     "text": [
      "{'loss': 2.8533, 'learning_rate': 5.6727272727272726e-05, 'epoch': 0.55}\n"
     ]
    },
    {
     "name": "stderr",
     "output_type": "stream",
     "text": [
      "  6%|▋         | 7/110 [01:55<28:06, 16.37s/it]"
     ]
    },
    {
     "name": "stdout",
     "output_type": "stream",
     "text": [
      "{'loss': 2.8616, 'learning_rate': 5.6181818181818184e-05, 'epoch': 0.64}\n"
     ]
    },
    {
     "name": "stderr",
     "output_type": "stream",
     "text": [
      "  7%|▋         | 8/110 [02:11<27:51, 16.39s/it]"
     ]
    },
    {
     "name": "stdout",
     "output_type": "stream",
     "text": [
      "{'loss': 2.8397, 'learning_rate': 5.5636363636363636e-05, 'epoch': 0.73}\n"
     ]
    },
    {
     "name": "stderr",
     "output_type": "stream",
     "text": [
      "  8%|▊         | 9/110 [02:28<27:51, 16.55s/it]"
     ]
    },
    {
     "name": "stdout",
     "output_type": "stream",
     "text": [
      "{'loss': 2.7624, 'learning_rate': 5.5090909090909094e-05, 'epoch': 0.82}\n"
     ]
    },
    {
     "name": "stderr",
     "output_type": "stream",
     "text": [
      "  9%|▉         | 10/110 [02:45<27:51, 16.71s/it]"
     ]
    },
    {
     "name": "stdout",
     "output_type": "stream",
     "text": [
      "{'loss': 2.7696, 'learning_rate': 5.4545454545454546e-05, 'epoch': 0.91}\n"
     ]
    },
    {
     "name": "stderr",
     "output_type": "stream",
     "text": [
      " 10%|█         | 11/110 [02:54<23:44, 14.39s/it]"
     ]
    },
    {
     "name": "stdout",
     "output_type": "stream",
     "text": [
      "{'loss': 2.7335, 'learning_rate': 5.4000000000000005e-05, 'epoch': 1.0}\n"
     ]
    },
    {
     "name": "stderr",
     "output_type": "stream",
     "text": [
      " 11%|█         | 12/110 [03:11<24:32, 15.03s/it]"
     ]
    },
    {
     "name": "stdout",
     "output_type": "stream",
     "text": [
      "{'loss': 2.6787, 'learning_rate': 5.3454545454545457e-05, 'epoch': 1.09}\n"
     ]
    },
    {
     "name": "stderr",
     "output_type": "stream",
     "text": [
      " 12%|█▏        | 13/110 [03:28<25:20, 15.67s/it]"
     ]
    },
    {
     "name": "stdout",
     "output_type": "stream",
     "text": [
      "{'loss': 2.6233, 'learning_rate': 5.290909090909091e-05, 'epoch': 1.18}\n"
     ]
    },
    {
     "name": "stderr",
     "output_type": "stream",
     "text": [
      " 13%|█▎        | 14/110 [03:44<25:11, 15.75s/it]"
     ]
    },
    {
     "name": "stdout",
     "output_type": "stream",
     "text": [
      "{'loss': 2.6291, 'learning_rate': 5.236363636363636e-05, 'epoch': 1.27}\n"
     ]
    },
    {
     "name": "stderr",
     "output_type": "stream",
     "text": [
      " 14%|█▎        | 15/110 [04:00<25:04, 15.83s/it]"
     ]
    },
    {
     "name": "stdout",
     "output_type": "stream",
     "text": [
      "{'loss': 2.662, 'learning_rate': 5.181818181818182e-05, 'epoch': 1.36}\n"
     ]
    },
    {
     "name": "stderr",
     "output_type": "stream",
     "text": [
      " 15%|█▍        | 16/110 [04:16<24:52, 15.87s/it]"
     ]
    },
    {
     "name": "stdout",
     "output_type": "stream",
     "text": [
      "{'loss': 2.6556, 'learning_rate': 5.127272727272727e-05, 'epoch': 1.45}\n"
     ]
    },
    {
     "name": "stderr",
     "output_type": "stream",
     "text": [
      " 15%|█▌        | 17/110 [04:32<24:43, 15.95s/it]"
     ]
    },
    {
     "name": "stdout",
     "output_type": "stream",
     "text": [
      "{'loss': 2.553, 'learning_rate': 5.072727272727273e-05, 'epoch': 1.55}\n"
     ]
    },
    {
     "name": "stderr",
     "output_type": "stream",
     "text": [
      " 16%|█▋        | 18/110 [04:48<24:26, 15.94s/it]"
     ]
    },
    {
     "name": "stdout",
     "output_type": "stream",
     "text": [
      "{'loss': 2.503, 'learning_rate': 5.018181818181818e-05, 'epoch': 1.64}\n"
     ]
    },
    {
     "name": "stderr",
     "output_type": "stream",
     "text": [
      " 17%|█▋        | 19/110 [05:04<24:22, 16.07s/it]"
     ]
    },
    {
     "name": "stdout",
     "output_type": "stream",
     "text": [
      "{'loss': 2.4517, 'learning_rate': 4.963636363636364e-05, 'epoch': 1.73}\n"
     ]
    },
    {
     "name": "stderr",
     "output_type": "stream",
     "text": [
      " 18%|█▊        | 20/110 [05:20<24:14, 16.17s/it]"
     ]
    },
    {
     "name": "stdout",
     "output_type": "stream",
     "text": [
      "{'loss': 2.4555, 'learning_rate': 4.90909090909091e-05, 'epoch': 1.82}\n"
     ]
    },
    {
     "name": "stderr",
     "output_type": "stream",
     "text": [
      "C:\\Users\\kuian\\.cache\\huggingface\\modules\\evaluate_modules\\metrics\\evaluate-metric--mean_iou\\08bc20f4f895f3caf75fb9e3fada1404bded3c3265243d05327cbb3b9326ffe9\\mean_iou.py:260: RuntimeWarning: invalid value encountered in divide\n",
      "  acc = total_area_intersect / total_area_label\n",
      "                                                \n",
      " 18%|█▊        | 20/110 [07:58<24:14, 16.17s/it]"
     ]
    },
    {
     "name": "stdout",
     "output_type": "stream",
     "text": [
      "{'eval_loss': 2.826364040374756, 'eval_mean_iou': 0.06909370840388247, 'eval_mean_accuracy': 0.9717052117918751, 'eval_overall_accuracy': 0.9458694730836149, 'eval_per_category_iou': [0.9445901064015024, 0.36819035327226474, 0.0, 0.0, 0.0, 0.0, 0.0, 0.0, 0.0, 0.0, 0.0, 0.0, 0.0, 0.0, 0.0, 0.0, 0.0, 0.0, 0.0], 'eval_per_category_accuracy': [0.9446111806927062, 0.9987992428910439, nan, nan, nan, nan, nan, nan, nan, nan, nan, nan, nan, nan, nan, nan, nan, nan, nan], 'eval_runtime': 157.7162, 'eval_samples_per_second': 0.33, 'eval_steps_per_second': 0.038, 'epoch': 1.82}\n"
     ]
    },
    {
     "name": "stderr",
     "output_type": "stream",
     "text": [
      " 19%|█▉        | 21/110 [08:16<1:34:54, 63.99s/it]"
     ]
    },
    {
     "name": "stdout",
     "output_type": "stream",
     "text": [
      "{'loss': 2.4991, 'learning_rate': 4.854545454545455e-05, 'epoch': 1.91}\n"
     ]
    },
    {
     "name": "stderr",
     "output_type": "stream",
     "text": [
      " 20%|██        | 22/110 [08:25<1:09:52, 47.65s/it]"
     ]
    },
    {
     "name": "stdout",
     "output_type": "stream",
     "text": [
      "{'loss': 2.4588, 'learning_rate': 4.8e-05, 'epoch': 2.0}\n"
     ]
    },
    {
     "name": "stderr",
     "output_type": "stream",
     "text": [
      " 21%|██        | 23/110 [08:43<55:54, 38.55s/it]  "
     ]
    },
    {
     "name": "stdout",
     "output_type": "stream",
     "text": [
      "{'loss': 2.4628, 'learning_rate': 4.745454545454545e-05, 'epoch': 2.09}\n"
     ]
    },
    {
     "name": "stderr",
     "output_type": "stream",
     "text": [
      " 22%|██▏       | 24/110 [09:00<46:10, 32.21s/it]"
     ]
    },
    {
     "name": "stdout",
     "output_type": "stream",
     "text": [
      "{'loss': 2.4627, 'learning_rate': 4.690909090909091e-05, 'epoch': 2.18}\n"
     ]
    },
    {
     "name": "stderr",
     "output_type": "stream",
     "text": [
      " 23%|██▎       | 25/110 [09:18<39:19, 27.76s/it]"
     ]
    },
    {
     "name": "stdout",
     "output_type": "stream",
     "text": [
      "{'loss': 2.4227, 'learning_rate': 4.636363636363636e-05, 'epoch': 2.27}\n"
     ]
    },
    {
     "name": "stderr",
     "output_type": "stream",
     "text": [
      " 24%|██▎       | 26/110 [09:35<34:29, 24.64s/it]"
     ]
    },
    {
     "name": "stdout",
     "output_type": "stream",
     "text": [
      "{'loss': 2.3346, 'learning_rate': 4.581818181818182e-05, 'epoch': 2.36}\n"
     ]
    },
    {
     "name": "stderr",
     "output_type": "stream",
     "text": [
      " 25%|██▍       | 27/110 [09:52<30:59, 22.40s/it]"
     ]
    },
    {
     "name": "stdout",
     "output_type": "stream",
     "text": [
      "{'loss': 2.3522, 'learning_rate': 4.5272727272727274e-05, 'epoch': 2.45}\n"
     ]
    },
    {
     "name": "stderr",
     "output_type": "stream",
     "text": [
      " 25%|██▌       | 28/110 [10:10<28:36, 20.94s/it]"
     ]
    },
    {
     "name": "stdout",
     "output_type": "stream",
     "text": [
      "{'loss': 2.3409, 'learning_rate': 4.472727272727273e-05, 'epoch': 2.55}\n"
     ]
    },
    {
     "name": "stderr",
     "output_type": "stream",
     "text": [
      " 26%|██▋       | 29/110 [10:27<26:53, 19.92s/it]"
     ]
    },
    {
     "name": "stdout",
     "output_type": "stream",
     "text": [
      "{'loss': 2.3048, 'learning_rate': 4.4181818181818184e-05, 'epoch': 2.64}\n"
     ]
    },
    {
     "name": "stderr",
     "output_type": "stream",
     "text": [
      " 27%|██▋       | 30/110 [10:45<25:39, 19.24s/it]"
     ]
    },
    {
     "name": "stdout",
     "output_type": "stream",
     "text": [
      "{'loss': 2.2901, 'learning_rate': 4.3636363636363636e-05, 'epoch': 2.73}\n"
     ]
    },
    {
     "name": "stderr",
     "output_type": "stream",
     "text": [
      " 28%|██▊       | 31/110 [11:02<24:36, 18.69s/it]"
     ]
    },
    {
     "name": "stdout",
     "output_type": "stream",
     "text": [
      "{'loss': 2.2801, 'learning_rate': 4.309090909090909e-05, 'epoch': 2.82}\n"
     ]
    },
    {
     "name": "stderr",
     "output_type": "stream",
     "text": [
      " 29%|██▉       | 32/110 [11:20<23:47, 18.30s/it]"
     ]
    },
    {
     "name": "stdout",
     "output_type": "stream",
     "text": [
      "{'loss': 2.2288, 'learning_rate': 4.2545454545454546e-05, 'epoch': 2.91}\n"
     ]
    },
    {
     "name": "stderr",
     "output_type": "stream",
     "text": [
      " 30%|███       | 33/110 [11:29<20:08, 15.70s/it]"
     ]
    },
    {
     "name": "stdout",
     "output_type": "stream",
     "text": [
      "{'loss': 2.403, 'learning_rate': 4.2e-05, 'epoch': 3.0}\n"
     ]
    },
    {
     "name": "stderr",
     "output_type": "stream",
     "text": [
      " 31%|███       | 34/110 [11:46<20:26, 16.14s/it]"
     ]
    },
    {
     "name": "stdout",
     "output_type": "stream",
     "text": [
      "{'loss': 2.3535, 'learning_rate': 4.1454545454545456e-05, 'epoch': 3.09}\n"
     ]
    },
    {
     "name": "stderr",
     "output_type": "stream",
     "text": [
      " 32%|███▏      | 35/110 [12:04<20:44, 16.59s/it]"
     ]
    },
    {
     "name": "stdout",
     "output_type": "stream",
     "text": [
      "{'loss': 2.2335, 'learning_rate': 4.090909090909091e-05, 'epoch': 3.18}\n"
     ]
    },
    {
     "name": "stderr",
     "output_type": "stream",
     "text": [
      " 33%|███▎      | 36/110 [12:22<20:48, 16.87s/it]"
     ]
    },
    {
     "name": "stdout",
     "output_type": "stream",
     "text": [
      "{'loss': 2.1911, 'learning_rate': 4.0363636363636367e-05, 'epoch': 3.27}\n"
     ]
    },
    {
     "name": "stderr",
     "output_type": "stream",
     "text": [
      " 34%|███▎      | 37/110 [12:39<20:46, 17.08s/it]"
     ]
    },
    {
     "name": "stdout",
     "output_type": "stream",
     "text": [
      "{'loss': 2.1927, 'learning_rate': 3.9818181818181825e-05, 'epoch': 3.36}\n"
     ]
    },
    {
     "name": "stderr",
     "output_type": "stream",
     "text": [
      " 35%|███▍      | 38/110 [12:57<20:54, 17.42s/it]"
     ]
    },
    {
     "name": "stdout",
     "output_type": "stream",
     "text": [
      "{'loss': 2.1894, 'learning_rate': 3.927272727272728e-05, 'epoch': 3.45}\n"
     ]
    },
    {
     "name": "stderr",
     "output_type": "stream",
     "text": [
      " 35%|███▌      | 39/110 [13:16<20:55, 17.68s/it]"
     ]
    },
    {
     "name": "stdout",
     "output_type": "stream",
     "text": [
      "{'loss': 2.1927, 'learning_rate': 3.872727272727273e-05, 'epoch': 3.55}\n"
     ]
    },
    {
     "name": "stderr",
     "output_type": "stream",
     "text": [
      " 36%|███▋      | 40/110 [13:34<20:55, 17.94s/it]"
     ]
    },
    {
     "name": "stdout",
     "output_type": "stream",
     "text": [
      "{'loss': 2.1924, 'learning_rate': 3.818181818181818e-05, 'epoch': 3.64}\n"
     ]
    },
    {
     "name": "stderr",
     "output_type": "stream",
     "text": [
      "C:\\Users\\kuian\\.cache\\huggingface\\modules\\evaluate_modules\\metrics\\evaluate-metric--mean_iou\\08bc20f4f895f3caf75fb9e3fada1404bded3c3265243d05327cbb3b9326ffe9\\mean_iou.py:259: RuntimeWarning: invalid value encountered in divide\n",
      "  iou = total_area_intersect / total_area_union\n",
      "C:\\Users\\kuian\\.cache\\huggingface\\modules\\evaluate_modules\\metrics\\evaluate-metric--mean_iou\\08bc20f4f895f3caf75fb9e3fada1404bded3c3265243d05327cbb3b9326ffe9\\mean_iou.py:260: RuntimeWarning: invalid value encountered in divide\n",
      "  acc = total_area_intersect / total_area_label\n",
      "                                                \n",
      " 36%|███▋      | 40/110 [16:11<20:55, 17.94s/it]"
     ]
    },
    {
     "name": "stdout",
     "output_type": "stream",
     "text": [
      "{'eval_loss': 2.4098501205444336, 'eval_mean_iou': 0.11069646922135404, 'eval_mean_accuracy': 0.9796946095174454, 'eval_overall_accuracy': 0.9727614242309688, 'eval_per_category_iou': [0.9721263196913349, 0.4669277801862676, nan, 0.0, 0.0, 0.0, 0.0, nan, 0.0, nan, 0.0, 0.0, nan, 0.0, nan, 0.0, 0.0, 0.0, nan], 'eval_per_category_accuracy': [0.9724237534413217, 0.986965465593569, nan, nan, nan, nan, nan, nan, nan, nan, nan, nan, nan, nan, nan, nan, nan, nan, nan], 'eval_runtime': 156.4486, 'eval_samples_per_second': 0.332, 'eval_steps_per_second': 0.038, 'epoch': 3.64}\n"
     ]
    },
    {
     "name": "stderr",
     "output_type": "stream",
     "text": [
      " 37%|███▋      | 41/110 [16:27<1:13:58, 64.33s/it]"
     ]
    },
    {
     "name": "stdout",
     "output_type": "stream",
     "text": [
      "{'loss': 2.1771, 'learning_rate': 3.763636363636364e-05, 'epoch': 3.73}\n"
     ]
    },
    {
     "name": "stderr",
     "output_type": "stream",
     "text": [
      " 38%|███▊      | 42/110 [16:43<56:33, 49.90s/it]  "
     ]
    },
    {
     "name": "stdout",
     "output_type": "stream",
     "text": [
      "{'loss': 2.169, 'learning_rate': 3.709090909090909e-05, 'epoch': 3.82}\n"
     ]
    },
    {
     "name": "stderr",
     "output_type": "stream",
     "text": [
      " 39%|███▉      | 43/110 [16:59<44:27, 39.82s/it]"
     ]
    },
    {
     "name": "stdout",
     "output_type": "stream",
     "text": [
      "{'loss': 2.2428, 'learning_rate': 3.654545454545455e-05, 'epoch': 3.91}\n"
     ]
    },
    {
     "name": "stderr",
     "output_type": "stream",
     "text": [
      " 40%|████      | 44/110 [17:08<33:39, 30.60s/it]"
     ]
    },
    {
     "name": "stdout",
     "output_type": "stream",
     "text": [
      "{'loss': 2.0155, 'learning_rate': 3.6e-05, 'epoch': 4.0}\n"
     ]
    },
    {
     "name": "stderr",
     "output_type": "stream",
     "text": [
      " 41%|████      | 45/110 [17:25<28:42, 26.50s/it]"
     ]
    },
    {
     "name": "stdout",
     "output_type": "stream",
     "text": [
      "{'loss': 2.1332, 'learning_rate': 3.545454545454546e-05, 'epoch': 4.09}\n"
     ]
    },
    {
     "name": "stderr",
     "output_type": "stream",
     "text": [
      " 42%|████▏     | 46/110 [17:41<24:55, 23.37s/it]"
     ]
    },
    {
     "name": "stdout",
     "output_type": "stream",
     "text": [
      "{'loss': 2.0594, 'learning_rate': 3.490909090909091e-05, 'epoch': 4.18}\n"
     ]
    },
    {
     "name": "stderr",
     "output_type": "stream",
     "text": [
      " 43%|████▎     | 47/110 [17:57<22:13, 21.16s/it]"
     ]
    },
    {
     "name": "stdout",
     "output_type": "stream",
     "text": [
      "{'loss': 2.2001, 'learning_rate': 3.436363636363636e-05, 'epoch': 4.27}\n"
     ]
    },
    {
     "name": "stderr",
     "output_type": "stream",
     "text": [
      " 44%|████▎     | 48/110 [18:14<20:22, 19.72s/it]"
     ]
    },
    {
     "name": "stdout",
     "output_type": "stream",
     "text": [
      "{'loss': 2.0468, 'learning_rate': 3.3818181818181815e-05, 'epoch': 4.36}\n"
     ]
    },
    {
     "name": "stderr",
     "output_type": "stream",
     "text": [
      " 45%|████▍     | 49/110 [18:30<19:02, 18.73s/it]"
     ]
    },
    {
     "name": "stdout",
     "output_type": "stream",
     "text": [
      "{'loss': 2.0688, 'learning_rate': 3.327272727272727e-05, 'epoch': 4.45}\n"
     ]
    },
    {
     "name": "stderr",
     "output_type": "stream",
     "text": [
      " 45%|████▌     | 50/110 [18:47<18:05, 18.09s/it]"
     ]
    },
    {
     "name": "stdout",
     "output_type": "stream",
     "text": [
      "{'loss': 2.0312, 'learning_rate': 3.2727272727272725e-05, 'epoch': 4.55}\n"
     ]
    },
    {
     "name": "stderr",
     "output_type": "stream",
     "text": [
      " 46%|████▋     | 51/110 [19:04<17:33, 17.85s/it]"
     ]
    },
    {
     "name": "stdout",
     "output_type": "stream",
     "text": [
      "{'loss': 2.2186, 'learning_rate': 3.2181818181818184e-05, 'epoch': 4.64}\n"
     ]
    },
    {
     "name": "stderr",
     "output_type": "stream",
     "text": [
      " 47%|████▋     | 52/110 [19:21<17:03, 17.65s/it]"
     ]
    },
    {
     "name": "stdout",
     "output_type": "stream",
     "text": [
      "{'loss': 2.0978, 'learning_rate': 3.1636363636363635e-05, 'epoch': 4.73}\n"
     ]
    },
    {
     "name": "stderr",
     "output_type": "stream",
     "text": [
      " 48%|████▊     | 53/110 [19:38<16:39, 17.53s/it]"
     ]
    },
    {
     "name": "stdout",
     "output_type": "stream",
     "text": [
      "{'loss': 2.1335, 'learning_rate': 3.1090909090909094e-05, 'epoch': 4.82}\n"
     ]
    },
    {
     "name": "stderr",
     "output_type": "stream",
     "text": [
      " 49%|████▉     | 54/110 [19:56<16:21, 17.53s/it]"
     ]
    },
    {
     "name": "stdout",
     "output_type": "stream",
     "text": [
      "{'loss': 2.0211, 'learning_rate': 3.0545454545454546e-05, 'epoch': 4.91}\n"
     ]
    },
    {
     "name": "stderr",
     "output_type": "stream",
     "text": [
      " 50%|█████     | 55/110 [20:05<13:43, 14.96s/it]"
     ]
    },
    {
     "name": "stdout",
     "output_type": "stream",
     "text": [
      "{'loss': 1.9533, 'learning_rate': 3e-05, 'epoch': 5.0}\n"
     ]
    },
    {
     "name": "stderr",
     "output_type": "stream",
     "text": [
      " 51%|█████     | 56/110 [20:23<14:11, 15.78s/it]"
     ]
    },
    {
     "name": "stdout",
     "output_type": "stream",
     "text": [
      "{'loss': 2.1849, 'learning_rate': 2.9454545454545456e-05, 'epoch': 5.09}\n"
     ]
    },
    {
     "name": "stderr",
     "output_type": "stream",
     "text": [
      " 52%|█████▏    | 57/110 [20:40<14:27, 16.37s/it]"
     ]
    },
    {
     "name": "stdout",
     "output_type": "stream",
     "text": [
      "{'loss': 2.11, 'learning_rate': 2.890909090909091e-05, 'epoch': 5.18}\n"
     ]
    },
    {
     "name": "stderr",
     "output_type": "stream",
     "text": [
      " 53%|█████▎    | 58/110 [20:58<14:25, 16.65s/it]"
     ]
    },
    {
     "name": "stdout",
     "output_type": "stream",
     "text": [
      "{'loss': 2.0855, 'learning_rate': 2.8363636363636363e-05, 'epoch': 5.27}\n"
     ]
    },
    {
     "name": "stderr",
     "output_type": "stream",
     "text": [
      " 54%|█████▎    | 59/110 [21:15<14:19, 16.86s/it]"
     ]
    },
    {
     "name": "stdout",
     "output_type": "stream",
     "text": [
      "{'loss': 2.0442, 'learning_rate': 2.7818181818181818e-05, 'epoch': 5.36}\n"
     ]
    },
    {
     "name": "stderr",
     "output_type": "stream",
     "text": [
      " 55%|█████▍    | 60/110 [21:33<14:11, 17.04s/it]"
     ]
    },
    {
     "name": "stdout",
     "output_type": "stream",
     "text": [
      "{'loss': 1.9896, 'learning_rate': 2.7272727272727273e-05, 'epoch': 5.45}\n"
     ]
    },
    {
     "name": "stderr",
     "output_type": "stream",
     "text": [
      "C:\\Users\\kuian\\.cache\\huggingface\\modules\\evaluate_modules\\metrics\\evaluate-metric--mean_iou\\08bc20f4f895f3caf75fb9e3fada1404bded3c3265243d05327cbb3b9326ffe9\\mean_iou.py:259: RuntimeWarning: invalid value encountered in divide\n",
      "  iou = total_area_intersect / total_area_union\n",
      "C:\\Users\\kuian\\.cache\\huggingface\\modules\\evaluate_modules\\metrics\\evaluate-metric--mean_iou\\08bc20f4f895f3caf75fb9e3fada1404bded3c3265243d05327cbb3b9326ffe9\\mean_iou.py:260: RuntimeWarning: invalid value encountered in divide\n",
      "  acc = total_area_intersect / total_area_label\n",
      "                                                \n",
      " 55%|█████▍    | 60/110 [23:55<14:11, 17.04s/it]"
     ]
    },
    {
     "name": "stdout",
     "output_type": "stream",
     "text": [
      "{'eval_loss': 1.7253865003585815, 'eval_mean_iou': 0.24895879640159216, 'eval_mean_accuracy': 0.9764682872797605, 'eval_overall_accuracy': 0.9785232147511229, 'eval_per_category_iou': [0.9780261417270578, 0.5157266366824951, nan, 0.0, nan, 0.0, nan, nan, nan, nan, nan, 0.0, nan, nan, nan, nan, 0.0, nan, nan], 'eval_per_category_accuracy': [0.9786232970297944, 0.9743132775297266, nan, nan, nan, nan, nan, nan, nan, nan, nan, nan, nan, nan, nan, nan, nan, nan, nan], 'eval_runtime': 142.1735, 'eval_samples_per_second': 0.366, 'eval_steps_per_second': 0.042, 'epoch': 5.45}\n"
     ]
    },
    {
     "name": "stderr",
     "output_type": "stream",
     "text": [
      " 55%|█████▌    | 61/110 [24:13<48:58, 59.96s/it]"
     ]
    },
    {
     "name": "stdout",
     "output_type": "stream",
     "text": [
      "{'loss': 2.0211, 'learning_rate': 2.6727272727272728e-05, 'epoch': 5.55}\n"
     ]
    },
    {
     "name": "stderr",
     "output_type": "stream",
     "text": [
      " 56%|█████▋    | 62/110 [24:30<37:44, 47.17s/it]"
     ]
    },
    {
     "name": "stdout",
     "output_type": "stream",
     "text": [
      "{'loss': 2.0315, 'learning_rate': 2.618181818181818e-05, 'epoch': 5.64}\n"
     ]
    },
    {
     "name": "stderr",
     "output_type": "stream",
     "text": [
      " 57%|█████▋    | 63/110 [24:48<30:01, 38.33s/it]"
     ]
    },
    {
     "name": "stdout",
     "output_type": "stream",
     "text": [
      "{'loss': 1.9932, 'learning_rate': 2.5636363636363635e-05, 'epoch': 5.73}\n"
     ]
    },
    {
     "name": "stderr",
     "output_type": "stream",
     "text": [
      " 58%|█████▊    | 64/110 [25:05<24:39, 32.15s/it]"
     ]
    },
    {
     "name": "stdout",
     "output_type": "stream",
     "text": [
      "{'loss': 1.9858, 'learning_rate': 2.509090909090909e-05, 'epoch': 5.82}\n"
     ]
    },
    {
     "name": "stderr",
     "output_type": "stream",
     "text": [
      " 59%|█████▉    | 65/110 [25:23<20:48, 27.75s/it]"
     ]
    },
    {
     "name": "stdout",
     "output_type": "stream",
     "text": [
      "{'loss': 2.0951, 'learning_rate': 2.454545454545455e-05, 'epoch': 5.91}\n"
     ]
    },
    {
     "name": "stderr",
     "output_type": "stream",
     "text": [
      " 60%|██████    | 66/110 [25:32<16:14, 22.14s/it]"
     ]
    },
    {
     "name": "stdout",
     "output_type": "stream",
     "text": [
      "{'loss': 2.0924, 'learning_rate': 2.4e-05, 'epoch': 6.0}\n"
     ]
    },
    {
     "name": "stderr",
     "output_type": "stream",
     "text": [
      " 61%|██████    | 67/110 [25:50<14:54, 20.81s/it]"
     ]
    },
    {
     "name": "stdout",
     "output_type": "stream",
     "text": [
      "{'loss': 1.9306, 'learning_rate': 2.3454545454545456e-05, 'epoch': 6.09}\n"
     ]
    },
    {
     "name": "stderr",
     "output_type": "stream",
     "text": [
      " 62%|██████▏   | 68/110 [26:07<13:50, 19.77s/it]"
     ]
    },
    {
     "name": "stdout",
     "output_type": "stream",
     "text": [
      "{'loss': 1.9345, 'learning_rate': 2.290909090909091e-05, 'epoch': 6.18}\n"
     ]
    },
    {
     "name": "stderr",
     "output_type": "stream",
     "text": [
      " 63%|██████▎   | 69/110 [26:25<13:04, 19.13s/it]"
     ]
    },
    {
     "name": "stdout",
     "output_type": "stream",
     "text": [
      "{'loss': 1.9788, 'learning_rate': 2.2363636363636366e-05, 'epoch': 6.27}\n"
     ]
    },
    {
     "name": "stderr",
     "output_type": "stream",
     "text": [
      " 64%|██████▎   | 70/110 [26:42<12:28, 18.72s/it]"
     ]
    },
    {
     "name": "stdout",
     "output_type": "stream",
     "text": [
      "{'loss': 1.9495, 'learning_rate': 2.1818181818181818e-05, 'epoch': 6.36}\n"
     ]
    },
    {
     "name": "stderr",
     "output_type": "stream",
     "text": [
      " 65%|██████▍   | 71/110 [27:00<11:52, 18.27s/it]"
     ]
    },
    {
     "name": "stdout",
     "output_type": "stream",
     "text": [
      "{'loss': 2.3299, 'learning_rate': 2.1272727272727273e-05, 'epoch': 6.45}\n"
     ]
    },
    {
     "name": "stderr",
     "output_type": "stream",
     "text": [
      " 65%|██████▌   | 72/110 [27:17<11:25, 18.05s/it]"
     ]
    },
    {
     "name": "stdout",
     "output_type": "stream",
     "text": [
      "{'loss': 1.9251, 'learning_rate': 2.0727272727272728e-05, 'epoch': 6.55}\n"
     ]
    },
    {
     "name": "stderr",
     "output_type": "stream",
     "text": [
      " 66%|██████▋   | 73/110 [27:35<11:01, 17.89s/it]"
     ]
    },
    {
     "name": "stdout",
     "output_type": "stream",
     "text": [
      "{'loss': 1.969, 'learning_rate': 2.0181818181818183e-05, 'epoch': 6.64}\n"
     ]
    },
    {
     "name": "stderr",
     "output_type": "stream",
     "text": [
      " 67%|██████▋   | 74/110 [27:52<10:40, 17.79s/it]"
     ]
    },
    {
     "name": "stdout",
     "output_type": "stream",
     "text": [
      "{'loss': 1.8727, 'learning_rate': 1.963636363636364e-05, 'epoch': 6.73}\n"
     ]
    },
    {
     "name": "stderr",
     "output_type": "stream",
     "text": [
      " 68%|██████▊   | 75/110 [28:10<10:19, 17.71s/it]"
     ]
    },
    {
     "name": "stdout",
     "output_type": "stream",
     "text": [
      "{'loss': 2.0391, 'learning_rate': 1.909090909090909e-05, 'epoch': 6.82}\n"
     ]
    },
    {
     "name": "stderr",
     "output_type": "stream",
     "text": [
      " 69%|██████▉   | 76/110 [28:27<10:00, 17.65s/it]"
     ]
    },
    {
     "name": "stdout",
     "output_type": "stream",
     "text": [
      "{'loss': 2.2392, 'learning_rate': 1.8545454545454545e-05, 'epoch': 6.91}\n"
     ]
    },
    {
     "name": "stderr",
     "output_type": "stream",
     "text": [
      " 70%|███████   | 77/110 [28:36<08:18, 15.10s/it]"
     ]
    },
    {
     "name": "stdout",
     "output_type": "stream",
     "text": [
      "{'loss': 1.9646, 'learning_rate': 1.8e-05, 'epoch': 7.0}\n"
     ]
    },
    {
     "name": "stderr",
     "output_type": "stream",
     "text": [
      " 71%|███████   | 78/110 [28:54<08:25, 15.79s/it]"
     ]
    },
    {
     "name": "stdout",
     "output_type": "stream",
     "text": [
      "{'loss': 2.0674, 'learning_rate': 1.7454545454545456e-05, 'epoch': 7.09}\n"
     ]
    },
    {
     "name": "stderr",
     "output_type": "stream",
     "text": [
      " 72%|███████▏  | 79/110 [29:11<08:27, 16.36s/it]"
     ]
    },
    {
     "name": "stdout",
     "output_type": "stream",
     "text": [
      "{'loss': 1.9589, 'learning_rate': 1.6909090909090907e-05, 'epoch': 7.18}\n"
     ]
    },
    {
     "name": "stderr",
     "output_type": "stream",
     "text": [
      " 73%|███████▎  | 80/110 [29:29<08:20, 16.68s/it]"
     ]
    },
    {
     "name": "stdout",
     "output_type": "stream",
     "text": [
      "{'loss': 1.9483, 'learning_rate': 1.6363636363636363e-05, 'epoch': 7.27}\n"
     ]
    },
    {
     "name": "stderr",
     "output_type": "stream",
     "text": [
      "C:\\Users\\kuian\\.cache\\huggingface\\modules\\evaluate_modules\\metrics\\evaluate-metric--mean_iou\\08bc20f4f895f3caf75fb9e3fada1404bded3c3265243d05327cbb3b9326ffe9\\mean_iou.py:259: RuntimeWarning: invalid value encountered in divide\n",
      "  iou = total_area_intersect / total_area_union\n",
      "C:\\Users\\kuian\\.cache\\huggingface\\modules\\evaluate_modules\\metrics\\evaluate-metric--mean_iou\\08bc20f4f895f3caf75fb9e3fada1404bded3c3265243d05327cbb3b9326ffe9\\mean_iou.py:260: RuntimeWarning: invalid value encountered in divide\n",
      "  acc = total_area_intersect / total_area_label\n",
      "                                                \n",
      " 73%|███████▎  | 80/110 [31:51<08:20, 16.68s/it]"
     ]
    },
    {
     "name": "stdout",
     "output_type": "stream",
     "text": [
      "{'eval_loss': 1.8224740028381348, 'eval_mean_iou': 0.21741457268461725, 'eval_mean_accuracy': 0.9763504834000365, 'eval_overall_accuracy': 0.9808723229778371, 'eval_per_category_iou': [0.9804308114633828, 0.5414711973289379, nan, 0.0, nan, 0.0, nan, nan, nan, nan, 0.0, nan, nan, 0.0, nan, nan, 0.0, nan, nan], 'eval_per_category_accuracy': [0.9810925526526263, 0.9716084141474467, nan, nan, nan, nan, nan, nan, nan, nan, nan, nan, nan, nan, nan, nan, nan, nan, nan], 'eval_runtime': 141.8831, 'eval_samples_per_second': 0.366, 'eval_steps_per_second': 0.042, 'epoch': 7.27}\n"
     ]
    },
    {
     "name": "stderr",
     "output_type": "stream",
     "text": [
      " 74%|███████▎  | 81/110 [32:08<28:40, 59.33s/it]"
     ]
    },
    {
     "name": "stdout",
     "output_type": "stream",
     "text": [
      "{'loss': 1.8836, 'learning_rate': 1.5818181818181818e-05, 'epoch': 7.36}\n"
     ]
    },
    {
     "name": "stderr",
     "output_type": "stream",
     "text": [
      " 75%|███████▍  | 82/110 [32:25<21:46, 46.65s/it]"
     ]
    },
    {
     "name": "stdout",
     "output_type": "stream",
     "text": [
      "{'loss': 1.9192, 'learning_rate': 1.5272727272727273e-05, 'epoch': 7.45}\n"
     ]
    },
    {
     "name": "stderr",
     "output_type": "stream",
     "text": [
      " 75%|███████▌  | 83/110 [32:42<17:02, 37.88s/it]"
     ]
    },
    {
     "name": "stdout",
     "output_type": "stream",
     "text": [
      "{'loss': 1.8878, 'learning_rate': 1.4727272727272728e-05, 'epoch': 7.55}\n"
     ]
    },
    {
     "name": "stderr",
     "output_type": "stream",
     "text": [
      " 76%|███████▋  | 84/110 [33:00<13:45, 31.74s/it]"
     ]
    },
    {
     "name": "stdout",
     "output_type": "stream",
     "text": [
      "{'loss': 1.8765, 'learning_rate': 1.4181818181818181e-05, 'epoch': 7.64}\n"
     ]
    },
    {
     "name": "stderr",
     "output_type": "stream",
     "text": [
      " 77%|███████▋  | 85/110 [33:17<11:27, 27.48s/it]"
     ]
    },
    {
     "name": "stdout",
     "output_type": "stream",
     "text": [
      "{'loss': 1.8812, 'learning_rate': 1.3636363636363637e-05, 'epoch': 7.73}\n"
     ]
    },
    {
     "name": "stderr",
     "output_type": "stream",
     "text": [
      " 78%|███████▊  | 86/110 [33:35<09:47, 24.48s/it]"
     ]
    },
    {
     "name": "stdout",
     "output_type": "stream",
     "text": [
      "{'loss': 1.8688, 'learning_rate': 1.309090909090909e-05, 'epoch': 7.82}\n"
     ]
    },
    {
     "name": "stderr",
     "output_type": "stream",
     "text": [
      " 79%|███████▉  | 87/110 [33:52<08:34, 22.38s/it]"
     ]
    },
    {
     "name": "stdout",
     "output_type": "stream",
     "text": [
      "{'loss': 1.8859, 'learning_rate': 1.2545454545454545e-05, 'epoch': 7.91}\n"
     ]
    },
    {
     "name": "stderr",
     "output_type": "stream",
     "text": [
      " 80%|████████  | 88/110 [34:01<06:44, 18.38s/it]"
     ]
    },
    {
     "name": "stdout",
     "output_type": "stream",
     "text": [
      "{'loss': 1.9683, 'learning_rate': 1.2e-05, 'epoch': 8.0}\n"
     ]
    },
    {
     "name": "stderr",
     "output_type": "stream",
     "text": [
      " 81%|████████  | 89/110 [34:19<06:20, 18.12s/it]"
     ]
    },
    {
     "name": "stdout",
     "output_type": "stream",
     "text": [
      "{'loss': 1.8459, 'learning_rate': 1.1454545454545455e-05, 'epoch': 8.09}\n"
     ]
    },
    {
     "name": "stderr",
     "output_type": "stream",
     "text": [
      " 82%|████████▏ | 90/110 [34:36<05:57, 17.89s/it]"
     ]
    },
    {
     "name": "stdout",
     "output_type": "stream",
     "text": [
      "{'loss': 2.0552, 'learning_rate': 1.0909090909090909e-05, 'epoch': 8.18}\n"
     ]
    },
    {
     "name": "stderr",
     "output_type": "stream",
     "text": [
      " 83%|████████▎ | 91/110 [34:53<05:35, 17.64s/it]"
     ]
    },
    {
     "name": "stdout",
     "output_type": "stream",
     "text": [
      "{'loss': 2.1157, 'learning_rate': 1.0363636363636364e-05, 'epoch': 8.27}\n"
     ]
    },
    {
     "name": "stderr",
     "output_type": "stream",
     "text": [
      " 84%|████████▎ | 92/110 [35:11<05:18, 17.69s/it]"
     ]
    },
    {
     "name": "stdout",
     "output_type": "stream",
     "text": [
      "{'loss': 2.0524, 'learning_rate': 9.81818181818182e-06, 'epoch': 8.36}\n"
     ]
    },
    {
     "name": "stderr",
     "output_type": "stream",
     "text": [
      " 85%|████████▍ | 93/110 [35:29<05:00, 17.71s/it]"
     ]
    },
    {
     "name": "stdout",
     "output_type": "stream",
     "text": [
      "{'loss': 1.9352, 'learning_rate': 9.272727272727273e-06, 'epoch': 8.45}\n"
     ]
    },
    {
     "name": "stderr",
     "output_type": "stream",
     "text": [
      " 85%|████████▌ | 94/110 [35:47<04:44, 17.77s/it]"
     ]
    },
    {
     "name": "stdout",
     "output_type": "stream",
     "text": [
      "{'loss': 1.86, 'learning_rate': 8.727272727272728e-06, 'epoch': 8.55}\n"
     ]
    },
    {
     "name": "stderr",
     "output_type": "stream",
     "text": [
      " 86%|████████▋ | 95/110 [36:04<04:25, 17.69s/it]"
     ]
    },
    {
     "name": "stdout",
     "output_type": "stream",
     "text": [
      "{'loss': 1.8077, 'learning_rate': 8.181818181818181e-06, 'epoch': 8.64}\n"
     ]
    },
    {
     "name": "stderr",
     "output_type": "stream",
     "text": [
      " 87%|████████▋ | 96/110 [36:22<04:07, 17.66s/it]"
     ]
    },
    {
     "name": "stdout",
     "output_type": "stream",
     "text": [
      "{'loss': 1.9158, 'learning_rate': 7.636363636363636e-06, 'epoch': 8.73}\n"
     ]
    },
    {
     "name": "stderr",
     "output_type": "stream",
     "text": [
      " 88%|████████▊ | 97/110 [36:39<03:48, 17.60s/it]"
     ]
    },
    {
     "name": "stdout",
     "output_type": "stream",
     "text": [
      "{'loss': 1.8067, 'learning_rate': 7.090909090909091e-06, 'epoch': 8.82}\n"
     ]
    },
    {
     "name": "stderr",
     "output_type": "stream",
     "text": [
      " 89%|████████▉ | 98/110 [36:57<03:31, 17.61s/it]"
     ]
    },
    {
     "name": "stdout",
     "output_type": "stream",
     "text": [
      "{'loss': 1.8853, 'learning_rate': 6.545454545454545e-06, 'epoch': 8.91}\n"
     ]
    },
    {
     "name": "stderr",
     "output_type": "stream",
     "text": [
      " 90%|█████████ | 99/110 [37:06<02:45, 15.05s/it]"
     ]
    },
    {
     "name": "stdout",
     "output_type": "stream",
     "text": [
      "{'loss': 1.8781, 'learning_rate': 6e-06, 'epoch': 9.0}\n"
     ]
    },
    {
     "name": "stderr",
     "output_type": "stream",
     "text": [
      " 91%|█████████ | 100/110 [37:23<02:37, 15.76s/it]"
     ]
    },
    {
     "name": "stdout",
     "output_type": "stream",
     "text": [
      "{'loss': 1.8573, 'learning_rate': 5.4545454545454545e-06, 'epoch': 9.09}\n"
     ]
    },
    {
     "name": "stderr",
     "output_type": "stream",
     "text": [
      "C:\\Users\\kuian\\.cache\\huggingface\\modules\\evaluate_modules\\metrics\\evaluate-metric--mean_iou\\08bc20f4f895f3caf75fb9e3fada1404bded3c3265243d05327cbb3b9326ffe9\\mean_iou.py:259: RuntimeWarning: invalid value encountered in divide\n",
      "  iou = total_area_intersect / total_area_union\n",
      "C:\\Users\\kuian\\.cache\\huggingface\\modules\\evaluate_modules\\metrics\\evaluate-metric--mean_iou\\08bc20f4f895f3caf75fb9e3fada1404bded3c3265243d05327cbb3b9326ffe9\\mean_iou.py:260: RuntimeWarning: invalid value encountered in divide\n",
      "  acc = total_area_intersect / total_area_label\n",
      "                                                 \n",
      " 91%|█████████ | 100/110 [39:44<02:37, 15.76s/it]"
     ]
    },
    {
     "name": "stdout",
     "output_type": "stream",
     "text": [
      "{'eval_loss': 1.8133410215377808, 'eval_mean_iou': 0.31451255122000676, 'eval_mean_accuracy': 0.9682472518349763, 'eval_overall_accuracy': 0.9845462211165715, 'eval_per_category_iou': [0.9841971906800393, 0.5883655654199944, nan, 0.0, 0.0, nan, nan, nan, nan, nan, nan, nan, nan, 0.0, nan, nan, nan, nan, nan], 'eval_per_category_accuracy': [0.9853400389074338, 0.9511544647625186, nan, nan, nan, nan, nan, nan, nan, nan, nan, nan, nan, nan, nan, nan, nan, nan, nan], 'eval_runtime': 140.6749, 'eval_samples_per_second': 0.37, 'eval_steps_per_second': 0.043, 'epoch': 9.09}\n"
     ]
    },
    {
     "name": "stderr",
     "output_type": "stream",
     "text": [
      " 92%|█████████▏| 101/110 [40:02<08:47, 58.62s/it]"
     ]
    },
    {
     "name": "stdout",
     "output_type": "stream",
     "text": [
      "{'loss': 1.8152, 'learning_rate': 4.90909090909091e-06, 'epoch': 9.18}\n"
     ]
    },
    {
     "name": "stderr",
     "output_type": "stream",
     "text": [
      " 93%|█████████▎| 102/110 [40:19<06:10, 46.29s/it]"
     ]
    },
    {
     "name": "stdout",
     "output_type": "stream",
     "text": [
      "{'loss': 1.8628, 'learning_rate': 4.363636363636364e-06, 'epoch': 9.27}\n"
     ]
    },
    {
     "name": "stderr",
     "output_type": "stream",
     "text": [
      " 94%|█████████▎| 103/110 [40:37<04:23, 37.65s/it]"
     ]
    },
    {
     "name": "stdout",
     "output_type": "stream",
     "text": [
      "{'loss': 2.1175, 'learning_rate': 3.818181818181818e-06, 'epoch': 9.36}\n"
     ]
    },
    {
     "name": "stderr",
     "output_type": "stream",
     "text": [
      " 95%|█████████▍| 104/110 [40:54<03:09, 31.57s/it]"
     ]
    },
    {
     "name": "stdout",
     "output_type": "stream",
     "text": [
      "{'loss': 1.9229, 'learning_rate': 3.2727272727272725e-06, 'epoch': 9.45}\n"
     ]
    },
    {
     "name": "stderr",
     "output_type": "stream",
     "text": [
      " 95%|█████████▌| 105/110 [41:11<02:15, 27.18s/it]"
     ]
    },
    {
     "name": "stdout",
     "output_type": "stream",
     "text": [
      "{'loss': 1.9264, 'learning_rate': 2.7272727272727272e-06, 'epoch': 9.55}\n"
     ]
    },
    {
     "name": "stderr",
     "output_type": "stream",
     "text": [
      " 96%|█████████▋| 106/110 [41:28<01:36, 24.16s/it]"
     ]
    },
    {
     "name": "stdout",
     "output_type": "stream",
     "text": [
      "{'loss': 2.0426, 'learning_rate': 2.181818181818182e-06, 'epoch': 9.64}\n"
     ]
    },
    {
     "name": "stderr",
     "output_type": "stream",
     "text": [
      " 97%|█████████▋| 107/110 [41:46<01:06, 22.21s/it]"
     ]
    },
    {
     "name": "stdout",
     "output_type": "stream",
     "text": [
      "{'loss': 1.81, 'learning_rate': 1.6363636363636363e-06, 'epoch': 9.73}\n"
     ]
    },
    {
     "name": "stderr",
     "output_type": "stream",
     "text": [
      " 98%|█████████▊| 108/110 [42:03<00:41, 20.77s/it]"
     ]
    },
    {
     "name": "stdout",
     "output_type": "stream",
     "text": [
      "{'loss': 1.8099, 'learning_rate': 1.090909090909091e-06, 'epoch': 9.82}\n"
     ]
    },
    {
     "name": "stderr",
     "output_type": "stream",
     "text": [
      " 99%|█████████▉| 109/110 [42:21<00:19, 19.84s/it]"
     ]
    },
    {
     "name": "stdout",
     "output_type": "stream",
     "text": [
      "{'loss': 1.8384, 'learning_rate': 5.454545454545455e-07, 'epoch': 9.91}\n"
     ]
    },
    {
     "name": "stderr",
     "output_type": "stream",
     "text": [
      "100%|██████████| 110/110 [42:30<00:00, 23.19s/it]"
     ]
    },
    {
     "name": "stdout",
     "output_type": "stream",
     "text": [
      "{'loss': 2.063, 'learning_rate': 0.0, 'epoch': 10.0}\n",
      "{'train_runtime': 2550.7498, 'train_samples_per_second': 0.412, 'train_steps_per_second': 0.043, 'train_loss': 2.189501702785492, 'epoch': 10.0}\n"
     ]
    },
    {
     "name": "stderr",
     "output_type": "stream",
     "text": [
      "\n"
     ]
    },
    {
     "data": {
      "text/plain": [
       "TrainOutput(global_step=110, training_loss=2.189501702785492, metrics={'train_runtime': 2550.7498, 'train_samples_per_second': 0.412, 'train_steps_per_second': 0.043, 'train_loss': 2.189501702785492, 'epoch': 10.0})"
      ]
     },
     "execution_count": 18,
     "metadata": {},
     "output_type": "execute_result"
    }
   ],
   "source": [
    "braod_bean_trainer = initialize_trainer(broad_bean_train_ds, broad_bean_val_ds)\n",
    "braod_bean_trainer.train()"
   ]
  },
  {
   "cell_type": "code",
   "execution_count": 27,
   "metadata": {},
   "outputs": [
    {
     "data": {
      "text/plain": [
       "[{'loss': 3.0092,\n",
       "  'learning_rate': 5.945454545454546e-05,\n",
       "  'epoch': 0.09,\n",
       "  'step': 1},\n",
       " {'loss': 2.9758,\n",
       "  'learning_rate': 5.890909090909091e-05,\n",
       "  'epoch': 0.18,\n",
       "  'step': 2},\n",
       " {'loss': 2.9369,\n",
       "  'learning_rate': 5.836363636363637e-05,\n",
       "  'epoch': 0.27,\n",
       "  'step': 3},\n",
       " {'loss': 2.9338,\n",
       "  'learning_rate': 5.781818181818182e-05,\n",
       "  'epoch': 0.36,\n",
       "  'step': 4},\n",
       " {'loss': 2.8678,\n",
       "  'learning_rate': 5.7272727272727274e-05,\n",
       "  'epoch': 0.45,\n",
       "  'step': 5},\n",
       " {'loss': 2.8533,\n",
       "  'learning_rate': 5.6727272727272726e-05,\n",
       "  'epoch': 0.55,\n",
       "  'step': 6},\n",
       " {'loss': 2.8616,\n",
       "  'learning_rate': 5.6181818181818184e-05,\n",
       "  'epoch': 0.64,\n",
       "  'step': 7},\n",
       " {'loss': 2.8397,\n",
       "  'learning_rate': 5.5636363636363636e-05,\n",
       "  'epoch': 0.73,\n",
       "  'step': 8},\n",
       " {'loss': 2.7624,\n",
       "  'learning_rate': 5.5090909090909094e-05,\n",
       "  'epoch': 0.82,\n",
       "  'step': 9},\n",
       " {'loss': 2.7696,\n",
       "  'learning_rate': 5.4545454545454546e-05,\n",
       "  'epoch': 0.91,\n",
       "  'step': 10},\n",
       " {'loss': 2.7335,\n",
       "  'learning_rate': 5.4000000000000005e-05,\n",
       "  'epoch': 1.0,\n",
       "  'step': 11},\n",
       " {'loss': 2.6787,\n",
       "  'learning_rate': 5.3454545454545457e-05,\n",
       "  'epoch': 1.09,\n",
       "  'step': 12},\n",
       " {'loss': 2.6233,\n",
       "  'learning_rate': 5.290909090909091e-05,\n",
       "  'epoch': 1.18,\n",
       "  'step': 13},\n",
       " {'loss': 2.6291,\n",
       "  'learning_rate': 5.236363636363636e-05,\n",
       "  'epoch': 1.27,\n",
       "  'step': 14},\n",
       " {'loss': 2.662,\n",
       "  'learning_rate': 5.181818181818182e-05,\n",
       "  'epoch': 1.36,\n",
       "  'step': 15},\n",
       " {'loss': 2.6556,\n",
       "  'learning_rate': 5.127272727272727e-05,\n",
       "  'epoch': 1.45,\n",
       "  'step': 16},\n",
       " {'loss': 2.553,\n",
       "  'learning_rate': 5.072727272727273e-05,\n",
       "  'epoch': 1.55,\n",
       "  'step': 17},\n",
       " {'loss': 2.503,\n",
       "  'learning_rate': 5.018181818181818e-05,\n",
       "  'epoch': 1.64,\n",
       "  'step': 18},\n",
       " {'loss': 2.4517,\n",
       "  'learning_rate': 4.963636363636364e-05,\n",
       "  'epoch': 1.73,\n",
       "  'step': 19},\n",
       " {'loss': 2.4555,\n",
       "  'learning_rate': 4.90909090909091e-05,\n",
       "  'epoch': 1.82,\n",
       "  'step': 20},\n",
       " {'eval_loss': 2.826364040374756,\n",
       "  'eval_mean_iou': 0.06909370840388247,\n",
       "  'eval_mean_accuracy': 0.9717052117918751,\n",
       "  'eval_overall_accuracy': 0.9458694730836149,\n",
       "  'eval_per_category_iou': [0.9445901064015024,\n",
       "   0.36819035327226474,\n",
       "   0.0,\n",
       "   0.0,\n",
       "   0.0,\n",
       "   0.0,\n",
       "   0.0,\n",
       "   0.0,\n",
       "   0.0,\n",
       "   0.0,\n",
       "   0.0,\n",
       "   0.0,\n",
       "   0.0,\n",
       "   0.0,\n",
       "   0.0,\n",
       "   0.0,\n",
       "   0.0,\n",
       "   0.0,\n",
       "   0.0],\n",
       "  'eval_per_category_accuracy': [0.9446111806927062,\n",
       "   0.9987992428910439,\n",
       "   nan,\n",
       "   nan,\n",
       "   nan,\n",
       "   nan,\n",
       "   nan,\n",
       "   nan,\n",
       "   nan,\n",
       "   nan,\n",
       "   nan,\n",
       "   nan,\n",
       "   nan,\n",
       "   nan,\n",
       "   nan,\n",
       "   nan,\n",
       "   nan,\n",
       "   nan,\n",
       "   nan],\n",
       "  'eval_runtime': 157.7162,\n",
       "  'eval_samples_per_second': 0.33,\n",
       "  'eval_steps_per_second': 0.038,\n",
       "  'epoch': 1.82,\n",
       "  'step': 20},\n",
       " {'loss': 2.4991,\n",
       "  'learning_rate': 4.854545454545455e-05,\n",
       "  'epoch': 1.91,\n",
       "  'step': 21},\n",
       " {'loss': 2.4588, 'learning_rate': 4.8e-05, 'epoch': 2.0, 'step': 22},\n",
       " {'loss': 2.4628,\n",
       "  'learning_rate': 4.745454545454545e-05,\n",
       "  'epoch': 2.09,\n",
       "  'step': 23},\n",
       " {'loss': 2.4627,\n",
       "  'learning_rate': 4.690909090909091e-05,\n",
       "  'epoch': 2.18,\n",
       "  'step': 24},\n",
       " {'loss': 2.4227,\n",
       "  'learning_rate': 4.636363636363636e-05,\n",
       "  'epoch': 2.27,\n",
       "  'step': 25},\n",
       " {'loss': 2.3346,\n",
       "  'learning_rate': 4.581818181818182e-05,\n",
       "  'epoch': 2.36,\n",
       "  'step': 26},\n",
       " {'loss': 2.3522,\n",
       "  'learning_rate': 4.5272727272727274e-05,\n",
       "  'epoch': 2.45,\n",
       "  'step': 27},\n",
       " {'loss': 2.3409,\n",
       "  'learning_rate': 4.472727272727273e-05,\n",
       "  'epoch': 2.55,\n",
       "  'step': 28},\n",
       " {'loss': 2.3048,\n",
       "  'learning_rate': 4.4181818181818184e-05,\n",
       "  'epoch': 2.64,\n",
       "  'step': 29},\n",
       " {'loss': 2.2901,\n",
       "  'learning_rate': 4.3636363636363636e-05,\n",
       "  'epoch': 2.73,\n",
       "  'step': 30},\n",
       " {'loss': 2.2801,\n",
       "  'learning_rate': 4.309090909090909e-05,\n",
       "  'epoch': 2.82,\n",
       "  'step': 31},\n",
       " {'loss': 2.2288,\n",
       "  'learning_rate': 4.2545454545454546e-05,\n",
       "  'epoch': 2.91,\n",
       "  'step': 32},\n",
       " {'loss': 2.403, 'learning_rate': 4.2e-05, 'epoch': 3.0, 'step': 33},\n",
       " {'loss': 2.3535,\n",
       "  'learning_rate': 4.1454545454545456e-05,\n",
       "  'epoch': 3.09,\n",
       "  'step': 34},\n",
       " {'loss': 2.2335,\n",
       "  'learning_rate': 4.090909090909091e-05,\n",
       "  'epoch': 3.18,\n",
       "  'step': 35},\n",
       " {'loss': 2.1911,\n",
       "  'learning_rate': 4.0363636363636367e-05,\n",
       "  'epoch': 3.27,\n",
       "  'step': 36},\n",
       " {'loss': 2.1927,\n",
       "  'learning_rate': 3.9818181818181825e-05,\n",
       "  'epoch': 3.36,\n",
       "  'step': 37},\n",
       " {'loss': 2.1894,\n",
       "  'learning_rate': 3.927272727272728e-05,\n",
       "  'epoch': 3.45,\n",
       "  'step': 38},\n",
       " {'loss': 2.1927,\n",
       "  'learning_rate': 3.872727272727273e-05,\n",
       "  'epoch': 3.55,\n",
       "  'step': 39},\n",
       " {'loss': 2.1924,\n",
       "  'learning_rate': 3.818181818181818e-05,\n",
       "  'epoch': 3.64,\n",
       "  'step': 40},\n",
       " {'eval_loss': 2.4098501205444336,\n",
       "  'eval_mean_iou': 0.11069646922135404,\n",
       "  'eval_mean_accuracy': 0.9796946095174454,\n",
       "  'eval_overall_accuracy': 0.9727614242309688,\n",
       "  'eval_per_category_iou': [0.9721263196913349,\n",
       "   0.4669277801862676,\n",
       "   nan,\n",
       "   0.0,\n",
       "   0.0,\n",
       "   0.0,\n",
       "   0.0,\n",
       "   nan,\n",
       "   0.0,\n",
       "   nan,\n",
       "   0.0,\n",
       "   0.0,\n",
       "   nan,\n",
       "   0.0,\n",
       "   nan,\n",
       "   0.0,\n",
       "   0.0,\n",
       "   0.0,\n",
       "   nan],\n",
       "  'eval_per_category_accuracy': [0.9724237534413217,\n",
       "   0.986965465593569,\n",
       "   nan,\n",
       "   nan,\n",
       "   nan,\n",
       "   nan,\n",
       "   nan,\n",
       "   nan,\n",
       "   nan,\n",
       "   nan,\n",
       "   nan,\n",
       "   nan,\n",
       "   nan,\n",
       "   nan,\n",
       "   nan,\n",
       "   nan,\n",
       "   nan,\n",
       "   nan,\n",
       "   nan],\n",
       "  'eval_runtime': 156.4486,\n",
       "  'eval_samples_per_second': 0.332,\n",
       "  'eval_steps_per_second': 0.038,\n",
       "  'epoch': 3.64,\n",
       "  'step': 40},\n",
       " {'loss': 2.1771,\n",
       "  'learning_rate': 3.763636363636364e-05,\n",
       "  'epoch': 3.73,\n",
       "  'step': 41},\n",
       " {'loss': 2.169,\n",
       "  'learning_rate': 3.709090909090909e-05,\n",
       "  'epoch': 3.82,\n",
       "  'step': 42},\n",
       " {'loss': 2.2428,\n",
       "  'learning_rate': 3.654545454545455e-05,\n",
       "  'epoch': 3.91,\n",
       "  'step': 43},\n",
       " {'loss': 2.0155, 'learning_rate': 3.6e-05, 'epoch': 4.0, 'step': 44},\n",
       " {'loss': 2.1332,\n",
       "  'learning_rate': 3.545454545454546e-05,\n",
       "  'epoch': 4.09,\n",
       "  'step': 45},\n",
       " {'loss': 2.0594,\n",
       "  'learning_rate': 3.490909090909091e-05,\n",
       "  'epoch': 4.18,\n",
       "  'step': 46},\n",
       " {'loss': 2.2001,\n",
       "  'learning_rate': 3.436363636363636e-05,\n",
       "  'epoch': 4.27,\n",
       "  'step': 47},\n",
       " {'loss': 2.0468,\n",
       "  'learning_rate': 3.3818181818181815e-05,\n",
       "  'epoch': 4.36,\n",
       "  'step': 48},\n",
       " {'loss': 2.0688,\n",
       "  'learning_rate': 3.327272727272727e-05,\n",
       "  'epoch': 4.45,\n",
       "  'step': 49},\n",
       " {'loss': 2.0312,\n",
       "  'learning_rate': 3.2727272727272725e-05,\n",
       "  'epoch': 4.55,\n",
       "  'step': 50},\n",
       " {'loss': 2.2186,\n",
       "  'learning_rate': 3.2181818181818184e-05,\n",
       "  'epoch': 4.64,\n",
       "  'step': 51},\n",
       " {'loss': 2.0978,\n",
       "  'learning_rate': 3.1636363636363635e-05,\n",
       "  'epoch': 4.73,\n",
       "  'step': 52},\n",
       " {'loss': 2.1335,\n",
       "  'learning_rate': 3.1090909090909094e-05,\n",
       "  'epoch': 4.82,\n",
       "  'step': 53},\n",
       " {'loss': 2.0211,\n",
       "  'learning_rate': 3.0545454545454546e-05,\n",
       "  'epoch': 4.91,\n",
       "  'step': 54},\n",
       " {'loss': 1.9533, 'learning_rate': 3e-05, 'epoch': 5.0, 'step': 55},\n",
       " {'loss': 2.1849,\n",
       "  'learning_rate': 2.9454545454545456e-05,\n",
       "  'epoch': 5.09,\n",
       "  'step': 56},\n",
       " {'loss': 2.11,\n",
       "  'learning_rate': 2.890909090909091e-05,\n",
       "  'epoch': 5.18,\n",
       "  'step': 57},\n",
       " {'loss': 2.0855,\n",
       "  'learning_rate': 2.8363636363636363e-05,\n",
       "  'epoch': 5.27,\n",
       "  'step': 58},\n",
       " {'loss': 2.0442,\n",
       "  'learning_rate': 2.7818181818181818e-05,\n",
       "  'epoch': 5.36,\n",
       "  'step': 59},\n",
       " {'loss': 1.9896,\n",
       "  'learning_rate': 2.7272727272727273e-05,\n",
       "  'epoch': 5.45,\n",
       "  'step': 60},\n",
       " {'eval_loss': 1.7253865003585815,\n",
       "  'eval_mean_iou': 0.24895879640159216,\n",
       "  'eval_mean_accuracy': 0.9764682872797605,\n",
       "  'eval_overall_accuracy': 0.9785232147511229,\n",
       "  'eval_per_category_iou': [0.9780261417270578,\n",
       "   0.5157266366824951,\n",
       "   nan,\n",
       "   0.0,\n",
       "   nan,\n",
       "   0.0,\n",
       "   nan,\n",
       "   nan,\n",
       "   nan,\n",
       "   nan,\n",
       "   nan,\n",
       "   0.0,\n",
       "   nan,\n",
       "   nan,\n",
       "   nan,\n",
       "   nan,\n",
       "   0.0,\n",
       "   nan,\n",
       "   nan],\n",
       "  'eval_per_category_accuracy': [0.9786232970297944,\n",
       "   0.9743132775297266,\n",
       "   nan,\n",
       "   nan,\n",
       "   nan,\n",
       "   nan,\n",
       "   nan,\n",
       "   nan,\n",
       "   nan,\n",
       "   nan,\n",
       "   nan,\n",
       "   nan,\n",
       "   nan,\n",
       "   nan,\n",
       "   nan,\n",
       "   nan,\n",
       "   nan,\n",
       "   nan,\n",
       "   nan],\n",
       "  'eval_runtime': 142.1735,\n",
       "  'eval_samples_per_second': 0.366,\n",
       "  'eval_steps_per_second': 0.042,\n",
       "  'epoch': 5.45,\n",
       "  'step': 60},\n",
       " {'loss': 2.0211,\n",
       "  'learning_rate': 2.6727272727272728e-05,\n",
       "  'epoch': 5.55,\n",
       "  'step': 61},\n",
       " {'loss': 2.0315,\n",
       "  'learning_rate': 2.618181818181818e-05,\n",
       "  'epoch': 5.64,\n",
       "  'step': 62},\n",
       " {'loss': 1.9932,\n",
       "  'learning_rate': 2.5636363636363635e-05,\n",
       "  'epoch': 5.73,\n",
       "  'step': 63},\n",
       " {'loss': 1.9858,\n",
       "  'learning_rate': 2.509090909090909e-05,\n",
       "  'epoch': 5.82,\n",
       "  'step': 64},\n",
       " {'loss': 2.0951,\n",
       "  'learning_rate': 2.454545454545455e-05,\n",
       "  'epoch': 5.91,\n",
       "  'step': 65},\n",
       " {'loss': 2.0924, 'learning_rate': 2.4e-05, 'epoch': 6.0, 'step': 66},\n",
       " {'loss': 1.9306,\n",
       "  'learning_rate': 2.3454545454545456e-05,\n",
       "  'epoch': 6.09,\n",
       "  'step': 67},\n",
       " {'loss': 1.9345,\n",
       "  'learning_rate': 2.290909090909091e-05,\n",
       "  'epoch': 6.18,\n",
       "  'step': 68},\n",
       " {'loss': 1.9788,\n",
       "  'learning_rate': 2.2363636363636366e-05,\n",
       "  'epoch': 6.27,\n",
       "  'step': 69},\n",
       " {'loss': 1.9495,\n",
       "  'learning_rate': 2.1818181818181818e-05,\n",
       "  'epoch': 6.36,\n",
       "  'step': 70},\n",
       " {'loss': 2.3299,\n",
       "  'learning_rate': 2.1272727272727273e-05,\n",
       "  'epoch': 6.45,\n",
       "  'step': 71},\n",
       " {'loss': 1.9251,\n",
       "  'learning_rate': 2.0727272727272728e-05,\n",
       "  'epoch': 6.55,\n",
       "  'step': 72},\n",
       " {'loss': 1.969,\n",
       "  'learning_rate': 2.0181818181818183e-05,\n",
       "  'epoch': 6.64,\n",
       "  'step': 73},\n",
       " {'loss': 1.8727,\n",
       "  'learning_rate': 1.963636363636364e-05,\n",
       "  'epoch': 6.73,\n",
       "  'step': 74},\n",
       " {'loss': 2.0391,\n",
       "  'learning_rate': 1.909090909090909e-05,\n",
       "  'epoch': 6.82,\n",
       "  'step': 75},\n",
       " {'loss': 2.2392,\n",
       "  'learning_rate': 1.8545454545454545e-05,\n",
       "  'epoch': 6.91,\n",
       "  'step': 76},\n",
       " {'loss': 1.9646, 'learning_rate': 1.8e-05, 'epoch': 7.0, 'step': 77},\n",
       " {'loss': 2.0674,\n",
       "  'learning_rate': 1.7454545454545456e-05,\n",
       "  'epoch': 7.09,\n",
       "  'step': 78},\n",
       " {'loss': 1.9589,\n",
       "  'learning_rate': 1.6909090909090907e-05,\n",
       "  'epoch': 7.18,\n",
       "  'step': 79},\n",
       " {'loss': 1.9483,\n",
       "  'learning_rate': 1.6363636363636363e-05,\n",
       "  'epoch': 7.27,\n",
       "  'step': 80},\n",
       " {'eval_loss': 1.8224740028381348,\n",
       "  'eval_mean_iou': 0.21741457268461725,\n",
       "  'eval_mean_accuracy': 0.9763504834000365,\n",
       "  'eval_overall_accuracy': 0.9808723229778371,\n",
       "  'eval_per_category_iou': [0.9804308114633828,\n",
       "   0.5414711973289379,\n",
       "   nan,\n",
       "   0.0,\n",
       "   nan,\n",
       "   0.0,\n",
       "   nan,\n",
       "   nan,\n",
       "   nan,\n",
       "   nan,\n",
       "   0.0,\n",
       "   nan,\n",
       "   nan,\n",
       "   0.0,\n",
       "   nan,\n",
       "   nan,\n",
       "   0.0,\n",
       "   nan,\n",
       "   nan],\n",
       "  'eval_per_category_accuracy': [0.9810925526526263,\n",
       "   0.9716084141474467,\n",
       "   nan,\n",
       "   nan,\n",
       "   nan,\n",
       "   nan,\n",
       "   nan,\n",
       "   nan,\n",
       "   nan,\n",
       "   nan,\n",
       "   nan,\n",
       "   nan,\n",
       "   nan,\n",
       "   nan,\n",
       "   nan,\n",
       "   nan,\n",
       "   nan,\n",
       "   nan,\n",
       "   nan],\n",
       "  'eval_runtime': 141.8831,\n",
       "  'eval_samples_per_second': 0.366,\n",
       "  'eval_steps_per_second': 0.042,\n",
       "  'epoch': 7.27,\n",
       "  'step': 80},\n",
       " {'loss': 1.8836,\n",
       "  'learning_rate': 1.5818181818181818e-05,\n",
       "  'epoch': 7.36,\n",
       "  'step': 81},\n",
       " {'loss': 1.9192,\n",
       "  'learning_rate': 1.5272727272727273e-05,\n",
       "  'epoch': 7.45,\n",
       "  'step': 82},\n",
       " {'loss': 1.8878,\n",
       "  'learning_rate': 1.4727272727272728e-05,\n",
       "  'epoch': 7.55,\n",
       "  'step': 83},\n",
       " {'loss': 1.8765,\n",
       "  'learning_rate': 1.4181818181818181e-05,\n",
       "  'epoch': 7.64,\n",
       "  'step': 84},\n",
       " {'loss': 1.8812,\n",
       "  'learning_rate': 1.3636363636363637e-05,\n",
       "  'epoch': 7.73,\n",
       "  'step': 85},\n",
       " {'loss': 1.8688,\n",
       "  'learning_rate': 1.309090909090909e-05,\n",
       "  'epoch': 7.82,\n",
       "  'step': 86},\n",
       " {'loss': 1.8859,\n",
       "  'learning_rate': 1.2545454545454545e-05,\n",
       "  'epoch': 7.91,\n",
       "  'step': 87},\n",
       " {'loss': 1.9683, 'learning_rate': 1.2e-05, 'epoch': 8.0, 'step': 88},\n",
       " {'loss': 1.8459,\n",
       "  'learning_rate': 1.1454545454545455e-05,\n",
       "  'epoch': 8.09,\n",
       "  'step': 89},\n",
       " {'loss': 2.0552,\n",
       "  'learning_rate': 1.0909090909090909e-05,\n",
       "  'epoch': 8.18,\n",
       "  'step': 90},\n",
       " {'loss': 2.1157,\n",
       "  'learning_rate': 1.0363636363636364e-05,\n",
       "  'epoch': 8.27,\n",
       "  'step': 91},\n",
       " {'loss': 2.0524,\n",
       "  'learning_rate': 9.81818181818182e-06,\n",
       "  'epoch': 8.36,\n",
       "  'step': 92},\n",
       " {'loss': 1.9352,\n",
       "  'learning_rate': 9.272727272727273e-06,\n",
       "  'epoch': 8.45,\n",
       "  'step': 93},\n",
       " {'loss': 1.86,\n",
       "  'learning_rate': 8.727272727272728e-06,\n",
       "  'epoch': 8.55,\n",
       "  'step': 94},\n",
       " {'loss': 1.8077,\n",
       "  'learning_rate': 8.181818181818181e-06,\n",
       "  'epoch': 8.64,\n",
       "  'step': 95},\n",
       " {'loss': 1.9158,\n",
       "  'learning_rate': 7.636363636363636e-06,\n",
       "  'epoch': 8.73,\n",
       "  'step': 96},\n",
       " {'loss': 1.8067,\n",
       "  'learning_rate': 7.090909090909091e-06,\n",
       "  'epoch': 8.82,\n",
       "  'step': 97},\n",
       " {'loss': 1.8853,\n",
       "  'learning_rate': 6.545454545454545e-06,\n",
       "  'epoch': 8.91,\n",
       "  'step': 98},\n",
       " {'loss': 1.8781, 'learning_rate': 6e-06, 'epoch': 9.0, 'step': 99},\n",
       " {'loss': 1.8573,\n",
       "  'learning_rate': 5.4545454545454545e-06,\n",
       "  'epoch': 9.09,\n",
       "  'step': 100},\n",
       " {'eval_loss': 1.8133410215377808,\n",
       "  'eval_mean_iou': 0.31451255122000676,\n",
       "  'eval_mean_accuracy': 0.9682472518349763,\n",
       "  'eval_overall_accuracy': 0.9845462211165715,\n",
       "  'eval_per_category_iou': [0.9841971906800393,\n",
       "   0.5883655654199944,\n",
       "   nan,\n",
       "   0.0,\n",
       "   0.0,\n",
       "   nan,\n",
       "   nan,\n",
       "   nan,\n",
       "   nan,\n",
       "   nan,\n",
       "   nan,\n",
       "   nan,\n",
       "   nan,\n",
       "   0.0,\n",
       "   nan,\n",
       "   nan,\n",
       "   nan,\n",
       "   nan,\n",
       "   nan],\n",
       "  'eval_per_category_accuracy': [0.9853400389074338,\n",
       "   0.9511544647625186,\n",
       "   nan,\n",
       "   nan,\n",
       "   nan,\n",
       "   nan,\n",
       "   nan,\n",
       "   nan,\n",
       "   nan,\n",
       "   nan,\n",
       "   nan,\n",
       "   nan,\n",
       "   nan,\n",
       "   nan,\n",
       "   nan,\n",
       "   nan,\n",
       "   nan,\n",
       "   nan,\n",
       "   nan],\n",
       "  'eval_runtime': 140.6749,\n",
       "  'eval_samples_per_second': 0.37,\n",
       "  'eval_steps_per_second': 0.043,\n",
       "  'epoch': 9.09,\n",
       "  'step': 100},\n",
       " {'loss': 1.8152,\n",
       "  'learning_rate': 4.90909090909091e-06,\n",
       "  'epoch': 9.18,\n",
       "  'step': 101},\n",
       " {'loss': 1.8628,\n",
       "  'learning_rate': 4.363636363636364e-06,\n",
       "  'epoch': 9.27,\n",
       "  'step': 102},\n",
       " {'loss': 2.1175,\n",
       "  'learning_rate': 3.818181818181818e-06,\n",
       "  'epoch': 9.36,\n",
       "  'step': 103},\n",
       " {'loss': 1.9229,\n",
       "  'learning_rate': 3.2727272727272725e-06,\n",
       "  'epoch': 9.45,\n",
       "  'step': 104},\n",
       " {'loss': 1.9264,\n",
       "  'learning_rate': 2.7272727272727272e-06,\n",
       "  'epoch': 9.55,\n",
       "  'step': 105},\n",
       " {'loss': 2.0426,\n",
       "  'learning_rate': 2.181818181818182e-06,\n",
       "  'epoch': 9.64,\n",
       "  'step': 106},\n",
       " {'loss': 1.81,\n",
       "  'learning_rate': 1.6363636363636363e-06,\n",
       "  'epoch': 9.73,\n",
       "  'step': 107},\n",
       " {'loss': 1.8099,\n",
       "  'learning_rate': 1.090909090909091e-06,\n",
       "  'epoch': 9.82,\n",
       "  'step': 108},\n",
       " {'loss': 1.8384,\n",
       "  'learning_rate': 5.454545454545455e-07,\n",
       "  'epoch': 9.91,\n",
       "  'step': 109},\n",
       " {'loss': 2.063, 'learning_rate': 0.0, 'epoch': 10.0, 'step': 110},\n",
       " {'train_runtime': 2550.7498,\n",
       "  'train_samples_per_second': 0.412,\n",
       "  'train_steps_per_second': 0.043,\n",
       "  'total_flos': 1.84259996024832e+16,\n",
       "  'train_loss': 2.189501702785492,\n",
       "  'epoch': 10.0,\n",
       "  'step': 110}]"
      ]
     },
     "execution_count": 27,
     "metadata": {},
     "output_type": "execute_result"
    }
   ],
   "source": [
    "braod_bean_trainer.state.log_history"
   ]
  },
  {
   "cell_type": "code",
   "execution_count": 1,
   "metadata": {},
   "outputs": [
    {
     "ename": "NameError",
     "evalue": "name 'braod_bean_trainer' is not defined",
     "output_type": "error",
     "traceback": [
      "\u001b[1;31m---------------------------------------------------------------------------\u001b[0m",
      "\u001b[1;31mNameError\u001b[0m                                 Traceback (most recent call last)",
      "Cell \u001b[1;32mIn[1], line 1\u001b[0m\n\u001b[1;32m----> 1\u001b[0m braod_bean_trainer\u001b[39m.\u001b[39msave_model(\u001b[39m'\u001b[39m\u001b[39mmodels/broad_bean\u001b[39m\u001b[39m'\u001b[39m)\n\u001b[0;32m      2\u001b[0m \u001b[39m# broad_bean_test_ds\u001b[39;00m\n",
      "\u001b[1;31mNameError\u001b[0m: name 'braod_bean_trainer' is not defined"
     ]
    }
   ],
   "source": [
    "braod_bean_trainer.save_model('models/broad_bean')\n",
    "# broad_bean_test_ds"
   ]
  },
  {
   "cell_type": "code",
   "execution_count": 20,
   "metadata": {},
   "outputs": [],
   "source": [
    "# Interpret results\n",
    "# Add method to rewrite labels in the annotions"
   ]
  }
 ],
 "metadata": {
  "kernelspec": {
   "display_name": "base",
   "language": "python",
   "name": "python3"
  },
  "language_info": {
   "codemirror_mode": {
    "name": "ipython",
    "version": 3
   },
   "file_extension": ".py",
   "mimetype": "text/x-python",
   "name": "python",
   "nbconvert_exporter": "python",
   "pygments_lexer": "ipython3",
   "version": "3.10.12"
  },
  "orig_nbformat": 4
 },
 "nbformat": 4,
 "nbformat_minor": 2
}
