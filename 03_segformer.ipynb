{
 "cells": [
  {
   "cell_type": "code",
   "execution_count": 1,
   "metadata": {},
   "outputs": [],
   "source": [
    "import os\n",
    "os.environ['CUDA_LAUNCH_BLOCKING'] = \"1\"\n",
    "os.environ['TORCH_USE_CUDA_DSA'] = \"1\""
   ]
  },
  {
   "cell_type": "code",
   "execution_count": 2,
   "metadata": {},
   "outputs": [
    {
     "name": "stdout",
     "output_type": "stream",
     "text": [
      "env: CUDA_LAUNCH_BLOCKING=1\n"
     ]
    }
   ],
   "source": [
    "%env CUDA_LAUNCH_BLOCKING=1"
   ]
  },
  {
   "cell_type": "code",
   "execution_count": 3,
   "metadata": {},
   "outputs": [
    {
     "name": "stdout",
     "output_type": "stream",
     "text": [
      "Using device: cuda\n",
      "\n",
      "NVIDIA GeForce GTX 960\n",
      "CUDA version: 11.7\n",
      "Memory Usage:\n",
      "Allocated: 0.0 GB\n",
      "Cached:    0.0 GB\n"
     ]
    }
   ],
   "source": [
    "import torch\n",
    "# setting device on GPU if available, else CPU\n",
    "device = torch.device('cuda' if torch.cuda.is_available() else 'cpu')\n",
    "print('Using device:', device)\n",
    "print()\n",
    "\n",
    "#Additional Info when using cuda\n",
    "if device.type == 'cuda':\n",
    "    print(torch.cuda.get_device_name(0))\n",
    "    print('CUDA version:', torch.version.cuda)\n",
    "    print('Memory Usage:')\n",
    "    print('Allocated:', round(torch.cuda.memory_allocated(0)/1024**3,1), 'GB')\n",
    "    print('Cached:   ', round(torch.cuda.memory_reserved(0)/1024**3,1), 'GB')"
   ]
  },
  {
   "cell_type": "code",
   "execution_count": 4,
   "metadata": {},
   "outputs": [
    {
     "name": "stderr",
     "output_type": "stream",
     "text": [
      "c:\\Users\\Kate\\AppData\\Local\\miniconda3\\envs\\master\\Lib\\site-packages\\tqdm\\auto.py:21: TqdmWarning: IProgress not found. Please update jupyter and ipywidgets. See https://ipywidgets.readthedocs.io/en/stable/user_install.html\n",
      "  from .autonotebook import tqdm as notebook_tqdm\n"
     ]
    }
   ],
   "source": [
    "import numpy as np\n",
    "import PIL\n",
    "from PIL import Image\n",
    "import datasets\n",
    "import os\n",
    "import evaluate\n",
    "import torch\n",
    "import json\n",
    "import codecs"
   ]
  },
  {
   "cell_type": "code",
   "execution_count": 5,
   "metadata": {},
   "outputs": [],
   "source": [
    "seed = 9876\n",
    "\n",
    "image_folder = './WE3DS/images/'\n",
    "annotation_folder = './WE3DS/annotations/'\n",
    "annotations_aggregated_folder = './WE3DS/annotations_aggregated/'\n",
    "# Define the paths to the images and annotations\n",
    "all_image_names = np.array(os.listdir(image_folder))"
   ]
  },
  {
   "cell_type": "code",
   "execution_count": 6,
   "metadata": {},
   "outputs": [
    {
     "name": "stdout",
     "output_type": "stream",
     "text": [
      "Crop indicies:  [2, 5, 6, 11, 14, 15, 18]\n",
      "Weed indicies:  [3, 4, 7, 8, 9, 10, 12, 13, 16, 17]\n"
     ]
    }
   ],
   "source": [
    "plant_classification = {\n",
    "    'void': 'void',\n",
    "    'soil': 'soil',\n",
    "    'broad bean': 'crop',\n",
    "    'corn spurry': 'weed',\n",
    "    'red-root amaranth': 'weed',\n",
    "    'common buckwheat': 'crop',\n",
    "    'pea': 'crop',\n",
    "    'red fingergrass': 'weed',\n",
    "    'common wild oat': 'weed',\n",
    "    'cornflower': 'weed',\n",
    "    'corn cockle': 'weed',\n",
    "    'corn': 'crop',\n",
    "    'milk thistle': 'weed',\n",
    "    'rye brome': 'weed',\n",
    "    'soybean': 'crop',\n",
    "    'sunflower': 'crop',\n",
    "    'narrow-leaved plantain': 'weed',\n",
    "    'small-flower geranium': 'weed',\n",
    "    'sugar beet': 'crop'\n",
    "}\n",
    "\n",
    "crop_indices = [index for index, value in enumerate(plant_classification) if plant_classification[value] == 'crop']\n",
    "weed_indices = [index for index, value in enumerate(plant_classification) if plant_classification[value] == 'weed']\n",
    "\n",
    "print(\"Crop indicies: \", crop_indices)\n",
    "print(\"Weed indicies: \", weed_indices)"
   ]
  },
  {
   "cell_type": "code",
   "execution_count": 7,
   "metadata": {},
   "outputs": [
    {
     "name": "stdout",
     "output_type": "stream",
     "text": [
      "['broad_bean', 'corn_spurry', 'red-root_amaranth', 'red_fingergrass', 'common_wild_oat', 'cornflower', 'corn_cockle', 'milk_thistle', 'rye_brome', 'narrow-leaved_plantain', 'small-flower_geranium']\n"
     ]
    }
   ],
   "source": [
    "# This is a configuration that will determine which type of model and for which plants the following code will be executed\n",
    "weed_plants = [plant_name.replace(\" \", \"_\") for plant_name, classification in plant_classification.items() if classification == 'weed']\n",
    "# weed_plants = []\n",
    "\n",
    "crop = 'broad_bean'\n",
    "# crop = 'common_buckwheat'\n",
    "# crop = 'pea'\n",
    "# crop = 'corn'\n",
    "# crop = 'soybean'\n",
    "# crop = 'sunflower'\n",
    "# crop = 'sugar_beet'\n",
    "\n",
    "# model_type = 'multiclass'\n",
    "model_type = 'binary'\n",
    "\n",
    "model_plant_names = [crop] + weed_plants\n",
    "print(model_plant_names)"
   ]
  },
  {
   "cell_type": "code",
   "execution_count": 8,
   "metadata": {},
   "outputs": [],
   "source": [
    "def get_image_meta_filepath(plant_name):\n",
    "    suffix = '_images.json'\n",
    "    if plant_name in weed_plants:\n",
    "        suffix = '_no_crop_images.json'\n",
    "    return './meta/' + plant_name + suffix"
   ]
  },
  {
   "cell_type": "code",
   "execution_count": 9,
   "metadata": {},
   "outputs": [],
   "source": [
    "def get_image_list_for_plant(plant_name, model_type):\n",
    "    # Create an empty list to store the dataset\n",
    "    image_list = []\n",
    "    plant_image_names = json.load(codecs.open(get_image_meta_filepath(plant_name), 'r', 'utf-8-sig'))\n",
    "\n",
    "    # Exclude images that contain more than one crop\n",
    "    image_names_to_exclude = ['img_01096.png' 'img_01098.png']\n",
    "    plant_image_names = [image_name for image_name in plant_image_names if image_name not in image_names_to_exclude]\n",
    "    print(plant_image_names)\n",
    "\n",
    "    # Iterate over the image and annotation paths\n",
    "    for image_name in plant_image_names:\n",
    "        # Load the image and annotation using PIL\n",
    "        image = Image.open(image_folder + image_name)\n",
    "        path = None\n",
    "        if model_type == 'multiclass':\n",
    "            path = 'WE3DS/annotations_multiclass/' + crop + '/' + image_name\n",
    "        elif model_type == 'binary':\n",
    "            path = 'WE3DS/annotations_binary/' + crop + '/' + image_name\n",
    "\n",
    "        annotation = Image.open(path)\n",
    "        \n",
    "        # Create a dictionary entry for the dataseta\n",
    "        entry = {'image': image, 'annotation': annotation}\n",
    "        \n",
    "        # Add the entry to the dataset\n",
    "        image_list.append(entry)\n",
    "\n",
    "    return image_list"
   ]
  },
  {
   "cell_type": "code",
   "execution_count": 10,
   "metadata": {},
   "outputs": [],
   "source": [
    "def create_and_split_dataset_for_plant(plant_image_list):\n",
    "    dataset = datasets.Dataset.from_list(plant_image_list)\n",
    "    dataset = dataset.train_test_split(test_size=0.5, seed=seed)\n",
    "    train_ds = dataset[\"train\"]\n",
    "    val_ds, test_ds = dataset[\"test\"].train_test_split(test_size=0.5, seed=seed).values()\n",
    "    return train_ds, val_ds, test_ds"
   ]
  },
  {
   "cell_type": "code",
   "execution_count": 11,
   "metadata": {},
   "outputs": [],
   "source": [
    "def create_datasets_for_plants(plant_names, model_type):\n",
    "    p0_image_list = get_image_list_for_plant(plant_names[0], model_type)\n",
    "    print(\"Number of plant images for plant\", plant_names[0], \":\", len(p0_image_list))\n",
    "    train_ds, val_ds, test_ds = create_and_split_dataset_for_plant(p0_image_list)\n",
    "\n",
    "    for plant_name in plant_names[1:]:\n",
    "        p_image_list = get_image_list_for_plant(plant_name, model_type)\n",
    "        print(\"Number of plant images for plant\", plant_name, \":\", len(p_image_list))\n",
    "        p_train_ds, p_val_ds, p_test_ds = create_and_split_dataset_for_plant(p_image_list)\n",
    "\n",
    "        train_ds = datasets.concatenate_datasets([train_ds, p_train_ds])\n",
    "        val_ds = datasets.concatenate_datasets([val_ds, p_val_ds])\n",
    "        test_ds = datasets.concatenate_datasets([test_ds, p_test_ds])\n",
    "\n",
    "    return train_ds, val_ds, test_ds"
   ]
  },
  {
   "cell_type": "code",
   "execution_count": 12,
   "metadata": {},
   "outputs": [
    {
     "name": "stdout",
     "output_type": "stream",
     "text": [
      "['img_00173.png', 'img_00174.png', 'img_00175.png', 'img_00176.png', 'img_00177.png', 'img_00178.png', 'img_00672.png', 'img_00673.png', 'img_00674.png', 'img_00675.png', 'img_00676.png', 'img_00677.png', 'img_00678.png', 'img_00679.png', 'img_00680.png', 'img_00681.png', 'img_00682.png', 'img_00683.png', 'img_00684.png', 'img_00882.png', 'img_00883.png', 'img_00884.png', 'img_00885.png', 'img_00886.png', 'img_00887.png', 'img_00938.png', 'img_00980.png', 'img_00981.png', 'img_00982.png', 'img_00983.png', 'img_00984.png', 'img_00985.png', 'img_00986.png', 'img_00987.png', 'img_00988.png', 'img_00989.png', 'img_01070.png', 'img_01071.png', 'img_01072.png', 'img_01073.png', 'img_01074.png', 'img_01075.png', 'img_01076.png', 'img_01077.png', 'img_01078.png', 'img_01079.png', 'img_01219.png', 'img_01220.png', 'img_01221.png', 'img_01222.png', 'img_01223.png', 'img_01224.png', 'img_01225.png', 'img_01226.png', 'img_01227.png', 'img_01228.png', 'img_01279.png', 'img_01280.png', 'img_01281.png', 'img_01282.png', 'img_01283.png', 'img_01284.png', 'img_01285.png', 'img_01286.png', 'img_01287.png', 'img_01288.png', 'img_01455.png', 'img_01456.png', 'img_01457.png', 'img_01458.png', 'img_01459.png', 'img_01460.png', 'img_01461.png', 'img_01462.png', 'img_01463.png', 'img_01464.png', 'img_01465.png', 'img_01466.png', 'img_01467.png', 'img_01468.png', 'img_01469.png', 'img_01825.png', 'img_01826.png', 'img_01827.png', 'img_01828.png', 'img_01829.png', 'img_01830.png', 'img_01831.png', 'img_01832.png', 'img_01833.png', 'img_01834.png', 'img_01835.png', 'img_01836.png', 'img_01837.png', 'img_01928.png', 'img_01929.png', 'img_01930.png', 'img_01931.png', 'img_01932.png', 'img_01933.png', 'img_01934.png', 'img_01935.png', 'img_01936.png', 'img_01937.png', 'img_01938.png', 'img_01939.png', 'img_01940.png', 'img_01941.png', 'img_01942.png', 'img_01943.png', 'img_01944.png', 'img_01945.png', 'img_01946.png', 'img_01947.png', 'img_01948.png', 'img_01949.png', 'img_01950.png', 'img_01951.png', 'img_01952.png', 'img_01953.png', 'img_01954.png', 'img_01955.png', 'img_02099.png', 'img_02100.png', 'img_02101.png', 'img_02102.png', 'img_02103.png', 'img_02104.png', 'img_02105.png', 'img_02106.png', 'img_02107.png', 'img_02108.png', 'img_02109.png', 'img_02110.png', 'img_02111.png', 'img_02112.png', 'img_02113.png', 'img_02114.png', 'img_02115.png', 'img_02116.png', 'img_02117.png', 'img_02118.png', 'img_02119.png', 'img_02120.png', 'img_02121.png', 'img_02122.png', 'img_02123.png', 'img_02124.png', 'img_02125.png', 'img_02126.png', 'img_02127.png', 'img_02128.png', 'img_02129.png', 'img_02130.png', 'img_02131.png', 'img_02132.png', 'img_02133.png', 'img_02134.png', 'img_02135.png', 'img_02136.png', 'img_02137.png', 'img_02138.png', 'img_02139.png', 'img_02140.png', 'img_02348.png', 'img_02349.png', 'img_02350.png', 'img_02351.png', 'img_02352.png', 'img_02353.png', 'img_02354.png', 'img_02355.png', 'img_02356.png', 'img_02357.png', 'img_02358.png', 'img_02359.png', 'img_02360.png', 'img_02361.png', 'img_02362.png', 'img_02363.png', 'img_02364.png', 'img_02365.png', 'img_02366.png', 'img_02367.png', 'img_02368.png', 'img_02369.png', 'img_02370.png', 'img_02371.png', 'img_02372.png', 'img_02373.png', 'img_02374.png', 'img_02375.png', 'img_02376.png', 'img_02377.png', 'img_02378.png', 'img_02379.png', 'img_02380.png', 'img_02381.png', 'img_02382.png', 'img_02383.png', 'img_02384.png', 'img_02385.png', 'img_02543.png', 'img_02544.png', 'img_02545.png', 'img_02546.png', 'img_02547.png', 'img_02548.png', 'img_02549.png', 'img_02550.png']\n",
      "Number of plant images for plant broad_bean : 210\n",
      "['img_01790.png', 'img_01799.png', 'img_01804.png', 'img_01807.png', 'img_01796.png', 'img_01788.png', 'img_01803.png', 'img_01802.png', 'img_01806.png', 'img_01801.png', 'img_01794.png', 'img_01789.png', 'img_01793.png', 'img_01795.png', 'img_01805.png', 'img_01792.png', 'img_01797.png', 'img_01800.png', 'img_01791.png', 'img_01798.png']\n",
      "Number of plant images for plant corn_spurry : 20\n",
      "['img_01796.png', 'img_01767.png', 'img_01768.png']\n",
      "Number of plant images for plant red-root_amaranth : 3\n",
      "['img_01813.png', 'img_01812.png', 'img_01809.png', 'img_01808.png', 'img_01810.png', 'img_01811.png', 'img_01815.png', 'img_01814.png']\n",
      "Number of plant images for plant red_fingergrass : 8\n",
      "['img_00712.png', 'img_00659.png', 'img_00209.png', 'img_00657.png', 'img_00419.png', 'img_00208.png', 'img_00717.png', 'img_00424.png', 'img_00204.png', 'img_00658.png', 'img_00715.png', 'img_00206.png', 'img_00421.png', 'img_00203.png', 'img_00434.png', 'img_00713.png', 'img_00430.png', 'img_00420.png', 'img_00710.png', 'img_00716.png', 'img_00709.png', 'img_00429.png', 'img_00431.png', 'img_00435.png', 'img_00714.png']\n",
      "Number of plant images for plant common_wild_oat : 25\n",
      "['img_01259.png', 'img_00465.png', 'img_00857.png', 'img_00377.png', 'img_00076.png', 'img_01263.png', 'img_00222.png', 'img_00617.png', 'img_00612.png', 'img_01145.png', 'img_00953.png', 'img_00440.png', 'img_00907.png', 'img_00362.png', 'img_00223.png', 'img_00558.png', 'img_01262.png', 'img_00569.png', 'img_01754.png', 'img_01147.png', 'img_00375.png', 'img_00361.png', 'img_01148.png', 'img_00812.png', 'img_00450.png', 'img_00370.png', 'img_00364.png', 'img_01766.png', 'img_00855.png', 'img_00116.png', 'img_00369.png', 'img_01270.png', 'img_00121.png', 'img_00811.png', 'img_01762.png', 'img_00954.png', 'img_00608.png', 'img_00077.png', 'img_00079.png', 'img_01141.png', 'img_01049.png', 'img_00611.png', 'img_00613.png', 'img_01197.png', 'img_01140.png', 'img_00619.png', 'img_00219.png', 'img_00810.png', 'img_01142.png', 'img_00620.png', 'img_01752.png', 'img_01194.png', 'img_00454.png', 'img_00374.png', 'img_00955.png', 'img_00123.png', 'img_01196.png', 'img_01144.png', 'img_01264.png', 'img_00366.png', 'img_00118.png', 'img_00363.png', 'img_00086.png', 'img_01044.png', 'img_01198.png', 'img_01751.png', 'img_00561.png', 'img_00224.png', 'img_01042.png', 'img_01266.png', 'img_01046.png', 'img_00556.png', 'img_01190.png', 'img_00618.png', 'img_00804.png', 'img_01261.png', 'img_00457.png', 'img_01191.png', 'img_00555.png', 'img_00082.png', 'img_00448.png', 'img_00456.png', 'img_01045.png', 'img_00447.png', 'img_01767.png', 'img_00609.png', 'img_00073.png', 'img_01043.png', 'img_00856.png', 'img_00957.png', 'img_01758.png', 'img_00078.png', 'img_00371.png', 'img_00616.png', 'img_01756.png', 'img_01048.png', 'img_00225.png', 'img_01753.png', 'img_01267.png', 'img_01871.png', 'img_01260.png', 'img_00615.png', 'img_01750.png', 'img_01768.png', 'img_00959.png', 'img_00956.png', 'img_00610.png', 'img_01765.png', 'img_01757.png', 'img_00068.png', 'img_01877.png', 'img_01760.png', 'img_01271.png', 'img_00360.png', 'img_00228.png', 'img_01759.png', 'img_00365.png', 'img_00122.png', 'img_01764.png', 'img_00466.png', 'img_01146.png', 'img_00449.png', 'img_00614.png', 'img_00372.png', 'img_00726.png', 'img_00378.png', 'img_01189.png', 'img_00958.png', 'img_01755.png', 'img_01763.png', 'img_00081.png', 'img_00070.png', 'img_00936.png', 'img_00821.png', 'img_00367.png', 'img_00859.png', 'img_01047.png', 'img_01265.png', 'img_00359.png', 'img_00952.png', 'img_00075.png', 'img_00080.png', 'img_01041.png', 'img_00069.png', 'img_00368.png', 'img_01143.png', 'img_00376.png', 'img_01040.png', 'img_00452.png', 'img_00950.png', 'img_01192.png', 'img_00373.png', 'img_00729.png', 'img_01193.png', 'img_00451.png', 'img_00567.png', 'img_01195.png', 'img_01761.png', 'img_01268.png', 'img_00951.png', 'img_00858.png', 'img_01873.png']\n",
      "Number of plant images for plant cornflower : 162\n",
      "['img_01349.png', 'img_02495.png', 'img_00625.png', 'img_01000.png', 'img_00626.png', 'img_01128.png', 'img_02199.png', 'img_01600.png', 'img_01580.png', 'img_02010.png', 'img_01105.png', 'img_02204.png', 'img_01720.png', 'img_01003.png', 'img_01250.png', 'img_01635.png', 'img_01171.png', 'img_01009.png', 'img_00750.png', 'img_02190.png', 'img_01005.png', 'img_02006.png', 'img_01254.png', 'img_01646.png', 'img_00623.png', 'img_01007.png', 'img_01255.png', 'img_01641.png', 'img_02491.png', 'img_02005.png', 'img_01992.png', 'img_01002.png', 'img_01634.png', 'img_02202.png', 'img_00624.png', 'img_02003.png', 'img_01249.png', 'img_01597.png', 'img_01709.png', 'img_00631.png', 'img_01630.png', 'img_01998.png', 'img_01722.png', 'img_02494.png', 'img_01100.png', 'img_00272.png', 'img_01124.png', 'img_02011.png', 'img_01594.png', 'img_00756.png', 'img_01632.png', 'img_01129.png', 'img_00768.png', 'img_01716.png', 'img_02200.png', 'img_01103.png', 'img_01253.png', 'img_01643.png', 'img_01354.png', 'img_00627.png', 'img_00860.png', 'img_01633.png', 'img_00866.png', 'img_00639.png', 'img_02201.png', 'img_00752.png', 'img_01642.png', 'img_01645.png', 'img_01713.png', 'img_01715.png', 'img_02198.png', 'img_00262.png', 'img_00862.png', 'img_00494.png', 'img_01177.png', 'img_01256.png', 'img_01102.png', 'img_01107.png', 'img_01601.png', 'img_02007.png', 'img_01258.png', 'img_01714.png', 'img_00633.png', 'img_01996.png', 'img_01257.png', 'img_01348.png', 'img_01123.png', 'img_02192.png', 'img_01108.png', 'img_01724.png', 'img_02490.png', 'img_00918.png', 'img_00621.png', 'img_00635.png', 'img_01004.png', 'img_01121.png', 'img_01989.png', 'img_01172.png', 'img_02195.png', 'img_00263.png', 'img_01712.png', 'img_01599.png', 'img_00270.png', 'img_01101.png', 'img_00637.png', 'img_01126.png', 'img_01106.png', 'img_00861.png', 'img_01725.png', 'img_02012.png', 'img_01243.png', 'img_00632.png', 'img_01592.png', 'img_01006.png', 'img_02203.png', 'img_01994.png', 'img_00758.png', 'img_01637.png', 'img_01109.png', 'img_01644.png', 'img_01995.png', 'img_00629.png', 'img_00622.png', 'img_01251.png', 'img_00261.png', 'img_01178.png', 'img_01990.png', 'img_00630.png', 'img_01993.png', 'img_01647.png', 'img_01252.png', 'img_00503.png', 'img_00863.png', 'img_00492.png', 'img_00753.png', 'img_01596.png', 'img_00638.png', 'img_01631.png', 'img_00759.png', 'img_01999.png', 'img_01717.png', 'img_01104.png', 'img_01122.png', 'img_01710.png', 'img_01638.png', 'img_02009.png', 'img_02489.png', 'img_01595.png', 'img_01997.png', 'img_00770.png', 'img_00252.png', 'img_00755.png', 'img_01169.png', 'img_01246.png', 'img_01173.png', 'img_01629.png', 'img_01711.png', 'img_01723.png', 'img_00628.png', 'img_02197.png', 'img_00864.png', 'img_01170.png', 'img_02193.png', 'img_01648.png', 'img_01175.png', 'img_01598.png', 'img_01640.png', 'img_01719.png', 'img_01721.png', 'img_00253.png', 'img_02004.png', 'img_01008.png', 'img_01176.png', 'img_01127.png', 'img_02492.png', 'img_01636.png', 'img_00636.png', 'img_01356.png', 'img_01593.png', 'img_00493.png', 'img_01174.png', 'img_02000.png', 'img_01120.png', 'img_02191.png', 'img_02493.png', 'img_01001.png', 'img_00634.png', 'img_01639.png', 'img_02008.png', 'img_02194.png', 'img_00865.png', 'img_02002.png', 'img_02001.png', 'img_01991.png', 'img_01570.png', 'img_01718.png', 'img_01125.png', 'img_00501.png', 'img_00867.png', 'img_02196.png']\n",
      "Number of plant images for plant corn_cockle : 200\n",
      "['img_01742.png', 'img_02013.png', 'img_02024.png', 'img_02218.png', 'img_01614.png', 'img_01731.png', 'img_02026.png', 'img_02216.png', 'img_01744.png', 'img_01653.png', 'img_01737.png', 'img_01543.png', 'img_01612.png', 'img_02226.png', 'img_01743.png', 'img_01650.png', 'img_01664.png', 'img_01659.png', 'img_01682.png', 'img_01651.png', 'img_01699.png', 'img_01667.png', 'img_02019.png', 'img_02205.png', 'img_01617.png', 'img_01627.png', 'img_01665.png', 'img_01728.png', 'img_01739.png', 'img_01658.png', 'img_01606.png', 'img_02214.png', 'img_02498.png', 'img_01734.png', 'img_01655.png', 'img_01727.png', 'img_01021.png', 'img_02222.png', 'img_01619.png', 'img_01623.png', 'img_01858.png', 'img_01863.png', 'img_02017.png', 'img_01652.png', 'img_01624.png', 'img_02501.png', 'img_02213.png', 'img_01656.png', 'img_02215.png', 'img_02221.png', 'img_01662.png', 'img_02483.png', 'img_02208.png', 'img_01622.png', 'img_02502.png', 'img_01615.png', 'img_01733.png', 'img_01657.png', 'img_01736.png', 'img_02028.png', 'img_02476.png', 'img_01747.png', 'img_01745.png', 'img_01610.png', 'img_01701.png', 'img_02499.png', 'img_01654.png', 'img_01707.png', 'img_02212.png', 'img_01663.png', 'img_02016.png', 'img_02025.png', 'img_02470.png', 'img_01729.png', 'img_02022.png', 'img_01748.png', 'img_02228.png', 'img_02029.png', 'img_01730.png', 'img_01625.png', 'img_02211.png', 'img_01670.png', 'img_01740.png', 'img_02015.png', 'img_02207.png', 'img_02229.png', 'img_02497.png', 'img_01669.png', 'img_01649.png', 'img_01732.png', 'img_02454.png', 'img_02477.png', 'img_02021.png', 'img_01022.png', 'img_01689.png', 'img_02020.png', 'img_01726.png', 'img_01738.png', 'img_02488.png', 'img_01861.png', 'img_01024.png', 'img_02223.png', 'img_01735.png', 'img_01668.png', 'img_02014.png', 'img_01026.png', 'img_02220.png', 'img_01559.png', 'img_01020.png', 'img_02227.png', 'img_01602.png', 'img_01609.png', 'img_02217.png', 'img_01025.png', 'img_02496.png', 'img_02219.png', 'img_01628.png', 'img_01706.png', 'img_01741.png', 'img_02210.png', 'img_02500.png', 'img_02027.png', 'img_01608.png', 'img_01028.png', 'img_01702.png', 'img_01856.png', 'img_01746.png', 'img_01618.png', 'img_02209.png', 'img_02453.png', 'img_01616.png', 'img_01621.png', 'img_01027.png', 'img_01620.png', 'img_02224.png', 'img_01537.png', 'img_02206.png', 'img_01611.png', 'img_01613.png', 'img_01029.png', 'img_01605.png', 'img_01607.png', 'img_01603.png', 'img_01604.png', 'img_02030.png', 'img_01666.png', 'img_02018.png', 'img_01023.png', 'img_01626.png', 'img_02023.png', 'img_01749.png', 'img_01660.png', 'img_01661.png', 'img_02225.png']\n",
      "Number of plant images for plant milk_thistle : 154\n",
      "['img_01276.png', 'img_00963.png', 'img_00961.png', 'img_01054.png', 'img_01155.png', 'img_01157.png', 'img_01156.png', 'img_01154.png', 'img_01200.png', 'img_01769.png', 'img_01150.png', 'img_00967.png', 'img_01050.png', 'img_01158.png', 'img_01201.png', 'img_01275.png', 'img_01056.png', 'img_00965.png', 'img_01208.png', 'img_01773.png', 'img_01052.png', 'img_01771.png', 'img_01055.png', 'img_01152.png', 'img_00966.png', 'img_01199.png', 'img_01206.png', 'img_01269.png', 'img_01770.png', 'img_01202.png', 'img_01774.png', 'img_01153.png', 'img_00962.png', 'img_01059.png', 'img_01273.png', 'img_01776.png', 'img_01149.png', 'img_01207.png', 'img_01772.png', 'img_00960.png', 'img_01203.png', 'img_01271.png', 'img_00937.png', 'img_01277.png', 'img_00968.png', 'img_01278.png', 'img_01051.png', 'img_01777.png', 'img_01272.png', 'img_01058.png', 'img_01270.png', 'img_01775.png', 'img_01057.png', 'img_00964.png', 'img_01053.png', 'img_01151.png', 'img_01205.png', 'img_01204.png', 'img_01274.png', 'img_00969.png']\n",
      "Number of plant images for plant rye_brome : 60\n",
      "['img_01781.png', 'img_01786.png', 'img_00645.png', 'img_01783.png', 'img_00646.png', 'img_00647.png', 'img_01804.png', 'img_00649.png', 'img_00651.png', 'img_00650.png', 'img_01806.png', 'img_00648.png', 'img_00652.png', 'img_01782.png', 'img_01784.png', 'img_01779.png', 'img_00643.png', 'img_01785.png', 'img_01787.png', 'img_00644.png', 'img_01778.png', 'img_01780.png']\n",
      "Number of plant images for plant narrow-leaved_plantain : 22\n",
      "['img_00474.png', 'img_00796.png', 'img_00536.png', 'img_00144.png', 'img_00601.png', 'img_00532.png', 'img_00605.png', 'img_00745.png', 'img_00914.png', 'img_00528.png', 'img_00356.png', 'img_00346.png', 'img_00595.png', 'img_00148.png', 'img_00145.png', 'img_00354.png', 'img_00542.png', 'img_00096.png', 'img_00149.png', 'img_00351.png', 'img_00852.png', 'img_00478.png', 'img_00607.png', 'img_00479.png', 'img_00486.png', 'img_00357.png', 'img_00350.png', 'img_00737.png', 'img_00347.png', 'img_00348.png', 'img_00476.png', 'img_00742.png', 'img_00736.png', 'img_00468.png', 'img_00546.png', 'img_00482.png', 'img_00469.png', 'img_00529.png', 'img_00853.png', 'img_00547.png', 'img_00341.png', 'img_00352.png', 'img_00477.png', 'img_00850.png', 'img_00467.png', 'img_00147.png', 'img_00353.png', 'img_00480.png', 'img_00596.png', 'img_00358.png', 'img_00150.png', 'img_00342.png', 'img_00599.png', 'img_00851.png', 'img_00343.png', 'img_00355.png', 'img_00600.png', 'img_00791.png', 'img_00344.png', 'img_00854.png', 'img_00604.png', 'img_00345.png', 'img_00603.png', 'img_00146.png', 'img_00908.png', 'img_00602.png', 'img_00606.png', 'img_00598.png', 'img_00797.png', 'img_00597.png', 'img_00545.png', 'img_00349.png']\n",
      "Number of plant images for plant small-flower_geranium : 72\n"
     ]
    }
   ],
   "source": [
    "train_ds, val_ds, test_ds = create_datasets_for_plants(model_plant_names, model_type)"
   ]
  },
  {
   "cell_type": "code",
   "execution_count": 13,
   "metadata": {},
   "outputs": [
    {
     "name": "stdout",
     "output_type": "stream",
     "text": [
      "Training subset number of images: 467\n",
      "Validation subset number of images: 232\n",
      "Test subset number of images: 237\n"
     ]
    }
   ],
   "source": [
    "print(\"Training subset number of images: \" + str(train_ds.num_rows))\n",
    "print(\"Validation subset number of images: \" + str(val_ds.num_rows))\n",
    "print(\"Test subset number of images: \" + str(test_ds.num_rows))"
   ]
  },
  {
   "cell_type": "code",
   "execution_count": 14,
   "metadata": {},
   "outputs": [
    {
     "name": "stderr",
     "output_type": "stream",
     "text": [
      "c:\\Users\\Kate\\AppData\\Local\\miniconda3\\envs\\master\\Lib\\site-packages\\transformers\\models\\segformer\\image_processing_segformer.py:99: FutureWarning: The `reduce_labels` parameter is deprecated and will be removed in a future version. Please use `do_reduce_labels` instead.\n",
      "  warnings.warn(\n"
     ]
    },
    {
     "data": {
      "text/plain": [
       "SegformerImageProcessor {\n",
       "  \"do_normalize\": true,\n",
       "  \"do_reduce_labels\": false,\n",
       "  \"do_rescale\": true,\n",
       "  \"do_resize\": true,\n",
       "  \"feature_extractor_type\": \"SegformerFeatureExtractor\",\n",
       "  \"image_mean\": [\n",
       "    0.485,\n",
       "    0.456,\n",
       "    0.406\n",
       "  ],\n",
       "  \"image_processor_type\": \"SegformerImageProcessor\",\n",
       "  \"image_std\": [\n",
       "    0.229,\n",
       "    0.224,\n",
       "    0.225\n",
       "  ],\n",
       "  \"resample\": 2,\n",
       "  \"rescale_factor\": 0.00392156862745098,\n",
       "  \"size\": {\n",
       "    \"height\": 512,\n",
       "    \"width\": 512\n",
       "  }\n",
       "}"
      ]
     },
     "execution_count": 14,
     "metadata": {},
     "output_type": "execute_result"
    }
   ],
   "source": [
    "from transformers import AutoImageProcessor\n",
    "from transformers import SegformerImageProcessor\n",
    "\n",
    "checkpoint = \"nvidia/mit-b0\"\n",
    "image_processor = SegformerImageProcessor.from_pretrained(checkpoint)\n",
    "image_processor"
   ]
  },
  {
   "cell_type": "code",
   "execution_count": 15,
   "metadata": {},
   "outputs": [],
   "source": [
    "def train_transforms(example_batch):\n",
    "    images = [x for x in example_batch[\"image\"]]\n",
    "    labels = [x for x in example_batch[\"annotation\"]]\n",
    "    inputs = image_processor(images, labels, return_tensors=\"pt\")\n",
    "    inputs\n",
    "    return inputs"
   ]
  },
  {
   "cell_type": "code",
   "execution_count": 16,
   "metadata": {},
   "outputs": [],
   "source": [
    "metric = evaluate.load(\"mean_iou\")"
   ]
  },
  {
   "cell_type": "code",
   "execution_count": 17,
   "metadata": {},
   "outputs": [
    {
     "name": "stdout",
     "output_type": "stream",
     "text": [
      "labels: ['void', 'soil', 'broad_bean', 'corn_spurry', 'red-root_amaranth', 'red_fingergrass', 'common_wild_oat', 'cornflower', 'corn_cockle', 'milk_thistle', 'rye_brome', 'narrow-leaved_plantain', 'small-flower_geranium']\n",
      "ids: [0, 1, 2, 3, 4, 5, 6, 7, 8, 9, 10, 11, 12]\n",
      "num_labels: 13\n",
      "id2label: {0: 'void', 1: 'soil', 2: 'broad_bean', 3: 'corn_spurry', 4: 'red-root_amaranth', 5: 'red_fingergrass', 6: 'common_wild_oat', 7: 'cornflower', 8: 'corn_cockle', 9: 'milk_thistle', 10: 'rye_brome', 11: 'narrow-leaved_plantain', 12: 'small-flower_geranium'}\n",
      "label2id: {'void': 0, 'soil': 1, 'broad_bean': 2, 'corn_spurry': 3, 'red-root_amaranth': 4, 'red_fingergrass': 5, 'common_wild_oat': 6, 'cornflower': 7, 'corn_cockle': 8, 'milk_thistle': 9, 'rye_brome': 10, 'narrow-leaved_plantain': 11, 'small-flower_geranium': 12}\n"
     ]
    }
   ],
   "source": [
    "labels = ['void', 'soil', crop]\n",
    "\n",
    "if model_type == 'binary':\n",
    "    labels.append('weeds')\n",
    "elif model_type == 'multiclass':\n",
    "    for weed_plant in weed_plants:\n",
    "        labels.append(weed_plant)\n",
    "\n",
    "ids = list(range(0, len(labels)))\n",
    "\n",
    "id2label = dict(zip(ids, labels))\n",
    "label2id = dict(zip(labels, ids))\n",
    "\n",
    "num_labels = len(labels)\n",
    "\n",
    "print('labels:', labels)\n",
    "print('ids:', ids)\n",
    "print('num_labels:', num_labels)\n",
    "print('id2label:', id2label)\n",
    "print('label2id:', label2id)"
   ]
  },
  {
   "cell_type": "code",
   "execution_count": 18,
   "metadata": {},
   "outputs": [],
   "source": [
    "def compute_metrics(eval_pred):\n",
    "    with torch.no_grad():\n",
    "        logits, labels = eval_pred\n",
    "        logits_tensor = torch.from_numpy(logits)\n",
    "        logits_tensor = torch.nn.functional.interpolate(\n",
    "            logits_tensor,\n",
    "            size=labels.shape[-2:],\n",
    "            mode=\"bilinear\",\n",
    "            align_corners=False,\n",
    "        ).argmax(dim=1)\n",
    "\n",
    "        pred_labels = logits_tensor.detach().cpu().numpy()\n",
    "        metrics = metric.compute(\n",
    "            predictions=pred_labels,\n",
    "            references=labels,\n",
    "            num_labels=num_labels,\n",
    "            ignore_index=255,\n",
    "            reduce_labels=False,\n",
    "        )\n",
    "        for key, value in metrics.items():\n",
    "            if type(value) is np.ndarray:\n",
    "                metrics[key] = value.tolist()\n",
    "        return metrics"
   ]
  },
  {
   "cell_type": "code",
   "execution_count": 19,
   "metadata": {},
   "outputs": [
    {
     "name": "stderr",
     "output_type": "stream",
     "text": [
      "Some weights of SegformerForSemanticSegmentation were not initialized from the model checkpoint at nvidia/mit-b0 and are newly initialized: ['decode_head.linear_c.1.proj.bias', 'decode_head.linear_fuse.weight', 'decode_head.linear_c.2.proj.weight', 'decode_head.linear_c.2.proj.bias', 'decode_head.classifier.weight', 'decode_head.linear_c.1.proj.weight', 'decode_head.classifier.bias', 'decode_head.linear_c.3.proj.bias', 'decode_head.batch_norm.running_mean', 'decode_head.linear_c.0.proj.weight', 'decode_head.batch_norm.running_var', 'decode_head.batch_norm.num_batches_tracked', 'decode_head.linear_c.0.proj.bias', 'decode_head.batch_norm.weight', 'decode_head.batch_norm.bias', 'decode_head.linear_c.3.proj.weight']\n",
      "You should probably TRAIN this model on a down-stream task to be able to use it for predictions and inference.\n"
     ]
    },
    {
     "data": {
      "text/plain": [
       "SegformerForSemanticSegmentation(\n",
       "  (segformer): SegformerModel(\n",
       "    (encoder): SegformerEncoder(\n",
       "      (patch_embeddings): ModuleList(\n",
       "        (0): SegformerOverlapPatchEmbeddings(\n",
       "          (proj): Conv2d(3, 32, kernel_size=(7, 7), stride=(4, 4), padding=(3, 3))\n",
       "          (layer_norm): LayerNorm((32,), eps=1e-05, elementwise_affine=True)\n",
       "        )\n",
       "        (1): SegformerOverlapPatchEmbeddings(\n",
       "          (proj): Conv2d(32, 64, kernel_size=(3, 3), stride=(2, 2), padding=(1, 1))\n",
       "          (layer_norm): LayerNorm((64,), eps=1e-05, elementwise_affine=True)\n",
       "        )\n",
       "        (2): SegformerOverlapPatchEmbeddings(\n",
       "          (proj): Conv2d(64, 160, kernel_size=(3, 3), stride=(2, 2), padding=(1, 1))\n",
       "          (layer_norm): LayerNorm((160,), eps=1e-05, elementwise_affine=True)\n",
       "        )\n",
       "        (3): SegformerOverlapPatchEmbeddings(\n",
       "          (proj): Conv2d(160, 256, kernel_size=(3, 3), stride=(2, 2), padding=(1, 1))\n",
       "          (layer_norm): LayerNorm((256,), eps=1e-05, elementwise_affine=True)\n",
       "        )\n",
       "      )\n",
       "      (block): ModuleList(\n",
       "        (0): ModuleList(\n",
       "          (0): SegformerLayer(\n",
       "            (layer_norm_1): LayerNorm((32,), eps=1e-05, elementwise_affine=True)\n",
       "            (attention): SegformerAttention(\n",
       "              (self): SegformerEfficientSelfAttention(\n",
       "                (query): Linear(in_features=32, out_features=32, bias=True)\n",
       "                (key): Linear(in_features=32, out_features=32, bias=True)\n",
       "                (value): Linear(in_features=32, out_features=32, bias=True)\n",
       "                (dropout): Dropout(p=0.0, inplace=False)\n",
       "                (sr): Conv2d(32, 32, kernel_size=(8, 8), stride=(8, 8))\n",
       "                (layer_norm): LayerNorm((32,), eps=1e-05, elementwise_affine=True)\n",
       "              )\n",
       "              (output): SegformerSelfOutput(\n",
       "                (dense): Linear(in_features=32, out_features=32, bias=True)\n",
       "                (dropout): Dropout(p=0.0, inplace=False)\n",
       "              )\n",
       "            )\n",
       "            (drop_path): Identity()\n",
       "            (layer_norm_2): LayerNorm((32,), eps=1e-05, elementwise_affine=True)\n",
       "            (mlp): SegformerMixFFN(\n",
       "              (dense1): Linear(in_features=32, out_features=128, bias=True)\n",
       "              (dwconv): SegformerDWConv(\n",
       "                (dwconv): Conv2d(128, 128, kernel_size=(3, 3), stride=(1, 1), padding=(1, 1), groups=128)\n",
       "              )\n",
       "              (intermediate_act_fn): GELUActivation()\n",
       "              (dense2): Linear(in_features=128, out_features=32, bias=True)\n",
       "              (dropout): Dropout(p=0.0, inplace=False)\n",
       "            )\n",
       "          )\n",
       "          (1): SegformerLayer(\n",
       "            (layer_norm_1): LayerNorm((32,), eps=1e-05, elementwise_affine=True)\n",
       "            (attention): SegformerAttention(\n",
       "              (self): SegformerEfficientSelfAttention(\n",
       "                (query): Linear(in_features=32, out_features=32, bias=True)\n",
       "                (key): Linear(in_features=32, out_features=32, bias=True)\n",
       "                (value): Linear(in_features=32, out_features=32, bias=True)\n",
       "                (dropout): Dropout(p=0.0, inplace=False)\n",
       "                (sr): Conv2d(32, 32, kernel_size=(8, 8), stride=(8, 8))\n",
       "                (layer_norm): LayerNorm((32,), eps=1e-05, elementwise_affine=True)\n",
       "              )\n",
       "              (output): SegformerSelfOutput(\n",
       "                (dense): Linear(in_features=32, out_features=32, bias=True)\n",
       "                (dropout): Dropout(p=0.0, inplace=False)\n",
       "              )\n",
       "            )\n",
       "            (drop_path): SegformerDropPath(p=0.014285714365541935)\n",
       "            (layer_norm_2): LayerNorm((32,), eps=1e-05, elementwise_affine=True)\n",
       "            (mlp): SegformerMixFFN(\n",
       "              (dense1): Linear(in_features=32, out_features=128, bias=True)\n",
       "              (dwconv): SegformerDWConv(\n",
       "                (dwconv): Conv2d(128, 128, kernel_size=(3, 3), stride=(1, 1), padding=(1, 1), groups=128)\n",
       "              )\n",
       "              (intermediate_act_fn): GELUActivation()\n",
       "              (dense2): Linear(in_features=128, out_features=32, bias=True)\n",
       "              (dropout): Dropout(p=0.0, inplace=False)\n",
       "            )\n",
       "          )\n",
       "        )\n",
       "        (1): ModuleList(\n",
       "          (0): SegformerLayer(\n",
       "            (layer_norm_1): LayerNorm((64,), eps=1e-05, elementwise_affine=True)\n",
       "            (attention): SegformerAttention(\n",
       "              (self): SegformerEfficientSelfAttention(\n",
       "                (query): Linear(in_features=64, out_features=64, bias=True)\n",
       "                (key): Linear(in_features=64, out_features=64, bias=True)\n",
       "                (value): Linear(in_features=64, out_features=64, bias=True)\n",
       "                (dropout): Dropout(p=0.0, inplace=False)\n",
       "                (sr): Conv2d(64, 64, kernel_size=(4, 4), stride=(4, 4))\n",
       "                (layer_norm): LayerNorm((64,), eps=1e-05, elementwise_affine=True)\n",
       "              )\n",
       "              (output): SegformerSelfOutput(\n",
       "                (dense): Linear(in_features=64, out_features=64, bias=True)\n",
       "                (dropout): Dropout(p=0.0, inplace=False)\n",
       "              )\n",
       "            )\n",
       "            (drop_path): SegformerDropPath(p=0.02857142873108387)\n",
       "            (layer_norm_2): LayerNorm((64,), eps=1e-05, elementwise_affine=True)\n",
       "            (mlp): SegformerMixFFN(\n",
       "              (dense1): Linear(in_features=64, out_features=256, bias=True)\n",
       "              (dwconv): SegformerDWConv(\n",
       "                (dwconv): Conv2d(256, 256, kernel_size=(3, 3), stride=(1, 1), padding=(1, 1), groups=256)\n",
       "              )\n",
       "              (intermediate_act_fn): GELUActivation()\n",
       "              (dense2): Linear(in_features=256, out_features=64, bias=True)\n",
       "              (dropout): Dropout(p=0.0, inplace=False)\n",
       "            )\n",
       "          )\n",
       "          (1): SegformerLayer(\n",
       "            (layer_norm_1): LayerNorm((64,), eps=1e-05, elementwise_affine=True)\n",
       "            (attention): SegformerAttention(\n",
       "              (self): SegformerEfficientSelfAttention(\n",
       "                (query): Linear(in_features=64, out_features=64, bias=True)\n",
       "                (key): Linear(in_features=64, out_features=64, bias=True)\n",
       "                (value): Linear(in_features=64, out_features=64, bias=True)\n",
       "                (dropout): Dropout(p=0.0, inplace=False)\n",
       "                (sr): Conv2d(64, 64, kernel_size=(4, 4), stride=(4, 4))\n",
       "                (layer_norm): LayerNorm((64,), eps=1e-05, elementwise_affine=True)\n",
       "              )\n",
       "              (output): SegformerSelfOutput(\n",
       "                (dense): Linear(in_features=64, out_features=64, bias=True)\n",
       "                (dropout): Dropout(p=0.0, inplace=False)\n",
       "              )\n",
       "            )\n",
       "            (drop_path): SegformerDropPath(p=0.04285714402794838)\n",
       "            (layer_norm_2): LayerNorm((64,), eps=1e-05, elementwise_affine=True)\n",
       "            (mlp): SegformerMixFFN(\n",
       "              (dense1): Linear(in_features=64, out_features=256, bias=True)\n",
       "              (dwconv): SegformerDWConv(\n",
       "                (dwconv): Conv2d(256, 256, kernel_size=(3, 3), stride=(1, 1), padding=(1, 1), groups=256)\n",
       "              )\n",
       "              (intermediate_act_fn): GELUActivation()\n",
       "              (dense2): Linear(in_features=256, out_features=64, bias=True)\n",
       "              (dropout): Dropout(p=0.0, inplace=False)\n",
       "            )\n",
       "          )\n",
       "        )\n",
       "        (2): ModuleList(\n",
       "          (0): SegformerLayer(\n",
       "            (layer_norm_1): LayerNorm((160,), eps=1e-05, elementwise_affine=True)\n",
       "            (attention): SegformerAttention(\n",
       "              (self): SegformerEfficientSelfAttention(\n",
       "                (query): Linear(in_features=160, out_features=160, bias=True)\n",
       "                (key): Linear(in_features=160, out_features=160, bias=True)\n",
       "                (value): Linear(in_features=160, out_features=160, bias=True)\n",
       "                (dropout): Dropout(p=0.0, inplace=False)\n",
       "                (sr): Conv2d(160, 160, kernel_size=(2, 2), stride=(2, 2))\n",
       "                (layer_norm): LayerNorm((160,), eps=1e-05, elementwise_affine=True)\n",
       "              )\n",
       "              (output): SegformerSelfOutput(\n",
       "                (dense): Linear(in_features=160, out_features=160, bias=True)\n",
       "                (dropout): Dropout(p=0.0, inplace=False)\n",
       "              )\n",
       "            )\n",
       "            (drop_path): SegformerDropPath(p=0.05714285746216774)\n",
       "            (layer_norm_2): LayerNorm((160,), eps=1e-05, elementwise_affine=True)\n",
       "            (mlp): SegformerMixFFN(\n",
       "              (dense1): Linear(in_features=160, out_features=640, bias=True)\n",
       "              (dwconv): SegformerDWConv(\n",
       "                (dwconv): Conv2d(640, 640, kernel_size=(3, 3), stride=(1, 1), padding=(1, 1), groups=640)\n",
       "              )\n",
       "              (intermediate_act_fn): GELUActivation()\n",
       "              (dense2): Linear(in_features=640, out_features=160, bias=True)\n",
       "              (dropout): Dropout(p=0.0, inplace=False)\n",
       "            )\n",
       "          )\n",
       "          (1): SegformerLayer(\n",
       "            (layer_norm_1): LayerNorm((160,), eps=1e-05, elementwise_affine=True)\n",
       "            (attention): SegformerAttention(\n",
       "              (self): SegformerEfficientSelfAttention(\n",
       "                (query): Linear(in_features=160, out_features=160, bias=True)\n",
       "                (key): Linear(in_features=160, out_features=160, bias=True)\n",
       "                (value): Linear(in_features=160, out_features=160, bias=True)\n",
       "                (dropout): Dropout(p=0.0, inplace=False)\n",
       "                (sr): Conv2d(160, 160, kernel_size=(2, 2), stride=(2, 2))\n",
       "                (layer_norm): LayerNorm((160,), eps=1e-05, elementwise_affine=True)\n",
       "              )\n",
       "              (output): SegformerSelfOutput(\n",
       "                (dense): Linear(in_features=160, out_features=160, bias=True)\n",
       "                (dropout): Dropout(p=0.0, inplace=False)\n",
       "              )\n",
       "            )\n",
       "            (drop_path): SegformerDropPath(p=0.0714285746216774)\n",
       "            (layer_norm_2): LayerNorm((160,), eps=1e-05, elementwise_affine=True)\n",
       "            (mlp): SegformerMixFFN(\n",
       "              (dense1): Linear(in_features=160, out_features=640, bias=True)\n",
       "              (dwconv): SegformerDWConv(\n",
       "                (dwconv): Conv2d(640, 640, kernel_size=(3, 3), stride=(1, 1), padding=(1, 1), groups=640)\n",
       "              )\n",
       "              (intermediate_act_fn): GELUActivation()\n",
       "              (dense2): Linear(in_features=640, out_features=160, bias=True)\n",
       "              (dropout): Dropout(p=0.0, inplace=False)\n",
       "            )\n",
       "          )\n",
       "        )\n",
       "        (3): ModuleList(\n",
       "          (0): SegformerLayer(\n",
       "            (layer_norm_1): LayerNorm((256,), eps=1e-05, elementwise_affine=True)\n",
       "            (attention): SegformerAttention(\n",
       "              (self): SegformerEfficientSelfAttention(\n",
       "                (query): Linear(in_features=256, out_features=256, bias=True)\n",
       "                (key): Linear(in_features=256, out_features=256, bias=True)\n",
       "                (value): Linear(in_features=256, out_features=256, bias=True)\n",
       "                (dropout): Dropout(p=0.0, inplace=False)\n",
       "              )\n",
       "              (output): SegformerSelfOutput(\n",
       "                (dense): Linear(in_features=256, out_features=256, bias=True)\n",
       "                (dropout): Dropout(p=0.0, inplace=False)\n",
       "              )\n",
       "            )\n",
       "            (drop_path): SegformerDropPath(p=0.08571428805589676)\n",
       "            (layer_norm_2): LayerNorm((256,), eps=1e-05, elementwise_affine=True)\n",
       "            (mlp): SegformerMixFFN(\n",
       "              (dense1): Linear(in_features=256, out_features=1024, bias=True)\n",
       "              (dwconv): SegformerDWConv(\n",
       "                (dwconv): Conv2d(1024, 1024, kernel_size=(3, 3), stride=(1, 1), padding=(1, 1), groups=1024)\n",
       "              )\n",
       "              (intermediate_act_fn): GELUActivation()\n",
       "              (dense2): Linear(in_features=1024, out_features=256, bias=True)\n",
       "              (dropout): Dropout(p=0.0, inplace=False)\n",
       "            )\n",
       "          )\n",
       "          (1): SegformerLayer(\n",
       "            (layer_norm_1): LayerNorm((256,), eps=1e-05, elementwise_affine=True)\n",
       "            (attention): SegformerAttention(\n",
       "              (self): SegformerEfficientSelfAttention(\n",
       "                (query): Linear(in_features=256, out_features=256, bias=True)\n",
       "                (key): Linear(in_features=256, out_features=256, bias=True)\n",
       "                (value): Linear(in_features=256, out_features=256, bias=True)\n",
       "                (dropout): Dropout(p=0.0, inplace=False)\n",
       "              )\n",
       "              (output): SegformerSelfOutput(\n",
       "                (dense): Linear(in_features=256, out_features=256, bias=True)\n",
       "                (dropout): Dropout(p=0.0, inplace=False)\n",
       "              )\n",
       "            )\n",
       "            (drop_path): SegformerDropPath(p=0.10000000149011612)\n",
       "            (layer_norm_2): LayerNorm((256,), eps=1e-05, elementwise_affine=True)\n",
       "            (mlp): SegformerMixFFN(\n",
       "              (dense1): Linear(in_features=256, out_features=1024, bias=True)\n",
       "              (dwconv): SegformerDWConv(\n",
       "                (dwconv): Conv2d(1024, 1024, kernel_size=(3, 3), stride=(1, 1), padding=(1, 1), groups=1024)\n",
       "              )\n",
       "              (intermediate_act_fn): GELUActivation()\n",
       "              (dense2): Linear(in_features=1024, out_features=256, bias=True)\n",
       "              (dropout): Dropout(p=0.0, inplace=False)\n",
       "            )\n",
       "          )\n",
       "        )\n",
       "      )\n",
       "      (layer_norm): ModuleList(\n",
       "        (0): LayerNorm((32,), eps=1e-05, elementwise_affine=True)\n",
       "        (1): LayerNorm((64,), eps=1e-05, elementwise_affine=True)\n",
       "        (2): LayerNorm((160,), eps=1e-05, elementwise_affine=True)\n",
       "        (3): LayerNorm((256,), eps=1e-05, elementwise_affine=True)\n",
       "      )\n",
       "    )\n",
       "  )\n",
       "  (decode_head): SegformerDecodeHead(\n",
       "    (linear_c): ModuleList(\n",
       "      (0): SegformerMLP(\n",
       "        (proj): Linear(in_features=32, out_features=256, bias=True)\n",
       "      )\n",
       "      (1): SegformerMLP(\n",
       "        (proj): Linear(in_features=64, out_features=256, bias=True)\n",
       "      )\n",
       "      (2): SegformerMLP(\n",
       "        (proj): Linear(in_features=160, out_features=256, bias=True)\n",
       "      )\n",
       "      (3): SegformerMLP(\n",
       "        (proj): Linear(in_features=256, out_features=256, bias=True)\n",
       "      )\n",
       "    )\n",
       "    (linear_fuse): Conv2d(1024, 256, kernel_size=(1, 1), stride=(1, 1), bias=False)\n",
       "    (batch_norm): BatchNorm2d(256, eps=1e-05, momentum=0.1, affine=True, track_running_stats=True)\n",
       "    (activation): ReLU()\n",
       "    (dropout): Dropout(p=0.1, inplace=False)\n",
       "    (classifier): Conv2d(256, 13, kernel_size=(1, 1), stride=(1, 1))\n",
       "  )\n",
       ")"
      ]
     },
     "execution_count": 19,
     "metadata": {},
     "output_type": "execute_result"
    }
   ],
   "source": [
    "from transformers import AutoModelForSemanticSegmentation, TrainingArguments, Trainer, EarlyStoppingCallback\n",
    "\n",
    "model = AutoModelForSemanticSegmentation.from_pretrained(checkpoint, id2label=id2label, label2id=label2id)\n",
    "model.to(device)"
   ]
  },
  {
   "cell_type": "code",
   "execution_count": 20,
   "metadata": {},
   "outputs": [],
   "source": [
    "# TODO try to remove eval_accumulation_steps\n",
    "training_args = TrainingArguments(\n",
    "    output_dir=\"segformer-b0-scene-parse-150\",\n",
    "    learning_rate=6e-5,\n",
    "    num_train_epochs=25,\n",
    "    per_device_train_batch_size=10,\n",
    "    per_device_eval_batch_size=10,\n",
    "    save_total_limit=3,\n",
    "    evaluation_strategy=\"steps\",\n",
    "    save_strategy=\"steps\",\n",
    "    save_steps=100,\n",
    "    eval_steps=100,\n",
    "    logging_steps=1,\n",
    "    # eval_accumulation_steps=5,\n",
    "    remove_unused_columns=False,\n",
    "    load_best_model_at_end=True,\n",
    "    seed=seed,\n",
    ")"
   ]
  },
  {
   "cell_type": "code",
   "execution_count": 21,
   "metadata": {},
   "outputs": [],
   "source": [
    "def initialize_trainer(train_ds, test_ds) :\n",
    "    trainer = Trainer(\n",
    "        model=model,\n",
    "        args=training_args,\n",
    "        train_dataset=train_ds,\n",
    "        eval_dataset=test_ds,\n",
    "        compute_metrics=compute_metrics,\n",
    "        callbacks=[EarlyStoppingCallback(early_stopping_patience=3)]\n",
    "    )\n",
    "    return trainer"
   ]
  },
  {
   "cell_type": "code",
   "execution_count": 22,
   "metadata": {},
   "outputs": [],
   "source": [
    "train_ds.set_transform(train_transforms)\n",
    "val_ds.set_transform(train_transforms)\n",
    "test_ds.set_transform(train_transforms)"
   ]
  },
  {
   "cell_type": "code",
   "execution_count": 23,
   "metadata": {},
   "outputs": [
    {
     "name": "stderr",
     "output_type": "stream",
     "text": [
      "c:\\Users\\Kate\\AppData\\Local\\miniconda3\\envs\\master\\Lib\\site-packages\\transformers\\optimization.py:411: FutureWarning: This implementation of AdamW is deprecated and will be removed in a future version. Use the PyTorch implementation torch.optim.AdamW instead, or set `no_deprecation_warning=True` to disable this warning\n",
      "  warnings.warn(\n",
      "  0%|          | 1/1175 [00:10<3:30:57, 10.78s/it]"
     ]
    },
    {
     "name": "stdout",
     "output_type": "stream",
     "text": [
      "{'loss': 2.5812, 'learning_rate': 5.9948936170212765e-05, 'epoch': 0.02}\n"
     ]
    },
    {
     "name": "stderr",
     "output_type": "stream",
     "text": [
      "  0%|          | 2/1175 [00:18<2:57:14,  9.07s/it]"
     ]
    },
    {
     "name": "stdout",
     "output_type": "stream",
     "text": [
      "{'loss': 2.556, 'learning_rate': 5.9897872340425535e-05, 'epoch': 0.04}\n"
     ]
    },
    {
     "name": "stderr",
     "output_type": "stream",
     "text": [
      "  0%|          | 3/1175 [00:29<3:11:43,  9.82s/it]"
     ]
    },
    {
     "name": "stdout",
     "output_type": "stream",
     "text": [
      "{'loss': 2.5276, 'learning_rate': 5.98468085106383e-05, 'epoch': 0.06}\n"
     ]
    },
    {
     "name": "stderr",
     "output_type": "stream",
     "text": [
      "  0%|          | 4/1175 [00:38<3:07:02,  9.58s/it]"
     ]
    },
    {
     "name": "stdout",
     "output_type": "stream",
     "text": [
      "{'loss': 2.5021, 'learning_rate': 5.979574468085107e-05, 'epoch': 0.09}\n"
     ]
    },
    {
     "name": "stderr",
     "output_type": "stream",
     "text": [
      "  0%|          | 5/1175 [00:48<3:07:12,  9.60s/it]"
     ]
    },
    {
     "name": "stdout",
     "output_type": "stream",
     "text": [
      "{'loss': 2.4846, 'learning_rate': 5.974468085106383e-05, 'epoch': 0.11}\n"
     ]
    },
    {
     "name": "stderr",
     "output_type": "stream",
     "text": [
      "  1%|          | 6/1175 [00:56<3:01:12,  9.30s/it]"
     ]
    },
    {
     "name": "stdout",
     "output_type": "stream",
     "text": [
      "{'loss': 2.4477, 'learning_rate': 5.9693617021276594e-05, 'epoch': 0.13}\n"
     ]
    },
    {
     "name": "stderr",
     "output_type": "stream",
     "text": [
      "  1%|          | 7/1175 [01:05<2:58:00,  9.14s/it]"
     ]
    },
    {
     "name": "stdout",
     "output_type": "stream",
     "text": [
      "{'loss': 2.4413, 'learning_rate': 5.9642553191489364e-05, 'epoch': 0.15}\n"
     ]
    },
    {
     "name": "stderr",
     "output_type": "stream",
     "text": [
      "  1%|          | 8/1175 [01:14<2:55:29,  9.02s/it]"
     ]
    },
    {
     "name": "stdout",
     "output_type": "stream",
     "text": [
      "{'loss': 2.4297, 'learning_rate': 5.959148936170213e-05, 'epoch': 0.17}\n"
     ]
    },
    {
     "name": "stderr",
     "output_type": "stream",
     "text": [
      "  1%|          | 9/1175 [01:23<2:53:33,  8.93s/it]"
     ]
    },
    {
     "name": "stdout",
     "output_type": "stream",
     "text": [
      "{'loss': 2.3607, 'learning_rate': 5.95404255319149e-05, 'epoch': 0.19}\n"
     ]
    },
    {
     "name": "stderr",
     "output_type": "stream",
     "text": [
      "  1%|          | 10/1175 [01:31<2:52:03,  8.86s/it]"
     ]
    },
    {
     "name": "stdout",
     "output_type": "stream",
     "text": [
      "{'loss': 2.4271, 'learning_rate': 5.948936170212766e-05, 'epoch': 0.21}\n"
     ]
    },
    {
     "name": "stderr",
     "output_type": "stream",
     "text": [
      "  1%|          | 11/1175 [01:40<2:51:27,  8.84s/it]"
     ]
    },
    {
     "name": "stdout",
     "output_type": "stream",
     "text": [
      "{'loss': 2.3314, 'learning_rate': 5.943829787234043e-05, 'epoch': 0.23}\n"
     ]
    },
    {
     "name": "stderr",
     "output_type": "stream",
     "text": [
      "  1%|          | 12/1175 [01:49<2:50:44,  8.81s/it]"
     ]
    },
    {
     "name": "stdout",
     "output_type": "stream",
     "text": [
      "{'loss': 2.3234, 'learning_rate': 5.938723404255319e-05, 'epoch': 0.26}\n"
     ]
    },
    {
     "name": "stderr",
     "output_type": "stream",
     "text": [
      "  1%|          | 13/1175 [01:58<2:50:12,  8.79s/it]"
     ]
    },
    {
     "name": "stdout",
     "output_type": "stream",
     "text": [
      "{'loss': 2.3333, 'learning_rate': 5.9336170212765956e-05, 'epoch': 0.28}\n"
     ]
    },
    {
     "name": "stderr",
     "output_type": "stream",
     "text": [
      "  1%|          | 14/1175 [02:06<2:49:47,  8.78s/it]"
     ]
    },
    {
     "name": "stdout",
     "output_type": "stream",
     "text": [
      "{'loss': 2.2727, 'learning_rate': 5.9285106382978726e-05, 'epoch': 0.3}\n"
     ]
    },
    {
     "name": "stderr",
     "output_type": "stream",
     "text": [
      "  1%|▏         | 15/1175 [02:15<2:49:31,  8.77s/it]"
     ]
    },
    {
     "name": "stdout",
     "output_type": "stream",
     "text": [
      "{'loss': 2.2508, 'learning_rate': 5.923404255319149e-05, 'epoch': 0.32}\n"
     ]
    },
    {
     "name": "stderr",
     "output_type": "stream",
     "text": [
      "  1%|▏         | 16/1175 [02:24<2:49:35,  8.78s/it]"
     ]
    },
    {
     "name": "stdout",
     "output_type": "stream",
     "text": [
      "{'loss': 2.2197, 'learning_rate': 5.918297872340426e-05, 'epoch': 0.34}\n"
     ]
    },
    {
     "name": "stderr",
     "output_type": "stream",
     "text": [
      "  1%|▏         | 17/1175 [02:33<2:49:25,  8.78s/it]"
     ]
    },
    {
     "name": "stdout",
     "output_type": "stream",
     "text": [
      "{'loss': 2.2013, 'learning_rate': 5.913191489361702e-05, 'epoch': 0.36}\n"
     ]
    },
    {
     "name": "stderr",
     "output_type": "stream",
     "text": [
      "  2%|▏         | 18/1175 [02:42<2:48:57,  8.76s/it]"
     ]
    },
    {
     "name": "stdout",
     "output_type": "stream",
     "text": [
      "{'loss': 2.1932, 'learning_rate': 5.9080851063829785e-05, 'epoch': 0.38}\n"
     ]
    },
    {
     "name": "stderr",
     "output_type": "stream",
     "text": [
      "  2%|▏         | 19/1175 [02:50<2:48:27,  8.74s/it]"
     ]
    },
    {
     "name": "stdout",
     "output_type": "stream",
     "text": [
      "{'loss': 2.1674, 'learning_rate': 5.9029787234042555e-05, 'epoch': 0.4}\n"
     ]
    },
    {
     "name": "stderr",
     "output_type": "stream",
     "text": [
      "  2%|▏         | 20/1175 [02:59<2:48:25,  8.75s/it]"
     ]
    },
    {
     "name": "stdout",
     "output_type": "stream",
     "text": [
      "{'loss': 2.1338, 'learning_rate': 5.897872340425532e-05, 'epoch': 0.43}\n"
     ]
    },
    {
     "name": "stderr",
     "output_type": "stream",
     "text": [
      "  2%|▏         | 21/1175 [03:08<2:48:06,  8.74s/it]"
     ]
    },
    {
     "name": "stdout",
     "output_type": "stream",
     "text": [
      "{'loss': 2.1069, 'learning_rate': 5.892765957446809e-05, 'epoch': 0.45}\n"
     ]
    },
    {
     "name": "stderr",
     "output_type": "stream",
     "text": [
      "  2%|▏         | 22/1175 [03:16<2:48:07,  8.75s/it]"
     ]
    },
    {
     "name": "stdout",
     "output_type": "stream",
     "text": [
      "{'loss': 2.1697, 'learning_rate': 5.887659574468085e-05, 'epoch': 0.47}\n"
     ]
    },
    {
     "name": "stderr",
     "output_type": "stream",
     "text": [
      "  2%|▏         | 23/1175 [03:25<2:47:34,  8.73s/it]"
     ]
    },
    {
     "name": "stdout",
     "output_type": "stream",
     "text": [
      "{'loss': 2.0831, 'learning_rate': 5.8825531914893615e-05, 'epoch': 0.49}\n"
     ]
    },
    {
     "name": "stderr",
     "output_type": "stream",
     "text": [
      "  2%|▏         | 24/1175 [03:34<2:47:25,  8.73s/it]"
     ]
    },
    {
     "name": "stdout",
     "output_type": "stream",
     "text": [
      "{'loss': 2.0717, 'learning_rate': 5.8774468085106384e-05, 'epoch': 0.51}\n"
     ]
    },
    {
     "name": "stderr",
     "output_type": "stream",
     "text": [
      "  2%|▏         | 25/1175 [03:43<2:47:20,  8.73s/it]"
     ]
    },
    {
     "name": "stdout",
     "output_type": "stream",
     "text": [
      "{'loss': 2.1043, 'learning_rate': 5.872340425531915e-05, 'epoch': 0.53}\n"
     ]
    },
    {
     "name": "stderr",
     "output_type": "stream",
     "text": [
      "  2%|▏         | 26/1175 [03:51<2:47:06,  8.73s/it]"
     ]
    },
    {
     "name": "stdout",
     "output_type": "stream",
     "text": [
      "{'loss': 1.998, 'learning_rate': 5.867234042553192e-05, 'epoch': 0.55}\n"
     ]
    },
    {
     "name": "stderr",
     "output_type": "stream",
     "text": [
      "  2%|▏         | 27/1175 [04:00<2:47:10,  8.74s/it]"
     ]
    },
    {
     "name": "stdout",
     "output_type": "stream",
     "text": [
      "{'loss': 2.0918, 'learning_rate': 5.862127659574468e-05, 'epoch': 0.57}\n"
     ]
    },
    {
     "name": "stderr",
     "output_type": "stream",
     "text": [
      "  2%|▏         | 28/1175 [04:09<2:47:05,  8.74s/it]"
     ]
    },
    {
     "name": "stdout",
     "output_type": "stream",
     "text": [
      "{'loss': 1.9949, 'learning_rate': 5.857021276595745e-05, 'epoch': 0.6}\n"
     ]
    },
    {
     "name": "stderr",
     "output_type": "stream",
     "text": [
      "  2%|▏         | 29/1175 [04:18<2:47:05,  8.75s/it]"
     ]
    },
    {
     "name": "stdout",
     "output_type": "stream",
     "text": [
      "{'loss': 1.9679, 'learning_rate': 5.8519148936170214e-05, 'epoch': 0.62}\n"
     ]
    },
    {
     "name": "stderr",
     "output_type": "stream",
     "text": [
      "  3%|▎         | 30/1175 [04:26<2:46:41,  8.73s/it]"
     ]
    },
    {
     "name": "stdout",
     "output_type": "stream",
     "text": [
      "{'loss': 1.8718, 'learning_rate': 5.846808510638298e-05, 'epoch': 0.64}\n"
     ]
    },
    {
     "name": "stderr",
     "output_type": "stream",
     "text": [
      "  3%|▎         | 31/1175 [04:35<2:46:33,  8.74s/it]"
     ]
    },
    {
     "name": "stdout",
     "output_type": "stream",
     "text": [
      "{'loss': 1.9995, 'learning_rate': 5.841702127659575e-05, 'epoch': 0.66}\n"
     ]
    },
    {
     "name": "stderr",
     "output_type": "stream",
     "text": [
      "  3%|▎         | 32/1175 [04:44<2:46:28,  8.74s/it]"
     ]
    },
    {
     "name": "stdout",
     "output_type": "stream",
     "text": [
      "{'loss': 1.9064, 'learning_rate': 5.836595744680851e-05, 'epoch': 0.68}\n"
     ]
    },
    {
     "name": "stderr",
     "output_type": "stream",
     "text": [
      "  3%|▎         | 33/1175 [04:53<2:46:22,  8.74s/it]"
     ]
    },
    {
     "name": "stdout",
     "output_type": "stream",
     "text": [
      "{'loss': 1.9448, 'learning_rate': 5.831489361702128e-05, 'epoch': 0.7}\n"
     ]
    },
    {
     "name": "stderr",
     "output_type": "stream",
     "text": [
      "  3%|▎         | 34/1175 [05:01<2:46:01,  8.73s/it]"
     ]
    },
    {
     "name": "stdout",
     "output_type": "stream",
     "text": [
      "{'loss': 1.9896, 'learning_rate': 5.826382978723404e-05, 'epoch': 0.72}\n"
     ]
    },
    {
     "name": "stderr",
     "output_type": "stream",
     "text": [
      "  3%|▎         | 35/1175 [05:10<2:46:04,  8.74s/it]"
     ]
    },
    {
     "name": "stdout",
     "output_type": "stream",
     "text": [
      "{'loss': 1.912, 'learning_rate': 5.8212765957446806e-05, 'epoch': 0.74}\n"
     ]
    },
    {
     "name": "stderr",
     "output_type": "stream",
     "text": [
      "  3%|▎         | 36/1175 [05:19<2:45:54,  8.74s/it]"
     ]
    },
    {
     "name": "stdout",
     "output_type": "stream",
     "text": [
      "{'loss': 2.0488, 'learning_rate': 5.8161702127659576e-05, 'epoch': 0.77}\n"
     ]
    },
    {
     "name": "stderr",
     "output_type": "stream",
     "text": [
      "  3%|▎         | 37/1175 [05:28<2:46:04,  8.76s/it]"
     ]
    },
    {
     "name": "stdout",
     "output_type": "stream",
     "text": [
      "{'loss': 1.8762, 'learning_rate': 5.811063829787234e-05, 'epoch': 0.79}\n"
     ]
    },
    {
     "name": "stderr",
     "output_type": "stream",
     "text": [
      "  3%|▎         | 38/1175 [05:36<2:45:51,  8.75s/it]"
     ]
    },
    {
     "name": "stdout",
     "output_type": "stream",
     "text": [
      "{'loss': 1.8184, 'learning_rate': 5.805957446808511e-05, 'epoch': 0.81}\n"
     ]
    },
    {
     "name": "stderr",
     "output_type": "stream",
     "text": [
      "  3%|▎         | 39/1175 [05:45<2:45:49,  8.76s/it]"
     ]
    },
    {
     "name": "stdout",
     "output_type": "stream",
     "text": [
      "{'loss': 1.7988, 'learning_rate': 5.800851063829787e-05, 'epoch': 0.83}\n"
     ]
    },
    {
     "name": "stderr",
     "output_type": "stream",
     "text": [
      "  3%|▎         | 40/1175 [05:54<2:45:31,  8.75s/it]"
     ]
    },
    {
     "name": "stdout",
     "output_type": "stream",
     "text": [
      "{'loss': 1.8405, 'learning_rate': 5.7957446808510635e-05, 'epoch': 0.85}\n"
     ]
    },
    {
     "name": "stderr",
     "output_type": "stream",
     "text": [
      "  3%|▎         | 41/1175 [06:03<2:45:48,  8.77s/it]"
     ]
    },
    {
     "name": "stdout",
     "output_type": "stream",
     "text": [
      "{'loss': 1.8727, 'learning_rate': 5.7906382978723405e-05, 'epoch': 0.87}\n"
     ]
    },
    {
     "name": "stderr",
     "output_type": "stream",
     "text": [
      "  4%|▎         | 42/1175 [06:11<2:45:32,  8.77s/it]"
     ]
    },
    {
     "name": "stdout",
     "output_type": "stream",
     "text": [
      "{'loss': 1.7808, 'learning_rate': 5.785531914893617e-05, 'epoch': 0.89}\n"
     ]
    },
    {
     "name": "stderr",
     "output_type": "stream",
     "text": [
      "  4%|▎         | 43/1175 [06:21<2:48:47,  8.95s/it]"
     ]
    },
    {
     "name": "stdout",
     "output_type": "stream",
     "text": [
      "{'loss': 1.8961, 'learning_rate': 5.780425531914894e-05, 'epoch': 0.91}\n"
     ]
    },
    {
     "name": "stderr",
     "output_type": "stream",
     "text": [
      "  4%|▎         | 44/1175 [06:30<2:50:22,  9.04s/it]"
     ]
    },
    {
     "name": "stdout",
     "output_type": "stream",
     "text": [
      "{'loss': 1.7424, 'learning_rate': 5.77531914893617e-05, 'epoch': 0.94}\n"
     ]
    },
    {
     "name": "stderr",
     "output_type": "stream",
     "text": [
      "  4%|▍         | 45/1175 [06:39<2:48:31,  8.95s/it]"
     ]
    },
    {
     "name": "stdout",
     "output_type": "stream",
     "text": [
      "{'loss': 1.7675, 'learning_rate': 5.7702127659574464e-05, 'epoch': 0.96}\n"
     ]
    },
    {
     "name": "stderr",
     "output_type": "stream",
     "text": [
      "  4%|▍         | 46/1175 [06:47<2:45:21,  8.79s/it]"
     ]
    },
    {
     "name": "stdout",
     "output_type": "stream",
     "text": [
      "{'loss': 1.7034, 'learning_rate': 5.7651063829787234e-05, 'epoch': 0.98}\n"
     ]
    },
    {
     "name": "stderr",
     "output_type": "stream",
     "text": [
      "  4%|▍         | 47/1175 [06:52<2:24:47,  7.70s/it]"
     ]
    },
    {
     "name": "stdout",
     "output_type": "stream",
     "text": [
      "{'loss': 1.9825, 'learning_rate': 5.76e-05, 'epoch': 1.0}\n"
     ]
    },
    {
     "name": "stderr",
     "output_type": "stream",
     "text": [
      "  4%|▍         | 48/1175 [07:02<2:38:06,  8.42s/it]"
     ]
    },
    {
     "name": "stdout",
     "output_type": "stream",
     "text": [
      "{'loss': 1.7002, 'learning_rate': 5.754893617021277e-05, 'epoch': 1.02}\n"
     ]
    },
    {
     "name": "stderr",
     "output_type": "stream",
     "text": [
      "  4%|▍         | 49/1175 [07:11<2:40:07,  8.53s/it]"
     ]
    },
    {
     "name": "stdout",
     "output_type": "stream",
     "text": [
      "{'loss': 1.8388, 'learning_rate': 5.749787234042553e-05, 'epoch': 1.04}\n"
     ]
    },
    {
     "name": "stderr",
     "output_type": "stream",
     "text": [
      "  4%|▍         | 50/1175 [07:20<2:41:32,  8.62s/it]"
     ]
    },
    {
     "name": "stdout",
     "output_type": "stream",
     "text": [
      "{'loss': 1.7468, 'learning_rate': 5.74468085106383e-05, 'epoch': 1.06}\n"
     ]
    },
    {
     "name": "stderr",
     "output_type": "stream",
     "text": [
      "  4%|▍         | 51/1175 [07:29<2:42:23,  8.67s/it]"
     ]
    },
    {
     "name": "stdout",
     "output_type": "stream",
     "text": [
      "{'loss': 1.7289, 'learning_rate': 5.7395744680851063e-05, 'epoch': 1.09}\n"
     ]
    },
    {
     "name": "stderr",
     "output_type": "stream",
     "text": [
      "  4%|▍         | 52/1175 [07:38<2:42:41,  8.69s/it]"
     ]
    },
    {
     "name": "stdout",
     "output_type": "stream",
     "text": [
      "{'loss': 1.72, 'learning_rate': 5.7344680851063827e-05, 'epoch': 1.11}\n"
     ]
    },
    {
     "name": "stderr",
     "output_type": "stream",
     "text": [
      "  5%|▍         | 53/1175 [07:46<2:42:46,  8.70s/it]"
     ]
    },
    {
     "name": "stdout",
     "output_type": "stream",
     "text": [
      "{'loss': 1.7873, 'learning_rate': 5.7293617021276597e-05, 'epoch': 1.13}\n"
     ]
    },
    {
     "name": "stderr",
     "output_type": "stream",
     "text": [
      "  5%|▍         | 54/1175 [07:55<2:43:00,  8.72s/it]"
     ]
    },
    {
     "name": "stdout",
     "output_type": "stream",
     "text": [
      "{'loss': 1.6753, 'learning_rate': 5.724255319148936e-05, 'epoch': 1.15}\n"
     ]
    },
    {
     "name": "stderr",
     "output_type": "stream",
     "text": [
      "  5%|▍         | 55/1175 [08:04<2:42:58,  8.73s/it]"
     ]
    },
    {
     "name": "stdout",
     "output_type": "stream",
     "text": [
      "{'loss': 1.6259, 'learning_rate': 5.719148936170213e-05, 'epoch': 1.17}\n"
     ]
    },
    {
     "name": "stderr",
     "output_type": "stream",
     "text": [
      "  5%|▍         | 56/1175 [08:13<2:43:03,  8.74s/it]"
     ]
    },
    {
     "name": "stdout",
     "output_type": "stream",
     "text": [
      "{'loss': 1.5973, 'learning_rate': 5.714042553191489e-05, 'epoch': 1.19}\n"
     ]
    },
    {
     "name": "stderr",
     "output_type": "stream",
     "text": [
      "  5%|▍         | 57/1175 [08:21<2:42:54,  8.74s/it]"
     ]
    },
    {
     "name": "stdout",
     "output_type": "stream",
     "text": [
      "{'loss': 1.6112, 'learning_rate': 5.7089361702127656e-05, 'epoch': 1.21}\n"
     ]
    },
    {
     "name": "stderr",
     "output_type": "stream",
     "text": [
      "  5%|▍         | 58/1175 [08:30<2:42:50,  8.75s/it]"
     ]
    },
    {
     "name": "stdout",
     "output_type": "stream",
     "text": [
      "{'loss': 1.723, 'learning_rate': 5.7038297872340426e-05, 'epoch': 1.23}\n"
     ]
    },
    {
     "name": "stderr",
     "output_type": "stream",
     "text": [
      "  5%|▌         | 59/1175 [08:39<2:42:34,  8.74s/it]"
     ]
    },
    {
     "name": "stdout",
     "output_type": "stream",
     "text": [
      "{'loss': 1.5934, 'learning_rate': 5.698723404255319e-05, 'epoch': 1.26}\n"
     ]
    },
    {
     "name": "stderr",
     "output_type": "stream",
     "text": [
      "  5%|▌         | 60/1175 [08:48<2:42:22,  8.74s/it]"
     ]
    },
    {
     "name": "stdout",
     "output_type": "stream",
     "text": [
      "{'loss': 1.6235, 'learning_rate': 5.693617021276596e-05, 'epoch': 1.28}\n"
     ]
    },
    {
     "name": "stderr",
     "output_type": "stream",
     "text": [
      "  5%|▌         | 61/1175 [08:56<2:42:31,  8.75s/it]"
     ]
    },
    {
     "name": "stdout",
     "output_type": "stream",
     "text": [
      "{'loss': 1.5909, 'learning_rate': 5.688510638297872e-05, 'epoch': 1.3}\n"
     ]
    },
    {
     "name": "stderr",
     "output_type": "stream",
     "text": [
      "  5%|▌         | 62/1175 [09:05<2:42:14,  8.75s/it]"
     ]
    },
    {
     "name": "stdout",
     "output_type": "stream",
     "text": [
      "{'loss': 1.5505, 'learning_rate': 5.6834042553191485e-05, 'epoch': 1.32}\n"
     ]
    },
    {
     "name": "stderr",
     "output_type": "stream",
     "text": [
      "  5%|▌         | 63/1175 [09:14<2:42:06,  8.75s/it]"
     ]
    },
    {
     "name": "stdout",
     "output_type": "stream",
     "text": [
      "{'loss': 1.6073, 'learning_rate': 5.6782978723404255e-05, 'epoch': 1.34}\n"
     ]
    },
    {
     "name": "stderr",
     "output_type": "stream",
     "text": [
      "  5%|▌         | 64/1175 [09:23<2:42:00,  8.75s/it]"
     ]
    },
    {
     "name": "stdout",
     "output_type": "stream",
     "text": [
      "{'loss': 1.621, 'learning_rate': 5.673191489361702e-05, 'epoch': 1.36}\n"
     ]
    },
    {
     "name": "stderr",
     "output_type": "stream",
     "text": [
      "  6%|▌         | 65/1175 [09:31<2:42:05,  8.76s/it]"
     ]
    },
    {
     "name": "stdout",
     "output_type": "stream",
     "text": [
      "{'loss': 1.5271, 'learning_rate': 5.668085106382979e-05, 'epoch': 1.38}\n"
     ]
    },
    {
     "name": "stderr",
     "output_type": "stream",
     "text": [
      "  6%|▌         | 66/1175 [09:40<2:41:57,  8.76s/it]"
     ]
    },
    {
     "name": "stdout",
     "output_type": "stream",
     "text": [
      "{'loss': 1.5562, 'learning_rate': 5.662978723404255e-05, 'epoch': 1.4}\n"
     ]
    },
    {
     "name": "stderr",
     "output_type": "stream",
     "text": [
      "  6%|▌         | 67/1175 [09:49<2:41:54,  8.77s/it]"
     ]
    },
    {
     "name": "stdout",
     "output_type": "stream",
     "text": [
      "{'loss': 1.5111, 'learning_rate': 5.657872340425532e-05, 'epoch': 1.43}\n"
     ]
    },
    {
     "name": "stderr",
     "output_type": "stream",
     "text": [
      "  6%|▌         | 68/1175 [09:58<2:41:37,  8.76s/it]"
     ]
    },
    {
     "name": "stdout",
     "output_type": "stream",
     "text": [
      "{'loss': 1.5396, 'learning_rate': 5.6527659574468084e-05, 'epoch': 1.45}\n"
     ]
    },
    {
     "name": "stderr",
     "output_type": "stream",
     "text": [
      "  6%|▌         | 69/1175 [10:06<2:42:03,  8.79s/it]"
     ]
    },
    {
     "name": "stdout",
     "output_type": "stream",
     "text": [
      "{'loss': 1.5278, 'learning_rate': 5.647659574468085e-05, 'epoch': 1.47}\n"
     ]
    },
    {
     "name": "stderr",
     "output_type": "stream",
     "text": [
      "  6%|▌         | 70/1175 [10:15<2:41:32,  8.77s/it]"
     ]
    },
    {
     "name": "stdout",
     "output_type": "stream",
     "text": [
      "{'loss': 1.5293, 'learning_rate': 5.642553191489362e-05, 'epoch': 1.49}\n"
     ]
    },
    {
     "name": "stderr",
     "output_type": "stream",
     "text": [
      "  6%|▌         | 71/1175 [10:24<2:41:34,  8.78s/it]"
     ]
    },
    {
     "name": "stdout",
     "output_type": "stream",
     "text": [
      "{'loss': 1.5462, 'learning_rate': 5.637446808510638e-05, 'epoch': 1.51}\n"
     ]
    },
    {
     "name": "stderr",
     "output_type": "stream",
     "text": [
      "  6%|▌         | 72/1175 [10:33<2:41:20,  8.78s/it]"
     ]
    },
    {
     "name": "stdout",
     "output_type": "stream",
     "text": [
      "{'loss': 1.5234, 'learning_rate': 5.632340425531915e-05, 'epoch': 1.53}\n"
     ]
    },
    {
     "name": "stderr",
     "output_type": "stream",
     "text": [
      "  6%|▌         | 73/1175 [10:42<2:41:17,  8.78s/it]"
     ]
    },
    {
     "name": "stdout",
     "output_type": "stream",
     "text": [
      "{'loss': 1.6125, 'learning_rate': 5.627234042553191e-05, 'epoch': 1.55}\n"
     ]
    },
    {
     "name": "stderr",
     "output_type": "stream",
     "text": [
      "  6%|▋         | 74/1175 [10:50<2:41:11,  8.78s/it]"
     ]
    },
    {
     "name": "stdout",
     "output_type": "stream",
     "text": [
      "{'loss': 1.462, 'learning_rate': 5.6221276595744676e-05, 'epoch': 1.57}\n"
     ]
    },
    {
     "name": "stderr",
     "output_type": "stream",
     "text": [
      "  6%|▋         | 75/1175 [10:59<2:41:00,  8.78s/it]"
     ]
    },
    {
     "name": "stdout",
     "output_type": "stream",
     "text": [
      "{'loss': 1.4866, 'learning_rate': 5.6170212765957446e-05, 'epoch': 1.6}\n"
     ]
    },
    {
     "name": "stderr",
     "output_type": "stream",
     "text": [
      "  6%|▋         | 76/1175 [11:08<2:40:51,  8.78s/it]"
     ]
    },
    {
     "name": "stdout",
     "output_type": "stream",
     "text": [
      "{'loss': 1.5314, 'learning_rate': 5.611914893617021e-05, 'epoch': 1.62}\n"
     ]
    },
    {
     "name": "stderr",
     "output_type": "stream",
     "text": [
      "  7%|▋         | 77/1175 [11:17<2:40:48,  8.79s/it]"
     ]
    },
    {
     "name": "stdout",
     "output_type": "stream",
     "text": [
      "{'loss': 1.4381, 'learning_rate': 5.606808510638298e-05, 'epoch': 1.64}\n"
     ]
    },
    {
     "name": "stderr",
     "output_type": "stream",
     "text": [
      "  7%|▋         | 78/1175 [11:26<2:40:37,  8.79s/it]"
     ]
    },
    {
     "name": "stdout",
     "output_type": "stream",
     "text": [
      "{'loss': 1.4962, 'learning_rate': 5.601702127659574e-05, 'epoch': 1.66}\n"
     ]
    },
    {
     "name": "stderr",
     "output_type": "stream",
     "text": [
      "  7%|▋         | 79/1175 [11:34<2:40:19,  8.78s/it]"
     ]
    },
    {
     "name": "stdout",
     "output_type": "stream",
     "text": [
      "{'loss': 1.4166, 'learning_rate': 5.5965957446808506e-05, 'epoch': 1.68}\n"
     ]
    },
    {
     "name": "stderr",
     "output_type": "stream",
     "text": [
      "  7%|▋         | 80/1175 [11:43<2:40:00,  8.77s/it]"
     ]
    },
    {
     "name": "stdout",
     "output_type": "stream",
     "text": [
      "{'loss': 1.4021, 'learning_rate': 5.5914893617021276e-05, 'epoch': 1.7}\n"
     ]
    },
    {
     "name": "stderr",
     "output_type": "stream",
     "text": [
      "  7%|▋         | 81/1175 [11:52<2:39:55,  8.77s/it]"
     ]
    },
    {
     "name": "stdout",
     "output_type": "stream",
     "text": [
      "{'loss': 1.4485, 'learning_rate': 5.586382978723404e-05, 'epoch': 1.72}\n"
     ]
    },
    {
     "name": "stderr",
     "output_type": "stream",
     "text": [
      "  7%|▋         | 82/1175 [12:01<2:39:49,  8.77s/it]"
     ]
    },
    {
     "name": "stdout",
     "output_type": "stream",
     "text": [
      "{'loss': 1.4263, 'learning_rate': 5.581276595744681e-05, 'epoch': 1.74}\n"
     ]
    },
    {
     "name": "stderr",
     "output_type": "stream",
     "text": [
      "  7%|▋         | 83/1175 [12:09<2:39:43,  8.78s/it]"
     ]
    },
    {
     "name": "stdout",
     "output_type": "stream",
     "text": [
      "{'loss': 1.4703, 'learning_rate': 5.576170212765957e-05, 'epoch': 1.77}\n"
     ]
    },
    {
     "name": "stderr",
     "output_type": "stream",
     "text": [
      "  7%|▋         | 84/1175 [12:18<2:39:51,  8.79s/it]"
     ]
    },
    {
     "name": "stdout",
     "output_type": "stream",
     "text": [
      "{'loss': 1.3539, 'learning_rate': 5.571063829787234e-05, 'epoch': 1.79}\n"
     ]
    },
    {
     "name": "stderr",
     "output_type": "stream",
     "text": [
      "  7%|▋         | 85/1175 [12:27<2:39:44,  8.79s/it]"
     ]
    },
    {
     "name": "stdout",
     "output_type": "stream",
     "text": [
      "{'loss': 1.4044, 'learning_rate': 5.565957446808511e-05, 'epoch': 1.81}\n"
     ]
    },
    {
     "name": "stderr",
     "output_type": "stream",
     "text": [
      "  7%|▋         | 86/1175 [12:36<2:39:34,  8.79s/it]"
     ]
    },
    {
     "name": "stdout",
     "output_type": "stream",
     "text": [
      "{'loss': 1.3568, 'learning_rate': 5.5608510638297875e-05, 'epoch': 1.83}\n"
     ]
    },
    {
     "name": "stderr",
     "output_type": "stream",
     "text": [
      "  7%|▋         | 87/1175 [12:45<2:39:48,  8.81s/it]"
     ]
    },
    {
     "name": "stdout",
     "output_type": "stream",
     "text": [
      "{'loss': 1.3646, 'learning_rate': 5.5557446808510645e-05, 'epoch': 1.85}\n"
     ]
    },
    {
     "name": "stderr",
     "output_type": "stream",
     "text": [
      "  7%|▋         | 88/1175 [12:53<2:39:14,  8.79s/it]"
     ]
    },
    {
     "name": "stdout",
     "output_type": "stream",
     "text": [
      "{'loss': 1.428, 'learning_rate': 5.550638297872341e-05, 'epoch': 1.87}\n"
     ]
    },
    {
     "name": "stderr",
     "output_type": "stream",
     "text": [
      "  8%|▊         | 89/1175 [13:02<2:39:07,  8.79s/it]"
     ]
    },
    {
     "name": "stdout",
     "output_type": "stream",
     "text": [
      "{'loss': 1.3208, 'learning_rate': 5.545531914893618e-05, 'epoch': 1.89}\n"
     ]
    },
    {
     "name": "stderr",
     "output_type": "stream",
     "text": [
      "  8%|▊         | 90/1175 [13:11<2:39:16,  8.81s/it]"
     ]
    },
    {
     "name": "stdout",
     "output_type": "stream",
     "text": [
      "{'loss': 1.32, 'learning_rate': 5.540425531914894e-05, 'epoch': 1.91}\n"
     ]
    },
    {
     "name": "stderr",
     "output_type": "stream",
     "text": [
      "  8%|▊         | 91/1175 [13:20<2:38:56,  8.80s/it]"
     ]
    },
    {
     "name": "stdout",
     "output_type": "stream",
     "text": [
      "{'loss': 1.5835, 'learning_rate': 5.5353191489361704e-05, 'epoch': 1.94}\n"
     ]
    },
    {
     "name": "stderr",
     "output_type": "stream",
     "text": [
      "  8%|▊         | 92/1175 [13:29<2:38:40,  8.79s/it]"
     ]
    },
    {
     "name": "stdout",
     "output_type": "stream",
     "text": [
      "{'loss': 1.437, 'learning_rate': 5.5302127659574474e-05, 'epoch': 1.96}\n"
     ]
    },
    {
     "name": "stderr",
     "output_type": "stream",
     "text": [
      "  8%|▊         | 93/1175 [13:37<2:36:16,  8.67s/it]"
     ]
    },
    {
     "name": "stdout",
     "output_type": "stream",
     "text": [
      "{'loss': 1.4256, 'learning_rate': 5.525106382978724e-05, 'epoch': 1.98}\n"
     ]
    },
    {
     "name": "stderr",
     "output_type": "stream",
     "text": [
      "  8%|▊         | 94/1175 [13:42<2:17:04,  7.61s/it]"
     ]
    },
    {
     "name": "stdout",
     "output_type": "stream",
     "text": [
      "{'loss': 1.2394, 'learning_rate': 5.520000000000001e-05, 'epoch': 2.0}\n"
     ]
    },
    {
     "name": "stderr",
     "output_type": "stream",
     "text": [
      "  8%|▊         | 95/1175 [13:52<2:30:59,  8.39s/it]"
     ]
    },
    {
     "name": "stdout",
     "output_type": "stream",
     "text": [
      "{'loss': 1.5317, 'learning_rate': 5.514893617021277e-05, 'epoch': 2.02}\n"
     ]
    },
    {
     "name": "stderr",
     "output_type": "stream",
     "text": [
      "  8%|▊         | 96/1175 [14:01<2:32:57,  8.51s/it]"
     ]
    },
    {
     "name": "stdout",
     "output_type": "stream",
     "text": [
      "{'loss': 1.2823, 'learning_rate': 5.509787234042553e-05, 'epoch': 2.04}\n"
     ]
    },
    {
     "name": "stderr",
     "output_type": "stream",
     "text": [
      "  8%|▊         | 97/1175 [14:10<2:34:22,  8.59s/it]"
     ]
    },
    {
     "name": "stdout",
     "output_type": "stream",
     "text": [
      "{'loss': 1.3542, 'learning_rate': 5.50468085106383e-05, 'epoch': 2.06}\n"
     ]
    },
    {
     "name": "stderr",
     "output_type": "stream",
     "text": [
      "  8%|▊         | 98/1175 [14:19<2:35:14,  8.65s/it]"
     ]
    },
    {
     "name": "stdout",
     "output_type": "stream",
     "text": [
      "{'loss': 1.3627, 'learning_rate': 5.4995744680851066e-05, 'epoch': 2.09}\n"
     ]
    },
    {
     "name": "stderr",
     "output_type": "stream",
     "text": [
      "  8%|▊         | 99/1175 [14:27<2:35:44,  8.68s/it]"
     ]
    },
    {
     "name": "stdout",
     "output_type": "stream",
     "text": [
      "{'loss': 1.3402, 'learning_rate': 5.4944680851063836e-05, 'epoch': 2.11}\n"
     ]
    },
    {
     "name": "stderr",
     "output_type": "stream",
     "text": [
      "  9%|▊         | 100/1175 [14:36<2:36:02,  8.71s/it]"
     ]
    },
    {
     "name": "stdout",
     "output_type": "stream",
     "text": [
      "{'loss': 1.3726, 'learning_rate': 5.48936170212766e-05, 'epoch': 2.13}\n"
     ]
    },
    {
     "name": "stderr",
     "output_type": "stream",
     "text": [
      "                                                    \n",
      "  9%|▊         | 100/1175 [20:01<2:36:02,  8.71s/it]"
     ]
    },
    {
     "name": "stdout",
     "output_type": "stream",
     "text": [
      "{'eval_loss': 0.8378816246986389, 'eval_mean_iou': 0.09058430985380067, 'eval_mean_accuracy': 0.14792652656106653, 'eval_overall_accuracy': 0.9726955808442215, 'eval_per_category_iou': [0.0, 0.9836769702907759, 0.16602505467272063, 0.0, 0.0, 0.0, 0.0, 0.014001197701254084, 0.0124534454133449, 0.0014393600213128887, 0.0, 0.0, 0.0], 'eval_per_category_accuracy': [0.0, 0.9882655435752846, 0.901836463210269, 0.0, 0.0, 0.0, 0.0, 0.016628609693506193, 0.01487237197006234, 0.0014418568447427823, 0.0, 0.0, 0.0], 'eval_runtime': 324.969, 'eval_samples_per_second': 0.714, 'eval_steps_per_second': 0.074, 'epoch': 2.13}\n"
     ]
    },
    {
     "name": "stderr",
     "output_type": "stream",
     "text": [
      "  9%|▊         | 101/1175 [20:10<31:43:32, 106.34s/it]"
     ]
    },
    {
     "name": "stdout",
     "output_type": "stream",
     "text": [
      "{'loss': 1.3234, 'learning_rate': 5.484255319148937e-05, 'epoch': 2.15}\n"
     ]
    },
    {
     "name": "stderr",
     "output_type": "stream",
     "text": [
      "  9%|▊         | 102/1175 [20:19<22:58:16, 77.07s/it] "
     ]
    },
    {
     "name": "stdout",
     "output_type": "stream",
     "text": [
      "{'loss': 1.4761, 'learning_rate': 5.479148936170213e-05, 'epoch': 2.17}\n"
     ]
    },
    {
     "name": "stderr",
     "output_type": "stream",
     "text": [
      "  9%|▉         | 103/1175 [20:28<16:50:35, 56.56s/it]"
     ]
    },
    {
     "name": "stdout",
     "output_type": "stream",
     "text": [
      "{'loss': 1.2351, 'learning_rate': 5.4740425531914895e-05, 'epoch': 2.19}\n"
     ]
    },
    {
     "name": "stderr",
     "output_type": "stream",
     "text": [
      "  9%|▉         | 104/1175 [20:37<12:33:34, 42.22s/it]"
     ]
    },
    {
     "name": "stdout",
     "output_type": "stream",
     "text": [
      "{'loss': 1.2335, 'learning_rate': 5.4689361702127665e-05, 'epoch': 2.21}\n"
     ]
    },
    {
     "name": "stderr",
     "output_type": "stream",
     "text": [
      "  9%|▉         | 105/1175 [20:45<9:33:53, 32.18s/it] "
     ]
    },
    {
     "name": "stdout",
     "output_type": "stream",
     "text": [
      "{'loss': 1.3236, 'learning_rate': 5.463829787234043e-05, 'epoch': 2.23}\n"
     ]
    },
    {
     "name": "stderr",
     "output_type": "stream",
     "text": [
      "  9%|▉         | 106/1175 [20:54<7:28:19, 25.16s/it]"
     ]
    },
    {
     "name": "stdout",
     "output_type": "stream",
     "text": [
      "{'loss': 1.3658, 'learning_rate': 5.45872340425532e-05, 'epoch': 2.26}\n"
     ]
    },
    {
     "name": "stderr",
     "output_type": "stream",
     "text": [
      "  9%|▉         | 107/1175 [21:03<6:00:13, 20.24s/it]"
     ]
    },
    {
     "name": "stdout",
     "output_type": "stream",
     "text": [
      "{'loss': 1.2333, 'learning_rate': 5.453617021276596e-05, 'epoch': 2.28}\n"
     ]
    },
    {
     "name": "stderr",
     "output_type": "stream",
     "text": [
      "  9%|▉         | 108/1175 [21:12<4:58:49, 16.80s/it]"
     ]
    },
    {
     "name": "stdout",
     "output_type": "stream",
     "text": [
      "{'loss': 1.2306, 'learning_rate': 5.4485106382978725e-05, 'epoch': 2.3}\n"
     ]
    },
    {
     "name": "stderr",
     "output_type": "stream",
     "text": [
      "  9%|▉         | 109/1175 [21:20<4:15:34, 14.38s/it]"
     ]
    },
    {
     "name": "stdout",
     "output_type": "stream",
     "text": [
      "{'loss': 1.1899, 'learning_rate': 5.4434042553191494e-05, 'epoch': 2.32}\n"
     ]
    },
    {
     "name": "stderr",
     "output_type": "stream",
     "text": [
      "  9%|▉         | 110/1175 [21:29<3:45:27, 12.70s/it]"
     ]
    },
    {
     "name": "stdout",
     "output_type": "stream",
     "text": [
      "{'loss': 1.2926, 'learning_rate': 5.438297872340426e-05, 'epoch': 2.34}\n"
     ]
    },
    {
     "name": "stderr",
     "output_type": "stream",
     "text": [
      "  9%|▉         | 111/1175 [21:38<3:24:18, 11.52s/it]"
     ]
    },
    {
     "name": "stdout",
     "output_type": "stream",
     "text": [
      "{'loss': 1.3027, 'learning_rate': 5.433191489361703e-05, 'epoch': 2.36}\n"
     ]
    },
    {
     "name": "stderr",
     "output_type": "stream",
     "text": [
      " 10%|▉         | 112/1175 [21:47<3:09:37, 10.70s/it]"
     ]
    },
    {
     "name": "stdout",
     "output_type": "stream",
     "text": [
      "{'loss': 1.2548, 'learning_rate': 5.428085106382979e-05, 'epoch': 2.38}\n"
     ]
    },
    {
     "name": "stderr",
     "output_type": "stream",
     "text": [
      " 10%|▉         | 113/1175 [21:55<2:58:50, 10.10s/it]"
     ]
    },
    {
     "name": "stdout",
     "output_type": "stream",
     "text": [
      "{'loss': 1.2828, 'learning_rate': 5.4229787234042554e-05, 'epoch': 2.4}\n"
     ]
    },
    {
     "name": "stderr",
     "output_type": "stream",
     "text": [
      " 10%|▉         | 114/1175 [22:04<2:51:51,  9.72s/it]"
     ]
    },
    {
     "name": "stdout",
     "output_type": "stream",
     "text": [
      "{'loss': 1.1618, 'learning_rate': 5.4178723404255324e-05, 'epoch': 2.43}\n"
     ]
    },
    {
     "name": "stderr",
     "output_type": "stream",
     "text": [
      " 10%|▉         | 115/1175 [22:13<2:46:51,  9.45s/it]"
     ]
    },
    {
     "name": "stdout",
     "output_type": "stream",
     "text": [
      "{'loss': 1.4394, 'learning_rate': 5.412765957446809e-05, 'epoch': 2.45}\n"
     ]
    },
    {
     "name": "stderr",
     "output_type": "stream",
     "text": [
      " 10%|▉         | 116/1175 [22:22<2:43:25,  9.26s/it]"
     ]
    },
    {
     "name": "stdout",
     "output_type": "stream",
     "text": [
      "{'loss': 1.1377, 'learning_rate': 5.407659574468086e-05, 'epoch': 2.47}\n"
     ]
    },
    {
     "name": "stderr",
     "output_type": "stream",
     "text": [
      " 10%|▉         | 117/1175 [22:31<2:40:50,  9.12s/it]"
     ]
    },
    {
     "name": "stdout",
     "output_type": "stream",
     "text": [
      "{'loss': 1.1668, 'learning_rate': 5.402553191489362e-05, 'epoch': 2.49}\n"
     ]
    },
    {
     "name": "stderr",
     "output_type": "stream",
     "text": [
      " 10%|█         | 118/1175 [22:39<2:38:50,  9.02s/it]"
     ]
    },
    {
     "name": "stdout",
     "output_type": "stream",
     "text": [
      "{'loss': 1.3343, 'learning_rate': 5.397446808510639e-05, 'epoch': 2.51}\n"
     ]
    },
    {
     "name": "stderr",
     "output_type": "stream",
     "text": [
      " 10%|█         | 119/1175 [22:48<2:37:16,  8.94s/it]"
     ]
    },
    {
     "name": "stdout",
     "output_type": "stream",
     "text": [
      "{'loss': 1.2101, 'learning_rate': 5.392340425531915e-05, 'epoch': 2.53}\n"
     ]
    },
    {
     "name": "stderr",
     "output_type": "stream",
     "text": [
      " 10%|█         | 120/1175 [22:57<2:36:21,  8.89s/it]"
     ]
    },
    {
     "name": "stdout",
     "output_type": "stream",
     "text": [
      "{'loss': 1.2059, 'learning_rate': 5.3872340425531916e-05, 'epoch': 2.55}\n"
     ]
    },
    {
     "name": "stderr",
     "output_type": "stream",
     "text": [
      " 10%|█         | 121/1175 [23:06<2:35:45,  8.87s/it]"
     ]
    },
    {
     "name": "stdout",
     "output_type": "stream",
     "text": [
      "{'loss': 1.341, 'learning_rate': 5.3821276595744686e-05, 'epoch': 2.57}\n"
     ]
    },
    {
     "name": "stderr",
     "output_type": "stream",
     "text": [
      " 10%|█         | 122/1175 [23:15<2:35:05,  8.84s/it]"
     ]
    },
    {
     "name": "stdout",
     "output_type": "stream",
     "text": [
      "{'loss': 1.1523, 'learning_rate': 5.377021276595745e-05, 'epoch': 2.6}\n"
     ]
    },
    {
     "name": "stderr",
     "output_type": "stream",
     "text": [
      " 10%|█         | 123/1175 [23:23<2:34:20,  8.80s/it]"
     ]
    },
    {
     "name": "stdout",
     "output_type": "stream",
     "text": [
      "{'loss': 1.3318, 'learning_rate': 5.371914893617022e-05, 'epoch': 2.62}\n"
     ]
    },
    {
     "name": "stderr",
     "output_type": "stream",
     "text": [
      " 11%|█         | 124/1175 [23:32<2:34:07,  8.80s/it]"
     ]
    },
    {
     "name": "stdout",
     "output_type": "stream",
     "text": [
      "{'loss': 1.1454, 'learning_rate': 5.366808510638298e-05, 'epoch': 2.64}\n"
     ]
    },
    {
     "name": "stderr",
     "output_type": "stream",
     "text": [
      " 11%|█         | 125/1175 [23:41<2:34:07,  8.81s/it]"
     ]
    },
    {
     "name": "stdout",
     "output_type": "stream",
     "text": [
      "{'loss': 1.2637, 'learning_rate': 5.3617021276595745e-05, 'epoch': 2.66}\n"
     ]
    },
    {
     "name": "stderr",
     "output_type": "stream",
     "text": [
      " 11%|█         | 126/1175 [23:50<2:33:33,  8.78s/it]"
     ]
    },
    {
     "name": "stdout",
     "output_type": "stream",
     "text": [
      "{'loss': 1.1805, 'learning_rate': 5.3565957446808515e-05, 'epoch': 2.68}\n"
     ]
    },
    {
     "name": "stderr",
     "output_type": "stream",
     "text": [
      " 11%|█         | 127/1175 [23:58<2:33:28,  8.79s/it]"
     ]
    },
    {
     "name": "stdout",
     "output_type": "stream",
     "text": [
      "{'loss': 1.2202, 'learning_rate': 5.351489361702128e-05, 'epoch': 2.7}\n"
     ]
    },
    {
     "name": "stderr",
     "output_type": "stream",
     "text": [
      " 11%|█         | 128/1175 [24:07<2:33:24,  8.79s/it]"
     ]
    },
    {
     "name": "stdout",
     "output_type": "stream",
     "text": [
      "{'loss': 1.2073, 'learning_rate': 5.346382978723405e-05, 'epoch': 2.72}\n"
     ]
    },
    {
     "name": "stderr",
     "output_type": "stream",
     "text": [
      " 11%|█         | 129/1175 [24:16<2:33:20,  8.80s/it]"
     ]
    },
    {
     "name": "stdout",
     "output_type": "stream",
     "text": [
      "{'loss': 1.1437, 'learning_rate': 5.341276595744681e-05, 'epoch': 2.74}\n"
     ]
    },
    {
     "name": "stderr",
     "output_type": "stream",
     "text": [
      " 11%|█         | 130/1175 [24:25<2:32:52,  8.78s/it]"
     ]
    },
    {
     "name": "stdout",
     "output_type": "stream",
     "text": [
      "{'loss': 1.09, 'learning_rate': 5.3361702127659574e-05, 'epoch': 2.77}\n"
     ]
    },
    {
     "name": "stderr",
     "output_type": "stream",
     "text": [
      " 11%|█         | 131/1175 [24:34<2:33:03,  8.80s/it]"
     ]
    },
    {
     "name": "stdout",
     "output_type": "stream",
     "text": [
      "{'loss': 1.2633, 'learning_rate': 5.3310638297872344e-05, 'epoch': 2.79}\n"
     ]
    },
    {
     "name": "stderr",
     "output_type": "stream",
     "text": [
      " 11%|█         | 132/1175 [24:42<2:32:59,  8.80s/it]"
     ]
    },
    {
     "name": "stdout",
     "output_type": "stream",
     "text": [
      "{'loss': 1.0488, 'learning_rate': 5.325957446808511e-05, 'epoch': 2.81}\n"
     ]
    },
    {
     "name": "stderr",
     "output_type": "stream",
     "text": [
      " 11%|█▏        | 133/1175 [24:51<2:32:51,  8.80s/it]"
     ]
    },
    {
     "name": "stdout",
     "output_type": "stream",
     "text": [
      "{'loss': 1.3408, 'learning_rate': 5.320851063829788e-05, 'epoch': 2.83}\n"
     ]
    },
    {
     "name": "stderr",
     "output_type": "stream",
     "text": [
      " 11%|█▏        | 134/1175 [25:00<2:32:55,  8.81s/it]"
     ]
    },
    {
     "name": "stdout",
     "output_type": "stream",
     "text": [
      "{'loss': 1.1057, 'learning_rate': 5.315744680851064e-05, 'epoch': 2.85}\n"
     ]
    },
    {
     "name": "stderr",
     "output_type": "stream",
     "text": [
      " 11%|█▏        | 135/1175 [25:09<2:32:22,  8.79s/it]"
     ]
    },
    {
     "name": "stdout",
     "output_type": "stream",
     "text": [
      "{'loss': 1.1201, 'learning_rate': 5.3106382978723404e-05, 'epoch': 2.87}\n"
     ]
    },
    {
     "name": "stderr",
     "output_type": "stream",
     "text": [
      " 12%|█▏        | 136/1175 [25:18<2:32:16,  8.79s/it]"
     ]
    },
    {
     "name": "stdout",
     "output_type": "stream",
     "text": [
      "{'loss': 1.0869, 'learning_rate': 5.3055319148936173e-05, 'epoch': 2.89}\n"
     ]
    },
    {
     "name": "stderr",
     "output_type": "stream",
     "text": [
      " 12%|█▏        | 137/1175 [25:26<2:31:55,  8.78s/it]"
     ]
    },
    {
     "name": "stdout",
     "output_type": "stream",
     "text": [
      "{'loss': 1.048, 'learning_rate': 5.300425531914894e-05, 'epoch': 2.91}\n"
     ]
    },
    {
     "name": "stderr",
     "output_type": "stream",
     "text": [
      " 12%|█▏        | 138/1175 [25:35<2:31:37,  8.77s/it]"
     ]
    },
    {
     "name": "stdout",
     "output_type": "stream",
     "text": [
      "{'loss': 1.5516, 'learning_rate': 5.2953191489361707e-05, 'epoch': 2.94}\n"
     ]
    },
    {
     "name": "stderr",
     "output_type": "stream",
     "text": [
      " 12%|█▏        | 139/1175 [25:44<2:31:35,  8.78s/it]"
     ]
    },
    {
     "name": "stdout",
     "output_type": "stream",
     "text": [
      "{'loss': 1.5919, 'learning_rate': 5.290212765957447e-05, 'epoch': 2.96}\n"
     ]
    },
    {
     "name": "stderr",
     "output_type": "stream",
     "text": [
      " 12%|█▏        | 140/1175 [25:52<2:29:26,  8.66s/it]"
     ]
    },
    {
     "name": "stdout",
     "output_type": "stream",
     "text": [
      "{'loss': 1.1779, 'learning_rate': 5.285106382978724e-05, 'epoch': 2.98}\n"
     ]
    },
    {
     "name": "stderr",
     "output_type": "stream",
     "text": [
      " 12%|█▏        | 141/1175 [25:57<2:11:17,  7.62s/it]"
     ]
    },
    {
     "name": "stdout",
     "output_type": "stream",
     "text": [
      "{'loss': 1.069, 'learning_rate': 5.28e-05, 'epoch': 3.0}\n"
     ]
    },
    {
     "name": "stderr",
     "output_type": "stream",
     "text": [
      " 12%|█▏        | 142/1175 [26:08<2:24:22,  8.39s/it]"
     ]
    },
    {
     "name": "stdout",
     "output_type": "stream",
     "text": [
      "{'loss': 1.585, 'learning_rate': 5.2748936170212766e-05, 'epoch': 3.02}\n"
     ]
    },
    {
     "name": "stderr",
     "output_type": "stream",
     "text": [
      " 12%|█▏        | 143/1175 [26:16<2:26:19,  8.51s/it]"
     ]
    },
    {
     "name": "stdout",
     "output_type": "stream",
     "text": [
      "{'loss': 1.0517, 'learning_rate': 5.2697872340425536e-05, 'epoch': 3.04}\n"
     ]
    },
    {
     "name": "stderr",
     "output_type": "stream",
     "text": [
      " 12%|█▏        | 144/1175 [26:25<2:27:36,  8.59s/it]"
     ]
    },
    {
     "name": "stdout",
     "output_type": "stream",
     "text": [
      "{'loss': 1.1862, 'learning_rate': 5.26468085106383e-05, 'epoch': 3.06}\n"
     ]
    },
    {
     "name": "stderr",
     "output_type": "stream",
     "text": [
      " 12%|█▏        | 145/1175 [26:34<2:28:14,  8.64s/it]"
     ]
    },
    {
     "name": "stdout",
     "output_type": "stream",
     "text": [
      "{'loss': 1.0883, 'learning_rate': 5.259574468085107e-05, 'epoch': 3.09}\n"
     ]
    },
    {
     "name": "stderr",
     "output_type": "stream",
     "text": [
      " 12%|█▏        | 146/1175 [26:43<2:28:54,  8.68s/it]"
     ]
    },
    {
     "name": "stdout",
     "output_type": "stream",
     "text": [
      "{'loss': 0.9868, 'learning_rate': 5.254468085106383e-05, 'epoch': 3.11}\n"
     ]
    },
    {
     "name": "stderr",
     "output_type": "stream",
     "text": [
      " 13%|█▎        | 147/1175 [26:51<2:29:04,  8.70s/it]"
     ]
    },
    {
     "name": "stdout",
     "output_type": "stream",
     "text": [
      "{'loss': 1.1638, 'learning_rate': 5.2493617021276595e-05, 'epoch': 3.13}\n"
     ]
    },
    {
     "name": "stderr",
     "output_type": "stream",
     "text": [
      " 13%|█▎        | 148/1175 [27:00<2:29:15,  8.72s/it]"
     ]
    },
    {
     "name": "stdout",
     "output_type": "stream",
     "text": [
      "{'loss': 1.106, 'learning_rate': 5.2442553191489365e-05, 'epoch': 3.15}\n"
     ]
    },
    {
     "name": "stderr",
     "output_type": "stream",
     "text": [
      " 13%|█▎        | 149/1175 [27:09<2:29:28,  8.74s/it]"
     ]
    },
    {
     "name": "stdout",
     "output_type": "stream",
     "text": [
      "{'loss': 1.3244, 'learning_rate': 5.239148936170213e-05, 'epoch': 3.17}\n"
     ]
    },
    {
     "name": "stderr",
     "output_type": "stream",
     "text": [
      " 13%|█▎        | 150/1175 [27:18<2:29:10,  8.73s/it]"
     ]
    },
    {
     "name": "stdout",
     "output_type": "stream",
     "text": [
      "{'loss': 1.3302, 'learning_rate': 5.23404255319149e-05, 'epoch': 3.19}\n"
     ]
    },
    {
     "name": "stderr",
     "output_type": "stream",
     "text": [
      " 13%|█▎        | 151/1175 [27:27<2:29:31,  8.76s/it]"
     ]
    },
    {
     "name": "stdout",
     "output_type": "stream",
     "text": [
      "{'loss': 1.131, 'learning_rate': 5.228936170212766e-05, 'epoch': 3.21}\n"
     ]
    },
    {
     "name": "stderr",
     "output_type": "stream",
     "text": [
      " 13%|█▎        | 152/1175 [27:35<2:29:22,  8.76s/it]"
     ]
    },
    {
     "name": "stdout",
     "output_type": "stream",
     "text": [
      "{'loss': 1.1642, 'learning_rate': 5.2238297872340424e-05, 'epoch': 3.23}\n"
     ]
    },
    {
     "name": "stderr",
     "output_type": "stream",
     "text": [
      " 13%|█▎        | 153/1175 [27:44<2:29:13,  8.76s/it]"
     ]
    },
    {
     "name": "stdout",
     "output_type": "stream",
     "text": [
      "{'loss': 1.2992, 'learning_rate': 5.2187234042553194e-05, 'epoch': 3.26}\n"
     ]
    },
    {
     "name": "stderr",
     "output_type": "stream",
     "text": [
      " 13%|█▎        | 154/1175 [27:53<2:29:08,  8.76s/it]"
     ]
    },
    {
     "name": "stdout",
     "output_type": "stream",
     "text": [
      "{'loss': 1.0066, 'learning_rate': 5.213617021276596e-05, 'epoch': 3.28}\n"
     ]
    },
    {
     "name": "stderr",
     "output_type": "stream",
     "text": [
      " 13%|█▎        | 155/1175 [28:02<2:28:57,  8.76s/it]"
     ]
    },
    {
     "name": "stdout",
     "output_type": "stream",
     "text": [
      "{'loss': 1.075, 'learning_rate': 5.208510638297873e-05, 'epoch': 3.3}\n"
     ]
    },
    {
     "name": "stderr",
     "output_type": "stream",
     "text": [
      " 13%|█▎        | 156/1175 [28:10<2:28:52,  8.77s/it]"
     ]
    },
    {
     "name": "stdout",
     "output_type": "stream",
     "text": [
      "{'loss': 1.0071, 'learning_rate': 5.203404255319149e-05, 'epoch': 3.32}\n"
     ]
    },
    {
     "name": "stderr",
     "output_type": "stream",
     "text": [
      " 13%|█▎        | 157/1175 [28:19<2:28:57,  8.78s/it]"
     ]
    },
    {
     "name": "stdout",
     "output_type": "stream",
     "text": [
      "{'loss': 0.9779, 'learning_rate': 5.198297872340426e-05, 'epoch': 3.34}\n"
     ]
    },
    {
     "name": "stderr",
     "output_type": "stream",
     "text": [
      " 13%|█▎        | 158/1175 [28:28<2:28:45,  8.78s/it]"
     ]
    },
    {
     "name": "stdout",
     "output_type": "stream",
     "text": [
      "{'loss': 1.0365, 'learning_rate': 5.193191489361702e-05, 'epoch': 3.36}\n"
     ]
    },
    {
     "name": "stderr",
     "output_type": "stream",
     "text": [
      " 14%|█▎        | 159/1175 [28:37<2:28:23,  8.76s/it]"
     ]
    },
    {
     "name": "stdout",
     "output_type": "stream",
     "text": [
      "{'loss': 0.9578, 'learning_rate': 5.1880851063829786e-05, 'epoch': 3.38}\n"
     ]
    },
    {
     "name": "stderr",
     "output_type": "stream",
     "text": [
      " 14%|█▎        | 160/1175 [28:46<2:28:22,  8.77s/it]"
     ]
    },
    {
     "name": "stdout",
     "output_type": "stream",
     "text": [
      "{'loss': 0.9679, 'learning_rate': 5.1829787234042556e-05, 'epoch': 3.4}\n"
     ]
    },
    {
     "name": "stderr",
     "output_type": "stream",
     "text": [
      " 14%|█▎        | 161/1175 [28:54<2:28:26,  8.78s/it]"
     ]
    },
    {
     "name": "stdout",
     "output_type": "stream",
     "text": [
      "{'loss': 1.0513, 'learning_rate': 5.177872340425532e-05, 'epoch': 3.43}\n"
     ]
    },
    {
     "name": "stderr",
     "output_type": "stream",
     "text": [
      " 14%|█▍        | 162/1175 [29:03<2:28:07,  8.77s/it]"
     ]
    },
    {
     "name": "stdout",
     "output_type": "stream",
     "text": [
      "{'loss': 0.9567, 'learning_rate': 5.172765957446809e-05, 'epoch': 3.45}\n"
     ]
    },
    {
     "name": "stderr",
     "output_type": "stream",
     "text": [
      " 14%|█▍        | 163/1175 [29:12<2:27:48,  8.76s/it]"
     ]
    },
    {
     "name": "stdout",
     "output_type": "stream",
     "text": [
      "{'loss': 1.114, 'learning_rate': 5.167659574468085e-05, 'epoch': 3.47}\n"
     ]
    },
    {
     "name": "stderr",
     "output_type": "stream",
     "text": [
      " 14%|█▍        | 164/1175 [29:21<2:27:33,  8.76s/it]"
     ]
    },
    {
     "name": "stdout",
     "output_type": "stream",
     "text": [
      "{'loss': 0.9384, 'learning_rate': 5.1625531914893616e-05, 'epoch': 3.49}\n"
     ]
    },
    {
     "name": "stderr",
     "output_type": "stream",
     "text": [
      " 14%|█▍        | 165/1175 [29:29<2:27:27,  8.76s/it]"
     ]
    },
    {
     "name": "stdout",
     "output_type": "stream",
     "text": [
      "{'loss': 1.0958, 'learning_rate': 5.1574468085106386e-05, 'epoch': 3.51}\n"
     ]
    },
    {
     "name": "stderr",
     "output_type": "stream",
     "text": [
      " 14%|█▍        | 166/1175 [29:38<2:27:16,  8.76s/it]"
     ]
    },
    {
     "name": "stdout",
     "output_type": "stream",
     "text": [
      "{'loss': 0.9965, 'learning_rate': 5.152340425531915e-05, 'epoch': 3.53}\n"
     ]
    },
    {
     "name": "stderr",
     "output_type": "stream",
     "text": [
      " 14%|█▍        | 167/1175 [29:47<2:27:09,  8.76s/it]"
     ]
    },
    {
     "name": "stdout",
     "output_type": "stream",
     "text": [
      "{'loss': 1.0169, 'learning_rate': 5.147234042553192e-05, 'epoch': 3.55}\n"
     ]
    },
    {
     "name": "stderr",
     "output_type": "stream",
     "text": [
      " 14%|█▍        | 168/1175 [29:56<2:27:08,  8.77s/it]"
     ]
    },
    {
     "name": "stdout",
     "output_type": "stream",
     "text": [
      "{'loss': 1.3145, 'learning_rate': 5.142127659574468e-05, 'epoch': 3.57}\n"
     ]
    },
    {
     "name": "stderr",
     "output_type": "stream",
     "text": [
      " 14%|█▍        | 169/1175 [30:04<2:27:13,  8.78s/it]"
     ]
    },
    {
     "name": "stdout",
     "output_type": "stream",
     "text": [
      "{'loss': 0.9887, 'learning_rate': 5.1370212765957445e-05, 'epoch': 3.6}\n"
     ]
    },
    {
     "name": "stderr",
     "output_type": "stream",
     "text": [
      " 14%|█▍        | 170/1175 [30:13<2:27:01,  8.78s/it]"
     ]
    },
    {
     "name": "stdout",
     "output_type": "stream",
     "text": [
      "{'loss': 0.9153, 'learning_rate': 5.1319148936170215e-05, 'epoch': 3.62}\n"
     ]
    },
    {
     "name": "stderr",
     "output_type": "stream",
     "text": [
      " 15%|█▍        | 171/1175 [30:22<2:26:51,  8.78s/it]"
     ]
    },
    {
     "name": "stdout",
     "output_type": "stream",
     "text": [
      "{'loss': 0.8989, 'learning_rate': 5.126808510638298e-05, 'epoch': 3.64}\n"
     ]
    },
    {
     "name": "stderr",
     "output_type": "stream",
     "text": [
      " 15%|█▍        | 172/1175 [30:31<2:26:35,  8.77s/it]"
     ]
    },
    {
     "name": "stdout",
     "output_type": "stream",
     "text": [
      "{'loss': 1.1184, 'learning_rate': 5.121702127659575e-05, 'epoch': 3.66}\n"
     ]
    },
    {
     "name": "stderr",
     "output_type": "stream",
     "text": [
      " 15%|█▍        | 173/1175 [30:40<2:26:46,  8.79s/it]"
     ]
    },
    {
     "name": "stdout",
     "output_type": "stream",
     "text": [
      "{'loss': 1.0107, 'learning_rate': 5.116595744680851e-05, 'epoch': 3.68}\n"
     ]
    },
    {
     "name": "stderr",
     "output_type": "stream",
     "text": [
      " 15%|█▍        | 174/1175 [30:48<2:27:00,  8.81s/it]"
     ]
    },
    {
     "name": "stdout",
     "output_type": "stream",
     "text": [
      "{'loss': 0.8854, 'learning_rate': 5.111489361702128e-05, 'epoch': 3.7}\n"
     ]
    },
    {
     "name": "stderr",
     "output_type": "stream",
     "text": [
      " 15%|█▍        | 175/1175 [30:57<2:26:58,  8.82s/it]"
     ]
    },
    {
     "name": "stdout",
     "output_type": "stream",
     "text": [
      "{'loss': 0.9004, 'learning_rate': 5.1063829787234044e-05, 'epoch': 3.72}\n"
     ]
    },
    {
     "name": "stderr",
     "output_type": "stream",
     "text": [
      " 15%|█▍        | 176/1175 [31:06<2:26:31,  8.80s/it]"
     ]
    },
    {
     "name": "stdout",
     "output_type": "stream",
     "text": [
      "{'loss': 0.9322, 'learning_rate': 5.101276595744681e-05, 'epoch': 3.74}\n"
     ]
    },
    {
     "name": "stderr",
     "output_type": "stream",
     "text": [
      " 15%|█▌        | 177/1175 [31:15<2:26:12,  8.79s/it]"
     ]
    },
    {
     "name": "stdout",
     "output_type": "stream",
     "text": [
      "{'loss': 1.1599, 'learning_rate': 5.096170212765958e-05, 'epoch': 3.77}\n"
     ]
    },
    {
     "name": "stderr",
     "output_type": "stream",
     "text": [
      " 15%|█▌        | 178/1175 [31:24<2:26:06,  8.79s/it]"
     ]
    },
    {
     "name": "stdout",
     "output_type": "stream",
     "text": [
      "{'loss': 0.9036, 'learning_rate': 5.091063829787234e-05, 'epoch': 3.79}\n"
     ]
    },
    {
     "name": "stderr",
     "output_type": "stream",
     "text": [
      " 15%|█▌        | 179/1175 [31:32<2:25:54,  8.79s/it]"
     ]
    },
    {
     "name": "stdout",
     "output_type": "stream",
     "text": [
      "{'loss': 1.0989, 'learning_rate': 5.085957446808511e-05, 'epoch': 3.81}\n"
     ]
    },
    {
     "name": "stderr",
     "output_type": "stream",
     "text": [
      " 15%|█▌        | 180/1175 [31:41<2:25:30,  8.77s/it]"
     ]
    },
    {
     "name": "stdout",
     "output_type": "stream",
     "text": [
      "{'loss': 0.9321, 'learning_rate': 5.080851063829787e-05, 'epoch': 3.83}\n"
     ]
    },
    {
     "name": "stderr",
     "output_type": "stream",
     "text": [
      " 15%|█▌        | 181/1175 [31:50<2:25:32,  8.79s/it]"
     ]
    },
    {
     "name": "stdout",
     "output_type": "stream",
     "text": [
      "{'loss': 1.4291, 'learning_rate': 5.0757446808510636e-05, 'epoch': 3.85}\n"
     ]
    },
    {
     "name": "stderr",
     "output_type": "stream",
     "text": [
      " 15%|█▌        | 182/1175 [31:59<2:25:16,  8.78s/it]"
     ]
    },
    {
     "name": "stdout",
     "output_type": "stream",
     "text": [
      "{'loss': 0.8737, 'learning_rate': 5.0706382978723406e-05, 'epoch': 3.87}\n"
     ]
    },
    {
     "name": "stderr",
     "output_type": "stream",
     "text": [
      " 16%|█▌        | 183/1175 [32:07<2:25:00,  8.77s/it]"
     ]
    },
    {
     "name": "stdout",
     "output_type": "stream",
     "text": [
      "{'loss': 0.9194, 'learning_rate': 5.065531914893617e-05, 'epoch': 3.89}\n"
     ]
    },
    {
     "name": "stderr",
     "output_type": "stream",
     "text": [
      " 16%|█▌        | 184/1175 [32:16<2:25:15,  8.79s/it]"
     ]
    },
    {
     "name": "stdout",
     "output_type": "stream",
     "text": [
      "{'loss': 1.4775, 'learning_rate': 5.060425531914894e-05, 'epoch': 3.91}\n"
     ]
    },
    {
     "name": "stderr",
     "output_type": "stream",
     "text": [
      " 16%|█▌        | 185/1175 [32:25<2:25:05,  8.79s/it]"
     ]
    },
    {
     "name": "stdout",
     "output_type": "stream",
     "text": [
      "{'loss': 0.7895, 'learning_rate': 5.05531914893617e-05, 'epoch': 3.94}\n"
     ]
    },
    {
     "name": "stderr",
     "output_type": "stream",
     "text": [
      " 16%|█▌        | 186/1175 [32:34<2:24:27,  8.76s/it]"
     ]
    },
    {
     "name": "stdout",
     "output_type": "stream",
     "text": [
      "{'loss': 0.9639, 'learning_rate': 5.0502127659574466e-05, 'epoch': 3.96}\n"
     ]
    },
    {
     "name": "stderr",
     "output_type": "stream",
     "text": [
      " 16%|█▌        | 187/1175 [32:42<2:22:21,  8.64s/it]"
     ]
    },
    {
     "name": "stdout",
     "output_type": "stream",
     "text": [
      "{'loss': 1.1864, 'learning_rate': 5.0451063829787235e-05, 'epoch': 3.98}\n"
     ]
    },
    {
     "name": "stderr",
     "output_type": "stream",
     "text": [
      " 16%|█▌        | 188/1175 [32:47<2:05:02,  7.60s/it]"
     ]
    },
    {
     "name": "stdout",
     "output_type": "stream",
     "text": [
      "{'loss': 1.0654, 'learning_rate': 5.04e-05, 'epoch': 4.0}\n"
     ]
    },
    {
     "name": "stderr",
     "output_type": "stream",
     "text": [
      " 16%|█▌        | 189/1175 [32:58<2:17:49,  8.39s/it]"
     ]
    },
    {
     "name": "stdout",
     "output_type": "stream",
     "text": [
      "{'loss': 1.4519, 'learning_rate': 5.034893617021277e-05, 'epoch': 4.02}\n"
     ]
    },
    {
     "name": "stderr",
     "output_type": "stream",
     "text": [
      " 16%|█▌        | 190/1175 [33:06<2:19:42,  8.51s/it]"
     ]
    },
    {
     "name": "stdout",
     "output_type": "stream",
     "text": [
      "{'loss': 0.8944, 'learning_rate': 5.029787234042553e-05, 'epoch': 4.04}\n"
     ]
    },
    {
     "name": "stderr",
     "output_type": "stream",
     "text": [
      " 16%|█▋        | 191/1175 [33:15<2:21:14,  8.61s/it]"
     ]
    },
    {
     "name": "stdout",
     "output_type": "stream",
     "text": [
      "{'loss': 0.9609, 'learning_rate': 5.02468085106383e-05, 'epoch': 4.06}\n"
     ]
    },
    {
     "name": "stderr",
     "output_type": "stream",
     "text": [
      " 16%|█▋        | 192/1175 [33:24<2:21:49,  8.66s/it]"
     ]
    },
    {
     "name": "stdout",
     "output_type": "stream",
     "text": [
      "{'loss': 0.8279, 'learning_rate': 5.0195744680851065e-05, 'epoch': 4.09}\n"
     ]
    },
    {
     "name": "stderr",
     "output_type": "stream",
     "text": [
      " 16%|█▋        | 193/1175 [33:33<2:21:45,  8.66s/it]"
     ]
    },
    {
     "name": "stdout",
     "output_type": "stream",
     "text": [
      "{'loss': 0.9163, 'learning_rate': 5.014468085106383e-05, 'epoch': 4.11}\n"
     ]
    },
    {
     "name": "stderr",
     "output_type": "stream",
     "text": [
      " 17%|█▋        | 194/1175 [33:41<2:22:21,  8.71s/it]"
     ]
    },
    {
     "name": "stdout",
     "output_type": "stream",
     "text": [
      "{'loss': 0.8794, 'learning_rate': 5.00936170212766e-05, 'epoch': 4.13}\n"
     ]
    },
    {
     "name": "stderr",
     "output_type": "stream",
     "text": [
      " 17%|█▋        | 195/1175 [33:50<2:22:17,  8.71s/it]"
     ]
    },
    {
     "name": "stdout",
     "output_type": "stream",
     "text": [
      "{'loss': 0.8048, 'learning_rate': 5.004255319148936e-05, 'epoch': 4.15}\n"
     ]
    },
    {
     "name": "stderr",
     "output_type": "stream",
     "text": [
      " 17%|█▋        | 196/1175 [33:59<2:22:18,  8.72s/it]"
     ]
    },
    {
     "name": "stdout",
     "output_type": "stream",
     "text": [
      "{'loss': 0.7668, 'learning_rate': 4.999148936170213e-05, 'epoch': 4.17}\n"
     ]
    },
    {
     "name": "stderr",
     "output_type": "stream",
     "text": [
      " 17%|█▋        | 197/1175 [34:08<2:22:38,  8.75s/it]"
     ]
    },
    {
     "name": "stdout",
     "output_type": "stream",
     "text": [
      "{'loss': 0.9474, 'learning_rate': 4.9940425531914894e-05, 'epoch': 4.19}\n"
     ]
    },
    {
     "name": "stderr",
     "output_type": "stream",
     "text": [
      " 17%|█▋        | 198/1175 [34:17<2:22:44,  8.77s/it]"
     ]
    },
    {
     "name": "stdout",
     "output_type": "stream",
     "text": [
      "{'loss': 0.8229, 'learning_rate': 4.988936170212766e-05, 'epoch': 4.21}\n"
     ]
    },
    {
     "name": "stderr",
     "output_type": "stream",
     "text": [
      " 17%|█▋        | 199/1175 [34:25<2:22:39,  8.77s/it]"
     ]
    },
    {
     "name": "stdout",
     "output_type": "stream",
     "text": [
      "{'loss': 0.8751, 'learning_rate': 4.983829787234043e-05, 'epoch': 4.23}\n"
     ]
    },
    {
     "name": "stderr",
     "output_type": "stream",
     "text": [
      " 17%|█▋        | 200/1175 [34:34<2:22:33,  8.77s/it]"
     ]
    },
    {
     "name": "stdout",
     "output_type": "stream",
     "text": [
      "{'loss': 0.7639, 'learning_rate': 4.978723404255319e-05, 'epoch': 4.26}\n"
     ]
    },
    {
     "name": "stderr",
     "output_type": "stream",
     "text": [
      "                                                    \n",
      " 17%|█▋        | 200/1175 [40:15<2:22:33,  8.77s/it]"
     ]
    },
    {
     "name": "stdout",
     "output_type": "stream",
     "text": [
      "{'eval_loss': 0.6652560830116272, 'eval_mean_iou': 0.13792005485710013, 'eval_mean_accuracy': 0.18615693893169227, 'eval_overall_accuracy': 0.9811107372415477, 'eval_per_category_iou': [0.0, 0.9865371454792851, 0.2648023509792944, 0.0, 0.0, 0.0, 0.0, 0.007584021609267051, 0.06740558907669053, 0.4666316059977649, 0.0, 0.0, 0.0], 'eval_per_category_accuracy': [0.0, 0.9946645786316239, 0.76155002332291, 0.0, 0.0, 0.0, 0.0, 0.007894222410774074, 0.0771055498990765, 0.5788258318476154, 0.0, 0.0, 0.0], 'eval_runtime': 341.3134, 'eval_samples_per_second': 0.68, 'eval_steps_per_second': 0.07, 'epoch': 4.26}\n"
     ]
    },
    {
     "name": "stderr",
     "output_type": "stream",
     "text": [
      " 17%|█▋        | 201/1175 [40:25<30:07:00, 111.31s/it]"
     ]
    },
    {
     "name": "stdout",
     "output_type": "stream",
     "text": [
      "{'loss': 0.7852, 'learning_rate': 4.973617021276596e-05, 'epoch': 4.28}\n"
     ]
    },
    {
     "name": "stderr",
     "output_type": "stream",
     "text": [
      " 17%|█▋        | 202/1175 [40:33<21:46:06, 80.54s/it] "
     ]
    },
    {
     "name": "stdout",
     "output_type": "stream",
     "text": [
      "{'loss': 0.8419, 'learning_rate': 4.968510638297872e-05, 'epoch': 4.3}\n"
     ]
    },
    {
     "name": "stderr",
     "output_type": "stream",
     "text": [
      " 17%|█▋        | 203/1175 [40:42<15:55:56, 59.01s/it]"
     ]
    },
    {
     "name": "stdout",
     "output_type": "stream",
     "text": [
      "{'loss': 1.2457, 'learning_rate': 4.9634042553191486e-05, 'epoch': 4.32}\n"
     ]
    },
    {
     "name": "stderr",
     "output_type": "stream",
     "text": [
      " 17%|█▋        | 204/1175 [40:51<11:51:28, 43.96s/it]"
     ]
    },
    {
     "name": "stdout",
     "output_type": "stream",
     "text": [
      "{'loss': 0.7571, 'learning_rate': 4.9582978723404256e-05, 'epoch': 4.34}\n"
     ]
    },
    {
     "name": "stderr",
     "output_type": "stream",
     "text": [
      " 17%|█▋        | 205/1175 [41:00<9:00:10, 33.41s/it] "
     ]
    },
    {
     "name": "stdout",
     "output_type": "stream",
     "text": [
      "{'loss': 0.7379, 'learning_rate': 4.953191489361702e-05, 'epoch': 4.36}\n"
     ]
    },
    {
     "name": "stderr",
     "output_type": "stream",
     "text": [
      " 18%|█▊        | 206/1175 [41:09<7:00:22, 26.03s/it]"
     ]
    },
    {
     "name": "stdout",
     "output_type": "stream",
     "text": [
      "{'loss': 1.1221, 'learning_rate': 4.948085106382979e-05, 'epoch': 4.38}\n"
     ]
    },
    {
     "name": "stderr",
     "output_type": "stream",
     "text": [
      " 18%|█▊        | 207/1175 [41:17<5:36:26, 20.85s/it]"
     ]
    },
    {
     "name": "stdout",
     "output_type": "stream",
     "text": [
      "{'loss': 0.794, 'learning_rate': 4.942978723404255e-05, 'epoch': 4.4}\n"
     ]
    },
    {
     "name": "stderr",
     "output_type": "stream",
     "text": [
      " 18%|█▊        | 208/1175 [41:26<4:37:29, 17.22s/it]"
     ]
    },
    {
     "name": "stdout",
     "output_type": "stream",
     "text": [
      "{'loss': 0.8232, 'learning_rate': 4.937872340425532e-05, 'epoch': 4.43}\n"
     ]
    },
    {
     "name": "stderr",
     "output_type": "stream",
     "text": [
      " 18%|█▊        | 209/1175 [41:35<3:56:33, 14.69s/it]"
     ]
    },
    {
     "name": "stdout",
     "output_type": "stream",
     "text": [
      "{'loss': 0.82, 'learning_rate': 4.9327659574468085e-05, 'epoch': 4.45}\n"
     ]
    },
    {
     "name": "stderr",
     "output_type": "stream",
     "text": [
      " 18%|█▊        | 210/1175 [41:44<3:27:46, 12.92s/it]"
     ]
    },
    {
     "name": "stdout",
     "output_type": "stream",
     "text": [
      "{'loss': 0.7454, 'learning_rate': 4.927659574468085e-05, 'epoch': 4.47}\n"
     ]
    },
    {
     "name": "stderr",
     "output_type": "stream",
     "text": [
      " 18%|█▊        | 211/1175 [41:52<3:07:24, 11.66s/it]"
     ]
    },
    {
     "name": "stdout",
     "output_type": "stream",
     "text": [
      "{'loss': 0.8151, 'learning_rate': 4.922553191489362e-05, 'epoch': 4.49}\n"
     ]
    },
    {
     "name": "stderr",
     "output_type": "stream",
     "text": [
      " 18%|█▊        | 212/1175 [42:01<2:53:32, 10.81s/it]"
     ]
    },
    {
     "name": "stdout",
     "output_type": "stream",
     "text": [
      "{'loss': 0.8535, 'learning_rate': 4.917446808510638e-05, 'epoch': 4.51}\n"
     ]
    },
    {
     "name": "stderr",
     "output_type": "stream",
     "text": [
      " 18%|█▊        | 213/1175 [42:10<2:43:47, 10.22s/it]"
     ]
    },
    {
     "name": "stdout",
     "output_type": "stream",
     "text": [
      "{'loss': 0.7502, 'learning_rate': 4.912340425531915e-05, 'epoch': 4.53}\n"
     ]
    },
    {
     "name": "stderr",
     "output_type": "stream",
     "text": [
      " 18%|█▊        | 214/1175 [42:19<2:36:42,  9.78s/it]"
     ]
    },
    {
     "name": "stdout",
     "output_type": "stream",
     "text": [
      "{'loss': 0.6706, 'learning_rate': 4.9072340425531914e-05, 'epoch': 4.55}\n"
     ]
    },
    {
     "name": "stderr",
     "output_type": "stream",
     "text": [
      " 18%|█▊        | 215/1175 [42:28<2:31:39,  9.48s/it]"
     ]
    },
    {
     "name": "stdout",
     "output_type": "stream",
     "text": [
      "{'loss': 0.9049, 'learning_rate': 4.902127659574468e-05, 'epoch': 4.57}\n"
     ]
    },
    {
     "name": "stderr",
     "output_type": "stream",
     "text": [
      " 18%|█▊        | 216/1175 [42:36<2:28:09,  9.27s/it]"
     ]
    },
    {
     "name": "stdout",
     "output_type": "stream",
     "text": [
      "{'loss': 0.6915, 'learning_rate': 4.897021276595745e-05, 'epoch': 4.6}\n"
     ]
    },
    {
     "name": "stderr",
     "output_type": "stream",
     "text": [
      " 18%|█▊        | 217/1175 [42:45<2:25:34,  9.12s/it]"
     ]
    },
    {
     "name": "stdout",
     "output_type": "stream",
     "text": [
      "{'loss': 0.7542, 'learning_rate': 4.891914893617021e-05, 'epoch': 4.62}\n"
     ]
    },
    {
     "name": "stderr",
     "output_type": "stream",
     "text": [
      " 19%|█▊        | 218/1175 [42:54<2:23:54,  9.02s/it]"
     ]
    },
    {
     "name": "stdout",
     "output_type": "stream",
     "text": [
      "{'loss': 1.3295, 'learning_rate': 4.886808510638298e-05, 'epoch': 4.64}\n"
     ]
    },
    {
     "name": "stderr",
     "output_type": "stream",
     "text": [
      " 19%|█▊        | 219/1175 [43:03<2:22:49,  8.96s/it]"
     ]
    },
    {
     "name": "stdout",
     "output_type": "stream",
     "text": [
      "{'loss': 1.1681, 'learning_rate': 4.8817021276595744e-05, 'epoch': 4.66}\n"
     ]
    },
    {
     "name": "stderr",
     "output_type": "stream",
     "text": [
      " 19%|█▊        | 220/1175 [43:12<2:21:39,  8.90s/it]"
     ]
    },
    {
     "name": "stdout",
     "output_type": "stream",
     "text": [
      "{'loss': 0.6861, 'learning_rate': 4.876595744680851e-05, 'epoch': 4.68}\n"
     ]
    },
    {
     "name": "stderr",
     "output_type": "stream",
     "text": [
      " 19%|█▉        | 221/1175 [43:20<2:20:56,  8.86s/it]"
     ]
    },
    {
     "name": "stdout",
     "output_type": "stream",
     "text": [
      "{'loss': 1.0702, 'learning_rate': 4.871489361702128e-05, 'epoch': 4.7}\n"
     ]
    },
    {
     "name": "stderr",
     "output_type": "stream",
     "text": [
      " 19%|█▉        | 222/1175 [43:29<2:20:33,  8.85s/it]"
     ]
    },
    {
     "name": "stdout",
     "output_type": "stream",
     "text": [
      "{'loss': 0.846, 'learning_rate': 4.866382978723404e-05, 'epoch': 4.72}\n"
     ]
    },
    {
     "name": "stderr",
     "output_type": "stream",
     "text": [
      " 19%|█▉        | 223/1175 [43:38<2:19:52,  8.82s/it]"
     ]
    },
    {
     "name": "stdout",
     "output_type": "stream",
     "text": [
      "{'loss': 0.6879, 'learning_rate': 4.861276595744681e-05, 'epoch': 4.74}\n"
     ]
    },
    {
     "name": "stderr",
     "output_type": "stream",
     "text": [
      " 19%|█▉        | 224/1175 [43:47<2:19:53,  8.83s/it]"
     ]
    },
    {
     "name": "stdout",
     "output_type": "stream",
     "text": [
      "{'loss': 0.6971, 'learning_rate': 4.856170212765957e-05, 'epoch': 4.77}\n"
     ]
    },
    {
     "name": "stderr",
     "output_type": "stream",
     "text": [
      " 19%|█▉        | 225/1175 [43:56<2:19:47,  8.83s/it]"
     ]
    },
    {
     "name": "stdout",
     "output_type": "stream",
     "text": [
      "{'loss': 0.685, 'learning_rate': 4.8510638297872336e-05, 'epoch': 4.79}\n"
     ]
    },
    {
     "name": "stderr",
     "output_type": "stream",
     "text": [
      " 19%|█▉        | 226/1175 [44:04<2:19:30,  8.82s/it]"
     ]
    },
    {
     "name": "stdout",
     "output_type": "stream",
     "text": [
      "{'loss': 0.8581, 'learning_rate': 4.8459574468085106e-05, 'epoch': 4.81}\n"
     ]
    },
    {
     "name": "stderr",
     "output_type": "stream",
     "text": [
      " 19%|█▉        | 227/1175 [44:13<2:19:12,  8.81s/it]"
     ]
    },
    {
     "name": "stdout",
     "output_type": "stream",
     "text": [
      "{'loss': 0.7714, 'learning_rate': 4.840851063829787e-05, 'epoch': 4.83}\n"
     ]
    },
    {
     "name": "stderr",
     "output_type": "stream",
     "text": [
      " 19%|█▉        | 228/1175 [44:22<2:19:00,  8.81s/it]"
     ]
    },
    {
     "name": "stdout",
     "output_type": "stream",
     "text": [
      "{'loss': 0.8484, 'learning_rate': 4.835744680851064e-05, 'epoch': 4.85}\n"
     ]
    },
    {
     "name": "stderr",
     "output_type": "stream",
     "text": [
      " 19%|█▉        | 229/1175 [44:31<2:18:56,  8.81s/it]"
     ]
    },
    {
     "name": "stdout",
     "output_type": "stream",
     "text": [
      "{'loss': 0.6925, 'learning_rate': 4.83063829787234e-05, 'epoch': 4.87}\n"
     ]
    },
    {
     "name": "stderr",
     "output_type": "stream",
     "text": [
      " 20%|█▉        | 230/1175 [44:40<2:18:54,  8.82s/it]"
     ]
    },
    {
     "name": "stdout",
     "output_type": "stream",
     "text": [
      "{'loss': 0.6202, 'learning_rate': 4.825531914893617e-05, 'epoch': 4.89}\n"
     ]
    },
    {
     "name": "stderr",
     "output_type": "stream",
     "text": [
      " 20%|█▉        | 231/1175 [44:48<2:18:35,  8.81s/it]"
     ]
    },
    {
     "name": "stdout",
     "output_type": "stream",
     "text": [
      "{'loss': 1.0002, 'learning_rate': 4.8204255319148935e-05, 'epoch': 4.91}\n"
     ]
    },
    {
     "name": "stderr",
     "output_type": "stream",
     "text": [
      " 20%|█▉        | 232/1175 [44:57<2:18:08,  8.79s/it]"
     ]
    },
    {
     "name": "stdout",
     "output_type": "stream",
     "text": [
      "{'loss': 0.8068, 'learning_rate': 4.81531914893617e-05, 'epoch': 4.94}\n"
     ]
    },
    {
     "name": "stderr",
     "output_type": "stream",
     "text": [
      " 20%|█▉        | 233/1175 [45:06<2:18:05,  8.80s/it]"
     ]
    },
    {
     "name": "stdout",
     "output_type": "stream",
     "text": [
      "{'loss': 0.6447, 'learning_rate': 4.810212765957447e-05, 'epoch': 4.96}\n"
     ]
    },
    {
     "name": "stderr",
     "output_type": "stream",
     "text": [
      " 20%|█▉        | 234/1175 [45:14<2:16:27,  8.70s/it]"
     ]
    },
    {
     "name": "stdout",
     "output_type": "stream",
     "text": [
      "{'loss': 1.0063, 'learning_rate': 4.805106382978723e-05, 'epoch': 4.98}\n"
     ]
    },
    {
     "name": "stderr",
     "output_type": "stream",
     "text": [
      " 20%|██        | 235/1175 [45:20<1:59:35,  7.63s/it]"
     ]
    },
    {
     "name": "stdout",
     "output_type": "stream",
     "text": [
      "{'loss': 0.7681, 'learning_rate': 4.8e-05, 'epoch': 5.0}\n"
     ]
    },
    {
     "name": "stderr",
     "output_type": "stream",
     "text": [
      " 20%|██        | 236/1175 [45:30<2:11:02,  8.37s/it]"
     ]
    },
    {
     "name": "stdout",
     "output_type": "stream",
     "text": [
      "{'loss': 0.6362, 'learning_rate': 4.7948936170212764e-05, 'epoch': 5.02}\n"
     ]
    },
    {
     "name": "stderr",
     "output_type": "stream",
     "text": [
      " 20%|██        | 237/1175 [45:38<2:12:43,  8.49s/it]"
     ]
    },
    {
     "name": "stdout",
     "output_type": "stream",
     "text": [
      "{'loss': 0.7136, 'learning_rate': 4.789787234042553e-05, 'epoch': 5.04}\n"
     ]
    },
    {
     "name": "stderr",
     "output_type": "stream",
     "text": [
      " 20%|██        | 238/1175 [45:47<2:13:54,  8.57s/it]"
     ]
    },
    {
     "name": "stdout",
     "output_type": "stream",
     "text": [
      "{'loss': 0.6781, 'learning_rate': 4.78468085106383e-05, 'epoch': 5.06}\n"
     ]
    },
    {
     "name": "stderr",
     "output_type": "stream",
     "text": [
      " 20%|██        | 239/1175 [45:56<2:15:03,  8.66s/it]"
     ]
    },
    {
     "name": "stdout",
     "output_type": "stream",
     "text": [
      "{'loss': 0.6628, 'learning_rate': 4.779574468085106e-05, 'epoch': 5.09}\n"
     ]
    },
    {
     "name": "stderr",
     "output_type": "stream",
     "text": [
      " 20%|██        | 240/1175 [46:05<2:15:33,  8.70s/it]"
     ]
    },
    {
     "name": "stdout",
     "output_type": "stream",
     "text": [
      "{'loss': 0.8027, 'learning_rate': 4.774468085106383e-05, 'epoch': 5.11}\n"
     ]
    },
    {
     "name": "stderr",
     "output_type": "stream",
     "text": [
      " 21%|██        | 241/1175 [46:14<2:15:47,  8.72s/it]"
     ]
    },
    {
     "name": "stdout",
     "output_type": "stream",
     "text": [
      "{'loss': 1.0829, 'learning_rate': 4.7693617021276594e-05, 'epoch': 5.13}\n"
     ]
    },
    {
     "name": "stderr",
     "output_type": "stream",
     "text": [
      " 21%|██        | 242/1175 [46:22<2:16:01,  8.75s/it]"
     ]
    },
    {
     "name": "stdout",
     "output_type": "stream",
     "text": [
      "{'loss': 1.4796, 'learning_rate': 4.764255319148936e-05, 'epoch': 5.15}\n"
     ]
    },
    {
     "name": "stderr",
     "output_type": "stream",
     "text": [
      " 21%|██        | 243/1175 [46:31<2:16:12,  8.77s/it]"
     ]
    },
    {
     "name": "stdout",
     "output_type": "stream",
     "text": [
      "{'loss': 0.6255, 'learning_rate': 4.7591489361702127e-05, 'epoch': 5.17}\n"
     ]
    },
    {
     "name": "stderr",
     "output_type": "stream",
     "text": [
      " 21%|██        | 244/1175 [46:40<2:16:04,  8.77s/it]"
     ]
    },
    {
     "name": "stdout",
     "output_type": "stream",
     "text": [
      "{'loss': 0.6915, 'learning_rate': 4.754042553191489e-05, 'epoch': 5.19}\n"
     ]
    },
    {
     "name": "stderr",
     "output_type": "stream",
     "text": [
      " 21%|██        | 245/1175 [46:49<2:15:47,  8.76s/it]"
     ]
    },
    {
     "name": "stdout",
     "output_type": "stream",
     "text": [
      "{'loss': 0.7118, 'learning_rate': 4.748936170212766e-05, 'epoch': 5.21}\n"
     ]
    },
    {
     "name": "stderr",
     "output_type": "stream",
     "text": [
      " 21%|██        | 246/1175 [46:58<2:15:49,  8.77s/it]"
     ]
    },
    {
     "name": "stdout",
     "output_type": "stream",
     "text": [
      "{'loss': 0.5953, 'learning_rate': 4.743829787234042e-05, 'epoch': 5.23}\n"
     ]
    },
    {
     "name": "stderr",
     "output_type": "stream",
     "text": [
      " 21%|██        | 247/1175 [47:06<2:15:38,  8.77s/it]"
     ]
    },
    {
     "name": "stdout",
     "output_type": "stream",
     "text": [
      "{'loss': 0.599, 'learning_rate': 4.738723404255319e-05, 'epoch': 5.26}\n"
     ]
    },
    {
     "name": "stderr",
     "output_type": "stream",
     "text": [
      " 21%|██        | 248/1175 [47:15<2:15:31,  8.77s/it]"
     ]
    },
    {
     "name": "stdout",
     "output_type": "stream",
     "text": [
      "{'loss': 0.6024, 'learning_rate': 4.7336170212765956e-05, 'epoch': 5.28}\n"
     ]
    },
    {
     "name": "stderr",
     "output_type": "stream",
     "text": [
      " 21%|██        | 249/1175 [47:24<2:15:39,  8.79s/it]"
     ]
    },
    {
     "name": "stdout",
     "output_type": "stream",
     "text": [
      "{'loss': 0.7217, 'learning_rate': 4.728510638297872e-05, 'epoch': 5.3}\n"
     ]
    },
    {
     "name": "stderr",
     "output_type": "stream",
     "text": [
      " 21%|██▏       | 250/1175 [47:33<2:15:27,  8.79s/it]"
     ]
    },
    {
     "name": "stdout",
     "output_type": "stream",
     "text": [
      "{'loss': 1.1067, 'learning_rate': 4.723404255319149e-05, 'epoch': 5.32}\n"
     ]
    },
    {
     "name": "stderr",
     "output_type": "stream",
     "text": [
      " 21%|██▏       | 251/1175 [47:41<2:15:05,  8.77s/it]"
     ]
    },
    {
     "name": "stdout",
     "output_type": "stream",
     "text": [
      "{'loss': 0.5687, 'learning_rate': 4.718297872340425e-05, 'epoch': 5.34}\n"
     ]
    },
    {
     "name": "stderr",
     "output_type": "stream",
     "text": [
      " 21%|██▏       | 252/1175 [47:50<2:14:44,  8.76s/it]"
     ]
    },
    {
     "name": "stdout",
     "output_type": "stream",
     "text": [
      "{'loss': 0.5928, 'learning_rate': 4.713191489361702e-05, 'epoch': 5.36}\n"
     ]
    },
    {
     "name": "stderr",
     "output_type": "stream",
     "text": [
      " 22%|██▏       | 253/1175 [47:59<2:14:27,  8.75s/it]"
     ]
    },
    {
     "name": "stdout",
     "output_type": "stream",
     "text": [
      "{'loss': 0.6168, 'learning_rate': 4.708085106382979e-05, 'epoch': 5.38}\n"
     ]
    },
    {
     "name": "stderr",
     "output_type": "stream",
     "text": [
      " 22%|██▏       | 254/1175 [48:08<2:14:10,  8.74s/it]"
     ]
    },
    {
     "name": "stdout",
     "output_type": "stream",
     "text": [
      "{'loss': 0.5859, 'learning_rate': 4.7029787234042555e-05, 'epoch': 5.4}\n"
     ]
    },
    {
     "name": "stderr",
     "output_type": "stream",
     "text": [
      " 22%|██▏       | 255/1175 [48:16<2:13:59,  8.74s/it]"
     ]
    },
    {
     "name": "stdout",
     "output_type": "stream",
     "text": [
      "{'loss': 0.5751, 'learning_rate': 4.6978723404255325e-05, 'epoch': 5.43}\n"
     ]
    },
    {
     "name": "stderr",
     "output_type": "stream",
     "text": [
      " 22%|██▏       | 256/1175 [48:25<2:14:06,  8.76s/it]"
     ]
    },
    {
     "name": "stdout",
     "output_type": "stream",
     "text": [
      "{'loss': 0.6979, 'learning_rate': 4.692765957446809e-05, 'epoch': 5.45}\n"
     ]
    },
    {
     "name": "stderr",
     "output_type": "stream",
     "text": [
      " 22%|██▏       | 257/1175 [48:34<2:13:59,  8.76s/it]"
     ]
    },
    {
     "name": "stdout",
     "output_type": "stream",
     "text": [
      "{'loss': 0.9227, 'learning_rate': 4.687659574468086e-05, 'epoch': 5.47}\n"
     ]
    },
    {
     "name": "stderr",
     "output_type": "stream",
     "text": [
      " 22%|██▏       | 258/1175 [48:43<2:13:54,  8.76s/it]"
     ]
    },
    {
     "name": "stdout",
     "output_type": "stream",
     "text": [
      "{'loss': 0.5644, 'learning_rate': 4.682553191489362e-05, 'epoch': 5.49}\n"
     ]
    },
    {
     "name": "stderr",
     "output_type": "stream",
     "text": [
      " 22%|██▏       | 259/1175 [48:51<2:13:36,  8.75s/it]"
     ]
    },
    {
     "name": "stdout",
     "output_type": "stream",
     "text": [
      "{'loss': 0.711, 'learning_rate': 4.6774468085106384e-05, 'epoch': 5.51}\n"
     ]
    },
    {
     "name": "stderr",
     "output_type": "stream",
     "text": [
      " 22%|██▏       | 260/1175 [49:00<2:13:14,  8.74s/it]"
     ]
    },
    {
     "name": "stdout",
     "output_type": "stream",
     "text": [
      "{'loss': 0.7332, 'learning_rate': 4.6723404255319154e-05, 'epoch': 5.53}\n"
     ]
    },
    {
     "name": "stderr",
     "output_type": "stream",
     "text": [
      " 22%|██▏       | 261/1175 [49:09<2:13:11,  8.74s/it]"
     ]
    },
    {
     "name": "stdout",
     "output_type": "stream",
     "text": [
      "{'loss': 0.575, 'learning_rate': 4.667234042553192e-05, 'epoch': 5.55}\n"
     ]
    },
    {
     "name": "stderr",
     "output_type": "stream",
     "text": [
      " 22%|██▏       | 262/1175 [49:18<2:13:24,  8.77s/it]"
     ]
    },
    {
     "name": "stdout",
     "output_type": "stream",
     "text": [
      "{'loss': 0.5398, 'learning_rate': 4.662127659574469e-05, 'epoch': 5.57}\n"
     ]
    },
    {
     "name": "stderr",
     "output_type": "stream",
     "text": [
      " 22%|██▏       | 263/1175 [49:26<2:13:04,  8.76s/it]"
     ]
    },
    {
     "name": "stdout",
     "output_type": "stream",
     "text": [
      "{'loss': 1.0105, 'learning_rate': 4.657021276595745e-05, 'epoch': 5.6}\n"
     ]
    },
    {
     "name": "stderr",
     "output_type": "stream",
     "text": [
      " 22%|██▏       | 264/1175 [49:35<2:12:52,  8.75s/it]"
     ]
    },
    {
     "name": "stdout",
     "output_type": "stream",
     "text": [
      "{'loss': 0.5703, 'learning_rate': 4.651914893617022e-05, 'epoch': 5.62}\n"
     ]
    },
    {
     "name": "stderr",
     "output_type": "stream",
     "text": [
      " 23%|██▎       | 265/1175 [49:44<2:12:56,  8.77s/it]"
     ]
    },
    {
     "name": "stdout",
     "output_type": "stream",
     "text": [
      "{'loss': 0.5838, 'learning_rate': 4.646808510638298e-05, 'epoch': 5.64}\n"
     ]
    },
    {
     "name": "stderr",
     "output_type": "stream",
     "text": [
      " 23%|██▎       | 266/1175 [49:53<2:12:35,  8.75s/it]"
     ]
    },
    {
     "name": "stdout",
     "output_type": "stream",
     "text": [
      "{'loss': 0.5714, 'learning_rate': 4.6417021276595746e-05, 'epoch': 5.66}\n"
     ]
    },
    {
     "name": "stderr",
     "output_type": "stream",
     "text": [
      " 23%|██▎       | 267/1175 [50:01<2:12:21,  8.75s/it]"
     ]
    },
    {
     "name": "stdout",
     "output_type": "stream",
     "text": [
      "{'loss': 0.5246, 'learning_rate': 4.6365957446808516e-05, 'epoch': 5.68}\n"
     ]
    },
    {
     "name": "stderr",
     "output_type": "stream",
     "text": [
      " 23%|██▎       | 268/1175 [50:10<2:12:17,  8.75s/it]"
     ]
    },
    {
     "name": "stdout",
     "output_type": "stream",
     "text": [
      "{'loss': 0.4937, 'learning_rate': 4.631489361702128e-05, 'epoch': 5.7}\n"
     ]
    },
    {
     "name": "stderr",
     "output_type": "stream",
     "text": [
      " 23%|██▎       | 269/1175 [50:19<2:12:05,  8.75s/it]"
     ]
    },
    {
     "name": "stdout",
     "output_type": "stream",
     "text": [
      "{'loss': 0.6921, 'learning_rate': 4.626382978723405e-05, 'epoch': 5.72}\n"
     ]
    },
    {
     "name": "stderr",
     "output_type": "stream",
     "text": [
      " 23%|██▎       | 270/1175 [50:28<2:12:07,  8.76s/it]"
     ]
    },
    {
     "name": "stdout",
     "output_type": "stream",
     "text": [
      "{'loss': 0.7458, 'learning_rate': 4.621276595744681e-05, 'epoch': 5.74}\n"
     ]
    },
    {
     "name": "stderr",
     "output_type": "stream",
     "text": [
      " 23%|██▎       | 271/1175 [50:36<2:12:02,  8.76s/it]"
     ]
    },
    {
     "name": "stdout",
     "output_type": "stream",
     "text": [
      "{'loss': 0.7925, 'learning_rate': 4.6161702127659576e-05, 'epoch': 5.77}\n"
     ]
    },
    {
     "name": "stderr",
     "output_type": "stream",
     "text": [
      " 23%|██▎       | 272/1175 [50:45<2:11:53,  8.76s/it]"
     ]
    },
    {
     "name": "stdout",
     "output_type": "stream",
     "text": [
      "{'loss': 0.7477, 'learning_rate': 4.6110638297872345e-05, 'epoch': 5.79}\n"
     ]
    },
    {
     "name": "stderr",
     "output_type": "stream",
     "text": [
      " 23%|██▎       | 273/1175 [50:54<2:11:39,  8.76s/it]"
     ]
    },
    {
     "name": "stdout",
     "output_type": "stream",
     "text": [
      "{'loss': 1.0346, 'learning_rate': 4.605957446808511e-05, 'epoch': 5.81}\n"
     ]
    },
    {
     "name": "stderr",
     "output_type": "stream",
     "text": [
      " 23%|██▎       | 274/1175 [51:03<2:11:32,  8.76s/it]"
     ]
    },
    {
     "name": "stdout",
     "output_type": "stream",
     "text": [
      "{'loss': 0.4849, 'learning_rate': 4.600851063829788e-05, 'epoch': 5.83}\n"
     ]
    },
    {
     "name": "stderr",
     "output_type": "stream",
     "text": [
      " 23%|██▎       | 275/1175 [51:11<2:11:16,  8.75s/it]"
     ]
    },
    {
     "name": "stdout",
     "output_type": "stream",
     "text": [
      "{'loss': 0.4939, 'learning_rate': 4.595744680851064e-05, 'epoch': 5.85}\n"
     ]
    },
    {
     "name": "stderr",
     "output_type": "stream",
     "text": [
      " 23%|██▎       | 276/1175 [51:20<2:11:01,  8.74s/it]"
     ]
    },
    {
     "name": "stdout",
     "output_type": "stream",
     "text": [
      "{'loss': 0.672, 'learning_rate': 4.5906382978723405e-05, 'epoch': 5.87}\n"
     ]
    },
    {
     "name": "stderr",
     "output_type": "stream",
     "text": [
      " 24%|██▎       | 277/1175 [51:29<2:11:25,  8.78s/it]"
     ]
    },
    {
     "name": "stdout",
     "output_type": "stream",
     "text": [
      "{'loss': 0.5692, 'learning_rate': 4.5855319148936175e-05, 'epoch': 5.89}\n"
     ]
    },
    {
     "name": "stderr",
     "output_type": "stream",
     "text": [
      " 24%|██▎       | 278/1175 [51:38<2:11:10,  8.77s/it]"
     ]
    },
    {
     "name": "stdout",
     "output_type": "stream",
     "text": [
      "{'loss': 0.5317, 'learning_rate': 4.580425531914894e-05, 'epoch': 5.91}\n"
     ]
    },
    {
     "name": "stderr",
     "output_type": "stream",
     "text": [
      " 24%|██▎       | 279/1175 [51:47<2:10:53,  8.77s/it]"
     ]
    },
    {
     "name": "stdout",
     "output_type": "stream",
     "text": [
      "{'loss': 0.5177, 'learning_rate': 4.575319148936171e-05, 'epoch': 5.94}\n"
     ]
    },
    {
     "name": "stderr",
     "output_type": "stream",
     "text": [
      " 24%|██▍       | 280/1175 [51:55<2:10:47,  8.77s/it]"
     ]
    },
    {
     "name": "stdout",
     "output_type": "stream",
     "text": [
      "{'loss': 1.0352, 'learning_rate': 4.570212765957447e-05, 'epoch': 5.96}\n"
     ]
    },
    {
     "name": "stderr",
     "output_type": "stream",
     "text": [
      " 24%|██▍       | 281/1175 [52:04<2:08:43,  8.64s/it]"
     ]
    },
    {
     "name": "stdout",
     "output_type": "stream",
     "text": [
      "{'loss': 0.7186, 'learning_rate': 4.565106382978724e-05, 'epoch': 5.98}\n"
     ]
    },
    {
     "name": "stderr",
     "output_type": "stream",
     "text": [
      " 24%|██▍       | 282/1175 [52:09<1:53:01,  7.59s/it]"
     ]
    },
    {
     "name": "stdout",
     "output_type": "stream",
     "text": [
      "{'loss': 0.4762, 'learning_rate': 4.5600000000000004e-05, 'epoch': 6.0}\n"
     ]
    },
    {
     "name": "stderr",
     "output_type": "stream",
     "text": [
      " 24%|██▍       | 283/1175 [52:19<2:04:35,  8.38s/it]"
     ]
    },
    {
     "name": "stdout",
     "output_type": "stream",
     "text": [
      "{'loss': 0.4422, 'learning_rate': 4.554893617021277e-05, 'epoch': 6.02}\n"
     ]
    },
    {
     "name": "stderr",
     "output_type": "stream",
     "text": [
      " 24%|██▍       | 284/1175 [52:28<2:06:17,  8.50s/it]"
     ]
    },
    {
     "name": "stdout",
     "output_type": "stream",
     "text": [
      "{'loss': 0.5262, 'learning_rate': 4.549787234042554e-05, 'epoch': 6.04}\n"
     ]
    },
    {
     "name": "stderr",
     "output_type": "stream",
     "text": [
      " 24%|██▍       | 285/1175 [52:37<2:07:16,  8.58s/it]"
     ]
    },
    {
     "name": "stdout",
     "output_type": "stream",
     "text": [
      "{'loss': 0.5237, 'learning_rate': 4.54468085106383e-05, 'epoch': 6.06}\n"
     ]
    },
    {
     "name": "stderr",
     "output_type": "stream",
     "text": [
      " 24%|██▍       | 286/1175 [52:45<2:07:51,  8.63s/it]"
     ]
    },
    {
     "name": "stdout",
     "output_type": "stream",
     "text": [
      "{'loss': 0.5332, 'learning_rate': 4.539574468085107e-05, 'epoch': 6.09}\n"
     ]
    },
    {
     "name": "stderr",
     "output_type": "stream",
     "text": [
      " 24%|██▍       | 287/1175 [52:54<2:08:19,  8.67s/it]"
     ]
    },
    {
     "name": "stdout",
     "output_type": "stream",
     "text": [
      "{'loss': 0.4712, 'learning_rate': 4.534468085106383e-05, 'epoch': 6.11}\n"
     ]
    },
    {
     "name": "stderr",
     "output_type": "stream",
     "text": [
      " 25%|██▍       | 288/1175 [53:03<2:08:29,  8.69s/it]"
     ]
    },
    {
     "name": "stdout",
     "output_type": "stream",
     "text": [
      "{'loss': 0.4611, 'learning_rate': 4.5293617021276596e-05, 'epoch': 6.13}\n"
     ]
    },
    {
     "name": "stderr",
     "output_type": "stream",
     "text": [
      " 25%|██▍       | 289/1175 [53:12<2:08:31,  8.70s/it]"
     ]
    },
    {
     "name": "stdout",
     "output_type": "stream",
     "text": [
      "{'loss': 1.2851, 'learning_rate': 4.5242553191489366e-05, 'epoch': 6.15}\n"
     ]
    },
    {
     "name": "stderr",
     "output_type": "stream",
     "text": [
      " 25%|██▍       | 290/1175 [53:20<2:08:41,  8.73s/it]"
     ]
    },
    {
     "name": "stdout",
     "output_type": "stream",
     "text": [
      "{'loss': 0.4951, 'learning_rate': 4.519148936170213e-05, 'epoch': 6.17}\n"
     ]
    },
    {
     "name": "stderr",
     "output_type": "stream",
     "text": [
      " 25%|██▍       | 291/1175 [53:29<2:08:40,  8.73s/it]"
     ]
    },
    {
     "name": "stdout",
     "output_type": "stream",
     "text": [
      "{'loss': 0.5168, 'learning_rate': 4.51404255319149e-05, 'epoch': 6.19}\n"
     ]
    },
    {
     "name": "stderr",
     "output_type": "stream",
     "text": [
      " 25%|██▍       | 292/1175 [53:38<2:08:25,  8.73s/it]"
     ]
    },
    {
     "name": "stdout",
     "output_type": "stream",
     "text": [
      "{'loss': 1.2696, 'learning_rate': 4.508936170212766e-05, 'epoch': 6.21}\n"
     ]
    },
    {
     "name": "stderr",
     "output_type": "stream",
     "text": [
      " 25%|██▍       | 293/1175 [53:47<2:08:42,  8.76s/it]"
     ]
    },
    {
     "name": "stdout",
     "output_type": "stream",
     "text": [
      "{'loss': 0.4216, 'learning_rate': 4.5038297872340425e-05, 'epoch': 6.23}\n"
     ]
    },
    {
     "name": "stderr",
     "output_type": "stream",
     "text": [
      " 25%|██▌       | 294/1175 [53:55<2:08:19,  8.74s/it]"
     ]
    },
    {
     "name": "stdout",
     "output_type": "stream",
     "text": [
      "{'loss': 0.6889, 'learning_rate': 4.4987234042553195e-05, 'epoch': 6.26}\n"
     ]
    },
    {
     "name": "stderr",
     "output_type": "stream",
     "text": [
      " 25%|██▌       | 295/1175 [54:04<2:08:02,  8.73s/it]"
     ]
    },
    {
     "name": "stdout",
     "output_type": "stream",
     "text": [
      "{'loss': 0.6871, 'learning_rate': 4.493617021276596e-05, 'epoch': 6.28}\n"
     ]
    },
    {
     "name": "stderr",
     "output_type": "stream",
     "text": [
      " 25%|██▌       | 296/1175 [54:13<2:08:15,  8.76s/it]"
     ]
    },
    {
     "name": "stdout",
     "output_type": "stream",
     "text": [
      "{'loss': 0.4803, 'learning_rate': 4.488510638297873e-05, 'epoch': 6.3}\n"
     ]
    },
    {
     "name": "stderr",
     "output_type": "stream",
     "text": [
      " 25%|██▌       | 297/1175 [54:22<2:08:00,  8.75s/it]"
     ]
    },
    {
     "name": "stdout",
     "output_type": "stream",
     "text": [
      "{'loss': 0.6806, 'learning_rate': 4.483404255319149e-05, 'epoch': 6.32}\n"
     ]
    },
    {
     "name": "stderr",
     "output_type": "stream",
     "text": [
      " 25%|██▌       | 298/1175 [54:30<2:07:53,  8.75s/it]"
     ]
    },
    {
     "name": "stdout",
     "output_type": "stream",
     "text": [
      "{'loss': 0.5201, 'learning_rate': 4.4782978723404255e-05, 'epoch': 6.34}\n"
     ]
    },
    {
     "name": "stderr",
     "output_type": "stream",
     "text": [
      " 25%|██▌       | 299/1175 [54:39<2:07:49,  8.75s/it]"
     ]
    },
    {
     "name": "stdout",
     "output_type": "stream",
     "text": [
      "{'loss': 0.4825, 'learning_rate': 4.4731914893617025e-05, 'epoch': 6.36}\n"
     ]
    },
    {
     "name": "stderr",
     "output_type": "stream",
     "text": [
      " 26%|██▌       | 300/1175 [54:48<2:07:29,  8.74s/it]"
     ]
    },
    {
     "name": "stdout",
     "output_type": "stream",
     "text": [
      "{'loss': 0.486, 'learning_rate': 4.468085106382979e-05, 'epoch': 6.38}\n"
     ]
    },
    {
     "name": "stderr",
     "output_type": "stream",
     "text": [
      "                                                    \n",
      " 26%|██▌       | 300/1175 [1:00:26<2:07:29,  8.74s/it]"
     ]
    },
    {
     "name": "stdout",
     "output_type": "stream",
     "text": [
      "{'eval_loss': 0.3439067006111145, 'eval_mean_iou': 0.1323727696873518, 'eval_mean_accuracy': 0.2150527228315941, 'eval_overall_accuracy': 0.9814190042429957, 'eval_per_category_iou': [0.0, 0.9883262719591392, 0.3893797450179624, 0.0, 0.0, 0.0, 0.0, 0.002236686485747158, 0.0001855545762397365, 0.33955864589550866, 0.001159102000976086, 0.0, 0.0], 'eval_per_category_accuracy': [0.0, 0.993237510036672, 0.9089231726068103, 0.0, 0.0, 0.0, 0.0, 0.002312533013904313, 0.0001857706803851169, 0.8898369478596395, 0.0011894626133119647, 0.0, 0.0], 'eval_runtime': 338.0966, 'eval_samples_per_second': 0.686, 'eval_steps_per_second': 0.071, 'epoch': 6.38}\n"
     ]
    },
    {
     "name": "stderr",
     "output_type": "stream",
     "text": [
      " 26%|██▌       | 301/1175 [1:00:35<26:47:39, 110.37s/it]"
     ]
    },
    {
     "name": "stdout",
     "output_type": "stream",
     "text": [
      "{'loss': 0.5242, 'learning_rate': 4.462978723404256e-05, 'epoch': 6.4}\n"
     ]
    },
    {
     "name": "stderr",
     "output_type": "stream",
     "text": [
      " 26%|██▌       | 302/1175 [1:00:44<19:22:07, 79.87s/it] "
     ]
    },
    {
     "name": "stdout",
     "output_type": "stream",
     "text": [
      "{'loss': 0.6397, 'learning_rate': 4.457872340425532e-05, 'epoch': 6.43}\n"
     ]
    },
    {
     "name": "stderr",
     "output_type": "stream",
     "text": [
      " 26%|██▌       | 303/1175 [1:00:53<14:11:04, 58.56s/it]"
     ]
    },
    {
     "name": "stdout",
     "output_type": "stream",
     "text": [
      "{'loss': 0.6443, 'learning_rate': 4.452765957446809e-05, 'epoch': 6.45}\n"
     ]
    },
    {
     "name": "stderr",
     "output_type": "stream",
     "text": [
      " 26%|██▌       | 304/1175 [1:01:02<10:33:21, 43.63s/it]"
     ]
    },
    {
     "name": "stdout",
     "output_type": "stream",
     "text": [
      "{'loss': 0.4728, 'learning_rate': 4.4476595744680854e-05, 'epoch': 6.47}\n"
     ]
    },
    {
     "name": "stderr",
     "output_type": "stream",
     "text": [
      " 26%|██▌       | 305/1175 [1:01:10<8:00:40, 33.15s/it] "
     ]
    },
    {
     "name": "stdout",
     "output_type": "stream",
     "text": [
      "{'loss': 0.4862, 'learning_rate': 4.442553191489362e-05, 'epoch': 6.49}\n"
     ]
    },
    {
     "name": "stderr",
     "output_type": "stream",
     "text": [
      " 26%|██▌       | 306/1175 [1:01:19<6:14:11, 25.84s/it]"
     ]
    },
    {
     "name": "stdout",
     "output_type": "stream",
     "text": [
      "{'loss': 0.4781, 'learning_rate': 4.437446808510639e-05, 'epoch': 6.51}\n"
     ]
    },
    {
     "name": "stderr",
     "output_type": "stream",
     "text": [
      " 26%|██▌       | 307/1175 [1:01:28<4:59:40, 20.71s/it]"
     ]
    },
    {
     "name": "stdout",
     "output_type": "stream",
     "text": [
      "{'loss': 0.5228, 'learning_rate': 4.432340425531915e-05, 'epoch': 6.53}\n"
     ]
    },
    {
     "name": "stderr",
     "output_type": "stream",
     "text": [
      " 26%|██▌       | 308/1175 [1:01:37<4:07:19, 17.12s/it]"
     ]
    },
    {
     "name": "stdout",
     "output_type": "stream",
     "text": [
      "{'loss': 0.4926, 'learning_rate': 4.427234042553192e-05, 'epoch': 6.55}\n"
     ]
    },
    {
     "name": "stderr",
     "output_type": "stream",
     "text": [
      " 26%|██▋       | 309/1175 [1:01:45<3:30:51, 14.61s/it]"
     ]
    },
    {
     "name": "stdout",
     "output_type": "stream",
     "text": [
      "{'loss': 0.6292, 'learning_rate': 4.422127659574468e-05, 'epoch': 6.57}\n"
     ]
    },
    {
     "name": "stderr",
     "output_type": "stream",
     "text": [
      " 26%|██▋       | 310/1175 [1:01:54<3:05:20, 12.86s/it]"
     ]
    },
    {
     "name": "stdout",
     "output_type": "stream",
     "text": [
      "{'loss': 0.4418, 'learning_rate': 4.4170212765957446e-05, 'epoch': 6.6}\n"
     ]
    },
    {
     "name": "stderr",
     "output_type": "stream",
     "text": [
      " 26%|██▋       | 311/1175 [1:02:03<2:47:34, 11.64s/it]"
     ]
    },
    {
     "name": "stdout",
     "output_type": "stream",
     "text": [
      "{'loss': 0.6297, 'learning_rate': 4.4119148936170216e-05, 'epoch': 6.62}\n"
     ]
    },
    {
     "name": "stderr",
     "output_type": "stream",
     "text": [
      " 27%|██▋       | 312/1175 [1:02:12<2:35:23, 10.80s/it]"
     ]
    },
    {
     "name": "stdout",
     "output_type": "stream",
     "text": [
      "{'loss': 0.4885, 'learning_rate': 4.406808510638298e-05, 'epoch': 6.64}\n"
     ]
    },
    {
     "name": "stderr",
     "output_type": "stream",
     "text": [
      " 27%|██▋       | 313/1175 [1:02:21<2:26:39, 10.21s/it]"
     ]
    },
    {
     "name": "stdout",
     "output_type": "stream",
     "text": [
      "{'loss': 0.428, 'learning_rate': 4.401702127659575e-05, 'epoch': 6.66}\n"
     ]
    },
    {
     "name": "stderr",
     "output_type": "stream",
     "text": [
      " 27%|██▋       | 314/1175 [1:02:29<2:20:17,  9.78s/it]"
     ]
    },
    {
     "name": "stdout",
     "output_type": "stream",
     "text": [
      "{'loss': 0.5125, 'learning_rate': 4.396595744680851e-05, 'epoch': 6.68}\n"
     ]
    },
    {
     "name": "stderr",
     "output_type": "stream",
     "text": [
      " 27%|██▋       | 315/1175 [1:02:38<2:15:42,  9.47s/it]"
     ]
    },
    {
     "name": "stdout",
     "output_type": "stream",
     "text": [
      "{'loss': 0.4461, 'learning_rate': 4.3914893617021275e-05, 'epoch': 6.7}\n"
     ]
    },
    {
     "name": "stderr",
     "output_type": "stream",
     "text": [
      " 27%|██▋       | 316/1175 [1:02:47<2:12:37,  9.26s/it]"
     ]
    },
    {
     "name": "stdout",
     "output_type": "stream",
     "text": [
      "{'loss': 0.5952, 'learning_rate': 4.3863829787234045e-05, 'epoch': 6.72}\n"
     ]
    },
    {
     "name": "stderr",
     "output_type": "stream",
     "text": [
      " 27%|██▋       | 317/1175 [1:02:56<2:10:35,  9.13s/it]"
     ]
    },
    {
     "name": "stdout",
     "output_type": "stream",
     "text": [
      "{'loss': 0.6363, 'learning_rate': 4.381276595744681e-05, 'epoch': 6.74}\n"
     ]
    },
    {
     "name": "stderr",
     "output_type": "stream",
     "text": [
      " 27%|██▋       | 318/1175 [1:03:04<2:08:37,  9.01s/it]"
     ]
    },
    {
     "name": "stdout",
     "output_type": "stream",
     "text": [
      "{'loss': 0.573, 'learning_rate': 4.376170212765958e-05, 'epoch': 6.77}\n"
     ]
    },
    {
     "name": "stderr",
     "output_type": "stream",
     "text": [
      " 27%|██▋       | 319/1175 [1:03:13<2:07:21,  8.93s/it]"
     ]
    },
    {
     "name": "stdout",
     "output_type": "stream",
     "text": [
      "{'loss': 0.474, 'learning_rate': 4.371063829787234e-05, 'epoch': 6.79}\n"
     ]
    },
    {
     "name": "stderr",
     "output_type": "stream",
     "text": [
      " 27%|██▋       | 320/1175 [1:03:22<2:06:38,  8.89s/it]"
     ]
    },
    {
     "name": "stdout",
     "output_type": "stream",
     "text": [
      "{'loss': 0.4292, 'learning_rate': 4.365957446808511e-05, 'epoch': 6.81}\n"
     ]
    },
    {
     "name": "stderr",
     "output_type": "stream",
     "text": [
      " 27%|██▋       | 321/1175 [1:03:31<2:05:55,  8.85s/it]"
     ]
    },
    {
     "name": "stdout",
     "output_type": "stream",
     "text": [
      "{'loss': 0.7978, 'learning_rate': 4.3608510638297874e-05, 'epoch': 6.83}\n"
     ]
    },
    {
     "name": "stderr",
     "output_type": "stream",
     "text": [
      " 27%|██▋       | 322/1175 [1:03:40<2:05:26,  8.82s/it]"
     ]
    },
    {
     "name": "stdout",
     "output_type": "stream",
     "text": [
      "{'loss': 0.4769, 'learning_rate': 4.355744680851064e-05, 'epoch': 6.85}\n"
     ]
    },
    {
     "name": "stderr",
     "output_type": "stream",
     "text": [
      " 27%|██▋       | 323/1175 [1:03:48<2:05:10,  8.81s/it]"
     ]
    },
    {
     "name": "stdout",
     "output_type": "stream",
     "text": [
      "{'loss': 0.396, 'learning_rate': 4.350638297872341e-05, 'epoch': 6.87}\n"
     ]
    },
    {
     "name": "stderr",
     "output_type": "stream",
     "text": [
      " 28%|██▊       | 324/1175 [1:03:57<2:05:06,  8.82s/it]"
     ]
    },
    {
     "name": "stdout",
     "output_type": "stream",
     "text": [
      "{'loss': 0.6247, 'learning_rate': 4.345531914893617e-05, 'epoch': 6.89}\n"
     ]
    },
    {
     "name": "stderr",
     "output_type": "stream",
     "text": [
      " 28%|██▊       | 325/1175 [1:04:06<2:04:37,  8.80s/it]"
     ]
    },
    {
     "name": "stdout",
     "output_type": "stream",
     "text": [
      "{'loss': 0.4249, 'learning_rate': 4.340425531914894e-05, 'epoch': 6.91}\n"
     ]
    },
    {
     "name": "stderr",
     "output_type": "stream",
     "text": [
      " 28%|██▊       | 326/1175 [1:04:15<2:04:22,  8.79s/it]"
     ]
    },
    {
     "name": "stdout",
     "output_type": "stream",
     "text": [
      "{'loss': 0.6221, 'learning_rate': 4.3353191489361704e-05, 'epoch': 6.94}\n"
     ]
    },
    {
     "name": "stderr",
     "output_type": "stream",
     "text": [
      " 28%|██▊       | 327/1175 [1:04:23<2:04:03,  8.78s/it]"
     ]
    },
    {
     "name": "stdout",
     "output_type": "stream",
     "text": [
      "{'loss': 0.4553, 'learning_rate': 4.330212765957447e-05, 'epoch': 6.96}\n"
     ]
    },
    {
     "name": "stderr",
     "output_type": "stream",
     "text": [
      " 28%|██▊       | 328/1175 [1:04:32<2:01:59,  8.64s/it]"
     ]
    },
    {
     "name": "stdout",
     "output_type": "stream",
     "text": [
      "{'loss': 0.477, 'learning_rate': 4.3251063829787237e-05, 'epoch': 6.98}\n"
     ]
    },
    {
     "name": "stderr",
     "output_type": "stream",
     "text": [
      " 28%|██▊       | 329/1175 [1:04:37<1:47:09,  7.60s/it]"
     ]
    },
    {
     "name": "stdout",
     "output_type": "stream",
     "text": [
      "{'loss': 0.3734, 'learning_rate': 4.32e-05, 'epoch': 7.0}\n"
     ]
    },
    {
     "name": "stderr",
     "output_type": "stream",
     "text": [
      " 28%|██▊       | 330/1175 [1:04:47<1:57:25,  8.34s/it]"
     ]
    },
    {
     "name": "stdout",
     "output_type": "stream",
     "text": [
      "{'loss': 0.4111, 'learning_rate': 4.314893617021277e-05, 'epoch': 7.02}\n"
     ]
    },
    {
     "name": "stderr",
     "output_type": "stream",
     "text": [
      " 28%|██▊       | 331/1175 [1:04:56<1:58:56,  8.46s/it]"
     ]
    },
    {
     "name": "stdout",
     "output_type": "stream",
     "text": [
      "{'loss': 0.4099, 'learning_rate': 4.309787234042553e-05, 'epoch': 7.04}\n"
     ]
    },
    {
     "name": "stderr",
     "output_type": "stream",
     "text": [
      " 28%|██▊       | 332/1175 [1:05:04<2:00:00,  8.54s/it]"
     ]
    },
    {
     "name": "stdout",
     "output_type": "stream",
     "text": [
      "{'loss': 0.6033, 'learning_rate': 4.3046808510638296e-05, 'epoch': 7.06}\n"
     ]
    },
    {
     "name": "stderr",
     "output_type": "stream",
     "text": [
      " 28%|██▊       | 333/1175 [1:05:13<2:01:03,  8.63s/it]"
     ]
    },
    {
     "name": "stdout",
     "output_type": "stream",
     "text": [
      "{'loss': 0.3885, 'learning_rate': 4.2995744680851066e-05, 'epoch': 7.09}\n"
     ]
    },
    {
     "name": "stderr",
     "output_type": "stream",
     "text": [
      " 28%|██▊       | 334/1175 [1:05:22<2:01:58,  8.70s/it]"
     ]
    },
    {
     "name": "stdout",
     "output_type": "stream",
     "text": [
      "{'loss': 0.9151, 'learning_rate': 4.294468085106383e-05, 'epoch': 7.11}\n"
     ]
    },
    {
     "name": "stderr",
     "output_type": "stream",
     "text": [
      " 29%|██▊       | 335/1175 [1:05:31<2:02:32,  8.75s/it]"
     ]
    },
    {
     "name": "stdout",
     "output_type": "stream",
     "text": [
      "{'loss': 0.8568, 'learning_rate': 4.28936170212766e-05, 'epoch': 7.13}\n"
     ]
    },
    {
     "name": "stderr",
     "output_type": "stream",
     "text": [
      " 29%|██▊       | 336/1175 [1:05:40<2:02:45,  8.78s/it]"
     ]
    },
    {
     "name": "stdout",
     "output_type": "stream",
     "text": [
      "{'loss': 0.4453, 'learning_rate': 4.284255319148936e-05, 'epoch': 7.15}\n"
     ]
    },
    {
     "name": "stderr",
     "output_type": "stream",
     "text": [
      " 29%|██▊       | 337/1175 [1:05:49<2:02:44,  8.79s/it]"
     ]
    },
    {
     "name": "stdout",
     "output_type": "stream",
     "text": [
      "{'loss': 0.5707, 'learning_rate': 4.279148936170213e-05, 'epoch': 7.17}\n"
     ]
    },
    {
     "name": "stderr",
     "output_type": "stream",
     "text": [
      " 29%|██▉       | 338/1175 [1:05:58<2:02:52,  8.81s/it]"
     ]
    },
    {
     "name": "stdout",
     "output_type": "stream",
     "text": [
      "{'loss': 0.3774, 'learning_rate': 4.2740425531914895e-05, 'epoch': 7.19}\n"
     ]
    },
    {
     "name": "stderr",
     "output_type": "stream",
     "text": [
      " 29%|██▉       | 339/1175 [1:06:06<2:02:41,  8.81s/it]"
     ]
    },
    {
     "name": "stdout",
     "output_type": "stream",
     "text": [
      "{'loss': 0.3853, 'learning_rate': 4.268936170212766e-05, 'epoch': 7.21}\n"
     ]
    },
    {
     "name": "stderr",
     "output_type": "stream",
     "text": [
      " 29%|██▉       | 340/1175 [1:06:15<2:02:58,  8.84s/it]"
     ]
    },
    {
     "name": "stdout",
     "output_type": "stream",
     "text": [
      "{'loss': 0.3848, 'learning_rate': 4.263829787234043e-05, 'epoch': 7.23}\n"
     ]
    },
    {
     "name": "stderr",
     "output_type": "stream",
     "text": [
      " 29%|██▉       | 341/1175 [1:06:24<2:02:54,  8.84s/it]"
     ]
    },
    {
     "name": "stdout",
     "output_type": "stream",
     "text": [
      "{'loss': 0.7507, 'learning_rate': 4.258723404255319e-05, 'epoch': 7.26}\n"
     ]
    },
    {
     "name": "stderr",
     "output_type": "stream",
     "text": [
      " 29%|██▉       | 342/1175 [1:06:33<2:03:05,  8.87s/it]"
     ]
    },
    {
     "name": "stdout",
     "output_type": "stream",
     "text": [
      "{'loss': 0.4493, 'learning_rate': 4.253617021276596e-05, 'epoch': 7.28}\n"
     ]
    },
    {
     "name": "stderr",
     "output_type": "stream",
     "text": [
      " 29%|██▉       | 343/1175 [1:06:42<2:02:49,  8.86s/it]"
     ]
    },
    {
     "name": "stdout",
     "output_type": "stream",
     "text": [
      "{'loss': 0.4157, 'learning_rate': 4.2485106382978724e-05, 'epoch': 7.3}\n"
     ]
    },
    {
     "name": "stderr",
     "output_type": "stream",
     "text": [
      " 29%|██▉       | 344/1175 [1:06:51<2:02:32,  8.85s/it]"
     ]
    },
    {
     "name": "stdout",
     "output_type": "stream",
     "text": [
      "{'loss': 0.3353, 'learning_rate': 4.243404255319149e-05, 'epoch': 7.32}\n"
     ]
    },
    {
     "name": "stderr",
     "output_type": "stream",
     "text": [
      " 29%|██▉       | 345/1175 [1:07:00<2:02:20,  8.84s/it]"
     ]
    },
    {
     "name": "stdout",
     "output_type": "stream",
     "text": [
      "{'loss': 0.3147, 'learning_rate': 4.238297872340426e-05, 'epoch': 7.34}\n"
     ]
    },
    {
     "name": "stderr",
     "output_type": "stream",
     "text": [
      " 29%|██▉       | 346/1175 [1:07:08<2:02:06,  8.84s/it]"
     ]
    },
    {
     "name": "stdout",
     "output_type": "stream",
     "text": [
      "{'loss': 0.3647, 'learning_rate': 4.233191489361702e-05, 'epoch': 7.36}\n"
     ]
    },
    {
     "name": "stderr",
     "output_type": "stream",
     "text": [
      " 30%|██▉       | 347/1175 [1:07:17<2:02:10,  8.85s/it]"
     ]
    },
    {
     "name": "stdout",
     "output_type": "stream",
     "text": [
      "{'loss': 1.1843, 'learning_rate': 4.228085106382979e-05, 'epoch': 7.38}\n"
     ]
    },
    {
     "name": "stderr",
     "output_type": "stream",
     "text": [
      " 30%|██▉       | 348/1175 [1:07:26<2:02:00,  8.85s/it]"
     ]
    },
    {
     "name": "stdout",
     "output_type": "stream",
     "text": [
      "{'loss': 0.4362, 'learning_rate': 4.2229787234042553e-05, 'epoch': 7.4}\n"
     ]
    },
    {
     "name": "stderr",
     "output_type": "stream",
     "text": [
      " 30%|██▉       | 349/1175 [1:07:35<2:01:52,  8.85s/it]"
     ]
    },
    {
     "name": "stdout",
     "output_type": "stream",
     "text": [
      "{'loss': 0.4725, 'learning_rate': 4.2178723404255317e-05, 'epoch': 7.43}\n"
     ]
    },
    {
     "name": "stderr",
     "output_type": "stream",
     "text": [
      " 30%|██▉       | 350/1175 [1:07:44<2:01:27,  8.83s/it]"
     ]
    },
    {
     "name": "stdout",
     "output_type": "stream",
     "text": [
      "{'loss': 0.4121, 'learning_rate': 4.2127659574468086e-05, 'epoch': 7.45}\n"
     ]
    },
    {
     "name": "stderr",
     "output_type": "stream",
     "text": [
      " 30%|██▉       | 351/1175 [1:07:53<2:01:15,  8.83s/it]"
     ]
    },
    {
     "name": "stdout",
     "output_type": "stream",
     "text": [
      "{'loss': 0.374, 'learning_rate': 4.207659574468085e-05, 'epoch': 7.47}\n"
     ]
    },
    {
     "name": "stderr",
     "output_type": "stream",
     "text": [
      " 30%|██▉       | 352/1175 [1:08:01<2:01:10,  8.83s/it]"
     ]
    },
    {
     "name": "stdout",
     "output_type": "stream",
     "text": [
      "{'loss': 0.439, 'learning_rate': 4.202553191489362e-05, 'epoch': 7.49}\n"
     ]
    },
    {
     "name": "stderr",
     "output_type": "stream",
     "text": [
      " 30%|███       | 353/1175 [1:08:10<2:01:03,  8.84s/it]"
     ]
    },
    {
     "name": "stdout",
     "output_type": "stream",
     "text": [
      "{'loss': 0.4451, 'learning_rate': 4.197446808510638e-05, 'epoch': 7.51}\n"
     ]
    },
    {
     "name": "stderr",
     "output_type": "stream",
     "text": [
      " 30%|███       | 354/1175 [1:08:19<2:01:00,  8.84s/it]"
     ]
    },
    {
     "name": "stdout",
     "output_type": "stream",
     "text": [
      "{'loss': 0.3894, 'learning_rate': 4.192340425531915e-05, 'epoch': 7.53}\n"
     ]
    },
    {
     "name": "stderr",
     "output_type": "stream",
     "text": [
      " 30%|███       | 355/1175 [1:08:28<2:00:40,  8.83s/it]"
     ]
    },
    {
     "name": "stdout",
     "output_type": "stream",
     "text": [
      "{'loss': 0.3827, 'learning_rate': 4.1872340425531916e-05, 'epoch': 7.55}\n"
     ]
    },
    {
     "name": "stderr",
     "output_type": "stream",
     "text": [
      " 30%|███       | 356/1175 [1:08:37<2:00:31,  8.83s/it]"
     ]
    },
    {
     "name": "stdout",
     "output_type": "stream",
     "text": [
      "{'loss': 0.5653, 'learning_rate': 4.182127659574468e-05, 'epoch': 7.57}\n"
     ]
    },
    {
     "name": "stderr",
     "output_type": "stream",
     "text": [
      " 30%|███       | 357/1175 [1:08:46<2:00:39,  8.85s/it]"
     ]
    },
    {
     "name": "stdout",
     "output_type": "stream",
     "text": [
      "{'loss': 0.367, 'learning_rate': 4.177021276595745e-05, 'epoch': 7.6}\n"
     ]
    },
    {
     "name": "stderr",
     "output_type": "stream",
     "text": [
      " 30%|███       | 358/1175 [1:08:54<2:00:15,  8.83s/it]"
     ]
    },
    {
     "name": "stdout",
     "output_type": "stream",
     "text": [
      "{'loss': 0.339, 'learning_rate': 4.171914893617021e-05, 'epoch': 7.62}\n"
     ]
    },
    {
     "name": "stderr",
     "output_type": "stream",
     "text": [
      " 31%|███       | 359/1175 [1:09:03<2:00:03,  8.83s/it]"
     ]
    },
    {
     "name": "stdout",
     "output_type": "stream",
     "text": [
      "{'loss': 0.4219, 'learning_rate': 4.166808510638298e-05, 'epoch': 7.64}\n"
     ]
    },
    {
     "name": "stderr",
     "output_type": "stream",
     "text": [
      " 31%|███       | 360/1175 [1:09:12<2:00:04,  8.84s/it]"
     ]
    },
    {
     "name": "stdout",
     "output_type": "stream",
     "text": [
      "{'loss': 0.3467, 'learning_rate': 4.1617021276595745e-05, 'epoch': 7.66}\n"
     ]
    },
    {
     "name": "stderr",
     "output_type": "stream",
     "text": [
      " 31%|███       | 361/1175 [1:09:21<1:59:48,  8.83s/it]"
     ]
    },
    {
     "name": "stdout",
     "output_type": "stream",
     "text": [
      "{'loss': 0.3105, 'learning_rate': 4.156595744680851e-05, 'epoch': 7.68}\n"
     ]
    },
    {
     "name": "stderr",
     "output_type": "stream",
     "text": [
      " 31%|███       | 362/1175 [1:09:30<1:59:35,  8.83s/it]"
     ]
    },
    {
     "name": "stdout",
     "output_type": "stream",
     "text": [
      "{'loss': 0.3247, 'learning_rate': 4.151489361702128e-05, 'epoch': 7.7}\n"
     ]
    },
    {
     "name": "stderr",
     "output_type": "stream",
     "text": [
      " 31%|███       | 363/1175 [1:09:39<1:59:27,  8.83s/it]"
     ]
    },
    {
     "name": "stdout",
     "output_type": "stream",
     "text": [
      "{'loss': 0.3972, 'learning_rate': 4.146382978723404e-05, 'epoch': 7.72}\n"
     ]
    },
    {
     "name": "stderr",
     "output_type": "stream",
     "text": [
      " 31%|███       | 364/1175 [1:09:47<1:59:13,  8.82s/it]"
     ]
    },
    {
     "name": "stdout",
     "output_type": "stream",
     "text": [
      "{'loss': 0.3117, 'learning_rate': 4.141276595744681e-05, 'epoch': 7.74}\n"
     ]
    },
    {
     "name": "stderr",
     "output_type": "stream",
     "text": [
      " 31%|███       | 365/1175 [1:09:56<1:59:04,  8.82s/it]"
     ]
    },
    {
     "name": "stdout",
     "output_type": "stream",
     "text": [
      "{'loss': 0.3786, 'learning_rate': 4.1361702127659574e-05, 'epoch': 7.77}\n"
     ]
    },
    {
     "name": "stderr",
     "output_type": "stream",
     "text": [
      " 31%|███       | 366/1175 [1:10:05<1:59:17,  8.85s/it]"
     ]
    },
    {
     "name": "stdout",
     "output_type": "stream",
     "text": [
      "{'loss': 0.2725, 'learning_rate': 4.131063829787234e-05, 'epoch': 7.79}\n"
     ]
    },
    {
     "name": "stderr",
     "output_type": "stream",
     "text": [
      " 31%|███       | 367/1175 [1:10:14<1:59:12,  8.85s/it]"
     ]
    },
    {
     "name": "stdout",
     "output_type": "stream",
     "text": [
      "{'loss': 0.4292, 'learning_rate': 4.125957446808511e-05, 'epoch': 7.81}\n"
     ]
    },
    {
     "name": "stderr",
     "output_type": "stream",
     "text": [
      " 31%|███▏      | 368/1175 [1:10:23<1:58:47,  8.83s/it]"
     ]
    },
    {
     "name": "stdout",
     "output_type": "stream",
     "text": [
      "{'loss': 0.4818, 'learning_rate': 4.120851063829787e-05, 'epoch': 7.83}\n"
     ]
    },
    {
     "name": "stderr",
     "output_type": "stream",
     "text": [
      " 31%|███▏      | 369/1175 [1:10:32<1:58:54,  8.85s/it]"
     ]
    },
    {
     "name": "stdout",
     "output_type": "stream",
     "text": [
      "{'loss': 0.5476, 'learning_rate': 4.115744680851064e-05, 'epoch': 7.85}\n"
     ]
    },
    {
     "name": "stderr",
     "output_type": "stream",
     "text": [
      " 31%|███▏      | 370/1175 [1:10:40<1:58:35,  8.84s/it]"
     ]
    },
    {
     "name": "stdout",
     "output_type": "stream",
     "text": [
      "{'loss': 0.3619, 'learning_rate': 4.11063829787234e-05, 'epoch': 7.87}\n"
     ]
    },
    {
     "name": "stderr",
     "output_type": "stream",
     "text": [
      " 32%|███▏      | 371/1175 [1:10:49<1:58:23,  8.84s/it]"
     ]
    },
    {
     "name": "stdout",
     "output_type": "stream",
     "text": [
      "{'loss': 0.3239, 'learning_rate': 4.105531914893617e-05, 'epoch': 7.89}\n"
     ]
    },
    {
     "name": "stderr",
     "output_type": "stream",
     "text": [
      " 32%|███▏      | 372/1175 [1:10:58<1:58:28,  8.85s/it]"
     ]
    },
    {
     "name": "stdout",
     "output_type": "stream",
     "text": [
      "{'loss': 0.3357, 'learning_rate': 4.1004255319148936e-05, 'epoch': 7.91}\n"
     ]
    },
    {
     "name": "stderr",
     "output_type": "stream",
     "text": [
      " 32%|███▏      | 373/1175 [1:11:07<1:58:12,  8.84s/it]"
     ]
    },
    {
     "name": "stdout",
     "output_type": "stream",
     "text": [
      "{'loss': 0.3569, 'learning_rate': 4.09531914893617e-05, 'epoch': 7.94}\n"
     ]
    },
    {
     "name": "stderr",
     "output_type": "stream",
     "text": [
      " 32%|███▏      | 374/1175 [1:11:16<1:58:06,  8.85s/it]"
     ]
    },
    {
     "name": "stdout",
     "output_type": "stream",
     "text": [
      "{'loss': 0.4645, 'learning_rate': 4.090212765957447e-05, 'epoch': 7.96}\n"
     ]
    },
    {
     "name": "stderr",
     "output_type": "stream",
     "text": [
      " 32%|███▏      | 375/1175 [1:11:24<1:56:18,  8.72s/it]"
     ]
    },
    {
     "name": "stdout",
     "output_type": "stream",
     "text": [
      "{'loss': 0.376, 'learning_rate': 4.085106382978723e-05, 'epoch': 7.98}\n"
     ]
    },
    {
     "name": "stderr",
     "output_type": "stream",
     "text": [
      " 32%|███▏      | 376/1175 [1:11:29<1:41:52,  7.65s/it]"
     ]
    },
    {
     "name": "stdout",
     "output_type": "stream",
     "text": [
      "{'loss': 0.2827, 'learning_rate': 4.08e-05, 'epoch': 8.0}\n"
     ]
    },
    {
     "name": "stderr",
     "output_type": "stream",
     "text": [
      " 32%|███▏      | 377/1175 [1:11:40<1:51:58,  8.42s/it]"
     ]
    },
    {
     "name": "stdout",
     "output_type": "stream",
     "text": [
      "{'loss': 0.3018, 'learning_rate': 4.0748936170212766e-05, 'epoch': 8.02}\n"
     ]
    },
    {
     "name": "stderr",
     "output_type": "stream",
     "text": [
      " 32%|███▏      | 378/1175 [1:11:48<1:53:17,  8.53s/it]"
     ]
    },
    {
     "name": "stdout",
     "output_type": "stream",
     "text": [
      "{'loss': 0.8038, 'learning_rate': 4.069787234042553e-05, 'epoch': 8.04}\n"
     ]
    },
    {
     "name": "stderr",
     "output_type": "stream",
     "text": [
      " 32%|███▏      | 379/1175 [1:11:57<1:54:03,  8.60s/it]"
     ]
    },
    {
     "name": "stdout",
     "output_type": "stream",
     "text": [
      "{'loss': 0.3224, 'learning_rate': 4.06468085106383e-05, 'epoch': 8.06}\n"
     ]
    },
    {
     "name": "stderr",
     "output_type": "stream",
     "text": [
      " 32%|███▏      | 380/1175 [1:12:06<1:54:23,  8.63s/it]"
     ]
    },
    {
     "name": "stdout",
     "output_type": "stream",
     "text": [
      "{'loss': 0.4432, 'learning_rate': 4.059574468085106e-05, 'epoch': 8.09}\n"
     ]
    },
    {
     "name": "stderr",
     "output_type": "stream",
     "text": [
      " 32%|███▏      | 381/1175 [1:12:15<1:54:46,  8.67s/it]"
     ]
    },
    {
     "name": "stdout",
     "output_type": "stream",
     "text": [
      "{'loss': 0.3494, 'learning_rate': 4.054468085106383e-05, 'epoch': 8.11}\n"
     ]
    },
    {
     "name": "stderr",
     "output_type": "stream",
     "text": [
      " 33%|███▎      | 382/1175 [1:12:23<1:54:52,  8.69s/it]"
     ]
    },
    {
     "name": "stdout",
     "output_type": "stream",
     "text": [
      "{'loss': 0.5323, 'learning_rate': 4.0493617021276595e-05, 'epoch': 8.13}\n"
     ]
    },
    {
     "name": "stderr",
     "output_type": "stream",
     "text": [
      " 33%|███▎      | 383/1175 [1:12:32<1:55:10,  8.73s/it]"
     ]
    },
    {
     "name": "stdout",
     "output_type": "stream",
     "text": [
      "{'loss': 0.3406, 'learning_rate': 4.044255319148936e-05, 'epoch': 8.15}\n"
     ]
    },
    {
     "name": "stderr",
     "output_type": "stream",
     "text": [
      " 33%|███▎      | 384/1175 [1:12:41<1:55:09,  8.74s/it]"
     ]
    },
    {
     "name": "stdout",
     "output_type": "stream",
     "text": [
      "{'loss': 0.2846, 'learning_rate': 4.039148936170213e-05, 'epoch': 8.17}\n"
     ]
    },
    {
     "name": "stderr",
     "output_type": "stream",
     "text": [
      " 33%|███▎      | 385/1175 [1:12:50<1:55:12,  8.75s/it]"
     ]
    },
    {
     "name": "stdout",
     "output_type": "stream",
     "text": [
      "{'loss': 0.5385, 'learning_rate': 4.034042553191489e-05, 'epoch': 8.19}\n"
     ]
    },
    {
     "name": "stderr",
     "output_type": "stream",
     "text": [
      " 33%|███▎      | 386/1175 [1:12:59<1:55:08,  8.76s/it]"
     ]
    },
    {
     "name": "stdout",
     "output_type": "stream",
     "text": [
      "{'loss': 0.742, 'learning_rate': 4.028936170212766e-05, 'epoch': 8.21}\n"
     ]
    },
    {
     "name": "stderr",
     "output_type": "stream",
     "text": [
      " 33%|███▎      | 387/1175 [1:13:07<1:54:55,  8.75s/it]"
     ]
    },
    {
     "name": "stdout",
     "output_type": "stream",
     "text": [
      "{'loss': 0.4351, 'learning_rate': 4.0238297872340424e-05, 'epoch': 8.23}\n"
     ]
    },
    {
     "name": "stderr",
     "output_type": "stream",
     "text": [
      " 33%|███▎      | 388/1175 [1:13:16<1:55:11,  8.78s/it]"
     ]
    },
    {
     "name": "stdout",
     "output_type": "stream",
     "text": [
      "{'loss': 0.2664, 'learning_rate': 4.018723404255319e-05, 'epoch': 8.26}\n"
     ]
    },
    {
     "name": "stderr",
     "output_type": "stream",
     "text": [
      " 33%|███▎      | 389/1175 [1:13:25<1:54:46,  8.76s/it]"
     ]
    },
    {
     "name": "stdout",
     "output_type": "stream",
     "text": [
      "{'loss': 0.2665, 'learning_rate': 4.013617021276596e-05, 'epoch': 8.28}\n"
     ]
    },
    {
     "name": "stderr",
     "output_type": "stream",
     "text": [
      " 33%|███▎      | 390/1175 [1:13:34<1:54:28,  8.75s/it]"
     ]
    },
    {
     "name": "stdout",
     "output_type": "stream",
     "text": [
      "{'loss': 0.6272, 'learning_rate': 4.008510638297872e-05, 'epoch': 8.3}\n"
     ]
    },
    {
     "name": "stderr",
     "output_type": "stream",
     "text": [
      " 33%|███▎      | 391/1175 [1:13:42<1:54:33,  8.77s/it]"
     ]
    },
    {
     "name": "stdout",
     "output_type": "stream",
     "text": [
      "{'loss': 0.6631, 'learning_rate': 4.003404255319149e-05, 'epoch': 8.32}\n"
     ]
    },
    {
     "name": "stderr",
     "output_type": "stream",
     "text": [
      " 33%|███▎      | 392/1175 [1:13:51<1:54:05,  8.74s/it]"
     ]
    },
    {
     "name": "stdout",
     "output_type": "stream",
     "text": [
      "{'loss': 0.5006, 'learning_rate': 3.998297872340425e-05, 'epoch': 8.34}\n"
     ]
    },
    {
     "name": "stderr",
     "output_type": "stream",
     "text": [
      " 33%|███▎      | 393/1175 [1:14:00<1:54:00,  8.75s/it]"
     ]
    },
    {
     "name": "stdout",
     "output_type": "stream",
     "text": [
      "{'loss': 0.3286, 'learning_rate': 3.993191489361702e-05, 'epoch': 8.36}\n"
     ]
    },
    {
     "name": "stderr",
     "output_type": "stream",
     "text": [
      " 34%|███▎      | 394/1175 [1:14:09<1:54:08,  8.77s/it]"
     ]
    },
    {
     "name": "stdout",
     "output_type": "stream",
     "text": [
      "{'loss': 0.4633, 'learning_rate': 3.9880851063829786e-05, 'epoch': 8.38}\n"
     ]
    },
    {
     "name": "stderr",
     "output_type": "stream",
     "text": [
      " 34%|███▎      | 395/1175 [1:14:17<1:54:04,  8.77s/it]"
     ]
    },
    {
     "name": "stdout",
     "output_type": "stream",
     "text": [
      "{'loss': 0.342, 'learning_rate': 3.982978723404255e-05, 'epoch': 8.4}\n"
     ]
    },
    {
     "name": "stderr",
     "output_type": "stream",
     "text": [
      " 34%|███▎      | 396/1175 [1:14:26<1:54:00,  8.78s/it]"
     ]
    },
    {
     "name": "stdout",
     "output_type": "stream",
     "text": [
      "{'loss': 0.3257, 'learning_rate': 3.977872340425532e-05, 'epoch': 8.43}\n"
     ]
    },
    {
     "name": "stderr",
     "output_type": "stream",
     "text": [
      " 34%|███▍      | 397/1175 [1:14:35<1:53:43,  8.77s/it]"
     ]
    },
    {
     "name": "stdout",
     "output_type": "stream",
     "text": [
      "{'loss': 0.2916, 'learning_rate': 3.972765957446808e-05, 'epoch': 8.45}\n"
     ]
    },
    {
     "name": "stderr",
     "output_type": "stream",
     "text": [
      " 34%|███▍      | 398/1175 [1:14:44<1:53:33,  8.77s/it]"
     ]
    },
    {
     "name": "stdout",
     "output_type": "stream",
     "text": [
      "{'loss': 0.4598, 'learning_rate': 3.967659574468085e-05, 'epoch': 8.47}\n"
     ]
    },
    {
     "name": "stderr",
     "output_type": "stream",
     "text": [
      " 34%|███▍      | 399/1175 [1:14:52<1:53:10,  8.75s/it]"
     ]
    },
    {
     "name": "stdout",
     "output_type": "stream",
     "text": [
      "{'loss': 0.4563, 'learning_rate': 3.9625531914893615e-05, 'epoch': 8.49}\n"
     ]
    },
    {
     "name": "stderr",
     "output_type": "stream",
     "text": [
      " 34%|███▍      | 400/1175 [1:15:01<1:53:22,  8.78s/it]"
     ]
    },
    {
     "name": "stdout",
     "output_type": "stream",
     "text": [
      "{'loss': 0.2482, 'learning_rate': 3.957446808510638e-05, 'epoch': 8.51}\n"
     ]
    },
    {
     "name": "stderr",
     "output_type": "stream",
     "text": [
      "                                                      \n",
      " 34%|███▍      | 400/1175 [1:20:40<1:53:22,  8.78s/it]"
     ]
    },
    {
     "name": "stdout",
     "output_type": "stream",
     "text": [
      "{'eval_loss': 0.22670629620552063, 'eval_mean_iou': 0.16860849432077765, 'eval_mean_accuracy': 0.2114801985158823, 'eval_overall_accuracy': 0.9860718661341173, 'eval_per_category_iou': [0.0, 0.9897245974812859, 0.5536249880833359, 0.0, 0.0, 0.0, 0.0, 0.00019122684492334298, 0.19406993093431807, 0.4539994614129537, 0.0003002214132923031, 0.0, 0.0], 'eval_per_category_accuracy': [0.0, 0.9982189752964783, 0.7825544633139264, 0.0, 0.0, 0.0, 0.0, 0.0001913246738122273, 0.22436096672204062, 0.7436163548821124, 0.0003004958180998648, 0.0, 0.0], 'eval_runtime': 339.1873, 'eval_samples_per_second': 0.684, 'eval_steps_per_second': 0.071, 'epoch': 8.51}\n"
     ]
    },
    {
     "name": "stderr",
     "output_type": "stream",
     "text": [
      " 34%|███▍      | 401/1175 [1:20:50<23:48:10, 110.71s/it]"
     ]
    },
    {
     "name": "stdout",
     "output_type": "stream",
     "text": [
      "{'loss': 0.3085, 'learning_rate': 3.952340425531915e-05, 'epoch': 8.53}\n"
     ]
    },
    {
     "name": "stderr",
     "output_type": "stream",
     "text": [
      " 34%|███▍      | 402/1175 [1:20:59<17:12:21, 80.13s/it] "
     ]
    },
    {
     "name": "stdout",
     "output_type": "stream",
     "text": [
      "{'loss': 0.2833, 'learning_rate': 3.947234042553191e-05, 'epoch': 8.55}\n"
     ]
    },
    {
     "name": "stderr",
     "output_type": "stream",
     "text": [
      " 34%|███▍      | 403/1175 [1:21:07<12:35:32, 58.72s/it]"
     ]
    },
    {
     "name": "stdout",
     "output_type": "stream",
     "text": [
      "{'loss': 0.3666, 'learning_rate': 3.942127659574468e-05, 'epoch': 8.57}\n"
     ]
    },
    {
     "name": "stderr",
     "output_type": "stream",
     "text": [
      " 34%|███▍      | 404/1175 [1:21:16<9:22:01, 43.74s/it] "
     ]
    },
    {
     "name": "stdout",
     "output_type": "stream",
     "text": [
      "{'loss': 0.5733, 'learning_rate': 3.9370212765957445e-05, 'epoch': 8.6}\n"
     ]
    },
    {
     "name": "stderr",
     "output_type": "stream",
     "text": [
      " 34%|███▍      | 405/1175 [1:21:25<7:06:49, 33.26s/it]"
     ]
    },
    {
     "name": "stdout",
     "output_type": "stream",
     "text": [
      "{'loss': 0.2912, 'learning_rate': 3.931914893617021e-05, 'epoch': 8.62}\n"
     ]
    },
    {
     "name": "stderr",
     "output_type": "stream",
     "text": [
      " 35%|███▍      | 406/1175 [1:21:34<5:32:07, 25.91s/it]"
     ]
    },
    {
     "name": "stdout",
     "output_type": "stream",
     "text": [
      "{'loss': 0.2201, 'learning_rate': 3.926808510638298e-05, 'epoch': 8.64}\n"
     ]
    },
    {
     "name": "stderr",
     "output_type": "stream",
     "text": [
      " 35%|███▍      | 407/1175 [1:21:42<4:25:54, 20.77s/it]"
     ]
    },
    {
     "name": "stdout",
     "output_type": "stream",
     "text": [
      "{'loss': 0.2785, 'learning_rate': 3.921702127659574e-05, 'epoch': 8.66}\n"
     ]
    },
    {
     "name": "stderr",
     "output_type": "stream",
     "text": [
      " 35%|███▍      | 408/1175 [1:21:51<3:39:38, 17.18s/it]"
     ]
    },
    {
     "name": "stdout",
     "output_type": "stream",
     "text": [
      "{'loss': 0.2872, 'learning_rate': 3.916595744680851e-05, 'epoch': 8.68}\n"
     ]
    },
    {
     "name": "stderr",
     "output_type": "stream",
     "text": [
      " 35%|███▍      | 409/1175 [1:22:00<3:06:53, 14.64s/it]"
     ]
    },
    {
     "name": "stdout",
     "output_type": "stream",
     "text": [
      "{'loss': 0.2543, 'learning_rate': 3.9114893617021274e-05, 'epoch': 8.7}\n"
     ]
    },
    {
     "name": "stderr",
     "output_type": "stream",
     "text": [
      " 35%|███▍      | 410/1175 [1:22:09<2:44:18, 12.89s/it]"
     ]
    },
    {
     "name": "stdout",
     "output_type": "stream",
     "text": [
      "{'loss': 0.3913, 'learning_rate': 3.9063829787234044e-05, 'epoch': 8.72}\n"
     ]
    },
    {
     "name": "stderr",
     "output_type": "stream",
     "text": [
      " 35%|███▍      | 411/1175 [1:22:18<2:28:28, 11.66s/it]"
     ]
    },
    {
     "name": "stdout",
     "output_type": "stream",
     "text": [
      "{'loss': 0.6468, 'learning_rate': 3.901276595744681e-05, 'epoch': 8.74}\n"
     ]
    },
    {
     "name": "stderr",
     "output_type": "stream",
     "text": [
      " 35%|███▌      | 412/1175 [1:22:26<2:17:23, 10.80s/it]"
     ]
    },
    {
     "name": "stdout",
     "output_type": "stream",
     "text": [
      "{'loss': 1.0162, 'learning_rate': 3.896170212765957e-05, 'epoch': 8.77}\n"
     ]
    },
    {
     "name": "stderr",
     "output_type": "stream",
     "text": [
      " 35%|███▌      | 413/1175 [1:22:35<2:09:22, 10.19s/it]"
     ]
    },
    {
     "name": "stdout",
     "output_type": "stream",
     "text": [
      "{'loss': 0.2163, 'learning_rate': 3.891063829787234e-05, 'epoch': 8.79}\n"
     ]
    },
    {
     "name": "stderr",
     "output_type": "stream",
     "text": [
      " 35%|███▌      | 414/1175 [1:22:44<2:03:37,  9.75s/it]"
     ]
    },
    {
     "name": "stdout",
     "output_type": "stream",
     "text": [
      "{'loss': 0.2675, 'learning_rate': 3.88595744680851e-05, 'epoch': 8.81}\n"
     ]
    },
    {
     "name": "stderr",
     "output_type": "stream",
     "text": [
      " 35%|███▌      | 415/1175 [1:22:53<1:59:58,  9.47s/it]"
     ]
    },
    {
     "name": "stdout",
     "output_type": "stream",
     "text": [
      "{'loss': 0.3613, 'learning_rate': 3.880851063829787e-05, 'epoch': 8.83}\n"
     ]
    },
    {
     "name": "stderr",
     "output_type": "stream",
     "text": [
      " 35%|███▌      | 416/1175 [1:23:02<1:57:21,  9.28s/it]"
     ]
    },
    {
     "name": "stdout",
     "output_type": "stream",
     "text": [
      "{'loss': 0.2634, 'learning_rate': 3.8757446808510636e-05, 'epoch': 8.85}\n"
     ]
    },
    {
     "name": "stderr",
     "output_type": "stream",
     "text": [
      " 35%|███▌      | 417/1175 [1:23:10<1:55:21,  9.13s/it]"
     ]
    },
    {
     "name": "stdout",
     "output_type": "stream",
     "text": [
      "{'loss': 0.2666, 'learning_rate': 3.87063829787234e-05, 'epoch': 8.87}\n"
     ]
    },
    {
     "name": "stderr",
     "output_type": "stream",
     "text": [
      " 36%|███▌      | 418/1175 [1:23:19<1:53:52,  9.03s/it]"
     ]
    },
    {
     "name": "stdout",
     "output_type": "stream",
     "text": [
      "{'loss': 0.3377, 'learning_rate': 3.865531914893617e-05, 'epoch': 8.89}\n"
     ]
    },
    {
     "name": "stderr",
     "output_type": "stream",
     "text": [
      " 36%|███▌      | 419/1175 [1:23:28<1:52:41,  8.94s/it]"
     ]
    },
    {
     "name": "stdout",
     "output_type": "stream",
     "text": [
      "{'loss': 0.2702, 'learning_rate': 3.860425531914894e-05, 'epoch': 8.91}\n"
     ]
    },
    {
     "name": "stderr",
     "output_type": "stream",
     "text": [
      " 36%|███▌      | 420/1175 [1:23:37<1:52:15,  8.92s/it]"
     ]
    },
    {
     "name": "stdout",
     "output_type": "stream",
     "text": [
      "{'loss': 0.4342, 'learning_rate': 3.85531914893617e-05, 'epoch': 8.94}\n"
     ]
    },
    {
     "name": "stderr",
     "output_type": "stream",
     "text": [
      " 36%|███▌      | 421/1175 [1:23:45<1:51:30,  8.87s/it]"
     ]
    },
    {
     "name": "stdout",
     "output_type": "stream",
     "text": [
      "{'loss': 0.2998, 'learning_rate': 3.850212765957447e-05, 'epoch': 8.96}\n"
     ]
    },
    {
     "name": "stderr",
     "output_type": "stream",
     "text": [
      " 36%|███▌      | 422/1175 [1:23:54<1:49:37,  8.73s/it]"
     ]
    },
    {
     "name": "stdout",
     "output_type": "stream",
     "text": [
      "{'loss': 0.3315, 'learning_rate': 3.8451063829787235e-05, 'epoch': 8.98}\n"
     ]
    },
    {
     "name": "stderr",
     "output_type": "stream",
     "text": [
      " 36%|███▌      | 423/1175 [1:23:59<1:35:57,  7.66s/it]"
     ]
    },
    {
     "name": "stdout",
     "output_type": "stream",
     "text": [
      "{'loss': 0.2505, 'learning_rate': 3.8400000000000005e-05, 'epoch': 9.0}\n"
     ]
    },
    {
     "name": "stderr",
     "output_type": "stream",
     "text": [
      " 36%|███▌      | 424/1175 [1:24:09<1:45:05,  8.40s/it]"
     ]
    },
    {
     "name": "stdout",
     "output_type": "stream",
     "text": [
      "{'loss': 0.2711, 'learning_rate': 3.834893617021277e-05, 'epoch': 9.02}\n"
     ]
    },
    {
     "name": "stderr",
     "output_type": "stream",
     "text": [
      " 36%|███▌      | 425/1175 [1:24:18<1:46:13,  8.50s/it]"
     ]
    },
    {
     "name": "stdout",
     "output_type": "stream",
     "text": [
      "{'loss': 0.2775, 'learning_rate': 3.829787234042554e-05, 'epoch': 9.04}\n"
     ]
    },
    {
     "name": "stderr",
     "output_type": "stream",
     "text": [
      " 36%|███▋      | 426/1175 [1:24:27<1:46:59,  8.57s/it]"
     ]
    },
    {
     "name": "stdout",
     "output_type": "stream",
     "text": [
      "{'loss': 0.2848, 'learning_rate': 3.82468085106383e-05, 'epoch': 9.06}\n"
     ]
    },
    {
     "name": "stderr",
     "output_type": "stream",
     "text": [
      " 36%|███▋      | 427/1175 [1:24:35<1:47:33,  8.63s/it]"
     ]
    },
    {
     "name": "stdout",
     "output_type": "stream",
     "text": [
      "{'loss': 0.2667, 'learning_rate': 3.819574468085107e-05, 'epoch': 9.09}\n"
     ]
    },
    {
     "name": "stderr",
     "output_type": "stream",
     "text": [
      " 36%|███▋      | 428/1175 [1:24:44<1:47:43,  8.65s/it]"
     ]
    },
    {
     "name": "stdout",
     "output_type": "stream",
     "text": [
      "{'loss': 0.3169, 'learning_rate': 3.8144680851063834e-05, 'epoch': 9.11}\n"
     ]
    },
    {
     "name": "stderr",
     "output_type": "stream",
     "text": [
      " 37%|███▋      | 429/1175 [1:24:53<1:48:07,  8.70s/it]"
     ]
    },
    {
     "name": "stdout",
     "output_type": "stream",
     "text": [
      "{'loss': 0.2627, 'learning_rate': 3.80936170212766e-05, 'epoch': 9.13}\n"
     ]
    },
    {
     "name": "stderr",
     "output_type": "stream",
     "text": [
      " 37%|███▋      | 430/1175 [1:25:02<1:48:12,  8.71s/it]"
     ]
    },
    {
     "name": "stdout",
     "output_type": "stream",
     "text": [
      "{'loss': 0.4395, 'learning_rate': 3.804255319148937e-05, 'epoch': 9.15}\n"
     ]
    },
    {
     "name": "stderr",
     "output_type": "stream",
     "text": [
      " 37%|███▋      | 431/1175 [1:25:10<1:47:57,  8.71s/it]"
     ]
    },
    {
     "name": "stdout",
     "output_type": "stream",
     "text": [
      "{'loss': 0.7935, 'learning_rate': 3.799148936170213e-05, 'epoch': 9.17}\n"
     ]
    },
    {
     "name": "stderr",
     "output_type": "stream",
     "text": [
      " 37%|███▋      | 432/1175 [1:25:19<1:47:48,  8.71s/it]"
     ]
    },
    {
     "name": "stdout",
     "output_type": "stream",
     "text": [
      "{'loss': 0.8537, 'learning_rate': 3.79404255319149e-05, 'epoch': 9.19}\n"
     ]
    },
    {
     "name": "stderr",
     "output_type": "stream",
     "text": [
      " 37%|███▋      | 433/1175 [1:25:28<1:47:53,  8.72s/it]"
     ]
    },
    {
     "name": "stdout",
     "output_type": "stream",
     "text": [
      "{'loss': 0.2576, 'learning_rate': 3.7889361702127663e-05, 'epoch': 9.21}\n"
     ]
    },
    {
     "name": "stderr",
     "output_type": "stream",
     "text": [
      " 37%|███▋      | 434/1175 [1:25:37<1:47:46,  8.73s/it]"
     ]
    },
    {
     "name": "stdout",
     "output_type": "stream",
     "text": [
      "{'loss': 0.2903, 'learning_rate': 3.7838297872340427e-05, 'epoch': 9.23}\n"
     ]
    },
    {
     "name": "stderr",
     "output_type": "stream",
     "text": [
      " 37%|███▋      | 435/1175 [1:25:45<1:47:31,  8.72s/it]"
     ]
    },
    {
     "name": "stdout",
     "output_type": "stream",
     "text": [
      "{'loss': 0.2573, 'learning_rate': 3.7787234042553196e-05, 'epoch': 9.26}\n"
     ]
    },
    {
     "name": "stderr",
     "output_type": "stream",
     "text": [
      " 37%|███▋      | 436/1175 [1:25:54<1:47:48,  8.75s/it]"
     ]
    },
    {
     "name": "stdout",
     "output_type": "stream",
     "text": [
      "{'loss': 0.3513, 'learning_rate': 3.773617021276596e-05, 'epoch': 9.28}\n"
     ]
    },
    {
     "name": "stderr",
     "output_type": "stream",
     "text": [
      " 37%|███▋      | 437/1175 [1:26:03<1:47:43,  8.76s/it]"
     ]
    },
    {
     "name": "stdout",
     "output_type": "stream",
     "text": [
      "{'loss': 0.2104, 'learning_rate': 3.768510638297873e-05, 'epoch': 9.3}\n"
     ]
    },
    {
     "name": "stderr",
     "output_type": "stream",
     "text": [
      " 37%|███▋      | 438/1175 [1:26:12<1:47:44,  8.77s/it]"
     ]
    },
    {
     "name": "stdout",
     "output_type": "stream",
     "text": [
      "{'loss': 0.2564, 'learning_rate': 3.763404255319149e-05, 'epoch': 9.32}\n"
     ]
    },
    {
     "name": "stderr",
     "output_type": "stream",
     "text": [
      " 37%|███▋      | 439/1175 [1:26:20<1:47:36,  8.77s/it]"
     ]
    },
    {
     "name": "stdout",
     "output_type": "stream",
     "text": [
      "{'loss': 0.1861, 'learning_rate': 3.7582978723404256e-05, 'epoch': 9.34}\n"
     ]
    },
    {
     "name": "stderr",
     "output_type": "stream",
     "text": [
      " 37%|███▋      | 440/1175 [1:26:29<1:47:05,  8.74s/it]"
     ]
    },
    {
     "name": "stdout",
     "output_type": "stream",
     "text": [
      "{'loss': 0.2358, 'learning_rate': 3.7531914893617026e-05, 'epoch': 9.36}\n"
     ]
    },
    {
     "name": "stderr",
     "output_type": "stream",
     "text": [
      " 38%|███▊      | 441/1175 [1:26:38<1:47:06,  8.76s/it]"
     ]
    },
    {
     "name": "stdout",
     "output_type": "stream",
     "text": [
      "{'loss': 0.2636, 'learning_rate': 3.748085106382979e-05, 'epoch': 9.38}\n"
     ]
    },
    {
     "name": "stderr",
     "output_type": "stream",
     "text": [
      " 38%|███▊      | 442/1175 [1:26:47<1:47:02,  8.76s/it]"
     ]
    },
    {
     "name": "stdout",
     "output_type": "stream",
     "text": [
      "{'loss': 0.2589, 'learning_rate': 3.742978723404256e-05, 'epoch': 9.4}\n"
     ]
    },
    {
     "name": "stderr",
     "output_type": "stream",
     "text": [
      " 38%|███▊      | 443/1175 [1:26:55<1:46:48,  8.75s/it]"
     ]
    },
    {
     "name": "stdout",
     "output_type": "stream",
     "text": [
      "{'loss': 0.2635, 'learning_rate': 3.737872340425532e-05, 'epoch': 9.43}\n"
     ]
    },
    {
     "name": "stderr",
     "output_type": "stream",
     "text": [
      " 38%|███▊      | 444/1175 [1:27:04<1:46:36,  8.75s/it]"
     ]
    },
    {
     "name": "stdout",
     "output_type": "stream",
     "text": [
      "{'loss': 0.2602, 'learning_rate': 3.732765957446809e-05, 'epoch': 9.45}\n"
     ]
    },
    {
     "name": "stderr",
     "output_type": "stream",
     "text": [
      " 38%|███▊      | 445/1175 [1:27:13<1:46:31,  8.75s/it]"
     ]
    },
    {
     "name": "stdout",
     "output_type": "stream",
     "text": [
      "{'loss': 0.2581, 'learning_rate': 3.7276595744680855e-05, 'epoch': 9.47}\n"
     ]
    },
    {
     "name": "stderr",
     "output_type": "stream",
     "text": [
      " 38%|███▊      | 446/1175 [1:27:22<1:46:36,  8.77s/it]"
     ]
    },
    {
     "name": "stdout",
     "output_type": "stream",
     "text": [
      "{'loss': 0.3074, 'learning_rate': 3.722553191489362e-05, 'epoch': 9.49}\n"
     ]
    },
    {
     "name": "stderr",
     "output_type": "stream",
     "text": [
      " 38%|███▊      | 447/1175 [1:27:31<1:46:29,  8.78s/it]"
     ]
    },
    {
     "name": "stdout",
     "output_type": "stream",
     "text": [
      "{'loss': 0.1974, 'learning_rate': 3.717446808510639e-05, 'epoch': 9.51}\n"
     ]
    },
    {
     "name": "stderr",
     "output_type": "stream",
     "text": [
      " 38%|███▊      | 448/1175 [1:27:39<1:46:08,  8.76s/it]"
     ]
    },
    {
     "name": "stdout",
     "output_type": "stream",
     "text": [
      "{'loss': 0.2236, 'learning_rate': 3.712340425531915e-05, 'epoch': 9.53}\n"
     ]
    },
    {
     "name": "stderr",
     "output_type": "stream",
     "text": [
      " 38%|███▊      | 449/1175 [1:27:48<1:45:59,  8.76s/it]"
     ]
    },
    {
     "name": "stdout",
     "output_type": "stream",
     "text": [
      "{'loss': 0.209, 'learning_rate': 3.707234042553192e-05, 'epoch': 9.55}\n"
     ]
    },
    {
     "name": "stderr",
     "output_type": "stream",
     "text": [
      " 38%|███▊      | 450/1175 [1:27:57<1:45:57,  8.77s/it]"
     ]
    },
    {
     "name": "stdout",
     "output_type": "stream",
     "text": [
      "{'loss': 0.1763, 'learning_rate': 3.7021276595744684e-05, 'epoch': 9.57}\n"
     ]
    },
    {
     "name": "stderr",
     "output_type": "stream",
     "text": [
      " 38%|███▊      | 451/1175 [1:28:06<1:45:42,  8.76s/it]"
     ]
    },
    {
     "name": "stdout",
     "output_type": "stream",
     "text": [
      "{'loss': 0.1961, 'learning_rate': 3.697021276595745e-05, 'epoch': 9.6}\n"
     ]
    },
    {
     "name": "stderr",
     "output_type": "stream",
     "text": [
      " 38%|███▊      | 452/1175 [1:28:14<1:45:32,  8.76s/it]"
     ]
    },
    {
     "name": "stdout",
     "output_type": "stream",
     "text": [
      "{'loss': 0.3061, 'learning_rate': 3.691914893617022e-05, 'epoch': 9.62}\n"
     ]
    },
    {
     "name": "stderr",
     "output_type": "stream",
     "text": [
      " 39%|███▊      | 453/1175 [1:28:23<1:45:10,  8.74s/it]"
     ]
    },
    {
     "name": "stdout",
     "output_type": "stream",
     "text": [
      "{'loss': 0.4471, 'learning_rate': 3.686808510638298e-05, 'epoch': 9.64}\n"
     ]
    },
    {
     "name": "stderr",
     "output_type": "stream",
     "text": [
      " 39%|███▊      | 454/1175 [1:28:32<1:45:08,  8.75s/it]"
     ]
    },
    {
     "name": "stdout",
     "output_type": "stream",
     "text": [
      "{'loss': 0.2088, 'learning_rate': 3.681702127659575e-05, 'epoch': 9.66}\n"
     ]
    },
    {
     "name": "stderr",
     "output_type": "stream",
     "text": [
      " 39%|███▊      | 455/1175 [1:28:41<1:45:20,  8.78s/it]"
     ]
    },
    {
     "name": "stdout",
     "output_type": "stream",
     "text": [
      "{'loss': 0.1902, 'learning_rate': 3.676595744680851e-05, 'epoch': 9.68}\n"
     ]
    },
    {
     "name": "stderr",
     "output_type": "stream",
     "text": [
      " 39%|███▉      | 456/1175 [1:28:49<1:45:03,  8.77s/it]"
     ]
    },
    {
     "name": "stdout",
     "output_type": "stream",
     "text": [
      "{'loss': 0.2322, 'learning_rate': 3.6714893617021276e-05, 'epoch': 9.7}\n"
     ]
    },
    {
     "name": "stderr",
     "output_type": "stream",
     "text": [
      " 39%|███▉      | 457/1175 [1:28:58<1:44:49,  8.76s/it]"
     ]
    },
    {
     "name": "stdout",
     "output_type": "stream",
     "text": [
      "{'loss': 0.2131, 'learning_rate': 3.6663829787234046e-05, 'epoch': 9.72}\n"
     ]
    },
    {
     "name": "stderr",
     "output_type": "stream",
     "text": [
      " 39%|███▉      | 458/1175 [1:29:07<1:44:40,  8.76s/it]"
     ]
    },
    {
     "name": "stdout",
     "output_type": "stream",
     "text": [
      "{'loss': 0.2698, 'learning_rate': 3.661276595744681e-05, 'epoch': 9.74}\n"
     ]
    },
    {
     "name": "stderr",
     "output_type": "stream",
     "text": [
      " 39%|███▉      | 459/1175 [1:29:16<1:44:29,  8.76s/it]"
     ]
    },
    {
     "name": "stdout",
     "output_type": "stream",
     "text": [
      "{'loss': 0.2551, 'learning_rate': 3.656170212765958e-05, 'epoch': 9.77}\n"
     ]
    },
    {
     "name": "stderr",
     "output_type": "stream",
     "text": [
      " 39%|███▉      | 460/1175 [1:29:24<1:44:14,  8.75s/it]"
     ]
    },
    {
     "name": "stdout",
     "output_type": "stream",
     "text": [
      "{'loss': 0.2365, 'learning_rate': 3.651063829787234e-05, 'epoch': 9.79}\n"
     ]
    },
    {
     "name": "stderr",
     "output_type": "stream",
     "text": [
      " 39%|███▉      | 461/1175 [1:29:33<1:44:11,  8.75s/it]"
     ]
    },
    {
     "name": "stdout",
     "output_type": "stream",
     "text": [
      "{'loss': 0.383, 'learning_rate': 3.645957446808511e-05, 'epoch': 9.81}\n"
     ]
    },
    {
     "name": "stderr",
     "output_type": "stream",
     "text": [
      " 39%|███▉      | 462/1175 [1:29:42<1:44:02,  8.76s/it]"
     ]
    },
    {
     "name": "stdout",
     "output_type": "stream",
     "text": [
      "{'loss': 0.3787, 'learning_rate': 3.6408510638297876e-05, 'epoch': 9.83}\n"
     ]
    },
    {
     "name": "stderr",
     "output_type": "stream",
     "text": [
      " 39%|███▉      | 463/1175 [1:29:51<1:43:46,  8.75s/it]"
     ]
    },
    {
     "name": "stdout",
     "output_type": "stream",
     "text": [
      "{'loss': 0.25, 'learning_rate': 3.635744680851064e-05, 'epoch': 9.85}\n"
     ]
    },
    {
     "name": "stderr",
     "output_type": "stream",
     "text": [
      " 39%|███▉      | 464/1175 [1:29:59<1:43:52,  8.77s/it]"
     ]
    },
    {
     "name": "stdout",
     "output_type": "stream",
     "text": [
      "{'loss': 0.2208, 'learning_rate': 3.630638297872341e-05, 'epoch': 9.87}\n"
     ]
    },
    {
     "name": "stderr",
     "output_type": "stream",
     "text": [
      " 40%|███▉      | 465/1175 [1:30:08<1:43:33,  8.75s/it]"
     ]
    },
    {
     "name": "stdout",
     "output_type": "stream",
     "text": [
      "{'loss': 0.3073, 'learning_rate': 3.625531914893617e-05, 'epoch': 9.89}\n"
     ]
    },
    {
     "name": "stderr",
     "output_type": "stream",
     "text": [
      " 40%|███▉      | 466/1175 [1:30:17<1:43:17,  8.74s/it]"
     ]
    },
    {
     "name": "stdout",
     "output_type": "stream",
     "text": [
      "{'loss': 0.4498, 'learning_rate': 3.620425531914894e-05, 'epoch': 9.91}\n"
     ]
    },
    {
     "name": "stderr",
     "output_type": "stream",
     "text": [
      " 40%|███▉      | 467/1175 [1:30:26<1:43:19,  8.76s/it]"
     ]
    },
    {
     "name": "stdout",
     "output_type": "stream",
     "text": [
      "{'loss': 0.167, 'learning_rate': 3.6153191489361705e-05, 'epoch': 9.94}\n"
     ]
    },
    {
     "name": "stderr",
     "output_type": "stream",
     "text": [
      " 40%|███▉      | 468/1175 [1:30:34<1:43:07,  8.75s/it]"
     ]
    },
    {
     "name": "stdout",
     "output_type": "stream",
     "text": [
      "{'loss': 0.2136, 'learning_rate': 3.610212765957447e-05, 'epoch': 9.96}\n"
     ]
    },
    {
     "name": "stderr",
     "output_type": "stream",
     "text": [
      " 40%|███▉      | 469/1175 [1:30:43<1:41:33,  8.63s/it]"
     ]
    },
    {
     "name": "stdout",
     "output_type": "stream",
     "text": [
      "{'loss': 0.2222, 'learning_rate': 3.605106382978724e-05, 'epoch': 9.98}\n"
     ]
    },
    {
     "name": "stderr",
     "output_type": "stream",
     "text": [
      " 40%|████      | 470/1175 [1:30:48<1:29:09,  7.59s/it]"
     ]
    },
    {
     "name": "stdout",
     "output_type": "stream",
     "text": [
      "{'loss': 0.4017, 'learning_rate': 3.6e-05, 'epoch': 10.0}\n"
     ]
    },
    {
     "name": "stderr",
     "output_type": "stream",
     "text": [
      " 40%|████      | 471/1175 [1:30:58<1:38:14,  8.37s/it]"
     ]
    },
    {
     "name": "stdout",
     "output_type": "stream",
     "text": [
      "{'loss': 0.2472, 'learning_rate': 3.594893617021277e-05, 'epoch': 10.02}\n"
     ]
    },
    {
     "name": "stderr",
     "output_type": "stream",
     "text": [
      " 40%|████      | 472/1175 [1:31:07<1:39:28,  8.49s/it]"
     ]
    },
    {
     "name": "stdout",
     "output_type": "stream",
     "text": [
      "{'loss': 0.1751, 'learning_rate': 3.5897872340425534e-05, 'epoch': 10.04}\n"
     ]
    },
    {
     "name": "stderr",
     "output_type": "stream",
     "text": [
      " 40%|████      | 473/1175 [1:31:16<1:40:27,  8.59s/it]"
     ]
    },
    {
     "name": "stdout",
     "output_type": "stream",
     "text": [
      "{'loss': 0.3343, 'learning_rate': 3.58468085106383e-05, 'epoch': 10.06}\n"
     ]
    },
    {
     "name": "stderr",
     "output_type": "stream",
     "text": [
      " 40%|████      | 474/1175 [1:31:24<1:40:46,  8.63s/it]"
     ]
    },
    {
     "name": "stdout",
     "output_type": "stream",
     "text": [
      "{'loss': 0.3464, 'learning_rate': 3.579574468085107e-05, 'epoch': 10.09}\n"
     ]
    },
    {
     "name": "stderr",
     "output_type": "stream",
     "text": [
      " 40%|████      | 475/1175 [1:31:33<1:41:10,  8.67s/it]"
     ]
    },
    {
     "name": "stdout",
     "output_type": "stream",
     "text": [
      "{'loss': 0.472, 'learning_rate': 3.574468085106383e-05, 'epoch': 10.11}\n"
     ]
    },
    {
     "name": "stderr",
     "output_type": "stream",
     "text": [
      " 41%|████      | 476/1175 [1:31:42<1:41:12,  8.69s/it]"
     ]
    },
    {
     "name": "stdout",
     "output_type": "stream",
     "text": [
      "{'loss': 0.2357, 'learning_rate': 3.56936170212766e-05, 'epoch': 10.13}\n"
     ]
    },
    {
     "name": "stderr",
     "output_type": "stream",
     "text": [
      " 41%|████      | 477/1175 [1:31:51<1:41:26,  8.72s/it]"
     ]
    },
    {
     "name": "stdout",
     "output_type": "stream",
     "text": [
      "{'loss': 0.664, 'learning_rate': 3.564255319148936e-05, 'epoch': 10.15}\n"
     ]
    },
    {
     "name": "stderr",
     "output_type": "stream",
     "text": [
      " 41%|████      | 478/1175 [1:31:59<1:41:07,  8.71s/it]"
     ]
    },
    {
     "name": "stdout",
     "output_type": "stream",
     "text": [
      "{'loss': 0.2565, 'learning_rate': 3.5591489361702126e-05, 'epoch': 10.17}\n"
     ]
    },
    {
     "name": "stderr",
     "output_type": "stream",
     "text": [
      " 41%|████      | 479/1175 [1:32:08<1:41:12,  8.72s/it]"
     ]
    },
    {
     "name": "stdout",
     "output_type": "stream",
     "text": [
      "{'loss': 0.2005, 'learning_rate': 3.5540425531914896e-05, 'epoch': 10.19}\n"
     ]
    },
    {
     "name": "stderr",
     "output_type": "stream",
     "text": [
      " 41%|████      | 480/1175 [1:32:17<1:41:09,  8.73s/it]"
     ]
    },
    {
     "name": "stdout",
     "output_type": "stream",
     "text": [
      "{'loss': 0.1973, 'learning_rate': 3.548936170212766e-05, 'epoch': 10.21}\n"
     ]
    },
    {
     "name": "stderr",
     "output_type": "stream",
     "text": [
      " 41%|████      | 481/1175 [1:32:26<1:41:26,  8.77s/it]"
     ]
    },
    {
     "name": "stdout",
     "output_type": "stream",
     "text": [
      "{'loss': 0.1759, 'learning_rate': 3.543829787234043e-05, 'epoch': 10.23}\n"
     ]
    },
    {
     "name": "stderr",
     "output_type": "stream",
     "text": [
      " 41%|████      | 482/1175 [1:32:35<1:41:29,  8.79s/it]"
     ]
    },
    {
     "name": "stdout",
     "output_type": "stream",
     "text": [
      "{'loss': 0.3474, 'learning_rate': 3.538723404255319e-05, 'epoch': 10.26}\n"
     ]
    },
    {
     "name": "stderr",
     "output_type": "stream",
     "text": [
      " 41%|████      | 483/1175 [1:32:43<1:41:12,  8.78s/it]"
     ]
    },
    {
     "name": "stdout",
     "output_type": "stream",
     "text": [
      "{'loss': 0.1967, 'learning_rate': 3.533617021276596e-05, 'epoch': 10.28}\n"
     ]
    },
    {
     "name": "stderr",
     "output_type": "stream",
     "text": [
      " 41%|████      | 484/1175 [1:32:52<1:41:04,  8.78s/it]"
     ]
    },
    {
     "name": "stdout",
     "output_type": "stream",
     "text": [
      "{'loss': 0.2485, 'learning_rate': 3.5285106382978725e-05, 'epoch': 10.3}\n"
     ]
    },
    {
     "name": "stderr",
     "output_type": "stream",
     "text": [
      " 41%|████▏     | 485/1175 [1:33:01<1:40:42,  8.76s/it]"
     ]
    },
    {
     "name": "stdout",
     "output_type": "stream",
     "text": [
      "{'loss': 0.5498, 'learning_rate': 3.523404255319149e-05, 'epoch': 10.32}\n"
     ]
    },
    {
     "name": "stderr",
     "output_type": "stream",
     "text": [
      " 41%|████▏     | 486/1175 [1:33:10<1:40:37,  8.76s/it]"
     ]
    },
    {
     "name": "stdout",
     "output_type": "stream",
     "text": [
      "{'loss': 0.2899, 'learning_rate': 3.518297872340426e-05, 'epoch': 10.34}\n"
     ]
    },
    {
     "name": "stderr",
     "output_type": "stream",
     "text": [
      " 41%|████▏     | 487/1175 [1:33:18<1:40:20,  8.75s/it]"
     ]
    },
    {
     "name": "stdout",
     "output_type": "stream",
     "text": [
      "{'loss': 0.1901, 'learning_rate': 3.513191489361702e-05, 'epoch': 10.36}\n"
     ]
    },
    {
     "name": "stderr",
     "output_type": "stream",
     "text": [
      " 42%|████▏     | 488/1175 [1:33:27<1:40:15,  8.76s/it]"
     ]
    },
    {
     "name": "stdout",
     "output_type": "stream",
     "text": [
      "{'loss': 0.2396, 'learning_rate': 3.508085106382979e-05, 'epoch': 10.38}\n"
     ]
    },
    {
     "name": "stderr",
     "output_type": "stream",
     "text": [
      " 42%|████▏     | 489/1175 [1:33:36<1:40:15,  8.77s/it]"
     ]
    },
    {
     "name": "stdout",
     "output_type": "stream",
     "text": [
      "{'loss': 0.195, 'learning_rate': 3.5029787234042555e-05, 'epoch': 10.4}\n"
     ]
    },
    {
     "name": "stderr",
     "output_type": "stream",
     "text": [
      " 42%|████▏     | 490/1175 [1:33:45<1:40:00,  8.76s/it]"
     ]
    },
    {
     "name": "stdout",
     "output_type": "stream",
     "text": [
      "{'loss': 0.3846, 'learning_rate': 3.497872340425532e-05, 'epoch': 10.43}\n"
     ]
    },
    {
     "name": "stderr",
     "output_type": "stream",
     "text": [
      " 42%|████▏     | 491/1175 [1:33:53<1:39:58,  8.77s/it]"
     ]
    },
    {
     "name": "stdout",
     "output_type": "stream",
     "text": [
      "{'loss': 0.5594, 'learning_rate': 3.492765957446809e-05, 'epoch': 10.45}\n"
     ]
    },
    {
     "name": "stderr",
     "output_type": "stream",
     "text": [
      " 42%|████▏     | 492/1175 [1:34:02<1:39:45,  8.76s/it]"
     ]
    },
    {
     "name": "stdout",
     "output_type": "stream",
     "text": [
      "{'loss': 0.2038, 'learning_rate': 3.487659574468085e-05, 'epoch': 10.47}\n"
     ]
    },
    {
     "name": "stderr",
     "output_type": "stream",
     "text": [
      " 42%|████▏     | 493/1175 [1:34:11<1:39:33,  8.76s/it]"
     ]
    },
    {
     "name": "stdout",
     "output_type": "stream",
     "text": [
      "{'loss': 0.2136, 'learning_rate': 3.482553191489362e-05, 'epoch': 10.49}\n"
     ]
    },
    {
     "name": "stderr",
     "output_type": "stream",
     "text": [
      " 42%|████▏     | 494/1175 [1:34:20<1:39:24,  8.76s/it]"
     ]
    },
    {
     "name": "stdout",
     "output_type": "stream",
     "text": [
      "{'loss': 0.1846, 'learning_rate': 3.4774468085106384e-05, 'epoch': 10.51}\n"
     ]
    },
    {
     "name": "stderr",
     "output_type": "stream",
     "text": [
      " 42%|████▏     | 495/1175 [1:34:28<1:39:17,  8.76s/it]"
     ]
    },
    {
     "name": "stdout",
     "output_type": "stream",
     "text": [
      "{'loss': 0.2459, 'learning_rate': 3.472340425531915e-05, 'epoch': 10.53}\n"
     ]
    },
    {
     "name": "stderr",
     "output_type": "stream",
     "text": [
      " 42%|████▏     | 496/1175 [1:34:37<1:39:00,  8.75s/it]"
     ]
    },
    {
     "name": "stdout",
     "output_type": "stream",
     "text": [
      "{'loss': 0.2052, 'learning_rate': 3.467234042553192e-05, 'epoch': 10.55}\n"
     ]
    },
    {
     "name": "stderr",
     "output_type": "stream",
     "text": [
      " 42%|████▏     | 497/1175 [1:34:46<1:39:05,  8.77s/it]"
     ]
    },
    {
     "name": "stdout",
     "output_type": "stream",
     "text": [
      "{'loss': 0.2022, 'learning_rate': 3.462127659574468e-05, 'epoch': 10.57}\n"
     ]
    },
    {
     "name": "stderr",
     "output_type": "stream",
     "text": [
      " 42%|████▏     | 498/1175 [1:34:55<1:38:56,  8.77s/it]"
     ]
    },
    {
     "name": "stdout",
     "output_type": "stream",
     "text": [
      "{'loss': 0.2089, 'learning_rate': 3.457021276595745e-05, 'epoch': 10.6}\n"
     ]
    },
    {
     "name": "stderr",
     "output_type": "stream",
     "text": [
      " 42%|████▏     | 499/1175 [1:35:03<1:38:46,  8.77s/it]"
     ]
    },
    {
     "name": "stdout",
     "output_type": "stream",
     "text": [
      "{'loss': 0.3677, 'learning_rate': 3.451914893617021e-05, 'epoch': 10.62}\n"
     ]
    },
    {
     "name": "stderr",
     "output_type": "stream",
     "text": [
      " 43%|████▎     | 500/1175 [1:35:12<1:38:31,  8.76s/it]"
     ]
    },
    {
     "name": "stdout",
     "output_type": "stream",
     "text": [
      "{'loss': 0.1933, 'learning_rate': 3.446808510638298e-05, 'epoch': 10.64}\n"
     ]
    },
    {
     "name": "stderr",
     "output_type": "stream",
     "text": [
      "                                                      \n",
      " 43%|████▎     | 500/1175 [1:40:51<1:38:31,  8.76s/it]"
     ]
    },
    {
     "name": "stdout",
     "output_type": "stream",
     "text": [
      "{'eval_loss': 0.14846335351467133, 'eval_mean_iou': 0.19247770981084042, 'eval_mean_accuracy': 0.23576975005959067, 'eval_overall_accuracy': 0.9872024141508957, 'eval_per_category_iou': [0.0, 0.9910374318961996, 0.5141990648399437, 0.0, 0.0, 0.0, 0.0, 0.0, 0.2608566914113371, 0.6627074314865883, 0.07340960790685687, 0.0, 0.0], 'eval_per_category_accuracy': [0.0, 0.9981523662312413, 0.8693813382167476, 0.0, 0.0, 0.0, 0.0, 0.0, 0.3556472500580533, 0.7598029585864614, 0.0820228376821756, 0.0, 0.0], 'eval_runtime': 338.443, 'eval_samples_per_second': 0.685, 'eval_steps_per_second': 0.071, 'epoch': 10.64}\n"
     ]
    },
    {
     "name": "stderr",
     "output_type": "stream",
     "text": [
      " 43%|████▎     | 501/1175 [1:41:00<20:41:00, 110.48s/it]"
     ]
    },
    {
     "name": "stdout",
     "output_type": "stream",
     "text": [
      "{'loss': 0.2016, 'learning_rate': 3.4417021276595746e-05, 'epoch': 10.66}\n"
     ]
    },
    {
     "name": "stderr",
     "output_type": "stream",
     "text": [
      " 43%|████▎     | 502/1175 [1:41:09<14:57:03, 79.98s/it] "
     ]
    },
    {
     "name": "stdout",
     "output_type": "stream",
     "text": [
      "{'loss': 0.1825, 'learning_rate': 3.436595744680851e-05, 'epoch': 10.68}\n"
     ]
    },
    {
     "name": "stderr",
     "output_type": "stream",
     "text": [
      " 43%|████▎     | 503/1175 [1:41:18<10:56:20, 58.60s/it]"
     ]
    },
    {
     "name": "stdout",
     "output_type": "stream",
     "text": [
      "{'loss': 0.1992, 'learning_rate': 3.431489361702128e-05, 'epoch': 10.7}\n"
     ]
    },
    {
     "name": "stderr",
     "output_type": "stream",
     "text": [
      " 43%|████▎     | 504/1175 [1:41:26<8:08:03, 43.64s/it] "
     ]
    },
    {
     "name": "stdout",
     "output_type": "stream",
     "text": [
      "{'loss': 0.282, 'learning_rate': 3.426382978723404e-05, 'epoch': 10.72}\n"
     ]
    },
    {
     "name": "stderr",
     "output_type": "stream",
     "text": [
      " 43%|████▎     | 505/1175 [1:41:35<6:10:27, 33.18s/it]"
     ]
    },
    {
     "name": "stdout",
     "output_type": "stream",
     "text": [
      "{'loss': 0.1783, 'learning_rate': 3.421276595744681e-05, 'epoch': 10.74}\n"
     ]
    },
    {
     "name": "stderr",
     "output_type": "stream",
     "text": [
      " 43%|████▎     | 506/1175 [1:41:44<4:48:13, 25.85s/it]"
     ]
    },
    {
     "name": "stdout",
     "output_type": "stream",
     "text": [
      "{'loss': 0.2189, 'learning_rate': 3.4161702127659575e-05, 'epoch': 10.77}\n"
     ]
    },
    {
     "name": "stderr",
     "output_type": "stream",
     "text": [
      " 43%|████▎     | 507/1175 [1:41:53<3:50:54, 20.74s/it]"
     ]
    },
    {
     "name": "stdout",
     "output_type": "stream",
     "text": [
      "{'loss': 0.1598, 'learning_rate': 3.411063829787234e-05, 'epoch': 10.79}\n"
     ]
    },
    {
     "name": "stderr",
     "output_type": "stream",
     "text": [
      " 43%|████▎     | 508/1175 [1:42:01<3:10:36, 17.15s/it]"
     ]
    },
    {
     "name": "stdout",
     "output_type": "stream",
     "text": [
      "{'loss': 0.2767, 'learning_rate': 3.405957446808511e-05, 'epoch': 10.81}\n"
     ]
    },
    {
     "name": "stderr",
     "output_type": "stream",
     "text": [
      " 43%|████▎     | 509/1175 [1:42:10<2:42:32, 14.64s/it]"
     ]
    },
    {
     "name": "stdout",
     "output_type": "stream",
     "text": [
      "{'loss': 0.2027, 'learning_rate': 3.400851063829787e-05, 'epoch': 10.83}\n"
     ]
    },
    {
     "name": "stderr",
     "output_type": "stream",
     "text": [
      " 43%|████▎     | 510/1175 [1:42:19<2:22:51, 12.89s/it]"
     ]
    },
    {
     "name": "stdout",
     "output_type": "stream",
     "text": [
      "{'loss': 0.1862, 'learning_rate': 3.395744680851064e-05, 'epoch': 10.85}\n"
     ]
    },
    {
     "name": "stderr",
     "output_type": "stream",
     "text": [
      " 43%|████▎     | 511/1175 [1:42:28<2:08:51, 11.64s/it]"
     ]
    },
    {
     "name": "stdout",
     "output_type": "stream",
     "text": [
      "{'loss': 0.1951, 'learning_rate': 3.3906382978723404e-05, 'epoch': 10.87}\n"
     ]
    },
    {
     "name": "stderr",
     "output_type": "stream",
     "text": [
      " 44%|████▎     | 512/1175 [1:42:36<1:59:03, 10.77s/it]"
     ]
    },
    {
     "name": "stdout",
     "output_type": "stream",
     "text": [
      "{'loss': 0.1514, 'learning_rate': 3.385531914893617e-05, 'epoch': 10.89}\n"
     ]
    },
    {
     "name": "stderr",
     "output_type": "stream",
     "text": [
      " 44%|████▎     | 513/1175 [1:42:45<1:52:14, 10.17s/it]"
     ]
    },
    {
     "name": "stdout",
     "output_type": "stream",
     "text": [
      "{'loss': 0.1818, 'learning_rate': 3.380425531914894e-05, 'epoch': 10.91}\n"
     ]
    },
    {
     "name": "stderr",
     "output_type": "stream",
     "text": [
      " 44%|████▎     | 514/1175 [1:42:54<1:47:24,  9.75s/it]"
     ]
    },
    {
     "name": "stdout",
     "output_type": "stream",
     "text": [
      "{'loss': 0.202, 'learning_rate': 3.37531914893617e-05, 'epoch': 10.94}\n"
     ]
    },
    {
     "name": "stderr",
     "output_type": "stream",
     "text": [
      " 44%|████▍     | 515/1175 [1:43:03<1:44:22,  9.49s/it]"
     ]
    },
    {
     "name": "stdout",
     "output_type": "stream",
     "text": [
      "{'loss': 0.1772, 'learning_rate': 3.370212765957447e-05, 'epoch': 10.96}\n"
     ]
    },
    {
     "name": "stderr",
     "output_type": "stream",
     "text": [
      " 44%|████▍     | 516/1175 [1:43:11<1:40:34,  9.16s/it]"
     ]
    },
    {
     "name": "stdout",
     "output_type": "stream",
     "text": [
      "{'loss': 0.1753, 'learning_rate': 3.3651063829787234e-05, 'epoch': 10.98}\n"
     ]
    },
    {
     "name": "stderr",
     "output_type": "stream",
     "text": [
      " 44%|████▍     | 517/1175 [1:43:16<1:27:12,  7.95s/it]"
     ]
    },
    {
     "name": "stdout",
     "output_type": "stream",
     "text": [
      "{'loss': 0.2017, 'learning_rate': 3.3600000000000004e-05, 'epoch': 11.0}\n"
     ]
    },
    {
     "name": "stderr",
     "output_type": "stream",
     "text": [
      " 44%|████▍     | 518/1175 [1:43:27<1:34:21,  8.62s/it]"
     ]
    },
    {
     "name": "stdout",
     "output_type": "stream",
     "text": [
      "{'loss': 0.2057, 'learning_rate': 3.354893617021277e-05, 'epoch': 11.02}\n"
     ]
    },
    {
     "name": "stderr",
     "output_type": "stream",
     "text": [
      " 44%|████▍     | 519/1175 [1:43:35<1:34:43,  8.66s/it]"
     ]
    },
    {
     "name": "stdout",
     "output_type": "stream",
     "text": [
      "{'loss': 0.4105, 'learning_rate': 3.349787234042553e-05, 'epoch': 11.04}\n"
     ]
    },
    {
     "name": "stderr",
     "output_type": "stream",
     "text": [
      " 44%|████▍     | 520/1175 [1:43:44<1:34:54,  8.69s/it]"
     ]
    },
    {
     "name": "stdout",
     "output_type": "stream",
     "text": [
      "{'loss': 0.2173, 'learning_rate': 3.34468085106383e-05, 'epoch': 11.06}\n"
     ]
    },
    {
     "name": "stderr",
     "output_type": "stream",
     "text": [
      " 44%|████▍     | 521/1175 [1:43:53<1:34:58,  8.71s/it]"
     ]
    },
    {
     "name": "stdout",
     "output_type": "stream",
     "text": [
      "{'loss': 0.277, 'learning_rate': 3.339574468085106e-05, 'epoch': 11.09}\n"
     ]
    },
    {
     "name": "stderr",
     "output_type": "stream",
     "text": [
      " 44%|████▍     | 522/1175 [1:44:02<1:34:49,  8.71s/it]"
     ]
    },
    {
     "name": "stdout",
     "output_type": "stream",
     "text": [
      "{'loss': 0.1778, 'learning_rate': 3.334468085106383e-05, 'epoch': 11.11}\n"
     ]
    },
    {
     "name": "stderr",
     "output_type": "stream",
     "text": [
      " 45%|████▍     | 523/1175 [1:44:10<1:34:53,  8.73s/it]"
     ]
    },
    {
     "name": "stdout",
     "output_type": "stream",
     "text": [
      "{'loss': 0.1913, 'learning_rate': 3.3293617021276596e-05, 'epoch': 11.13}\n"
     ]
    },
    {
     "name": "stderr",
     "output_type": "stream",
     "text": [
      " 45%|████▍     | 524/1175 [1:44:19<1:34:50,  8.74s/it]"
     ]
    },
    {
     "name": "stdout",
     "output_type": "stream",
     "text": [
      "{'loss': 0.2345, 'learning_rate': 3.324255319148936e-05, 'epoch': 11.15}\n"
     ]
    },
    {
     "name": "stderr",
     "output_type": "stream",
     "text": [
      " 45%|████▍     | 525/1175 [1:44:28<1:34:40,  8.74s/it]"
     ]
    },
    {
     "name": "stdout",
     "output_type": "stream",
     "text": [
      "{'loss': 0.1822, 'learning_rate': 3.319148936170213e-05, 'epoch': 11.17}\n"
     ]
    },
    {
     "name": "stderr",
     "output_type": "stream",
     "text": [
      " 45%|████▍     | 526/1175 [1:44:36<1:34:16,  8.72s/it]"
     ]
    },
    {
     "name": "stdout",
     "output_type": "stream",
     "text": [
      "{'loss': 0.3042, 'learning_rate': 3.314042553191489e-05, 'epoch': 11.19}\n"
     ]
    },
    {
     "name": "stderr",
     "output_type": "stream",
     "text": [
      " 45%|████▍     | 527/1175 [1:44:45<1:34:21,  8.74s/it]"
     ]
    },
    {
     "name": "stdout",
     "output_type": "stream",
     "text": [
      "{'loss': 0.1612, 'learning_rate': 3.308936170212766e-05, 'epoch': 11.21}\n"
     ]
    },
    {
     "name": "stderr",
     "output_type": "stream",
     "text": [
      " 45%|████▍     | 528/1175 [1:44:54<1:34:13,  8.74s/it]"
     ]
    },
    {
     "name": "stdout",
     "output_type": "stream",
     "text": [
      "{'loss': 0.3967, 'learning_rate': 3.3038297872340425e-05, 'epoch': 11.23}\n"
     ]
    },
    {
     "name": "stderr",
     "output_type": "stream",
     "text": [
      " 45%|████▌     | 529/1175 [1:45:03<1:34:06,  8.74s/it]"
     ]
    },
    {
     "name": "stdout",
     "output_type": "stream",
     "text": [
      "{'loss': 0.2071, 'learning_rate': 3.298723404255319e-05, 'epoch': 11.26}\n"
     ]
    },
    {
     "name": "stderr",
     "output_type": "stream",
     "text": [
      " 45%|████▌     | 530/1175 [1:45:12<1:34:13,  8.76s/it]"
     ]
    },
    {
     "name": "stdout",
     "output_type": "stream",
     "text": [
      "{'loss': 0.1257, 'learning_rate': 3.293617021276596e-05, 'epoch': 11.28}\n"
     ]
    },
    {
     "name": "stderr",
     "output_type": "stream",
     "text": [
      " 45%|████▌     | 531/1175 [1:45:20<1:34:00,  8.76s/it]"
     ]
    },
    {
     "name": "stdout",
     "output_type": "stream",
     "text": [
      "{'loss': 0.3361, 'learning_rate': 3.288510638297872e-05, 'epoch': 11.3}\n"
     ]
    },
    {
     "name": "stderr",
     "output_type": "stream",
     "text": [
      " 45%|████▌     | 532/1175 [1:45:29<1:33:47,  8.75s/it]"
     ]
    },
    {
     "name": "stdout",
     "output_type": "stream",
     "text": [
      "{'loss': 0.2046, 'learning_rate': 3.283404255319149e-05, 'epoch': 11.32}\n"
     ]
    },
    {
     "name": "stderr",
     "output_type": "stream",
     "text": [
      " 45%|████▌     | 533/1175 [1:45:38<1:33:45,  8.76s/it]"
     ]
    },
    {
     "name": "stdout",
     "output_type": "stream",
     "text": [
      "{'loss': 0.1513, 'learning_rate': 3.2782978723404254e-05, 'epoch': 11.34}\n"
     ]
    },
    {
     "name": "stderr",
     "output_type": "stream",
     "text": [
      " 45%|████▌     | 534/1175 [1:45:47<1:33:33,  8.76s/it]"
     ]
    },
    {
     "name": "stdout",
     "output_type": "stream",
     "text": [
      "{'loss': 0.2443, 'learning_rate': 3.2731914893617024e-05, 'epoch': 11.36}\n"
     ]
    },
    {
     "name": "stderr",
     "output_type": "stream",
     "text": [
      " 46%|████▌     | 535/1175 [1:45:55<1:33:26,  8.76s/it]"
     ]
    },
    {
     "name": "stdout",
     "output_type": "stream",
     "text": [
      "{'loss': 0.1685, 'learning_rate': 3.268085106382979e-05, 'epoch': 11.38}\n"
     ]
    },
    {
     "name": "stderr",
     "output_type": "stream",
     "text": [
      " 46%|████▌     | 536/1175 [1:46:04<1:33:29,  8.78s/it]"
     ]
    },
    {
     "name": "stdout",
     "output_type": "stream",
     "text": [
      "{'loss': 0.1234, 'learning_rate': 3.262978723404255e-05, 'epoch': 11.4}\n"
     ]
    },
    {
     "name": "stderr",
     "output_type": "stream",
     "text": [
      " 46%|████▌     | 537/1175 [1:46:13<1:33:24,  8.79s/it]"
     ]
    },
    {
     "name": "stdout",
     "output_type": "stream",
     "text": [
      "{'loss': 0.1441, 'learning_rate': 3.257872340425532e-05, 'epoch': 11.43}\n"
     ]
    },
    {
     "name": "stderr",
     "output_type": "stream",
     "text": [
      " 46%|████▌     | 538/1175 [1:46:22<1:33:09,  8.77s/it]"
     ]
    },
    {
     "name": "stdout",
     "output_type": "stream",
     "text": [
      "{'loss': 0.1189, 'learning_rate': 3.2527659574468084e-05, 'epoch': 11.45}\n"
     ]
    },
    {
     "name": "stderr",
     "output_type": "stream",
     "text": [
      " 46%|████▌     | 539/1175 [1:46:31<1:33:00,  8.77s/it]"
     ]
    },
    {
     "name": "stdout",
     "output_type": "stream",
     "text": [
      "{'loss': 0.1633, 'learning_rate': 3.2476595744680853e-05, 'epoch': 11.47}\n"
     ]
    },
    {
     "name": "stderr",
     "output_type": "stream",
     "text": [
      " 46%|████▌     | 540/1175 [1:46:39<1:32:43,  8.76s/it]"
     ]
    },
    {
     "name": "stdout",
     "output_type": "stream",
     "text": [
      "{'loss': 0.1658, 'learning_rate': 3.2425531914893617e-05, 'epoch': 11.49}\n"
     ]
    },
    {
     "name": "stderr",
     "output_type": "stream",
     "text": [
      " 46%|████▌     | 541/1175 [1:46:48<1:32:45,  8.78s/it]"
     ]
    },
    {
     "name": "stdout",
     "output_type": "stream",
     "text": [
      "{'loss': 0.1739, 'learning_rate': 3.237446808510638e-05, 'epoch': 11.51}\n"
     ]
    },
    {
     "name": "stderr",
     "output_type": "stream",
     "text": [
      " 46%|████▌     | 542/1175 [1:46:57<1:32:29,  8.77s/it]"
     ]
    },
    {
     "name": "stdout",
     "output_type": "stream",
     "text": [
      "{'loss': 0.2807, 'learning_rate': 3.232340425531915e-05, 'epoch': 11.53}\n"
     ]
    },
    {
     "name": "stderr",
     "output_type": "stream",
     "text": [
      " 46%|████▌     | 543/1175 [1:47:06<1:32:16,  8.76s/it]"
     ]
    },
    {
     "name": "stdout",
     "output_type": "stream",
     "text": [
      "{'loss': 0.1151, 'learning_rate': 3.227234042553191e-05, 'epoch': 11.55}\n"
     ]
    },
    {
     "name": "stderr",
     "output_type": "stream",
     "text": [
      " 46%|████▋     | 544/1175 [1:47:14<1:32:08,  8.76s/it]"
     ]
    },
    {
     "name": "stdout",
     "output_type": "stream",
     "text": [
      "{'loss': 0.2834, 'learning_rate': 3.222127659574468e-05, 'epoch': 11.57}\n"
     ]
    },
    {
     "name": "stderr",
     "output_type": "stream",
     "text": [
      " 46%|████▋     | 545/1175 [1:47:23<1:32:09,  8.78s/it]"
     ]
    },
    {
     "name": "stdout",
     "output_type": "stream",
     "text": [
      "{'loss': 0.5455, 'learning_rate': 3.2170212765957446e-05, 'epoch': 11.6}\n"
     ]
    },
    {
     "name": "stderr",
     "output_type": "stream",
     "text": [
      " 46%|████▋     | 546/1175 [1:47:32<1:32:18,  8.81s/it]"
     ]
    },
    {
     "name": "stdout",
     "output_type": "stream",
     "text": [
      "{'loss': 0.1507, 'learning_rate': 3.211914893617021e-05, 'epoch': 11.62}\n"
     ]
    },
    {
     "name": "stderr",
     "output_type": "stream",
     "text": [
      " 47%|████▋     | 547/1175 [1:47:41<1:32:07,  8.80s/it]"
     ]
    },
    {
     "name": "stdout",
     "output_type": "stream",
     "text": [
      "{'loss': 0.1368, 'learning_rate': 3.206808510638298e-05, 'epoch': 11.64}\n"
     ]
    },
    {
     "name": "stderr",
     "output_type": "stream",
     "text": [
      " 47%|████▋     | 548/1175 [1:47:50<1:31:56,  8.80s/it]"
     ]
    },
    {
     "name": "stdout",
     "output_type": "stream",
     "text": [
      "{'loss': 0.957, 'learning_rate': 3.201702127659574e-05, 'epoch': 11.66}\n"
     ]
    },
    {
     "name": "stderr",
     "output_type": "stream",
     "text": [
      " 47%|████▋     | 549/1175 [1:47:58<1:31:43,  8.79s/it]"
     ]
    },
    {
     "name": "stdout",
     "output_type": "stream",
     "text": [
      "{'loss': 0.2823, 'learning_rate': 3.196595744680851e-05, 'epoch': 11.68}\n"
     ]
    },
    {
     "name": "stderr",
     "output_type": "stream",
     "text": [
      " 47%|████▋     | 550/1175 [1:48:07<1:31:38,  8.80s/it]"
     ]
    },
    {
     "name": "stdout",
     "output_type": "stream",
     "text": [
      "{'loss': 0.2945, 'learning_rate': 3.1914893617021275e-05, 'epoch': 11.7}\n"
     ]
    },
    {
     "name": "stderr",
     "output_type": "stream",
     "text": [
      " 47%|████▋     | 551/1175 [1:48:16<1:31:24,  8.79s/it]"
     ]
    },
    {
     "name": "stdout",
     "output_type": "stream",
     "text": [
      "{'loss': 0.132, 'learning_rate': 3.186382978723404e-05, 'epoch': 11.72}\n"
     ]
    },
    {
     "name": "stderr",
     "output_type": "stream",
     "text": [
      " 47%|████▋     | 552/1175 [1:48:25<1:31:06,  8.77s/it]"
     ]
    },
    {
     "name": "stdout",
     "output_type": "stream",
     "text": [
      "{'loss': 0.1727, 'learning_rate': 3.181276595744681e-05, 'epoch': 11.74}\n"
     ]
    },
    {
     "name": "stderr",
     "output_type": "stream",
     "text": [
      " 47%|████▋     | 553/1175 [1:48:33<1:30:58,  8.78s/it]"
     ]
    },
    {
     "name": "stdout",
     "output_type": "stream",
     "text": [
      "{'loss': 0.1695, 'learning_rate': 3.176170212765957e-05, 'epoch': 11.77}\n"
     ]
    },
    {
     "name": "stderr",
     "output_type": "stream",
     "text": [
      " 47%|████▋     | 554/1175 [1:48:42<1:30:54,  8.78s/it]"
     ]
    },
    {
     "name": "stdout",
     "output_type": "stream",
     "text": [
      "{'loss': 0.301, 'learning_rate': 3.171063829787234e-05, 'epoch': 11.79}\n"
     ]
    },
    {
     "name": "stderr",
     "output_type": "stream",
     "text": [
      " 47%|████▋     | 555/1175 [1:48:51<1:30:46,  8.78s/it]"
     ]
    },
    {
     "name": "stdout",
     "output_type": "stream",
     "text": [
      "{'loss': 0.1863, 'learning_rate': 3.1659574468085104e-05, 'epoch': 11.81}\n"
     ]
    },
    {
     "name": "stderr",
     "output_type": "stream",
     "text": [
      " 47%|████▋     | 556/1175 [1:49:00<1:30:39,  8.79s/it]"
     ]
    },
    {
     "name": "stdout",
     "output_type": "stream",
     "text": [
      "{'loss': 0.5049, 'learning_rate': 3.1608510638297874e-05, 'epoch': 11.83}\n"
     ]
    },
    {
     "name": "stderr",
     "output_type": "stream",
     "text": [
      " 47%|████▋     | 557/1175 [1:49:09<1:30:16,  8.77s/it]"
     ]
    },
    {
     "name": "stdout",
     "output_type": "stream",
     "text": [
      "{'loss': 0.1199, 'learning_rate': 3.155744680851064e-05, 'epoch': 11.85}\n"
     ]
    },
    {
     "name": "stderr",
     "output_type": "stream",
     "text": [
      " 47%|████▋     | 558/1175 [1:49:17<1:30:03,  8.76s/it]"
     ]
    },
    {
     "name": "stdout",
     "output_type": "stream",
     "text": [
      "{'loss': 0.4538, 'learning_rate': 3.15063829787234e-05, 'epoch': 11.87}\n"
     ]
    },
    {
     "name": "stderr",
     "output_type": "stream",
     "text": [
      " 48%|████▊     | 559/1175 [1:49:26<1:30:02,  8.77s/it]"
     ]
    },
    {
     "name": "stdout",
     "output_type": "stream",
     "text": [
      "{'loss': 0.1405, 'learning_rate': 3.145531914893617e-05, 'epoch': 11.89}\n"
     ]
    },
    {
     "name": "stderr",
     "output_type": "stream",
     "text": [
      " 48%|████▊     | 560/1175 [1:49:35<1:29:54,  8.77s/it]"
     ]
    },
    {
     "name": "stdout",
     "output_type": "stream",
     "text": [
      "{'loss': 0.1964, 'learning_rate': 3.140425531914893e-05, 'epoch': 11.91}\n"
     ]
    },
    {
     "name": "stderr",
     "output_type": "stream",
     "text": [
      " 48%|████▊     | 561/1175 [1:49:44<1:29:44,  8.77s/it]"
     ]
    },
    {
     "name": "stdout",
     "output_type": "stream",
     "text": [
      "{'loss': 0.2297, 'learning_rate': 3.13531914893617e-05, 'epoch': 11.94}\n"
     ]
    },
    {
     "name": "stderr",
     "output_type": "stream",
     "text": [
      " 48%|████▊     | 562/1175 [1:49:52<1:29:33,  8.77s/it]"
     ]
    },
    {
     "name": "stdout",
     "output_type": "stream",
     "text": [
      "{'loss': 0.2606, 'learning_rate': 3.1302127659574466e-05, 'epoch': 11.96}\n"
     ]
    },
    {
     "name": "stderr",
     "output_type": "stream",
     "text": [
      " 48%|████▊     | 563/1175 [1:50:01<1:28:12,  8.65s/it]"
     ]
    },
    {
     "name": "stdout",
     "output_type": "stream",
     "text": [
      "{'loss': 0.1303, 'learning_rate': 3.125106382978723e-05, 'epoch': 11.98}\n"
     ]
    },
    {
     "name": "stderr",
     "output_type": "stream",
     "text": [
      " 48%|████▊     | 564/1175 [1:50:06<1:17:23,  7.60s/it]"
     ]
    },
    {
     "name": "stdout",
     "output_type": "stream",
     "text": [
      "{'loss': 0.14, 'learning_rate': 3.12e-05, 'epoch': 12.0}\n"
     ]
    },
    {
     "name": "stderr",
     "output_type": "stream",
     "text": [
      " 48%|████▊     | 565/1175 [1:50:16<1:25:15,  8.39s/it]"
     ]
    },
    {
     "name": "stdout",
     "output_type": "stream",
     "text": [
      "{'loss': 0.114, 'learning_rate': 3.114893617021276e-05, 'epoch': 12.02}\n"
     ]
    },
    {
     "name": "stderr",
     "output_type": "stream",
     "text": [
      " 48%|████▊     | 566/1175 [1:50:25<1:26:23,  8.51s/it]"
     ]
    },
    {
     "name": "stdout",
     "output_type": "stream",
     "text": [
      "{'loss': 0.2588, 'learning_rate': 3.109787234042553e-05, 'epoch': 12.04}\n"
     ]
    },
    {
     "name": "stderr",
     "output_type": "stream",
     "text": [
      " 48%|████▊     | 567/1175 [1:50:34<1:26:46,  8.56s/it]"
     ]
    },
    {
     "name": "stdout",
     "output_type": "stream",
     "text": [
      "{'loss': 0.3167, 'learning_rate': 3.1046808510638296e-05, 'epoch': 12.06}\n"
     ]
    },
    {
     "name": "stderr",
     "output_type": "stream",
     "text": [
      " 48%|████▊     | 568/1175 [1:50:42<1:27:10,  8.62s/it]"
     ]
    },
    {
     "name": "stdout",
     "output_type": "stream",
     "text": [
      "{'loss': 0.1724, 'learning_rate': 3.099574468085106e-05, 'epoch': 12.09}\n"
     ]
    },
    {
     "name": "stderr",
     "output_type": "stream",
     "text": [
      " 48%|████▊     | 569/1175 [1:50:51<1:27:26,  8.66s/it]"
     ]
    },
    {
     "name": "stdout",
     "output_type": "stream",
     "text": [
      "{'loss': 0.2647, 'learning_rate': 3.094468085106383e-05, 'epoch': 12.11}\n"
     ]
    },
    {
     "name": "stderr",
     "output_type": "stream",
     "text": [
      " 49%|████▊     | 570/1175 [1:51:00<1:27:42,  8.70s/it]"
     ]
    },
    {
     "name": "stdout",
     "output_type": "stream",
     "text": [
      "{'loss': 0.1645, 'learning_rate': 3.089361702127659e-05, 'epoch': 12.13}\n"
     ]
    },
    {
     "name": "stderr",
     "output_type": "stream",
     "text": [
      " 49%|████▊     | 571/1175 [1:51:09<1:27:36,  8.70s/it]"
     ]
    },
    {
     "name": "stdout",
     "output_type": "stream",
     "text": [
      "{'loss': 0.1889, 'learning_rate': 3.084255319148936e-05, 'epoch': 12.15}\n"
     ]
    },
    {
     "name": "stderr",
     "output_type": "stream",
     "text": [
      " 49%|████▊     | 572/1175 [1:51:17<1:27:42,  8.73s/it]"
     ]
    },
    {
     "name": "stdout",
     "output_type": "stream",
     "text": [
      "{'loss': 0.1767, 'learning_rate': 3.0791489361702125e-05, 'epoch': 12.17}\n"
     ]
    },
    {
     "name": "stderr",
     "output_type": "stream",
     "text": [
      " 49%|████▉     | 573/1175 [1:51:26<1:27:45,  8.75s/it]"
     ]
    },
    {
     "name": "stdout",
     "output_type": "stream",
     "text": [
      "{'loss': 0.1586, 'learning_rate': 3.0740425531914895e-05, 'epoch': 12.19}\n"
     ]
    },
    {
     "name": "stderr",
     "output_type": "stream",
     "text": [
      " 49%|████▉     | 574/1175 [1:51:35<1:27:42,  8.76s/it]"
     ]
    },
    {
     "name": "stdout",
     "output_type": "stream",
     "text": [
      "{'loss': 0.138, 'learning_rate': 3.068936170212766e-05, 'epoch': 12.21}\n"
     ]
    },
    {
     "name": "stderr",
     "output_type": "stream",
     "text": [
      " 49%|████▉     | 575/1175 [1:51:44<1:27:30,  8.75s/it]"
     ]
    },
    {
     "name": "stdout",
     "output_type": "stream",
     "text": [
      "{'loss': 0.1279, 'learning_rate': 3.063829787234042e-05, 'epoch': 12.23}\n"
     ]
    },
    {
     "name": "stderr",
     "output_type": "stream",
     "text": [
      " 49%|████▉     | 576/1175 [1:51:53<1:27:38,  8.78s/it]"
     ]
    },
    {
     "name": "stdout",
     "output_type": "stream",
     "text": [
      "{'loss': 0.0934, 'learning_rate': 3.058723404255319e-05, 'epoch': 12.26}\n"
     ]
    },
    {
     "name": "stderr",
     "output_type": "stream",
     "text": [
      " 49%|████▉     | 577/1175 [1:52:01<1:27:22,  8.77s/it]"
     ]
    },
    {
     "name": "stdout",
     "output_type": "stream",
     "text": [
      "{'loss': 0.206, 'learning_rate': 3.0536170212765954e-05, 'epoch': 12.28}\n"
     ]
    },
    {
     "name": "stderr",
     "output_type": "stream",
     "text": [
      " 49%|████▉     | 578/1175 [1:52:10<1:27:15,  8.77s/it]"
     ]
    },
    {
     "name": "stdout",
     "output_type": "stream",
     "text": [
      "{'loss': 0.1431, 'learning_rate': 3.0485106382978727e-05, 'epoch': 12.3}\n"
     ]
    },
    {
     "name": "stderr",
     "output_type": "stream",
     "text": [
      " 49%|████▉     | 579/1175 [1:52:19<1:27:06,  8.77s/it]"
     ]
    },
    {
     "name": "stdout",
     "output_type": "stream",
     "text": [
      "{'loss': 0.2253, 'learning_rate': 3.043404255319149e-05, 'epoch': 12.32}\n"
     ]
    },
    {
     "name": "stderr",
     "output_type": "stream",
     "text": [
      " 49%|████▉     | 580/1175 [1:52:28<1:26:51,  8.76s/it]"
     ]
    },
    {
     "name": "stdout",
     "output_type": "stream",
     "text": [
      "{'loss': 0.2608, 'learning_rate': 3.0382978723404254e-05, 'epoch': 12.34}\n"
     ]
    },
    {
     "name": "stderr",
     "output_type": "stream",
     "text": [
      " 49%|████▉     | 581/1175 [1:52:36<1:26:45,  8.76s/it]"
     ]
    },
    {
     "name": "stdout",
     "output_type": "stream",
     "text": [
      "{'loss': 0.8058, 'learning_rate': 3.0331914893617023e-05, 'epoch': 12.36}\n"
     ]
    },
    {
     "name": "stderr",
     "output_type": "stream",
     "text": [
      " 50%|████▉     | 582/1175 [1:52:45<1:26:33,  8.76s/it]"
     ]
    },
    {
     "name": "stdout",
     "output_type": "stream",
     "text": [
      "{'loss': 0.1422, 'learning_rate': 3.0280851063829787e-05, 'epoch': 12.38}\n"
     ]
    },
    {
     "name": "stderr",
     "output_type": "stream",
     "text": [
      " 50%|████▉     | 583/1175 [1:52:54<1:26:22,  8.75s/it]"
     ]
    },
    {
     "name": "stdout",
     "output_type": "stream",
     "text": [
      "{'loss': 0.1191, 'learning_rate': 3.0229787234042557e-05, 'epoch': 12.4}\n"
     ]
    },
    {
     "name": "stderr",
     "output_type": "stream",
     "text": [
      " 50%|████▉     | 584/1175 [1:53:03<1:26:22,  8.77s/it]"
     ]
    },
    {
     "name": "stdout",
     "output_type": "stream",
     "text": [
      "{'loss': 0.4529, 'learning_rate': 3.017872340425532e-05, 'epoch': 12.43}\n"
     ]
    },
    {
     "name": "stderr",
     "output_type": "stream",
     "text": [
      " 50%|████▉     | 585/1175 [1:53:11<1:26:11,  8.77s/it]"
     ]
    },
    {
     "name": "stdout",
     "output_type": "stream",
     "text": [
      "{'loss': 0.2331, 'learning_rate': 3.0127659574468083e-05, 'epoch': 12.45}\n"
     ]
    },
    {
     "name": "stderr",
     "output_type": "stream",
     "text": [
      " 50%|████▉     | 586/1175 [1:53:20<1:25:58,  8.76s/it]"
     ]
    },
    {
     "name": "stdout",
     "output_type": "stream",
     "text": [
      "{'loss': 0.1327, 'learning_rate': 3.0076595744680853e-05, 'epoch': 12.47}\n"
     ]
    },
    {
     "name": "stderr",
     "output_type": "stream",
     "text": [
      " 50%|████▉     | 587/1175 [1:53:29<1:25:56,  8.77s/it]"
     ]
    },
    {
     "name": "stdout",
     "output_type": "stream",
     "text": [
      "{'loss': 0.1304, 'learning_rate': 3.0025531914893616e-05, 'epoch': 12.49}\n"
     ]
    },
    {
     "name": "stderr",
     "output_type": "stream",
     "text": [
      " 50%|█████     | 588/1175 [1:53:38<1:25:36,  8.75s/it]"
     ]
    },
    {
     "name": "stdout",
     "output_type": "stream",
     "text": [
      "{'loss': 0.219, 'learning_rate': 2.9974468085106382e-05, 'epoch': 12.51}\n"
     ]
    },
    {
     "name": "stderr",
     "output_type": "stream",
     "text": [
      " 50%|█████     | 589/1175 [1:53:46<1:25:36,  8.76s/it]"
     ]
    },
    {
     "name": "stdout",
     "output_type": "stream",
     "text": [
      "{'loss': 0.2267, 'learning_rate': 2.992340425531915e-05, 'epoch': 12.53}\n"
     ]
    },
    {
     "name": "stderr",
     "output_type": "stream",
     "text": [
      " 50%|█████     | 590/1175 [1:53:55<1:25:27,  8.77s/it]"
     ]
    },
    {
     "name": "stdout",
     "output_type": "stream",
     "text": [
      "{'loss': 0.2258, 'learning_rate': 2.9872340425531915e-05, 'epoch': 12.55}\n"
     ]
    },
    {
     "name": "stderr",
     "output_type": "stream",
     "text": [
      " 50%|█████     | 591/1175 [1:54:04<1:25:22,  8.77s/it]"
     ]
    },
    {
     "name": "stdout",
     "output_type": "stream",
     "text": [
      "{'loss': 0.2076, 'learning_rate': 2.9821276595744682e-05, 'epoch': 12.57}\n"
     ]
    },
    {
     "name": "stderr",
     "output_type": "stream",
     "text": [
      " 50%|█████     | 592/1175 [1:54:13<1:25:07,  8.76s/it]"
     ]
    },
    {
     "name": "stdout",
     "output_type": "stream",
     "text": [
      "{'loss': 0.1206, 'learning_rate': 2.977021276595745e-05, 'epoch': 12.6}\n"
     ]
    },
    {
     "name": "stderr",
     "output_type": "stream",
     "text": [
      " 50%|█████     | 593/1175 [1:54:22<1:25:00,  8.76s/it]"
     ]
    },
    {
     "name": "stdout",
     "output_type": "stream",
     "text": [
      "{'loss': 0.1335, 'learning_rate': 2.9719148936170215e-05, 'epoch': 12.62}\n"
     ]
    },
    {
     "name": "stderr",
     "output_type": "stream",
     "text": [
      " 51%|█████     | 594/1175 [1:54:30<1:24:45,  8.75s/it]"
     ]
    },
    {
     "name": "stdout",
     "output_type": "stream",
     "text": [
      "{'loss': 0.1421, 'learning_rate': 2.9668085106382978e-05, 'epoch': 12.64}\n"
     ]
    },
    {
     "name": "stderr",
     "output_type": "stream",
     "text": [
      " 51%|█████     | 595/1175 [1:54:39<1:24:41,  8.76s/it]"
     ]
    },
    {
     "name": "stdout",
     "output_type": "stream",
     "text": [
      "{'loss': 0.1529, 'learning_rate': 2.9617021276595745e-05, 'epoch': 12.66}\n"
     ]
    },
    {
     "name": "stderr",
     "output_type": "stream",
     "text": [
      " 51%|█████     | 596/1175 [1:54:48<1:24:28,  8.75s/it]"
     ]
    },
    {
     "name": "stdout",
     "output_type": "stream",
     "text": [
      "{'loss': 0.161, 'learning_rate': 2.956595744680851e-05, 'epoch': 12.68}\n"
     ]
    },
    {
     "name": "stderr",
     "output_type": "stream",
     "text": [
      " 51%|█████     | 597/1175 [1:54:56<1:24:07,  8.73s/it]"
     ]
    },
    {
     "name": "stdout",
     "output_type": "stream",
     "text": [
      "{'loss': 0.1663, 'learning_rate': 2.9514893617021278e-05, 'epoch': 12.7}\n"
     ]
    },
    {
     "name": "stderr",
     "output_type": "stream",
     "text": [
      " 51%|█████     | 598/1175 [1:55:05<1:24:03,  8.74s/it]"
     ]
    },
    {
     "name": "stdout",
     "output_type": "stream",
     "text": [
      "{'loss': 0.3181, 'learning_rate': 2.9463829787234044e-05, 'epoch': 12.72}\n"
     ]
    },
    {
     "name": "stderr",
     "output_type": "stream",
     "text": [
      " 51%|█████     | 599/1175 [1:55:14<1:24:05,  8.76s/it]"
     ]
    },
    {
     "name": "stdout",
     "output_type": "stream",
     "text": [
      "{'loss': 0.3185, 'learning_rate': 2.9412765957446807e-05, 'epoch': 12.74}\n"
     ]
    },
    {
     "name": "stderr",
     "output_type": "stream",
     "text": [
      " 51%|█████     | 600/1175 [1:55:23<1:24:01,  8.77s/it]"
     ]
    },
    {
     "name": "stdout",
     "output_type": "stream",
     "text": [
      "{'loss': 0.2165, 'learning_rate': 2.9361702127659574e-05, 'epoch': 12.77}\n"
     ]
    },
    {
     "name": "stderr",
     "output_type": "stream",
     "text": [
      "                                                      \n",
      " 51%|█████     | 600/1175 [2:01:01<1:24:01,  8.77s/it]"
     ]
    },
    {
     "name": "stdout",
     "output_type": "stream",
     "text": [
      "{'eval_loss': 0.09696663171052933, 'eval_mean_iou': 0.20139488747877468, 'eval_mean_accuracy': 0.2278796271141492, 'eval_overall_accuracy': 0.9877140768643083, 'eval_per_category_iou': [0.0, 0.9903216095539593, 0.6483004119230644, 0.0, 0.0, 0.0, 0.0, 0.14790096133895844, 0.2584715868378989, 0.5507411819753569, 0.022397785594833054, 0.0, 0.0], 'eval_per_category_accuracy': [0.0, 0.9990549366866486, 0.8287511013596393, 0.0, 0.0, 0.0, 0.0, 0.1601013188924797, 0.33506242966614863, 0.6151502459311097, 0.02431511994791406, 0.0, 0.0], 'eval_runtime': 338.415, 'eval_samples_per_second': 0.686, 'eval_steps_per_second': 0.071, 'epoch': 12.77}\n"
     ]
    },
    {
     "name": "stderr",
     "output_type": "stream",
     "text": [
      " 51%|█████     | 601/1175 [2:01:11<17:36:49, 110.47s/it]"
     ]
    },
    {
     "name": "stdout",
     "output_type": "stream",
     "text": [
      "{'loss': 0.1368, 'learning_rate': 2.931063829787234e-05, 'epoch': 12.79}\n"
     ]
    },
    {
     "name": "stderr",
     "output_type": "stream",
     "text": [
      " 51%|█████     | 602/1175 [2:01:19<12:43:31, 79.95s/it] "
     ]
    },
    {
     "name": "stdout",
     "output_type": "stream",
     "text": [
      "{'loss': 0.2108, 'learning_rate': 2.9259574468085107e-05, 'epoch': 12.81}\n"
     ]
    },
    {
     "name": "stderr",
     "output_type": "stream",
     "text": [
      " 51%|█████▏    | 603/1175 [2:01:28<9:18:43, 58.61s/it] "
     ]
    },
    {
     "name": "stdout",
     "output_type": "stream",
     "text": [
      "{'loss': 0.149, 'learning_rate': 2.9208510638297873e-05, 'epoch': 12.83}\n"
     ]
    },
    {
     "name": "stderr",
     "output_type": "stream",
     "text": [
      " 51%|█████▏    | 604/1175 [2:01:37<6:55:19, 43.64s/it]"
     ]
    },
    {
     "name": "stdout",
     "output_type": "stream",
     "text": [
      "{'loss': 0.2027, 'learning_rate': 2.915744680851064e-05, 'epoch': 12.85}\n"
     ]
    },
    {
     "name": "stderr",
     "output_type": "stream",
     "text": [
      " 51%|█████▏    | 605/1175 [2:01:46<5:15:20, 33.19s/it]"
     ]
    },
    {
     "name": "stdout",
     "output_type": "stream",
     "text": [
      "{'loss': 0.166, 'learning_rate': 2.9106382978723403e-05, 'epoch': 12.87}\n"
     ]
    },
    {
     "name": "stderr",
     "output_type": "stream",
     "text": [
      " 52%|█████▏    | 606/1175 [2:01:54<4:05:14, 25.86s/it]"
     ]
    },
    {
     "name": "stdout",
     "output_type": "stream",
     "text": [
      "{'loss': 0.1311, 'learning_rate': 2.905531914893617e-05, 'epoch': 12.89}\n"
     ]
    },
    {
     "name": "stderr",
     "output_type": "stream",
     "text": [
      " 52%|█████▏    | 607/1175 [2:02:03<3:16:12, 20.73s/it]"
     ]
    },
    {
     "name": "stdout",
     "output_type": "stream",
     "text": [
      "{'loss': 0.1647, 'learning_rate': 2.9004255319148936e-05, 'epoch': 12.91}\n"
     ]
    },
    {
     "name": "stderr",
     "output_type": "stream",
     "text": [
      " 52%|█████▏    | 608/1175 [2:02:12<2:42:12, 17.17s/it]"
     ]
    },
    {
     "name": "stdout",
     "output_type": "stream",
     "text": [
      "{'loss': 0.3993, 'learning_rate': 2.8953191489361703e-05, 'epoch': 12.94}\n"
     ]
    },
    {
     "name": "stderr",
     "output_type": "stream",
     "text": [
      " 52%|█████▏    | 609/1175 [2:02:21<2:18:19, 14.66s/it]"
     ]
    },
    {
     "name": "stdout",
     "output_type": "stream",
     "text": [
      "{'loss': 0.1926, 'learning_rate': 2.890212765957447e-05, 'epoch': 12.96}\n"
     ]
    },
    {
     "name": "stderr",
     "output_type": "stream",
     "text": [
      " 52%|█████▏    | 610/1175 [2:02:29<2:00:15, 12.77s/it]"
     ]
    },
    {
     "name": "stdout",
     "output_type": "stream",
     "text": [
      "{'loss': 0.173, 'learning_rate': 2.8851063829787232e-05, 'epoch': 12.98}\n"
     ]
    },
    {
     "name": "stderr",
     "output_type": "stream",
     "text": [
      " 52%|█████▏    | 611/1175 [2:02:34<1:38:29, 10.48s/it]"
     ]
    },
    {
     "name": "stdout",
     "output_type": "stream",
     "text": [
      "{'loss': 0.1339, 'learning_rate': 2.88e-05, 'epoch': 13.0}\n"
     ]
    },
    {
     "name": "stderr",
     "output_type": "stream",
     "text": [
      " 52%|█████▏    | 612/1175 [2:02:44<1:37:15, 10.36s/it]"
     ]
    },
    {
     "name": "stdout",
     "output_type": "stream",
     "text": [
      "{'loss': 0.0975, 'learning_rate': 2.8748936170212765e-05, 'epoch': 13.02}\n"
     ]
    },
    {
     "name": "stderr",
     "output_type": "stream",
     "text": [
      " 52%|█████▏    | 613/1175 [2:02:53<1:32:32,  9.88s/it]"
     ]
    },
    {
     "name": "stdout",
     "output_type": "stream",
     "text": [
      "{'loss': 0.132, 'learning_rate': 2.8697872340425532e-05, 'epoch': 13.04}\n"
     ]
    },
    {
     "name": "stderr",
     "output_type": "stream",
     "text": [
      " 52%|█████▏    | 614/1175 [2:03:02<1:29:31,  9.58s/it]"
     ]
    },
    {
     "name": "stdout",
     "output_type": "stream",
     "text": [
      "{'loss': 0.16, 'learning_rate': 2.8646808510638298e-05, 'epoch': 13.06}\n"
     ]
    },
    {
     "name": "stderr",
     "output_type": "stream",
     "text": [
      " 52%|█████▏    | 615/1175 [2:03:11<1:26:58,  9.32s/it]"
     ]
    },
    {
     "name": "stdout",
     "output_type": "stream",
     "text": [
      "{'loss': 0.1654, 'learning_rate': 2.8595744680851065e-05, 'epoch': 13.09}\n"
     ]
    },
    {
     "name": "stderr",
     "output_type": "stream",
     "text": [
      " 52%|█████▏    | 616/1175 [2:03:20<1:25:39,  9.19s/it]"
     ]
    },
    {
     "name": "stdout",
     "output_type": "stream",
     "text": [
      "{'loss': 0.2952, 'learning_rate': 2.8544680851063828e-05, 'epoch': 13.11}\n"
     ]
    },
    {
     "name": "stderr",
     "output_type": "stream",
     "text": [
      " 53%|█████▎    | 617/1175 [2:03:28<1:24:20,  9.07s/it]"
     ]
    },
    {
     "name": "stdout",
     "output_type": "stream",
     "text": [
      "{'loss': 0.2611, 'learning_rate': 2.8493617021276594e-05, 'epoch': 13.13}\n"
     ]
    },
    {
     "name": "stderr",
     "output_type": "stream",
     "text": [
      " 53%|█████▎    | 618/1175 [2:03:37<1:23:19,  8.98s/it]"
     ]
    },
    {
     "name": "stdout",
     "output_type": "stream",
     "text": [
      "{'loss': 0.1725, 'learning_rate': 2.844255319148936e-05, 'epoch': 13.15}\n"
     ]
    },
    {
     "name": "stderr",
     "output_type": "stream",
     "text": [
      " 53%|█████▎    | 619/1175 [2:03:46<1:22:32,  8.91s/it]"
     ]
    },
    {
     "name": "stdout",
     "output_type": "stream",
     "text": [
      "{'loss': 0.222, 'learning_rate': 2.8391489361702127e-05, 'epoch': 13.17}\n"
     ]
    },
    {
     "name": "stderr",
     "output_type": "stream",
     "text": [
      " 53%|█████▎    | 620/1175 [2:03:55<1:22:02,  8.87s/it]"
     ]
    },
    {
     "name": "stdout",
     "output_type": "stream",
     "text": [
      "{'loss': 0.093, 'learning_rate': 2.8340425531914894e-05, 'epoch': 13.19}\n"
     ]
    },
    {
     "name": "stderr",
     "output_type": "stream",
     "text": [
      " 53%|█████▎    | 621/1175 [2:04:03<1:21:28,  8.82s/it]"
     ]
    },
    {
     "name": "stdout",
     "output_type": "stream",
     "text": [
      "{'loss': 0.103, 'learning_rate': 2.828936170212766e-05, 'epoch': 13.21}\n"
     ]
    },
    {
     "name": "stderr",
     "output_type": "stream",
     "text": [
      " 53%|█████▎    | 622/1175 [2:04:12<1:21:08,  8.80s/it]"
     ]
    },
    {
     "name": "stdout",
     "output_type": "stream",
     "text": [
      "{'loss': 0.2169, 'learning_rate': 2.8238297872340424e-05, 'epoch': 13.23}\n"
     ]
    },
    {
     "name": "stderr",
     "output_type": "stream",
     "text": [
      " 53%|█████▎    | 623/1175 [2:04:21<1:21:04,  8.81s/it]"
     ]
    },
    {
     "name": "stdout",
     "output_type": "stream",
     "text": [
      "{'loss': 0.0878, 'learning_rate': 2.818723404255319e-05, 'epoch': 13.26}\n"
     ]
    },
    {
     "name": "stderr",
     "output_type": "stream",
     "text": [
      " 53%|█████▎    | 624/1175 [2:04:30<1:20:51,  8.81s/it]"
     ]
    },
    {
     "name": "stdout",
     "output_type": "stream",
     "text": [
      "{'loss': 0.4478, 'learning_rate': 2.8136170212765957e-05, 'epoch': 13.28}\n"
     ]
    },
    {
     "name": "stderr",
     "output_type": "stream",
     "text": [
      " 53%|█████▎    | 625/1175 [2:04:39<1:20:31,  8.78s/it]"
     ]
    },
    {
     "name": "stdout",
     "output_type": "stream",
     "text": [
      "{'loss': 0.4439, 'learning_rate': 2.8085106382978723e-05, 'epoch': 13.3}\n"
     ]
    },
    {
     "name": "stderr",
     "output_type": "stream",
     "text": [
      " 53%|█████▎    | 626/1175 [2:04:47<1:20:25,  8.79s/it]"
     ]
    },
    {
     "name": "stdout",
     "output_type": "stream",
     "text": [
      "{'loss': 0.1819, 'learning_rate': 2.803404255319149e-05, 'epoch': 13.32}\n"
     ]
    },
    {
     "name": "stderr",
     "output_type": "stream",
     "text": [
      " 53%|█████▎    | 627/1175 [2:04:56<1:20:16,  8.79s/it]"
     ]
    },
    {
     "name": "stdout",
     "output_type": "stream",
     "text": [
      "{'loss': 0.1, 'learning_rate': 2.7982978723404253e-05, 'epoch': 13.34}\n"
     ]
    },
    {
     "name": "stderr",
     "output_type": "stream",
     "text": [
      " 53%|█████▎    | 628/1175 [2:05:05<1:20:06,  8.79s/it]"
     ]
    },
    {
     "name": "stdout",
     "output_type": "stream",
     "text": [
      "{'loss': 0.141, 'learning_rate': 2.793191489361702e-05, 'epoch': 13.36}\n"
     ]
    },
    {
     "name": "stderr",
     "output_type": "stream",
     "text": [
      " 54%|█████▎    | 629/1175 [2:05:14<1:19:41,  8.76s/it]"
     ]
    },
    {
     "name": "stdout",
     "output_type": "stream",
     "text": [
      "{'loss': 0.1172, 'learning_rate': 2.7880851063829786e-05, 'epoch': 13.38}\n"
     ]
    },
    {
     "name": "stderr",
     "output_type": "stream",
     "text": [
      " 54%|█████▎    | 630/1175 [2:05:22<1:19:54,  8.80s/it]"
     ]
    },
    {
     "name": "stdout",
     "output_type": "stream",
     "text": [
      "{'loss': 0.4378, 'learning_rate': 2.7829787234042556e-05, 'epoch': 13.4}\n"
     ]
    },
    {
     "name": "stderr",
     "output_type": "stream",
     "text": [
      " 54%|█████▎    | 631/1175 [2:05:31<1:19:43,  8.79s/it]"
     ]
    },
    {
     "name": "stdout",
     "output_type": "stream",
     "text": [
      "{'loss': 0.1426, 'learning_rate': 2.7778723404255322e-05, 'epoch': 13.43}\n"
     ]
    },
    {
     "name": "stderr",
     "output_type": "stream",
     "text": [
      " 54%|█████▍    | 632/1175 [2:05:40<1:19:44,  8.81s/it]"
     ]
    },
    {
     "name": "stdout",
     "output_type": "stream",
     "text": [
      "{'loss': 0.1988, 'learning_rate': 2.772765957446809e-05, 'epoch': 13.45}\n"
     ]
    },
    {
     "name": "stderr",
     "output_type": "stream",
     "text": [
      " 54%|█████▍    | 633/1175 [2:05:49<1:19:27,  8.80s/it]"
     ]
    },
    {
     "name": "stdout",
     "output_type": "stream",
     "text": [
      "{'loss': 0.1587, 'learning_rate': 2.7676595744680852e-05, 'epoch': 13.47}\n"
     ]
    },
    {
     "name": "stderr",
     "output_type": "stream",
     "text": [
      " 54%|█████▍    | 634/1175 [2:05:58<1:19:20,  8.80s/it]"
     ]
    },
    {
     "name": "stdout",
     "output_type": "stream",
     "text": [
      "{'loss': 0.1087, 'learning_rate': 2.762553191489362e-05, 'epoch': 13.49}\n"
     ]
    },
    {
     "name": "stderr",
     "output_type": "stream",
     "text": [
      " 54%|█████▍    | 635/1175 [2:06:06<1:19:11,  8.80s/it]"
     ]
    },
    {
     "name": "stdout",
     "output_type": "stream",
     "text": [
      "{'loss': 0.4491, 'learning_rate': 2.7574468085106385e-05, 'epoch': 13.51}\n"
     ]
    },
    {
     "name": "stderr",
     "output_type": "stream",
     "text": [
      " 54%|█████▍    | 636/1175 [2:06:15<1:19:04,  8.80s/it]"
     ]
    },
    {
     "name": "stdout",
     "output_type": "stream",
     "text": [
      "{'loss': 0.1223, 'learning_rate': 2.752340425531915e-05, 'epoch': 13.53}\n"
     ]
    },
    {
     "name": "stderr",
     "output_type": "stream",
     "text": [
      " 54%|█████▍    | 637/1175 [2:06:24<1:18:54,  8.80s/it]"
     ]
    },
    {
     "name": "stdout",
     "output_type": "stream",
     "text": [
      "{'loss': 0.1649, 'learning_rate': 2.7472340425531918e-05, 'epoch': 13.55}\n"
     ]
    },
    {
     "name": "stderr",
     "output_type": "stream",
     "text": [
      " 54%|█████▍    | 638/1175 [2:06:33<1:18:44,  8.80s/it]"
     ]
    },
    {
     "name": "stdout",
     "output_type": "stream",
     "text": [
      "{'loss': 0.2088, 'learning_rate': 2.7421276595744685e-05, 'epoch': 13.57}\n"
     ]
    },
    {
     "name": "stderr",
     "output_type": "stream",
     "text": [
      " 54%|█████▍    | 639/1175 [2:06:42<1:18:47,  8.82s/it]"
     ]
    },
    {
     "name": "stdout",
     "output_type": "stream",
     "text": [
      "{'loss': 0.2412, 'learning_rate': 2.7370212765957448e-05, 'epoch': 13.6}\n"
     ]
    },
    {
     "name": "stderr",
     "output_type": "stream",
     "text": [
      " 54%|█████▍    | 640/1175 [2:06:51<1:18:43,  8.83s/it]"
     ]
    },
    {
     "name": "stdout",
     "output_type": "stream",
     "text": [
      "{'loss': 0.231, 'learning_rate': 2.7319148936170214e-05, 'epoch': 13.62}\n"
     ]
    },
    {
     "name": "stderr",
     "output_type": "stream",
     "text": [
      " 55%|█████▍    | 641/1175 [2:06:59<1:18:26,  8.81s/it]"
     ]
    },
    {
     "name": "stdout",
     "output_type": "stream",
     "text": [
      "{'loss': 0.1011, 'learning_rate': 2.726808510638298e-05, 'epoch': 13.64}\n"
     ]
    },
    {
     "name": "stderr",
     "output_type": "stream",
     "text": [
      " 55%|█████▍    | 642/1175 [2:07:08<1:18:21,  8.82s/it]"
     ]
    },
    {
     "name": "stdout",
     "output_type": "stream",
     "text": [
      "{'loss': 0.4243, 'learning_rate': 2.7217021276595747e-05, 'epoch': 13.66}\n"
     ]
    },
    {
     "name": "stderr",
     "output_type": "stream",
     "text": [
      " 55%|█████▍    | 643/1175 [2:07:17<1:18:01,  8.80s/it]"
     ]
    },
    {
     "name": "stdout",
     "output_type": "stream",
     "text": [
      "{'loss': 0.1437, 'learning_rate': 2.7165957446808514e-05, 'epoch': 13.68}\n"
     ]
    },
    {
     "name": "stderr",
     "output_type": "stream",
     "text": [
      " 55%|█████▍    | 644/1175 [2:07:26<1:17:55,  8.81s/it]"
     ]
    },
    {
     "name": "stdout",
     "output_type": "stream",
     "text": [
      "{'loss': 0.0855, 'learning_rate': 2.7114893617021277e-05, 'epoch': 13.7}\n"
     ]
    },
    {
     "name": "stderr",
     "output_type": "stream",
     "text": [
      " 55%|█████▍    | 645/1175 [2:07:35<1:17:48,  8.81s/it]"
     ]
    },
    {
     "name": "stdout",
     "output_type": "stream",
     "text": [
      "{'loss': 0.1183, 'learning_rate': 2.7063829787234043e-05, 'epoch': 13.72}\n"
     ]
    },
    {
     "name": "stderr",
     "output_type": "stream",
     "text": [
      " 55%|█████▍    | 646/1175 [2:07:43<1:17:36,  8.80s/it]"
     ]
    },
    {
     "name": "stdout",
     "output_type": "stream",
     "text": [
      "{'loss': 0.2178, 'learning_rate': 2.701276595744681e-05, 'epoch': 13.74}\n"
     ]
    },
    {
     "name": "stderr",
     "output_type": "stream",
     "text": [
      " 55%|█████▌    | 647/1175 [2:07:52<1:17:26,  8.80s/it]"
     ]
    },
    {
     "name": "stdout",
     "output_type": "stream",
     "text": [
      "{'loss': 0.1423, 'learning_rate': 2.6961702127659576e-05, 'epoch': 13.77}\n"
     ]
    },
    {
     "name": "stderr",
     "output_type": "stream",
     "text": [
      " 55%|█████▌    | 648/1175 [2:08:01<1:17:06,  8.78s/it]"
     ]
    },
    {
     "name": "stdout",
     "output_type": "stream",
     "text": [
      "{'loss': 0.1196, 'learning_rate': 2.6910638297872343e-05, 'epoch': 13.79}\n"
     ]
    },
    {
     "name": "stderr",
     "output_type": "stream",
     "text": [
      " 55%|█████▌    | 649/1175 [2:08:10<1:17:01,  8.79s/it]"
     ]
    },
    {
     "name": "stdout",
     "output_type": "stream",
     "text": [
      "{'loss': 0.1459, 'learning_rate': 2.685957446808511e-05, 'epoch': 13.81}\n"
     ]
    },
    {
     "name": "stderr",
     "output_type": "stream",
     "text": [
      " 55%|█████▌    | 650/1175 [2:08:19<1:16:54,  8.79s/it]"
     ]
    },
    {
     "name": "stdout",
     "output_type": "stream",
     "text": [
      "{'loss': 0.1624, 'learning_rate': 2.6808510638297873e-05, 'epoch': 13.83}\n"
     ]
    },
    {
     "name": "stderr",
     "output_type": "stream",
     "text": [
      " 55%|█████▌    | 651/1175 [2:08:27<1:16:55,  8.81s/it]"
     ]
    },
    {
     "name": "stdout",
     "output_type": "stream",
     "text": [
      "{'loss': 0.2129, 'learning_rate': 2.675744680851064e-05, 'epoch': 13.85}\n"
     ]
    },
    {
     "name": "stderr",
     "output_type": "stream",
     "text": [
      " 55%|█████▌    | 652/1175 [2:08:36<1:16:33,  8.78s/it]"
     ]
    },
    {
     "name": "stdout",
     "output_type": "stream",
     "text": [
      "{'loss': 0.4072, 'learning_rate': 2.6706382978723406e-05, 'epoch': 13.87}\n"
     ]
    },
    {
     "name": "stderr",
     "output_type": "stream",
     "text": [
      " 56%|█████▌    | 653/1175 [2:08:45<1:16:24,  8.78s/it]"
     ]
    },
    {
     "name": "stdout",
     "output_type": "stream",
     "text": [
      "{'loss': 0.1, 'learning_rate': 2.6655319148936172e-05, 'epoch': 13.89}\n"
     ]
    },
    {
     "name": "stderr",
     "output_type": "stream",
     "text": [
      " 56%|█████▌    | 654/1175 [2:08:54<1:16:05,  8.76s/it]"
     ]
    },
    {
     "name": "stdout",
     "output_type": "stream",
     "text": [
      "{'loss': 0.1835, 'learning_rate': 2.660425531914894e-05, 'epoch': 13.91}\n"
     ]
    },
    {
     "name": "stderr",
     "output_type": "stream",
     "text": [
      " 56%|█████▌    | 655/1175 [2:09:02<1:16:12,  8.79s/it]"
     ]
    },
    {
     "name": "stdout",
     "output_type": "stream",
     "text": [
      "{'loss': 0.3923, 'learning_rate': 2.6553191489361702e-05, 'epoch': 13.94}\n"
     ]
    },
    {
     "name": "stderr",
     "output_type": "stream",
     "text": [
      " 56%|█████▌    | 656/1175 [2:09:11<1:16:02,  8.79s/it]"
     ]
    },
    {
     "name": "stdout",
     "output_type": "stream",
     "text": [
      "{'loss': 0.1257, 'learning_rate': 2.650212765957447e-05, 'epoch': 13.96}\n"
     ]
    },
    {
     "name": "stderr",
     "output_type": "stream",
     "text": [
      " 56%|█████▌    | 657/1175 [2:09:20<1:14:50,  8.67s/it]"
     ]
    },
    {
     "name": "stdout",
     "output_type": "stream",
     "text": [
      "{'loss': 0.2261, 'learning_rate': 2.6451063829787235e-05, 'epoch': 13.98}\n"
     ]
    },
    {
     "name": "stderr",
     "output_type": "stream",
     "text": [
      " 56%|█████▌    | 658/1175 [2:09:25<1:05:34,  7.61s/it]"
     ]
    },
    {
     "name": "stdout",
     "output_type": "stream",
     "text": [
      "{'loss': 0.0952, 'learning_rate': 2.64e-05, 'epoch': 14.0}\n"
     ]
    },
    {
     "name": "stderr",
     "output_type": "stream",
     "text": [
      " 56%|█████▌    | 659/1175 [2:09:35<1:12:13,  8.40s/it]"
     ]
    },
    {
     "name": "stdout",
     "output_type": "stream",
     "text": [
      "{'loss': 0.3145, 'learning_rate': 2.6348936170212768e-05, 'epoch': 14.02}\n"
     ]
    },
    {
     "name": "stderr",
     "output_type": "stream",
     "text": [
      " 56%|█████▌    | 660/1175 [2:09:44<1:12:58,  8.50s/it]"
     ]
    },
    {
     "name": "stdout",
     "output_type": "stream",
     "text": [
      "{'loss': 0.1596, 'learning_rate': 2.6297872340425534e-05, 'epoch': 14.04}\n"
     ]
    },
    {
     "name": "stderr",
     "output_type": "stream",
     "text": [
      " 56%|█████▋    | 661/1175 [2:09:53<1:13:36,  8.59s/it]"
     ]
    },
    {
     "name": "stdout",
     "output_type": "stream",
     "text": [
      "{'loss': 0.106, 'learning_rate': 2.6246808510638298e-05, 'epoch': 14.06}\n"
     ]
    },
    {
     "name": "stderr",
     "output_type": "stream",
     "text": [
      " 56%|█████▋    | 662/1175 [2:10:01<1:13:50,  8.64s/it]"
     ]
    },
    {
     "name": "stdout",
     "output_type": "stream",
     "text": [
      "{'loss': 0.2149, 'learning_rate': 2.6195744680851064e-05, 'epoch': 14.09}\n"
     ]
    },
    {
     "name": "stderr",
     "output_type": "stream",
     "text": [
      " 56%|█████▋    | 663/1175 [2:10:10<1:14:11,  8.69s/it]"
     ]
    },
    {
     "name": "stdout",
     "output_type": "stream",
     "text": [
      "{'loss': 0.3426, 'learning_rate': 2.614468085106383e-05, 'epoch': 14.11}\n"
     ]
    },
    {
     "name": "stderr",
     "output_type": "stream",
     "text": [
      " 57%|█████▋    | 664/1175 [2:10:19<1:14:11,  8.71s/it]"
     ]
    },
    {
     "name": "stdout",
     "output_type": "stream",
     "text": [
      "{'loss': 0.1032, 'learning_rate': 2.6093617021276597e-05, 'epoch': 14.13}\n"
     ]
    },
    {
     "name": "stderr",
     "output_type": "stream",
     "text": [
      " 57%|█████▋    | 665/1175 [2:10:28<1:14:24,  8.75s/it]"
     ]
    },
    {
     "name": "stdout",
     "output_type": "stream",
     "text": [
      "{'loss': 0.0989, 'learning_rate': 2.6042553191489364e-05, 'epoch': 14.15}\n"
     ]
    },
    {
     "name": "stderr",
     "output_type": "stream",
     "text": [
      " 57%|█████▋    | 666/1175 [2:10:36<1:14:10,  8.74s/it]"
     ]
    },
    {
     "name": "stdout",
     "output_type": "stream",
     "text": [
      "{'loss': 0.0912, 'learning_rate': 2.599148936170213e-05, 'epoch': 14.17}\n"
     ]
    },
    {
     "name": "stderr",
     "output_type": "stream",
     "text": [
      " 57%|█████▋    | 667/1175 [2:10:45<1:14:02,  8.75s/it]"
     ]
    },
    {
     "name": "stdout",
     "output_type": "stream",
     "text": [
      "{'loss': 0.1003, 'learning_rate': 2.5940425531914893e-05, 'epoch': 14.19}\n"
     ]
    },
    {
     "name": "stderr",
     "output_type": "stream",
     "text": [
      " 57%|█████▋    | 668/1175 [2:10:54<1:13:55,  8.75s/it]"
     ]
    },
    {
     "name": "stdout",
     "output_type": "stream",
     "text": [
      "{'loss': 0.0929, 'learning_rate': 2.588936170212766e-05, 'epoch': 14.21}\n"
     ]
    },
    {
     "name": "stderr",
     "output_type": "stream",
     "text": [
      " 57%|█████▋    | 669/1175 [2:11:03<1:14:06,  8.79s/it]"
     ]
    },
    {
     "name": "stdout",
     "output_type": "stream",
     "text": [
      "{'loss': 0.135, 'learning_rate': 2.5838297872340426e-05, 'epoch': 14.23}\n"
     ]
    },
    {
     "name": "stderr",
     "output_type": "stream",
     "text": [
      " 57%|█████▋    | 670/1175 [2:11:12<1:13:55,  8.78s/it]"
     ]
    },
    {
     "name": "stdout",
     "output_type": "stream",
     "text": [
      "{'loss': 0.0733, 'learning_rate': 2.5787234042553193e-05, 'epoch': 14.26}\n"
     ]
    },
    {
     "name": "stderr",
     "output_type": "stream",
     "text": [
      " 57%|█████▋    | 671/1175 [2:11:20<1:13:48,  8.79s/it]"
     ]
    },
    {
     "name": "stdout",
     "output_type": "stream",
     "text": [
      "{'loss': 0.1105, 'learning_rate': 2.573617021276596e-05, 'epoch': 14.28}\n"
     ]
    },
    {
     "name": "stderr",
     "output_type": "stream",
     "text": [
      " 57%|█████▋    | 672/1175 [2:11:29<1:13:31,  8.77s/it]"
     ]
    },
    {
     "name": "stdout",
     "output_type": "stream",
     "text": [
      "{'loss': 0.1177, 'learning_rate': 2.5685106382978722e-05, 'epoch': 14.3}\n"
     ]
    },
    {
     "name": "stderr",
     "output_type": "stream",
     "text": [
      " 57%|█████▋    | 673/1175 [2:11:38<1:13:22,  8.77s/it]"
     ]
    },
    {
     "name": "stdout",
     "output_type": "stream",
     "text": [
      "{'loss': 0.0763, 'learning_rate': 2.563404255319149e-05, 'epoch': 14.32}\n"
     ]
    },
    {
     "name": "stderr",
     "output_type": "stream",
     "text": [
      " 57%|█████▋    | 674/1175 [2:11:47<1:13:08,  8.76s/it]"
     ]
    },
    {
     "name": "stdout",
     "output_type": "stream",
     "text": [
      "{'loss': 0.3694, 'learning_rate': 2.5582978723404255e-05, 'epoch': 14.34}\n"
     ]
    },
    {
     "name": "stderr",
     "output_type": "stream",
     "text": [
      " 57%|█████▋    | 675/1175 [2:11:55<1:13:14,  8.79s/it]"
     ]
    },
    {
     "name": "stdout",
     "output_type": "stream",
     "text": [
      "{'loss': 0.2008, 'learning_rate': 2.5531914893617022e-05, 'epoch': 14.36}\n"
     ]
    },
    {
     "name": "stderr",
     "output_type": "stream",
     "text": [
      " 58%|█████▊    | 676/1175 [2:12:04<1:13:07,  8.79s/it]"
     ]
    },
    {
     "name": "stdout",
     "output_type": "stream",
     "text": [
      "{'loss': 0.1201, 'learning_rate': 2.548085106382979e-05, 'epoch': 14.38}\n"
     ]
    },
    {
     "name": "stderr",
     "output_type": "stream",
     "text": [
      " 58%|█████▊    | 677/1175 [2:12:13<1:12:55,  8.79s/it]"
     ]
    },
    {
     "name": "stdout",
     "output_type": "stream",
     "text": [
      "{'loss': 0.2447, 'learning_rate': 2.5429787234042555e-05, 'epoch': 14.4}\n"
     ]
    },
    {
     "name": "stderr",
     "output_type": "stream",
     "text": [
      " 58%|█████▊    | 678/1175 [2:12:22<1:12:38,  8.77s/it]"
     ]
    },
    {
     "name": "stdout",
     "output_type": "stream",
     "text": [
      "{'loss': 0.1504, 'learning_rate': 2.5378723404255318e-05, 'epoch': 14.43}\n"
     ]
    },
    {
     "name": "stderr",
     "output_type": "stream",
     "text": [
      " 58%|█████▊    | 679/1175 [2:12:31<1:12:28,  8.77s/it]"
     ]
    },
    {
     "name": "stdout",
     "output_type": "stream",
     "text": [
      "{'loss': 0.2148, 'learning_rate': 2.5327659574468085e-05, 'epoch': 14.45}\n"
     ]
    },
    {
     "name": "stderr",
     "output_type": "stream",
     "text": [
      " 58%|█████▊    | 680/1175 [2:12:39<1:12:25,  8.78s/it]"
     ]
    },
    {
     "name": "stdout",
     "output_type": "stream",
     "text": [
      "{'loss': 0.1369, 'learning_rate': 2.527659574468085e-05, 'epoch': 14.47}\n"
     ]
    },
    {
     "name": "stderr",
     "output_type": "stream",
     "text": [
      " 58%|█████▊    | 681/1175 [2:12:48<1:12:24,  8.80s/it]"
     ]
    },
    {
     "name": "stdout",
     "output_type": "stream",
     "text": [
      "{'loss': 0.0936, 'learning_rate': 2.5225531914893618e-05, 'epoch': 14.49}\n"
     ]
    },
    {
     "name": "stderr",
     "output_type": "stream",
     "text": [
      " 58%|█████▊    | 682/1175 [2:12:57<1:12:08,  8.78s/it]"
     ]
    },
    {
     "name": "stdout",
     "output_type": "stream",
     "text": [
      "{'loss': 0.3234, 'learning_rate': 2.5174468085106384e-05, 'epoch': 14.51}\n"
     ]
    },
    {
     "name": "stderr",
     "output_type": "stream",
     "text": [
      " 58%|█████▊    | 683/1175 [2:13:06<1:11:52,  8.76s/it]"
     ]
    },
    {
     "name": "stdout",
     "output_type": "stream",
     "text": [
      "{'loss': 0.351, 'learning_rate': 2.512340425531915e-05, 'epoch': 14.53}\n"
     ]
    },
    {
     "name": "stderr",
     "output_type": "stream",
     "text": [
      " 58%|█████▊    | 684/1175 [2:13:14<1:11:50,  8.78s/it]"
     ]
    },
    {
     "name": "stdout",
     "output_type": "stream",
     "text": [
      "{'loss': 0.0839, 'learning_rate': 2.5072340425531914e-05, 'epoch': 14.55}\n"
     ]
    },
    {
     "name": "stderr",
     "output_type": "stream",
     "text": [
      " 58%|█████▊    | 685/1175 [2:13:23<1:11:42,  8.78s/it]"
     ]
    },
    {
     "name": "stdout",
     "output_type": "stream",
     "text": [
      "{'loss': 0.1094, 'learning_rate': 2.502127659574468e-05, 'epoch': 14.57}\n"
     ]
    },
    {
     "name": "stderr",
     "output_type": "stream",
     "text": [
      " 58%|█████▊    | 686/1175 [2:13:32<1:11:38,  8.79s/it]"
     ]
    },
    {
     "name": "stdout",
     "output_type": "stream",
     "text": [
      "{'loss': 0.0806, 'learning_rate': 2.4970212765957447e-05, 'epoch': 14.6}\n"
     ]
    },
    {
     "name": "stderr",
     "output_type": "stream",
     "text": [
      " 58%|█████▊    | 687/1175 [2:13:41<1:11:26,  8.78s/it]"
     ]
    },
    {
     "name": "stdout",
     "output_type": "stream",
     "text": [
      "{'loss': 0.1039, 'learning_rate': 2.4919148936170213e-05, 'epoch': 14.62}\n"
     ]
    },
    {
     "name": "stderr",
     "output_type": "stream",
     "text": [
      " 59%|█████▊    | 688/1175 [2:13:50<1:11:10,  8.77s/it]"
     ]
    },
    {
     "name": "stdout",
     "output_type": "stream",
     "text": [
      "{'loss': 0.1209, 'learning_rate': 2.486808510638298e-05, 'epoch': 14.64}\n"
     ]
    },
    {
     "name": "stderr",
     "output_type": "stream",
     "text": [
      " 59%|█████▊    | 689/1175 [2:13:58<1:11:00,  8.77s/it]"
     ]
    },
    {
     "name": "stdout",
     "output_type": "stream",
     "text": [
      "{'loss': 0.6351, 'learning_rate': 2.4817021276595743e-05, 'epoch': 14.66}\n"
     ]
    },
    {
     "name": "stderr",
     "output_type": "stream",
     "text": [
      " 59%|█████▊    | 690/1175 [2:14:07<1:10:52,  8.77s/it]"
     ]
    },
    {
     "name": "stdout",
     "output_type": "stream",
     "text": [
      "{'loss': 0.096, 'learning_rate': 2.476595744680851e-05, 'epoch': 14.68}\n"
     ]
    },
    {
     "name": "stderr",
     "output_type": "stream",
     "text": [
      " 59%|█████▉    | 691/1175 [2:14:16<1:10:39,  8.76s/it]"
     ]
    },
    {
     "name": "stdout",
     "output_type": "stream",
     "text": [
      "{'loss': 0.1007, 'learning_rate': 2.4714893617021276e-05, 'epoch': 14.7}\n"
     ]
    },
    {
     "name": "stderr",
     "output_type": "stream",
     "text": [
      " 59%|█████▉    | 692/1175 [2:14:25<1:10:35,  8.77s/it]"
     ]
    },
    {
     "name": "stdout",
     "output_type": "stream",
     "text": [
      "{'loss': 0.0848, 'learning_rate': 2.4663829787234043e-05, 'epoch': 14.72}\n"
     ]
    },
    {
     "name": "stderr",
     "output_type": "stream",
     "text": [
      " 59%|█████▉    | 693/1175 [2:14:34<1:10:39,  8.79s/it]"
     ]
    },
    {
     "name": "stdout",
     "output_type": "stream",
     "text": [
      "{'loss': 0.1877, 'learning_rate': 2.461276595744681e-05, 'epoch': 14.74}\n"
     ]
    },
    {
     "name": "stderr",
     "output_type": "stream",
     "text": [
      " 59%|█████▉    | 694/1175 [2:14:42<1:10:31,  8.80s/it]"
     ]
    },
    {
     "name": "stdout",
     "output_type": "stream",
     "text": [
      "{'loss': 0.1953, 'learning_rate': 2.4561702127659576e-05, 'epoch': 14.77}\n"
     ]
    },
    {
     "name": "stderr",
     "output_type": "stream",
     "text": [
      " 59%|█████▉    | 695/1175 [2:14:51<1:10:09,  8.77s/it]"
     ]
    },
    {
     "name": "stdout",
     "output_type": "stream",
     "text": [
      "{'loss': 0.103, 'learning_rate': 2.451063829787234e-05, 'epoch': 14.79}\n"
     ]
    },
    {
     "name": "stderr",
     "output_type": "stream",
     "text": [
      " 59%|█████▉    | 696/1175 [2:15:00<1:09:59,  8.77s/it]"
     ]
    },
    {
     "name": "stdout",
     "output_type": "stream",
     "text": [
      "{'loss': 0.3024, 'learning_rate': 2.4459574468085105e-05, 'epoch': 14.81}\n"
     ]
    },
    {
     "name": "stderr",
     "output_type": "stream",
     "text": [
      " 59%|█████▉    | 697/1175 [2:15:09<1:09:49,  8.77s/it]"
     ]
    },
    {
     "name": "stdout",
     "output_type": "stream",
     "text": [
      "{'loss': 0.1002, 'learning_rate': 2.4408510638297872e-05, 'epoch': 14.83}\n"
     ]
    },
    {
     "name": "stderr",
     "output_type": "stream",
     "text": [
      " 59%|█████▉    | 698/1175 [2:15:17<1:09:50,  8.79s/it]"
     ]
    },
    {
     "name": "stdout",
     "output_type": "stream",
     "text": [
      "{'loss': 0.092, 'learning_rate': 2.435744680851064e-05, 'epoch': 14.85}\n"
     ]
    },
    {
     "name": "stderr",
     "output_type": "stream",
     "text": [
      " 59%|█████▉    | 699/1175 [2:15:26<1:09:41,  8.78s/it]"
     ]
    },
    {
     "name": "stdout",
     "output_type": "stream",
     "text": [
      "{'loss': 0.2464, 'learning_rate': 2.4306382978723405e-05, 'epoch': 14.87}\n"
     ]
    },
    {
     "name": "stderr",
     "output_type": "stream",
     "text": [
      " 60%|█████▉    | 700/1175 [2:15:35<1:09:24,  8.77s/it]"
     ]
    },
    {
     "name": "stdout",
     "output_type": "stream",
     "text": [
      "{'loss': 0.0792, 'learning_rate': 2.4255319148936168e-05, 'epoch': 14.89}\n"
     ]
    },
    {
     "name": "stderr",
     "output_type": "stream",
     "text": [
      "                                                      \n",
      " 60%|█████▉    | 700/1175 [2:21:13<1:09:24,  8.77s/it]"
     ]
    },
    {
     "name": "stdout",
     "output_type": "stream",
     "text": [
      "{'eval_loss': 0.08130359649658203, 'eval_mean_iou': 0.2223640657426662, 'eval_mean_accuracy': 0.2519412450745275, 'eval_overall_accuracy': 0.9890100380470013, 'eval_per_category_iou': [0.0, 0.9916783170882698, 0.6692012199626413, 0.0, 0.0, 0.0, 0.0, 0.1542245541724406, 0.28939867682301923, 0.7434811493107457, 0.04274893729754464, 0.0, 0.0], 'eval_per_category_accuracy': [0.0, 0.999000360551564, 0.8764093084325277, 0.0, 0.0, 0.0, 0.0, 0.16247624038697495, 0.39646321204651414, 0.7964387247906713, 0.044448339760605, 0.0, 0.0], 'eval_runtime': 338.5433, 'eval_samples_per_second': 0.685, 'eval_steps_per_second': 0.071, 'epoch': 14.89}\n"
     ]
    },
    {
     "name": "stderr",
     "output_type": "stream",
     "text": [
      " 60%|█████▉    | 701/1175 [2:21:23<14:32:49, 110.48s/it]"
     ]
    },
    {
     "name": "stdout",
     "output_type": "stream",
     "text": [
      "{'loss': 0.1596, 'learning_rate': 2.4204255319148935e-05, 'epoch': 14.91}\n"
     ]
    },
    {
     "name": "stderr",
     "output_type": "stream",
     "text": [
      " 60%|█████▉    | 702/1175 [2:21:32<10:30:34, 79.99s/it] "
     ]
    },
    {
     "name": "stdout",
     "output_type": "stream",
     "text": [
      "{'loss': 0.1889, 'learning_rate': 2.41531914893617e-05, 'epoch': 14.94}\n"
     ]
    },
    {
     "name": "stderr",
     "output_type": "stream",
     "text": [
      " 60%|█████▉    | 703/1175 [2:21:40<7:41:11, 58.63s/it] "
     ]
    },
    {
     "name": "stdout",
     "output_type": "stream",
     "text": [
      "{'loss': 0.0866, 'learning_rate': 2.4102127659574468e-05, 'epoch': 14.96}\n"
     ]
    },
    {
     "name": "stderr",
     "output_type": "stream",
     "text": [
      " 60%|█████▉    | 704/1175 [2:21:49<5:41:46, 43.54s/it]"
     ]
    },
    {
     "name": "stdout",
     "output_type": "stream",
     "text": [
      "{'loss': 0.1379, 'learning_rate': 2.4051063829787234e-05, 'epoch': 14.98}\n"
     ]
    },
    {
     "name": "stderr",
     "output_type": "stream",
     "text": [
      " 60%|██████    | 705/1175 [2:21:54<4:10:50, 32.02s/it]"
     ]
    },
    {
     "name": "stdout",
     "output_type": "stream",
     "text": [
      "{'loss': 0.4694, 'learning_rate': 2.4e-05, 'epoch': 15.0}\n"
     ]
    },
    {
     "name": "stderr",
     "output_type": "stream",
     "text": [
      " 60%|██████    | 706/1175 [2:22:04<3:19:30, 25.52s/it]"
     ]
    },
    {
     "name": "stdout",
     "output_type": "stream",
     "text": [
      "{'loss': 0.0606, 'learning_rate': 2.3948936170212764e-05, 'epoch': 15.02}\n"
     ]
    },
    {
     "name": "stderr",
     "output_type": "stream",
     "text": [
      " 60%|██████    | 707/1175 [2:22:13<2:39:48, 20.49s/it]"
     ]
    },
    {
     "name": "stdout",
     "output_type": "stream",
     "text": [
      "{'loss': 0.1727, 'learning_rate': 2.389787234042553e-05, 'epoch': 15.04}\n"
     ]
    },
    {
     "name": "stderr",
     "output_type": "stream",
     "text": [
      " 60%|██████    | 708/1175 [2:22:22<2:12:10, 16.98s/it]"
     ]
    },
    {
     "name": "stdout",
     "output_type": "stream",
     "text": [
      "{'loss': 0.0925, 'learning_rate': 2.3846808510638297e-05, 'epoch': 15.06}\n"
     ]
    },
    {
     "name": "stderr",
     "output_type": "stream",
     "text": [
      " 60%|██████    | 709/1175 [2:22:30<1:52:47, 14.52s/it]"
     ]
    },
    {
     "name": "stdout",
     "output_type": "stream",
     "text": [
      "{'loss': 0.1203, 'learning_rate': 2.3795744680851063e-05, 'epoch': 15.09}\n"
     ]
    },
    {
     "name": "stderr",
     "output_type": "stream",
     "text": [
      " 60%|██████    | 710/1175 [2:22:39<1:39:03, 12.78s/it]"
     ]
    },
    {
     "name": "stdout",
     "output_type": "stream",
     "text": [
      "{'loss': 0.1404, 'learning_rate': 2.374468085106383e-05, 'epoch': 15.11}\n"
     ]
    },
    {
     "name": "stderr",
     "output_type": "stream",
     "text": [
      " 61%|██████    | 711/1175 [2:22:48<1:29:37, 11.59s/it]"
     ]
    },
    {
     "name": "stdout",
     "output_type": "stream",
     "text": [
      "{'loss': 0.1288, 'learning_rate': 2.3693617021276596e-05, 'epoch': 15.13}\n"
     ]
    },
    {
     "name": "stderr",
     "output_type": "stream",
     "text": [
      " 61%|██████    | 712/1175 [2:22:57<1:22:50, 10.74s/it]"
     ]
    },
    {
     "name": "stdout",
     "output_type": "stream",
     "text": [
      "{'loss': 0.1535, 'learning_rate': 2.364255319148936e-05, 'epoch': 15.15}\n"
     ]
    },
    {
     "name": "stderr",
     "output_type": "stream",
     "text": [
      " 61%|██████    | 713/1175 [2:23:06<1:18:16, 10.17s/it]"
     ]
    },
    {
     "name": "stdout",
     "output_type": "stream",
     "text": [
      "{'loss': 0.2214, 'learning_rate': 2.3591489361702126e-05, 'epoch': 15.17}\n"
     ]
    },
    {
     "name": "stderr",
     "output_type": "stream",
     "text": [
      " 61%|██████    | 714/1175 [2:23:14<1:14:52,  9.75s/it]"
     ]
    },
    {
     "name": "stdout",
     "output_type": "stream",
     "text": [
      "{'loss': 0.218, 'learning_rate': 2.3540425531914896e-05, 'epoch': 15.19}\n"
     ]
    },
    {
     "name": "stderr",
     "output_type": "stream",
     "text": [
      " 61%|██████    | 715/1175 [2:23:23<1:12:25,  9.45s/it]"
     ]
    },
    {
     "name": "stdout",
     "output_type": "stream",
     "text": [
      "{'loss': 0.1626, 'learning_rate': 2.3489361702127662e-05, 'epoch': 15.21}\n"
     ]
    },
    {
     "name": "stderr",
     "output_type": "stream",
     "text": [
      " 61%|██████    | 716/1175 [2:23:32<1:10:38,  9.23s/it]"
     ]
    },
    {
     "name": "stdout",
     "output_type": "stream",
     "text": [
      "{'loss': 0.1156, 'learning_rate': 2.343829787234043e-05, 'epoch': 15.23}\n"
     ]
    },
    {
     "name": "stderr",
     "output_type": "stream",
     "text": [
      " 61%|██████    | 717/1175 [2:23:41<1:09:22,  9.09s/it]"
     ]
    },
    {
     "name": "stdout",
     "output_type": "stream",
     "text": [
      "{'loss': 0.2477, 'learning_rate': 2.3387234042553192e-05, 'epoch': 15.26}\n"
     ]
    },
    {
     "name": "stderr",
     "output_type": "stream",
     "text": [
      " 61%|██████    | 718/1175 [2:23:49<1:08:34,  9.00s/it]"
     ]
    },
    {
     "name": "stdout",
     "output_type": "stream",
     "text": [
      "{'loss': 0.1168, 'learning_rate': 2.333617021276596e-05, 'epoch': 15.28}\n"
     ]
    },
    {
     "name": "stderr",
     "output_type": "stream",
     "text": [
      " 61%|██████    | 719/1175 [2:23:58<1:07:50,  8.93s/it]"
     ]
    },
    {
     "name": "stdout",
     "output_type": "stream",
     "text": [
      "{'loss': 0.1683, 'learning_rate': 2.3285106382978725e-05, 'epoch': 15.3}\n"
     ]
    },
    {
     "name": "stderr",
     "output_type": "stream",
     "text": [
      " 61%|██████▏   | 720/1175 [2:24:07<1:07:14,  8.87s/it]"
     ]
    },
    {
     "name": "stdout",
     "output_type": "stream",
     "text": [
      "{'loss': 0.2115, 'learning_rate': 2.323404255319149e-05, 'epoch': 15.32}\n"
     ]
    },
    {
     "name": "stderr",
     "output_type": "stream",
     "text": [
      " 61%|██████▏   | 721/1175 [2:24:16<1:06:58,  8.85s/it]"
     ]
    },
    {
     "name": "stdout",
     "output_type": "stream",
     "text": [
      "{'loss': 0.2974, 'learning_rate': 2.3182978723404258e-05, 'epoch': 15.34}\n"
     ]
    },
    {
     "name": "stderr",
     "output_type": "stream",
     "text": [
      " 61%|██████▏   | 722/1175 [2:24:24<1:06:33,  8.82s/it]"
     ]
    },
    {
     "name": "stdout",
     "output_type": "stream",
     "text": [
      "{'loss': 0.0913, 'learning_rate': 2.3131914893617025e-05, 'epoch': 15.36}\n"
     ]
    },
    {
     "name": "stderr",
     "output_type": "stream",
     "text": [
      " 62%|██████▏   | 723/1175 [2:24:33<1:06:27,  8.82s/it]"
     ]
    },
    {
     "name": "stdout",
     "output_type": "stream",
     "text": [
      "{'loss': 0.1534, 'learning_rate': 2.3080851063829788e-05, 'epoch': 15.38}\n"
     ]
    },
    {
     "name": "stderr",
     "output_type": "stream",
     "text": [
      " 62%|██████▏   | 724/1175 [2:24:42<1:06:12,  8.81s/it]"
     ]
    },
    {
     "name": "stdout",
     "output_type": "stream",
     "text": [
      "{'loss': 0.0983, 'learning_rate': 2.3029787234042554e-05, 'epoch': 15.4}\n"
     ]
    },
    {
     "name": "stderr",
     "output_type": "stream",
     "text": [
      " 62%|██████▏   | 725/1175 [2:24:51<1:06:03,  8.81s/it]"
     ]
    },
    {
     "name": "stdout",
     "output_type": "stream",
     "text": [
      "{'loss': 0.1196, 'learning_rate': 2.297872340425532e-05, 'epoch': 15.43}\n"
     ]
    },
    {
     "name": "stderr",
     "output_type": "stream",
     "text": [
      " 62%|██████▏   | 726/1175 [2:25:00<1:05:56,  8.81s/it]"
     ]
    },
    {
     "name": "stdout",
     "output_type": "stream",
     "text": [
      "{'loss': 0.0794, 'learning_rate': 2.2927659574468087e-05, 'epoch': 15.45}\n"
     ]
    },
    {
     "name": "stderr",
     "output_type": "stream",
     "text": [
      " 62%|██████▏   | 727/1175 [2:25:08<1:05:49,  8.82s/it]"
     ]
    },
    {
     "name": "stdout",
     "output_type": "stream",
     "text": [
      "{'loss': 0.1016, 'learning_rate': 2.2876595744680854e-05, 'epoch': 15.47}\n"
     ]
    },
    {
     "name": "stderr",
     "output_type": "stream",
     "text": [
      " 62%|██████▏   | 728/1175 [2:25:17<1:05:28,  8.79s/it]"
     ]
    },
    {
     "name": "stdout",
     "output_type": "stream",
     "text": [
      "{'loss': 0.0801, 'learning_rate': 2.282553191489362e-05, 'epoch': 15.49}\n"
     ]
    },
    {
     "name": "stderr",
     "output_type": "stream",
     "text": [
      " 62%|██████▏   | 729/1175 [2:25:26<1:05:19,  8.79s/it]"
     ]
    },
    {
     "name": "stdout",
     "output_type": "stream",
     "text": [
      "{'loss': 0.0824, 'learning_rate': 2.2774468085106383e-05, 'epoch': 15.51}\n"
     ]
    },
    {
     "name": "stderr",
     "output_type": "stream",
     "text": [
      " 62%|██████▏   | 730/1175 [2:25:35<1:05:17,  8.80s/it]"
     ]
    },
    {
     "name": "stdout",
     "output_type": "stream",
     "text": [
      "{'loss': 0.2513, 'learning_rate': 2.272340425531915e-05, 'epoch': 15.53}\n"
     ]
    },
    {
     "name": "stderr",
     "output_type": "stream",
     "text": [
      " 62%|██████▏   | 731/1175 [2:25:44<1:05:08,  8.80s/it]"
     ]
    },
    {
     "name": "stdout",
     "output_type": "stream",
     "text": [
      "{'loss': 0.1119, 'learning_rate': 2.2672340425531917e-05, 'epoch': 15.55}\n"
     ]
    },
    {
     "name": "stderr",
     "output_type": "stream",
     "text": [
      " 62%|██████▏   | 732/1175 [2:25:52<1:04:56,  8.80s/it]"
     ]
    },
    {
     "name": "stdout",
     "output_type": "stream",
     "text": [
      "{'loss': 0.1106, 'learning_rate': 2.2621276595744683e-05, 'epoch': 15.57}\n"
     ]
    },
    {
     "name": "stderr",
     "output_type": "stream",
     "text": [
      " 62%|██████▏   | 733/1175 [2:26:01<1:04:51,  8.80s/it]"
     ]
    },
    {
     "name": "stdout",
     "output_type": "stream",
     "text": [
      "{'loss': 0.486, 'learning_rate': 2.257021276595745e-05, 'epoch': 15.6}\n"
     ]
    },
    {
     "name": "stderr",
     "output_type": "stream",
     "text": [
      " 62%|██████▏   | 734/1175 [2:26:10<1:04:36,  8.79s/it]"
     ]
    },
    {
     "name": "stdout",
     "output_type": "stream",
     "text": [
      "{'loss': 0.084, 'learning_rate': 2.2519148936170213e-05, 'epoch': 15.62}\n"
     ]
    },
    {
     "name": "stderr",
     "output_type": "stream",
     "text": [
      " 63%|██████▎   | 735/1175 [2:26:19<1:04:30,  8.80s/it]"
     ]
    },
    {
     "name": "stdout",
     "output_type": "stream",
     "text": [
      "{'loss': 0.1208, 'learning_rate': 2.246808510638298e-05, 'epoch': 15.64}\n"
     ]
    },
    {
     "name": "stderr",
     "output_type": "stream",
     "text": [
      " 63%|██████▎   | 736/1175 [2:26:28<1:04:22,  8.80s/it]"
     ]
    },
    {
     "name": "stdout",
     "output_type": "stream",
     "text": [
      "{'loss': 0.6162, 'learning_rate': 2.2417021276595746e-05, 'epoch': 15.66}\n"
     ]
    },
    {
     "name": "stderr",
     "output_type": "stream",
     "text": [
      " 63%|██████▎   | 737/1175 [2:26:36<1:04:10,  8.79s/it]"
     ]
    },
    {
     "name": "stdout",
     "output_type": "stream",
     "text": [
      "{'loss': 0.5525, 'learning_rate': 2.2365957446808512e-05, 'epoch': 15.68}\n"
     ]
    },
    {
     "name": "stderr",
     "output_type": "stream",
     "text": [
      " 63%|██████▎   | 738/1175 [2:26:45<1:03:56,  8.78s/it]"
     ]
    },
    {
     "name": "stdout",
     "output_type": "stream",
     "text": [
      "{'loss': 0.1166, 'learning_rate': 2.231489361702128e-05, 'epoch': 15.7}\n"
     ]
    },
    {
     "name": "stderr",
     "output_type": "stream",
     "text": [
      " 63%|██████▎   | 739/1175 [2:26:54<1:03:52,  8.79s/it]"
     ]
    },
    {
     "name": "stdout",
     "output_type": "stream",
     "text": [
      "{'loss': 0.1047, 'learning_rate': 2.2263829787234045e-05, 'epoch': 15.72}\n"
     ]
    },
    {
     "name": "stderr",
     "output_type": "stream",
     "text": [
      " 63%|██████▎   | 740/1175 [2:27:03<1:03:44,  8.79s/it]"
     ]
    },
    {
     "name": "stdout",
     "output_type": "stream",
     "text": [
      "{'loss': 0.093, 'learning_rate': 2.221276595744681e-05, 'epoch': 15.74}\n"
     ]
    },
    {
     "name": "stderr",
     "output_type": "stream",
     "text": [
      " 63%|██████▎   | 741/1175 [2:27:12<1:03:47,  8.82s/it]"
     ]
    },
    {
     "name": "stdout",
     "output_type": "stream",
     "text": [
      "{'loss': 0.0895, 'learning_rate': 2.2161702127659575e-05, 'epoch': 15.77}\n"
     ]
    },
    {
     "name": "stderr",
     "output_type": "stream",
     "text": [
      " 63%|██████▎   | 742/1175 [2:27:20<1:03:38,  8.82s/it]"
     ]
    },
    {
     "name": "stdout",
     "output_type": "stream",
     "text": [
      "{'loss': 0.0928, 'learning_rate': 2.211063829787234e-05, 'epoch': 15.79}\n"
     ]
    },
    {
     "name": "stderr",
     "output_type": "stream",
     "text": [
      " 63%|██████▎   | 743/1175 [2:27:29<1:03:37,  8.84s/it]"
     ]
    },
    {
     "name": "stdout",
     "output_type": "stream",
     "text": [
      "{'loss': 0.2181, 'learning_rate': 2.2059574468085108e-05, 'epoch': 15.81}\n"
     ]
    },
    {
     "name": "stderr",
     "output_type": "stream",
     "text": [
      " 63%|██████▎   | 744/1175 [2:27:38<1:03:25,  8.83s/it]"
     ]
    },
    {
     "name": "stdout",
     "output_type": "stream",
     "text": [
      "{'loss': 0.0893, 'learning_rate': 2.2008510638297874e-05, 'epoch': 15.83}\n"
     ]
    },
    {
     "name": "stderr",
     "output_type": "stream",
     "text": [
      " 63%|██████▎   | 745/1175 [2:27:47<1:03:10,  8.81s/it]"
     ]
    },
    {
     "name": "stdout",
     "output_type": "stream",
     "text": [
      "{'loss': 0.0849, 'learning_rate': 2.1957446808510638e-05, 'epoch': 15.85}\n"
     ]
    },
    {
     "name": "stderr",
     "output_type": "stream",
     "text": [
      " 63%|██████▎   | 746/1175 [2:27:56<1:03:07,  8.83s/it]"
     ]
    },
    {
     "name": "stdout",
     "output_type": "stream",
     "text": [
      "{'loss': 0.0983, 'learning_rate': 2.1906382978723404e-05, 'epoch': 15.87}\n"
     ]
    },
    {
     "name": "stderr",
     "output_type": "stream",
     "text": [
      " 64%|██████▎   | 747/1175 [2:28:05<1:02:49,  8.81s/it]"
     ]
    },
    {
     "name": "stdout",
     "output_type": "stream",
     "text": [
      "{'loss': 0.1754, 'learning_rate': 2.185531914893617e-05, 'epoch': 15.89}\n"
     ]
    },
    {
     "name": "stderr",
     "output_type": "stream",
     "text": [
      " 64%|██████▎   | 748/1175 [2:28:13<1:02:47,  8.82s/it]"
     ]
    },
    {
     "name": "stdout",
     "output_type": "stream",
     "text": [
      "{'loss': 0.1019, 'learning_rate': 2.1804255319148937e-05, 'epoch': 15.91}\n"
     ]
    },
    {
     "name": "stderr",
     "output_type": "stream",
     "text": [
      " 64%|██████▎   | 749/1175 [2:28:22<1:02:27,  8.80s/it]"
     ]
    },
    {
     "name": "stdout",
     "output_type": "stream",
     "text": [
      "{'loss': 0.1922, 'learning_rate': 2.1753191489361704e-05, 'epoch': 15.94}\n"
     ]
    },
    {
     "name": "stderr",
     "output_type": "stream",
     "text": [
      " 64%|██████▍   | 750/1175 [2:28:31<1:02:23,  8.81s/it]"
     ]
    },
    {
     "name": "stdout",
     "output_type": "stream",
     "text": [
      "{'loss': 0.154, 'learning_rate': 2.170212765957447e-05, 'epoch': 15.96}\n"
     ]
    },
    {
     "name": "stderr",
     "output_type": "stream",
     "text": [
      " 64%|██████▍   | 751/1175 [2:28:39<1:01:18,  8.68s/it]"
     ]
    },
    {
     "name": "stdout",
     "output_type": "stream",
     "text": [
      "{'loss': 0.1117, 'learning_rate': 2.1651063829787233e-05, 'epoch': 15.98}\n"
     ]
    },
    {
     "name": "stderr",
     "output_type": "stream",
     "text": [
      " 64%|██████▍   | 752/1175 [2:28:44<53:38,  7.61s/it]  "
     ]
    },
    {
     "name": "stdout",
     "output_type": "stream",
     "text": [
      "{'loss': 0.1509, 'learning_rate': 2.16e-05, 'epoch': 16.0}\n"
     ]
    },
    {
     "name": "stderr",
     "output_type": "stream",
     "text": [
      " 64%|██████▍   | 753/1175 [2:28:54<58:37,  8.33s/it]"
     ]
    },
    {
     "name": "stdout",
     "output_type": "stream",
     "text": [
      "{'loss': 0.2346, 'learning_rate': 2.1548936170212766e-05, 'epoch': 16.02}\n"
     ]
    },
    {
     "name": "stderr",
     "output_type": "stream",
     "text": [
      " 64%|██████▍   | 754/1175 [2:29:03<59:24,  8.47s/it]"
     ]
    },
    {
     "name": "stdout",
     "output_type": "stream",
     "text": [
      "{'loss': 0.8789, 'learning_rate': 2.1497872340425533e-05, 'epoch': 16.04}\n"
     ]
    },
    {
     "name": "stderr",
     "output_type": "stream",
     "text": [
      " 64%|██████▍   | 755/1175 [2:29:12<59:55,  8.56s/it]"
     ]
    },
    {
     "name": "stdout",
     "output_type": "stream",
     "text": [
      "{'loss': 0.0619, 'learning_rate': 2.14468085106383e-05, 'epoch': 16.06}\n"
     ]
    },
    {
     "name": "stderr",
     "output_type": "stream",
     "text": [
      " 64%|██████▍   | 756/1175 [2:29:21<1:00:19,  8.64s/it]"
     ]
    },
    {
     "name": "stdout",
     "output_type": "stream",
     "text": [
      "{'loss': 0.1135, 'learning_rate': 2.1395744680851066e-05, 'epoch': 16.09}\n"
     ]
    },
    {
     "name": "stderr",
     "output_type": "stream",
     "text": [
      " 64%|██████▍   | 757/1175 [2:29:30<1:00:25,  8.67s/it]"
     ]
    },
    {
     "name": "stdout",
     "output_type": "stream",
     "text": [
      "{'loss': 0.0953, 'learning_rate': 2.134468085106383e-05, 'epoch': 16.11}\n"
     ]
    },
    {
     "name": "stderr",
     "output_type": "stream",
     "text": [
      " 65%|██████▍   | 758/1175 [2:29:38<1:00:27,  8.70s/it]"
     ]
    },
    {
     "name": "stdout",
     "output_type": "stream",
     "text": [
      "{'loss': 0.1427, 'learning_rate': 2.1293617021276596e-05, 'epoch': 16.13}\n"
     ]
    },
    {
     "name": "stderr",
     "output_type": "stream",
     "text": [
      " 65%|██████▍   | 759/1175 [2:29:47<1:00:27,  8.72s/it]"
     ]
    },
    {
     "name": "stdout",
     "output_type": "stream",
     "text": [
      "{'loss': 0.0742, 'learning_rate': 2.1242553191489362e-05, 'epoch': 16.15}\n"
     ]
    },
    {
     "name": "stderr",
     "output_type": "stream",
     "text": [
      " 65%|██████▍   | 760/1175 [2:29:56<1:00:36,  8.76s/it]"
     ]
    },
    {
     "name": "stdout",
     "output_type": "stream",
     "text": [
      "{'loss': 0.0777, 'learning_rate': 2.119148936170213e-05, 'epoch': 16.17}\n"
     ]
    },
    {
     "name": "stderr",
     "output_type": "stream",
     "text": [
      " 65%|██████▍   | 761/1175 [2:30:05<1:00:27,  8.76s/it]"
     ]
    },
    {
     "name": "stdout",
     "output_type": "stream",
     "text": [
      "{'loss': 0.0819, 'learning_rate': 2.1140425531914895e-05, 'epoch': 16.19}\n"
     ]
    },
    {
     "name": "stderr",
     "output_type": "stream",
     "text": [
      " 65%|██████▍   | 762/1175 [2:30:14<1:00:22,  8.77s/it]"
     ]
    },
    {
     "name": "stdout",
     "output_type": "stream",
     "text": [
      "{'loss': 0.1878, 'learning_rate': 2.1089361702127658e-05, 'epoch': 16.21}\n"
     ]
    },
    {
     "name": "stderr",
     "output_type": "stream",
     "text": [
      " 65%|██████▍   | 763/1175 [2:30:22<1:00:10,  8.76s/it]"
     ]
    },
    {
     "name": "stdout",
     "output_type": "stream",
     "text": [
      "{'loss': 0.2647, 'learning_rate': 2.1038297872340425e-05, 'epoch': 16.23}\n"
     ]
    },
    {
     "name": "stderr",
     "output_type": "stream",
     "text": [
      " 65%|██████▌   | 764/1175 [2:30:31<1:00:06,  8.77s/it]"
     ]
    },
    {
     "name": "stdout",
     "output_type": "stream",
     "text": [
      "{'loss': 0.1509, 'learning_rate': 2.098723404255319e-05, 'epoch': 16.26}\n"
     ]
    },
    {
     "name": "stderr",
     "output_type": "stream",
     "text": [
      " 65%|██████▌   | 765/1175 [2:30:40<1:00:01,  8.78s/it]"
     ]
    },
    {
     "name": "stdout",
     "output_type": "stream",
     "text": [
      "{'loss': 0.1019, 'learning_rate': 2.0936170212765958e-05, 'epoch': 16.28}\n"
     ]
    },
    {
     "name": "stderr",
     "output_type": "stream",
     "text": [
      " 65%|██████▌   | 766/1175 [2:30:49<1:00:01,  8.81s/it]"
     ]
    },
    {
     "name": "stdout",
     "output_type": "stream",
     "text": [
      "{'loss': 0.1062, 'learning_rate': 2.0885106382978724e-05, 'epoch': 16.3}\n"
     ]
    },
    {
     "name": "stderr",
     "output_type": "stream",
     "text": [
      " 65%|██████▌   | 767/1175 [2:30:57<59:44,  8.79s/it]  "
     ]
    },
    {
     "name": "stdout",
     "output_type": "stream",
     "text": [
      "{'loss': 0.3086, 'learning_rate': 2.083404255319149e-05, 'epoch': 16.32}\n"
     ]
    },
    {
     "name": "stderr",
     "output_type": "stream",
     "text": [
      " 65%|██████▌   | 768/1175 [2:31:06<59:34,  8.78s/it]"
     ]
    },
    {
     "name": "stdout",
     "output_type": "stream",
     "text": [
      "{'loss': 0.109, 'learning_rate': 2.0782978723404254e-05, 'epoch': 16.34}\n"
     ]
    },
    {
     "name": "stderr",
     "output_type": "stream",
     "text": [
      " 65%|██████▌   | 769/1175 [2:31:15<59:15,  8.76s/it]"
     ]
    },
    {
     "name": "stdout",
     "output_type": "stream",
     "text": [
      "{'loss': 0.1121, 'learning_rate': 2.073191489361702e-05, 'epoch': 16.36}\n"
     ]
    },
    {
     "name": "stderr",
     "output_type": "stream",
     "text": [
      " 66%|██████▌   | 770/1175 [2:31:24<59:04,  8.75s/it]"
     ]
    },
    {
     "name": "stdout",
     "output_type": "stream",
     "text": [
      "{'loss': 0.0883, 'learning_rate': 2.0680851063829787e-05, 'epoch': 16.38}\n"
     ]
    },
    {
     "name": "stderr",
     "output_type": "stream",
     "text": [
      " 66%|██████▌   | 771/1175 [2:31:32<58:58,  8.76s/it]"
     ]
    },
    {
     "name": "stdout",
     "output_type": "stream",
     "text": [
      "{'loss': 0.2302, 'learning_rate': 2.0629787234042554e-05, 'epoch': 16.4}\n"
     ]
    },
    {
     "name": "stderr",
     "output_type": "stream",
     "text": [
      " 66%|██████▌   | 772/1175 [2:31:41<58:52,  8.76s/it]"
     ]
    },
    {
     "name": "stdout",
     "output_type": "stream",
     "text": [
      "{'loss': 0.313, 'learning_rate': 2.057872340425532e-05, 'epoch': 16.43}\n"
     ]
    },
    {
     "name": "stderr",
     "output_type": "stream",
     "text": [
      " 66%|██████▌   | 773/1175 [2:31:50<58:39,  8.75s/it]"
     ]
    },
    {
     "name": "stdout",
     "output_type": "stream",
     "text": [
      "{'loss': 0.0955, 'learning_rate': 2.0527659574468087e-05, 'epoch': 16.45}\n"
     ]
    },
    {
     "name": "stderr",
     "output_type": "stream",
     "text": [
      " 66%|██████▌   | 774/1175 [2:31:59<58:31,  8.76s/it]"
     ]
    },
    {
     "name": "stdout",
     "output_type": "stream",
     "text": [
      "{'loss': 0.101, 'learning_rate': 2.047659574468085e-05, 'epoch': 16.47}\n"
     ]
    },
    {
     "name": "stderr",
     "output_type": "stream",
     "text": [
      " 66%|██████▌   | 775/1175 [2:32:07<58:19,  8.75s/it]"
     ]
    },
    {
     "name": "stdout",
     "output_type": "stream",
     "text": [
      "{'loss': 0.0729, 'learning_rate': 2.0425531914893616e-05, 'epoch': 16.49}\n"
     ]
    },
    {
     "name": "stderr",
     "output_type": "stream",
     "text": [
      " 66%|██████▌   | 776/1175 [2:32:16<58:14,  8.76s/it]"
     ]
    },
    {
     "name": "stdout",
     "output_type": "stream",
     "text": [
      "{'loss': 0.122, 'learning_rate': 2.0374468085106383e-05, 'epoch': 16.51}\n"
     ]
    },
    {
     "name": "stderr",
     "output_type": "stream",
     "text": [
      " 66%|██████▌   | 777/1175 [2:32:25<58:17,  8.79s/it]"
     ]
    },
    {
     "name": "stdout",
     "output_type": "stream",
     "text": [
      "{'loss': 0.2256, 'learning_rate': 2.032340425531915e-05, 'epoch': 16.53}\n"
     ]
    },
    {
     "name": "stderr",
     "output_type": "stream",
     "text": [
      " 66%|██████▌   | 778/1175 [2:32:34<58:05,  8.78s/it]"
     ]
    },
    {
     "name": "stdout",
     "output_type": "stream",
     "text": [
      "{'loss': 0.2972, 'learning_rate': 2.0272340425531916e-05, 'epoch': 16.55}\n"
     ]
    },
    {
     "name": "stderr",
     "output_type": "stream",
     "text": [
      " 66%|██████▋   | 779/1175 [2:32:43<58:01,  8.79s/it]"
     ]
    },
    {
     "name": "stdout",
     "output_type": "stream",
     "text": [
      "{'loss': 0.0846, 'learning_rate': 2.022127659574468e-05, 'epoch': 16.57}\n"
     ]
    },
    {
     "name": "stderr",
     "output_type": "stream",
     "text": [
      " 66%|██████▋   | 780/1175 [2:32:51<57:46,  8.77s/it]"
     ]
    },
    {
     "name": "stdout",
     "output_type": "stream",
     "text": [
      "{'loss': 0.0597, 'learning_rate': 2.0170212765957445e-05, 'epoch': 16.6}\n"
     ]
    },
    {
     "name": "stderr",
     "output_type": "stream",
     "text": [
      " 66%|██████▋   | 781/1175 [2:33:00<57:41,  8.78s/it]"
     ]
    },
    {
     "name": "stdout",
     "output_type": "stream",
     "text": [
      "{'loss': 0.4458, 'learning_rate': 2.0119148936170212e-05, 'epoch': 16.62}\n"
     ]
    },
    {
     "name": "stderr",
     "output_type": "stream",
     "text": [
      " 67%|██████▋   | 782/1175 [2:33:09<57:30,  8.78s/it]"
     ]
    },
    {
     "name": "stdout",
     "output_type": "stream",
     "text": [
      "{'loss': 0.1172, 'learning_rate': 2.006808510638298e-05, 'epoch': 16.64}\n"
     ]
    },
    {
     "name": "stderr",
     "output_type": "stream",
     "text": [
      " 67%|██████▋   | 783/1175 [2:33:18<57:25,  8.79s/it]"
     ]
    },
    {
     "name": "stdout",
     "output_type": "stream",
     "text": [
      "{'loss': 0.0696, 'learning_rate': 2.0017021276595745e-05, 'epoch': 16.66}\n"
     ]
    },
    {
     "name": "stderr",
     "output_type": "stream",
     "text": [
      " 67%|██████▋   | 784/1175 [2:33:27<57:13,  8.78s/it]"
     ]
    },
    {
     "name": "stdout",
     "output_type": "stream",
     "text": [
      "{'loss': 0.1704, 'learning_rate': 1.996595744680851e-05, 'epoch': 16.68}\n"
     ]
    },
    {
     "name": "stderr",
     "output_type": "stream",
     "text": [
      " 67%|██████▋   | 785/1175 [2:33:35<57:08,  8.79s/it]"
     ]
    },
    {
     "name": "stdout",
     "output_type": "stream",
     "text": [
      "{'loss': 0.1485, 'learning_rate': 1.9914893617021275e-05, 'epoch': 16.7}\n"
     ]
    },
    {
     "name": "stderr",
     "output_type": "stream",
     "text": [
      " 67%|██████▋   | 786/1175 [2:33:44<56:54,  8.78s/it]"
     ]
    },
    {
     "name": "stdout",
     "output_type": "stream",
     "text": [
      "{'loss': 0.0811, 'learning_rate': 1.986382978723404e-05, 'epoch': 16.72}\n"
     ]
    },
    {
     "name": "stderr",
     "output_type": "stream",
     "text": [
      " 67%|██████▋   | 787/1175 [2:33:53<56:47,  8.78s/it]"
     ]
    },
    {
     "name": "stdout",
     "output_type": "stream",
     "text": [
      "{'loss': 0.0797, 'learning_rate': 1.9812765957446808e-05, 'epoch': 16.74}\n"
     ]
    },
    {
     "name": "stderr",
     "output_type": "stream",
     "text": [
      " 67%|██████▋   | 788/1175 [2:34:02<56:45,  8.80s/it]"
     ]
    },
    {
     "name": "stdout",
     "output_type": "stream",
     "text": [
      "{'loss': 0.2906, 'learning_rate': 1.9761702127659574e-05, 'epoch': 16.77}\n"
     ]
    },
    {
     "name": "stderr",
     "output_type": "stream",
     "text": [
      " 67%|██████▋   | 789/1175 [2:34:11<56:45,  8.82s/it]"
     ]
    },
    {
     "name": "stdout",
     "output_type": "stream",
     "text": [
      "{'loss': 0.1447, 'learning_rate': 1.971063829787234e-05, 'epoch': 16.79}\n"
     ]
    },
    {
     "name": "stderr",
     "output_type": "stream",
     "text": [
      " 67%|██████▋   | 790/1175 [2:34:19<56:33,  8.82s/it]"
     ]
    },
    {
     "name": "stdout",
     "output_type": "stream",
     "text": [
      "{'loss': 0.1508, 'learning_rate': 1.9659574468085104e-05, 'epoch': 16.81}\n"
     ]
    },
    {
     "name": "stderr",
     "output_type": "stream",
     "text": [
      " 67%|██████▋   | 791/1175 [2:34:28<56:17,  8.80s/it]"
     ]
    },
    {
     "name": "stdout",
     "output_type": "stream",
     "text": [
      "{'loss': 0.1061, 'learning_rate': 1.960851063829787e-05, 'epoch': 16.83}\n"
     ]
    },
    {
     "name": "stderr",
     "output_type": "stream",
     "text": [
      " 67%|██████▋   | 792/1175 [2:34:37<56:00,  8.77s/it]"
     ]
    },
    {
     "name": "stdout",
     "output_type": "stream",
     "text": [
      "{'loss': 0.2049, 'learning_rate': 1.9557446808510637e-05, 'epoch': 16.85}\n"
     ]
    },
    {
     "name": "stderr",
     "output_type": "stream",
     "text": [
      " 67%|██████▋   | 793/1175 [2:34:46<56:05,  8.81s/it]"
     ]
    },
    {
     "name": "stdout",
     "output_type": "stream",
     "text": [
      "{'loss': 0.1022, 'learning_rate': 1.9506382978723403e-05, 'epoch': 16.87}\n"
     ]
    },
    {
     "name": "stderr",
     "output_type": "stream",
     "text": [
      " 68%|██████▊   | 794/1175 [2:34:55<55:49,  8.79s/it]"
     ]
    },
    {
     "name": "stdout",
     "output_type": "stream",
     "text": [
      "{'loss': 0.149, 'learning_rate': 1.945531914893617e-05, 'epoch': 16.89}\n"
     ]
    },
    {
     "name": "stderr",
     "output_type": "stream",
     "text": [
      " 68%|██████▊   | 795/1175 [2:35:03<55:38,  8.79s/it]"
     ]
    },
    {
     "name": "stdout",
     "output_type": "stream",
     "text": [
      "{'loss': 0.0764, 'learning_rate': 1.9404255319148936e-05, 'epoch': 16.91}\n"
     ]
    },
    {
     "name": "stderr",
     "output_type": "stream",
     "text": [
      " 68%|██████▊   | 796/1175 [2:35:12<55:22,  8.77s/it]"
     ]
    },
    {
     "name": "stdout",
     "output_type": "stream",
     "text": [
      "{'loss': 0.089, 'learning_rate': 1.93531914893617e-05, 'epoch': 16.94}\n"
     ]
    },
    {
     "name": "stderr",
     "output_type": "stream",
     "text": [
      " 68%|██████▊   | 797/1175 [2:35:21<55:19,  8.78s/it]"
     ]
    },
    {
     "name": "stdout",
     "output_type": "stream",
     "text": [
      "{'loss': 0.2673, 'learning_rate': 1.930212765957447e-05, 'epoch': 16.96}\n"
     ]
    },
    {
     "name": "stderr",
     "output_type": "stream",
     "text": [
      " 68%|██████▊   | 798/1175 [2:35:29<54:22,  8.65s/it]"
     ]
    },
    {
     "name": "stdout",
     "output_type": "stream",
     "text": [
      "{'loss': 0.1242, 'learning_rate': 1.9251063829787236e-05, 'epoch': 16.98}\n"
     ]
    },
    {
     "name": "stderr",
     "output_type": "stream",
     "text": [
      " 68%|██████▊   | 799/1175 [2:35:34<47:42,  7.61s/it]"
     ]
    },
    {
     "name": "stdout",
     "output_type": "stream",
     "text": [
      "{'loss': 0.0526, 'learning_rate': 1.9200000000000003e-05, 'epoch': 17.0}\n"
     ]
    },
    {
     "name": "stderr",
     "output_type": "stream",
     "text": [
      " 68%|██████▊   | 800/1175 [2:35:45<52:23,  8.38s/it]"
     ]
    },
    {
     "name": "stdout",
     "output_type": "stream",
     "text": [
      "{'loss': 0.1145, 'learning_rate': 1.914893617021277e-05, 'epoch': 17.02}\n"
     ]
    },
    {
     "name": "stderr",
     "output_type": "stream",
     "text": [
      "                                                    \n",
      " 68%|██████▊   | 800/1175 [2:41:26<52:23,  8.38s/it]"
     ]
    },
    {
     "name": "stdout",
     "output_type": "stream",
     "text": [
      "{'eval_loss': 0.06604732573032379, 'eval_mean_iou': 0.2606704910542478, 'eval_mean_accuracy': 0.28380660358253024, 'eval_overall_accuracy': 0.9907657360208446, 'eval_per_category_iou': [0.0, 0.9923442168129348, 0.8169654569304766, 0.0, 0.0, 0.0, 0.0, 0.4432943155425582, 0.3690520596070464, 0.7507755728723012, 0.016284761939903816, 0.0, 0.0], 'eval_per_category_accuracy': [0.0, 0.9989567768422114, 0.9038094086346595, 0.0, 0.0, 0.0, 0.0, 0.47789992055866803, 0.498383437829341, 0.79385895007617, 0.01657735263184254, 0.0, 0.0], 'eval_runtime': 341.2052, 'eval_samples_per_second': 0.68, 'eval_steps_per_second': 0.07, 'epoch': 17.02}\n"
     ]
    },
    {
     "name": "stderr",
     "output_type": "stream",
     "text": [
      " 68%|██████▊   | 801/1175 [2:41:35<11:32:06, 111.03s/it]"
     ]
    },
    {
     "name": "stdout",
     "output_type": "stream",
     "text": [
      "{'loss': 0.2953, 'learning_rate': 1.9097872340425536e-05, 'epoch': 17.04}\n"
     ]
    },
    {
     "name": "stderr",
     "output_type": "stream",
     "text": [
      " 68%|██████▊   | 802/1175 [2:41:44<8:19:36, 80.37s/it]  "
     ]
    },
    {
     "name": "stdout",
     "output_type": "stream",
     "text": [
      "{'loss': 0.0686, 'learning_rate': 1.90468085106383e-05, 'epoch': 17.06}\n"
     ]
    },
    {
     "name": "stderr",
     "output_type": "stream",
     "text": [
      " 68%|██████▊   | 803/1175 [2:41:53<6:05:04, 58.88s/it]"
     ]
    },
    {
     "name": "stdout",
     "output_type": "stream",
     "text": [
      "{'loss': 0.2, 'learning_rate': 1.8995744680851065e-05, 'epoch': 17.09}\n"
     ]
    },
    {
     "name": "stderr",
     "output_type": "stream",
     "text": [
      " 68%|██████▊   | 804/1175 [2:42:02<4:31:22, 43.89s/it]"
     ]
    },
    {
     "name": "stdout",
     "output_type": "stream",
     "text": [
      "{'loss': 0.123, 'learning_rate': 1.8944680851063832e-05, 'epoch': 17.11}\n"
     ]
    },
    {
     "name": "stderr",
     "output_type": "stream",
     "text": [
      " 69%|██████▊   | 805/1175 [2:42:10<3:25:45, 33.37s/it]"
     ]
    },
    {
     "name": "stdout",
     "output_type": "stream",
     "text": [
      "{'loss': 0.2756, 'learning_rate': 1.8893617021276598e-05, 'epoch': 17.13}\n"
     ]
    },
    {
     "name": "stderr",
     "output_type": "stream",
     "text": [
      " 69%|██████▊   | 806/1175 [2:42:19<2:39:56, 26.01s/it]"
     ]
    },
    {
     "name": "stdout",
     "output_type": "stream",
     "text": [
      "{'loss': 0.0593, 'learning_rate': 1.8842553191489365e-05, 'epoch': 17.15}\n"
     ]
    },
    {
     "name": "stderr",
     "output_type": "stream",
     "text": [
      " 69%|██████▊   | 807/1175 [2:42:28<2:07:46, 20.83s/it]"
     ]
    },
    {
     "name": "stdout",
     "output_type": "stream",
     "text": [
      "{'loss': 0.1151, 'learning_rate': 1.8791489361702128e-05, 'epoch': 17.17}\n"
     ]
    },
    {
     "name": "stderr",
     "output_type": "stream",
     "text": [
      " 69%|██████▉   | 808/1175 [2:42:37<1:45:13, 17.20s/it]"
     ]
    },
    {
     "name": "stdout",
     "output_type": "stream",
     "text": [
      "{'loss': 0.1008, 'learning_rate': 1.8740425531914894e-05, 'epoch': 17.19}\n"
     ]
    },
    {
     "name": "stderr",
     "output_type": "stream",
     "text": [
      " 69%|██████▉   | 809/1175 [2:42:46<1:29:34, 14.69s/it]"
     ]
    },
    {
     "name": "stdout",
     "output_type": "stream",
     "text": [
      "{'loss': 0.1093, 'learning_rate': 1.868936170212766e-05, 'epoch': 17.21}\n"
     ]
    },
    {
     "name": "stderr",
     "output_type": "stream",
     "text": [
      " 69%|██████▉   | 810/1175 [2:42:54<1:18:30, 12.90s/it]"
     ]
    },
    {
     "name": "stdout",
     "output_type": "stream",
     "text": [
      "{'loss': 0.0819, 'learning_rate': 1.8638297872340427e-05, 'epoch': 17.23}\n"
     ]
    },
    {
     "name": "stderr",
     "output_type": "stream",
     "text": [
      " 69%|██████▉   | 811/1175 [2:43:03<1:10:54, 11.69s/it]"
     ]
    },
    {
     "name": "stdout",
     "output_type": "stream",
     "text": [
      "{'loss': 0.259, 'learning_rate': 1.8587234042553194e-05, 'epoch': 17.26}\n"
     ]
    },
    {
     "name": "stderr",
     "output_type": "stream",
     "text": [
      " 69%|██████▉   | 812/1175 [2:43:12<1:05:22, 10.81s/it]"
     ]
    },
    {
     "name": "stdout",
     "output_type": "stream",
     "text": [
      "{'loss': 0.2825, 'learning_rate': 1.853617021276596e-05, 'epoch': 17.28}\n"
     ]
    },
    {
     "name": "stderr",
     "output_type": "stream",
     "text": [
      " 69%|██████▉   | 813/1175 [2:43:21<1:01:27, 10.19s/it]"
     ]
    },
    {
     "name": "stdout",
     "output_type": "stream",
     "text": [
      "{'loss': 0.0688, 'learning_rate': 1.8485106382978724e-05, 'epoch': 17.3}\n"
     ]
    },
    {
     "name": "stderr",
     "output_type": "stream",
     "text": [
      " 69%|██████▉   | 814/1175 [2:43:29<58:45,  9.76s/it]  "
     ]
    },
    {
     "name": "stdout",
     "output_type": "stream",
     "text": [
      "{'loss': 0.0753, 'learning_rate': 1.843404255319149e-05, 'epoch': 17.32}\n"
     ]
    },
    {
     "name": "stderr",
     "output_type": "stream",
     "text": [
      " 69%|██████▉   | 815/1175 [2:43:38<56:45,  9.46s/it]"
     ]
    },
    {
     "name": "stdout",
     "output_type": "stream",
     "text": [
      "{'loss': 0.3297, 'learning_rate': 1.8382978723404257e-05, 'epoch': 17.34}\n"
     ]
    },
    {
     "name": "stderr",
     "output_type": "stream",
     "text": [
      " 69%|██████▉   | 816/1175 [2:43:47<55:23,  9.26s/it]"
     ]
    },
    {
     "name": "stdout",
     "output_type": "stream",
     "text": [
      "{'loss': 0.1168, 'learning_rate': 1.8331914893617023e-05, 'epoch': 17.36}\n"
     ]
    },
    {
     "name": "stderr",
     "output_type": "stream",
     "text": [
      " 70%|██████▉   | 817/1175 [2:43:56<54:19,  9.11s/it]"
     ]
    },
    {
     "name": "stdout",
     "output_type": "stream",
     "text": [
      "{'loss': 0.2796, 'learning_rate': 1.828085106382979e-05, 'epoch': 17.38}\n"
     ]
    },
    {
     "name": "stderr",
     "output_type": "stream",
     "text": [
      " 70%|██████▉   | 818/1175 [2:44:04<53:30,  8.99s/it]"
     ]
    },
    {
     "name": "stdout",
     "output_type": "stream",
     "text": [
      "{'loss': 0.1036, 'learning_rate': 1.8229787234042556e-05, 'epoch': 17.4}\n"
     ]
    },
    {
     "name": "stderr",
     "output_type": "stream",
     "text": [
      " 70%|██████▉   | 819/1175 [2:44:13<52:58,  8.93s/it]"
     ]
    },
    {
     "name": "stdout",
     "output_type": "stream",
     "text": [
      "{'loss': 0.1296, 'learning_rate': 1.817872340425532e-05, 'epoch': 17.43}\n"
     ]
    },
    {
     "name": "stderr",
     "output_type": "stream",
     "text": [
      " 70%|██████▉   | 820/1175 [2:44:22<52:34,  8.89s/it]"
     ]
    },
    {
     "name": "stdout",
     "output_type": "stream",
     "text": [
      "{'loss': 0.15, 'learning_rate': 1.8127659574468086e-05, 'epoch': 17.45}\n"
     ]
    },
    {
     "name": "stderr",
     "output_type": "stream",
     "text": [
      " 70%|██████▉   | 821/1175 [2:44:31<52:18,  8.87s/it]"
     ]
    },
    {
     "name": "stdout",
     "output_type": "stream",
     "text": [
      "{'loss': 0.0874, 'learning_rate': 1.8076595744680852e-05, 'epoch': 17.47}\n"
     ]
    },
    {
     "name": "stderr",
     "output_type": "stream",
     "text": [
      " 70%|██████▉   | 822/1175 [2:44:40<52:01,  8.84s/it]"
     ]
    },
    {
     "name": "stdout",
     "output_type": "stream",
     "text": [
      "{'loss': 0.0669, 'learning_rate': 1.802553191489362e-05, 'epoch': 17.49}\n"
     ]
    },
    {
     "name": "stderr",
     "output_type": "stream",
     "text": [
      " 70%|███████   | 823/1175 [2:44:48<51:48,  8.83s/it]"
     ]
    },
    {
     "name": "stdout",
     "output_type": "stream",
     "text": [
      "{'loss': 0.0655, 'learning_rate': 1.7974468085106385e-05, 'epoch': 17.51}\n"
     ]
    },
    {
     "name": "stderr",
     "output_type": "stream",
     "text": [
      " 70%|███████   | 824/1175 [2:44:57<51:28,  8.80s/it]"
     ]
    },
    {
     "name": "stdout",
     "output_type": "stream",
     "text": [
      "{'loss': 0.1351, 'learning_rate': 1.792340425531915e-05, 'epoch': 17.53}\n"
     ]
    },
    {
     "name": "stderr",
     "output_type": "stream",
     "text": [
      " 70%|███████   | 825/1175 [2:45:06<51:28,  8.83s/it]"
     ]
    },
    {
     "name": "stdout",
     "output_type": "stream",
     "text": [
      "{'loss': 0.1121, 'learning_rate': 1.7872340425531915e-05, 'epoch': 17.55}\n"
     ]
    },
    {
     "name": "stderr",
     "output_type": "stream",
     "text": [
      " 70%|███████   | 826/1175 [2:45:15<51:19,  8.82s/it]"
     ]
    },
    {
     "name": "stdout",
     "output_type": "stream",
     "text": [
      "{'loss': 0.2712, 'learning_rate': 1.782127659574468e-05, 'epoch': 17.57}\n"
     ]
    },
    {
     "name": "stderr",
     "output_type": "stream",
     "text": [
      " 70%|███████   | 827/1175 [2:45:24<51:12,  8.83s/it]"
     ]
    },
    {
     "name": "stdout",
     "output_type": "stream",
     "text": [
      "{'loss': 0.1016, 'learning_rate': 1.7770212765957448e-05, 'epoch': 17.6}\n"
     ]
    },
    {
     "name": "stderr",
     "output_type": "stream",
     "text": [
      " 70%|███████   | 828/1175 [2:45:32<50:50,  8.79s/it]"
     ]
    },
    {
     "name": "stdout",
     "output_type": "stream",
     "text": [
      "{'loss': 0.0843, 'learning_rate': 1.7719148936170215e-05, 'epoch': 17.62}\n"
     ]
    },
    {
     "name": "stderr",
     "output_type": "stream",
     "text": [
      " 71%|███████   | 829/1175 [2:45:41<50:47,  8.81s/it]"
     ]
    },
    {
     "name": "stdout",
     "output_type": "stream",
     "text": [
      "{'loss': 0.1291, 'learning_rate': 1.766808510638298e-05, 'epoch': 17.64}\n"
     ]
    },
    {
     "name": "stderr",
     "output_type": "stream",
     "text": [
      " 71%|███████   | 830/1175 [2:45:50<50:43,  8.82s/it]"
     ]
    },
    {
     "name": "stdout",
     "output_type": "stream",
     "text": [
      "{'loss': 0.1453, 'learning_rate': 1.7617021276595744e-05, 'epoch': 17.66}\n"
     ]
    },
    {
     "name": "stderr",
     "output_type": "stream",
     "text": [
      " 71%|███████   | 831/1175 [2:45:59<50:36,  8.83s/it]"
     ]
    },
    {
     "name": "stdout",
     "output_type": "stream",
     "text": [
      "{'loss': 0.1197, 'learning_rate': 1.756595744680851e-05, 'epoch': 17.68}\n"
     ]
    },
    {
     "name": "stderr",
     "output_type": "stream",
     "text": [
      " 71%|███████   | 832/1175 [2:46:08<50:23,  8.81s/it]"
     ]
    },
    {
     "name": "stdout",
     "output_type": "stream",
     "text": [
      "{'loss': 0.0968, 'learning_rate': 1.7514893617021277e-05, 'epoch': 17.7}\n"
     ]
    },
    {
     "name": "stderr",
     "output_type": "stream",
     "text": [
      " 71%|███████   | 833/1175 [2:46:17<50:12,  8.81s/it]"
     ]
    },
    {
     "name": "stdout",
     "output_type": "stream",
     "text": [
      "{'loss': 0.1158, 'learning_rate': 1.7463829787234044e-05, 'epoch': 17.72}\n"
     ]
    },
    {
     "name": "stderr",
     "output_type": "stream",
     "text": [
      " 71%|███████   | 834/1175 [2:46:25<49:56,  8.79s/it]"
     ]
    },
    {
     "name": "stdout",
     "output_type": "stream",
     "text": [
      "{'loss': 0.1547, 'learning_rate': 1.741276595744681e-05, 'epoch': 17.74}\n"
     ]
    },
    {
     "name": "stderr",
     "output_type": "stream",
     "text": [
      " 71%|███████   | 835/1175 [2:46:34<49:51,  8.80s/it]"
     ]
    },
    {
     "name": "stdout",
     "output_type": "stream",
     "text": [
      "{'loss': 0.0774, 'learning_rate': 1.7361702127659573e-05, 'epoch': 17.77}\n"
     ]
    },
    {
     "name": "stderr",
     "output_type": "stream",
     "text": [
      " 71%|███████   | 836/1175 [2:46:43<49:43,  8.80s/it]"
     ]
    },
    {
     "name": "stdout",
     "output_type": "stream",
     "text": [
      "{'loss': 0.1857, 'learning_rate': 1.731063829787234e-05, 'epoch': 17.79}\n"
     ]
    },
    {
     "name": "stderr",
     "output_type": "stream",
     "text": [
      " 71%|███████   | 837/1175 [2:46:52<49:38,  8.81s/it]"
     ]
    },
    {
     "name": "stdout",
     "output_type": "stream",
     "text": [
      "{'loss': 0.1211, 'learning_rate': 1.7259574468085107e-05, 'epoch': 17.81}\n"
     ]
    },
    {
     "name": "stderr",
     "output_type": "stream",
     "text": [
      " 71%|███████▏  | 838/1175 [2:47:00<49:20,  8.78s/it]"
     ]
    },
    {
     "name": "stdout",
     "output_type": "stream",
     "text": [
      "{'loss': 0.0736, 'learning_rate': 1.7208510638297873e-05, 'epoch': 17.83}\n"
     ]
    },
    {
     "name": "stderr",
     "output_type": "stream",
     "text": [
      " 71%|███████▏  | 839/1175 [2:47:09<49:14,  8.79s/it]"
     ]
    },
    {
     "name": "stdout",
     "output_type": "stream",
     "text": [
      "{'loss': 0.1112, 'learning_rate': 1.715744680851064e-05, 'epoch': 17.85}\n"
     ]
    },
    {
     "name": "stderr",
     "output_type": "stream",
     "text": [
      " 71%|███████▏  | 840/1175 [2:47:18<49:09,  8.80s/it]"
     ]
    },
    {
     "name": "stdout",
     "output_type": "stream",
     "text": [
      "{'loss': 0.1013, 'learning_rate': 1.7106382978723406e-05, 'epoch': 17.87}\n"
     ]
    },
    {
     "name": "stderr",
     "output_type": "stream",
     "text": [
      " 72%|███████▏  | 841/1175 [2:47:27<49:06,  8.82s/it]"
     ]
    },
    {
     "name": "stdout",
     "output_type": "stream",
     "text": [
      "{'loss': 0.0935, 'learning_rate': 1.705531914893617e-05, 'epoch': 17.89}\n"
     ]
    },
    {
     "name": "stderr",
     "output_type": "stream",
     "text": [
      " 72%|███████▏  | 842/1175 [2:47:36<48:52,  8.81s/it]"
     ]
    },
    {
     "name": "stdout",
     "output_type": "stream",
     "text": [
      "{'loss': 0.227, 'learning_rate': 1.7004255319148936e-05, 'epoch': 17.91}\n"
     ]
    },
    {
     "name": "stderr",
     "output_type": "stream",
     "text": [
      " 72%|███████▏  | 843/1175 [2:47:45<48:40,  8.80s/it]"
     ]
    },
    {
     "name": "stdout",
     "output_type": "stream",
     "text": [
      "{'loss': 0.087, 'learning_rate': 1.6953191489361702e-05, 'epoch': 17.94}\n"
     ]
    },
    {
     "name": "stderr",
     "output_type": "stream",
     "text": [
      " 72%|███████▏  | 844/1175 [2:47:53<48:22,  8.77s/it]"
     ]
    },
    {
     "name": "stdout",
     "output_type": "stream",
     "text": [
      "{'loss': 0.1482, 'learning_rate': 1.690212765957447e-05, 'epoch': 17.96}\n"
     ]
    },
    {
     "name": "stderr",
     "output_type": "stream",
     "text": [
      " 72%|███████▏  | 845/1175 [2:48:02<47:31,  8.64s/it]"
     ]
    },
    {
     "name": "stdout",
     "output_type": "stream",
     "text": [
      "{'loss': 0.0954, 'learning_rate': 1.6851063829787235e-05, 'epoch': 17.98}\n"
     ]
    },
    {
     "name": "stderr",
     "output_type": "stream",
     "text": [
      " 72%|███████▏  | 846/1175 [2:48:07<41:38,  7.59s/it]"
     ]
    },
    {
     "name": "stdout",
     "output_type": "stream",
     "text": [
      "{'loss': 0.1362, 'learning_rate': 1.6800000000000002e-05, 'epoch': 18.0}\n"
     ]
    },
    {
     "name": "stderr",
     "output_type": "stream",
     "text": [
      " 72%|███████▏  | 847/1175 [2:48:17<45:51,  8.39s/it]"
     ]
    },
    {
     "name": "stdout",
     "output_type": "stream",
     "text": [
      "{'loss': 0.0908, 'learning_rate': 1.6748936170212765e-05, 'epoch': 18.02}\n"
     ]
    },
    {
     "name": "stderr",
     "output_type": "stream",
     "text": [
      " 72%|███████▏  | 848/1175 [2:48:26<46:17,  8.49s/it]"
     ]
    },
    {
     "name": "stdout",
     "output_type": "stream",
     "text": [
      "{'loss': 0.1048, 'learning_rate': 1.669787234042553e-05, 'epoch': 18.04}\n"
     ]
    },
    {
     "name": "stderr",
     "output_type": "stream",
     "text": [
      " 72%|███████▏  | 849/1175 [2:48:34<46:36,  8.58s/it]"
     ]
    },
    {
     "name": "stdout",
     "output_type": "stream",
     "text": [
      "{'loss': 0.097, 'learning_rate': 1.6646808510638298e-05, 'epoch': 18.06}\n"
     ]
    },
    {
     "name": "stderr",
     "output_type": "stream",
     "text": [
      " 72%|███████▏  | 850/1175 [2:48:43<46:34,  8.60s/it]"
     ]
    },
    {
     "name": "stdout",
     "output_type": "stream",
     "text": [
      "{'loss': 0.1367, 'learning_rate': 1.6595744680851064e-05, 'epoch': 18.09}\n"
     ]
    },
    {
     "name": "stderr",
     "output_type": "stream",
     "text": [
      " 72%|███████▏  | 851/1175 [2:48:52<46:48,  8.67s/it]"
     ]
    },
    {
     "name": "stdout",
     "output_type": "stream",
     "text": [
      "{'loss': 0.5379, 'learning_rate': 1.654468085106383e-05, 'epoch': 18.11}\n"
     ]
    },
    {
     "name": "stderr",
     "output_type": "stream",
     "text": [
      " 73%|███████▎  | 852/1175 [2:49:01<46:49,  8.70s/it]"
     ]
    },
    {
     "name": "stdout",
     "output_type": "stream",
     "text": [
      "{'loss': 0.0962, 'learning_rate': 1.6493617021276594e-05, 'epoch': 18.13}\n"
     ]
    },
    {
     "name": "stderr",
     "output_type": "stream",
     "text": [
      " 73%|███████▎  | 853/1175 [2:49:09<46:46,  8.72s/it]"
     ]
    },
    {
     "name": "stdout",
     "output_type": "stream",
     "text": [
      "{'loss': 0.3704, 'learning_rate': 1.644255319148936e-05, 'epoch': 18.15}\n"
     ]
    },
    {
     "name": "stderr",
     "output_type": "stream",
     "text": [
      " 73%|███████▎  | 854/1175 [2:49:18<46:38,  8.72s/it]"
     ]
    },
    {
     "name": "stdout",
     "output_type": "stream",
     "text": [
      "{'loss': 0.1402, 'learning_rate': 1.6391489361702127e-05, 'epoch': 18.17}\n"
     ]
    },
    {
     "name": "stderr",
     "output_type": "stream",
     "text": [
      " 73%|███████▎  | 855/1175 [2:49:27<46:45,  8.77s/it]"
     ]
    },
    {
     "name": "stdout",
     "output_type": "stream",
     "text": [
      "{'loss': 0.0843, 'learning_rate': 1.6340425531914894e-05, 'epoch': 18.19}\n"
     ]
    },
    {
     "name": "stderr",
     "output_type": "stream",
     "text": [
      " 73%|███████▎  | 856/1175 [2:49:36<46:40,  8.78s/it]"
     ]
    },
    {
     "name": "stdout",
     "output_type": "stream",
     "text": [
      "{'loss': 0.1254, 'learning_rate': 1.628936170212766e-05, 'epoch': 18.21}\n"
     ]
    },
    {
     "name": "stderr",
     "output_type": "stream",
     "text": [
      " 73%|███████▎  | 857/1175 [2:49:45<46:31,  8.78s/it]"
     ]
    },
    {
     "name": "stdout",
     "output_type": "stream",
     "text": [
      "{'loss': 0.078, 'learning_rate': 1.6238297872340427e-05, 'epoch': 18.23}\n"
     ]
    },
    {
     "name": "stderr",
     "output_type": "stream",
     "text": [
      " 73%|███████▎  | 858/1175 [2:49:53<46:20,  8.77s/it]"
     ]
    },
    {
     "name": "stdout",
     "output_type": "stream",
     "text": [
      "{'loss': 0.1139, 'learning_rate': 1.618723404255319e-05, 'epoch': 18.26}\n"
     ]
    },
    {
     "name": "stderr",
     "output_type": "stream",
     "text": [
      " 73%|███████▎  | 859/1175 [2:50:02<46:12,  8.77s/it]"
     ]
    },
    {
     "name": "stdout",
     "output_type": "stream",
     "text": [
      "{'loss': 0.1222, 'learning_rate': 1.6136170212765956e-05, 'epoch': 18.28}\n"
     ]
    },
    {
     "name": "stderr",
     "output_type": "stream",
     "text": [
      " 73%|███████▎  | 860/1175 [2:50:11<46:06,  8.78s/it]"
     ]
    },
    {
     "name": "stdout",
     "output_type": "stream",
     "text": [
      "{'loss': 0.0535, 'learning_rate': 1.6085106382978723e-05, 'epoch': 18.3}\n"
     ]
    },
    {
     "name": "stderr",
     "output_type": "stream",
     "text": [
      " 73%|███████▎  | 861/1175 [2:50:20<45:58,  8.78s/it]"
     ]
    },
    {
     "name": "stdout",
     "output_type": "stream",
     "text": [
      "{'loss': 0.0716, 'learning_rate': 1.603404255319149e-05, 'epoch': 18.32}\n"
     ]
    },
    {
     "name": "stderr",
     "output_type": "stream",
     "text": [
      " 73%|███████▎  | 862/1175 [2:50:29<45:46,  8.78s/it]"
     ]
    },
    {
     "name": "stdout",
     "output_type": "stream",
     "text": [
      "{'loss': 0.0977, 'learning_rate': 1.5982978723404256e-05, 'epoch': 18.34}\n"
     ]
    },
    {
     "name": "stderr",
     "output_type": "stream",
     "text": [
      " 73%|███████▎  | 863/1175 [2:50:37<45:39,  8.78s/it]"
     ]
    },
    {
     "name": "stdout",
     "output_type": "stream",
     "text": [
      "{'loss': 0.089, 'learning_rate': 1.593191489361702e-05, 'epoch': 18.36}\n"
     ]
    },
    {
     "name": "stderr",
     "output_type": "stream",
     "text": [
      " 74%|███████▎  | 864/1175 [2:50:46<45:29,  8.78s/it]"
     ]
    },
    {
     "name": "stdout",
     "output_type": "stream",
     "text": [
      "{'loss': 0.1006, 'learning_rate': 1.5880851063829786e-05, 'epoch': 18.38}\n"
     ]
    },
    {
     "name": "stderr",
     "output_type": "stream",
     "text": [
      " 74%|███████▎  | 865/1175 [2:50:55<45:27,  8.80s/it]"
     ]
    },
    {
     "name": "stdout",
     "output_type": "stream",
     "text": [
      "{'loss': 0.228, 'learning_rate': 1.5829787234042552e-05, 'epoch': 18.4}\n"
     ]
    },
    {
     "name": "stderr",
     "output_type": "stream",
     "text": [
      " 74%|███████▎  | 866/1175 [2:51:04<45:11,  8.78s/it]"
     ]
    },
    {
     "name": "stdout",
     "output_type": "stream",
     "text": [
      "{'loss': 0.0726, 'learning_rate': 1.577872340425532e-05, 'epoch': 18.43}\n"
     ]
    },
    {
     "name": "stderr",
     "output_type": "stream",
     "text": [
      " 74%|███████▍  | 867/1175 [2:51:12<45:05,  8.78s/it]"
     ]
    },
    {
     "name": "stdout",
     "output_type": "stream",
     "text": [
      "{'loss': 0.0609, 'learning_rate': 1.5727659574468085e-05, 'epoch': 18.45}\n"
     ]
    },
    {
     "name": "stderr",
     "output_type": "stream",
     "text": [
      " 74%|███████▍  | 868/1175 [2:51:21<44:54,  8.78s/it]"
     ]
    },
    {
     "name": "stdout",
     "output_type": "stream",
     "text": [
      "{'loss': 0.2171, 'learning_rate': 1.567659574468085e-05, 'epoch': 18.47}\n"
     ]
    },
    {
     "name": "stderr",
     "output_type": "stream",
     "text": [
      " 74%|███████▍  | 869/1175 [2:51:30<44:47,  8.78s/it]"
     ]
    },
    {
     "name": "stdout",
     "output_type": "stream",
     "text": [
      "{'loss': 0.4396, 'learning_rate': 1.5625531914893615e-05, 'epoch': 18.49}\n"
     ]
    },
    {
     "name": "stderr",
     "output_type": "stream",
     "text": [
      " 74%|███████▍  | 870/1175 [2:51:39<44:44,  8.80s/it]"
     ]
    },
    {
     "name": "stdout",
     "output_type": "stream",
     "text": [
      "{'loss': 0.1051, 'learning_rate': 1.557446808510638e-05, 'epoch': 18.51}\n"
     ]
    },
    {
     "name": "stderr",
     "output_type": "stream",
     "text": [
      " 74%|███████▍  | 871/1175 [2:51:48<44:47,  8.84s/it]"
     ]
    },
    {
     "name": "stdout",
     "output_type": "stream",
     "text": [
      "{'loss': 0.125, 'learning_rate': 1.5523404255319148e-05, 'epoch': 18.53}\n"
     ]
    },
    {
     "name": "stderr",
     "output_type": "stream",
     "text": [
      " 74%|███████▍  | 872/1175 [2:51:57<44:29,  8.81s/it]"
     ]
    },
    {
     "name": "stdout",
     "output_type": "stream",
     "text": [
      "{'loss': 0.3695, 'learning_rate': 1.5472340425531914e-05, 'epoch': 18.55}\n"
     ]
    },
    {
     "name": "stderr",
     "output_type": "stream",
     "text": [
      " 74%|███████▍  | 873/1175 [2:52:05<44:19,  8.81s/it]"
     ]
    },
    {
     "name": "stdout",
     "output_type": "stream",
     "text": [
      "{'loss': 0.2985, 'learning_rate': 1.542127659574468e-05, 'epoch': 18.57}\n"
     ]
    },
    {
     "name": "stderr",
     "output_type": "stream",
     "text": [
      " 74%|███████▍  | 874/1175 [2:52:14<44:09,  8.80s/it]"
     ]
    },
    {
     "name": "stdout",
     "output_type": "stream",
     "text": [
      "{'loss': 0.0978, 'learning_rate': 1.5370212765957447e-05, 'epoch': 18.6}\n"
     ]
    },
    {
     "name": "stderr",
     "output_type": "stream",
     "text": [
      " 74%|███████▍  | 875/1175 [2:52:23<44:07,  8.83s/it]"
     ]
    },
    {
     "name": "stdout",
     "output_type": "stream",
     "text": [
      "{'loss': 0.1716, 'learning_rate': 1.531914893617021e-05, 'epoch': 18.62}\n"
     ]
    },
    {
     "name": "stderr",
     "output_type": "stream",
     "text": [
      " 75%|███████▍  | 876/1175 [2:52:32<43:51,  8.80s/it]"
     ]
    },
    {
     "name": "stdout",
     "output_type": "stream",
     "text": [
      "{'loss': 0.4329, 'learning_rate': 1.5268085106382977e-05, 'epoch': 18.64}\n"
     ]
    },
    {
     "name": "stderr",
     "output_type": "stream",
     "text": [
      " 75%|███████▍  | 877/1175 [2:52:41<43:44,  8.81s/it]"
     ]
    },
    {
     "name": "stdout",
     "output_type": "stream",
     "text": [
      "{'loss': 0.0817, 'learning_rate': 1.5217021276595745e-05, 'epoch': 18.66}\n"
     ]
    },
    {
     "name": "stderr",
     "output_type": "stream",
     "text": [
      " 75%|███████▍  | 878/1175 [2:52:49<43:27,  8.78s/it]"
     ]
    },
    {
     "name": "stdout",
     "output_type": "stream",
     "text": [
      "{'loss': 0.1289, 'learning_rate': 1.5165957446808512e-05, 'epoch': 18.68}\n"
     ]
    },
    {
     "name": "stderr",
     "output_type": "stream",
     "text": [
      " 75%|███████▍  | 879/1175 [2:52:58<43:26,  8.81s/it]"
     ]
    },
    {
     "name": "stdout",
     "output_type": "stream",
     "text": [
      "{'loss': 0.0961, 'learning_rate': 1.5114893617021278e-05, 'epoch': 18.7}\n"
     ]
    },
    {
     "name": "stderr",
     "output_type": "stream",
     "text": [
      " 75%|███████▍  | 880/1175 [2:53:07<43:16,  8.80s/it]"
     ]
    },
    {
     "name": "stdout",
     "output_type": "stream",
     "text": [
      "{'loss': 0.1065, 'learning_rate': 1.5063829787234041e-05, 'epoch': 18.72}\n"
     ]
    },
    {
     "name": "stderr",
     "output_type": "stream",
     "text": [
      " 75%|███████▍  | 881/1175 [2:53:16<43:08,  8.80s/it]"
     ]
    },
    {
     "name": "stdout",
     "output_type": "stream",
     "text": [
      "{'loss': 0.093, 'learning_rate': 1.5012765957446808e-05, 'epoch': 18.74}\n"
     ]
    },
    {
     "name": "stderr",
     "output_type": "stream",
     "text": [
      " 75%|███████▌  | 882/1175 [2:53:24<42:49,  8.77s/it]"
     ]
    },
    {
     "name": "stdout",
     "output_type": "stream",
     "text": [
      "{'loss': 0.1272, 'learning_rate': 1.4961702127659574e-05, 'epoch': 18.77}\n"
     ]
    },
    {
     "name": "stderr",
     "output_type": "stream",
     "text": [
      " 75%|███████▌  | 883/1175 [2:53:33<42:41,  8.77s/it]"
     ]
    },
    {
     "name": "stdout",
     "output_type": "stream",
     "text": [
      "{'loss': 0.1178, 'learning_rate': 1.4910638297872341e-05, 'epoch': 18.79}\n"
     ]
    },
    {
     "name": "stderr",
     "output_type": "stream",
     "text": [
      " 75%|███████▌  | 884/1175 [2:53:42<42:31,  8.77s/it]"
     ]
    },
    {
     "name": "stdout",
     "output_type": "stream",
     "text": [
      "{'loss': 0.0787, 'learning_rate': 1.4859574468085107e-05, 'epoch': 18.81}\n"
     ]
    },
    {
     "name": "stderr",
     "output_type": "stream",
     "text": [
      " 75%|███████▌  | 885/1175 [2:53:51<42:27,  8.78s/it]"
     ]
    },
    {
     "name": "stdout",
     "output_type": "stream",
     "text": [
      "{'loss': 0.0775, 'learning_rate': 1.4808510638297872e-05, 'epoch': 18.83}\n"
     ]
    },
    {
     "name": "stderr",
     "output_type": "stream",
     "text": [
      " 75%|███████▌  | 886/1175 [2:54:00<42:11,  8.76s/it]"
     ]
    },
    {
     "name": "stdout",
     "output_type": "stream",
     "text": [
      "{'loss': 0.0908, 'learning_rate': 1.4757446808510639e-05, 'epoch': 18.85}\n"
     ]
    },
    {
     "name": "stderr",
     "output_type": "stream",
     "text": [
      " 75%|███████▌  | 887/1175 [2:54:08<42:02,  8.76s/it]"
     ]
    },
    {
     "name": "stdout",
     "output_type": "stream",
     "text": [
      "{'loss': 0.141, 'learning_rate': 1.4706382978723404e-05, 'epoch': 18.87}\n"
     ]
    },
    {
     "name": "stderr",
     "output_type": "stream",
     "text": [
      " 76%|███████▌  | 888/1175 [2:54:17<41:54,  8.76s/it]"
     ]
    },
    {
     "name": "stdout",
     "output_type": "stream",
     "text": [
      "{'loss': 0.0914, 'learning_rate': 1.465531914893617e-05, 'epoch': 18.89}\n"
     ]
    },
    {
     "name": "stderr",
     "output_type": "stream",
     "text": [
      " 76%|███████▌  | 889/1175 [2:54:26<41:47,  8.77s/it]"
     ]
    },
    {
     "name": "stdout",
     "output_type": "stream",
     "text": [
      "{'loss': 0.075, 'learning_rate': 1.4604255319148937e-05, 'epoch': 18.91}\n"
     ]
    },
    {
     "name": "stderr",
     "output_type": "stream",
     "text": [
      " 76%|███████▌  | 890/1175 [2:54:35<41:38,  8.77s/it]"
     ]
    },
    {
     "name": "stdout",
     "output_type": "stream",
     "text": [
      "{'loss': 0.0705, 'learning_rate': 1.4553191489361701e-05, 'epoch': 18.94}\n"
     ]
    },
    {
     "name": "stderr",
     "output_type": "stream",
     "text": [
      " 76%|███████▌  | 891/1175 [2:54:43<41:32,  8.78s/it]"
     ]
    },
    {
     "name": "stdout",
     "output_type": "stream",
     "text": [
      "{'loss': 0.1762, 'learning_rate': 1.4502127659574468e-05, 'epoch': 18.96}\n"
     ]
    },
    {
     "name": "stderr",
     "output_type": "stream",
     "text": [
      " 76%|███████▌  | 892/1175 [2:54:52<40:50,  8.66s/it]"
     ]
    },
    {
     "name": "stdout",
     "output_type": "stream",
     "text": [
      "{'loss': 0.3886, 'learning_rate': 1.4451063829787235e-05, 'epoch': 18.98}\n"
     ]
    },
    {
     "name": "stderr",
     "output_type": "stream",
     "text": [
      " 76%|███████▌  | 893/1175 [2:54:57<35:44,  7.60s/it]"
     ]
    },
    {
     "name": "stdout",
     "output_type": "stream",
     "text": [
      "{'loss': 0.075, 'learning_rate': 1.44e-05, 'epoch': 19.0}\n"
     ]
    },
    {
     "name": "stderr",
     "output_type": "stream",
     "text": [
      " 76%|███████▌  | 894/1175 [2:55:07<39:02,  8.33s/it]"
     ]
    },
    {
     "name": "stdout",
     "output_type": "stream",
     "text": [
      "{'loss': 0.1534, 'learning_rate': 1.4348936170212766e-05, 'epoch': 19.02}\n"
     ]
    },
    {
     "name": "stderr",
     "output_type": "stream",
     "text": [
      " 76%|███████▌  | 895/1175 [2:55:16<39:38,  8.50s/it]"
     ]
    },
    {
     "name": "stdout",
     "output_type": "stream",
     "text": [
      "{'loss': 0.0737, 'learning_rate': 1.4297872340425532e-05, 'epoch': 19.04}\n"
     ]
    },
    {
     "name": "stderr",
     "output_type": "stream",
     "text": [
      " 76%|███████▋  | 896/1175 [2:55:25<39:49,  8.56s/it]"
     ]
    },
    {
     "name": "stdout",
     "output_type": "stream",
     "text": [
      "{'loss': 0.0918, 'learning_rate': 1.4246808510638297e-05, 'epoch': 19.06}\n"
     ]
    },
    {
     "name": "stderr",
     "output_type": "stream",
     "text": [
      " 76%|███████▋  | 897/1175 [2:55:33<39:59,  8.63s/it]"
     ]
    },
    {
     "name": "stdout",
     "output_type": "stream",
     "text": [
      "{'loss': 0.0684, 'learning_rate': 1.4195744680851064e-05, 'epoch': 19.09}\n"
     ]
    },
    {
     "name": "stderr",
     "output_type": "stream",
     "text": [
      " 76%|███████▋  | 898/1175 [2:55:42<39:58,  8.66s/it]"
     ]
    },
    {
     "name": "stdout",
     "output_type": "stream",
     "text": [
      "{'loss': 0.1665, 'learning_rate': 1.414468085106383e-05, 'epoch': 19.11}\n"
     ]
    },
    {
     "name": "stderr",
     "output_type": "stream",
     "text": [
      " 77%|███████▋  | 899/1175 [2:55:51<40:02,  8.71s/it]"
     ]
    },
    {
     "name": "stdout",
     "output_type": "stream",
     "text": [
      "{'loss': 0.0688, 'learning_rate': 1.4093617021276595e-05, 'epoch': 19.13}\n"
     ]
    },
    {
     "name": "stderr",
     "output_type": "stream",
     "text": [
      " 77%|███████▋  | 900/1175 [2:56:00<39:59,  8.73s/it]"
     ]
    },
    {
     "name": "stdout",
     "output_type": "stream",
     "text": [
      "{'loss': 0.0803, 'learning_rate': 1.4042553191489362e-05, 'epoch': 19.15}\n"
     ]
    },
    {
     "name": "stderr",
     "output_type": "stream",
     "text": [
      "                                                    \n",
      " 77%|███████▋  | 900/1175 [3:01:38<39:59,  8.73s/it]"
     ]
    },
    {
     "name": "stdout",
     "output_type": "stream",
     "text": [
      "{'eval_loss': 0.054934822022914886, 'eval_mean_iou': 0.2667195927734169, 'eval_mean_accuracy': 0.29658106160709435, 'eval_overall_accuracy': 0.9912071721307163, 'eval_per_category_iou': [0.0, 0.9931440255814407, 0.8077678276507505, 0.0, 0.0, 0.0, 0.0, 0.41130370318071097, 0.4099384791019217, 0.8122276304103874, 0.0329730401292086, 0.0, 0.0], 'eval_per_category_accuracy': [0.0, 0.998666392197264, 0.9125684570599313, 0.0, 0.0, 0.0, 0.0, 0.43613291241905094, 0.6003643963346016, 0.8745918136631688, 0.03322982921821005, 0.0, 0.0], 'eval_runtime': 338.089, 'eval_samples_per_second': 0.686, 'eval_steps_per_second': 0.071, 'epoch': 19.15}\n"
     ]
    },
    {
     "name": "stderr",
     "output_type": "stream",
     "text": [
      " 77%|███████▋  | 901/1175 [3:01:47<8:23:49, 110.33s/it]"
     ]
    },
    {
     "name": "stdout",
     "output_type": "stream",
     "text": [
      "{'loss': 0.0488, 'learning_rate': 1.3991489361702126e-05, 'epoch': 19.17}\n"
     ]
    },
    {
     "name": "stderr",
     "output_type": "stream",
     "text": [
      " 77%|███████▋  | 902/1175 [3:01:56<6:03:15, 79.84s/it] "
     ]
    },
    {
     "name": "stdout",
     "output_type": "stream",
     "text": [
      "{'loss': 0.1811, 'learning_rate': 1.3940425531914893e-05, 'epoch': 19.19}\n"
     ]
    },
    {
     "name": "stderr",
     "output_type": "stream",
     "text": [
      " 77%|███████▋  | 903/1175 [3:02:04<4:25:11, 58.50s/it]"
     ]
    },
    {
     "name": "stdout",
     "output_type": "stream",
     "text": [
      "{'loss': 0.0667, 'learning_rate': 1.3889361702127661e-05, 'epoch': 19.21}\n"
     ]
    },
    {
     "name": "stderr",
     "output_type": "stream",
     "text": [
      " 77%|███████▋  | 904/1175 [3:02:13<3:16:46, 43.57s/it]"
     ]
    },
    {
     "name": "stdout",
     "output_type": "stream",
     "text": [
      "{'loss': 0.0537, 'learning_rate': 1.3838297872340426e-05, 'epoch': 19.23}\n"
     ]
    },
    {
     "name": "stderr",
     "output_type": "stream",
     "text": [
      " 77%|███████▋  | 905/1175 [3:02:22<2:29:02, 33.12s/it]"
     ]
    },
    {
     "name": "stdout",
     "output_type": "stream",
     "text": [
      "{'loss': 0.0828, 'learning_rate': 1.3787234042553192e-05, 'epoch': 19.26}\n"
     ]
    },
    {
     "name": "stderr",
     "output_type": "stream",
     "text": [
      " 77%|███████▋  | 906/1175 [3:02:31<1:55:48, 25.83s/it]"
     ]
    },
    {
     "name": "stdout",
     "output_type": "stream",
     "text": [
      "{'loss': 0.0601, 'learning_rate': 1.3736170212765959e-05, 'epoch': 19.28}\n"
     ]
    },
    {
     "name": "stderr",
     "output_type": "stream",
     "text": [
      " 77%|███████▋  | 907/1175 [3:02:40<1:32:32, 20.72s/it]"
     ]
    },
    {
     "name": "stdout",
     "output_type": "stream",
     "text": [
      "{'loss': 0.0688, 'learning_rate': 1.3685106382978724e-05, 'epoch': 19.3}\n"
     ]
    },
    {
     "name": "stderr",
     "output_type": "stream",
     "text": [
      " 77%|███████▋  | 908/1175 [3:02:48<1:16:12, 17.13s/it]"
     ]
    },
    {
     "name": "stdout",
     "output_type": "stream",
     "text": [
      "{'loss': 0.1716, 'learning_rate': 1.363404255319149e-05, 'epoch': 19.32}\n"
     ]
    },
    {
     "name": "stderr",
     "output_type": "stream",
     "text": [
      " 77%|███████▋  | 909/1175 [3:02:57<1:04:49, 14.62s/it]"
     ]
    },
    {
     "name": "stdout",
     "output_type": "stream",
     "text": [
      "{'loss': 0.0727, 'learning_rate': 1.3582978723404257e-05, 'epoch': 19.34}\n"
     ]
    },
    {
     "name": "stderr",
     "output_type": "stream",
     "text": [
      " 77%|███████▋  | 910/1175 [3:03:06<56:47, 12.86s/it]  "
     ]
    },
    {
     "name": "stdout",
     "output_type": "stream",
     "text": [
      "{'loss': 0.0809, 'learning_rate': 1.3531914893617022e-05, 'epoch': 19.36}\n"
     ]
    },
    {
     "name": "stderr",
     "output_type": "stream",
     "text": [
      " 78%|███████▊  | 911/1175 [3:03:15<51:14, 11.65s/it]"
     ]
    },
    {
     "name": "stdout",
     "output_type": "stream",
     "text": [
      "{'loss': 0.1279, 'learning_rate': 1.3480851063829788e-05, 'epoch': 19.38}\n"
     ]
    },
    {
     "name": "stderr",
     "output_type": "stream",
     "text": [
      " 78%|███████▊  | 912/1175 [3:03:23<47:13, 10.77s/it]"
     ]
    },
    {
     "name": "stdout",
     "output_type": "stream",
     "text": [
      "{'loss': 0.0694, 'learning_rate': 1.3429787234042555e-05, 'epoch': 19.4}\n"
     ]
    },
    {
     "name": "stderr",
     "output_type": "stream",
     "text": [
      " 78%|███████▊  | 913/1175 [3:03:32<44:26, 10.18s/it]"
     ]
    },
    {
     "name": "stdout",
     "output_type": "stream",
     "text": [
      "{'loss': 0.0882, 'learning_rate': 1.337872340425532e-05, 'epoch': 19.43}\n"
     ]
    },
    {
     "name": "stderr",
     "output_type": "stream",
     "text": [
      " 78%|███████▊  | 914/1175 [3:03:41<42:23,  9.75s/it]"
     ]
    },
    {
     "name": "stdout",
     "output_type": "stream",
     "text": [
      "{'loss': 0.2795, 'learning_rate': 1.3327659574468086e-05, 'epoch': 19.45}\n"
     ]
    },
    {
     "name": "stderr",
     "output_type": "stream",
     "text": [
      " 78%|███████▊  | 915/1175 [3:03:50<40:58,  9.46s/it]"
     ]
    },
    {
     "name": "stdout",
     "output_type": "stream",
     "text": [
      "{'loss': 0.087, 'learning_rate': 1.3276595744680851e-05, 'epoch': 19.47}\n"
     ]
    },
    {
     "name": "stderr",
     "output_type": "stream",
     "text": [
      " 78%|███████▊  | 916/1175 [3:03:58<39:54,  9.24s/it]"
     ]
    },
    {
     "name": "stdout",
     "output_type": "stream",
     "text": [
      "{'loss': 0.2452, 'learning_rate': 1.3225531914893617e-05, 'epoch': 19.49}\n"
     ]
    },
    {
     "name": "stderr",
     "output_type": "stream",
     "text": [
      " 78%|███████▊  | 917/1175 [3:04:07<39:09,  9.11s/it]"
     ]
    },
    {
     "name": "stdout",
     "output_type": "stream",
     "text": [
      "{'loss': 0.2719, 'learning_rate': 1.3174468085106384e-05, 'epoch': 19.51}\n"
     ]
    },
    {
     "name": "stderr",
     "output_type": "stream",
     "text": [
      " 78%|███████▊  | 918/1175 [3:04:16<38:36,  9.01s/it]"
     ]
    },
    {
     "name": "stdout",
     "output_type": "stream",
     "text": [
      "{'loss': 0.0932, 'learning_rate': 1.3123404255319149e-05, 'epoch': 19.53}\n"
     ]
    },
    {
     "name": "stderr",
     "output_type": "stream",
     "text": [
      " 78%|███████▊  | 919/1175 [3:04:25<38:12,  8.96s/it]"
     ]
    },
    {
     "name": "stdout",
     "output_type": "stream",
     "text": [
      "{'loss': 0.0749, 'learning_rate': 1.3072340425531915e-05, 'epoch': 19.55}\n"
     ]
    },
    {
     "name": "stderr",
     "output_type": "stream",
     "text": [
      " 78%|███████▊  | 920/1175 [3:04:34<37:50,  8.90s/it]"
     ]
    },
    {
     "name": "stdout",
     "output_type": "stream",
     "text": [
      "{'loss': 0.0767, 'learning_rate': 1.3021276595744682e-05, 'epoch': 19.57}\n"
     ]
    },
    {
     "name": "stderr",
     "output_type": "stream",
     "text": [
      " 78%|███████▊  | 921/1175 [3:04:42<37:34,  8.87s/it]"
     ]
    },
    {
     "name": "stdout",
     "output_type": "stream",
     "text": [
      "{'loss': 0.1304, 'learning_rate': 1.2970212765957447e-05, 'epoch': 19.6}\n"
     ]
    },
    {
     "name": "stderr",
     "output_type": "stream",
     "text": [
      " 78%|███████▊  | 922/1175 [3:04:51<37:18,  8.85s/it]"
     ]
    },
    {
     "name": "stdout",
     "output_type": "stream",
     "text": [
      "{'loss': 0.164, 'learning_rate': 1.2919148936170213e-05, 'epoch': 19.62}\n"
     ]
    },
    {
     "name": "stderr",
     "output_type": "stream",
     "text": [
      " 79%|███████▊  | 923/1175 [3:05:00<37:06,  8.83s/it]"
     ]
    },
    {
     "name": "stdout",
     "output_type": "stream",
     "text": [
      "{'loss': 0.0654, 'learning_rate': 1.286808510638298e-05, 'epoch': 19.64}\n"
     ]
    },
    {
     "name": "stderr",
     "output_type": "stream",
     "text": [
      " 79%|███████▊  | 924/1175 [3:05:09<36:55,  8.83s/it]"
     ]
    },
    {
     "name": "stdout",
     "output_type": "stream",
     "text": [
      "{'loss': 0.423, 'learning_rate': 1.2817021276595744e-05, 'epoch': 19.66}\n"
     ]
    },
    {
     "name": "stderr",
     "output_type": "stream",
     "text": [
      " 79%|███████▊  | 925/1175 [3:05:18<36:42,  8.81s/it]"
     ]
    },
    {
     "name": "stdout",
     "output_type": "stream",
     "text": [
      "{'loss': 0.0758, 'learning_rate': 1.2765957446808511e-05, 'epoch': 19.68}\n"
     ]
    },
    {
     "name": "stderr",
     "output_type": "stream",
     "text": [
      " 79%|███████▉  | 926/1175 [3:05:26<36:33,  8.81s/it]"
     ]
    },
    {
     "name": "stdout",
     "output_type": "stream",
     "text": [
      "{'loss': 0.3636, 'learning_rate': 1.2714893617021278e-05, 'epoch': 19.7}\n"
     ]
    },
    {
     "name": "stderr",
     "output_type": "stream",
     "text": [
      " 79%|███████▉  | 927/1175 [3:05:35<36:24,  8.81s/it]"
     ]
    },
    {
     "name": "stdout",
     "output_type": "stream",
     "text": [
      "{'loss': 0.0555, 'learning_rate': 1.2663829787234042e-05, 'epoch': 19.72}\n"
     ]
    },
    {
     "name": "stderr",
     "output_type": "stream",
     "text": [
      " 79%|███████▉  | 928/1175 [3:05:44<36:10,  8.79s/it]"
     ]
    },
    {
     "name": "stdout",
     "output_type": "stream",
     "text": [
      "{'loss': 0.0746, 'learning_rate': 1.2612765957446809e-05, 'epoch': 19.74}\n"
     ]
    },
    {
     "name": "stderr",
     "output_type": "stream",
     "text": [
      " 79%|███████▉  | 929/1175 [3:05:53<36:07,  8.81s/it]"
     ]
    },
    {
     "name": "stdout",
     "output_type": "stream",
     "text": [
      "{'loss': 0.1149, 'learning_rate': 1.2561702127659575e-05, 'epoch': 19.77}\n"
     ]
    },
    {
     "name": "stderr",
     "output_type": "stream",
     "text": [
      " 79%|███████▉  | 930/1175 [3:06:02<35:53,  8.79s/it]"
     ]
    },
    {
     "name": "stdout",
     "output_type": "stream",
     "text": [
      "{'loss': 0.0539, 'learning_rate': 1.251063829787234e-05, 'epoch': 19.79}\n"
     ]
    },
    {
     "name": "stderr",
     "output_type": "stream",
     "text": [
      " 79%|███████▉  | 931/1175 [3:06:10<35:47,  8.80s/it]"
     ]
    },
    {
     "name": "stdout",
     "output_type": "stream",
     "text": [
      "{'loss': 0.088, 'learning_rate': 1.2459574468085107e-05, 'epoch': 19.81}\n"
     ]
    },
    {
     "name": "stderr",
     "output_type": "stream",
     "text": [
      " 79%|███████▉  | 932/1175 [3:06:19<35:37,  8.80s/it]"
     ]
    },
    {
     "name": "stdout",
     "output_type": "stream",
     "text": [
      "{'loss': 0.1276, 'learning_rate': 1.2408510638297872e-05, 'epoch': 19.83}\n"
     ]
    },
    {
     "name": "stderr",
     "output_type": "stream",
     "text": [
      " 79%|███████▉  | 933/1175 [3:06:28<35:30,  8.80s/it]"
     ]
    },
    {
     "name": "stdout",
     "output_type": "stream",
     "text": [
      "{'loss': 0.1012, 'learning_rate': 1.2357446808510638e-05, 'epoch': 19.85}\n"
     ]
    },
    {
     "name": "stderr",
     "output_type": "stream",
     "text": [
      " 79%|███████▉  | 934/1175 [3:06:37<35:20,  8.80s/it]"
     ]
    },
    {
     "name": "stdout",
     "output_type": "stream",
     "text": [
      "{'loss': 0.0969, 'learning_rate': 1.2306382978723405e-05, 'epoch': 19.87}\n"
     ]
    },
    {
     "name": "stderr",
     "output_type": "stream",
     "text": [
      " 80%|███████▉  | 935/1175 [3:06:46<35:10,  8.79s/it]"
     ]
    },
    {
     "name": "stdout",
     "output_type": "stream",
     "text": [
      "{'loss': 0.0909, 'learning_rate': 1.225531914893617e-05, 'epoch': 19.89}\n"
     ]
    },
    {
     "name": "stderr",
     "output_type": "stream",
     "text": [
      " 80%|███████▉  | 936/1175 [3:06:54<35:05,  8.81s/it]"
     ]
    },
    {
     "name": "stdout",
     "output_type": "stream",
     "text": [
      "{'loss': 0.0641, 'learning_rate': 1.2204255319148936e-05, 'epoch': 19.91}\n"
     ]
    },
    {
     "name": "stderr",
     "output_type": "stream",
     "text": [
      " 80%|███████▉  | 937/1175 [3:07:03<34:51,  8.79s/it]"
     ]
    },
    {
     "name": "stdout",
     "output_type": "stream",
     "text": [
      "{'loss': 0.2053, 'learning_rate': 1.2153191489361702e-05, 'epoch': 19.94}\n"
     ]
    },
    {
     "name": "stderr",
     "output_type": "stream",
     "text": [
      " 80%|███████▉  | 938/1175 [3:07:12<34:43,  8.79s/it]"
     ]
    },
    {
     "name": "stdout",
     "output_type": "stream",
     "text": [
      "{'loss': 0.0927, 'learning_rate': 1.2102127659574467e-05, 'epoch': 19.96}\n"
     ]
    },
    {
     "name": "stderr",
     "output_type": "stream",
     "text": [
      " 80%|███████▉  | 939/1175 [3:07:20<34:06,  8.67s/it]"
     ]
    },
    {
     "name": "stdout",
     "output_type": "stream",
     "text": [
      "{'loss': 0.2954, 'learning_rate': 1.2051063829787234e-05, 'epoch': 19.98}\n"
     ]
    },
    {
     "name": "stderr",
     "output_type": "stream",
     "text": [
      " 80%|████████  | 940/1175 [3:07:25<29:51,  7.62s/it]"
     ]
    },
    {
     "name": "stdout",
     "output_type": "stream",
     "text": [
      "{'loss': 0.1727, 'learning_rate': 1.2e-05, 'epoch': 20.0}\n"
     ]
    },
    {
     "name": "stderr",
     "output_type": "stream",
     "text": [
      " 80%|████████  | 941/1175 [3:07:36<32:42,  8.39s/it]"
     ]
    },
    {
     "name": "stdout",
     "output_type": "stream",
     "text": [
      "{'loss': 0.103, 'learning_rate': 1.1948936170212765e-05, 'epoch': 20.02}\n"
     ]
    },
    {
     "name": "stderr",
     "output_type": "stream",
     "text": [
      " 80%|████████  | 942/1175 [3:07:44<33:01,  8.51s/it]"
     ]
    },
    {
     "name": "stdout",
     "output_type": "stream",
     "text": [
      "{'loss': 0.0737, 'learning_rate': 1.1897872340425532e-05, 'epoch': 20.04}\n"
     ]
    },
    {
     "name": "stderr",
     "output_type": "stream",
     "text": [
      " 80%|████████  | 943/1175 [3:07:53<33:14,  8.59s/it]"
     ]
    },
    {
     "name": "stdout",
     "output_type": "stream",
     "text": [
      "{'loss': 0.0689, 'learning_rate': 1.1846808510638298e-05, 'epoch': 20.06}\n"
     ]
    },
    {
     "name": "stderr",
     "output_type": "stream",
     "text": [
      " 80%|████████  | 944/1175 [3:08:02<33:17,  8.65s/it]"
     ]
    },
    {
     "name": "stdout",
     "output_type": "stream",
     "text": [
      "{'loss': 0.0726, 'learning_rate': 1.1795744680851063e-05, 'epoch': 20.09}\n"
     ]
    },
    {
     "name": "stderr",
     "output_type": "stream",
     "text": [
      " 80%|████████  | 945/1175 [3:08:11<33:23,  8.71s/it]"
     ]
    },
    {
     "name": "stdout",
     "output_type": "stream",
     "text": [
      "{'loss': 0.113, 'learning_rate': 1.1744680851063831e-05, 'epoch': 20.11}\n"
     ]
    },
    {
     "name": "stderr",
     "output_type": "stream",
     "text": [
      " 81%|████████  | 946/1175 [3:08:20<33:24,  8.76s/it]"
     ]
    },
    {
     "name": "stdout",
     "output_type": "stream",
     "text": [
      "{'loss': 0.0557, 'learning_rate': 1.1693617021276596e-05, 'epoch': 20.13}\n"
     ]
    },
    {
     "name": "stderr",
     "output_type": "stream",
     "text": [
      " 81%|████████  | 947/1175 [3:08:28<33:14,  8.75s/it]"
     ]
    },
    {
     "name": "stdout",
     "output_type": "stream",
     "text": [
      "{'loss': 0.0912, 'learning_rate': 1.1642553191489363e-05, 'epoch': 20.15}\n"
     ]
    },
    {
     "name": "stderr",
     "output_type": "stream",
     "text": [
      " 81%|████████  | 948/1175 [3:08:37<33:07,  8.76s/it]"
     ]
    },
    {
     "name": "stdout",
     "output_type": "stream",
     "text": [
      "{'loss': 0.0664, 'learning_rate': 1.1591489361702129e-05, 'epoch': 20.17}\n"
     ]
    },
    {
     "name": "stderr",
     "output_type": "stream",
     "text": [
      " 81%|████████  | 949/1175 [3:08:46<33:00,  8.76s/it]"
     ]
    },
    {
     "name": "stdout",
     "output_type": "stream",
     "text": [
      "{'loss': 0.0693, 'learning_rate': 1.1540425531914894e-05, 'epoch': 20.19}\n"
     ]
    },
    {
     "name": "stderr",
     "output_type": "stream",
     "text": [
      " 81%|████████  | 950/1175 [3:08:55<32:58,  8.79s/it]"
     ]
    },
    {
     "name": "stdout",
     "output_type": "stream",
     "text": [
      "{'loss': 0.1598, 'learning_rate': 1.148936170212766e-05, 'epoch': 20.21}\n"
     ]
    },
    {
     "name": "stderr",
     "output_type": "stream",
     "text": [
      " 81%|████████  | 951/1175 [3:09:04<32:49,  8.79s/it]"
     ]
    },
    {
     "name": "stdout",
     "output_type": "stream",
     "text": [
      "{'loss': 0.0746, 'learning_rate': 1.1438297872340427e-05, 'epoch': 20.23}\n"
     ]
    },
    {
     "name": "stderr",
     "output_type": "stream",
     "text": [
      " 81%|████████  | 952/1175 [3:09:12<32:35,  8.77s/it]"
     ]
    },
    {
     "name": "stdout",
     "output_type": "stream",
     "text": [
      "{'loss': 0.0935, 'learning_rate': 1.1387234042553192e-05, 'epoch': 20.26}\n"
     ]
    },
    {
     "name": "stderr",
     "output_type": "stream",
     "text": [
      " 81%|████████  | 953/1175 [3:09:21<32:28,  8.78s/it]"
     ]
    },
    {
     "name": "stdout",
     "output_type": "stream",
     "text": [
      "{'loss': 0.076, 'learning_rate': 1.1336170212765958e-05, 'epoch': 20.28}\n"
     ]
    },
    {
     "name": "stderr",
     "output_type": "stream",
     "text": [
      " 81%|████████  | 954/1175 [3:09:30<32:15,  8.76s/it]"
     ]
    },
    {
     "name": "stdout",
     "output_type": "stream",
     "text": [
      "{'loss': 0.1291, 'learning_rate': 1.1285106382978725e-05, 'epoch': 20.3}\n"
     ]
    },
    {
     "name": "stderr",
     "output_type": "stream",
     "text": [
      " 81%|████████▏ | 955/1175 [3:09:39<32:12,  8.78s/it]"
     ]
    },
    {
     "name": "stdout",
     "output_type": "stream",
     "text": [
      "{'loss': 0.2902, 'learning_rate': 1.123404255319149e-05, 'epoch': 20.32}\n"
     ]
    },
    {
     "name": "stderr",
     "output_type": "stream",
     "text": [
      " 81%|████████▏ | 956/1175 [3:09:48<32:04,  8.79s/it]"
     ]
    },
    {
     "name": "stdout",
     "output_type": "stream",
     "text": [
      "{'loss': 0.0666, 'learning_rate': 1.1182978723404256e-05, 'epoch': 20.34}\n"
     ]
    },
    {
     "name": "stderr",
     "output_type": "stream",
     "text": [
      " 81%|████████▏ | 957/1175 [3:09:56<31:55,  8.79s/it]"
     ]
    },
    {
     "name": "stdout",
     "output_type": "stream",
     "text": [
      "{'loss': 0.0847, 'learning_rate': 1.1131914893617023e-05, 'epoch': 20.36}\n"
     ]
    },
    {
     "name": "stderr",
     "output_type": "stream",
     "text": [
      " 82%|████████▏ | 958/1175 [3:10:05<31:49,  8.80s/it]"
     ]
    },
    {
     "name": "stdout",
     "output_type": "stream",
     "text": [
      "{'loss': 0.2608, 'learning_rate': 1.1080851063829787e-05, 'epoch': 20.38}\n"
     ]
    },
    {
     "name": "stderr",
     "output_type": "stream",
     "text": [
      " 82%|████████▏ | 959/1175 [3:10:14<31:35,  8.77s/it]"
     ]
    },
    {
     "name": "stdout",
     "output_type": "stream",
     "text": [
      "{'loss': 0.0739, 'learning_rate': 1.1029787234042554e-05, 'epoch': 20.4}\n"
     ]
    },
    {
     "name": "stderr",
     "output_type": "stream",
     "text": [
      " 82%|████████▏ | 960/1175 [3:10:23<31:31,  8.80s/it]"
     ]
    },
    {
     "name": "stdout",
     "output_type": "stream",
     "text": [
      "{'loss': 0.073, 'learning_rate': 1.0978723404255319e-05, 'epoch': 20.43}\n"
     ]
    },
    {
     "name": "stderr",
     "output_type": "stream",
     "text": [
      " 82%|████████▏ | 961/1175 [3:10:31<31:18,  8.78s/it]"
     ]
    },
    {
     "name": "stdout",
     "output_type": "stream",
     "text": [
      "{'loss': 0.0497, 'learning_rate': 1.0927659574468085e-05, 'epoch': 20.45}\n"
     ]
    },
    {
     "name": "stderr",
     "output_type": "stream",
     "text": [
      " 82%|████████▏ | 962/1175 [3:10:40<31:10,  8.78s/it]"
     ]
    },
    {
     "name": "stdout",
     "output_type": "stream",
     "text": [
      "{'loss': 0.2386, 'learning_rate': 1.0876595744680852e-05, 'epoch': 20.47}\n"
     ]
    },
    {
     "name": "stderr",
     "output_type": "stream",
     "text": [
      " 82%|████████▏ | 963/1175 [3:10:49<31:00,  8.78s/it]"
     ]
    },
    {
     "name": "stdout",
     "output_type": "stream",
     "text": [
      "{'loss': 0.0612, 'learning_rate': 1.0825531914893617e-05, 'epoch': 20.49}\n"
     ]
    },
    {
     "name": "stderr",
     "output_type": "stream",
     "text": [
      " 82%|████████▏ | 964/1175 [3:10:58<30:52,  8.78s/it]"
     ]
    },
    {
     "name": "stdout",
     "output_type": "stream",
     "text": [
      "{'loss': 0.0828, 'learning_rate': 1.0774468085106383e-05, 'epoch': 20.51}\n"
     ]
    },
    {
     "name": "stderr",
     "output_type": "stream",
     "text": [
      " 82%|████████▏ | 965/1175 [3:11:07<30:44,  8.78s/it]"
     ]
    },
    {
     "name": "stdout",
     "output_type": "stream",
     "text": [
      "{'loss': 0.0683, 'learning_rate': 1.072340425531915e-05, 'epoch': 20.53}\n"
     ]
    },
    {
     "name": "stderr",
     "output_type": "stream",
     "text": [
      " 82%|████████▏ | 966/1175 [3:11:15<30:37,  8.79s/it]"
     ]
    },
    {
     "name": "stdout",
     "output_type": "stream",
     "text": [
      "{'loss': 0.0541, 'learning_rate': 1.0672340425531915e-05, 'epoch': 20.55}\n"
     ]
    },
    {
     "name": "stderr",
     "output_type": "stream",
     "text": [
      " 82%|████████▏ | 967/1175 [3:11:24<30:30,  8.80s/it]"
     ]
    },
    {
     "name": "stdout",
     "output_type": "stream",
     "text": [
      "{'loss': 0.1466, 'learning_rate': 1.0621276595744681e-05, 'epoch': 20.57}\n"
     ]
    },
    {
     "name": "stderr",
     "output_type": "stream",
     "text": [
      " 82%|████████▏ | 968/1175 [3:11:33<30:22,  8.80s/it]"
     ]
    },
    {
     "name": "stdout",
     "output_type": "stream",
     "text": [
      "{'loss': 0.0683, 'learning_rate': 1.0570212765957448e-05, 'epoch': 20.6}\n"
     ]
    },
    {
     "name": "stderr",
     "output_type": "stream",
     "text": [
      " 82%|████████▏ | 969/1175 [3:11:42<30:08,  8.78s/it]"
     ]
    },
    {
     "name": "stdout",
     "output_type": "stream",
     "text": [
      "{'loss': 0.0793, 'learning_rate': 1.0519148936170212e-05, 'epoch': 20.62}\n"
     ]
    },
    {
     "name": "stderr",
     "output_type": "stream",
     "text": [
      " 83%|████████▎ | 970/1175 [3:11:51<30:03,  8.80s/it]"
     ]
    },
    {
     "name": "stdout",
     "output_type": "stream",
     "text": [
      "{'loss': 0.0668, 'learning_rate': 1.0468085106382979e-05, 'epoch': 20.64}\n"
     ]
    },
    {
     "name": "stderr",
     "output_type": "stream",
     "text": [
      " 83%|████████▎ | 971/1175 [3:11:59<29:52,  8.79s/it]"
     ]
    },
    {
     "name": "stdout",
     "output_type": "stream",
     "text": [
      "{'loss': 0.0865, 'learning_rate': 1.0417021276595745e-05, 'epoch': 20.66}\n"
     ]
    },
    {
     "name": "stderr",
     "output_type": "stream",
     "text": [
      " 83%|████████▎ | 972/1175 [3:12:08<29:41,  8.78s/it]"
     ]
    },
    {
     "name": "stdout",
     "output_type": "stream",
     "text": [
      "{'loss': 0.1753, 'learning_rate': 1.036595744680851e-05, 'epoch': 20.68}\n"
     ]
    },
    {
     "name": "stderr",
     "output_type": "stream",
     "text": [
      " 83%|████████▎ | 973/1175 [3:12:17<29:34,  8.79s/it]"
     ]
    },
    {
     "name": "stdout",
     "output_type": "stream",
     "text": [
      "{'loss': 0.1171, 'learning_rate': 1.0314893617021277e-05, 'epoch': 20.7}\n"
     ]
    },
    {
     "name": "stderr",
     "output_type": "stream",
     "text": [
      " 83%|████████▎ | 974/1175 [3:12:26<29:23,  8.77s/it]"
     ]
    },
    {
     "name": "stdout",
     "output_type": "stream",
     "text": [
      "{'loss': 0.0762, 'learning_rate': 1.0263829787234043e-05, 'epoch': 20.72}\n"
     ]
    },
    {
     "name": "stderr",
     "output_type": "stream",
     "text": [
      " 83%|████████▎ | 975/1175 [3:12:34<29:18,  8.79s/it]"
     ]
    },
    {
     "name": "stdout",
     "output_type": "stream",
     "text": [
      "{'loss': 0.0823, 'learning_rate': 1.0212765957446808e-05, 'epoch': 20.74}\n"
     ]
    },
    {
     "name": "stderr",
     "output_type": "stream",
     "text": [
      " 83%|████████▎ | 976/1175 [3:12:43<29:12,  8.81s/it]"
     ]
    },
    {
     "name": "stdout",
     "output_type": "stream",
     "text": [
      "{'loss': 0.072, 'learning_rate': 1.0161702127659575e-05, 'epoch': 20.77}\n"
     ]
    },
    {
     "name": "stderr",
     "output_type": "stream",
     "text": [
      " 83%|████████▎ | 977/1175 [3:12:52<29:00,  8.79s/it]"
     ]
    },
    {
     "name": "stdout",
     "output_type": "stream",
     "text": [
      "{'loss': 0.0642, 'learning_rate': 1.011063829787234e-05, 'epoch': 20.79}\n"
     ]
    },
    {
     "name": "stderr",
     "output_type": "stream",
     "text": [
      " 83%|████████▎ | 978/1175 [3:13:01<28:50,  8.78s/it]"
     ]
    },
    {
     "name": "stdout",
     "output_type": "stream",
     "text": [
      "{'loss': 0.0492, 'learning_rate': 1.0059574468085106e-05, 'epoch': 20.81}\n"
     ]
    },
    {
     "name": "stderr",
     "output_type": "stream",
     "text": [
      " 83%|████████▎ | 979/1175 [3:13:10<28:40,  8.78s/it]"
     ]
    },
    {
     "name": "stdout",
     "output_type": "stream",
     "text": [
      "{'loss': 0.2296, 'learning_rate': 1.0008510638297873e-05, 'epoch': 20.83}\n"
     ]
    },
    {
     "name": "stderr",
     "output_type": "stream",
     "text": [
      " 83%|████████▎ | 980/1175 [3:13:18<28:37,  8.81s/it]"
     ]
    },
    {
     "name": "stdout",
     "output_type": "stream",
     "text": [
      "{'loss': 0.1694, 'learning_rate': 9.957446808510637e-06, 'epoch': 20.85}\n"
     ]
    },
    {
     "name": "stderr",
     "output_type": "stream",
     "text": [
      " 83%|████████▎ | 981/1175 [3:13:27<28:26,  8.80s/it]"
     ]
    },
    {
     "name": "stdout",
     "output_type": "stream",
     "text": [
      "{'loss': 0.0687, 'learning_rate': 9.906382978723404e-06, 'epoch': 20.87}\n"
     ]
    },
    {
     "name": "stderr",
     "output_type": "stream",
     "text": [
      " 84%|████████▎ | 982/1175 [3:13:36<28:16,  8.79s/it]"
     ]
    },
    {
     "name": "stdout",
     "output_type": "stream",
     "text": [
      "{'loss': 0.0789, 'learning_rate': 9.85531914893617e-06, 'epoch': 20.89}\n"
     ]
    },
    {
     "name": "stderr",
     "output_type": "stream",
     "text": [
      " 84%|████████▎ | 983/1175 [3:13:45<28:04,  8.77s/it]"
     ]
    },
    {
     "name": "stdout",
     "output_type": "stream",
     "text": [
      "{'loss': 0.0541, 'learning_rate': 9.804255319148935e-06, 'epoch': 20.91}\n"
     ]
    },
    {
     "name": "stderr",
     "output_type": "stream",
     "text": [
      " 84%|████████▎ | 984/1175 [3:13:54<27:56,  8.78s/it]"
     ]
    },
    {
     "name": "stdout",
     "output_type": "stream",
     "text": [
      "{'loss': 0.0752, 'learning_rate': 9.753191489361702e-06, 'epoch': 20.94}\n"
     ]
    },
    {
     "name": "stderr",
     "output_type": "stream",
     "text": [
      " 84%|████████▍ | 985/1175 [3:14:02<27:46,  8.77s/it]"
     ]
    },
    {
     "name": "stdout",
     "output_type": "stream",
     "text": [
      "{'loss': 0.1035, 'learning_rate': 9.702127659574468e-06, 'epoch': 20.96}\n"
     ]
    },
    {
     "name": "stderr",
     "output_type": "stream",
     "text": [
      " 84%|████████▍ | 986/1175 [3:14:11<27:13,  8.64s/it]"
     ]
    },
    {
     "name": "stdout",
     "output_type": "stream",
     "text": [
      "{'loss': 0.2889, 'learning_rate': 9.651063829787235e-06, 'epoch': 20.98}\n"
     ]
    },
    {
     "name": "stderr",
     "output_type": "stream",
     "text": [
      " 84%|████████▍ | 987/1175 [3:14:16<23:47,  7.60s/it]"
     ]
    },
    {
     "name": "stdout",
     "output_type": "stream",
     "text": [
      "{'loss': 0.1223, 'learning_rate': 9.600000000000001e-06, 'epoch': 21.0}\n"
     ]
    },
    {
     "name": "stderr",
     "output_type": "stream",
     "text": [
      " 84%|████████▍ | 988/1175 [3:14:26<26:03,  8.36s/it]"
     ]
    },
    {
     "name": "stdout",
     "output_type": "stream",
     "text": [
      "{'loss': 0.1011, 'learning_rate': 9.548936170212768e-06, 'epoch': 21.02}\n"
     ]
    },
    {
     "name": "stderr",
     "output_type": "stream",
     "text": [
      " 84%|████████▍ | 989/1175 [3:14:35<26:18,  8.49s/it]"
     ]
    },
    {
     "name": "stdout",
     "output_type": "stream",
     "text": [
      "{'loss': 0.0752, 'learning_rate': 9.497872340425533e-06, 'epoch': 21.04}\n"
     ]
    },
    {
     "name": "stderr",
     "output_type": "stream",
     "text": [
      " 84%|████████▍ | 990/1175 [3:14:43<26:24,  8.56s/it]"
     ]
    },
    {
     "name": "stdout",
     "output_type": "stream",
     "text": [
      "{'loss': 0.1046, 'learning_rate': 9.446808510638299e-06, 'epoch': 21.06}\n"
     ]
    },
    {
     "name": "stderr",
     "output_type": "stream",
     "text": [
      " 84%|████████▍ | 991/1175 [3:14:52<26:28,  8.63s/it]"
     ]
    },
    {
     "name": "stdout",
     "output_type": "stream",
     "text": [
      "{'loss': 0.0777, 'learning_rate': 9.395744680851064e-06, 'epoch': 21.09}\n"
     ]
    },
    {
     "name": "stderr",
     "output_type": "stream",
     "text": [
      " 84%|████████▍ | 992/1175 [3:15:01<26:29,  8.69s/it]"
     ]
    },
    {
     "name": "stdout",
     "output_type": "stream",
     "text": [
      "{'loss': 0.1615, 'learning_rate': 9.34468085106383e-06, 'epoch': 21.11}\n"
     ]
    },
    {
     "name": "stderr",
     "output_type": "stream",
     "text": [
      " 85%|████████▍ | 993/1175 [3:15:10<26:27,  8.72s/it]"
     ]
    },
    {
     "name": "stdout",
     "output_type": "stream",
     "text": [
      "{'loss': 0.0646, 'learning_rate': 9.293617021276597e-06, 'epoch': 21.13}\n"
     ]
    },
    {
     "name": "stderr",
     "output_type": "stream",
     "text": [
      " 85%|████████▍ | 994/1175 [3:15:19<26:20,  8.73s/it]"
     ]
    },
    {
     "name": "stdout",
     "output_type": "stream",
     "text": [
      "{'loss': 0.0622, 'learning_rate': 9.242553191489362e-06, 'epoch': 21.15}\n"
     ]
    },
    {
     "name": "stderr",
     "output_type": "stream",
     "text": [
      " 85%|████████▍ | 995/1175 [3:15:27<26:15,  8.75s/it]"
     ]
    },
    {
     "name": "stdout",
     "output_type": "stream",
     "text": [
      "{'loss': 0.063, 'learning_rate': 9.191489361702128e-06, 'epoch': 21.17}\n"
     ]
    },
    {
     "name": "stderr",
     "output_type": "stream",
     "text": [
      " 85%|████████▍ | 996/1175 [3:15:36<26:06,  8.75s/it]"
     ]
    },
    {
     "name": "stdout",
     "output_type": "stream",
     "text": [
      "{'loss': 0.0897, 'learning_rate': 9.140425531914895e-06, 'epoch': 21.19}\n"
     ]
    },
    {
     "name": "stderr",
     "output_type": "stream",
     "text": [
      " 85%|████████▍ | 997/1175 [3:15:45<26:00,  8.77s/it]"
     ]
    },
    {
     "name": "stdout",
     "output_type": "stream",
     "text": [
      "{'loss': 0.0725, 'learning_rate': 9.08936170212766e-06, 'epoch': 21.21}\n"
     ]
    },
    {
     "name": "stderr",
     "output_type": "stream",
     "text": [
      " 85%|████████▍ | 998/1175 [3:15:54<25:50,  8.76s/it]"
     ]
    },
    {
     "name": "stdout",
     "output_type": "stream",
     "text": [
      "{'loss': 0.1756, 'learning_rate': 9.038297872340426e-06, 'epoch': 21.23}\n"
     ]
    },
    {
     "name": "stderr",
     "output_type": "stream",
     "text": [
      " 85%|████████▌ | 999/1175 [3:16:03<25:43,  8.77s/it]"
     ]
    },
    {
     "name": "stdout",
     "output_type": "stream",
     "text": [
      "{'loss': 0.0661, 'learning_rate': 8.987234042553193e-06, 'epoch': 21.26}\n"
     ]
    },
    {
     "name": "stderr",
     "output_type": "stream",
     "text": [
      " 85%|████████▌ | 1000/1175 [3:16:11<25:37,  8.79s/it]"
     ]
    },
    {
     "name": "stdout",
     "output_type": "stream",
     "text": [
      "{'loss': 0.1322, 'learning_rate': 8.936170212765958e-06, 'epoch': 21.28}\n"
     ]
    },
    {
     "name": "stderr",
     "output_type": "stream",
     "text": [
      "                                                     \n",
      " 85%|████████▌ | 1000/1175 [3:21:50<25:37,  8.79s/it]"
     ]
    },
    {
     "name": "stdout",
     "output_type": "stream",
     "text": [
      "{'eval_loss': 0.05296698585152626, 'eval_mean_iou': 0.2773674752182382, 'eval_mean_accuracy': 0.3010392675418128, 'eval_overall_accuracy': 0.9914783609324488, 'eval_per_category_iou': [0.0, 0.9930606137678285, 0.8186203185741531, 0.0, 0.0, 0.0, 0.0, 0.43818173741322425, 0.4102750895058448, 0.8221143840273056, 0.1235250345487403, 0.0, 0.0], 'eval_per_category_accuracy': [0.0, 0.9990151625660612, 0.888405922291519, 0.0, 0.0, 0.0, 0.0, 0.45128915397061087, 0.565368058160513, 0.878491128317846, 0.1309410527370161, 0.0, 0.0], 'eval_runtime': 338.5613, 'eval_samples_per_second': 0.685, 'eval_steps_per_second': 0.071, 'epoch': 21.28}\n"
     ]
    },
    {
     "name": "stderr",
     "output_type": "stream",
     "text": [
      " 85%|████████▌ | 1001/1175 [3:21:59<5:20:31, 110.53s/it]"
     ]
    },
    {
     "name": "stdout",
     "output_type": "stream",
     "text": [
      "{'loss': 0.0679, 'learning_rate': 8.885106382978724e-06, 'epoch': 21.3}\n"
     ]
    },
    {
     "name": "stderr",
     "output_type": "stream",
     "text": [
      " 85%|████████▌ | 1002/1175 [3:22:08<3:50:37, 79.99s/it] "
     ]
    },
    {
     "name": "stdout",
     "output_type": "stream",
     "text": [
      "{'loss': 0.0814, 'learning_rate': 8.83404255319149e-06, 'epoch': 21.32}\n"
     ]
    },
    {
     "name": "stderr",
     "output_type": "stream",
     "text": [
      " 85%|████████▌ | 1003/1175 [3:22:17<2:48:03, 58.63s/it]"
     ]
    },
    {
     "name": "stdout",
     "output_type": "stream",
     "text": [
      "{'loss': 0.0716, 'learning_rate': 8.782978723404255e-06, 'epoch': 21.34}\n"
     ]
    },
    {
     "name": "stderr",
     "output_type": "stream",
     "text": [
      " 85%|████████▌ | 1004/1175 [3:22:26<2:04:29, 43.68s/it]"
     ]
    },
    {
     "name": "stdout",
     "output_type": "stream",
     "text": [
      "{'loss': 0.0715, 'learning_rate': 8.731914893617022e-06, 'epoch': 21.36}\n"
     ]
    },
    {
     "name": "stderr",
     "output_type": "stream",
     "text": [
      " 86%|████████▌ | 1005/1175 [3:22:34<1:34:08, 33.22s/it]"
     ]
    },
    {
     "name": "stdout",
     "output_type": "stream",
     "text": [
      "{'loss': 0.0647, 'learning_rate': 8.680851063829787e-06, 'epoch': 21.38}\n"
     ]
    },
    {
     "name": "stderr",
     "output_type": "stream",
     "text": [
      " 86%|████████▌ | 1006/1175 [3:22:43<1:12:55, 25.89s/it]"
     ]
    },
    {
     "name": "stdout",
     "output_type": "stream",
     "text": [
      "{'loss': 0.0962, 'learning_rate': 8.629787234042553e-06, 'epoch': 21.4}\n"
     ]
    },
    {
     "name": "stderr",
     "output_type": "stream",
     "text": [
      " 86%|████████▌ | 1007/1175 [3:22:52<58:05, 20.75s/it]  "
     ]
    },
    {
     "name": "stdout",
     "output_type": "stream",
     "text": [
      "{'loss': 0.5479, 'learning_rate': 8.57872340425532e-06, 'epoch': 21.43}\n"
     ]
    },
    {
     "name": "stderr",
     "output_type": "stream",
     "text": [
      " 86%|████████▌ | 1008/1175 [3:23:01<47:46, 17.17s/it]"
     ]
    },
    {
     "name": "stdout",
     "output_type": "stream",
     "text": [
      "{'loss': 0.0834, 'learning_rate': 8.527659574468085e-06, 'epoch': 21.45}\n"
     ]
    },
    {
     "name": "stderr",
     "output_type": "stream",
     "text": [
      " 86%|████████▌ | 1009/1175 [3:23:10<40:32, 14.65s/it]"
     ]
    },
    {
     "name": "stdout",
     "output_type": "stream",
     "text": [
      "{'loss': 0.0606, 'learning_rate': 8.476595744680851e-06, 'epoch': 21.47}\n"
     ]
    },
    {
     "name": "stderr",
     "output_type": "stream",
     "text": [
      " 86%|████████▌ | 1010/1175 [3:23:18<35:25, 12.88s/it]"
     ]
    },
    {
     "name": "stdout",
     "output_type": "stream",
     "text": [
      "{'loss': 0.1897, 'learning_rate': 8.425531914893618e-06, 'epoch': 21.49}\n"
     ]
    },
    {
     "name": "stderr",
     "output_type": "stream",
     "text": [
      " 86%|████████▌ | 1011/1175 [3:23:27<31:52, 11.66s/it]"
     ]
    },
    {
     "name": "stdout",
     "output_type": "stream",
     "text": [
      "{'loss': 0.2076, 'learning_rate': 8.374468085106382e-06, 'epoch': 21.51}\n"
     ]
    },
    {
     "name": "stderr",
     "output_type": "stream",
     "text": [
      " 86%|████████▌ | 1012/1175 [3:23:36<29:19, 10.79s/it]"
     ]
    },
    {
     "name": "stdout",
     "output_type": "stream",
     "text": [
      "{'loss': 0.0982, 'learning_rate': 8.323404255319149e-06, 'epoch': 21.53}\n"
     ]
    },
    {
     "name": "stderr",
     "output_type": "stream",
     "text": [
      " 86%|████████▌ | 1013/1175 [3:23:45<27:29, 10.19s/it]"
     ]
    },
    {
     "name": "stdout",
     "output_type": "stream",
     "text": [
      "{'loss': 0.1537, 'learning_rate': 8.272340425531915e-06, 'epoch': 21.55}\n"
     ]
    },
    {
     "name": "stderr",
     "output_type": "stream",
     "text": [
      " 86%|████████▋ | 1014/1175 [3:23:54<26:18,  9.80s/it]"
     ]
    },
    {
     "name": "stdout",
     "output_type": "stream",
     "text": [
      "{'loss': 0.099, 'learning_rate': 8.22127659574468e-06, 'epoch': 21.57}\n"
     ]
    },
    {
     "name": "stderr",
     "output_type": "stream",
     "text": [
      " 86%|████████▋ | 1015/1175 [3:24:02<25:20,  9.50s/it]"
     ]
    },
    {
     "name": "stdout",
     "output_type": "stream",
     "text": [
      "{'loss': 0.0645, 'learning_rate': 8.170212765957447e-06, 'epoch': 21.6}\n"
     ]
    },
    {
     "name": "stderr",
     "output_type": "stream",
     "text": [
      " 86%|████████▋ | 1016/1175 [3:24:11<24:39,  9.30s/it]"
     ]
    },
    {
     "name": "stdout",
     "output_type": "stream",
     "text": [
      "{'loss': 0.0838, 'learning_rate': 8.119148936170213e-06, 'epoch': 21.62}\n"
     ]
    },
    {
     "name": "stderr",
     "output_type": "stream",
     "text": [
      " 87%|████████▋ | 1017/1175 [3:24:20<24:03,  9.14s/it]"
     ]
    },
    {
     "name": "stdout",
     "output_type": "stream",
     "text": [
      "{'loss': 0.4992, 'learning_rate': 8.068085106382978e-06, 'epoch': 21.64}\n"
     ]
    },
    {
     "name": "stderr",
     "output_type": "stream",
     "text": [
      " 87%|████████▋ | 1018/1175 [3:24:29<23:38,  9.04s/it]"
     ]
    },
    {
     "name": "stdout",
     "output_type": "stream",
     "text": [
      "{'loss': 0.0911, 'learning_rate': 8.017021276595745e-06, 'epoch': 21.66}\n"
     ]
    },
    {
     "name": "stderr",
     "output_type": "stream",
     "text": [
      " 87%|████████▋ | 1019/1175 [3:24:38<23:25,  9.01s/it]"
     ]
    },
    {
     "name": "stdout",
     "output_type": "stream",
     "text": [
      "{'loss': 0.258, 'learning_rate': 7.96595744680851e-06, 'epoch': 21.68}\n"
     ]
    },
    {
     "name": "stderr",
     "output_type": "stream",
     "text": [
      " 87%|████████▋ | 1020/1175 [3:24:47<23:08,  8.96s/it]"
     ]
    },
    {
     "name": "stdout",
     "output_type": "stream",
     "text": [
      "{'loss': 0.0606, 'learning_rate': 7.914893617021276e-06, 'epoch': 21.7}\n"
     ]
    },
    {
     "name": "stderr",
     "output_type": "stream",
     "text": [
      " 87%|████████▋ | 1021/1175 [3:24:55<22:52,  8.91s/it]"
     ]
    },
    {
     "name": "stdout",
     "output_type": "stream",
     "text": [
      "{'loss': 0.1568, 'learning_rate': 7.863829787234043e-06, 'epoch': 21.72}\n"
     ]
    },
    {
     "name": "stderr",
     "output_type": "stream",
     "text": [
      " 87%|████████▋ | 1022/1175 [3:25:04<22:41,  8.90s/it]"
     ]
    },
    {
     "name": "stdout",
     "output_type": "stream",
     "text": [
      "{'loss': 0.1034, 'learning_rate': 7.812765957446807e-06, 'epoch': 21.74}\n"
     ]
    },
    {
     "name": "stderr",
     "output_type": "stream",
     "text": [
      " 87%|████████▋ | 1023/1175 [3:25:13<22:27,  8.87s/it]"
     ]
    },
    {
     "name": "stdout",
     "output_type": "stream",
     "text": [
      "{'loss': 0.0864, 'learning_rate': 7.761702127659574e-06, 'epoch': 21.77}\n"
     ]
    },
    {
     "name": "stderr",
     "output_type": "stream",
     "text": [
      " 87%|████████▋ | 1024/1175 [3:25:22<22:18,  8.86s/it]"
     ]
    },
    {
     "name": "stdout",
     "output_type": "stream",
     "text": [
      "{'loss': 0.0518, 'learning_rate': 7.71063829787234e-06, 'epoch': 21.79}\n"
     ]
    },
    {
     "name": "stderr",
     "output_type": "stream",
     "text": [
      " 87%|████████▋ | 1025/1175 [3:25:31<22:05,  8.84s/it]"
     ]
    },
    {
     "name": "stdout",
     "output_type": "stream",
     "text": [
      "{'loss': 0.1832, 'learning_rate': 7.659574468085105e-06, 'epoch': 21.81}\n"
     ]
    },
    {
     "name": "stderr",
     "output_type": "stream",
     "text": [
      " 87%|████████▋ | 1026/1175 [3:25:39<21:57,  8.84s/it]"
     ]
    },
    {
     "name": "stdout",
     "output_type": "stream",
     "text": [
      "{'loss': 0.2238, 'learning_rate': 7.608510638297873e-06, 'epoch': 21.83}\n"
     ]
    },
    {
     "name": "stderr",
     "output_type": "stream",
     "text": [
      " 87%|████████▋ | 1027/1175 [3:25:48<21:47,  8.83s/it]"
     ]
    },
    {
     "name": "stdout",
     "output_type": "stream",
     "text": [
      "{'loss': 0.1353, 'learning_rate': 7.557446808510639e-06, 'epoch': 21.85}\n"
     ]
    },
    {
     "name": "stderr",
     "output_type": "stream",
     "text": [
      " 87%|████████▋ | 1028/1175 [3:25:57<21:39,  8.84s/it]"
     ]
    },
    {
     "name": "stdout",
     "output_type": "stream",
     "text": [
      "{'loss': 0.0666, 'learning_rate': 7.506382978723404e-06, 'epoch': 21.87}\n"
     ]
    },
    {
     "name": "stderr",
     "output_type": "stream",
     "text": [
      " 88%|████████▊ | 1029/1175 [3:26:06<21:34,  8.87s/it]"
     ]
    },
    {
     "name": "stdout",
     "output_type": "stream",
     "text": [
      "{'loss': 0.0486, 'learning_rate': 7.4553191489361705e-06, 'epoch': 21.89}\n"
     ]
    },
    {
     "name": "stderr",
     "output_type": "stream",
     "text": [
      " 88%|████████▊ | 1030/1175 [3:26:15<21:23,  8.85s/it]"
     ]
    },
    {
     "name": "stdout",
     "output_type": "stream",
     "text": [
      "{'loss': 0.0931, 'learning_rate': 7.404255319148936e-06, 'epoch': 21.91}\n"
     ]
    },
    {
     "name": "stderr",
     "output_type": "stream",
     "text": [
      " 88%|████████▊ | 1031/1175 [3:26:24<21:11,  8.83s/it]"
     ]
    },
    {
     "name": "stdout",
     "output_type": "stream",
     "text": [
      "{'loss': 0.1263, 'learning_rate': 7.353191489361702e-06, 'epoch': 21.94}\n"
     ]
    },
    {
     "name": "stderr",
     "output_type": "stream",
     "text": [
      " 88%|████████▊ | 1032/1175 [3:26:33<21:02,  8.83s/it]"
     ]
    },
    {
     "name": "stdout",
     "output_type": "stream",
     "text": [
      "{'loss': 0.0848, 'learning_rate': 7.302127659574468e-06, 'epoch': 21.96}\n"
     ]
    },
    {
     "name": "stderr",
     "output_type": "stream",
     "text": [
      " 88%|████████▊ | 1033/1175 [3:26:41<20:33,  8.69s/it]"
     ]
    },
    {
     "name": "stdout",
     "output_type": "stream",
     "text": [
      "{'loss': 0.1364, 'learning_rate': 7.251063829787234e-06, 'epoch': 21.98}\n"
     ]
    },
    {
     "name": "stderr",
     "output_type": "stream",
     "text": [
      " 88%|████████▊ | 1034/1175 [3:26:46<17:55,  7.63s/it]"
     ]
    },
    {
     "name": "stdout",
     "output_type": "stream",
     "text": [
      "{'loss': 0.5084, 'learning_rate': 7.2e-06, 'epoch': 22.0}\n"
     ]
    },
    {
     "name": "stderr",
     "output_type": "stream",
     "text": [
      " 88%|████████▊ | 1035/1175 [3:26:56<19:29,  8.36s/it]"
     ]
    },
    {
     "name": "stdout",
     "output_type": "stream",
     "text": [
      "{'loss': 0.1376, 'learning_rate': 7.148936170212766e-06, 'epoch': 22.02}\n"
     ]
    },
    {
     "name": "stderr",
     "output_type": "stream",
     "text": [
      " 88%|████████▊ | 1036/1175 [3:27:05<19:36,  8.46s/it]"
     ]
    },
    {
     "name": "stdout",
     "output_type": "stream",
     "text": [
      "{'loss': 0.3283, 'learning_rate': 7.097872340425532e-06, 'epoch': 22.04}\n"
     ]
    },
    {
     "name": "stderr",
     "output_type": "stream",
     "text": [
      " 88%|████████▊ | 1037/1175 [3:27:14<19:40,  8.55s/it]"
     ]
    },
    {
     "name": "stdout",
     "output_type": "stream",
     "text": [
      "{'loss': 0.0842, 'learning_rate': 7.0468085106382975e-06, 'epoch': 22.06}\n"
     ]
    },
    {
     "name": "stderr",
     "output_type": "stream",
     "text": [
      " 88%|████████▊ | 1038/1175 [3:27:22<19:41,  8.62s/it]"
     ]
    },
    {
     "name": "stdout",
     "output_type": "stream",
     "text": [
      "{'loss': 0.0927, 'learning_rate': 6.995744680851063e-06, 'epoch': 22.09}\n"
     ]
    },
    {
     "name": "stderr",
     "output_type": "stream",
     "text": [
      " 88%|████████▊ | 1039/1175 [3:27:31<19:41,  8.69s/it]"
     ]
    },
    {
     "name": "stdout",
     "output_type": "stream",
     "text": [
      "{'loss': 0.1494, 'learning_rate': 6.9446808510638306e-06, 'epoch': 22.11}\n"
     ]
    },
    {
     "name": "stderr",
     "output_type": "stream",
     "text": [
      " 89%|████████▊ | 1040/1175 [3:27:40<19:35,  8.71s/it]"
     ]
    },
    {
     "name": "stdout",
     "output_type": "stream",
     "text": [
      "{'loss': 0.0585, 'learning_rate': 6.893617021276596e-06, 'epoch': 22.13}\n"
     ]
    },
    {
     "name": "stderr",
     "output_type": "stream",
     "text": [
      " 89%|████████▊ | 1041/1175 [3:27:49<19:31,  8.75s/it]"
     ]
    },
    {
     "name": "stdout",
     "output_type": "stream",
     "text": [
      "{'loss': 0.2532, 'learning_rate': 6.842553191489362e-06, 'epoch': 22.15}\n"
     ]
    },
    {
     "name": "stderr",
     "output_type": "stream",
     "text": [
      " 89%|████████▊ | 1042/1175 [3:27:58<19:25,  8.76s/it]"
     ]
    },
    {
     "name": "stdout",
     "output_type": "stream",
     "text": [
      "{'loss': 0.0682, 'learning_rate': 6.7914893617021284e-06, 'epoch': 22.17}\n"
     ]
    },
    {
     "name": "stderr",
     "output_type": "stream",
     "text": [
      " 89%|████████▉ | 1043/1175 [3:28:06<19:18,  8.77s/it]"
     ]
    },
    {
     "name": "stdout",
     "output_type": "stream",
     "text": [
      "{'loss': 0.0679, 'learning_rate': 6.740425531914894e-06, 'epoch': 22.19}\n"
     ]
    },
    {
     "name": "stderr",
     "output_type": "stream",
     "text": [
      " 89%|████████▉ | 1044/1175 [3:28:15<19:11,  8.79s/it]"
     ]
    },
    {
     "name": "stdout",
     "output_type": "stream",
     "text": [
      "{'loss': 0.2211, 'learning_rate': 6.68936170212766e-06, 'epoch': 22.21}\n"
     ]
    },
    {
     "name": "stderr",
     "output_type": "stream",
     "text": [
      " 89%|████████▉ | 1045/1175 [3:28:24<19:04,  8.80s/it]"
     ]
    },
    {
     "name": "stdout",
     "output_type": "stream",
     "text": [
      "{'loss': 0.0577, 'learning_rate': 6.6382978723404254e-06, 'epoch': 22.23}\n"
     ]
    },
    {
     "name": "stderr",
     "output_type": "stream",
     "text": [
      " 89%|████████▉ | 1046/1175 [3:28:33<18:55,  8.80s/it]"
     ]
    },
    {
     "name": "stdout",
     "output_type": "stream",
     "text": [
      "{'loss': 0.1105, 'learning_rate': 6.587234042553192e-06, 'epoch': 22.26}\n"
     ]
    },
    {
     "name": "stderr",
     "output_type": "stream",
     "text": [
      " 89%|████████▉ | 1047/1175 [3:28:42<18:45,  8.79s/it]"
     ]
    },
    {
     "name": "stdout",
     "output_type": "stream",
     "text": [
      "{'loss': 0.1352, 'learning_rate': 6.536170212765958e-06, 'epoch': 22.28}\n"
     ]
    },
    {
     "name": "stderr",
     "output_type": "stream",
     "text": [
      " 89%|████████▉ | 1048/1175 [3:28:50<18:37,  8.80s/it]"
     ]
    },
    {
     "name": "stdout",
     "output_type": "stream",
     "text": [
      "{'loss': 0.0595, 'learning_rate': 6.485106382978723e-06, 'epoch': 22.3}\n"
     ]
    },
    {
     "name": "stderr",
     "output_type": "stream",
     "text": [
      " 89%|████████▉ | 1049/1175 [3:28:59<18:31,  8.82s/it]"
     ]
    },
    {
     "name": "stdout",
     "output_type": "stream",
     "text": [
      "{'loss': 0.0621, 'learning_rate': 6.43404255319149e-06, 'epoch': 22.32}\n"
     ]
    },
    {
     "name": "stderr",
     "output_type": "stream",
     "text": [
      " 89%|████████▉ | 1050/1175 [3:29:08<18:21,  8.81s/it]"
     ]
    },
    {
     "name": "stdout",
     "output_type": "stream",
     "text": [
      "{'loss': 0.0693, 'learning_rate': 6.3829787234042555e-06, 'epoch': 22.34}\n"
     ]
    },
    {
     "name": "stderr",
     "output_type": "stream",
     "text": [
      " 89%|████████▉ | 1051/1175 [3:29:17<18:11,  8.80s/it]"
     ]
    },
    {
     "name": "stdout",
     "output_type": "stream",
     "text": [
      "{'loss': 0.0434, 'learning_rate': 6.331914893617021e-06, 'epoch': 22.36}\n"
     ]
    },
    {
     "name": "stderr",
     "output_type": "stream",
     "text": [
      " 90%|████████▉ | 1052/1175 [3:29:26<18:03,  8.81s/it]"
     ]
    },
    {
     "name": "stdout",
     "output_type": "stream",
     "text": [
      "{'loss': 0.1123, 'learning_rate': 6.280851063829788e-06, 'epoch': 22.38}\n"
     ]
    },
    {
     "name": "stderr",
     "output_type": "stream",
     "text": [
      " 90%|████████▉ | 1053/1175 [3:29:34<17:52,  8.79s/it]"
     ]
    },
    {
     "name": "stdout",
     "output_type": "stream",
     "text": [
      "{'loss': 0.1701, 'learning_rate': 6.229787234042553e-06, 'epoch': 22.4}\n"
     ]
    },
    {
     "name": "stderr",
     "output_type": "stream",
     "text": [
      " 90%|████████▉ | 1054/1175 [3:29:43<17:45,  8.81s/it]"
     ]
    },
    {
     "name": "stdout",
     "output_type": "stream",
     "text": [
      "{'loss': 0.0992, 'learning_rate': 6.178723404255319e-06, 'epoch': 22.43}\n"
     ]
    },
    {
     "name": "stderr",
     "output_type": "stream",
     "text": [
      " 90%|████████▉ | 1055/1175 [3:29:52<17:33,  8.78s/it]"
     ]
    },
    {
     "name": "stdout",
     "output_type": "stream",
     "text": [
      "{'loss': 0.0716, 'learning_rate': 6.127659574468085e-06, 'epoch': 22.45}\n"
     ]
    },
    {
     "name": "stderr",
     "output_type": "stream",
     "text": [
      " 90%|████████▉ | 1056/1175 [3:30:01<17:25,  8.78s/it]"
     ]
    },
    {
     "name": "stdout",
     "output_type": "stream",
     "text": [
      "{'loss': 0.0596, 'learning_rate': 6.076595744680851e-06, 'epoch': 22.47}\n"
     ]
    },
    {
     "name": "stderr",
     "output_type": "stream",
     "text": [
      " 90%|████████▉ | 1057/1175 [3:30:10<17:17,  8.80s/it]"
     ]
    },
    {
     "name": "stdout",
     "output_type": "stream",
     "text": [
      "{'loss': 0.0831, 'learning_rate': 6.025531914893617e-06, 'epoch': 22.49}\n"
     ]
    },
    {
     "name": "stderr",
     "output_type": "stream",
     "text": [
      " 90%|█████████ | 1058/1175 [3:30:18<17:08,  8.79s/it]"
     ]
    },
    {
     "name": "stdout",
     "output_type": "stream",
     "text": [
      "{'loss': 0.0921, 'learning_rate': 5.9744680851063826e-06, 'epoch': 22.51}\n"
     ]
    },
    {
     "name": "stderr",
     "output_type": "stream",
     "text": [
      " 90%|█████████ | 1059/1175 [3:30:27<17:00,  8.80s/it]"
     ]
    },
    {
     "name": "stdout",
     "output_type": "stream",
     "text": [
      "{'loss': 0.05, 'learning_rate': 5.923404255319149e-06, 'epoch': 22.53}\n"
     ]
    },
    {
     "name": "stderr",
     "output_type": "stream",
     "text": [
      " 90%|█████████ | 1060/1175 [3:30:36<16:51,  8.80s/it]"
     ]
    },
    {
     "name": "stdout",
     "output_type": "stream",
     "text": [
      "{'loss': 0.0732, 'learning_rate': 5.872340425531916e-06, 'epoch': 22.55}\n"
     ]
    },
    {
     "name": "stderr",
     "output_type": "stream",
     "text": [
      " 90%|█████████ | 1061/1175 [3:30:45<16:40,  8.78s/it]"
     ]
    },
    {
     "name": "stdout",
     "output_type": "stream",
     "text": [
      "{'loss': 0.0696, 'learning_rate': 5.821276595744681e-06, 'epoch': 22.57}\n"
     ]
    },
    {
     "name": "stderr",
     "output_type": "stream",
     "text": [
      " 90%|█████████ | 1062/1175 [3:30:54<16:32,  8.79s/it]"
     ]
    },
    {
     "name": "stdout",
     "output_type": "stream",
     "text": [
      "{'loss': 0.0546, 'learning_rate': 5.770212765957447e-06, 'epoch': 22.6}\n"
     ]
    },
    {
     "name": "stderr",
     "output_type": "stream",
     "text": [
      " 90%|█████████ | 1063/1175 [3:31:02<16:24,  8.79s/it]"
     ]
    },
    {
     "name": "stdout",
     "output_type": "stream",
     "text": [
      "{'loss': 0.0856, 'learning_rate': 5.7191489361702135e-06, 'epoch': 22.62}\n"
     ]
    },
    {
     "name": "stderr",
     "output_type": "stream",
     "text": [
      " 91%|█████████ | 1064/1175 [3:31:11<16:16,  8.80s/it]"
     ]
    },
    {
     "name": "stdout",
     "output_type": "stream",
     "text": [
      "{'loss': 0.0647, 'learning_rate': 5.668085106382979e-06, 'epoch': 22.64}\n"
     ]
    },
    {
     "name": "stderr",
     "output_type": "stream",
     "text": [
      " 91%|█████████ | 1065/1175 [3:31:20<16:06,  8.79s/it]"
     ]
    },
    {
     "name": "stdout",
     "output_type": "stream",
     "text": [
      "{'loss': 0.1364, 'learning_rate': 5.617021276595745e-06, 'epoch': 22.66}\n"
     ]
    },
    {
     "name": "stderr",
     "output_type": "stream",
     "text": [
      " 91%|█████████ | 1066/1175 [3:31:29<15:56,  8.77s/it]"
     ]
    },
    {
     "name": "stdout",
     "output_type": "stream",
     "text": [
      "{'loss': 0.2555, 'learning_rate': 5.565957446808511e-06, 'epoch': 22.68}\n"
     ]
    },
    {
     "name": "stderr",
     "output_type": "stream",
     "text": [
      " 91%|█████████ | 1067/1175 [3:31:37<15:48,  8.78s/it]"
     ]
    },
    {
     "name": "stdout",
     "output_type": "stream",
     "text": [
      "{'loss': 0.1381, 'learning_rate': 5.514893617021277e-06, 'epoch': 22.7}\n"
     ]
    },
    {
     "name": "stderr",
     "output_type": "stream",
     "text": [
      " 91%|█████████ | 1068/1175 [3:31:46<15:39,  8.78s/it]"
     ]
    },
    {
     "name": "stdout",
     "output_type": "stream",
     "text": [
      "{'loss': 0.301, 'learning_rate': 5.463829787234043e-06, 'epoch': 22.72}\n"
     ]
    },
    {
     "name": "stderr",
     "output_type": "stream",
     "text": [
      " 91%|█████████ | 1069/1175 [3:31:55<15:33,  8.81s/it]"
     ]
    },
    {
     "name": "stdout",
     "output_type": "stream",
     "text": [
      "{'loss': 0.0526, 'learning_rate': 5.412765957446808e-06, 'epoch': 22.74}\n"
     ]
    },
    {
     "name": "stderr",
     "output_type": "stream",
     "text": [
      " 91%|█████████ | 1070/1175 [3:32:04<15:23,  8.79s/it]"
     ]
    },
    {
     "name": "stdout",
     "output_type": "stream",
     "text": [
      "{'loss': 0.0436, 'learning_rate': 5.361702127659575e-06, 'epoch': 22.77}\n"
     ]
    },
    {
     "name": "stderr",
     "output_type": "stream",
     "text": [
      " 91%|█████████ | 1071/1175 [3:32:13<15:13,  8.79s/it]"
     ]
    },
    {
     "name": "stdout",
     "output_type": "stream",
     "text": [
      "{'loss': 0.1265, 'learning_rate': 5.3106382978723405e-06, 'epoch': 22.79}\n"
     ]
    },
    {
     "name": "stderr",
     "output_type": "stream",
     "text": [
      " 91%|█████████ | 1072/1175 [3:32:21<15:06,  8.80s/it]"
     ]
    },
    {
     "name": "stdout",
     "output_type": "stream",
     "text": [
      "{'loss': 0.3439, 'learning_rate': 5.259574468085106e-06, 'epoch': 22.81}\n"
     ]
    },
    {
     "name": "stderr",
     "output_type": "stream",
     "text": [
      " 91%|█████████▏| 1073/1175 [3:32:30<14:57,  8.80s/it]"
     ]
    },
    {
     "name": "stdout",
     "output_type": "stream",
     "text": [
      "{'loss': 0.1075, 'learning_rate': 5.208510638297873e-06, 'epoch': 22.83}\n"
     ]
    },
    {
     "name": "stderr",
     "output_type": "stream",
     "text": [
      " 91%|█████████▏| 1074/1175 [3:32:39<14:47,  8.79s/it]"
     ]
    },
    {
     "name": "stdout",
     "output_type": "stream",
     "text": [
      "{'loss': 0.0656, 'learning_rate': 5.157446808510638e-06, 'epoch': 22.85}\n"
     ]
    },
    {
     "name": "stderr",
     "output_type": "stream",
     "text": [
      " 91%|█████████▏| 1075/1175 [3:32:48<14:37,  8.78s/it]"
     ]
    },
    {
     "name": "stdout",
     "output_type": "stream",
     "text": [
      "{'loss': 0.0997, 'learning_rate': 5.106382978723404e-06, 'epoch': 22.87}\n"
     ]
    },
    {
     "name": "stderr",
     "output_type": "stream",
     "text": [
      " 92%|█████████▏| 1076/1175 [3:32:57<14:30,  8.79s/it]"
     ]
    },
    {
     "name": "stdout",
     "output_type": "stream",
     "text": [
      "{'loss': 0.066, 'learning_rate': 5.05531914893617e-06, 'epoch': 22.89}\n"
     ]
    },
    {
     "name": "stderr",
     "output_type": "stream",
     "text": [
      " 92%|█████████▏| 1077/1175 [3:33:05<14:21,  8.79s/it]"
     ]
    },
    {
     "name": "stdout",
     "output_type": "stream",
     "text": [
      "{'loss': 0.1363, 'learning_rate': 5.004255319148936e-06, 'epoch': 22.91}\n"
     ]
    },
    {
     "name": "stderr",
     "output_type": "stream",
     "text": [
      " 92%|█████████▏| 1078/1175 [3:33:14<14:11,  8.78s/it]"
     ]
    },
    {
     "name": "stdout",
     "output_type": "stream",
     "text": [
      "{'loss': 0.047, 'learning_rate': 4.953191489361702e-06, 'epoch': 22.94}\n"
     ]
    },
    {
     "name": "stderr",
     "output_type": "stream",
     "text": [
      " 92%|█████████▏| 1079/1175 [3:33:23<14:00,  8.76s/it]"
     ]
    },
    {
     "name": "stdout",
     "output_type": "stream",
     "text": [
      "{'loss': 0.0857, 'learning_rate': 4.902127659574468e-06, 'epoch': 22.96}\n"
     ]
    },
    {
     "name": "stderr",
     "output_type": "stream",
     "text": [
      " 92%|█████████▏| 1080/1175 [3:33:31<13:40,  8.64s/it]"
     ]
    },
    {
     "name": "stdout",
     "output_type": "stream",
     "text": [
      "{'loss': 0.1485, 'learning_rate': 4.851063829787234e-06, 'epoch': 22.98}\n"
     ]
    },
    {
     "name": "stderr",
     "output_type": "stream",
     "text": [
      " 92%|█████████▏| 1081/1175 [3:33:36<11:53,  7.59s/it]"
     ]
    },
    {
     "name": "stdout",
     "output_type": "stream",
     "text": [
      "{'loss': 0.0927, 'learning_rate': 4.800000000000001e-06, 'epoch': 23.0}\n"
     ]
    },
    {
     "name": "stderr",
     "output_type": "stream",
     "text": [
      " 92%|█████████▏| 1082/1175 [3:33:47<12:58,  8.37s/it]"
     ]
    },
    {
     "name": "stdout",
     "output_type": "stream",
     "text": [
      "{'loss': 0.1078, 'learning_rate': 4.748936170212766e-06, 'epoch': 23.02}\n"
     ]
    },
    {
     "name": "stderr",
     "output_type": "stream",
     "text": [
      " 92%|█████████▏| 1083/1175 [3:33:55<13:00,  8.49s/it]"
     ]
    },
    {
     "name": "stdout",
     "output_type": "stream",
     "text": [
      "{'loss': 0.0896, 'learning_rate': 4.697872340425532e-06, 'epoch': 23.04}\n"
     ]
    },
    {
     "name": "stderr",
     "output_type": "stream",
     "text": [
      " 92%|█████████▏| 1084/1175 [3:34:04<13:00,  8.58s/it]"
     ]
    },
    {
     "name": "stdout",
     "output_type": "stream",
     "text": [
      "{'loss': 0.0688, 'learning_rate': 4.6468085106382985e-06, 'epoch': 23.06}\n"
     ]
    },
    {
     "name": "stderr",
     "output_type": "stream",
     "text": [
      " 92%|█████████▏| 1085/1175 [3:34:13<12:56,  8.63s/it]"
     ]
    },
    {
     "name": "stdout",
     "output_type": "stream",
     "text": [
      "{'loss': 0.064, 'learning_rate': 4.595744680851064e-06, 'epoch': 23.09}\n"
     ]
    },
    {
     "name": "stderr",
     "output_type": "stream",
     "text": [
      " 92%|█████████▏| 1086/1175 [3:34:22<12:54,  8.70s/it]"
     ]
    },
    {
     "name": "stdout",
     "output_type": "stream",
     "text": [
      "{'loss': 0.0842, 'learning_rate': 4.54468085106383e-06, 'epoch': 23.11}\n"
     ]
    },
    {
     "name": "stderr",
     "output_type": "stream",
     "text": [
      " 93%|█████████▎| 1087/1175 [3:34:30<12:47,  8.72s/it]"
     ]
    },
    {
     "name": "stdout",
     "output_type": "stream",
     "text": [
      "{'loss': 0.0602, 'learning_rate': 4.493617021276596e-06, 'epoch': 23.13}\n"
     ]
    },
    {
     "name": "stderr",
     "output_type": "stream",
     "text": [
      " 93%|█████████▎| 1088/1175 [3:34:39<12:40,  8.74s/it]"
     ]
    },
    {
     "name": "stdout",
     "output_type": "stream",
     "text": [
      "{'loss': 0.2378, 'learning_rate': 4.442553191489362e-06, 'epoch': 23.15}\n"
     ]
    },
    {
     "name": "stderr",
     "output_type": "stream",
     "text": [
      " 93%|█████████▎| 1089/1175 [3:34:48<12:31,  8.74s/it]"
     ]
    },
    {
     "name": "stdout",
     "output_type": "stream",
     "text": [
      "{'loss': 0.092, 'learning_rate': 4.391489361702128e-06, 'epoch': 23.17}\n"
     ]
    },
    {
     "name": "stderr",
     "output_type": "stream",
     "text": [
      " 93%|█████████▎| 1090/1175 [3:34:57<12:24,  8.76s/it]"
     ]
    },
    {
     "name": "stdout",
     "output_type": "stream",
     "text": [
      "{'loss': 0.1306, 'learning_rate': 4.340425531914893e-06, 'epoch': 23.19}\n"
     ]
    },
    {
     "name": "stderr",
     "output_type": "stream",
     "text": [
      " 93%|█████████▎| 1091/1175 [3:35:06<12:17,  8.78s/it]"
     ]
    },
    {
     "name": "stdout",
     "output_type": "stream",
     "text": [
      "{'loss': 0.0832, 'learning_rate': 4.28936170212766e-06, 'epoch': 23.21}\n"
     ]
    },
    {
     "name": "stderr",
     "output_type": "stream",
     "text": [
      " 93%|█████████▎| 1092/1175 [3:35:14<12:10,  8.80s/it]"
     ]
    },
    {
     "name": "stdout",
     "output_type": "stream",
     "text": [
      "{'loss': 0.0676, 'learning_rate': 4.2382978723404256e-06, 'epoch': 23.23}\n"
     ]
    },
    {
     "name": "stderr",
     "output_type": "stream",
     "text": [
      " 93%|█████████▎| 1093/1175 [3:35:23<12:00,  8.79s/it]"
     ]
    },
    {
     "name": "stdout",
     "output_type": "stream",
     "text": [
      "{'loss': 0.1265, 'learning_rate': 4.187234042553191e-06, 'epoch': 23.26}\n"
     ]
    },
    {
     "name": "stderr",
     "output_type": "stream",
     "text": [
      " 93%|█████████▎| 1094/1175 [3:35:32<11:50,  8.78s/it]"
     ]
    },
    {
     "name": "stdout",
     "output_type": "stream",
     "text": [
      "{'loss': 0.1363, 'learning_rate': 4.136170212765958e-06, 'epoch': 23.28}\n"
     ]
    },
    {
     "name": "stderr",
     "output_type": "stream",
     "text": [
      " 93%|█████████▎| 1095/1175 [3:35:41<11:42,  8.78s/it]"
     ]
    },
    {
     "name": "stdout",
     "output_type": "stream",
     "text": [
      "{'loss': 0.2511, 'learning_rate': 4.085106382978723e-06, 'epoch': 23.3}\n"
     ]
    },
    {
     "name": "stderr",
     "output_type": "stream",
     "text": [
      " 93%|█████████▎| 1096/1175 [3:35:50<11:34,  8.80s/it]"
     ]
    },
    {
     "name": "stdout",
     "output_type": "stream",
     "text": [
      "{'loss': 0.0591, 'learning_rate': 4.034042553191489e-06, 'epoch': 23.32}\n"
     ]
    },
    {
     "name": "stderr",
     "output_type": "stream",
     "text": [
      " 93%|█████████▎| 1097/1175 [3:35:58<11:27,  8.81s/it]"
     ]
    },
    {
     "name": "stdout",
     "output_type": "stream",
     "text": [
      "{'loss': 0.0756, 'learning_rate': 3.982978723404255e-06, 'epoch': 23.34}\n"
     ]
    },
    {
     "name": "stderr",
     "output_type": "stream",
     "text": [
      " 93%|█████████▎| 1098/1175 [3:36:07<11:18,  8.81s/it]"
     ]
    },
    {
     "name": "stdout",
     "output_type": "stream",
     "text": [
      "{'loss': 0.0533, 'learning_rate': 3.931914893617021e-06, 'epoch': 23.36}\n"
     ]
    },
    {
     "name": "stderr",
     "output_type": "stream",
     "text": [
      " 94%|█████████▎| 1099/1175 [3:36:16<11:09,  8.81s/it]"
     ]
    },
    {
     "name": "stdout",
     "output_type": "stream",
     "text": [
      "{'loss': 0.2454, 'learning_rate': 3.880851063829787e-06, 'epoch': 23.38}\n"
     ]
    },
    {
     "name": "stderr",
     "output_type": "stream",
     "text": [
      " 94%|█████████▎| 1100/1175 [3:36:25<11:01,  8.83s/it]"
     ]
    },
    {
     "name": "stdout",
     "output_type": "stream",
     "text": [
      "{'loss': 0.0992, 'learning_rate': 3.829787234042553e-06, 'epoch': 23.4}\n"
     ]
    },
    {
     "name": "stderr",
     "output_type": "stream",
     "text": [
      "                                                     \n",
      " 94%|█████████▎| 1100/1175 [3:42:04<11:01,  8.83s/it]"
     ]
    },
    {
     "name": "stdout",
     "output_type": "stream",
     "text": [
      "{'eval_loss': 0.04855317249894142, 'eval_mean_iou': 0.27916984768762204, 'eval_mean_accuracy': 0.3062740443944895, 'eval_overall_accuracy': 0.9916129112243652, 'eval_per_category_iou': [0.0, 0.9932851731532557, 0.8105353221168251, 0.0, 0.0, 0.0, 0.0, 0.425734448701333, 0.431939721141292, 0.8279782075653636, 0.13973514726101743, 0.0, 0.0], 'eval_per_category_accuracy': [0.0, 0.998868535354427, 0.9066910837378851, 0.0, 0.0, 0.0, 0.0, 0.4358417661762932, 0.6039440544450994, 0.8911527812269497, 0.14506435618770971, 0.0, 0.0], 'eval_runtime': 339.458, 'eval_samples_per_second': 0.683, 'eval_steps_per_second': 0.071, 'epoch': 23.4}\n"
     ]
    },
    {
     "name": "stderr",
     "output_type": "stream",
     "text": [
      " 94%|█████████▎| 1101/1175 [3:42:14<2:16:41, 110.83s/it]"
     ]
    },
    {
     "name": "stdout",
     "output_type": "stream",
     "text": [
      "{'loss': 0.1163, 'learning_rate': 3.7787234042553196e-06, 'epoch': 23.43}\n"
     ]
    },
    {
     "name": "stderr",
     "output_type": "stream",
     "text": [
      " 94%|█████████▍| 1102/1175 [3:42:23<1:37:35, 80.21s/it] "
     ]
    },
    {
     "name": "stdout",
     "output_type": "stream",
     "text": [
      "{'loss': 0.0672, 'learning_rate': 3.7276595744680852e-06, 'epoch': 23.45}\n"
     ]
    },
    {
     "name": "stderr",
     "output_type": "stream",
     "text": [
      " 94%|█████████▍| 1103/1175 [3:42:31<1:10:33, 58.80s/it]"
     ]
    },
    {
     "name": "stdout",
     "output_type": "stream",
     "text": [
      "{'loss': 0.0658, 'learning_rate': 3.676595744680851e-06, 'epoch': 23.47}\n"
     ]
    },
    {
     "name": "stderr",
     "output_type": "stream",
     "text": [
      " 94%|█████████▍| 1104/1175 [3:42:40<51:48, 43.79s/it]  "
     ]
    },
    {
     "name": "stdout",
     "output_type": "stream",
     "text": [
      "{'loss': 0.1124, 'learning_rate': 3.625531914893617e-06, 'epoch': 23.49}\n"
     ]
    },
    {
     "name": "stderr",
     "output_type": "stream",
     "text": [
      " 94%|█████████▍| 1105/1175 [3:42:49<38:51, 33.30s/it]"
     ]
    },
    {
     "name": "stdout",
     "output_type": "stream",
     "text": [
      "{'loss': 0.0692, 'learning_rate': 3.574468085106383e-06, 'epoch': 23.51}\n"
     ]
    },
    {
     "name": "stderr",
     "output_type": "stream",
     "text": [
      " 94%|█████████▍| 1106/1175 [3:42:58<29:50, 25.96s/it]"
     ]
    },
    {
     "name": "stdout",
     "output_type": "stream",
     "text": [
      "{'loss': 0.2416, 'learning_rate': 3.5234042553191488e-06, 'epoch': 23.53}\n"
     ]
    },
    {
     "name": "stderr",
     "output_type": "stream",
     "text": [
      " 94%|█████████▍| 1107/1175 [3:43:07<23:35, 20.82s/it]"
     ]
    },
    {
     "name": "stdout",
     "output_type": "stream",
     "text": [
      "{'loss': 0.0609, 'learning_rate': 3.4723404255319153e-06, 'epoch': 23.55}\n"
     ]
    },
    {
     "name": "stderr",
     "output_type": "stream",
     "text": [
      " 94%|█████████▍| 1108/1175 [3:43:15<19:13, 17.21s/it]"
     ]
    },
    {
     "name": "stdout",
     "output_type": "stream",
     "text": [
      "{'loss': 0.0726, 'learning_rate': 3.421276595744681e-06, 'epoch': 23.57}\n"
     ]
    },
    {
     "name": "stderr",
     "output_type": "stream",
     "text": [
      " 94%|█████████▍| 1109/1175 [3:43:24<16:09, 14.70s/it]"
     ]
    },
    {
     "name": "stdout",
     "output_type": "stream",
     "text": [
      "{'loss': 0.0556, 'learning_rate': 3.370212765957447e-06, 'epoch': 23.6}\n"
     ]
    },
    {
     "name": "stderr",
     "output_type": "stream",
     "text": [
      " 94%|█████████▍| 1110/1175 [3:43:33<13:59, 12.92s/it]"
     ]
    },
    {
     "name": "stdout",
     "output_type": "stream",
     "text": [
      "{'loss': 0.0532, 'learning_rate': 3.3191489361702127e-06, 'epoch': 23.62}\n"
     ]
    },
    {
     "name": "stderr",
     "output_type": "stream",
     "text": [
      " 95%|█████████▍| 1111/1175 [3:43:42<12:27, 11.68s/it]"
     ]
    },
    {
     "name": "stdout",
     "output_type": "stream",
     "text": [
      "{'loss': 0.0794, 'learning_rate': 3.268085106382979e-06, 'epoch': 23.64}\n"
     ]
    },
    {
     "name": "stderr",
     "output_type": "stream",
     "text": [
      " 95%|█████████▍| 1112/1175 [3:43:51<11:22, 10.83s/it]"
     ]
    },
    {
     "name": "stdout",
     "output_type": "stream",
     "text": [
      "{'loss': 0.0655, 'learning_rate': 3.217021276595745e-06, 'epoch': 23.66}\n"
     ]
    },
    {
     "name": "stderr",
     "output_type": "stream",
     "text": [
      " 95%|█████████▍| 1113/1175 [3:44:00<10:35, 10.24s/it]"
     ]
    },
    {
     "name": "stdout",
     "output_type": "stream",
     "text": [
      "{'loss': 0.1002, 'learning_rate': 3.1659574468085106e-06, 'epoch': 23.68}\n"
     ]
    },
    {
     "name": "stderr",
     "output_type": "stream",
     "text": [
      " 95%|█████████▍| 1114/1175 [3:44:08<09:59,  9.83s/it]"
     ]
    },
    {
     "name": "stdout",
     "output_type": "stream",
     "text": [
      "{'loss': 0.079, 'learning_rate': 3.1148936170212767e-06, 'epoch': 23.7}\n"
     ]
    },
    {
     "name": "stderr",
     "output_type": "stream",
     "text": [
      " 95%|█████████▍| 1115/1175 [3:44:17<09:31,  9.52s/it]"
     ]
    },
    {
     "name": "stdout",
     "output_type": "stream",
     "text": [
      "{'loss': 0.1264, 'learning_rate': 3.0638297872340424e-06, 'epoch': 23.72}\n"
     ]
    },
    {
     "name": "stderr",
     "output_type": "stream",
     "text": [
      " 95%|█████████▍| 1116/1175 [3:44:26<09:09,  9.31s/it]"
     ]
    },
    {
     "name": "stdout",
     "output_type": "stream",
     "text": [
      "{'loss': 0.0566, 'learning_rate': 3.0127659574468084e-06, 'epoch': 23.74}\n"
     ]
    },
    {
     "name": "stderr",
     "output_type": "stream",
     "text": [
      " 95%|█████████▌| 1117/1175 [3:44:35<08:52,  9.18s/it]"
     ]
    },
    {
     "name": "stdout",
     "output_type": "stream",
     "text": [
      "{'loss': 0.0684, 'learning_rate': 2.9617021276595745e-06, 'epoch': 23.77}\n"
     ]
    },
    {
     "name": "stderr",
     "output_type": "stream",
     "text": [
      " 95%|█████████▌| 1118/1175 [3:44:44<08:36,  9.07s/it]"
     ]
    },
    {
     "name": "stdout",
     "output_type": "stream",
     "text": [
      "{'loss': 0.0824, 'learning_rate': 2.9106382978723406e-06, 'epoch': 23.79}\n"
     ]
    },
    {
     "name": "stderr",
     "output_type": "stream",
     "text": [
      " 95%|█████████▌| 1119/1175 [3:44:53<08:23,  8.99s/it]"
     ]
    },
    {
     "name": "stdout",
     "output_type": "stream",
     "text": [
      "{'loss': 0.0776, 'learning_rate': 2.8595744680851067e-06, 'epoch': 23.81}\n"
     ]
    },
    {
     "name": "stderr",
     "output_type": "stream",
     "text": [
      " 95%|█████████▌| 1120/1175 [3:45:01<08:11,  8.94s/it]"
     ]
    },
    {
     "name": "stdout",
     "output_type": "stream",
     "text": [
      "{'loss': 0.4217, 'learning_rate': 2.8085106382978724e-06, 'epoch': 23.83}\n"
     ]
    },
    {
     "name": "stderr",
     "output_type": "stream",
     "text": [
      " 95%|█████████▌| 1121/1175 [3:45:10<07:59,  8.89s/it]"
     ]
    },
    {
     "name": "stdout",
     "output_type": "stream",
     "text": [
      "{'loss': 0.168, 'learning_rate': 2.7574468085106385e-06, 'epoch': 23.85}\n"
     ]
    },
    {
     "name": "stderr",
     "output_type": "stream",
     "text": [
      " 95%|█████████▌| 1122/1175 [3:45:19<07:51,  8.90s/it]"
     ]
    },
    {
     "name": "stdout",
     "output_type": "stream",
     "text": [
      "{'loss': 0.0872, 'learning_rate': 2.706382978723404e-06, 'epoch': 23.87}\n"
     ]
    },
    {
     "name": "stderr",
     "output_type": "stream",
     "text": [
      " 96%|█████████▌| 1123/1175 [3:45:28<07:41,  8.87s/it]"
     ]
    },
    {
     "name": "stdout",
     "output_type": "stream",
     "text": [
      "{'loss': 0.0608, 'learning_rate': 2.6553191489361703e-06, 'epoch': 23.89}\n"
     ]
    },
    {
     "name": "stderr",
     "output_type": "stream",
     "text": [
      " 96%|█████████▌| 1124/1175 [3:45:37<07:31,  8.85s/it]"
     ]
    },
    {
     "name": "stdout",
     "output_type": "stream",
     "text": [
      "{'loss': 0.0553, 'learning_rate': 2.6042553191489364e-06, 'epoch': 23.91}\n"
     ]
    },
    {
     "name": "stderr",
     "output_type": "stream",
     "text": [
      " 96%|█████████▌| 1125/1175 [3:45:45<07:22,  8.85s/it]"
     ]
    },
    {
     "name": "stdout",
     "output_type": "stream",
     "text": [
      "{'loss': 0.0967, 'learning_rate': 2.553191489361702e-06, 'epoch': 23.94}\n"
     ]
    },
    {
     "name": "stderr",
     "output_type": "stream",
     "text": [
      " 96%|█████████▌| 1126/1175 [3:45:54<07:12,  8.83s/it]"
     ]
    },
    {
     "name": "stdout",
     "output_type": "stream",
     "text": [
      "{'loss': 0.0828, 'learning_rate': 2.502127659574468e-06, 'epoch': 23.96}\n"
     ]
    },
    {
     "name": "stderr",
     "output_type": "stream",
     "text": [
      " 96%|█████████▌| 1127/1175 [3:46:03<06:57,  8.71s/it]"
     ]
    },
    {
     "name": "stdout",
     "output_type": "stream",
     "text": [
      "{'loss': 0.1511, 'learning_rate': 2.451063829787234e-06, 'epoch': 23.98}\n"
     ]
    },
    {
     "name": "stderr",
     "output_type": "stream",
     "text": [
      " 96%|█████████▌| 1128/1175 [3:46:08<05:59,  7.64s/it]"
     ]
    },
    {
     "name": "stdout",
     "output_type": "stream",
     "text": [
      "{'loss': 0.0882, 'learning_rate': 2.4000000000000003e-06, 'epoch': 24.0}\n"
     ]
    },
    {
     "name": "stderr",
     "output_type": "stream",
     "text": [
      " 96%|█████████▌| 1129/1175 [3:46:18<06:27,  8.43s/it]"
     ]
    },
    {
     "name": "stdout",
     "output_type": "stream",
     "text": [
      "{'loss': 0.1093, 'learning_rate': 2.348936170212766e-06, 'epoch': 24.02}\n"
     ]
    },
    {
     "name": "stderr",
     "output_type": "stream",
     "text": [
      " 96%|█████████▌| 1130/1175 [3:46:27<06:23,  8.52s/it]"
     ]
    },
    {
     "name": "stdout",
     "output_type": "stream",
     "text": [
      "{'loss': 0.0721, 'learning_rate': 2.297872340425532e-06, 'epoch': 24.04}\n"
     ]
    },
    {
     "name": "stderr",
     "output_type": "stream",
     "text": [
      " 96%|█████████▋| 1131/1175 [3:46:36<06:18,  8.60s/it]"
     ]
    },
    {
     "name": "stdout",
     "output_type": "stream",
     "text": [
      "{'loss': 0.1244, 'learning_rate': 2.246808510638298e-06, 'epoch': 24.06}\n"
     ]
    },
    {
     "name": "stderr",
     "output_type": "stream",
     "text": [
      " 96%|█████████▋| 1132/1175 [3:46:45<06:13,  8.69s/it]"
     ]
    },
    {
     "name": "stdout",
     "output_type": "stream",
     "text": [
      "{'loss': 0.0814, 'learning_rate': 2.195744680851064e-06, 'epoch': 24.09}\n"
     ]
    },
    {
     "name": "stderr",
     "output_type": "stream",
     "text": [
      " 96%|█████████▋| 1133/1175 [3:46:53<06:05,  8.71s/it]"
     ]
    },
    {
     "name": "stdout",
     "output_type": "stream",
     "text": [
      "{'loss': 0.0765, 'learning_rate': 2.14468085106383e-06, 'epoch': 24.11}\n"
     ]
    },
    {
     "name": "stderr",
     "output_type": "stream",
     "text": [
      " 97%|█████████▋| 1134/1175 [3:47:02<05:57,  8.73s/it]"
     ]
    },
    {
     "name": "stdout",
     "output_type": "stream",
     "text": [
      "{'loss': 0.1879, 'learning_rate': 2.0936170212765956e-06, 'epoch': 24.13}\n"
     ]
    },
    {
     "name": "stderr",
     "output_type": "stream",
     "text": [
      " 97%|█████████▋| 1135/1175 [3:47:11<05:50,  8.76s/it]"
     ]
    },
    {
     "name": "stdout",
     "output_type": "stream",
     "text": [
      "{'loss': 0.0866, 'learning_rate': 2.0425531914893617e-06, 'epoch': 24.15}\n"
     ]
    },
    {
     "name": "stderr",
     "output_type": "stream",
     "text": [
      " 97%|█████████▋| 1136/1175 [3:47:20<05:42,  8.78s/it]"
     ]
    },
    {
     "name": "stdout",
     "output_type": "stream",
     "text": [
      "{'loss': 0.0762, 'learning_rate': 1.9914893617021274e-06, 'epoch': 24.17}\n"
     ]
    },
    {
     "name": "stderr",
     "output_type": "stream",
     "text": [
      " 97%|█████████▋| 1137/1175 [3:47:29<05:33,  8.79s/it]"
     ]
    },
    {
     "name": "stdout",
     "output_type": "stream",
     "text": [
      "{'loss': 0.1427, 'learning_rate': 1.9404255319148935e-06, 'epoch': 24.19}\n"
     ]
    },
    {
     "name": "stderr",
     "output_type": "stream",
     "text": [
      " 97%|█████████▋| 1138/1175 [3:47:37<05:25,  8.79s/it]"
     ]
    },
    {
     "name": "stdout",
     "output_type": "stream",
     "text": [
      "{'loss': 0.041, 'learning_rate': 1.8893617021276598e-06, 'epoch': 24.21}\n"
     ]
    },
    {
     "name": "stderr",
     "output_type": "stream",
     "text": [
      " 97%|█████████▋| 1139/1175 [3:47:46<05:16,  8.78s/it]"
     ]
    },
    {
     "name": "stdout",
     "output_type": "stream",
     "text": [
      "{'loss': 0.116, 'learning_rate': 1.8382978723404255e-06, 'epoch': 24.23}\n"
     ]
    },
    {
     "name": "stderr",
     "output_type": "stream",
     "text": [
      " 97%|█████████▋| 1140/1175 [3:47:55<05:08,  8.81s/it]"
     ]
    },
    {
     "name": "stdout",
     "output_type": "stream",
     "text": [
      "{'loss': 0.0575, 'learning_rate': 1.7872340425531915e-06, 'epoch': 24.26}\n"
     ]
    },
    {
     "name": "stderr",
     "output_type": "stream",
     "text": [
      " 97%|█████████▋| 1141/1175 [3:48:04<04:59,  8.81s/it]"
     ]
    },
    {
     "name": "stdout",
     "output_type": "stream",
     "text": [
      "{'loss': 0.0929, 'learning_rate': 1.7361702127659576e-06, 'epoch': 24.28}\n"
     ]
    },
    {
     "name": "stderr",
     "output_type": "stream",
     "text": [
      " 97%|█████████▋| 1142/1175 [3:48:13<04:50,  8.80s/it]"
     ]
    },
    {
     "name": "stdout",
     "output_type": "stream",
     "text": [
      "{'loss': 0.1372, 'learning_rate': 1.6851063829787235e-06, 'epoch': 24.3}\n"
     ]
    },
    {
     "name": "stderr",
     "output_type": "stream",
     "text": [
      " 97%|█████████▋| 1143/1175 [3:48:21<04:41,  8.80s/it]"
     ]
    },
    {
     "name": "stdout",
     "output_type": "stream",
     "text": [
      "{'loss': 0.0699, 'learning_rate': 1.6340425531914894e-06, 'epoch': 24.32}\n"
     ]
    },
    {
     "name": "stderr",
     "output_type": "stream",
     "text": [
      " 97%|█████████▋| 1144/1175 [3:48:30<04:32,  8.80s/it]"
     ]
    },
    {
     "name": "stdout",
     "output_type": "stream",
     "text": [
      "{'loss': 0.0725, 'learning_rate': 1.5829787234042553e-06, 'epoch': 24.34}\n"
     ]
    },
    {
     "name": "stderr",
     "output_type": "stream",
     "text": [
      " 97%|█████████▋| 1145/1175 [3:48:39<04:23,  8.80s/it]"
     ]
    },
    {
     "name": "stdout",
     "output_type": "stream",
     "text": [
      "{'loss': 0.0544, 'learning_rate': 1.5319148936170212e-06, 'epoch': 24.36}\n"
     ]
    },
    {
     "name": "stderr",
     "output_type": "stream",
     "text": [
      " 98%|█████████▊| 1146/1175 [3:48:48<04:15,  8.80s/it]"
     ]
    },
    {
     "name": "stdout",
     "output_type": "stream",
     "text": [
      "{'loss': 0.0944, 'learning_rate': 1.4808510638297873e-06, 'epoch': 24.38}\n"
     ]
    },
    {
     "name": "stderr",
     "output_type": "stream",
     "text": [
      " 98%|█████████▊| 1147/1175 [3:48:57<04:06,  8.79s/it]"
     ]
    },
    {
     "name": "stdout",
     "output_type": "stream",
     "text": [
      "{'loss': 0.0771, 'learning_rate': 1.4297872340425534e-06, 'epoch': 24.4}\n"
     ]
    },
    {
     "name": "stderr",
     "output_type": "stream",
     "text": [
      " 98%|█████████▊| 1148/1175 [3:49:05<03:57,  8.78s/it]"
     ]
    },
    {
     "name": "stdout",
     "output_type": "stream",
     "text": [
      "{'loss': 0.197, 'learning_rate': 1.3787234042553192e-06, 'epoch': 24.43}\n"
     ]
    },
    {
     "name": "stderr",
     "output_type": "stream",
     "text": [
      " 98%|█████████▊| 1149/1175 [3:49:14<03:49,  8.82s/it]"
     ]
    },
    {
     "name": "stdout",
     "output_type": "stream",
     "text": [
      "{'loss': 0.1825, 'learning_rate': 1.3276595744680851e-06, 'epoch': 24.45}\n"
     ]
    },
    {
     "name": "stderr",
     "output_type": "stream",
     "text": [
      " 98%|█████████▊| 1150/1175 [3:49:23<03:40,  8.80s/it]"
     ]
    },
    {
     "name": "stdout",
     "output_type": "stream",
     "text": [
      "{'loss': 0.0692, 'learning_rate': 1.276595744680851e-06, 'epoch': 24.47}\n"
     ]
    },
    {
     "name": "stderr",
     "output_type": "stream",
     "text": [
      " 98%|█████████▊| 1151/1175 [3:49:32<03:31,  8.80s/it]"
     ]
    },
    {
     "name": "stdout",
     "output_type": "stream",
     "text": [
      "{'loss': 0.0719, 'learning_rate': 1.225531914893617e-06, 'epoch': 24.49}\n"
     ]
    },
    {
     "name": "stderr",
     "output_type": "stream",
     "text": [
      " 98%|█████████▊| 1152/1175 [3:49:40<03:22,  8.79s/it]"
     ]
    },
    {
     "name": "stdout",
     "output_type": "stream",
     "text": [
      "{'loss': 0.1099, 'learning_rate': 1.174468085106383e-06, 'epoch': 24.51}\n"
     ]
    },
    {
     "name": "stderr",
     "output_type": "stream",
     "text": [
      " 98%|█████████▊| 1153/1175 [3:49:49<03:13,  8.80s/it]"
     ]
    },
    {
     "name": "stdout",
     "output_type": "stream",
     "text": [
      "{'loss': 0.0869, 'learning_rate': 1.123404255319149e-06, 'epoch': 24.53}\n"
     ]
    },
    {
     "name": "stderr",
     "output_type": "stream",
     "text": [
      " 98%|█████████▊| 1154/1175 [3:49:58<03:04,  8.79s/it]"
     ]
    },
    {
     "name": "stdout",
     "output_type": "stream",
     "text": [
      "{'loss': 0.1212, 'learning_rate': 1.072340425531915e-06, 'epoch': 24.55}\n"
     ]
    },
    {
     "name": "stderr",
     "output_type": "stream",
     "text": [
      " 98%|█████████▊| 1155/1175 [3:50:07<02:55,  8.79s/it]"
     ]
    },
    {
     "name": "stdout",
     "output_type": "stream",
     "text": [
      "{'loss': 0.081, 'learning_rate': 1.0212765957446809e-06, 'epoch': 24.57}\n"
     ]
    },
    {
     "name": "stderr",
     "output_type": "stream",
     "text": [
      " 98%|█████████▊| 1156/1175 [3:50:16<02:47,  8.80s/it]"
     ]
    },
    {
     "name": "stdout",
     "output_type": "stream",
     "text": [
      "{'loss': 0.0937, 'learning_rate': 9.702127659574467e-07, 'epoch': 24.6}\n"
     ]
    },
    {
     "name": "stderr",
     "output_type": "stream",
     "text": [
      " 98%|█████████▊| 1157/1175 [3:50:25<02:38,  8.80s/it]"
     ]
    },
    {
     "name": "stdout",
     "output_type": "stream",
     "text": [
      "{'loss': 0.1191, 'learning_rate': 9.191489361702127e-07, 'epoch': 24.62}\n"
     ]
    },
    {
     "name": "stderr",
     "output_type": "stream",
     "text": [
      " 99%|█████████▊| 1158/1175 [3:50:33<02:29,  8.79s/it]"
     ]
    },
    {
     "name": "stdout",
     "output_type": "stream",
     "text": [
      "{'loss': 0.1203, 'learning_rate': 8.680851063829788e-07, 'epoch': 24.64}\n"
     ]
    },
    {
     "name": "stderr",
     "output_type": "stream",
     "text": [
      " 99%|█████████▊| 1159/1175 [3:50:42<02:20,  8.79s/it]"
     ]
    },
    {
     "name": "stdout",
     "output_type": "stream",
     "text": [
      "{'loss': 0.0716, 'learning_rate': 8.170212765957447e-07, 'epoch': 24.66}\n"
     ]
    },
    {
     "name": "stderr",
     "output_type": "stream",
     "text": [
      " 99%|█████████▊| 1160/1175 [3:50:51<02:11,  8.80s/it]"
     ]
    },
    {
     "name": "stdout",
     "output_type": "stream",
     "text": [
      "{'loss': 0.1, 'learning_rate': 7.659574468085106e-07, 'epoch': 24.68}\n"
     ]
    },
    {
     "name": "stderr",
     "output_type": "stream",
     "text": [
      " 99%|█████████▉| 1161/1175 [3:51:00<02:03,  8.83s/it]"
     ]
    },
    {
     "name": "stdout",
     "output_type": "stream",
     "text": [
      "{'loss': 0.0824, 'learning_rate': 7.148936170212767e-07, 'epoch': 24.7}\n"
     ]
    },
    {
     "name": "stderr",
     "output_type": "stream",
     "text": [
      " 99%|█████████▉| 1162/1175 [3:51:09<01:54,  8.83s/it]"
     ]
    },
    {
     "name": "stdout",
     "output_type": "stream",
     "text": [
      "{'loss': 0.1464, 'learning_rate': 6.638297872340426e-07, 'epoch': 24.72}\n"
     ]
    },
    {
     "name": "stderr",
     "output_type": "stream",
     "text": [
      " 99%|█████████▉| 1163/1175 [3:51:17<01:46,  8.84s/it]"
     ]
    },
    {
     "name": "stdout",
     "output_type": "stream",
     "text": [
      "{'loss': 0.0592, 'learning_rate': 6.127659574468084e-07, 'epoch': 24.74}\n"
     ]
    },
    {
     "name": "stderr",
     "output_type": "stream",
     "text": [
      " 99%|█████████▉| 1164/1175 [3:51:26<01:37,  8.83s/it]"
     ]
    },
    {
     "name": "stdout",
     "output_type": "stream",
     "text": [
      "{'loss': 0.087, 'learning_rate': 5.617021276595745e-07, 'epoch': 24.77}\n"
     ]
    },
    {
     "name": "stderr",
     "output_type": "stream",
     "text": [
      " 99%|█████████▉| 1165/1175 [3:51:35<01:28,  8.85s/it]"
     ]
    },
    {
     "name": "stdout",
     "output_type": "stream",
     "text": [
      "{'loss': 0.1082, 'learning_rate': 5.106382978723404e-07, 'epoch': 24.79}\n"
     ]
    },
    {
     "name": "stderr",
     "output_type": "stream",
     "text": [
      " 99%|█████████▉| 1166/1175 [3:51:44<01:19,  8.83s/it]"
     ]
    },
    {
     "name": "stdout",
     "output_type": "stream",
     "text": [
      "{'loss': 0.2775, 'learning_rate': 4.5957446808510636e-07, 'epoch': 24.81}\n"
     ]
    },
    {
     "name": "stderr",
     "output_type": "stream",
     "text": [
      " 99%|█████████▉| 1167/1175 [3:51:53<01:10,  8.81s/it]"
     ]
    },
    {
     "name": "stdout",
     "output_type": "stream",
     "text": [
      "{'loss': 0.155, 'learning_rate': 4.0851063829787235e-07, 'epoch': 24.83}\n"
     ]
    },
    {
     "name": "stderr",
     "output_type": "stream",
     "text": [
      " 99%|█████████▉| 1168/1175 [3:52:02<01:01,  8.81s/it]"
     ]
    },
    {
     "name": "stdout",
     "output_type": "stream",
     "text": [
      "{'loss': 0.0753, 'learning_rate': 3.5744680851063834e-07, 'epoch': 24.85}\n"
     ]
    },
    {
     "name": "stderr",
     "output_type": "stream",
     "text": [
      " 99%|█████████▉| 1169/1175 [3:52:10<00:52,  8.83s/it]"
     ]
    },
    {
     "name": "stdout",
     "output_type": "stream",
     "text": [
      "{'loss': 0.1016, 'learning_rate': 3.063829787234042e-07, 'epoch': 24.87}\n"
     ]
    },
    {
     "name": "stderr",
     "output_type": "stream",
     "text": [
      "100%|█████████▉| 1170/1175 [3:52:19<00:44,  8.82s/it]"
     ]
    },
    {
     "name": "stdout",
     "output_type": "stream",
     "text": [
      "{'loss': 0.059, 'learning_rate': 2.553191489361702e-07, 'epoch': 24.89}\n"
     ]
    },
    {
     "name": "stderr",
     "output_type": "stream",
     "text": [
      "100%|█████████▉| 1171/1175 [3:52:28<00:35,  8.81s/it]"
     ]
    },
    {
     "name": "stdout",
     "output_type": "stream",
     "text": [
      "{'loss': 0.0618, 'learning_rate': 2.0425531914893618e-07, 'epoch': 24.91}\n"
     ]
    },
    {
     "name": "stderr",
     "output_type": "stream",
     "text": [
      "100%|█████████▉| 1172/1175 [3:52:37<00:26,  8.80s/it]"
     ]
    },
    {
     "name": "stdout",
     "output_type": "stream",
     "text": [
      "{'loss': 0.1887, 'learning_rate': 1.531914893617021e-07, 'epoch': 24.94}\n"
     ]
    },
    {
     "name": "stderr",
     "output_type": "stream",
     "text": [
      "100%|█████████▉| 1173/1175 [3:52:46<00:17,  8.79s/it]"
     ]
    },
    {
     "name": "stdout",
     "output_type": "stream",
     "text": [
      "{'loss': 0.0505, 'learning_rate': 1.0212765957446809e-07, 'epoch': 24.96}\n"
     ]
    },
    {
     "name": "stderr",
     "output_type": "stream",
     "text": [
      "100%|█████████▉| 1174/1175 [3:52:54<00:08,  8.69s/it]"
     ]
    },
    {
     "name": "stdout",
     "output_type": "stream",
     "text": [
      "{'loss': 0.1514, 'learning_rate': 5.1063829787234044e-08, 'epoch': 24.98}\n"
     ]
    },
    {
     "name": "stderr",
     "output_type": "stream",
     "text": [
      "100%|██████████| 1175/1175 [3:52:59<00:00, 11.90s/it]"
     ]
    },
    {
     "name": "stdout",
     "output_type": "stream",
     "text": [
      "{'loss': 0.0482, 'learning_rate': 0.0, 'epoch': 25.0}\n",
      "{'train_runtime': 13979.7542, 'train_samples_per_second': 0.835, 'train_steps_per_second': 0.084, 'train_loss': 0.46356704150425626, 'epoch': 25.0}\n"
     ]
    },
    {
     "name": "stderr",
     "output_type": "stream",
     "text": [
      "\n"
     ]
    },
    {
     "data": {
      "text/plain": [
       "TrainOutput(global_step=1175, training_loss=0.46356704150425626, metrics={'train_runtime': 13979.7542, 'train_samples_per_second': 0.835, 'train_steps_per_second': 0.084, 'train_loss': 0.46356704150425626, 'epoch': 25.0})"
      ]
     },
     "execution_count": 23,
     "metadata": {},
     "output_type": "execute_result"
    }
   ],
   "source": [
    "trainer = initialize_trainer(train_ds, val_ds)\n",
    "trainer.train()"
   ]
  },
  {
   "cell_type": "code",
   "execution_count": 24,
   "metadata": {},
   "outputs": [
    {
     "data": {
      "text/plain": [
       "[{'loss': 2.5812,\n",
       "  'learning_rate': 5.9948936170212765e-05,\n",
       "  'epoch': 0.02,\n",
       "  'step': 1},\n",
       " {'loss': 2.556,\n",
       "  'learning_rate': 5.9897872340425535e-05,\n",
       "  'epoch': 0.04,\n",
       "  'step': 2},\n",
       " {'loss': 2.5276,\n",
       "  'learning_rate': 5.98468085106383e-05,\n",
       "  'epoch': 0.06,\n",
       "  'step': 3},\n",
       " {'loss': 2.5021,\n",
       "  'learning_rate': 5.979574468085107e-05,\n",
       "  'epoch': 0.09,\n",
       "  'step': 4},\n",
       " {'loss': 2.4846,\n",
       "  'learning_rate': 5.974468085106383e-05,\n",
       "  'epoch': 0.11,\n",
       "  'step': 5},\n",
       " {'loss': 2.4477,\n",
       "  'learning_rate': 5.9693617021276594e-05,\n",
       "  'epoch': 0.13,\n",
       "  'step': 6},\n",
       " {'loss': 2.4413,\n",
       "  'learning_rate': 5.9642553191489364e-05,\n",
       "  'epoch': 0.15,\n",
       "  'step': 7},\n",
       " {'loss': 2.4297,\n",
       "  'learning_rate': 5.959148936170213e-05,\n",
       "  'epoch': 0.17,\n",
       "  'step': 8},\n",
       " {'loss': 2.3607,\n",
       "  'learning_rate': 5.95404255319149e-05,\n",
       "  'epoch': 0.19,\n",
       "  'step': 9},\n",
       " {'loss': 2.4271,\n",
       "  'learning_rate': 5.948936170212766e-05,\n",
       "  'epoch': 0.21,\n",
       "  'step': 10},\n",
       " {'loss': 2.3314,\n",
       "  'learning_rate': 5.943829787234043e-05,\n",
       "  'epoch': 0.23,\n",
       "  'step': 11},\n",
       " {'loss': 2.3234,\n",
       "  'learning_rate': 5.938723404255319e-05,\n",
       "  'epoch': 0.26,\n",
       "  'step': 12},\n",
       " {'loss': 2.3333,\n",
       "  'learning_rate': 5.9336170212765956e-05,\n",
       "  'epoch': 0.28,\n",
       "  'step': 13},\n",
       " {'loss': 2.2727,\n",
       "  'learning_rate': 5.9285106382978726e-05,\n",
       "  'epoch': 0.3,\n",
       "  'step': 14},\n",
       " {'loss': 2.2508,\n",
       "  'learning_rate': 5.923404255319149e-05,\n",
       "  'epoch': 0.32,\n",
       "  'step': 15},\n",
       " {'loss': 2.2197,\n",
       "  'learning_rate': 5.918297872340426e-05,\n",
       "  'epoch': 0.34,\n",
       "  'step': 16},\n",
       " {'loss': 2.2013,\n",
       "  'learning_rate': 5.913191489361702e-05,\n",
       "  'epoch': 0.36,\n",
       "  'step': 17},\n",
       " {'loss': 2.1932,\n",
       "  'learning_rate': 5.9080851063829785e-05,\n",
       "  'epoch': 0.38,\n",
       "  'step': 18},\n",
       " {'loss': 2.1674,\n",
       "  'learning_rate': 5.9029787234042555e-05,\n",
       "  'epoch': 0.4,\n",
       "  'step': 19},\n",
       " {'loss': 2.1338,\n",
       "  'learning_rate': 5.897872340425532e-05,\n",
       "  'epoch': 0.43,\n",
       "  'step': 20},\n",
       " {'loss': 2.1069,\n",
       "  'learning_rate': 5.892765957446809e-05,\n",
       "  'epoch': 0.45,\n",
       "  'step': 21},\n",
       " {'loss': 2.1697,\n",
       "  'learning_rate': 5.887659574468085e-05,\n",
       "  'epoch': 0.47,\n",
       "  'step': 22},\n",
       " {'loss': 2.0831,\n",
       "  'learning_rate': 5.8825531914893615e-05,\n",
       "  'epoch': 0.49,\n",
       "  'step': 23},\n",
       " {'loss': 2.0717,\n",
       "  'learning_rate': 5.8774468085106384e-05,\n",
       "  'epoch': 0.51,\n",
       "  'step': 24},\n",
       " {'loss': 2.1043,\n",
       "  'learning_rate': 5.872340425531915e-05,\n",
       "  'epoch': 0.53,\n",
       "  'step': 25},\n",
       " {'loss': 1.998,\n",
       "  'learning_rate': 5.867234042553192e-05,\n",
       "  'epoch': 0.55,\n",
       "  'step': 26},\n",
       " {'loss': 2.0918,\n",
       "  'learning_rate': 5.862127659574468e-05,\n",
       "  'epoch': 0.57,\n",
       "  'step': 27},\n",
       " {'loss': 1.9949,\n",
       "  'learning_rate': 5.857021276595745e-05,\n",
       "  'epoch': 0.6,\n",
       "  'step': 28},\n",
       " {'loss': 1.9679,\n",
       "  'learning_rate': 5.8519148936170214e-05,\n",
       "  'epoch': 0.62,\n",
       "  'step': 29},\n",
       " {'loss': 1.8718,\n",
       "  'learning_rate': 5.846808510638298e-05,\n",
       "  'epoch': 0.64,\n",
       "  'step': 30},\n",
       " {'loss': 1.9995,\n",
       "  'learning_rate': 5.841702127659575e-05,\n",
       "  'epoch': 0.66,\n",
       "  'step': 31},\n",
       " {'loss': 1.9064,\n",
       "  'learning_rate': 5.836595744680851e-05,\n",
       "  'epoch': 0.68,\n",
       "  'step': 32},\n",
       " {'loss': 1.9448,\n",
       "  'learning_rate': 5.831489361702128e-05,\n",
       "  'epoch': 0.7,\n",
       "  'step': 33},\n",
       " {'loss': 1.9896,\n",
       "  'learning_rate': 5.826382978723404e-05,\n",
       "  'epoch': 0.72,\n",
       "  'step': 34},\n",
       " {'loss': 1.912,\n",
       "  'learning_rate': 5.8212765957446806e-05,\n",
       "  'epoch': 0.74,\n",
       "  'step': 35},\n",
       " {'loss': 2.0488,\n",
       "  'learning_rate': 5.8161702127659576e-05,\n",
       "  'epoch': 0.77,\n",
       "  'step': 36},\n",
       " {'loss': 1.8762,\n",
       "  'learning_rate': 5.811063829787234e-05,\n",
       "  'epoch': 0.79,\n",
       "  'step': 37},\n",
       " {'loss': 1.8184,\n",
       "  'learning_rate': 5.805957446808511e-05,\n",
       "  'epoch': 0.81,\n",
       "  'step': 38},\n",
       " {'loss': 1.7988,\n",
       "  'learning_rate': 5.800851063829787e-05,\n",
       "  'epoch': 0.83,\n",
       "  'step': 39},\n",
       " {'loss': 1.8405,\n",
       "  'learning_rate': 5.7957446808510635e-05,\n",
       "  'epoch': 0.85,\n",
       "  'step': 40},\n",
       " {'loss': 1.8727,\n",
       "  'learning_rate': 5.7906382978723405e-05,\n",
       "  'epoch': 0.87,\n",
       "  'step': 41},\n",
       " {'loss': 1.7808,\n",
       "  'learning_rate': 5.785531914893617e-05,\n",
       "  'epoch': 0.89,\n",
       "  'step': 42},\n",
       " {'loss': 1.8961,\n",
       "  'learning_rate': 5.780425531914894e-05,\n",
       "  'epoch': 0.91,\n",
       "  'step': 43},\n",
       " {'loss': 1.7424,\n",
       "  'learning_rate': 5.77531914893617e-05,\n",
       "  'epoch': 0.94,\n",
       "  'step': 44},\n",
       " {'loss': 1.7675,\n",
       "  'learning_rate': 5.7702127659574464e-05,\n",
       "  'epoch': 0.96,\n",
       "  'step': 45},\n",
       " {'loss': 1.7034,\n",
       "  'learning_rate': 5.7651063829787234e-05,\n",
       "  'epoch': 0.98,\n",
       "  'step': 46},\n",
       " {'loss': 1.9825, 'learning_rate': 5.76e-05, 'epoch': 1.0, 'step': 47},\n",
       " {'loss': 1.7002,\n",
       "  'learning_rate': 5.754893617021277e-05,\n",
       "  'epoch': 1.02,\n",
       "  'step': 48},\n",
       " {'loss': 1.8388,\n",
       "  'learning_rate': 5.749787234042553e-05,\n",
       "  'epoch': 1.04,\n",
       "  'step': 49},\n",
       " {'loss': 1.7468,\n",
       "  'learning_rate': 5.74468085106383e-05,\n",
       "  'epoch': 1.06,\n",
       "  'step': 50},\n",
       " {'loss': 1.7289,\n",
       "  'learning_rate': 5.7395744680851063e-05,\n",
       "  'epoch': 1.09,\n",
       "  'step': 51},\n",
       " {'loss': 1.72,\n",
       "  'learning_rate': 5.7344680851063827e-05,\n",
       "  'epoch': 1.11,\n",
       "  'step': 52},\n",
       " {'loss': 1.7873,\n",
       "  'learning_rate': 5.7293617021276597e-05,\n",
       "  'epoch': 1.13,\n",
       "  'step': 53},\n",
       " {'loss': 1.6753,\n",
       "  'learning_rate': 5.724255319148936e-05,\n",
       "  'epoch': 1.15,\n",
       "  'step': 54},\n",
       " {'loss': 1.6259,\n",
       "  'learning_rate': 5.719148936170213e-05,\n",
       "  'epoch': 1.17,\n",
       "  'step': 55},\n",
       " {'loss': 1.5973,\n",
       "  'learning_rate': 5.714042553191489e-05,\n",
       "  'epoch': 1.19,\n",
       "  'step': 56},\n",
       " {'loss': 1.6112,\n",
       "  'learning_rate': 5.7089361702127656e-05,\n",
       "  'epoch': 1.21,\n",
       "  'step': 57},\n",
       " {'loss': 1.723,\n",
       "  'learning_rate': 5.7038297872340426e-05,\n",
       "  'epoch': 1.23,\n",
       "  'step': 58},\n",
       " {'loss': 1.5934,\n",
       "  'learning_rate': 5.698723404255319e-05,\n",
       "  'epoch': 1.26,\n",
       "  'step': 59},\n",
       " {'loss': 1.6235,\n",
       "  'learning_rate': 5.693617021276596e-05,\n",
       "  'epoch': 1.28,\n",
       "  'step': 60},\n",
       " {'loss': 1.5909,\n",
       "  'learning_rate': 5.688510638297872e-05,\n",
       "  'epoch': 1.3,\n",
       "  'step': 61},\n",
       " {'loss': 1.5505,\n",
       "  'learning_rate': 5.6834042553191485e-05,\n",
       "  'epoch': 1.32,\n",
       "  'step': 62},\n",
       " {'loss': 1.6073,\n",
       "  'learning_rate': 5.6782978723404255e-05,\n",
       "  'epoch': 1.34,\n",
       "  'step': 63},\n",
       " {'loss': 1.621,\n",
       "  'learning_rate': 5.673191489361702e-05,\n",
       "  'epoch': 1.36,\n",
       "  'step': 64},\n",
       " {'loss': 1.5271,\n",
       "  'learning_rate': 5.668085106382979e-05,\n",
       "  'epoch': 1.38,\n",
       "  'step': 65},\n",
       " {'loss': 1.5562,\n",
       "  'learning_rate': 5.662978723404255e-05,\n",
       "  'epoch': 1.4,\n",
       "  'step': 66},\n",
       " {'loss': 1.5111,\n",
       "  'learning_rate': 5.657872340425532e-05,\n",
       "  'epoch': 1.43,\n",
       "  'step': 67},\n",
       " {'loss': 1.5396,\n",
       "  'learning_rate': 5.6527659574468084e-05,\n",
       "  'epoch': 1.45,\n",
       "  'step': 68},\n",
       " {'loss': 1.5278,\n",
       "  'learning_rate': 5.647659574468085e-05,\n",
       "  'epoch': 1.47,\n",
       "  'step': 69},\n",
       " {'loss': 1.5293,\n",
       "  'learning_rate': 5.642553191489362e-05,\n",
       "  'epoch': 1.49,\n",
       "  'step': 70},\n",
       " {'loss': 1.5462,\n",
       "  'learning_rate': 5.637446808510638e-05,\n",
       "  'epoch': 1.51,\n",
       "  'step': 71},\n",
       " {'loss': 1.5234,\n",
       "  'learning_rate': 5.632340425531915e-05,\n",
       "  'epoch': 1.53,\n",
       "  'step': 72},\n",
       " {'loss': 1.6125,\n",
       "  'learning_rate': 5.627234042553191e-05,\n",
       "  'epoch': 1.55,\n",
       "  'step': 73},\n",
       " {'loss': 1.462,\n",
       "  'learning_rate': 5.6221276595744676e-05,\n",
       "  'epoch': 1.57,\n",
       "  'step': 74},\n",
       " {'loss': 1.4866,\n",
       "  'learning_rate': 5.6170212765957446e-05,\n",
       "  'epoch': 1.6,\n",
       "  'step': 75},\n",
       " {'loss': 1.5314,\n",
       "  'learning_rate': 5.611914893617021e-05,\n",
       "  'epoch': 1.62,\n",
       "  'step': 76},\n",
       " {'loss': 1.4381,\n",
       "  'learning_rate': 5.606808510638298e-05,\n",
       "  'epoch': 1.64,\n",
       "  'step': 77},\n",
       " {'loss': 1.4962,\n",
       "  'learning_rate': 5.601702127659574e-05,\n",
       "  'epoch': 1.66,\n",
       "  'step': 78},\n",
       " {'loss': 1.4166,\n",
       "  'learning_rate': 5.5965957446808506e-05,\n",
       "  'epoch': 1.68,\n",
       "  'step': 79},\n",
       " {'loss': 1.4021,\n",
       "  'learning_rate': 5.5914893617021276e-05,\n",
       "  'epoch': 1.7,\n",
       "  'step': 80},\n",
       " {'loss': 1.4485,\n",
       "  'learning_rate': 5.586382978723404e-05,\n",
       "  'epoch': 1.72,\n",
       "  'step': 81},\n",
       " {'loss': 1.4263,\n",
       "  'learning_rate': 5.581276595744681e-05,\n",
       "  'epoch': 1.74,\n",
       "  'step': 82},\n",
       " {'loss': 1.4703,\n",
       "  'learning_rate': 5.576170212765957e-05,\n",
       "  'epoch': 1.77,\n",
       "  'step': 83},\n",
       " {'loss': 1.3539,\n",
       "  'learning_rate': 5.571063829787234e-05,\n",
       "  'epoch': 1.79,\n",
       "  'step': 84},\n",
       " {'loss': 1.4044,\n",
       "  'learning_rate': 5.565957446808511e-05,\n",
       "  'epoch': 1.81,\n",
       "  'step': 85},\n",
       " {'loss': 1.3568,\n",
       "  'learning_rate': 5.5608510638297875e-05,\n",
       "  'epoch': 1.83,\n",
       "  'step': 86},\n",
       " {'loss': 1.3646,\n",
       "  'learning_rate': 5.5557446808510645e-05,\n",
       "  'epoch': 1.85,\n",
       "  'step': 87},\n",
       " {'loss': 1.428,\n",
       "  'learning_rate': 5.550638297872341e-05,\n",
       "  'epoch': 1.87,\n",
       "  'step': 88},\n",
       " {'loss': 1.3208,\n",
       "  'learning_rate': 5.545531914893618e-05,\n",
       "  'epoch': 1.89,\n",
       "  'step': 89},\n",
       " {'loss': 1.32,\n",
       "  'learning_rate': 5.540425531914894e-05,\n",
       "  'epoch': 1.91,\n",
       "  'step': 90},\n",
       " {'loss': 1.5835,\n",
       "  'learning_rate': 5.5353191489361704e-05,\n",
       "  'epoch': 1.94,\n",
       "  'step': 91},\n",
       " {'loss': 1.437,\n",
       "  'learning_rate': 5.5302127659574474e-05,\n",
       "  'epoch': 1.96,\n",
       "  'step': 92},\n",
       " {'loss': 1.4256,\n",
       "  'learning_rate': 5.525106382978724e-05,\n",
       "  'epoch': 1.98,\n",
       "  'step': 93},\n",
       " {'loss': 1.2394,\n",
       "  'learning_rate': 5.520000000000001e-05,\n",
       "  'epoch': 2.0,\n",
       "  'step': 94},\n",
       " {'loss': 1.5317,\n",
       "  'learning_rate': 5.514893617021277e-05,\n",
       "  'epoch': 2.02,\n",
       "  'step': 95},\n",
       " {'loss': 1.2823,\n",
       "  'learning_rate': 5.509787234042553e-05,\n",
       "  'epoch': 2.04,\n",
       "  'step': 96},\n",
       " {'loss': 1.3542,\n",
       "  'learning_rate': 5.50468085106383e-05,\n",
       "  'epoch': 2.06,\n",
       "  'step': 97},\n",
       " {'loss': 1.3627,\n",
       "  'learning_rate': 5.4995744680851066e-05,\n",
       "  'epoch': 2.09,\n",
       "  'step': 98},\n",
       " {'loss': 1.3402,\n",
       "  'learning_rate': 5.4944680851063836e-05,\n",
       "  'epoch': 2.11,\n",
       "  'step': 99},\n",
       " {'loss': 1.3726,\n",
       "  'learning_rate': 5.48936170212766e-05,\n",
       "  'epoch': 2.13,\n",
       "  'step': 100},\n",
       " {'eval_loss': 0.8378816246986389,\n",
       "  'eval_mean_iou': 0.09058430985380067,\n",
       "  'eval_mean_accuracy': 0.14792652656106653,\n",
       "  'eval_overall_accuracy': 0.9726955808442215,\n",
       "  'eval_per_category_iou': [0.0,\n",
       "   0.9836769702907759,\n",
       "   0.16602505467272063,\n",
       "   0.0,\n",
       "   0.0,\n",
       "   0.0,\n",
       "   0.0,\n",
       "   0.014001197701254084,\n",
       "   0.0124534454133449,\n",
       "   0.0014393600213128887,\n",
       "   0.0,\n",
       "   0.0,\n",
       "   0.0],\n",
       "  'eval_per_category_accuracy': [0.0,\n",
       "   0.9882655435752846,\n",
       "   0.901836463210269,\n",
       "   0.0,\n",
       "   0.0,\n",
       "   0.0,\n",
       "   0.0,\n",
       "   0.016628609693506193,\n",
       "   0.01487237197006234,\n",
       "   0.0014418568447427823,\n",
       "   0.0,\n",
       "   0.0,\n",
       "   0.0],\n",
       "  'eval_runtime': 324.969,\n",
       "  'eval_samples_per_second': 0.714,\n",
       "  'eval_steps_per_second': 0.074,\n",
       "  'epoch': 2.13,\n",
       "  'step': 100},\n",
       " {'loss': 1.3234,\n",
       "  'learning_rate': 5.484255319148937e-05,\n",
       "  'epoch': 2.15,\n",
       "  'step': 101},\n",
       " {'loss': 1.4761,\n",
       "  'learning_rate': 5.479148936170213e-05,\n",
       "  'epoch': 2.17,\n",
       "  'step': 102},\n",
       " {'loss': 1.2351,\n",
       "  'learning_rate': 5.4740425531914895e-05,\n",
       "  'epoch': 2.19,\n",
       "  'step': 103},\n",
       " {'loss': 1.2335,\n",
       "  'learning_rate': 5.4689361702127665e-05,\n",
       "  'epoch': 2.21,\n",
       "  'step': 104},\n",
       " {'loss': 1.3236,\n",
       "  'learning_rate': 5.463829787234043e-05,\n",
       "  'epoch': 2.23,\n",
       "  'step': 105},\n",
       " {'loss': 1.3658,\n",
       "  'learning_rate': 5.45872340425532e-05,\n",
       "  'epoch': 2.26,\n",
       "  'step': 106},\n",
       " {'loss': 1.2333,\n",
       "  'learning_rate': 5.453617021276596e-05,\n",
       "  'epoch': 2.28,\n",
       "  'step': 107},\n",
       " {'loss': 1.2306,\n",
       "  'learning_rate': 5.4485106382978725e-05,\n",
       "  'epoch': 2.3,\n",
       "  'step': 108},\n",
       " {'loss': 1.1899,\n",
       "  'learning_rate': 5.4434042553191494e-05,\n",
       "  'epoch': 2.32,\n",
       "  'step': 109},\n",
       " {'loss': 1.2926,\n",
       "  'learning_rate': 5.438297872340426e-05,\n",
       "  'epoch': 2.34,\n",
       "  'step': 110},\n",
       " {'loss': 1.3027,\n",
       "  'learning_rate': 5.433191489361703e-05,\n",
       "  'epoch': 2.36,\n",
       "  'step': 111},\n",
       " {'loss': 1.2548,\n",
       "  'learning_rate': 5.428085106382979e-05,\n",
       "  'epoch': 2.38,\n",
       "  'step': 112},\n",
       " {'loss': 1.2828,\n",
       "  'learning_rate': 5.4229787234042554e-05,\n",
       "  'epoch': 2.4,\n",
       "  'step': 113},\n",
       " {'loss': 1.1618,\n",
       "  'learning_rate': 5.4178723404255324e-05,\n",
       "  'epoch': 2.43,\n",
       "  'step': 114},\n",
       " {'loss': 1.4394,\n",
       "  'learning_rate': 5.412765957446809e-05,\n",
       "  'epoch': 2.45,\n",
       "  'step': 115},\n",
       " {'loss': 1.1377,\n",
       "  'learning_rate': 5.407659574468086e-05,\n",
       "  'epoch': 2.47,\n",
       "  'step': 116},\n",
       " {'loss': 1.1668,\n",
       "  'learning_rate': 5.402553191489362e-05,\n",
       "  'epoch': 2.49,\n",
       "  'step': 117},\n",
       " {'loss': 1.3343,\n",
       "  'learning_rate': 5.397446808510639e-05,\n",
       "  'epoch': 2.51,\n",
       "  'step': 118},\n",
       " {'loss': 1.2101,\n",
       "  'learning_rate': 5.392340425531915e-05,\n",
       "  'epoch': 2.53,\n",
       "  'step': 119},\n",
       " {'loss': 1.2059,\n",
       "  'learning_rate': 5.3872340425531916e-05,\n",
       "  'epoch': 2.55,\n",
       "  'step': 120},\n",
       " {'loss': 1.341,\n",
       "  'learning_rate': 5.3821276595744686e-05,\n",
       "  'epoch': 2.57,\n",
       "  'step': 121},\n",
       " {'loss': 1.1523,\n",
       "  'learning_rate': 5.377021276595745e-05,\n",
       "  'epoch': 2.6,\n",
       "  'step': 122},\n",
       " {'loss': 1.3318,\n",
       "  'learning_rate': 5.371914893617022e-05,\n",
       "  'epoch': 2.62,\n",
       "  'step': 123},\n",
       " {'loss': 1.1454,\n",
       "  'learning_rate': 5.366808510638298e-05,\n",
       "  'epoch': 2.64,\n",
       "  'step': 124},\n",
       " {'loss': 1.2637,\n",
       "  'learning_rate': 5.3617021276595745e-05,\n",
       "  'epoch': 2.66,\n",
       "  'step': 125},\n",
       " {'loss': 1.1805,\n",
       "  'learning_rate': 5.3565957446808515e-05,\n",
       "  'epoch': 2.68,\n",
       "  'step': 126},\n",
       " {'loss': 1.2202,\n",
       "  'learning_rate': 5.351489361702128e-05,\n",
       "  'epoch': 2.7,\n",
       "  'step': 127},\n",
       " {'loss': 1.2073,\n",
       "  'learning_rate': 5.346382978723405e-05,\n",
       "  'epoch': 2.72,\n",
       "  'step': 128},\n",
       " {'loss': 1.1437,\n",
       "  'learning_rate': 5.341276595744681e-05,\n",
       "  'epoch': 2.74,\n",
       "  'step': 129},\n",
       " {'loss': 1.09,\n",
       "  'learning_rate': 5.3361702127659574e-05,\n",
       "  'epoch': 2.77,\n",
       "  'step': 130},\n",
       " {'loss': 1.2633,\n",
       "  'learning_rate': 5.3310638297872344e-05,\n",
       "  'epoch': 2.79,\n",
       "  'step': 131},\n",
       " {'loss': 1.0488,\n",
       "  'learning_rate': 5.325957446808511e-05,\n",
       "  'epoch': 2.81,\n",
       "  'step': 132},\n",
       " {'loss': 1.3408,\n",
       "  'learning_rate': 5.320851063829788e-05,\n",
       "  'epoch': 2.83,\n",
       "  'step': 133},\n",
       " {'loss': 1.1057,\n",
       "  'learning_rate': 5.315744680851064e-05,\n",
       "  'epoch': 2.85,\n",
       "  'step': 134},\n",
       " {'loss': 1.1201,\n",
       "  'learning_rate': 5.3106382978723404e-05,\n",
       "  'epoch': 2.87,\n",
       "  'step': 135},\n",
       " {'loss': 1.0869,\n",
       "  'learning_rate': 5.3055319148936173e-05,\n",
       "  'epoch': 2.89,\n",
       "  'step': 136},\n",
       " {'loss': 1.048,\n",
       "  'learning_rate': 5.300425531914894e-05,\n",
       "  'epoch': 2.91,\n",
       "  'step': 137},\n",
       " {'loss': 1.5516,\n",
       "  'learning_rate': 5.2953191489361707e-05,\n",
       "  'epoch': 2.94,\n",
       "  'step': 138},\n",
       " {'loss': 1.5919,\n",
       "  'learning_rate': 5.290212765957447e-05,\n",
       "  'epoch': 2.96,\n",
       "  'step': 139},\n",
       " {'loss': 1.1779,\n",
       "  'learning_rate': 5.285106382978724e-05,\n",
       "  'epoch': 2.98,\n",
       "  'step': 140},\n",
       " {'loss': 1.069, 'learning_rate': 5.28e-05, 'epoch': 3.0, 'step': 141},\n",
       " {'loss': 1.585,\n",
       "  'learning_rate': 5.2748936170212766e-05,\n",
       "  'epoch': 3.02,\n",
       "  'step': 142},\n",
       " {'loss': 1.0517,\n",
       "  'learning_rate': 5.2697872340425536e-05,\n",
       "  'epoch': 3.04,\n",
       "  'step': 143},\n",
       " {'loss': 1.1862,\n",
       "  'learning_rate': 5.26468085106383e-05,\n",
       "  'epoch': 3.06,\n",
       "  'step': 144},\n",
       " {'loss': 1.0883,\n",
       "  'learning_rate': 5.259574468085107e-05,\n",
       "  'epoch': 3.09,\n",
       "  'step': 145},\n",
       " {'loss': 0.9868,\n",
       "  'learning_rate': 5.254468085106383e-05,\n",
       "  'epoch': 3.11,\n",
       "  'step': 146},\n",
       " {'loss': 1.1638,\n",
       "  'learning_rate': 5.2493617021276595e-05,\n",
       "  'epoch': 3.13,\n",
       "  'step': 147},\n",
       " {'loss': 1.106,\n",
       "  'learning_rate': 5.2442553191489365e-05,\n",
       "  'epoch': 3.15,\n",
       "  'step': 148},\n",
       " {'loss': 1.3244,\n",
       "  'learning_rate': 5.239148936170213e-05,\n",
       "  'epoch': 3.17,\n",
       "  'step': 149},\n",
       " {'loss': 1.3302,\n",
       "  'learning_rate': 5.23404255319149e-05,\n",
       "  'epoch': 3.19,\n",
       "  'step': 150},\n",
       " {'loss': 1.131,\n",
       "  'learning_rate': 5.228936170212766e-05,\n",
       "  'epoch': 3.21,\n",
       "  'step': 151},\n",
       " {'loss': 1.1642,\n",
       "  'learning_rate': 5.2238297872340424e-05,\n",
       "  'epoch': 3.23,\n",
       "  'step': 152},\n",
       " {'loss': 1.2992,\n",
       "  'learning_rate': 5.2187234042553194e-05,\n",
       "  'epoch': 3.26,\n",
       "  'step': 153},\n",
       " {'loss': 1.0066,\n",
       "  'learning_rate': 5.213617021276596e-05,\n",
       "  'epoch': 3.28,\n",
       "  'step': 154},\n",
       " {'loss': 1.075,\n",
       "  'learning_rate': 5.208510638297873e-05,\n",
       "  'epoch': 3.3,\n",
       "  'step': 155},\n",
       " {'loss': 1.0071,\n",
       "  'learning_rate': 5.203404255319149e-05,\n",
       "  'epoch': 3.32,\n",
       "  'step': 156},\n",
       " {'loss': 0.9779,\n",
       "  'learning_rate': 5.198297872340426e-05,\n",
       "  'epoch': 3.34,\n",
       "  'step': 157},\n",
       " {'loss': 1.0365,\n",
       "  'learning_rate': 5.193191489361702e-05,\n",
       "  'epoch': 3.36,\n",
       "  'step': 158},\n",
       " {'loss': 0.9578,\n",
       "  'learning_rate': 5.1880851063829786e-05,\n",
       "  'epoch': 3.38,\n",
       "  'step': 159},\n",
       " {'loss': 0.9679,\n",
       "  'learning_rate': 5.1829787234042556e-05,\n",
       "  'epoch': 3.4,\n",
       "  'step': 160},\n",
       " {'loss': 1.0513,\n",
       "  'learning_rate': 5.177872340425532e-05,\n",
       "  'epoch': 3.43,\n",
       "  'step': 161},\n",
       " {'loss': 0.9567,\n",
       "  'learning_rate': 5.172765957446809e-05,\n",
       "  'epoch': 3.45,\n",
       "  'step': 162},\n",
       " {'loss': 1.114,\n",
       "  'learning_rate': 5.167659574468085e-05,\n",
       "  'epoch': 3.47,\n",
       "  'step': 163},\n",
       " {'loss': 0.9384,\n",
       "  'learning_rate': 5.1625531914893616e-05,\n",
       "  'epoch': 3.49,\n",
       "  'step': 164},\n",
       " {'loss': 1.0958,\n",
       "  'learning_rate': 5.1574468085106386e-05,\n",
       "  'epoch': 3.51,\n",
       "  'step': 165},\n",
       " {'loss': 0.9965,\n",
       "  'learning_rate': 5.152340425531915e-05,\n",
       "  'epoch': 3.53,\n",
       "  'step': 166},\n",
       " {'loss': 1.0169,\n",
       "  'learning_rate': 5.147234042553192e-05,\n",
       "  'epoch': 3.55,\n",
       "  'step': 167},\n",
       " {'loss': 1.3145,\n",
       "  'learning_rate': 5.142127659574468e-05,\n",
       "  'epoch': 3.57,\n",
       "  'step': 168},\n",
       " {'loss': 0.9887,\n",
       "  'learning_rate': 5.1370212765957445e-05,\n",
       "  'epoch': 3.6,\n",
       "  'step': 169},\n",
       " {'loss': 0.9153,\n",
       "  'learning_rate': 5.1319148936170215e-05,\n",
       "  'epoch': 3.62,\n",
       "  'step': 170},\n",
       " {'loss': 0.8989,\n",
       "  'learning_rate': 5.126808510638298e-05,\n",
       "  'epoch': 3.64,\n",
       "  'step': 171},\n",
       " {'loss': 1.1184,\n",
       "  'learning_rate': 5.121702127659575e-05,\n",
       "  'epoch': 3.66,\n",
       "  'step': 172},\n",
       " {'loss': 1.0107,\n",
       "  'learning_rate': 5.116595744680851e-05,\n",
       "  'epoch': 3.68,\n",
       "  'step': 173},\n",
       " {'loss': 0.8854,\n",
       "  'learning_rate': 5.111489361702128e-05,\n",
       "  'epoch': 3.7,\n",
       "  'step': 174},\n",
       " {'loss': 0.9004,\n",
       "  'learning_rate': 5.1063829787234044e-05,\n",
       "  'epoch': 3.72,\n",
       "  'step': 175},\n",
       " {'loss': 0.9322,\n",
       "  'learning_rate': 5.101276595744681e-05,\n",
       "  'epoch': 3.74,\n",
       "  'step': 176},\n",
       " {'loss': 1.1599,\n",
       "  'learning_rate': 5.096170212765958e-05,\n",
       "  'epoch': 3.77,\n",
       "  'step': 177},\n",
       " {'loss': 0.9036,\n",
       "  'learning_rate': 5.091063829787234e-05,\n",
       "  'epoch': 3.79,\n",
       "  'step': 178},\n",
       " {'loss': 1.0989,\n",
       "  'learning_rate': 5.085957446808511e-05,\n",
       "  'epoch': 3.81,\n",
       "  'step': 179},\n",
       " {'loss': 0.9321,\n",
       "  'learning_rate': 5.080851063829787e-05,\n",
       "  'epoch': 3.83,\n",
       "  'step': 180},\n",
       " {'loss': 1.4291,\n",
       "  'learning_rate': 5.0757446808510636e-05,\n",
       "  'epoch': 3.85,\n",
       "  'step': 181},\n",
       " {'loss': 0.8737,\n",
       "  'learning_rate': 5.0706382978723406e-05,\n",
       "  'epoch': 3.87,\n",
       "  'step': 182},\n",
       " {'loss': 0.9194,\n",
       "  'learning_rate': 5.065531914893617e-05,\n",
       "  'epoch': 3.89,\n",
       "  'step': 183},\n",
       " {'loss': 1.4775,\n",
       "  'learning_rate': 5.060425531914894e-05,\n",
       "  'epoch': 3.91,\n",
       "  'step': 184},\n",
       " {'loss': 0.7895,\n",
       "  'learning_rate': 5.05531914893617e-05,\n",
       "  'epoch': 3.94,\n",
       "  'step': 185},\n",
       " {'loss': 0.9639,\n",
       "  'learning_rate': 5.0502127659574466e-05,\n",
       "  'epoch': 3.96,\n",
       "  'step': 186},\n",
       " {'loss': 1.1864,\n",
       "  'learning_rate': 5.0451063829787235e-05,\n",
       "  'epoch': 3.98,\n",
       "  'step': 187},\n",
       " {'loss': 1.0654, 'learning_rate': 5.04e-05, 'epoch': 4.0, 'step': 188},\n",
       " {'loss': 1.4519,\n",
       "  'learning_rate': 5.034893617021277e-05,\n",
       "  'epoch': 4.02,\n",
       "  'step': 189},\n",
       " {'loss': 0.8944,\n",
       "  'learning_rate': 5.029787234042553e-05,\n",
       "  'epoch': 4.04,\n",
       "  'step': 190},\n",
       " {'loss': 0.9609,\n",
       "  'learning_rate': 5.02468085106383e-05,\n",
       "  'epoch': 4.06,\n",
       "  'step': 191},\n",
       " {'loss': 0.8279,\n",
       "  'learning_rate': 5.0195744680851065e-05,\n",
       "  'epoch': 4.09,\n",
       "  'step': 192},\n",
       " {'loss': 0.9163,\n",
       "  'learning_rate': 5.014468085106383e-05,\n",
       "  'epoch': 4.11,\n",
       "  'step': 193},\n",
       " {'loss': 0.8794,\n",
       "  'learning_rate': 5.00936170212766e-05,\n",
       "  'epoch': 4.13,\n",
       "  'step': 194},\n",
       " {'loss': 0.8048,\n",
       "  'learning_rate': 5.004255319148936e-05,\n",
       "  'epoch': 4.15,\n",
       "  'step': 195},\n",
       " {'loss': 0.7668,\n",
       "  'learning_rate': 4.999148936170213e-05,\n",
       "  'epoch': 4.17,\n",
       "  'step': 196},\n",
       " {'loss': 0.9474,\n",
       "  'learning_rate': 4.9940425531914894e-05,\n",
       "  'epoch': 4.19,\n",
       "  'step': 197},\n",
       " {'loss': 0.8229,\n",
       "  'learning_rate': 4.988936170212766e-05,\n",
       "  'epoch': 4.21,\n",
       "  'step': 198},\n",
       " {'loss': 0.8751,\n",
       "  'learning_rate': 4.983829787234043e-05,\n",
       "  'epoch': 4.23,\n",
       "  'step': 199},\n",
       " {'loss': 0.7639,\n",
       "  'learning_rate': 4.978723404255319e-05,\n",
       "  'epoch': 4.26,\n",
       "  'step': 200},\n",
       " {'eval_loss': 0.6652560830116272,\n",
       "  'eval_mean_iou': 0.13792005485710013,\n",
       "  'eval_mean_accuracy': 0.18615693893169227,\n",
       "  'eval_overall_accuracy': 0.9811107372415477,\n",
       "  'eval_per_category_iou': [0.0,\n",
       "   0.9865371454792851,\n",
       "   0.2648023509792944,\n",
       "   0.0,\n",
       "   0.0,\n",
       "   0.0,\n",
       "   0.0,\n",
       "   0.007584021609267051,\n",
       "   0.06740558907669053,\n",
       "   0.4666316059977649,\n",
       "   0.0,\n",
       "   0.0,\n",
       "   0.0],\n",
       "  'eval_per_category_accuracy': [0.0,\n",
       "   0.9946645786316239,\n",
       "   0.76155002332291,\n",
       "   0.0,\n",
       "   0.0,\n",
       "   0.0,\n",
       "   0.0,\n",
       "   0.007894222410774074,\n",
       "   0.0771055498990765,\n",
       "   0.5788258318476154,\n",
       "   0.0,\n",
       "   0.0,\n",
       "   0.0],\n",
       "  'eval_runtime': 341.3134,\n",
       "  'eval_samples_per_second': 0.68,\n",
       "  'eval_steps_per_second': 0.07,\n",
       "  'epoch': 4.26,\n",
       "  'step': 200},\n",
       " {'loss': 0.7852,\n",
       "  'learning_rate': 4.973617021276596e-05,\n",
       "  'epoch': 4.28,\n",
       "  'step': 201},\n",
       " {'loss': 0.8419,\n",
       "  'learning_rate': 4.968510638297872e-05,\n",
       "  'epoch': 4.3,\n",
       "  'step': 202},\n",
       " {'loss': 1.2457,\n",
       "  'learning_rate': 4.9634042553191486e-05,\n",
       "  'epoch': 4.32,\n",
       "  'step': 203},\n",
       " {'loss': 0.7571,\n",
       "  'learning_rate': 4.9582978723404256e-05,\n",
       "  'epoch': 4.34,\n",
       "  'step': 204},\n",
       " {'loss': 0.7379,\n",
       "  'learning_rate': 4.953191489361702e-05,\n",
       "  'epoch': 4.36,\n",
       "  'step': 205},\n",
       " {'loss': 1.1221,\n",
       "  'learning_rate': 4.948085106382979e-05,\n",
       "  'epoch': 4.38,\n",
       "  'step': 206},\n",
       " {'loss': 0.794,\n",
       "  'learning_rate': 4.942978723404255e-05,\n",
       "  'epoch': 4.4,\n",
       "  'step': 207},\n",
       " {'loss': 0.8232,\n",
       "  'learning_rate': 4.937872340425532e-05,\n",
       "  'epoch': 4.43,\n",
       "  'step': 208},\n",
       " {'loss': 0.82,\n",
       "  'learning_rate': 4.9327659574468085e-05,\n",
       "  'epoch': 4.45,\n",
       "  'step': 209},\n",
       " {'loss': 0.7454,\n",
       "  'learning_rate': 4.927659574468085e-05,\n",
       "  'epoch': 4.47,\n",
       "  'step': 210},\n",
       " {'loss': 0.8151,\n",
       "  'learning_rate': 4.922553191489362e-05,\n",
       "  'epoch': 4.49,\n",
       "  'step': 211},\n",
       " {'loss': 0.8535,\n",
       "  'learning_rate': 4.917446808510638e-05,\n",
       "  'epoch': 4.51,\n",
       "  'step': 212},\n",
       " {'loss': 0.7502,\n",
       "  'learning_rate': 4.912340425531915e-05,\n",
       "  'epoch': 4.53,\n",
       "  'step': 213},\n",
       " {'loss': 0.6706,\n",
       "  'learning_rate': 4.9072340425531914e-05,\n",
       "  'epoch': 4.55,\n",
       "  'step': 214},\n",
       " {'loss': 0.9049,\n",
       "  'learning_rate': 4.902127659574468e-05,\n",
       "  'epoch': 4.57,\n",
       "  'step': 215},\n",
       " {'loss': 0.6915,\n",
       "  'learning_rate': 4.897021276595745e-05,\n",
       "  'epoch': 4.6,\n",
       "  'step': 216},\n",
       " {'loss': 0.7542,\n",
       "  'learning_rate': 4.891914893617021e-05,\n",
       "  'epoch': 4.62,\n",
       "  'step': 217},\n",
       " {'loss': 1.3295,\n",
       "  'learning_rate': 4.886808510638298e-05,\n",
       "  'epoch': 4.64,\n",
       "  'step': 218},\n",
       " {'loss': 1.1681,\n",
       "  'learning_rate': 4.8817021276595744e-05,\n",
       "  'epoch': 4.66,\n",
       "  'step': 219},\n",
       " {'loss': 0.6861,\n",
       "  'learning_rate': 4.876595744680851e-05,\n",
       "  'epoch': 4.68,\n",
       "  'step': 220},\n",
       " {'loss': 1.0702,\n",
       "  'learning_rate': 4.871489361702128e-05,\n",
       "  'epoch': 4.7,\n",
       "  'step': 221},\n",
       " {'loss': 0.846,\n",
       "  'learning_rate': 4.866382978723404e-05,\n",
       "  'epoch': 4.72,\n",
       "  'step': 222},\n",
       " {'loss': 0.6879,\n",
       "  'learning_rate': 4.861276595744681e-05,\n",
       "  'epoch': 4.74,\n",
       "  'step': 223},\n",
       " {'loss': 0.6971,\n",
       "  'learning_rate': 4.856170212765957e-05,\n",
       "  'epoch': 4.77,\n",
       "  'step': 224},\n",
       " {'loss': 0.685,\n",
       "  'learning_rate': 4.8510638297872336e-05,\n",
       "  'epoch': 4.79,\n",
       "  'step': 225},\n",
       " {'loss': 0.8581,\n",
       "  'learning_rate': 4.8459574468085106e-05,\n",
       "  'epoch': 4.81,\n",
       "  'step': 226},\n",
       " {'loss': 0.7714,\n",
       "  'learning_rate': 4.840851063829787e-05,\n",
       "  'epoch': 4.83,\n",
       "  'step': 227},\n",
       " {'loss': 0.8484,\n",
       "  'learning_rate': 4.835744680851064e-05,\n",
       "  'epoch': 4.85,\n",
       "  'step': 228},\n",
       " {'loss': 0.6925,\n",
       "  'learning_rate': 4.83063829787234e-05,\n",
       "  'epoch': 4.87,\n",
       "  'step': 229},\n",
       " {'loss': 0.6202,\n",
       "  'learning_rate': 4.825531914893617e-05,\n",
       "  'epoch': 4.89,\n",
       "  'step': 230},\n",
       " {'loss': 1.0002,\n",
       "  'learning_rate': 4.8204255319148935e-05,\n",
       "  'epoch': 4.91,\n",
       "  'step': 231},\n",
       " {'loss': 0.8068,\n",
       "  'learning_rate': 4.81531914893617e-05,\n",
       "  'epoch': 4.94,\n",
       "  'step': 232},\n",
       " {'loss': 0.6447,\n",
       "  'learning_rate': 4.810212765957447e-05,\n",
       "  'epoch': 4.96,\n",
       "  'step': 233},\n",
       " {'loss': 1.0063,\n",
       "  'learning_rate': 4.805106382978723e-05,\n",
       "  'epoch': 4.98,\n",
       "  'step': 234},\n",
       " {'loss': 0.7681, 'learning_rate': 4.8e-05, 'epoch': 5.0, 'step': 235},\n",
       " {'loss': 0.6362,\n",
       "  'learning_rate': 4.7948936170212764e-05,\n",
       "  'epoch': 5.02,\n",
       "  'step': 236},\n",
       " {'loss': 0.7136,\n",
       "  'learning_rate': 4.789787234042553e-05,\n",
       "  'epoch': 5.04,\n",
       "  'step': 237},\n",
       " {'loss': 0.6781,\n",
       "  'learning_rate': 4.78468085106383e-05,\n",
       "  'epoch': 5.06,\n",
       "  'step': 238},\n",
       " {'loss': 0.6628,\n",
       "  'learning_rate': 4.779574468085106e-05,\n",
       "  'epoch': 5.09,\n",
       "  'step': 239},\n",
       " {'loss': 0.8027,\n",
       "  'learning_rate': 4.774468085106383e-05,\n",
       "  'epoch': 5.11,\n",
       "  'step': 240},\n",
       " {'loss': 1.0829,\n",
       "  'learning_rate': 4.7693617021276594e-05,\n",
       "  'epoch': 5.13,\n",
       "  'step': 241},\n",
       " {'loss': 1.4796,\n",
       "  'learning_rate': 4.764255319148936e-05,\n",
       "  'epoch': 5.15,\n",
       "  'step': 242},\n",
       " {'loss': 0.6255,\n",
       "  'learning_rate': 4.7591489361702127e-05,\n",
       "  'epoch': 5.17,\n",
       "  'step': 243},\n",
       " {'loss': 0.6915,\n",
       "  'learning_rate': 4.754042553191489e-05,\n",
       "  'epoch': 5.19,\n",
       "  'step': 244},\n",
       " {'loss': 0.7118,\n",
       "  'learning_rate': 4.748936170212766e-05,\n",
       "  'epoch': 5.21,\n",
       "  'step': 245},\n",
       " {'loss': 0.5953,\n",
       "  'learning_rate': 4.743829787234042e-05,\n",
       "  'epoch': 5.23,\n",
       "  'step': 246},\n",
       " {'loss': 0.599,\n",
       "  'learning_rate': 4.738723404255319e-05,\n",
       "  'epoch': 5.26,\n",
       "  'step': 247},\n",
       " {'loss': 0.6024,\n",
       "  'learning_rate': 4.7336170212765956e-05,\n",
       "  'epoch': 5.28,\n",
       "  'step': 248},\n",
       " {'loss': 0.7217,\n",
       "  'learning_rate': 4.728510638297872e-05,\n",
       "  'epoch': 5.3,\n",
       "  'step': 249},\n",
       " {'loss': 1.1067,\n",
       "  'learning_rate': 4.723404255319149e-05,\n",
       "  'epoch': 5.32,\n",
       "  'step': 250},\n",
       " {'loss': 0.5687,\n",
       "  'learning_rate': 4.718297872340425e-05,\n",
       "  'epoch': 5.34,\n",
       "  'step': 251},\n",
       " {'loss': 0.5928,\n",
       "  'learning_rate': 4.713191489361702e-05,\n",
       "  'epoch': 5.36,\n",
       "  'step': 252},\n",
       " {'loss': 0.6168,\n",
       "  'learning_rate': 4.708085106382979e-05,\n",
       "  'epoch': 5.38,\n",
       "  'step': 253},\n",
       " {'loss': 0.5859,\n",
       "  'learning_rate': 4.7029787234042555e-05,\n",
       "  'epoch': 5.4,\n",
       "  'step': 254},\n",
       " {'loss': 0.5751,\n",
       "  'learning_rate': 4.6978723404255325e-05,\n",
       "  'epoch': 5.43,\n",
       "  'step': 255},\n",
       " {'loss': 0.6979,\n",
       "  'learning_rate': 4.692765957446809e-05,\n",
       "  'epoch': 5.45,\n",
       "  'step': 256},\n",
       " {'loss': 0.9227,\n",
       "  'learning_rate': 4.687659574468086e-05,\n",
       "  'epoch': 5.47,\n",
       "  'step': 257},\n",
       " {'loss': 0.5644,\n",
       "  'learning_rate': 4.682553191489362e-05,\n",
       "  'epoch': 5.49,\n",
       "  'step': 258},\n",
       " {'loss': 0.711,\n",
       "  'learning_rate': 4.6774468085106384e-05,\n",
       "  'epoch': 5.51,\n",
       "  'step': 259},\n",
       " {'loss': 0.7332,\n",
       "  'learning_rate': 4.6723404255319154e-05,\n",
       "  'epoch': 5.53,\n",
       "  'step': 260},\n",
       " {'loss': 0.575,\n",
       "  'learning_rate': 4.667234042553192e-05,\n",
       "  'epoch': 5.55,\n",
       "  'step': 261},\n",
       " {'loss': 0.5398,\n",
       "  'learning_rate': 4.662127659574469e-05,\n",
       "  'epoch': 5.57,\n",
       "  'step': 262},\n",
       " {'loss': 1.0105,\n",
       "  'learning_rate': 4.657021276595745e-05,\n",
       "  'epoch': 5.6,\n",
       "  'step': 263},\n",
       " {'loss': 0.5703,\n",
       "  'learning_rate': 4.651914893617022e-05,\n",
       "  'epoch': 5.62,\n",
       "  'step': 264},\n",
       " {'loss': 0.5838,\n",
       "  'learning_rate': 4.646808510638298e-05,\n",
       "  'epoch': 5.64,\n",
       "  'step': 265},\n",
       " {'loss': 0.5714,\n",
       "  'learning_rate': 4.6417021276595746e-05,\n",
       "  'epoch': 5.66,\n",
       "  'step': 266},\n",
       " {'loss': 0.5246,\n",
       "  'learning_rate': 4.6365957446808516e-05,\n",
       "  'epoch': 5.68,\n",
       "  'step': 267},\n",
       " {'loss': 0.4937,\n",
       "  'learning_rate': 4.631489361702128e-05,\n",
       "  'epoch': 5.7,\n",
       "  'step': 268},\n",
       " {'loss': 0.6921,\n",
       "  'learning_rate': 4.626382978723405e-05,\n",
       "  'epoch': 5.72,\n",
       "  'step': 269},\n",
       " {'loss': 0.7458,\n",
       "  'learning_rate': 4.621276595744681e-05,\n",
       "  'epoch': 5.74,\n",
       "  'step': 270},\n",
       " {'loss': 0.7925,\n",
       "  'learning_rate': 4.6161702127659576e-05,\n",
       "  'epoch': 5.77,\n",
       "  'step': 271},\n",
       " {'loss': 0.7477,\n",
       "  'learning_rate': 4.6110638297872345e-05,\n",
       "  'epoch': 5.79,\n",
       "  'step': 272},\n",
       " {'loss': 1.0346,\n",
       "  'learning_rate': 4.605957446808511e-05,\n",
       "  'epoch': 5.81,\n",
       "  'step': 273},\n",
       " {'loss': 0.4849,\n",
       "  'learning_rate': 4.600851063829788e-05,\n",
       "  'epoch': 5.83,\n",
       "  'step': 274},\n",
       " {'loss': 0.4939,\n",
       "  'learning_rate': 4.595744680851064e-05,\n",
       "  'epoch': 5.85,\n",
       "  'step': 275},\n",
       " {'loss': 0.672,\n",
       "  'learning_rate': 4.5906382978723405e-05,\n",
       "  'epoch': 5.87,\n",
       "  'step': 276},\n",
       " {'loss': 0.5692,\n",
       "  'learning_rate': 4.5855319148936175e-05,\n",
       "  'epoch': 5.89,\n",
       "  'step': 277},\n",
       " {'loss': 0.5317,\n",
       "  'learning_rate': 4.580425531914894e-05,\n",
       "  'epoch': 5.91,\n",
       "  'step': 278},\n",
       " {'loss': 0.5177,\n",
       "  'learning_rate': 4.575319148936171e-05,\n",
       "  'epoch': 5.94,\n",
       "  'step': 279},\n",
       " {'loss': 1.0352,\n",
       "  'learning_rate': 4.570212765957447e-05,\n",
       "  'epoch': 5.96,\n",
       "  'step': 280},\n",
       " {'loss': 0.7186,\n",
       "  'learning_rate': 4.565106382978724e-05,\n",
       "  'epoch': 5.98,\n",
       "  'step': 281},\n",
       " {'loss': 0.4762,\n",
       "  'learning_rate': 4.5600000000000004e-05,\n",
       "  'epoch': 6.0,\n",
       "  'step': 282},\n",
       " {'loss': 0.4422,\n",
       "  'learning_rate': 4.554893617021277e-05,\n",
       "  'epoch': 6.02,\n",
       "  'step': 283},\n",
       " {'loss': 0.5262,\n",
       "  'learning_rate': 4.549787234042554e-05,\n",
       "  'epoch': 6.04,\n",
       "  'step': 284},\n",
       " {'loss': 0.5237,\n",
       "  'learning_rate': 4.54468085106383e-05,\n",
       "  'epoch': 6.06,\n",
       "  'step': 285},\n",
       " {'loss': 0.5332,\n",
       "  'learning_rate': 4.539574468085107e-05,\n",
       "  'epoch': 6.09,\n",
       "  'step': 286},\n",
       " {'loss': 0.4712,\n",
       "  'learning_rate': 4.534468085106383e-05,\n",
       "  'epoch': 6.11,\n",
       "  'step': 287},\n",
       " {'loss': 0.4611,\n",
       "  'learning_rate': 4.5293617021276596e-05,\n",
       "  'epoch': 6.13,\n",
       "  'step': 288},\n",
       " {'loss': 1.2851,\n",
       "  'learning_rate': 4.5242553191489366e-05,\n",
       "  'epoch': 6.15,\n",
       "  'step': 289},\n",
       " {'loss': 0.4951,\n",
       "  'learning_rate': 4.519148936170213e-05,\n",
       "  'epoch': 6.17,\n",
       "  'step': 290},\n",
       " {'loss': 0.5168,\n",
       "  'learning_rate': 4.51404255319149e-05,\n",
       "  'epoch': 6.19,\n",
       "  'step': 291},\n",
       " {'loss': 1.2696,\n",
       "  'learning_rate': 4.508936170212766e-05,\n",
       "  'epoch': 6.21,\n",
       "  'step': 292},\n",
       " {'loss': 0.4216,\n",
       "  'learning_rate': 4.5038297872340425e-05,\n",
       "  'epoch': 6.23,\n",
       "  'step': 293},\n",
       " {'loss': 0.6889,\n",
       "  'learning_rate': 4.4987234042553195e-05,\n",
       "  'epoch': 6.26,\n",
       "  'step': 294},\n",
       " {'loss': 0.6871,\n",
       "  'learning_rate': 4.493617021276596e-05,\n",
       "  'epoch': 6.28,\n",
       "  'step': 295},\n",
       " {'loss': 0.4803,\n",
       "  'learning_rate': 4.488510638297873e-05,\n",
       "  'epoch': 6.3,\n",
       "  'step': 296},\n",
       " {'loss': 0.6806,\n",
       "  'learning_rate': 4.483404255319149e-05,\n",
       "  'epoch': 6.32,\n",
       "  'step': 297},\n",
       " {'loss': 0.5201,\n",
       "  'learning_rate': 4.4782978723404255e-05,\n",
       "  'epoch': 6.34,\n",
       "  'step': 298},\n",
       " {'loss': 0.4825,\n",
       "  'learning_rate': 4.4731914893617025e-05,\n",
       "  'epoch': 6.36,\n",
       "  'step': 299},\n",
       " {'loss': 0.486,\n",
       "  'learning_rate': 4.468085106382979e-05,\n",
       "  'epoch': 6.38,\n",
       "  'step': 300},\n",
       " {'eval_loss': 0.3439067006111145,\n",
       "  'eval_mean_iou': 0.1323727696873518,\n",
       "  'eval_mean_accuracy': 0.2150527228315941,\n",
       "  'eval_overall_accuracy': 0.9814190042429957,\n",
       "  'eval_per_category_iou': [0.0,\n",
       "   0.9883262719591392,\n",
       "   0.3893797450179624,\n",
       "   0.0,\n",
       "   0.0,\n",
       "   0.0,\n",
       "   0.0,\n",
       "   0.002236686485747158,\n",
       "   0.0001855545762397365,\n",
       "   0.33955864589550866,\n",
       "   0.001159102000976086,\n",
       "   0.0,\n",
       "   0.0],\n",
       "  'eval_per_category_accuracy': [0.0,\n",
       "   0.993237510036672,\n",
       "   0.9089231726068103,\n",
       "   0.0,\n",
       "   0.0,\n",
       "   0.0,\n",
       "   0.0,\n",
       "   0.002312533013904313,\n",
       "   0.0001857706803851169,\n",
       "   0.8898369478596395,\n",
       "   0.0011894626133119647,\n",
       "   0.0,\n",
       "   0.0],\n",
       "  'eval_runtime': 338.0966,\n",
       "  'eval_samples_per_second': 0.686,\n",
       "  'eval_steps_per_second': 0.071,\n",
       "  'epoch': 6.38,\n",
       "  'step': 300},\n",
       " {'loss': 0.5242,\n",
       "  'learning_rate': 4.462978723404256e-05,\n",
       "  'epoch': 6.4,\n",
       "  'step': 301},\n",
       " {'loss': 0.6397,\n",
       "  'learning_rate': 4.457872340425532e-05,\n",
       "  'epoch': 6.43,\n",
       "  'step': 302},\n",
       " {'loss': 0.6443,\n",
       "  'learning_rate': 4.452765957446809e-05,\n",
       "  'epoch': 6.45,\n",
       "  'step': 303},\n",
       " {'loss': 0.4728,\n",
       "  'learning_rate': 4.4476595744680854e-05,\n",
       "  'epoch': 6.47,\n",
       "  'step': 304},\n",
       " {'loss': 0.4862,\n",
       "  'learning_rate': 4.442553191489362e-05,\n",
       "  'epoch': 6.49,\n",
       "  'step': 305},\n",
       " {'loss': 0.4781,\n",
       "  'learning_rate': 4.437446808510639e-05,\n",
       "  'epoch': 6.51,\n",
       "  'step': 306},\n",
       " {'loss': 0.5228,\n",
       "  'learning_rate': 4.432340425531915e-05,\n",
       "  'epoch': 6.53,\n",
       "  'step': 307},\n",
       " {'loss': 0.4926,\n",
       "  'learning_rate': 4.427234042553192e-05,\n",
       "  'epoch': 6.55,\n",
       "  'step': 308},\n",
       " {'loss': 0.6292,\n",
       "  'learning_rate': 4.422127659574468e-05,\n",
       "  'epoch': 6.57,\n",
       "  'step': 309},\n",
       " {'loss': 0.4418,\n",
       "  'learning_rate': 4.4170212765957446e-05,\n",
       "  'epoch': 6.6,\n",
       "  'step': 310},\n",
       " {'loss': 0.6297,\n",
       "  'learning_rate': 4.4119148936170216e-05,\n",
       "  'epoch': 6.62,\n",
       "  'step': 311},\n",
       " {'loss': 0.4885,\n",
       "  'learning_rate': 4.406808510638298e-05,\n",
       "  'epoch': 6.64,\n",
       "  'step': 312},\n",
       " {'loss': 0.428,\n",
       "  'learning_rate': 4.401702127659575e-05,\n",
       "  'epoch': 6.66,\n",
       "  'step': 313},\n",
       " {'loss': 0.5125,\n",
       "  'learning_rate': 4.396595744680851e-05,\n",
       "  'epoch': 6.68,\n",
       "  'step': 314},\n",
       " {'loss': 0.4461,\n",
       "  'learning_rate': 4.3914893617021275e-05,\n",
       "  'epoch': 6.7,\n",
       "  'step': 315},\n",
       " {'loss': 0.5952,\n",
       "  'learning_rate': 4.3863829787234045e-05,\n",
       "  'epoch': 6.72,\n",
       "  'step': 316},\n",
       " {'loss': 0.6363,\n",
       "  'learning_rate': 4.381276595744681e-05,\n",
       "  'epoch': 6.74,\n",
       "  'step': 317},\n",
       " {'loss': 0.573,\n",
       "  'learning_rate': 4.376170212765958e-05,\n",
       "  'epoch': 6.77,\n",
       "  'step': 318},\n",
       " {'loss': 0.474,\n",
       "  'learning_rate': 4.371063829787234e-05,\n",
       "  'epoch': 6.79,\n",
       "  'step': 319},\n",
       " {'loss': 0.4292,\n",
       "  'learning_rate': 4.365957446808511e-05,\n",
       "  'epoch': 6.81,\n",
       "  'step': 320},\n",
       " {'loss': 0.7978,\n",
       "  'learning_rate': 4.3608510638297874e-05,\n",
       "  'epoch': 6.83,\n",
       "  'step': 321},\n",
       " {'loss': 0.4769,\n",
       "  'learning_rate': 4.355744680851064e-05,\n",
       "  'epoch': 6.85,\n",
       "  'step': 322},\n",
       " {'loss': 0.396,\n",
       "  'learning_rate': 4.350638297872341e-05,\n",
       "  'epoch': 6.87,\n",
       "  'step': 323},\n",
       " {'loss': 0.6247,\n",
       "  'learning_rate': 4.345531914893617e-05,\n",
       "  'epoch': 6.89,\n",
       "  'step': 324},\n",
       " {'loss': 0.4249,\n",
       "  'learning_rate': 4.340425531914894e-05,\n",
       "  'epoch': 6.91,\n",
       "  'step': 325},\n",
       " {'loss': 0.6221,\n",
       "  'learning_rate': 4.3353191489361704e-05,\n",
       "  'epoch': 6.94,\n",
       "  'step': 326},\n",
       " {'loss': 0.4553,\n",
       "  'learning_rate': 4.330212765957447e-05,\n",
       "  'epoch': 6.96,\n",
       "  'step': 327},\n",
       " {'loss': 0.477,\n",
       "  'learning_rate': 4.3251063829787237e-05,\n",
       "  'epoch': 6.98,\n",
       "  'step': 328},\n",
       " {'loss': 0.3734, 'learning_rate': 4.32e-05, 'epoch': 7.0, 'step': 329},\n",
       " {'loss': 0.4111,\n",
       "  'learning_rate': 4.314893617021277e-05,\n",
       "  'epoch': 7.02,\n",
       "  'step': 330},\n",
       " {'loss': 0.4099,\n",
       "  'learning_rate': 4.309787234042553e-05,\n",
       "  'epoch': 7.04,\n",
       "  'step': 331},\n",
       " {'loss': 0.6033,\n",
       "  'learning_rate': 4.3046808510638296e-05,\n",
       "  'epoch': 7.06,\n",
       "  'step': 332},\n",
       " {'loss': 0.3885,\n",
       "  'learning_rate': 4.2995744680851066e-05,\n",
       "  'epoch': 7.09,\n",
       "  'step': 333},\n",
       " {'loss': 0.9151,\n",
       "  'learning_rate': 4.294468085106383e-05,\n",
       "  'epoch': 7.11,\n",
       "  'step': 334},\n",
       " {'loss': 0.8568,\n",
       "  'learning_rate': 4.28936170212766e-05,\n",
       "  'epoch': 7.13,\n",
       "  'step': 335},\n",
       " {'loss': 0.4453,\n",
       "  'learning_rate': 4.284255319148936e-05,\n",
       "  'epoch': 7.15,\n",
       "  'step': 336},\n",
       " {'loss': 0.5707,\n",
       "  'learning_rate': 4.279148936170213e-05,\n",
       "  'epoch': 7.17,\n",
       "  'step': 337},\n",
       " {'loss': 0.3774,\n",
       "  'learning_rate': 4.2740425531914895e-05,\n",
       "  'epoch': 7.19,\n",
       "  'step': 338},\n",
       " {'loss': 0.3853,\n",
       "  'learning_rate': 4.268936170212766e-05,\n",
       "  'epoch': 7.21,\n",
       "  'step': 339},\n",
       " {'loss': 0.3848,\n",
       "  'learning_rate': 4.263829787234043e-05,\n",
       "  'epoch': 7.23,\n",
       "  'step': 340},\n",
       " {'loss': 0.7507,\n",
       "  'learning_rate': 4.258723404255319e-05,\n",
       "  'epoch': 7.26,\n",
       "  'step': 341},\n",
       " {'loss': 0.4493,\n",
       "  'learning_rate': 4.253617021276596e-05,\n",
       "  'epoch': 7.28,\n",
       "  'step': 342},\n",
       " {'loss': 0.4157,\n",
       "  'learning_rate': 4.2485106382978724e-05,\n",
       "  'epoch': 7.3,\n",
       "  'step': 343},\n",
       " {'loss': 0.3353,\n",
       "  'learning_rate': 4.243404255319149e-05,\n",
       "  'epoch': 7.32,\n",
       "  'step': 344},\n",
       " {'loss': 0.3147,\n",
       "  'learning_rate': 4.238297872340426e-05,\n",
       "  'epoch': 7.34,\n",
       "  'step': 345},\n",
       " {'loss': 0.3647,\n",
       "  'learning_rate': 4.233191489361702e-05,\n",
       "  'epoch': 7.36,\n",
       "  'step': 346},\n",
       " {'loss': 1.1843,\n",
       "  'learning_rate': 4.228085106382979e-05,\n",
       "  'epoch': 7.38,\n",
       "  'step': 347},\n",
       " {'loss': 0.4362,\n",
       "  'learning_rate': 4.2229787234042553e-05,\n",
       "  'epoch': 7.4,\n",
       "  'step': 348},\n",
       " {'loss': 0.4725,\n",
       "  'learning_rate': 4.2178723404255317e-05,\n",
       "  'epoch': 7.43,\n",
       "  'step': 349},\n",
       " {'loss': 0.4121,\n",
       "  'learning_rate': 4.2127659574468086e-05,\n",
       "  'epoch': 7.45,\n",
       "  'step': 350},\n",
       " {'loss': 0.374,\n",
       "  'learning_rate': 4.207659574468085e-05,\n",
       "  'epoch': 7.47,\n",
       "  'step': 351},\n",
       " {'loss': 0.439,\n",
       "  'learning_rate': 4.202553191489362e-05,\n",
       "  'epoch': 7.49,\n",
       "  'step': 352},\n",
       " {'loss': 0.4451,\n",
       "  'learning_rate': 4.197446808510638e-05,\n",
       "  'epoch': 7.51,\n",
       "  'step': 353},\n",
       " {'loss': 0.3894,\n",
       "  'learning_rate': 4.192340425531915e-05,\n",
       "  'epoch': 7.53,\n",
       "  'step': 354},\n",
       " {'loss': 0.3827,\n",
       "  'learning_rate': 4.1872340425531916e-05,\n",
       "  'epoch': 7.55,\n",
       "  'step': 355},\n",
       " {'loss': 0.5653,\n",
       "  'learning_rate': 4.182127659574468e-05,\n",
       "  'epoch': 7.57,\n",
       "  'step': 356},\n",
       " {'loss': 0.367,\n",
       "  'learning_rate': 4.177021276595745e-05,\n",
       "  'epoch': 7.6,\n",
       "  'step': 357},\n",
       " {'loss': 0.339,\n",
       "  'learning_rate': 4.171914893617021e-05,\n",
       "  'epoch': 7.62,\n",
       "  'step': 358},\n",
       " {'loss': 0.4219,\n",
       "  'learning_rate': 4.166808510638298e-05,\n",
       "  'epoch': 7.64,\n",
       "  'step': 359},\n",
       " {'loss': 0.3467,\n",
       "  'learning_rate': 4.1617021276595745e-05,\n",
       "  'epoch': 7.66,\n",
       "  'step': 360},\n",
       " {'loss': 0.3105,\n",
       "  'learning_rate': 4.156595744680851e-05,\n",
       "  'epoch': 7.68,\n",
       "  'step': 361},\n",
       " {'loss': 0.3247,\n",
       "  'learning_rate': 4.151489361702128e-05,\n",
       "  'epoch': 7.7,\n",
       "  'step': 362},\n",
       " {'loss': 0.3972,\n",
       "  'learning_rate': 4.146382978723404e-05,\n",
       "  'epoch': 7.72,\n",
       "  'step': 363},\n",
       " {'loss': 0.3117,\n",
       "  'learning_rate': 4.141276595744681e-05,\n",
       "  'epoch': 7.74,\n",
       "  'step': 364},\n",
       " {'loss': 0.3786,\n",
       "  'learning_rate': 4.1361702127659574e-05,\n",
       "  'epoch': 7.77,\n",
       "  'step': 365},\n",
       " {'loss': 0.2725,\n",
       "  'learning_rate': 4.131063829787234e-05,\n",
       "  'epoch': 7.79,\n",
       "  'step': 366},\n",
       " {'loss': 0.4292,\n",
       "  'learning_rate': 4.125957446808511e-05,\n",
       "  'epoch': 7.81,\n",
       "  'step': 367},\n",
       " {'loss': 0.4818,\n",
       "  'learning_rate': 4.120851063829787e-05,\n",
       "  'epoch': 7.83,\n",
       "  'step': 368},\n",
       " {'loss': 0.5476,\n",
       "  'learning_rate': 4.115744680851064e-05,\n",
       "  'epoch': 7.85,\n",
       "  'step': 369},\n",
       " {'loss': 0.3619,\n",
       "  'learning_rate': 4.11063829787234e-05,\n",
       "  'epoch': 7.87,\n",
       "  'step': 370},\n",
       " {'loss': 0.3239,\n",
       "  'learning_rate': 4.105531914893617e-05,\n",
       "  'epoch': 7.89,\n",
       "  'step': 371},\n",
       " {'loss': 0.3357,\n",
       "  'learning_rate': 4.1004255319148936e-05,\n",
       "  'epoch': 7.91,\n",
       "  'step': 372},\n",
       " {'loss': 0.3569,\n",
       "  'learning_rate': 4.09531914893617e-05,\n",
       "  'epoch': 7.94,\n",
       "  'step': 373},\n",
       " {'loss': 0.4645,\n",
       "  'learning_rate': 4.090212765957447e-05,\n",
       "  'epoch': 7.96,\n",
       "  'step': 374},\n",
       " {'loss': 0.376,\n",
       "  'learning_rate': 4.085106382978723e-05,\n",
       "  'epoch': 7.98,\n",
       "  'step': 375},\n",
       " {'loss': 0.2827, 'learning_rate': 4.08e-05, 'epoch': 8.0, 'step': 376},\n",
       " {'loss': 0.3018,\n",
       "  'learning_rate': 4.0748936170212766e-05,\n",
       "  'epoch': 8.02,\n",
       "  'step': 377},\n",
       " {'loss': 0.8038,\n",
       "  'learning_rate': 4.069787234042553e-05,\n",
       "  'epoch': 8.04,\n",
       "  'step': 378},\n",
       " {'loss': 0.3224,\n",
       "  'learning_rate': 4.06468085106383e-05,\n",
       "  'epoch': 8.06,\n",
       "  'step': 379},\n",
       " {'loss': 0.4432,\n",
       "  'learning_rate': 4.059574468085106e-05,\n",
       "  'epoch': 8.09,\n",
       "  'step': 380},\n",
       " {'loss': 0.3494,\n",
       "  'learning_rate': 4.054468085106383e-05,\n",
       "  'epoch': 8.11,\n",
       "  'step': 381},\n",
       " {'loss': 0.5323,\n",
       "  'learning_rate': 4.0493617021276595e-05,\n",
       "  'epoch': 8.13,\n",
       "  'step': 382},\n",
       " {'loss': 0.3406,\n",
       "  'learning_rate': 4.044255319148936e-05,\n",
       "  'epoch': 8.15,\n",
       "  'step': 383},\n",
       " {'loss': 0.2846,\n",
       "  'learning_rate': 4.039148936170213e-05,\n",
       "  'epoch': 8.17,\n",
       "  'step': 384},\n",
       " {'loss': 0.5385,\n",
       "  'learning_rate': 4.034042553191489e-05,\n",
       "  'epoch': 8.19,\n",
       "  'step': 385},\n",
       " {'loss': 0.742,\n",
       "  'learning_rate': 4.028936170212766e-05,\n",
       "  'epoch': 8.21,\n",
       "  'step': 386},\n",
       " {'loss': 0.4351,\n",
       "  'learning_rate': 4.0238297872340424e-05,\n",
       "  'epoch': 8.23,\n",
       "  'step': 387},\n",
       " {'loss': 0.2664,\n",
       "  'learning_rate': 4.018723404255319e-05,\n",
       "  'epoch': 8.26,\n",
       "  'step': 388},\n",
       " {'loss': 0.2665,\n",
       "  'learning_rate': 4.013617021276596e-05,\n",
       "  'epoch': 8.28,\n",
       "  'step': 389},\n",
       " {'loss': 0.6272,\n",
       "  'learning_rate': 4.008510638297872e-05,\n",
       "  'epoch': 8.3,\n",
       "  'step': 390},\n",
       " {'loss': 0.6631,\n",
       "  'learning_rate': 4.003404255319149e-05,\n",
       "  'epoch': 8.32,\n",
       "  'step': 391},\n",
       " {'loss': 0.5006,\n",
       "  'learning_rate': 3.998297872340425e-05,\n",
       "  'epoch': 8.34,\n",
       "  'step': 392},\n",
       " {'loss': 0.3286,\n",
       "  'learning_rate': 3.993191489361702e-05,\n",
       "  'epoch': 8.36,\n",
       "  'step': 393},\n",
       " {'loss': 0.4633,\n",
       "  'learning_rate': 3.9880851063829786e-05,\n",
       "  'epoch': 8.38,\n",
       "  'step': 394},\n",
       " {'loss': 0.342,\n",
       "  'learning_rate': 3.982978723404255e-05,\n",
       "  'epoch': 8.4,\n",
       "  'step': 395},\n",
       " {'loss': 0.3257,\n",
       "  'learning_rate': 3.977872340425532e-05,\n",
       "  'epoch': 8.43,\n",
       "  'step': 396},\n",
       " {'loss': 0.2916,\n",
       "  'learning_rate': 3.972765957446808e-05,\n",
       "  'epoch': 8.45,\n",
       "  'step': 397},\n",
       " {'loss': 0.4598,\n",
       "  'learning_rate': 3.967659574468085e-05,\n",
       "  'epoch': 8.47,\n",
       "  'step': 398},\n",
       " {'loss': 0.4563,\n",
       "  'learning_rate': 3.9625531914893615e-05,\n",
       "  'epoch': 8.49,\n",
       "  'step': 399},\n",
       " {'loss': 0.2482,\n",
       "  'learning_rate': 3.957446808510638e-05,\n",
       "  'epoch': 8.51,\n",
       "  'step': 400},\n",
       " {'eval_loss': 0.22670629620552063,\n",
       "  'eval_mean_iou': 0.16860849432077765,\n",
       "  'eval_mean_accuracy': 0.2114801985158823,\n",
       "  'eval_overall_accuracy': 0.9860718661341173,\n",
       "  'eval_per_category_iou': [0.0,\n",
       "   0.9897245974812859,\n",
       "   0.5536249880833359,\n",
       "   0.0,\n",
       "   0.0,\n",
       "   0.0,\n",
       "   0.0,\n",
       "   0.00019122684492334298,\n",
       "   0.19406993093431807,\n",
       "   0.4539994614129537,\n",
       "   0.0003002214132923031,\n",
       "   0.0,\n",
       "   0.0],\n",
       "  'eval_per_category_accuracy': [0.0,\n",
       "   0.9982189752964783,\n",
       "   0.7825544633139264,\n",
       "   0.0,\n",
       "   0.0,\n",
       "   0.0,\n",
       "   0.0,\n",
       "   0.0001913246738122273,\n",
       "   0.22436096672204062,\n",
       "   0.7436163548821124,\n",
       "   0.0003004958180998648,\n",
       "   0.0,\n",
       "   0.0],\n",
       "  'eval_runtime': 339.1873,\n",
       "  'eval_samples_per_second': 0.684,\n",
       "  'eval_steps_per_second': 0.071,\n",
       "  'epoch': 8.51,\n",
       "  'step': 400},\n",
       " {'loss': 0.3085,\n",
       "  'learning_rate': 3.952340425531915e-05,\n",
       "  'epoch': 8.53,\n",
       "  'step': 401},\n",
       " {'loss': 0.2833,\n",
       "  'learning_rate': 3.947234042553191e-05,\n",
       "  'epoch': 8.55,\n",
       "  'step': 402},\n",
       " {'loss': 0.3666,\n",
       "  'learning_rate': 3.942127659574468e-05,\n",
       "  'epoch': 8.57,\n",
       "  'step': 403},\n",
       " {'loss': 0.5733,\n",
       "  'learning_rate': 3.9370212765957445e-05,\n",
       "  'epoch': 8.6,\n",
       "  'step': 404},\n",
       " {'loss': 0.2912,\n",
       "  'learning_rate': 3.931914893617021e-05,\n",
       "  'epoch': 8.62,\n",
       "  'step': 405},\n",
       " {'loss': 0.2201,\n",
       "  'learning_rate': 3.926808510638298e-05,\n",
       "  'epoch': 8.64,\n",
       "  'step': 406},\n",
       " {'loss': 0.2785,\n",
       "  'learning_rate': 3.921702127659574e-05,\n",
       "  'epoch': 8.66,\n",
       "  'step': 407},\n",
       " {'loss': 0.2872,\n",
       "  'learning_rate': 3.916595744680851e-05,\n",
       "  'epoch': 8.68,\n",
       "  'step': 408},\n",
       " {'loss': 0.2543,\n",
       "  'learning_rate': 3.9114893617021274e-05,\n",
       "  'epoch': 8.7,\n",
       "  'step': 409},\n",
       " {'loss': 0.3913,\n",
       "  'learning_rate': 3.9063829787234044e-05,\n",
       "  'epoch': 8.72,\n",
       "  'step': 410},\n",
       " {'loss': 0.6468,\n",
       "  'learning_rate': 3.901276595744681e-05,\n",
       "  'epoch': 8.74,\n",
       "  'step': 411},\n",
       " {'loss': 1.0162,\n",
       "  'learning_rate': 3.896170212765957e-05,\n",
       "  'epoch': 8.77,\n",
       "  'step': 412},\n",
       " {'loss': 0.2163,\n",
       "  'learning_rate': 3.891063829787234e-05,\n",
       "  'epoch': 8.79,\n",
       "  'step': 413},\n",
       " {'loss': 0.2675,\n",
       "  'learning_rate': 3.88595744680851e-05,\n",
       "  'epoch': 8.81,\n",
       "  'step': 414},\n",
       " {'loss': 0.3613,\n",
       "  'learning_rate': 3.880851063829787e-05,\n",
       "  'epoch': 8.83,\n",
       "  'step': 415},\n",
       " {'loss': 0.2634,\n",
       "  'learning_rate': 3.8757446808510636e-05,\n",
       "  'epoch': 8.85,\n",
       "  'step': 416},\n",
       " {'loss': 0.2666,\n",
       "  'learning_rate': 3.87063829787234e-05,\n",
       "  'epoch': 8.87,\n",
       "  'step': 417},\n",
       " {'loss': 0.3377,\n",
       "  'learning_rate': 3.865531914893617e-05,\n",
       "  'epoch': 8.89,\n",
       "  'step': 418},\n",
       " {'loss': 0.2702,\n",
       "  'learning_rate': 3.860425531914894e-05,\n",
       "  'epoch': 8.91,\n",
       "  'step': 419},\n",
       " {'loss': 0.4342,\n",
       "  'learning_rate': 3.85531914893617e-05,\n",
       "  'epoch': 8.94,\n",
       "  'step': 420},\n",
       " {'loss': 0.2998,\n",
       "  'learning_rate': 3.850212765957447e-05,\n",
       "  'epoch': 8.96,\n",
       "  'step': 421},\n",
       " {'loss': 0.3315,\n",
       "  'learning_rate': 3.8451063829787235e-05,\n",
       "  'epoch': 8.98,\n",
       "  'step': 422},\n",
       " {'loss': 0.2505,\n",
       "  'learning_rate': 3.8400000000000005e-05,\n",
       "  'epoch': 9.0,\n",
       "  'step': 423},\n",
       " {'loss': 0.2711,\n",
       "  'learning_rate': 3.834893617021277e-05,\n",
       "  'epoch': 9.02,\n",
       "  'step': 424},\n",
       " {'loss': 0.2775,\n",
       "  'learning_rate': 3.829787234042554e-05,\n",
       "  'epoch': 9.04,\n",
       "  'step': 425},\n",
       " {'loss': 0.2848,\n",
       "  'learning_rate': 3.82468085106383e-05,\n",
       "  'epoch': 9.06,\n",
       "  'step': 426},\n",
       " {'loss': 0.2667,\n",
       "  'learning_rate': 3.819574468085107e-05,\n",
       "  'epoch': 9.09,\n",
       "  'step': 427},\n",
       " {'loss': 0.3169,\n",
       "  'learning_rate': 3.8144680851063834e-05,\n",
       "  'epoch': 9.11,\n",
       "  'step': 428},\n",
       " {'loss': 0.2627,\n",
       "  'learning_rate': 3.80936170212766e-05,\n",
       "  'epoch': 9.13,\n",
       "  'step': 429},\n",
       " {'loss': 0.4395,\n",
       "  'learning_rate': 3.804255319148937e-05,\n",
       "  'epoch': 9.15,\n",
       "  'step': 430},\n",
       " {'loss': 0.7935,\n",
       "  'learning_rate': 3.799148936170213e-05,\n",
       "  'epoch': 9.17,\n",
       "  'step': 431},\n",
       " {'loss': 0.8537,\n",
       "  'learning_rate': 3.79404255319149e-05,\n",
       "  'epoch': 9.19,\n",
       "  'step': 432},\n",
       " {'loss': 0.2576,\n",
       "  'learning_rate': 3.7889361702127663e-05,\n",
       "  'epoch': 9.21,\n",
       "  'step': 433},\n",
       " {'loss': 0.2903,\n",
       "  'learning_rate': 3.7838297872340427e-05,\n",
       "  'epoch': 9.23,\n",
       "  'step': 434},\n",
       " {'loss': 0.2573,\n",
       "  'learning_rate': 3.7787234042553196e-05,\n",
       "  'epoch': 9.26,\n",
       "  'step': 435},\n",
       " {'loss': 0.3513,\n",
       "  'learning_rate': 3.773617021276596e-05,\n",
       "  'epoch': 9.28,\n",
       "  'step': 436},\n",
       " {'loss': 0.2104,\n",
       "  'learning_rate': 3.768510638297873e-05,\n",
       "  'epoch': 9.3,\n",
       "  'step': 437},\n",
       " {'loss': 0.2564,\n",
       "  'learning_rate': 3.763404255319149e-05,\n",
       "  'epoch': 9.32,\n",
       "  'step': 438},\n",
       " {'loss': 0.1861,\n",
       "  'learning_rate': 3.7582978723404256e-05,\n",
       "  'epoch': 9.34,\n",
       "  'step': 439},\n",
       " {'loss': 0.2358,\n",
       "  'learning_rate': 3.7531914893617026e-05,\n",
       "  'epoch': 9.36,\n",
       "  'step': 440},\n",
       " {'loss': 0.2636,\n",
       "  'learning_rate': 3.748085106382979e-05,\n",
       "  'epoch': 9.38,\n",
       "  'step': 441},\n",
       " {'loss': 0.2589,\n",
       "  'learning_rate': 3.742978723404256e-05,\n",
       "  'epoch': 9.4,\n",
       "  'step': 442},\n",
       " {'loss': 0.2635,\n",
       "  'learning_rate': 3.737872340425532e-05,\n",
       "  'epoch': 9.43,\n",
       "  'step': 443},\n",
       " {'loss': 0.2602,\n",
       "  'learning_rate': 3.732765957446809e-05,\n",
       "  'epoch': 9.45,\n",
       "  'step': 444},\n",
       " {'loss': 0.2581,\n",
       "  'learning_rate': 3.7276595744680855e-05,\n",
       "  'epoch': 9.47,\n",
       "  'step': 445},\n",
       " {'loss': 0.3074,\n",
       "  'learning_rate': 3.722553191489362e-05,\n",
       "  'epoch': 9.49,\n",
       "  'step': 446},\n",
       " {'loss': 0.1974,\n",
       "  'learning_rate': 3.717446808510639e-05,\n",
       "  'epoch': 9.51,\n",
       "  'step': 447},\n",
       " {'loss': 0.2236,\n",
       "  'learning_rate': 3.712340425531915e-05,\n",
       "  'epoch': 9.53,\n",
       "  'step': 448},\n",
       " {'loss': 0.209,\n",
       "  'learning_rate': 3.707234042553192e-05,\n",
       "  'epoch': 9.55,\n",
       "  'step': 449},\n",
       " {'loss': 0.1763,\n",
       "  'learning_rate': 3.7021276595744684e-05,\n",
       "  'epoch': 9.57,\n",
       "  'step': 450},\n",
       " {'loss': 0.1961,\n",
       "  'learning_rate': 3.697021276595745e-05,\n",
       "  'epoch': 9.6,\n",
       "  'step': 451},\n",
       " {'loss': 0.3061,\n",
       "  'learning_rate': 3.691914893617022e-05,\n",
       "  'epoch': 9.62,\n",
       "  'step': 452},\n",
       " {'loss': 0.4471,\n",
       "  'learning_rate': 3.686808510638298e-05,\n",
       "  'epoch': 9.64,\n",
       "  'step': 453},\n",
       " {'loss': 0.2088,\n",
       "  'learning_rate': 3.681702127659575e-05,\n",
       "  'epoch': 9.66,\n",
       "  'step': 454},\n",
       " {'loss': 0.1902,\n",
       "  'learning_rate': 3.676595744680851e-05,\n",
       "  'epoch': 9.68,\n",
       "  'step': 455},\n",
       " {'loss': 0.2322,\n",
       "  'learning_rate': 3.6714893617021276e-05,\n",
       "  'epoch': 9.7,\n",
       "  'step': 456},\n",
       " {'loss': 0.2131,\n",
       "  'learning_rate': 3.6663829787234046e-05,\n",
       "  'epoch': 9.72,\n",
       "  'step': 457},\n",
       " {'loss': 0.2698,\n",
       "  'learning_rate': 3.661276595744681e-05,\n",
       "  'epoch': 9.74,\n",
       "  'step': 458},\n",
       " {'loss': 0.2551,\n",
       "  'learning_rate': 3.656170212765958e-05,\n",
       "  'epoch': 9.77,\n",
       "  'step': 459},\n",
       " {'loss': 0.2365,\n",
       "  'learning_rate': 3.651063829787234e-05,\n",
       "  'epoch': 9.79,\n",
       "  'step': 460},\n",
       " {'loss': 0.383,\n",
       "  'learning_rate': 3.645957446808511e-05,\n",
       "  'epoch': 9.81,\n",
       "  'step': 461},\n",
       " {'loss': 0.3787,\n",
       "  'learning_rate': 3.6408510638297876e-05,\n",
       "  'epoch': 9.83,\n",
       "  'step': 462},\n",
       " {'loss': 0.25,\n",
       "  'learning_rate': 3.635744680851064e-05,\n",
       "  'epoch': 9.85,\n",
       "  'step': 463},\n",
       " {'loss': 0.2208,\n",
       "  'learning_rate': 3.630638297872341e-05,\n",
       "  'epoch': 9.87,\n",
       "  'step': 464},\n",
       " {'loss': 0.3073,\n",
       "  'learning_rate': 3.625531914893617e-05,\n",
       "  'epoch': 9.89,\n",
       "  'step': 465},\n",
       " {'loss': 0.4498,\n",
       "  'learning_rate': 3.620425531914894e-05,\n",
       "  'epoch': 9.91,\n",
       "  'step': 466},\n",
       " {'loss': 0.167,\n",
       "  'learning_rate': 3.6153191489361705e-05,\n",
       "  'epoch': 9.94,\n",
       "  'step': 467},\n",
       " {'loss': 0.2136,\n",
       "  'learning_rate': 3.610212765957447e-05,\n",
       "  'epoch': 9.96,\n",
       "  'step': 468},\n",
       " {'loss': 0.2222,\n",
       "  'learning_rate': 3.605106382978724e-05,\n",
       "  'epoch': 9.98,\n",
       "  'step': 469},\n",
       " {'loss': 0.4017, 'learning_rate': 3.6e-05, 'epoch': 10.0, 'step': 470},\n",
       " {'loss': 0.2472,\n",
       "  'learning_rate': 3.594893617021277e-05,\n",
       "  'epoch': 10.02,\n",
       "  'step': 471},\n",
       " {'loss': 0.1751,\n",
       "  'learning_rate': 3.5897872340425534e-05,\n",
       "  'epoch': 10.04,\n",
       "  'step': 472},\n",
       " {'loss': 0.3343,\n",
       "  'learning_rate': 3.58468085106383e-05,\n",
       "  'epoch': 10.06,\n",
       "  'step': 473},\n",
       " {'loss': 0.3464,\n",
       "  'learning_rate': 3.579574468085107e-05,\n",
       "  'epoch': 10.09,\n",
       "  'step': 474},\n",
       " {'loss': 0.472,\n",
       "  'learning_rate': 3.574468085106383e-05,\n",
       "  'epoch': 10.11,\n",
       "  'step': 475},\n",
       " {'loss': 0.2357,\n",
       "  'learning_rate': 3.56936170212766e-05,\n",
       "  'epoch': 10.13,\n",
       "  'step': 476},\n",
       " {'loss': 0.664,\n",
       "  'learning_rate': 3.564255319148936e-05,\n",
       "  'epoch': 10.15,\n",
       "  'step': 477},\n",
       " {'loss': 0.2565,\n",
       "  'learning_rate': 3.5591489361702126e-05,\n",
       "  'epoch': 10.17,\n",
       "  'step': 478},\n",
       " {'loss': 0.2005,\n",
       "  'learning_rate': 3.5540425531914896e-05,\n",
       "  'epoch': 10.19,\n",
       "  'step': 479},\n",
       " {'loss': 0.1973,\n",
       "  'learning_rate': 3.548936170212766e-05,\n",
       "  'epoch': 10.21,\n",
       "  'step': 480},\n",
       " {'loss': 0.1759,\n",
       "  'learning_rate': 3.543829787234043e-05,\n",
       "  'epoch': 10.23,\n",
       "  'step': 481},\n",
       " {'loss': 0.3474,\n",
       "  'learning_rate': 3.538723404255319e-05,\n",
       "  'epoch': 10.26,\n",
       "  'step': 482},\n",
       " {'loss': 0.1967,\n",
       "  'learning_rate': 3.533617021276596e-05,\n",
       "  'epoch': 10.28,\n",
       "  'step': 483},\n",
       " {'loss': 0.2485,\n",
       "  'learning_rate': 3.5285106382978725e-05,\n",
       "  'epoch': 10.3,\n",
       "  'step': 484},\n",
       " {'loss': 0.5498,\n",
       "  'learning_rate': 3.523404255319149e-05,\n",
       "  'epoch': 10.32,\n",
       "  'step': 485},\n",
       " {'loss': 0.2899,\n",
       "  'learning_rate': 3.518297872340426e-05,\n",
       "  'epoch': 10.34,\n",
       "  'step': 486},\n",
       " {'loss': 0.1901,\n",
       "  'learning_rate': 3.513191489361702e-05,\n",
       "  'epoch': 10.36,\n",
       "  'step': 487},\n",
       " {'loss': 0.2396,\n",
       "  'learning_rate': 3.508085106382979e-05,\n",
       "  'epoch': 10.38,\n",
       "  'step': 488},\n",
       " {'loss': 0.195,\n",
       "  'learning_rate': 3.5029787234042555e-05,\n",
       "  'epoch': 10.4,\n",
       "  'step': 489},\n",
       " {'loss': 0.3846,\n",
       "  'learning_rate': 3.497872340425532e-05,\n",
       "  'epoch': 10.43,\n",
       "  'step': 490},\n",
       " {'loss': 0.5594,\n",
       "  'learning_rate': 3.492765957446809e-05,\n",
       "  'epoch': 10.45,\n",
       "  'step': 491},\n",
       " {'loss': 0.2038,\n",
       "  'learning_rate': 3.487659574468085e-05,\n",
       "  'epoch': 10.47,\n",
       "  'step': 492},\n",
       " {'loss': 0.2136,\n",
       "  'learning_rate': 3.482553191489362e-05,\n",
       "  'epoch': 10.49,\n",
       "  'step': 493},\n",
       " {'loss': 0.1846,\n",
       "  'learning_rate': 3.4774468085106384e-05,\n",
       "  'epoch': 10.51,\n",
       "  'step': 494},\n",
       " {'loss': 0.2459,\n",
       "  'learning_rate': 3.472340425531915e-05,\n",
       "  'epoch': 10.53,\n",
       "  'step': 495},\n",
       " {'loss': 0.2052,\n",
       "  'learning_rate': 3.467234042553192e-05,\n",
       "  'epoch': 10.55,\n",
       "  'step': 496},\n",
       " {'loss': 0.2022,\n",
       "  'learning_rate': 3.462127659574468e-05,\n",
       "  'epoch': 10.57,\n",
       "  'step': 497},\n",
       " {'loss': 0.2089,\n",
       "  'learning_rate': 3.457021276595745e-05,\n",
       "  'epoch': 10.6,\n",
       "  'step': 498},\n",
       " {'loss': 0.3677,\n",
       "  'learning_rate': 3.451914893617021e-05,\n",
       "  'epoch': 10.62,\n",
       "  'step': 499},\n",
       " {'loss': 0.1933,\n",
       "  'learning_rate': 3.446808510638298e-05,\n",
       "  'epoch': 10.64,\n",
       "  'step': 500},\n",
       " {'eval_loss': 0.14846335351467133,\n",
       "  'eval_mean_iou': 0.19247770981084042,\n",
       "  'eval_mean_accuracy': 0.23576975005959067,\n",
       "  'eval_overall_accuracy': 0.9872024141508957,\n",
       "  'eval_per_category_iou': [0.0,\n",
       "   0.9910374318961996,\n",
       "   0.5141990648399437,\n",
       "   0.0,\n",
       "   0.0,\n",
       "   0.0,\n",
       "   0.0,\n",
       "   0.0,\n",
       "   0.2608566914113371,\n",
       "   0.6627074314865883,\n",
       "   0.07340960790685687,\n",
       "   0.0,\n",
       "   0.0],\n",
       "  'eval_per_category_accuracy': [0.0,\n",
       "   0.9981523662312413,\n",
       "   0.8693813382167476,\n",
       "   0.0,\n",
       "   0.0,\n",
       "   0.0,\n",
       "   0.0,\n",
       "   0.0,\n",
       "   0.3556472500580533,\n",
       "   0.7598029585864614,\n",
       "   0.0820228376821756,\n",
       "   0.0,\n",
       "   0.0],\n",
       "  'eval_runtime': 338.443,\n",
       "  'eval_samples_per_second': 0.685,\n",
       "  'eval_steps_per_second': 0.071,\n",
       "  'epoch': 10.64,\n",
       "  'step': 500},\n",
       " {'loss': 0.2016,\n",
       "  'learning_rate': 3.4417021276595746e-05,\n",
       "  'epoch': 10.66,\n",
       "  'step': 501},\n",
       " {'loss': 0.1825,\n",
       "  'learning_rate': 3.436595744680851e-05,\n",
       "  'epoch': 10.68,\n",
       "  'step': 502},\n",
       " {'loss': 0.1992,\n",
       "  'learning_rate': 3.431489361702128e-05,\n",
       "  'epoch': 10.7,\n",
       "  'step': 503},\n",
       " {'loss': 0.282,\n",
       "  'learning_rate': 3.426382978723404e-05,\n",
       "  'epoch': 10.72,\n",
       "  'step': 504},\n",
       " {'loss': 0.1783,\n",
       "  'learning_rate': 3.421276595744681e-05,\n",
       "  'epoch': 10.74,\n",
       "  'step': 505},\n",
       " {'loss': 0.2189,\n",
       "  'learning_rate': 3.4161702127659575e-05,\n",
       "  'epoch': 10.77,\n",
       "  'step': 506},\n",
       " {'loss': 0.1598,\n",
       "  'learning_rate': 3.411063829787234e-05,\n",
       "  'epoch': 10.79,\n",
       "  'step': 507},\n",
       " {'loss': 0.2767,\n",
       "  'learning_rate': 3.405957446808511e-05,\n",
       "  'epoch': 10.81,\n",
       "  'step': 508},\n",
       " {'loss': 0.2027,\n",
       "  'learning_rate': 3.400851063829787e-05,\n",
       "  'epoch': 10.83,\n",
       "  'step': 509},\n",
       " {'loss': 0.1862,\n",
       "  'learning_rate': 3.395744680851064e-05,\n",
       "  'epoch': 10.85,\n",
       "  'step': 510},\n",
       " {'loss': 0.1951,\n",
       "  'learning_rate': 3.3906382978723404e-05,\n",
       "  'epoch': 10.87,\n",
       "  'step': 511},\n",
       " {'loss': 0.1514,\n",
       "  'learning_rate': 3.385531914893617e-05,\n",
       "  'epoch': 10.89,\n",
       "  'step': 512},\n",
       " {'loss': 0.1818,\n",
       "  'learning_rate': 3.380425531914894e-05,\n",
       "  'epoch': 10.91,\n",
       "  'step': 513},\n",
       " {'loss': 0.202,\n",
       "  'learning_rate': 3.37531914893617e-05,\n",
       "  'epoch': 10.94,\n",
       "  'step': 514},\n",
       " {'loss': 0.1772,\n",
       "  'learning_rate': 3.370212765957447e-05,\n",
       "  'epoch': 10.96,\n",
       "  'step': 515},\n",
       " {'loss': 0.1753,\n",
       "  'learning_rate': 3.3651063829787234e-05,\n",
       "  'epoch': 10.98,\n",
       "  'step': 516},\n",
       " {'loss': 0.2017,\n",
       "  'learning_rate': 3.3600000000000004e-05,\n",
       "  'epoch': 11.0,\n",
       "  'step': 517},\n",
       " {'loss': 0.2057,\n",
       "  'learning_rate': 3.354893617021277e-05,\n",
       "  'epoch': 11.02,\n",
       "  'step': 518},\n",
       " {'loss': 0.4105,\n",
       "  'learning_rate': 3.349787234042553e-05,\n",
       "  'epoch': 11.04,\n",
       "  'step': 519},\n",
       " {'loss': 0.2173,\n",
       "  'learning_rate': 3.34468085106383e-05,\n",
       "  'epoch': 11.06,\n",
       "  'step': 520},\n",
       " {'loss': 0.277,\n",
       "  'learning_rate': 3.339574468085106e-05,\n",
       "  'epoch': 11.09,\n",
       "  'step': 521},\n",
       " {'loss': 0.1778,\n",
       "  'learning_rate': 3.334468085106383e-05,\n",
       "  'epoch': 11.11,\n",
       "  'step': 522},\n",
       " {'loss': 0.1913,\n",
       "  'learning_rate': 3.3293617021276596e-05,\n",
       "  'epoch': 11.13,\n",
       "  'step': 523},\n",
       " {'loss': 0.2345,\n",
       "  'learning_rate': 3.324255319148936e-05,\n",
       "  'epoch': 11.15,\n",
       "  'step': 524},\n",
       " {'loss': 0.1822,\n",
       "  'learning_rate': 3.319148936170213e-05,\n",
       "  'epoch': 11.17,\n",
       "  'step': 525},\n",
       " {'loss': 0.3042,\n",
       "  'learning_rate': 3.314042553191489e-05,\n",
       "  'epoch': 11.19,\n",
       "  'step': 526},\n",
       " {'loss': 0.1612,\n",
       "  'learning_rate': 3.308936170212766e-05,\n",
       "  'epoch': 11.21,\n",
       "  'step': 527},\n",
       " {'loss': 0.3967,\n",
       "  'learning_rate': 3.3038297872340425e-05,\n",
       "  'epoch': 11.23,\n",
       "  'step': 528},\n",
       " {'loss': 0.2071,\n",
       "  'learning_rate': 3.298723404255319e-05,\n",
       "  'epoch': 11.26,\n",
       "  'step': 529},\n",
       " {'loss': 0.1257,\n",
       "  'learning_rate': 3.293617021276596e-05,\n",
       "  'epoch': 11.28,\n",
       "  'step': 530},\n",
       " {'loss': 0.3361,\n",
       "  'learning_rate': 3.288510638297872e-05,\n",
       "  'epoch': 11.3,\n",
       "  'step': 531},\n",
       " {'loss': 0.2046,\n",
       "  'learning_rate': 3.283404255319149e-05,\n",
       "  'epoch': 11.32,\n",
       "  'step': 532},\n",
       " {'loss': 0.1513,\n",
       "  'learning_rate': 3.2782978723404254e-05,\n",
       "  'epoch': 11.34,\n",
       "  'step': 533},\n",
       " {'loss': 0.2443,\n",
       "  'learning_rate': 3.2731914893617024e-05,\n",
       "  'epoch': 11.36,\n",
       "  'step': 534},\n",
       " {'loss': 0.1685,\n",
       "  'learning_rate': 3.268085106382979e-05,\n",
       "  'epoch': 11.38,\n",
       "  'step': 535},\n",
       " {'loss': 0.1234,\n",
       "  'learning_rate': 3.262978723404255e-05,\n",
       "  'epoch': 11.4,\n",
       "  'step': 536},\n",
       " {'loss': 0.1441,\n",
       "  'learning_rate': 3.257872340425532e-05,\n",
       "  'epoch': 11.43,\n",
       "  'step': 537},\n",
       " {'loss': 0.1189,\n",
       "  'learning_rate': 3.2527659574468084e-05,\n",
       "  'epoch': 11.45,\n",
       "  'step': 538},\n",
       " {'loss': 0.1633,\n",
       "  'learning_rate': 3.2476595744680853e-05,\n",
       "  'epoch': 11.47,\n",
       "  'step': 539},\n",
       " {'loss': 0.1658,\n",
       "  'learning_rate': 3.2425531914893617e-05,\n",
       "  'epoch': 11.49,\n",
       "  'step': 540},\n",
       " {'loss': 0.1739,\n",
       "  'learning_rate': 3.237446808510638e-05,\n",
       "  'epoch': 11.51,\n",
       "  'step': 541},\n",
       " {'loss': 0.2807,\n",
       "  'learning_rate': 3.232340425531915e-05,\n",
       "  'epoch': 11.53,\n",
       "  'step': 542},\n",
       " {'loss': 0.1151,\n",
       "  'learning_rate': 3.227234042553191e-05,\n",
       "  'epoch': 11.55,\n",
       "  'step': 543},\n",
       " {'loss': 0.2834,\n",
       "  'learning_rate': 3.222127659574468e-05,\n",
       "  'epoch': 11.57,\n",
       "  'step': 544},\n",
       " {'loss': 0.5455,\n",
       "  'learning_rate': 3.2170212765957446e-05,\n",
       "  'epoch': 11.6,\n",
       "  'step': 545},\n",
       " {'loss': 0.1507,\n",
       "  'learning_rate': 3.211914893617021e-05,\n",
       "  'epoch': 11.62,\n",
       "  'step': 546},\n",
       " {'loss': 0.1368,\n",
       "  'learning_rate': 3.206808510638298e-05,\n",
       "  'epoch': 11.64,\n",
       "  'step': 547},\n",
       " {'loss': 0.957,\n",
       "  'learning_rate': 3.201702127659574e-05,\n",
       "  'epoch': 11.66,\n",
       "  'step': 548},\n",
       " {'loss': 0.2823,\n",
       "  'learning_rate': 3.196595744680851e-05,\n",
       "  'epoch': 11.68,\n",
       "  'step': 549},\n",
       " {'loss': 0.2945,\n",
       "  'learning_rate': 3.1914893617021275e-05,\n",
       "  'epoch': 11.7,\n",
       "  'step': 550},\n",
       " {'loss': 0.132,\n",
       "  'learning_rate': 3.186382978723404e-05,\n",
       "  'epoch': 11.72,\n",
       "  'step': 551},\n",
       " {'loss': 0.1727,\n",
       "  'learning_rate': 3.181276595744681e-05,\n",
       "  'epoch': 11.74,\n",
       "  'step': 552},\n",
       " {'loss': 0.1695,\n",
       "  'learning_rate': 3.176170212765957e-05,\n",
       "  'epoch': 11.77,\n",
       "  'step': 553},\n",
       " {'loss': 0.301,\n",
       "  'learning_rate': 3.171063829787234e-05,\n",
       "  'epoch': 11.79,\n",
       "  'step': 554},\n",
       " {'loss': 0.1863,\n",
       "  'learning_rate': 3.1659574468085104e-05,\n",
       "  'epoch': 11.81,\n",
       "  'step': 555},\n",
       " {'loss': 0.5049,\n",
       "  'learning_rate': 3.1608510638297874e-05,\n",
       "  'epoch': 11.83,\n",
       "  'step': 556},\n",
       " {'loss': 0.1199,\n",
       "  'learning_rate': 3.155744680851064e-05,\n",
       "  'epoch': 11.85,\n",
       "  'step': 557},\n",
       " {'loss': 0.4538,\n",
       "  'learning_rate': 3.15063829787234e-05,\n",
       "  'epoch': 11.87,\n",
       "  'step': 558},\n",
       " {'loss': 0.1405,\n",
       "  'learning_rate': 3.145531914893617e-05,\n",
       "  'epoch': 11.89,\n",
       "  'step': 559},\n",
       " {'loss': 0.1964,\n",
       "  'learning_rate': 3.140425531914893e-05,\n",
       "  'epoch': 11.91,\n",
       "  'step': 560},\n",
       " {'loss': 0.2297,\n",
       "  'learning_rate': 3.13531914893617e-05,\n",
       "  'epoch': 11.94,\n",
       "  'step': 561},\n",
       " {'loss': 0.2606,\n",
       "  'learning_rate': 3.1302127659574466e-05,\n",
       "  'epoch': 11.96,\n",
       "  'step': 562},\n",
       " {'loss': 0.1303,\n",
       "  'learning_rate': 3.125106382978723e-05,\n",
       "  'epoch': 11.98,\n",
       "  'step': 563},\n",
       " {'loss': 0.14, 'learning_rate': 3.12e-05, 'epoch': 12.0, 'step': 564},\n",
       " {'loss': 0.114,\n",
       "  'learning_rate': 3.114893617021276e-05,\n",
       "  'epoch': 12.02,\n",
       "  'step': 565},\n",
       " {'loss': 0.2588,\n",
       "  'learning_rate': 3.109787234042553e-05,\n",
       "  'epoch': 12.04,\n",
       "  'step': 566},\n",
       " {'loss': 0.3167,\n",
       "  'learning_rate': 3.1046808510638296e-05,\n",
       "  'epoch': 12.06,\n",
       "  'step': 567},\n",
       " {'loss': 0.1724,\n",
       "  'learning_rate': 3.099574468085106e-05,\n",
       "  'epoch': 12.09,\n",
       "  'step': 568},\n",
       " {'loss': 0.2647,\n",
       "  'learning_rate': 3.094468085106383e-05,\n",
       "  'epoch': 12.11,\n",
       "  'step': 569},\n",
       " {'loss': 0.1645,\n",
       "  'learning_rate': 3.089361702127659e-05,\n",
       "  'epoch': 12.13,\n",
       "  'step': 570},\n",
       " {'loss': 0.1889,\n",
       "  'learning_rate': 3.084255319148936e-05,\n",
       "  'epoch': 12.15,\n",
       "  'step': 571},\n",
       " {'loss': 0.1767,\n",
       "  'learning_rate': 3.0791489361702125e-05,\n",
       "  'epoch': 12.17,\n",
       "  'step': 572},\n",
       " {'loss': 0.1586,\n",
       "  'learning_rate': 3.0740425531914895e-05,\n",
       "  'epoch': 12.19,\n",
       "  'step': 573},\n",
       " {'loss': 0.138,\n",
       "  'learning_rate': 3.068936170212766e-05,\n",
       "  'epoch': 12.21,\n",
       "  'step': 574},\n",
       " {'loss': 0.1279,\n",
       "  'learning_rate': 3.063829787234042e-05,\n",
       "  'epoch': 12.23,\n",
       "  'step': 575},\n",
       " {'loss': 0.0934,\n",
       "  'learning_rate': 3.058723404255319e-05,\n",
       "  'epoch': 12.26,\n",
       "  'step': 576},\n",
       " {'loss': 0.206,\n",
       "  'learning_rate': 3.0536170212765954e-05,\n",
       "  'epoch': 12.28,\n",
       "  'step': 577},\n",
       " {'loss': 0.1431,\n",
       "  'learning_rate': 3.0485106382978727e-05,\n",
       "  'epoch': 12.3,\n",
       "  'step': 578},\n",
       " {'loss': 0.2253,\n",
       "  'learning_rate': 3.043404255319149e-05,\n",
       "  'epoch': 12.32,\n",
       "  'step': 579},\n",
       " {'loss': 0.2608,\n",
       "  'learning_rate': 3.0382978723404254e-05,\n",
       "  'epoch': 12.34,\n",
       "  'step': 580},\n",
       " {'loss': 0.8058,\n",
       "  'learning_rate': 3.0331914893617023e-05,\n",
       "  'epoch': 12.36,\n",
       "  'step': 581},\n",
       " {'loss': 0.1422,\n",
       "  'learning_rate': 3.0280851063829787e-05,\n",
       "  'epoch': 12.38,\n",
       "  'step': 582},\n",
       " {'loss': 0.1191,\n",
       "  'learning_rate': 3.0229787234042557e-05,\n",
       "  'epoch': 12.4,\n",
       "  'step': 583},\n",
       " {'loss': 0.4529,\n",
       "  'learning_rate': 3.017872340425532e-05,\n",
       "  'epoch': 12.43,\n",
       "  'step': 584},\n",
       " {'loss': 0.2331,\n",
       "  'learning_rate': 3.0127659574468083e-05,\n",
       "  'epoch': 12.45,\n",
       "  'step': 585},\n",
       " {'loss': 0.1327,\n",
       "  'learning_rate': 3.0076595744680853e-05,\n",
       "  'epoch': 12.47,\n",
       "  'step': 586},\n",
       " {'loss': 0.1304,\n",
       "  'learning_rate': 3.0025531914893616e-05,\n",
       "  'epoch': 12.49,\n",
       "  'step': 587},\n",
       " {'loss': 0.219,\n",
       "  'learning_rate': 2.9974468085106382e-05,\n",
       "  'epoch': 12.51,\n",
       "  'step': 588},\n",
       " {'loss': 0.2267,\n",
       "  'learning_rate': 2.992340425531915e-05,\n",
       "  'epoch': 12.53,\n",
       "  'step': 589},\n",
       " {'loss': 0.2258,\n",
       "  'learning_rate': 2.9872340425531915e-05,\n",
       "  'epoch': 12.55,\n",
       "  'step': 590},\n",
       " {'loss': 0.2076,\n",
       "  'learning_rate': 2.9821276595744682e-05,\n",
       "  'epoch': 12.57,\n",
       "  'step': 591},\n",
       " {'loss': 0.1206,\n",
       "  'learning_rate': 2.977021276595745e-05,\n",
       "  'epoch': 12.6,\n",
       "  'step': 592},\n",
       " {'loss': 0.1335,\n",
       "  'learning_rate': 2.9719148936170215e-05,\n",
       "  'epoch': 12.62,\n",
       "  'step': 593},\n",
       " {'loss': 0.1421,\n",
       "  'learning_rate': 2.9668085106382978e-05,\n",
       "  'epoch': 12.64,\n",
       "  'step': 594},\n",
       " {'loss': 0.1529,\n",
       "  'learning_rate': 2.9617021276595745e-05,\n",
       "  'epoch': 12.66,\n",
       "  'step': 595},\n",
       " {'loss': 0.161,\n",
       "  'learning_rate': 2.956595744680851e-05,\n",
       "  'epoch': 12.68,\n",
       "  'step': 596},\n",
       " {'loss': 0.1663,\n",
       "  'learning_rate': 2.9514893617021278e-05,\n",
       "  'epoch': 12.7,\n",
       "  'step': 597},\n",
       " {'loss': 0.3181,\n",
       "  'learning_rate': 2.9463829787234044e-05,\n",
       "  'epoch': 12.72,\n",
       "  'step': 598},\n",
       " {'loss': 0.3185,\n",
       "  'learning_rate': 2.9412765957446807e-05,\n",
       "  'epoch': 12.74,\n",
       "  'step': 599},\n",
       " {'loss': 0.2165,\n",
       "  'learning_rate': 2.9361702127659574e-05,\n",
       "  'epoch': 12.77,\n",
       "  'step': 600},\n",
       " {'eval_loss': 0.09696663171052933,\n",
       "  'eval_mean_iou': 0.20139488747877468,\n",
       "  'eval_mean_accuracy': 0.2278796271141492,\n",
       "  'eval_overall_accuracy': 0.9877140768643083,\n",
       "  'eval_per_category_iou': [0.0,\n",
       "   0.9903216095539593,\n",
       "   0.6483004119230644,\n",
       "   0.0,\n",
       "   0.0,\n",
       "   0.0,\n",
       "   0.0,\n",
       "   0.14790096133895844,\n",
       "   0.2584715868378989,\n",
       "   0.5507411819753569,\n",
       "   0.022397785594833054,\n",
       "   0.0,\n",
       "   0.0],\n",
       "  'eval_per_category_accuracy': [0.0,\n",
       "   0.9990549366866486,\n",
       "   0.8287511013596393,\n",
       "   0.0,\n",
       "   0.0,\n",
       "   0.0,\n",
       "   0.0,\n",
       "   0.1601013188924797,\n",
       "   0.33506242966614863,\n",
       "   0.6151502459311097,\n",
       "   0.02431511994791406,\n",
       "   0.0,\n",
       "   0.0],\n",
       "  'eval_runtime': 338.415,\n",
       "  'eval_samples_per_second': 0.686,\n",
       "  'eval_steps_per_second': 0.071,\n",
       "  'epoch': 12.77,\n",
       "  'step': 600},\n",
       " {'loss': 0.1368,\n",
       "  'learning_rate': 2.931063829787234e-05,\n",
       "  'epoch': 12.79,\n",
       "  'step': 601},\n",
       " {'loss': 0.2108,\n",
       "  'learning_rate': 2.9259574468085107e-05,\n",
       "  'epoch': 12.81,\n",
       "  'step': 602},\n",
       " {'loss': 0.149,\n",
       "  'learning_rate': 2.9208510638297873e-05,\n",
       "  'epoch': 12.83,\n",
       "  'step': 603},\n",
       " {'loss': 0.2027,\n",
       "  'learning_rate': 2.915744680851064e-05,\n",
       "  'epoch': 12.85,\n",
       "  'step': 604},\n",
       " {'loss': 0.166,\n",
       "  'learning_rate': 2.9106382978723403e-05,\n",
       "  'epoch': 12.87,\n",
       "  'step': 605},\n",
       " {'loss': 0.1311,\n",
       "  'learning_rate': 2.905531914893617e-05,\n",
       "  'epoch': 12.89,\n",
       "  'step': 606},\n",
       " {'loss': 0.1647,\n",
       "  'learning_rate': 2.9004255319148936e-05,\n",
       "  'epoch': 12.91,\n",
       "  'step': 607},\n",
       " {'loss': 0.3993,\n",
       "  'learning_rate': 2.8953191489361703e-05,\n",
       "  'epoch': 12.94,\n",
       "  'step': 608},\n",
       " {'loss': 0.1926,\n",
       "  'learning_rate': 2.890212765957447e-05,\n",
       "  'epoch': 12.96,\n",
       "  'step': 609},\n",
       " {'loss': 0.173,\n",
       "  'learning_rate': 2.8851063829787232e-05,\n",
       "  'epoch': 12.98,\n",
       "  'step': 610},\n",
       " {'loss': 0.1339, 'learning_rate': 2.88e-05, 'epoch': 13.0, 'step': 611},\n",
       " {'loss': 0.0975,\n",
       "  'learning_rate': 2.8748936170212765e-05,\n",
       "  'epoch': 13.02,\n",
       "  'step': 612},\n",
       " {'loss': 0.132,\n",
       "  'learning_rate': 2.8697872340425532e-05,\n",
       "  'epoch': 13.04,\n",
       "  'step': 613},\n",
       " {'loss': 0.16,\n",
       "  'learning_rate': 2.8646808510638298e-05,\n",
       "  'epoch': 13.06,\n",
       "  'step': 614},\n",
       " {'loss': 0.1654,\n",
       "  'learning_rate': 2.8595744680851065e-05,\n",
       "  'epoch': 13.09,\n",
       "  'step': 615},\n",
       " {'loss': 0.2952,\n",
       "  'learning_rate': 2.8544680851063828e-05,\n",
       "  'epoch': 13.11,\n",
       "  'step': 616},\n",
       " {'loss': 0.2611,\n",
       "  'learning_rate': 2.8493617021276594e-05,\n",
       "  'epoch': 13.13,\n",
       "  'step': 617},\n",
       " {'loss': 0.1725,\n",
       "  'learning_rate': 2.844255319148936e-05,\n",
       "  'epoch': 13.15,\n",
       "  'step': 618},\n",
       " {'loss': 0.222,\n",
       "  'learning_rate': 2.8391489361702127e-05,\n",
       "  'epoch': 13.17,\n",
       "  'step': 619},\n",
       " {'loss': 0.093,\n",
       "  'learning_rate': 2.8340425531914894e-05,\n",
       "  'epoch': 13.19,\n",
       "  'step': 620},\n",
       " {'loss': 0.103,\n",
       "  'learning_rate': 2.828936170212766e-05,\n",
       "  'epoch': 13.21,\n",
       "  'step': 621},\n",
       " {'loss': 0.2169,\n",
       "  'learning_rate': 2.8238297872340424e-05,\n",
       "  'epoch': 13.23,\n",
       "  'step': 622},\n",
       " {'loss': 0.0878,\n",
       "  'learning_rate': 2.818723404255319e-05,\n",
       "  'epoch': 13.26,\n",
       "  'step': 623},\n",
       " {'loss': 0.4478,\n",
       "  'learning_rate': 2.8136170212765957e-05,\n",
       "  'epoch': 13.28,\n",
       "  'step': 624},\n",
       " {'loss': 0.4439,\n",
       "  'learning_rate': 2.8085106382978723e-05,\n",
       "  'epoch': 13.3,\n",
       "  'step': 625},\n",
       " {'loss': 0.1819,\n",
       "  'learning_rate': 2.803404255319149e-05,\n",
       "  'epoch': 13.32,\n",
       "  'step': 626},\n",
       " {'loss': 0.1,\n",
       "  'learning_rate': 2.7982978723404253e-05,\n",
       "  'epoch': 13.34,\n",
       "  'step': 627},\n",
       " {'loss': 0.141,\n",
       "  'learning_rate': 2.793191489361702e-05,\n",
       "  'epoch': 13.36,\n",
       "  'step': 628},\n",
       " {'loss': 0.1172,\n",
       "  'learning_rate': 2.7880851063829786e-05,\n",
       "  'epoch': 13.38,\n",
       "  'step': 629},\n",
       " {'loss': 0.4378,\n",
       "  'learning_rate': 2.7829787234042556e-05,\n",
       "  'epoch': 13.4,\n",
       "  'step': 630},\n",
       " {'loss': 0.1426,\n",
       "  'learning_rate': 2.7778723404255322e-05,\n",
       "  'epoch': 13.43,\n",
       "  'step': 631},\n",
       " {'loss': 0.1988,\n",
       "  'learning_rate': 2.772765957446809e-05,\n",
       "  'epoch': 13.45,\n",
       "  'step': 632},\n",
       " {'loss': 0.1587,\n",
       "  'learning_rate': 2.7676595744680852e-05,\n",
       "  'epoch': 13.47,\n",
       "  'step': 633},\n",
       " {'loss': 0.1087,\n",
       "  'learning_rate': 2.762553191489362e-05,\n",
       "  'epoch': 13.49,\n",
       "  'step': 634},\n",
       " {'loss': 0.4491,\n",
       "  'learning_rate': 2.7574468085106385e-05,\n",
       "  'epoch': 13.51,\n",
       "  'step': 635},\n",
       " {'loss': 0.1223,\n",
       "  'learning_rate': 2.752340425531915e-05,\n",
       "  'epoch': 13.53,\n",
       "  'step': 636},\n",
       " {'loss': 0.1649,\n",
       "  'learning_rate': 2.7472340425531918e-05,\n",
       "  'epoch': 13.55,\n",
       "  'step': 637},\n",
       " {'loss': 0.2088,\n",
       "  'learning_rate': 2.7421276595744685e-05,\n",
       "  'epoch': 13.57,\n",
       "  'step': 638},\n",
       " {'loss': 0.2412,\n",
       "  'learning_rate': 2.7370212765957448e-05,\n",
       "  'epoch': 13.6,\n",
       "  'step': 639},\n",
       " {'loss': 0.231,\n",
       "  'learning_rate': 2.7319148936170214e-05,\n",
       "  'epoch': 13.62,\n",
       "  'step': 640},\n",
       " {'loss': 0.1011,\n",
       "  'learning_rate': 2.726808510638298e-05,\n",
       "  'epoch': 13.64,\n",
       "  'step': 641},\n",
       " {'loss': 0.4243,\n",
       "  'learning_rate': 2.7217021276595747e-05,\n",
       "  'epoch': 13.66,\n",
       "  'step': 642},\n",
       " {'loss': 0.1437,\n",
       "  'learning_rate': 2.7165957446808514e-05,\n",
       "  'epoch': 13.68,\n",
       "  'step': 643},\n",
       " {'loss': 0.0855,\n",
       "  'learning_rate': 2.7114893617021277e-05,\n",
       "  'epoch': 13.7,\n",
       "  'step': 644},\n",
       " {'loss': 0.1183,\n",
       "  'learning_rate': 2.7063829787234043e-05,\n",
       "  'epoch': 13.72,\n",
       "  'step': 645},\n",
       " {'loss': 0.2178,\n",
       "  'learning_rate': 2.701276595744681e-05,\n",
       "  'epoch': 13.74,\n",
       "  'step': 646},\n",
       " {'loss': 0.1423,\n",
       "  'learning_rate': 2.6961702127659576e-05,\n",
       "  'epoch': 13.77,\n",
       "  'step': 647},\n",
       " {'loss': 0.1196,\n",
       "  'learning_rate': 2.6910638297872343e-05,\n",
       "  'epoch': 13.79,\n",
       "  'step': 648},\n",
       " {'loss': 0.1459,\n",
       "  'learning_rate': 2.685957446808511e-05,\n",
       "  'epoch': 13.81,\n",
       "  'step': 649},\n",
       " {'loss': 0.1624,\n",
       "  'learning_rate': 2.6808510638297873e-05,\n",
       "  'epoch': 13.83,\n",
       "  'step': 650},\n",
       " {'loss': 0.2129,\n",
       "  'learning_rate': 2.675744680851064e-05,\n",
       "  'epoch': 13.85,\n",
       "  'step': 651},\n",
       " {'loss': 0.4072,\n",
       "  'learning_rate': 2.6706382978723406e-05,\n",
       "  'epoch': 13.87,\n",
       "  'step': 652},\n",
       " {'loss': 0.1,\n",
       "  'learning_rate': 2.6655319148936172e-05,\n",
       "  'epoch': 13.89,\n",
       "  'step': 653},\n",
       " {'loss': 0.1835,\n",
       "  'learning_rate': 2.660425531914894e-05,\n",
       "  'epoch': 13.91,\n",
       "  'step': 654},\n",
       " {'loss': 0.3923,\n",
       "  'learning_rate': 2.6553191489361702e-05,\n",
       "  'epoch': 13.94,\n",
       "  'step': 655},\n",
       " {'loss': 0.1257,\n",
       "  'learning_rate': 2.650212765957447e-05,\n",
       "  'epoch': 13.96,\n",
       "  'step': 656},\n",
       " {'loss': 0.2261,\n",
       "  'learning_rate': 2.6451063829787235e-05,\n",
       "  'epoch': 13.98,\n",
       "  'step': 657},\n",
       " {'loss': 0.0952, 'learning_rate': 2.64e-05, 'epoch': 14.0, 'step': 658},\n",
       " {'loss': 0.3145,\n",
       "  'learning_rate': 2.6348936170212768e-05,\n",
       "  'epoch': 14.02,\n",
       "  'step': 659},\n",
       " {'loss': 0.1596,\n",
       "  'learning_rate': 2.6297872340425534e-05,\n",
       "  'epoch': 14.04,\n",
       "  'step': 660},\n",
       " {'loss': 0.106,\n",
       "  'learning_rate': 2.6246808510638298e-05,\n",
       "  'epoch': 14.06,\n",
       "  'step': 661},\n",
       " {'loss': 0.2149,\n",
       "  'learning_rate': 2.6195744680851064e-05,\n",
       "  'epoch': 14.09,\n",
       "  'step': 662},\n",
       " {'loss': 0.3426,\n",
       "  'learning_rate': 2.614468085106383e-05,\n",
       "  'epoch': 14.11,\n",
       "  'step': 663},\n",
       " {'loss': 0.1032,\n",
       "  'learning_rate': 2.6093617021276597e-05,\n",
       "  'epoch': 14.13,\n",
       "  'step': 664},\n",
       " {'loss': 0.0989,\n",
       "  'learning_rate': 2.6042553191489364e-05,\n",
       "  'epoch': 14.15,\n",
       "  'step': 665},\n",
       " {'loss': 0.0912,\n",
       "  'learning_rate': 2.599148936170213e-05,\n",
       "  'epoch': 14.17,\n",
       "  'step': 666},\n",
       " {'loss': 0.1003,\n",
       "  'learning_rate': 2.5940425531914893e-05,\n",
       "  'epoch': 14.19,\n",
       "  'step': 667},\n",
       " {'loss': 0.0929,\n",
       "  'learning_rate': 2.588936170212766e-05,\n",
       "  'epoch': 14.21,\n",
       "  'step': 668},\n",
       " {'loss': 0.135,\n",
       "  'learning_rate': 2.5838297872340426e-05,\n",
       "  'epoch': 14.23,\n",
       "  'step': 669},\n",
       " {'loss': 0.0733,\n",
       "  'learning_rate': 2.5787234042553193e-05,\n",
       "  'epoch': 14.26,\n",
       "  'step': 670},\n",
       " {'loss': 0.1105,\n",
       "  'learning_rate': 2.573617021276596e-05,\n",
       "  'epoch': 14.28,\n",
       "  'step': 671},\n",
       " {'loss': 0.1177,\n",
       "  'learning_rate': 2.5685106382978722e-05,\n",
       "  'epoch': 14.3,\n",
       "  'step': 672},\n",
       " {'loss': 0.0763,\n",
       "  'learning_rate': 2.563404255319149e-05,\n",
       "  'epoch': 14.32,\n",
       "  'step': 673},\n",
       " {'loss': 0.3694,\n",
       "  'learning_rate': 2.5582978723404255e-05,\n",
       "  'epoch': 14.34,\n",
       "  'step': 674},\n",
       " {'loss': 0.2008,\n",
       "  'learning_rate': 2.5531914893617022e-05,\n",
       "  'epoch': 14.36,\n",
       "  'step': 675},\n",
       " {'loss': 0.1201,\n",
       "  'learning_rate': 2.548085106382979e-05,\n",
       "  'epoch': 14.38,\n",
       "  'step': 676},\n",
       " {'loss': 0.2447,\n",
       "  'learning_rate': 2.5429787234042555e-05,\n",
       "  'epoch': 14.4,\n",
       "  'step': 677},\n",
       " {'loss': 0.1504,\n",
       "  'learning_rate': 2.5378723404255318e-05,\n",
       "  'epoch': 14.43,\n",
       "  'step': 678},\n",
       " {'loss': 0.2148,\n",
       "  'learning_rate': 2.5327659574468085e-05,\n",
       "  'epoch': 14.45,\n",
       "  'step': 679},\n",
       " {'loss': 0.1369,\n",
       "  'learning_rate': 2.527659574468085e-05,\n",
       "  'epoch': 14.47,\n",
       "  'step': 680},\n",
       " {'loss': 0.0936,\n",
       "  'learning_rate': 2.5225531914893618e-05,\n",
       "  'epoch': 14.49,\n",
       "  'step': 681},\n",
       " {'loss': 0.3234,\n",
       "  'learning_rate': 2.5174468085106384e-05,\n",
       "  'epoch': 14.51,\n",
       "  'step': 682},\n",
       " {'loss': 0.351,\n",
       "  'learning_rate': 2.512340425531915e-05,\n",
       "  'epoch': 14.53,\n",
       "  'step': 683},\n",
       " {'loss': 0.0839,\n",
       "  'learning_rate': 2.5072340425531914e-05,\n",
       "  'epoch': 14.55,\n",
       "  'step': 684},\n",
       " {'loss': 0.1094,\n",
       "  'learning_rate': 2.502127659574468e-05,\n",
       "  'epoch': 14.57,\n",
       "  'step': 685},\n",
       " {'loss': 0.0806,\n",
       "  'learning_rate': 2.4970212765957447e-05,\n",
       "  'epoch': 14.6,\n",
       "  'step': 686},\n",
       " {'loss': 0.1039,\n",
       "  'learning_rate': 2.4919148936170213e-05,\n",
       "  'epoch': 14.62,\n",
       "  'step': 687},\n",
       " {'loss': 0.1209,\n",
       "  'learning_rate': 2.486808510638298e-05,\n",
       "  'epoch': 14.64,\n",
       "  'step': 688},\n",
       " {'loss': 0.6351,\n",
       "  'learning_rate': 2.4817021276595743e-05,\n",
       "  'epoch': 14.66,\n",
       "  'step': 689},\n",
       " {'loss': 0.096,\n",
       "  'learning_rate': 2.476595744680851e-05,\n",
       "  'epoch': 14.68,\n",
       "  'step': 690},\n",
       " {'loss': 0.1007,\n",
       "  'learning_rate': 2.4714893617021276e-05,\n",
       "  'epoch': 14.7,\n",
       "  'step': 691},\n",
       " {'loss': 0.0848,\n",
       "  'learning_rate': 2.4663829787234043e-05,\n",
       "  'epoch': 14.72,\n",
       "  'step': 692},\n",
       " {'loss': 0.1877,\n",
       "  'learning_rate': 2.461276595744681e-05,\n",
       "  'epoch': 14.74,\n",
       "  'step': 693},\n",
       " {'loss': 0.1953,\n",
       "  'learning_rate': 2.4561702127659576e-05,\n",
       "  'epoch': 14.77,\n",
       "  'step': 694},\n",
       " {'loss': 0.103,\n",
       "  'learning_rate': 2.451063829787234e-05,\n",
       "  'epoch': 14.79,\n",
       "  'step': 695},\n",
       " {'loss': 0.3024,\n",
       "  'learning_rate': 2.4459574468085105e-05,\n",
       "  'epoch': 14.81,\n",
       "  'step': 696},\n",
       " {'loss': 0.1002,\n",
       "  'learning_rate': 2.4408510638297872e-05,\n",
       "  'epoch': 14.83,\n",
       "  'step': 697},\n",
       " {'loss': 0.092,\n",
       "  'learning_rate': 2.435744680851064e-05,\n",
       "  'epoch': 14.85,\n",
       "  'step': 698},\n",
       " {'loss': 0.2464,\n",
       "  'learning_rate': 2.4306382978723405e-05,\n",
       "  'epoch': 14.87,\n",
       "  'step': 699},\n",
       " {'loss': 0.0792,\n",
       "  'learning_rate': 2.4255319148936168e-05,\n",
       "  'epoch': 14.89,\n",
       "  'step': 700},\n",
       " {'eval_loss': 0.08130359649658203,\n",
       "  'eval_mean_iou': 0.2223640657426662,\n",
       "  'eval_mean_accuracy': 0.2519412450745275,\n",
       "  'eval_overall_accuracy': 0.9890100380470013,\n",
       "  'eval_per_category_iou': [0.0,\n",
       "   0.9916783170882698,\n",
       "   0.6692012199626413,\n",
       "   0.0,\n",
       "   0.0,\n",
       "   0.0,\n",
       "   0.0,\n",
       "   0.1542245541724406,\n",
       "   0.28939867682301923,\n",
       "   0.7434811493107457,\n",
       "   0.04274893729754464,\n",
       "   0.0,\n",
       "   0.0],\n",
       "  'eval_per_category_accuracy': [0.0,\n",
       "   0.999000360551564,\n",
       "   0.8764093084325277,\n",
       "   0.0,\n",
       "   0.0,\n",
       "   0.0,\n",
       "   0.0,\n",
       "   0.16247624038697495,\n",
       "   0.39646321204651414,\n",
       "   0.7964387247906713,\n",
       "   0.044448339760605,\n",
       "   0.0,\n",
       "   0.0],\n",
       "  'eval_runtime': 338.5433,\n",
       "  'eval_samples_per_second': 0.685,\n",
       "  'eval_steps_per_second': 0.071,\n",
       "  'epoch': 14.89,\n",
       "  'step': 700},\n",
       " {'loss': 0.1596,\n",
       "  'learning_rate': 2.4204255319148935e-05,\n",
       "  'epoch': 14.91,\n",
       "  'step': 701},\n",
       " {'loss': 0.1889,\n",
       "  'learning_rate': 2.41531914893617e-05,\n",
       "  'epoch': 14.94,\n",
       "  'step': 702},\n",
       " {'loss': 0.0866,\n",
       "  'learning_rate': 2.4102127659574468e-05,\n",
       "  'epoch': 14.96,\n",
       "  'step': 703},\n",
       " {'loss': 0.1379,\n",
       "  'learning_rate': 2.4051063829787234e-05,\n",
       "  'epoch': 14.98,\n",
       "  'step': 704},\n",
       " {'loss': 0.4694, 'learning_rate': 2.4e-05, 'epoch': 15.0, 'step': 705},\n",
       " {'loss': 0.0606,\n",
       "  'learning_rate': 2.3948936170212764e-05,\n",
       "  'epoch': 15.02,\n",
       "  'step': 706},\n",
       " {'loss': 0.1727,\n",
       "  'learning_rate': 2.389787234042553e-05,\n",
       "  'epoch': 15.04,\n",
       "  'step': 707},\n",
       " {'loss': 0.0925,\n",
       "  'learning_rate': 2.3846808510638297e-05,\n",
       "  'epoch': 15.06,\n",
       "  'step': 708},\n",
       " {'loss': 0.1203,\n",
       "  'learning_rate': 2.3795744680851063e-05,\n",
       "  'epoch': 15.09,\n",
       "  'step': 709},\n",
       " {'loss': 0.1404,\n",
       "  'learning_rate': 2.374468085106383e-05,\n",
       "  'epoch': 15.11,\n",
       "  'step': 710},\n",
       " {'loss': 0.1288,\n",
       "  'learning_rate': 2.3693617021276596e-05,\n",
       "  'epoch': 15.13,\n",
       "  'step': 711},\n",
       " {'loss': 0.1535,\n",
       "  'learning_rate': 2.364255319148936e-05,\n",
       "  'epoch': 15.15,\n",
       "  'step': 712},\n",
       " {'loss': 0.2214,\n",
       "  'learning_rate': 2.3591489361702126e-05,\n",
       "  'epoch': 15.17,\n",
       "  'step': 713},\n",
       " {'loss': 0.218,\n",
       "  'learning_rate': 2.3540425531914896e-05,\n",
       "  'epoch': 15.19,\n",
       "  'step': 714},\n",
       " {'loss': 0.1626,\n",
       "  'learning_rate': 2.3489361702127662e-05,\n",
       "  'epoch': 15.21,\n",
       "  'step': 715},\n",
       " {'loss': 0.1156,\n",
       "  'learning_rate': 2.343829787234043e-05,\n",
       "  'epoch': 15.23,\n",
       "  'step': 716},\n",
       " {'loss': 0.2477,\n",
       "  'learning_rate': 2.3387234042553192e-05,\n",
       "  'epoch': 15.26,\n",
       "  'step': 717},\n",
       " {'loss': 0.1168,\n",
       "  'learning_rate': 2.333617021276596e-05,\n",
       "  'epoch': 15.28,\n",
       "  'step': 718},\n",
       " {'loss': 0.1683,\n",
       "  'learning_rate': 2.3285106382978725e-05,\n",
       "  'epoch': 15.3,\n",
       "  'step': 719},\n",
       " {'loss': 0.2115,\n",
       "  'learning_rate': 2.323404255319149e-05,\n",
       "  'epoch': 15.32,\n",
       "  'step': 720},\n",
       " {'loss': 0.2974,\n",
       "  'learning_rate': 2.3182978723404258e-05,\n",
       "  'epoch': 15.34,\n",
       "  'step': 721},\n",
       " {'loss': 0.0913,\n",
       "  'learning_rate': 2.3131914893617025e-05,\n",
       "  'epoch': 15.36,\n",
       "  'step': 722},\n",
       " {'loss': 0.1534,\n",
       "  'learning_rate': 2.3080851063829788e-05,\n",
       "  'epoch': 15.38,\n",
       "  'step': 723},\n",
       " {'loss': 0.0983,\n",
       "  'learning_rate': 2.3029787234042554e-05,\n",
       "  'epoch': 15.4,\n",
       "  'step': 724},\n",
       " {'loss': 0.1196,\n",
       "  'learning_rate': 2.297872340425532e-05,\n",
       "  'epoch': 15.43,\n",
       "  'step': 725},\n",
       " {'loss': 0.0794,\n",
       "  'learning_rate': 2.2927659574468087e-05,\n",
       "  'epoch': 15.45,\n",
       "  'step': 726},\n",
       " {'loss': 0.1016,\n",
       "  'learning_rate': 2.2876595744680854e-05,\n",
       "  'epoch': 15.47,\n",
       "  'step': 727},\n",
       " {'loss': 0.0801,\n",
       "  'learning_rate': 2.282553191489362e-05,\n",
       "  'epoch': 15.49,\n",
       "  'step': 728},\n",
       " {'loss': 0.0824,\n",
       "  'learning_rate': 2.2774468085106383e-05,\n",
       "  'epoch': 15.51,\n",
       "  'step': 729},\n",
       " {'loss': 0.2513,\n",
       "  'learning_rate': 2.272340425531915e-05,\n",
       "  'epoch': 15.53,\n",
       "  'step': 730},\n",
       " {'loss': 0.1119,\n",
       "  'learning_rate': 2.2672340425531917e-05,\n",
       "  'epoch': 15.55,\n",
       "  'step': 731},\n",
       " {'loss': 0.1106,\n",
       "  'learning_rate': 2.2621276595744683e-05,\n",
       "  'epoch': 15.57,\n",
       "  'step': 732},\n",
       " {'loss': 0.486,\n",
       "  'learning_rate': 2.257021276595745e-05,\n",
       "  'epoch': 15.6,\n",
       "  'step': 733},\n",
       " {'loss': 0.084,\n",
       "  'learning_rate': 2.2519148936170213e-05,\n",
       "  'epoch': 15.62,\n",
       "  'step': 734},\n",
       " {'loss': 0.1208,\n",
       "  'learning_rate': 2.246808510638298e-05,\n",
       "  'epoch': 15.64,\n",
       "  'step': 735},\n",
       " {'loss': 0.6162,\n",
       "  'learning_rate': 2.2417021276595746e-05,\n",
       "  'epoch': 15.66,\n",
       "  'step': 736},\n",
       " {'loss': 0.5525,\n",
       "  'learning_rate': 2.2365957446808512e-05,\n",
       "  'epoch': 15.68,\n",
       "  'step': 737},\n",
       " {'loss': 0.1166,\n",
       "  'learning_rate': 2.231489361702128e-05,\n",
       "  'epoch': 15.7,\n",
       "  'step': 738},\n",
       " {'loss': 0.1047,\n",
       "  'learning_rate': 2.2263829787234045e-05,\n",
       "  'epoch': 15.72,\n",
       "  'step': 739},\n",
       " {'loss': 0.093,\n",
       "  'learning_rate': 2.221276595744681e-05,\n",
       "  'epoch': 15.74,\n",
       "  'step': 740},\n",
       " {'loss': 0.0895,\n",
       "  'learning_rate': 2.2161702127659575e-05,\n",
       "  'epoch': 15.77,\n",
       "  'step': 741},\n",
       " {'loss': 0.0928,\n",
       "  'learning_rate': 2.211063829787234e-05,\n",
       "  'epoch': 15.79,\n",
       "  'step': 742},\n",
       " {'loss': 0.2181,\n",
       "  'learning_rate': 2.2059574468085108e-05,\n",
       "  'epoch': 15.81,\n",
       "  'step': 743},\n",
       " {'loss': 0.0893,\n",
       "  'learning_rate': 2.2008510638297874e-05,\n",
       "  'epoch': 15.83,\n",
       "  'step': 744},\n",
       " {'loss': 0.0849,\n",
       "  'learning_rate': 2.1957446808510638e-05,\n",
       "  'epoch': 15.85,\n",
       "  'step': 745},\n",
       " {'loss': 0.0983,\n",
       "  'learning_rate': 2.1906382978723404e-05,\n",
       "  'epoch': 15.87,\n",
       "  'step': 746},\n",
       " {'loss': 0.1754,\n",
       "  'learning_rate': 2.185531914893617e-05,\n",
       "  'epoch': 15.89,\n",
       "  'step': 747},\n",
       " {'loss': 0.1019,\n",
       "  'learning_rate': 2.1804255319148937e-05,\n",
       "  'epoch': 15.91,\n",
       "  'step': 748},\n",
       " {'loss': 0.1922,\n",
       "  'learning_rate': 2.1753191489361704e-05,\n",
       "  'epoch': 15.94,\n",
       "  'step': 749},\n",
       " {'loss': 0.154,\n",
       "  'learning_rate': 2.170212765957447e-05,\n",
       "  'epoch': 15.96,\n",
       "  'step': 750},\n",
       " {'loss': 0.1117,\n",
       "  'learning_rate': 2.1651063829787233e-05,\n",
       "  'epoch': 15.98,\n",
       "  'step': 751},\n",
       " {'loss': 0.1509, 'learning_rate': 2.16e-05, 'epoch': 16.0, 'step': 752},\n",
       " {'loss': 0.2346,\n",
       "  'learning_rate': 2.1548936170212766e-05,\n",
       "  'epoch': 16.02,\n",
       "  'step': 753},\n",
       " {'loss': 0.8789,\n",
       "  'learning_rate': 2.1497872340425533e-05,\n",
       "  'epoch': 16.04,\n",
       "  'step': 754},\n",
       " {'loss': 0.0619,\n",
       "  'learning_rate': 2.14468085106383e-05,\n",
       "  'epoch': 16.06,\n",
       "  'step': 755},\n",
       " {'loss': 0.1135,\n",
       "  'learning_rate': 2.1395744680851066e-05,\n",
       "  'epoch': 16.09,\n",
       "  'step': 756},\n",
       " {'loss': 0.0953,\n",
       "  'learning_rate': 2.134468085106383e-05,\n",
       "  'epoch': 16.11,\n",
       "  'step': 757},\n",
       " {'loss': 0.1427,\n",
       "  'learning_rate': 2.1293617021276596e-05,\n",
       "  'epoch': 16.13,\n",
       "  'step': 758},\n",
       " {'loss': 0.0742,\n",
       "  'learning_rate': 2.1242553191489362e-05,\n",
       "  'epoch': 16.15,\n",
       "  'step': 759},\n",
       " {'loss': 0.0777,\n",
       "  'learning_rate': 2.119148936170213e-05,\n",
       "  'epoch': 16.17,\n",
       "  'step': 760},\n",
       " {'loss': 0.0819,\n",
       "  'learning_rate': 2.1140425531914895e-05,\n",
       "  'epoch': 16.19,\n",
       "  'step': 761},\n",
       " {'loss': 0.1878,\n",
       "  'learning_rate': 2.1089361702127658e-05,\n",
       "  'epoch': 16.21,\n",
       "  'step': 762},\n",
       " {'loss': 0.2647,\n",
       "  'learning_rate': 2.1038297872340425e-05,\n",
       "  'epoch': 16.23,\n",
       "  'step': 763},\n",
       " {'loss': 0.1509,\n",
       "  'learning_rate': 2.098723404255319e-05,\n",
       "  'epoch': 16.26,\n",
       "  'step': 764},\n",
       " {'loss': 0.1019,\n",
       "  'learning_rate': 2.0936170212765958e-05,\n",
       "  'epoch': 16.28,\n",
       "  'step': 765},\n",
       " {'loss': 0.1062,\n",
       "  'learning_rate': 2.0885106382978724e-05,\n",
       "  'epoch': 16.3,\n",
       "  'step': 766},\n",
       " {'loss': 0.3086,\n",
       "  'learning_rate': 2.083404255319149e-05,\n",
       "  'epoch': 16.32,\n",
       "  'step': 767},\n",
       " {'loss': 0.109,\n",
       "  'learning_rate': 2.0782978723404254e-05,\n",
       "  'epoch': 16.34,\n",
       "  'step': 768},\n",
       " {'loss': 0.1121,\n",
       "  'learning_rate': 2.073191489361702e-05,\n",
       "  'epoch': 16.36,\n",
       "  'step': 769},\n",
       " {'loss': 0.0883,\n",
       "  'learning_rate': 2.0680851063829787e-05,\n",
       "  'epoch': 16.38,\n",
       "  'step': 770},\n",
       " {'loss': 0.2302,\n",
       "  'learning_rate': 2.0629787234042554e-05,\n",
       "  'epoch': 16.4,\n",
       "  'step': 771},\n",
       " {'loss': 0.313,\n",
       "  'learning_rate': 2.057872340425532e-05,\n",
       "  'epoch': 16.43,\n",
       "  'step': 772},\n",
       " {'loss': 0.0955,\n",
       "  'learning_rate': 2.0527659574468087e-05,\n",
       "  'epoch': 16.45,\n",
       "  'step': 773},\n",
       " {'loss': 0.101,\n",
       "  'learning_rate': 2.047659574468085e-05,\n",
       "  'epoch': 16.47,\n",
       "  'step': 774},\n",
       " {'loss': 0.0729,\n",
       "  'learning_rate': 2.0425531914893616e-05,\n",
       "  'epoch': 16.49,\n",
       "  'step': 775},\n",
       " {'loss': 0.122,\n",
       "  'learning_rate': 2.0374468085106383e-05,\n",
       "  'epoch': 16.51,\n",
       "  'step': 776},\n",
       " {'loss': 0.2256,\n",
       "  'learning_rate': 2.032340425531915e-05,\n",
       "  'epoch': 16.53,\n",
       "  'step': 777},\n",
       " {'loss': 0.2972,\n",
       "  'learning_rate': 2.0272340425531916e-05,\n",
       "  'epoch': 16.55,\n",
       "  'step': 778},\n",
       " {'loss': 0.0846,\n",
       "  'learning_rate': 2.022127659574468e-05,\n",
       "  'epoch': 16.57,\n",
       "  'step': 779},\n",
       " {'loss': 0.0597,\n",
       "  'learning_rate': 2.0170212765957445e-05,\n",
       "  'epoch': 16.6,\n",
       "  'step': 780},\n",
       " {'loss': 0.4458,\n",
       "  'learning_rate': 2.0119148936170212e-05,\n",
       "  'epoch': 16.62,\n",
       "  'step': 781},\n",
       " {'loss': 0.1172,\n",
       "  'learning_rate': 2.006808510638298e-05,\n",
       "  'epoch': 16.64,\n",
       "  'step': 782},\n",
       " {'loss': 0.0696,\n",
       "  'learning_rate': 2.0017021276595745e-05,\n",
       "  'epoch': 16.66,\n",
       "  'step': 783},\n",
       " {'loss': 0.1704,\n",
       "  'learning_rate': 1.996595744680851e-05,\n",
       "  'epoch': 16.68,\n",
       "  'step': 784},\n",
       " {'loss': 0.1485,\n",
       "  'learning_rate': 1.9914893617021275e-05,\n",
       "  'epoch': 16.7,\n",
       "  'step': 785},\n",
       " {'loss': 0.0811,\n",
       "  'learning_rate': 1.986382978723404e-05,\n",
       "  'epoch': 16.72,\n",
       "  'step': 786},\n",
       " {'loss': 0.0797,\n",
       "  'learning_rate': 1.9812765957446808e-05,\n",
       "  'epoch': 16.74,\n",
       "  'step': 787},\n",
       " {'loss': 0.2906,\n",
       "  'learning_rate': 1.9761702127659574e-05,\n",
       "  'epoch': 16.77,\n",
       "  'step': 788},\n",
       " {'loss': 0.1447,\n",
       "  'learning_rate': 1.971063829787234e-05,\n",
       "  'epoch': 16.79,\n",
       "  'step': 789},\n",
       " {'loss': 0.1508,\n",
       "  'learning_rate': 1.9659574468085104e-05,\n",
       "  'epoch': 16.81,\n",
       "  'step': 790},\n",
       " {'loss': 0.1061,\n",
       "  'learning_rate': 1.960851063829787e-05,\n",
       "  'epoch': 16.83,\n",
       "  'step': 791},\n",
       " {'loss': 0.2049,\n",
       "  'learning_rate': 1.9557446808510637e-05,\n",
       "  'epoch': 16.85,\n",
       "  'step': 792},\n",
       " {'loss': 0.1022,\n",
       "  'learning_rate': 1.9506382978723403e-05,\n",
       "  'epoch': 16.87,\n",
       "  'step': 793},\n",
       " {'loss': 0.149,\n",
       "  'learning_rate': 1.945531914893617e-05,\n",
       "  'epoch': 16.89,\n",
       "  'step': 794},\n",
       " {'loss': 0.0764,\n",
       "  'learning_rate': 1.9404255319148936e-05,\n",
       "  'epoch': 16.91,\n",
       "  'step': 795},\n",
       " {'loss': 0.089,\n",
       "  'learning_rate': 1.93531914893617e-05,\n",
       "  'epoch': 16.94,\n",
       "  'step': 796},\n",
       " {'loss': 0.2673,\n",
       "  'learning_rate': 1.930212765957447e-05,\n",
       "  'epoch': 16.96,\n",
       "  'step': 797},\n",
       " {'loss': 0.1242,\n",
       "  'learning_rate': 1.9251063829787236e-05,\n",
       "  'epoch': 16.98,\n",
       "  'step': 798},\n",
       " {'loss': 0.0526,\n",
       "  'learning_rate': 1.9200000000000003e-05,\n",
       "  'epoch': 17.0,\n",
       "  'step': 799},\n",
       " {'loss': 0.1145,\n",
       "  'learning_rate': 1.914893617021277e-05,\n",
       "  'epoch': 17.02,\n",
       "  'step': 800},\n",
       " {'eval_loss': 0.06604732573032379,\n",
       "  'eval_mean_iou': 0.2606704910542478,\n",
       "  'eval_mean_accuracy': 0.28380660358253024,\n",
       "  'eval_overall_accuracy': 0.9907657360208446,\n",
       "  'eval_per_category_iou': [0.0,\n",
       "   0.9923442168129348,\n",
       "   0.8169654569304766,\n",
       "   0.0,\n",
       "   0.0,\n",
       "   0.0,\n",
       "   0.0,\n",
       "   0.4432943155425582,\n",
       "   0.3690520596070464,\n",
       "   0.7507755728723012,\n",
       "   0.016284761939903816,\n",
       "   0.0,\n",
       "   0.0],\n",
       "  'eval_per_category_accuracy': [0.0,\n",
       "   0.9989567768422114,\n",
       "   0.9038094086346595,\n",
       "   0.0,\n",
       "   0.0,\n",
       "   0.0,\n",
       "   0.0,\n",
       "   0.47789992055866803,\n",
       "   0.498383437829341,\n",
       "   0.79385895007617,\n",
       "   0.01657735263184254,\n",
       "   0.0,\n",
       "   0.0],\n",
       "  'eval_runtime': 341.2052,\n",
       "  'eval_samples_per_second': 0.68,\n",
       "  'eval_steps_per_second': 0.07,\n",
       "  'epoch': 17.02,\n",
       "  'step': 800},\n",
       " {'loss': 0.2953,\n",
       "  'learning_rate': 1.9097872340425536e-05,\n",
       "  'epoch': 17.04,\n",
       "  'step': 801},\n",
       " {'loss': 0.0686,\n",
       "  'learning_rate': 1.90468085106383e-05,\n",
       "  'epoch': 17.06,\n",
       "  'step': 802},\n",
       " {'loss': 0.2,\n",
       "  'learning_rate': 1.8995744680851065e-05,\n",
       "  'epoch': 17.09,\n",
       "  'step': 803},\n",
       " {'loss': 0.123,\n",
       "  'learning_rate': 1.8944680851063832e-05,\n",
       "  'epoch': 17.11,\n",
       "  'step': 804},\n",
       " {'loss': 0.2756,\n",
       "  'learning_rate': 1.8893617021276598e-05,\n",
       "  'epoch': 17.13,\n",
       "  'step': 805},\n",
       " {'loss': 0.0593,\n",
       "  'learning_rate': 1.8842553191489365e-05,\n",
       "  'epoch': 17.15,\n",
       "  'step': 806},\n",
       " {'loss': 0.1151,\n",
       "  'learning_rate': 1.8791489361702128e-05,\n",
       "  'epoch': 17.17,\n",
       "  'step': 807},\n",
       " {'loss': 0.1008,\n",
       "  'learning_rate': 1.8740425531914894e-05,\n",
       "  'epoch': 17.19,\n",
       "  'step': 808},\n",
       " {'loss': 0.1093,\n",
       "  'learning_rate': 1.868936170212766e-05,\n",
       "  'epoch': 17.21,\n",
       "  'step': 809},\n",
       " {'loss': 0.0819,\n",
       "  'learning_rate': 1.8638297872340427e-05,\n",
       "  'epoch': 17.23,\n",
       "  'step': 810},\n",
       " {'loss': 0.259,\n",
       "  'learning_rate': 1.8587234042553194e-05,\n",
       "  'epoch': 17.26,\n",
       "  'step': 811},\n",
       " {'loss': 0.2825,\n",
       "  'learning_rate': 1.853617021276596e-05,\n",
       "  'epoch': 17.28,\n",
       "  'step': 812},\n",
       " {'loss': 0.0688,\n",
       "  'learning_rate': 1.8485106382978724e-05,\n",
       "  'epoch': 17.3,\n",
       "  'step': 813},\n",
       " {'loss': 0.0753,\n",
       "  'learning_rate': 1.843404255319149e-05,\n",
       "  'epoch': 17.32,\n",
       "  'step': 814},\n",
       " {'loss': 0.3297,\n",
       "  'learning_rate': 1.8382978723404257e-05,\n",
       "  'epoch': 17.34,\n",
       "  'step': 815},\n",
       " {'loss': 0.1168,\n",
       "  'learning_rate': 1.8331914893617023e-05,\n",
       "  'epoch': 17.36,\n",
       "  'step': 816},\n",
       " {'loss': 0.2796,\n",
       "  'learning_rate': 1.828085106382979e-05,\n",
       "  'epoch': 17.38,\n",
       "  'step': 817},\n",
       " {'loss': 0.1036,\n",
       "  'learning_rate': 1.8229787234042556e-05,\n",
       "  'epoch': 17.4,\n",
       "  'step': 818},\n",
       " {'loss': 0.1296,\n",
       "  'learning_rate': 1.817872340425532e-05,\n",
       "  'epoch': 17.43,\n",
       "  'step': 819},\n",
       " {'loss': 0.15,\n",
       "  'learning_rate': 1.8127659574468086e-05,\n",
       "  'epoch': 17.45,\n",
       "  'step': 820},\n",
       " {'loss': 0.0874,\n",
       "  'learning_rate': 1.8076595744680852e-05,\n",
       "  'epoch': 17.47,\n",
       "  'step': 821},\n",
       " {'loss': 0.0669,\n",
       "  'learning_rate': 1.802553191489362e-05,\n",
       "  'epoch': 17.49,\n",
       "  'step': 822},\n",
       " {'loss': 0.0655,\n",
       "  'learning_rate': 1.7974468085106385e-05,\n",
       "  'epoch': 17.51,\n",
       "  'step': 823},\n",
       " {'loss': 0.1351,\n",
       "  'learning_rate': 1.792340425531915e-05,\n",
       "  'epoch': 17.53,\n",
       "  'step': 824},\n",
       " {'loss': 0.1121,\n",
       "  'learning_rate': 1.7872340425531915e-05,\n",
       "  'epoch': 17.55,\n",
       "  'step': 825},\n",
       " {'loss': 0.2712,\n",
       "  'learning_rate': 1.782127659574468e-05,\n",
       "  'epoch': 17.57,\n",
       "  'step': 826},\n",
       " {'loss': 0.1016,\n",
       "  'learning_rate': 1.7770212765957448e-05,\n",
       "  'epoch': 17.6,\n",
       "  'step': 827},\n",
       " {'loss': 0.0843,\n",
       "  'learning_rate': 1.7719148936170215e-05,\n",
       "  'epoch': 17.62,\n",
       "  'step': 828},\n",
       " {'loss': 0.1291,\n",
       "  'learning_rate': 1.766808510638298e-05,\n",
       "  'epoch': 17.64,\n",
       "  'step': 829},\n",
       " {'loss': 0.1453,\n",
       "  'learning_rate': 1.7617021276595744e-05,\n",
       "  'epoch': 17.66,\n",
       "  'step': 830},\n",
       " {'loss': 0.1197,\n",
       "  'learning_rate': 1.756595744680851e-05,\n",
       "  'epoch': 17.68,\n",
       "  'step': 831},\n",
       " {'loss': 0.0968,\n",
       "  'learning_rate': 1.7514893617021277e-05,\n",
       "  'epoch': 17.7,\n",
       "  'step': 832},\n",
       " {'loss': 0.1158,\n",
       "  'learning_rate': 1.7463829787234044e-05,\n",
       "  'epoch': 17.72,\n",
       "  'step': 833},\n",
       " {'loss': 0.1547,\n",
       "  'learning_rate': 1.741276595744681e-05,\n",
       "  'epoch': 17.74,\n",
       "  'step': 834},\n",
       " {'loss': 0.0774,\n",
       "  'learning_rate': 1.7361702127659573e-05,\n",
       "  'epoch': 17.77,\n",
       "  'step': 835},\n",
       " {'loss': 0.1857,\n",
       "  'learning_rate': 1.731063829787234e-05,\n",
       "  'epoch': 17.79,\n",
       "  'step': 836},\n",
       " {'loss': 0.1211,\n",
       "  'learning_rate': 1.7259574468085107e-05,\n",
       "  'epoch': 17.81,\n",
       "  'step': 837},\n",
       " {'loss': 0.0736,\n",
       "  'learning_rate': 1.7208510638297873e-05,\n",
       "  'epoch': 17.83,\n",
       "  'step': 838},\n",
       " {'loss': 0.1112,\n",
       "  'learning_rate': 1.715744680851064e-05,\n",
       "  'epoch': 17.85,\n",
       "  'step': 839},\n",
       " {'loss': 0.1013,\n",
       "  'learning_rate': 1.7106382978723406e-05,\n",
       "  'epoch': 17.87,\n",
       "  'step': 840},\n",
       " {'loss': 0.0935,\n",
       "  'learning_rate': 1.705531914893617e-05,\n",
       "  'epoch': 17.89,\n",
       "  'step': 841},\n",
       " {'loss': 0.227,\n",
       "  'learning_rate': 1.7004255319148936e-05,\n",
       "  'epoch': 17.91,\n",
       "  'step': 842},\n",
       " {'loss': 0.087,\n",
       "  'learning_rate': 1.6953191489361702e-05,\n",
       "  'epoch': 17.94,\n",
       "  'step': 843},\n",
       " {'loss': 0.1482,\n",
       "  'learning_rate': 1.690212765957447e-05,\n",
       "  'epoch': 17.96,\n",
       "  'step': 844},\n",
       " {'loss': 0.0954,\n",
       "  'learning_rate': 1.6851063829787235e-05,\n",
       "  'epoch': 17.98,\n",
       "  'step': 845},\n",
       " {'loss': 0.1362,\n",
       "  'learning_rate': 1.6800000000000002e-05,\n",
       "  'epoch': 18.0,\n",
       "  'step': 846},\n",
       " {'loss': 0.0908,\n",
       "  'learning_rate': 1.6748936170212765e-05,\n",
       "  'epoch': 18.02,\n",
       "  'step': 847},\n",
       " {'loss': 0.1048,\n",
       "  'learning_rate': 1.669787234042553e-05,\n",
       "  'epoch': 18.04,\n",
       "  'step': 848},\n",
       " {'loss': 0.097,\n",
       "  'learning_rate': 1.6646808510638298e-05,\n",
       "  'epoch': 18.06,\n",
       "  'step': 849},\n",
       " {'loss': 0.1367,\n",
       "  'learning_rate': 1.6595744680851064e-05,\n",
       "  'epoch': 18.09,\n",
       "  'step': 850},\n",
       " {'loss': 0.5379,\n",
       "  'learning_rate': 1.654468085106383e-05,\n",
       "  'epoch': 18.11,\n",
       "  'step': 851},\n",
       " {'loss': 0.0962,\n",
       "  'learning_rate': 1.6493617021276594e-05,\n",
       "  'epoch': 18.13,\n",
       "  'step': 852},\n",
       " {'loss': 0.3704,\n",
       "  'learning_rate': 1.644255319148936e-05,\n",
       "  'epoch': 18.15,\n",
       "  'step': 853},\n",
       " {'loss': 0.1402,\n",
       "  'learning_rate': 1.6391489361702127e-05,\n",
       "  'epoch': 18.17,\n",
       "  'step': 854},\n",
       " {'loss': 0.0843,\n",
       "  'learning_rate': 1.6340425531914894e-05,\n",
       "  'epoch': 18.19,\n",
       "  'step': 855},\n",
       " {'loss': 0.1254,\n",
       "  'learning_rate': 1.628936170212766e-05,\n",
       "  'epoch': 18.21,\n",
       "  'step': 856},\n",
       " {'loss': 0.078,\n",
       "  'learning_rate': 1.6238297872340427e-05,\n",
       "  'epoch': 18.23,\n",
       "  'step': 857},\n",
       " {'loss': 0.1139,\n",
       "  'learning_rate': 1.618723404255319e-05,\n",
       "  'epoch': 18.26,\n",
       "  'step': 858},\n",
       " {'loss': 0.1222,\n",
       "  'learning_rate': 1.6136170212765956e-05,\n",
       "  'epoch': 18.28,\n",
       "  'step': 859},\n",
       " {'loss': 0.0535,\n",
       "  'learning_rate': 1.6085106382978723e-05,\n",
       "  'epoch': 18.3,\n",
       "  'step': 860},\n",
       " {'loss': 0.0716,\n",
       "  'learning_rate': 1.603404255319149e-05,\n",
       "  'epoch': 18.32,\n",
       "  'step': 861},\n",
       " {'loss': 0.0977,\n",
       "  'learning_rate': 1.5982978723404256e-05,\n",
       "  'epoch': 18.34,\n",
       "  'step': 862},\n",
       " {'loss': 0.089,\n",
       "  'learning_rate': 1.593191489361702e-05,\n",
       "  'epoch': 18.36,\n",
       "  'step': 863},\n",
       " {'loss': 0.1006,\n",
       "  'learning_rate': 1.5880851063829786e-05,\n",
       "  'epoch': 18.38,\n",
       "  'step': 864},\n",
       " {'loss': 0.228,\n",
       "  'learning_rate': 1.5829787234042552e-05,\n",
       "  'epoch': 18.4,\n",
       "  'step': 865},\n",
       " {'loss': 0.0726,\n",
       "  'learning_rate': 1.577872340425532e-05,\n",
       "  'epoch': 18.43,\n",
       "  'step': 866},\n",
       " {'loss': 0.0609,\n",
       "  'learning_rate': 1.5727659574468085e-05,\n",
       "  'epoch': 18.45,\n",
       "  'step': 867},\n",
       " {'loss': 0.2171,\n",
       "  'learning_rate': 1.567659574468085e-05,\n",
       "  'epoch': 18.47,\n",
       "  'step': 868},\n",
       " {'loss': 0.4396,\n",
       "  'learning_rate': 1.5625531914893615e-05,\n",
       "  'epoch': 18.49,\n",
       "  'step': 869},\n",
       " {'loss': 0.1051,\n",
       "  'learning_rate': 1.557446808510638e-05,\n",
       "  'epoch': 18.51,\n",
       "  'step': 870},\n",
       " {'loss': 0.125,\n",
       "  'learning_rate': 1.5523404255319148e-05,\n",
       "  'epoch': 18.53,\n",
       "  'step': 871},\n",
       " {'loss': 0.3695,\n",
       "  'learning_rate': 1.5472340425531914e-05,\n",
       "  'epoch': 18.55,\n",
       "  'step': 872},\n",
       " {'loss': 0.2985,\n",
       "  'learning_rate': 1.542127659574468e-05,\n",
       "  'epoch': 18.57,\n",
       "  'step': 873},\n",
       " {'loss': 0.0978,\n",
       "  'learning_rate': 1.5370212765957447e-05,\n",
       "  'epoch': 18.6,\n",
       "  'step': 874},\n",
       " {'loss': 0.1716,\n",
       "  'learning_rate': 1.531914893617021e-05,\n",
       "  'epoch': 18.62,\n",
       "  'step': 875},\n",
       " {'loss': 0.4329,\n",
       "  'learning_rate': 1.5268085106382977e-05,\n",
       "  'epoch': 18.64,\n",
       "  'step': 876},\n",
       " {'loss': 0.0817,\n",
       "  'learning_rate': 1.5217021276595745e-05,\n",
       "  'epoch': 18.66,\n",
       "  'step': 877},\n",
       " {'loss': 0.1289,\n",
       "  'learning_rate': 1.5165957446808512e-05,\n",
       "  'epoch': 18.68,\n",
       "  'step': 878},\n",
       " {'loss': 0.0961,\n",
       "  'learning_rate': 1.5114893617021278e-05,\n",
       "  'epoch': 18.7,\n",
       "  'step': 879},\n",
       " {'loss': 0.1065,\n",
       "  'learning_rate': 1.5063829787234041e-05,\n",
       "  'epoch': 18.72,\n",
       "  'step': 880},\n",
       " {'loss': 0.093,\n",
       "  'learning_rate': 1.5012765957446808e-05,\n",
       "  'epoch': 18.74,\n",
       "  'step': 881},\n",
       " {'loss': 0.1272,\n",
       "  'learning_rate': 1.4961702127659574e-05,\n",
       "  'epoch': 18.77,\n",
       "  'step': 882},\n",
       " {'loss': 0.1178,\n",
       "  'learning_rate': 1.4910638297872341e-05,\n",
       "  'epoch': 18.79,\n",
       "  'step': 883},\n",
       " {'loss': 0.0787,\n",
       "  'learning_rate': 1.4859574468085107e-05,\n",
       "  'epoch': 18.81,\n",
       "  'step': 884},\n",
       " {'loss': 0.0775,\n",
       "  'learning_rate': 1.4808510638297872e-05,\n",
       "  'epoch': 18.83,\n",
       "  'step': 885},\n",
       " {'loss': 0.0908,\n",
       "  'learning_rate': 1.4757446808510639e-05,\n",
       "  'epoch': 18.85,\n",
       "  'step': 886},\n",
       " {'loss': 0.141,\n",
       "  'learning_rate': 1.4706382978723404e-05,\n",
       "  'epoch': 18.87,\n",
       "  'step': 887},\n",
       " {'loss': 0.0914,\n",
       "  'learning_rate': 1.465531914893617e-05,\n",
       "  'epoch': 18.89,\n",
       "  'step': 888},\n",
       " {'loss': 0.075,\n",
       "  'learning_rate': 1.4604255319148937e-05,\n",
       "  'epoch': 18.91,\n",
       "  'step': 889},\n",
       " {'loss': 0.0705,\n",
       "  'learning_rate': 1.4553191489361701e-05,\n",
       "  'epoch': 18.94,\n",
       "  'step': 890},\n",
       " {'loss': 0.1762,\n",
       "  'learning_rate': 1.4502127659574468e-05,\n",
       "  'epoch': 18.96,\n",
       "  'step': 891},\n",
       " {'loss': 0.3886,\n",
       "  'learning_rate': 1.4451063829787235e-05,\n",
       "  'epoch': 18.98,\n",
       "  'step': 892},\n",
       " {'loss': 0.075, 'learning_rate': 1.44e-05, 'epoch': 19.0, 'step': 893},\n",
       " {'loss': 0.1534,\n",
       "  'learning_rate': 1.4348936170212766e-05,\n",
       "  'epoch': 19.02,\n",
       "  'step': 894},\n",
       " {'loss': 0.0737,\n",
       "  'learning_rate': 1.4297872340425532e-05,\n",
       "  'epoch': 19.04,\n",
       "  'step': 895},\n",
       " {'loss': 0.0918,\n",
       "  'learning_rate': 1.4246808510638297e-05,\n",
       "  'epoch': 19.06,\n",
       "  'step': 896},\n",
       " {'loss': 0.0684,\n",
       "  'learning_rate': 1.4195744680851064e-05,\n",
       "  'epoch': 19.09,\n",
       "  'step': 897},\n",
       " {'loss': 0.1665,\n",
       "  'learning_rate': 1.414468085106383e-05,\n",
       "  'epoch': 19.11,\n",
       "  'step': 898},\n",
       " {'loss': 0.0688,\n",
       "  'learning_rate': 1.4093617021276595e-05,\n",
       "  'epoch': 19.13,\n",
       "  'step': 899},\n",
       " {'loss': 0.0803,\n",
       "  'learning_rate': 1.4042553191489362e-05,\n",
       "  'epoch': 19.15,\n",
       "  'step': 900},\n",
       " {'eval_loss': 0.054934822022914886,\n",
       "  'eval_mean_iou': 0.2667195927734169,\n",
       "  'eval_mean_accuracy': 0.29658106160709435,\n",
       "  'eval_overall_accuracy': 0.9912071721307163,\n",
       "  'eval_per_category_iou': [0.0,\n",
       "   0.9931440255814407,\n",
       "   0.8077678276507505,\n",
       "   0.0,\n",
       "   0.0,\n",
       "   0.0,\n",
       "   0.0,\n",
       "   0.41130370318071097,\n",
       "   0.4099384791019217,\n",
       "   0.8122276304103874,\n",
       "   0.0329730401292086,\n",
       "   0.0,\n",
       "   0.0],\n",
       "  'eval_per_category_accuracy': [0.0,\n",
       "   0.998666392197264,\n",
       "   0.9125684570599313,\n",
       "   0.0,\n",
       "   0.0,\n",
       "   0.0,\n",
       "   0.0,\n",
       "   0.43613291241905094,\n",
       "   0.6003643963346016,\n",
       "   0.8745918136631688,\n",
       "   0.03322982921821005,\n",
       "   0.0,\n",
       "   0.0],\n",
       "  'eval_runtime': 338.089,\n",
       "  'eval_samples_per_second': 0.686,\n",
       "  'eval_steps_per_second': 0.071,\n",
       "  'epoch': 19.15,\n",
       "  'step': 900},\n",
       " {'loss': 0.0488,\n",
       "  'learning_rate': 1.3991489361702126e-05,\n",
       "  'epoch': 19.17,\n",
       "  'step': 901},\n",
       " {'loss': 0.1811,\n",
       "  'learning_rate': 1.3940425531914893e-05,\n",
       "  'epoch': 19.19,\n",
       "  'step': 902},\n",
       " {'loss': 0.0667,\n",
       "  'learning_rate': 1.3889361702127661e-05,\n",
       "  'epoch': 19.21,\n",
       "  'step': 903},\n",
       " {'loss': 0.0537,\n",
       "  'learning_rate': 1.3838297872340426e-05,\n",
       "  'epoch': 19.23,\n",
       "  'step': 904},\n",
       " {'loss': 0.0828,\n",
       "  'learning_rate': 1.3787234042553192e-05,\n",
       "  'epoch': 19.26,\n",
       "  'step': 905},\n",
       " {'loss': 0.0601,\n",
       "  'learning_rate': 1.3736170212765959e-05,\n",
       "  'epoch': 19.28,\n",
       "  'step': 906},\n",
       " {'loss': 0.0688,\n",
       "  'learning_rate': 1.3685106382978724e-05,\n",
       "  'epoch': 19.3,\n",
       "  'step': 907},\n",
       " {'loss': 0.1716,\n",
       "  'learning_rate': 1.363404255319149e-05,\n",
       "  'epoch': 19.32,\n",
       "  'step': 908},\n",
       " {'loss': 0.0727,\n",
       "  'learning_rate': 1.3582978723404257e-05,\n",
       "  'epoch': 19.34,\n",
       "  'step': 909},\n",
       " {'loss': 0.0809,\n",
       "  'learning_rate': 1.3531914893617022e-05,\n",
       "  'epoch': 19.36,\n",
       "  'step': 910},\n",
       " {'loss': 0.1279,\n",
       "  'learning_rate': 1.3480851063829788e-05,\n",
       "  'epoch': 19.38,\n",
       "  'step': 911},\n",
       " {'loss': 0.0694,\n",
       "  'learning_rate': 1.3429787234042555e-05,\n",
       "  'epoch': 19.4,\n",
       "  'step': 912},\n",
       " {'loss': 0.0882,\n",
       "  'learning_rate': 1.337872340425532e-05,\n",
       "  'epoch': 19.43,\n",
       "  'step': 913},\n",
       " {'loss': 0.2795,\n",
       "  'learning_rate': 1.3327659574468086e-05,\n",
       "  'epoch': 19.45,\n",
       "  'step': 914},\n",
       " {'loss': 0.087,\n",
       "  'learning_rate': 1.3276595744680851e-05,\n",
       "  'epoch': 19.47,\n",
       "  'step': 915},\n",
       " {'loss': 0.2452,\n",
       "  'learning_rate': 1.3225531914893617e-05,\n",
       "  'epoch': 19.49,\n",
       "  'step': 916},\n",
       " {'loss': 0.2719,\n",
       "  'learning_rate': 1.3174468085106384e-05,\n",
       "  'epoch': 19.51,\n",
       "  'step': 917},\n",
       " {'loss': 0.0932,\n",
       "  'learning_rate': 1.3123404255319149e-05,\n",
       "  'epoch': 19.53,\n",
       "  'step': 918},\n",
       " {'loss': 0.0749,\n",
       "  'learning_rate': 1.3072340425531915e-05,\n",
       "  'epoch': 19.55,\n",
       "  'step': 919},\n",
       " {'loss': 0.0767,\n",
       "  'learning_rate': 1.3021276595744682e-05,\n",
       "  'epoch': 19.57,\n",
       "  'step': 920},\n",
       " {'loss': 0.1304,\n",
       "  'learning_rate': 1.2970212765957447e-05,\n",
       "  'epoch': 19.6,\n",
       "  'step': 921},\n",
       " {'loss': 0.164,\n",
       "  'learning_rate': 1.2919148936170213e-05,\n",
       "  'epoch': 19.62,\n",
       "  'step': 922},\n",
       " {'loss': 0.0654,\n",
       "  'learning_rate': 1.286808510638298e-05,\n",
       "  'epoch': 19.64,\n",
       "  'step': 923},\n",
       " {'loss': 0.423,\n",
       "  'learning_rate': 1.2817021276595744e-05,\n",
       "  'epoch': 19.66,\n",
       "  'step': 924},\n",
       " {'loss': 0.0758,\n",
       "  'learning_rate': 1.2765957446808511e-05,\n",
       "  'epoch': 19.68,\n",
       "  'step': 925},\n",
       " {'loss': 0.3636,\n",
       "  'learning_rate': 1.2714893617021278e-05,\n",
       "  'epoch': 19.7,\n",
       "  'step': 926},\n",
       " {'loss': 0.0555,\n",
       "  'learning_rate': 1.2663829787234042e-05,\n",
       "  'epoch': 19.72,\n",
       "  'step': 927},\n",
       " {'loss': 0.0746,\n",
       "  'learning_rate': 1.2612765957446809e-05,\n",
       "  'epoch': 19.74,\n",
       "  'step': 928},\n",
       " {'loss': 0.1149,\n",
       "  'learning_rate': 1.2561702127659575e-05,\n",
       "  'epoch': 19.77,\n",
       "  'step': 929},\n",
       " {'loss': 0.0539,\n",
       "  'learning_rate': 1.251063829787234e-05,\n",
       "  'epoch': 19.79,\n",
       "  'step': 930},\n",
       " {'loss': 0.088,\n",
       "  'learning_rate': 1.2459574468085107e-05,\n",
       "  'epoch': 19.81,\n",
       "  'step': 931},\n",
       " {'loss': 0.1276,\n",
       "  'learning_rate': 1.2408510638297872e-05,\n",
       "  'epoch': 19.83,\n",
       "  'step': 932},\n",
       " {'loss': 0.1012,\n",
       "  'learning_rate': 1.2357446808510638e-05,\n",
       "  'epoch': 19.85,\n",
       "  'step': 933},\n",
       " {'loss': 0.0969,\n",
       "  'learning_rate': 1.2306382978723405e-05,\n",
       "  'epoch': 19.87,\n",
       "  'step': 934},\n",
       " {'loss': 0.0909,\n",
       "  'learning_rate': 1.225531914893617e-05,\n",
       "  'epoch': 19.89,\n",
       "  'step': 935},\n",
       " {'loss': 0.0641,\n",
       "  'learning_rate': 1.2204255319148936e-05,\n",
       "  'epoch': 19.91,\n",
       "  'step': 936},\n",
       " {'loss': 0.2053,\n",
       "  'learning_rate': 1.2153191489361702e-05,\n",
       "  'epoch': 19.94,\n",
       "  'step': 937},\n",
       " {'loss': 0.0927,\n",
       "  'learning_rate': 1.2102127659574467e-05,\n",
       "  'epoch': 19.96,\n",
       "  'step': 938},\n",
       " {'loss': 0.2954,\n",
       "  'learning_rate': 1.2051063829787234e-05,\n",
       "  'epoch': 19.98,\n",
       "  'step': 939},\n",
       " {'loss': 0.1727, 'learning_rate': 1.2e-05, 'epoch': 20.0, 'step': 940},\n",
       " {'loss': 0.103,\n",
       "  'learning_rate': 1.1948936170212765e-05,\n",
       "  'epoch': 20.02,\n",
       "  'step': 941},\n",
       " {'loss': 0.0737,\n",
       "  'learning_rate': 1.1897872340425532e-05,\n",
       "  'epoch': 20.04,\n",
       "  'step': 942},\n",
       " {'loss': 0.0689,\n",
       "  'learning_rate': 1.1846808510638298e-05,\n",
       "  'epoch': 20.06,\n",
       "  'step': 943},\n",
       " {'loss': 0.0726,\n",
       "  'learning_rate': 1.1795744680851063e-05,\n",
       "  'epoch': 20.09,\n",
       "  'step': 944},\n",
       " {'loss': 0.113,\n",
       "  'learning_rate': 1.1744680851063831e-05,\n",
       "  'epoch': 20.11,\n",
       "  'step': 945},\n",
       " {'loss': 0.0557,\n",
       "  'learning_rate': 1.1693617021276596e-05,\n",
       "  'epoch': 20.13,\n",
       "  'step': 946},\n",
       " {'loss': 0.0912,\n",
       "  'learning_rate': 1.1642553191489363e-05,\n",
       "  'epoch': 20.15,\n",
       "  'step': 947},\n",
       " {'loss': 0.0664,\n",
       "  'learning_rate': 1.1591489361702129e-05,\n",
       "  'epoch': 20.17,\n",
       "  'step': 948},\n",
       " {'loss': 0.0693,\n",
       "  'learning_rate': 1.1540425531914894e-05,\n",
       "  'epoch': 20.19,\n",
       "  'step': 949},\n",
       " {'loss': 0.1598,\n",
       "  'learning_rate': 1.148936170212766e-05,\n",
       "  'epoch': 20.21,\n",
       "  'step': 950},\n",
       " {'loss': 0.0746,\n",
       "  'learning_rate': 1.1438297872340427e-05,\n",
       "  'epoch': 20.23,\n",
       "  'step': 951},\n",
       " {'loss': 0.0935,\n",
       "  'learning_rate': 1.1387234042553192e-05,\n",
       "  'epoch': 20.26,\n",
       "  'step': 952},\n",
       " {'loss': 0.076,\n",
       "  'learning_rate': 1.1336170212765958e-05,\n",
       "  'epoch': 20.28,\n",
       "  'step': 953},\n",
       " {'loss': 0.1291,\n",
       "  'learning_rate': 1.1285106382978725e-05,\n",
       "  'epoch': 20.3,\n",
       "  'step': 954},\n",
       " {'loss': 0.2902,\n",
       "  'learning_rate': 1.123404255319149e-05,\n",
       "  'epoch': 20.32,\n",
       "  'step': 955},\n",
       " {'loss': 0.0666,\n",
       "  'learning_rate': 1.1182978723404256e-05,\n",
       "  'epoch': 20.34,\n",
       "  'step': 956},\n",
       " {'loss': 0.0847,\n",
       "  'learning_rate': 1.1131914893617023e-05,\n",
       "  'epoch': 20.36,\n",
       "  'step': 957},\n",
       " {'loss': 0.2608,\n",
       "  'learning_rate': 1.1080851063829787e-05,\n",
       "  'epoch': 20.38,\n",
       "  'step': 958},\n",
       " {'loss': 0.0739,\n",
       "  'learning_rate': 1.1029787234042554e-05,\n",
       "  'epoch': 20.4,\n",
       "  'step': 959},\n",
       " {'loss': 0.073,\n",
       "  'learning_rate': 1.0978723404255319e-05,\n",
       "  'epoch': 20.43,\n",
       "  'step': 960},\n",
       " {'loss': 0.0497,\n",
       "  'learning_rate': 1.0927659574468085e-05,\n",
       "  'epoch': 20.45,\n",
       "  'step': 961},\n",
       " {'loss': 0.2386,\n",
       "  'learning_rate': 1.0876595744680852e-05,\n",
       "  'epoch': 20.47,\n",
       "  'step': 962},\n",
       " {'loss': 0.0612,\n",
       "  'learning_rate': 1.0825531914893617e-05,\n",
       "  'epoch': 20.49,\n",
       "  'step': 963},\n",
       " {'loss': 0.0828,\n",
       "  'learning_rate': 1.0774468085106383e-05,\n",
       "  'epoch': 20.51,\n",
       "  'step': 964},\n",
       " {'loss': 0.0683,\n",
       "  'learning_rate': 1.072340425531915e-05,\n",
       "  'epoch': 20.53,\n",
       "  'step': 965},\n",
       " {'loss': 0.0541,\n",
       "  'learning_rate': 1.0672340425531915e-05,\n",
       "  'epoch': 20.55,\n",
       "  'step': 966},\n",
       " {'loss': 0.1466,\n",
       "  'learning_rate': 1.0621276595744681e-05,\n",
       "  'epoch': 20.57,\n",
       "  'step': 967},\n",
       " {'loss': 0.0683,\n",
       "  'learning_rate': 1.0570212765957448e-05,\n",
       "  'epoch': 20.6,\n",
       "  'step': 968},\n",
       " {'loss': 0.0793,\n",
       "  'learning_rate': 1.0519148936170212e-05,\n",
       "  'epoch': 20.62,\n",
       "  'step': 969},\n",
       " {'loss': 0.0668,\n",
       "  'learning_rate': 1.0468085106382979e-05,\n",
       "  'epoch': 20.64,\n",
       "  'step': 970},\n",
       " {'loss': 0.0865,\n",
       "  'learning_rate': 1.0417021276595745e-05,\n",
       "  'epoch': 20.66,\n",
       "  'step': 971},\n",
       " {'loss': 0.1753,\n",
       "  'learning_rate': 1.036595744680851e-05,\n",
       "  'epoch': 20.68,\n",
       "  'step': 972},\n",
       " {'loss': 0.1171,\n",
       "  'learning_rate': 1.0314893617021277e-05,\n",
       "  'epoch': 20.7,\n",
       "  'step': 973},\n",
       " {'loss': 0.0762,\n",
       "  'learning_rate': 1.0263829787234043e-05,\n",
       "  'epoch': 20.72,\n",
       "  'step': 974},\n",
       " {'loss': 0.0823,\n",
       "  'learning_rate': 1.0212765957446808e-05,\n",
       "  'epoch': 20.74,\n",
       "  'step': 975},\n",
       " {'loss': 0.072,\n",
       "  'learning_rate': 1.0161702127659575e-05,\n",
       "  'epoch': 20.77,\n",
       "  'step': 976},\n",
       " {'loss': 0.0642,\n",
       "  'learning_rate': 1.011063829787234e-05,\n",
       "  'epoch': 20.79,\n",
       "  'step': 977},\n",
       " {'loss': 0.0492,\n",
       "  'learning_rate': 1.0059574468085106e-05,\n",
       "  'epoch': 20.81,\n",
       "  'step': 978},\n",
       " {'loss': 0.2296,\n",
       "  'learning_rate': 1.0008510638297873e-05,\n",
       "  'epoch': 20.83,\n",
       "  'step': 979},\n",
       " {'loss': 0.1694,\n",
       "  'learning_rate': 9.957446808510637e-06,\n",
       "  'epoch': 20.85,\n",
       "  'step': 980},\n",
       " {'loss': 0.0687,\n",
       "  'learning_rate': 9.906382978723404e-06,\n",
       "  'epoch': 20.87,\n",
       "  'step': 981},\n",
       " {'loss': 0.0789,\n",
       "  'learning_rate': 9.85531914893617e-06,\n",
       "  'epoch': 20.89,\n",
       "  'step': 982},\n",
       " {'loss': 0.0541,\n",
       "  'learning_rate': 9.804255319148935e-06,\n",
       "  'epoch': 20.91,\n",
       "  'step': 983},\n",
       " {'loss': 0.0752,\n",
       "  'learning_rate': 9.753191489361702e-06,\n",
       "  'epoch': 20.94,\n",
       "  'step': 984},\n",
       " {'loss': 0.1035,\n",
       "  'learning_rate': 9.702127659574468e-06,\n",
       "  'epoch': 20.96,\n",
       "  'step': 985},\n",
       " {'loss': 0.2889,\n",
       "  'learning_rate': 9.651063829787235e-06,\n",
       "  'epoch': 20.98,\n",
       "  'step': 986},\n",
       " {'loss': 0.1223,\n",
       "  'learning_rate': 9.600000000000001e-06,\n",
       "  'epoch': 21.0,\n",
       "  'step': 987},\n",
       " {'loss': 0.1011,\n",
       "  'learning_rate': 9.548936170212768e-06,\n",
       "  'epoch': 21.02,\n",
       "  'step': 988},\n",
       " {'loss': 0.0752,\n",
       "  'learning_rate': 9.497872340425533e-06,\n",
       "  'epoch': 21.04,\n",
       "  'step': 989},\n",
       " {'loss': 0.1046,\n",
       "  'learning_rate': 9.446808510638299e-06,\n",
       "  'epoch': 21.06,\n",
       "  'step': 990},\n",
       " {'loss': 0.0777,\n",
       "  'learning_rate': 9.395744680851064e-06,\n",
       "  'epoch': 21.09,\n",
       "  'step': 991},\n",
       " ...]"
      ]
     },
     "execution_count": 24,
     "metadata": {},
     "output_type": "execute_result"
    }
   ],
   "source": [
    "trainer.state.log_history"
   ]
  },
  {
   "cell_type": "code",
   "execution_count": 25,
   "metadata": {},
   "outputs": [],
   "source": [
    "# Save the trained model, so that it can be used for inference later.\n",
    "# Save the log history, so that it can be used for plotting later.\n",
    "trainer.save_model('models/' + model_type + '/' + crop)\n",
    "with open('models/' + model_type + '/' + crop + '/log_history.json', 'w') as file:\n",
    "    log_history = trainer.state.log_history\n",
    "    json.dump(log_history, file)"
   ]
  },
  {
   "cell_type": "code",
   "execution_count": 26,
   "metadata": {},
   "outputs": [
    {
     "name": "stderr",
     "output_type": "stream",
     "text": [
      "100%|██████████| 24/24 [05:43<00:00, 14.33s/it]\n"
     ]
    }
   ],
   "source": [
    "outputs = trainer.predict(test_ds)"
   ]
  },
  {
   "cell_type": "code",
   "execution_count": 27,
   "metadata": {},
   "outputs": [
    {
     "name": "stderr",
     "output_type": "stream",
     "text": [
      "100%|██████████| 24/24 [05:40<00:00, 14.18s/it]\n"
     ]
    },
    {
     "data": {
      "text/plain": [
       "{'eval_loss': 0.04515599459409714,\n",
       " 'eval_mean_iou': 0.254084312917265,\n",
       " 'eval_mean_accuracy': 0.28223491837832887,\n",
       " 'eval_overall_accuracy': 0.991836692713484,\n",
       " 'eval_per_category_iou': [0.0,\n",
       "  0.9936015561815532,\n",
       "  0.870052613896603,\n",
       "  0.0,\n",
       "  0.0,\n",
       "  0.0,\n",
       "  0.0,\n",
       "  0.1939162722376367,\n",
       "  0.3024066894931945,\n",
       "  0.7402343275827745,\n",
       "  0.20288460853268345,\n",
       "  0.0,\n",
       "  0.0],\n",
       " 'eval_per_category_accuracy': [0.0,\n",
       "  0.9990935120923493,\n",
       "  0.9295094275007738,\n",
       "  0.0,\n",
       "  0.0,\n",
       "  0.0,\n",
       "  0.0,\n",
       "  0.1977335018384743,\n",
       "  0.5151451244569507,\n",
       "  0.8072051846831583,\n",
       "  0.22036718834656882,\n",
       "  0.0,\n",
       "  0.0],\n",
       " 'eval_runtime': 344.3268,\n",
       " 'eval_samples_per_second': 0.688,\n",
       " 'eval_steps_per_second': 0.07,\n",
       " 'epoch': 25.0}"
      ]
     },
     "execution_count": 27,
     "metadata": {},
     "output_type": "execute_result"
    }
   ],
   "source": [
    "test_metric = trainer.evaluate(test_ds)\n",
    "test_metric"
   ]
  },
  {
   "cell_type": "code",
   "execution_count": 28,
   "metadata": {},
   "outputs": [],
   "source": [
    "with open('models/' + model_type + '/' + crop + '/test_metric.json', 'w') as file:\n",
    "    json.dump(test_metric, file)"
   ]
  },
  {
   "cell_type": "code",
   "execution_count": 29,
   "metadata": {},
   "outputs": [],
   "source": [
    "# upsampled_ouputs = torch.nn.functional.interpolate(\n",
    "#     outputs,\n",
    "#     size=image.size[::-1],\n",
    "#     mode=\"bilinear\",\n",
    "#     align_corners=False,\n",
    "# )\n",
    "# y_pred = upsampled_ouputs.predictions.argmax(1)"
   ]
  },
  {
   "cell_type": "code",
   "execution_count": 30,
   "metadata": {},
   "outputs": [
    {
     "ename": "NameError",
     "evalue": "name 'y_pred' is not defined",
     "output_type": "error",
     "traceback": [
      "\u001b[1;31m---------------------------------------------------------------------------\u001b[0m",
      "\u001b[1;31mNameError\u001b[0m                                 Traceback (most recent call last)",
      "Cell \u001b[1;32mIn[30], line 1\u001b[0m\n\u001b[1;32m----> 1\u001b[0m \u001b[39mprint\u001b[39m(\u001b[39m\"\u001b[39m\u001b[39mPredicting following unique classes: \u001b[39m\u001b[39m\"\u001b[39m, np\u001b[39m.\u001b[39munique(y_pred))\n\u001b[0;32m      2\u001b[0m \u001b[39mprint\u001b[39m(y_pred\u001b[39m.\u001b[39mshape)\n",
      "\u001b[1;31mNameError\u001b[0m: name 'y_pred' is not defined"
     ]
    }
   ],
   "source": [
    "# print(\"Predicting following unique classes: \", np.unique(y_pred))\n",
    "# print(y_pred.shape)"
   ]
  },
  {
   "cell_type": "code",
   "execution_count": null,
   "metadata": {},
   "outputs": [
    {
     "data": {
      "text/plain": [
       "array([[[0, 0, 0, ..., 0, 0, 0],\n",
       "        [0, 0, 0, ..., 0, 0, 0],\n",
       "        [0, 0, 0, ..., 0, 0, 0],\n",
       "        ...,\n",
       "        [0, 0, 0, ..., 0, 0, 0],\n",
       "        [0, 0, 0, ..., 0, 0, 0],\n",
       "        [0, 0, 0, ..., 0, 0, 0]],\n",
       "\n",
       "       [[0, 0, 0, ..., 0, 0, 0],\n",
       "        [0, 0, 0, ..., 0, 0, 0],\n",
       "        [0, 0, 0, ..., 0, 0, 0],\n",
       "        ...,\n",
       "        [0, 0, 0, ..., 0, 0, 0],\n",
       "        [0, 0, 0, ..., 0, 0, 0],\n",
       "        [0, 0, 0, ..., 0, 0, 0]],\n",
       "\n",
       "       [[0, 0, 0, ..., 0, 0, 0],\n",
       "        [0, 0, 0, ..., 0, 0, 0],\n",
       "        [0, 0, 0, ..., 0, 0, 0],\n",
       "        ...,\n",
       "        [0, 0, 0, ..., 0, 0, 0],\n",
       "        [0, 0, 0, ..., 0, 0, 0],\n",
       "        [0, 0, 0, ..., 0, 0, 0]],\n",
       "\n",
       "       ...,\n",
       "\n",
       "       [[0, 0, 0, ..., 0, 0, 0],\n",
       "        [0, 0, 0, ..., 0, 0, 0],\n",
       "        [0, 0, 0, ..., 0, 0, 0],\n",
       "        ...,\n",
       "        [0, 0, 0, ..., 0, 0, 0],\n",
       "        [0, 0, 0, ..., 0, 0, 0],\n",
       "        [0, 0, 0, ..., 0, 0, 0]],\n",
       "\n",
       "       [[0, 0, 0, ..., 0, 0, 0],\n",
       "        [0, 0, 0, ..., 0, 0, 0],\n",
       "        [0, 0, 0, ..., 0, 0, 0],\n",
       "        ...,\n",
       "        [0, 0, 0, ..., 0, 0, 0],\n",
       "        [0, 0, 0, ..., 0, 0, 0],\n",
       "        [0, 0, 0, ..., 0, 0, 0]],\n",
       "\n",
       "       [[0, 0, 0, ..., 0, 0, 0],\n",
       "        [0, 0, 0, ..., 0, 0, 0],\n",
       "        [0, 0, 0, ..., 0, 0, 0],\n",
       "        ...,\n",
       "        [0, 0, 0, ..., 0, 0, 0],\n",
       "        [0, 0, 0, ..., 0, 0, 0],\n",
       "        [0, 0, 0, ..., 0, 0, 0]]], dtype=int64)"
      ]
     },
     "execution_count": 90,
     "metadata": {},
     "output_type": "execute_result"
    }
   ],
   "source": [
    "# y_pred"
   ]
  },
  {
   "cell_type": "code",
   "execution_count": null,
   "metadata": {},
   "outputs": [
    {
     "data": {
      "text/plain": [
       "AcceleratedOptimizer (\n",
       "Parameter Group 0\n",
       "    betas: (0.9, 0.999)\n",
       "    correct_bias: True\n",
       "    eps: 1e-08\n",
       "    initial_lr: 6e-05\n",
       "    lr: 4.8e-05\n",
       "    weight_decay: 0.0\n",
       "\n",
       "Parameter Group 1\n",
       "    betas: (0.9, 0.999)\n",
       "    correct_bias: True\n",
       "    eps: 1e-08\n",
       "    initial_lr: 6e-05\n",
       "    lr: 4.8e-05\n",
       "    weight_decay: 0.0\n",
       ")"
      ]
     },
     "execution_count": 94,
     "metadata": {},
     "output_type": "execute_result"
    }
   ],
   "source": [
    "# trainer.optimizer"
   ]
  },
  {
   "cell_type": "code",
   "execution_count": null,
   "metadata": {},
   "outputs": [],
   "source": [
    "# import subprocess\n",
    "# from typing import NoReturn\n",
    "\n",
    "# def shutdown_windows() -> NoReturn:\n",
    "#     subprocess.run([\"shutdown\", \"/s\", \"/t\", \"0\"])\n",
    "\n",
    "# shutdown_windows()"
   ]
  }
 ],
 "metadata": {
  "kernelspec": {
   "display_name": "base",
   "language": "python",
   "name": "python3"
  },
  "language_info": {
   "codemirror_mode": {
    "name": "ipython",
    "version": 3
   },
   "file_extension": ".py",
   "mimetype": "text/x-python",
   "name": "python",
   "nbconvert_exporter": "python",
   "pygments_lexer": "ipython3",
   "version": "3.11.4"
  },
  "orig_nbformat": 4
 },
 "nbformat": 4,
 "nbformat_minor": 2
}
