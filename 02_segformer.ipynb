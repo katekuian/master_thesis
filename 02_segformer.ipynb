{
 "cells": [
  {
   "cell_type": "code",
   "execution_count": 1,
   "metadata": {},
   "outputs": [
    {
     "name": "stderr",
     "output_type": "stream",
     "text": [
      "c:\\Users\\kuian\\.conda\\envs\\master\\lib\\site-packages\\tqdm\\auto.py:21: TqdmWarning: IProgress not found. Please update jupyter and ipywidgets. See https://ipywidgets.readthedocs.io/en/stable/user_install.html\n",
      "  from .autonotebook import tqdm as notebook_tqdm\n"
     ]
    }
   ],
   "source": [
    "import numpy as np\n",
    "import pandas as pd\n",
    "from tqdm import tqdm\n",
    "from transformers import MaskFormerFeatureExtractor, MaskFormerForInstanceSegmentation\n",
    "import PIL\n",
    "from PIL import Image\n",
    "import requests\n",
    "from transformers import pipeline\n",
    "import datasets\n",
    "from datasets import load_dataset\n",
    "import os\n",
    "import evaluate\n",
    "import torch\n",
    "import cv2\n",
    "import json\n",
    "import codecs"
   ]
  },
  {
   "cell_type": "code",
   "execution_count": 2,
   "metadata": {},
   "outputs": [],
   "source": [
    "image_folder = './WE3DS/images/'\n",
    "annotation_folder = './WE3DS/annotations/segmentation/SegmentationLabel/'\n",
    "# Define the paths to the images and annotations\n",
    "all_image_names = np.array(os.listdir(image_folder))"
   ]
  },
  {
   "cell_type": "code",
   "execution_count": 3,
   "metadata": {},
   "outputs": [],
   "source": [
    "plant_classification = {\n",
    "    'void': 'void',\n",
    "    'soil': 'soil',\n",
    "    'broad bean': 'crop',\n",
    "    'corn spurry': 'weed',\n",
    "    'red-root amaranth': 'weed',\n",
    "    'common buckwheat': 'crop',\n",
    "    'pea': 'crop',\n",
    "    'red fingergrass': 'weed',\n",
    "    'common wild oat': 'weed',\n",
    "    'cornflower': 'weed',\n",
    "    'corn cockle': 'weed',\n",
    "    'corn': 'crop',\n",
    "    'milk thistle': 'weed',\n",
    "    'rye brome': 'weed',\n",
    "    'soybean': 'crop',\n",
    "    'sunflower': 'crop',\n",
    "    'narrow-leaved plantain': 'weed',\n",
    "    'small-flower geranium': 'weed',\n",
    "    'sugar beet': 'crop'\n",
    "}"
   ]
  },
  {
   "cell_type": "code",
   "execution_count": null,
   "metadata": {},
   "outputs": [],
   "source": [
    "def get_image_meta_filepath(plant_name):\n",
    "    return './meta/' + plant_name + '_images.json'"
   ]
  },
  {
   "cell_type": "code",
   "execution_count": 4,
   "metadata": {},
   "outputs": [],
   "source": [
    "def get_image_list_for_crop(crop_name):\n",
    "    # Create an empty list to store the dataset\n",
    "    image_list = []\n",
    "    crop_image_names = json.load(codecs.open(get_image_meta_filepath(crop_name), 'r', 'utf-8-sig'))\n",
    "    weed_image_names = json.load(codecs.open(get_image_meta_filepath('images_with_no_crops'), 'r', 'utf-8-sig'))\n",
    "    image_names = crop_image_names + weed_image_names\n",
    "\n",
    "    # Iterate over the image and annotation paths\n",
    "    for image_name in crop_image_names:\n",
    "        # Load the image and annotation using PIL\n",
    "        image = Image.open(image_folder + image_name)\n",
    "        annotation = Image.open(annotation_folder + image_name)\n",
    "        \n",
    "        # Create a dictionary entry for the dataseta\n",
    "        entry = {'image': image, 'annotation': annotation}\n",
    "        \n",
    "        # Add the entry to the dataset\n",
    "        image_list.append(entry)\n",
    "\n",
    "    return image_list"
   ]
  },
  {
   "cell_type": "code",
   "execution_count": 5,
   "metadata": {},
   "outputs": [],
   "source": [
    "def create_and_split_dataset_for_crop(crop_image_list):\n",
    "    dataset = datasets.Dataset.from_list(crop_image_list)\n",
    "    dataset = dataset.train_test_split(test_size=0.2)\n",
    "    train_ds = dataset[\"train\"]\n",
    "    test_ds = dataset[\"test\"]\n",
    "    return train_ds, test_ds"
   ]
  },
  {
   "cell_type": "code",
   "execution_count": 6,
   "metadata": {},
   "outputs": [
    {
     "data": {
      "text/plain": [
       "[{'image': <PIL.PngImagePlugin.PngImageFile image mode=RGB size=1600x1144>,\n",
       "  'annotation': <PIL.PngImagePlugin.PngImageFile image mode=L size=1600x1144>},\n",
       " {'image': <PIL.PngImagePlugin.PngImageFile image mode=RGB size=1600x1144>,\n",
       "  'annotation': <PIL.PngImagePlugin.PngImageFile image mode=L size=1600x1144>},\n",
       " {'image': <PIL.PngImagePlugin.PngImageFile image mode=RGB size=1600x1144>,\n",
       "  'annotation': <PIL.PngImagePlugin.PngImageFile image mode=L size=1600x1144>},\n",
       " {'image': <PIL.PngImagePlugin.PngImageFile image mode=RGB size=1600x1144>,\n",
       "  'annotation': <PIL.PngImagePlugin.PngImageFile image mode=L size=1600x1144>},\n",
       " {'image': <PIL.PngImagePlugin.PngImageFile image mode=RGB size=1600x1144>,\n",
       "  'annotation': <PIL.PngImagePlugin.PngImageFile image mode=L size=1600x1144>},\n",
       " {'image': <PIL.PngImagePlugin.PngImageFile image mode=RGB size=1600x1144>,\n",
       "  'annotation': <PIL.PngImagePlugin.PngImageFile image mode=L size=1600x1144>},\n",
       " {'image': <PIL.PngImagePlugin.PngImageFile image mode=RGB size=1600x1144>,\n",
       "  'annotation': <PIL.PngImagePlugin.PngImageFile image mode=L size=1600x1144>},\n",
       " {'image': <PIL.PngImagePlugin.PngImageFile image mode=RGB size=1600x1144>,\n",
       "  'annotation': <PIL.PngImagePlugin.PngImageFile image mode=L size=1600x1144>},\n",
       " {'image': <PIL.PngImagePlugin.PngImageFile image mode=RGB size=1600x1144>,\n",
       "  'annotation': <PIL.PngImagePlugin.PngImageFile image mode=L size=1600x1144>},\n",
       " {'image': <PIL.PngImagePlugin.PngImageFile image mode=RGB size=1600x1144>,\n",
       "  'annotation': <PIL.PngImagePlugin.PngImageFile image mode=L size=1600x1144>},\n",
       " {'image': <PIL.PngImagePlugin.PngImageFile image mode=RGB size=1600x1144>,\n",
       "  'annotation': <PIL.PngImagePlugin.PngImageFile image mode=L size=1600x1144>},\n",
       " {'image': <PIL.PngImagePlugin.PngImageFile image mode=RGB size=1600x1144>,\n",
       "  'annotation': <PIL.PngImagePlugin.PngImageFile image mode=L size=1600x1144>},\n",
       " {'image': <PIL.PngImagePlugin.PngImageFile image mode=RGB size=1600x1144>,\n",
       "  'annotation': <PIL.PngImagePlugin.PngImageFile image mode=L size=1600x1144>},\n",
       " {'image': <PIL.PngImagePlugin.PngImageFile image mode=RGB size=1600x1144>,\n",
       "  'annotation': <PIL.PngImagePlugin.PngImageFile image mode=L size=1600x1144>},\n",
       " {'image': <PIL.PngImagePlugin.PngImageFile image mode=RGB size=1600x1144>,\n",
       "  'annotation': <PIL.PngImagePlugin.PngImageFile image mode=L size=1600x1144>},\n",
       " {'image': <PIL.PngImagePlugin.PngImageFile image mode=RGB size=1600x1144>,\n",
       "  'annotation': <PIL.PngImagePlugin.PngImageFile image mode=L size=1600x1144>},\n",
       " {'image': <PIL.PngImagePlugin.PngImageFile image mode=RGB size=1600x1144>,\n",
       "  'annotation': <PIL.PngImagePlugin.PngImageFile image mode=L size=1600x1144>},\n",
       " {'image': <PIL.PngImagePlugin.PngImageFile image mode=RGB size=1600x1144>,\n",
       "  'annotation': <PIL.PngImagePlugin.PngImageFile image mode=L size=1600x1144>},\n",
       " {'image': <PIL.PngImagePlugin.PngImageFile image mode=RGB size=1600x1144>,\n",
       "  'annotation': <PIL.PngImagePlugin.PngImageFile image mode=L size=1600x1144>},\n",
       " {'image': <PIL.PngImagePlugin.PngImageFile image mode=RGB size=1600x1144>,\n",
       "  'annotation': <PIL.PngImagePlugin.PngImageFile image mode=L size=1600x1144>},\n",
       " {'image': <PIL.PngImagePlugin.PngImageFile image mode=RGB size=1600x1144>,\n",
       "  'annotation': <PIL.PngImagePlugin.PngImageFile image mode=L size=1600x1144>},\n",
       " {'image': <PIL.PngImagePlugin.PngImageFile image mode=RGB size=1600x1144>,\n",
       "  'annotation': <PIL.PngImagePlugin.PngImageFile image mode=L size=1600x1144>},\n",
       " {'image': <PIL.PngImagePlugin.PngImageFile image mode=RGB size=1600x1144>,\n",
       "  'annotation': <PIL.PngImagePlugin.PngImageFile image mode=L size=1600x1144>},\n",
       " {'image': <PIL.PngImagePlugin.PngImageFile image mode=RGB size=1600x1144>,\n",
       "  'annotation': <PIL.PngImagePlugin.PngImageFile image mode=L size=1600x1144>},\n",
       " {'image': <PIL.PngImagePlugin.PngImageFile image mode=RGB size=1600x1144>,\n",
       "  'annotation': <PIL.PngImagePlugin.PngImageFile image mode=L size=1600x1144>},\n",
       " {'image': <PIL.PngImagePlugin.PngImageFile image mode=RGB size=1600x1144>,\n",
       "  'annotation': <PIL.PngImagePlugin.PngImageFile image mode=L size=1600x1144>},\n",
       " {'image': <PIL.PngImagePlugin.PngImageFile image mode=RGB size=1600x1144>,\n",
       "  'annotation': <PIL.PngImagePlugin.PngImageFile image mode=L size=1600x1144>},\n",
       " {'image': <PIL.PngImagePlugin.PngImageFile image mode=RGB size=1600x1144>,\n",
       "  'annotation': <PIL.PngImagePlugin.PngImageFile image mode=L size=1600x1144>},\n",
       " {'image': <PIL.PngImagePlugin.PngImageFile image mode=RGB size=1600x1144>,\n",
       "  'annotation': <PIL.PngImagePlugin.PngImageFile image mode=L size=1600x1144>},\n",
       " {'image': <PIL.PngImagePlugin.PngImageFile image mode=RGB size=1600x1144>,\n",
       "  'annotation': <PIL.PngImagePlugin.PngImageFile image mode=L size=1600x1144>},\n",
       " {'image': <PIL.PngImagePlugin.PngImageFile image mode=RGB size=1600x1144>,\n",
       "  'annotation': <PIL.PngImagePlugin.PngImageFile image mode=L size=1600x1144>},\n",
       " {'image': <PIL.PngImagePlugin.PngImageFile image mode=RGB size=1600x1144>,\n",
       "  'annotation': <PIL.PngImagePlugin.PngImageFile image mode=L size=1600x1144>},\n",
       " {'image': <PIL.PngImagePlugin.PngImageFile image mode=RGB size=1600x1144>,\n",
       "  'annotation': <PIL.PngImagePlugin.PngImageFile image mode=L size=1600x1144>},\n",
       " {'image': <PIL.PngImagePlugin.PngImageFile image mode=RGB size=1600x1144>,\n",
       "  'annotation': <PIL.PngImagePlugin.PngImageFile image mode=L size=1600x1144>},\n",
       " {'image': <PIL.PngImagePlugin.PngImageFile image mode=RGB size=1600x1144>,\n",
       "  'annotation': <PIL.PngImagePlugin.PngImageFile image mode=L size=1600x1144>},\n",
       " {'image': <PIL.PngImagePlugin.PngImageFile image mode=RGB size=1600x1144>,\n",
       "  'annotation': <PIL.PngImagePlugin.PngImageFile image mode=L size=1600x1144>},\n",
       " {'image': <PIL.PngImagePlugin.PngImageFile image mode=RGB size=1600x1144>,\n",
       "  'annotation': <PIL.PngImagePlugin.PngImageFile image mode=L size=1600x1144>},\n",
       " {'image': <PIL.PngImagePlugin.PngImageFile image mode=RGB size=1600x1144>,\n",
       "  'annotation': <PIL.PngImagePlugin.PngImageFile image mode=L size=1600x1144>},\n",
       " {'image': <PIL.PngImagePlugin.PngImageFile image mode=RGB size=1600x1144>,\n",
       "  'annotation': <PIL.PngImagePlugin.PngImageFile image mode=L size=1600x1144>},\n",
       " {'image': <PIL.PngImagePlugin.PngImageFile image mode=RGB size=1600x1144>,\n",
       "  'annotation': <PIL.PngImagePlugin.PngImageFile image mode=L size=1600x1144>},\n",
       " {'image': <PIL.PngImagePlugin.PngImageFile image mode=RGB size=1600x1144>,\n",
       "  'annotation': <PIL.PngImagePlugin.PngImageFile image mode=L size=1600x1144>},\n",
       " {'image': <PIL.PngImagePlugin.PngImageFile image mode=RGB size=1600x1144>,\n",
       "  'annotation': <PIL.PngImagePlugin.PngImageFile image mode=L size=1600x1144>},\n",
       " {'image': <PIL.PngImagePlugin.PngImageFile image mode=RGB size=1600x1144>,\n",
       "  'annotation': <PIL.PngImagePlugin.PngImageFile image mode=L size=1600x1144>},\n",
       " {'image': <PIL.PngImagePlugin.PngImageFile image mode=RGB size=1600x1144>,\n",
       "  'annotation': <PIL.PngImagePlugin.PngImageFile image mode=L size=1600x1144>},\n",
       " {'image': <PIL.PngImagePlugin.PngImageFile image mode=RGB size=1600x1144>,\n",
       "  'annotation': <PIL.PngImagePlugin.PngImageFile image mode=L size=1600x1144>},\n",
       " {'image': <PIL.PngImagePlugin.PngImageFile image mode=RGB size=1600x1144>,\n",
       "  'annotation': <PIL.PngImagePlugin.PngImageFile image mode=L size=1600x1144>},\n",
       " {'image': <PIL.PngImagePlugin.PngImageFile image mode=RGB size=1600x1144>,\n",
       "  'annotation': <PIL.PngImagePlugin.PngImageFile image mode=L size=1600x1144>},\n",
       " {'image': <PIL.PngImagePlugin.PngImageFile image mode=RGB size=1600x1144>,\n",
       "  'annotation': <PIL.PngImagePlugin.PngImageFile image mode=L size=1600x1144>},\n",
       " {'image': <PIL.PngImagePlugin.PngImageFile image mode=RGB size=1600x1144>,\n",
       "  'annotation': <PIL.PngImagePlugin.PngImageFile image mode=L size=1600x1144>},\n",
       " {'image': <PIL.PngImagePlugin.PngImageFile image mode=RGB size=1600x1144>,\n",
       "  'annotation': <PIL.PngImagePlugin.PngImageFile image mode=L size=1600x1144>},\n",
       " {'image': <PIL.PngImagePlugin.PngImageFile image mode=RGB size=1600x1144>,\n",
       "  'annotation': <PIL.PngImagePlugin.PngImageFile image mode=L size=1600x1144>},\n",
       " {'image': <PIL.PngImagePlugin.PngImageFile image mode=RGB size=1600x1144>,\n",
       "  'annotation': <PIL.PngImagePlugin.PngImageFile image mode=L size=1600x1144>},\n",
       " {'image': <PIL.PngImagePlugin.PngImageFile image mode=RGB size=1600x1144>,\n",
       "  'annotation': <PIL.PngImagePlugin.PngImageFile image mode=L size=1600x1144>},\n",
       " {'image': <PIL.PngImagePlugin.PngImageFile image mode=RGB size=1600x1144>,\n",
       "  'annotation': <PIL.PngImagePlugin.PngImageFile image mode=L size=1600x1144>},\n",
       " {'image': <PIL.PngImagePlugin.PngImageFile image mode=RGB size=1600x1144>,\n",
       "  'annotation': <PIL.PngImagePlugin.PngImageFile image mode=L size=1600x1144>},\n",
       " {'image': <PIL.PngImagePlugin.PngImageFile image mode=RGB size=1600x1144>,\n",
       "  'annotation': <PIL.PngImagePlugin.PngImageFile image mode=L size=1600x1144>},\n",
       " {'image': <PIL.PngImagePlugin.PngImageFile image mode=RGB size=1600x1144>,\n",
       "  'annotation': <PIL.PngImagePlugin.PngImageFile image mode=L size=1600x1144>},\n",
       " {'image': <PIL.PngImagePlugin.PngImageFile image mode=RGB size=1600x1144>,\n",
       "  'annotation': <PIL.PngImagePlugin.PngImageFile image mode=L size=1600x1144>},\n",
       " {'image': <PIL.PngImagePlugin.PngImageFile image mode=RGB size=1600x1144>,\n",
       "  'annotation': <PIL.PngImagePlugin.PngImageFile image mode=L size=1600x1144>},\n",
       " {'image': <PIL.PngImagePlugin.PngImageFile image mode=RGB size=1600x1144>,\n",
       "  'annotation': <PIL.PngImagePlugin.PngImageFile image mode=L size=1600x1144>},\n",
       " {'image': <PIL.PngImagePlugin.PngImageFile image mode=RGB size=1600x1144>,\n",
       "  'annotation': <PIL.PngImagePlugin.PngImageFile image mode=L size=1600x1144>},\n",
       " {'image': <PIL.PngImagePlugin.PngImageFile image mode=RGB size=1600x1144>,\n",
       "  'annotation': <PIL.PngImagePlugin.PngImageFile image mode=L size=1600x1144>},\n",
       " {'image': <PIL.PngImagePlugin.PngImageFile image mode=RGB size=1600x1144>,\n",
       "  'annotation': <PIL.PngImagePlugin.PngImageFile image mode=L size=1600x1144>},\n",
       " {'image': <PIL.PngImagePlugin.PngImageFile image mode=RGB size=1600x1144>,\n",
       "  'annotation': <PIL.PngImagePlugin.PngImageFile image mode=L size=1600x1144>},\n",
       " {'image': <PIL.PngImagePlugin.PngImageFile image mode=RGB size=1600x1144>,\n",
       "  'annotation': <PIL.PngImagePlugin.PngImageFile image mode=L size=1600x1144>},\n",
       " {'image': <PIL.PngImagePlugin.PngImageFile image mode=RGB size=1600x1144>,\n",
       "  'annotation': <PIL.PngImagePlugin.PngImageFile image mode=L size=1600x1144>},\n",
       " {'image': <PIL.PngImagePlugin.PngImageFile image mode=RGB size=1600x1144>,\n",
       "  'annotation': <PIL.PngImagePlugin.PngImageFile image mode=L size=1600x1144>},\n",
       " {'image': <PIL.PngImagePlugin.PngImageFile image mode=RGB size=1600x1144>,\n",
       "  'annotation': <PIL.PngImagePlugin.PngImageFile image mode=L size=1600x1144>},\n",
       " {'image': <PIL.PngImagePlugin.PngImageFile image mode=RGB size=1600x1144>,\n",
       "  'annotation': <PIL.PngImagePlugin.PngImageFile image mode=L size=1600x1144>},\n",
       " {'image': <PIL.PngImagePlugin.PngImageFile image mode=RGB size=1600x1144>,\n",
       "  'annotation': <PIL.PngImagePlugin.PngImageFile image mode=L size=1600x1144>},\n",
       " {'image': <PIL.PngImagePlugin.PngImageFile image mode=RGB size=1600x1144>,\n",
       "  'annotation': <PIL.PngImagePlugin.PngImageFile image mode=L size=1600x1144>},\n",
       " {'image': <PIL.PngImagePlugin.PngImageFile image mode=RGB size=1600x1144>,\n",
       "  'annotation': <PIL.PngImagePlugin.PngImageFile image mode=L size=1600x1144>},\n",
       " {'image': <PIL.PngImagePlugin.PngImageFile image mode=RGB size=1600x1144>,\n",
       "  'annotation': <PIL.PngImagePlugin.PngImageFile image mode=L size=1600x1144>},\n",
       " {'image': <PIL.PngImagePlugin.PngImageFile image mode=RGB size=1600x1144>,\n",
       "  'annotation': <PIL.PngImagePlugin.PngImageFile image mode=L size=1600x1144>},\n",
       " {'image': <PIL.PngImagePlugin.PngImageFile image mode=RGB size=1600x1144>,\n",
       "  'annotation': <PIL.PngImagePlugin.PngImageFile image mode=L size=1600x1144>},\n",
       " {'image': <PIL.PngImagePlugin.PngImageFile image mode=RGB size=1600x1144>,\n",
       "  'annotation': <PIL.PngImagePlugin.PngImageFile image mode=L size=1600x1144>},\n",
       " {'image': <PIL.PngImagePlugin.PngImageFile image mode=RGB size=1600x1144>,\n",
       "  'annotation': <PIL.PngImagePlugin.PngImageFile image mode=L size=1600x1144>},\n",
       " {'image': <PIL.PngImagePlugin.PngImageFile image mode=RGB size=1600x1144>,\n",
       "  'annotation': <PIL.PngImagePlugin.PngImageFile image mode=L size=1600x1144>},\n",
       " {'image': <PIL.PngImagePlugin.PngImageFile image mode=RGB size=1600x1144>,\n",
       "  'annotation': <PIL.PngImagePlugin.PngImageFile image mode=L size=1600x1144>},\n",
       " {'image': <PIL.PngImagePlugin.PngImageFile image mode=RGB size=1600x1144>,\n",
       "  'annotation': <PIL.PngImagePlugin.PngImageFile image mode=L size=1600x1144>},\n",
       " {'image': <PIL.PngImagePlugin.PngImageFile image mode=RGB size=1600x1144>,\n",
       "  'annotation': <PIL.PngImagePlugin.PngImageFile image mode=L size=1600x1144>},\n",
       " {'image': <PIL.PngImagePlugin.PngImageFile image mode=RGB size=1600x1144>,\n",
       "  'annotation': <PIL.PngImagePlugin.PngImageFile image mode=L size=1600x1144>},\n",
       " {'image': <PIL.PngImagePlugin.PngImageFile image mode=RGB size=1600x1144>,\n",
       "  'annotation': <PIL.PngImagePlugin.PngImageFile image mode=L size=1600x1144>},\n",
       " {'image': <PIL.PngImagePlugin.PngImageFile image mode=RGB size=1600x1144>,\n",
       "  'annotation': <PIL.PngImagePlugin.PngImageFile image mode=L size=1600x1144>},\n",
       " {'image': <PIL.PngImagePlugin.PngImageFile image mode=RGB size=1600x1144>,\n",
       "  'annotation': <PIL.PngImagePlugin.PngImageFile image mode=L size=1600x1144>},\n",
       " {'image': <PIL.PngImagePlugin.PngImageFile image mode=RGB size=1600x1144>,\n",
       "  'annotation': <PIL.PngImagePlugin.PngImageFile image mode=L size=1600x1144>},\n",
       " {'image': <PIL.PngImagePlugin.PngImageFile image mode=RGB size=1600x1144>,\n",
       "  'annotation': <PIL.PngImagePlugin.PngImageFile image mode=L size=1600x1144>},\n",
       " {'image': <PIL.PngImagePlugin.PngImageFile image mode=RGB size=1600x1144>,\n",
       "  'annotation': <PIL.PngImagePlugin.PngImageFile image mode=L size=1600x1144>},\n",
       " {'image': <PIL.PngImagePlugin.PngImageFile image mode=RGB size=1600x1144>,\n",
       "  'annotation': <PIL.PngImagePlugin.PngImageFile image mode=L size=1600x1144>},\n",
       " {'image': <PIL.PngImagePlugin.PngImageFile image mode=RGB size=1600x1144>,\n",
       "  'annotation': <PIL.PngImagePlugin.PngImageFile image mode=L size=1600x1144>},\n",
       " {'image': <PIL.PngImagePlugin.PngImageFile image mode=RGB size=1600x1144>,\n",
       "  'annotation': <PIL.PngImagePlugin.PngImageFile image mode=L size=1600x1144>},\n",
       " {'image': <PIL.PngImagePlugin.PngImageFile image mode=RGB size=1600x1144>,\n",
       "  'annotation': <PIL.PngImagePlugin.PngImageFile image mode=L size=1600x1144>},\n",
       " {'image': <PIL.PngImagePlugin.PngImageFile image mode=RGB size=1600x1144>,\n",
       "  'annotation': <PIL.PngImagePlugin.PngImageFile image mode=L size=1600x1144>},\n",
       " {'image': <PIL.PngImagePlugin.PngImageFile image mode=RGB size=1600x1144>,\n",
       "  'annotation': <PIL.PngImagePlugin.PngImageFile image mode=L size=1600x1144>},\n",
       " {'image': <PIL.PngImagePlugin.PngImageFile image mode=RGB size=1600x1144>,\n",
       "  'annotation': <PIL.PngImagePlugin.PngImageFile image mode=L size=1600x1144>},\n",
       " {'image': <PIL.PngImagePlugin.PngImageFile image mode=RGB size=1600x1144>,\n",
       "  'annotation': <PIL.PngImagePlugin.PngImageFile image mode=L size=1600x1144>},\n",
       " {'image': <PIL.PngImagePlugin.PngImageFile image mode=RGB size=1600x1144>,\n",
       "  'annotation': <PIL.PngImagePlugin.PngImageFile image mode=L size=1600x1144>},\n",
       " {'image': <PIL.PngImagePlugin.PngImageFile image mode=RGB size=1600x1144>,\n",
       "  'annotation': <PIL.PngImagePlugin.PngImageFile image mode=L size=1600x1144>},\n",
       " {'image': <PIL.PngImagePlugin.PngImageFile image mode=RGB size=1600x1144>,\n",
       "  'annotation': <PIL.PngImagePlugin.PngImageFile image mode=L size=1600x1144>},\n",
       " {'image': <PIL.PngImagePlugin.PngImageFile image mode=RGB size=1600x1144>,\n",
       "  'annotation': <PIL.PngImagePlugin.PngImageFile image mode=L size=1600x1144>},\n",
       " {'image': <PIL.PngImagePlugin.PngImageFile image mode=RGB size=1600x1144>,\n",
       "  'annotation': <PIL.PngImagePlugin.PngImageFile image mode=L size=1600x1144>},\n",
       " {'image': <PIL.PngImagePlugin.PngImageFile image mode=RGB size=1600x1144>,\n",
       "  'annotation': <PIL.PngImagePlugin.PngImageFile image mode=L size=1600x1144>},\n",
       " {'image': <PIL.PngImagePlugin.PngImageFile image mode=RGB size=1600x1144>,\n",
       "  'annotation': <PIL.PngImagePlugin.PngImageFile image mode=L size=1600x1144>},\n",
       " {'image': <PIL.PngImagePlugin.PngImageFile image mode=RGB size=1600x1144>,\n",
       "  'annotation': <PIL.PngImagePlugin.PngImageFile image mode=L size=1600x1144>},\n",
       " {'image': <PIL.PngImagePlugin.PngImageFile image mode=RGB size=1600x1144>,\n",
       "  'annotation': <PIL.PngImagePlugin.PngImageFile image mode=L size=1600x1144>},\n",
       " {'image': <PIL.PngImagePlugin.PngImageFile image mode=RGB size=1600x1144>,\n",
       "  'annotation': <PIL.PngImagePlugin.PngImageFile image mode=L size=1600x1144>},\n",
       " {'image': <PIL.PngImagePlugin.PngImageFile image mode=RGB size=1600x1144>,\n",
       "  'annotation': <PIL.PngImagePlugin.PngImageFile image mode=L size=1600x1144>},\n",
       " {'image': <PIL.PngImagePlugin.PngImageFile image mode=RGB size=1600x1144>,\n",
       "  'annotation': <PIL.PngImagePlugin.PngImageFile image mode=L size=1600x1144>},\n",
       " {'image': <PIL.PngImagePlugin.PngImageFile image mode=RGB size=1600x1144>,\n",
       "  'annotation': <PIL.PngImagePlugin.PngImageFile image mode=L size=1600x1144>},\n",
       " {'image': <PIL.PngImagePlugin.PngImageFile image mode=RGB size=1600x1144>,\n",
       "  'annotation': <PIL.PngImagePlugin.PngImageFile image mode=L size=1600x1144>},\n",
       " {'image': <PIL.PngImagePlugin.PngImageFile image mode=RGB size=1600x1144>,\n",
       "  'annotation': <PIL.PngImagePlugin.PngImageFile image mode=L size=1600x1144>},\n",
       " {'image': <PIL.PngImagePlugin.PngImageFile image mode=RGB size=1600x1144>,\n",
       "  'annotation': <PIL.PngImagePlugin.PngImageFile image mode=L size=1600x1144>},\n",
       " {'image': <PIL.PngImagePlugin.PngImageFile image mode=RGB size=1600x1144>,\n",
       "  'annotation': <PIL.PngImagePlugin.PngImageFile image mode=L size=1600x1144>},\n",
       " {'image': <PIL.PngImagePlugin.PngImageFile image mode=RGB size=1600x1144>,\n",
       "  'annotation': <PIL.PngImagePlugin.PngImageFile image mode=L size=1600x1144>},\n",
       " {'image': <PIL.PngImagePlugin.PngImageFile image mode=RGB size=1600x1144>,\n",
       "  'annotation': <PIL.PngImagePlugin.PngImageFile image mode=L size=1600x1144>},\n",
       " {'image': <PIL.PngImagePlugin.PngImageFile image mode=RGB size=1600x1144>,\n",
       "  'annotation': <PIL.PngImagePlugin.PngImageFile image mode=L size=1600x1144>},\n",
       " {'image': <PIL.PngImagePlugin.PngImageFile image mode=RGB size=1600x1144>,\n",
       "  'annotation': <PIL.PngImagePlugin.PngImageFile image mode=L size=1600x1144>},\n",
       " {'image': <PIL.PngImagePlugin.PngImageFile image mode=RGB size=1600x1144>,\n",
       "  'annotation': <PIL.PngImagePlugin.PngImageFile image mode=L size=1600x1144>},\n",
       " {'image': <PIL.PngImagePlugin.PngImageFile image mode=RGB size=1600x1144>,\n",
       "  'annotation': <PIL.PngImagePlugin.PngImageFile image mode=L size=1600x1144>},\n",
       " {'image': <PIL.PngImagePlugin.PngImageFile image mode=RGB size=1600x1144>,\n",
       "  'annotation': <PIL.PngImagePlugin.PngImageFile image mode=L size=1600x1144>},\n",
       " {'image': <PIL.PngImagePlugin.PngImageFile image mode=RGB size=1600x1144>,\n",
       "  'annotation': <PIL.PngImagePlugin.PngImageFile image mode=L size=1600x1144>},\n",
       " {'image': <PIL.PngImagePlugin.PngImageFile image mode=RGB size=1600x1144>,\n",
       "  'annotation': <PIL.PngImagePlugin.PngImageFile image mode=L size=1600x1144>},\n",
       " {'image': <PIL.PngImagePlugin.PngImageFile image mode=RGB size=1600x1144>,\n",
       "  'annotation': <PIL.PngImagePlugin.PngImageFile image mode=L size=1600x1144>},\n",
       " {'image': <PIL.PngImagePlugin.PngImageFile image mode=RGB size=1600x1144>,\n",
       "  'annotation': <PIL.PngImagePlugin.PngImageFile image mode=L size=1600x1144>},\n",
       " {'image': <PIL.PngImagePlugin.PngImageFile image mode=RGB size=1600x1144>,\n",
       "  'annotation': <PIL.PngImagePlugin.PngImageFile image mode=L size=1600x1144>},\n",
       " {'image': <PIL.PngImagePlugin.PngImageFile image mode=RGB size=1600x1144>,\n",
       "  'annotation': <PIL.PngImagePlugin.PngImageFile image mode=L size=1600x1144>},\n",
       " {'image': <PIL.PngImagePlugin.PngImageFile image mode=RGB size=1600x1144>,\n",
       "  'annotation': <PIL.PngImagePlugin.PngImageFile image mode=L size=1600x1144>},\n",
       " {'image': <PIL.PngImagePlugin.PngImageFile image mode=RGB size=1600x1144>,\n",
       "  'annotation': <PIL.PngImagePlugin.PngImageFile image mode=L size=1600x1144>},\n",
       " {'image': <PIL.PngImagePlugin.PngImageFile image mode=RGB size=1600x1144>,\n",
       "  'annotation': <PIL.PngImagePlugin.PngImageFile image mode=L size=1600x1144>},\n",
       " {'image': <PIL.PngImagePlugin.PngImageFile image mode=RGB size=1600x1144>,\n",
       "  'annotation': <PIL.PngImagePlugin.PngImageFile image mode=L size=1600x1144>},\n",
       " {'image': <PIL.PngImagePlugin.PngImageFile image mode=RGB size=1600x1144>,\n",
       "  'annotation': <PIL.PngImagePlugin.PngImageFile image mode=L size=1600x1144>},\n",
       " {'image': <PIL.PngImagePlugin.PngImageFile image mode=RGB size=1600x1144>,\n",
       "  'annotation': <PIL.PngImagePlugin.PngImageFile image mode=L size=1600x1144>},\n",
       " {'image': <PIL.PngImagePlugin.PngImageFile image mode=RGB size=1600x1144>,\n",
       "  'annotation': <PIL.PngImagePlugin.PngImageFile image mode=L size=1600x1144>},\n",
       " {'image': <PIL.PngImagePlugin.PngImageFile image mode=RGB size=1600x1144>,\n",
       "  'annotation': <PIL.PngImagePlugin.PngImageFile image mode=L size=1600x1144>},\n",
       " {'image': <PIL.PngImagePlugin.PngImageFile image mode=RGB size=1600x1144>,\n",
       "  'annotation': <PIL.PngImagePlugin.PngImageFile image mode=L size=1600x1144>},\n",
       " {'image': <PIL.PngImagePlugin.PngImageFile image mode=RGB size=1600x1144>,\n",
       "  'annotation': <PIL.PngImagePlugin.PngImageFile image mode=L size=1600x1144>},\n",
       " {'image': <PIL.PngImagePlugin.PngImageFile image mode=RGB size=1600x1144>,\n",
       "  'annotation': <PIL.PngImagePlugin.PngImageFile image mode=L size=1600x1144>},\n",
       " {'image': <PIL.PngImagePlugin.PngImageFile image mode=RGB size=1600x1144>,\n",
       "  'annotation': <PIL.PngImagePlugin.PngImageFile image mode=L size=1600x1144>},\n",
       " {'image': <PIL.PngImagePlugin.PngImageFile image mode=RGB size=1600x1144>,\n",
       "  'annotation': <PIL.PngImagePlugin.PngImageFile image mode=L size=1600x1144>},\n",
       " {'image': <PIL.PngImagePlugin.PngImageFile image mode=RGB size=1600x1144>,\n",
       "  'annotation': <PIL.PngImagePlugin.PngImageFile image mode=L size=1600x1144>},\n",
       " {'image': <PIL.PngImagePlugin.PngImageFile image mode=RGB size=1600x1144>,\n",
       "  'annotation': <PIL.PngImagePlugin.PngImageFile image mode=L size=1600x1144>},\n",
       " {'image': <PIL.PngImagePlugin.PngImageFile image mode=RGB size=1600x1144>,\n",
       "  'annotation': <PIL.PngImagePlugin.PngImageFile image mode=L size=1600x1144>},\n",
       " {'image': <PIL.PngImagePlugin.PngImageFile image mode=RGB size=1600x1144>,\n",
       "  'annotation': <PIL.PngImagePlugin.PngImageFile image mode=L size=1600x1144>},\n",
       " {'image': <PIL.PngImagePlugin.PngImageFile image mode=RGB size=1600x1144>,\n",
       "  'annotation': <PIL.PngImagePlugin.PngImageFile image mode=L size=1600x1144>},\n",
       " {'image': <PIL.PngImagePlugin.PngImageFile image mode=RGB size=1600x1144>,\n",
       "  'annotation': <PIL.PngImagePlugin.PngImageFile image mode=L size=1600x1144>},\n",
       " {'image': <PIL.PngImagePlugin.PngImageFile image mode=RGB size=1600x1144>,\n",
       "  'annotation': <PIL.PngImagePlugin.PngImageFile image mode=L size=1600x1144>},\n",
       " {'image': <PIL.PngImagePlugin.PngImageFile image mode=RGB size=1600x1144>,\n",
       "  'annotation': <PIL.PngImagePlugin.PngImageFile image mode=L size=1600x1144>},\n",
       " {'image': <PIL.PngImagePlugin.PngImageFile image mode=RGB size=1600x1144>,\n",
       "  'annotation': <PIL.PngImagePlugin.PngImageFile image mode=L size=1600x1144>},\n",
       " {'image': <PIL.PngImagePlugin.PngImageFile image mode=RGB size=1600x1144>,\n",
       "  'annotation': <PIL.PngImagePlugin.PngImageFile image mode=L size=1600x1144>},\n",
       " {'image': <PIL.PngImagePlugin.PngImageFile image mode=RGB size=1600x1144>,\n",
       "  'annotation': <PIL.PngImagePlugin.PngImageFile image mode=L size=1600x1144>},\n",
       " {'image': <PIL.PngImagePlugin.PngImageFile image mode=RGB size=1600x1144>,\n",
       "  'annotation': <PIL.PngImagePlugin.PngImageFile image mode=L size=1600x1144>},\n",
       " {'image': <PIL.PngImagePlugin.PngImageFile image mode=RGB size=1600x1144>,\n",
       "  'annotation': <PIL.PngImagePlugin.PngImageFile image mode=L size=1600x1144>},\n",
       " {'image': <PIL.PngImagePlugin.PngImageFile image mode=RGB size=1600x1144>,\n",
       "  'annotation': <PIL.PngImagePlugin.PngImageFile image mode=L size=1600x1144>},\n",
       " {'image': <PIL.PngImagePlugin.PngImageFile image mode=RGB size=1600x1144>,\n",
       "  'annotation': <PIL.PngImagePlugin.PngImageFile image mode=L size=1600x1144>},\n",
       " {'image': <PIL.PngImagePlugin.PngImageFile image mode=RGB size=1600x1144>,\n",
       "  'annotation': <PIL.PngImagePlugin.PngImageFile image mode=L size=1600x1144>},\n",
       " {'image': <PIL.PngImagePlugin.PngImageFile image mode=RGB size=1600x1144>,\n",
       "  'annotation': <PIL.PngImagePlugin.PngImageFile image mode=L size=1600x1144>},\n",
       " {'image': <PIL.PngImagePlugin.PngImageFile image mode=RGB size=1600x1144>,\n",
       "  'annotation': <PIL.PngImagePlugin.PngImageFile image mode=L size=1600x1144>},\n",
       " {'image': <PIL.PngImagePlugin.PngImageFile image mode=RGB size=1600x1144>,\n",
       "  'annotation': <PIL.PngImagePlugin.PngImageFile image mode=L size=1600x1144>},\n",
       " {'image': <PIL.PngImagePlugin.PngImageFile image mode=RGB size=1600x1144>,\n",
       "  'annotation': <PIL.PngImagePlugin.PngImageFile image mode=L size=1600x1144>},\n",
       " {'image': <PIL.PngImagePlugin.PngImageFile image mode=RGB size=1600x1144>,\n",
       "  'annotation': <PIL.PngImagePlugin.PngImageFile image mode=L size=1600x1144>},\n",
       " {'image': <PIL.PngImagePlugin.PngImageFile image mode=RGB size=1600x1144>,\n",
       "  'annotation': <PIL.PngImagePlugin.PngImageFile image mode=L size=1600x1144>},\n",
       " {'image': <PIL.PngImagePlugin.PngImageFile image mode=RGB size=1600x1144>,\n",
       "  'annotation': <PIL.PngImagePlugin.PngImageFile image mode=L size=1600x1144>},\n",
       " {'image': <PIL.PngImagePlugin.PngImageFile image mode=RGB size=1600x1144>,\n",
       "  'annotation': <PIL.PngImagePlugin.PngImageFile image mode=L size=1600x1144>},\n",
       " {'image': <PIL.PngImagePlugin.PngImageFile image mode=RGB size=1600x1144>,\n",
       "  'annotation': <PIL.PngImagePlugin.PngImageFile image mode=L size=1600x1144>},\n",
       " {'image': <PIL.PngImagePlugin.PngImageFile image mode=RGB size=1600x1144>,\n",
       "  'annotation': <PIL.PngImagePlugin.PngImageFile image mode=L size=1600x1144>},\n",
       " {'image': <PIL.PngImagePlugin.PngImageFile image mode=RGB size=1600x1144>,\n",
       "  'annotation': <PIL.PngImagePlugin.PngImageFile image mode=L size=1600x1144>},\n",
       " {'image': <PIL.PngImagePlugin.PngImageFile image mode=RGB size=1600x1144>,\n",
       "  'annotation': <PIL.PngImagePlugin.PngImageFile image mode=L size=1600x1144>},\n",
       " {'image': <PIL.PngImagePlugin.PngImageFile image mode=RGB size=1600x1144>,\n",
       "  'annotation': <PIL.PngImagePlugin.PngImageFile image mode=L size=1600x1144>},\n",
       " {'image': <PIL.PngImagePlugin.PngImageFile image mode=RGB size=1600x1144>,\n",
       "  'annotation': <PIL.PngImagePlugin.PngImageFile image mode=L size=1600x1144>},\n",
       " {'image': <PIL.PngImagePlugin.PngImageFile image mode=RGB size=1600x1144>,\n",
       "  'annotation': <PIL.PngImagePlugin.PngImageFile image mode=L size=1600x1144>},\n",
       " {'image': <PIL.PngImagePlugin.PngImageFile image mode=RGB size=1600x1144>,\n",
       "  'annotation': <PIL.PngImagePlugin.PngImageFile image mode=L size=1600x1144>},\n",
       " {'image': <PIL.PngImagePlugin.PngImageFile image mode=RGB size=1600x1144>,\n",
       "  'annotation': <PIL.PngImagePlugin.PngImageFile image mode=L size=1600x1144>},\n",
       " {'image': <PIL.PngImagePlugin.PngImageFile image mode=RGB size=1600x1144>,\n",
       "  'annotation': <PIL.PngImagePlugin.PngImageFile image mode=L size=1600x1144>},\n",
       " {'image': <PIL.PngImagePlugin.PngImageFile image mode=RGB size=1600x1144>,\n",
       "  'annotation': <PIL.PngImagePlugin.PngImageFile image mode=L size=1600x1144>},\n",
       " {'image': <PIL.PngImagePlugin.PngImageFile image mode=RGB size=1600x1144>,\n",
       "  'annotation': <PIL.PngImagePlugin.PngImageFile image mode=L size=1600x1144>},\n",
       " {'image': <PIL.PngImagePlugin.PngImageFile image mode=RGB size=1600x1144>,\n",
       "  'annotation': <PIL.PngImagePlugin.PngImageFile image mode=L size=1600x1144>},\n",
       " {'image': <PIL.PngImagePlugin.PngImageFile image mode=RGB size=1600x1144>,\n",
       "  'annotation': <PIL.PngImagePlugin.PngImageFile image mode=L size=1600x1144>},\n",
       " {'image': <PIL.PngImagePlugin.PngImageFile image mode=RGB size=1600x1144>,\n",
       "  'annotation': <PIL.PngImagePlugin.PngImageFile image mode=L size=1600x1144>},\n",
       " {'image': <PIL.PngImagePlugin.PngImageFile image mode=RGB size=1600x1144>,\n",
       "  'annotation': <PIL.PngImagePlugin.PngImageFile image mode=L size=1600x1144>},\n",
       " {'image': <PIL.PngImagePlugin.PngImageFile image mode=RGB size=1600x1144>,\n",
       "  'annotation': <PIL.PngImagePlugin.PngImageFile image mode=L size=1600x1144>},\n",
       " {'image': <PIL.PngImagePlugin.PngImageFile image mode=RGB size=1600x1144>,\n",
       "  'annotation': <PIL.PngImagePlugin.PngImageFile image mode=L size=1600x1144>},\n",
       " {'image': <PIL.PngImagePlugin.PngImageFile image mode=RGB size=1600x1144>,\n",
       "  'annotation': <PIL.PngImagePlugin.PngImageFile image mode=L size=1600x1144>},\n",
       " {'image': <PIL.PngImagePlugin.PngImageFile image mode=RGB size=1600x1144>,\n",
       "  'annotation': <PIL.PngImagePlugin.PngImageFile image mode=L size=1600x1144>},\n",
       " {'image': <PIL.PngImagePlugin.PngImageFile image mode=RGB size=1600x1144>,\n",
       "  'annotation': <PIL.PngImagePlugin.PngImageFile image mode=L size=1600x1144>},\n",
       " {'image': <PIL.PngImagePlugin.PngImageFile image mode=RGB size=1600x1144>,\n",
       "  'annotation': <PIL.PngImagePlugin.PngImageFile image mode=L size=1600x1144>},\n",
       " {'image': <PIL.PngImagePlugin.PngImageFile image mode=RGB size=1600x1144>,\n",
       "  'annotation': <PIL.PngImagePlugin.PngImageFile image mode=L size=1600x1144>},\n",
       " {'image': <PIL.PngImagePlugin.PngImageFile image mode=RGB size=1600x1144>,\n",
       "  'annotation': <PIL.PngImagePlugin.PngImageFile image mode=L size=1600x1144>},\n",
       " {'image': <PIL.PngImagePlugin.PngImageFile image mode=RGB size=1600x1144>,\n",
       "  'annotation': <PIL.PngImagePlugin.PngImageFile image mode=L size=1600x1144>},\n",
       " {'image': <PIL.PngImagePlugin.PngImageFile image mode=RGB size=1600x1144>,\n",
       "  'annotation': <PIL.PngImagePlugin.PngImageFile image mode=L size=1600x1144>},\n",
       " {'image': <PIL.PngImagePlugin.PngImageFile image mode=RGB size=1600x1144>,\n",
       "  'annotation': <PIL.PngImagePlugin.PngImageFile image mode=L size=1600x1144>},\n",
       " {'image': <PIL.PngImagePlugin.PngImageFile image mode=RGB size=1600x1144>,\n",
       "  'annotation': <PIL.PngImagePlugin.PngImageFile image mode=L size=1600x1144>},\n",
       " {'image': <PIL.PngImagePlugin.PngImageFile image mode=RGB size=1600x1144>,\n",
       "  'annotation': <PIL.PngImagePlugin.PngImageFile image mode=L size=1600x1144>},\n",
       " {'image': <PIL.PngImagePlugin.PngImageFile image mode=RGB size=1600x1144>,\n",
       "  'annotation': <PIL.PngImagePlugin.PngImageFile image mode=L size=1600x1144>},\n",
       " {'image': <PIL.PngImagePlugin.PngImageFile image mode=RGB size=1600x1144>,\n",
       "  'annotation': <PIL.PngImagePlugin.PngImageFile image mode=L size=1600x1144>},\n",
       " {'image': <PIL.PngImagePlugin.PngImageFile image mode=RGB size=1600x1144>,\n",
       "  'annotation': <PIL.PngImagePlugin.PngImageFile image mode=L size=1600x1144>},\n",
       " {'image': <PIL.PngImagePlugin.PngImageFile image mode=RGB size=1600x1144>,\n",
       "  'annotation': <PIL.PngImagePlugin.PngImageFile image mode=L size=1600x1144>},\n",
       " {'image': <PIL.PngImagePlugin.PngImageFile image mode=RGB size=1600x1144>,\n",
       "  'annotation': <PIL.PngImagePlugin.PngImageFile image mode=L size=1600x1144>},\n",
       " {'image': <PIL.PngImagePlugin.PngImageFile image mode=RGB size=1600x1144>,\n",
       "  'annotation': <PIL.PngImagePlugin.PngImageFile image mode=L size=1600x1144>},\n",
       " {'image': <PIL.PngImagePlugin.PngImageFile image mode=RGB size=1600x1144>,\n",
       "  'annotation': <PIL.PngImagePlugin.PngImageFile image mode=L size=1600x1144>},\n",
       " {'image': <PIL.PngImagePlugin.PngImageFile image mode=RGB size=1600x1144>,\n",
       "  'annotation': <PIL.PngImagePlugin.PngImageFile image mode=L size=1600x1144>},\n",
       " {'image': <PIL.PngImagePlugin.PngImageFile image mode=RGB size=1600x1144>,\n",
       "  'annotation': <PIL.PngImagePlugin.PngImageFile image mode=L size=1600x1144>},\n",
       " {'image': <PIL.PngImagePlugin.PngImageFile image mode=RGB size=1600x1144>,\n",
       "  'annotation': <PIL.PngImagePlugin.PngImageFile image mode=L size=1600x1144>},\n",
       " {'image': <PIL.PngImagePlugin.PngImageFile image mode=RGB size=1600x1144>,\n",
       "  'annotation': <PIL.PngImagePlugin.PngImageFile image mode=L size=1600x1144>},\n",
       " {'image': <PIL.PngImagePlugin.PngImageFile image mode=RGB size=1600x1144>,\n",
       "  'annotation': <PIL.PngImagePlugin.PngImageFile image mode=L size=1600x1144>},\n",
       " {'image': <PIL.PngImagePlugin.PngImageFile image mode=RGB size=1600x1144>,\n",
       "  'annotation': <PIL.PngImagePlugin.PngImageFile image mode=L size=1600x1144>},\n",
       " {'image': <PIL.PngImagePlugin.PngImageFile image mode=RGB size=1600x1144>,\n",
       "  'annotation': <PIL.PngImagePlugin.PngImageFile image mode=L size=1600x1144>},\n",
       " {'image': <PIL.PngImagePlugin.PngImageFile image mode=RGB size=1600x1144>,\n",
       "  'annotation': <PIL.PngImagePlugin.PngImageFile image mode=L size=1600x1144>},\n",
       " {'image': <PIL.PngImagePlugin.PngImageFile image mode=RGB size=1600x1144>,\n",
       "  'annotation': <PIL.PngImagePlugin.PngImageFile image mode=L size=1600x1144>},\n",
       " {'image': <PIL.PngImagePlugin.PngImageFile image mode=RGB size=1600x1144>,\n",
       "  'annotation': <PIL.PngImagePlugin.PngImageFile image mode=L size=1600x1144>},\n",
       " {'image': <PIL.PngImagePlugin.PngImageFile image mode=RGB size=1600x1144>,\n",
       "  'annotation': <PIL.PngImagePlugin.PngImageFile image mode=L size=1600x1144>}]"
      ]
     },
     "execution_count": 6,
     "metadata": {},
     "output_type": "execute_result"
    }
   ],
   "source": [
    "broad_bean_image_list = get_image_list_for_crop('broad_bean')\n",
    "broad_bean_image_list"
   ]
  },
  {
   "cell_type": "code",
   "execution_count": 7,
   "metadata": {},
   "outputs": [
    {
     "name": "stderr",
     "output_type": "stream",
     "text": [
      "Could not find image processor class in the image processor config or the model config. Loading based on pattern matching with the model's feature extractor configuration.\n",
      "c:\\Users\\kuian\\.conda\\envs\\master\\lib\\site-packages\\transformers\\models\\segformer\\image_processing_segformer.py:99: FutureWarning: The `reduce_labels` parameter is deprecated and will be removed in a future version. Please use `do_reduce_labels` instead.\n",
      "  warnings.warn(\n"
     ]
    }
   ],
   "source": [
    "from transformers import AutoImageProcessor\n",
    "\n",
    "checkpoint = \"nvidia/mit-b0\"\n",
    "image_processor = AutoImageProcessor.from_pretrained(checkpoint, reduce_labels=True)"
   ]
  },
  {
   "cell_type": "code",
   "execution_count": 8,
   "metadata": {},
   "outputs": [],
   "source": [
    "def train_transforms(example_batch):\n",
    "    images = [x for x in example_batch[\"image\"]]\n",
    "    labels = [x for x in example_batch[\"annotation\"]]\n",
    "    inputs = image_processor(images, labels)\n",
    "    return inputs"
   ]
  },
  {
   "cell_type": "code",
   "execution_count": 9,
   "metadata": {},
   "outputs": [],
   "source": [
    "metric = evaluate.load(\"mean_iou\")"
   ]
  },
  {
   "cell_type": "code",
   "execution_count": 10,
   "metadata": {},
   "outputs": [
    {
     "name": "stdout",
     "output_type": "stream",
     "text": [
      "id2label: {1: 'void', 2: 'soil', 3: 'broad bean', 4: 'corn spurry', 5: 'red-root amaranth', 6: 'common buckwheat', 7: 'pea', 8: 'red fingergrass', 9: 'common wild oat', 10: 'cornflower', 11: 'corn cockle', 12: 'corn', 13: 'milk thistle', 14: 'rye brome', 15: 'soybean', 16: 'sunflower', 17: 'narrow-leaved plantain', 18: 'small-flower geranium', 19: 'sugar beet'}\n",
      "label2id: {'void': 1, 'soil': 2, 'broad bean': 3, 'corn spurry': 4, 'red-root amaranth': 5, 'common buckwheat': 6, 'pea': 7, 'red fingergrass': 8, 'common wild oat': 9, 'cornflower': 10, 'corn cockle': 11, 'corn': 12, 'milk thistle': 13, 'rye brome': 14, 'soybean': 15, 'sunflower': 16, 'narrow-leaved plantain': 17, 'small-flower geranium': 18, 'sugar beet': 19}\n"
     ]
    }
   ],
   "source": [
    "with open('./WE3DS/class_names.txt', 'r') as file:\n",
    "    labels = [line.strip() for line in file]\n",
    "\n",
    "ids = list(range(1, 20))\n",
    "\n",
    "id2label = dict(zip(ids, labels))\n",
    "label2id = dict(zip(labels, ids))\n",
    "\n",
    "num_labels = len(labels)\n",
    "\n",
    "print(\"id2label:\", id2label)\n",
    "print(\"label2id:\", label2id)"
   ]
  },
  {
   "cell_type": "code",
   "execution_count": 11,
   "metadata": {},
   "outputs": [],
   "source": [
    "def compute_metrics(eval_pred):\n",
    "    with torch.no_grad():\n",
    "        logits, labels = eval_pred\n",
    "        logits_tensor = torch.from_numpy(logits)\n",
    "        logits_tensor = torch.nn.functional.interpolate(\n",
    "            logits_tensor,\n",
    "            size=labels.shape[-2:],\n",
    "            mode=\"bilinear\",\n",
    "            align_corners=False,\n",
    "        ).argmax(dim=1)\n",
    "\n",
    "        pred_labels = logits_tensor.detach().cpu().numpy()\n",
    "        metrics = metric.compute(\n",
    "            predictions=pred_labels,\n",
    "            references=labels,\n",
    "            num_labels=num_labels,\n",
    "            ignore_index=255,\n",
    "            reduce_labels=False,\n",
    "        )\n",
    "        for key, value in metrics.items():\n",
    "            if type(value) is np.ndarray:\n",
    "                metrics[key] = value.tolist()\n",
    "        return metrics"
   ]
  },
  {
   "cell_type": "code",
   "execution_count": 12,
   "metadata": {},
   "outputs": [
    {
     "name": "stderr",
     "output_type": "stream",
     "text": [
      "Some weights of the model checkpoint at nvidia/mit-b0 were not used when initializing SegformerForSemanticSegmentation: ['classifier.bias', 'classifier.weight']\n",
      "- This IS expected if you are initializing SegformerForSemanticSegmentation from the checkpoint of a model trained on another task or with another architecture (e.g. initializing a BertForSequenceClassification model from a BertForPreTraining model).\n",
      "- This IS NOT expected if you are initializing SegformerForSemanticSegmentation from the checkpoint of a model that you expect to be exactly identical (initializing a BertForSequenceClassification model from a BertForSequenceClassification model).\n",
      "Some weights of SegformerForSemanticSegmentation were not initialized from the model checkpoint at nvidia/mit-b0 and are newly initialized: ['decode_head.linear_fuse.weight', 'decode_head.linear_c.2.proj.bias', 'decode_head.linear_c.3.proj.bias', 'decode_head.classifier.bias', 'decode_head.linear_c.0.proj.weight', 'decode_head.linear_c.0.proj.bias', 'decode_head.batch_norm.weight', 'decode_head.linear_c.2.proj.weight', 'decode_head.linear_c.1.proj.bias', 'decode_head.linear_c.3.proj.weight', 'decode_head.linear_c.1.proj.weight', 'decode_head.batch_norm.running_var', 'decode_head.batch_norm.running_mean', 'decode_head.batch_norm.bias', 'decode_head.batch_norm.num_batches_tracked', 'decode_head.classifier.weight']\n",
      "You should probably TRAIN this model on a down-stream task to be able to use it for predictions and inference.\n"
     ]
    }
   ],
   "source": [
    "from transformers import AutoModelForSemanticSegmentation, TrainingArguments, Trainer\n",
    "\n",
    "model = AutoModelForSemanticSegmentation.from_pretrained(checkpoint, id2label=id2label, label2id=label2id)"
   ]
  },
  {
   "cell_type": "code",
   "execution_count": 13,
   "metadata": {},
   "outputs": [],
   "source": [
    "training_args = TrainingArguments(\n",
    "    output_dir=\"segformer-b0-scene-parse-150\",\n",
    "    learning_rate=6e-5,\n",
    "    num_train_epochs=50,\n",
    "    per_device_train_batch_size=2,\n",
    "    per_device_eval_batch_size=2,\n",
    "    save_total_limit=3,\n",
    "    evaluation_strategy=\"steps\",\n",
    "    save_strategy=\"steps\",\n",
    "    save_steps=20,\n",
    "    eval_steps=20,\n",
    "    logging_steps=1,\n",
    "    eval_accumulation_steps=5,\n",
    "    remove_unused_columns=False,\n",
    ")"
   ]
  },
  {
   "cell_type": "code",
   "execution_count": 14,
   "metadata": {},
   "outputs": [],
   "source": [
    "def initialize_trainer(train_ds, test_ds) :\n",
    "    trainer = Trainer(\n",
    "        model=model,\n",
    "        args=training_args,\n",
    "        train_dataset=train_ds,\n",
    "        eval_dataset=test_ds,\n",
    "        compute_metrics=compute_metrics,\n",
    "    )\n",
    "    return trainer"
   ]
  },
  {
   "cell_type": "code",
   "execution_count": 15,
   "metadata": {},
   "outputs": [],
   "source": [
    "broad_bean_train_ds, broad_bean_test_ds = create_and_split_dataset_for_crop(broad_bean_image_list)\n",
    "broad_bean_train_ds.set_transform(train_transforms)\n",
    "broad_bean_test_ds.set_transform(train_transforms)"
   ]
  },
  {
   "cell_type": "code",
   "execution_count": 16,
   "metadata": {},
   "outputs": [
    {
     "name": "stderr",
     "output_type": "stream",
     "text": [
      "c:\\Users\\kuian\\.conda\\envs\\master\\lib\\site-packages\\transformers\\optimization.py:411: FutureWarning: This implementation of AdamW is deprecated and will be removed in a future version. Use the PyTorch implementation torch.optim.AdamW instead, or set `no_deprecation_warning=True` to disable this warning\n",
      "  warnings.warn(\n",
      "  0%|          | 1/4200 [00:04<4:40:15,  4.00s/it]"
     ]
    },
    {
     "name": "stdout",
     "output_type": "stream",
     "text": [
      "{'loss': 2.9203, 'learning_rate': 5.9985714285714285e-05, 'epoch': 0.01}\n"
     ]
    },
    {
     "name": "stderr",
     "output_type": "stream",
     "text": [
      "  0%|          | 2/4200 [00:08<4:48:05,  4.12s/it]"
     ]
    },
    {
     "name": "stdout",
     "output_type": "stream",
     "text": [
      "{'loss': 2.919, 'learning_rate': 5.997142857142857e-05, 'epoch': 0.02}\n"
     ]
    },
    {
     "name": "stderr",
     "output_type": "stream",
     "text": [
      "  0%|          | 3/4200 [00:12<4:55:45,  4.23s/it]"
     ]
    },
    {
     "name": "stdout",
     "output_type": "stream",
     "text": [
      "{'loss': 2.8889, 'learning_rate': 5.995714285714286e-05, 'epoch': 0.04}\n"
     ]
    },
    {
     "name": "stderr",
     "output_type": "stream",
     "text": [
      "  0%|          | 4/4200 [00:16<4:55:25,  4.22s/it]"
     ]
    },
    {
     "name": "stdout",
     "output_type": "stream",
     "text": [
      "{'loss': 2.8622, 'learning_rate': 5.994285714285715e-05, 'epoch': 0.05}\n"
     ]
    },
    {
     "name": "stderr",
     "output_type": "stream",
     "text": [
      "  0%|          | 5/4200 [00:20<4:53:27,  4.20s/it]"
     ]
    },
    {
     "name": "stdout",
     "output_type": "stream",
     "text": [
      "{'loss': 2.8203, 'learning_rate': 5.992857142857143e-05, 'epoch': 0.06}\n"
     ]
    },
    {
     "name": "stderr",
     "output_type": "stream",
     "text": [
      "  0%|          | 6/4200 [00:25<4:52:11,  4.18s/it]"
     ]
    },
    {
     "name": "stdout",
     "output_type": "stream",
     "text": [
      "{'loss': 2.7776, 'learning_rate': 5.9914285714285716e-05, 'epoch': 0.07}\n"
     ]
    },
    {
     "name": "stderr",
     "output_type": "stream",
     "text": [
      "  0%|          | 7/4200 [00:29<4:53:03,  4.19s/it]"
     ]
    },
    {
     "name": "stdout",
     "output_type": "stream",
     "text": [
      "{'loss': 2.8154, 'learning_rate': 5.99e-05, 'epoch': 0.08}\n"
     ]
    },
    {
     "name": "stderr",
     "output_type": "stream",
     "text": [
      "  0%|          | 8/4200 [00:33<4:55:34,  4.23s/it]"
     ]
    },
    {
     "name": "stdout",
     "output_type": "stream",
     "text": [
      "{'loss': 2.8094, 'learning_rate': 5.988571428571429e-05, 'epoch': 0.1}\n"
     ]
    },
    {
     "name": "stderr",
     "output_type": "stream",
     "text": [
      "  0%|          | 9/4200 [00:37<4:54:57,  4.22s/it]"
     ]
    },
    {
     "name": "stdout",
     "output_type": "stream",
     "text": [
      "{'loss': 2.7385, 'learning_rate': 5.987142857142857e-05, 'epoch': 0.11}\n"
     ]
    },
    {
     "name": "stderr",
     "output_type": "stream",
     "text": [
      "  0%|          | 10/4200 [00:42<4:54:53,  4.22s/it]"
     ]
    },
    {
     "name": "stdout",
     "output_type": "stream",
     "text": [
      "{'loss': 2.712, 'learning_rate': 5.9857142857142856e-05, 'epoch': 0.12}\n"
     ]
    },
    {
     "name": "stderr",
     "output_type": "stream",
     "text": [
      "  0%|          | 11/4200 [00:46<4:54:43,  4.22s/it]"
     ]
    },
    {
     "name": "stdout",
     "output_type": "stream",
     "text": [
      "{'loss': 2.7054, 'learning_rate': 5.9842857142857146e-05, 'epoch': 0.13}\n"
     ]
    },
    {
     "name": "stderr",
     "output_type": "stream",
     "text": [
      "  0%|          | 12/4200 [00:50<4:56:40,  4.25s/it]"
     ]
    },
    {
     "name": "stdout",
     "output_type": "stream",
     "text": [
      "{'loss': 2.639, 'learning_rate': 5.982857142857143e-05, 'epoch': 0.14}\n"
     ]
    },
    {
     "name": "stderr",
     "output_type": "stream",
     "text": [
      "  0%|          | 13/4200 [00:54<4:56:54,  4.25s/it]"
     ]
    },
    {
     "name": "stdout",
     "output_type": "stream",
     "text": [
      "{'loss': 2.76, 'learning_rate': 5.981428571428572e-05, 'epoch': 0.15}\n"
     ]
    },
    {
     "name": "stderr",
     "output_type": "stream",
     "text": [
      "  0%|          | 14/4200 [00:59<4:55:44,  4.24s/it]"
     ]
    },
    {
     "name": "stdout",
     "output_type": "stream",
     "text": [
      "{'loss': 2.6876, 'learning_rate': 5.9800000000000003e-05, 'epoch': 0.17}\n"
     ]
    },
    {
     "name": "stderr",
     "output_type": "stream",
     "text": [
      "  0%|          | 15/4200 [01:03<4:54:48,  4.23s/it]"
     ]
    },
    {
     "name": "stdout",
     "output_type": "stream",
     "text": [
      "{'loss': 2.662, 'learning_rate': 5.978571428571429e-05, 'epoch': 0.18}\n"
     ]
    },
    {
     "name": "stderr",
     "output_type": "stream",
     "text": [
      "  0%|          | 16/4200 [01:07<4:56:09,  4.25s/it]"
     ]
    },
    {
     "name": "stdout",
     "output_type": "stream",
     "text": [
      "{'loss': 2.6634, 'learning_rate': 5.977142857142857e-05, 'epoch': 0.19}\n"
     ]
    },
    {
     "name": "stderr",
     "output_type": "stream",
     "text": [
      "  0%|          | 17/4200 [01:11<4:54:15,  4.22s/it]"
     ]
    },
    {
     "name": "stdout",
     "output_type": "stream",
     "text": [
      "{'loss': 2.6119, 'learning_rate': 5.9757142857142854e-05, 'epoch': 0.2}\n"
     ]
    },
    {
     "name": "stderr",
     "output_type": "stream",
     "text": [
      "  0%|          | 18/4200 [01:15<4:51:50,  4.19s/it]"
     ]
    },
    {
     "name": "stdout",
     "output_type": "stream",
     "text": [
      "{'loss': 2.528, 'learning_rate': 5.9742857142857144e-05, 'epoch': 0.21}\n"
     ]
    },
    {
     "name": "stderr",
     "output_type": "stream",
     "text": [
      "  0%|          | 19/4200 [01:20<4:53:12,  4.21s/it]"
     ]
    },
    {
     "name": "stdout",
     "output_type": "stream",
     "text": [
      "{'loss': 2.4303, 'learning_rate': 5.9728571428571434e-05, 'epoch': 0.23}\n"
     ]
    },
    {
     "name": "stderr",
     "output_type": "stream",
     "text": [
      "  0%|          | 20/4200 [01:24<4:51:48,  4.19s/it]"
     ]
    },
    {
     "name": "stdout",
     "output_type": "stream",
     "text": [
      "{'loss': 2.5852, 'learning_rate': 5.971428571428572e-05, 'epoch': 0.24}\n"
     ]
    },
    {
     "name": "stderr",
     "output_type": "stream",
     "text": [
      "C:\\Users\\kuian\\.cache\\huggingface\\modules\\evaluate_modules\\metrics\\evaluate-metric--mean_iou\\08bc20f4f895f3caf75fb9e3fada1404bded3c3265243d05327cbb3b9326ffe9\\mean_iou.py:260: RuntimeWarning: invalid value encountered in divide\n",
      "  acc = total_area_intersect / total_area_label\n",
      "                                                   \n",
      "  0%|          | 20/4200 [03:41<4:51:48,  4.19s/it]"
     ]
    },
    {
     "name": "stdout",
     "output_type": "stream",
     "text": [
      "{'eval_loss': 2.8033690452575684, 'eval_mean_iou': 0.06934746392212465, 'eval_mean_accuracy': 0.9576746590047445, 'eval_overall_accuracy': 0.918534542115718, 'eval_per_category_iou': [0.9164485233895472, 0.40115329113082104, 0.0, 0.0, 0.0, 0.0, 0.0, 0.0, 0.0, 0.0, 0.0, 0.0, 0.0, 0.0, 0.0, 0.0, 0.0, 0.0, 0.0], 'eval_per_category_accuracy': [0.9164546723169501, 0.9988946456925387, nan, nan, nan, nan, nan, nan, nan, nan, nan, nan, nan, nan, nan, nan, nan, nan, nan], 'eval_runtime': 137.2624, 'eval_samples_per_second': 0.306, 'eval_steps_per_second': 0.153, 'epoch': 0.24}\n"
     ]
    },
    {
     "name": "stderr",
     "output_type": "stream",
     "text": [
      "  0%|          | 21/4200 [03:46<52:54:12, 45.57s/it]"
     ]
    },
    {
     "name": "stdout",
     "output_type": "stream",
     "text": [
      "{'loss': 2.5241, 'learning_rate': 5.97e-05, 'epoch': 0.25}\n"
     ]
    },
    {
     "name": "stderr",
     "output_type": "stream",
     "text": [
      "  1%|          | 22/4200 [03:50<38:26:21, 33.12s/it]"
     ]
    },
    {
     "name": "stdout",
     "output_type": "stream",
     "text": [
      "{'loss': 2.2992, 'learning_rate': 5.9685714285714284e-05, 'epoch': 0.26}\n"
     ]
    },
    {
     "name": "stderr",
     "output_type": "stream",
     "text": [
      "  1%|          | 23/4200 [03:54<28:12:54, 24.32s/it]"
     ]
    },
    {
     "name": "stdout",
     "output_type": "stream",
     "text": [
      "{'loss': 2.6351, 'learning_rate': 5.967142857142857e-05, 'epoch': 0.27}\n"
     ]
    },
    {
     "name": "stderr",
     "output_type": "stream",
     "text": [
      "  1%|          | 24/4200 [03:57<21:04:53, 18.17s/it]"
     ]
    },
    {
     "name": "stdout",
     "output_type": "stream",
     "text": [
      "{'loss': 2.4249, 'learning_rate': 5.965714285714286e-05, 'epoch': 0.29}\n"
     ]
    },
    {
     "name": "stderr",
     "output_type": "stream",
     "text": [
      "  1%|          | 25/4200 [04:02<16:10:55, 13.95s/it]"
     ]
    },
    {
     "name": "stdout",
     "output_type": "stream",
     "text": [
      "{'loss': 2.4905, 'learning_rate': 5.964285714285715e-05, 'epoch': 0.3}\n"
     ]
    },
    {
     "name": "stderr",
     "output_type": "stream",
     "text": [
      "  1%|          | 26/4200 [04:06<12:50:42, 11.08s/it]"
     ]
    },
    {
     "name": "stdout",
     "output_type": "stream",
     "text": [
      "{'loss': 2.4393, 'learning_rate': 5.962857142857143e-05, 'epoch': 0.31}\n"
     ]
    },
    {
     "name": "stderr",
     "output_type": "stream",
     "text": [
      "  1%|          | 27/4200 [04:10<10:25:22,  8.99s/it]"
     ]
    },
    {
     "name": "stdout",
     "output_type": "stream",
     "text": [
      "{'loss': 2.4409, 'learning_rate': 5.9614285714285715e-05, 'epoch': 0.32}\n"
     ]
    },
    {
     "name": "stderr",
     "output_type": "stream",
     "text": [
      "  1%|          | 28/4200 [04:14<8:43:04,  7.52s/it] "
     ]
    },
    {
     "name": "stdout",
     "output_type": "stream",
     "text": [
      "{'loss': 2.5939, 'learning_rate': 5.96e-05, 'epoch': 0.33}\n"
     ]
    },
    {
     "name": "stderr",
     "output_type": "stream",
     "text": [
      "  1%|          | 29/4200 [04:19<7:51:49,  6.79s/it]"
     ]
    },
    {
     "name": "stdout",
     "output_type": "stream",
     "text": [
      "{'loss': 2.5193, 'learning_rate': 5.958571428571429e-05, 'epoch': 0.35}\n"
     ]
    },
    {
     "name": "stderr",
     "output_type": "stream",
     "text": [
      "  1%|          | 30/4200 [04:23<6:53:13,  5.95s/it]"
     ]
    },
    {
     "name": "stdout",
     "output_type": "stream",
     "text": [
      "{'loss': 2.4378, 'learning_rate': 5.957142857142857e-05, 'epoch': 0.36}\n"
     ]
    },
    {
     "name": "stderr",
     "output_type": "stream",
     "text": [
      "  1%|          | 31/4200 [04:27<6:13:35,  5.38s/it]"
     ]
    },
    {
     "name": "stdout",
     "output_type": "stream",
     "text": [
      "{'loss': 2.3749, 'learning_rate': 5.9557142857142856e-05, 'epoch': 0.37}\n"
     ]
    },
    {
     "name": "stderr",
     "output_type": "stream",
     "text": [
      "  1%|          | 32/4200 [04:32<5:50:43,  5.05s/it]"
     ]
    },
    {
     "name": "stdout",
     "output_type": "stream",
     "text": [
      "{'loss': 2.324, 'learning_rate': 5.9542857142857146e-05, 'epoch': 0.38}\n"
     ]
    },
    {
     "name": "stderr",
     "output_type": "stream",
     "text": [
      "  1%|          | 33/4200 [04:36<5:40:15,  4.90s/it]"
     ]
    },
    {
     "name": "stdout",
     "output_type": "stream",
     "text": [
      "{'loss': 2.3365, 'learning_rate': 5.952857142857143e-05, 'epoch': 0.39}\n"
     ]
    },
    {
     "name": "stderr",
     "output_type": "stream",
     "text": [
      "  1%|          | 34/4200 [04:40<5:28:44,  4.73s/it]"
     ]
    },
    {
     "name": "stdout",
     "output_type": "stream",
     "text": [
      "{'loss': 2.4934, 'learning_rate': 5.951428571428572e-05, 'epoch': 0.4}\n"
     ]
    },
    {
     "name": "stderr",
     "output_type": "stream",
     "text": [
      "  1%|          | 35/4200 [04:45<5:19:48,  4.61s/it]"
     ]
    },
    {
     "name": "stdout",
     "output_type": "stream",
     "text": [
      "{'loss': 2.2711, 'learning_rate': 5.95e-05, 'epoch': 0.42}\n"
     ]
    },
    {
     "name": "stderr",
     "output_type": "stream",
     "text": [
      "  1%|          | 36/4200 [04:49<5:17:25,  4.57s/it]"
     ]
    },
    {
     "name": "stdout",
     "output_type": "stream",
     "text": [
      "{'loss': 2.2121, 'learning_rate': 5.9485714285714286e-05, 'epoch': 0.43}\n"
     ]
    },
    {
     "name": "stderr",
     "output_type": "stream",
     "text": [
      "  1%|          | 37/4200 [04:54<5:25:18,  4.69s/it]"
     ]
    },
    {
     "name": "stdout",
     "output_type": "stream",
     "text": [
      "{'loss': 2.0852, 'learning_rate': 5.947142857142857e-05, 'epoch': 0.44}\n"
     ]
    },
    {
     "name": "stderr",
     "output_type": "stream",
     "text": [
      "  1%|          | 38/4200 [04:58<5:09:34,  4.46s/it]"
     ]
    },
    {
     "name": "stdout",
     "output_type": "stream",
     "text": [
      "{'loss': 2.307, 'learning_rate': 5.945714285714285e-05, 'epoch': 0.45}\n"
     ]
    },
    {
     "name": "stderr",
     "output_type": "stream",
     "text": [
      "  1%|          | 39/4200 [05:03<5:10:28,  4.48s/it]"
     ]
    },
    {
     "name": "stdout",
     "output_type": "stream",
     "text": [
      "{'loss': 2.2646, 'learning_rate': 5.944285714285715e-05, 'epoch': 0.46}\n"
     ]
    },
    {
     "name": "stderr",
     "output_type": "stream",
     "text": [
      "  1%|          | 40/4200 [05:07<5:11:08,  4.49s/it]"
     ]
    },
    {
     "name": "stdout",
     "output_type": "stream",
     "text": [
      "{'loss': 2.0682, 'learning_rate': 5.9428571428571434e-05, 'epoch': 0.48}\n"
     ]
    },
    {
     "name": "stderr",
     "output_type": "stream",
     "text": [
      "C:\\Users\\kuian\\.cache\\huggingface\\modules\\evaluate_modules\\metrics\\evaluate-metric--mean_iou\\08bc20f4f895f3caf75fb9e3fada1404bded3c3265243d05327cbb3b9326ffe9\\mean_iou.py:259: RuntimeWarning: invalid value encountered in divide\n",
      "  iou = total_area_intersect / total_area_union\n",
      "C:\\Users\\kuian\\.cache\\huggingface\\modules\\evaluate_modules\\metrics\\evaluate-metric--mean_iou\\08bc20f4f895f3caf75fb9e3fada1404bded3c3265243d05327cbb3b9326ffe9\\mean_iou.py:260: RuntimeWarning: invalid value encountered in divide\n",
      "  acc = total_area_intersect / total_area_label\n",
      "                                                   \n",
      "  1%|          | 40/4200 [07:27<5:11:08,  4.49s/it]"
     ]
    },
    {
     "name": "stdout",
     "output_type": "stream",
     "text": [
      "{'eval_loss': 2.278721332550049, 'eval_mean_iou': 0.10011606318418138, 'eval_mean_accuracy': 0.9818553281635797, 'eval_overall_accuracy': 0.9647971379893329, 'eval_per_category_iou': [0.9638864598056932, 0.4377384247728462, 0.0, 0.0, 0.0, 0.0, 0.0, 0.0, 0.0, nan, 0.0, 0.0, 0.0, nan, 0.0, nan, 0.0, nan, nan], 'eval_per_category_accuracy': [0.9638906814586677, 0.9998199748684916, nan, nan, nan, nan, nan, nan, nan, nan, nan, nan, nan, nan, nan, nan, nan, nan, nan], 'eval_runtime': 140.2028, 'eval_samples_per_second': 0.3, 'eval_steps_per_second': 0.15, 'epoch': 0.48}\n"
     ]
    },
    {
     "name": "stderr",
     "output_type": "stream",
     "text": [
      "  1%|          | 41/4200 [07:32<53:44:05, 46.51s/it]"
     ]
    },
    {
     "name": "stdout",
     "output_type": "stream",
     "text": [
      "{'loss': 2.2151, 'learning_rate': 5.941428571428572e-05, 'epoch': 0.49}\n"
     ]
    },
    {
     "name": "stderr",
     "output_type": "stream",
     "text": [
      "  1%|          | 42/4200 [07:36<39:10:28, 33.92s/it]"
     ]
    },
    {
     "name": "stdout",
     "output_type": "stream",
     "text": [
      "{'loss': 2.1708, 'learning_rate': 5.94e-05, 'epoch': 0.5}\n"
     ]
    },
    {
     "name": "stderr",
     "output_type": "stream",
     "text": [
      "  1%|          | 43/4200 [07:41<29:08:11, 25.23s/it]"
     ]
    },
    {
     "name": "stdout",
     "output_type": "stream",
     "text": [
      "{'loss': 2.1977, 'learning_rate': 5.9385714285714284e-05, 'epoch': 0.51}\n"
     ]
    },
    {
     "name": "stderr",
     "output_type": "stream",
     "text": [
      "  1%|          | 44/4200 [07:46<21:55:13, 18.99s/it]"
     ]
    },
    {
     "name": "stdout",
     "output_type": "stream",
     "text": [
      "{'loss': 2.0961, 'learning_rate': 5.937142857142857e-05, 'epoch': 0.52}\n"
     ]
    },
    {
     "name": "stderr",
     "output_type": "stream",
     "text": [
      "  1%|          | 45/4200 [07:50<16:59:04, 14.72s/it]"
     ]
    },
    {
     "name": "stdout",
     "output_type": "stream",
     "text": [
      "{'loss': 2.168, 'learning_rate': 5.935714285714286e-05, 'epoch': 0.54}\n"
     ]
    },
    {
     "name": "stderr",
     "output_type": "stream",
     "text": [
      "  1%|          | 46/4200 [07:55<13:18:15, 11.53s/it]"
     ]
    },
    {
     "name": "stdout",
     "output_type": "stream",
     "text": [
      "{'loss': 2.1118, 'learning_rate': 5.934285714285715e-05, 'epoch': 0.55}\n"
     ]
    },
    {
     "name": "stderr",
     "output_type": "stream",
     "text": [
      "  1%|          | 47/4200 [07:59<10:49:15,  9.38s/it]"
     ]
    },
    {
     "name": "stdout",
     "output_type": "stream",
     "text": [
      "{'loss': 2.0853, 'learning_rate': 5.932857142857143e-05, 'epoch': 0.56}\n"
     ]
    },
    {
     "name": "stderr",
     "output_type": "stream",
     "text": [
      "  1%|          | 48/4200 [08:03<8:56:22,  7.75s/it] "
     ]
    },
    {
     "name": "stdout",
     "output_type": "stream",
     "text": [
      "{'loss': 2.1391, 'learning_rate': 5.9314285714285715e-05, 'epoch': 0.57}\n"
     ]
    },
    {
     "name": "stderr",
     "output_type": "stream",
     "text": [
      "  1%|          | 49/4200 [08:07<7:39:39,  6.64s/it]"
     ]
    },
    {
     "name": "stdout",
     "output_type": "stream",
     "text": [
      "{'loss': 2.1141, 'learning_rate': 5.93e-05, 'epoch': 0.58}\n"
     ]
    },
    {
     "name": "stderr",
     "output_type": "stream",
     "text": [
      "  1%|          | 50/4200 [08:11<6:50:06,  5.93s/it]"
     ]
    },
    {
     "name": "stdout",
     "output_type": "stream",
     "text": [
      "{'loss': 2.1853, 'learning_rate': 5.928571428571429e-05, 'epoch': 0.6}\n"
     ]
    },
    {
     "name": "stderr",
     "output_type": "stream",
     "text": [
      "  1%|          | 51/4200 [08:16<6:32:49,  5.68s/it]"
     ]
    },
    {
     "name": "stdout",
     "output_type": "stream",
     "text": [
      "{'loss': 2.0193, 'learning_rate': 5.927142857142857e-05, 'epoch': 0.61}\n"
     ]
    },
    {
     "name": "stderr",
     "output_type": "stream",
     "text": [
      "  1%|          | 52/4200 [08:21<6:05:51,  5.29s/it]"
     ]
    },
    {
     "name": "stdout",
     "output_type": "stream",
     "text": [
      "{'loss': 2.017, 'learning_rate': 5.925714285714286e-05, 'epoch': 0.62}\n"
     ]
    },
    {
     "name": "stderr",
     "output_type": "stream",
     "text": [
      "  1%|▏         | 53/4200 [08:25<5:46:04,  5.01s/it]"
     ]
    },
    {
     "name": "stdout",
     "output_type": "stream",
     "text": [
      "{'loss': 1.9092, 'learning_rate': 5.9242857142857145e-05, 'epoch': 0.63}\n"
     ]
    },
    {
     "name": "stderr",
     "output_type": "stream",
     "text": [
      "  1%|▏         | 54/4200 [08:30<5:40:55,  4.93s/it]"
     ]
    },
    {
     "name": "stdout",
     "output_type": "stream",
     "text": [
      "{'loss': 2.0478, 'learning_rate': 5.922857142857143e-05, 'epoch': 0.64}\n"
     ]
    },
    {
     "name": "stderr",
     "output_type": "stream",
     "text": [
      "  1%|▏         | 55/4200 [08:35<5:40:44,  4.93s/it]"
     ]
    },
    {
     "name": "stdout",
     "output_type": "stream",
     "text": [
      "{'loss': 2.0082, 'learning_rate': 5.921428571428572e-05, 'epoch': 0.65}\n"
     ]
    },
    {
     "name": "stderr",
     "output_type": "stream",
     "text": [
      "  1%|▏         | 56/4200 [08:39<5:38:37,  4.90s/it]"
     ]
    },
    {
     "name": "stdout",
     "output_type": "stream",
     "text": [
      "{'loss': 2.0697, 'learning_rate': 5.92e-05, 'epoch': 0.67}\n"
     ]
    },
    {
     "name": "stderr",
     "output_type": "stream",
     "text": [
      "  1%|▏         | 57/4200 [08:44<5:34:59,  4.85s/it]"
     ]
    },
    {
     "name": "stdout",
     "output_type": "stream",
     "text": [
      "{'loss': 1.9472, 'learning_rate': 5.9185714285714286e-05, 'epoch': 0.68}\n"
     ]
    },
    {
     "name": "stderr",
     "output_type": "stream",
     "text": [
      "  1%|▏         | 58/4200 [08:49<5:35:08,  4.85s/it]"
     ]
    },
    {
     "name": "stdout",
     "output_type": "stream",
     "text": [
      "{'loss': 1.9375, 'learning_rate': 5.917142857142857e-05, 'epoch': 0.69}\n"
     ]
    },
    {
     "name": "stderr",
     "output_type": "stream",
     "text": [
      "  1%|▏         | 59/4200 [08:53<5:25:16,  4.71s/it]"
     ]
    },
    {
     "name": "stdout",
     "output_type": "stream",
     "text": [
      "{'loss': 1.8663, 'learning_rate': 5.915714285714286e-05, 'epoch': 0.7}\n"
     ]
    },
    {
     "name": "stderr",
     "output_type": "stream",
     "text": [
      "  1%|▏         | 60/4200 [08:58<5:27:10,  4.74s/it]"
     ]
    },
    {
     "name": "stdout",
     "output_type": "stream",
     "text": [
      "{'loss': 2.0682, 'learning_rate': 5.914285714285715e-05, 'epoch': 0.71}\n"
     ]
    },
    {
     "name": "stderr",
     "output_type": "stream",
     "text": [
      "C:\\Users\\kuian\\.cache\\huggingface\\modules\\evaluate_modules\\metrics\\evaluate-metric--mean_iou\\08bc20f4f895f3caf75fb9e3fada1404bded3c3265243d05327cbb3b9326ffe9\\mean_iou.py:259: RuntimeWarning: invalid value encountered in divide\n",
      "  iou = total_area_intersect / total_area_union\n",
      "C:\\Users\\kuian\\.cache\\huggingface\\modules\\evaluate_modules\\metrics\\evaluate-metric--mean_iou\\08bc20f4f895f3caf75fb9e3fada1404bded3c3265243d05327cbb3b9326ffe9\\mean_iou.py:260: RuntimeWarning: invalid value encountered in divide\n",
      "  acc = total_area_intersect / total_area_label\n",
      "                                                   \n",
      "  1%|▏         | 60/4200 [11:19<5:27:10,  4.74s/it]"
     ]
    },
    {
     "name": "stdout",
     "output_type": "stream",
     "text": [
      "{'eval_loss': 1.7128556966781616, 'eval_mean_iou': 0.2615928846713654, 'eval_mean_accuracy': 0.9838935032050267, 'eval_overall_accuracy': 0.9823399793110289, 'eval_per_category_iou': [0.981890327904785, 0.5876669801234075, nan, nan, nan, nan, 0.0, 0.0, nan, nan, nan, nan, 0.0, nan, 0.0, nan, nan, nan, nan], 'eval_per_category_accuracy': [0.982257426480695, 0.9855295799293582, nan, nan, nan, nan, nan, nan, nan, nan, nan, nan, nan, nan, nan, nan, nan, nan, nan], 'eval_runtime': 140.4708, 'eval_samples_per_second': 0.299, 'eval_steps_per_second': 0.149, 'epoch': 0.71}\n"
     ]
    },
    {
     "name": "stderr",
     "output_type": "stream",
     "text": [
      "  1%|▏         | 61/4200 [11:23<53:47:53, 46.79s/it]"
     ]
    },
    {
     "name": "stdout",
     "output_type": "stream",
     "text": [
      "{'loss': 1.9206, 'learning_rate': 5.912857142857143e-05, 'epoch': 0.73}\n"
     ]
    },
    {
     "name": "stderr",
     "output_type": "stream",
     "text": [
      "  1%|▏         | 62/4200 [11:28<39:11:48, 34.10s/it]"
     ]
    },
    {
     "name": "stdout",
     "output_type": "stream",
     "text": [
      "{'loss': 1.8105, 'learning_rate': 5.9114285714285717e-05, 'epoch': 0.74}\n"
     ]
    },
    {
     "name": "stderr",
     "output_type": "stream",
     "text": [
      "  2%|▏         | 63/4200 [11:32<28:55:53, 25.18s/it]"
     ]
    },
    {
     "name": "stdout",
     "output_type": "stream",
     "text": [
      "{'loss': 2.0392, 'learning_rate': 5.91e-05, 'epoch': 0.75}\n"
     ]
    },
    {
     "name": "stderr",
     "output_type": "stream",
     "text": [
      "  2%|▏         | 64/4200 [11:36<21:46:27, 18.95s/it]"
     ]
    },
    {
     "name": "stdout",
     "output_type": "stream",
     "text": [
      "{'loss': 1.959, 'learning_rate': 5.9085714285714283e-05, 'epoch': 0.76}\n"
     ]
    },
    {
     "name": "stderr",
     "output_type": "stream",
     "text": [
      "  2%|▏         | 65/4200 [11:41<16:46:35, 14.61s/it]"
     ]
    },
    {
     "name": "stdout",
     "output_type": "stream",
     "text": [
      "{'loss': 1.8753, 'learning_rate': 5.9071428571428574e-05, 'epoch': 0.77}\n"
     ]
    },
    {
     "name": "stderr",
     "output_type": "stream",
     "text": [
      "  2%|▏         | 66/4200 [11:45<13:16:27, 11.56s/it]"
     ]
    },
    {
     "name": "stdout",
     "output_type": "stream",
     "text": [
      "{'loss': 1.9981, 'learning_rate': 5.9057142857142864e-05, 'epoch': 0.79}\n"
     ]
    },
    {
     "name": "stderr",
     "output_type": "stream",
     "text": [
      "  2%|▏         | 67/4200 [11:50<10:51:08,  9.45s/it]"
     ]
    },
    {
     "name": "stdout",
     "output_type": "stream",
     "text": [
      "{'loss': 1.7468, 'learning_rate': 5.904285714285715e-05, 'epoch': 0.8}\n"
     ]
    },
    {
     "name": "stderr",
     "output_type": "stream",
     "text": [
      "  2%|▏         | 68/4200 [11:54<9:09:40,  7.98s/it] "
     ]
    },
    {
     "name": "stdout",
     "output_type": "stream",
     "text": [
      "{'loss': 1.7817, 'learning_rate': 5.902857142857143e-05, 'epoch': 0.81}\n"
     ]
    },
    {
     "name": "stderr",
     "output_type": "stream",
     "text": [
      "  2%|▏         | 69/4200 [11:59<7:56:13,  6.92s/it]"
     ]
    },
    {
     "name": "stdout",
     "output_type": "stream",
     "text": [
      "{'loss': 1.7011, 'learning_rate': 5.9014285714285714e-05, 'epoch': 0.82}\n"
     ]
    },
    {
     "name": "stderr",
     "output_type": "stream",
     "text": [
      "  2%|▏         | 70/4200 [12:03<7:06:14,  6.19s/it]"
     ]
    },
    {
     "name": "stdout",
     "output_type": "stream",
     "text": [
      "{'loss': 1.7919, 'learning_rate': 5.9e-05, 'epoch': 0.83}\n"
     ]
    },
    {
     "name": "stderr",
     "output_type": "stream",
     "text": [
      "  2%|▏         | 71/4200 [12:08<6:36:38,  5.76s/it]"
     ]
    },
    {
     "name": "stdout",
     "output_type": "stream",
     "text": [
      "{'loss': 1.8882, 'learning_rate': 5.898571428571429e-05, 'epoch': 0.85}\n"
     ]
    },
    {
     "name": "stderr",
     "output_type": "stream",
     "text": [
      "  2%|▏         | 72/4200 [12:12<6:06:46,  5.33s/it]"
     ]
    },
    {
     "name": "stdout",
     "output_type": "stream",
     "text": [
      "{'loss': 1.9599, 'learning_rate': 5.897142857142857e-05, 'epoch': 0.86}\n"
     ]
    },
    {
     "name": "stderr",
     "output_type": "stream",
     "text": [
      "  2%|▏         | 73/4200 [12:17<5:44:57,  5.02s/it]"
     ]
    },
    {
     "name": "stdout",
     "output_type": "stream",
     "text": [
      "{'loss': 1.9183, 'learning_rate': 5.895714285714286e-05, 'epoch': 0.87}\n"
     ]
    },
    {
     "name": "stderr",
     "output_type": "stream",
     "text": [
      "  2%|▏         | 74/4200 [12:21<5:35:39,  4.88s/it]"
     ]
    },
    {
     "name": "stdout",
     "output_type": "stream",
     "text": [
      "{'loss': 1.9092, 'learning_rate': 5.8942857142857145e-05, 'epoch': 0.88}\n"
     ]
    },
    {
     "name": "stderr",
     "output_type": "stream",
     "text": [
      "  2%|▏         | 75/4200 [12:26<5:24:06,  4.71s/it]"
     ]
    },
    {
     "name": "stdout",
     "output_type": "stream",
     "text": [
      "{'loss': 1.745, 'learning_rate': 5.892857142857143e-05, 'epoch': 0.89}\n"
     ]
    },
    {
     "name": "stderr",
     "output_type": "stream",
     "text": [
      "  2%|▏         | 76/4200 [12:30<5:19:20,  4.65s/it]"
     ]
    },
    {
     "name": "stdout",
     "output_type": "stream",
     "text": [
      "{'loss': 1.8102, 'learning_rate': 5.891428571428572e-05, 'epoch': 0.9}\n"
     ]
    },
    {
     "name": "stderr",
     "output_type": "stream",
     "text": [
      "  2%|▏         | 77/4200 [12:35<5:19:12,  4.65s/it]"
     ]
    },
    {
     "name": "stdout",
     "output_type": "stream",
     "text": [
      "{'loss': 1.5872, 'learning_rate': 5.89e-05, 'epoch': 0.92}\n"
     ]
    },
    {
     "name": "stderr",
     "output_type": "stream",
     "text": [
      "  2%|▏         | 78/4200 [12:39<5:14:40,  4.58s/it]"
     ]
    },
    {
     "name": "stdout",
     "output_type": "stream",
     "text": [
      "{'loss': 1.687, 'learning_rate': 5.8885714285714285e-05, 'epoch': 0.93}\n"
     ]
    },
    {
     "name": "stderr",
     "output_type": "stream",
     "text": [
      "  2%|▏         | 79/4200 [12:44<5:11:50,  4.54s/it]"
     ]
    },
    {
     "name": "stdout",
     "output_type": "stream",
     "text": [
      "{'loss': 1.8253, 'learning_rate': 5.887142857142857e-05, 'epoch': 0.94}\n"
     ]
    },
    {
     "name": "stderr",
     "output_type": "stream",
     "text": [
      "  2%|▏         | 80/4200 [12:48<5:14:53,  4.59s/it]"
     ]
    },
    {
     "name": "stdout",
     "output_type": "stream",
     "text": [
      "{'loss': 1.6571, 'learning_rate': 5.885714285714286e-05, 'epoch': 0.95}\n"
     ]
    },
    {
     "name": "stderr",
     "output_type": "stream",
     "text": [
      "C:\\Users\\kuian\\.cache\\huggingface\\modules\\evaluate_modules\\metrics\\evaluate-metric--mean_iou\\08bc20f4f895f3caf75fb9e3fada1404bded3c3265243d05327cbb3b9326ffe9\\mean_iou.py:259: RuntimeWarning: invalid value encountered in divide\n",
      "  iou = total_area_intersect / total_area_union\n",
      "C:\\Users\\kuian\\.cache\\huggingface\\modules\\evaluate_modules\\metrics\\evaluate-metric--mean_iou\\08bc20f4f895f3caf75fb9e3fada1404bded3c3265243d05327cbb3b9326ffe9\\mean_iou.py:260: RuntimeWarning: invalid value encountered in divide\n",
      "  acc = total_area_intersect / total_area_label\n",
      "                                                   \n",
      "  2%|▏         | 80/4200 [15:10<5:14:53,  4.59s/it]"
     ]
    },
    {
     "name": "stdout",
     "output_type": "stream",
     "text": [
      "{'eval_loss': 1.5608797073364258, 'eval_mean_iou': 0.15178995425201436, 'eval_mean_accuracy': 0.9833755280610464, 'eval_overall_accuracy': 0.9786942476012748, 'eval_per_category_iou': [0.9781494284708429, 0.5397501140493007, 0.0, nan, nan, nan, 0.0, 0.0, 0.0, nan, 0.0, 0.0, 0.0, nan, nan, nan, 0.0, nan, nan], 'eval_per_category_accuracy': [0.9784454886648759, 0.988305567457217, nan, nan, nan, nan, nan, nan, nan, nan, nan, nan, nan, nan, nan, nan, nan, nan, nan], 'eval_runtime': 141.8768, 'eval_samples_per_second': 0.296, 'eval_steps_per_second': 0.148, 'epoch': 0.95}\n"
     ]
    },
    {
     "name": "stderr",
     "output_type": "stream",
     "text": [
      "  2%|▏         | 81/4200 [15:15<53:58:28, 47.17s/it]"
     ]
    },
    {
     "name": "stdout",
     "output_type": "stream",
     "text": [
      "{'loss': 1.7107, 'learning_rate': 5.884285714285715e-05, 'epoch': 0.96}\n"
     ]
    },
    {
     "name": "stderr",
     "output_type": "stream",
     "text": [
      "  2%|▏         | 82/4200 [15:20<39:23:14, 34.43s/it]"
     ]
    },
    {
     "name": "stdout",
     "output_type": "stream",
     "text": [
      "{'loss': 1.6116, 'learning_rate': 5.882857142857143e-05, 'epoch': 0.98}\n"
     ]
    },
    {
     "name": "stderr",
     "output_type": "stream",
     "text": [
      "  2%|▏         | 83/4200 [15:25<29:23:05, 25.69s/it]"
     ]
    },
    {
     "name": "stdout",
     "output_type": "stream",
     "text": [
      "{'loss': 1.5682, 'learning_rate': 5.8814285714285716e-05, 'epoch': 0.99}\n"
     ]
    },
    {
     "name": "stderr",
     "output_type": "stream",
     "text": [
      "  2%|▏         | 84/4200 [15:30<22:13:57, 19.45s/it]"
     ]
    },
    {
     "name": "stdout",
     "output_type": "stream",
     "text": [
      "{'loss': 1.7599, 'learning_rate': 5.88e-05, 'epoch': 1.0}\n"
     ]
    },
    {
     "name": "stderr",
     "output_type": "stream",
     "text": [
      "  2%|▏         | 85/4200 [15:34<17:09:20, 15.01s/it]"
     ]
    },
    {
     "name": "stdout",
     "output_type": "stream",
     "text": [
      "{'loss': 1.7208, 'learning_rate': 5.878571428571428e-05, 'epoch': 1.01}\n"
     ]
    },
    {
     "name": "stderr",
     "output_type": "stream",
     "text": [
      "  2%|▏         | 86/4200 [15:39<13:34:45, 11.88s/it]"
     ]
    },
    {
     "name": "stdout",
     "output_type": "stream",
     "text": [
      "{'loss': 1.6492, 'learning_rate': 5.877142857142857e-05, 'epoch': 1.02}\n"
     ]
    },
    {
     "name": "stderr",
     "output_type": "stream",
     "text": [
      "  2%|▏         | 87/4200 [15:44<11:10:58,  9.79s/it]"
     ]
    },
    {
     "name": "stdout",
     "output_type": "stream",
     "text": [
      "{'loss': 1.5409, 'learning_rate': 5.875714285714286e-05, 'epoch': 1.04}\n"
     ]
    },
    {
     "name": "stderr",
     "output_type": "stream",
     "text": [
      "  2%|▏         | 88/4200 [15:49<9:31:02,  8.33s/it] "
     ]
    },
    {
     "name": "stdout",
     "output_type": "stream",
     "text": [
      "{'loss': 1.5987, 'learning_rate': 5.874285714285715e-05, 'epoch': 1.05}\n"
     ]
    },
    {
     "name": "stderr",
     "output_type": "stream",
     "text": [
      "  2%|▏         | 89/4200 [15:53<8:04:34,  7.07s/it]"
     ]
    },
    {
     "name": "stdout",
     "output_type": "stream",
     "text": [
      "{'loss': 1.8675, 'learning_rate': 5.872857142857143e-05, 'epoch': 1.06}\n"
     ]
    },
    {
     "name": "stderr",
     "output_type": "stream",
     "text": [
      "  2%|▏         | 90/4200 [15:57<7:05:01,  6.20s/it]"
     ]
    },
    {
     "name": "stdout",
     "output_type": "stream",
     "text": [
      "{'loss': 1.7137, 'learning_rate': 5.8714285714285714e-05, 'epoch': 1.07}\n"
     ]
    },
    {
     "name": "stderr",
     "output_type": "stream",
     "text": [
      "  2%|▏         | 91/4200 [16:01<6:23:12,  5.60s/it]"
     ]
    },
    {
     "name": "stdout",
     "output_type": "stream",
     "text": [
      "{'loss': 1.709, 'learning_rate': 5.8700000000000004e-05, 'epoch': 1.08}\n"
     ]
    },
    {
     "name": "stderr",
     "output_type": "stream",
     "text": [
      "  2%|▏         | 92/4200 [16:06<5:53:46,  5.17s/it]"
     ]
    },
    {
     "name": "stdout",
     "output_type": "stream",
     "text": [
      "{'loss': 1.5952, 'learning_rate': 5.868571428571429e-05, 'epoch': 1.1}\n"
     ]
    },
    {
     "name": "stderr",
     "output_type": "stream",
     "text": [
      "  2%|▏         | 93/4200 [16:10<5:33:11,  4.87s/it]"
     ]
    },
    {
     "name": "stdout",
     "output_type": "stream",
     "text": [
      "{'loss': 1.4801, 'learning_rate': 5.867142857142857e-05, 'epoch': 1.11}\n"
     ]
    },
    {
     "name": "stderr",
     "output_type": "stream",
     "text": [
      "  2%|▏         | 94/4200 [16:14<5:17:13,  4.64s/it]"
     ]
    },
    {
     "name": "stdout",
     "output_type": "stream",
     "text": [
      "{'loss': 1.456, 'learning_rate': 5.865714285714286e-05, 'epoch': 1.12}\n"
     ]
    },
    {
     "name": "stderr",
     "output_type": "stream",
     "text": [
      "  2%|▏         | 95/4200 [16:18<5:11:09,  4.55s/it]"
     ]
    },
    {
     "name": "stdout",
     "output_type": "stream",
     "text": [
      "{'loss': 1.5619, 'learning_rate': 5.8642857142857144e-05, 'epoch': 1.13}\n"
     ]
    },
    {
     "name": "stderr",
     "output_type": "stream",
     "text": [
      "  2%|▏         | 96/4200 [16:22<5:01:29,  4.41s/it]"
     ]
    },
    {
     "name": "stdout",
     "output_type": "stream",
     "text": [
      "{'loss': 1.6823, 'learning_rate': 5.862857142857143e-05, 'epoch': 1.14}\n"
     ]
    },
    {
     "name": "stderr",
     "output_type": "stream",
     "text": [
      "  2%|▏         | 97/4200 [16:26<4:57:35,  4.35s/it]"
     ]
    },
    {
     "name": "stdout",
     "output_type": "stream",
     "text": [
      "{'loss': 1.4274, 'learning_rate': 5.861428571428572e-05, 'epoch': 1.15}\n"
     ]
    },
    {
     "name": "stderr",
     "output_type": "stream",
     "text": [
      "  2%|▏         | 98/4200 [16:31<4:58:11,  4.36s/it]"
     ]
    },
    {
     "name": "stdout",
     "output_type": "stream",
     "text": [
      "{'loss': 1.4899, 'learning_rate': 5.86e-05, 'epoch': 1.17}\n"
     ]
    },
    {
     "name": "stderr",
     "output_type": "stream",
     "text": [
      "  2%|▏         | 99/4200 [16:35<4:54:33,  4.31s/it]"
     ]
    },
    {
     "name": "stdout",
     "output_type": "stream",
     "text": [
      "{'loss': 1.6627, 'learning_rate': 5.8585714285714285e-05, 'epoch': 1.18}\n"
     ]
    },
    {
     "name": "stderr",
     "output_type": "stream",
     "text": [
      "  2%|▏         | 100/4200 [16:39<4:50:39,  4.25s/it]"
     ]
    },
    {
     "name": "stdout",
     "output_type": "stream",
     "text": [
      "{'loss': 1.6235, 'learning_rate': 5.857142857142857e-05, 'epoch': 1.19}\n"
     ]
    },
    {
     "name": "stderr",
     "output_type": "stream",
     "text": [
      "C:\\Users\\kuian\\.cache\\huggingface\\modules\\evaluate_modules\\metrics\\evaluate-metric--mean_iou\\08bc20f4f895f3caf75fb9e3fada1404bded3c3265243d05327cbb3b9326ffe9\\mean_iou.py:259: RuntimeWarning: invalid value encountered in divide\n",
      "  iou = total_area_intersect / total_area_union\n",
      "C:\\Users\\kuian\\.cache\\huggingface\\modules\\evaluate_modules\\metrics\\evaluate-metric--mean_iou\\08bc20f4f895f3caf75fb9e3fada1404bded3c3265243d05327cbb3b9326ffe9\\mean_iou.py:260: RuntimeWarning: invalid value encountered in divide\n",
      "  acc = total_area_intersect / total_area_label\n",
      "                                                    \n",
      "  2%|▏         | 100/4200 [19:00<4:50:39,  4.25s/it]"
     ]
    },
    {
     "name": "stdout",
     "output_type": "stream",
     "text": [
      "{'eval_loss': 1.2698302268981934, 'eval_mean_iou': 0.40012826301523774, 'eval_mean_accuracy': 0.9417900936937347, 'eval_overall_accuracy': 0.9858377380058289, 'eval_per_category_iou': [0.9855104183279003, 0.6150026337330508, 0.0, 0.0, nan, nan, nan, nan, nan, nan, nan, nan, nan, nan, nan, nan, nan, nan, nan], 'eval_per_category_accuracy': [0.9881783892964559, 0.8954017980910135, nan, nan, nan, nan, nan, nan, nan, nan, nan, nan, nan, nan, nan, nan, nan, nan, nan], 'eval_runtime': 140.5217, 'eval_samples_per_second': 0.299, 'eval_steps_per_second': 0.149, 'epoch': 1.19}\n"
     ]
    },
    {
     "name": "stderr",
     "output_type": "stream",
     "text": [
      "  2%|▏         | 101/4200 [19:04<52:51:34, 46.42s/it]"
     ]
    },
    {
     "name": "stdout",
     "output_type": "stream",
     "text": [
      "{'loss': 1.6328, 'learning_rate': 5.855714285714286e-05, 'epoch': 1.2}\n"
     ]
    },
    {
     "name": "stderr",
     "output_type": "stream",
     "text": [
      "  2%|▏         | 102/4200 [19:08<38:24:26, 33.74s/it]"
     ]
    },
    {
     "name": "stdout",
     "output_type": "stream",
     "text": [
      "{'loss': 1.5103, 'learning_rate': 5.854285714285715e-05, 'epoch': 1.21}\n"
     ]
    },
    {
     "name": "stderr",
     "output_type": "stream",
     "text": [
      "  2%|▏         | 103/4200 [19:12<28:18:21, 24.87s/it]"
     ]
    },
    {
     "name": "stdout",
     "output_type": "stream",
     "text": [
      "{'loss': 1.4542, 'learning_rate': 5.852857142857143e-05, 'epoch': 1.23}\n"
     ]
    },
    {
     "name": "stderr",
     "output_type": "stream",
     "text": [
      "  2%|▏         | 104/4200 [19:16<21:13:29, 18.65s/it]"
     ]
    },
    {
     "name": "stdout",
     "output_type": "stream",
     "text": [
      "{'loss': 1.4249, 'learning_rate': 5.8514285714285716e-05, 'epoch': 1.24}\n"
     ]
    },
    {
     "name": "stderr",
     "output_type": "stream",
     "text": [
      "  2%|▎         | 105/4200 [19:21<16:15:49, 14.30s/it]"
     ]
    },
    {
     "name": "stdout",
     "output_type": "stream",
     "text": [
      "{'loss': 1.337, 'learning_rate': 5.85e-05, 'epoch': 1.25}\n"
     ]
    },
    {
     "name": "stderr",
     "output_type": "stream",
     "text": [
      "  3%|▎         | 106/4200 [19:25<12:46:18, 11.23s/it]"
     ]
    },
    {
     "name": "stdout",
     "output_type": "stream",
     "text": [
      "{'loss': 1.389, 'learning_rate': 5.848571428571428e-05, 'epoch': 1.26}\n"
     ]
    },
    {
     "name": "stderr",
     "output_type": "stream",
     "text": [
      "  3%|▎         | 107/4200 [19:29<10:29:34,  9.23s/it]"
     ]
    },
    {
     "name": "stdout",
     "output_type": "stream",
     "text": [
      "{'loss': 1.2959, 'learning_rate': 5.847142857142857e-05, 'epoch': 1.27}\n"
     ]
    },
    {
     "name": "stderr",
     "output_type": "stream",
     "text": [
      "  3%|▎         | 108/4200 [19:34<8:52:53,  7.81s/it] "
     ]
    },
    {
     "name": "stdout",
     "output_type": "stream",
     "text": [
      "{'loss': 1.4986, 'learning_rate': 5.845714285714286e-05, 'epoch': 1.29}\n"
     ]
    },
    {
     "name": "stderr",
     "output_type": "stream",
     "text": [
      "  3%|▎         | 109/4200 [19:38<7:45:29,  6.83s/it]"
     ]
    },
    {
     "name": "stdout",
     "output_type": "stream",
     "text": [
      "{'loss': 1.4407, 'learning_rate': 5.8442857142857146e-05, 'epoch': 1.3}\n"
     ]
    },
    {
     "name": "stderr",
     "output_type": "stream",
     "text": [
      "  3%|▎         | 110/4200 [19:43<7:00:50,  6.17s/it]"
     ]
    },
    {
     "name": "stdout",
     "output_type": "stream",
     "text": [
      "{'loss': 1.4688, 'learning_rate': 5.842857142857143e-05, 'epoch': 1.31}\n"
     ]
    },
    {
     "name": "stderr",
     "output_type": "stream",
     "text": [
      "  3%|▎         | 111/4200 [19:47<6:26:49,  5.68s/it]"
     ]
    },
    {
     "name": "stdout",
     "output_type": "stream",
     "text": [
      "{'loss': 1.6226, 'learning_rate': 5.841428571428571e-05, 'epoch': 1.32}\n"
     ]
    },
    {
     "name": "stderr",
     "output_type": "stream",
     "text": [
      "  3%|▎         | 112/4200 [19:52<6:06:00,  5.37s/it]"
     ]
    },
    {
     "name": "stdout",
     "output_type": "stream",
     "text": [
      "{'loss': 1.8057, 'learning_rate': 5.84e-05, 'epoch': 1.33}\n"
     ]
    },
    {
     "name": "stderr",
     "output_type": "stream",
     "text": [
      "  3%|▎         | 113/4200 [19:57<5:48:15,  5.11s/it]"
     ]
    },
    {
     "name": "stdout",
     "output_type": "stream",
     "text": [
      "{'loss': 1.4588, 'learning_rate': 5.838571428571429e-05, 'epoch': 1.35}\n"
     ]
    },
    {
     "name": "stderr",
     "output_type": "stream",
     "text": [
      "  3%|▎         | 114/4200 [20:01<5:36:52,  4.95s/it]"
     ]
    },
    {
     "name": "stdout",
     "output_type": "stream",
     "text": [
      "{'loss': 1.7632, 'learning_rate': 5.837142857142857e-05, 'epoch': 1.36}\n"
     ]
    },
    {
     "name": "stderr",
     "output_type": "stream",
     "text": [
      "  3%|▎         | 115/4200 [20:06<5:27:31,  4.81s/it]"
     ]
    },
    {
     "name": "stdout",
     "output_type": "stream",
     "text": [
      "{'loss': 1.5854, 'learning_rate': 5.835714285714286e-05, 'epoch': 1.37}\n"
     ]
    },
    {
     "name": "stderr",
     "output_type": "stream",
     "text": [
      "  3%|▎         | 116/4200 [20:10<5:21:43,  4.73s/it]"
     ]
    },
    {
     "name": "stdout",
     "output_type": "stream",
     "text": [
      "{'loss': 1.6303, 'learning_rate': 5.8342857142857144e-05, 'epoch': 1.38}\n"
     ]
    },
    {
     "name": "stderr",
     "output_type": "stream",
     "text": [
      "  3%|▎         | 117/4200 [20:15<5:17:03,  4.66s/it]"
     ]
    },
    {
     "name": "stdout",
     "output_type": "stream",
     "text": [
      "{'loss': 1.6871, 'learning_rate': 5.8328571428571434e-05, 'epoch': 1.39}\n"
     ]
    },
    {
     "name": "stderr",
     "output_type": "stream",
     "text": [
      "  3%|▎         | 118/4200 [20:19<5:17:08,  4.66s/it]"
     ]
    },
    {
     "name": "stdout",
     "output_type": "stream",
     "text": [
      "{'loss': 1.357, 'learning_rate': 5.831428571428572e-05, 'epoch': 1.4}\n"
     ]
    },
    {
     "name": "stderr",
     "output_type": "stream",
     "text": [
      "  3%|▎         | 119/4200 [20:24<5:16:30,  4.65s/it]"
     ]
    },
    {
     "name": "stdout",
     "output_type": "stream",
     "text": [
      "{'loss': 1.3493, 'learning_rate': 5.83e-05, 'epoch': 1.42}\n"
     ]
    },
    {
     "name": "stderr",
     "output_type": "stream",
     "text": [
      "  3%|▎         | 120/4200 [20:28<5:07:38,  4.52s/it]"
     ]
    },
    {
     "name": "stdout",
     "output_type": "stream",
     "text": [
      "{'loss': 1.4244, 'learning_rate': 5.8285714285714284e-05, 'epoch': 1.43}\n"
     ]
    },
    {
     "name": "stderr",
     "output_type": "stream",
     "text": [
      "C:\\Users\\kuian\\.cache\\huggingface\\modules\\evaluate_modules\\metrics\\evaluate-metric--mean_iou\\08bc20f4f895f3caf75fb9e3fada1404bded3c3265243d05327cbb3b9326ffe9\\mean_iou.py:259: RuntimeWarning: invalid value encountered in divide\n",
      "  iou = total_area_intersect / total_area_union\n",
      "C:\\Users\\kuian\\.cache\\huggingface\\modules\\evaluate_modules\\metrics\\evaluate-metric--mean_iou\\08bc20f4f895f3caf75fb9e3fada1404bded3c3265243d05327cbb3b9326ffe9\\mean_iou.py:260: RuntimeWarning: invalid value encountered in divide\n",
      "  acc = total_area_intersect / total_area_label\n",
      "                                                    \n",
      "  3%|▎         | 120/4200 [22:49<5:07:38,  4.52s/it]"
     ]
    },
    {
     "name": "stdout",
     "output_type": "stream",
     "text": [
      "{'eval_loss': 1.7798662185668945, 'eval_mean_iou': 0.7151198000319479, 'eval_mean_accuracy': 0.9823596723555806, 'eval_overall_accuracy': 0.9705872521202199, 'eval_per_category_iou': [0.9698300886812657, 0.46040951138263003, nan, nan, nan, nan, nan, nan, nan, nan, nan, nan, nan, nan, nan, nan, nan, nan, nan], 'eval_per_category_accuracy': [0.9699616765406847, 0.9947576681704766, nan, nan, nan, nan, nan, nan, nan, nan, nan, nan, nan, nan, nan, nan, nan, nan, nan], 'eval_runtime': 141.143, 'eval_samples_per_second': 0.298, 'eval_steps_per_second': 0.149, 'epoch': 1.43}\n"
     ]
    },
    {
     "name": "stderr",
     "output_type": "stream",
     "text": [
      "  3%|▎         | 121/4200 [22:54<53:10:31, 46.93s/it]"
     ]
    },
    {
     "name": "stdout",
     "output_type": "stream",
     "text": [
      "{'loss': 1.3233, 'learning_rate': 5.827142857142857e-05, 'epoch': 1.44}\n"
     ]
    },
    {
     "name": "stderr",
     "output_type": "stream",
     "text": [
      "  3%|▎         | 122/4200 [22:58<38:43:24, 34.18s/it]"
     ]
    },
    {
     "name": "stdout",
     "output_type": "stream",
     "text": [
      "{'loss': 1.2945, 'learning_rate': 5.825714285714286e-05, 'epoch': 1.45}\n"
     ]
    },
    {
     "name": "stderr",
     "output_type": "stream",
     "text": [
      "  3%|▎         | 123/4200 [23:03<28:37:43, 25.28s/it]"
     ]
    },
    {
     "name": "stdout",
     "output_type": "stream",
     "text": [
      "{'loss': 1.5767, 'learning_rate': 5.824285714285715e-05, 'epoch': 1.46}\n"
     ]
    },
    {
     "name": "stderr",
     "output_type": "stream",
     "text": [
      "  3%|▎         | 124/4200 [23:08<21:38:43, 19.12s/it]"
     ]
    },
    {
     "name": "stdout",
     "output_type": "stream",
     "text": [
      "{'loss': 1.2781, 'learning_rate': 5.822857142857143e-05, 'epoch': 1.48}\n"
     ]
    },
    {
     "name": "stderr",
     "output_type": "stream",
     "text": [
      "  3%|▎         | 125/4200 [23:12<16:40:17, 14.73s/it]"
     ]
    },
    {
     "name": "stdout",
     "output_type": "stream",
     "text": [
      "{'loss': 1.6775, 'learning_rate': 5.8214285714285715e-05, 'epoch': 1.49}\n"
     ]
    },
    {
     "name": "stderr",
     "output_type": "stream",
     "text": [
      "  3%|▎         | 126/4200 [23:17<13:12:45, 11.68s/it]"
     ]
    },
    {
     "name": "stdout",
     "output_type": "stream",
     "text": [
      "{'loss': 1.4668, 'learning_rate': 5.82e-05, 'epoch': 1.5}\n"
     ]
    },
    {
     "name": "stderr",
     "output_type": "stream",
     "text": [
      "  3%|▎         | 127/4200 [23:22<10:52:51,  9.62s/it]"
     ]
    },
    {
     "name": "stdout",
     "output_type": "stream",
     "text": [
      "{'loss': 1.3137, 'learning_rate': 5.818571428571428e-05, 'epoch': 1.51}\n"
     ]
    },
    {
     "name": "stderr",
     "output_type": "stream",
     "text": [
      "  3%|▎         | 128/4200 [23:26<9:08:06,  8.08s/it] "
     ]
    },
    {
     "name": "stdout",
     "output_type": "stream",
     "text": [
      "{'loss': 1.2298, 'learning_rate': 5.817142857142857e-05, 'epoch': 1.52}\n"
     ]
    },
    {
     "name": "stderr",
     "output_type": "stream",
     "text": [
      "  3%|▎         | 129/4200 [23:30<7:51:07,  6.94s/it]"
     ]
    },
    {
     "name": "stdout",
     "output_type": "stream",
     "text": [
      "{'loss': 1.1883, 'learning_rate': 5.815714285714286e-05, 'epoch': 1.54}\n"
     ]
    },
    {
     "name": "stderr",
     "output_type": "stream",
     "text": [
      "  3%|▎         | 130/4200 [23:35<7:05:09,  6.27s/it]"
     ]
    },
    {
     "name": "stdout",
     "output_type": "stream",
     "text": [
      "{'loss': 1.1582, 'learning_rate': 5.8142857142857146e-05, 'epoch': 1.55}\n"
     ]
    },
    {
     "name": "stderr",
     "output_type": "stream",
     "text": [
      "  3%|▎         | 131/4200 [23:40<6:31:38,  5.77s/it]"
     ]
    },
    {
     "name": "stdout",
     "output_type": "stream",
     "text": [
      "{'loss': 1.2857, 'learning_rate': 5.812857142857143e-05, 'epoch': 1.56}\n"
     ]
    },
    {
     "name": "stderr",
     "output_type": "stream",
     "text": [
      "  3%|▎         | 132/4200 [23:44<6:05:03,  5.38s/it]"
     ]
    },
    {
     "name": "stdout",
     "output_type": "stream",
     "text": [
      "{'loss': 1.1286, 'learning_rate': 5.811428571428571e-05, 'epoch': 1.57}\n"
     ]
    },
    {
     "name": "stderr",
     "output_type": "stream",
     "text": [
      "  3%|▎         | 133/4200 [23:49<5:45:49,  5.10s/it]"
     ]
    },
    {
     "name": "stdout",
     "output_type": "stream",
     "text": [
      "{'loss': 1.3556, 'learning_rate': 5.81e-05, 'epoch': 1.58}\n"
     ]
    },
    {
     "name": "stderr",
     "output_type": "stream",
     "text": [
      "  3%|▎         | 134/4200 [23:53<5:35:02,  4.94s/it]"
     ]
    },
    {
     "name": "stdout",
     "output_type": "stream",
     "text": [
      "{'loss': 1.3133, 'learning_rate': 5.8085714285714286e-05, 'epoch': 1.6}\n"
     ]
    },
    {
     "name": "stderr",
     "output_type": "stream",
     "text": [
      "  3%|▎         | 135/4200 [23:58<5:25:59,  4.81s/it]"
     ]
    },
    {
     "name": "stdout",
     "output_type": "stream",
     "text": [
      "{'loss': 1.1274, 'learning_rate': 5.8071428571428576e-05, 'epoch': 1.61}\n"
     ]
    },
    {
     "name": "stderr",
     "output_type": "stream",
     "text": [
      "  3%|▎         | 136/4200 [24:02<5:19:55,  4.72s/it]"
     ]
    },
    {
     "name": "stdout",
     "output_type": "stream",
     "text": [
      "{'loss': 1.1615, 'learning_rate': 5.805714285714286e-05, 'epoch': 1.62}\n"
     ]
    },
    {
     "name": "stderr",
     "output_type": "stream",
     "text": [
      "  3%|▎         | 137/4200 [24:07<5:15:14,  4.66s/it]"
     ]
    },
    {
     "name": "stdout",
     "output_type": "stream",
     "text": [
      "{'loss': 1.2201, 'learning_rate': 5.804285714285714e-05, 'epoch': 1.63}\n"
     ]
    },
    {
     "name": "stderr",
     "output_type": "stream",
     "text": [
      "  3%|▎         | 138/4200 [24:11<5:11:39,  4.60s/it]"
     ]
    },
    {
     "name": "stdout",
     "output_type": "stream",
     "text": [
      "{'loss': 1.3059, 'learning_rate': 5.8028571428571433e-05, 'epoch': 1.64}\n"
     ]
    },
    {
     "name": "stderr",
     "output_type": "stream",
     "text": [
      "  3%|▎         | 139/4200 [24:16<5:11:47,  4.61s/it]"
     ]
    },
    {
     "name": "stdout",
     "output_type": "stream",
     "text": [
      "{'loss': 1.3304, 'learning_rate': 5.801428571428572e-05, 'epoch': 1.65}\n"
     ]
    },
    {
     "name": "stderr",
     "output_type": "stream",
     "text": [
      "  3%|▎         | 140/4200 [24:20<5:12:35,  4.62s/it]"
     ]
    },
    {
     "name": "stdout",
     "output_type": "stream",
     "text": [
      "{'loss': 1.1217, 'learning_rate': 5.8e-05, 'epoch': 1.67}\n"
     ]
    },
    {
     "name": "stderr",
     "output_type": "stream",
     "text": [
      "C:\\Users\\kuian\\.cache\\huggingface\\modules\\evaluate_modules\\metrics\\evaluate-metric--mean_iou\\08bc20f4f895f3caf75fb9e3fada1404bded3c3265243d05327cbb3b9326ffe9\\mean_iou.py:259: RuntimeWarning: invalid value encountered in divide\n",
      "  iou = total_area_intersect / total_area_union\n",
      "C:\\Users\\kuian\\.cache\\huggingface\\modules\\evaluate_modules\\metrics\\evaluate-metric--mean_iou\\08bc20f4f895f3caf75fb9e3fada1404bded3c3265243d05327cbb3b9326ffe9\\mean_iou.py:260: RuntimeWarning: invalid value encountered in divide\n",
      "  acc = total_area_intersect / total_area_label\n",
      "                                                    \n",
      "  3%|▎         | 140/4200 [26:39<5:12:35,  4.62s/it]"
     ]
    },
    {
     "name": "stdout",
     "output_type": "stream",
     "text": [
      "{'eval_loss': 0.8984485864639282, 'eval_mean_iou': 0.8138866707009783, 'eval_mean_accuracy': 0.9440131070827846, 'eval_overall_accuracy': 0.9872929422412907, 'eval_per_category_iou': [0.9869982379786516, 0.640775103423305, nan, nan, nan, nan, nan, nan, nan, nan, nan, nan, nan, nan, nan, nan, nan, nan, nan], 'eval_per_category_accuracy': [0.9895927928599552, 0.8984334213056142, nan, nan, nan, nan, nan, nan, nan, nan, nan, nan, nan, nan, nan, nan, nan, nan, nan], 'eval_runtime': 138.468, 'eval_samples_per_second': 0.303, 'eval_steps_per_second': 0.152, 'epoch': 1.67}\n"
     ]
    },
    {
     "name": "stderr",
     "output_type": "stream",
     "text": [
      "  3%|▎         | 141/4200 [26:44<52:03:52, 46.18s/it]"
     ]
    },
    {
     "name": "stdout",
     "output_type": "stream",
     "text": [
      "{'loss': 1.3055, 'learning_rate': 5.7985714285714284e-05, 'epoch': 1.68}\n"
     ]
    },
    {
     "name": "stderr",
     "output_type": "stream",
     "text": [
      "  3%|▎         | 142/4200 [26:48<37:57:08, 33.67s/it]"
     ]
    },
    {
     "name": "stdout",
     "output_type": "stream",
     "text": [
      "{'loss': 1.1339, 'learning_rate': 5.7971428571428574e-05, 'epoch': 1.69}\n"
     ]
    },
    {
     "name": "stderr",
     "output_type": "stream",
     "text": [
      "  3%|▎         | 143/4200 [26:53<28:04:21, 24.91s/it]"
     ]
    },
    {
     "name": "stdout",
     "output_type": "stream",
     "text": [
      "{'loss': 1.0793, 'learning_rate': 5.7957142857142864e-05, 'epoch': 1.7}\n"
     ]
    },
    {
     "name": "stderr",
     "output_type": "stream",
     "text": [
      "  3%|▎         | 144/4200 [26:57<21:12:07, 18.82s/it]"
     ]
    },
    {
     "name": "stdout",
     "output_type": "stream",
     "text": [
      "{'loss': 1.0416, 'learning_rate': 5.794285714285715e-05, 'epoch': 1.71}\n"
     ]
    },
    {
     "name": "stderr",
     "output_type": "stream",
     "text": [
      "  3%|▎         | 145/4200 [27:02<16:20:54, 14.51s/it]"
     ]
    },
    {
     "name": "stdout",
     "output_type": "stream",
     "text": [
      "{'loss': 1.0817, 'learning_rate': 5.792857142857143e-05, 'epoch': 1.73}\n"
     ]
    },
    {
     "name": "stderr",
     "output_type": "stream",
     "text": [
      "  3%|▎         | 146/4200 [27:06<12:57:33, 11.51s/it]"
     ]
    },
    {
     "name": "stdout",
     "output_type": "stream",
     "text": [
      "{'loss': 1.0402, 'learning_rate': 5.7914285714285714e-05, 'epoch': 1.74}\n"
     ]
    },
    {
     "name": "stderr",
     "output_type": "stream",
     "text": [
      "  4%|▎         | 147/4200 [27:11<10:36:13,  9.42s/it]"
     ]
    },
    {
     "name": "stdout",
     "output_type": "stream",
     "text": [
      "{'loss': 1.3041, 'learning_rate': 5.79e-05, 'epoch': 1.75}\n"
     ]
    },
    {
     "name": "stderr",
     "output_type": "stream",
     "text": [
      "  4%|▎         | 148/4200 [27:15<8:56:58,  7.95s/it] "
     ]
    },
    {
     "name": "stdout",
     "output_type": "stream",
     "text": [
      "{'loss': 1.0361, 'learning_rate': 5.788571428571428e-05, 'epoch': 1.76}\n"
     ]
    },
    {
     "name": "stderr",
     "output_type": "stream",
     "text": [
      "  4%|▎         | 149/4200 [27:20<7:48:46,  6.94s/it]"
     ]
    },
    {
     "name": "stdout",
     "output_type": "stream",
     "text": [
      "{'loss': 1.168, 'learning_rate': 5.787142857142858e-05, 'epoch': 1.77}\n"
     ]
    },
    {
     "name": "stderr",
     "output_type": "stream",
     "text": [
      "  4%|▎         | 150/4200 [27:24<7:00:38,  6.23s/it]"
     ]
    },
    {
     "name": "stdout",
     "output_type": "stream",
     "text": [
      "{'loss': 1.6096, 'learning_rate': 5.785714285714286e-05, 'epoch': 1.79}\n"
     ]
    },
    {
     "name": "stderr",
     "output_type": "stream",
     "text": [
      "  4%|▎         | 151/4200 [27:29<6:24:18,  5.69s/it]"
     ]
    },
    {
     "name": "stdout",
     "output_type": "stream",
     "text": [
      "{'loss': 1.0424, 'learning_rate': 5.7842857142857145e-05, 'epoch': 1.8}\n"
     ]
    },
    {
     "name": "stderr",
     "output_type": "stream",
     "text": [
      "  4%|▎         | 152/4200 [27:33<6:03:52,  5.39s/it]"
     ]
    },
    {
     "name": "stdout",
     "output_type": "stream",
     "text": [
      "{'loss': 1.2444, 'learning_rate': 5.782857142857143e-05, 'epoch': 1.81}\n"
     ]
    },
    {
     "name": "stderr",
     "output_type": "stream",
     "text": [
      "  4%|▎         | 153/4200 [27:38<5:48:27,  5.17s/it]"
     ]
    },
    {
     "name": "stdout",
     "output_type": "stream",
     "text": [
      "{'loss': 1.0353, 'learning_rate': 5.781428571428571e-05, 'epoch': 1.82}\n"
     ]
    },
    {
     "name": "stderr",
     "output_type": "stream",
     "text": [
      "  4%|▎         | 154/4200 [27:43<5:36:32,  4.99s/it]"
     ]
    },
    {
     "name": "stdout",
     "output_type": "stream",
     "text": [
      "{'loss': 1.1921, 'learning_rate': 5.78e-05, 'epoch': 1.83}\n"
     ]
    },
    {
     "name": "stderr",
     "output_type": "stream",
     "text": [
      "  4%|▎         | 155/4200 [27:47<5:27:39,  4.86s/it]"
     ]
    },
    {
     "name": "stdout",
     "output_type": "stream",
     "text": [
      "{'loss': 1.1859, 'learning_rate': 5.7785714285714286e-05, 'epoch': 1.85}\n"
     ]
    },
    {
     "name": "stderr",
     "output_type": "stream",
     "text": [
      "  4%|▎         | 156/4200 [27:52<5:22:38,  4.79s/it]"
     ]
    },
    {
     "name": "stdout",
     "output_type": "stream",
     "text": [
      "{'loss': 1.0767, 'learning_rate': 5.7771428571428576e-05, 'epoch': 1.86}\n"
     ]
    },
    {
     "name": "stderr",
     "output_type": "stream",
     "text": [
      "  4%|▎         | 157/4200 [27:56<5:16:20,  4.69s/it]"
     ]
    },
    {
     "name": "stdout",
     "output_type": "stream",
     "text": [
      "{'loss': 1.0215, 'learning_rate': 5.775714285714286e-05, 'epoch': 1.87}\n"
     ]
    },
    {
     "name": "stderr",
     "output_type": "stream",
     "text": [
      "  4%|▍         | 158/4200 [28:01<5:11:43,  4.63s/it]"
     ]
    },
    {
     "name": "stdout",
     "output_type": "stream",
     "text": [
      "{'loss': 1.1476, 'learning_rate': 5.774285714285714e-05, 'epoch': 1.88}\n"
     ]
    },
    {
     "name": "stderr",
     "output_type": "stream",
     "text": [
      "  4%|▍         | 159/4200 [28:05<5:11:24,  4.62s/it]"
     ]
    },
    {
     "name": "stdout",
     "output_type": "stream",
     "text": [
      "{'loss': 0.9431, 'learning_rate': 5.772857142857143e-05, 'epoch': 1.89}\n"
     ]
    },
    {
     "name": "stderr",
     "output_type": "stream",
     "text": [
      "  4%|▍         | 160/4200 [28:10<5:09:11,  4.59s/it]"
     ]
    },
    {
     "name": "stdout",
     "output_type": "stream",
     "text": [
      "{'loss': 0.9617, 'learning_rate': 5.7714285714285716e-05, 'epoch': 1.9}\n"
     ]
    },
    {
     "name": "stderr",
     "output_type": "stream",
     "text": [
      "C:\\Users\\kuian\\.cache\\huggingface\\modules\\evaluate_modules\\metrics\\evaluate-metric--mean_iou\\08bc20f4f895f3caf75fb9e3fada1404bded3c3265243d05327cbb3b9326ffe9\\mean_iou.py:259: RuntimeWarning: invalid value encountered in divide\n",
      "  iou = total_area_intersect / total_area_union\n",
      "C:\\Users\\kuian\\.cache\\huggingface\\modules\\evaluate_modules\\metrics\\evaluate-metric--mean_iou\\08bc20f4f895f3caf75fb9e3fada1404bded3c3265243d05327cbb3b9326ffe9\\mean_iou.py:260: RuntimeWarning: invalid value encountered in divide\n",
      "  acc = total_area_intersect / total_area_label\n",
      "                                                    \n",
      "  4%|▍         | 160/4200 [30:33<5:09:11,  4.59s/it]"
     ]
    },
    {
     "name": "stdout",
     "output_type": "stream",
     "text": [
      "{'eval_loss': 1.032051682472229, 'eval_mean_iou': 0.8196873262362043, 'eval_mean_accuracy': 0.9573122792897286, 'eval_overall_accuracy': 0.9875448324625725, 'eval_per_category_iou': [0.9872470684701355, 0.6521275840022732, nan, nan, nan, nan, nan, nan, nan, nan, nan, nan, nan, nan, nan, nan, nan, nan, nan], 'eval_per_category_accuracy': [0.9891513625212875, 0.9254731960581697, nan, nan, nan, nan, nan, nan, nan, nan, nan, nan, nan, nan, nan, nan, nan, nan, nan], 'eval_runtime': 143.1235, 'eval_samples_per_second': 0.293, 'eval_steps_per_second': 0.147, 'epoch': 1.9}\n"
     ]
    },
    {
     "name": "stderr",
     "output_type": "stream",
     "text": [
      "  4%|▍         | 161/4200 [30:38<53:35:04, 47.76s/it]"
     ]
    },
    {
     "name": "stdout",
     "output_type": "stream",
     "text": [
      "{'loss': 1.1519, 'learning_rate': 5.77e-05, 'epoch': 1.92}\n"
     ]
    },
    {
     "name": "stderr",
     "output_type": "stream",
     "text": [
      "  4%|▍         | 162/4200 [30:43<39:06:37, 34.87s/it]"
     ]
    },
    {
     "name": "stdout",
     "output_type": "stream",
     "text": [
      "{'loss': 1.08, 'learning_rate': 5.768571428571428e-05, 'epoch': 1.93}\n"
     ]
    },
    {
     "name": "stderr",
     "output_type": "stream",
     "text": [
      "  4%|▍         | 163/4200 [30:48<29:08:26, 25.99s/it]"
     ]
    },
    {
     "name": "stdout",
     "output_type": "stream",
     "text": [
      "{'loss': 1.074, 'learning_rate': 5.7671428571428573e-05, 'epoch': 1.94}\n"
     ]
    },
    {
     "name": "stderr",
     "output_type": "stream",
     "text": [
      "  4%|▍         | 164/4200 [30:53<22:02:18, 19.66s/it]"
     ]
    },
    {
     "name": "stdout",
     "output_type": "stream",
     "text": [
      "{'loss': 0.9433, 'learning_rate': 5.7657142857142864e-05, 'epoch': 1.95}\n"
     ]
    },
    {
     "name": "stderr",
     "output_type": "stream",
     "text": [
      "  4%|▍         | 165/4200 [30:58<16:52:10, 15.05s/it]"
     ]
    },
    {
     "name": "stdout",
     "output_type": "stream",
     "text": [
      "{'loss': 1.0048, 'learning_rate': 5.764285714285715e-05, 'epoch': 1.96}\n"
     ]
    },
    {
     "name": "stderr",
     "output_type": "stream",
     "text": [
      "  4%|▍         | 166/4200 [31:02<13:12:50, 11.79s/it]"
     ]
    },
    {
     "name": "stdout",
     "output_type": "stream",
     "text": [
      "{'loss': 0.938, 'learning_rate': 5.762857142857143e-05, 'epoch': 1.98}\n"
     ]
    },
    {
     "name": "stderr",
     "output_type": "stream",
     "text": [
      "  4%|▍         | 167/4200 [31:06<10:41:39,  9.55s/it]"
     ]
    },
    {
     "name": "stdout",
     "output_type": "stream",
     "text": [
      "{'loss': 0.9089, 'learning_rate': 5.7614285714285714e-05, 'epoch': 1.99}\n"
     ]
    },
    {
     "name": "stderr",
     "output_type": "stream",
     "text": [
      "  4%|▍         | 168/4200 [31:11<8:56:52,  7.99s/it] "
     ]
    },
    {
     "name": "stdout",
     "output_type": "stream",
     "text": [
      "{'loss': 0.9284, 'learning_rate': 5.76e-05, 'epoch': 2.0}\n"
     ]
    },
    {
     "name": "stderr",
     "output_type": "stream",
     "text": [
      "  4%|▍         | 169/4200 [31:15<7:38:42,  6.83s/it]"
     ]
    },
    {
     "name": "stdout",
     "output_type": "stream",
     "text": [
      "{'loss': 0.8971, 'learning_rate': 5.758571428571429e-05, 'epoch': 2.01}\n"
     ]
    },
    {
     "name": "stderr",
     "output_type": "stream",
     "text": [
      "  4%|▍         | 170/4200 [31:19<6:51:28,  6.13s/it]"
     ]
    },
    {
     "name": "stdout",
     "output_type": "stream",
     "text": [
      "{'loss': 0.9876, 'learning_rate': 5.757142857142858e-05, 'epoch': 2.02}\n"
     ]
    },
    {
     "name": "stderr",
     "output_type": "stream",
     "text": [
      "  4%|▍         | 171/4200 [31:24<6:19:05,  5.65s/it]"
     ]
    },
    {
     "name": "stdout",
     "output_type": "stream",
     "text": [
      "{'loss': 0.8745, 'learning_rate': 5.755714285714286e-05, 'epoch': 2.04}\n"
     ]
    },
    {
     "name": "stderr",
     "output_type": "stream",
     "text": [
      "  4%|▍         | 172/4200 [31:28<5:53:36,  5.27s/it]"
     ]
    },
    {
     "name": "stdout",
     "output_type": "stream",
     "text": [
      "{'loss': 0.8747, 'learning_rate': 5.7542857142857145e-05, 'epoch': 2.05}\n"
     ]
    },
    {
     "name": "stderr",
     "output_type": "stream",
     "text": [
      "  4%|▍         | 173/4200 [31:32<5:35:43,  5.00s/it]"
     ]
    },
    {
     "name": "stdout",
     "output_type": "stream",
     "text": [
      "{'loss': 1.0794, 'learning_rate': 5.752857142857143e-05, 'epoch': 2.06}\n"
     ]
    },
    {
     "name": "stderr",
     "output_type": "stream",
     "text": [
      "  4%|▍         | 174/4200 [31:37<5:20:33,  4.78s/it]"
     ]
    },
    {
     "name": "stdout",
     "output_type": "stream",
     "text": [
      "{'loss': 0.8984, 'learning_rate': 5.751428571428571e-05, 'epoch': 2.07}\n"
     ]
    },
    {
     "name": "stderr",
     "output_type": "stream",
     "text": [
      "  4%|▍         | 175/4200 [31:41<5:15:01,  4.70s/it]"
     ]
    },
    {
     "name": "stdout",
     "output_type": "stream",
     "text": [
      "{'loss': 0.8287, 'learning_rate': 5.75e-05, 'epoch': 2.08}\n"
     ]
    },
    {
     "name": "stderr",
     "output_type": "stream",
     "text": [
      "  4%|▍         | 176/4200 [31:45<5:03:42,  4.53s/it]"
     ]
    },
    {
     "name": "stdout",
     "output_type": "stream",
     "text": [
      "{'loss': 1.1814, 'learning_rate': 5.7485714285714285e-05, 'epoch': 2.1}\n"
     ]
    },
    {
     "name": "stderr",
     "output_type": "stream",
     "text": [
      "  4%|▍         | 177/4200 [31:49<4:53:44,  4.38s/it]"
     ]
    },
    {
     "name": "stdout",
     "output_type": "stream",
     "text": [
      "{'loss': 0.8172, 'learning_rate': 5.7471428571428575e-05, 'epoch': 2.11}\n"
     ]
    },
    {
     "name": "stderr",
     "output_type": "stream",
     "text": [
      "  4%|▍         | 178/4200 [31:53<4:48:33,  4.30s/it]"
     ]
    },
    {
     "name": "stdout",
     "output_type": "stream",
     "text": [
      "{'loss': 0.9154, 'learning_rate': 5.745714285714286e-05, 'epoch': 2.12}\n"
     ]
    },
    {
     "name": "stderr",
     "output_type": "stream",
     "text": [
      "  4%|▍         | 179/4200 [31:58<4:46:00,  4.27s/it]"
     ]
    },
    {
     "name": "stdout",
     "output_type": "stream",
     "text": [
      "{'loss': 0.9002, 'learning_rate': 5.744285714285714e-05, 'epoch': 2.13}\n"
     ]
    },
    {
     "name": "stderr",
     "output_type": "stream",
     "text": [
      "  4%|▍         | 180/4200 [32:02<4:42:44,  4.22s/it]"
     ]
    },
    {
     "name": "stdout",
     "output_type": "stream",
     "text": [
      "{'loss': 0.8212, 'learning_rate': 5.742857142857143e-05, 'epoch': 2.14}\n"
     ]
    },
    {
     "name": "stderr",
     "output_type": "stream",
     "text": [
      "C:\\Users\\kuian\\.cache\\huggingface\\modules\\evaluate_modules\\metrics\\evaluate-metric--mean_iou\\08bc20f4f895f3caf75fb9e3fada1404bded3c3265243d05327cbb3b9326ffe9\\mean_iou.py:259: RuntimeWarning: invalid value encountered in divide\n",
      "  iou = total_area_intersect / total_area_union\n",
      "C:\\Users\\kuian\\.cache\\huggingface\\modules\\evaluate_modules\\metrics\\evaluate-metric--mean_iou\\08bc20f4f895f3caf75fb9e3fada1404bded3c3265243d05327cbb3b9326ffe9\\mean_iou.py:260: RuntimeWarning: invalid value encountered in divide\n",
      "  acc = total_area_intersect / total_area_label\n",
      "                                                    \n",
      "  4%|▍         | 180/4200 [34:10<4:42:44,  4.22s/it]"
     ]
    },
    {
     "name": "stdout",
     "output_type": "stream",
     "text": [
      "{'eval_loss': 0.8574345707893372, 'eval_mean_iou': 0.8363094789552208, 'eval_mean_accuracy': 0.9579692025933713, 'eval_overall_accuracy': 0.9892016033770912, 'eval_per_category_iou': [0.9889435606985748, 0.6836753972118668, nan, nan, nan, nan, nan, nan, nan, nan, nan, nan, nan, nan, nan, nan, nan, nan, nan], 'eval_per_category_accuracy': [0.9908612644178911, 0.9250771407688513, nan, nan, nan, nan, nan, nan, nan, nan, nan, nan, nan, nan, nan, nan, nan, nan, nan], 'eval_runtime': 128.6509, 'eval_samples_per_second': 0.326, 'eval_steps_per_second': 0.163, 'epoch': 2.14}\n"
     ]
    },
    {
     "name": "stderr",
     "output_type": "stream",
     "text": [
      "  4%|▍         | 181/4200 [34:15<47:48:26, 42.82s/it]"
     ]
    },
    {
     "name": "stdout",
     "output_type": "stream",
     "text": [
      "{'loss': 0.8054, 'learning_rate': 5.7414285714285716e-05, 'epoch': 2.15}\n"
     ]
    },
    {
     "name": "stderr",
     "output_type": "stream",
     "text": [
      "  4%|▍         | 182/4200 [34:19<34:50:43, 31.22s/it]"
     ]
    },
    {
     "name": "stdout",
     "output_type": "stream",
     "text": [
      "{'loss': 0.8097, 'learning_rate': 5.74e-05, 'epoch': 2.17}\n"
     ]
    },
    {
     "name": "stderr",
     "output_type": "stream",
     "text": [
      "  4%|▍         | 183/4200 [34:23<25:42:50, 23.04s/it]"
     ]
    },
    {
     "name": "stdout",
     "output_type": "stream",
     "text": [
      "{'loss': 0.8453, 'learning_rate': 5.738571428571428e-05, 'epoch': 2.18}\n"
     ]
    },
    {
     "name": "stderr",
     "output_type": "stream",
     "text": [
      "  4%|▍         | 184/4200 [34:27<19:21:05, 17.35s/it]"
     ]
    },
    {
     "name": "stdout",
     "output_type": "stream",
     "text": [
      "{'loss': 0.8063, 'learning_rate': 5.737142857142857e-05, 'epoch': 2.19}\n"
     ]
    },
    {
     "name": "stderr",
     "output_type": "stream",
     "text": [
      "  4%|▍         | 185/4200 [34:31<14:54:09, 13.36s/it]"
     ]
    },
    {
     "name": "stdout",
     "output_type": "stream",
     "text": [
      "{'loss': 0.8203, 'learning_rate': 5.735714285714286e-05, 'epoch': 2.2}\n"
     ]
    },
    {
     "name": "stderr",
     "output_type": "stream",
     "text": [
      "  4%|▍         | 186/4200 [34:35<11:48:56, 10.60s/it]"
     ]
    },
    {
     "name": "stdout",
     "output_type": "stream",
     "text": [
      "{'loss': 1.5843, 'learning_rate': 5.7342857142857147e-05, 'epoch': 2.21}\n"
     ]
    },
    {
     "name": "stderr",
     "output_type": "stream",
     "text": [
      "  4%|▍         | 187/4200 [34:39<9:37:31,  8.63s/it] "
     ]
    },
    {
     "name": "stdout",
     "output_type": "stream",
     "text": [
      "{'loss': 0.9501, 'learning_rate': 5.732857142857143e-05, 'epoch': 2.23}\n"
     ]
    },
    {
     "name": "stderr",
     "output_type": "stream",
     "text": [
      "  4%|▍         | 188/4200 [34:43<8:05:48,  7.27s/it]"
     ]
    },
    {
     "name": "stdout",
     "output_type": "stream",
     "text": [
      "{'loss': 0.8045, 'learning_rate': 5.7314285714285713e-05, 'epoch': 2.24}\n"
     ]
    },
    {
     "name": "stderr",
     "output_type": "stream",
     "text": [
      "  4%|▍         | 189/4200 [34:47<7:01:07,  6.30s/it]"
     ]
    },
    {
     "name": "stdout",
     "output_type": "stream",
     "text": [
      "{'loss': 0.7666, 'learning_rate': 5.73e-05, 'epoch': 2.25}\n"
     ]
    },
    {
     "name": "stderr",
     "output_type": "stream",
     "text": [
      "  5%|▍         | 190/4200 [34:51<6:16:31,  5.63s/it]"
     ]
    },
    {
     "name": "stdout",
     "output_type": "stream",
     "text": [
      "{'loss': 0.7961, 'learning_rate': 5.728571428571429e-05, 'epoch': 2.26}\n"
     ]
    },
    {
     "name": "stderr",
     "output_type": "stream",
     "text": [
      "  5%|▍         | 191/4200 [34:55<5:46:23,  5.18s/it]"
     ]
    },
    {
     "name": "stdout",
     "output_type": "stream",
     "text": [
      "{'loss': 0.7378, 'learning_rate': 5.727142857142858e-05, 'epoch': 2.27}\n"
     ]
    },
    {
     "name": "stderr",
     "output_type": "stream",
     "text": [
      "  5%|▍         | 192/4200 [35:00<5:24:34,  4.86s/it]"
     ]
    },
    {
     "name": "stdout",
     "output_type": "stream",
     "text": [
      "{'loss': 0.8822, 'learning_rate': 5.725714285714286e-05, 'epoch': 2.29}\n"
     ]
    },
    {
     "name": "stderr",
     "output_type": "stream",
     "text": [
      "  5%|▍         | 193/4200 [35:03<5:06:34,  4.59s/it]"
     ]
    },
    {
     "name": "stdout",
     "output_type": "stream",
     "text": [
      "{'loss': 0.7231, 'learning_rate': 5.7242857142857144e-05, 'epoch': 2.3}\n"
     ]
    },
    {
     "name": "stderr",
     "output_type": "stream",
     "text": [
      "  5%|▍         | 194/4200 [35:07<4:53:43,  4.40s/it]"
     ]
    },
    {
     "name": "stdout",
     "output_type": "stream",
     "text": [
      "{'loss': 0.7338, 'learning_rate': 5.722857142857143e-05, 'epoch': 2.31}\n"
     ]
    },
    {
     "name": "stderr",
     "output_type": "stream",
     "text": [
      "  5%|▍         | 195/4200 [35:11<4:45:41,  4.28s/it]"
     ]
    },
    {
     "name": "stdout",
     "output_type": "stream",
     "text": [
      "{'loss': 0.7092, 'learning_rate': 5.721428571428572e-05, 'epoch': 2.32}\n"
     ]
    },
    {
     "name": "stderr",
     "output_type": "stream",
     "text": [
      "  5%|▍         | 196/4200 [35:15<4:39:49,  4.19s/it]"
     ]
    },
    {
     "name": "stdout",
     "output_type": "stream",
     "text": [
      "{'loss': 0.8482, 'learning_rate': 5.72e-05, 'epoch': 2.33}\n"
     ]
    },
    {
     "name": "stderr",
     "output_type": "stream",
     "text": [
      "  5%|▍         | 197/4200 [35:20<4:37:26,  4.16s/it]"
     ]
    },
    {
     "name": "stdout",
     "output_type": "stream",
     "text": [
      "{'loss': 1.2554, 'learning_rate': 5.7185714285714285e-05, 'epoch': 2.35}\n"
     ]
    },
    {
     "name": "stderr",
     "output_type": "stream",
     "text": [
      "  5%|▍         | 198/4200 [35:24<4:35:46,  4.13s/it]"
     ]
    },
    {
     "name": "stdout",
     "output_type": "stream",
     "text": [
      "{'loss': 0.8805, 'learning_rate': 5.7171428571428575e-05, 'epoch': 2.36}\n"
     ]
    },
    {
     "name": "stderr",
     "output_type": "stream",
     "text": [
      "  5%|▍         | 199/4200 [35:28<4:34:25,  4.12s/it]"
     ]
    },
    {
     "name": "stdout",
     "output_type": "stream",
     "text": [
      "{'loss': 0.7198, 'learning_rate': 5.715714285714286e-05, 'epoch': 2.37}\n"
     ]
    },
    {
     "name": "stderr",
     "output_type": "stream",
     "text": [
      "  5%|▍         | 200/4200 [35:32<4:34:36,  4.12s/it]"
     ]
    },
    {
     "name": "stdout",
     "output_type": "stream",
     "text": [
      "{'loss': 1.1516, 'learning_rate': 5.714285714285714e-05, 'epoch': 2.38}\n"
     ]
    },
    {
     "name": "stderr",
     "output_type": "stream",
     "text": [
      "C:\\Users\\kuian\\.cache\\huggingface\\modules\\evaluate_modules\\metrics\\evaluate-metric--mean_iou\\08bc20f4f895f3caf75fb9e3fada1404bded3c3265243d05327cbb3b9326ffe9\\mean_iou.py:259: RuntimeWarning: invalid value encountered in divide\n",
      "  iou = total_area_intersect / total_area_union\n",
      "C:\\Users\\kuian\\.cache\\huggingface\\modules\\evaluate_modules\\metrics\\evaluate-metric--mean_iou\\08bc20f4f895f3caf75fb9e3fada1404bded3c3265243d05327cbb3b9326ffe9\\mean_iou.py:260: RuntimeWarning: invalid value encountered in divide\n",
      "  acc = total_area_intersect / total_area_label\n",
      "                                                    \n",
      "  5%|▍         | 200/4200 [37:43<4:34:36,  4.12s/it]"
     ]
    },
    {
     "name": "stdout",
     "output_type": "stream",
     "text": [
      "{'eval_loss': 0.7726230621337891, 'eval_mean_iou': 0.79991605703989, 'eval_mean_accuracy': 0.8796515868707353, 'eval_overall_accuracy': 0.9877671099135198, 'eval_per_category_iou': [0.9875261136594655, 0.6123060004203145, nan, nan, nan, nan, nan, nan, nan, nan, nan, nan, nan, nan, nan, nan, nan, nan, nan], 'eval_per_category_accuracy': [0.9935122693312148, 0.7657909044102557, nan, nan, nan, nan, nan, nan, nan, nan, nan, nan, nan, nan, nan, nan, nan, nan, nan], 'eval_runtime': 131.1277, 'eval_samples_per_second': 0.32, 'eval_steps_per_second': 0.16, 'epoch': 2.38}\n"
     ]
    },
    {
     "name": "stderr",
     "output_type": "stream",
     "text": [
      "  5%|▍         | 201/4200 [37:47<48:19:26, 43.50s/it]"
     ]
    },
    {
     "name": "stdout",
     "output_type": "stream",
     "text": [
      "{'loss': 0.6598, 'learning_rate': 5.712857142857143e-05, 'epoch': 2.39}\n"
     ]
    },
    {
     "name": "stderr",
     "output_type": "stream",
     "text": [
      "  5%|▍         | 202/4200 [37:51<35:10:43, 31.68s/it]"
     ]
    },
    {
     "name": "stdout",
     "output_type": "stream",
     "text": [
      "{'loss': 1.3099, 'learning_rate': 5.7114285714285715e-05, 'epoch': 2.4}\n"
     ]
    },
    {
     "name": "stderr",
     "output_type": "stream",
     "text": [
      "  5%|▍         | 203/4200 [37:55<25:57:46, 23.38s/it]"
     ]
    },
    {
     "name": "stdout",
     "output_type": "stream",
     "text": [
      "{'loss': 0.873, 'learning_rate': 5.71e-05, 'epoch': 2.42}\n"
     ]
    },
    {
     "name": "stderr",
     "output_type": "stream",
     "text": [
      "  5%|▍         | 204/4200 [37:59<19:31:51, 17.60s/it]"
     ]
    },
    {
     "name": "stdout",
     "output_type": "stream",
     "text": [
      "{'loss': 0.7923, 'learning_rate': 5.708571428571428e-05, 'epoch': 2.43}\n"
     ]
    },
    {
     "name": "stderr",
     "output_type": "stream",
     "text": [
      "  5%|▍         | 205/4200 [38:03<15:00:55, 13.53s/it]"
     ]
    },
    {
     "name": "stdout",
     "output_type": "stream",
     "text": [
      "{'loss': 0.671, 'learning_rate': 5.707142857142857e-05, 'epoch': 2.44}\n"
     ]
    },
    {
     "name": "stderr",
     "output_type": "stream",
     "text": [
      "  5%|▍         | 206/4200 [38:07<11:50:37, 10.68s/it]"
     ]
    },
    {
     "name": "stdout",
     "output_type": "stream",
     "text": [
      "{'loss': 0.8722, 'learning_rate': 5.705714285714286e-05, 'epoch': 2.45}\n"
     ]
    },
    {
     "name": "stderr",
     "output_type": "stream",
     "text": [
      "  5%|▍         | 207/4200 [38:11<9:38:18,  8.69s/it] "
     ]
    },
    {
     "name": "stdout",
     "output_type": "stream",
     "text": [
      "{'loss': 0.7458, 'learning_rate': 5.7042857142857146e-05, 'epoch': 2.46}\n"
     ]
    },
    {
     "name": "stderr",
     "output_type": "stream",
     "text": [
      "  5%|▍         | 208/4200 [38:16<8:07:02,  7.32s/it]"
     ]
    },
    {
     "name": "stdout",
     "output_type": "stream",
     "text": [
      "{'loss': 0.6326, 'learning_rate': 5.702857142857143e-05, 'epoch': 2.48}\n"
     ]
    },
    {
     "name": "stderr",
     "output_type": "stream",
     "text": [
      "  5%|▍         | 209/4200 [38:20<7:03:04,  6.36s/it]"
     ]
    },
    {
     "name": "stdout",
     "output_type": "stream",
     "text": [
      "{'loss': 0.7269, 'learning_rate': 5.701428571428571e-05, 'epoch': 2.49}\n"
     ]
    },
    {
     "name": "stderr",
     "output_type": "stream",
     "text": [
      "  5%|▌         | 210/4200 [38:24<6:17:13,  5.67s/it]"
     ]
    },
    {
     "name": "stdout",
     "output_type": "stream",
     "text": [
      "{'loss': 0.6444, 'learning_rate': 5.6999999999999996e-05, 'epoch': 2.5}\n"
     ]
    },
    {
     "name": "stderr",
     "output_type": "stream",
     "text": [
      "  5%|▌         | 211/4200 [38:28<5:44:43,  5.19s/it]"
     ]
    },
    {
     "name": "stdout",
     "output_type": "stream",
     "text": [
      "{'loss': 0.8584, 'learning_rate': 5.6985714285714287e-05, 'epoch': 2.51}\n"
     ]
    },
    {
     "name": "stderr",
     "output_type": "stream",
     "text": [
      "  5%|▌         | 212/4200 [38:32<5:23:38,  4.87s/it]"
     ]
    },
    {
     "name": "stdout",
     "output_type": "stream",
     "text": [
      "{'loss': 0.8628, 'learning_rate': 5.697142857142858e-05, 'epoch': 2.52}\n"
     ]
    },
    {
     "name": "stderr",
     "output_type": "stream",
     "text": [
      "  5%|▌         | 213/4200 [38:36<5:06:45,  4.62s/it]"
     ]
    },
    {
     "name": "stdout",
     "output_type": "stream",
     "text": [
      "{'loss': 0.8718, 'learning_rate': 5.695714285714286e-05, 'epoch': 2.54}\n"
     ]
    },
    {
     "name": "stderr",
     "output_type": "stream",
     "text": [
      "  5%|▌         | 214/4200 [38:40<4:55:15,  4.44s/it]"
     ]
    },
    {
     "name": "stdout",
     "output_type": "stream",
     "text": [
      "{'loss': 0.6419, 'learning_rate': 5.6942857142857144e-05, 'epoch': 2.55}\n"
     ]
    },
    {
     "name": "stderr",
     "output_type": "stream",
     "text": [
      "  5%|▌         | 215/4200 [38:44<4:47:46,  4.33s/it]"
     ]
    },
    {
     "name": "stdout",
     "output_type": "stream",
     "text": [
      "{'loss': 0.6311, 'learning_rate': 5.692857142857143e-05, 'epoch': 2.56}\n"
     ]
    },
    {
     "name": "stderr",
     "output_type": "stream",
     "text": [
      "  5%|▌         | 216/4200 [38:48<4:41:32,  4.24s/it]"
     ]
    },
    {
     "name": "stdout",
     "output_type": "stream",
     "text": [
      "{'loss': 0.6223, 'learning_rate': 5.691428571428572e-05, 'epoch': 2.57}\n"
     ]
    },
    {
     "name": "stderr",
     "output_type": "stream",
     "text": [
      "  5%|▌         | 217/4200 [38:52<4:38:15,  4.19s/it]"
     ]
    },
    {
     "name": "stdout",
     "output_type": "stream",
     "text": [
      "{'loss': 0.7296, 'learning_rate': 5.69e-05, 'epoch': 2.58}\n"
     ]
    },
    {
     "name": "stderr",
     "output_type": "stream",
     "text": [
      "  5%|▌         | 218/4200 [38:56<4:35:25,  4.15s/it]"
     ]
    },
    {
     "name": "stdout",
     "output_type": "stream",
     "text": [
      "{'loss': 0.6492, 'learning_rate': 5.688571428571429e-05, 'epoch': 2.6}\n"
     ]
    },
    {
     "name": "stderr",
     "output_type": "stream",
     "text": [
      "  5%|▌         | 219/4200 [39:00<4:33:06,  4.12s/it]"
     ]
    },
    {
     "name": "stdout",
     "output_type": "stream",
     "text": [
      "{'loss': 0.7406, 'learning_rate': 5.6871428571428574e-05, 'epoch': 2.61}\n"
     ]
    },
    {
     "name": "stderr",
     "output_type": "stream",
     "text": [
      "  5%|▌         | 220/4200 [39:04<4:33:55,  4.13s/it]"
     ]
    },
    {
     "name": "stdout",
     "output_type": "stream",
     "text": [
      "{'loss': 0.595, 'learning_rate': 5.685714285714286e-05, 'epoch': 2.62}\n"
     ]
    },
    {
     "name": "stderr",
     "output_type": "stream",
     "text": [
      "C:\\Users\\kuian\\.cache\\huggingface\\modules\\evaluate_modules\\metrics\\evaluate-metric--mean_iou\\08bc20f4f895f3caf75fb9e3fada1404bded3c3265243d05327cbb3b9326ffe9\\mean_iou.py:259: RuntimeWarning: invalid value encountered in divide\n",
      "  iou = total_area_intersect / total_area_union\n",
      "C:\\Users\\kuian\\.cache\\huggingface\\modules\\evaluate_modules\\metrics\\evaluate-metric--mean_iou\\08bc20f4f895f3caf75fb9e3fada1404bded3c3265243d05327cbb3b9326ffe9\\mean_iou.py:260: RuntimeWarning: invalid value encountered in divide\n",
      "  acc = total_area_intersect / total_area_label\n",
      "                                                    \n",
      "  5%|▌         | 220/4200 [41:15<4:33:55,  4.13s/it]"
     ]
    },
    {
     "name": "stdout",
     "output_type": "stream",
     "text": [
      "{'eval_loss': 1.000332236289978, 'eval_mean_iou': 0.8421702861378774, 'eval_mean_accuracy': 0.9168645718398034, 'eval_overall_accuracy': 0.9906601685711494, 'eval_per_category_iou': [0.9904581604907338, 0.693882411785021, nan, nan, nan, nan, nan, nan, nan, nan, nan, nan, nan, nan, nan, nan, nan, nan, nan], 'eval_per_category_accuracy': [0.9945815986823253, 0.8391475449972816, nan, nan, nan, nan, nan, nan, nan, nan, nan, nan, nan, nan, nan, nan, nan, nan, nan], 'eval_runtime': 130.8116, 'eval_samples_per_second': 0.321, 'eval_steps_per_second': 0.161, 'epoch': 2.62}\n"
     ]
    },
    {
     "name": "stderr",
     "output_type": "stream",
     "text": [
      "  5%|▌         | 221/4200 [41:19<47:55:05, 43.35s/it]"
     ]
    },
    {
     "name": "stdout",
     "output_type": "stream",
     "text": [
      "{'loss': 0.5993, 'learning_rate': 5.684285714285715e-05, 'epoch': 2.63}\n"
     ]
    },
    {
     "name": "stderr",
     "output_type": "stream",
     "text": [
      "  5%|▌         | 222/4200 [41:23<34:44:25, 31.44s/it]"
     ]
    },
    {
     "name": "stdout",
     "output_type": "stream",
     "text": [
      "{'loss': 0.577, 'learning_rate': 5.682857142857143e-05, 'epoch': 2.64}\n"
     ]
    },
    {
     "name": "stderr",
     "output_type": "stream",
     "text": [
      "  5%|▌         | 223/4200 [41:27<25:34:37, 23.15s/it]"
     ]
    },
    {
     "name": "stdout",
     "output_type": "stream",
     "text": [
      "{'loss': 0.5839, 'learning_rate': 5.6814285714285715e-05, 'epoch': 2.65}\n"
     ]
    },
    {
     "name": "stderr",
     "output_type": "stream",
     "text": [
      "  5%|▌         | 224/4200 [41:31<19:09:28, 17.35s/it]"
     ]
    },
    {
     "name": "stdout",
     "output_type": "stream",
     "text": [
      "{'loss': 0.6496, 'learning_rate': 5.68e-05, 'epoch': 2.67}\n"
     ]
    },
    {
     "name": "stderr",
     "output_type": "stream",
     "text": [
      "  5%|▌         | 225/4200 [41:35<14:41:38, 13.31s/it]"
     ]
    },
    {
     "name": "stdout",
     "output_type": "stream",
     "text": [
      "{'loss': 0.7197, 'learning_rate': 5.678571428571429e-05, 'epoch': 2.68}\n"
     ]
    },
    {
     "name": "stderr",
     "output_type": "stream",
     "text": [
      "  5%|▌         | 226/4200 [41:38<11:34:22, 10.48s/it]"
     ]
    },
    {
     "name": "stdout",
     "output_type": "stream",
     "text": [
      "{'loss': 0.6634, 'learning_rate': 5.677142857142857e-05, 'epoch': 2.69}\n"
     ]
    },
    {
     "name": "stderr",
     "output_type": "stream",
     "text": [
      "  5%|▌         | 227/4200 [41:42<9:26:34,  8.56s/it] "
     ]
    },
    {
     "name": "stdout",
     "output_type": "stream",
     "text": [
      "{'loss': 0.6932, 'learning_rate': 5.675714285714286e-05, 'epoch': 2.7}\n"
     ]
    },
    {
     "name": "stderr",
     "output_type": "stream",
     "text": [
      "  5%|▌         | 228/4200 [41:47<7:59:44,  7.25s/it]"
     ]
    },
    {
     "name": "stdout",
     "output_type": "stream",
     "text": [
      "{'loss': 0.592, 'learning_rate': 5.6742857142857146e-05, 'epoch': 2.71}\n"
     ]
    },
    {
     "name": "stderr",
     "output_type": "stream",
     "text": [
      "  5%|▌         | 229/4200 [41:51<6:56:15,  6.29s/it]"
     ]
    },
    {
     "name": "stdout",
     "output_type": "stream",
     "text": [
      "{'loss': 0.6514, 'learning_rate': 5.672857142857143e-05, 'epoch': 2.73}\n"
     ]
    },
    {
     "name": "stderr",
     "output_type": "stream",
     "text": [
      "  5%|▌         | 230/4200 [41:55<6:17:44,  5.71s/it]"
     ]
    },
    {
     "name": "stdout",
     "output_type": "stream",
     "text": [
      "{'loss': 0.5335, 'learning_rate': 5.671428571428571e-05, 'epoch': 2.74}\n"
     ]
    },
    {
     "name": "stderr",
     "output_type": "stream",
     "text": [
      "  6%|▌         | 231/4200 [42:00<5:55:12,  5.37s/it]"
     ]
    },
    {
     "name": "stdout",
     "output_type": "stream",
     "text": [
      "{'loss': 0.5525, 'learning_rate': 5.6699999999999996e-05, 'epoch': 2.75}\n"
     ]
    },
    {
     "name": "stderr",
     "output_type": "stream",
     "text": [
      "  6%|▌         | 232/4200 [42:04<5:44:34,  5.21s/it]"
     ]
    },
    {
     "name": "stdout",
     "output_type": "stream",
     "text": [
      "{'loss': 0.52, 'learning_rate': 5.668571428571429e-05, 'epoch': 2.76}\n"
     ]
    },
    {
     "name": "stderr",
     "output_type": "stream",
     "text": [
      "  6%|▌         | 233/4200 [42:09<5:29:58,  4.99s/it]"
     ]
    },
    {
     "name": "stdout",
     "output_type": "stream",
     "text": [
      "{'loss': 0.5224, 'learning_rate': 5.6671428571428576e-05, 'epoch': 2.77}\n"
     ]
    },
    {
     "name": "stderr",
     "output_type": "stream",
     "text": [
      "  6%|▌         | 234/4200 [42:14<5:21:57,  4.87s/it]"
     ]
    },
    {
     "name": "stdout",
     "output_type": "stream",
     "text": [
      "{'loss': 0.5468, 'learning_rate': 5.665714285714286e-05, 'epoch': 2.79}\n"
     ]
    },
    {
     "name": "stderr",
     "output_type": "stream",
     "text": [
      "  6%|▌         | 235/4200 [42:18<5:18:26,  4.82s/it]"
     ]
    },
    {
     "name": "stdout",
     "output_type": "stream",
     "text": [
      "{'loss': 0.691, 'learning_rate': 5.664285714285714e-05, 'epoch': 2.8}\n"
     ]
    },
    {
     "name": "stderr",
     "output_type": "stream",
     "text": [
      "  6%|▌         | 236/4200 [42:23<5:13:38,  4.75s/it]"
     ]
    },
    {
     "name": "stdout",
     "output_type": "stream",
     "text": [
      "{'loss': 0.503, 'learning_rate': 5.6628571428571427e-05, 'epoch': 2.81}\n"
     ]
    },
    {
     "name": "stderr",
     "output_type": "stream",
     "text": [
      "  6%|▌         | 237/4200 [42:27<5:04:19,  4.61s/it]"
     ]
    },
    {
     "name": "stdout",
     "output_type": "stream",
     "text": [
      "{'loss': 0.5241, 'learning_rate': 5.661428571428572e-05, 'epoch': 2.82}\n"
     ]
    },
    {
     "name": "stderr",
     "output_type": "stream",
     "text": [
      "  6%|▌         | 238/4200 [42:32<5:06:58,  4.65s/it]"
     ]
    },
    {
     "name": "stdout",
     "output_type": "stream",
     "text": [
      "{'loss': 0.5103, 'learning_rate': 5.66e-05, 'epoch': 2.83}\n"
     ]
    },
    {
     "name": "stderr",
     "output_type": "stream",
     "text": [
      "  6%|▌         | 239/4200 [42:37<5:09:21,  4.69s/it]"
     ]
    },
    {
     "name": "stdout",
     "output_type": "stream",
     "text": [
      "{'loss': 0.5302, 'learning_rate': 5.658571428571429e-05, 'epoch': 2.85}\n"
     ]
    },
    {
     "name": "stderr",
     "output_type": "stream",
     "text": [
      "  6%|▌         | 240/4200 [42:41<5:06:43,  4.65s/it]"
     ]
    },
    {
     "name": "stdout",
     "output_type": "stream",
     "text": [
      "{'loss': 1.0253, 'learning_rate': 5.6571428571428574e-05, 'epoch': 2.86}\n"
     ]
    },
    {
     "name": "stderr",
     "output_type": "stream",
     "text": [
      "C:\\Users\\kuian\\.cache\\huggingface\\modules\\evaluate_modules\\metrics\\evaluate-metric--mean_iou\\08bc20f4f895f3caf75fb9e3fada1404bded3c3265243d05327cbb3b9326ffe9\\mean_iou.py:259: RuntimeWarning: invalid value encountered in divide\n",
      "  iou = total_area_intersect / total_area_union\n",
      "C:\\Users\\kuian\\.cache\\huggingface\\modules\\evaluate_modules\\metrics\\evaluate-metric--mean_iou\\08bc20f4f895f3caf75fb9e3fada1404bded3c3265243d05327cbb3b9326ffe9\\mean_iou.py:260: RuntimeWarning: invalid value encountered in divide\n",
      "  acc = total_area_intersect / total_area_label\n",
      "                                                    \n",
      "  6%|▌         | 240/4200 [45:06<5:06:43,  4.65s/it]"
     ]
    },
    {
     "name": "stdout",
     "output_type": "stream",
     "text": [
      "{'eval_loss': 0.5638573169708252, 'eval_mean_iou': 0.8618736219558802, 'eval_mean_accuracy': 0.9535796687981106, 'eval_overall_accuracy': 0.9915774377577719, 'eval_per_category_iou': [0.9913787332292456, 0.7323685106825149, nan, nan, nan, nan, nan, nan, nan, nan, nan, nan, nan, nan, nan, nan, nan, nan, nan], 'eval_per_category_accuracy': [0.9935966042386445, 0.9135627333575768, nan, nan, nan, nan, nan, nan, nan, nan, nan, nan, nan, nan, nan, nan, nan, nan, nan], 'eval_runtime': 144.5908, 'eval_samples_per_second': 0.29, 'eval_steps_per_second': 0.145, 'epoch': 2.86}\n"
     ]
    },
    {
     "name": "stderr",
     "output_type": "stream",
     "text": [
      "  6%|▌         | 241/4200 [45:10<52:49:08, 48.03s/it]"
     ]
    },
    {
     "name": "stdout",
     "output_type": "stream",
     "text": [
      "{'loss': 0.4841, 'learning_rate': 5.655714285714286e-05, 'epoch': 2.87}\n"
     ]
    },
    {
     "name": "stderr",
     "output_type": "stream",
     "text": [
      "  6%|▌         | 242/4200 [45:15<38:25:35, 34.95s/it]"
     ]
    },
    {
     "name": "stdout",
     "output_type": "stream",
     "text": [
      "{'loss': 0.47, 'learning_rate': 5.654285714285715e-05, 'epoch': 2.88}\n"
     ]
    },
    {
     "name": "stderr",
     "output_type": "stream",
     "text": [
      "  6%|▌         | 243/4200 [45:19<28:16:11, 25.72s/it]"
     ]
    },
    {
     "name": "stdout",
     "output_type": "stream",
     "text": [
      "{'loss': 0.4971, 'learning_rate': 5.652857142857143e-05, 'epoch': 2.89}\n"
     ]
    },
    {
     "name": "stderr",
     "output_type": "stream",
     "text": [
      "  6%|▌         | 244/4200 [45:23<21:10:19, 19.27s/it]"
     ]
    },
    {
     "name": "stdout",
     "output_type": "stream",
     "text": [
      "{'loss': 0.4696, 'learning_rate': 5.6514285714285714e-05, 'epoch': 2.9}\n"
     ]
    },
    {
     "name": "stderr",
     "output_type": "stream",
     "text": [
      "  6%|▌         | 245/4200 [45:28<16:16:29, 14.81s/it]"
     ]
    },
    {
     "name": "stdout",
     "output_type": "stream",
     "text": [
      "{'loss': 0.9333, 'learning_rate': 5.65e-05, 'epoch': 2.92}\n"
     ]
    },
    {
     "name": "stderr",
     "output_type": "stream",
     "text": [
      "  6%|▌         | 246/4200 [45:33<13:15:53, 12.08s/it]"
     ]
    },
    {
     "name": "stdout",
     "output_type": "stream",
     "text": [
      "{'loss': 0.4711, 'learning_rate': 5.648571428571429e-05, 'epoch': 2.93}\n"
     ]
    },
    {
     "name": "stderr",
     "output_type": "stream",
     "text": [
      "  6%|▌         | 247/4200 [45:38<10:42:00,  9.74s/it]"
     ]
    },
    {
     "name": "stdout",
     "output_type": "stream",
     "text": [
      "{'loss': 0.5932, 'learning_rate': 5.647142857142858e-05, 'epoch': 2.94}\n"
     ]
    },
    {
     "name": "stderr",
     "output_type": "stream",
     "text": [
      "  6%|▌         | 248/4200 [45:42<8:53:43,  8.10s/it] "
     ]
    },
    {
     "name": "stdout",
     "output_type": "stream",
     "text": [
      "{'loss': 0.5581, 'learning_rate': 5.645714285714286e-05, 'epoch': 2.95}\n"
     ]
    },
    {
     "name": "stderr",
     "output_type": "stream",
     "text": [
      "  6%|▌         | 249/4200 [45:46<7:35:34,  6.92s/it]"
     ]
    },
    {
     "name": "stdout",
     "output_type": "stream",
     "text": [
      "{'loss': 0.4643, 'learning_rate': 5.6442857142857145e-05, 'epoch': 2.96}\n"
     ]
    },
    {
     "name": "stderr",
     "output_type": "stream",
     "text": [
      "  6%|▌         | 250/4200 [45:50<6:39:32,  6.07s/it]"
     ]
    },
    {
     "name": "stdout",
     "output_type": "stream",
     "text": [
      "{'loss': 0.6357, 'learning_rate': 5.642857142857143e-05, 'epoch': 2.98}\n"
     ]
    },
    {
     "name": "stderr",
     "output_type": "stream",
     "text": [
      "  6%|▌         | 251/4200 [45:54<6:00:55,  5.48s/it]"
     ]
    },
    {
     "name": "stdout",
     "output_type": "stream",
     "text": [
      "{'loss': 0.6518, 'learning_rate': 5.641428571428571e-05, 'epoch': 2.99}\n"
     ]
    },
    {
     "name": "stderr",
     "output_type": "stream",
     "text": [
      "  6%|▌         | 252/4200 [45:58<5:34:23,  5.08s/it]"
     ]
    },
    {
     "name": "stdout",
     "output_type": "stream",
     "text": [
      "{'loss': 0.429, 'learning_rate': 5.6399999999999995e-05, 'epoch': 3.0}\n"
     ]
    },
    {
     "name": "stderr",
     "output_type": "stream",
     "text": [
      "  6%|▌         | 253/4200 [46:03<5:26:59,  4.97s/it]"
     ]
    },
    {
     "name": "stdout",
     "output_type": "stream",
     "text": [
      "{'loss': 0.425, 'learning_rate': 5.638571428571429e-05, 'epoch': 3.01}\n"
     ]
    },
    {
     "name": "stderr",
     "output_type": "stream",
     "text": [
      "  6%|▌         | 254/4200 [46:08<5:16:14,  4.81s/it]"
     ]
    },
    {
     "name": "stdout",
     "output_type": "stream",
     "text": [
      "{'loss': 0.4324, 'learning_rate': 5.6371428571428576e-05, 'epoch': 3.02}\n"
     ]
    },
    {
     "name": "stderr",
     "output_type": "stream",
     "text": [
      "  6%|▌         | 255/4200 [46:12<5:07:05,  4.67s/it]"
     ]
    },
    {
     "name": "stdout",
     "output_type": "stream",
     "text": [
      "{'loss': 0.452, 'learning_rate': 5.635714285714286e-05, 'epoch': 3.04}\n"
     ]
    },
    {
     "name": "stderr",
     "output_type": "stream",
     "text": [
      "  6%|▌         | 256/4200 [46:16<5:00:44,  4.58s/it]"
     ]
    },
    {
     "name": "stdout",
     "output_type": "stream",
     "text": [
      "{'loss': 0.4135, 'learning_rate': 5.634285714285714e-05, 'epoch': 3.05}\n"
     ]
    },
    {
     "name": "stderr",
     "output_type": "stream",
     "text": [
      "  6%|▌         | 257/4200 [46:21<5:00:15,  4.57s/it]"
     ]
    },
    {
     "name": "stdout",
     "output_type": "stream",
     "text": [
      "{'loss': 0.4108, 'learning_rate': 5.6328571428571426e-05, 'epoch': 3.06}\n"
     ]
    },
    {
     "name": "stderr",
     "output_type": "stream",
     "text": [
      "  6%|▌         | 258/4200 [46:26<5:03:53,  4.63s/it]"
     ]
    },
    {
     "name": "stdout",
     "output_type": "stream",
     "text": [
      "{'loss': 0.7042, 'learning_rate': 5.6314285714285716e-05, 'epoch': 3.07}\n"
     ]
    },
    {
     "name": "stderr",
     "output_type": "stream",
     "text": [
      "  6%|▌         | 259/4200 [46:30<4:58:36,  4.55s/it]"
     ]
    },
    {
     "name": "stdout",
     "output_type": "stream",
     "text": [
      "{'loss': 0.4257, 'learning_rate': 5.63e-05, 'epoch': 3.08}\n"
     ]
    },
    {
     "name": "stderr",
     "output_type": "stream",
     "text": [
      "  6%|▌         | 260/4200 [46:34<4:57:46,  4.53s/it]"
     ]
    },
    {
     "name": "stdout",
     "output_type": "stream",
     "text": [
      "{'loss': 0.5669, 'learning_rate': 5.628571428571429e-05, 'epoch': 3.1}\n"
     ]
    },
    {
     "name": "stderr",
     "output_type": "stream",
     "text": [
      "C:\\Users\\kuian\\.cache\\huggingface\\modules\\evaluate_modules\\metrics\\evaluate-metric--mean_iou\\08bc20f4f895f3caf75fb9e3fada1404bded3c3265243d05327cbb3b9326ffe9\\mean_iou.py:259: RuntimeWarning: invalid value encountered in divide\n",
      "  iou = total_area_intersect / total_area_union\n",
      "C:\\Users\\kuian\\.cache\\huggingface\\modules\\evaluate_modules\\metrics\\evaluate-metric--mean_iou\\08bc20f4f895f3caf75fb9e3fada1404bded3c3265243d05327cbb3b9326ffe9\\mean_iou.py:260: RuntimeWarning: invalid value encountered in divide\n",
      "  acc = total_area_intersect / total_area_label\n",
      "                                                    \n",
      "  6%|▌         | 260/4200 [48:54<4:57:46,  4.53s/it]"
     ]
    },
    {
     "name": "stdout",
     "output_type": "stream",
     "text": [
      "{'eval_loss': 0.6503710150718689, 'eval_mean_iou': 0.8437306852166975, 'eval_mean_accuracy': 0.8924028399747408, 'eval_overall_accuracy': 0.9913269100872723, 'eval_per_category_iou': [0.9911509378634205, 0.6963104325699746, nan, nan, nan, nan, nan, nan, nan, nan, nan, nan, nan, nan, nan, nan, nan, nan, nan], 'eval_per_category_accuracy': [0.9965836441532845, 0.7882220357961971, nan, nan, nan, nan, nan, nan, nan, nan, nan, nan, nan, nan, nan, nan, nan, nan, nan], 'eval_runtime': 139.4282, 'eval_samples_per_second': 0.301, 'eval_steps_per_second': 0.151, 'epoch': 3.1}\n"
     ]
    },
    {
     "name": "stderr",
     "output_type": "stream",
     "text": [
      "  6%|▌         | 261/4200 [48:58<50:44:10, 46.37s/it]"
     ]
    },
    {
     "name": "stdout",
     "output_type": "stream",
     "text": [
      "{'loss': 0.4278, 'learning_rate': 5.627142857142857e-05, 'epoch': 3.11}\n"
     ]
    },
    {
     "name": "stderr",
     "output_type": "stream",
     "text": [
      "  6%|▌         | 262/4200 [49:03<36:55:45, 33.76s/it]"
     ]
    },
    {
     "name": "stdout",
     "output_type": "stream",
     "text": [
      "{'loss': 0.5264, 'learning_rate': 5.625714285714286e-05, 'epoch': 3.12}\n"
     ]
    },
    {
     "name": "stderr",
     "output_type": "stream",
     "text": [
      "  6%|▋         | 263/4200 [49:07<27:22:45, 25.04s/it]"
     ]
    },
    {
     "name": "stdout",
     "output_type": "stream",
     "text": [
      "{'loss': 0.4009, 'learning_rate': 5.624285714285715e-05, 'epoch': 3.13}\n"
     ]
    },
    {
     "name": "stderr",
     "output_type": "stream",
     "text": [
      "  6%|▋         | 264/4200 [49:12<20:41:04, 18.92s/it]"
     ]
    },
    {
     "name": "stdout",
     "output_type": "stream",
     "text": [
      "{'loss': 0.578, 'learning_rate': 5.622857142857143e-05, 'epoch': 3.14}\n"
     ]
    },
    {
     "name": "stderr",
     "output_type": "stream",
     "text": [
      "  6%|▋         | 265/4200 [49:17<16:00:03, 14.64s/it]"
     ]
    },
    {
     "name": "stdout",
     "output_type": "stream",
     "text": [
      "{'loss': 0.379, 'learning_rate': 5.6214285714285714e-05, 'epoch': 3.15}\n"
     ]
    },
    {
     "name": "stderr",
     "output_type": "stream",
     "text": [
      "  6%|▋         | 266/4200 [49:22<12:45:14, 11.67s/it]"
     ]
    },
    {
     "name": "stdout",
     "output_type": "stream",
     "text": [
      "{'loss': 0.4379, 'learning_rate': 5.62e-05, 'epoch': 3.17}\n"
     ]
    },
    {
     "name": "stderr",
     "output_type": "stream",
     "text": [
      "  6%|▋         | 267/4200 [49:26<10:24:25,  9.53s/it]"
     ]
    },
    {
     "name": "stdout",
     "output_type": "stream",
     "text": [
      "{'loss': 0.4389, 'learning_rate': 5.618571428571429e-05, 'epoch': 3.18}\n"
     ]
    },
    {
     "name": "stderr",
     "output_type": "stream",
     "text": [
      "  6%|▋         | 268/4200 [49:31<8:53:47,  8.15s/it] "
     ]
    },
    {
     "name": "stdout",
     "output_type": "stream",
     "text": [
      "{'loss': 0.3893, 'learning_rate': 5.617142857142858e-05, 'epoch': 3.19}\n"
     ]
    },
    {
     "name": "stderr",
     "output_type": "stream",
     "text": [
      "  6%|▋         | 269/4200 [49:36<7:43:15,  7.07s/it]"
     ]
    },
    {
     "name": "stdout",
     "output_type": "stream",
     "text": [
      "{'loss': 0.3697, 'learning_rate': 5.615714285714286e-05, 'epoch': 3.2}\n"
     ]
    },
    {
     "name": "stderr",
     "output_type": "stream",
     "text": [
      "  6%|▋         | 270/4200 [49:40<6:51:54,  6.29s/it]"
     ]
    },
    {
     "name": "stdout",
     "output_type": "stream",
     "text": [
      "{'loss': 0.3894, 'learning_rate': 5.6142857142857145e-05, 'epoch': 3.21}\n"
     ]
    },
    {
     "name": "stderr",
     "output_type": "stream",
     "text": [
      "  6%|▋         | 271/4200 [49:45<6:21:14,  5.82s/it]"
     ]
    },
    {
     "name": "stdout",
     "output_type": "stream",
     "text": [
      "{'loss': 0.4114, 'learning_rate': 5.612857142857143e-05, 'epoch': 3.23}\n"
     ]
    },
    {
     "name": "stderr",
     "output_type": "stream",
     "text": [
      "  6%|▋         | 272/4200 [49:49<5:55:47,  5.43s/it]"
     ]
    },
    {
     "name": "stdout",
     "output_type": "stream",
     "text": [
      "{'loss': 0.4543, 'learning_rate': 5.611428571428571e-05, 'epoch': 3.24}\n"
     ]
    },
    {
     "name": "stderr",
     "output_type": "stream",
     "text": [
      "  6%|▋         | 273/4200 [49:54<5:38:56,  5.18s/it]"
     ]
    },
    {
     "name": "stdout",
     "output_type": "stream",
     "text": [
      "{'loss': 0.3771, 'learning_rate': 5.61e-05, 'epoch': 3.25}\n"
     ]
    },
    {
     "name": "stderr",
     "output_type": "stream",
     "text": [
      "  7%|▋         | 274/4200 [49:59<5:29:56,  5.04s/it]"
     ]
    },
    {
     "name": "stdout",
     "output_type": "stream",
     "text": [
      "{'loss': 0.3696, 'learning_rate': 5.608571428571429e-05, 'epoch': 3.26}\n"
     ]
    },
    {
     "name": "stderr",
     "output_type": "stream",
     "text": [
      "  7%|▋         | 275/4200 [50:03<5:22:02,  4.92s/it]"
     ]
    },
    {
     "name": "stdout",
     "output_type": "stream",
     "text": [
      "{'loss': 0.3535, 'learning_rate': 5.6071428571428575e-05, 'epoch': 3.27}\n"
     ]
    },
    {
     "name": "stderr",
     "output_type": "stream",
     "text": [
      "  7%|▋         | 276/4200 [50:08<5:16:42,  4.84s/it]"
     ]
    },
    {
     "name": "stdout",
     "output_type": "stream",
     "text": [
      "{'loss': 0.3473, 'learning_rate': 5.605714285714286e-05, 'epoch': 3.29}\n"
     ]
    },
    {
     "name": "stderr",
     "output_type": "stream",
     "text": [
      "  7%|▋         | 277/4200 [50:13<5:14:25,  4.81s/it]"
     ]
    },
    {
     "name": "stdout",
     "output_type": "stream",
     "text": [
      "{'loss': 0.3954, 'learning_rate': 5.604285714285714e-05, 'epoch': 3.3}\n"
     ]
    },
    {
     "name": "stderr",
     "output_type": "stream",
     "text": [
      "  7%|▋         | 278/4200 [50:17<5:10:19,  4.75s/it]"
     ]
    },
    {
     "name": "stdout",
     "output_type": "stream",
     "text": [
      "{'loss': 0.4135, 'learning_rate': 5.6028571428571426e-05, 'epoch': 3.31}\n"
     ]
    },
    {
     "name": "stderr",
     "output_type": "stream",
     "text": [
      "  7%|▋         | 279/4200 [50:22<5:08:50,  4.73s/it]"
     ]
    },
    {
     "name": "stdout",
     "output_type": "stream",
     "text": [
      "{'loss': 0.3596, 'learning_rate': 5.6014285714285716e-05, 'epoch': 3.32}\n"
     ]
    },
    {
     "name": "stderr",
     "output_type": "stream",
     "text": [
      "  7%|▋         | 280/4200 [50:27<5:11:28,  4.77s/it]"
     ]
    },
    {
     "name": "stdout",
     "output_type": "stream",
     "text": [
      "{'loss': 0.3492, 'learning_rate': 5.6e-05, 'epoch': 3.33}\n"
     ]
    },
    {
     "name": "stderr",
     "output_type": "stream",
     "text": [
      "C:\\Users\\kuian\\.cache\\huggingface\\modules\\evaluate_modules\\metrics\\evaluate-metric--mean_iou\\08bc20f4f895f3caf75fb9e3fada1404bded3c3265243d05327cbb3b9326ffe9\\mean_iou.py:259: RuntimeWarning: invalid value encountered in divide\n",
      "  iou = total_area_intersect / total_area_union\n",
      "C:\\Users\\kuian\\.cache\\huggingface\\modules\\evaluate_modules\\metrics\\evaluate-metric--mean_iou\\08bc20f4f895f3caf75fb9e3fada1404bded3c3265243d05327cbb3b9326ffe9\\mean_iou.py:260: RuntimeWarning: invalid value encountered in divide\n",
      "  acc = total_area_intersect / total_area_label\n",
      "                                                    \n",
      "  7%|▋         | 280/4200 [52:48<5:11:28,  4.77s/it]"
     ]
    },
    {
     "name": "stdout",
     "output_type": "stream",
     "text": [
      "{'eval_loss': 0.6034188866615295, 'eval_mean_iou': 0.8631517763587784, 'eval_mean_accuracy': 0.9185670943246607, 'eval_overall_accuracy': 0.9923177570161373, 'eval_per_category_iou': [0.9921512463696777, 0.7341523063478791, nan, nan, nan, nan, nan, nan, nan, nan, nan, nan, nan, nan, nan, nan, nan, nan, nan], 'eval_per_category_accuracy': [0.9962367993737784, 0.8408973892755429, nan, nan, nan, nan, nan, nan, nan, nan, nan, nan, nan, nan, nan, nan, nan, nan, nan], 'eval_runtime': 141.2688, 'eval_samples_per_second': 0.297, 'eval_steps_per_second': 0.149, 'epoch': 3.33}\n"
     ]
    },
    {
     "name": "stderr",
     "output_type": "stream",
     "text": [
      "  7%|▋         | 281/4200 [52:52<51:13:27, 47.05s/it]"
     ]
    },
    {
     "name": "stdout",
     "output_type": "stream",
     "text": [
      "{'loss': 0.3372, 'learning_rate': 5.598571428571429e-05, 'epoch': 3.35}\n"
     ]
    },
    {
     "name": "stderr",
     "output_type": "stream",
     "text": [
      "  7%|▋         | 282/4200 [52:57<37:13:09, 34.20s/it]"
     ]
    },
    {
     "name": "stdout",
     "output_type": "stream",
     "text": [
      "{'loss': 0.3412, 'learning_rate': 5.597142857142857e-05, 'epoch': 3.36}\n"
     ]
    },
    {
     "name": "stderr",
     "output_type": "stream",
     "text": [
      "  7%|▋         | 283/4200 [53:01<27:24:54, 25.20s/it]"
     ]
    },
    {
     "name": "stdout",
     "output_type": "stream",
     "text": [
      "{'loss': 0.535, 'learning_rate': 5.5957142857142856e-05, 'epoch': 3.37}\n"
     ]
    },
    {
     "name": "stderr",
     "output_type": "stream",
     "text": [
      "  7%|▋         | 284/4200 [53:05<20:33:52, 18.91s/it]"
     ]
    },
    {
     "name": "stdout",
     "output_type": "stream",
     "text": [
      "{'loss': 0.345, 'learning_rate': 5.5942857142857146e-05, 'epoch': 3.38}\n"
     ]
    },
    {
     "name": "stderr",
     "output_type": "stream",
     "text": [
      "  7%|▋         | 285/4200 [53:09<15:46:14, 14.50s/it]"
     ]
    },
    {
     "name": "stdout",
     "output_type": "stream",
     "text": [
      "{'loss': 0.3307, 'learning_rate': 5.592857142857143e-05, 'epoch': 3.39}\n"
     ]
    },
    {
     "name": "stderr",
     "output_type": "stream",
     "text": [
      "  7%|▋         | 286/4200 [53:14<12:24:38, 11.42s/it]"
     ]
    },
    {
     "name": "stdout",
     "output_type": "stream",
     "text": [
      "{'loss': 0.7914, 'learning_rate': 5.591428571428571e-05, 'epoch': 3.4}\n"
     ]
    },
    {
     "name": "stderr",
     "output_type": "stream",
     "text": [
      "  7%|▋         | 287/4200 [53:18<10:03:40,  9.26s/it]"
     ]
    },
    {
     "name": "stdout",
     "output_type": "stream",
     "text": [
      "{'loss': 0.3206, 'learning_rate': 5.59e-05, 'epoch': 3.42}\n"
     ]
    },
    {
     "name": "stderr",
     "output_type": "stream",
     "text": [
      "  7%|▋         | 288/4200 [53:22<8:24:57,  7.74s/it] "
     ]
    },
    {
     "name": "stdout",
     "output_type": "stream",
     "text": [
      "{'loss': 0.3195, 'learning_rate': 5.588571428571429e-05, 'epoch': 3.43}\n"
     ]
    },
    {
     "name": "stderr",
     "output_type": "stream",
     "text": [
      "  7%|▋         | 289/4200 [53:26<7:15:52,  6.69s/it]"
     ]
    },
    {
     "name": "stdout",
     "output_type": "stream",
     "text": [
      "{'loss': 0.4237, 'learning_rate': 5.587142857142858e-05, 'epoch': 3.44}\n"
     ]
    },
    {
     "name": "stderr",
     "output_type": "stream",
     "text": [
      "  7%|▋         | 290/4200 [53:30<6:25:59,  5.92s/it]"
     ]
    },
    {
     "name": "stdout",
     "output_type": "stream",
     "text": [
      "{'loss': 0.4351, 'learning_rate': 5.585714285714286e-05, 'epoch': 3.45}\n"
     ]
    },
    {
     "name": "stderr",
     "output_type": "stream",
     "text": [
      "  7%|▋         | 291/4200 [53:34<5:50:21,  5.38s/it]"
     ]
    },
    {
     "name": "stdout",
     "output_type": "stream",
     "text": [
      "{'loss': 0.3111, 'learning_rate': 5.5842857142857144e-05, 'epoch': 3.46}\n"
     ]
    },
    {
     "name": "stderr",
     "output_type": "stream",
     "text": [
      "  7%|▋         | 292/4200 [53:39<5:27:18,  5.03s/it]"
     ]
    },
    {
     "name": "stdout",
     "output_type": "stream",
     "text": [
      "{'loss': 0.3093, 'learning_rate': 5.582857142857143e-05, 'epoch': 3.48}\n"
     ]
    },
    {
     "name": "stderr",
     "output_type": "stream",
     "text": [
      "  7%|▋         | 293/4200 [53:43<5:11:29,  4.78s/it]"
     ]
    },
    {
     "name": "stdout",
     "output_type": "stream",
     "text": [
      "{'loss': 0.4063, 'learning_rate': 5.581428571428571e-05, 'epoch': 3.49}\n"
     ]
    },
    {
     "name": "stderr",
     "output_type": "stream",
     "text": [
      "  7%|▋         | 294/4200 [53:47<5:02:56,  4.65s/it]"
     ]
    },
    {
     "name": "stdout",
     "output_type": "stream",
     "text": [
      "{'loss': 0.334, 'learning_rate': 5.58e-05, 'epoch': 3.5}\n"
     ]
    },
    {
     "name": "stderr",
     "output_type": "stream",
     "text": [
      "  7%|▋         | 295/4200 [53:51<4:54:49,  4.53s/it]"
     ]
    },
    {
     "name": "stdout",
     "output_type": "stream",
     "text": [
      "{'loss': 0.297, 'learning_rate': 5.578571428571429e-05, 'epoch': 3.51}\n"
     ]
    },
    {
     "name": "stderr",
     "output_type": "stream",
     "text": [
      "  7%|▋         | 296/4200 [53:56<4:48:44,  4.44s/it]"
     ]
    },
    {
     "name": "stdout",
     "output_type": "stream",
     "text": [
      "{'loss': 0.3592, 'learning_rate': 5.5771428571428575e-05, 'epoch': 3.52}\n"
     ]
    },
    {
     "name": "stderr",
     "output_type": "stream",
     "text": [
      "  7%|▋         | 297/4200 [54:00<4:45:13,  4.38s/it]"
     ]
    },
    {
     "name": "stdout",
     "output_type": "stream",
     "text": [
      "{'loss': 0.3253, 'learning_rate': 5.575714285714286e-05, 'epoch': 3.54}\n"
     ]
    },
    {
     "name": "stderr",
     "output_type": "stream",
     "text": [
      "  7%|▋         | 298/4200 [54:04<4:41:15,  4.32s/it]"
     ]
    },
    {
     "name": "stdout",
     "output_type": "stream",
     "text": [
      "{'loss': 0.3148, 'learning_rate': 5.574285714285714e-05, 'epoch': 3.55}\n"
     ]
    },
    {
     "name": "stderr",
     "output_type": "stream",
     "text": [
      "  7%|▋         | 299/4200 [54:08<4:40:19,  4.31s/it]"
     ]
    },
    {
     "name": "stdout",
     "output_type": "stream",
     "text": [
      "{'loss': 0.2978, 'learning_rate': 5.572857142857143e-05, 'epoch': 3.56}\n"
     ]
    },
    {
     "name": "stderr",
     "output_type": "stream",
     "text": [
      "  7%|▋         | 300/4200 [54:13<4:37:43,  4.27s/it]"
     ]
    },
    {
     "name": "stdout",
     "output_type": "stream",
     "text": [
      "{'loss': 0.3007, 'learning_rate': 5.5714285714285715e-05, 'epoch': 3.57}\n"
     ]
    },
    {
     "name": "stderr",
     "output_type": "stream",
     "text": [
      "C:\\Users\\kuian\\.cache\\huggingface\\modules\\evaluate_modules\\metrics\\evaluate-metric--mean_iou\\08bc20f4f895f3caf75fb9e3fada1404bded3c3265243d05327cbb3b9326ffe9\\mean_iou.py:259: RuntimeWarning: invalid value encountered in divide\n",
      "  iou = total_area_intersect / total_area_union\n",
      "C:\\Users\\kuian\\.cache\\huggingface\\modules\\evaluate_modules\\metrics\\evaluate-metric--mean_iou\\08bc20f4f895f3caf75fb9e3fada1404bded3c3265243d05327cbb3b9326ffe9\\mean_iou.py:260: RuntimeWarning: invalid value encountered in divide\n",
      "  acc = total_area_intersect / total_area_label\n",
      "                                                    \n",
      "  7%|▋         | 300/4200 [56:29<4:37:43,  4.27s/it]"
     ]
    },
    {
     "name": "stdout",
     "output_type": "stream",
     "text": [
      "{'eval_loss': 0.7817736268043518, 'eval_mean_iou': 0.8250578471211305, 'eval_mean_accuracy': 0.9119575216762035, 'eval_overall_accuracy': 0.9892578313060394, 'eval_per_category_iou': [0.989027924062227, 0.6610877701800341, nan, nan, nan, nan, nan, nan, nan, nan, nan, nan, nan, nan, nan, nan, nan, nan, nan], 'eval_per_category_accuracy': [0.9933654986359645, 0.8305495447164424, nan, nan, nan, nan, nan, nan, nan, nan, nan, nan, nan, nan, nan, nan, nan, nan, nan], 'eval_runtime': 136.8025, 'eval_samples_per_second': 0.307, 'eval_steps_per_second': 0.154, 'epoch': 3.57}\n"
     ]
    },
    {
     "name": "stderr",
     "output_type": "stream",
     "text": [
      "  7%|▋         | 301/4200 [56:34<49:07:59, 45.37s/it]"
     ]
    },
    {
     "name": "stdout",
     "output_type": "stream",
     "text": [
      "{'loss': 0.2818, 'learning_rate': 5.5700000000000005e-05, 'epoch': 3.58}\n"
     ]
    },
    {
     "name": "stderr",
     "output_type": "stream",
     "text": [
      "  7%|▋         | 302/4200 [56:38<35:45:22, 33.02s/it]"
     ]
    },
    {
     "name": "stdout",
     "output_type": "stream",
     "text": [
      "{'loss': 0.2825, 'learning_rate': 5.568571428571429e-05, 'epoch': 3.6}\n"
     ]
    },
    {
     "name": "stderr",
     "output_type": "stream",
     "text": [
      "  7%|▋         | 303/4200 [56:42<26:23:16, 24.38s/it]"
     ]
    },
    {
     "name": "stdout",
     "output_type": "stream",
     "text": [
      "{'loss': 0.2914, 'learning_rate': 5.567142857142857e-05, 'epoch': 3.61}\n"
     ]
    },
    {
     "name": "stderr",
     "output_type": "stream",
     "text": [
      "  7%|▋         | 304/4200 [56:47<19:52:05, 18.36s/it]"
     ]
    },
    {
     "name": "stdout",
     "output_type": "stream",
     "text": [
      "{'loss': 0.3493, 'learning_rate': 5.5657142857142856e-05, 'epoch': 3.62}\n"
     ]
    },
    {
     "name": "stderr",
     "output_type": "stream",
     "text": [
      "  7%|▋         | 305/4200 [56:51<15:16:03, 14.11s/it]"
     ]
    },
    {
     "name": "stdout",
     "output_type": "stream",
     "text": [
      "{'loss': 0.2789, 'learning_rate': 5.5642857142857146e-05, 'epoch': 3.63}\n"
     ]
    },
    {
     "name": "stderr",
     "output_type": "stream",
     "text": [
      "  7%|▋         | 306/4200 [56:55<12:04:30, 11.16s/it]"
     ]
    },
    {
     "name": "stdout",
     "output_type": "stream",
     "text": [
      "{'loss': 0.3545, 'learning_rate': 5.562857142857143e-05, 'epoch': 3.64}\n"
     ]
    },
    {
     "name": "stderr",
     "output_type": "stream",
     "text": [
      "  7%|▋         | 307/4200 [56:59<9:48:38,  9.07s/it] "
     ]
    },
    {
     "name": "stdout",
     "output_type": "stream",
     "text": [
      "{'loss': 0.2732, 'learning_rate': 5.561428571428571e-05, 'epoch': 3.65}\n"
     ]
    },
    {
     "name": "stderr",
     "output_type": "stream",
     "text": [
      "  7%|▋         | 308/4200 [57:04<8:15:13,  7.63s/it]"
     ]
    },
    {
     "name": "stdout",
     "output_type": "stream",
     "text": [
      "{'loss': 0.2835, 'learning_rate': 5.56e-05, 'epoch': 3.67}\n"
     ]
    },
    {
     "name": "stderr",
     "output_type": "stream",
     "text": [
      "  7%|▋         | 309/4200 [57:08<7:06:32,  6.58s/it]"
     ]
    },
    {
     "name": "stdout",
     "output_type": "stream",
     "text": [
      "{'loss': 0.262, 'learning_rate': 5.5585714285714286e-05, 'epoch': 3.68}\n"
     ]
    },
    {
     "name": "stderr",
     "output_type": "stream",
     "text": [
      "  7%|▋         | 310/4200 [57:12<6:19:53,  5.86s/it]"
     ]
    },
    {
     "name": "stdout",
     "output_type": "stream",
     "text": [
      "{'loss': 0.2705, 'learning_rate': 5.557142857142858e-05, 'epoch': 3.69}\n"
     ]
    },
    {
     "name": "stderr",
     "output_type": "stream",
     "text": [
      "  7%|▋         | 311/4200 [57:16<5:47:15,  5.36s/it]"
     ]
    },
    {
     "name": "stdout",
     "output_type": "stream",
     "text": [
      "{'loss': 0.2575, 'learning_rate': 5.555714285714286e-05, 'epoch': 3.7}\n"
     ]
    },
    {
     "name": "stderr",
     "output_type": "stream",
     "text": [
      "  7%|▋         | 312/4200 [57:21<5:30:47,  5.10s/it]"
     ]
    },
    {
     "name": "stdout",
     "output_type": "stream",
     "text": [
      "{'loss': 0.3109, 'learning_rate': 5.5542857142857143e-05, 'epoch': 3.71}\n"
     ]
    },
    {
     "name": "stderr",
     "output_type": "stream",
     "text": [
      "  7%|▋         | 313/4200 [57:25<5:21:01,  4.96s/it]"
     ]
    },
    {
     "name": "stdout",
     "output_type": "stream",
     "text": [
      "{'loss': 0.2541, 'learning_rate': 5.552857142857143e-05, 'epoch': 3.73}\n"
     ]
    },
    {
     "name": "stderr",
     "output_type": "stream",
     "text": [
      "  7%|▋         | 314/4200 [57:29<5:07:23,  4.75s/it]"
     ]
    },
    {
     "name": "stdout",
     "output_type": "stream",
     "text": [
      "{'loss': 0.252, 'learning_rate': 5.551428571428571e-05, 'epoch': 3.74}\n"
     ]
    },
    {
     "name": "stderr",
     "output_type": "stream",
     "text": [
      "  8%|▊         | 315/4200 [57:34<4:57:28,  4.59s/it]"
     ]
    },
    {
     "name": "stdout",
     "output_type": "stream",
     "text": [
      "{'loss': 0.2712, 'learning_rate': 5.550000000000001e-05, 'epoch': 3.75}\n"
     ]
    },
    {
     "name": "stderr",
     "output_type": "stream",
     "text": [
      "  8%|▊         | 316/4200 [57:38<4:50:17,  4.48s/it]"
     ]
    },
    {
     "name": "stdout",
     "output_type": "stream",
     "text": [
      "{'loss': 0.2458, 'learning_rate': 5.548571428571429e-05, 'epoch': 3.76}\n"
     ]
    },
    {
     "name": "stderr",
     "output_type": "stream",
     "text": [
      "  8%|▊         | 317/4200 [57:42<4:47:34,  4.44s/it]"
     ]
    },
    {
     "name": "stdout",
     "output_type": "stream",
     "text": [
      "{'loss': 0.2433, 'learning_rate': 5.5471428571428574e-05, 'epoch': 3.77}\n"
     ]
    },
    {
     "name": "stderr",
     "output_type": "stream",
     "text": [
      "  8%|▊         | 318/4200 [57:46<4:43:36,  4.38s/it]"
     ]
    },
    {
     "name": "stdout",
     "output_type": "stream",
     "text": [
      "{'loss': 0.2419, 'learning_rate': 5.545714285714286e-05, 'epoch': 3.79}\n"
     ]
    },
    {
     "name": "stderr",
     "output_type": "stream",
     "text": [
      "  8%|▊         | 319/4200 [57:51<4:43:36,  4.38s/it]"
     ]
    },
    {
     "name": "stdout",
     "output_type": "stream",
     "text": [
      "{'loss': 0.265, 'learning_rate': 5.544285714285714e-05, 'epoch': 3.8}\n"
     ]
    },
    {
     "name": "stderr",
     "output_type": "stream",
     "text": [
      "  8%|▊         | 320/4200 [57:55<4:41:24,  4.35s/it]"
     ]
    },
    {
     "name": "stdout",
     "output_type": "stream",
     "text": [
      "{'loss': 0.3268, 'learning_rate': 5.542857142857143e-05, 'epoch': 3.81}\n"
     ]
    },
    {
     "name": "stderr",
     "output_type": "stream",
     "text": [
      "C:\\Users\\kuian\\.cache\\huggingface\\modules\\evaluate_modules\\metrics\\evaluate-metric--mean_iou\\08bc20f4f895f3caf75fb9e3fada1404bded3c3265243d05327cbb3b9326ffe9\\mean_iou.py:259: RuntimeWarning: invalid value encountered in divide\n",
      "  iou = total_area_intersect / total_area_union\n",
      "C:\\Users\\kuian\\.cache\\huggingface\\modules\\evaluate_modules\\metrics\\evaluate-metric--mean_iou\\08bc20f4f895f3caf75fb9e3fada1404bded3c3265243d05327cbb3b9326ffe9\\mean_iou.py:260: RuntimeWarning: invalid value encountered in divide\n",
      "  acc = total_area_intersect / total_area_label\n",
      "                                                    \n",
      "  8%|▊         | 320/4200 [1:00:01<4:41:24,  4.35s/it]"
     ]
    },
    {
     "name": "stdout",
     "output_type": "stream",
     "text": [
      "{'eval_loss': 0.6127415895462036, 'eval_mean_iou': 0.8840149716982619, 'eval_mean_accuracy': 0.9431878066259831, 'eval_overall_accuracy': 0.9934686582435595, 'eval_per_category_iou': [0.9933185962454529, 0.7747113471510708, nan, nan, nan, nan, nan, nan, nan, nan, nan, nan, nan, nan, nan, nan, nan, nan, nan], 'eval_per_category_accuracy': [0.9961405364352427, 0.8902350768167236, nan, nan, nan, nan, nan, nan, nan, nan, nan, nan, nan, nan, nan, nan, nan, nan, nan], 'eval_runtime': 126.1771, 'eval_samples_per_second': 0.333, 'eval_steps_per_second': 0.166, 'epoch': 3.81}\n"
     ]
    },
    {
     "name": "stderr",
     "output_type": "stream",
     "text": [
      "  8%|▊         | 321/4200 [1:00:05<45:21:08, 42.09s/it]"
     ]
    },
    {
     "name": "stdout",
     "output_type": "stream",
     "text": [
      "{'loss': 0.2958, 'learning_rate': 5.5414285714285715e-05, 'epoch': 3.82}\n"
     ]
    },
    {
     "name": "stderr",
     "output_type": "stream",
     "text": [
      "  8%|▊         | 322/4200 [1:00:09<32:58:02, 30.60s/it]"
     ]
    },
    {
     "name": "stdout",
     "output_type": "stream",
     "text": [
      "{'loss': 0.3147, 'learning_rate': 5.5400000000000005e-05, 'epoch': 3.83}\n"
     ]
    },
    {
     "name": "stderr",
     "output_type": "stream",
     "text": [
      "  8%|▊         | 323/4200 [1:00:13<24:19:02, 22.58s/it]"
     ]
    },
    {
     "name": "stdout",
     "output_type": "stream",
     "text": [
      "{'loss': 0.2245, 'learning_rate': 5.538571428571429e-05, 'epoch': 3.85}\n"
     ]
    },
    {
     "name": "stderr",
     "output_type": "stream",
     "text": [
      "  8%|▊         | 324/4200 [1:00:17<18:17:15, 16.99s/it]"
     ]
    },
    {
     "name": "stdout",
     "output_type": "stream",
     "text": [
      "{'loss': 0.6588, 'learning_rate': 5.537142857142857e-05, 'epoch': 3.86}\n"
     ]
    },
    {
     "name": "stderr",
     "output_type": "stream",
     "text": [
      "  8%|▊         | 325/4200 [1:00:21<14:03:13, 13.06s/it]"
     ]
    },
    {
     "name": "stdout",
     "output_type": "stream",
     "text": [
      "{'loss': 0.2273, 'learning_rate': 5.535714285714286e-05, 'epoch': 3.87}\n"
     ]
    },
    {
     "name": "stderr",
     "output_type": "stream",
     "text": [
      "  8%|▊         | 326/4200 [1:00:25<11:05:18, 10.30s/it]"
     ]
    },
    {
     "name": "stdout",
     "output_type": "stream",
     "text": [
      "{'loss': 0.237, 'learning_rate': 5.5342857142857145e-05, 'epoch': 3.88}\n"
     ]
    },
    {
     "name": "stderr",
     "output_type": "stream",
     "text": [
      "  8%|▊         | 327/4200 [1:00:28<9:00:54,  8.38s/it] "
     ]
    },
    {
     "name": "stdout",
     "output_type": "stream",
     "text": [
      "{'loss': 0.2254, 'learning_rate': 5.532857142857143e-05, 'epoch': 3.89}\n"
     ]
    },
    {
     "name": "stderr",
     "output_type": "stream",
     "text": [
      "  8%|▊         | 328/4200 [1:00:33<7:36:48,  7.08s/it]"
     ]
    },
    {
     "name": "stdout",
     "output_type": "stream",
     "text": [
      "{'loss': 0.218, 'learning_rate': 5.531428571428571e-05, 'epoch': 3.9}\n"
     ]
    },
    {
     "name": "stderr",
     "output_type": "stream",
     "text": [
      "  8%|▊         | 329/4200 [1:00:36<6:34:32,  6.12s/it]"
     ]
    },
    {
     "name": "stdout",
     "output_type": "stream",
     "text": [
      "{'loss': 0.2961, 'learning_rate': 5.53e-05, 'epoch': 3.92}\n"
     ]
    },
    {
     "name": "stderr",
     "output_type": "stream",
     "text": [
      "  8%|▊         | 330/4200 [1:00:40<5:51:40,  5.45s/it]"
     ]
    },
    {
     "name": "stdout",
     "output_type": "stream",
     "text": [
      "{'loss': 0.2117, 'learning_rate': 5.5285714285714286e-05, 'epoch': 3.93}\n"
     ]
    },
    {
     "name": "stderr",
     "output_type": "stream",
     "text": [
      "  8%|▊         | 331/4200 [1:00:44<5:21:20,  4.98s/it]"
     ]
    },
    {
     "name": "stdout",
     "output_type": "stream",
     "text": [
      "{'loss': 0.2206, 'learning_rate': 5.5271428571428576e-05, 'epoch': 3.94}\n"
     ]
    },
    {
     "name": "stderr",
     "output_type": "stream",
     "text": [
      "  8%|▊         | 332/4200 [1:00:48<5:02:31,  4.69s/it]"
     ]
    },
    {
     "name": "stdout",
     "output_type": "stream",
     "text": [
      "{'loss': 0.3506, 'learning_rate': 5.525714285714286e-05, 'epoch': 3.95}\n"
     ]
    },
    {
     "name": "stderr",
     "output_type": "stream",
     "text": [
      "  8%|▊         | 333/4200 [1:00:52<4:46:45,  4.45s/it]"
     ]
    },
    {
     "name": "stdout",
     "output_type": "stream",
     "text": [
      "{'loss': 0.2059, 'learning_rate': 5.524285714285714e-05, 'epoch': 3.96}\n"
     ]
    },
    {
     "name": "stderr",
     "output_type": "stream",
     "text": [
      "  8%|▊         | 334/4200 [1:00:56<4:37:04,  4.30s/it]"
     ]
    },
    {
     "name": "stdout",
     "output_type": "stream",
     "text": [
      "{'loss': 0.2018, 'learning_rate': 5.5228571428571426e-05, 'epoch': 3.98}\n"
     ]
    },
    {
     "name": "stderr",
     "output_type": "stream",
     "text": [
      "  8%|▊         | 335/4200 [1:01:00<4:29:46,  4.19s/it]"
     ]
    },
    {
     "name": "stdout",
     "output_type": "stream",
     "text": [
      "{'loss': 0.1977, 'learning_rate': 5.521428571428571e-05, 'epoch': 3.99}\n"
     ]
    },
    {
     "name": "stderr",
     "output_type": "stream",
     "text": [
      "  8%|▊         | 336/4200 [1:01:04<4:22:52,  4.08s/it]"
     ]
    },
    {
     "name": "stdout",
     "output_type": "stream",
     "text": [
      "{'loss': 0.2005, 'learning_rate': 5.520000000000001e-05, 'epoch': 4.0}\n"
     ]
    },
    {
     "name": "stderr",
     "output_type": "stream",
     "text": [
      "  8%|▊         | 337/4200 [1:01:08<4:18:08,  4.01s/it]"
     ]
    },
    {
     "name": "stdout",
     "output_type": "stream",
     "text": [
      "{'loss': 0.2912, 'learning_rate': 5.518571428571429e-05, 'epoch': 4.01}\n"
     ]
    },
    {
     "name": "stderr",
     "output_type": "stream",
     "text": [
      "  8%|▊         | 338/4200 [1:01:12<4:17:44,  4.00s/it]"
     ]
    },
    {
     "name": "stdout",
     "output_type": "stream",
     "text": [
      "{'loss': 0.2805, 'learning_rate': 5.5171428571428574e-05, 'epoch': 4.02}\n"
     ]
    },
    {
     "name": "stderr",
     "output_type": "stream",
     "text": [
      "  8%|▊         | 339/4200 [1:01:16<4:15:40,  3.97s/it]"
     ]
    },
    {
     "name": "stdout",
     "output_type": "stream",
     "text": [
      "{'loss': 0.1959, 'learning_rate': 5.515714285714286e-05, 'epoch': 4.04}\n"
     ]
    },
    {
     "name": "stderr",
     "output_type": "stream",
     "text": [
      "  8%|▊         | 340/4200 [1:01:19<4:14:48,  3.96s/it]"
     ]
    },
    {
     "name": "stdout",
     "output_type": "stream",
     "text": [
      "{'loss': 0.1908, 'learning_rate': 5.514285714285714e-05, 'epoch': 4.05}\n"
     ]
    },
    {
     "name": "stderr",
     "output_type": "stream",
     "text": []
    }
   ],
   "source": [
    "braod_bean_trainer = initialize_trainer(broad_bean_train_ds, broad_bean_test_ds)\n",
    "braod_bean_trainer.train()"
   ]
  },
  {
   "cell_type": "code",
   "execution_count": null,
   "metadata": {},
   "outputs": [],
   "source": [
    "braod_bean_trainer.save_model('broad_bean')"
   ]
  },
  {
   "cell_type": "code",
   "execution_count": null,
   "metadata": {},
   "outputs": [],
   "source": [
    "# Interpret results\n",
    "# Add method to rewrite labels in the annotions"
   ]
  }
 ],
 "metadata": {
  "kernelspec": {
   "display_name": "base",
   "language": "python",
   "name": "python3"
  },
  "language_info": {
   "codemirror_mode": {
    "name": "ipython",
    "version": 3
   },
   "file_extension": ".py",
   "mimetype": "text/x-python",
   "name": "python",
   "nbconvert_exporter": "python",
   "pygments_lexer": "ipython3",
   "version": "3.10.12"
  },
  "orig_nbformat": 4
 },
 "nbformat": 4,
 "nbformat_minor": 2
}
