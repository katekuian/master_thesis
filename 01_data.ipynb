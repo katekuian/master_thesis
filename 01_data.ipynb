{
 "cells": [
  {
   "cell_type": "code",
   "execution_count": 1,
   "metadata": {},
   "outputs": [],
   "source": [
    "import numpy as np\n",
    "import cv2\n",
    "import matplotlib.pyplot as plt\n",
    "import matplotlib.image as mpimg\n",
    "import os"
   ]
  },
  {
   "cell_type": "code",
   "execution_count": 11,
   "metadata": {},
   "outputs": [
    {
     "data": {
      "image/png": "[encoded data removed]",
      "text/plain": [
       "<Figure size 640x480 with 1 Axes>"
      ]
     },
     "metadata": {},
     "output_type": "display_data"
    }
   ],
   "source": [
    "im = cv2.imread('./WE3DS/annotations/segmentation/SegmentationLabel/img_01098.png')\n",
    "\n",
    "color_values = [\n",
    "    [255, 255, 255],\n",
    "    [0, 0, 0],\n",
    "    [0, 128, 0],\n",
    "    [128, 128, 0],\n",
    "    [0, 0, 128],\n",
    "    [128, 0, 128],\n",
    "    [0, 128, 128],\n",
    "    [128, 128, 128],\n",
    "    [64, 0, 0],\n",
    "    [192, 0, 0],\n",
    "    [64, 128, 0],\n",
    "    [192, 128, 0],\n",
    "    [64, 0, 128],\n",
    "    [192, 0, 128],\n",
    "    [64, 128, 128],\n",
    "    [192, 128, 128],\n",
    "    [0, 64, 0],\n",
    "    [128, 64, 0],\n",
    "    [0, 192, 0]\n",
    "]\n",
    "\n",
    "# map = np.array(color_values) / 255.0\n",
    "\n",
    "rgb = np.zeros_like(im)\n",
    "for i in range(im.shape[0]):\n",
    "    for j in range(im.shape[1]):\n",
    "        index = im[i, j]\n",
    "        rgb[i, j] = color_values[index[0]]\n",
    "\n",
    "plt.imshow(rgb)\n",
    "plt.show()"
   ]
  },
  {
   "cell_type": "code",
   "execution_count": 3,
   "metadata": {},
   "outputs": [
    {
     "data": {
      "text/plain": [
       "array([ 0,  1, 11], dtype=uint8)"
      ]
     },
     "execution_count": 3,
     "metadata": {},
     "output_type": "execute_result"
    }
   ],
   "source": [
    "im = cv2.imread('./WE3DS/annotations/segmentation/SegmentationLabel/img_00000.png')\n",
    "unique_classes = np.unique(im)\n",
    "unique_classes"
   ]
  },
  {
   "cell_type": "code",
   "execution_count": 4,
   "metadata": {},
   "outputs": [
    {
     "ename": "KeyboardInterrupt",
     "evalue": "",
     "output_type": "error",
     "traceback": [
      "\u001b[1;31m---------------------------------------------------------------------------\u001b[0m",
      "\u001b[1;31mKeyboardInterrupt\u001b[0m                         Traceback (most recent call last)",
      "Cell \u001b[1;32mIn[4], line 14\u001b[0m\n\u001b[0;32m     11\u001b[0m     unique_classes \u001b[39m=\u001b[39m np\u001b[39m.\u001b[39mappend(unique_classes, np\u001b[39m.\u001b[39munique(im))\n\u001b[0;32m     13\u001b[0m \u001b[39mfor\u001b[39;00m i \u001b[39min\u001b[39;00m \u001b[39mrange\u001b[39m(\u001b[39m1000\u001b[39m,\u001b[39m2567\u001b[39m):\n\u001b[1;32m---> 14\u001b[0m     im \u001b[39m=\u001b[39m cv2\u001b[39m.\u001b[39;49mimread(\u001b[39m'\u001b[39;49m\u001b[39m./WE3DS/annotations/segmentation/SegmentationLabel/img_0\u001b[39;49m\u001b[39m'\u001b[39;49m\u001b[39m+\u001b[39;49m\u001b[39mstr\u001b[39;49m(i)\u001b[39m+\u001b[39;49m\u001b[39m'\u001b[39;49m\u001b[39m.png\u001b[39;49m\u001b[39m'\u001b[39;49m)\n\u001b[0;32m     15\u001b[0m     unique_classes \u001b[39m=\u001b[39m np\u001b[39m.\u001b[39mappend(unique_classes, np\u001b[39m.\u001b[39munique(im))\n",
      "\u001b[1;31mKeyboardInterrupt\u001b[0m: "
     ]
    }
   ],
   "source": [
    "for i in range(1,10):\n",
    "    im = cv2.imread('./WE3DS/annotations/segmentation/SegmentationLabel/img_0000'+str(i)+'.png')\n",
    "    unique_classes = np.append(unique_classes, np.unique(im))\n",
    "\n",
    "for i in range(10,99):\n",
    "    im = cv2.imread('./WE3DS/annotations/segmentation/SegmentationLabel/img_000'+str(i)+'.png')\n",
    "    unique_classes = np.append(unique_classes, np.unique(im))\n",
    "\n",
    "for i in range(100,999):\n",
    "    im = cv2.imread('./WE3DS/annotations/segmentation/SegmentationLabel/img_00'+str(i)+'.png')\n",
    "    unique_classes = np.append(unique_classes, np.unique(im))\n",
    "\n",
    "for i in range(1000,2567):\n",
    "    im = cv2.imread('./WE3DS/annotations/segmentation/SegmentationLabel/img_0'+str(i)+'.png')\n",
    "    unique_classes = np.append(unique_classes, np.unique(im))"
   ]
  },
  {
   "cell_type": "code",
   "execution_count": null,
   "metadata": {},
   "outputs": [
    {
     "data": {
      "text/plain": [
       "(array([ 0,  1,  2,  3,  4,  5,  6,  7,  8,  9, 10, 11, 12, 13, 14, 15, 16,\n",
       "        17, 18], dtype=uint8),\n",
       " array([ 959, 2565,  210,   20,   34,  137,  206,    8,   44,  286,  277,\n",
       "         401,  226,   60,  303,  135,   22,  155,  410], dtype=int64))"
      ]
     },
     "execution_count": 6,
     "metadata": {},
     "output_type": "execute_result"
    }
   ],
   "source": [
    "np.unique(unique_classes, return_counts=True)"
   ]
  },
  {
   "cell_type": "code",
   "execution_count": null,
   "metadata": {},
   "outputs": [],
   "source": []
  }
 ],
 "metadata": {
  "kernelspec": {
   "display_name": "master",
   "language": "python",
   "name": "python3"
  },
  "language_info": {
   "codemirror_mode": {
    "name": "ipython",
    "version": 3
   },
   "file_extension": ".py",
   "mimetype": "text/x-python",
   "name": "python",
   "nbconvert_exporter": "python",
   "pygments_lexer": "ipython3",
   "version": "3.10.12"
  },
  "orig_nbformat": 4
 },
 "nbformat": 4,
 "nbformat_minor": 2
}
